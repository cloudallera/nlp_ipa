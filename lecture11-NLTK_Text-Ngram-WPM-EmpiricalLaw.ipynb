{
 "cells": [
  {
   "cell_type": "markdown",
   "metadata": {
    "toc": true
   },
   "source": [
    "<h1>Table of Contents<span class=\"tocSkip\"></span></h1>\n",
    "<div class=\"toc\"><ul class=\"toc-item\"><li><span><a href=\"#한글-font-설정하기\" data-toc-modified-id=\"한글-font-설정하기-1\">한글 font 설정하기</a></span></li><li><span><a href=\"#NLTK-(계속)\" data-toc-modified-id=\"NLTK-(계속)-2\">NLTK (계속)</a></span><ul class=\"toc-item\"><li><span><a href=\"#Text-:-토큰-분석\" data-toc-modified-id=\"Text-:-토큰-분석-2.1\">Text : 토큰 분석</a></span><ul class=\"toc-item\"><li><span><a href=\"#nltk.Text-한글-적용\" data-toc-modified-id=\"nltk.Text-한글-적용-2.1.1\">nltk.Text 한글 적용</a></span></li><li><span><a href=\"#Naver-뉴스기사에서-Text-사용하기\" data-toc-modified-id=\"Naver-뉴스기사에서-Text-사용하기-2.1.2\">Naver 뉴스기사에서 Text 사용하기</a></span></li></ul></li></ul></li><li><span><a href=\"#n-gram\" data-toc-modified-id=\"n-gram-3\">n-gram</a></span><ul class=\"toc-item\"><li><span><a href=\"#Ngram-함수-정의\" data-toc-modified-id=\"Ngram-함수-정의-3.1\">Ngram 함수 정의</a></span></li><li><span><a href=\"#naver-경제-뉴스-1건-ngram\" data-toc-modified-id=\"naver-경제-뉴스-1건-ngram-3.2\">naver 경제 뉴스 1건 ngram</a></span></li><li><span><a href=\"#naver-경제-뉴스-10건-ngram\" data-toc-modified-id=\"naver-경제-뉴스-10건-ngram-3.3\">naver 경제 뉴스 10건 ngram</a></span></li><li><span><a href=\"#영문-소설-ngram\" data-toc-modified-id=\"영문-소설-ngram-3.4\">영문 소설 ngram</a></span></li></ul></li><li><span><a href=\"#WPM(Word-Piece-Model)\" data-toc-modified-id=\"WPM(Word-Piece-Model)-4\">WPM(Word Piece Model)</a></span></li><li><span><a href=\"#Empirical-Law-(경험적으로-알게된-법칙)\" data-toc-modified-id=\"Empirical-Law-(경험적으로-알게된-법칙)-5\">Empirical Law (경험적으로 알게된 법칙)</a></span><ul class=\"toc-item\"><li><span><a href=\"#Zipf's-Law\" data-toc-modified-id=\"Zipf's-Law-5.1\">Zipf's Law</a></span><ul class=\"toc-item\"><li><span><a href=\"#법률-corpus\" data-toc-modified-id=\"법률-corpus-5.1.1\">법률 corpus</a></span></li><li><span><a href=\"#gutenberg-corpus\" data-toc-modified-id=\"gutenberg-corpus-5.1.2\">gutenberg corpus</a></span></li><li><span><a href=\"#naver-뉴스-기사-corpus\" data-toc-modified-id=\"naver-뉴스-기사-corpus-5.1.3\">naver 뉴스 기사 corpus</a></span></li></ul></li><li><span><a href=\"#Heap's-Law\" data-toc-modified-id=\"Heap's-Law-5.2\">Heap's Law</a></span></li></ul></li></ul></div>"
   ]
  },
  {
   "cell_type": "markdown",
   "metadata": {},
   "source": [
    "## 한글 font 설정하기"
   ]
  },
  {
   "cell_type": "code",
   "execution_count": 3,
   "metadata": {},
   "outputs": [],
   "source": [
    "from matplotlib import font_manager, rc"
   ]
  },
  {
   "cell_type": "code",
   "execution_count": 4,
   "metadata": {},
   "outputs": [],
   "source": [
    "# MAC : /Library/Fonts/AppleGothic.ttf\n",
    "# Windows : c:\\windows\\fonts\\gulim.ttc\n",
    "path = \"/Library/Fonts/AppleGothic.ttf\""
   ]
  },
  {
   "cell_type": "code",
   "execution_count": 5,
   "metadata": {},
   "outputs": [],
   "source": [
    "family = font_manager.FontProperties(fname=path).get_name()\n",
    "rc(\"font\", family=family)"
   ]
  },
  {
   "cell_type": "markdown",
   "metadata": {},
   "source": [
    "## NLTK (계속)"
   ]
  },
  {
   "cell_type": "code",
   "execution_count": 6,
   "metadata": {},
   "outputs": [],
   "source": [
    "from nltk.corpus import gutenberg, brown"
   ]
  },
  {
   "cell_type": "code",
   "execution_count": 7,
   "metadata": {},
   "outputs": [],
   "source": [
    "from nltk.tokenize import sent_tokenize, word_tokenize"
   ]
  },
  {
   "cell_type": "code",
   "execution_count": 8,
   "metadata": {},
   "outputs": [],
   "source": [
    "corpus = gutenberg.open(gutenberg.fileids()[0]).read()"
   ]
  },
  {
   "cell_type": "code",
   "execution_count": 9,
   "metadata": {},
   "outputs": [
    {
     "data": {
      "text/plain": [
       "(887071, 7493, 191785)"
      ]
     },
     "execution_count": 9,
     "metadata": {},
     "output_type": "execute_result"
    }
   ],
   "source": [
    "len(corpus), len(sent_tokenize(corpus)), len(word_tokenize(corpus))"
   ]
  },
  {
   "cell_type": "markdown",
   "metadata": {},
   "source": [
    "### Text : 토큰 분석"
   ]
  },
  {
   "cell_type": "markdown",
   "metadata": {},
   "source": [
    "- 텍스트의 초기 탐색을 지원하기 위한 (string) tokens의 wrapper 입니다.\n",
    "- 테스트의 contexts에 대한 다양한 분석을 수행하는 메서드를 지원 합니다."
   ]
  },
  {
   "cell_type": "code",
   "execution_count": 10,
   "metadata": {},
   "outputs": [],
   "source": [
    "from nltk import Text"
   ]
  },
  {
   "cell_type": "code",
   "execution_count": 11,
   "metadata": {},
   "outputs": [],
   "source": [
    "tokens = word_tokenize(corpus)\n",
    "t = Text(tokens)"
   ]
  },
  {
   "cell_type": "code",
   "execution_count": 12,
   "metadata": {
    "scrolled": true
   },
   "outputs": [
    {
     "data": {
      "text/plain": [
       "nltk.text.Text"
      ]
     },
     "execution_count": 12,
     "metadata": {},
     "output_type": "execute_result"
    }
   ],
   "source": [
    "type(t)"
   ]
  },
  {
   "cell_type": "code",
   "execution_count": 13,
   "metadata": {},
   "outputs": [
    {
     "data": {
      "text/plain": [
       "(191785, 8406)"
      ]
     },
     "execution_count": 13,
     "metadata": {},
     "output_type": "execute_result"
    }
   ],
   "source": [
    "len(t), len(set(t))"
   ]
  },
  {
   "cell_type": "code",
   "execution_count": 14,
   "metadata": {
    "scrolled": true
   },
   "outputs": [
    {
     "data": {
      "text/plain": [
       "[(',', 12016),\n",
       " ('.', 6355),\n",
       " ('to', 5125),\n",
       " ('the', 4844),\n",
       " ('and', 4653),\n",
       " ('of', 4272),\n",
       " ('I', 3177),\n",
       " ('--', 3100),\n",
       " ('a', 3001),\n",
       " (\"''\", 2452),\n",
       " ('was', 2383),\n",
       " ('her', 2360),\n",
       " (';', 2353),\n",
       " ('not', 2242),\n",
       " ('in', 2103),\n",
       " ('it', 2103),\n",
       " ('be', 1965),\n",
       " ('she', 1774),\n",
       " ('``', 1735),\n",
       " ('that', 1729)]"
      ]
     },
     "execution_count": 14,
     "metadata": {},
     "output_type": "execute_result"
    }
   ],
   "source": [
    "t.vocab().most_common(20)    # 많이 나타난 token과 횟수"
   ]
  },
  {
   "cell_type": "markdown",
   "metadata": {},
   "source": [
    "- 빈도가 높은 token 중에 중요하지 않은 것들도 많이 있음. 걸러내야 함"
   ]
  },
  {
   "cell_type": "code",
   "execution_count": 16,
   "metadata": {},
   "outputs": [
    {
     "data": {
      "image/png": "[encoded data removed]",
      "text/plain": [
       "<Figure size 432x288 with 1 Axes>"
      ]
     },
     "metadata": {
      "needs_background": "light"
     },
     "output_type": "display_data"
    }
   ],
   "source": [
    "t.plot(50)"
   ]
  },
  {
   "cell_type": "code",
   "execution_count": 17,
   "metadata": {},
   "outputs": [
    {
     "name": "stdout",
     "output_type": "stream",
     "text": [
      "she it he i weston you her harriet elton him me knightley jane that\n",
      "and the all there they them\n"
     ]
    }
   ],
   "source": [
    "t.similar(\"emma\")"
   ]
  },
  {
   "cell_type": "markdown",
   "metadata": {},
   "source": [
    "#### nltk.Text 한글 적용"
   ]
  },
  {
   "cell_type": "code",
   "execution_count": 18,
   "metadata": {},
   "outputs": [],
   "source": [
    "from konlpy.corpus import kolaw"
   ]
  },
  {
   "cell_type": "code",
   "execution_count": 19,
   "metadata": {},
   "outputs": [],
   "source": [
    "kcorpus = kolaw.open(kolaw.fileids()[0]).read()\n",
    "k_tokens = word_tokenize(kcorpus)\n",
    "kt = Text(k_tokens)"
   ]
  },
  {
   "cell_type": "code",
   "execution_count": 20,
   "metadata": {},
   "outputs": [
    {
     "data": {
      "text/plain": [
       "(4640, 2023)"
      ]
     },
     "execution_count": 20,
     "metadata": {},
     "output_type": "execute_result"
    }
   ],
   "source": [
    "len(kt), len(set(kt))"
   ]
  },
  {
   "cell_type": "code",
   "execution_count": 21,
   "metadata": {},
   "outputs": [
    {
     "data": {
      "text/plain": [
       "[('.', 357),\n",
       " (',', 101),\n",
       " ('수', 87),\n",
       " ('①', 75),\n",
       " ('또는', 70),\n",
       " ('의하여', 66),\n",
       " ('법률이', 57),\n",
       " ('있다', 57),\n",
       " ('한다', 56),\n",
       " ('정하는', 50),\n",
       " ('그', 44),\n",
       " ('때에는', 42),\n",
       " ('관한', 39),\n",
       " ('바에', 37),\n",
       " ('국민은', 35),\n",
       " ('모든', 30),\n",
       " ('법률로', 30),\n",
       " ('정한다', 28),\n",
       " ('위하여', 26),\n",
       " ('가진다', 25),\n",
       " ('아니한다', 25),\n",
       " ('및', 25),\n",
       " ('이', 24),\n",
       " ('국회의', 23),\n",
       " ('필요한', 21),\n",
       " ('없다', 21),\n",
       " ('기타', 21),\n",
       " ('대통령은', 19),\n",
       " ('하며', 18),\n",
       " ('헌법에', 17)]"
      ]
     },
     "execution_count": 21,
     "metadata": {},
     "output_type": "execute_result"
    }
   ],
   "source": [
    "kt.vocab().most_common(30)"
   ]
  },
  {
   "cell_type": "markdown",
   "metadata": {},
   "source": [
    "- word_tokenize로는 \"법률이\", \"법률로\" 등 중복된 내용이 분석되지 않음"
   ]
  },
  {
   "cell_type": "code",
   "execution_count": 22,
   "metadata": {},
   "outputs": [
    {
     "data": {
      "image/png": "[encoded data removed]",
      "text/plain": [
       "<Figure size 432x288 with 1 Axes>"
      ]
     },
     "metadata": {
      "needs_background": "light"
     },
     "output_type": "display_data"
    }
   ],
   "source": [
    "kt.plot(50)"
   ]
  },
  {
   "cell_type": "markdown",
   "metadata": {},
   "source": [
    "- 영어와 한글의 빈도 패턴이 비슷함"
   ]
  },
  {
   "cell_type": "code",
   "execution_count": 23,
   "metadata": {},
   "outputs": [
    {
     "data": {
      "text/plain": [
       "(855, 4272)"
      ]
     },
     "execution_count": 23,
     "metadata": {},
     "output_type": "execute_result"
    }
   ],
   "source": [
    "# 특정 token의 빈도 수를 확인하기\n",
    "t.count(\"Emma\"), t.count(\"of\")"
   ]
  },
  {
   "cell_type": "markdown",
   "metadata": {},
   "source": [
    "- 빈도 수는 \"of\"가 \"Emma\" 보다 높지만, 중요도는 \"Emma\"(주인공 이름)가 훨씬 중요할 수 있음을 알아야 함"
   ]
  },
  {
   "cell_type": "code",
   "execution_count": 24,
   "metadata": {},
   "outputs": [
    {
     "data": {
      "text/plain": [
       "(2, 1)"
      ]
     },
     "execution_count": 24,
     "metadata": {},
     "output_type": "execute_result"
    }
   ],
   "source": [
    "kt.count(\"국민\"), kt.count(\"국회\")"
   ]
  },
  {
   "cell_type": "code",
   "execution_count": 25,
   "metadata": {
    "scrolled": false
   },
   "outputs": [
    {
     "name": "stdout",
     "output_type": "stream",
     "text": [
      "Displaying 25 of 855 matches:\n",
      "[ Emma by Jane Austen 1816 ] VOLUME I CHAPT\n",
      "ane Austen 1816 ] VOLUME I CHAPTER I Emma Woodhouse , handsome , clever , and \n",
      "both daughters , but particularly of Emma . Between _them_ it was more the int\n",
      " friend very mutually attached , and Emma doing just what she liked ; highly e\n",
      "r own . The real evils , indeed , of Emma 's situation were the power of havin\n",
      "ding-day of this beloved friend that Emma first sat in mournful thought of any\n",
      "ing only half a mile from them ; but Emma was aware that great must be the dif\n",
      "y . It was a melancholy change ; and Emma could not but sigh over it , and wis\n",
      " the rest of her life at Hartfield . Emma smiled and chatted as cheerfully as \n",
      "able to tell her how we all are . '' Emma spared no exertions to maintain this\n",
      " ' I have a great regard for you and Emma ; but when it comes to the question \n",
      "ful , troublesome creature ! '' said Emma playfully . `` That is what you have\n",
      "e few people who could see faults in Emma Woodhouse , and the only one who eve\n",
      "is was not particularly agreeable to Emma herself , she knew it would be so mu\n",
      "g thought perfect by every body . `` Emma knows I never flatter her , '' said \n",
      "t be a gainer . '' `` Well , '' said Emma , willing to let it pass -- '' you w\n",
      "re of meeting every day . '' `` Dear Emma bears every thing so well , '' said \n",
      "ss her more than she thinks for . '' Emma turned away her head , divided betwe\n",
      "nd smiles . `` It is impossible that Emma should not miss such a companion , '\n",
      "en one matter of joy to me , '' said Emma , '' and a very considerable one -- \n",
      "od to them , by interference . '' `` Emma never thinks of herself , if she can\n",
      "etter thing . Invite him to dinner , Emma , and help him to the best of the fi\n",
      " could not think , without pain , of Emma 's losing a single pleasure , or suf\n",
      " of her companionableness : but dear Emma was of no feeble character ; she was\n",
      ", was so just and so apparent , that Emma , well as she knew her father , was \n"
     ]
    }
   ],
   "source": [
    "t.concordance(\"Emma\")    # Emma가 어느 위치에 나왔는지 해당 라인들을 보여줌"
   ]
  },
  {
   "cell_type": "code",
   "execution_count": 26,
   "metadata": {},
   "outputs": [
    {
     "name": "stdout",
     "output_type": "stream",
     "text": [
      "Displaying 2 of 2 matches:\n",
      "민족문화의 창달에 노력하여 대통령으로서의 직책을 성실히 수행할 것을 국민 앞에 엄숙히 선서합니다 . '' 제70조 대통령의 임기는 5년으로 \n",
      "위탁경영은 법률이 정하는 바에 의하여 인정된다 . 제122조 국가는 국민 모두의 생산 및 생활의 기반이 되는 국토의 효율적이고 균형있는 이용\n"
     ]
    }
   ],
   "source": [
    "kt.concordance(\"국민\")"
   ]
  },
  {
   "cell_type": "code",
   "execution_count": 27,
   "metadata": {},
   "outputs": [
    {
     "name": "stdout",
     "output_type": "stream",
     "text": [
      "she it he i weston you her harriet elton him me knightley jane that\n",
      "and the all there they them\n"
     ]
    }
   ],
   "source": [
    "t.similar(\"Emma\")"
   ]
  },
  {
   "cell_type": "markdown",
   "metadata": {},
   "source": [
    "- 유사한 단어를 찾은 결과로 보면, 사람을 지칭한다는 것을 유추할 수 있음\n",
    "- similar() 결과는 모두 소문자 (대문자도 모두 소문자로 변환해서 보여줌)"
   ]
  },
  {
   "cell_type": "code",
   "execution_count": 28,
   "metadata": {
    "scrolled": true
   },
   "outputs": [
    {
     "data": {
      "image/png": "[encoded data removed]",
      "text/plain": [
       "<Figure size 432x288 with 1 Axes>"
      ]
     },
     "metadata": {
      "needs_background": "light"
     },
     "output_type": "display_data"
    }
   ],
   "source": [
    "t.dispersion_plot([\"Emma\", \"Jane\", \"Elton\"])   # 해당 token이 나타난 위치 "
   ]
  },
  {
   "cell_type": "code",
   "execution_count": 29,
   "metadata": {
    "scrolled": true
   },
   "outputs": [
    {
     "name": "stdout",
     "output_type": "stream",
     "text": [
      "상호원조 국무총리\n"
     ]
    }
   ],
   "source": [
    "kt.similar(\"헌법\")"
   ]
  },
  {
   "cell_type": "markdown",
   "metadata": {},
   "source": [
    "#### Naver 뉴스기사에서 Text 사용하기"
   ]
  },
  {
   "cell_type": "code",
   "execution_count": 30,
   "metadata": {},
   "outputs": [],
   "source": [
    "# naver 뉴스기사 (path : ../뉴스/*.txt,  또는 ../naver_news/일시/*.txt 등)  : 본인이 저장한 path\n",
    "# import os\n",
    "# path = \"./naver_news/2019-03-19_13-08/\"\n",
    "# fileList = [file for file in os.listdir(path)\n",
    "#                         if file.startswith(\"경제\") and file.endswith(\".txt\")]"
   ]
  },
  {
   "cell_type": "code",
   "execution_count": 31,
   "metadata": {},
   "outputs": [],
   "source": [
    "# for file in fileList\n",
    "# corpus = \"\"\n",
    "# with open(path+ \"/\" + fileList[0]) as fp:\n",
    "#     news += fp.read()"
   ]
  },
  {
   "cell_type": "code",
   "execution_count": 32,
   "metadata": {},
   "outputs": [],
   "source": [
    "from functions.naver import NewsScraping\n",
    "\n",
    "news = NewsScraping()\n",
    "corpus = news.get_articles(\"경제\")"
   ]
  },
  {
   "cell_type": "code",
   "execution_count": 33,
   "metadata": {},
   "outputs": [
    {
     "data": {
      "text/plain": [
       "(3925, 2206)"
      ]
     },
     "execution_count": 33,
     "metadata": {},
     "output_type": "execute_result"
    }
   ],
   "source": [
    "newsT = Text(word_tokenize(corpus))\n",
    "len(newsT), len(set(newsT))"
   ]
  },
  {
   "cell_type": "code",
   "execution_count": 34,
   "metadata": {},
   "outputs": [
    {
     "data": {
      "text/plain": [
       "[('.', 157),\n",
       " ('(', 57),\n",
       " (')', 57),\n",
       " (',', 57),\n",
       " ('%', 52),\n",
       " (\"''\", 41),\n",
       " ('``', 37),\n",
       " (\"'\", 27),\n",
       " ('있다', 25),\n",
       " ('[', 22),\n",
       " (']', 22),\n",
       " ('수', 22),\n",
       " ('고', 19),\n",
       " ('전', 17),\n",
       " ('등', 17),\n",
       " ('이', 16),\n",
       " ('기자', 15),\n",
       " ('“', 15),\n",
       " ('”', 15),\n",
       " ('서울', 13),\n",
       " ('며', 13),\n",
       " ('@', 12),\n",
       " ('공매', 12),\n",
       " ('21일', 11),\n",
       " ('지난', 11),\n",
       " ('대한', 10),\n",
       " ('한', 10),\n",
       " ('분양권', 10),\n",
       " ('지난해', 10),\n",
       " ('아파트', 10)]"
      ]
     },
     "execution_count": 34,
     "metadata": {},
     "output_type": "execute_result"
    }
   ],
   "source": [
    "newsT.vocab().most_common(30)"
   ]
  },
  {
   "cell_type": "code",
   "execution_count": 35,
   "metadata": {},
   "outputs": [
    {
     "data": {
      "image/png": "[encoded data removed]",
      "text/plain": [
       "<Figure size 432x288 with 1 Axes>"
      ]
     },
     "metadata": {
      "needs_background": "light"
     },
     "output_type": "display_data"
    }
   ],
   "source": [
    "newsT.plot(40)"
   ]
  },
  {
   "cell_type": "markdown",
   "metadata": {},
   "source": [
    "## n-gram"
   ]
  },
  {
   "cell_type": "markdown",
   "metadata": {},
   "source": [
    "- 앞에 나온 문자를 기반으로 다음에 올 문자 예측 : Contiguous sequence of n items from a given sample of text or speech\n",
    "- n-gram을 이용해 단어의 chunk를 만들어서 새로운 단어처럼 사용 합니다.(어절 단위 n-gram)\n",
    "- n-gram 언어 모델은 카운트에 기반한 통계적 접근을 사용 합니다.\n",
    "\n",
    "![ngram](./images/ngram.png)\n",
    "\n",
    "- 확률을 계산하고 싶은 문장이 길어질수록, 갖고있는 코퍼스에서 그 문장이 존재하지 않을 가능성이 높고, <br>\n",
    "   카운트할 수 없을 가능성이 높습니다. <br>\n",
    "   그런데 마르코프의 가정을 사용하면 카운트를 할 수 있을 가능성이 높아집니다. (1st Markov Assumption)\n",
    "- 단어의 확률을 구할 때, 앞 단어 중 임의의 개수만 포함해서 세보자는 것입니다. <br>\n",
    "   그러면, 갖고있는 코퍼스에서도 해당 단어의 나열을 카운트할 확률이 높아집니다.\n",
    "- n-gram은 이전에 등장한 모든 단어를 고려하는 것이 아니라 일부 단어만 고려하는 접근 방법 입니다. <br>\n",
    "   이때 일부 단어를 몇 개 보느냐를 n으로 정의 합니다."
   ]
  },
  {
   "cell_type": "markdown",
   "metadata": {},
   "source": [
    "### Ngram 함수 정의"
   ]
  },
  {
   "cell_type": "code",
   "execution_count": 36,
   "metadata": {},
   "outputs": [
    {
     "data": {
      "text/plain": [
       "['동해물과 백두산이', '백두산이 마르고', '마르고 닳도록']"
      ]
     },
     "execution_count": 36,
     "metadata": {},
     "output_type": "execute_result"
    }
   ],
   "source": [
    "# 어절 단위의 ngram (n=2)\n",
    "def ngramEojeol(sentence, n=2):\n",
    "    '''\n",
    "    입력: 단어1, 단어2, 단어3, 단어4 : 4\n",
    "    출력(2) : 단어12, 단어23, 단어34 : 3 - n + 1\n",
    "    출력(3) : 단어123, 단어234         : 2 - n + 1\n",
    "    '''\n",
    "    tokens = sentence.split()\n",
    "    ngram = []\n",
    "    \n",
    "    for i in range(len(tokens) - n + 1):\n",
    "        ngram.append(\" \".join(tokens[i:i+n]))    # 공백을 추가해줘야 단어 사이가 구분됨\n",
    "        \n",
    "    return ngram\n",
    "\n",
    "ngramEojeol(\"동해물과 백두산이 마르고 닳도록\")"
   ]
  },
  {
   "cell_type": "code",
   "execution_count": 37,
   "metadata": {},
   "outputs": [
    {
     "data": {
      "text/plain": [
       "['국민', '민의', '의국', '국민', '민을', '을국', '국민', '민에']"
      ]
     },
     "execution_count": 37,
     "metadata": {},
     "output_type": "execute_result"
    }
   ],
   "source": [
    "# 음절 단위의 ngram (n=2)\n",
    "def ngramUmjeol(term, n=2):\n",
    "    '''\n",
    "    입력: 음절1, 음절2, 음절3, 음절4 : 4\n",
    "    출력(2) : 음절12, 음절23, 음절34 : 3 - n + 1\n",
    "    출력(3) : 음절123, 음절234         : 2 - n + 1\n",
    "    '''\n",
    "    ngram = []\n",
    "    \n",
    "    for i in range(len(term) - n + 1):\n",
    "        ngram.append(\"\".join(term[i:i+n]))    # 공백 없이 붙여서 단어를 만듦\n",
    "        \n",
    "    return ngram\n",
    "\n",
    "ngramUmjeol(\"국민의국민을국민에\")"
   ]
  },
  {
   "cell_type": "markdown",
   "metadata": {},
   "source": [
    "### naver 경제 뉴스 1건 ngram"
   ]
  },
  {
   "cell_type": "code",
   "execution_count": 1,
   "metadata": {},
   "outputs": [
    {
     "data": {
      "text/plain": [
       "['동해물과 백두산이', '백두산이 마르고', '마르고 닳도록']"
      ]
     },
     "execution_count": 1,
     "metadata": {},
     "output_type": "execute_result"
    }
   ],
   "source": [
    "from functions.nlp import ngram\n",
    "\n",
    "ngram.ngramEojeol(\"동해물과 백두산이 마르고 닳도록\")"
   ]
  },
  {
   "cell_type": "code",
   "execution_count": 2,
   "metadata": {},
   "outputs": [
    {
     "data": {
      "text/plain": [
       "['국민', '민의', '의국', '국민', '민을', '을국', '국민', '민에']"
      ]
     },
     "execution_count": 2,
     "metadata": {},
     "output_type": "execute_result"
    }
   ],
   "source": [
    "ngram.ngramUmjeol(\"국민의국민을국민에,...\")"
   ]
  },
  {
   "cell_type": "code",
   "execution_count": 3,
   "metadata": {},
   "outputs": [],
   "source": [
    "from functions.naver import NewsScraping\n",
    "\n",
    "corpus = NewsScraping().get_articles(\"경제\")"
   ]
  },
  {
   "cell_type": "code",
   "execution_count": 4,
   "metadata": {},
   "outputs": [],
   "source": [
    "# 네이버 뉴스 bigram\n",
    "from nltk import Text\n",
    "bigram = Text(ngram.ngramEojeol(corpus, 2))"
   ]
  },
  {
   "cell_type": "code",
   "execution_count": 5,
   "metadata": {
    "scrolled": false
   },
   "outputs": [
    {
     "data": {
      "text/plain": [
       "(3870,\n",
       " 3624,\n",
       " [('2017년 기준', 8),\n",
       "  ('등 4대', 5),\n",
       "  ('한다고 생각하는', 4),\n",
       "  ('뿌리·섬유 등', 4),\n",
       "  ('4대 서비스로봇', 4),\n",
       "  ('기자 홍남기', 4),\n",
       "  ('홍남기 경제부총리', 4),\n",
       "  ('경제부총리 겸', 4),\n",
       "  ('겸 기획재정부', 4),\n",
       "  ('것으로 나타났다', 4),\n",
       "  ('2018 한국의', 4),\n",
       "  ('월평균 임금은', 4),\n",
       "  ('한국의 사회지표', 3),\n",
       "  ('22일 발표한', 3),\n",
       "  ('결혼을 해야', 3),\n",
       "  ('해야 한다고', 3),\n",
       "  ('같은 기간', 3),\n",
       "  ('엘리엇이 제안한', 3),\n",
       "  ('홈에서 연합뉴스', 3),\n",
       "  ('연합뉴스 채널', 3)])"
      ]
     },
     "execution_count": 5,
     "metadata": {},
     "output_type": "execute_result"
    }
   ],
   "source": [
    "len(bigram), len(set(bigram)), bigram.vocab().most_common(20)"
   ]
  },
  {
   "cell_type": "code",
   "execution_count": 6,
   "metadata": {},
   "outputs": [],
   "source": [
    "bigram = Text(ngram.ngramUmjeol(corpus, 3))"
   ]
  },
  {
   "cell_type": "code",
   "execution_count": 7,
   "metadata": {
    "scrolled": false
   },
   "outputs": [
    {
     "data": {
      "text/plain": [
       "(17578,\n",
       " 9327,\n",
       " [('   ', 127),\n",
       "  ('\\n\\n\\n', 79),\n",
       "  ('으로 ', 78),\n",
       "  (' 20', 59),\n",
       "  ('다  ', 51),\n",
       "  ('201', 48),\n",
       "  ('했다 ', 48),\n",
       "  ('고 있', 46),\n",
       "  ('에서 ', 46),\n",
       "  ('다고 ', 39),\n",
       "  (' 현대', 37),\n",
       "  ('보다 ', 36),\n",
       "  ('지만 ', 33),\n",
       "  ('하고 ', 32),\n",
       "  (' 있다', 31),\n",
       "  ('하는 ', 31),\n",
       "  (' 지난', 28),\n",
       "  ('지난해', 26),\n",
       "  (' 등 ', 26),\n",
       "  ('현대차', 26)])"
      ]
     },
     "execution_count": 7,
     "metadata": {},
     "output_type": "execute_result"
    }
   ],
   "source": [
    "len(bigram), len(set(bigram)), bigram.vocab().most_common(20)"
   ]
  },
  {
   "cell_type": "markdown",
   "metadata": {},
   "source": [
    "### naver 경제 뉴스 10건 ngram"
   ]
  },
  {
   "cell_type": "code",
   "execution_count": 8,
   "metadata": {},
   "outputs": [],
   "source": [
    "import os\n",
    "from nltk.tokenize import word_tokenize\n",
    "from nltk import Text"
   ]
  },
  {
   "cell_type": "code",
   "execution_count": 18,
   "metadata": {
    "scrolled": false
   },
   "outputs": [],
   "source": [
    "# path = \"./naver_news/2019-03-14_21-51/\"\n",
    "# fileList = [file for file in os.listdir(path)\n",
    "#                         if file.startswith(\"경제\") and file.endswith(\".txt\")]\n",
    "# news = \"\"\n",
    "# for f in fileList:\n",
    "#     with open(path+ \"/\" + f) as fp:\n",
    "#         news += fp.read() + \"\\n\"\n",
    "\n",
    "# newsT = Text(word_tokenize(news))\n",
    "# len(newsT), len(set(newsT)), newsT.vocab().most_common(30)"
   ]
  },
  {
   "cell_type": "code",
   "execution_count": 10,
   "metadata": {
    "scrolled": false
   },
   "outputs": [
    {
     "data": {
      "text/plain": [
       "(3871,\n",
       " 2576,\n",
       " [('등', 26),\n",
       "  ('지난해', 18),\n",
       "  ('이상', 17),\n",
       "  ('대한', 16),\n",
       "  ('기준', 16),\n",
       "  ('게', 15),\n",
       "  ('2017년', 14),\n",
       "  ('기자', 13),\n",
       "  ('반면', 12),\n",
       "  ('22일', 12),\n",
       "  ('것으로', 12),\n",
       "  ('현대차', 12),\n",
       "  ('수', 12),\n",
       "  ('있다', 11),\n",
       "  ('가장', 11),\n",
       "  ('라면', 11),\n",
       "  ('중', 10),\n",
       "  ('있는', 10),\n",
       "  ('소득', 10),\n",
       "  ('2년', 9)])"
      ]
     },
     "execution_count": 10,
     "metadata": {},
     "output_type": "execute_result"
    }
   ],
   "source": [
    "import re\n",
    "from string import punctuation\n",
    "from functions.naver import NewsScraping\n",
    "\n",
    "corpus = NewsScraping().get_articles(\"경제\")\n",
    "\n",
    "pattern = re.compile(r\"[{0}]\".format(re.escape(punctuation)))\n",
    "corpus = pattern.sub(\"\", corpus)\n",
    "\n",
    "newsT = Text(word_tokenize(corpus))\n",
    "len(newsT), len(set(newsT)), newsT.vocab().most_common(20)"
   ]
  },
  {
   "cell_type": "code",
   "execution_count": 11,
   "metadata": {},
   "outputs": [
    {
     "data": {
      "text/plain": [
       "(3870,\n",
       " 3624,\n",
       " [('2017년 기준', 8),\n",
       "  ('등 4대', 5),\n",
       "  ('한다고 생각하는', 4),\n",
       "  ('뿌리·섬유 등', 4),\n",
       "  ('4대 서비스로봇', 4),\n",
       "  ('기자 홍남기', 4),\n",
       "  ('홍남기 경제부총리', 4),\n",
       "  ('경제부총리 겸', 4),\n",
       "  ('겸 기획재정부', 4),\n",
       "  ('것으로 나타났다', 4),\n",
       "  ('2018 한국의', 4),\n",
       "  ('월평균 임금은', 4),\n",
       "  ('한국의 사회지표', 3),\n",
       "  ('22일 발표한', 3),\n",
       "  ('결혼을 해야', 3),\n",
       "  ('해야 한다고', 3),\n",
       "  ('같은 기간', 3),\n",
       "  ('엘리엇이 제안한', 3),\n",
       "  ('홈에서 연합뉴스', 3),\n",
       "  ('연합뉴스 채널', 3)])"
      ]
     },
     "execution_count": 11,
     "metadata": {},
     "output_type": "execute_result"
    }
   ],
   "source": [
    "bigram = Text(ngram.ngramEojeol(corpus, 2))\n",
    "len(bigram), len(set(bigram)), bigram.vocab().most_common(20)"
   ]
  },
  {
   "cell_type": "code",
   "execution_count": 13,
   "metadata": {},
   "outputs": [
    {
     "data": {
      "text/plain": [
       "(17578,\n",
       " 9327,\n",
       " [('   ', 127),\n",
       "  ('\\n\\n\\n', 79),\n",
       "  ('으로 ', 78),\n",
       "  (' 20', 59),\n",
       "  ('다  ', 51),\n",
       "  ('201', 48),\n",
       "  ('했다 ', 48),\n",
       "  ('고 있', 46),\n",
       "  ('에서 ', 46),\n",
       "  ('다고 ', 39),\n",
       "  (' 현대', 37),\n",
       "  ('보다 ', 36),\n",
       "  ('지만 ', 33),\n",
       "  ('하고 ', 32),\n",
       "  (' 있다', 31),\n",
       "  ('하는 ', 31),\n",
       "  (' 지난', 28),\n",
       "  ('지난해', 26),\n",
       "  (' 등 ', 26),\n",
       "  ('현대차', 26)])"
      ]
     },
     "execution_count": 13,
     "metadata": {},
     "output_type": "execute_result"
    }
   ],
   "source": [
    "bigram = Text(ngram.ngramUmjeol(corpus, 3))\n",
    "len(bigram), len(set(bigram)), bigram.vocab().most_common(20)"
   ]
  },
  {
   "cell_type": "markdown",
   "metadata": {},
   "source": [
    "### 영문 소설 ngram"
   ]
  },
  {
   "cell_type": "code",
   "execution_count": 14,
   "metadata": {},
   "outputs": [
    {
     "data": {
      "text/plain": [
       "(158268,\n",
       " 132042,\n",
       " [('I do not', 123),\n",
       "  ('I am sure', 97),\n",
       "  ('a great deal', 62),\n",
       "  ('I can not', 61),\n",
       "  ('would have been', 58),\n",
       "  ('do not know', 52),\n",
       "  ('she could not', 50),\n",
       "  ('I dare say', 47),\n",
       "  ('in the world', 46),\n",
       "  ('it would be', 45),\n",
       "  ('could not be', 45),\n",
       "  ('she had been', 44),\n",
       "  ('Mr Frank Churchill', 41),\n",
       "  ('I assure you', 41),\n",
       "  ('Mr and Mrs', 38),\n",
       "  ('it was not', 36),\n",
       "  ('as well as', 36),\n",
       "  ('Emma could not', 34),\n",
       "  ('I have been', 34),\n",
       "  ('was to be', 34),\n",
       "  ('would not have', 33),\n",
       "  ('that he had', 33),\n",
       "  ('I have no', 33),\n",
       "  ('and Mrs Weston', 33),\n",
       "  ('I could not', 32),\n",
       "  ('it will be', 32),\n",
       "  ('ought to be', 31),\n",
       "  ('on the subject', 30),\n",
       "  ('in love with', 30),\n",
       "  ('I have not', 30)])"
      ]
     },
     "execution_count": 14,
     "metadata": {},
     "output_type": "execute_result"
    }
   ],
   "source": [
    "# tokens = word_tokenize(corpus)\n",
    "# t = Text(tokens)\n",
    "from nltk.corpus import gutenberg, brown\n",
    "\n",
    "corpus = gutenberg.open(gutenberg.fileids()[0]).read()\n",
    "bigram = Text(ngram.ngramEojeol(corpus, 3))\n",
    "len(bigram), len(set(bigram)), bigram.vocab().most_common(30)"
   ]
  },
  {
   "cell_type": "code",
   "execution_count": 15,
   "metadata": {},
   "outputs": [
    {
     "data": {
      "text/plain": [
       "(848806,\n",
       " 31000,\n",
       " [(' the', 6263),\n",
       "  ('and ', 4820),\n",
       "  ('the ', 4699),\n",
       "  (' to ', 4510),\n",
       "  ('ing ', 4112),\n",
       "  (' of ', 3694),\n",
       "  (' and', 3488),\n",
       "  ('her ', 3058),\n",
       "  (' her', 2694),\n",
       "  ('hat ', 2282),\n",
       "  ('was ', 2276),\n",
       "  (' not', 2255),\n",
       "  (' was', 2228),\n",
       "  (' you', 2163),\n",
       "  ('not ', 2121),\n",
       "  ('ould', 2033),\n",
       "  (' tha', 1936),\n",
       "  ('uld ', 1873),\n",
       "  (' in ', 1825),\n",
       "  ('ther', 1774)])"
      ]
     },
     "execution_count": 15,
     "metadata": {},
     "output_type": "execute_result"
    }
   ],
   "source": [
    "bigram = Text(ngram.ngramUmjeol(corpus, 4))\n",
    "len(bigram), len(set(bigram)), bigram.vocab().most_common(20)"
   ]
  },
  {
   "cell_type": "markdown",
   "metadata": {},
   "source": [
    "## WPM(Word Piece Model)"
   ]
  },
  {
   "cell_type": "markdown",
   "metadata": {},
   "source": [
    "- WPM : 하나의 단어를 내부 단어(Subword Unit)들로 분리하는 단어 분리 모델\n",
    "- BPE : Byte Pair Encoding (Digram Coding) -> Simple form of data compression"
   ]
  },
  {
   "cell_type": "markdown",
   "metadata": {},
   "source": [
    "각 음절 <- whitespace(' '), 공백이 나오면 '_'  추가\n",
    "\n",
    "각 단어의 끝에 <= `</w>` 추가\n",
    "\n",
    "데이터: 각 단어의 빈도\n",
    "\n",
    "1. 음절을 쪼개기\n",
    "1. 패턴을 만들기 (n=2)\n",
    "1. 빈도가 가장 높은 best case 1개 찾기\n",
    "1. 병합\n",
    "1. 2번 부터 반복(n)"
   ]
  },
  {
   "cell_type": "code",
   "execution_count": 37,
   "metadata": {},
   "outputs": [],
   "source": [
    "# 모든 문자를 공백으로 분리, 단어의 시작에는 <w> 추가, 단어의 끝에는 </w> 추가\n",
    "# 원래 공백은 \"_\"로 대체, 원래 \"_\"를 구분하기 위해 원래 \"_\"를 \"__\"(두개)로 대체\n",
    "def split_terms(term):\n",
    "    termLists = term.split()\n",
    "    result = []\n",
    "    for termList in termLists:\n",
    "        result.append((\" \".join(['<w>']+list(termList)+['</w>'])).replace(\"_\", \"__\"))\n",
    "    return \" _ \".join(result)"
   ]
  },
  {
   "cell_type": "code",
   "execution_count": 38,
   "metadata": {},
   "outputs": [
    {
     "data": {
      "text/plain": [
       "'<w> l o w e r </w> _ <w> l o w __ e s t </w>'"
      ]
     },
     "execution_count": 38,
     "metadata": {},
     "output_type": "execute_result"
    }
   ],
   "source": [
    "split_terms(\"lower low_est\")"
   ]
  },
  {
   "cell_type": "code",
   "execution_count": 39,
   "metadata": {},
   "outputs": [],
   "source": [
    "# key: 공백으로 분리된 문자(split_terms), value: 해당 문자가 나타난 횟수\n",
    "data = {\n",
    "    split_terms(\"low\"):5,\n",
    "    split_terms(\"lowest\"):2,\n",
    "    split_terms(\"newer\"):6,\n",
    "    split_terms(\"wider\"):3\n",
    "}"
   ]
  },
  {
   "cell_type": "code",
   "execution_count": 68,
   "metadata": {},
   "outputs": [],
   "source": [
    "from collections import defaultdict\n",
    "\n",
    "def find_ngram(tokens, n=2):\n",
    "    if n < 2:\n",
    "        print(\"n 값은 2 이상 이어야 합니다. (일반적으로, 2~4의 값 선택)\")\n",
    "        return None\n",
    "    \n",
    "    result = defaultdict(int)    # {}  : dictionary 객체 생성\n",
    "    \n",
    "    for k, v in tokens.items():\n",
    "        term = k.split()\n",
    "        \n",
    "        for i in range(len(term) - n + 1):\n",
    "            ngram = tuple(term[i:i+n])\n",
    "            # n=2 : (<w>, l), (l, o), (o, w), (w, </w>)\n",
    "            # n=3 : (<w>, l, o), (l, o, w), (o, w, </w>)\n",
    "            \n",
    "            if ngram in result.keys():\n",
    "                result[ngram] += v\n",
    "            else:\n",
    "                result[ngram] = v\n",
    "    return result"
   ]
  },
  {
   "cell_type": "code",
   "execution_count": 71,
   "metadata": {},
   "outputs": [
    {
     "data": {
      "text/plain": [
       "defaultdict(int,\n",
       "            {('<w>', 'l', 'o'): 7,\n",
       "             ('l', 'o', 'w'): 7,\n",
       "             ('o', 'w', '</w>'): 5,\n",
       "             ('o', 'w', 'e'): 2,\n",
       "             ('w', 'e', 's'): 2,\n",
       "             ('e', 's', 't'): 2,\n",
       "             ('s', 't', '</w>'): 2,\n",
       "             ('<w>', 'n', 'e'): 6,\n",
       "             ('n', 'e', 'w'): 6,\n",
       "             ('e', 'w', 'e'): 6,\n",
       "             ('w', 'e', 'r'): 6,\n",
       "             ('e', 'r', '</w>'): 9,\n",
       "             ('<w>', 'w', 'i'): 3,\n",
       "             ('w', 'i', 'd'): 3,\n",
       "             ('i', 'd', 'e'): 3,\n",
       "             ('d', 'e', 'r'): 3})"
      ]
     },
     "execution_count": 71,
     "metadata": {},
     "output_type": "execute_result"
    }
   ],
   "source": [
    "find_ngram(data, 3)"
   ]
  },
  {
   "cell_type": "code",
   "execution_count": 67,
   "metadata": {},
   "outputs": [
    {
     "name": "stdout",
     "output_type": "stream",
     "text": [
      "('e', 'r', '</w>') 9\n"
     ]
    }
   ],
   "source": [
    "pattern =  find_ngram(data, 3)\n",
    "\n",
    "maxKey = None\n",
    "maxVal = 0\n",
    "\n",
    "for k, v in pattern.items():\n",
    "    if v > maxVal:\n",
    "        maxVal = v\n",
    "        maxKey = k\n",
    "\n",
    "print(maxKey, maxVal)"
   ]
  },
  {
   "cell_type": "code",
   "execution_count": 76,
   "metadata": {},
   "outputs": [
    {
     "name": "stdout",
     "output_type": "stream",
     "text": [
      "('e', 'r', '</w>') 9\n"
     ]
    }
   ],
   "source": [
    "pattern =  find_ngram(data, 3)\n",
    "\n",
    "maxKey = None\n",
    "maxVal = 0\n",
    "\n",
    "# 방법1\n",
    "# for k, v in pattern.items():\n",
    "#     if v > maxVal:\n",
    "#         maxVal = v\n",
    "#         maxKey = k\n",
    "# print(maxKey, maxVal)\n",
    "\n",
    "# 방법2\n",
    "# maxKey = max(pattern, key=lambda x: pattern[x])\n",
    "\n",
    "# 방법3\n",
    "# maxKey = max(pattern, key=lambda x: pattern.get(x))\n",
    "\n",
    "# 방법4\n",
    "maxKey = max(pattern, key=pattern.get)\n",
    "\n",
    "print(maxKey, pattern[maxKey])"
   ]
  },
  {
   "cell_type": "code",
   "execution_count": 77,
   "metadata": {},
   "outputs": [],
   "source": [
    "import re\n",
    "\n",
    "def merge_ngram(maxKey, data):\n",
    "    result = defaultdict(int)\n",
    "    \n",
    "    token = \" \".join(maxKey)\n",
    "    # re.compile(r\"(?!=\\S)\")      # whitespace가 아닌 것 (대문자 S)\n",
    "    pattern = re.compile(r\"(?!=\\S)\" + token + \"(?!\\S)\")\n",
    "    \n",
    "    for k, v in data.items():\n",
    "        new = pattern.sub(\"\".join(maxKey), k)\n",
    "        result[new] = v\n",
    "        \n",
    "    return result"
   ]
  },
  {
   "cell_type": "code",
   "execution_count": 88,
   "metadata": {},
   "outputs": [
    {
     "name": "stdout",
     "output_type": "stream",
     "text": [
      "('e', 'r', '</w>')\n",
      "defaultdict(<class 'int'>, {'<w> l o w </w>': 5, '<w> l o w e s t </w>': 2, '<w> n e w er</w>': 6, '<w> w i d er</w>': 3})\n",
      "('<w>', 'l', 'o')\n",
      "defaultdict(<class 'int'>, {'<w>lo w </w>': 5, '<w>lo w e s t </w>': 2, '<w> n e w er</w>': 6, '<w> w i d er</w>': 3})\n",
      "('<w>', 'n', 'e')\n",
      "defaultdict(<class 'int'>, {'<w>lo w </w>': 5, '<w>lo w e s t </w>': 2, '<w>ne w er</w>': 6, '<w> w i d er</w>': 3})\n",
      "('<w>ne', 'w', 'er</w>')\n",
      "defaultdict(<class 'int'>, {'<w>lo w </w>': 5, '<w>lo w e s t </w>': 2, '<w>newer</w>': 6, '<w> w i d er</w>': 3})\n",
      "('<w>lo', 'w', '</w>')\n",
      "defaultdict(<class 'int'>, {'<w>low</w>': 5, '<w>lo w e s t </w>': 2, '<w>newer</w>': 6, '<w> w i d er</w>': 3})\n"
     ]
    }
   ],
   "source": [
    "data = {\n",
    "    split_terms(\"low\"):5,\n",
    "    split_terms(\"lowest\"):2,\n",
    "    split_terms(\"newer\"):6,\n",
    "    split_terms(\"wider\"):3\n",
    "}\n",
    "\n",
    "for i in range(5):\n",
    "    pattern = find_ngram(data, 3)\n",
    "    \n",
    "    maxKey = max(pattern, key=pattern.get)\n",
    "    \n",
    "    data = merge_ngram(maxKey, data)\n",
    "    \n",
    "    print(maxKey)\n",
    "    print(data)"
   ]
  },
  {
   "cell_type": "code",
   "execution_count": 90,
   "metadata": {},
   "outputs": [
    {
     "data": {
      "text/plain": [
       "'<w> l o w e r </w> _ <w> l o w __ e s t </w>'"
      ]
     },
     "execution_count": 90,
     "metadata": {},
     "output_type": "execute_result"
    }
   ],
   "source": [
    "from functions.nlp import wpm\n",
    "\n",
    "wpm.split_terms(\"lower low_est\")"
   ]
  },
  {
   "cell_type": "code",
   "execution_count": 94,
   "metadata": {},
   "outputs": [
    {
     "data": {
      "text/plain": [
       "defaultdict(int,\n",
       "            {('<w>', 'l', 'o'): 7,\n",
       "             ('l', 'o', 'w'): 7,\n",
       "             ('o', 'w', '</w>'): 5,\n",
       "             ('o', 'w', 'e'): 2,\n",
       "             ('w', 'e', 's'): 2,\n",
       "             ('e', 's', 't'): 2,\n",
       "             ('s', 't', '</w>'): 2,\n",
       "             ('<w>', 'n', 'e'): 6,\n",
       "             ('n', 'e', 'w'): 6,\n",
       "             ('e', 'w', 'e'): 6,\n",
       "             ('w', 'e', 'r'): 6,\n",
       "             ('e', 'r', '</w>'): 9,\n",
       "             ('<w>', 'w', 'i'): 3,\n",
       "             ('w', 'i', 'd'): 3,\n",
       "             ('i', 'd', 'e'): 3,\n",
       "             ('d', 'e', 'r'): 3})"
      ]
     },
     "execution_count": 94,
     "metadata": {},
     "output_type": "execute_result"
    }
   ],
   "source": [
    "data = {\n",
    "    split_terms(\"low\"):5,\n",
    "    split_terms(\"lowest\"):2,\n",
    "    split_terms(\"newer\"):6,\n",
    "    split_terms(\"wider\"):3\n",
    "}\n",
    "\n",
    "wpm.find_ngram(data, 3)"
   ]
  },
  {
   "cell_type": "code",
   "execution_count": 97,
   "metadata": {},
   "outputs": [
    {
     "name": "stdout",
     "output_type": "stream",
     "text": [
      "('e', 'r', '</w>')\n",
      "defaultdict(<class 'int'>, {'<w> l o w </w>': 5, '<w> l o w e s t </w>': 2, '<w> n e w er</w>': 6, '<w> w i d er</w>': 3})\n",
      "('<w>', 'l', 'o')\n",
      "defaultdict(<class 'int'>, {'<w>lo w </w>': 5, '<w>lo w e s t </w>': 2, '<w> n e w er</w>': 6, '<w> w i d er</w>': 3})\n",
      "('<w>', 'n', 'e')\n",
      "defaultdict(<class 'int'>, {'<w>lo w </w>': 5, '<w>lo w e s t </w>': 2, '<w>ne w er</w>': 6, '<w> w i d er</w>': 3})\n",
      "('<w>ne', 'w', 'er</w>')\n",
      "defaultdict(<class 'int'>, {'<w>lo w </w>': 5, '<w>lo w e s t </w>': 2, '<w>newer</w>': 6, '<w> w i d er</w>': 3})\n",
      "('<w>lo', 'w', '</w>')\n",
      "defaultdict(<class 'int'>, {'<w>low</w>': 5, '<w>lo w e s t </w>': 2, '<w>newer</w>': 6, '<w> w i d er</w>': 3})\n"
     ]
    }
   ],
   "source": [
    "data = {\n",
    "    split_terms(\"low\"):5,\n",
    "    split_terms(\"lowest\"):2,\n",
    "    split_terms(\"newer\"):6,\n",
    "    split_terms(\"wider\"):3\n",
    "}\n",
    "\n",
    "for i in range(5):\n",
    "    pattern = wpm.find_ngram(data, 3)\n",
    "    \n",
    "    maxkey = max(pattern, key=pattern.get)\n",
    "    \n",
    "    data = wpm.merge_ngram(maxkey, data)\n",
    "    \n",
    "    print(maxkey)\n",
    "    print(data)"
   ]
  },
  {
   "cell_type": "markdown",
   "metadata": {},
   "source": [
    "## Empirical Law (경험적으로 알게된 법칙)"
   ]
  },
  {
   "cell_type": "markdown",
   "metadata": {},
   "source": [
    "검증 되지는 않았지만, NLP 분야에서 경험적으로 알게된 법칙들"
   ]
  },
  {
   "cell_type": "markdown",
   "metadata": {},
   "source": [
    "### Zipf's Law"
   ]
  },
  {
   "cell_type": "markdown",
   "metadata": {},
   "source": [
    "가장 많이 나온 자료는 이전 단어의 두배 자주 나타난다.\n",
    "\n",
    "![zipfs_law](./images/zipfs_law.png)\n",
    "\n",
    "- **단어 빈도와 중요도**\n",
    "\n",
    "![fre_impo](./images/frequency_importancy.png)\n",
    "\n",
    "- 실제 사용할 중요한 단어의 범위를 선택하기 위해서는 분석이 필요함"
   ]
  },
  {
   "cell_type": "markdown",
   "metadata": {},
   "source": [
    "#### 법률 corpus"
   ]
  },
  {
   "cell_type": "code",
   "execution_count": 51,
   "metadata": {},
   "outputs": [],
   "source": [
    "from konlpy.corpus import kolaw"
   ]
  },
  {
   "cell_type": "code",
   "execution_count": 52,
   "metadata": {},
   "outputs": [
    {
     "data": {
      "text/plain": [
       "4640"
      ]
     },
     "execution_count": 52,
     "metadata": {},
     "output_type": "execute_result"
    }
   ],
   "source": [
    "corpus = kolaw.open(kolaw.fileids()[0]).read()\n",
    "tokens = word_tokenize(corpus)\n",
    "len(tokens)"
   ]
  },
  {
   "cell_type": "code",
   "execution_count": 53,
   "metadata": {
    "scrolled": true
   },
   "outputs": [],
   "source": [
    "tokens = Text(word_tokenize(corpus))\n",
    "top50 = tokens.vocab().most_common(50)\n",
    "# top50"
   ]
  },
  {
   "cell_type": "code",
   "execution_count": 54,
   "metadata": {
    "scrolled": true
   },
   "outputs": [
    {
     "data": {
      "text/plain": [
       "Text(0, 0.5, 'frequency')"
      ]
     },
     "execution_count": 54,
     "metadata": {},
     "output_type": "execute_result"
    },
    {
     "data": {
      "image/png": "[encoded data removed]",
      "text/plain": [
       "<Figure size 432x288 with 1 Axes>"
      ]
     },
     "metadata": {
      "needs_background": "light"
     },
     "output_type": "display_data"
    }
   ],
   "source": [
    "import matplotlib.pyplot as plt\n",
    "\n",
    "x = range(1, len(top50)+1)\n",
    "y = [token[1] for token in top50]\n",
    "\n",
    "plt.plot(x, y, \"r-\")\n",
    "plt.xlabel(\"word lanking\")   # 단어의 순위\n",
    "plt.ylabel(\"frequency\")      # 단어의 빈도"
   ]
  },
  {
   "cell_type": "code",
   "execution_count": 55,
   "metadata": {
    "scrolled": true
   },
   "outputs": [
    {
     "data": {
      "text/plain": [
       "Text(0, 0.5, '단어의 로그 빈도')"
      ]
     },
     "execution_count": 55,
     "metadata": {},
     "output_type": "execute_result"
    },
    {
     "data": {
      "image/png": "[encoded data removed]",
      "text/plain": [
       "<Figure size 432x288 with 1 Axes>"
      ]
     },
     "metadata": {
      "needs_background": "light"
     },
     "output_type": "display_data"
    }
   ],
   "source": [
    "# log scale 확인하기\n",
    "import math\n",
    "\n",
    "# _x = [math.log10(_) for _ in x]\n",
    "_y = [math.log10(_) for _ in y]\n",
    "\n",
    "plt.plot(x, _y, \"b-\")\n",
    "plt.xlabel(\"word lanking\")   # 단어의 순위\n",
    "plt.ylabel(\"단어의 로그 빈도\")"
   ]
  },
  {
   "cell_type": "markdown",
   "metadata": {},
   "source": [
    "#### gutenberg corpus"
   ]
  },
  {
   "cell_type": "code",
   "execution_count": 56,
   "metadata": {},
   "outputs": [
    {
     "data": {
      "text/plain": [
       "Text(0, 0.5, '단어의 로그 빈도')"
      ]
     },
     "execution_count": 56,
     "metadata": {},
     "output_type": "execute_result"
    },
    {
     "data": {
      "image/png": "[encoded data removed]",
      "text/plain": [
       "<Figure size 432x288 with 1 Axes>"
      ]
     },
     "metadata": {
      "needs_background": "light"
     },
     "output_type": "display_data"
    }
   ],
   "source": [
    "corpus = gutenberg.open(gutenberg.fileids()[0]).read()\n",
    "tokens = Text(word_tokenize(corpus))\n",
    "top50 = tokens.vocab().most_common(50)\n",
    "\n",
    "x = range(1, len(top50)+1)\n",
    "y = [token[1] for token in top50]\n",
    "\n",
    "_y = [math.log10(_) for _ in y]\n",
    "\n",
    "plt.plot(x, _y, \"b-\")\n",
    "plt.xlabel(\"word lanking\")   # 단어의 순위\n",
    "plt.ylabel(\"단어의 로그 빈도\")"
   ]
  },
  {
   "cell_type": "markdown",
   "metadata": {},
   "source": [
    "#### naver 뉴스 기사 corpus"
   ]
  },
  {
   "cell_type": "code",
   "execution_count": 57,
   "metadata": {},
   "outputs": [
    {
     "data": {
      "text/plain": [
       "Text(0, 0.5, '단어의 로그 빈도')"
      ]
     },
     "execution_count": 57,
     "metadata": {},
     "output_type": "execute_result"
    },
    {
     "data": {
      "image/png": "[encoded data removed]",
      "text/plain": [
       "<Figure size 432x288 with 1 Axes>"
      ]
     },
     "metadata": {
      "needs_background": "light"
     },
     "output_type": "display_data"
    }
   ],
   "source": [
    "path = \"naver_news/2019-03-19_13-08\"\n",
    "corpus = []\n",
    "for file in [_ for _ in os.listdir(path) if _.endswith(\".txt\")]:\n",
    "    with open(\"{0}/{1}\".format(path, file), encoding=\"utf8\") as fp:\n",
    "        corpus.append(fp.read())\n",
    "# print(corpus)\n",
    "\n",
    "text = \"\"\n",
    "\n",
    "for cor in corpus:\n",
    "    text += cor + \"\\n\"\n",
    "# print(text)\n",
    "\n",
    "tokens = Text(word_tokenize(text))\n",
    "top50 = tokens.vocab().most_common(50)\n",
    "\n",
    "x = range(1, len(top50)+1)\n",
    "y = [token[1] for token in top50]\n",
    "\n",
    "_y = [math.log10(_) for _ in y]\n",
    "\n",
    "plt.plot(x, _y, \"b-\")\n",
    "plt.xlabel(\"word lanking\")   # 단어의 순위\n",
    "plt.ylabel(\"단어의 로그 빈도\")"
   ]
  },
  {
   "cell_type": "markdown",
   "metadata": {},
   "source": [
    "### Heap's Law"
   ]
  },
  {
   "cell_type": "markdown",
   "metadata": {},
   "source": [
    "![heaps](./images/heaps_law.png)\n",
    "\n",
    "![heaps](./images/heaps_law2.png)\n",
    "\n",
    "- 코퍼스가 영어일 경우 보통 상수 k는 10~100, b는 0.4~0.6 정도로 나타난다고 함"
   ]
  },
  {
   "cell_type": "code",
   "execution_count": 70,
   "metadata": {},
   "outputs": [],
   "source": [
    "from konlpy.corpus import kobill"
   ]
  },
  {
   "cell_type": "code",
   "execution_count": 112,
   "metadata": {},
   "outputs": [
    {
     "data": {
      "text/plain": [
       "Text(0, 0.5, '고유 단어의 수')"
      ]
     },
     "execution_count": 112,
     "metadata": {},
     "output_type": "execute_result"
    },
    {
     "data": {
      "image/png": "[encoded data removed]",
      "text/plain": [
       "<Figure size 432x288 with 1 Axes>"
      ]
     },
     "metadata": {
      "needs_background": "light"
     },
     "output_type": "display_data"
    }
   ],
   "source": [
    "k = 50   # 10 - 100\n",
    "b = 0.5  # 0.4 - 0.6\n",
    "\n",
    "corpora = []\n",
    "for file in kobill.fileids():\n",
    "    corpora.append(kobill.open(file).read())\n",
    "\n",
    "x = []\n",
    "y = []\n",
    "_x = []\n",
    "_y = []\n",
    "\n",
    "text = \"\"\n",
    "\n",
    "for corpus in corpora:\n",
    "    text += corpus\n",
    "    tokens = Text(word_tokenize(text))\n",
    "    x.append(len(tokens))\n",
    "    y.append(k * len(tokens) ** b)\n",
    "    _x.append(math.log10(len(tokens)))\n",
    "    _y.append(math.log10(k) + math.log10(len(tokens)*b))\n",
    "\n",
    "plt.plot(x, y, \"r-\")\n",
    "plt.xlabel(\"어휘의 수\")\n",
    "plt.ylabel(\"고유 단어의 수\")"
   ]
  },
  {
   "cell_type": "code",
   "execution_count": 113,
   "metadata": {},
   "outputs": [
    {
     "data": {
      "text/plain": [
       "Text(0, 0.5, '로그 고유 단어의 수')"
      ]
     },
     "execution_count": 113,
     "metadata": {},
     "output_type": "execute_result"
    },
    {
     "data": {
      "image/png": "[encoded data removed]",
      "text/plain": [
       "<Figure size 432x288 with 1 Axes>"
      ]
     },
     "metadata": {
      "needs_background": "light"
     },
     "output_type": "display_data"
    }
   ],
   "source": [
    "plt.plot(_x, _y, \"r-\")\n",
    "plt.xlabel(\"로그 어휘의 수\")\n",
    "plt.ylabel(\"로그 고유 단어의 수\")"
   ]
  },
  {
   "cell_type": "code",
   "execution_count": 114,
   "metadata": {},
   "outputs": [
    {
     "data": {
      "text/plain": [
       "Text(0, 0.5, '로그 고유 단어의 수')"
      ]
     },
     "execution_count": 114,
     "metadata": {},
     "output_type": "execute_result"
    },
    {
     "data": {
      "image/png": "[encoded data removed]",
      "text/plain": [
       "<Figure size 432x288 with 1 Axes>"
      ]
     },
     "metadata": {
      "needs_background": "light"
     },
     "output_type": "display_data"
    }
   ],
   "source": [
    "plt.plot(x, _y, \"r-\")\n",
    "plt.xlabel(\"어휘의 수\")\n",
    "plt.ylabel(\"로그 고유 단어의 수\")"
   ]
  },
  {
   "cell_type": "code",
   "execution_count": 115,
   "metadata": {},
   "outputs": [
    {
     "data": {
      "text/plain": [
       "Text(0, 0.5, '고유 단어의 수')"
      ]
     },
     "execution_count": 115,
     "metadata": {},
     "output_type": "execute_result"
    },
    {
     "data": {
      "image/png": "[encoded data removed]",
      "text/plain": [
       "<Figure size 432x288 with 1 Axes>"
      ]
     },
     "metadata": {
      "needs_background": "light"
     },
     "output_type": "display_data"
    }
   ],
   "source": [
    "# naver 뉴스 기사에서 확인하기\n",
    "path = \"naver_news/2019-03-19_13-08\"\n",
    "corpora = []\n",
    "for file in [_ for _ in os.listdir(path) if _.endswith(\".txt\")]:\n",
    "    with open(\"{0}/{1}\".format(path, file), encoding=\"utf8\") as fp:\n",
    "        corpora.append(fp.read())\n",
    "\n",
    "x = []\n",
    "y = []\n",
    "_x = []\n",
    "_y = []\n",
    "\n",
    "text = \"\"\n",
    "\n",
    "for corpus in corpora:\n",
    "    text += corpus\n",
    "    tokens = Text(word_tokenize(text))\n",
    "    x.append(len(tokens))\n",
    "    y.append(k * len(tokens) ** b)\n",
    "    _x.append(math.log10(len(tokens)))\n",
    "    _y.append(math.log10(k) + math.log10(len(tokens)*b))\n",
    "\n",
    "plt.plot(x, y, \"r-\")\n",
    "plt.xlabel(\"어휘의 수\")\n",
    "plt.ylabel(\"고유 단어의 수\")"
   ]
  },
  {
   "cell_type": "code",
   "execution_count": 116,
   "metadata": {},
   "outputs": [
    {
     "data": {
      "text/plain": [
       "Text(0, 0.5, '로그 고유 단어의 수')"
      ]
     },
     "execution_count": 116,
     "metadata": {},
     "output_type": "execute_result"
    },
    {
     "data": {
      "image/png": "[encoded data removed]",
      "text/plain": [
       "<Figure size 432x288 with 1 Axes>"
      ]
     },
     "metadata": {
      "needs_background": "light"
     },
     "output_type": "display_data"
    }
   ],
   "source": [
    "plt.plot(x, _y, \"r-\")\n",
    "plt.xlabel(\"어휘의 수\")\n",
    "plt.ylabel(\"로그 고유 단어의 수\")"
   ]
  },
  {
   "cell_type": "code",
   "execution_count": null,
   "metadata": {},
   "outputs": [],
   "source": []
  }
 ],
 "metadata": {
  "kernelspec": {
   "display_name": "Python 3",
   "language": "python",
   "name": "python3"
  },
  "language_info": {
   "codemirror_mode": {
    "name": "ipython",
    "version": 3
   },
   "file_extension": ".py",
   "mimetype": "text/x-python",
   "name": "python",
   "nbconvert_exporter": "python",
   "pygments_lexer": "ipython3",
   "version": "3.7.1"
  },
  "toc": {
   "base_numbering": 1,
   "nav_menu": {},
   "number_sections": false,
   "sideBar": true,
   "skip_h1_title": false,
   "title_cell": "Table of Contents",
   "title_sidebar": "Contents",
   "toc_cell": true,
   "toc_position": {},
   "toc_section_display": true,
   "toc_window_display": false
  }
 },
 "nbformat": 4,
 "nbformat_minor": 2
}
