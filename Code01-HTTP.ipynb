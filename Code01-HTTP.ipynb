{
 "cells": [
  {
   "cell_type": "markdown",
   "metadata": {
    "toc": true
   },
   "source": [
    "<h1>Table of Contents<span class=\"tocSkip\"></span></h1>\n",
    "<div class=\"toc\"><ul class=\"toc-item\"><li><span><a href=\"#builtwith-패키지-사용하기\" data-toc-modified-id=\"builtwith-패키지-사용하기-1\">builtwith 패키지 사용하기</a></span></li><li><span><a href=\"#urllib-패키지-사용하기\" data-toc-modified-id=\"urllib-패키지-사용하기-2\">urllib 패키지 사용하기</a></span><ul class=\"toc-item\"><li><span><a href=\"#urllib.robotparser\" data-toc-modified-id=\"urllib.robotparser-2.1\">urllib.robotparser</a></span></li><li><span><a href=\"#rullib.request\" data-toc-modified-id=\"rullib.request-2.2\">rullib.request</a></span></li><li><span><a href=\"#urllib.error\" data-toc-modified-id=\"urllib.error-2.3\">urllib.error</a></span></li><li><span><a href=\"#get-방식-download-함수-만들기\" data-toc-modified-id=\"get-방식-download-함수-만들기-2.4\">get 방식 download 함수 만들기</a></span></li><li><span><a href=\"#urllib.parse\" data-toc-modified-id=\"urllib.parse-2.5\">urllib.parse</a></span></li></ul></li><li><span><a href=\"#requests-패키지-사용하기\" data-toc-modified-id=\"requests-패키지-사용하기-3\">requests 패키지 사용하기</a></span><ul class=\"toc-item\"><li><span><a href=\"#requests.request\" data-toc-modified-id=\"requests.request-3.1\">requests.request</a></span></li><li><span><a href=\"#requests.get\" data-toc-modified-id=\"requests.get-3.2\">requests.get</a></span></li><li><span><a href=\"#requests-패키지로-get-방식-download-함수-재정의\" data-toc-modified-id=\"requests-패키지로-get-방식-download-함수-재정의-3.3\">requests 패키지로 get 방식 download 함수 재정의</a></span></li><li><span><a href=\"#requests-패키지-get/post/put-매서드-파라미터\" data-toc-modified-id=\"requests-패키지-get/post/put-매서드-파라미터-3.4\">requests 패키지 get/post/put 매서드 파라미터</a></span></li><li><span><a href=\"#crawler-test.com-사이트에서-status_code-확인\" data-toc-modified-id=\"crawler-test.com-사이트에서-status_code-확인-3.5\">crawler-test.com 사이트에서 status_code 확인</a></span></li></ul></li><li><span><a href=\"#cookie/session-이용하기\" data-toc-modified-id=\"cookie/session-이용하기-4\">cookie/session 이용하기</a></span><ul class=\"toc-item\"><li><span><a href=\"#postDownload-함수-만들기\" data-toc-modified-id=\"postDownload-함수-만들기-4.1\">postDownload 함수 만들기</a></span></li><li><span><a href=\"#pythonscraping.com-사이트에서-post-메서드-동작-확인-해보기\" data-toc-modified-id=\"pythonscraping.com-사이트에서-post-메서드-동작-확인-해보기-4.2\">pythonscraping.com 사이트에서 post 메서드 동작 확인 해보기</a></span></li><li><span><a href=\"#pythonscraping.com-사이트에서-cookie-동작-확인-해보기\" data-toc-modified-id=\"pythonscraping.com-사이트에서-cookie-동작-확인-해보기-4.3\">pythonscraping.com 사이트에서 cookie 동작 확인 해보기</a></span></li><li><span><a href=\"#pythonscraping.com-사이트에서-session-이용해보기\" data-toc-modified-id=\"pythonscraping.com-사이트에서-session-이용해보기-4.4\">pythonscraping.com 사이트에서 session 이용해보기</a></span></li></ul></li><li><span><a href=\"#공공데이터포털-데이터-활용하기\" data-toc-modified-id=\"공공데이터포털-데이터-활용하기-5\">공공데이터포털 데이터 활용하기</a></span><ul class=\"toc-item\"><li><span><a href=\"#json-패키지-사용하기\" data-toc-modified-id=\"json-패키지-사용하기-5.1\">json 패키지 사용하기</a></span></li></ul></li></ul></div>"
   ]
  },
  {
   "cell_type": "markdown",
   "metadata": {},
   "source": [
    "`documents 폴더에 있는 \"02. HTTP - 비정형 데이터 - HTTP_Urllib_Requests.pptx\"(day2)와 \n",
    "\"04.20190307(인공지능 고급반) - cookie_session.html\"(day4) 강의 내용에 대한 실습 코드 입니다.`"
   ]
  },
  {
   "cell_type": "markdown",
   "metadata": {},
   "source": [
    "## builtwith 패키지 사용하기"
   ]
  },
  {
   "cell_type": "code",
   "execution_count": 1,
   "metadata": {},
   "outputs": [],
   "source": [
    "# !pip install builtwith"
   ]
  },
  {
   "cell_type": "code",
   "execution_count": 2,
   "metadata": {},
   "outputs": [],
   "source": [
    "from builtwith import builtwith"
   ]
  },
  {
   "cell_type": "code",
   "execution_count": 3,
   "metadata": {},
   "outputs": [
    {
     "data": {
      "text/plain": [
       "{'web-servers': ['Nginx'],\n",
       " 'font-scripts': ['Google Font API'],\n",
       " 'ecommerce': ['WooCommerce'],\n",
       " 'cms': ['WordPress'],\n",
       " 'programming-languages': ['PHP'],\n",
       " 'blogs': ['PHP', 'WordPress']}"
      ]
     },
     "execution_count": 3,
     "metadata": {},
     "output_type": "execute_result"
    }
   ],
   "source": [
    "builtwith('http://wordpress.com')    # 속도가 아주 느림. 어떤 사이트는 Null 값을 리턴함"
   ]
  },
  {
   "cell_type": "markdown",
   "metadata": {},
   "source": [
    "## urllib 패키지 사용하기"
   ]
  },
  {
   "cell_type": "markdown",
   "metadata": {},
   "source": [
    "### urllib.robotparser"
   ]
  },
  {
   "cell_type": "code",
   "execution_count": 4,
   "metadata": {},
   "outputs": [],
   "source": [
    "from urllib import robotparser    # 실제 잘 사용하지 않음"
   ]
  },
  {
   "cell_type": "code",
   "execution_count": 5,
   "metadata": {},
   "outputs": [],
   "source": [
    "robot = robotparser.RobotFileParser()\n",
    "robot.set_url('https://www.google.com')\n",
    "robot.read()"
   ]
  },
  {
   "cell_type": "code",
   "execution_count": 6,
   "metadata": {},
   "outputs": [
    {
     "data": {
      "text/plain": [
       "True"
      ]
     },
     "execution_count": 6,
     "metadata": {},
     "output_type": "execute_result"
    }
   ],
   "source": [
    "robot.can_fetch('AgentName', 'https://www.naver.com/search/about')"
   ]
  },
  {
   "cell_type": "markdown",
   "metadata": {},
   "source": [
    "### rullib.request"
   ]
  },
  {
   "cell_type": "code",
   "execution_count": 7,
   "metadata": {},
   "outputs": [],
   "source": [
    "from urllib import request"
   ]
  },
  {
   "cell_type": "code",
   "execution_count": 8,
   "metadata": {},
   "outputs": [],
   "source": [
    "resp = request.urlopen('https://www.google.com/search')"
   ]
  },
  {
   "cell_type": "code",
   "execution_count": 9,
   "metadata": {},
   "outputs": [
    {
     "data": {
      "text/plain": [
       "http.client.HTTPResponse"
      ]
     },
     "execution_count": 9,
     "metadata": {},
     "output_type": "execute_result"
    }
   ],
   "source": [
    "type(resp)"
   ]
  },
  {
   "cell_type": "code",
   "execution_count": 10,
   "metadata": {},
   "outputs": [
    {
     "data": {
      "text/plain": [
       "'https://www.google.com/webhp'"
      ]
     },
     "execution_count": 10,
     "metadata": {},
     "output_type": "execute_result"
    }
   ],
   "source": [
    "resp.geturl()    # 내가 요청한 URL이 아닌, 서버에서 redirect를 거쳐 실제 return 받은 URL"
   ]
  },
  {
   "cell_type": "code",
   "execution_count": 11,
   "metadata": {},
   "outputs": [
    {
     "data": {
      "text/plain": [
       "[('Date', 'Sat, 09 Mar 2019 01:36:46 GMT'),\n",
       " ('Expires', '-1'),\n",
       " ('Cache-Control', 'private, max-age=0'),\n",
       " ('Content-Type', 'text/html; charset=ISO-8859-1'),\n",
       " ('P3P', 'CP=\"This is not a P3P policy! See g.co/p3phelp for more info.\"'),\n",
       " ('Server', 'gws'),\n",
       " ('X-XSS-Protection', '1; mode=block'),\n",
       " ('X-Frame-Options', 'SAMEORIGIN'),\n",
       " ('Set-Cookie',\n",
       "  '1P_JAR=2019-03-09-01; expires=Mon, 08-Apr-2019 01:36:46 GMT; path=/; domain=.google.com'),\n",
       " ('Set-Cookie',\n",
       "  'NID=162=NTg_ciCtsCXyzPbX5aFRrYo6p5iyDT6WNNOCS0LoAp92G5_NpYpWuSZZG1_eF2WwEaa8qlIobPUnjtLZDXxqFiNYasggVqbg5PAAxaLZF-5dE04fEdxWR7GQSvTnIdHXHhnR4bFAuxUTOAJsLqP6oPcTFbos6VaOY_xwZyCKDeo; expires=Sun, 08-Sep-2019 01:36:46 GMT; path=/; domain=.google.com; HttpOnly'),\n",
       " ('Alt-Svc', 'quic=\":443\"; ma=2592000; v=\"46,44,43,39\"'),\n",
       " ('Accept-Ranges', 'none'),\n",
       " ('Vary', 'Accept-Encoding'),\n",
       " ('Connection', 'close')]"
      ]
     },
     "execution_count": 11,
     "metadata": {},
     "output_type": "execute_result"
    }
   ],
   "source": [
    "resp.getheaders()"
   ]
  },
  {
   "cell_type": "code",
   "execution_count": 12,
   "metadata": {},
   "outputs": [],
   "source": [
    "resp = request.urlopen('https://www.google.com')"
   ]
  },
  {
   "cell_type": "code",
   "execution_count": 13,
   "metadata": {
    "scrolled": true
   },
   "outputs": [],
   "source": [
    "# resp.read()         # HTTPResponse 객체에서 read() 하면, 객체 내용은 지워짐"
   ]
  },
  {
   "cell_type": "markdown",
   "metadata": {},
   "source": [
    "- b' 으로 시작하기 때문에 binary 값임. utf-8 코드로 decode 필요"
   ]
  },
  {
   "cell_type": "code",
   "execution_count": 14,
   "metadata": {
    "scrolled": true
   },
   "outputs": [],
   "source": [
    "resp = request.urlopen('https://www.google.com/search')    # HTTPResponse 객체 재생성(urlopen 재호출)\n",
    "# resp.read().decode(\"utf-8\")      # to utf-8 string"
   ]
  },
  {
   "cell_type": "markdown",
   "metadata": {},
   "source": [
    "### urllib.error"
   ]
  },
  {
   "cell_type": "code",
   "execution_count": 15,
   "metadata": {},
   "outputs": [
    {
     "name": "stdout",
     "output_type": "stream",
     "text": [
      "403\n",
      "Forbidden\n",
      "Content-Type: text/html; charset=UTF-8\n",
      "Date: Sat, 09 Mar 2019 01:36:48 GMT\n",
      "Server: gws\n",
      "Cache-Control: private\n",
      "X-XSS-Protection: 1; mode=block\n",
      "X-Frame-Options: SAMEORIGIN\n",
      "Alt-Svc: quic=\":443\"; ma=2592000; v=\"46,44,43,39\"\n",
      "Accept-Ranges: none\n",
      "Vary: Accept-Encoding\n",
      "Connection: close\n",
      "\n",
      "\n"
     ]
    }
   ],
   "source": [
    "from urllib import error\n",
    "try:\n",
    "    resp = request.urlopen('https://www.google.com/search?q=python&oq=python&aqs=chrome..69i57j69i65l2j35i39j0l2.1622j0j9&sourceid=chrome&ie=UTF-8')\n",
    "except error.HTTPError as e:\n",
    "    print(e.code)\n",
    "    print(e.reason)\n",
    "    print(e.headers)"
   ]
  },
  {
   "cell_type": "markdown",
   "metadata": {},
   "source": [
    "### get 방식 download 함수 만들기"
   ]
  },
  {
   "cell_type": "code",
   "execution_count": 16,
   "metadata": {},
   "outputs": [],
   "source": [
    "# 구글에서 \"파이썬\"이라는 문자열 검색\n",
    "url = \"https://www.google.com/search?q=%ED%8C%8C%EC%9D%B4%EC%8D%AC&oq=%ED%8C%8C%EC%9D%B4%EC%8D%AC&aqs=chrome..69i57j69i65l3j35i39j0.2946j0j9&sourceid=chrome&ie=UTF-8\"\n",
    "\n",
    "# 서버에 user-agent 정보를 전달해야 함\n",
    "# headers = {\"user-agent\": \"Mozilla/5.0 (Macintosh; Intel Mac OS X 10_14_1) AppleWebKit/537.36 (KHTML, like Gecko) Chrome/72.0.3626.109 Safari/537.36\"}\n",
    "headers = {\"user-agent\": \"Mozilla/5.0\"}  # 상세한 정보는 생략해도 됨\n",
    "\n",
    "def getDownload(url, retries=3):\n",
    "    req = request.Request(url, headers=headers)\n",
    "#    req = request.Request(url)        # headers 정보가 없어서 403, Forbidden 에러 발생\n",
    "\n",
    "    try:\n",
    "        resp = request.urlopen(req)\n",
    "    except error.HTTPError as e:\n",
    "        if 500 <= e.code < 600 and retries > 0:\n",
    "            return getDownload(url, retries - 1)\n",
    "        else:\n",
    "            print(e.code)\n",
    "            print(e.reason)\n",
    "            print(e.headers)\n",
    "            resp = None\n",
    "    \n",
    "    return resp"
   ]
  },
  {
   "cell_type": "code",
   "execution_count": 17,
   "metadata": {},
   "outputs": [],
   "source": [
    "resp = getDownload(url)"
   ]
  },
  {
   "cell_type": "markdown",
   "metadata": {},
   "source": [
    "### urllib.parse"
   ]
  },
  {
   "cell_type": "code",
   "execution_count": 18,
   "metadata": {},
   "outputs": [],
   "source": [
    "from urllib import parse"
   ]
  },
  {
   "cell_type": "code",
   "execution_count": 19,
   "metadata": {},
   "outputs": [
    {
     "data": {
      "text/plain": [
       "ParseResult(scheme='https', netloc='www.google.com', path='/search', params='', query='q=%ED%8C%8C%EC%9D%B4%EC%8D%AC&oq=%ED%8C%8C%EC%9D%B4%EC%8D%AC&aqs=chrome..69i57j69i65l3j35i39j0.2946j0j9&sourceid=chrome&ie=UTF-8', fragment='')"
      ]
     },
     "execution_count": 19,
     "metadata": {},
     "output_type": "execute_result"
    }
   ],
   "source": [
    "parse.urlparse(url)"
   ]
  },
  {
   "cell_type": "code",
   "execution_count": 20,
   "metadata": {},
   "outputs": [
    {
     "data": {
      "text/plain": [
       "'https://www.google.com/search/about'"
      ]
     },
     "execution_count": 20,
     "metadata": {},
     "output_type": "execute_result"
    }
   ],
   "source": [
    "base = \"https://www.google.com\"\n",
    "url = \"/search/about\"\n",
    "parse.urljoin(base, url)"
   ]
  },
  {
   "cell_type": "code",
   "execution_count": 21,
   "metadata": {},
   "outputs": [
    {
     "data": {
      "text/plain": [
       "'%ED%8C%8C%EC%9D%B4%EC%8D%AC'"
      ]
     },
     "execution_count": 21,
     "metadata": {},
     "output_type": "execute_result"
    }
   ],
   "source": [
    "parse.quote_plus(\"파이썬\")"
   ]
  },
  {
   "cell_type": "code",
   "execution_count": 22,
   "metadata": {},
   "outputs": [
    {
     "data": {
      "text/plain": [
       "'파이썬'"
      ]
     },
     "execution_count": 22,
     "metadata": {},
     "output_type": "execute_result"
    }
   ],
   "source": [
    "parse.unquote_plus('%ED%8C%8C%EC%9D%B4%EC%8D%AC')"
   ]
  },
  {
   "cell_type": "code",
   "execution_count": 23,
   "metadata": {},
   "outputs": [
    {
     "data": {
      "text/plain": [
       "'q=%ED%8C%8C%EC%9D%B4%EC%8D%AC+A'"
      ]
     },
     "execution_count": 23,
     "metadata": {},
     "output_type": "execute_result"
    }
   ],
   "source": [
    "parse.urlencode({\"q\":\"파이썬 A\"})"
   ]
  },
  {
   "cell_type": "markdown",
   "metadata": {},
   "source": [
    "## requests 패키지 사용하기"
   ]
  },
  {
   "cell_type": "markdown",
   "metadata": {},
   "source": [
    "### requests.request"
   ]
  },
  {
   "cell_type": "code",
   "execution_count": 24,
   "metadata": {},
   "outputs": [],
   "source": [
    "import requests\n",
    "\n",
    "url = \"https://www.google.com/search?q=%ED%8C%8C%EC%9D%B4%EC%8D%AC&oq=%ED%8C%8C%EC%9D%B4%EC%8D%AC&aqs=chrome..69i57j69i65l3j35i39j0.2946j0j9&sourceid=chrome&ie=UTF-8\"\n",
    "\n",
    "resp = requests.request(\"get\", url)"
   ]
  },
  {
   "cell_type": "code",
   "execution_count": 25,
   "metadata": {},
   "outputs": [],
   "source": [
    "# resp.text"
   ]
  },
  {
   "cell_type": "code",
   "execution_count": 26,
   "metadata": {},
   "outputs": [
    {
     "data": {
      "text/plain": [
       "'ISO-8859-1'"
      ]
     },
     "execution_count": 26,
     "metadata": {},
     "output_type": "execute_result"
    }
   ],
   "source": [
    "resp.encoding"
   ]
  },
  {
   "cell_type": "code",
   "execution_count": 27,
   "metadata": {
    "scrolled": true
   },
   "outputs": [
    {
     "data": {
      "text/plain": [
       "'utf-8'"
      ]
     },
     "execution_count": 27,
     "metadata": {},
     "output_type": "execute_result"
    }
   ],
   "source": [
    "resp.encoding = \"utf-8\"\n",
    "resp.encoding"
   ]
  },
  {
   "cell_type": "code",
   "execution_count": 28,
   "metadata": {},
   "outputs": [
    {
     "data": {
      "text/plain": [
       "'https://www.google.com/search?q=%ED%8C%8C%EC%9D%B4%EC%8D%AC&oq=%ED%8C%8C%EC%9D%B4%EC%8D%AC&aqs=chrome..69i57j69i65l3j35i39j0.2946j0j9&sourceid=chrome&ie=UTF-8'"
      ]
     },
     "execution_count": 28,
     "metadata": {},
     "output_type": "execute_result"
    }
   ],
   "source": [
    "resp.url"
   ]
  },
  {
   "cell_type": "code",
   "execution_count": 29,
   "metadata": {},
   "outputs": [
    {
     "data": {
      "text/plain": [
       "{'User-Agent': 'python-requests/2.21.0', 'Accept-Encoding': 'gzip, deflate', 'Accept': '*/*', 'Connection': 'keep-alive'}"
      ]
     },
     "execution_count": 29,
     "metadata": {},
     "output_type": "execute_result"
    }
   ],
   "source": [
    "resp.request.headers"
   ]
  },
  {
   "cell_type": "markdown",
   "metadata": {},
   "source": [
    "### requests.get"
   ]
  },
  {
   "cell_type": "code",
   "execution_count": 30,
   "metadata": {},
   "outputs": [],
   "source": [
    "resp = requests.get(url, headers)"
   ]
  },
  {
   "cell_type": "code",
   "execution_count": 31,
   "metadata": {},
   "outputs": [
    {
     "data": {
      "text/plain": [
       "{'User-Agent': 'python-requests/2.21.0', 'Accept-Encoding': 'gzip, deflate', 'Accept': '*/*', 'Connection': 'keep-alive'}"
      ]
     },
     "execution_count": 31,
     "metadata": {},
     "output_type": "execute_result"
    }
   ],
   "source": [
    "resp.request.headers"
   ]
  },
  {
   "cell_type": "code",
   "execution_count": 32,
   "metadata": {},
   "outputs": [],
   "source": [
    "url = \"https://www.google.com/search\"\n",
    "resp = requests.get(url, params={\"q\":\"파이썬\"}, headers=headers)"
   ]
  },
  {
   "cell_type": "code",
   "execution_count": 33,
   "metadata": {
    "scrolled": false
   },
   "outputs": [
    {
     "data": {
      "text/plain": [
       "{'Date': 'Sat, 09 Mar 2019 01:36:50 GMT', 'Expires': '-1', 'Cache-Control': 'private, max-age=0', 'Content-Type': 'text/html; charset=UTF-8', 'P3P': 'CP=\"This is not a P3P policy! See g.co/p3phelp for more info.\"', 'Content-Encoding': 'gzip', 'Server': 'gws', 'X-XSS-Protection': '1; mode=block', 'X-Frame-Options': 'SAMEORIGIN', 'Set-Cookie': '1P_JAR=2019-03-09-01; expires=Mon, 08-Apr-2019 01:36:50 GMT; path=/; domain=.google.com, CGIC=IgMqLyo; expires=Sat, 07-Sep-2019 16:31:26 GMT; path=/complete/search; domain=.google.com; HttpOnly, CGIC=IgMqLyo; expires=Sat, 07-Sep-2019 16:31:26 GMT; path=/search; domain=.google.com; HttpOnly, NID=162=po_06qqrJ2i8Zcfnt8gc3hEgILxtMQPpR95NZDXSI7EkJAovnQ8Y604T2wlvHXR8oc6wrmb1CGbjVIa81j2qgoU76PYidrUIV6zpPsbvg-AZlfglthJRlNusJ0279X05FbcD6KvfyTg8ilX5fBuoXNz8DOwYil_r2N09kJeDKh4; expires=Sun, 08-Sep-2019 01:36:50 GMT; path=/; domain=.google.com; HttpOnly', 'Alt-Svc': 'quic=\":443\"; ma=2592000; v=\"46,44,43,39\"', 'Transfer-Encoding': 'chunked'}"
      ]
     },
     "execution_count": 33,
     "metadata": {},
     "output_type": "execute_result"
    }
   ],
   "source": [
    "resp.headers"
   ]
  },
  {
   "cell_type": "markdown",
   "metadata": {},
   "source": [
    "### requests 패키지로 get 방식 download 함수 재정의\n",
    "\n",
    "- requests.get\n",
    "- requests.exceptions.HTTPError"
   ]
  },
  {
   "cell_type": "code",
   "execution_count": 34,
   "metadata": {},
   "outputs": [],
   "source": [
    "# 구글에서 \"파이썬\"이라는 문자열 검색\n",
    "import requests\n",
    "\n",
    "url = \"https://www.google.com/search\"\n",
    "\n",
    "# 서버에 user-agent 정보를 전달해야 함\n",
    "headers = {\"user-agent\": \"Mozilla/5.0\"}  # 상세한 정보는 생략해도 됨\n",
    "\n",
    "def getDownload(url, param, retries=3):\n",
    "    resp = None\n",
    "\n",
    "    try:\n",
    "        resp = requests.get(url, params=param, headers=headers)\n",
    "    except requests.HTTPError as e:\n",
    "        if 500 <= resp.status_code < 600 and retries > 0:\n",
    "            return getDownload(url, param, retries - 1)\n",
    "        else:\n",
    "            print(resp.status_code)\n",
    "            print(resp.reason)\n",
    "            print(resp.headers)\n",
    "    \n",
    "    return resp"
   ]
  },
  {
   "cell_type": "code",
   "execution_count": 35,
   "metadata": {},
   "outputs": [],
   "source": [
    "resp = getDownload(url, param={\"q\":\"파이썬\"})"
   ]
  },
  {
   "cell_type": "code",
   "execution_count": 36,
   "metadata": {
    "scrolled": true
   },
   "outputs": [
    {
     "data": {
      "text/plain": [
       "{'Date': 'Sat, 09 Mar 2019 01:36:50 GMT', 'Expires': '-1', 'Cache-Control': 'private, max-age=0', 'Content-Type': 'text/html; charset=UTF-8', 'P3P': 'CP=\"This is not a P3P policy! See g.co/p3phelp for more info.\"', 'Content-Encoding': 'gzip', 'Server': 'gws', 'X-XSS-Protection': '1; mode=block', 'X-Frame-Options': 'SAMEORIGIN', 'Set-Cookie': '1P_JAR=2019-03-09-01; expires=Mon, 08-Apr-2019 01:36:50 GMT; path=/; domain=.google.com, CGIC=IgMqLyo; expires=Sat, 07-Sep-2019 16:31:26 GMT; path=/complete/search; domain=.google.com; HttpOnly, CGIC=IgMqLyo; expires=Sat, 07-Sep-2019 16:31:26 GMT; path=/search; domain=.google.com; HttpOnly, NID=178=wF-JfZslfdqyNgOt8tY4scN2ArCKBiOq61b3t2CUGqUnhnC4l-4tzpn1Sy1DDKbQ_-kMmdxXOyXHm2BzU4XZxCotF9hEccReLJxCeVLA2-Nv2MVdoZVwRLOcd9VGss4EJ7f309jyHsIsqXTQXRW72XXm5UqEIoFwNf-ATiMS1kE; expires=Sun, 08-Sep-2019 01:36:50 GMT; path=/; domain=.google.com; HttpOnly', 'Alt-Svc': 'quic=\":443\"; ma=2592000; v=\"46,44,43,39\"', 'Transfer-Encoding': 'chunked'}"
      ]
     },
     "execution_count": 36,
     "metadata": {},
     "output_type": "execute_result"
    }
   ],
   "source": [
    "resp.headers"
   ]
  },
  {
   "cell_type": "code",
   "execution_count": 37,
   "metadata": {},
   "outputs": [],
   "source": [
    "# resp.text"
   ]
  },
  {
   "cell_type": "markdown",
   "metadata": {},
   "source": [
    "### requests 패키지 get/post/put 매서드 파라미터"
   ]
  },
  {
   "cell_type": "markdown",
   "metadata": {},
   "source": [
    "http://httpbin.org/ 에서 제공하는 서비스로 requests 패키지의 get, post, put 메서드의 기능을 이용해 본다."
   ]
  },
  {
   "cell_type": "code",
   "execution_count": 38,
   "metadata": {},
   "outputs": [],
   "source": [
    "import requests"
   ]
  },
  {
   "cell_type": "code",
   "execution_count": 39,
   "metadata": {},
   "outputs": [
    {
     "data": {
      "text/plain": [
       "<Response [200]>"
      ]
     },
     "execution_count": 39,
     "metadata": {},
     "output_type": "execute_result"
    }
   ],
   "source": [
    "# get\n",
    "url = \"http://httpbin.org/\"\n",
    "requests.get(url+\"get\")"
   ]
  },
  {
   "cell_type": "code",
   "execution_count": 40,
   "metadata": {},
   "outputs": [],
   "source": [
    "resp = requests.get(url+\"get\")"
   ]
  },
  {
   "cell_type": "code",
   "execution_count": 41,
   "metadata": {},
   "outputs": [
    {
     "name": "stdout",
     "output_type": "stream",
     "text": [
      "{'Access-Control-Allow-Credentials': 'true', 'Access-Control-Allow-Origin': '*', 'Content-Encoding': 'gzip', 'Content-Type': 'application/json', 'Date': 'Sat, 09 Mar 2019 01:36:51 GMT', 'Server': 'nginx', 'Content-Length': '184', 'Connection': 'keep-alive'}\n",
      "{\n",
      "  \"args\": {}, \n",
      "  \"headers\": {\n",
      "    \"Accept\": \"*/*\", \n",
      "    \"Accept-Encoding\": \"gzip, deflate\", \n",
      "    \"Host\": \"httpbin.org\", \n",
      "    \"User-Agent\": \"python-requests/2.21.0\"\n",
      "  }, \n",
      "  \"origin\": \"121.130.89.150, 121.130.89.150\", \n",
      "  \"url\": \"https://httpbin.org/get\"\n",
      "}\n",
      "\n"
     ]
    }
   ],
   "source": [
    "print(resp.headers)\n",
    "print(resp.text)"
   ]
  },
  {
   "cell_type": "code",
   "execution_count": 42,
   "metadata": {},
   "outputs": [],
   "source": [
    "resp = requests.get(url+\"get\", params={\"key\":\"value\", \"key1\":\"value1\"})"
   ]
  },
  {
   "cell_type": "code",
   "execution_count": 43,
   "metadata": {},
   "outputs": [
    {
     "name": "stdout",
     "output_type": "stream",
     "text": [
      "{'Access-Control-Allow-Credentials': 'true', 'Access-Control-Allow-Origin': '*', 'Content-Encoding': 'gzip', 'Content-Type': 'application/json', 'Date': 'Sat, 09 Mar 2019 01:36:52 GMT', 'Server': 'nginx', 'Content-Length': '210', 'Connection': 'keep-alive'}\n",
      "{\n",
      "  \"args\": {\n",
      "    \"key\": \"value\", \n",
      "    \"key1\": \"value1\"\n",
      "  }, \n",
      "  \"headers\": {\n",
      "    \"Accept\": \"*/*\", \n",
      "    \"Accept-Encoding\": \"gzip, deflate\", \n",
      "    \"Host\": \"httpbin.org\", \n",
      "    \"User-Agent\": \"python-requests/2.21.0\"\n",
      "  }, \n",
      "  \"origin\": \"121.130.89.150, 121.130.89.150\", \n",
      "  \"url\": \"https://httpbin.org/get?key=value&key1=value1\"\n",
      "}\n",
      "\n"
     ]
    }
   ],
   "source": [
    "print(resp.headers)\n",
    "print(resp.text)"
   ]
  },
  {
   "cell_type": "code",
   "execution_count": 44,
   "metadata": {},
   "outputs": [],
   "source": [
    "# post\n",
    "resp = requests.post(url+\"post\", data={\"key\":\"value\", \"key1\":\"value1\"})"
   ]
  },
  {
   "cell_type": "code",
   "execution_count": 45,
   "metadata": {
    "scrolled": true
   },
   "outputs": [
    {
     "name": "stdout",
     "output_type": "stream",
     "text": [
      "{'User-Agent': 'python-requests/2.21.0', 'Accept-Encoding': 'gzip, deflate', 'Accept': '*/*', 'Connection': 'keep-alive', 'Content-Length': '21', 'Content-Type': 'application/x-www-form-urlencoded'}\n",
      "{\n",
      "  \"args\": {}, \n",
      "  \"data\": \"\", \n",
      "  \"files\": {}, \n",
      "  \"form\": {\n",
      "    \"key\": \"value\", \n",
      "    \"key1\": \"value1\"\n",
      "  }, \n",
      "  \"headers\": {\n",
      "    \"Accept\": \"*/*\", \n",
      "    \"Accept-Encoding\": \"gzip, deflate\", \n",
      "    \"Content-Length\": \"21\", \n",
      "    \"Content-Type\": \"application/x-www-form-urlencoded\", \n",
      "    \"Host\": \"httpbin.org\", \n",
      "    \"User-Agent\": \"python-requests/2.21.0\"\n",
      "  }, \n",
      "  \"json\": null, \n",
      "  \"origin\": \"121.130.89.150, 121.130.89.150\", \n",
      "  \"url\": \"https://httpbin.org/post\"\n",
      "}\n",
      "\n"
     ]
    }
   ],
   "source": [
    "print(resp.request.headers)\n",
    "print(resp.text)"
   ]
  },
  {
   "cell_type": "code",
   "execution_count": 46,
   "metadata": {},
   "outputs": [],
   "source": [
    "# put\n",
    "resp = requests.put(url+\"put\", data={\"key\":\"value\", \"key1\":\"value1\"})"
   ]
  },
  {
   "cell_type": "code",
   "execution_count": 47,
   "metadata": {},
   "outputs": [
    {
     "name": "stdout",
     "output_type": "stream",
     "text": [
      "{'User-Agent': 'python-requests/2.21.0', 'Accept-Encoding': 'gzip, deflate', 'Accept': '*/*', 'Connection': 'keep-alive', 'Content-Length': '21', 'Content-Type': 'application/x-www-form-urlencoded'}\n",
      "{\n",
      "  \"args\": {}, \n",
      "  \"data\": \"\", \n",
      "  \"files\": {}, \n",
      "  \"form\": {\n",
      "    \"key\": \"value\", \n",
      "    \"key1\": \"value1\"\n",
      "  }, \n",
      "  \"headers\": {\n",
      "    \"Accept\": \"*/*\", \n",
      "    \"Accept-Encoding\": \"gzip, deflate\", \n",
      "    \"Content-Length\": \"21\", \n",
      "    \"Content-Type\": \"application/x-www-form-urlencoded\", \n",
      "    \"Host\": \"httpbin.org\", \n",
      "    \"User-Agent\": \"python-requests/2.21.0\"\n",
      "  }, \n",
      "  \"json\": null, \n",
      "  \"origin\": \"121.130.89.150, 121.130.89.150\", \n",
      "  \"url\": \"https://httpbin.org/put\"\n",
      "}\n",
      "\n"
     ]
    }
   ],
   "source": [
    "print(resp.request.headers)\n",
    "print(resp.text)"
   ]
  },
  {
   "cell_type": "code",
   "execution_count": 48,
   "metadata": {},
   "outputs": [
    {
     "data": {
      "text/plain": [
       "requests.models.Response"
      ]
     },
     "execution_count": 48,
     "metadata": {},
     "output_type": "execute_result"
    }
   ],
   "source": [
    "type(resp)"
   ]
  },
  {
   "cell_type": "code",
   "execution_count": 49,
   "metadata": {},
   "outputs": [
    {
     "name": "stdout",
     "output_type": "stream",
     "text": [
      "200\n",
      "{'Access-Control-Allow-Credentials': 'true', 'Access-Control-Allow-Origin': '*', 'Content-Encoding': 'gzip', 'Content-Type': 'application/json', 'Date': 'Sat, 09 Mar 2019 01:36:53 GMT', 'Server': 'nginx', 'Content-Length': '270', 'Connection': 'keep-alive'}\n",
      "{'User-Agent': 'python-requests/2.21.0', 'Accept-Encoding': 'gzip, deflate', 'Accept': '*/*', 'Connection': 'keep-alive', 'Content-Length': '21', 'Content-Type': 'application/x-www-form-urlencoded'}\n",
      "key=value&key1=value1\n"
     ]
    }
   ],
   "source": [
    "print(resp.status_code)\n",
    "print(resp.headers)\n",
    "print(resp.request.headers)\n",
    "print(resp.request.body)\n",
    "resp.encoding=\"utf-8\""
   ]
  },
  {
   "cell_type": "markdown",
   "metadata": {},
   "source": [
    "### crawler-test.com 사이트에서 status_code 확인"
   ]
  },
  {
   "cell_type": "markdown",
   "metadata": {},
   "source": [
    "https://www.crawler-test.com/ 사이트를 활용하여 status_code를 확인해 본다."
   ]
  },
  {
   "cell_type": "code",
   "execution_count": 50,
   "metadata": {},
   "outputs": [],
   "source": [
    "base_url = \"https://www.crawler-test.com/status_codes/status_\"   # base_url 뒤에 status_code를 추가하면 해당 상태를 리턴함"
   ]
  },
  {
   "cell_type": "markdown",
   "metadata": {},
   "source": [
    "get 방식 download 함수를 재정의 한다."
   ]
  },
  {
   "cell_type": "code",
   "execution_count": 51,
   "metadata": {},
   "outputs": [],
   "source": [
    "headers = {\"user-agent\": \"Mozilla/5.0\"}\n",
    "base_retries = 3\n",
    "\n",
    "def getDownload(url, param=None, retries=base_retries):\n",
    "    resp = None\n",
    "\n",
    "    try:\n",
    "        resp = requests.get(url, params=param, headers=headers)\n",
    "        resp.raise_for_status()\n",
    "    except requests.exceptions.HTTPError as e:\n",
    "        if 500 <= resp.status_code < 600 and retries > 0:\n",
    "            print(\"Retries: {0}\".format(base_retries - retries + 1))    # retry 값 출력 부분은 강의 내용과 약간 다르게 수정함\n",
    "            return getDownload(url, param, retries - 1)\n",
    "        else:\n",
    "            print(resp.status_code)\n",
    "            print(resp.reason)\n",
    "            print(resp.headers)\n",
    "    \n",
    "    return resp"
   ]
  },
  {
   "cell_type": "code",
   "execution_count": 52,
   "metadata": {},
   "outputs": [
    {
     "data": {
      "text/plain": [
       "<Response [200]>"
      ]
     },
     "execution_count": 52,
     "metadata": {},
     "output_type": "execute_result"
    }
   ],
   "source": [
    "resp = getDownload(base_url+\"200\")\n",
    "resp"
   ]
  },
  {
   "cell_type": "code",
   "execution_count": 53,
   "metadata": {},
   "outputs": [
    {
     "name": "stdout",
     "output_type": "stream",
     "text": [
      "403\n",
      "Forbidden\n",
      "{'Content-Encoding': 'gzip', 'Content-Type': 'text/html', 'Date': 'Sat, 09 Mar 2019 01:36:55 GMT', 'Server': 'nginx/1.10.3', 'Vary': 'Accept-Encoding', 'X-Content-Type-Options': 'nosniff', 'X-Frame-Options': 'SAMEORIGIN', 'X-XSS-Protection': '1; mode=block', 'Content-Length': '46', 'Connection': 'keep-alive'}\n"
     ]
    }
   ],
   "source": [
    "resp = getDownload(base_url+\"403\")"
   ]
  },
  {
   "cell_type": "code",
   "execution_count": 54,
   "metadata": {
    "scrolled": true
   },
   "outputs": [
    {
     "name": "stdout",
     "output_type": "stream",
     "text": [
      "Retries: 1\n",
      "Retries: 2\n",
      "Retries: 3\n",
      "500\n",
      "Internal Server Error\n",
      "{'Content-Encoding': 'gzip', 'Content-Type': 'text/html', 'Date': 'Sat, 09 Mar 2019 01:36:59 GMT', 'Server': 'nginx/1.10.3', 'Vary': 'Accept-Encoding', 'X-Content-Type-Options': 'nosniff', 'X-Frame-Options': 'SAMEORIGIN', 'X-XSS-Protection': '1; mode=block', 'Content-Length': '46', 'Connection': 'keep-alive'}\n"
     ]
    }
   ],
   "source": [
    "resp = getDownload(base_url+\"500\")"
   ]
  },
  {
   "cell_type": "markdown",
   "metadata": {},
   "source": [
    "## cookie/session 이용하기"
   ]
  },
  {
   "cell_type": "markdown",
   "metadata": {},
   "source": [
    "### postDownload 함수 만들기"
   ]
  },
  {
   "cell_type": "code",
   "execution_count": 55,
   "metadata": {},
   "outputs": [],
   "source": [
    "# postDownload 함수 정의\n",
    "headers = {\"user-agent\": \"Mozilla/5.0\"}  # 상세한 정보는 생략해도 됨\n",
    "base_retries = 3\n",
    "\n",
    "def postDownload(url, data=None, cookie=None, retries=base_retries):\n",
    "    resp = None\n",
    "\n",
    "    try:\n",
    "        resp = requests.post(url, data=data, cookies=cookie, headers=headers)\n",
    "        resp.raise_for_status()\n",
    "    except requests.exceptions.HTTPError as e:\n",
    "        if 500 <= resp.status_code < 600 and retries > 0:\n",
    "            print(\"Retries: {0}\".format(base_retries - retries + 1))\n",
    "            return postDownload(url, data, cookie, retries - 1)\n",
    "        else:\n",
    "            print(resp.status_code)\n",
    "            print(resp.reason)\n",
    "            print(resp.headers)\n",
    "    \n",
    "    return resp"
   ]
  },
  {
   "cell_type": "markdown",
   "metadata": {},
   "source": [
    "### pythonscraping.com 사이트에서 post 메서드 동작 확인 해보기"
   ]
  },
  {
   "cell_type": "markdown",
   "metadata": {},
   "source": [
    "- [pythonscraping.com](http://pythonscraping.com/)"
   ]
  },
  {
   "cell_type": "code",
   "execution_count": 56,
   "metadata": {},
   "outputs": [],
   "source": [
    "url = \"http://pythonscraping.com/pages/files/processing.php\""
   ]
  },
  {
   "cell_type": "markdown",
   "metadata": {},
   "source": [
    "- http://pythonscraping.com/pages/files/form.html 사이트에서 submit 하면, <br>\n",
    "   http://pythonscraping.com/pages/files/processing.php 로 redirect 되기 때문에 프로그램에서 호출할 때는<br>\n",
    "   redirect 된 페이지 url을 호출해야 동작함"
   ]
  },
  {
   "cell_type": "code",
   "execution_count": 57,
   "metadata": {},
   "outputs": [],
   "source": [
    "# 파라미터 없이 post 메서드 호출\n",
    "html = postDownload(url)"
   ]
  },
  {
   "cell_type": "code",
   "execution_count": 58,
   "metadata": {},
   "outputs": [
    {
     "name": "stdout",
     "output_type": "stream",
     "text": [
      "200\n",
      "None\n",
      "{'user-agent': 'Mozilla/5.0', 'Accept-Encoding': 'gzip, deflate', 'Accept': '*/*', 'Connection': 'keep-alive', 'Content-Length': '0'}\n",
      "{'Date': 'Sat, 09 Mar 2019 01:37:00 GMT', 'Server': 'Apache', 'Keep-Alive': 'timeout=5, max=100', 'Connection': 'Keep-Alive', 'Transfer-Encoding': 'chunked', 'Content-Type': 'text/html; charset=UTF-8'}\n",
      "Hello there,  !\n"
     ]
    }
   ],
   "source": [
    "print(html.status_code)\n",
    "print(html.request.body)    # data 파라미터에 값이 전달되지 않았음 (None)\n",
    "print(html.request.headers)\n",
    "\n",
    "print(html.headers)\n",
    "print(html.text)"
   ]
  },
  {
   "cell_type": "code",
   "execution_count": 59,
   "metadata": {},
   "outputs": [],
   "source": [
    "# data 파라미터에 요청값 포함하여 post 메서드 호출\n",
    "html = postDownload(url, {\"firstname\":\"alex\", \"lastname\":\"이\"})    # data={\"firstname\":\"alex\", \"lastname\":\"이\"}"
   ]
  },
  {
   "cell_type": "code",
   "execution_count": 60,
   "metadata": {
    "scrolled": true
   },
   "outputs": [
    {
     "name": "stdout",
     "output_type": "stream",
     "text": [
      "200\n",
      "firstname=alex&lastname=%EC%9D%B4\n",
      "{'user-agent': 'Mozilla/5.0', 'Accept-Encoding': 'gzip, deflate', 'Accept': '*/*', 'Connection': 'keep-alive', 'Content-Length': '33', 'Content-Type': 'application/x-www-form-urlencoded'}\n",
      "{'Date': 'Sat, 09 Mar 2019 01:37:00 GMT', 'Server': 'Apache', 'Keep-Alive': 'timeout=5, max=100', 'Connection': 'Keep-Alive', 'Transfer-Encoding': 'chunked', 'Content-Type': 'text/html; charset=UTF-8'}\n",
      "Hello there, alex 이!\n"
     ]
    }
   ],
   "source": [
    "print(html.status_code)\n",
    "print(html.request.body)\n",
    "print(html.request.headers)\n",
    "\n",
    "print(html.headers)\n",
    "print(html.text)"
   ]
  },
  {
   "cell_type": "code",
   "execution_count": 61,
   "metadata": {},
   "outputs": [
    {
     "name": "stdout",
     "output_type": "stream",
     "text": [
      "200\n",
      "None\n",
      "{'user-agent': 'Mozilla/5.0', 'Accept-Encoding': 'gzip, deflate', 'Accept': '*/*', 'Connection': 'keep-alive'}\n",
      "{'Date': 'Sat, 09 Mar 2019 01:37:01 GMT', 'Server': 'Apache', 'Keep-Alive': 'timeout=5, max=100', 'Connection': 'Keep-Alive', 'Transfer-Encoding': 'chunked', 'Content-Type': 'text/html; charset=UTF-8'}\n",
      "Hello there,  !\n"
     ]
    }
   ],
   "source": [
    "# get 메서드로 호출해보기\n",
    "html = getDownload(url, {\"firstname\":\"alex\", \"lastname\":\"이\"})     # 해당 url은 get 메서드는 지원하지 않음\n",
    "print(html.status_code)\n",
    "print(html.request.body)\n",
    "print(html.request.headers)\n",
    "print(html.headers)\n",
    "print(html.text)"
   ]
  },
  {
   "cell_type": "markdown",
   "metadata": {},
   "source": [
    "### pythonscraping.com 사이트에서 cookie 동작 확인 해보기"
   ]
  },
  {
   "cell_type": "code",
   "execution_count": 62,
   "metadata": {},
   "outputs": [],
   "source": [
    "# login 사이트(http://pythonscraping.com/pages/cookies/login.html)는 cookie를 요구함. login 사이트에 접속해서 form에서 전달하는 key명칭을 확인한다.\n",
    "url = \"http://pythonscraping.com/pages/cookies/welcome.php\"    # redirect 되는 페이지"
   ]
  },
  {
   "cell_type": "code",
   "execution_count": 63,
   "metadata": {},
   "outputs": [],
   "source": [
    "html = postDownload(url, {\"username\":\"test\", \"password\":\"password\"})    # login 사이트에서 확인한 key명칭을 사용하여 value 전달"
   ]
  },
  {
   "cell_type": "code",
   "execution_count": 64,
   "metadata": {},
   "outputs": [
    {
     "name": "stdout",
     "output_type": "stream",
     "text": [
      "200\n",
      "username=test&password=password\n",
      "{'user-agent': 'Mozilla/5.0', 'Accept-Encoding': 'gzip, deflate', 'Accept': '*/*', 'Connection': 'keep-alive', 'Content-Length': '31', 'Content-Type': 'application/x-www-form-urlencoded'}\n",
      "{'Date': 'Sat, 09 Mar 2019 01:37:01 GMT', 'Server': 'Apache', 'Set-Cookie': 'loggedin=1, username=test', 'Keep-Alive': 'timeout=5, max=100', 'Connection': 'Keep-Alive', 'Transfer-Encoding': 'chunked', 'Content-Type': 'text/html; charset=UTF-8'}\n",
      "\n",
      "<h2>Welcome to the Website!</h2>\n",
      "Whoops! You logged in wrong. Try again with any username, and the password \"password\"<br><a href=\"login.html\">Log in here</a>\n"
     ]
    }
   ],
   "source": [
    "print(html.status_code)\n",
    "print(html.request.body)\n",
    "print(html.request.headers)\n",
    "print(html.headers)\n",
    "print(html.text)"
   ]
  },
  {
   "cell_type": "markdown",
   "metadata": {},
   "source": [
    "- cookie를 전달하지 않아서 login 되지 않았음"
   ]
  },
  {
   "cell_type": "code",
   "execution_count": 65,
   "metadata": {},
   "outputs": [],
   "source": [
    "cookie = html.cookies.get_dict()    # response 된 객체로부터 cookie 값을 얻음"
   ]
  },
  {
   "cell_type": "code",
   "execution_count": 66,
   "metadata": {},
   "outputs": [],
   "source": [
    "html = postDownload(url, {\"username\":\"test\", \"password\":\"password\"}, cookie)    # cookie 값을 포함하여 login 시도"
   ]
  },
  {
   "cell_type": "code",
   "execution_count": 67,
   "metadata": {},
   "outputs": [
    {
     "name": "stdout",
     "output_type": "stream",
     "text": [
      "200\n",
      "username=test&password=password\n",
      "{'user-agent': 'Mozilla/5.0', 'Accept-Encoding': 'gzip, deflate', 'Accept': '*/*', 'Connection': 'keep-alive', 'Cookie': 'loggedin=1; username=test', 'Content-Length': '31', 'Content-Type': 'application/x-www-form-urlencoded'}\n",
      "{'Date': 'Sat, 09 Mar 2019 01:37:02 GMT', 'Server': 'Apache', 'Set-Cookie': 'loggedin=1, username=test', 'Keep-Alive': 'timeout=5, max=100', 'Connection': 'Keep-Alive', 'Transfer-Encoding': 'chunked', 'Content-Type': 'text/html; charset=UTF-8'}\n",
      "\n",
      "<h2>Welcome to the Website!</h2>\n",
      "You have logged in successfully! <br><a href=\"profile.php\">Check out your profile!</a>\n"
     ]
    }
   ],
   "source": [
    "print(html.status_code)\n",
    "print(html.request.body)\n",
    "print(html.request.headers)\n",
    "print(html.headers)\n",
    "print(html.text)"
   ]
  },
  {
   "cell_type": "markdown",
   "metadata": {},
   "source": [
    "### pythonscraping.com 사이트에서 session 이용해보기"
   ]
  },
  {
   "cell_type": "code",
   "execution_count": 68,
   "metadata": {},
   "outputs": [],
   "source": [
    "url = \"http://pythonscraping.com/pages/cookies/welcome.php\""
   ]
  },
  {
   "cell_type": "code",
   "execution_count": 69,
   "metadata": {},
   "outputs": [],
   "source": [
    "# session 객체 내에 있는 get/post 메서드를 사용하면 session 정보를 자동으로 관리해줌\n",
    "session = requests.Session()\n",
    "# session.get(url)"
   ]
  },
  {
   "cell_type": "code",
   "execution_count": 70,
   "metadata": {},
   "outputs": [],
   "source": [
    "html = session.post(url, data={\"username\":\"test\", \"password\":\"password\"})    # 처음 호출 했을 때 로그인은 실패하지만, session 객체가 cookie 값을 받음\n",
    "\n",
    "html = session.post(url, data={\"username\":\"test\", \"password\":\"password\"})    # 재호출 하면 정상 로그인됨"
   ]
  },
  {
   "cell_type": "code",
   "execution_count": 71,
   "metadata": {},
   "outputs": [
    {
     "name": "stdout",
     "output_type": "stream",
     "text": [
      "200\n",
      "username=test&password=password\n",
      "{'User-Agent': 'python-requests/2.21.0', 'Accept-Encoding': 'gzip, deflate', 'Accept': '*/*', 'Connection': 'keep-alive', 'Cookie': 'loggedin=1; username=test', 'Content-Length': '31', 'Content-Type': 'application/x-www-form-urlencoded'}\n",
      "{'Date': 'Sat, 09 Mar 2019 01:37:02 GMT', 'Server': 'Apache', 'Set-Cookie': 'loggedin=1, username=test', 'Keep-Alive': 'timeout=5, max=99', 'Connection': 'Keep-Alive', 'Transfer-Encoding': 'chunked', 'Content-Type': 'text/html; charset=UTF-8'}\n",
      "\n",
      "<h2>Welcome to the Website!</h2>\n",
      "You have logged in successfully! <br><a href=\"profile.php\">Check out your profile!</a>\n"
     ]
    }
   ],
   "source": [
    "print(html.status_code)\n",
    "print(html.request.body)\n",
    "print(html.request.headers)\n",
    "print(html.headers)\n",
    "print(html.text)"
   ]
  },
  {
   "cell_type": "markdown",
   "metadata": {},
   "source": [
    "## 공공데이터포털 데이터 활용하기"
   ]
  },
  {
   "cell_type": "markdown",
   "metadata": {},
   "source": [
    "[공공데이터포털](https://www.data.go.kr/) 회원가입, 데이터 활용 신청, 키 발급 후 1시간 경과하면 이용 가능하다.(상세기능정보의 미리보기 기능으로 확인 가능)\n",
    "\n",
    "해당 사이트에 첨부된 문서를 참고해도 되지만,<br>\n",
    "상세기능정보 미리보기에서 생성된 URL과 파라미터를 아래와 같이 편집하여 사용한다.\n",
    "\n",
    "- 아래 예는 \"시도별 실시간 측정정보 조회\" 미리보기를 했을 때 보여주는 화면의 URL 이다. \n",
    "- 파라미터에는 _returnType을 추가해준다.\n",
    "- serviceKey 는 각자 상이합니다."
   ]
  },
  {
   "cell_type": "code",
   "execution_count": 72,
   "metadata": {},
   "outputs": [],
   "source": [
    "url = \"http://openapi.airkorea.or.kr/openapi/services/rest/ArpltnInforInqireSvc/getCtprvnRltmMesureDnsty\"\n",
    "\n",
    "param = {    \n",
    "    \"serviceKey\":\"g%2FYLqRzCjV7pKTz%2BC9G5ntbXmJrCXuB2BDiV9crEksH5lKVqt6tLWJRHIKckE0avIPYeBiqVman%2FqgPr1xILdg%3D%3D\",\n",
    "    \"numOfRows\":\"20\",\n",
    "    \"pageNo\":\"1\",\n",
    "    \"sidoName\":\"서울\",\n",
    "    \"ver\":\"1.3\",\n",
    "    \"_returnType\":\"json\"\n",
    "}"
   ]
  },
  {
   "cell_type": "markdown",
   "metadata": {},
   "source": [
    "serviceKey는 utf-8로 제공되지만, 해당 사이트는 binary를 요구하기 때문에 변환 해준다."
   ]
  },
  {
   "cell_type": "code",
   "execution_count": 73,
   "metadata": {},
   "outputs": [],
   "source": [
    "param['serviceKey'] = requests.utils.unquote(param['serviceKey'])    # string to binary"
   ]
  },
  {
   "cell_type": "code",
   "execution_count": 74,
   "metadata": {},
   "outputs": [],
   "source": [
    "html = getDownload(url, param=param)"
   ]
  },
  {
   "cell_type": "code",
   "execution_count": 75,
   "metadata": {
    "scrolled": true
   },
   "outputs": [],
   "source": [
    "# html.text"
   ]
  },
  {
   "cell_type": "markdown",
   "metadata": {},
   "source": [
    "### json 패키지 사용하기"
   ]
  },
  {
   "cell_type": "code",
   "execution_count": 76,
   "metadata": {},
   "outputs": [],
   "source": [
    "import json"
   ]
  },
  {
   "cell_type": "code",
   "execution_count": 77,
   "metadata": {},
   "outputs": [
    {
     "ename": "JSONDecodeError",
     "evalue": "Expecting value: line 1 column 1 (char 0)",
     "output_type": "error",
     "traceback": [
      "\u001b[0;31m---------------------------------------------------------------------------\u001b[0m",
      "\u001b[0;31mJSONDecodeError\u001b[0m                           Traceback (most recent call last)",
      "\u001b[0;32m<ipython-input-77-a61cff6522a7>\u001b[0m in \u001b[0;36m<module>\u001b[0;34m\u001b[0m\n\u001b[0;32m----> 1\u001b[0;31m \u001b[0mresult\u001b[0m \u001b[0;34m=\u001b[0m \u001b[0mjson\u001b[0m\u001b[0;34m.\u001b[0m\u001b[0mloads\u001b[0m\u001b[0;34m(\u001b[0m\u001b[0mhtml\u001b[0m\u001b[0;34m.\u001b[0m\u001b[0mtext\u001b[0m\u001b[0;34m)\u001b[0m\u001b[0;34m\u001b[0m\u001b[0;34m\u001b[0m\u001b[0m\n\u001b[0m",
      "\u001b[0;32m~/anaconda3/envs/nlp/lib/python3.6/json/__init__.py\u001b[0m in \u001b[0;36mloads\u001b[0;34m(s, encoding, cls, object_hook, parse_float, parse_int, parse_constant, object_pairs_hook, **kw)\u001b[0m\n\u001b[1;32m    352\u001b[0m             \u001b[0mparse_int\u001b[0m \u001b[0;32mis\u001b[0m \u001b[0;32mNone\u001b[0m \u001b[0;32mand\u001b[0m \u001b[0mparse_float\u001b[0m \u001b[0;32mis\u001b[0m \u001b[0;32mNone\u001b[0m \u001b[0;32mand\u001b[0m\u001b[0;34m\u001b[0m\u001b[0;34m\u001b[0m\u001b[0m\n\u001b[1;32m    353\u001b[0m             parse_constant is None and object_pairs_hook is None and not kw):\n\u001b[0;32m--> 354\u001b[0;31m         \u001b[0;32mreturn\u001b[0m \u001b[0m_default_decoder\u001b[0m\u001b[0;34m.\u001b[0m\u001b[0mdecode\u001b[0m\u001b[0;34m(\u001b[0m\u001b[0ms\u001b[0m\u001b[0;34m)\u001b[0m\u001b[0;34m\u001b[0m\u001b[0;34m\u001b[0m\u001b[0m\n\u001b[0m\u001b[1;32m    355\u001b[0m     \u001b[0;32mif\u001b[0m \u001b[0mcls\u001b[0m \u001b[0;32mis\u001b[0m \u001b[0;32mNone\u001b[0m\u001b[0;34m:\u001b[0m\u001b[0;34m\u001b[0m\u001b[0;34m\u001b[0m\u001b[0m\n\u001b[1;32m    356\u001b[0m         \u001b[0mcls\u001b[0m \u001b[0;34m=\u001b[0m \u001b[0mJSONDecoder\u001b[0m\u001b[0;34m\u001b[0m\u001b[0;34m\u001b[0m\u001b[0m\n",
      "\u001b[0;32m~/anaconda3/envs/nlp/lib/python3.6/json/decoder.py\u001b[0m in \u001b[0;36mdecode\u001b[0;34m(self, s, _w)\u001b[0m\n\u001b[1;32m    337\u001b[0m \u001b[0;34m\u001b[0m\u001b[0m\n\u001b[1;32m    338\u001b[0m         \"\"\"\n\u001b[0;32m--> 339\u001b[0;31m         \u001b[0mobj\u001b[0m\u001b[0;34m,\u001b[0m \u001b[0mend\u001b[0m \u001b[0;34m=\u001b[0m \u001b[0mself\u001b[0m\u001b[0;34m.\u001b[0m\u001b[0mraw_decode\u001b[0m\u001b[0;34m(\u001b[0m\u001b[0ms\u001b[0m\u001b[0;34m,\u001b[0m \u001b[0midx\u001b[0m\u001b[0;34m=\u001b[0m\u001b[0m_w\u001b[0m\u001b[0;34m(\u001b[0m\u001b[0ms\u001b[0m\u001b[0;34m,\u001b[0m \u001b[0;36m0\u001b[0m\u001b[0;34m)\u001b[0m\u001b[0;34m.\u001b[0m\u001b[0mend\u001b[0m\u001b[0;34m(\u001b[0m\u001b[0;34m)\u001b[0m\u001b[0;34m)\u001b[0m\u001b[0;34m\u001b[0m\u001b[0;34m\u001b[0m\u001b[0m\n\u001b[0m\u001b[1;32m    340\u001b[0m         \u001b[0mend\u001b[0m \u001b[0;34m=\u001b[0m \u001b[0m_w\u001b[0m\u001b[0;34m(\u001b[0m\u001b[0ms\u001b[0m\u001b[0;34m,\u001b[0m \u001b[0mend\u001b[0m\u001b[0;34m)\u001b[0m\u001b[0;34m.\u001b[0m\u001b[0mend\u001b[0m\u001b[0;34m(\u001b[0m\u001b[0;34m)\u001b[0m\u001b[0;34m\u001b[0m\u001b[0;34m\u001b[0m\u001b[0m\n\u001b[1;32m    341\u001b[0m         \u001b[0;32mif\u001b[0m \u001b[0mend\u001b[0m \u001b[0;34m!=\u001b[0m \u001b[0mlen\u001b[0m\u001b[0;34m(\u001b[0m\u001b[0ms\u001b[0m\u001b[0;34m)\u001b[0m\u001b[0;34m:\u001b[0m\u001b[0;34m\u001b[0m\u001b[0;34m\u001b[0m\u001b[0m\n",
      "\u001b[0;32m~/anaconda3/envs/nlp/lib/python3.6/json/decoder.py\u001b[0m in \u001b[0;36mraw_decode\u001b[0;34m(self, s, idx)\u001b[0m\n\u001b[1;32m    355\u001b[0m             \u001b[0mobj\u001b[0m\u001b[0;34m,\u001b[0m \u001b[0mend\u001b[0m \u001b[0;34m=\u001b[0m \u001b[0mself\u001b[0m\u001b[0;34m.\u001b[0m\u001b[0mscan_once\u001b[0m\u001b[0;34m(\u001b[0m\u001b[0ms\u001b[0m\u001b[0;34m,\u001b[0m \u001b[0midx\u001b[0m\u001b[0;34m)\u001b[0m\u001b[0;34m\u001b[0m\u001b[0;34m\u001b[0m\u001b[0m\n\u001b[1;32m    356\u001b[0m         \u001b[0;32mexcept\u001b[0m \u001b[0mStopIteration\u001b[0m \u001b[0;32mas\u001b[0m \u001b[0merr\u001b[0m\u001b[0;34m:\u001b[0m\u001b[0;34m\u001b[0m\u001b[0;34m\u001b[0m\u001b[0m\n\u001b[0;32m--> 357\u001b[0;31m             \u001b[0;32mraise\u001b[0m \u001b[0mJSONDecodeError\u001b[0m\u001b[0;34m(\u001b[0m\u001b[0;34m\"Expecting value\"\u001b[0m\u001b[0;34m,\u001b[0m \u001b[0ms\u001b[0m\u001b[0;34m,\u001b[0m \u001b[0merr\u001b[0m\u001b[0;34m.\u001b[0m\u001b[0mvalue\u001b[0m\u001b[0;34m)\u001b[0m \u001b[0;32mfrom\u001b[0m \u001b[0;32mNone\u001b[0m\u001b[0;34m\u001b[0m\u001b[0;34m\u001b[0m\u001b[0m\n\u001b[0m\u001b[1;32m    358\u001b[0m         \u001b[0;32mreturn\u001b[0m \u001b[0mobj\u001b[0m\u001b[0;34m,\u001b[0m \u001b[0mend\u001b[0m\u001b[0;34m\u001b[0m\u001b[0;34m\u001b[0m\u001b[0m\n",
      "\u001b[0;31mJSONDecodeError\u001b[0m: Expecting value: line 1 column 1 (char 0)"
     ]
    }
   ],
   "source": [
    "result = json.loads(html.text)"
   ]
  },
  {
   "cell_type": "code",
   "execution_count": null,
   "metadata": {},
   "outputs": [],
   "source": [
    "result.keys()"
   ]
  },
  {
   "cell_type": "code",
   "execution_count": null,
   "metadata": {},
   "outputs": [],
   "source": [
    "# result[\"list\"]    # dictionary를 원소로 하는 list (지역별로 하나의 dictionary)"
   ]
  },
  {
   "cell_type": "code",
   "execution_count": null,
   "metadata": {},
   "outputs": [],
   "source": [
    "len(result[\"list\"])   # 파라미터에 20개를 요청 했음"
   ]
  },
  {
   "cell_type": "code",
   "execution_count": null,
   "metadata": {},
   "outputs": [],
   "source": [
    "result[\"list\"][0].keys()   # dictionary에 포함된 키 값을 확인해본다."
   ]
  },
  {
   "cell_type": "code",
   "execution_count": null,
   "metadata": {
    "scrolled": true
   },
   "outputs": [],
   "source": [
    "for row in result[\"list\"]:\n",
    "    print(row[\"stationName\"])"
   ]
  },
  {
   "cell_type": "code",
   "execution_count": null,
   "metadata": {
    "scrolled": true
   },
   "outputs": [],
   "source": [
    "# 통합대기환경지수 나쁜 지역만 출력(1 좋음, 2 보통, 3 나쁨, 4 매우나쁨) : 오늘은 서울에 나쁜 지역 없음\n",
    "for row in result[\"list\"]:\n",
    "    try:\n",
    "        khaiGrade = int(row[\"khaiGrade\"])\n",
    "        if(khaiGrade >= 3):\n",
    "            print(row[\"stationName\"], row[\"khaiGrade\"])\n",
    "    except ValueError:\n",
    "        continue"
   ]
  },
  {
   "cell_type": "code",
   "execution_count": null,
   "metadata": {},
   "outputs": [],
   "source": []
  }
 ],
 "metadata": {
  "kernelspec": {
   "display_name": "Python 3",
   "language": "python",
   "name": "python3"
  },
  "language_info": {
   "codemirror_mode": {
    "name": "ipython",
    "version": 3
   },
   "file_extension": ".py",
   "mimetype": "text/x-python",
   "name": "python",
   "nbconvert_exporter": "python",
   "pygments_lexer": "ipython3",
   "version": "3.6.7"
  },
  "toc": {
   "base_numbering": 1,
   "nav_menu": {},
   "number_sections": false,
   "sideBar": true,
   "skip_h1_title": false,
   "title_cell": "Table of Contents",
   "title_sidebar": "Contents",
   "toc_cell": true,
   "toc_position": {},
   "toc_section_display": true,
   "toc_window_display": false
  }
 },
 "nbformat": 4,
 "nbformat_minor": 2
}
