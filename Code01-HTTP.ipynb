{
 "cells": [
  {
   "cell_type": "markdown",
   "metadata": {
    "toc": true
   },
   "source": [
    "<h1>Table of Contents<span class=\"tocSkip\"></span></h1>\n",
    "<div class=\"toc\"><ul class=\"toc-item\"><li><span><a href=\"#builtwith-패키지-사용하기\" data-toc-modified-id=\"builtwith-패키지-사용하기-1\">builtwith 패키지 사용하기</a></span></li><li><span><a href=\"#urllib-패키지-사용하기\" data-toc-modified-id=\"urllib-패키지-사용하기-2\">urllib 패키지 사용하기</a></span><ul class=\"toc-item\"><li><span><a href=\"#urllib.robotparser\" data-toc-modified-id=\"urllib.robotparser-2.1\">urllib.robotparser</a></span></li><li><span><a href=\"#rullib.request\" data-toc-modified-id=\"rullib.request-2.2\">rullib.request</a></span></li><li><span><a href=\"#urllib.error\" data-toc-modified-id=\"urllib.error-2.3\">urllib.error</a></span></li><li><span><a href=\"#get-방식-download-함수-만들기\" data-toc-modified-id=\"get-방식-download-함수-만들기-2.4\">get 방식 download 함수 만들기</a></span></li><li><span><a href=\"#urllib.parse\" data-toc-modified-id=\"urllib.parse-2.5\">urllib.parse</a></span></li></ul></li><li><span><a href=\"#requests-패키지-사용하기\" data-toc-modified-id=\"requests-패키지-사용하기-3\">requests 패키지 사용하기</a></span><ul class=\"toc-item\"><li><span><a href=\"#requests.request\" data-toc-modified-id=\"requests.request-3.1\">requests.request</a></span></li><li><span><a href=\"#requests.get\" data-toc-modified-id=\"requests.get-3.2\">requests.get</a></span></li><li><span><a href=\"#requests-패키지로-get-방식-download-함수-재정의\" data-toc-modified-id=\"requests-패키지로-get-방식-download-함수-재정의-3.3\">requests 패키지로 get 방식 download 함수 재정의</a></span></li><li><span><a href=\"#requests-패키지-get/post/put-매서드-파라미터\" data-toc-modified-id=\"requests-패키지-get/post/put-매서드-파라미터-3.4\">requests 패키지 get/post/put 매서드 파라미터</a></span></li><li><span><a href=\"#crawler-test.com-사이트에서-status_code-확인\" data-toc-modified-id=\"crawler-test.com-사이트에서-status_code-확인-3.5\">crawler-test.com 사이트에서 status_code 확인</a></span></li></ul></li><li><span><a href=\"#cookie/session-이용하기\" data-toc-modified-id=\"cookie/session-이용하기-4\">cookie/session 이용하기</a></span><ul class=\"toc-item\"><li><span><a href=\"#postDownload-함수-만들기\" data-toc-modified-id=\"postDownload-함수-만들기-4.1\">postDownload 함수 만들기</a></span></li><li><span><a href=\"#pythonscraping.com-사이트에서-post-메서드-동작-확인-해보기\" data-toc-modified-id=\"pythonscraping.com-사이트에서-post-메서드-동작-확인-해보기-4.2\">pythonscraping.com 사이트에서 post 메서드 동작 확인 해보기</a></span></li><li><span><a href=\"#pythonscraping.com-사이트에서-cookie-동작-확인-해보기\" data-toc-modified-id=\"pythonscraping.com-사이트에서-cookie-동작-확인-해보기-4.3\">pythonscraping.com 사이트에서 cookie 동작 확인 해보기</a></span></li><li><span><a href=\"#pythonscraping.com-사이트에서-session-이용해보기\" data-toc-modified-id=\"pythonscraping.com-사이트에서-session-이용해보기-4.4\">pythonscraping.com 사이트에서 session 이용해보기</a></span></li></ul></li><li><span><a href=\"#공공데이터포털-데이터-활용하기\" data-toc-modified-id=\"공공데이터포털-데이터-활용하기-5\">공공데이터포털 데이터 활용하기</a></span><ul class=\"toc-item\"><li><span><a href=\"#json-패키지-사용하기\" data-toc-modified-id=\"json-패키지-사용하기-5.1\">json 패키지 사용하기</a></span></li></ul></li></ul></div>"
   ]
  },
  {
   "cell_type": "markdown",
   "metadata": {},
   "source": [
    "`documents 폴더에 있는 \"02. HTTP - 비정형 데이터 - HTTP_Urllib_Requests.pptx\"(day2)와 \n",
    "\"04.20190307(인공지능 고급반) - cookie_session.html\"(day4) 강의 내용에 대한 실습 코드 입니다.`"
   ]
  },
  {
   "cell_type": "markdown",
   "metadata": {},
   "source": [
    "## builtwith 패키지 사용하기"
   ]
  },
  {
   "cell_type": "code",
   "execution_count": 1,
   "metadata": {},
   "outputs": [],
   "source": [
    "# !pip install builtwith"
   ]
  },
  {
   "cell_type": "code",
   "execution_count": 2,
   "metadata": {},
   "outputs": [],
   "source": [
    "from builtwith import builtwith"
   ]
  },
  {
   "cell_type": "code",
   "execution_count": 5,
   "metadata": {},
   "outputs": [
    {
     "data": {
      "text/plain": [
       "{'web-servers': ['Nginx'],\n",
       " 'font-scripts': ['Google Font API'],\n",
       " 'ecommerce': ['WooCommerce'],\n",
       " 'cms': ['WordPress'],\n",
       " 'programming-languages': ['PHP'],\n",
       " 'blogs': ['PHP', 'WordPress']}"
      ]
     },
     "execution_count": 5,
     "metadata": {},
     "output_type": "execute_result"
    }
   ],
   "source": [
    "builtwith('http://wordpress.com')"
   ]
  },
  {
   "cell_type": "markdown",
   "metadata": {},
   "source": [
    "## urllib 패키지 사용하기"
   ]
  },
  {
   "cell_type": "markdown",
   "metadata": {},
   "source": [
    "### urllib.robotparser"
   ]
  },
  {
   "cell_type": "code",
   "execution_count": 6,
   "metadata": {},
   "outputs": [],
   "source": [
    "from urllib import robotparser    # 실제 잘 사용하지 않음"
   ]
  },
  {
   "cell_type": "code",
   "execution_count": 7,
   "metadata": {},
   "outputs": [],
   "source": [
    "robot = robotparser.RobotFileParser()\n",
    "robot.set_url('https://www.google.com')\n",
    "robot.read()"
   ]
  },
  {
   "cell_type": "code",
   "execution_count": 8,
   "metadata": {},
   "outputs": [
    {
     "data": {
      "text/plain": [
       "True"
      ]
     },
     "execution_count": 8,
     "metadata": {},
     "output_type": "execute_result"
    }
   ],
   "source": [
    "robot.can_fetch('AgentName', 'https://www.naver.com/search/about')"
   ]
  },
  {
   "cell_type": "markdown",
   "metadata": {},
   "source": [
    "### rullib.request"
   ]
  },
  {
   "cell_type": "code",
   "execution_count": 9,
   "metadata": {},
   "outputs": [],
   "source": [
    "from urllib import request"
   ]
  },
  {
   "cell_type": "code",
   "execution_count": 10,
   "metadata": {},
   "outputs": [],
   "source": [
    "resp = request.urlopen('https://www.google.com/search')"
   ]
  },
  {
   "cell_type": "code",
   "execution_count": 11,
   "metadata": {},
   "outputs": [
    {
     "data": {
      "text/plain": [
       "http.client.HTTPResponse"
      ]
     },
     "execution_count": 11,
     "metadata": {},
     "output_type": "execute_result"
    }
   ],
   "source": [
    "type(resp)"
   ]
  },
  {
   "cell_type": "code",
   "execution_count": 12,
   "metadata": {},
   "outputs": [
    {
     "data": {
      "text/plain": [
       "'https://www.google.com/webhp'"
      ]
     },
     "execution_count": 12,
     "metadata": {},
     "output_type": "execute_result"
    }
   ],
   "source": [
    "resp.geturl()    # 내가 요청한 URL이 아닌, 서버에서 redirect를 거쳐 실제 return 받은 URL"
   ]
  },
  {
   "cell_type": "code",
   "execution_count": 13,
   "metadata": {},
   "outputs": [
    {
     "data": {
      "text/plain": [
       "[('Date', 'Thu, 07 Mar 2019 18:13:09 GMT'),\n",
       " ('Expires', '-1'),\n",
       " ('Cache-Control', 'private, max-age=0'),\n",
       " ('Content-Type', 'text/html; charset=ISO-8859-1'),\n",
       " ('P3P', 'CP=\"This is not a P3P policy! See g.co/p3phelp for more info.\"'),\n",
       " ('Server', 'gws'),\n",
       " ('X-XSS-Protection', '1; mode=block'),\n",
       " ('X-Frame-Options', 'SAMEORIGIN'),\n",
       " ('Set-Cookie',\n",
       "  '1P_JAR=2019-03-07-18; expires=Sat, 06-Apr-2019 18:13:09 GMT; path=/; domain=.google.com'),\n",
       " ('Set-Cookie',\n",
       "  'NID=162=wDJEOACBneGOV5QlXZsTSoZLtg32YHa5htlcLcOlKJFm_38uxnAvP7K03ue0s5RjQWhuVk7pYplyB82qkZWr9olZ6OZjeXEb4ji-fE8A23na0F7hC-Lyz5GSMMEYTDYZTb89F4M2nOG2U39mOq4d0W8c0LKjV-q1sjmx1JhE_Ig; expires=Fri, 06-Sep-2019 18:13:09 GMT; path=/; domain=.google.com; HttpOnly'),\n",
       " ('Alt-Svc', 'quic=\":443\"; ma=2592000; v=\"46,44,43,39\"'),\n",
       " ('Accept-Ranges', 'none'),\n",
       " ('Vary', 'Accept-Encoding'),\n",
       " ('Connection', 'close')]"
      ]
     },
     "execution_count": 13,
     "metadata": {},
     "output_type": "execute_result"
    }
   ],
   "source": [
    "resp.getheaders()"
   ]
  },
  {
   "cell_type": "code",
   "execution_count": 14,
   "metadata": {},
   "outputs": [],
   "source": [
    "resp = request.urlopen('https://www.google.com')"
   ]
  },
  {
   "cell_type": "code",
   "execution_count": 15,
   "metadata": {
    "scrolled": true
   },
   "outputs": [
    {
     "data": {
      "text/plain": [
       "b'<!doctype html><html itemscope=\"\" itemtype=\"http://schema.org/WebPage\" lang=\"ko\"><head><meta content=\"text/html; charset=UTF-8\" http-equiv=\"Content-Type\"><meta content=\"/logos/doodles/2019/international-womens-day-2019-5962170041892864.11-l.png\" itemprop=\"image\"><meta content=\"2019 &#49464;&#44228; &#50668;&#49457;&#51032; &#45216;\" property=\"twitter:title\"><meta content=\"&#49464;&#44228; &#50668;&#49457;&#51032; &#45216; &#44592;&#45392; #Google&#44592;&#45392;&#51068;&#47196;&#44256;\" property=\"twitter:description\"><meta content=\"&#49464;&#44228; &#50668;&#49457;&#51032; &#45216; &#44592;&#45392; #Google&#44592;&#45392;&#51068;&#47196;&#44256;\" property=\"og:description\"><meta content=\"summary_large_image\" property=\"twitter:card\"><meta content=\"@GoogleDoodles\" property=\"twitter:site\"><meta content=\"https://www.google.com/logos/doodles/2019/international-womens-day-2019-5962170041892864.6-2xa.gif\" property=\"twitter:image\"><meta content=\"https://www.google.com/logos/doodles/2019/international-womens-day-2019-5962170041892864.6-2xa.gif\" property=\"og:image\"><meta content=\"1136\" property=\"og:image:width\"><meta content=\"460\" property=\"og:image:height\"><meta content=\"https://www.google.com/logos/doodles/2019/international-womens-day-2019-5962170041892864.6-2xa.gif\" property=\"og:url\"><meta content=\"video.other\" property=\"og:type\"><title>Google</title><script nonce=\"grdb1+QdHoYoe5qqMLcE1g==\">(function(){window.google={kEI:\\'P1-BXMjNLJnfmAW0v7LYBw\\',kEXPI:\\'0,1353747,57,1958,1016,1406,698,527,731,223,1223,352,30,1227,385,421,950,139,68,256,260,351,78,56,147,53,2333956,329500,1294,12383,4855,32692,15247,867,12163,16521,363,3320,1263,4242,2436,266,5107,575,835,284,2,1306,2432,1361,4323,4967,774,2251,3272,1471,1151,2,1965,2595,1021,2580,669,1050,1808,1129,268,81,7,491,620,29,1395,442,536,3328,3394,1209,318,559,411,2,83,471,32,2521,900,796,88,1132,38,363,557,270,449,20,1,14,119,1217,1364,346,1,137,47,1081,541,2194,1558,1245,258,2,632,216,923,1422,2,4,2,573,105,36,935,1252,598,98,1421,354,125,1492,1115,632,464,671,4,275,350,25,402,43,650,20,39,279,55,199,2,1336,1778,539,609,1315,486,122,70,2,25,207,549,85,1,12,392,29,77,323,376,2,510,104,456,829,8,85,211,20,121,679,70,176,78,365,19,14,764,21,188,9,68,149,315,7,271,64,69,609,3,14,10,4,119,67,168,376,175,762,43,42,202,10,347,107,9,1,2,283,237,527,36,6,262,5954651,2553,255,72,2,5997507,2799950,4,248,1324,549,333,444,1,2,80,1,900,576,16,304,1,8,1,2,2132,1,1,1,1,1,414,1,748,141,59,726,3,7,563,1,1028,134,1,10,18\\',authuser:0,kscs:\\'c9c918f0_P1-BXMjNLJnfmAW0v7LYBw\\',kGL:\\'KR\\'};google.sn=\\'webhp\\';google.kHL=\\'ko\\';})();(function(){google.lc=[];google.li=0;google.getEI=function(a){for(var b;a&&(!a.getAttribute||!(b=a.getAttribute(\"eid\")));)a=a.parentNode;return b||google.kEI};google.getLEI=function(a){for(var b=null;a&&(!a.getAttribute||!(b=a.getAttribute(\"leid\")));)a=a.parentNode;return b};google.https=function(){return\"https:\"==window.location.protocol};google.ml=function(){return null};google.time=function(){return(new Date).getTime()};google.log=function(a,b,e,c,g){if(a=google.logUrl(a,b,e,c,g)){b=new Image;var d=google.lc,f=google.li;d[f]=b;b.onerror=b.onload=b.onabort=function(){delete d[f]};google.vel&&google.vel.lu&&google.vel.lu(a);b.src=a;google.li=f+1}};google.logUrl=function(a,b,e,c,g){var d=\"\",f=google.ls||\"\";e||-1!=b.search(\"&ei=\")||(d=\"&ei=\"+google.getEI(c),-1==b.search(\"&lei=\")&&(c=google.getLEI(c))&&(d+=\"&lei=\"+c));c=\"\";!e&&google.cshid&&-1==b.search(\"&cshid=\")&&\"slh\"!=a&&(c=\"&cshid=\"+google.cshid);a=e||\"/\"+(g||\"gen_204\")+\"?atyp=i&ct=\"+a+\"&cad=\"+b+d+f+\"&zx=\"+google.time()+c;/^http:/i.test(a)&&google.https()&&(google.ml(Error(\"a\"),!1,{src:a,glmm:1}),a=\"\");return a};}).call(this);(function(){google.y={};google.x=function(a,b){if(a)var c=a.id;else{do c=Math.random();while(google.y[c])}google.y[c]=[a,b];return!1};google.lm=[];google.plm=function(a){google.lm.push.apply(google.lm,a)};google.lq=[];google.load=function(a,b,c){google.lq.push([[a],b,c])};google.loadAll=function(a,b){google.lq.push([a,b])};}).call(this);google.f={};</script><script nonce=\"grdb1+QdHoYoe5qqMLcE1g==\">var a=window.location,b=a.href.indexOf(\"#\");if(0<=b){var c=a.href.substring(b+1);/(^|&)q=/.test(c)&&-1==c.indexOf(\"#\")&&a.replace(\"/search?\"+c.replace(/(^|&)fp=[^&]*/g,\"\")+\"&cad=h\")};</script><style>#gbar,#guser{font-size:13px;padding-top:1px !important;}#gbar{height:22px}#guser{padding-bottom:7px !important;text-align:right}.gbh,.gbd{border-top:1px solid #c9d7f1;font-size:1px}.gbh{height:0;position:absolute;top:24px;width:100%}@media all{.gb1{height:22px;margin-right:.5em;vertical-align:top}#gbar{float:left}}a.gb1,a.gb4{text-decoration:underline !important}a.gb1,a.gb4{color:#00c !important}.gbi .gb4{color:#dd8e27 !important}.gbf .gb4{color:#900 !important}\\n</style><style>body,td,a,p,.h{font-family:&#44404;&#47548;,&#46027;&#50880;,arial,sans-serif}.ko{font-size:9pt}body{margin:0;overflow-y:scroll}#gog{padding:3px 8px 0}td{line-height:.8em}.gac_m td{line-height:17px}form{margin-bottom:20px}.h{color:#36c}.q{color:#00c}.ts td{padding:0}.ts{border-collapse:collapse}em{font-weight:bold;font-style:normal}.lst{height:25px;width:496px}.gsfi,.lst{font:18px arial,sans-serif}.gsfs{font:17px arial,sans-serif}.ds{display:inline-box;display:inline-block;margin:3px 0 4px;margin-left:4px}input{font-family:inherit}a.gb1,a.gb2,a.gb3,a.gb4{color:#11c !important}body{background:#fff;color:black}a{color:#11c;text-decoration:none}a:hover,a:active{text-decoration:underline}.fl a{color:#36c}a:visited{color:#551a8b}a.gb1,a.gb4{text-decoration:underline}a.gb3:hover{text-decoration:none}#ghead a.gb2:hover{color:#fff !important}.sblc{padding-top:5px}.sblc a{display:block;margin:2px 0;margin-left:13px;font-size:11px}.lsbb{background:#eee;border:solid 1px;border-color:#ccc #999 #999 #ccc;height:30px}.lsbb{display:block}.ftl,#fll a{display:inline-block;margin:0 12px}.lsb{background:url(/images/nav_logo229.png) 0 -261px repeat-x;border:none;color:#000;cursor:pointer;height:30px;margin:0;outline:0;font:15px arial,sans-serif;vertical-align:top}.lsb:active{background:#ccc}.lst:focus{outline:none}.tiah{width:458px}</style><script nonce=\"grdb1+QdHoYoe5qqMLcE1g==\"></script></head><body bgcolor=\"#fff\"><script nonce=\"grdb1+QdHoYoe5qqMLcE1g==\">(function(){var src=\\'/images/nav_logo229.png\\';var iesg=false;document.body.onload = function(){window.n && window.n();if (document.images){new Image().src=src;}\\nif (!iesg){document.f&&document.f.q.focus();document.gbqf&&document.gbqf.q.focus();}\\n}\\n})();</script><div id=\"mngb\"> <div id=gbar><nobr><b class=gb1>&#44160;&#49353;</b> <a class=gb1 href=\"https://www.google.co.kr/imghp?hl=ko&tab=wi\">&#51060;&#48120;&#51648;</a> <a class=gb1 href=\"https://maps.google.co.kr/maps?hl=ko&tab=wl\">&#51648;&#46020;</a> <a class=gb1 href=\"https://play.google.com/?hl=ko&tab=w8\">Play</a> <a class=gb1 href=\"https://www.youtube.com/?gl=KR&tab=w1\">YouTube</a> <a class=gb1 href=\"https://news.google.co.kr/nwshp?hl=ko&tab=wn\">&#45684;&#49828;</a> <a class=gb1 href=\"https://mail.google.com/mail/?tab=wm\">Gmail</a> <a class=gb1 href=\"https://drive.google.com/?tab=wo\">&#46300;&#46972;&#51060;&#48652;</a> <a class=gb1 style=\"text-decoration:none\" href=\"https://www.google.co.kr/intl/ko/about/products?tab=wh\"><u>&#45908;&#48372;&#44592;</u> &raquo;</a></nobr></div><div id=guser width=100%><nobr><span id=gbn class=gbi></span><span id=gbf class=gbf></span><span id=gbe></span><a href=\"http://www.google.co.kr/history/optout?hl=ko\" class=gb4>&#50937; &#44592;&#47197;</a> | <a  href=\"/preferences?hl=ko\" class=gb4>&#49444;&#51221;</a> | <a target=_top id=gb_70 href=\"https://accounts.google.com/ServiceLogin?hl=ko&passive=true&continue=https://www.google.com/\" class=gb4>&#47196;&#44536;&#51064;</a></nobr></div><div class=gbh style=left:0></div><div class=gbh style=right:0></div> </div><center><br clear=\"all\" id=\"lgpd\"><div id=\"lga\"><a href=\"/search?site=&amp;ie=UTF-8&amp;q=%EC%84%B8%EA%B3%84+%EC%97%AC%EC%84%B1%EC%9D%98+%EB%82%A0&amp;oi=ddle&amp;ct=international-womens-day-2019-5962170041892864&amp;hl=ko&amp;kgmid=/m/01pp4_&amp;sa=X&amp;ved=0ahUKEwiI6Yj90PDgAhWZL6YKHbSfDHsQPQgD\"><img alt=\"2019 &#49464;&#44228; &#50668;&#49457;&#51032; &#45216;\" border=\"0\" height=\"220\" src=\"/logos/doodles/2019/international-womens-day-2019-5962170041892864.11-l.png\" title=\"2019 &#49464;&#44228; &#50668;&#49457;&#51032; &#45216;\" width=\"543\" id=\"hplogo\" onload=\"window.lol&&lol()\"><br></a><br></div><form action=\"/search\" name=\"f\"><table cellpadding=\"0\" cellspacing=\"0\"><tr valign=\"top\"><td width=\"25%\">&nbsp;</td><td align=\"center\" nowrap=\"\"><input name=\"ie\" value=\"ISO-8859-1\" type=\"hidden\"><input value=\"ko\" name=\"hl\" type=\"hidden\"><input name=\"source\" type=\"hidden\" value=\"hp\"><input name=\"biw\" type=\"hidden\"><input name=\"bih\" type=\"hidden\"><div class=\"ds\" style=\"height:32px;margin:4px 0\"><div style=\"position:relative;zoom:1\"><input style=\"color:#000;margin:0;padding:5px 8px 0 6px;vertical-align:top;padding-right:38px\" autocomplete=\"off\" class=\"lst tiah\" value=\"\" title=\"Google &#44160;&#49353;\" maxlength=\"2048\" name=\"q\" size=\"57\"><img src=\"/textinputassistant/tia.png\" style=\"position:absolute;cursor:pointer;right:5px;top:4px;z-index:300\" data-script-url=\"/textinputassistant/11/ko_tia.js\" alt=\"\" height=\"23\" onclick=\"var s=document.createElement(\\'script\\');s.src=this.getAttribute(\\'data-script-url\\');(document.getElementById(\\'xjsc\\')||document.body).appendChild(s);\" width=\"27\"></div></div><br style=\"line-height:0\"><span class=\"ds\"><span class=\"lsbb\"><input class=\"lsb\" value=\"Google &#44160;&#49353;\" name=\"btnG\" type=\"submit\"></span></span><span class=\"ds\"><span class=\"lsbb\"><input class=\"lsb\" value=\"I&#8217;m Feeling Lucky\" name=\"btnI\" onclick=\"if(this.form.q.value)this.checked=1; else top.location=\\'/doodles/\\'\" type=\"submit\"></span></span></td><td class=\"fl sblc\" align=\"left\" nowrap=\"\" width=\"25%\"><a href=\"/advanced_search?hl=ko&amp;authuser=0\">&#44256;&#44553;&#44160;&#49353;</a><a href=\"/language_tools?hl=ko&amp;authuser=0\">&#50616;&#50612;&#46020;&#44396;</a></td></tr></table><input id=\"gbv\" name=\"gbv\" type=\"hidden\" value=\"1\"><script nonce=\"grdb1+QdHoYoe5qqMLcE1g==\">(function(){var a,b=\"1\";if(document&&document.getElementById)if(\"undefined\"!=typeof XMLHttpRequest)b=\"2\";else if(\"undefined\"!=typeof ActiveXObject){var c,d,e=[\"MSXML2.XMLHTTP.6.0\",\"MSXML2.XMLHTTP.3.0\",\"MSXML2.XMLHTTP\",\"Microsoft.XMLHTTP\"];for(c=0;d=e[c++];)try{new ActiveXObject(d),b=\"2\"}catch(h){}}a=b;if(\"2\"==a&&-1==location.search.indexOf(\"&gbv=2\")){var f=google.gbvu,g=document.getElementById(\"gbv\");g&&(g.value=a);f&&window.setTimeout(function(){location.href=f},0)};}).call(this);</script></form><div id=\"gac_scont\"></div><div style=\"font-size:83%;min-height:3.5em\"><br></div><span id=\"footer\"><div style=\"font-size:10pt\"><div style=\"margin:19px auto;text-align:center\" id=\"fll\"><a href=\"/intl/ko/ads/\">&#44305;&#44256; &#54532;&#47196;&#44536;&#47016;</a><a href=\"http://www.google.co.kr/intl/ko/services/\">&#48708;&#51592;&#45768;&#49828; &#49556;&#47336;&#49496;</a><a href=\"/intl/ko/about.html\">Google &#51221;&#48372;</a><a href=\"https://www.google.com/setprefdomain?prefdom=KR&amp;prev=https://www.google.co.kr/&amp;sig=K_aW5Dq1xRr8FsT8C53uSAGSCI0hM%3D\">Google.co.kr</a></div></div><p style=\"color:#767676;font-size:8pt\">&copy; 2019 - <a href=\"/intl/ko/policies/privacy/\">&#44060;&#51064;&#51221;&#48372;&#52376;&#47532;&#48169;&#52840;</a> - <a href=\"/intl/ko/policies/terms/\">&#50557;&#44288;</a></p></span></center><script nonce=\"grdb1+QdHoYoe5qqMLcE1g==\">(function(){window.google.cdo={height:0,width:0};(function(){var a=window.innerWidth,b=window.innerHeight;if(!a||!b){var c=window.document,d=\"CSS1Compat\"==c.compatMode?c.documentElement:c.body;a=d.clientWidth;b=d.clientHeight}a&&b&&(a!=google.cdo.width||b!=google.cdo.height)&&google.log(\"\",\"\",\"/client_204?&atyp=i&biw=\"+a+\"&bih=\"+b+\"&ei=\"+google.kEI);}).call(this);})();(function(){var u=\\'/xjs/_/js/k\\\\x3dxjs.hp.en.zG9gS-ItGx8.O/m\\\\x3dsb_he,d/am\\\\x3dioEW/rt\\\\x3dj/d\\\\x3d1/rs\\\\x3dACT90oGlWLQnLMa7ILgVVZY-taHE__pFPg\\';setTimeout(function(){var a=document.createElement(\"script\");a.src=u;google.timers&&google.timers.load&&google.tick&&google.tick(\"load\",\"xjsls\");document.body.appendChild(a)},0);})();(function(){window.google.xjsu=\\'/xjs/_/js/k\\\\x3dxjs.hp.en.zG9gS-ItGx8.O/m\\\\x3dsb_he,d/am\\\\x3dioEW/rt\\\\x3dj/d\\\\x3d1/rs\\\\x3dACT90oGlWLQnLMa7ILgVVZY-taHE__pFPg\\';})();function _DumpException(e){throw e;}\\n(function(){var pmc=\\'{\\\\x22Qnk92g\\\\x22:{},\\\\x22U5B21g\\\\x22:{},\\\\x22YFCs/g\\\\x22:{},\\\\x22ZI/YVQ\\\\x22:{},\\\\x22d\\\\x22:{},\\\\x22sb_he\\\\x22:{\\\\x22agen\\\\x22:true,\\\\x22cgen\\\\x22:true,\\\\x22client\\\\x22:\\\\x22heirloom-hp\\\\x22,\\\\x22dh\\\\x22:true,\\\\x22dhqt\\\\x22:true,\\\\x22ds\\\\x22:\\\\x22\\\\x22,\\\\x22ffql\\\\x22:\\\\x22ko\\\\x22,\\\\x22fl\\\\x22:true,\\\\x22host\\\\x22:\\\\x22google.com\\\\x22,\\\\x22isbh\\\\x22:28,\\\\x22jsonp\\\\x22:true,\\\\x22msgs\\\\x22:{\\\\x22cibl\\\\x22:\\\\x22&#44160;&#49353;&#50612; &#51648;&#50864;&#44592;\\\\x22,\\\\x22dym\\\\x22:\\\\x22&#51060;&#44163;&#51012; &#52286;&#51004;&#49512;&#45208;&#50836;?\\\\x22,\\\\x22lcky\\\\x22:\\\\x22I&#8217;m Feeling Lucky\\\\x22,\\\\x22lml\\\\x22:\\\\x22&#51088;&#49464;&#55176; &#50508;&#50500;&#48372;&#44592;\\\\x22,\\\\x22oskt\\\\x22:\\\\x22&#51077;&#47141; &#46020;&#44396;\\\\x22,\\\\x22psrc\\\\x22:\\\\x22&#44160;&#49353;&#50612;&#44032; \\\\\\\\u003Ca href\\\\x3d\\\\\\\\\\\\x22/history\\\\\\\\\\\\x22\\\\\\\\u003E&#50937; &#44592;&#47197;\\\\\\\\u003C/a\\\\\\\\u003E&#50640;&#49436; &#49325;&#51228;&#46104;&#50632;&#49845;&#45768;&#45796;.\\\\x22,\\\\x22psrl\\\\x22:\\\\x22&#49325;&#51228;\\\\x22,\\\\x22sbit\\\\x22:\\\\x22&#51060;&#48120;&#51648;&#47196; &#44160;&#49353;\\\\x22,\\\\x22srch\\\\x22:\\\\x22Google &#44160;&#49353;\\\\x22},\\\\x22ovr\\\\x22:{},\\\\x22pq\\\\x22:\\\\x22\\\\x22,\\\\x22refpd\\\\x22:true,\\\\x22refspre\\\\x22:true,\\\\x22rfs\\\\x22:[],\\\\x22sbpl\\\\x22:24,\\\\x22sbpr\\\\x22:24,\\\\x22scd\\\\x22:10,\\\\x22sce\\\\x22:5,\\\\x22stok\\\\x22:\\\\x22zXDkfWXeb9ZjPcFaNH7TeEJtXGY\\\\x22,\\\\x22uhde\\\\x22:false}}\\';google.pmc=JSON.parse(pmc);})();</script>        </body></html>'"
      ]
     },
     "execution_count": 15,
     "metadata": {},
     "output_type": "execute_result"
    }
   ],
   "source": [
    "resp.read()         # HTTPResponse 객체에서 read() 하면, 객체 내용은 지워짐"
   ]
  },
  {
   "cell_type": "markdown",
   "metadata": {},
   "source": [
    "- b' 으로 시작하기 때문에 binary 값임. utf-8 코드로 decode 필요"
   ]
  },
  {
   "cell_type": "code",
   "execution_count": 16,
   "metadata": {
    "scrolled": true
   },
   "outputs": [
    {
     "data": {
      "text/plain": [
       "'<!doctype html><html itemscope=\"\" itemtype=\"http://schema.org/WebPage\" lang=\"ko\"><head><meta content=\"text/html; charset=UTF-8\" http-equiv=\"Content-Type\"><meta content=\"/logos/doodles/2019/international-womens-day-2019-5962170041892864.11-l.png\" itemprop=\"image\"><meta content=\"2019 &#49464;&#44228; &#50668;&#49457;&#51032; &#45216;\" property=\"twitter:title\"><meta content=\"&#49464;&#44228; &#50668;&#49457;&#51032; &#45216; &#44592;&#45392; #Google&#44592;&#45392;&#51068;&#47196;&#44256;\" property=\"twitter:description\"><meta content=\"&#49464;&#44228; &#50668;&#49457;&#51032; &#45216; &#44592;&#45392; #Google&#44592;&#45392;&#51068;&#47196;&#44256;\" property=\"og:description\"><meta content=\"summary_large_image\" property=\"twitter:card\"><meta content=\"@GoogleDoodles\" property=\"twitter:site\"><meta content=\"https://www.google.com/logos/doodles/2019/international-womens-day-2019-5962170041892864.6-2xa.gif\" property=\"twitter:image\"><meta content=\"https://www.google.com/logos/doodles/2019/international-womens-day-2019-5962170041892864.6-2xa.gif\" property=\"og:image\"><meta content=\"1136\" property=\"og:image:width\"><meta content=\"460\" property=\"og:image:height\"><meta content=\"https://www.google.com/logos/doodles/2019/international-womens-day-2019-5962170041892864.6-2xa.gif\" property=\"og:url\"><meta content=\"video.other\" property=\"og:type\"><title>Google</title><script nonce=\"2K/JhBJwNcgI85udimj/cg==\">(function(){window.google={kEI:\\'-WGBXMfmKIiUmAX5gbWACw\\',kEXPI:\\'0,1353747,57,51,1906,1017,1406,697,528,731,223,1575,30,1189,39,805,1089,68,451,65,350,79,56,147,2333968,329541,1294,12383,4855,32692,15247,867,12163,14329,2192,369,3314,5505,1241,1195,266,1027,4080,575,835,284,2,204,374,728,2431,1362,4323,4968,773,2256,2814,1924,7,1144,2,1955,2605,3601,669,536,514,1808,1129,268,81,7,491,620,29,1395,978,3328,3394,1209,876,412,2,554,3453,157,637,103,1119,38,363,557,718,28,8,119,1217,1364,346,1,137,47,1080,542,2194,292,1266,1097,148,167,91,2,631,217,2345,2,4,2,463,207,44,334,600,1253,187,411,1363,156,354,125,434,1058,1115,632,1414,350,25,1094,21,318,55,199,2,1309,1281,386,138,539,357,252,1043,272,681,2,22,207,549,85,1,12,392,29,400,39,849,22,82,82,374,829,8,85,131,80,467,353,11,51,184,78,365,19,15,113,19,651,174,23,219,315,7,268,65,70,446,163,3,14,15,184,77,92,55,321,178,8,80,2,669,43,122,105,2,26,347,106,9,286,9,403,352,298,9,163,5954484,1873,681,255,72,3,8797456,4,1572,549,333,444,1,2,80,1,900,583,2,311,1,8,1,2,2132,1,1,1,1,1,414,1,748,141,59,726,3,7,563,1,1028,134,1,10,18\\',authuser:0,kscs:\\'c9c918f0_-WGBXMfmKIiUmAX5gbWACw\\',kGL:\\'KR\\'};google.sn=\\'webhp\\';google.kHL=\\'ko\\';})();(function(){google.lc=[];google.li=0;google.getEI=function(a){for(var b;a&&(!a.getAttribute||!(b=a.getAttribute(\"eid\")));)a=a.parentNode;return b||google.kEI};google.getLEI=function(a){for(var b=null;a&&(!a.getAttribute||!(b=a.getAttribute(\"leid\")));)a=a.parentNode;return b};google.https=function(){return\"https:\"==window.location.protocol};google.ml=function(){return null};google.time=function(){return(new Date).getTime()};google.log=function(a,b,e,c,g){if(a=google.logUrl(a,b,e,c,g)){b=new Image;var d=google.lc,f=google.li;d[f]=b;b.onerror=b.onload=b.onabort=function(){delete d[f]};google.vel&&google.vel.lu&&google.vel.lu(a);b.src=a;google.li=f+1}};google.logUrl=function(a,b,e,c,g){var d=\"\",f=google.ls||\"\";e||-1!=b.search(\"&ei=\")||(d=\"&ei=\"+google.getEI(c),-1==b.search(\"&lei=\")&&(c=google.getLEI(c))&&(d+=\"&lei=\"+c));c=\"\";!e&&google.cshid&&-1==b.search(\"&cshid=\")&&\"slh\"!=a&&(c=\"&cshid=\"+google.cshid);a=e||\"/\"+(g||\"gen_204\")+\"?atyp=i&ct=\"+a+\"&cad=\"+b+d+f+\"&zx=\"+google.time()+c;/^http:/i.test(a)&&google.https()&&(google.ml(Error(\"a\"),!1,{src:a,glmm:1}),a=\"\");return a};}).call(this);(function(){google.y={};google.x=function(a,b){if(a)var c=a.id;else{do c=Math.random();while(google.y[c])}google.y[c]=[a,b];return!1};google.lm=[];google.plm=function(a){google.lm.push.apply(google.lm,a)};google.lq=[];google.load=function(a,b,c){google.lq.push([[a],b,c])};google.loadAll=function(a,b){google.lq.push([a,b])};}).call(this);google.f={};</script><script nonce=\"2K/JhBJwNcgI85udimj/cg==\">var a=window.location,b=a.href.indexOf(\"#\");if(0<=b){var c=a.href.substring(b+1);/(^|&)q=/.test(c)&&-1==c.indexOf(\"#\")&&a.replace(\"/search?\"+c.replace(/(^|&)fp=[^&]*/g,\"\")+\"&cad=h\")};</script><style>#gbar,#guser{font-size:13px;padding-top:1px !important;}#gbar{height:22px}#guser{padding-bottom:7px !important;text-align:right}.gbh,.gbd{border-top:1px solid #c9d7f1;font-size:1px}.gbh{height:0;position:absolute;top:24px;width:100%}@media all{.gb1{height:22px;margin-right:.5em;vertical-align:top}#gbar{float:left}}a.gb1,a.gb4{text-decoration:underline !important}a.gb1,a.gb4{color:#00c !important}.gbi .gb4{color:#dd8e27 !important}.gbf .gb4{color:#900 !important}\\n</style><style>body,td,a,p,.h{font-family:&#44404;&#47548;,&#46027;&#50880;,arial,sans-serif}.ko{font-size:9pt}body{margin:0;overflow-y:scroll}#gog{padding:3px 8px 0}td{line-height:.8em}.gac_m td{line-height:17px}form{margin-bottom:20px}.h{color:#36c}.q{color:#00c}.ts td{padding:0}.ts{border-collapse:collapse}em{font-weight:bold;font-style:normal}.lst{height:25px;width:496px}.gsfi,.lst{font:18px arial,sans-serif}.gsfs{font:17px arial,sans-serif}.ds{display:inline-box;display:inline-block;margin:3px 0 4px;margin-left:4px}input{font-family:inherit}a.gb1,a.gb2,a.gb3,a.gb4{color:#11c !important}body{background:#fff;color:black}a{color:#11c;text-decoration:none}a:hover,a:active{text-decoration:underline}.fl a{color:#36c}a:visited{color:#551a8b}a.gb1,a.gb4{text-decoration:underline}a.gb3:hover{text-decoration:none}#ghead a.gb2:hover{color:#fff !important}.sblc{padding-top:5px}.sblc a{display:block;margin:2px 0;margin-left:13px;font-size:11px}.lsbb{background:#eee;border:solid 1px;border-color:#ccc #999 #999 #ccc;height:30px}.lsbb{display:block}.ftl,#fll a{display:inline-block;margin:0 12px}.lsb{background:url(/images/nav_logo229.png) 0 -261px repeat-x;border:none;color:#000;cursor:pointer;height:30px;margin:0;outline:0;font:15px arial,sans-serif;vertical-align:top}.lsb:active{background:#ccc}.lst:focus{outline:none}.tiah{width:458px}</style><script nonce=\"2K/JhBJwNcgI85udimj/cg==\"></script></head><body bgcolor=\"#fff\"><script nonce=\"2K/JhBJwNcgI85udimj/cg==\">(function(){var src=\\'/images/nav_logo229.png\\';var iesg=false;document.body.onload = function(){window.n && window.n();if (document.images){new Image().src=src;}\\nif (!iesg){document.f&&document.f.q.focus();document.gbqf&&document.gbqf.q.focus();}\\n}\\n})();</script><div id=\"mngb\"> <div id=gbar><nobr><b class=gb1>&#44160;&#49353;</b> <a class=gb1 href=\"https://www.google.co.kr/imghp?hl=ko&tab=wi\">&#51060;&#48120;&#51648;</a> <a class=gb1 href=\"https://maps.google.co.kr/maps?hl=ko&tab=wl\">&#51648;&#46020;</a> <a class=gb1 href=\"https://play.google.com/?hl=ko&tab=w8\">Play</a> <a class=gb1 href=\"https://www.youtube.com/?gl=KR&tab=w1\">YouTube</a> <a class=gb1 href=\"https://news.google.co.kr/nwshp?hl=ko&tab=wn\">&#45684;&#49828;</a> <a class=gb1 href=\"https://mail.google.com/mail/?tab=wm\">Gmail</a> <a class=gb1 href=\"https://drive.google.com/?tab=wo\">&#46300;&#46972;&#51060;&#48652;</a> <a class=gb1 style=\"text-decoration:none\" href=\"https://www.google.co.kr/intl/ko/about/products?tab=wh\"><u>&#45908;&#48372;&#44592;</u> &raquo;</a></nobr></div><div id=guser width=100%><nobr><span id=gbn class=gbi></span><span id=gbf class=gbf></span><span id=gbe></span><a href=\"http://www.google.co.kr/history/optout?hl=ko\" class=gb4>&#50937; &#44592;&#47197;</a> | <a  href=\"/preferences?hl=ko\" class=gb4>&#49444;&#51221;</a> | <a target=_top id=gb_70 href=\"https://accounts.google.com/ServiceLogin?hl=ko&passive=true&continue=https://www.google.com/webhp\" class=gb4>&#47196;&#44536;&#51064;</a></nobr></div><div class=gbh style=left:0></div><div class=gbh style=right:0></div> </div><center><br clear=\"all\" id=\"lgpd\"><div id=\"lga\"><a href=\"/search?site=webhp&amp;ie=UTF-8&amp;q=%EC%84%B8%EA%B3%84+%EC%97%AC%EC%84%B1%EC%9D%98+%EB%82%A0&amp;oi=ddle&amp;ct=international-womens-day-2019-5962170041892864&amp;hl=ko&amp;kgmid=/m/01pp4_&amp;sa=X&amp;ved=0ahUKEwiHx-_J0_DgAhUICqYKHflADbAQPQgD\"><img alt=\"2019 &#49464;&#44228; &#50668;&#49457;&#51032; &#45216;\" border=\"0\" height=\"220\" src=\"/logos/doodles/2019/international-womens-day-2019-5962170041892864.11-l.png\" title=\"2019 &#49464;&#44228; &#50668;&#49457;&#51032; &#45216;\" width=\"543\" id=\"hplogo\" onload=\"window.lol&&lol()\"><br></a><br></div><form action=\"/search\" name=\"f\"><table cellpadding=\"0\" cellspacing=\"0\"><tr valign=\"top\"><td width=\"25%\">&nbsp;</td><td align=\"center\" nowrap=\"\"><input name=\"ie\" value=\"ISO-8859-1\" type=\"hidden\"><input value=\"ko\" name=\"hl\" type=\"hidden\"><input name=\"source\" type=\"hidden\" value=\"hp\"><input name=\"biw\" type=\"hidden\"><input name=\"bih\" type=\"hidden\"><div class=\"ds\" style=\"height:32px;margin:4px 0\"><div style=\"position:relative;zoom:1\"><input style=\"color:#000;margin:0;padding:5px 8px 0 6px;vertical-align:top;padding-right:38px\" autocomplete=\"off\" class=\"lst tiah\" value=\"\" title=\"Google &#44160;&#49353;\" maxlength=\"2048\" name=\"q\" size=\"57\"><img src=\"/textinputassistant/tia.png\" style=\"position:absolute;cursor:pointer;right:5px;top:4px;z-index:300\" data-script-url=\"/textinputassistant/11/ko_tia.js\" alt=\"\" height=\"23\" onclick=\"var s=document.createElement(\\'script\\');s.src=this.getAttribute(\\'data-script-url\\');(document.getElementById(\\'xjsc\\')||document.body).appendChild(s);\" width=\"27\"></div></div><br style=\"line-height:0\"><span class=\"ds\"><span class=\"lsbb\"><input class=\"lsb\" value=\"Google &#44160;&#49353;\" name=\"btnG\" type=\"submit\"></span></span><span class=\"ds\"><span class=\"lsbb\"><input class=\"lsb\" value=\"I&#8217;m Feeling Lucky\" name=\"btnI\" onclick=\"if(this.form.q.value)this.checked=1; else top.location=\\'/doodles/\\'\" type=\"submit\"></span></span></td><td class=\"fl sblc\" align=\"left\" nowrap=\"\" width=\"25%\"><a href=\"/advanced_search?hl=ko&amp;authuser=0\">&#44256;&#44553;&#44160;&#49353;</a><a href=\"/language_tools?hl=ko&amp;authuser=0\">&#50616;&#50612;&#46020;&#44396;</a></td></tr></table><input id=\"gbv\" name=\"gbv\" type=\"hidden\" value=\"1\"><script nonce=\"2K/JhBJwNcgI85udimj/cg==\">(function(){var a,b=\"1\";if(document&&document.getElementById)if(\"undefined\"!=typeof XMLHttpRequest)b=\"2\";else if(\"undefined\"!=typeof ActiveXObject){var c,d,e=[\"MSXML2.XMLHTTP.6.0\",\"MSXML2.XMLHTTP.3.0\",\"MSXML2.XMLHTTP\",\"Microsoft.XMLHTTP\"];for(c=0;d=e[c++];)try{new ActiveXObject(d),b=\"2\"}catch(h){}}a=b;if(\"2\"==a&&-1==location.search.indexOf(\"&gbv=2\")){var f=google.gbvu,g=document.getElementById(\"gbv\");g&&(g.value=a);f&&window.setTimeout(function(){location.href=f},0)};}).call(this);</script></form><div id=\"gac_scont\"></div><div style=\"font-size:83%;min-height:3.5em\"><br></div><span id=\"footer\"><div style=\"font-size:10pt\"><div style=\"margin:19px auto;text-align:center\" id=\"fll\"><a href=\"/intl/ko/ads/\">&#44305;&#44256; &#54532;&#47196;&#44536;&#47016;</a><a href=\"http://www.google.co.kr/intl/ko/services/\">&#48708;&#51592;&#45768;&#49828; &#49556;&#47336;&#49496;</a><a href=\"/intl/ko/about.html\">Google &#51221;&#48372;</a><a href=\"https://www.google.com/setprefdomain?prefdom=KR&amp;prev=https://www.google.co.kr/&amp;sig=K_PEV9QaD9AYWBKFGeG6snOBPw9EY%3D\">Google.co.kr</a></div></div><p style=\"color:#767676;font-size:8pt\">&copy; 2019 - <a href=\"/intl/ko/policies/privacy/\">&#44060;&#51064;&#51221;&#48372;&#52376;&#47532;&#48169;&#52840;</a> - <a href=\"/intl/ko/policies/terms/\">&#50557;&#44288;</a></p></span></center><script nonce=\"2K/JhBJwNcgI85udimj/cg==\">(function(){window.google.cdo={height:0,width:0};(function(){var a=window.innerWidth,b=window.innerHeight;if(!a||!b){var c=window.document,d=\"CSS1Compat\"==c.compatMode?c.documentElement:c.body;a=d.clientWidth;b=d.clientHeight}a&&b&&(a!=google.cdo.width||b!=google.cdo.height)&&google.log(\"\",\"\",\"/client_204?&atyp=i&biw=\"+a+\"&bih=\"+b+\"&ei=\"+google.kEI);}).call(this);})();(function(){var u=\\'/xjs/_/js/k\\\\x3dxjs.hp.en.zG9gS-ItGx8.O/m\\\\x3dsb_he,d/am\\\\x3dioEW/rt\\\\x3dj/d\\\\x3d1/rs\\\\x3dACT90oGlWLQnLMa7ILgVVZY-taHE__pFPg\\';setTimeout(function(){var a=document.createElement(\"script\");a.src=u;google.timers&&google.timers.load&&google.tick&&google.tick(\"load\",\"xjsls\");document.body.appendChild(a)},0);})();(function(){window.google.xjsu=\\'/xjs/_/js/k\\\\x3dxjs.hp.en.zG9gS-ItGx8.O/m\\\\x3dsb_he,d/am\\\\x3dioEW/rt\\\\x3dj/d\\\\x3d1/rs\\\\x3dACT90oGlWLQnLMa7ILgVVZY-taHE__pFPg\\';})();function _DumpException(e){throw e;}\\n(function(){var pmc=\\'{\\\\x22Qnk92g\\\\x22:{},\\\\x22U5B21g\\\\x22:{},\\\\x22YFCs/g\\\\x22:{},\\\\x22ZI/YVQ\\\\x22:{},\\\\x22d\\\\x22:{},\\\\x22sb_he\\\\x22:{\\\\x22agen\\\\x22:true,\\\\x22cgen\\\\x22:true,\\\\x22client\\\\x22:\\\\x22heirloom-hp\\\\x22,\\\\x22dh\\\\x22:true,\\\\x22dhqt\\\\x22:true,\\\\x22ds\\\\x22:\\\\x22\\\\x22,\\\\x22ffql\\\\x22:\\\\x22ko\\\\x22,\\\\x22fl\\\\x22:true,\\\\x22host\\\\x22:\\\\x22google.com\\\\x22,\\\\x22isbh\\\\x22:28,\\\\x22jsonp\\\\x22:true,\\\\x22msgs\\\\x22:{\\\\x22cibl\\\\x22:\\\\x22&#44160;&#49353;&#50612; &#51648;&#50864;&#44592;\\\\x22,\\\\x22dym\\\\x22:\\\\x22&#51060;&#44163;&#51012; &#52286;&#51004;&#49512;&#45208;&#50836;?\\\\x22,\\\\x22lcky\\\\x22:\\\\x22I&#8217;m Feeling Lucky\\\\x22,\\\\x22lml\\\\x22:\\\\x22&#51088;&#49464;&#55176; &#50508;&#50500;&#48372;&#44592;\\\\x22,\\\\x22oskt\\\\x22:\\\\x22&#51077;&#47141; &#46020;&#44396;\\\\x22,\\\\x22psrc\\\\x22:\\\\x22&#44160;&#49353;&#50612;&#44032; \\\\\\\\u003Ca href\\\\x3d\\\\\\\\\\\\x22/history\\\\\\\\\\\\x22\\\\\\\\u003E&#50937; &#44592;&#47197;\\\\\\\\u003C/a\\\\\\\\u003E&#50640;&#49436; &#49325;&#51228;&#46104;&#50632;&#49845;&#45768;&#45796;.\\\\x22,\\\\x22psrl\\\\x22:\\\\x22&#49325;&#51228;\\\\x22,\\\\x22sbit\\\\x22:\\\\x22&#51060;&#48120;&#51648;&#47196; &#44160;&#49353;\\\\x22,\\\\x22srch\\\\x22:\\\\x22Google &#44160;&#49353;\\\\x22},\\\\x22ovr\\\\x22:{},\\\\x22pq\\\\x22:\\\\x22\\\\x22,\\\\x22refpd\\\\x22:true,\\\\x22refspre\\\\x22:true,\\\\x22rfs\\\\x22:[],\\\\x22sbpl\\\\x22:24,\\\\x22sbpr\\\\x22:24,\\\\x22scd\\\\x22:10,\\\\x22sce\\\\x22:5,\\\\x22stok\\\\x22:\\\\x22I9vxuo7DH4LJvGyY5DaV0eus1Uo\\\\x22,\\\\x22uhde\\\\x22:false}}\\';google.pmc=JSON.parse(pmc);})();</script>        </body></html>'"
      ]
     },
     "execution_count": 16,
     "metadata": {},
     "output_type": "execute_result"
    }
   ],
   "source": [
    "resp = request.urlopen('https://www.google.com/search')    # HTTPResponse 객체 재생성(urlopen 재호출)\n",
    "resp.read().decode(\"utf-8\")"
   ]
  },
  {
   "cell_type": "markdown",
   "metadata": {},
   "source": [
    "### urllib.error"
   ]
  },
  {
   "cell_type": "code",
   "execution_count": 17,
   "metadata": {},
   "outputs": [
    {
     "name": "stdout",
     "output_type": "stream",
     "text": [
      "403\n",
      "Forbidden\n",
      "Content-Type: text/html; charset=UTF-8\n",
      "Date: Thu, 07 Mar 2019 18:28:57 GMT\n",
      "Server: gws\n",
      "Cache-Control: private\n",
      "X-XSS-Protection: 1; mode=block\n",
      "X-Frame-Options: SAMEORIGIN\n",
      "Alt-Svc: quic=\":443\"; ma=2592000; v=\"46,44,43,39\"\n",
      "Accept-Ranges: none\n",
      "Vary: Accept-Encoding\n",
      "Connection: close\n",
      "\n",
      "\n"
     ]
    }
   ],
   "source": [
    "from urllib import error\n",
    "try:\n",
    "    resp = request.urlopen('https://www.google.com/search?q=python&oq=python&aqs=chrome..69i57j69i65l2j35i39j0l2.1622j0j9&sourceid=chrome&ie=UTF-8')\n",
    "except error.HTTPError as e:\n",
    "    print(e.code)\n",
    "    print(e.reason)\n",
    "    print(e.headers)"
   ]
  },
  {
   "cell_type": "markdown",
   "metadata": {},
   "source": [
    "### get 방식 download 함수 만들기"
   ]
  },
  {
   "cell_type": "code",
   "execution_count": 18,
   "metadata": {},
   "outputs": [],
   "source": [
    "# 구글에서 \"파이썬\"이라는 문자열 검색\n",
    "url = \"https://www.google.com/search?q=%ED%8C%8C%EC%9D%B4%EC%8D%AC&oq=%ED%8C%8C%EC%9D%B4%EC%8D%AC&aqs=chrome..69i57j69i65l3j35i39j0.2946j0j9&sourceid=chrome&ie=UTF-8\"\n",
    "\n",
    "# 서버에 user-agent 정보를 전달해야 함\n",
    "# headers = {\"user-agent\": \"Mozilla/5.0 (Macintosh; Intel Mac OS X 10_14_1) AppleWebKit/537.36 (KHTML, like Gecko) Chrome/72.0.3626.109 Safari/537.36\"}\n",
    "headers = {\"user-agent\": \"Mozilla/5.0\"}  # 상세한 정보는 생략해도 됨\n",
    "\n",
    "def getDownload(url, retries=3):\n",
    "    req = request.Request(url, headers=headers)\n",
    "#    req = request.Request(url)        # headers 정보가 없어서 403, Forbidden 에러 발생\n",
    "\n",
    "    try:\n",
    "        resp = request.urlopen(req)\n",
    "    except error.HTTPError as e:\n",
    "        if 500 <= e.code < 600 and retries > 0:\n",
    "            return getDownload(url, retries - 1)\n",
    "        else:\n",
    "            print(e.code)\n",
    "            print(e.reason)\n",
    "            print(e.headers)\n",
    "            resp = None\n",
    "    \n",
    "    return resp"
   ]
  },
  {
   "cell_type": "code",
   "execution_count": 19,
   "metadata": {},
   "outputs": [],
   "source": [
    "resp = getDownload(url)"
   ]
  },
  {
   "cell_type": "markdown",
   "metadata": {},
   "source": [
    "### urllib.parse"
   ]
  },
  {
   "cell_type": "code",
   "execution_count": 20,
   "metadata": {},
   "outputs": [],
   "source": [
    "from urllib import parse"
   ]
  },
  {
   "cell_type": "code",
   "execution_count": 21,
   "metadata": {},
   "outputs": [
    {
     "data": {
      "text/plain": [
       "ParseResult(scheme='https', netloc='www.google.com', path='/search', params='', query='q=%ED%8C%8C%EC%9D%B4%EC%8D%AC&oq=%ED%8C%8C%EC%9D%B4%EC%8D%AC&aqs=chrome..69i57j69i65l3j35i39j0.2946j0j9&sourceid=chrome&ie=UTF-8', fragment='')"
      ]
     },
     "execution_count": 21,
     "metadata": {},
     "output_type": "execute_result"
    }
   ],
   "source": [
    "parse.urlparse(url)"
   ]
  },
  {
   "cell_type": "code",
   "execution_count": 22,
   "metadata": {},
   "outputs": [
    {
     "data": {
      "text/plain": [
       "'https://www.google.com/search/about'"
      ]
     },
     "execution_count": 22,
     "metadata": {},
     "output_type": "execute_result"
    }
   ],
   "source": [
    "base = \"https://www.google.com\"\n",
    "url = \"/search/about\"\n",
    "parse.urljoin(base, url)"
   ]
  },
  {
   "cell_type": "code",
   "execution_count": 23,
   "metadata": {},
   "outputs": [
    {
     "data": {
      "text/plain": [
       "'%ED%8C%8C%EC%9D%B4%EC%8D%AC'"
      ]
     },
     "execution_count": 23,
     "metadata": {},
     "output_type": "execute_result"
    }
   ],
   "source": [
    "parse.quote_plus(\"파이썬\")"
   ]
  },
  {
   "cell_type": "code",
   "execution_count": 24,
   "metadata": {},
   "outputs": [
    {
     "data": {
      "text/plain": [
       "'파이썬'"
      ]
     },
     "execution_count": 24,
     "metadata": {},
     "output_type": "execute_result"
    }
   ],
   "source": [
    "parse.unquote_plus('%ED%8C%8C%EC%9D%B4%EC%8D%AC')"
   ]
  },
  {
   "cell_type": "code",
   "execution_count": 25,
   "metadata": {},
   "outputs": [
    {
     "data": {
      "text/plain": [
       "'q=%ED%8C%8C%EC%9D%B4%EC%8D%AC+A'"
      ]
     },
     "execution_count": 25,
     "metadata": {},
     "output_type": "execute_result"
    }
   ],
   "source": [
    "parse.urlencode({\"q\":\"파이썬 A\"})"
   ]
  },
  {
   "cell_type": "markdown",
   "metadata": {},
   "source": [
    "## requests 패키지 사용하기"
   ]
  },
  {
   "cell_type": "markdown",
   "metadata": {},
   "source": [
    "### requests.request"
   ]
  },
  {
   "cell_type": "code",
   "execution_count": 26,
   "metadata": {},
   "outputs": [],
   "source": [
    "import requests\n",
    "\n",
    "url = \"https://www.google.com/search?q=%ED%8C%8C%EC%9D%B4%EC%8D%AC&oq=%ED%8C%8C%EC%9D%B4%EC%8D%AC&aqs=chrome..69i57j69i65l3j35i39j0.2946j0j9&sourceid=chrome&ie=UTF-8\"\n",
    "\n",
    "resp = requests.request(\"get\", url)"
   ]
  },
  {
   "cell_type": "code",
   "execution_count": 27,
   "metadata": {},
   "outputs": [
    {
     "data": {
      "text/plain": [
       "'<!doctype html><html itemscope=\"\" itemtype=\"http://schema.org/SearchResultsPage\" lang=\"ko\"><head><meta content=\"text/html; charset=UTF-8\" http-equiv=\"Content-Type\"><meta content=\"/images/branding/googleg/1x/googleg_standard_color_128dp.png\" itemprop=\"image\"><noscript><meta content=\"0;url=/search?q=%ED%8C%8C%EC%9D%B4%EC%8D%AC&amp;ie=UTF-8&amp;gbv=1&amp;sei=W2OBXMXJFOixmAWH8ZTQAQ\" http-equiv=\"refresh\"><style>table,div,span,p{display:none}</style><div style=\"display:block\">&#47751; &#52488; &#50504;&#50640; &#51060;&#46041;&#54616;&#51648; &#50506;&#45716; &#44221;&#50864; <a href=\"/search?q=%ED%8C%8C%EC%9D%B4%EC%8D%AC&amp;ie=UTF-8&amp;gbv=1&amp;sei=W2OBXMXJFOixmAWH8ZTQAQ\">&#50668;&#44592;</a>&#47484; &#53364;&#47533;&#54616;&#49464;&#50836;.</div></noscript><title>&#54028;&#51060;&#50028; - Google &#44160;&#49353;</title><style>#gbar,#guser{font-size:13px;padding-top:1px !important;}#gbar{height:22px}#guser{padding-bottom:7px !important;text-align:right}.gbh,.gbd{border-top:1px solid #c9d7f1;font-size:1px}.gbh{height:0;position:absolute;top:24px;width:100%}@media all{.gb1{height:22px;margin-right:.5em;vertical-align:top}#gbar{float:left}}a.gb1,a.gb4{text-decoration:underline !important}a.gb1,a.gb4{color:#00c !important}.gbi .gb4{color:#dd8e27 !important}.gbf .gb4{color:#900 !important}\\n</style><style>.star{float:left;margin-top:1px;overflow:hidden}.ybhkme{font-size:11px}.j{width:34em}body,td,div,a{font-family:arial,sans-serif;tap-highlight-color:rgba(255,255,255,0)}body{margin:0}a img{border:0}#gbar{float:left;height:22px;padding-left:2px;font-size:13px}.gsfi,.gsfs{font-size:17px}.w,.q:active,.q:visited,.tbotu{color:#11c}a.gl{text-decoration:none}#foot{padding:0 8px}#foot a{white-space:nowrap}h3{font-size:16px;font-weight:normal;margin:0;padding:0}#res h3{display:inline}.hd{height:1px;position:absolute;top:-1000em}.g,body,html,table,.std{font-size:13px}.g{margin-bottom:23px;margin-top:0;zoom:1}ol li,ul li{list-style:none}h1,ol,ul,li{margin:0;padding:0}.e{margin:2px 0 0.75em}#leftnav a{text-decoration:none}#leftnav h2{color:#767676;font-weight:normal;margin:0}#nav{border-collapse:collapse;margin-top:17px;text-align:left}#nav td{text-align:center}.nobr{white-space:nowrap}.ts{border-collapse:collapse}.s br{display:none}.csb{display:block;height:40px}.images_table td{line-height:17px;padding-bottom:16px}.images_table img{border:1px solid #ccc;padding:1px}#tbd,#abd{display:block;min-height:1px}#abd{padding-top:3px}#tbd li{display:inline}.TIrJXe,.UU5df{margin-bottom:8px}#tbd .tbt li{display:block;font-size:13px;line-height:1.2;padding-bottom:3px;padding-left:8px;text-indent:-8px}.tbos,.b{font-weight:bold}em{font-weight:bold;font-style:normal}.mime{color:#1a0dab;font-weight:bold;font-size:x-small}.soc a{text-decoration:none}.soc{color:#808080}.ul7Gbc{color:#e7711b}#Db7kif{border:1px solid #e0e0e0;margin-left:-8px;margin-right:-8px;padding:15px 20px 5px}.mrH1y{font-size:32px}.PZ6wOb{color:#777;font-size:16px;margin-top:5px}.gwrItc{color:#777;font-size:14px;margin-top:5px}.SVob4e{border:1px solid #e0e0e0;padding-left:20px}.mYu5Hb{border:1px solid #e0e0e0;padding:5px 20px}#vob{border:1px solid #e0e0e0;padding:15px 15px}#ZjIC2e{font-size:22px;line-height:22px;padding-bottom:5px}#vob_st{line-height:1.24}.DfLGHd{border-width:1px;border-style:solid;border-color:#eee;background-color:#fff;position:relative;margin-bottom:26px}.uRIxYb,.NjTIc,.PftIHd,.DXoZmb{font-family:Arial;font-weight:lighter}.uRIxYb{margin-bottom:5px}.uRIxYb{font-size:xx-large}.NjTIc{font-size:medium}.PftIHd{font-size:large}.DXoZmb{font-size:small}.DfLGHd{margin-left:-8px;margin-right:-15px;padding:20px 20px 24px}.ernfsc{border-spacing:0px 2px}.D3VFNd{max-width:380px;text-overflow:ellipsis;white-space:nowrap;overflow:hidden;padding-left:0px}.c1Ujmc{padding-left:15px;white-space:nowrap;color:#666}.EjZtie{padding-left:0px}.SFt5jb{color:#212121}.Pt7r9e{color:#878787}.bkcGhd{color:#093}.fIP9ce{color:#c00}.LDBB9d{padding:1px}.gssb_a{padding:0 10px !important}.gssb_c{left:132px !important;right:295px !important;top:78px !important;width:572px !important}.gssb_c table{font-size:16px !important}.gssb_e{border:1px solid #ccc !important;border-top-color:#d9d9d9 !important}.gssb_i{background:#eee !important}#res{padding:0 8px}#rhs_block{padding-top:43px}#MCN7mf{padding:0 8px}#subform_ctrl{font-size:11px;height:17px;margin:5px 3px 0 17px}.taf{padding-bottom:3px}.WIkLp{padding:20px 0 3px}.FuZzl{padding:20px 0 3px}#topstuff .e{padding-bottom:6px}.slk .sld{width:250px}.slk{margin-bottom:-3px}.slk .zaHRAf{padding-bottom:5px;width:250px}.ac,.st{line-height:1.24}.a1DBFd,#ofr{font-size:16px;margin:1em 0;padding:0 8px}.tZz6cc{padding-bottom:25px}.s{color:#545454}.ac{color:#545454}a.fl,.A8ul6 a,.osl a{color:#1a0dab;text-decoration:none}a:link{color:#1a0dab;cursor:pointer}#tads a:link{color:#1a0dab}#tads .soc a:link{color:#808080}a:visited{color:#61C}.blg a{text-decoration:none}cite,cite a:link{color:#006621;font-style:normal}#tads cite{color:#006621}.hJND5c{font-size:15px}.kvs{margin-top:1px}.hJND5c,.kvs,.slp{display:block;margin-bottom:1px}.kt{border-spacing:2px 0;margin-top:1px}.f{color:#808080}.L4Zeue{color:#093}h4.r{display:inline;font-size:small;font-weight:normal}.g{line-height:1.2}.NpC9Hd{display:inline-block;vertical-align:top;overflow:hidden;position:relative}.COi8F{margin:0 0 2em 1.3em}.COi8F li{list-style-type:disc}.osl{color:#777;margin-top:4px}.r{font-size:16px;margin:0}.gL9Hy{font-size:16px}.spell_orig{font-size:13px}.spell_orig a{text-decoration:none}.spell_orig b i{font-style:normal;font-weight:normal}.th{border:1px solid #ebebeb}.ts td{padding:0}.videobox{padding-bottom:3px}.slk a{text-decoration:none}#leftnav a:hover,#leftnav .tbou a:hover,.slk h3 a,a:hover{text-decoration:underline}#mn{table-layout:fixed;width:100%}#leftnav a{color:#222;font-size:13px}#leftnav{padding:43px 4px 4px 0}.tbos{color:#dd4b39}.tbt{margin-bottom:28px}#tbd{padding:0 0 0 16px}.tbou a{color:#222}#center_col{border:0;padding:0 8px 0 0}#topstuff .e{padding-top:3px}#topstuff .p64x9c{padding-top:6px}#ab_name{color:#dd4b39;font:20px \"Arial\";margin-left:15px}#resultStats{color:#999;font-size:13px;overflow:hidden;white-space:nowrap}.mslg>td{padding-right:1px;padding-top:2px}.slk .sld{margin-top:2px;padding:5px 0 5px 5px}.fmp{padding-top:3px}.close_btn{overflow:hidden}#fll a,#bfl a{color:#1a0dab !important;margin:0 12px;text-decoration:none !important}.ng{color:#dd4b39}#mss{margin:.33em 0 0;padding:0;display:table}.NYKCib{display:inline-block;float:left;white-space:nowrap;padding-right:16px}#mss p{margin:0;padding-top:5px}.tn{border-bottom:1px solid #ebebeb;display:block;float:left;height:59px;line-height:54px;min-width:980px;padding:0;position:relative;white-space:nowrap}.qrSWbe,a.qrSWbe{color:#777;cursor:pointer;display:inline-block;font-family:arial,sans-serif;font-size:small;height:54px;line-height:54px;margin:0 8px;padding:0 8px;text-decoration:none;white-space:nowrap}.tnuiC{border-bottom:3px solid #dd4b39;color:#dd4b39;font-weight:bold;margin:2px 8px 0}a.KDZjCd:hover{color:black;text-decoration:none;white-space:nowrap}body{margin:0;padding:0}.sFTC8c{display:inline-block;float:left;margin-top:2px}.pqkqJe,a.pqkqJe{margin-left:1px}.sd{line-height:43px;padding:0 8px 0 9px}a:active,.osl a:active,.tbou a:active,#leftnav a:active{color:#dd4b39}#bfl a:active{color:#dd4b39 !important}.csb{background:url(/images/nav_logo229.png) no-repeat;overflow:hidden}.close_btn{background:url(/images/nav_logo229.png) no-repeat -138px -84px;height:14px;width:14px;display:block}.star{background:url(/images/nav_logo229.png) no-repeat -94px -245px;height:13px;width:65px;display:block}.star div,.star span{background:url(/images/nav_logo229.png) no-repeat 0 -245px;height:13px;width:65px;display:block}.Pj9hGd{display:inline;margin:0 3px;outline-color:transparent;overflow:hidden;position:relative}.Pj9hGd>div{outline-color:transparent}.CiacGf{border-color:transparent;border-style:solid dashed dashed;border-top-color:green;border-width:4px 4px 0 4px;cursor:pointer;display:inline-block;font-size:0;height:0;left:4px;line-height:0;outline-color:transparent;position:relative;top:-3px;width:0}.CiacGf{margin-top:-4px}.am-dropdown-menu{display:block;background:#fff;border:1px solid #dcdcdc;font-size:13px;left:0;padding:0;position:absolute;right:auto;white-space:nowrap;z-index:3}.mUpfKd{list-style:none;white-space:nowrap}.mUpfKd:hover{background-color:#eee}a.imx0m{color:#333;cursor:pointer;display:block;padding:7px 18px;text-decoration:none}#tads a.imx0m{color:#333}.sfbgg{background:#f1f1f1;border-bottom:1px solid #e5e5e5;height:71px}#logocont{z-index:1;padding-left:4px;padding-top:4px}#logo{display:block;height:49px;margin-top:12px;margin-left:12px;overflow:hidden;position:relative;width:137px}#logo img{left:0;position:absolute;top:-41px}.lst-a{background:white;border:1px solid #d9d9d9;border-top-color:silver;width:570px}.lst-a:hover{border:1px solid #b9b9b9;border-top:1px solid #a0a0a0;box-shadow:inset 0 1px 2px rgba(0,0,0,0.1);-webkit-box-shadow:inset 0 1px 2px rgba(0,0,0,0.1);-moz-box-shadow:inset 0 1px 2px rgba(0,0,0,0.1)}.lst-td{border:none;padding:0}.tia input{border-right:none;padding-right:0}.tia{padding-right:0}.lst{background:none;border:none;color:#000;font:16px arial,sans-serif;float:left;height:22px;margin:0;padding:3px 6px 2px 9px;vertical-align:top;width:100%;word-break:break-all}.lst:focus{outline:none}.lst-b{background:none;border:none;height:26px;padding:0 6px 0 12px}.ds{border-right:1px solid #e7e7e7;position:relative;height:29px;margin-left:17px;z-index:100}.lsbb{background-image:-moz-linear-gradient(top,#4d90fe,#4787ed);background-image:-ms-linear-gradient(top,#4d90fe,#4787ed);background-image:-o-linear-gradient(top,#4d90fe,#4787ed);background-image:-webkit-gradient(linear,left top,left bottom,from(#4d90fe),to(#4787ed));background-image:-webkit-linear-gradient(top,#4d90fe,#4787ed);background-image:linear-gradient(top,#4d90fe,#4787ed);border:1px solid #3079ed;border-radius:2px;background-color:#4d90fe;height:27px;width:68px}.lsbb:hover{background-image:-moz-linear-gradient(top,#4d90fe,#357ae8);background-image:-ms-linear-gradient(top,#4d90fe,#357ae8);background-image:-o-linear-gradient(top,#4d90fe,#357ae8);background-image:-webkit-gradient(linear,left top,left bottom,from(#4d90fe),to(#357ae8));background-image:-webkit-linear-gradient(top,#4d90fe,#357ae8);background-color:#357ae8;background-image:linear-gradient(top,#4d90fe,#357ae8);border:1px solid #2f5bb7}.lsb{background:transparent;background-position:0 -343px;background-repeat:repeat-x;border:none;color:#000;cursor:default;font:15px arial,sans-serif;height:29px;margin:0;vertical-align:top;width:100%}.lsb:active{-moz-box-shadow:inset 0 1px 2px rgba(0,0,0,0.3);-webkit-box-shadow:inset 0 1px 2px rgba(0,0,0,0.3);box-shadow:inset 0 1px 2px rgba(0,0,0,0.3);background:transparent;color:transparent;overflow:hidden;position:relative;width:100%}.sbico{color:transparent;display:inline-block;height:15px;margin:0 auto;margin-top:2px;width:15px;overflow:hidden}</style><script nonce=\"528af1aj01xLVPHcwasNOg==\">(function(){window.google={kEI:\\'W2OBXMXJFOixmAWH8ZTQAQ\\',kEXPI:\\'0,1353747,57,51,1907,1016,1406,697,528,730,224,1575,30,1228,384,421,18,932,5,133,57,13,515,350,79,56,147,2333969,329540,1294,12383,4855,32691,15248,867,7505,4658,5281,11240,363,3320,1263,4242,1241,1201,5367,575,835,284,2,579,727,2432,1361,4324,4921,11,34,774,2249,2821,1924,1151,2,1965,2595,3601,669,1050,1808,1129,268,81,7,491,620,29,1395,978,3327,3395,1209,876,412,2,554,3453,91,705,1220,38,363,557,682,36,28,7,120,1217,93,1271,346,1,137,47,1080,542,2194,292,1266,1245,227,31,2,631,217,2186,159,2,4,2,463,207,44,334,600,1253,598,96,1423,354,125,1051,110,1447,631,464,950,350,25,928,18,2,147,20,317,56,179,20,2,526,783,1805,331,208,207,150,250,1317,608,73,2,22,208,548,85,1,12,392,30,399,39,11,326,2,510,22,82,456,247,136,162,116,168,8,85,24,187,831,82,153,78,365,33,115,22,647,174,18,5,195,23,315,7,146,3,121,134,48,76,488,14,15,184,169,75,224,77,175,340,74,349,42,41,186,2,373,74,40,142,14,229,426,229,11,121,118,59,10,5954646,2554,255,72,3\\',authuser:0,kscs:\\'c9c918f0_W2OBXMXJFOixmAWH8ZTQAQ\\',kGL:\\'KR\\'};google.sn=\\'web\\';google.kHL=\\'ko\\';})();(function(){google.lc=[];google.li=0;google.getEI=function(a){for(var b;a&&(!a.getAttribute||!(b=a.getAttribute(\"eid\")));)a=a.parentNode;return b||google.kEI};google.getLEI=function(a){for(var b=null;a&&(!a.getAttribute||!(b=a.getAttribute(\"leid\")));)a=a.parentNode;return b};google.https=function(){return\"https:\"==window.location.protocol};google.ml=function(){return null};google.time=function(){return(new Date).getTime()};google.log=function(a,b,e,c,g){if(a=google.logUrl(a,b,e,c,g)){b=new Image;var d=google.lc,f=google.li;d[f]=b;b.onerror=b.onload=b.onabort=function(){delete d[f]};google.vel&&google.vel.lu&&google.vel.lu(a);b.src=a;google.li=f+1}};google.logUrl=function(a,b,e,c,g){var d=\"\",f=google.ls||\"\";e||-1!=b.search(\"&ei=\")||(d=\"&ei=\"+google.getEI(c),-1==b.search(\"&lei=\")&&(c=google.getLEI(c))&&(d+=\"&lei=\"+c));c=\"\";!e&&google.cshid&&-1==b.search(\"&cshid=\")&&\"slh\"!=a&&(c=\"&cshid=\"+google.cshid);a=e||\"/\"+(g||\"gen_204\")+\"?atyp=i&ct=\"+a+\"&cad=\"+b+d+f+\"&zx=\"+google.time()+c;/^http:/i.test(a)&&google.https()&&(google.ml(Error(\"a\"),!1,{src:a,glmm:1}),a=\"\");return a};}).call(this);(function(){google.y={};google.x=function(a,b){if(a)var c=a.id;else{do c=Math.random();while(google.y[c])}google.y[c]=[a,b];return!1};google.lm=[];google.plm=function(a){google.lm.push.apply(google.lm,a)};google.lq=[];google.load=function(a,b,c){google.lq.push([[a],b,c])};google.loadAll=function(a,b){google.lq.push([a,b])};}).call(this);google.f={};(function(){var b=[function(){google.c&&google.tick(\"load\",\"dcl\")}];google.dclc=function(a){b.length?b.push(a):a()};function c(){for(var a;a=b.shift();)a()}window.addEventListener?(document.addEventListener(\"DOMContentLoaded\",c,!1),window.addEventListener(\"load\",c,!1)):window.attachEvent&&window.attachEvent(\"onload\",c);}).call(this);</script><script type=\"text/javascript\" nonce=\"528af1aj01xLVPHcwasNOg==\"></script><script nonce=\"528af1aj01xLVPHcwasNOg==\">(function(){google.sham=function(c){for(var d=c.parentElement,a=null,b=0;b<d.childNodes.length;b++){var e=d.childNodes[b];-1<(\" \"+e.className+\" \").indexOf(\" am-dropdown-menu \")&&(a=e)}\"none\"==a.style.display?(a.style.display=\"\",google.log(\"hpam\",\"&ved=\"+c.getAttribute(\"data-ved\"))):a.style.display=\"none\"};}).call(this);(function(){var b=[];google.jsc={xx:b,x:function(a){b.push(a)},mm:[],m:function(a){google.jsc.mm.length||(google.jsc.mm=a)}};}).call(this);</script></head><body class=\"hsrp\" bgcolor=\"#ffffff\" marginheight=\"0\" marginwidth=\"0\" topmargin=\"0\"><div id=gbar><nobr><b class=gb1>&#44160;&#49353;</b> <a class=gb1 href=\"https://www.google.co.kr/search?hl=ko&tbm=isch&source=og&tab=wi\">&#51060;&#48120;&#51648;</a> <a class=gb1 href=\"https://maps.google.co.kr/maps?hl=ko&tab=wl\">&#51648;&#46020;</a> <a class=gb1 href=\"https://play.google.com/?hl=ko&tab=w8\">Play</a> <a class=gb1 href=\"https://www.youtube.com/results?gl=KR&tab=w1\">YouTube</a> <a class=gb1 href=\"https://news.google.co.kr/nwshp?hl=ko&tab=wn\">&#45684;&#49828;</a> <a class=gb1 href=\"https://mail.google.com/mail/?tab=wm\">Gmail</a> <a class=gb1 href=\"https://drive.google.com/?tab=wo\">&#46300;&#46972;&#51060;&#48652;</a> <a class=gb1 style=\"text-decoration:none\" href=\"https://www.google.co.kr/intl/ko/about/products?tab=wh\"><u>&#45908;&#48372;&#44592;</u> &raquo;</a></nobr></div><div id=guser width=100%><nobr><span id=gbn class=gbi></span><span id=gbf class=gbf></span><span id=gbe></span><a href=\"http://www.google.co.kr/history/optout?hl=ko\" class=gb4>&#50937; &#44592;&#47197;</a> | <a  href=\"/preferences?hl=ko\" class=gb4>&#49444;&#51221;</a> | <a target=_top id=gb_70 href=\"https://accounts.google.com/ServiceLogin?hl=ko&passive=true&continue=https://www.google.com/search%3Fq%3D%25ED%258C%258C%25EC%259D%25B4%25EC%258D%25AC%26oq%3D%25ED%258C%258C%25EC%259D%25B4%25EC%258D%25AC%26aqs%3Dchrome..69i57j69i65l3j35i39j0.2946j0j9%26sourceid%3Dchrome%26ie%3DUTF-8\" class=gb4>&#47196;&#44536;&#51064;</a></nobr></div><div class=gbh style=left:0></div><div class=gbh style=right:0></div><table id=\"mn\" border=\"0\" cellpadding=\"0\" cellspacing=\"0\" style=\"position:relative\"><tr><th width=\"132\"></th><th width=\"573\"></th><th width=\"278\"></th><th></th></tr><tr><td class=\"sfbgg\" valign=\"top\"><div id=\"logocont\"><h1><a href=\"/webhp?hl=ko\" style=\"background-image:url(/images/nav_logo229.png);background-repeat:no-repeat;height:37px;width:95px;display:block;background-position:0 -41px\" id=\"logo\" title=\"Go to Google Home\"></a></h1></div></td><td class=\"sfbgg\" colspan=\"2\" valign=\"top\" style=\"padding-left:0px\"><form style=\"display:block;margin:0;background:none\" action=\"/search\" id=\"tsf\" method=\"GET\" name=\"gs\"><table border=\"0\" cellpadding=\"0\" cellspacing=\"0\" style=\"margin-top:20px;position:relative\"><tr><td><div class=\"lst-a\"><table cellpadding=\"0\" cellspacing=\"0\"><tr><td class=\"lst-td tia\" width=\"526\" valign=\"bottom\"><div style=\"position:relative;zoom:1\"><input class=\"lst\" value=\"&#54028;&#51060;&#50028;\" title=\"&#44160;&#49353;\" autocomplete=\"off\" id=\"sbhost\" maxlength=\"2048\" name=\"q\" type=\"text\"></div></td><td class=\"lst-td\"><div class=\"lst-b\"><img style=\"padding-top:2px\" data-script-url=\"/textinputassistant/11/ko_tia.js\" src=\"/textinputassistant/tia.png\" alt=\"\" height=\"23\" onclick=\"var s=document.createElement(\\'script\\');s.src=this.getAttribute(\\'data-script-url\\');(document.getElementById(\\'xjsc\\')||document.body).appendChild(s);\" width=\"27\"></div></td></tr></table></div></td><td><div class=\"ds\" style=\"margin-left:16px\"><div class=\"lsbb\"><button class=\"lsb\" value=\"&#44160;&#49353;\" name=\"btnG\" type=\"submit\"><span class=\"sbico\" style=\"background-image:url(/images/nav_logo229.png);background-repeat:no-repeat;height:14px;width:13px;display:block;background-position:-36px -111px\"></span></button></div></div></td></tr></table></form></td><td class=\"sfbgg\">&nbsp;</td></tr><tr style=\"position:relative\"><td><div style=\"border-bottom:1px solid #ebebeb;height:59px\"></div></td><td colspan=\"2\"><div class=\"tn\"><div class=\"qrSWbe tnuiC sFTC8c pqkqJe\">&#51204;&#52404;</div><div class=\"sFTC8c\"><a class=\"qrSWbe KDZjCd\" href=\"/search?q=%ED%8C%8C%EC%9D%B4%EC%8D%AC&amp;ie=UTF-8&amp;prmd=ivnsb&amp;source=lnms&amp;tbm=isch&amp;sa=X&amp;ved=0ahUKEwiF48Hy1PDgAhXoGKYKHYc4BRoQ_AUIBQ\">&#51060;&#48120;&#51648;</a></div><div class=\"sFTC8c\"><a class=\"qrSWbe KDZjCd\" href=\"/search?q=%ED%8C%8C%EC%9D%B4%EC%8D%AC&amp;ie=UTF-8&amp;prmd=ivnsb&amp;source=lnms&amp;tbm=vid&amp;sa=X&amp;ved=0ahUKEwiF48Hy1PDgAhXoGKYKHYc4BRoQ_AUIBg\">&#46041;&#50689;&#49345;</a></div><div class=\"sFTC8c\"><a class=\"qrSWbe KDZjCd\" href=\"/search?q=%ED%8C%8C%EC%9D%B4%EC%8D%AC&amp;ie=UTF-8&amp;prmd=ivnsb&amp;source=lnms&amp;tbm=nws&amp;sa=X&amp;ved=0ahUKEwiF48Hy1PDgAhXoGKYKHYc4BRoQ_AUIBw\">&#45684;&#49828;</a></div><div class=\"sFTC8c\"><a class=\"qrSWbe KDZjCd\" href=\"/search?q=%ED%8C%8C%EC%9D%B4%EC%8D%AC&amp;ie=UTF-8&amp;prmd=ivnsb&amp;source=lnms&amp;tbm=shop&amp;sa=X&amp;ved=0ahUKEwiF48Hy1PDgAhXoGKYKHYc4BRoQ_AUICA\">&#49660;&#54609;</a></div><div class=\"sFTC8c\"><a class=\"qrSWbe KDZjCd\" href=\"/search?q=%ED%8C%8C%EC%9D%B4%EC%8D%AC&amp;ie=UTF-8&amp;prmd=ivnsb&amp;source=lnms&amp;tbm=bks&amp;sa=X&amp;ved=0ahUKEwiF48Hy1PDgAhXoGKYKHYc4BRoQ_AUICQ\">&#46020;&#49436;</a></div><div class=\"sFTC8c\"><a class=\"qrSWbe KDZjCd\" href=\"https://maps.google.com/maps?q=%ED%8C%8C%EC%9D%B4%EC%8D%AC&amp;um=1&amp;ie=UTF-8&amp;sa=X&amp;ved=0ahUKEwiF48Hy1PDgAhXoGKYKHYc4BRoQ_AUICg\">&#51648;&#46020;</a></div></div><div style=\"border-bottom:1px solid #ebebeb;height:59px\"></div></td><td><div style=\"border-bottom:1px solid #ebebeb;height:59px\"></div></td></tr><tbody id=\"desktop-search\"><style>.pCA4Bd,.pCA4Bd a:link,.pCA4Bd a:visited,a.pCA4Bd:link,a.pCA4Bd:visited{color:#808080}.AzrInc{color:#61C}.ellip{overflow:hidden;text-overflow:ellipsis;white-space:nowrap}.VBt9Dc{border:1px solid #e0e0e0;font-size:13px;margin-right:-2px;}.V7Q8V{margin:4px 10px}.AwJT2c{background:white;border-bottom:0;border-left:0;border-right:0;border-top:1px solid #e0e0e0;cursor:pointer;height:40px;outline:0;width:100%}.dxrUgb{color:#777;font-size:11px}.dxrUgb a{color:#777;text-decoration:none}.xpdclpsbtn{}.xpdxpndbtn{}.xpdclpsbtn .KMK5T{background:url(/images/nav_logo229.png) no-repeat -50px -79px;height:22px;width:64px}.xpdxpndbtn .KMK5T{background:url(/images/nav_logo229.png) no-repeat -50px -102px;height:22px;width:64px}.mraOPb{color:#222;font-size:15px;line-height:normal;margin:12px 0}.dXAUyb{margin:4px 0}.R8KuR{margin:10px;overflow:hidden;position:relative;white-space:nowrap;}.M1e9Oe{display:-moz-inline-stack;display:inline-block;position:relative;width:100%;z-index:0;}.OSMzvb{display:-moz-inline-stack;display:inline-block;max-width:100%;overflow:hidden;}.JKXCdf{position:absolute;right:0;z-index:1;}.FSP1Dd{border-top:1px solid #e0e0e0;color:#000;font-size:22px;margin-top:-5px;padding-top:10px}.CB9G1b{color:#000;font-size:14px}.F7uZG{color:#777;margin:4px 0;overflow:hidden}.Rlw09{margin-bottom:20px}.cC4Myd{color:#212121}.A1t5ne{color:#777}.cC4Myd{font-weight:bold}.xKoZHf{margin-left:10px}.B27ELd.ty7XEe{margin-right:10px}.x32fhf{color:#222;font-size:18px;margin:20px 0 8px 0}.lHETUb{color:#222;font-size:18px;margin:20px 10px 8px 10px}.B27ELd{display:-moz-inline-stack;display:inline-block;margin-bottom:10px;margin-right:21px;text-align:left;vertical-align:top;}.tQOFN{overflow:hidden}.czonVc{color:#777;overflow:hidden;text-overflow:ellipsis;white-space:normal;word-wrap:break-word}.brYqc{margin:6px 0 0 8px;overflow:hidden;text-overflow:ellipsis;white-space:normal;word-wrap:break-word}</style><tr><td id=\"leftnav\" valign=\"top\"><div><h2 class=\"hd\">Search Options</h2><ul class=\"med\" id=\"tbd\"><li><ul class=\"tbt\"><li class=\"tbos\" id=\"lr_\">&#47784;&#46304; &#50616;&#50612;</li><li class=\"tbou\" id=\"lr_lang_1ko\"><a class=\"q\" href=\"/search?q=%ED%8C%8C%EC%9D%B4%EC%8D%AC&amp;ie=UTF-8&amp;prmd=ivnsb&amp;source=lnt&amp;tbs=lr:lang_1ko&amp;lr=lang_ko&amp;sa=X&amp;ved=0ahUKEwiF48Hy1PDgAhXoGKYKHYc4BRoQpwUIDw\">&#54620;&#44397;&#50612; &#50937;</a></li></ul></li><li><ul class=\"tbt\"><li class=\"tbos\" id=\"qdr_\">&#47784;&#46304; &#45216;&#51676;</li><li class=\"tbou\" id=\"qdr_h\"><a class=\"q\" href=\"/search?q=%ED%8C%8C%EC%9D%B4%EC%8D%AC&amp;ie=UTF-8&amp;prmd=ivnsb&amp;source=lnt&amp;tbs=qdr:h&amp;sa=X&amp;ved=0ahUKEwiF48Hy1PDgAhXoGKYKHYc4BRoQpwUIDw\"> &#51648;&#45212; 1&#49884;&#44036;</a></li><li class=\"tbou\" id=\"qdr_d\"><a class=\"q\" href=\"/search?q=%ED%8C%8C%EC%9D%B4%EC%8D%AC&amp;ie=UTF-8&amp;prmd=ivnsb&amp;source=lnt&amp;tbs=qdr:d&amp;sa=X&amp;ved=0ahUKEwiF48Hy1PDgAhXoGKYKHYc4BRoQpwUIDw\"> &#51648;&#45212; 1&#51068;</a></li><li class=\"tbou\" id=\"qdr_w\"><a class=\"q\" href=\"/search?q=%ED%8C%8C%EC%9D%B4%EC%8D%AC&amp;ie=UTF-8&amp;prmd=ivnsb&amp;source=lnt&amp;tbs=qdr:w&amp;sa=X&amp;ved=0ahUKEwiF48Hy1PDgAhXoGKYKHYc4BRoQpwUIDw\"> &#51648;&#45212; 1&#51452;</a></li><li class=\"tbou\" id=\"qdr_m\"><a class=\"q\" href=\"/search?q=%ED%8C%8C%EC%9D%B4%EC%8D%AC&amp;ie=UTF-8&amp;prmd=ivnsb&amp;source=lnt&amp;tbs=qdr:m&amp;sa=X&amp;ved=0ahUKEwiF48Hy1PDgAhXoGKYKHYc4BRoQpwUIDw\"> &#51648;&#45212; 1&#44060;&#50900;</a></li><li class=\"tbou\" id=\"qdr_y\"><a class=\"q\" href=\"/search?q=%ED%8C%8C%EC%9D%B4%EC%8D%AC&amp;ie=UTF-8&amp;prmd=ivnsb&amp;source=lnt&amp;tbs=qdr:y&amp;sa=X&amp;ved=0ahUKEwiF48Hy1PDgAhXoGKYKHYc4BRoQpwUIDw\"> &#51648;&#45212; 1&#45380;</a></li></ul></li><li><ul class=\"tbt\"><li class=\"tbos\" id=\"li_\">&#47784;&#46304; &#44208;&#44284;</li><li class=\"tbou\" id=\"li_1\"><a class=\"q\" href=\"/search?q=%ED%8C%8C%EC%9D%B4%EC%8D%AC&amp;ie=UTF-8&amp;prmd=ivnsb&amp;source=lnt&amp;tbs=li:1&amp;sa=X&amp;ved=0ahUKEwiF48Hy1PDgAhXoGKYKHYc4BRoQpwUIDw\">&#50756;&#51204;&#51068;&#52824;</a></li></ul></li></ul></div></td><td valign=\"top\"><div id=\"center_col\"><div class=\"sd\" id=\"resultStats\">&#44160;&#49353;&#44208;&#44284; &#50557; 1,540,000&#44060;</div><div id=\"res\"><div id=\"topstuff\"></div><div id=\"search\"><div id=\"ires\"><ol><div class=\"g\"><h3 class=\"r\"><a href=\"/url?q=https://www.python.org/&amp;sa=U&amp;ved=0ahUKEwiF48Hy1PDgAhXoGKYKHYc4BRoQFggUMAA&amp;usg=AOvVaw3TlcOind3D38ULPEERgpA4\">Welcome to <b>Python</b>.org</a></h3><div class=\"s\"><div class=\"hJND5c\" style=\"margin-bottom:2px\"><cite>https://www.<b>python</b>.org/</cite><div class=\"Pj9hGd\"><div style=\"display:inline\" onclick=\"google.sham(this);\" aria-expanded=\"false\" aria-haspopup=\"true\" tabindex=\"0\" data-ved=\"0ahUKEwiF48Hy1PDgAhXoGKYKHYc4BRoQ7B0IFTAA\"><span class=\"CiacGf\"></span></div><div style=\"display:none\" class=\"am-dropdown-menu\" role=\"menu\" tabindex=\"-1\"><ul><li class=\"mUpfKd\"><a class=\"imx0m\" href=\"/url?q=http://webcache.googleusercontent.com/search%3Fq%3Dcache:Fvb7Gz_c4rwJ:https://www.python.org/%252B%25ED%258C%258C%25EC%259D%25B4%25EC%258D%25AC%26hl%3Dko%26ct%3Dclnk&amp;sa=U&amp;ved=0ahUKEwiF48Hy1PDgAhXoGKYKHYc4BRoQIAgXMAA&amp;usg=AOvVaw2bLdQPSm8HO9jwgTLW7ecs\">&#51200;&#51109;&#46108; &#54168;&#51060;&#51648;</a></li><li class=\"mUpfKd\"><a class=\"imx0m\" href=\"/search?ie=UTF-8&amp;q=related:https://www.python.org/+%ED%8C%8C%EC%9D%B4%EC%8D%AC&amp;tbo=1&amp;sa=X&amp;ved=0ahUKEwiF48Hy1PDgAhXoGKYKHYc4BRoQHwgYMAA\">&#50976;&#49324;&#54620; &#54168;&#51060;&#51648;</a></li></ul></div></div></div><span class=\"st\">The official home of the <b>Python</b> Programming Language.</span><br><div class=\"osl\"><a href=\"/url?q=https://www.python.org/downloads/release/python-372/&amp;sa=U&amp;ved=0ahUKEwiF48Hy1PDgAhXoGKYKHYc4BRoQ0gIIGigAMAA&amp;usg=AOvVaw2a9Y3SKhalxWwq0Szv-VOB\">Download Python 3.7.2</a> - <a href=\"/url?q=https://www.python.org/downloads/&amp;sa=U&amp;ved=0ahUKEwiF48Hy1PDgAhXoGKYKHYc4BRoQ0gIIGygBMAA&amp;usg=AOvVaw3m_iSd-VVgBImcIYq6fqlV\">Downloads</a> - <a href=\"/url?q=https://www.python.org/doc/&amp;sa=U&amp;ved=0ahUKEwiF48Hy1PDgAhXoGKYKHYc4BRoQ0gIIHCgCMAA&amp;usg=AOvVaw2AMlkhDAUvrAPaeON6rikF\">Documentation</a> - <a href=\"/url?q=https://www.python.org/downloads/windows/&amp;sa=U&amp;ved=0ahUKEwiF48Hy1PDgAhXoGKYKHYc4BRoQ0gIIHSgDMAA&amp;usg=AOvVaw3Dc6A0FyBmaCbKw56iKzsu\">Windows</a></div></div></div><div class=\"g\"><h3 class=\"r\"><a href=\"/url?q=https://docs.python.org/ko/3/tutorial/index.html&amp;sa=U&amp;ved=0ahUKEwiF48Hy1PDgAhXoGKYKHYc4BRoQFggfMAE&amp;usg=AOvVaw2ew7Z8Ft7NW2W6tK_A04FU\"><b>&#54028;&#51060;&#50028;</b> &#51088;&#49845;&#49436; &#8212; <b>Python</b> 3.7.2 documentation</a></h3><div class=\"s\"><div class=\"hJND5c\" style=\"margin-bottom:2px\"><cite>https://docs.<b>python</b>.org/ko/3/tutorial/index.html</cite><div class=\"Pj9hGd\"><div style=\"display:inline\" onclick=\"google.sham(this);\" aria-expanded=\"false\" aria-haspopup=\"true\" tabindex=\"0\" data-ved=\"0ahUKEwiF48Hy1PDgAhXoGKYKHYc4BRoQ7B0IIDAB\"><span class=\"CiacGf\"></span></div><div style=\"display:none\" class=\"am-dropdown-menu\" role=\"menu\" tabindex=\"-1\"><ul><li class=\"mUpfKd\"><a class=\"imx0m\" href=\"/url?q=http://webcache.googleusercontent.com/search%3Fq%3Dcache:Rib_O5KvImcJ:https://docs.python.org/ko/3/tutorial/index.html%252B%25ED%258C%258C%25EC%259D%25B4%25EC%258D%25AC%26hl%3Dko%26ct%3Dclnk&amp;sa=U&amp;ved=0ahUKEwiF48Hy1PDgAhXoGKYKHYc4BRoQIAgiMAE&amp;usg=AOvVaw23rFWyZ0n2WAPbA0fF9lxZ\">&#51200;&#51109;&#46108; &#54168;&#51060;&#51648;</a></li></ul></div></div></div><span class=\"st\"><b>&#54028;&#51060;&#50028;</b>&#51008; &#48176;&#50864;&#44592; &#49789;&#44256;, &#44053;&#47141;&#54620; &#54532;&#47196;&#44536;&#47000;&#48141; &#50616;&#50612;&#51077;&#45768;&#45796;. &#54952;&#50984;&#51201;&#51064; &#51088;&#47308; &#44396;&#51312;&#46308;&#44284; <br>\\n&#44061;&#52404; &#51648;&#54693; &#54532;&#47196;&#44536;&#47000;&#48141;&#50640; &#45824;&#54644; &#44036;&#45800;&#54616;&#44256;&#46020; &#54952;&#44284;&#51201;&#51064; &#51217;&#44540;&#48277;&#51012; &#51228;&#44277;&#54633;&#45768;&#45796;. &#50864;&#50500;&#54620; <br>\\n&#47928;&#48277;&nbsp;...</span><br></div></div><div class=\"g\"><h3 class=\"r\"><a href=\"/url?q=https://namu.wiki/w/Python&amp;sa=U&amp;ved=0ahUKEwiF48Hy1PDgAhXoGKYKHYc4BRoQFggkMAI&amp;usg=AOvVaw03qMkoSFZPF9UqkNkiAVNZ\"><b>Python</b> - &#45208;&#47924;&#50948;&#53412;</a></h3><div class=\"s\"><div class=\"hJND5c\" style=\"margin-bottom:2px\"><cite>https://namu.wiki/w/<b>Python</b></cite><div class=\"Pj9hGd\"><div style=\"display:inline\" onclick=\"google.sham(this);\" aria-expanded=\"false\" aria-haspopup=\"true\" tabindex=\"0\" data-ved=\"0ahUKEwiF48Hy1PDgAhXoGKYKHYc4BRoQ7B0IJTAC\"><span class=\"CiacGf\"></span></div><div style=\"display:none\" class=\"am-dropdown-menu\" role=\"menu\" tabindex=\"-1\"><ul><li class=\"mUpfKd\"><a class=\"imx0m\" href=\"/search?ie=UTF-8&amp;q=related:https://namu.wiki/w/Python+%ED%8C%8C%EC%9D%B4%EC%8D%AC&amp;tbo=1&amp;sa=X&amp;ved=0ahUKEwiF48Hy1PDgAhXoGKYKHYc4BRoQHwgnMAI\">&#50976;&#49324;&#54620; &#54168;&#51060;&#51648;</a></li></ul></div></div></div><span class=\"st\">6&#51068; &#51204; <b>...</b> Stackless <b>Python</b>4.2. C &#50616;&#50612; &#54869;&#51109;, Cython4.3. C++ &#44396;&#54788;, Pyston (&#54532;&#47196;&#51229;&#53944; &#51473;&#45800;)<br>\\n4.4. <b>Python</b> &#44396;&#54788;, PyPy4.5. Java &#54869;&#51109;, Pyjnius4.6. Java &#44396;&#54788;&nbsp;...</span><br><div class=\"osl\"><a href=\"/url?q=https://namu.wiki/w/PyPy&amp;sa=U&amp;ved=0ahUKEwiF48Hy1PDgAhXoGKYKHYc4BRoQ0gIIKigAMAI&amp;usg=AOvVaw0djNTfELM1KAPHcjsEqcRp\">PyPy</a> - <a href=\"/url?q=https://namu.wiki/w/%25EB%25A6%25AC%25EB%2588%2585%25EC%258A%25A4&amp;sa=U&amp;ved=0ahUKEwiF48Hy1PDgAhXoGKYKHYc4BRoQ0gIIKygBMAI&amp;usg=AOvVaw3du3tHYziESgzFD6StyT4X\">&#47532;&#45573;&#49828;</a> - <a href=\"/url?q=https://namu.wiki/w/%25EA%25B5%25AD%25EB%25B6%2580%25EB%25A1%25A0&amp;sa=U&amp;ved=0ahUKEwiF48Hy1PDgAhXoGKYKHYc4BRoQ0gIILCgCMAI&amp;usg=AOvVaw0082uwQ1VRtq-eIyMKAQFK\">&#44397;&#48512;&#47200;</a> - <a href=\"/url?q=https://namu.wiki/w/%25ED%2585%2590%25EC%2584%259C%25ED%2594%258C%25EB%25A1%259C%25EC%259A%25B0&amp;sa=U&amp;ved=0ahUKEwiF48Hy1PDgAhXoGKYKHYc4BRoQ0gIILSgDMAI&amp;usg=AOvVaw1WIhmU-o0OBdNLr9vHH4JS\">&#53584;&#49436;&#54540;&#47196;&#50864;</a></div></div></div><div class=\"g\"><h3 class=\"r\"><a href=\"/url?q=https://ko.wikipedia.org/wiki/%25ED%258C%258C%25EC%259D%25B4%25EC%258D%25AC&amp;sa=U&amp;ved=0ahUKEwiF48Hy1PDgAhXoGKYKHYc4BRoQFggvMAM&amp;usg=AOvVaw3rJ9pypxZLH2yIm2IOeER_\"><b>&#54028;&#51060;&#50028;</b> - &#50948;&#53412;&#48177;&#44284;, &#50864;&#47532; &#47784;&#46160;&#51032; &#48177;&#44284;&#49324;&#51204;</a></h3><div class=\"s\"><div class=\"hJND5c\" style=\"margin-bottom:2px\"><cite>https://ko.wikipedia.org/wiki/<b>&#54028;&#51060;&#50028;</b></cite><div class=\"Pj9hGd\"><div style=\"display:inline\" onclick=\"google.sham(this);\" aria-expanded=\"false\" aria-haspopup=\"true\" tabindex=\"0\" data-ved=\"0ahUKEwiF48Hy1PDgAhXoGKYKHYc4BRoQ7B0IMDAD\"><span class=\"CiacGf\"></span></div><div style=\"display:none\" class=\"am-dropdown-menu\" role=\"menu\" tabindex=\"-1\"><ul><li class=\"mUpfKd\"><a class=\"imx0m\" href=\"/url?q=http://webcache.googleusercontent.com/search%3Fq%3Dcache:OL25IRr7kSMJ:https://ko.wikipedia.org/wiki/%2525ED%25258C%25258C%2525EC%25259D%2525B4%2525EC%25258D%2525AC%252B%25ED%258C%258C%25EC%259D%25B4%25EC%258D%25AC%26hl%3Dko%26ct%3Dclnk&amp;sa=U&amp;ved=0ahUKEwiF48Hy1PDgAhXoGKYKHYc4BRoQIAgyMAM&amp;usg=AOvVaw2JIh7HKsDs7gf2aTotkS1d\">&#51200;&#51109;&#46108; &#54168;&#51060;&#51648;</a></li><li class=\"mUpfKd\"><a class=\"imx0m\" href=\"/search?ie=UTF-8&amp;q=related:https://ko.wikipedia.org/wiki/%25ED%258C%258C%25EC%259D%25B4%25EC%258D%25AC+%ED%8C%8C%EC%9D%B4%EC%8D%AC&amp;tbo=1&amp;sa=X&amp;ved=0ahUKEwiF48Hy1PDgAhXoGKYKHYc4BRoQHwgzMAM\">&#50976;&#49324;&#54620; &#54168;&#51060;&#51648;</a></li></ul></div></div></div><span class=\"st\"><b>&#54028;&#51060;&#50028;</b>(&#50689;&#50612;: <b>Python</b>)&#51008; 1991&#45380; &#54532;&#47196;&#44536;&#47000;&#47672;&#51064; &#44480;&#46020; &#48152; &#47196;&#49452;(Guido van Rossum)&#51060; <br>\\n&#48156;&#54364;&#54620; &#44256;&#44553; &#54532;&#47196;&#44536;&#47000;&#48141; &#50616;&#50612;&#47196;, &#54540;&#47019;&#54268; &#46021;&#47549;&#51201;&#51060;&#47728; &#51064;&#53552;&#54532;&#47532;&#53552;&#49885;, &#44061;&#52404;&#51648;&#54693;&#51201;,&nbsp;...</span><br><div class=\"osl\"><a href=\"/url?q=https://ko.wikipedia.org/wiki/%25ED%258C%258C%25EC%259D%25B4%25EC%258D%25AC%23%25EA%25B0%259C%25EC%259A%2594&amp;sa=U&amp;ved=0ahUKEwiF48Hy1PDgAhXoGKYKHYc4BRoQ0gIINSgAMAM&amp;usg=AOvVaw2UK9_kDFI5LQk7IWYFixU9\">&#44060;&#50836;</a> - <a href=\"/url?q=https://ko.wikipedia.org/wiki/%25ED%258C%258C%25EC%259D%25B4%25EC%258D%25AC%23%25EA%25B8%25B0%25EB%258A%25A5%25EA%25B3%25BC_%25EC%25B2%25A0%25ED%2595%2599&amp;sa=U&amp;ved=0ahUKEwiF48Hy1PDgAhXoGKYKHYc4BRoQ0gIINigBMAM&amp;usg=AOvVaw3bQSEhIWtcf8-a4QP8vFiU\">&#44592;&#45733;&#44284; &#52384;&#54617;</a> - <a href=\"/url?q=https://ko.wikipedia.org/wiki/%25ED%258C%258C%25EC%259D%25B4%25EC%258D%25AC%23%25EB%25AC%25B8%25EB%25B2%2595&amp;sa=U&amp;ved=0ahUKEwiF48Hy1PDgAhXoGKYKHYc4BRoQ0gIINygCMAM&amp;usg=AOvVaw1-6nCDrC6MeSB4iGQD_R2r\">&#47928;&#48277;</a> - <a href=\"/url?q=https://ko.wikipedia.org/wiki/%25ED%258C%258C%25EC%259D%25B4%25EC%258D%25AC%23%25EC%259E%2590%25EB%25A3%258C%25ED%2598%2595&amp;sa=U&amp;ved=0ahUKEwiF48Hy1PDgAhXoGKYKHYc4BRoQ0gIIOCgDMAM&amp;usg=AOvVaw2hrYkkUjLtsyMFOyksodaq\">&#51088;&#47308;&#54805;</a></div></div></div><div class=\"g\"><h3 class=\"r\"><a href=\"/url?q=https://programmers.co.kr/learn/courses/2&amp;sa=U&amp;ved=0ahUKEwiF48Hy1PDgAhXoGKYKHYc4BRoQFgg6MAQ&amp;usg=AOvVaw38r-m17ZPcf8Uu2mUQ_moP\"><b>&#54028;&#51060;&#50028;</b> &#51077;&#47928; | &#54532;&#47196;&#44536;&#47000;&#47672;&#49828;</a></h3><div class=\"s\"><div class=\"hJND5c\" style=\"margin-bottom:2px\"><cite>https://programmers.co.kr/learn/courses/2</cite><div class=\"Pj9hGd\"><div style=\"display:inline\" onclick=\"google.sham(this);\" aria-expanded=\"false\" aria-haspopup=\"true\" tabindex=\"0\" data-ved=\"0ahUKEwiF48Hy1PDgAhXoGKYKHYc4BRoQ7B0IOzAE\"><span class=\"CiacGf\"></span></div><div style=\"display:none\" class=\"am-dropdown-menu\" role=\"menu\" tabindex=\"-1\"><ul><li class=\"mUpfKd\"><a class=\"imx0m\" href=\"/url?q=http://webcache.googleusercontent.com/search%3Fq%3Dcache:aio5TDg8-NcJ:https://programmers.co.kr/learn/courses/2%252B%25ED%258C%258C%25EC%259D%25B4%25EC%258D%25AC%26hl%3Dko%26ct%3Dclnk&amp;sa=U&amp;ved=0ahUKEwiF48Hy1PDgAhXoGKYKHYc4BRoQIAg9MAQ&amp;usg=AOvVaw1uPXOuW53-hh45ENwTK3jO\">&#51200;&#51109;&#46108; &#54168;&#51060;&#51648;</a></li></ul></div></div></div><span class=\"st\">&#54616;&#47336; 15&#48516;, &#45572;&#44396;&#45208; &#54532;&#47196;&#44536;&#47000;&#48141;&#51012; &#54624; &#49688; &#51080;&#45796;! &#49789;&#51648;&#47564; &#44053;&#47141;&#54620; &#45733;&#47141;&#51012; &#44032;&#51652; <b>&#54028;&#51060;&#50028;</b>&#51004;&#47196; <br>\\n&#54532;&#47196;&#44536;&#47000;&#48141;&#51012; &#49884;&#51089;&#54616;&#49464;&#50836;.<b>Python</b> &#44368;&#51116; &#52636;&#49884;: https://goo.gl/tFTFY6&nbsp;...</span><br></div></div><div class=\"g\"><h3 class=\"r\"><a href=\"/url?q=https://wikidocs.net/43&amp;sa=U&amp;ved=0ahUKEwiF48Hy1PDgAhXoGKYKHYc4BRoQFgg_MAU&amp;usg=AOvVaw0JCpkKxAvjqC7NzE9BF22c\">1. <b>&#54028;&#51060;&#50028;</b> &#49884;&#51089;&#54616;&#44592; - &#50773;&#52488;&#48372;&#47484; &#50948;&#54620; <b>Python</b> 2.7 - WikiDocs</a></h3><div class=\"s\"><div class=\"hJND5c\" style=\"margin-bottom:2px\"><cite>https://wikidocs.net/43</cite><div class=\"Pj9hGd\"><div style=\"display:inline\" onclick=\"google.sham(this);\" aria-expanded=\"false\" aria-haspopup=\"true\" tabindex=\"0\" data-ved=\"0ahUKEwiF48Hy1PDgAhXoGKYKHYc4BRoQ7B0IQDAF\"><span class=\"CiacGf\"></span></div><div style=\"display:none\" class=\"am-dropdown-menu\" role=\"menu\" tabindex=\"-1\"><ul><li class=\"mUpfKd\"><a class=\"imx0m\" href=\"/url?q=http://webcache.googleusercontent.com/search%3Fq%3Dcache:iAvUjph6SDAJ:https://wikidocs.net/43%252B%25ED%258C%258C%25EC%259D%25B4%25EC%258D%25AC%26hl%3Dko%26ct%3Dclnk&amp;sa=U&amp;ved=0ahUKEwiF48Hy1PDgAhXoGKYKHYc4BRoQIAhCMAU&amp;usg=AOvVaw293cZ48uMgDkQllFVdoVvk\">&#51200;&#51109;&#46108; &#54168;&#51060;&#51648;</a></li><li class=\"mUpfKd\"><a class=\"imx0m\" href=\"/search?ie=UTF-8&amp;q=related:https://wikidocs.net/43+%ED%8C%8C%EC%9D%B4%EC%8D%AC&amp;tbo=1&amp;sa=X&amp;ved=0ahUKEwiF48Hy1PDgAhXoGKYKHYc4BRoQHwhDMAU\">&#50976;&#49324;&#54620; &#54168;&#51060;&#51648;</a></li></ul></div></div></div><span class=\"st\">&#44536;&#47000;&#49436; &#50668;&#47084;&#48516;&#44284; &#54632;&#44760; &#48176;&#50864;&#44592; &#49772;&#50868; <b>&#54028;&#51060;&#50028;</b>&#51060;&#46972;&#45716; &#50616;&#50612;&#47484; &#54632;&#44760; &#44277;&#48512;&#54644;&#48372;&#47140;&#44256; &#54633;&#45768;&#45796;. <br>\\n... &#51060; &#44053;&#51340;&#45716; &#54532;&#47196;&#44536;&#47000;&#48141;&#51012; &#52376;&#51020; &#54616;&#45716; &#48516;&#46308;&#51012; &#50948;&#54644;&#49436; <b>&#54028;&#51060;&#50028;</b>&#51012; &#53685;&#54644; &#54532;&#47196;&#44536;&#47000;&#48141;&#51032;&nbsp;...</span><br></div></div><div class=\"g\"><h3 class=\"r\"><a href=\"/url?q=https://wikidocs.net/9&amp;sa=U&amp;ved=0ahUKEwiF48Hy1PDgAhXoGKYKHYc4BRoQFghFMAY&amp;usg=AOvVaw0Uwfzco-Pwiizzex9g4gA0\">01-5 <b>&#54028;&#51060;&#50028;</b> &#46168;&#47084;&#48372;&#44592; - &#51216;&#54532; &#53804; <b>&#54028;&#51060;&#50028;</b> - WikiDocs</a></h3><div class=\"s\"><div class=\"hJND5c\" style=\"margin-bottom:2px\"><cite>https://wikidocs.net/9</cite><div class=\"Pj9hGd\"><div style=\"display:inline\" onclick=\"google.sham(this);\" aria-expanded=\"false\" aria-haspopup=\"true\" tabindex=\"0\" data-ved=\"0ahUKEwiF48Hy1PDgAhXoGKYKHYc4BRoQ7B0IRjAG\"><span class=\"CiacGf\"></span></div><div style=\"display:none\" class=\"am-dropdown-menu\" role=\"menu\" tabindex=\"-1\"><ul><li class=\"mUpfKd\"><a class=\"imx0m\" href=\"/url?q=http://webcache.googleusercontent.com/search%3Fq%3Dcache:zi4nkdgJ1wwJ:https://wikidocs.net/9%252B%25ED%258C%258C%25EC%259D%25B4%25EC%258D%25AC%26hl%3Dko%26ct%3Dclnk&amp;sa=U&amp;ved=0ahUKEwiF48Hy1PDgAhXoGKYKHYc4BRoQIAhIMAY&amp;usg=AOvVaw1xQmBO9yqxKW4GYmV13fcA\">&#51200;&#51109;&#46108; &#54168;&#51060;&#51648;</a></li><li class=\"mUpfKd\"><a class=\"imx0m\" href=\"/search?ie=UTF-8&amp;q=related:https://wikidocs.net/9+%ED%8C%8C%EC%9D%B4%EC%8D%AC&amp;tbo=1&amp;sa=X&amp;ved=0ahUKEwiF48Hy1PDgAhXoGKYKHYc4BRoQHwhJMAY\">&#50976;&#49324;&#54620; &#54168;&#51060;&#51648;</a></li></ul></div></div></div><span class=\"st\">&#46020;&#45824;&#52404; <b>&#54028;&#51060;&#50028;</b>&#51060;&#46972;&#45716; &#50616;&#50612;&#45716; &#50612;&#46523;&#44172; &#49373;&#44220;&#45716;&#51648;, &#44036;&#45800;&#54620; &#53076;&#46300;&#47484; &#51089;&#49457;&#54616;&#47728; &#50508;&#50500;&#48372;&#51088;. <br>\\n<b>&#54028;&#51060;&#50028;</b>&#51012; &#51088;&#49464;&#55176; &#53456;&#44396;&#54616;&#44592; &#51204;&#50640; &#51204;&#52404;&#51201;&#51064; &#47784;&#49845;&#51012; &#51453; &#54993;&#50612;&#48372;&#45716; &#44163;&#51008; &#47588;&#50864; &#50976;&#51061;&#54620; &#51068;&nbsp;...</span><br></div></div><div class=\"g\"><h3 class=\"r\"><a href=\"/url?q=https://wikidocs.net/6&amp;sa=U&amp;ved=0ahUKEwiF48Hy1PDgAhXoGKYKHYc4BRoQFghLMAc&amp;usg=AOvVaw2foq3t87oWOKwWzSaLAhqS\">01-2 <b>&#54028;&#51060;&#50028;</b>&#51032; &#53945;&#51669; - &#51216;&#54532; &#53804; <b>&#54028;&#51060;&#50028;</b> - WikiDocs</a></h3><div class=\"s\"><div class=\"hJND5c\" style=\"margin-bottom:2px\"><cite>https://wikidocs.net/6</cite><div class=\"Pj9hGd\"><div style=\"display:inline\" onclick=\"google.sham(this);\" aria-expanded=\"false\" aria-haspopup=\"true\" tabindex=\"0\" data-ved=\"0ahUKEwiF48Hy1PDgAhXoGKYKHYc4BRoQ7B0ITDAH\"><span class=\"CiacGf\"></span></div><div style=\"display:none\" class=\"am-dropdown-menu\" role=\"menu\" tabindex=\"-1\"><ul><li class=\"mUpfKd\"><a class=\"imx0m\" href=\"/url?q=http://webcache.googleusercontent.com/search%3Fq%3Dcache:LmCkGjF_ShkJ:https://wikidocs.net/6%252B%25ED%258C%258C%25EC%259D%25B4%25EC%258D%25AC%26hl%3Dko%26ct%3Dclnk&amp;sa=U&amp;ved=0ahUKEwiF48Hy1PDgAhXoGKYKHYc4BRoQIAhOMAc&amp;usg=AOvVaw0o7h7jDVy0y2Y7zPT-jbg5\">&#51200;&#51109;&#46108; &#54168;&#51060;&#51648;</a></li><li class=\"mUpfKd\"><a class=\"imx0m\" href=\"/search?ie=UTF-8&amp;q=related:https://wikidocs.net/6+%ED%8C%8C%EC%9D%B4%EC%8D%AC&amp;tbo=1&amp;sa=X&amp;ved=0ahUKEwiF48Hy1PDgAhXoGKYKHYc4BRoQHwhPMAc\">&#50976;&#49324;&#54620; &#54168;&#51060;&#51648;</a></li></ul></div></div></div><span class=\"st\">&#54596;&#51088;&#45716; <b>&#54028;&#51060;&#50028;</b>&#51012; &#47924;&#52377; &#51339;&#50500;&#54620;&#45796;. &#47784;&#46304; &#54532;&#47196;&#44536;&#47000;&#48141; &#50616;&#50612;&#50640;&#45716; &#44033;&#44592; &#51109;&#51216;&#51060; &#51080;&#51648;&#47564; <br>\\n<b>&#54028;&#51060;&#50028;</b>&#50640;&#45716; &#45796;&#47480; &#50616;&#50612;&#46308;&#50640;&#49436;&#45716; &#49789;&#44172; &#52286;&#50500;&#48380; &#49688; &#50630;&#45716; <b>&#54028;&#51060;&#50028;</b>&#47564;&#51032; &#46021;&#53945;&#54620; &#47588;&#47141;&#51060; &#51080;&#45796;<br>\\n.</span><br></div></div><div class=\"g\"><h3 class=\"r\"><a href=\"/url?q=https://wikidocs.net/book/1&amp;sa=U&amp;ved=0ahUKEwiF48Hy1PDgAhXoGKYKHYc4BRoQFghRMAg&amp;usg=AOvVaw0SWZOi6AEbCOwh6sIzApKV\">&#51216;&#54532; &#53804; <b>&#54028;&#51060;&#50028;</b> - WikiDocs</a></h3><div class=\"s\"><div class=\"hJND5c\" style=\"margin-bottom:2px\"><cite>https://wikidocs.net/book/1</cite><div class=\"Pj9hGd\"><div style=\"display:inline\" onclick=\"google.sham(this);\" aria-expanded=\"false\" aria-haspopup=\"true\" tabindex=\"0\" data-ved=\"0ahUKEwiF48Hy1PDgAhXoGKYKHYc4BRoQ7B0IUjAI\"><span class=\"CiacGf\"></span></div><div style=\"display:none\" class=\"am-dropdown-menu\" role=\"menu\" tabindex=\"-1\"><ul><li class=\"mUpfKd\"><a class=\"imx0m\" href=\"/url?q=http://webcache.googleusercontent.com/search%3Fq%3Dcache:5Oj4haYqNfMJ:https://wikidocs.net/book/1%252B%25ED%258C%258C%25EC%259D%25B4%25EC%258D%25AC%26hl%3Dko%26ct%3Dclnk&amp;sa=U&amp;ved=0ahUKEwiF48Hy1PDgAhXoGKYKHYc4BRoQIAhUMAg&amp;usg=AOvVaw1CK7mtbV2ISIuk5P0prMCn\">&#51200;&#51109;&#46108; &#54168;&#51060;&#51648;</a></li><li class=\"mUpfKd\"><a class=\"imx0m\" href=\"/search?ie=UTF-8&amp;q=related:https://wikidocs.net/book/1+%ED%8C%8C%EC%9D%B4%EC%8D%AC&amp;tbo=1&amp;sa=X&amp;ved=0ahUKEwiF48Hy1PDgAhXoGKYKHYc4BRoQHwhVMAg\">&#50976;&#49324;&#54620; &#54168;&#51060;&#51648;</a></li></ul></div></div></div><span class=\"st\">2019&#45380; 2&#50900; 23&#51068; <b>...</b> &#51060; &#52293;&#51008; <b>&#54028;&#51060;&#50028;</b>&#51060;&#46976; &#50616;&#50612;&#47484; &#52376;&#51020; &#51217;&#54644;&#48372;&#45716; &#46021;&#51088;&#46308;&#44284; &#54532;&#47196;&#44536;&#47000;&#48141;&#51012; &#54620; &#48264;&#46020; &#54644; &#48376;&#51201;<br>\\n&#51060; &#50630;&#45716; &#49324;&#46988;&#46308;&#51012; &#45824;&#49345;&#51004;&#47196; &#54620;&#45796;. &#54532;&#47196;&#44536;&#47000;&#48141;&#51012; &#54624; &#46412; &#49324;&#50857;&#46104;&#45716;&nbsp;...</span><br></div></div><div class=\"g\"><h3 class=\"r\"><a href=\"/url?q=https://opentutorials.org/course/1750&amp;sa=U&amp;ved=0ahUKEwiF48Hy1PDgAhXoGKYKHYc4BRoQFghYMAk&amp;usg=AOvVaw3T6s1h-N-wnn9Uii0raxgK\"><b>Python</b> &amp; Ruby - &#49373;&#54876;&#53076;&#46377;</a></h3><div class=\"s\"><div class=\"hJND5c\" style=\"margin-bottom:2px\"><cite>https://opentutorials.org/course/1750</cite><div class=\"Pj9hGd\"><div style=\"display:inline\" onclick=\"google.sham(this);\" aria-expanded=\"false\" aria-haspopup=\"true\" tabindex=\"0\" data-ved=\"0ahUKEwiF48Hy1PDgAhXoGKYKHYc4BRoQ7B0IWTAJ\"><span class=\"CiacGf\"></span></div><div style=\"display:none\" class=\"am-dropdown-menu\" role=\"menu\" tabindex=\"-1\"><ul><li class=\"mUpfKd\"><a class=\"imx0m\" href=\"/url?q=http://webcache.googleusercontent.com/search%3Fq%3Dcache:5f3BzH_j2qwJ:https://opentutorials.org/course/1750%252B%25ED%258C%258C%25EC%259D%25B4%25EC%258D%25AC%26hl%3Dko%26ct%3Dclnk&amp;sa=U&amp;ved=0ahUKEwiF48Hy1PDgAhXoGKYKHYc4BRoQIAhbMAk&amp;usg=AOvVaw3W3ogGrxlTG09WOHkgGbtP\">&#51200;&#51109;&#46108; &#54168;&#51060;&#51648;</a></li><li class=\"mUpfKd\"><a class=\"imx0m\" href=\"/search?ie=UTF-8&amp;q=related:https://opentutorials.org/course/1750+%ED%8C%8C%EC%9D%B4%EC%8D%AC&amp;tbo=1&amp;sa=X&amp;ved=0ahUKEwiF48Hy1PDgAhXoGKYKHYc4BRoQHwhcMAk\">&#50976;&#49324;&#54620; &#54168;&#51060;&#51648;</a></li></ul></div></div></div><span class=\"st\">2017&#45380; 8&#50900; 21&#51068; <b>...</b> &#48376; &#49688;&#50629;&#51008; <b>Python</b>(<b>&#54028;&#51060;&#50028;</b>)&#44284; Ruby(&#47336;&#48708;), Ruby&#50752; <b>Python</b>&#51012; &#46041;&#49884;&#50640; &#48176;&#50864;&#45716; &#49688;&#50629;<br>\\n&#51077;&#45768;&#45796;. &#51200;&#45716; &#51060;&#44163;&#51012; &#48337;&#47148;&#54617;&#49845;&#51060;&#46972;&#44256; &#48512;&#47493;&#45768;&#45796;. &#51060;&#47484; &#53685;&#54644;&#49436;&nbsp;...</span><br></div></div></ol></div></div></div><div style=\"clear:both;margin-bottom:17px;overflow:hidden\"><div style=\"font-size:16px;padding:0 8px 1px\"><b>&#54028;&#51060;&#50028;</b> &#44288;&#47144; &#44160;&#49353;&#50612;</div><table border=\"0\" cellpadding=\"0\" cellspacing=\"0\"><tr><td valign=\"top\"><p class=\"aw5cc\" style=\"margin:3px 8px\"><a href=\"/search?ie=UTF-8&amp;q=%ED%8C%8C%EC%9D%B4%EC%8D%AC+%EC%9E%A5%EC%A0%90&amp;sa=X&amp;ved=0ahUKEwiF48Hy1PDgAhXoGKYKHYc4BRoQ1QIIYCgA\">&#54028;&#51060;&#50028; &#51109;&#51216;</a></p></td><td valign=\"top\" style=\"padding-left:10px\"><p class=\"aw5cc\" style=\"margin:3px 8px\"><a href=\"/search?ie=UTF-8&amp;q=%ED%8C%8C%EC%9D%B4%EC%8D%AC+%EC%97%90%EB%94%94%ED%84%B0&amp;sa=X&amp;ved=0ahUKEwiF48Hy1PDgAhXoGKYKHYc4BRoQ1QIIYSgB\">&#54028;&#51060;&#50028; &#50640;&#46356;&#53552;</a></p></td></tr><tr><td valign=\"top\"><p class=\"aw5cc\" style=\"margin:3px 8px\"><a href=\"/search?ie=UTF-8&amp;q=%ED%8C%8C%EC%9D%B4%EC%8D%AC+%EB%8B%A4%EC%9A%B4%EB%A1%9C%EB%93%9C&amp;sa=X&amp;ved=0ahUKEwiF48Hy1PDgAhXoGKYKHYc4BRoQ1QIIYigC\">&#54028;&#51060;&#50028; &#45796;&#50868;&#47196;&#46300;</a></p></td><td valign=\"top\" style=\"padding-left:10px\"><p class=\"aw5cc\" style=\"margin:3px 8px\"><a href=\"/search?ie=UTF-8&amp;q=%ED%8C%8C%EC%9D%B4%EC%8D%AC3&amp;sa=X&amp;ved=0ahUKEwiF48Hy1PDgAhXoGKYKHYc4BRoQ1QIIYygD\">&#54028;&#51060;&#50028;3</a></p></td></tr><tr><td valign=\"top\"><p class=\"aw5cc\" style=\"margin:3px 8px\"><a href=\"/search?ie=UTF-8&amp;q=%ED%8C%8C%EC%9D%B4%EC%8D%AC%EC%9D%B4%EB%9E%80&amp;sa=X&amp;ved=0ahUKEwiF48Hy1PDgAhXoGKYKHYc4BRoQ1QIIZCgE\">&#54028;&#51060;&#50028;&#51060;&#46976;</a></p></td><td valign=\"top\" style=\"padding-left:10px\"><p class=\"aw5cc\" style=\"margin:3px 8px\"><a href=\"/search?ie=UTF-8&amp;q=%ED%8C%8C%EC%9D%B4%EC%8D%AC+%EC%97%B0%EC%82%B0%EC%9E%90&amp;sa=X&amp;ved=0ahUKEwiF48Hy1PDgAhXoGKYKHYc4BRoQ1QIIZSgF\">&#54028;&#51060;&#50028; &#50672;&#49328;&#51088;</a></p></td></tr><tr><td valign=\"top\"><p class=\"aw5cc\" style=\"margin:3px 8px\"><a href=\"/search?ie=UTF-8&amp;q=%ED%8C%8C%EC%9D%B4%EC%8D%AC+%EC%98%88%EC%A0%9C&amp;sa=X&amp;ved=0ahUKEwiF48Hy1PDgAhXoGKYKHYc4BRoQ1QIIZigG\">&#54028;&#51060;&#50028; &#50696;&#51228;</a></p></td><td valign=\"top\" style=\"padding-left:10px\"><p class=\"aw5cc\" style=\"margin:3px 8px\"><a href=\"/search?ie=UTF-8&amp;q=%ED%8C%8C%EC%9D%B4%EC%8D%AC+%EA%B2%8C%EC%9E%84&amp;sa=X&amp;ved=0ahUKEwiF48Hy1PDgAhXoGKYKHYc4BRoQ1QIIZygH\">&#54028;&#51060;&#50028; &#44172;&#51076;</a></p></td></tr><tr><td valign=\"top\"><p class=\"aw5cc\" style=\"margin:3px 8px\"><a href=\"/search?ie=UTF-8&amp;q=%ED%8C%8C%EC%9D%B4%EC%8D%AC+%EB%82%98%EB%AC%B4%EC%9C%84%ED%82%A4&amp;sa=X&amp;ved=0ahUKEwiF48Hy1PDgAhXoGKYKHYc4BRoQ1QIIaCgI\">&#54028;&#51060;&#50028; &#45208;&#47924;&#50948;&#53412;</a></p></td><td valign=\"top\" style=\"padding-left:10px\"><p class=\"aw5cc\" style=\"margin:3px 8px\"><a href=\"/search?ie=UTF-8&amp;q=%ED%8C%8C%EC%9D%B4%EC%8D%AC+%EB%A7%B5&amp;sa=X&amp;ved=0ahUKEwiF48Hy1PDgAhXoGKYKHYc4BRoQ1QIIaSgJ\">&#54028;&#51060;&#50028; &#47605;</a></p></td></tr></table></div></div><div id=\"foot\"><table align=\"center\" border=\"0\" cellpadding=\"0\" cellspacing=\"0\" id=\"nav\"><tr valign=\"top\"><td align=\"left\" class=\"b\"><span class=\"csb\" style=\"background-position:-24px 0;width:28px\"></span><b></b></td><td><span class=\"csb\" style=\"background-position:-53px 0;width:20px\"></span><b>1</b></td><td><a class=\"fl\" href=\"/search?q=%ED%8C%8C%EC%9D%B4%EC%8D%AC&amp;ie=UTF-8&amp;prmd=ivnsb&amp;ei=W2OBXMXJFOixmAWH8ZTQAQ&amp;start=10&amp;sa=N\"><span class=\"csb\" style=\"background-position:-74px 0;width:20px\"></span>2</a></td><td><a class=\"fl\" href=\"/search?q=%ED%8C%8C%EC%9D%B4%EC%8D%AC&amp;ie=UTF-8&amp;prmd=ivnsb&amp;ei=W2OBXMXJFOixmAWH8ZTQAQ&amp;start=20&amp;sa=N\"><span class=\"csb\" style=\"background-position:-74px 0;width:20px\"></span>3</a></td><td><a class=\"fl\" href=\"/search?q=%ED%8C%8C%EC%9D%B4%EC%8D%AC&amp;ie=UTF-8&amp;prmd=ivnsb&amp;ei=W2OBXMXJFOixmAWH8ZTQAQ&amp;start=30&amp;sa=N\"><span class=\"csb\" style=\"background-position:-74px 0;width:20px\"></span>4</a></td><td><a class=\"fl\" href=\"/search?q=%ED%8C%8C%EC%9D%B4%EC%8D%AC&amp;ie=UTF-8&amp;prmd=ivnsb&amp;ei=W2OBXMXJFOixmAWH8ZTQAQ&amp;start=40&amp;sa=N\"><span class=\"csb\" style=\"background-position:-74px 0;width:20px\"></span>5</a></td><td><a class=\"fl\" href=\"/search?q=%ED%8C%8C%EC%9D%B4%EC%8D%AC&amp;ie=UTF-8&amp;prmd=ivnsb&amp;ei=W2OBXMXJFOixmAWH8ZTQAQ&amp;start=50&amp;sa=N\"><span class=\"csb\" style=\"background-position:-74px 0;width:20px\"></span>6</a></td><td><a class=\"fl\" href=\"/search?q=%ED%8C%8C%EC%9D%B4%EC%8D%AC&amp;ie=UTF-8&amp;prmd=ivnsb&amp;ei=W2OBXMXJFOixmAWH8ZTQAQ&amp;start=60&amp;sa=N\"><span class=\"csb\" style=\"background-position:-74px 0;width:20px\"></span>7</a></td><td><a class=\"fl\" href=\"/search?q=%ED%8C%8C%EC%9D%B4%EC%8D%AC&amp;ie=UTF-8&amp;prmd=ivnsb&amp;ei=W2OBXMXJFOixmAWH8ZTQAQ&amp;start=70&amp;sa=N\"><span class=\"csb\" style=\"background-position:-74px 0;width:20px\"></span>8</a></td><td><a class=\"fl\" href=\"/search?q=%ED%8C%8C%EC%9D%B4%EC%8D%AC&amp;ie=UTF-8&amp;prmd=ivnsb&amp;ei=W2OBXMXJFOixmAWH8ZTQAQ&amp;start=80&amp;sa=N\"><span class=\"csb\" style=\"background-position:-74px 0;width:20px\"></span>9</a></td><td><a class=\"fl\" href=\"/search?q=%ED%8C%8C%EC%9D%B4%EC%8D%AC&amp;ie=UTF-8&amp;prmd=ivnsb&amp;ei=W2OBXMXJFOixmAWH8ZTQAQ&amp;start=90&amp;sa=N\"><span class=\"csb\" style=\"background-position:-74px 0;width:20px\"></span>10</a></td><td class=\"b\" style=\"text-align:left\"><a class=\"fl\" href=\"/search?q=%ED%8C%8C%EC%9D%B4%EC%8D%AC&amp;ie=UTF-8&amp;prmd=ivnsb&amp;ei=W2OBXMXJFOixmAWH8ZTQAQ&amp;start=10&amp;sa=N\" style=\"text-align:left\"><span class=\"csb\" style=\"background-position:-96px 0;width:71px\"></span><span style=\"display:block;margin-left:53px\">&#45796;&#51020;</span></a></td></tr></table><p class=\"A8ul6\" id=\"bfl\" style=\"margin:19px 0 0;text-align:center\"><a href=\"/advanced_search?q=%ED%8C%8C%EC%9D%B4%EC%8D%AC&amp;ie=UTF-8&amp;prmd=ivnsb\">&#44256;&#44553;&#44160;&#49353;</a><a href=\"/support/websearch/bin/answer.py?answer=134479&amp;hl=ko\">&#44160;&#49353; &#46020;&#50880;&#47568;</a> <a href=\"/tools/feedback/survey/html?productId=196&amp;query=%ED%8C%8C%EC%9D%B4%EC%8D%AC&amp;hl=ko\">&#51032;&#44204; &#48372;&#45236;&#44592;</a></p><div class=\"A8ul6\" id=\"fll\" style=\"margin:19px auto 19px auto;text-align:center\"><a href=\"/\">Google&nbsp;&#54856;</a> <a href=\"/intl/ko/ads\">Google &#44305;&#44256; &#54532;&#47196;&#44536;&#47016;</a> <a href=\"/intl/ko/policies/privacy/\">&#44060;&#51064;&#51221;&#48372;&#52376;&#47532;&#48169;&#52840;</a> <a href=\"/intl/ko/policies/terms/\">&#50557;&#44288;</a> <a href=\"/intl/ko/about.html\">Google &#51221;&#48372;</a></div></div></td><td id=\"rhs_block\" valign=\"top\"><ol><div class=\"g\"><div class=\"VBt9Dc hp-xpdbox\"><div class=\"R8KuR\" style=\"float:right\"><div class=\"OSMzvb\" style=\"height:57px;width:85px\"><a href=\"/url?q=http://creativeworks.tistory.com/entry/PYTHON-3-Tutorials-21-Download-images-from-the-web-%25EC%259D%25B4%25EB%25AF%25B8%25EC%25A7%2580%25EC%2582%25AC%25EC%25A7%2584-%25EB%258B%25A4%25EC%259A%25B4%25EB%25A1%259C%25EB%2593%259C-%25ED%2595%2598%25EA%25B8%25B0-with-python&amp;sa=U&amp;ved=0ahUKEwiF48Hy1PDgAhXoGKYKHYc4BRoQndQBCHMwCg&amp;usg=AOvVaw1NOLpZmOcI9Dflqp9fWqSx\"><img src=\"https://encrypted-tbn0.gstatic.com/images?q=tbn:ANd9GcS4TGyv9xHSoBwLT7yNEMGHn9lKhTJtdNRRJg9Oy9ZqU7xYSrBj_lQX6T0\" style=\"margin-left:0px;margin-right:0px\" title=\"http://creativeworks.tistory.com/entry/PYTHON-3-Tutorials-21-Download-images-from-the-web-%EC%9D%B4%EB%AF%B8%EC%A7%80%EC%82%AC%EC%A7%84-%EB%8B%A4%EC%9A%B4%EB%A1%9C%EB%93%9C-%ED%95%98%EA%B8%B0-with-python\" alt=\"&#54028;&#51060;&#50028;&#50640; &#45824;&#54620; &#51060;&#48120;&#51648; &#44160;&#49353;&#44208;&#44284;\"></a></div></div><div class=\"V7Q8V\"><div><div class=\"FSP1Dd\">&#54028;&#51060;&#50028;</div><div class=\"F7uZG Rlw09\">&#54532;&#47196;&#44536;&#47016; &#50616;&#50612;</div></div></div><div class=\"V7Q8V\"><div class=\"mraOPb\"><span>&#54028;&#51060;&#50028;&#51008; 1991&#45380; &#54532;&#47196;&#44536;&#47000;&#47672;&#51064; &#44480;&#46020; &#48152; &#47196;&#49452;&#51060; &#48156;&#54364;&#54620; &#44256;&#44553; &#54532;&#47196;&#44536;&#47000;&#48141; &#50616;&#50612;&#47196;, &#54540;&#47019;&#54268; &#46021;&#47549;&#51201;&#51060;&#47728; &#51064;&#53552;&#54532;&#47532;&#53552;&#49885;, &#44061;&#52404;&#51648;&#54693;&#51201;, &#46041;&#51201; &#53440;&#51060;&#54609; &#45824;&#54868;&#54805; &#50616;&#50612;&#51060;&#45796;. &#54028;&#51060;&#50028;&#51060;&#46972;&#45716; &#51060;&#47492;&#51008; &#44480;&#46020;&#44032; &#51339;&#50500;&#54616;&#45716; &#53076;&#48120;&#46356; &#12296;Monty Python\\'s Flying Circus&#12297;&#50640;&#49436; &#46384;&#50728; &#44163;&#51060;&#45796;. <a class=\"fl\" href=\"/url?q=https://ko.wikipedia.org/wiki/%25ED%258C%258C%25EC%259D%25B4%25EC%258D%25AC&amp;sa=U&amp;ved=0ahUKEwiF48Hy1PDgAhXoGKYKHYc4BRoQmhMIeSgAMAw&amp;usg=AOvVaw3S3OT91WRK0FQxFAG3eKK5\">&#50948;&#53412;&#48177;&#44284;</a></span></div></div><div class=\"V7Q8V\" style=\"display:none\"></div><div class=\"V7Q8V\"><span class=\"cC4Myd\">&#49444;&#44228;&#51088;: </span><span class=\"A1t5ne\"><a class=\"A1t5ne fl\" href=\"/search?ie=UTF-8&amp;q=%EA%B7%80%EB%8F%84+%EB%B0%98+%EB%A1%9C%EC%84%AC&amp;stick=H4sIAAAAAAAAAOPgE-LQz9U3MK0yjFfiBLEMMwxMk7UMMsqt9JPzc3JSk0sy8_P0C4ry04sSc3Mz89LjcxLz0ksT01OLrVJSizPT81JTFJIqF7EKvtre8Lq_ReH1hhkKrxfOedOyBgBwkJkhXQAAAA&amp;sa=X&amp;ved=0ahUKEwiF48Hy1PDgAhXoGKYKHYc4BRoQmxMIfSgAMA4\">&#44480;&#46020; &#48152; &#47196;&#49452;</a></span></div><div class=\"V7Q8V\"><span class=\"cC4Myd\">&#50689;&#54693;&#51012; &#48155;&#51008; &#50616;&#50612;: </span><span class=\"A1t5ne\">ABC, &#50508;&#53084; 68, C, <a class=\"A1t5ne fl\" href=\"/search?ie=UTF-8&amp;q=C%2B%2B&amp;stick=H4sIAAAAAAAAAONgVuLQz9U3yEovTF_EyuysrQ0Ave2bGhIAAAA&amp;sa=X&amp;ved=0ahUKEwiF48Hy1PDgAhXoGKYKHYc4BRoQmxMIgAEoADAP\">C++</a>, <a class=\"A1t5ne fl\" href=\"/search?ie=UTF-8&amp;q=%EB%94%9C%EB%9E%80&amp;stick=H4sIAAAAAAAAAONgVuLQz9U3MEozN1jEyvZ6ypzX8xoA_9tbARUAAAA&amp;sa=X&amp;ved=0ahUKEwiF48Hy1PDgAhXoGKYKHYc4BRoQmxMIgQEoATAP\">&#46364;&#46976;</a>, <a class=\"A1t5ne fl\" href=\"/search?ie=UTF-8&amp;q=%ED%95%98%EC%8A%A4%EC%BC%88&amp;stick=H4sIAAAAAAAAAONgVuLQz9U3MM6KL1zEyvl26ow3XUve7OkAAGlkhP0YAAAA&amp;sa=X&amp;ved=0ahUKEwiF48Hy1PDgAhXoGKYKHYc4BRoQmxMIggEoAjAP\">&#54616;&#49828;&#53000;</a>, <a class=\"A1t5ne fl\" href=\"/search?ie=UTF-8&amp;q=%EC%95%84%EC%9D%B4%EC%BD%98&amp;stick=H4sIAAAAAAAAAONgVuLQz9U3MC4pMljEyvlmasubuVve7J0BAC98YH8YAAAA&amp;sa=X&amp;ved=0ahUKEwiF48Hy1PDgAhXoGKYKHYc4BRoQmxMIgwEoAzAP\">&#50500;&#51060;&#53080;</a>, <a class=\"A1t5ne fl\" href=\"/search?ie=UTF-8&amp;q=%EC%9E%90%EB%B0%94&amp;stick=H4sIAAAAAAAAAONgVuLSz9U3MC9Oyk5LWsTK9mbehNcbpgAA2A4MeRcAAAA&amp;sa=X&amp;ved=0ahUKEwiF48Hy1PDgAhXoGKYKHYc4BRoQmxMIhAEoBDAP\">&#51088;&#48148;</a>, <a class=\"A1t5ne fl\" href=\"/search?ie=UTF-8&amp;q=%EB%A6%AC%EC%8A%A4%ED%94%84&amp;stick=H4sIAAAAAAAAAONgVuLQz9U3MMmuLF_Eyvl62Zo3XUveTmkBAKSPmF0YAAAA&amp;sa=X&amp;ved=0ahUKEwiF48Hy1PDgAhXoGKYKHYc4BRoQmxMIhQEoBTAP\">&#47532;&#49828;&#54532;</a>, &#47784;&#46280;-3, <a class=\"A1t5ne fl\" href=\"/search?ie=UTF-8&amp;q=%ED%8E%84&amp;stick=H4sIAAAAAAAAAONgVuLQz9U3MK0qylvEyvy2rwUA0VHjUhIAAAA&amp;sa=X&amp;ved=0ahUKEwiF48Hy1PDgAhXoGKYKHYc4BRoQmxMIhgEoBjAP\">&#54148;</a></span></div><div class=\"V7Q8V\"><span class=\"cC4Myd\">&#49324;&#50857; &#51473;&#51064; &#54028;&#51068; &#54869;&#51109;&#51088;: </span><span class=\"A1t5ne\">py,.pyc,.pyd,.pyo</span></div><div class=\"V7Q8V\"><span class=\"cC4Myd\">&#52572;&#44540; &#48260;&#51204; &#52636;&#49884;&#51068;: </span><span class=\"A1t5ne\"><a class=\"A1t5ne fl\" href=\"/search?ie=UTF-8&amp;q=2018%EB%85%84+10%EC%9B%94+20%EC%9D%BC&amp;stick=H4sIAAAAAAAAAONgVhLQL9E3Mi6vKCkviq8sNK0sWcQqbGRgaPG6tUXB0ODN7CkKRgZv5u4BALb0LRUqAAAA&amp;sa=X&amp;ved=0ahUKEwiF48Hy1PDgAhXoGKYKHYc4BRoQmxMIiwEoADAR\">2018&#45380; 10&#50900; 20&#51068;</a> (4&#45804; &#51204;)</span></div><div class=\"V7Q8V\"><span class=\"cC4Myd\">&#47784;&#54924;&#49324;: </span><span class=\"A1t5ne\"><a class=\"A1t5ne fl\" href=\"/search?ie=UTF-8&amp;q=%ED%8C%8C%EC%9D%B4%EC%8D%AC%EC%86%8C%ED%94%84%ED%8A%B8%EC%9B%A8%EC%96%B4%EC%9E%AC%EB%8B%A8&amp;stick=H4sIAAAAAAAAAOPgE-LQz9U3MK0yjFfiBLGMjXMMC7RUMsqt9JPzc3JSk0sy8_P0k4oS81KKrQoSi1LzShSS83MLEvMqF7HKve3peTN3y5veNW_aet5OaXnbtePN7BVvpm15M2_N6-4VAFpB4h9eAAAA&amp;sa=X&amp;ved=0ahUKEwiF48Hy1PDgAhXoGKYKHYc4BRoQmxMIjgEoADAS\">&#54028;&#51060;&#50028;&#49548;&#54532;&#53944;&#50920;&#50612;&#51116;&#45800;</a></span></div><div class=\"V7Q8V\"><span class=\"cC4Myd\">&#50689;&#54693;&#51012; &#51456; &#50616;&#50612;: </span><span class=\"A1t5ne\"><a class=\"A1t5ne fl\" href=\"/search?ie=UTF-8&amp;q=boo+programming+language&amp;stick=H4sIAAAAAAAAAOPgE-LQz9U3MK0yjFfiBLFMklIMk7X0M8qt9JPzc3JSk0sy8_P0C4ry04sSc3Mz89LjcxLz0ksT01OLrTLz0nJKU_OSU1MWsUok5ecrIClTgCkDADH77bBjAAAA&amp;sa=X&amp;ved=0ahUKEwiF48Hy1PDgAhXoGKYKHYc4BRoQmxMIkQEoADAT\">Boo</a>, <a class=\"A1t5ne fl\" href=\"/search?ie=UTF-8&amp;q=cobra+programming+language&amp;stick=H4sIAAAAAAAAAOPgE-LQz9U3MK0yjFfiArGMk3OyLU209DPKrfST83NyUpNLMvPz9AuK8tOLEnNzM_PS43MS89JLE9NTi60y89JySlPzklNTFrFKJecnFSUqIClUgCkEAFE3jlNmAAAA&amp;sa=X&amp;ved=0ahUKEwiF48Hy1PDgAhXoGKYKHYc4BRoQmxMIkgEoATAT\">Cobra</a>, <a class=\"A1t5ne fl\" href=\"/search?ie=UTF-8&amp;q=%EC%BB%A4%ED%94%BC%EC%8A%A4%ED%81%AC%EB%A6%BD%ED%8A%B8&amp;stick=H4sIAAAAAAAAAOPgE-LQz9U3MK0yjFfiArEyspJNcw209DPKrfST83NyUpNLMvPz9AuK8tOLEnNzM_PS43MS89JLE9NTi60y89JySlPzklNTFrEKvdm95O2UPW-6lrxtXPN62d63XTsAQAdEml4AAAA&amp;sa=X&amp;ved=0ahUKEwiF48Hy1PDgAhXoGKYKHYc4BRoQmxMIkwEoAjAT\">&#52964;&#54588;&#49828;&#53356;&#47549;&#53944;</a>, <a class=\"A1t5ne fl\" href=\"/search?ie=UTF-8&amp;q=D+(%ED%94%84%EB%A1%9C%EA%B7%B8%EB%9E%98%EB%B0%8D+%EC%96%B8%EC%96%B4)&amp;stick=H4sIAAAAAAAAAOPgE-LQz9U3MK0yjFfiBLEMs5NKzLX0M8qt9JPzc3JSk0sy8_P0C4ry04sSc3Mz89LjcxLz0ksT01OLrTLz0nJKU_OSU1MWsUq5KGi8ndLyeuGcV9t3vJ434_WGXoU303a8mbZFEwANievwZQAAAA&amp;sa=X&amp;ved=0ahUKEwiF48Hy1PDgAhXoGKYKHYc4BRoQmxMIlAEoAzAT\">D</a>, <a class=\"A1t5ne fl\" href=\"/search?ie=UTF-8&amp;q=F+%EC%83%A4%ED%94%84&amp;stick=H4sIAAAAAAAAAOPgE-LQz9U3MK0yjFfiBLEMs0osjLT0M8qt9JPzc3JSk0sy8_P0C4ry04sSc3Mz89LjcxLz0ksT01OLrTLz0nJKU_OSU1MWsXK4KbxpXvJ2SgsAyTGtUlMAAAA&amp;sa=X&amp;ved=0ahUKEwiF48Hy1PDgAhXoGKYKHYc4BRoQmxMIlQEoBDAT\">F &#49380;&#54532;</a>, <a class=\"A1t5ne fl\" href=\"/search?ie=UTF-8&amp;q=%EC%A7%80+%EB%8B%88&amp;stick=H4sIAAAAAAAAAOPgE-LQz9U3MK0yjFfiArEss81Ns4q19DPKrfST83NyUpNLMvPz9AuK8tOLEnNzM_PS43MS89JLE9NTi60y89JySlPzklNTFrGyv1neoPC6uwMAO4lP6lMAAAA&amp;sa=X&amp;ved=0ahUKEwiF48Hy1PDgAhXoGKYKHYc4BRoQmxMIlgEoBTAT\">Genie</a>, <a class=\"A1t5ne fl\" href=\"/search?ie=UTF-8&amp;q=Go+(%ED%94%84%EB%A1%9C%EA%B7%B8%EB%9E%98%EB%B0%8D+%EC%96%B8%EC%96%B4)&amp;stick=H4sIAAAAAAAAAOPgE-LQz9U3MK0yjFfiArEs05Mqsoq09DPKrfST83NyUpNLMvPz9AuK8tOLEnNzM_PS43MS89JLE9NTi60y89JySlPzklNTFrFKu-craLyd0vJ64ZxX23e8njfj9YZehTfTdryZtkUTAN0rVRJnAAAA&amp;sa=X&amp;ved=0ahUKEwiF48Hy1PDgAhXoGKYKHYc4BRoQmxMIlwEoBjAT\">Go</a>, <a class=\"A1t5ne fl\" href=\"/search?ie=UTF-8&amp;q=%EA%B7%B8%EB%A3%A8%EB%B9%84+(%ED%94%84%EB%A1%9C%EA%B7%B8%EB%9E%98%EB%B0%8D+%EC%96%B8%EC%96%B4)&amp;stick=H4sIAAAAAAAAAOPgE-LQz9U3MK0yjFfiBLGMsootzLT0M8qt9JPzc3JSk0sy8_P0C4ry04sSc3Mz89LjcxLz0ksT01OLrTLz0nJKU_OSU1MWsSq92r7j9eIVr3e2KGi8ndLyeuEckMC8Ga839Cq8mbbjzbQtmgB-nUIxbQAAAA&amp;sa=X&amp;ved=0ahUKEwiF48Hy1PDgAhXoGKYKHYc4BRoQmxMImAEoBzAT\">&#44536;&#47336;&#48708;</a>, <a class=\"A1t5ne fl\" href=\"/search?ie=UTF-8&amp;q=%EC%9E%90%EB%B0%94%EC%8A%A4%ED%81%AC%EB%A6%BD%ED%8A%B8&amp;stick=H4sIAAAAAAAAAOPgE-LQz9U3MK0yjFcCs4wKLM219DPKrfST83NyUpNLMvPz9AuK8tOLEnNzM_PS43MS89JLE9NTi60y89JySlPzklNTFrEKvZk34fWGKW-6lrxtXPN62d63XTsAK1aS-FwAAAA&amp;sa=X&amp;ved=0ahUKEwiF48Hy1PDgAhXoGKYKHYc4BRoQmxMImQEoCDAT\">&#51088;&#48148;&#49828;&#53356;&#47549;&#53944;</a>, <a class=\"A1t5ne fl\" href=\"/search?ie=UTF-8&amp;q=%EC%A4%84%EB%A6%AC%EC%95%84+(%ED%94%84%EB%A1%9C%EA%B7%B8%EB%9E%98%EB%B0%8D+%EC%96%B8%EC%96%B4)&amp;stick=H4sIAAAAAAAAAOPgE-LQz9U3MK0yjFfiArGyjFOycsy19DPKrfST83NyUpNLMvPz9AuK8tOLEnNzM_PS43MS89JLE9NTi60y89JySlPzklNTFrEqvVnS8nrZmjdTWxQ03k5peb1wzqvtO17Pm_F6Q6_Cm2k73kzbogkAm4LIF24AAAA&amp;sa=X&amp;ved=0ahUKEwiF48Hy1PDgAhXoGKYKHYc4BRoQmxMImgEoCTAT\">&#51460;&#47532;&#50500;</a>, <a class=\"A1t5ne fl\" href=\"/search?ie=UTF-8&amp;q=nim+programming+language&amp;stick=H4sIAAAAAAAAAOPgE-LQz9U3MK0yjFfiArEs0wtMTDK09DPKrfST83NyUpNLMvPz9AuK8tOLEnNzM_PS43MS89JLE9NTi60y89JySlPzklNTFrFK5GXmKiApU4ApAwDXSQcNZAAAAA&amp;sa=X&amp;ved=0ahUKEwiF48Hy1PDgAhXoGKYKHYc4BRoQmxMImwEoCjAT\">Nim</a>, <a class=\"A1t5ne fl\" href=\"/search?ie=UTF-8&amp;q=ring+programming+language&amp;stick=H4sIAAAAAAAAAOPgE-LQz9U3MK0yjFfi1U_XNzRMNkvOKC8wr9LSzyi30k_Oz8lJTS7JzM_TLyjKTy9KzM3NzEuPz0nMSy9NTE8ttsrMS8spTc1LTk1ZxCpZBJRTQFKnAFMHACg1vKpoAAAA&amp;sa=X&amp;ved=0ahUKEwiF48Hy1PDgAhXoGKYKHYc4BRoQmxMInAEoCzAT\">Ring</a>, <a class=\"A1t5ne fl\" href=\"/search?ie=UTF-8&amp;q=%EB%A3%A8%EB%B9%84+(%ED%94%84%EB%A1%9C%EA%B7%B8%EB%9E%98%EB%B0%8D+%EC%96%B8%EC%96%B4)&amp;stick=H4sIAAAAAAAAAOPgE-LQz9U3MK0yjFcCs8zS0ky19DPKrfST83NyUpNLMvPz9AuK8tOLEnNzM_PS43MS89JLE9NTi60y89JySlPzklNTFrHKv1684vXOFgWNt1NaXi-c82r7jtfzZrze0KvwZtqON9O2aAIA6IzE5WkAAAA&amp;sa=X&amp;ved=0ahUKEwiF48Hy1PDgAhXoGKYKHYc4BRoQmxMInQEoDDAT\">&#47336;&#48708;</a>, <a class=\"A1t5ne fl\" href=\"/search?ie=UTF-8&amp;q=%EC%8A%A4%EC%9C%84%ED%94%84%ED%8A%B8+(%ED%94%84%EB%A1%9C%EA%B7%B8%EB%9E%98%EB%B0%8D+%EC%96%B8%EC%96%B4)&amp;stick=H4sIAAAAAAAAAOPgE-LQz9U3MK0yjFfiBrEMDYpTTCqNtfQzyq30k_NzclKTSzLz8_QLivLTixJzczPz0uNzEvPSSxPTU4utMvPSckpT85JTUxaxqr7pWvJmTsvbKS1vu3YoaADp1wvnvNq-4_W8Ga839Cq8mbbjzbQtmgDoc2ANcgAAAA&amp;sa=X&amp;ved=0ahUKEwiF48Hy1PDgAhXoGKYKHYc4BRoQmxMIngEoDTAT\">&#49828;&#50948;&#54532;&#53944;</a></span></div><div class=\"dXAUyb\"><div class=\"lHETUb\">&#44288;&#47144; &#44160;&#49353;&#50612;</div><div class=\"xKoZHf B27ELd\" style=\"width:72px\"><div class=\"tQOFN\" style=\"height:72px\"><a class=\"FEM55\" href=\"/search?ie=UTF-8&amp;q=%EC%9E%90%EB%B0%94+(%ED%94%84%EB%A1%9C%EA%B7%B8%EB%9E%98%EB%B0%8D+%EC%96%B8%EC%96%B4)&amp;stick=H4sIAAAAAAAAAONgFuLQz9U3MK0yjFfiArHMi5Oy05K0-Jzzc3Pz84IzU1LLEyuLF7HKv5k34fWGKQoab6e0vF4459X2Ha_nzXi9oVfhzbQdb6Zt0QQAmMHfqEoAAAA&amp;sa=X&amp;ved=0ahUKEwiF48Hy1PDgAhXoGKYKHYc4BRoQsQ4IogEwFA\"><img alt=\"&#51088;&#48148;\" height=\"72px\" src=\"https://encrypted-tbn0.gstatic.com/images?q=tbn:ANd9GcQ16ri54q7_20MSQwz1jCCUAiLU1pJWgmUIV6hlZa0sdyQmzPCYZ8XEqR9a_hXYT2F5L1Y\" title=\"&#51088;&#48148;\" width=\"72px\"></a></div><div class=\"brYqc\"><a class=\"fl\" href=\"/search?ie=UTF-8&amp;q=%EC%9E%90%EB%B0%94+(%ED%94%84%EB%A1%9C%EA%B7%B8%EB%9E%98%EB%B0%8D+%EC%96%B8%EC%96%B4)&amp;stick=H4sIAAAAAAAAAONgFuLQz9U3MK0yjFfiArHMi5Oy05K0-Jzzc3Pz84IzU1LLEyuLF7HKv5k34fWGKQoab6e0vF4459X2Ha_nzXi9oVfhzbQdb6Zt0QQAmMHfqEoAAAA&amp;sa=X&amp;ved=0ahUKEwiF48Hy1PDgAhXoGKYKHYc4BRoQxA0IowEwFA\" title=\"&#51088;&#48148;\">&#51088;&#48148;</a><div class=\"czonVc\" title=\"&#51088;&#48148;\"></div></div></div><div class=\"B27ELd\" style=\"width:72px\"><div class=\"tQOFN\" style=\"height:72px\"><a class=\"FEM55\" href=\"/search?ie=UTF-8&amp;q=C%2B%2B&amp;stick=H4sIAAAAAAAAAONgFuLQz9U3MK0yjFcCs7LSC9O1-Jzzc3Pz84IzU1LLEyuLF7EyO2trAwA58-CHLAAAAA&amp;sa=X&amp;ved=0ahUKEwiF48Hy1PDgAhXoGKYKHYc4BRoQsQ4IpQEwFA\"><img alt=\"C++\" height=\"72px\" src=\"https://encrypted-tbn1.gstatic.com/images?q=tbn:ANd9GcSE8zPFZD2-IrUUs_BTQCkFj_huTiC32kz29RIysdAsma6d02MkfHNLTWbFZrDAj1jdWPM\" title=\"C++\" width=\"72px\"></a></div><div class=\"brYqc\"><a class=\"fl\" href=\"/search?ie=UTF-8&amp;q=C%2B%2B&amp;stick=H4sIAAAAAAAAAONgFuLQz9U3MK0yjFcCs7LSC9O1-Jzzc3Pz84IzU1LLEyuLF7EyO2trAwA58-CHLAAAAA&amp;sa=X&amp;ved=0ahUKEwiF48Hy1PDgAhXoGKYKHYc4BRoQxA0IpgEwFA\" title=\"C++\">C++</a><div class=\"czonVc\" title=\"C++\"></div></div></div><div class=\"ty7XEe B27ELd\" style=\"width:72px\"><div class=\"tQOFN\" style=\"height:72px\"><a class=\"FEM55\" href=\"/search?ie=UTF-8&amp;q=%EC%9E%90%EB%B0%94%EC%8A%A4%ED%81%AC%EB%A6%BD%ED%8A%B8&amp;stick=H4sIAAAAAAAAAONgFuLQz9U3MK0yjFcCs4wKLM21-Jzzc3Pz84IzU1LLEyuLF7EKvZk34fWGKW-6lrxtXPN62d63XTsAuAsB2DsAAAA&amp;sa=X&amp;ved=0ahUKEwiF48Hy1PDgAhXoGKYKHYc4BRoQsQ4IqAEwFA\"><img alt=\"&#51088;&#48148;&#49828;&#53356;&#47549;&#53944;\" height=\"72px\" src=\"https://encrypted-tbn0.gstatic.com/images?q=tbn:ANd9GcQO-fQw_pL04McXDrzTCohk00MUzJdi0DNOjvRfaxHw_BWSzzJYUeU\" title=\"&#51088;&#48148;&#49828;&#53356;&#47549;&#53944;\" width=\"72px\"></a></div><div class=\"brYqc\"><a class=\"fl\" href=\"/search?ie=UTF-8&amp;q=%EC%9E%90%EB%B0%94%EC%8A%A4%ED%81%AC%EB%A6%BD%ED%8A%B8&amp;stick=H4sIAAAAAAAAAONgFuLQz9U3MK0yjFcCs4wKLM21-Jzzc3Pz84IzU1LLEyuLF7EKvZk34fWGKW-6lrxtXPN62d63XTsAuAsB2DsAAAA&amp;sa=X&amp;ved=0ahUKEwiF48Hy1PDgAhXoGKYKHYc4BRoQxA0IqQEwFA\" title=\"&#51088;&#48148;&#49828;&#53356;&#47549;&#53944;\">&#51088;&#48148;&#49828;&#53356;&#47549;&#53944;</a><div class=\"czonVc\" title=\"&#51088;&#48148;&#49828;&#53356;&#47549;&#53944;\"></div></div></div><br><div class=\"xKoZHf B27ELd\" style=\"width:72px\"><div class=\"tQOFN\" style=\"height:72px\"><a class=\"FEM55\" href=\"/search?ie=UTF-8&amp;q=PHP&amp;stick=H4sIAAAAAAAAAONgFuLQz9U3MK0yjFcCs8wMssu0-Jzzc3Pz84IzU1LLEyuLF7EyB3gEAADSWoTCLAAAAA&amp;sa=X&amp;ved=0ahUKEwiF48Hy1PDgAhXoGKYKHYc4BRoQsQ4IqwEwFA\"><img alt=\"PHP\" height=\"72px\" src=\"https://encrypted-tbn1.gstatic.com/images?q=tbn:ANd9GcTGE47w6wFGKF66-YMuCY1eW_dktCbPZIdGXI7tHu95YX-kVydbgmAAcEQorqZbQL4Zs0s\" title=\"PHP\" width=\"72px\"></a></div><div class=\"brYqc\"><a class=\"fl\" href=\"/search?ie=UTF-8&amp;q=PHP&amp;stick=H4sIAAAAAAAAAONgFuLQz9U3MK0yjFcCs8wMssu0-Jzzc3Pz84IzU1LLEyuLF7EyB3gEAADSWoTCLAAAAA&amp;sa=X&amp;ved=0ahUKEwiF48Hy1PDgAhXoGKYKHYc4BRoQxA0IrAEwFA\" title=\"PHP\">PHP</a><div class=\"czonVc\" title=\"PHP\"></div></div></div><div class=\"B27ELd\" style=\"width:72px\"><div class=\"tQOFN\" style=\"height:72px\"><a class=\"FEM55\" href=\"/search?ie=UTF-8&amp;q=NumPy&amp;stick=H4sIAAAAAAAAAONgFuLQz9U3MK0yjFfiBLGMDAtykrT4nPNzc_PzgjNTUssTK4sXsbL6leYGVAIA2H0bzC8AAAA&amp;sa=X&amp;ved=0ahUKEwiF48Hy1PDgAhXoGKYKHYc4BRoQsQ4IrgEwFA\"><img alt=\"&#45336;&#54028;&#51060;\" height=\"72px\" src=\"https://encrypted-tbn3.gstatic.com/images?q=tbn:ANd9GcRINq5rFZR1YhbiTnbrLlnnaJ64YwscSyamRxNZEH-7gkqtymBP44M9pNNO6sZFeb4GKKs\" title=\"&#45336;&#54028;&#51060;\" width=\"72px\"></a></div><div class=\"brYqc\"><a class=\"fl\" href=\"/search?ie=UTF-8&amp;q=NumPy&amp;stick=H4sIAAAAAAAAAONgFuLQz9U3MK0yjFfiBLGMDAtykrT4nPNzc_PzgjNTUssTK4sXsbL6leYGVAIA2H0bzC8AAAA&amp;sa=X&amp;ved=0ahUKEwiF48Hy1PDgAhXoGKYKHYc4BRoQxA0IrwEwFA\" title=\"&#45336;&#54028;&#51060;\">&#45336;&#54028;&#51060;</a><div class=\"czonVc\" title=\"&#45336;&#54028;&#51060;\"></div></div></div><div class=\"ty7XEe B27ELd\" style=\"width:72px\"><div class=\"tQOFN\" style=\"height:72px\"><a class=\"FEM55\" href=\"/search?ie=UTF-8&amp;q=R+(%ED%94%84%EB%A1%9C%EA%B7%B8%EB%9E%98%EB%B0%8D+%EC%96%B8%EC%96%B4)&amp;stick=H4sIAAAAAAAAAONgFuLQz9U3MK0yjFfiBLGMDI2ycrX4nPNzc_PzgjNTUssTK4sXsUoFKWi8ndLyeuGcV9t3vJ434_WGXoU303a8mbZFEwBcqp8dRAAAAA&amp;sa=X&amp;ved=0ahUKEwiF48Hy1PDgAhXoGKYKHYc4BRoQsQ4IsQEwFA\"><img alt=\"R\" height=\"72px\" src=\"https://encrypted-tbn2.gstatic.com/images?q=tbn:ANd9GcTQHm53UZ9eLYfQ-TXSmOcp4A4cYcFk984sdGJiaRh2mk9sy2oNBNAZPO7h-anCdhuBx-A\" title=\"R\" width=\"72px\"></a></div><div class=\"brYqc\"><a class=\"fl\" href=\"/search?ie=UTF-8&amp;q=R+(%ED%94%84%EB%A1%9C%EA%B7%B8%EB%9E%98%EB%B0%8D+%EC%96%B8%EC%96%B4)&amp;stick=H4sIAAAAAAAAAONgFuLQz9U3MK0yjFfiBLGMDI2ycrX4nPNzc_PzgjNTUssTK4sXsUoFKWi8ndLyeuGcV9t3vJ434_WGXoU303a8mbZFEwBcqp8dRAAAAA&amp;sa=X&amp;ved=0ahUKEwiF48Hy1PDgAhXoGKYKHYc4BRoQxA0IsgEwFA\" title=\"R\">R</a><div class=\"czonVc\" title=\"R\"></div></div></div><br></div></div></div></ol></td></tr></tbody></table><script type=\"text/javascript\" nonce=\"528af1aj01xLVPHcwasNOg==\">(function(){var eventid=\\'W2OBXMXJFOixmAWH8ZTQAQ\\';google.kEI = eventid;})();</script><script src=\"/xjs/_/js/k=xjs.hp.en.zG9gS-ItGx8.O/m=sb_he,d/rt=j/d=1/rs=ACT90oFVIKE1xfDHqwUOYdk1rCje8RuVGg\" nonce=\"528af1aj01xLVPHcwasNOg==\"></script><script type=\"text/javascript\" nonce=\"528af1aj01xLVPHcwasNOg==\">google.ac&&google.ac.c({\"agen\":true,\"cgen\":true,\"client\":\"heirloom-serp\",\"dh\":true,\"dhqt\":true,\"ds\":\"\",\"ffql\":\"ko\",\"fl\":true,\"host\":\"google.com\",\"isbh\":28,\"jsonp\":true,\"msgs\":{\"cibl\":\"&#44160;&#49353;&#50612; &#51648;&#50864;&#44592;\",\"dym\":\"&#51060;&#44163;&#51012; &#52286;&#51004;&#49512;&#45208;&#50836;?\",\"lcky\":\"I&#8217;m Feeling Lucky\",\"lml\":\"&#51088;&#49464;&#55176; &#50508;&#50500;&#48372;&#44592;\",\"oskt\":\"&#51077;&#47141; &#46020;&#44396;\",\"psrc\":\"&#44160;&#49353;&#50612;&#44032; \\\\u003Ca href=\\\\\"/history\\\\\"\\\\u003E&#50937; &#44592;&#47197;\\\\u003C/a\\\\u003E&#50640;&#49436; &#49325;&#51228;&#46104;&#50632;&#49845;&#45768;&#45796;.\",\"psrl\":\"&#49325;&#51228;\",\"sbit\":\"&#51060;&#48120;&#51648;&#47196; &#44160;&#49353;\",\"srch\":\"Google &#44160;&#49353;\"},\"ovr\":{},\"pq\":\"&#54028;&#51060;&#50028;\",\"refpd\":true,\"refspre\":true,\"rfs\":[\"&#54028;&#51060;&#50028; &#51109;&#51216;\",\"&#54028;&#51060;&#50028; &#45796;&#50868;&#47196;&#46300;\",\"&#54028;&#51060;&#50028;&#51060;&#46976;\",\"&#54028;&#51060;&#50028; &#50696;&#51228;\",\"&#54028;&#51060;&#50028; &#45208;&#47924;&#50948;&#53412;\",\"&#54028;&#51060;&#50028; &#50640;&#46356;&#53552;\",\"&#54028;&#51060;&#50028;3\",\"&#54028;&#51060;&#50028; &#50672;&#49328;&#51088;\",\"&#54028;&#51060;&#50028; &#44172;&#51076;\",\"&#54028;&#51060;&#50028; &#47605;\"],\"sbpl\":24,\"sbpr\":24,\"scd\":10,\"sce\":5,\"stok\":\"EZGCOu25Y1hBFDIrE-ZyjbBBKtI\",\"uhde\":false})</script><script nonce=\"528af1aj01xLVPHcwasNOg==\">(function(){window.google.cdo={height:0,width:0};(function(){var a=window.innerWidth,b=window.innerHeight;if(!a||!b){var c=window.document,d=\"CSS1Compat\"==c.compatMode?c.documentElement:c.body;a=d.clientWidth;b=d.clientHeight}a&&b&&(a!=google.cdo.width||b!=google.cdo.height)&&google.log(\"\",\"\",\"/client_204?&atyp=i&biw=\"+a+\"&bih=\"+b+\"&ei=\"+google.kEI);}).call(this);})();</script></body></html>'"
      ]
     },
     "execution_count": 27,
     "metadata": {},
     "output_type": "execute_result"
    }
   ],
   "source": [
    "resp.text"
   ]
  },
  {
   "cell_type": "code",
   "execution_count": 28,
   "metadata": {},
   "outputs": [
    {
     "data": {
      "text/plain": [
       "'ISO-8859-1'"
      ]
     },
     "execution_count": 28,
     "metadata": {},
     "output_type": "execute_result"
    }
   ],
   "source": [
    "resp.encoding"
   ]
  },
  {
   "cell_type": "code",
   "execution_count": 29,
   "metadata": {
    "scrolled": true
   },
   "outputs": [
    {
     "data": {
      "text/plain": [
       "'utf-8'"
      ]
     },
     "execution_count": 29,
     "metadata": {},
     "output_type": "execute_result"
    }
   ],
   "source": [
    "resp.encoding = \"utf-8\"\n",
    "resp.encoding"
   ]
  },
  {
   "cell_type": "code",
   "execution_count": 30,
   "metadata": {},
   "outputs": [
    {
     "data": {
      "text/plain": [
       "'https://www.google.com/search?q=%ED%8C%8C%EC%9D%B4%EC%8D%AC&oq=%ED%8C%8C%EC%9D%B4%EC%8D%AC&aqs=chrome..69i57j69i65l3j35i39j0.2946j0j9&sourceid=chrome&ie=UTF-8'"
      ]
     },
     "execution_count": 30,
     "metadata": {},
     "output_type": "execute_result"
    }
   ],
   "source": [
    "resp.url"
   ]
  },
  {
   "cell_type": "code",
   "execution_count": 31,
   "metadata": {},
   "outputs": [
    {
     "data": {
      "text/plain": [
       "{'User-Agent': 'python-requests/2.21.0', 'Accept-Encoding': 'gzip, deflate', 'Accept': '*/*', 'Connection': 'keep-alive'}"
      ]
     },
     "execution_count": 31,
     "metadata": {},
     "output_type": "execute_result"
    }
   ],
   "source": [
    "resp.request.headers"
   ]
  },
  {
   "cell_type": "markdown",
   "metadata": {},
   "source": [
    "### requests.get"
   ]
  },
  {
   "cell_type": "code",
   "execution_count": 32,
   "metadata": {},
   "outputs": [],
   "source": [
    "resp = requests.get(url, headers)"
   ]
  },
  {
   "cell_type": "code",
   "execution_count": 33,
   "metadata": {},
   "outputs": [
    {
     "data": {
      "text/plain": [
       "{'User-Agent': 'python-requests/2.21.0', 'Accept-Encoding': 'gzip, deflate', 'Accept': '*/*', 'Connection': 'keep-alive'}"
      ]
     },
     "execution_count": 33,
     "metadata": {},
     "output_type": "execute_result"
    }
   ],
   "source": [
    "resp.request.headers"
   ]
  },
  {
   "cell_type": "code",
   "execution_count": 34,
   "metadata": {},
   "outputs": [],
   "source": [
    "url = \"https://www.google.com/search\"\n",
    "resp = requests.get(url, params={\"q\":\"파이썬\"}, headers=headers)"
   ]
  },
  {
   "cell_type": "code",
   "execution_count": 35,
   "metadata": {
    "scrolled": false
   },
   "outputs": [
    {
     "data": {
      "text/plain": [
       "{'Date': 'Thu, 07 Mar 2019 18:31:39 GMT', 'Expires': '-1', 'Cache-Control': 'private, max-age=0', 'Content-Type': 'text/html; charset=UTF-8', 'P3P': 'CP=\"This is not a P3P policy! See g.co/p3phelp for more info.\"', 'Content-Encoding': 'gzip', 'Server': 'gws', 'X-XSS-Protection': '1; mode=block', 'X-Frame-Options': 'SAMEORIGIN', 'Set-Cookie': '1P_JAR=2019-03-07-18; expires=Sat, 06-Apr-2019 18:31:39 GMT; path=/; domain=.google.com, CGIC=IgMqLyo; expires=Fri, 06-Sep-2019 09:26:15 GMT; path=/complete/search; domain=.google.com; HttpOnly, CGIC=IgMqLyo; expires=Fri, 06-Sep-2019 09:26:15 GMT; path=/search; domain=.google.com; HttpOnly, NID=162=NQqvPxNigpKXU8o_V6sr4aCNaZMtgPJCgIWVWHUAPFCbgiAUhITahVF_6EklV8ehOXPCYPbOsPjE8viCMPCnq_U9OKN8byYlH9xJ2goPe9--TVx41-J7v4k_bHndl9aPXXxOiHhXflR73Zneb2qhPOo3JEDUv2hhkmv-g4tt8xI; expires=Fri, 06-Sep-2019 18:31:39 GMT; path=/; domain=.google.com; HttpOnly', 'Alt-Svc': 'quic=\":443\"; ma=2592000; v=\"46,44,43,39\"', 'Transfer-Encoding': 'chunked'}"
      ]
     },
     "execution_count": 35,
     "metadata": {},
     "output_type": "execute_result"
    }
   ],
   "source": [
    "resp.headers"
   ]
  },
  {
   "cell_type": "markdown",
   "metadata": {},
   "source": [
    "### requests 패키지로 get 방식 download 함수 재정의\n",
    "\n",
    "- requests.get\n",
    "- requests.exceptions.HTTPError"
   ]
  },
  {
   "cell_type": "code",
   "execution_count": 36,
   "metadata": {},
   "outputs": [],
   "source": [
    "# 구글에서 \"파이썬\"이라는 문자열 검색\n",
    "import requests\n",
    "\n",
    "url = \"https://www.google.com/search\"\n",
    "\n",
    "# 서버에 user-agent 정보를 전달해야 함\n",
    "headers = {\"user-agent\": \"Mozilla/5.0\"}  # 상세한 정보는 생략해도 됨\n",
    "\n",
    "def getDownload(url, param, retries=3):\n",
    "    resp = None\n",
    "\n",
    "    try:\n",
    "        resp = requests.get(url, params=param, headers=headers)\n",
    "    except requests.HTTPError as e:\n",
    "        if 500 <= resp.status_code < 600 and retries > 0:\n",
    "            return getDownload(url, param, retries - 1)\n",
    "        else:\n",
    "            print(resp.status_code)\n",
    "            print(resp.reason)\n",
    "            print(resp.headers)\n",
    "    \n",
    "    return resp"
   ]
  },
  {
   "cell_type": "code",
   "execution_count": 37,
   "metadata": {},
   "outputs": [],
   "source": [
    "resp = getDownload(url, param={\"q\":\"파이썬\"})"
   ]
  },
  {
   "cell_type": "code",
   "execution_count": 38,
   "metadata": {
    "scrolled": true
   },
   "outputs": [
    {
     "data": {
      "text/plain": [
       "{'Date': 'Thu, 07 Mar 2019 18:33:11 GMT', 'Expires': '-1', 'Cache-Control': 'private, max-age=0', 'Content-Type': 'text/html; charset=UTF-8', 'P3P': 'CP=\"This is not a P3P policy! See g.co/p3phelp for more info.\"', 'Content-Encoding': 'gzip', 'Server': 'gws', 'X-XSS-Protection': '1; mode=block', 'X-Frame-Options': 'SAMEORIGIN', 'Set-Cookie': '1P_JAR=2019-03-07-18; expires=Sat, 06-Apr-2019 18:33:11 GMT; path=/; domain=.google.com, CGIC=IgMqLyo; expires=Fri, 06-Sep-2019 09:27:47 GMT; path=/complete/search; domain=.google.com; HttpOnly, CGIC=IgMqLyo; expires=Fri, 06-Sep-2019 09:27:47 GMT; path=/search; domain=.google.com; HttpOnly, NID=178=ozArBTKFntn73XY_ro9C4GEoD0S57mmPVYzCG6cVCnNkrDUyoIUIJFJZx8llyZBxdopi4fx9jkjnhBIBR-eRsb16d6cHB9pVzdggWP0PH1YRH0RYoFy_qUC0SgwqHC-oHuUEMGfOhdMCe-caKc7wkfek9ASLT9I1lBwgmkXogBo; expires=Fri, 06-Sep-2019 18:33:11 GMT; path=/; domain=.google.com; HttpOnly', 'Alt-Svc': 'quic=\":443\"; ma=2592000; v=\"46,44,43,39\"', 'Transfer-Encoding': 'chunked'}"
      ]
     },
     "execution_count": 38,
     "metadata": {},
     "output_type": "execute_result"
    }
   ],
   "source": [
    "resp.headers"
   ]
  },
  {
   "cell_type": "code",
   "execution_count": 39,
   "metadata": {},
   "outputs": [
    {
     "data": {
      "text/plain": [
       "'<!doctype html><html itemscope=\"\" itemtype=\"http://schema.org/SearchResultsPage\" lang=\"ko\"><head><meta content=\"text/html; charset=UTF-8\" http-equiv=\"Content-Type\"><meta content=\"/images/branding/googleg/1x/googleg_standard_color_128dp.png\" itemprop=\"image\"><noscript><meta content=\"0;url=/search?q=%ED%8C%8C%EC%9D%B4%EC%8D%AC&amp;gbv=1&amp;sei=52OBXIq3AYHO8wXFsZrACw\" http-equiv=\"refresh\"><style>table,div,span,p{display:none}</style><div style=\"display:block\">몇 초 안에 이동하지 않는 경우 <a href=\"/search?q=%ED%8C%8C%EC%9D%B4%EC%8D%AC&amp;gbv=1&amp;sei=52OBXIq3AYHO8wXFsZrACw\">여기</a>를 클릭하세요.</div></noscript><title>파이썬 - Google 검색</title><style>#gb{font:13px/27px Arial,sans-serif;height:30px}#gbz,#gbg{position:absolute;white-space:nowrap;top:0;height:30px;z-index:1000}#gbz{left:0;padding-left:4px}#gbg{right:0;padding-right:5px}#gbs{background:transparent;position:absolute;top:-999px;visibility:hidden;z-index:998;right:0}.gbto #gbs{background:#fff}#gbx3,#gbx4{background-color:#2d2d2d;background-image:none;_background-image:none;background-position:0 -138px;background-repeat:repeat-x;border-bottom:1px solid #000;font-size:24px;height:29px;_height:30px;opacity:1;filter:alpha(opacity=100);position:absolute;top:0;width:100%;z-index:990}#gbx3{left:0}#gbx4{right:0}#gbb{position:relative}#gbbw{left:0;position:absolute;top:30px;width:100%}.gbtcb{position:absolute;visibility:hidden}#gbz .gbtcb{right:0}#gbg .gbtcb{left:0}.gbxx{display:none !important}.gbxo{opacity:0 !important;filter:alpha(opacity=0) !important}.gbm{position:absolute;z-index:999;top:-999px;visibility:hidden;text-align:left;border:1px solid #bebebe;background:#fff;-moz-box-shadow:-1px 1px 1px rgba(0,0,0,.2);-webkit-box-shadow:0 2px 4px rgba(0,0,0,.2);box-shadow:0 2px 4px rgba(0,0,0,.2)}.gbrtl .gbm{-moz-box-shadow:1px 1px 1px rgba(0,0,0,.2)}.gbto .gbm,.gbto #gbs{top:29px;visibility:visible}#gbz .gbm{left:0}#gbg .gbm{right:0}.gbxms{background-color:#ccc;display:block;position:absolute;z-index:1;top:-1px;left:-2px;right:-2px;bottom:-2px;opacity:.4;-moz-border-radius:3px;filter:progid:DXImageTransform.Microsoft.Blur(pixelradius=5);*opacity:1;*top:-2px;*left:-5px;*right:5px;*bottom:4px;-ms-filter:\"progid:DXImageTransform.Microsoft.Blur(pixelradius=5)\";opacity:1\\\\0/;top:-4px\\\\0/;left:-6px\\\\0/;right:5px\\\\0/;bottom:4px\\\\0/}.gbma{position:relative;top:-1px;border-style:solid dashed dashed;border-color:transparent;border-top-color:#c0c0c0;display:-moz-inline-box;display:inline-block;font-size:0;height:0;line-height:0;width:0;border-width:3px 3px 0;padding-top:1px;left:4px}#gbztms1,#gbi4m1,#gbi4s,#gbi4t{zoom:1}.gbtc,.gbmc,.gbmcc{display:block;list-style:none;margin:0;padding:0}.gbmc{background:#fff;padding:10px 0;position:relative;z-index:2;zoom:1}.gbt{position:relative;display:-moz-inline-box;display:inline-block;line-height:27px;padding:0;vertical-align:top}.gbt{*display:inline}.gbto{box-shadow:0 2px 4px rgba(0,0,0,.2);-moz-box-shadow:0 2px 4px rgba(0,0,0,.2);-webkit-box-shadow:0 2px 4px rgba(0,0,0,.2)}.gbzt,.gbgt{cursor:pointer;display:block;text-decoration:none !important}span#gbg6,span#gbg4{cursor:default}.gbts{border-left:1px solid transparent;border-right:1px solid transparent;display:block;*display:inline-block;padding:0 5px;position:relative;z-index:1000}.gbts{*display:inline}.gbzt .gbts{display:inline;zoom:1}.gbto .gbts{background:#fff;border-color:#bebebe;color:#36c;padding-bottom:1px;padding-top:2px}.gbz0l .gbts{color:#fff;font-weight:bold}.gbtsa{padding-right:9px}#gbz .gbzt,#gbz .gbgt,#gbg .gbgt{color:#ccc!important}.gbtb2{display:block;border-top:2px solid transparent}.gbto .gbzt .gbtb2,.gbto .gbgt .gbtb2{border-top-width:0}.gbtb .gbts{background:url(https://ssl.gstatic.com/gb/images/b_8d5afc09.png);_background:url(https://ssl.gstatic.com/gb/images/b8_3615d64d.png);background-position:-27px -22px;border:0;font-size:0;padding:29px 0 0;*padding:27px 0 0;width:1px}.gbzt:hover,.gbzt:focus,.gbgt-hvr,.gbgt:focus{background-color:#4c4c4c;background-image:none;_background-image:none;background-position:0 -102px;background-repeat:repeat-x;outline:none;text-decoration:none !important}.gbpdjs .gbto .gbm{min-width:99%}.gbz0l .gbtb2{border-top-color:#dd4b39!important}#gbi4s,#gbi4s1{font-weight:bold}#gbg6.gbgt-hvr,#gbg6.gbgt:focus{background-color:transparent;background-image:none}.gbg4a{font-size:0;line-height:0}.gbg4a .gbts{padding:27px 5px 0;*padding:25px 5px 0}.gbto .gbg4a .gbts{padding:29px 5px 1px;*padding:27px 5px 1px}#gbi4i,#gbi4id{left:5px;border:0;height:24px;position:absolute;top:1px;width:24px}.gbto #gbi4i,.gbto #gbi4id{top:3px}.gbi4p{display:block;width:24px}#gbi4id{background-position:-44px -101px}#gbmpid{background-position:0 0}#gbmpi,#gbmpid{border:none;display:inline-block;height:48px;width:48px}#gbmpiw{display:inline-block;line-height:9px;padding-left:20px;margin-top:10px;position:relative}#gbmpi,#gbmpid,#gbmpiw{*display:inline}#gbg5{font-size:0}#gbgs5{padding:5px !important}.gbto #gbgs5{padding:7px 5px 6px !important}#gbi5{background:url(https://ssl.gstatic.com/gb/images/b_8d5afc09.png);_background:url(https://ssl.gstatic.com/gb/images/b8_3615d64d.png);background-position:0 0;display:block;font-size:0;height:17px;width:16px}.gbto #gbi5{background-position:-6px -22px}.gbn .gbmt,.gbn .gbmt:visited,.gbnd .gbmt,.gbnd .gbmt:visited{color:#dd8e27 !important}.gbf .gbmt,.gbf .gbmt:visited{color:#900 !important}.gbmt,.gbml1,.gbmlb,.gbmt:visited,.gbml1:visited,.gbmlb:visited{color:#36c !important;text-decoration:none !important}.gbmt,.gbmt:visited{display:block}.gbml1,.gbmlb,.gbml1:visited,.gbmlb:visited{display:inline-block;margin:0 10px}.gbml1,.gbmlb,.gbml1:visited,.gbmlb:visited{*display:inline}.gbml1,.gbml1:visited{padding:0 10px}.gbml1-hvr,.gbml1:focus{outline:none;text-decoration:underline !important}#gbpm .gbml1{display:inline;margin:0;padding:0;white-space:nowrap}.gbmlb,.gbmlb:visited{line-height:27px}.gbmlb-hvr,.gbmlb:focus{outline:none;text-decoration:underline !important}.gbmlbw{color:#ccc;margin:0 10px}.gbmt{padding:0 20px}.gbmt:hover,.gbmt:focus{background:#eee;cursor:pointer;outline:0 solid black;text-decoration:none !important}.gbm0l,.gbm0l:visited{color:#000 !important;font-weight:bold}.gbmh{border-top:1px solid #bebebe;font-size:0;margin:10px 0}#gbd4 .gbmc{background:#f5f5f5;padding-top:0}#gbd4 .gbsbic::-webkit-scrollbar-track:vertical{background-color:#f5f5f5;margin-top:2px}#gbmpdv{background:#fff;border-bottom:1px solid #bebebe;-moz-box-shadow:0 2px 4px rgba(0,0,0,.12);-o-box-shadow:0 2px 4px rgba(0,0,0,.12);-webkit-box-shadow:0 2px 4px rgba(0,0,0,.12);box-shadow:0 2px 4px rgba(0,0,0,.12);position:relative;z-index:1}#gbd4 .gbmh{margin:0}.gbmtc{padding:0;margin:0;line-height:27px}.GBMCC:last-child:after,#GBMPAL:last-child:after{content:\\'\\\\0A\\\\0A\\';white-space:pre;position:absolute}#gbmps{*zoom:1}#gbd4 .gbpc,#gbmpas .gbmt{line-height:17px}#gbd4 .gbpgs .gbmtc{line-height:27px}#gbd4 .gbmtc{border-bottom:1px solid #bebebe}#gbd4 .gbpc{display:inline-block;margin:16px 0 10px;padding-right:50px;vertical-align:top}#gbd4 .gbpc{*display:inline}.gbpc .gbps,.gbpc .gbps2{display:block;margin:0 20px}#gbmplp.gbps{margin:0 10px}.gbpc .gbps{color:#000;font-weight:bold}.gbpc .gbpd{margin-bottom:5px}.gbpd .gbmt,.gbpd .gbps{color:#666 !important}.gbpd .gbmt{opacity:.4;filter:alpha(opacity=40)}.gbps2{color:#666;display:block}.gbp0{display:none}.gbp0 .gbps2{font-weight:bold}#gbd4 .gbmcc{margin-top:5px}.gbpmc{background:#fef9db}.gbpmc .gbpmtc{padding:10px 20px}#gbpm{border:0;*border-collapse:collapse;border-spacing:0;margin:0;white-space:normal}#gbpm .gbpmtc{border-top:none;color:#000 !important;font:11px Arial,sans-serif}#gbpms{*white-space:nowrap}.gbpms2{font-weight:bold;white-space:nowrap}#gbmpal{*border-collapse:collapse;border-spacing:0;border:0;margin:0;white-space:nowrap;width:100%}.gbmpala,.gbmpalb{font:13px Arial,sans-serif;line-height:27px;padding:10px 20px 0;white-space:nowrap}.gbmpala{padding-left:0;text-align:left}.gbmpalb{padding-right:0;text-align:right}#gbmpasb .gbps{color:#000}#gbmpal .gbqfbb{margin:0 20px}.gbp0 .gbps{*display:inline}a.gbiba{margin:8px 20px 10px}.gbmpiaw{display:inline-block;padding-right:10px;margin-bottom:6px;margin-top:10px}.gbxv{visibility:hidden}.gbmpiaa{display:block;margin-top:10px}.gbmpia{border:none;display:block;height:48px;width:48px}.gbmpnw{display:inline-block;height:auto;margin:10px 0;vertical-align:top}\\n.gbqfb,.gbqfba,.gbqfbb{-moz-border-radius:2px;-webkit-border-radius:2px;border-radius:2px;cursor:default !important;display:inline-block;font-weight:bold;height:29px;line-height:29px;min-width:54px;*min-width:70px;padding:0 8px;text-align:center;text-decoration:none !important;-moz-user-select:none;-webkit-user-select:none}.gbqfb:focus,.gbqfba:focus,.gbqfbb:focus{border:1px solid #4d90fe;-moz-box-shadow:inset 0 0 0 1px rgba(255, 255, 255, 0.5);-webkit-box-shadow:inset 0 0 0 1px rgba(255, 255, 255, 0.5);box-shadow:inset 0 0 0 1px rgba(255, 255, 255, 0.5);outline:none}.gbqfb-hvr:focus,.gbqfba-hvr:focus,.gbqfbb-hvr:focus{-webkit-box-shadow:inset 0 0 0 1px #fff,0 1px 1px rgba(0,0,0,.1);-moz-box-shadow:inset 0 0 0 1px #fff,0 1px 1px rgba(0,0,0,.1);box-shadow:inset 0 0 0 1px #fff,0 1px 1px rgba(0,0,0,.1)}.gbqfb-no-focus:focus{border:1px solid #3079ed;-moz-box-shadow:none;-webkit-box-shadow:none;box-shadow:none}.gbqfb-hvr,.gbqfba-hvr,.gbqfbb-hvr{-webkit-box-shadow:0 1px 1px rgba(0,0,0,.1);-moz-box-shadow:0 1px 1px rgba(0,0,0,.1);box-shadow:0 1px 1px rgba(0,0,0,.1)}.gbqfb::-moz-focus-inner,.gbqfba::-moz-focus-inner,.gbqfbb::-moz-focus-inner{border:0}.gbqfba,.gbqfbb{border:1px solid #dcdcdc;border-color:rgba(0,0,0,.1);color:#444 !important;font-size:11px}.gbqfb{background-color:#4d90fe;background-image:-webkit-gradient(linear,left top,left bottom,from(#4d90fe),to(#4787ed));background-image:-webkit-linear-gradient(top,#4d90fe,#4787ed);background-image:-moz-linear-gradient(top,#4d90fe,#4787ed);background-image:-ms-linear-gradient(top,#4d90fe,#4787ed);background-image:-o-linear-gradient(top,#4d90fe,#4787ed);background-image:linear-gradient(top,#4d90fe,#4787ed);filter:progid:DXImageTransform.Microsoft.gradient(startColorStr=\\'#4d90fe\\',EndColorStr=\\'#4787ed\\');border:1px solid #3079ed;color:#fff!important;margin:0 0}.gbqfb-hvr{border-color:#2f5bb7}.gbqfb-hvr:focus{border-color:#2f5bb7}.gbqfb-hvr,.gbqfb-hvr:focus{background-color:#357ae8;background-image:-webkit-gradient(linear,left top,left bottom,from(#4d90fe),to(#357ae8));background-image:-webkit-linear-gradient(top,#4d90fe,#357ae8);background-image:-moz-linear-gradient(top,#4d90fe,#357ae8);background-image:-ms-linear-gradient(top,#4d90fe,#357ae8);background-image:-o-linear-gradient(top,#4d90fe,#357ae8);background-image:linear-gradient(top,#4d90fe,#357ae8)}.gbqfb:active{background-color:inherit;-webkit-box-shadow:inset 0 1px 2px rgba(0, 0, 0, 0.3);-moz-box-shadow:inset 0 1px 2px rgba(0, 0, 0, 0.3);box-shadow:inset 0 1px 2px rgba(0, 0, 0, 0.3)}.gbqfba{background-color:#f5f5f5;background-image:-webkit-gradient(linear,left top,left bottom,from(#f5f5f5),to(#f1f1f1));background-image:-webkit-linear-gradient(top,#f5f5f5,#f1f1f1);background-image:-moz-linear-gradient(top,#f5f5f5,#f1f1f1);background-image:-ms-linear-gradient(top,#f5f5f5,#f1f1f1);background-image:-o-linear-gradient(top,#f5f5f5,#f1f1f1);background-image:linear-gradient(top,#f5f5f5,#f1f1f1);filter:progid:DXImageTransform.Microsoft.gradient(startColorStr=\\'#f5f5f5\\',EndColorStr=\\'#f1f1f1\\')}.gbqfba-hvr,.gbqfba-hvr:active{background-color:#f8f8f8;background-image:-webkit-gradient(linear,left top,left bottom,from(#f8f8f8),to(#f1f1f1));background-image:-webkit-linear-gradient(top,#f8f8f8,#f1f1f1);background-image:-moz-linear-gradient(top,#f8f8f8,#f1f1f1);background-image:-ms-linear-gradient(top,#f8f8f8,#f1f1f1);background-image:-o-linear-gradient(top,#f8f8f8,#f1f1f1);background-image:linear-gradient(top,#f8f8f8,#f1f1f1);filter:progid:DXImageTransform.Microsoft.gradient(startColorStr=\\'#f8f8f8\\',EndColorStr=\\'#f1f1f1\\')}.gbqfbb{background-color:#fff;background-image:-webkit-gradient(linear,left top,left bottom,from(#fff),to(#fbfbfb));background-image:-webkit-linear-gradient(top,#fff,#fbfbfb);background-image:-moz-linear-gradient(top,#fff,#fbfbfb);background-image:-ms-linear-gradient(top,#fff,#fbfbfb);background-image:-o-linear-gradient(top,#fff,#fbfbfb);background-image:linear-gradient(top,#fff,#fbfbfb);filter:progid:DXImageTransform.Microsoft.gradient(startColorStr=\\'#ffffff\\',EndColorStr=\\'#fbfbfb\\')}.gbqfbb-hvr,.gbqfbb-hvr:active{background-color:#fff;background-image:-webkit-gradient(linear,left top,left bottom,from(#fff),to(#f8f8f8));background-image:-webkit-linear-gradient(top,#fff,#f8f8f8);background-image:-moz-linear-gradient(top,#fff,#f8f8f8);background-image:-ms-linear-gradient(top,#fff,#f8f8f8);background-image:-o-linear-gradient(top,#fff,#f8f8f8);background-image:linear-gradient(top,#fff,#f8f8f8);filter:progid:DXImageTransform.Microsoft.gradient(startColorStr=\\'#ffffff\\',EndColorStr=\\'#f8f8f8\\')}.gbqfba-hvr,.gbqfba-hvr:active,.gbqfbb-hvr,.gbqfbb-hvr:active{border-color:#c6c6c6;-webkit-box-shadow:0 1px 1px rgba(0,0,0,.1);-moz-box-shadow:0 1px 1px rgba(0,0,0,.1);box-shadow:0 1px 1px rgba(0,0,0,.1);color:#222 !important}.gbqfba:active,.gbqfbb:active{-webkit-box-shadow:inset 0 1px 2px rgba(0,0,0,.1);-moz-box-shadow:inset 0 1px 2px rgba(0,0,0,.1);box-shadow:inset 0 1px 2px rgba(0,0,0,.1)}\\n#gbmpas{max-height:220px}#gbmm{max-height:530px}.gbsb{-webkit-box-sizing:border-box;display:block;position:relative;*zoom:1}.gbsbic{overflow:auto}.gbsbis .gbsbt,.gbsbis .gbsbb{-webkit-mask-box-image:-webkit-gradient(linear,left top,right top,color-stop(0,rgba(0,0,0,.1)),color-stop(.5,rgba(0,0,0,.8)),color-stop(1,rgba(0,0,0,.1)));left:0;margin-right:0;opacity:0;position:absolute;width:100%}.gbsb .gbsbt:after,.gbsb .gbsbb:after{content:\"\";display:block;height:0;left:0;position:absolute;width:100%}.gbsbis .gbsbt{background:-webkit-gradient(linear,left top,left bottom,from(rgba(0,0,0,.2)),to(rgba(0,0,0,0)));background-image:-webkit-linear-gradient(top,rgba(0,0,0,.2),rgba(0,0,0,0));background-image:-moz-linear-gradient(top,rgba(0,0,0,.2),rgba(0,0,0,0));background-image:-ms-linear-gradient(top,rgba(0,0,0,.2),rgba(0,0,0,0));background-image:-o-linear-gradient(top,rgba(0,0,0,.2),rgba(0,0,0,0));background-image:linear-gradient(top,rgba(0,0,0,.2),rgba(0,0,0,0));height:6px;top:0}.gbsb .gbsbt:after{border-top:1px solid #ebebeb;border-color:rgba(0,0,0,.3);top:0}.gbsb .gbsbb{-webkit-mask-box-image:-webkit-gradient(linear,left top,right top,color-stop(0,rgba(0,0,0,.1)),color-stop(.5,rgba(0,0,0,.8)),color-stop(1,rgba(0,0,0,.1)));background:-webkit-gradient(linear,left bottom,left top,from(rgba(0,0,0,.2)),to(rgba(0,0,0,0)));background-image:-webkit-linear-gradient(bottom,rgba(0,0,0,.2),rgba(0,0,0,0));background-image:-moz-linear-gradient(bottom,rgba(0,0,0,.2),rgba(0,0,0,0));background-image:-ms-linear-gradient(bottom,rgba(0,0,0,.2),rgba(0,0,0,0));background-image:-o-linear-gradient(bottom,rgba(0,0,0,.2),rgba(0,0,0,0));background-image:linear-gradient(bottom,rgba(0,0,0,.2),rgba(0,0,0,0));bottom:0;height:4px}.gbsb .gbsbb:after{border-bottom:1px solid #ebebeb;border-color:rgba(0,0,0,.3);bottom:0}\\n</style><style>.star{float:left;margin-top:1px;overflow:hidden}.ybhkme{font-size:11px}.j{width:34em}body,td,div,a{font-family:arial,sans-serif;tap-highlight-color:rgba(255,255,255,0)}body{margin:0}a img{border:0}#gbar{float:left;height:22px;padding-left:2px;font-size:13px}.gsfi,.gsfs{font-size:17px}.w,.q:active,.q:visited,.tbotu{color:#11c}a.gl{text-decoration:none}#foot{padding:0 8px}#foot a{white-space:nowrap}h3{font-size:16px;font-weight:normal;margin:0;padding:0}#res h3{display:inline}.hd{height:1px;position:absolute;top:-1000em}.g,body,html,table,.std{font-size:13px}.g{margin-bottom:23px;margin-top:0;zoom:1}ol li,ul li{list-style:none}h1,ol,ul,li{margin:0;padding:0}.e{margin:2px 0 0.75em}#leftnav a{text-decoration:none}#leftnav h2{color:#767676;font-weight:normal;margin:0}#nav{border-collapse:collapse;margin-top:17px;text-align:left}#nav td{text-align:center}.nobr{white-space:nowrap}.ts{border-collapse:collapse}.s br{display:none}.csb{display:block;height:40px}.images_table td{line-height:17px;padding-bottom:16px}.images_table img{border:1px solid #ccc;padding:1px}#tbd,#abd{display:block;min-height:1px}#abd{padding-top:3px}#tbd li{display:inline}.TIrJXe,.UU5df{margin-bottom:8px}#tbd .tbt li{display:block;font-size:13px;line-height:1.2;padding-bottom:3px;padding-left:8px;text-indent:-8px}.tbos,.b{font-weight:bold}em{font-weight:bold;font-style:normal}.mime{color:#1a0dab;font-weight:bold;font-size:x-small}.soc a{text-decoration:none}.soc{color:#808080}.ul7Gbc{color:#e7711b}#Db7kif{border:1px solid #e0e0e0;margin-left:-8px;margin-right:-8px;padding:15px 20px 5px}.mrH1y{font-size:32px}.PZ6wOb{color:#777;font-size:16px;margin-top:5px}.gwrItc{color:#777;font-size:14px;margin-top:5px}.SVob4e{border:1px solid #e0e0e0;padding-left:20px}.mYu5Hb{border:1px solid #e0e0e0;padding:5px 20px}#vob{border:1px solid #e0e0e0;padding:15px 15px}#ZjIC2e{font-size:22px;line-height:22px;padding-bottom:5px}#vob_st{line-height:1.24}.DfLGHd{border-width:1px;border-style:solid;border-color:#eee;background-color:#fff;position:relative;margin-bottom:26px}.uRIxYb,.NjTIc,.PftIHd,.DXoZmb{font-family:Arial;font-weight:lighter}.uRIxYb{margin-bottom:5px}.uRIxYb{font-size:xx-large}.NjTIc{font-size:medium}.PftIHd{font-size:large}.DXoZmb{font-size:small}.DfLGHd{margin-left:-8px;margin-right:-15px;padding:20px 20px 24px}.ernfsc{border-spacing:0px 2px}.D3VFNd{max-width:380px;text-overflow:ellipsis;white-space:nowrap;overflow:hidden;padding-left:0px}.c1Ujmc{padding-left:15px;white-space:nowrap;color:#666}.EjZtie{padding-left:0px}.SFt5jb{color:#212121}.Pt7r9e{color:#878787}.bkcGhd{color:#093}.fIP9ce{color:#c00}.LDBB9d{padding:1px}.gssb_a{padding:0 10px !important}.gssb_c{left:132px !important;right:295px !important;top:78px !important;width:572px !important}.gssb_c table{font-size:16px !important}.gssb_e{border:1px solid #ccc !important;border-top-color:#d9d9d9 !important}.gssb_i{background:#eee !important}#res{padding:0 8px}#rhs_block{padding-top:43px}#MCN7mf{padding:0 8px}#subform_ctrl{font-size:11px;height:17px;margin:5px 3px 0 17px}.taf{padding-bottom:3px}.WIkLp{padding:20px 0 3px}.FuZzl{padding:20px 0 3px}#topstuff .e{padding-bottom:6px}.slk .sld{width:250px}.slk{margin-bottom:-3px}.slk .zaHRAf{padding-bottom:5px;width:250px}.ac,.st{line-height:1.24}.a1DBFd,#ofr{font-size:16px;margin:1em 0;padding:0 8px}.tZz6cc{padding-bottom:25px}.s{color:#545454}.ac{color:#545454}a.fl,.A8ul6 a,.osl a{color:#1a0dab;text-decoration:none}a:link{color:#1a0dab;cursor:pointer}#tads a:link{color:#1a0dab}#tads .soc a:link{color:#808080}a:visited{color:#61C}.blg a{text-decoration:none}cite,cite a:link{color:#006621;font-style:normal}#tads cite{color:#006621}.hJND5c{font-size:15px}.kvs{margin-top:1px}.hJND5c,.kvs,.slp{display:block;margin-bottom:1px}.kt{border-spacing:2px 0;margin-top:1px}.f{color:#808080}.L4Zeue{color:#093}h4.r{display:inline;font-size:small;font-weight:normal}.g{line-height:1.2}.NpC9Hd{display:inline-block;vertical-align:top;overflow:hidden;position:relative}.COi8F{margin:0 0 2em 1.3em}.COi8F li{list-style-type:disc}.osl{color:#777;margin-top:4px}.r{font-size:16px;margin:0}.gL9Hy{font-size:16px}.spell_orig{font-size:13px}.spell_orig a{text-decoration:none}.spell_orig b i{font-style:normal;font-weight:normal}.th{border:1px solid #ebebeb}.ts td{padding:0}.videobox{padding-bottom:3px}.slk a{text-decoration:none}#leftnav a:hover,#leftnav .tbou a:hover,.slk h3 a,a:hover{text-decoration:underline}#mn{table-layout:fixed;width:100%}#leftnav a{color:#222;font-size:13px}#leftnav{padding:43px 4px 4px 0}.tbos{color:#dd4b39}.tbt{margin-bottom:28px}#tbd{padding:0 0 0 16px}.tbou a{color:#222}#center_col{border:0;padding:0 8px 0 0}#topstuff .e{padding-top:3px}#topstuff .p64x9c{padding-top:6px}#ab_name{color:#dd4b39;font:20px \"Arial\";margin-left:15px}#resultStats{color:#999;font-size:13px;overflow:hidden;white-space:nowrap}.mslg>td{padding-right:1px;padding-top:2px}.slk .sld{margin-top:2px;padding:5px 0 5px 5px}.fmp{padding-top:3px}.close_btn{overflow:hidden}#fll a,#bfl a{color:#1a0dab !important;margin:0 12px;text-decoration:none !important}.ng{color:#dd4b39}#mss{margin:.33em 0 0;padding:0;display:table}.NYKCib{display:inline-block;float:left;white-space:nowrap;padding-right:16px}#mss p{margin:0;padding-top:5px}.tn{border-bottom:1px solid #ebebeb;display:block;float:left;height:59px;line-height:54px;min-width:980px;padding:0;position:relative;white-space:nowrap}.qrSWbe,a.qrSWbe{color:#777;cursor:pointer;display:inline-block;font-family:arial,sans-serif;font-size:small;height:54px;line-height:54px;margin:0 8px;padding:0 8px;text-decoration:none;white-space:nowrap}.tnuiC{border-bottom:3px solid #dd4b39;color:#dd4b39;font-weight:bold;margin:2px 8px 0}a.KDZjCd:hover{color:black;text-decoration:none;white-space:nowrap}body{margin:0;padding:0}.sFTC8c{display:inline-block;float:left;margin-top:2px}.pqkqJe,a.pqkqJe{margin-left:1px}.sd{line-height:43px;padding:0 8px 0 9px}a:active,.osl a:active,.tbou a:active,#leftnav a:active{color:#dd4b39}#bfl a:active{color:#dd4b39 !important}.csb{background:url(/images/nav_logo229.png) no-repeat;overflow:hidden}.close_btn{background:url(/images/nav_logo229.png) no-repeat -138px -84px;height:14px;width:14px;display:block}.star{background:url(/images/nav_logo229.png) no-repeat -94px -245px;height:13px;width:65px;display:block}.star div,.star span{background:url(/images/nav_logo229.png) no-repeat 0 -245px;height:13px;width:65px;display:block}.Pj9hGd{display:inline;margin:0 3px;outline-color:transparent;overflow:hidden;position:relative}.Pj9hGd>div{outline-color:transparent}.CiacGf{border-color:transparent;border-style:solid dashed dashed;border-top-color:green;border-width:4px 4px 0 4px;cursor:pointer;display:inline-block;font-size:0;height:0;left:4px;line-height:0;outline-color:transparent;position:relative;top:-3px;width:0}.CiacGf{margin-top:-4px}.am-dropdown-menu{display:block;background:#fff;border:1px solid #dcdcdc;font-size:13px;left:0;padding:0;position:absolute;right:auto;white-space:nowrap;z-index:3}.mUpfKd{list-style:none;white-space:nowrap}.mUpfKd:hover{background-color:#eee}a.imx0m{color:#333;cursor:pointer;display:block;padding:7px 18px;text-decoration:none}#tads a.imx0m{color:#333}.sfbgg{background:#f1f1f1;border-bottom:1px solid #e5e5e5;height:71px}#logocont{z-index:1;padding-left:4px;padding-top:4px}#logo{display:block;height:49px;margin-top:12px;margin-left:12px;overflow:hidden;position:relative;width:137px}#logo img{left:0;position:absolute;top:-41px}.lst-a{background:white;border:1px solid #d9d9d9;border-top-color:silver;width:570px}.lst-a:hover{border:1px solid #b9b9b9;border-top:1px solid #a0a0a0;box-shadow:inset 0 1px 2px rgba(0,0,0,0.1);-webkit-box-shadow:inset 0 1px 2px rgba(0,0,0,0.1);-moz-box-shadow:inset 0 1px 2px rgba(0,0,0,0.1)}.lst-td{border:none;padding:0}.tia input{border-right:none;padding-right:0}.tia{padding-right:0}.lst{background:none;border:none;color:#000;font:16px arial,sans-serif;float:left;height:22px;margin:0;padding:3px 6px 2px 9px;vertical-align:top;width:100%;word-break:break-all}.lst:focus{outline:none}.lst-b{background:none;border:none;height:26px;padding:0 6px 0 12px}.ds{border-right:1px solid #e7e7e7;position:relative;height:29px;margin-left:17px;z-index:100}.lsbb{background-image:-moz-linear-gradient(top,#4d90fe,#4787ed);background-image:-ms-linear-gradient(top,#4d90fe,#4787ed);background-image:-o-linear-gradient(top,#4d90fe,#4787ed);background-image:-webkit-gradient(linear,left top,left bottom,from(#4d90fe),to(#4787ed));background-image:-webkit-linear-gradient(top,#4d90fe,#4787ed);background-image:linear-gradient(top,#4d90fe,#4787ed);border:1px solid #3079ed;border-radius:2px;background-color:#4d90fe;height:27px;width:68px}.lsbb:hover{background-image:-moz-linear-gradient(top,#4d90fe,#357ae8);background-image:-ms-linear-gradient(top,#4d90fe,#357ae8);background-image:-o-linear-gradient(top,#4d90fe,#357ae8);background-image:-webkit-gradient(linear,left top,left bottom,from(#4d90fe),to(#357ae8));background-image:-webkit-linear-gradient(top,#4d90fe,#357ae8);background-color:#357ae8;background-image:linear-gradient(top,#4d90fe,#357ae8);border:1px solid #2f5bb7}.lsb{background:transparent;background-position:0 -343px;background-repeat:repeat-x;border:none;color:#000;cursor:default;font:15px arial,sans-serif;height:29px;margin:0;vertical-align:top;width:100%}.lsb:active{-moz-box-shadow:inset 0 1px 2px rgba(0,0,0,0.3);-webkit-box-shadow:inset 0 1px 2px rgba(0,0,0,0.3);box-shadow:inset 0 1px 2px rgba(0,0,0,0.3);background:transparent;color:transparent;overflow:hidden;position:relative;width:100%}.sbico{color:transparent;display:inline-block;height:15px;margin:0 auto;margin-top:2px;width:15px;overflow:hidden}</style><script nonce=\"MqU1ulHIyMmifkRbMHSUMA==\">(function(){window.google={kEI:\\'52OBXIq3AYHO8wXFsZrACw\\',kEXPI:\\'0,18167,2615,1332964,58,1958,1016,1406,697,528,591,140,223,528,228,818,31,1228,805,956,132,70,336,179,351,78,56,147,52,2333919,303233,26305,1294,12383,4855,32691,15248,867,12163,7234,9287,363,4582,4243,1241,1195,266,4831,2,14,260,575,835,284,2,579,727,2431,126,1236,283,4040,4922,11,34,774,2248,4746,7,1144,2,1965,2595,3601,669,1050,1808,1129,268,81,7,491,620,29,1395,442,536,3327,4604,876,412,2,554,3453,796,1220,38,363,557,718,28,7,120,1217,93,1202,69,346,1,137,47,1080,542,2150,44,49,1509,1245,258,2,631,218,2344,2,4,2,670,44,334,600,1253,187,411,1519,354,125,2607,632,464,950,350,25,444,650,19,320,55,199,2,111,415,783,7,421,1026,14,337,539,237,4,116,251,353,680,284,607,73,2,22,207,551,83,1,12,392,29,399,40,10,327,2,510,22,82,454,2,53,124,204,280,168,8,85,27,184,29,791,11,237,76,365,33,481,303,174,20,4,218,147,167,7,150,3,117,134,50,562,15,13,186,168,75,302,175,413,326,23,42,123,107,2,12,10,347,75,32,9,156,183,8,142,213,337,11,298,171,5954485,13,2541,254,73,3,5997556\\',authuser:0,kscs:\\'c9c918f0_52OBXIq3AYHO8wXFsZrACw\\',kGL:\\'KR\\'};google.sn=\\'web\\';google.kHL=\\'ko\\';})();(function(){google.lc=[];google.li=0;google.getEI=function(a){for(var b;a&&(!a.getAttribute||!(b=a.getAttribute(\"eid\")));)a=a.parentNode;return b||google.kEI};google.getLEI=function(a){for(var b=null;a&&(!a.getAttribute||!(b=a.getAttribute(\"leid\")));)a=a.parentNode;return b};google.https=function(){return\"https:\"==window.location.protocol};google.ml=function(){return null};google.time=function(){return(new Date).getTime()};google.log=function(a,b,e,c,g){if(a=google.logUrl(a,b,e,c,g)){b=new Image;var d=google.lc,f=google.li;d[f]=b;b.onerror=b.onload=b.onabort=function(){delete d[f]};google.vel&&google.vel.lu&&google.vel.lu(a);b.src=a;google.li=f+1}};google.logUrl=function(a,b,e,c,g){var d=\"\",f=google.ls||\"\";e||-1!=b.search(\"&ei=\")||(d=\"&ei=\"+google.getEI(c),-1==b.search(\"&lei=\")&&(c=google.getLEI(c))&&(d+=\"&lei=\"+c));c=\"\";!e&&google.cshid&&-1==b.search(\"&cshid=\")&&\"slh\"!=a&&(c=\"&cshid=\"+google.cshid);a=e||\"/\"+(g||\"gen_204\")+\"?atyp=i&ct=\"+a+\"&cad=\"+b+d+f+\"&zx=\"+google.time()+c;/^http:/i.test(a)&&google.https()&&(google.ml(Error(\"a\"),!1,{src:a,glmm:1}),a=\"\");return a};}).call(this);(function(){google.y={};google.x=function(a,b){if(a)var c=a.id;else{do c=Math.random();while(google.y[c])}google.y[c]=[a,b];return!1};google.lm=[];google.plm=function(a){google.lm.push.apply(google.lm,a)};google.lq=[];google.load=function(a,b,c){google.lq.push([[a],b,c])};google.loadAll=function(a,b){google.lq.push([a,b])};}).call(this);google.f={};(function(){var b=[function(){google.c&&google.tick(\"load\",\"dcl\")}];google.dclc=function(a){b.length?b.push(a):a()};function c(){for(var a;a=b.shift();)a()}window.addEventListener?(document.addEventListener(\"DOMContentLoaded\",c,!1),window.addEventListener(\"load\",c,!1)):window.attachEvent&&window.attachEvent(\"onload\",c);}).call(this);</script><script type=\"text/javascript\" nonce=\"MqU1ulHIyMmifkRbMHSUMA==\">(function(){try{var e=this;var aa=function(a,b,c,d){d=d||{};d._sn=[\"cfg\",b,c].join(\".\");window.gbar.logger.ml(a,d)};var g=window.gbar=window.gbar||{},h=window.gbar.i=window.gbar.i||{},ba;function _tvn(a,b){a=parseInt(a,10);return isNaN(a)?b:a}function _tvf(a,b){a=parseFloat(a);return isNaN(a)?b:a}function _tvv(a){return!!a}function p(a,b,c){(c||g)[a]=b}g.bv={n:_tvn(\"2\",0),r:\"\",f:\".66.41.\",e:\"1300102,3700277\",m:_tvn(\"1\",1)};\\nfunction ca(a,b,c){var d=\"on\"+b;if(a.addEventListener)a.addEventListener(b,c,!1);else if(a.attachEvent)a.attachEvent(d,c);else{var f=a[d];a[d]=function(){var a=f.apply(this,arguments),b=c.apply(this,arguments);return void 0==a?b:void 0==b?a:b&&a}}}var da=function(a){return function(){return g.bv.m==a}},ea=da(1),fa=da(2);p(\"sb\",ea);p(\"kn\",fa);h.a=_tvv;h.b=_tvf;h.c=_tvn;h.i=aa;var q=window.gbar.i.i;var r=function(){},ha=function(){},ka=function(a){var b=new Image,c=ia;b.onerror=b.onload=b.onabort=function(){try{delete ja[c]}catch(d){}};ja[c]=b;b.src=a;ia=c+1},ja=[],ia=0;p(\"logger\",{il:ha,ml:r,log:ka});var u=window.gbar.logger;var v={},la={},w=[],ma=h.b(\"0.1\",.1),na=h.a(\"1\",!0),oa=function(a,b){w.push([a,b])},pa=function(a,b){v[a]=b},qa=function(a){return a in v},x={},A=function(a,b){x[a]||(x[a]=[]);x[a].push(b)},B=function(a){A(\"m\",a)},ra=function(a,b){var c=document.createElement(\"script\");c.src=a;c.async=na;Math.random()<ma&&(c.onerror=function(){c.onerror=null;r(Error(\"Bundle load failed: name=\"+(b||\"UNK\")+\" url=\"+a))});(document.getElementById(\"xjsc\")||document.getElementsByTagName(\"body\")[0]||\\ndocument.getElementsByTagName(\"head\")[0]).appendChild(c)},D=function(a){for(var b=0,c;(c=w[b])&&c[0]!=a;++b);!c||c[1].l||c[1].s||(c[1].s=!0,sa(2,a),c[1].url&&ra(c[1].url,a),c[1].libs&&C&&C(c[1].libs))},ta=function(a){A(\"gc\",a)},ua=null,va=function(a){ua=a},sa=function(a,b,c){if(ua){a={t:a,b:b};if(c)for(var d in c)a[d]=c[d];try{ua(a)}catch(f){}}};p(\"mdc\",v);p(\"mdi\",la);p(\"bnc\",w);p(\"qGC\",ta);p(\"qm\",B);p(\"qd\",x);p(\"lb\",D);p(\"mcf\",pa);p(\"bcf\",oa);p(\"aq\",A);p(\"mdd\",\"\");\\np(\"has\",qa);p(\"trh\",va);p(\"tev\",sa);if(h.a(\"m;/_/scs/abc-static/_/js/k=gapi.gapi.en.1YQiBIu1zGM.O/rt=j/d=1/rs=AHpOoo8jmooDqnwUNQ5CPVlex635ObQRZg/m=__features__\")){var F=function(a,b){return wa?a||b:b},xa=h.a(\"1\"),ya=h.a(\"\"),za=h.a(\"\"),wa=h.a(\"\"),Aa=window.gapi=F(window.gapi,{}),Ba=function(a,b){var c=function(){g.dgl(a,b)};xa?B(c):(A(\"gl\",c),D(\"gl\"))},Ca={},Da=function(a){a=a.split(\":\");for(var b;(b=a.pop())&&Ca[b];);return!b},C=function(a){function b(){for(var b=a.split(\":\"),d=0,f;f=b[d];++d)Ca[f]=1;for(b=0;d=w[b];++b)d=d[1],(f=d.libs)&&!d.l&&d.i&&\\nDa(f)&&d.i()}g.dgl(a,b)},G=window.___jsl=F(window.___jsl,{});G.h=F(G.h,\"m;/_/scs/abc-static/_/js/k=gapi.gapi.en.1YQiBIu1zGM.O/rt=j/d=1/rs=AHpOoo8jmooDqnwUNQ5CPVlex635ObQRZg/m=__features__\");G.ms=F(G.ms,\"https://apis.google.com\");G.m=F(G.m,\"\");G.l=F(G.l,[]);G.dpo=F(G.dpo,\"\");xa||w.push([\"gl\",{url:\"//ssl.gstatic.com/gb/js/abc/glm_e7bb39a7e1a24581ff4f8d199678b1b9.js\"}]);var Ea={pu:ya,sh:\"\",si:za,hl:\"ko\"};v.gl=Ea;wa?Aa.load||p(\"load\",Ba,Aa):p(\"load\",Ba,Aa);p(\"dgl\",Ba);p(\"agl\",Da);h.o=xa};var Fa=h.b(\"0.1\",.001),Ga=0;\\nfunction _mlToken(a,b){try{if(1>Ga){Ga++;var c=a;b=b||{};var d=encodeURIComponent,f=[\"//www.google.com/gen_204?atyp=i&zx=\",(new Date).getTime(),\"&jexpid=\",d(\"28834\"),\"&srcpg=\",d(\"prop=1\"),\"&jsr=\",Math.round(1/Fa),\"&ogev=\",d(\"52OBXOH-AtLM8wXJo5z4Cg\"),\"&ogf=\",g.bv.f,\"&ogrp=\",d(\"1\"),\"&ogv=\",d(\"236550449.0\"),\"&oggv=\"+d(\"es_plusone_gc_20190224.0_p0\"),\"&ogd=\",d(\"com\"),\"&ogc=\",d(\"KOR\"),\"&ogl=\",d(\"ko\")];b._sn&&(b._sn=\\n\"og.\"+b._sn);for(var k in b)f.push(\"&\"),f.push(d(k)),f.push(\"=\"),f.push(d(b[k]));f.push(\"&emsg=\");f.push(d(c.name+\":\"+c.message));var l=f.join(\"\");Ha(l)&&(l=l.substr(0,2E3));var m=l;var n=window.gbar.logger._aem(a,m);ka(n)}}catch(t){}}var Ha=function(a){return 2E3<=a.length},Ia=function(a,b){return b};function Ja(a){r=a;p(\"_itl\",Ha,u);p(\"_aem\",Ia,u);p(\"ml\",r,u);a={};v.er=a}h.a(\"\")?Ja(function(a){throw a;}):h.a(\"1\")&&Math.random()<Fa&&Ja(_mlToken);var _E=\"left\",Ka=h.a(\"\"),J=function(a,b){var c=a.className;H(a,b)||(a.className+=(\"\"!=c?\" \":\"\")+b)},K=function(a,b){var c=a.className;b=new RegExp(\"\\\\\\\\s?\\\\\\\\b\"+b+\"\\\\\\\\b\");c&&c.match(b)&&(a.className=c.replace(b,\"\"))},H=function(a,b){b=new RegExp(\"\\\\\\\\b\"+b+\"\\\\\\\\b\");a=a.className;return!(!a||!a.match(b))},La=function(a,b){H(a,b)?K(a,b):J(a,b)},Ma=function(a,b){a[b]=function(c){var d=arguments;g.qm(function(){a[b].apply(this,d)})}},Na=function(){return\"1\"},\\nOa=function(a){a=[\"//www.gstatic.com\",\"/og/_/js/d=1/k=\",\"og.og2.en_US.rOesplkdJp4.O\",\"/rt=j/m=\",a,\"/rs=\",\"AA2YrTulKqO8q2qbivhzcFLJGtKOzFANTA\"];Ka&&a.push(\"?host=www.gstatic.com&bust=og.og2.en_US.1Yzws0RU2MA.DU\");a=a.join(\"\");ra(a)};p(\"ca\",J);p(\"cr\",K);p(\"cc\",H);h.k=J;h.l=K;h.m=H;h.n=La;h.p=Oa;h.q=Ma;h.r=Na;var Pa=[\"gb_71\",\"gb_155\"],Qa;function Ra(a){Qa=a}function Sa(a){var b=Qa&&!a.href.match(/.*\\\\/accounts\\\\/ClearSID[?]/)&&encodeURIComponent(Qa());b&&(a.href=a.href.replace(/([?&]continue=)[^&]*/,\"$1\"+b))}function Ta(a){window.gApplication&&(a.href=window.gApplication.getTabUrl(a.href))}function Ua(a){try{var b=(document.forms[0].q||\"\").value;b&&(a.href=a.href.replace(/([?&])q=[^&]*|$/,function(a,d){return(d||\"&\")+\"q=\"+encodeURIComponent(b)}))}catch(c){q(c,\"sb\",\"pq\")}}\\nvar Va=function(){for(var a=[],b=0,c;c=Pa[b];++b)(c=document.getElementById(c))&&a.push(c);return a},Wa=function(){var a=Va();return 0<a.length?a[0]:null},Xa=function(){return document.getElementById(\"gb_70\")},L={},M={},Ya={},N={},O=void 0,cb=function(a,b){try{var c=document.getElementById(\"gb\");J(c,\"gbpdjs\");P();Za(document.getElementById(\"gb\"))&&J(c,\"gbrtl\");if(b&&b.getAttribute){var d=b.getAttribute(\"aria-owns\");if(d.length){var f=document.getElementById(d);if(f){var k=b.parentNode;if(O==d)O=void 0,\\nK(k,\"gbto\");else{if(O){var l=document.getElementById(O);if(l&&l.getAttribute){var m=l.getAttribute(\"aria-owner\");if(m.length){var n=document.getElementById(m);n&&n.parentNode&&K(n.parentNode,\"gbto\")}}}$a(f)&&ab(f);O=d;J(k,\"gbto\")}}}}B(function(){g.tg(a,b,!0)});bb(a)}catch(t){q(t,\"sb\",\"tg\")}},db=function(a){B(function(){g.close(a)})},eb=function(a){B(function(){g.rdd(a)})},Za=function(a){var b,c=document.defaultView;c&&c.getComputedStyle?(a=c.getComputedStyle(a,\"\"))&&(b=a.direction):b=a.currentStyle?\\na.currentStyle.direction:a.style.direction;return\"rtl\"==b},gb=function(a,b,c){if(a)try{var d=document.getElementById(\"gbd5\");if(d){var f=d.firstChild,k=f.firstChild,l=document.createElement(\"li\");l.className=b+\" gbmtc\";l.id=c;a.className=\"gbmt\";l.appendChild(a);if(k.hasChildNodes()){c=[[\"gbkc\"],[\"gbf\",\"gbe\",\"gbn\"],[\"gbkp\"],[\"gbnd\"]];d=0;var m=k.childNodes.length;f=!1;for(var n=-1,t=0,E;E=c[t];t++){for(var U=0,I;I=E[U];U++){for(;d<m&&H(k.childNodes[d],I);)d++;if(I==b){k.insertBefore(l,k.childNodes[d]||\\nnull);f=!0;break}}if(f){if(d+1<k.childNodes.length){var V=k.childNodes[d+1];H(V.firstChild,\"gbmh\")||fb(V,E)||(n=d+1)}else if(0<=d-1){var W=k.childNodes[d-1];H(W.firstChild,\"gbmh\")||fb(W,E)||(n=d)}break}0<d&&d+1<m&&d++}if(0<=n){var y=document.createElement(\"li\"),z=document.createElement(\"div\");y.className=\"gbmtc\";z.className=\"gbmt gbmh\";y.appendChild(z);k.insertBefore(y,k.childNodes[n])}g.addHover&&g.addHover(a)}else k.appendChild(l)}}catch(Eb){q(Eb,\"sb\",\"al\")}},fb=function(a,b){for(var c=b.length,\\nd=0;d<c;d++)if(H(a,b[d]))return!0;return!1},hb=function(a,b,c){gb(a,b,c)},ib=function(a,b){gb(a,\"gbe\",b)},jb=function(){B(function(){g.pcm&&g.pcm()})},kb=function(){B(function(){g.pca&&g.pca()})},lb=function(a,b,c,d,f,k,l,m,n,t){B(function(){g.paa&&g.paa(a,b,c,d,f,k,l,m,n,t)})},mb=function(a,b){L[a]||(L[a]=[]);L[a].push(b)},nb=function(a,b){M[a]||(M[a]=[]);M[a].push(b)},ob=function(a,b){Ya[a]=b},pb=function(a,b){N[a]||(N[a]=[]);N[a].push(b)},bb=function(a){a.preventDefault&&a.preventDefault();a.returnValue=\\n!1;a.cancelBubble=!0},qb=null,ab=function(a,b){P();if(a){rb(a,\"여는 중&hellip;\");Q(a,!0);b=\"undefined\"!=typeof b?b:1E4;var c=function(){sb(a)};qb=window.setTimeout(c,b)}},tb=function(a){P();a&&(Q(a,!1),rb(a,\"\"))},sb=function(a){try{P();var b=a||document.getElementById(O);b&&(rb(b,\"이 서비스는 현재 사용할 수 없습니다.%1$s나중에 다시 시도해 주세요.\",\"%1$s\"),Q(b,!0))}catch(c){q(c,\"sb\",\"sdhe\")}},rb=function(a,b,c){if(a&&b){var d=$a(a);if(d){if(c){d.innerHTML=\"\";b=b.split(c);c=0;for(var f;f=b[c];c++){var k=document.createElement(\"div\");\\nk.innerHTML=f;d.appendChild(k)}}else d.innerHTML=b;Q(a,!0)}}},Q=function(a,b){(b=void 0!==b?b:!0)?J(a,\"gbmsgo\"):K(a,\"gbmsgo\")},$a=function(a){for(var b=0,c;c=a.childNodes[b];b++)if(H(c,\"gbmsg\"))return c},P=function(){qb&&window.clearTimeout(qb)},ub=function(a){var b=\"inner\"+a;a=\"offset\"+a;return window[b]?window[b]:document.documentElement&&document.documentElement[a]?document.documentElement[a]:0},vb=function(){return!1},wb=function(){return!!O};p(\"so\",Wa);p(\"sos\",Va);p(\"si\",Xa);p(\"tg\",cb);\\np(\"close\",db);p(\"rdd\",eb);p(\"addLink\",hb);p(\"addExtraLink\",ib);p(\"pcm\",jb);p(\"pca\",kb);p(\"paa\",lb);p(\"ddld\",ab);p(\"ddrd\",tb);p(\"dderr\",sb);p(\"rtl\",Za);p(\"op\",wb);p(\"bh\",L);p(\"abh\",mb);p(\"dh\",M);p(\"adh\",nb);p(\"ch\",N);p(\"ach\",pb);p(\"eh\",Ya);p(\"aeh\",ob);ba=h.a(\"\")?Ta:Ua;p(\"qs\",ba);p(\"setContinueCb\",Ra);p(\"pc\",Sa);p(\"bsy\",vb);h.d=bb;h.j=ub;var xb={};v.base=xb;w.push([\"m\",{url:\"//ssl.gstatic.com/gb/js/sem_b00339d608e5cb80403d28cbd740e048.js\"}]);g.sg={c:\"1\"};p(\"wg\",{rg:{}});var yb={tiw:h.c(\"15000\",0),tie:h.c(\"30000\",0)};v.wg=yb;var zb={thi:h.c(\"10000\",0),thp:h.c(\"180000\",0),tho:h.c(\"5000\",0),tet:h.b(\"0.5\",0)};v.wm=zb;if(h.a(\"1\")){var Ab=h.a(\"\");w.push([\"gc\",{auto:Ab,url:\"//ssl.gstatic.com/gb/js/abc/gci_91f30755d6a6b787dcc2a4062e6e9824.js\",libs:\"googleapis.client:plusone:gapi.iframes\"}]);var Bb={version:\"gci_91f30755d6a6b787dcc2a4062e6e9824.js\",index:\"\",lang:\"ko\"};v.gc=Bb;var Cb=function(a){window.googleapis&&window.iframes?a&&a():(a&&ta(a),D(\"gc\"))};p(\"lGC\",Cb);h.a(\"1\")&&p(\"lPWF\",Cb)};window.__PVT=\"\";if(h.a(\"1\")&&h.a(\"1\")){var Db=function(a){Cb(function(){A(\"pw\",a);D(\"pw\")})};p(\"lPW\",Db);w.push([\"pw\",{url:\"//ssl.gstatic.com/gb/js/abc/pwm_45f73e4df07a0e388b0fa1f3d30e7280.js\"}]);var Fb=[],Gb=function(a){Fb[0]=a},Hb=function(a,b){b=b||{};b._sn=\"pw\";r(a,b)},Ib={signed:Fb,elog:Hb,base:\"https://plusone.google.com/u/0\",loadTime:(new Date).getTime()};v.pw=Ib;var Jb=function(a,b){var c=b.split(\".\");b=function(){var b=arguments;a(function(){for(var a=g,d=0,f=c.length-1;d<f;++d)a=a[c[d]];a[c[d]].apply(a,b)})};for(var d=g,f=0,k=c.length-1;f<\\nk;++f)d=d[c[f]]=d[c[f]]||{};return d[c[f]]=b};Jb(Db,\"pw.clk\");Jb(Db,\"pw.hvr\");p(\"su\",Gb,g.pw)};var Kb=[1,2,3,4,5,6,9,10,11,13,14,28,29,30,34,35,37,38,39,40,41,42,43,48,49,500];var Lb=h.b(\"0.001\",1E-4),Mb=h.b(\"1\",1),Nb=!1,Ob=!1;if(h.a(\"1\")){var Pb=Math.random();Pb<Lb&&(Nb=!0);Pb<Mb&&(Ob=!0)}var R=null;\\nfunction Qb(a,b){var c=Lb,d=Nb;var f=a;if(!R){R={};for(var k=0;k<Kb.length;k++){var l=Kb[k];R[l]=!0}}if(f=!!R[f])c=Mb,d=Ob;if(d){d=encodeURIComponent;if(g.rp){var m=g.rp();m=\"-1\"!=m?m:\"1\"}else m=\"1\";f=(new Date).getTime();k=d(\"28834\");l=d(\"52OBXOH-AtLM8wXJo5z4Cg\");var n=g.bv.f,t=d(\"1\");m=d(m);c=Math.round(1/c);var E=d(\"236550449.0\"),U=\"&oggv=\"+d(\"es_plusone_gc_20190224.0_p0\"),I=d(\"com\"),V=d(\"ko\"),W=\\nd(\"KOR\");var y=0;h.a(\"\")&&(y|=1);h.a(\"\")&&(y|=2);h.a(\"\")&&(y|=4);a=[\"//www.google.com/gen_204?atyp=i&zx=\",f,\"&oge=\",a,\"&ogex=\",k,\"&ogev=\",l,\"&ogf=\",n,\"&ogp=\",t,\"&ogrp=\",m,\"&ogsr=\",c,\"&ogv=\",E,U,\"&ogd=\",I,\"&ogl=\",V,\"&ogc=\",W,\"&ogus=\",y];if(b){\"ogw\"in b&&(a.push(\"&ogw=\"+b.ogw),delete b.ogw);f=[];for(z in b)0!=f.length&&f.push(\",\"),f.push(Rb(z)),f.push(\".\"),f.push(Rb(b[z]));var z=f.join(\"\");\"\"!=z&&(a.push(\"&ogad=\"),a.push(d(z)))}ka(a.join(\"\"))}}\\nfunction Rb(a){\"number\"==typeof a&&(a+=\"\");return\"string\"==typeof a?a.replace(\".\",\"%2E\").replace(\",\",\"%2C\"):a}ha=Qb;p(\"il\",ha,u);var Sb={};v.il=Sb;var Tb=function(a,b,c,d,f,k,l,m,n,t){B(function(){g.paa(a,b,c,d,f,k,l,m,n,t)})},Ub=function(){B(function(){g.prm()})},Vb=function(a){B(function(){g.spn(a)})},Wb=function(a){B(function(){g.sps(a)})},Xb=function(a){B(function(){g.spp(a)})},Yb={\"27\":\"https://ssl.gstatic.com/gb/images/silhouette_24.png\",\"27\":\"https://ssl.gstatic.com/gb/images/silhouette_24.png\",\"27\":\"https://ssl.gstatic.com/gb/images/silhouette_24.png\"},Zb=function(a){return(a=Yb[a])||\"https://ssl.gstatic.com/gb/images/silhouette_24.png\"},\\n$b=function(){B(function(){g.spd()})};p(\"spn\",Vb);p(\"spp\",Xb);p(\"sps\",Wb);p(\"spd\",$b);p(\"paa\",Tb);p(\"prm\",Ub);mb(\"gbd4\",Ub);\\nif(h.a(\"\")){var ac={d:h.a(\"\"),e:\"\",sanw:h.a(\"\"),p:\"https://ssl.gstatic.com/gb/images/silhouette_96.png\",cp:\"1\",xp:h.a(\"1\"),mg:\"%1$s(위임)\",md:\"%1$s(기본값)\",mh:\"220\",s:\"1\",pp:Zb,ppl:h.a(\"\"),ppa:h.a(\"\"),\\nppm:\"Google+ 페이지\"};v.prf=ac};var S,bc,T,cc,X=0,dc=function(a,b,c){if(a.indexOf)return a.indexOf(b,c);if(Array.indexOf)return Array.indexOf(a,b,c);for(c=null==c?0:0>c?Math.max(0,a.length+c):c;c<a.length;c++)if(c in a&&a[c]===b)return c;return-1},Y=function(a,b){return-1==dc(a,X)?(q(Error(X+\"_\"+b),\"up\",\"caa\"),!1):!0},fc=function(a,b){Y([1,2],\"r\")&&(S[a]=S[a]||[],S[a].push(b),2==X&&window.setTimeout(function(){b(ec(a))},0))},gc=function(a,b,c){if(Y([1],\"nap\")&&c){for(var d=0;d<c.length;d++)bc[c[d]]=!0;g.up.spl(a,b,\"nap\",c)}},hc=\\nfunction(a,b,c){if(Y([1],\"aop\")&&c){if(T)for(var d in T)T[d]=T[d]&&-1!=dc(c,d);else for(T={},d=0;d<c.length;d++)T[c[d]]=!0;g.up.spl(a,b,\"aop\",c)}},ic=function(){try{if(X=2,!cc){cc=!0;for(var a in S)for(var b=S[a],c=0;c<b.length;c++)try{b[c](ec(a))}catch(d){q(d,\"up\",\"tp\")}}}catch(d){q(d,\"up\",\"mtp\")}},ec=function(a){if(Y([2],\"ssp\")){var b=!bc[a];T&&(b=b&&!!T[a]);return b}};cc=!1;S={};bc={};T=null;X=1;\\nvar jc=function(a){var b=!1;try{b=a.cookie&&a.cookie.match(\"PREF\")}catch(c){}return!b},kc=function(){try{return!!e.localStorage&&\"object\"==typeof e.localStorage}catch(a){return!1}},lc=function(a){return a&&a.style&&a.style.behavior&&\"undefined\"!=typeof a.load},mc=function(a,b,c,d){try{jc(document)||(d||(b=\"og-up-\"+b),kc()?e.localStorage.setItem(b,c):lc(a)&&(a.setAttribute(b,c),a.save(a.id)))}catch(f){f.code!=DOMException.QUOTA_EXCEEDED_ERR&&q(f,\"up\",\"spd\")}},nc=function(a,b,c){try{if(jc(document))return\"\";\\nc||(b=\"og-up-\"+b);if(kc())return e.localStorage.getItem(b);if(lc(a))return a.load(a.id),a.getAttribute(b)}catch(d){d.code!=DOMException.QUOTA_EXCEEDED_ERR&&q(d,\"up\",\"gpd\")}return\"\"},oc=function(a,b,c){a.addEventListener?a.addEventListener(b,c,!1):a.attachEvent&&a.attachEvent(\"on\"+b,c)},pc=function(a){for(var b=0,c;c=a[b];b++){var d=g.up;c=c in d&&d[c];if(!c)return!1}return!0},qc=function(a,b){try{if(jc(a))return-1;var c=a.cookie.match(/OGPC=([^;]*)/);if(c&&c[1]){var d=c[1].match(new RegExp(\"\\\\\\\\b\"+\\nb+\"-([0-9]+):\"));if(d&&d[1])return parseInt(d[1],10)}}catch(f){f.code!=DOMException.QUOTA_EXCEEDED_ERR&&q(f,\"up\",\"gcc\")}return-1};p(\"up\",{r:fc,nap:gc,aop:hc,tp:ic,ssp:ec,spd:mc,gpd:nc,aeh:oc,aal:pc,gcc:qc});var Z=function(a,b){a[b]=function(c){var d=arguments;g.qm(function(){a[b].apply(this,d)})}};Z(g.up,\"sl\");Z(g.up,\"si\");Z(g.up,\"spl\");Z(g.up,\"dpc\");Z(g.up,\"iic\");g.mcf(\"up\",{sp:h.b(\"0.01\",1),tld:\"co.kr\",prid:\"1\"});function rc(){function a(){for(var b;(b=k[l++])&&\"m\"!=b[0]&&!b[1].auto;);b&&(sa(2,b[0]),b[1].url&&ra(b[1].url,b[0]),b[1].libs&&C&&C(b[1].libs));l<k.length&&setTimeout(a,0)}function b(){0<f--?setTimeout(b,0):a()}var c=h.a(\"1\"),d=h.a(\"\"),f=3,k=w,l=0,m=window.gbarOnReady;if(m)try{m()}catch(n){q(n,\"ml\",\"or\")}d?p(\"ldb\",a):c?ca(window,\"load\",b):b()}p(\"rdl\",rc);}catch(e){window.gbar&&gbar.logger&&gbar.logger.ml(e,{\"_sn\":\"cfg.init\"});}})();\\n(function(){try{var a=window.gbar;a.mcf(\"pm\",{p:\"\"});}catch(e){window.gbar&&gbar.logger&&gbar.logger.ml(e,{\"_sn\":\"cfg.init\"});}})();\\n(function(){try{var a=window.gbar;a.mcf(\"mm\",{s:\"1\"});}catch(e){window.gbar&&gbar.logger&&gbar.logger.ml(e,{\"_sn\":\"cfg.init\"});}})();\\n(function(){try{var d=window.gbar.i.i;var e=window.gbar;var f=e.i;var g=f.c(\"1\",0),h=/\\\\bgbmt\\\\b/,k=function(a){try{var b=document.getElementById(\"gb_\"+g),c=document.getElementById(\"gb_\"+a);b&&f.l(b,h.test(b.className)?\"gbm0l\":\"gbz0l\");c&&f.k(c,h.test(c.className)?\"gbm0l\":\"gbz0l\")}catch(l){d(l,\"sj\",\"ssp\")}g=a},m=e.qs,n=function(a){var b=a.href;var c=window.location.href.match(/.*?:\\\\/\\\\/[^\\\\/]*/)[0];c=new RegExp(\"^\"+c+\"/search\\\\\\\\?\");(b=c.test(b))&&!/(^|\\\\\\\\?|&)ei=/.test(a.href)&&(b=window.google)&&b.kEXPI&&(a.href+=\"&ei=\"+b.kEI)},p=function(a){m(a);\\nn(a)},q=function(){if(window.google&&window.google.sn){var a=/.*hp$/;return a.test(window.google.sn)?\"\":\"1\"}return\"-1\"};e.rp=q;e.slp=k;e.qs=p;e.qsi=n;}catch(e){window.gbar&&gbar.logger&&gbar.logger.ml(e,{\"_sn\":\"cfg.init\"});}})();\\n(function(){try{var a=this;var b=window.gbar;var c=b.i;var d=c.a,e=c.c,f={cty:\"KOR\",cv:\"236550449\",dbg:d(\"\"),ecv:\"0\",ei:e(\"52OBXOH-AtLM8wXJo5z4Cg\"),ele:d(\"1\"),esr:e(\"0.1\"),evts:[\"mousedown\",\"touchstart\",\"touchmove\",\"wheel\",\"keydown\"],gbl:\"es_plusone_gc_20190224.0_p0\",hd:\"com\",hl:\"ko\",irp:d(\"1\"),pid:e(\"1\"),\\nsnid:e(\"28834\"),to:e(\"300000\"),u:e(\"\"),vf:\".66.41.\"},g=f,h=[\"bndcfg\"],k=a;h[0]in k||\"undefined\"==typeof k.execScript||k.execScript(\"var \"+h[0]);for(var l;h.length&&(l=h.shift());)h.length||void 0===g?k=k[l]&&k[l]!==Object.prototype[l]?k[l]:k[l]={}:k[l]=g;}catch(e){window.gbar&&gbar.logger&&gbar.logger.ml(e,{\"_sn\":\"cfg.init\"});}})();\\n(function(){try{window.gbar.rdl();}catch(e){window.gbar&&gbar.logger&&gbar.logger.ml(e,{\"_sn\":\"cfg.init\"});}})();\\n</script><script nonce=\"MqU1ulHIyMmifkRbMHSUMA==\">(function(){google.sham=function(c){for(var d=c.parentElement,a=null,b=0;b<d.childNodes.length;b++){var e=d.childNodes[b];-1<(\" \"+e.className+\" \").indexOf(\" am-dropdown-menu \")&&(a=e)}\"none\"==a.style.display?(a.style.display=\"\",google.log(\"hpam\",\"&ved=\"+c.getAttribute(\"data-ved\"))):a.style.display=\"none\"};}).call(this);(function(){var b=[];google.jsc={xx:b,x:function(a){b.push(a)},mm:[],m:function(a){google.jsc.mm.length||(google.jsc.mm=a)}};}).call(this);</script></head><body class=\"hsrp\" bgcolor=\"#ffffff\" marginheight=\"0\" marginwidth=\"0\" topmargin=\"0\"><div id=gb><script>window.gbar&&gbar.eli&&gbar.eli()</script><div id=gbw><div id=gbz><span class=gbtcb></span><ol id=gbzc class=gbtc><li class=gbt><a onclick=gbar.logger.il(1,{t:1}); class=\"gbzt gbz0l gbp1\" id=gb_1 href=\"https://www.google.co.kr/webhp?tab=ww\"><span class=gbtb2></span><span class=gbts>검색</span></a></li><li class=gbt><a onclick=gbar.logger.il(1,{t:2}); class=gbzt id=gb_2 href=\"https://www.google.co.kr/search?hl=ko&tbm=isch&source=og&tab=wi\"><span class=gbtb2></span><span class=gbts>이미지</span></a></li><li class=gbt><a onclick=gbar.logger.il(1,{t:8}); class=gbzt id=gb_8 href=\"https://maps.google.co.kr/maps?hl=ko&tab=wl\"><span class=gbtb2></span><span class=gbts>지도</span></a></li><li class=gbt><a onclick=gbar.logger.il(1,{t:78}); class=gbzt id=gb_78 href=\"https://play.google.com/?hl=ko&tab=w8\"><span class=gbtb2></span><span class=gbts>Play</span></a></li><li class=gbt><a onclick=gbar.logger.il(1,{t:36}); class=gbzt id=gb_36 href=\"https://www.youtube.com/results?gl=KR&tab=w1\"><span class=gbtb2></span><span class=gbts>YouTube</span></a></li><li class=gbt><a onclick=gbar.logger.il(1,{t:5}); class=gbzt id=gb_5 href=\"https://news.google.co.kr/nwshp?hl=ko&tab=wn\"><span class=gbtb2></span><span class=gbts>뉴스</span></a></li><li class=gbt><a onclick=gbar.logger.il(1,{t:23}); class=gbzt id=gb_23 href=\"https://mail.google.com/mail/?tab=wm\"><span class=gbtb2></span><span class=gbts>Gmail</span></a></li><li class=gbt><a onclick=gbar.logger.il(1,{t:49}); class=gbzt id=gb_49 href=\"https://drive.google.com/?tab=wo\"><span class=gbtb2></span><span class=gbts>드라이브</span></a></li><li class=gbt><a class=gbgt id=gbztm href=\"https://www.google.co.kr/intl/ko/about/products?tab=wh\" onclick=\"gbar.tg(event,this)\" aria-haspopup=true aria-owns=gbd><span class=gbtb2></span><span id=gbztms class=\"gbts gbtsa\"><span id=gbztms1>더보기</span><span class=gbma></span></span></a><div class=gbm id=gbd aria-owner=gbztm><div id=gbmmb class=\"gbmc gbsb gbsbis\"><ol id=gbmm class=\"gbmcc gbsbic\"><li class=gbmtc><a onclick=gbar.logger.il(1,{t:24}); class=gbmt id=gb_24 href=\"https://www.google.com/calendar?tab=wc\">캘린더</a></li><li class=gbmtc><a onclick=gbar.logger.il(1,{t:51}); class=gbmt id=gb_51 href=\"https://translate.google.co.kr/?hl=ko&tab=wT\">번역</a></li><li class=gbmtc><a onclick=gbar.logger.il(1,{t:10}); class=gbmt id=gb_10 href=\"https://www.google.co.kr/search?hl=ko&tbo=u&tbm=bks&source=og&tab=wp\">도서</a></li><li class=gbmtc><a onclick=gbar.logger.il(1,{t:6}); class=gbmt id=gb_6 href=\"https://www.google.co.kr/shopping?hl=ko&source=og&tab=wf\">쇼핑</a></li><li class=gbmtc><a onclick=gbar.logger.il(1,{t:30}); class=gbmt id=gb_30 href=\"https://www.blogger.com/?tab=wj\">Blogger</a></li><li class=gbmtc><a onclick=gbar.logger.il(1,{t:31}); class=gbmt id=gb_31 href=\"https://photos.google.com/?tab=wq&pageId=none\">사진</a></li><li class=gbmtc><a onclick=gbar.logger.il(1,{t:12}); class=gbmt id=gb_12 href=\"https://www.google.co.kr/search?hl=ko&tbo=u&tbm=vid&source=og&tab=wv\">동영상</a></li><li class=gbmtc><a onclick=gbar.logger.il(1,{t:25}); class=gbmt id=gb_25 href=\"https://docs.google.com/document/?usp=docs_alc\">문서</a></li><li class=gbmtc><div class=\"gbmt gbmh\"></div></li><li class=gbmtc><a onclick=gbar.logger.il(1,{t:66}); href=\"https://www.google.co.kr/intl/ko/about/products?tab=wh\" class=gbmt>모두 보기</a></li></ol><div class=gbsbt></div><div class=gbsbb></div></div></div></li></ol></div><div id=gbg><h2 class=gbxx>Account Options</h2><span class=gbtcb></span><ol class=gbtc><li class=gbt><a target=_top href=\"https://accounts.google.com/ServiceLogin?hl=ko&passive=true&continue=https://www.google.com/search%3Fq%3D%25ED%258C%258C%25EC%259D%25B4%25EC%258D%25AC\" onclick=\"gbar.logger.il(9,{l:\\'i\\'})\" id=gb_70 class=gbgt><span class=gbtb2></span><span id=gbgs4 class=gbts><span id=gbi4s1>로그인</span></span></a></li><li class=\"gbt gbtb\"><span class=gbts></span></li><li class=gbt><a class=gbgt id=gbg5 href=\"http://www.google.co.kr/preferences?hl=ko\" title=\"옵션\" onclick=\"gbar.tg(event,this)\" aria-haspopup=true aria-owns=gbd5><span class=gbtb2></span><span id=gbgs5 class=gbts><span id=gbi5></span></span></a><div class=gbm id=gbd5 aria-owner=gbg5><div class=gbmc><ol id=gbom class=gbmcc><li class=\"gbkc gbmtc\"><a  class=gbmt href=\"/preferences?hl=ko\">검색 환경설정</a></li><li class=gbmtc><div class=\"gbmt gbmh\"></div></li><li class=\"gbkp gbmtc\"><a class=gbmt href=\"http://www.google.co.kr/history/optout?hl=ko\">웹 기록</a></li></ol></div></div></li></ol></div></div><div id=gbx3></div><div id=gbx4></div><script>window.gbar&&gbar.elp&&gbar.elp()</script></div><table id=\"mn\" border=\"0\" cellpadding=\"0\" cellspacing=\"0\" style=\"position:relative\"><tr><th width=\"132\"></th><th width=\"573\"></th><th width=\"278\"></th><th></th></tr><tr><td class=\"sfbgg\" valign=\"top\"><div id=\"logocont\"><h1><a href=\"/webhp?hl=ko\" style=\"background-image:url(/images/nav_logo229.png);background-repeat:no-repeat;height:37px;width:95px;display:block;background-position:0 -41px\" id=\"logo\" title=\"Go to Google Home\"></a></h1></div></td><td class=\"sfbgg\" colspan=\"2\" valign=\"top\" style=\"padding-left:0px\"><form style=\"display:block;margin:0;background:none\" action=\"/search\" id=\"tsf\" method=\"GET\" name=\"gs\"><table border=\"0\" cellpadding=\"0\" cellspacing=\"0\" style=\"margin-top:20px;position:relative\"><tr><td><div class=\"lst-a\"><table cellpadding=\"0\" cellspacing=\"0\"><tr><td class=\"lst-td tia\" width=\"526\" valign=\"bottom\"><div style=\"position:relative;zoom:1\"><input class=\"lst\" value=\"파이썬\" title=\"검색\" autocomplete=\"off\" id=\"sbhost\" maxlength=\"2048\" name=\"q\" type=\"text\"></div></td><td class=\"lst-td\"><div class=\"lst-b\"><img style=\"padding-top:2px\" data-script-url=\"/textinputassistant/11/ko_tia.js\" src=\"/textinputassistant/tia.png\" alt=\"\" height=\"23\" onclick=\"var s=document.createElement(\\'script\\');s.src=this.getAttribute(\\'data-script-url\\');(document.getElementById(\\'xjsc\\')||document.body).appendChild(s);\" width=\"27\"></div></td></tr></table></div></td><td><div class=\"ds\" style=\"margin-left:16px\"><div class=\"lsbb\"><button class=\"lsb\" value=\"검색\" name=\"btnG\" type=\"submit\"><span class=\"sbico\" style=\"background-image:url(/images/nav_logo229.png);background-repeat:no-repeat;height:14px;width:13px;display:block;background-position:-36px -111px\"></span></button></div></div></td></tr></table></form></td><td class=\"sfbgg\">&nbsp;</td></tr><tr style=\"position:relative\"><td><div style=\"border-bottom:1px solid #ebebeb;height:59px\"></div></td><td colspan=\"2\"><div class=\"tn\"><div class=\"qrSWbe tnuiC sFTC8c pqkqJe\">전체</div><div class=\"sFTC8c\"><a class=\"qrSWbe KDZjCd\" href=\"/search?q=%ED%8C%8C%EC%9D%B4%EC%8D%AC&amp;prmd=ivnsb&amp;source=lnms&amp;tbm=isch&amp;sa=X&amp;ved=0ahUKEwjKxo-11fDgAhUB57wKHcWYBrgQ_AUIBQ\">이미지</a></div><div class=\"sFTC8c\"><a class=\"qrSWbe KDZjCd\" href=\"/search?q=%ED%8C%8C%EC%9D%B4%EC%8D%AC&amp;prmd=ivnsb&amp;source=lnms&amp;tbm=vid&amp;sa=X&amp;ved=0ahUKEwjKxo-11fDgAhUB57wKHcWYBrgQ_AUIBg\">동영상</a></div><div class=\"sFTC8c\"><a class=\"qrSWbe KDZjCd\" href=\"/search?q=%ED%8C%8C%EC%9D%B4%EC%8D%AC&amp;prmd=ivnsb&amp;source=lnms&amp;tbm=nws&amp;sa=X&amp;ved=0ahUKEwjKxo-11fDgAhUB57wKHcWYBrgQ_AUIBw\">뉴스</a></div><div class=\"sFTC8c\"><a class=\"qrSWbe KDZjCd\" href=\"/search?q=%ED%8C%8C%EC%9D%B4%EC%8D%AC&amp;prmd=ivnsb&amp;source=lnms&amp;tbm=shop&amp;sa=X&amp;ved=0ahUKEwjKxo-11fDgAhUB57wKHcWYBrgQ_AUICA\">쇼핑</a></div><div class=\"sFTC8c\"><a class=\"qrSWbe KDZjCd\" href=\"/search?q=%ED%8C%8C%EC%9D%B4%EC%8D%AC&amp;prmd=ivnsb&amp;source=lnms&amp;tbm=bks&amp;sa=X&amp;ved=0ahUKEwjKxo-11fDgAhUB57wKHcWYBrgQ_AUICQ\">도서</a></div><div class=\"sFTC8c\"><a class=\"qrSWbe KDZjCd\" href=\"https://maps.google.com/maps?q=%ED%8C%8C%EC%9D%B4%EC%8D%AC&amp;um=1&amp;ie=UTF-8&amp;sa=X&amp;ved=0ahUKEwjKxo-11fDgAhUB57wKHcWYBrgQ_AUICg\">지도</a></div></div><div style=\"border-bottom:1px solid #ebebeb;height:59px\"></div></td><td><div style=\"border-bottom:1px solid #ebebeb;height:59px\"></div></td></tr><tbody id=\"desktop-search\"><style>.pCA4Bd,.pCA4Bd a:link,.pCA4Bd a:visited,a.pCA4Bd:link,a.pCA4Bd:visited{color:#808080}.AzrInc{color:#61C}.ellip{overflow:hidden;text-overflow:ellipsis;white-space:nowrap}.VBt9Dc{border:1px solid #e0e0e0;font-size:13px;margin-right:-2px;}.V7Q8V{margin:4px 10px}.AwJT2c{background:white;border-bottom:0;border-left:0;border-right:0;border-top:1px solid #e0e0e0;cursor:pointer;height:40px;outline:0;width:100%}.dxrUgb{color:#777;font-size:11px}.dxrUgb a{color:#777;text-decoration:none}.xpdclpsbtn{}.xpdxpndbtn{}.xpdclpsbtn .KMK5T{background:url(/images/nav_logo229.png) no-repeat -50px -79px;height:22px;width:64px}.xpdxpndbtn .KMK5T{background:url(/images/nav_logo229.png) no-repeat -50px -102px;height:22px;width:64px}.mraOPb{color:#222;font-size:15px;line-height:normal;margin:12px 0}.dXAUyb{margin:4px 0}.R8KuR{margin:10px;overflow:hidden;position:relative;white-space:nowrap;}.M1e9Oe{display:-moz-inline-stack;display:inline-block;position:relative;width:100%;z-index:0;}.OSMzvb{display:-moz-inline-stack;display:inline-block;max-width:100%;overflow:hidden;}.JKXCdf{position:absolute;right:0;z-index:1;}.FSP1Dd{border-top:1px solid #e0e0e0;color:#000;font-size:22px;margin-top:-5px;padding-top:10px}.CB9G1b{color:#000;font-size:14px}.F7uZG{color:#777;margin:4px 0;overflow:hidden}.Rlw09{margin-bottom:20px}.cC4Myd{color:#212121}.A1t5ne{color:#777}.cC4Myd{font-weight:bold}.xKoZHf{margin-left:10px}.B27ELd.ty7XEe{margin-right:10px}.x32fhf{color:#222;font-size:18px;margin:20px 0 8px 0}.lHETUb{color:#222;font-size:18px;margin:20px 10px 8px 10px}.B27ELd{display:-moz-inline-stack;display:inline-block;margin-bottom:10px;margin-right:21px;text-align:left;vertical-align:top;}.tQOFN{overflow:hidden}.czonVc{color:#777;overflow:hidden;text-overflow:ellipsis;white-space:normal;word-wrap:break-word}.brYqc{margin:6px 0 0 8px;overflow:hidden;text-overflow:ellipsis;white-space:normal;word-wrap:break-word}</style><tr><td id=\"leftnav\" valign=\"top\"><div><h2 class=\"hd\">Search Options</h2><ul class=\"med\" id=\"tbd\"><li><ul class=\"tbt\"><li class=\"tbos\" id=\"lr_\">모든 언어</li><li class=\"tbou\" id=\"lr_lang_1ko\"><a class=\"q\" href=\"/search?q=%ED%8C%8C%EC%9D%B4%EC%8D%AC&amp;prmd=ivnsb&amp;source=lnt&amp;tbs=lr:lang_1ko&amp;lr=lang_ko&amp;sa=X&amp;ved=0ahUKEwjKxo-11fDgAhUB57wKHcWYBrgQpwUIDw\">한국어 웹</a></li></ul></li><li><ul class=\"tbt\"><li class=\"tbos\" id=\"qdr_\">모든 날짜</li><li class=\"tbou\" id=\"qdr_h\"><a class=\"q\" href=\"/search?q=%ED%8C%8C%EC%9D%B4%EC%8D%AC&amp;prmd=ivnsb&amp;source=lnt&amp;tbs=qdr:h&amp;sa=X&amp;ved=0ahUKEwjKxo-11fDgAhUB57wKHcWYBrgQpwUIDw\"> 지난 1시간</a></li><li class=\"tbou\" id=\"qdr_d\"><a class=\"q\" href=\"/search?q=%ED%8C%8C%EC%9D%B4%EC%8D%AC&amp;prmd=ivnsb&amp;source=lnt&amp;tbs=qdr:d&amp;sa=X&amp;ved=0ahUKEwjKxo-11fDgAhUB57wKHcWYBrgQpwUIDw\"> 지난 1일</a></li><li class=\"tbou\" id=\"qdr_w\"><a class=\"q\" href=\"/search?q=%ED%8C%8C%EC%9D%B4%EC%8D%AC&amp;prmd=ivnsb&amp;source=lnt&amp;tbs=qdr:w&amp;sa=X&amp;ved=0ahUKEwjKxo-11fDgAhUB57wKHcWYBrgQpwUIDw\"> 지난 1주</a></li><li class=\"tbou\" id=\"qdr_m\"><a class=\"q\" href=\"/search?q=%ED%8C%8C%EC%9D%B4%EC%8D%AC&amp;prmd=ivnsb&amp;source=lnt&amp;tbs=qdr:m&amp;sa=X&amp;ved=0ahUKEwjKxo-11fDgAhUB57wKHcWYBrgQpwUIDw\"> 지난 1개월</a></li><li class=\"tbou\" id=\"qdr_y\"><a class=\"q\" href=\"/search?q=%ED%8C%8C%EC%9D%B4%EC%8D%AC&amp;prmd=ivnsb&amp;source=lnt&amp;tbs=qdr:y&amp;sa=X&amp;ved=0ahUKEwjKxo-11fDgAhUB57wKHcWYBrgQpwUIDw\"> 지난 1년</a></li></ul></li><li><ul class=\"tbt\"><li class=\"tbos\" id=\"li_\">모든 결과</li><li class=\"tbou\" id=\"li_1\"><a class=\"q\" href=\"/search?q=%ED%8C%8C%EC%9D%B4%EC%8D%AC&amp;prmd=ivnsb&amp;source=lnt&amp;tbs=li:1&amp;sa=X&amp;ved=0ahUKEwjKxo-11fDgAhUB57wKHcWYBrgQpwUIDw\">완전일치</a></li></ul></li></ul></div></td><td valign=\"top\"><div id=\"center_col\"><div class=\"sd\" id=\"resultStats\">검색결과 약 1,540,000개</div><div id=\"res\"><div id=\"topstuff\"></div><div id=\"search\"><div id=\"ires\"><ol><div class=\"g\"><h3 class=\"r\"><a href=\"/url?q=https://www.python.org/&amp;sa=U&amp;ved=0ahUKEwjKxo-11fDgAhUB57wKHcWYBrgQFggUMAA&amp;usg=AOvVaw1p0zfS5FtbXXN7TceSSS0o\">Welcome to <b>Python</b>.org</a></h3><div class=\"s\"><div class=\"hJND5c\" style=\"margin-bottom:2px\"><cite>https://www.<b>python</b>.org/</cite><div class=\"Pj9hGd\">\\u200e<div style=\"display:inline\" onclick=\"google.sham(this);\" aria-expanded=\"false\" aria-haspopup=\"true\" tabindex=\"0\" data-ved=\"0ahUKEwjKxo-11fDgAhUB57wKHcWYBrgQ7B0IFTAA\"><span class=\"CiacGf\"></span></div><div style=\"display:none\" class=\"am-dropdown-menu\" role=\"menu\" tabindex=\"-1\"><ul><li class=\"mUpfKd\"><a class=\"imx0m\" href=\"/url?q=http://webcache.googleusercontent.com/search%3Fq%3Dcache:Fvb7Gz_c4rwJ:https://www.python.org/%252B%25ED%258C%258C%25EC%259D%25B4%25EC%258D%25AC%26hl%3Dko%26ct%3Dclnk&amp;sa=U&amp;ved=0ahUKEwjKxo-11fDgAhUB57wKHcWYBrgQIAgXMAA&amp;usg=AOvVaw0utnlQd06xGd9cjiSzv9IT\">저장된 페이지</a></li><li class=\"mUpfKd\"><a class=\"imx0m\" href=\"/search?q=related:https://www.python.org/+%ED%8C%8C%EC%9D%B4%EC%8D%AC&amp;tbo=1&amp;sa=X&amp;ved=0ahUKEwjKxo-11fDgAhUB57wKHcWYBrgQHwgYMAA\">유사한 페이지</a></li></ul></div></div></div><span class=\"st\">The official home of the <b>Python</b> Programming Language.</span><br><div class=\"osl\">\\u200e<a href=\"/url?q=https://www.python.org/downloads/release/python-372/&amp;sa=U&amp;ved=0ahUKEwjKxo-11fDgAhUB57wKHcWYBrgQ0gIIGigAMAA&amp;usg=AOvVaw3HHqLPE4dYh_-AjwPInNaf\">Download Python 3.7.2</a> - \\u200e<a href=\"/url?q=https://www.python.org/downloads/&amp;sa=U&amp;ved=0ahUKEwjKxo-11fDgAhUB57wKHcWYBrgQ0gIIGygBMAA&amp;usg=AOvVaw0-Q3_cq7ZQQ_vZqqcS7UPE\">Downloads</a> - \\u200e<a href=\"/url?q=https://www.python.org/doc/&amp;sa=U&amp;ved=0ahUKEwjKxo-11fDgAhUB57wKHcWYBrgQ0gIIHCgCMAA&amp;usg=AOvVaw13msARGGUXr7LpcPtby4JG\">Documentation</a> - \\u200e<a href=\"/url?q=https://www.python.org/downloads/windows/&amp;sa=U&amp;ved=0ahUKEwjKxo-11fDgAhUB57wKHcWYBrgQ0gIIHSgDMAA&amp;usg=AOvVaw3iofyvJyT5yBU2l_m5IYaW\">Windows</a></div></div></div><div class=\"g\"><h3 class=\"r\"><a href=\"/url?q=https://docs.python.org/ko/3/tutorial/index.html&amp;sa=U&amp;ved=0ahUKEwjKxo-11fDgAhUB57wKHcWYBrgQFggfMAE&amp;usg=AOvVaw0sgNYx0LxD5RnRRJIdYKr0\"><b>파이썬</b> 자습서 — <b>Python</b> 3.7.2 documentation</a></h3><div class=\"s\"><div class=\"hJND5c\" style=\"margin-bottom:2px\"><cite>https://docs.<b>python</b>.org/ko/3/tutorial/index.html</cite><div class=\"Pj9hGd\">\\u200e<div style=\"display:inline\" onclick=\"google.sham(this);\" aria-expanded=\"false\" aria-haspopup=\"true\" tabindex=\"0\" data-ved=\"0ahUKEwjKxo-11fDgAhUB57wKHcWYBrgQ7B0IIDAB\"><span class=\"CiacGf\"></span></div><div style=\"display:none\" class=\"am-dropdown-menu\" role=\"menu\" tabindex=\"-1\"><ul><li class=\"mUpfKd\"><a class=\"imx0m\" href=\"/url?q=http://webcache.googleusercontent.com/search%3Fq%3Dcache:Rib_O5KvImcJ:https://docs.python.org/ko/3/tutorial/index.html%252B%25ED%258C%258C%25EC%259D%25B4%25EC%258D%25AC%26hl%3Dko%26ct%3Dclnk&amp;sa=U&amp;ved=0ahUKEwjKxo-11fDgAhUB57wKHcWYBrgQIAgiMAE&amp;usg=AOvVaw31zx2oqnzwToSscGYB1w7W\">저장된 페이지</a></li></ul></div></div></div><span class=\"st\"><b>파이썬</b>은 배우기 쉽고, 강력한 프로그래밍 언어입니다. 효율적인 자료 구조들과 <br>\\n객체 지향 프로그래밍에 대해 간단하고도 효과적인 접근법을 제공합니다. 우아한 <br>\\n문법&nbsp;...</span><br></div></div><div class=\"g\"><h3 class=\"r\"><a href=\"/url?q=https://namu.wiki/w/Python&amp;sa=U&amp;ved=0ahUKEwjKxo-11fDgAhUB57wKHcWYBrgQFggkMAI&amp;usg=AOvVaw0nG9_rJxNno38016T8TOpP\"><b>Python</b> - 나무위키</a></h3><div class=\"s\"><div class=\"hJND5c\" style=\"margin-bottom:2px\"><cite>https://namu.wiki/w/<b>Python</b></cite><div class=\"Pj9hGd\">\\u200e<div style=\"display:inline\" onclick=\"google.sham(this);\" aria-expanded=\"false\" aria-haspopup=\"true\" tabindex=\"0\" data-ved=\"0ahUKEwjKxo-11fDgAhUB57wKHcWYBrgQ7B0IJTAC\"><span class=\"CiacGf\"></span></div><div style=\"display:none\" class=\"am-dropdown-menu\" role=\"menu\" tabindex=\"-1\"><ul><li class=\"mUpfKd\"><a class=\"imx0m\" href=\"/search?q=related:https://namu.wiki/w/Python+%ED%8C%8C%EC%9D%B4%EC%8D%AC&amp;tbo=1&amp;sa=X&amp;ved=0ahUKEwjKxo-11fDgAhUB57wKHcWYBrgQHwgnMAI\">유사한 페이지</a></li></ul></div></div></div><span class=\"st\">6일 전 <b>...</b> Stackless <b>Python</b>4.2. C 언어 확장, Cython4.3. C++ 구현, Pyston (프로젝트 중단)<br>\\n4.4. <b>Python</b> 구현, PyPy4.5. Java 확장, Pyjnius4.6. Java 구현&nbsp;...</span><br><div class=\"osl\">\\u200e<a href=\"/url?q=https://namu.wiki/w/%25ED%258C%258C%25EC%259D%25B4%25EC%2584%25A0&amp;sa=U&amp;ved=0ahUKEwjKxo-11fDgAhUB57wKHcWYBrgQ0gIIKigAMAI&amp;usg=AOvVaw3n7XY1TpWswCMxeD8yAs-r\">파이선</a> - \\u200e<a href=\"/url?q=https://namu.wiki/w/PyPy&amp;sa=U&amp;ved=0ahUKEwjKxo-11fDgAhUB57wKHcWYBrgQ0gIIKygBMAI&amp;usg=AOvVaw29IO8K2_RBA9qtuqfXMo99\">PyPy</a> - \\u200e<a href=\"/url?q=https://namu.wiki/w/%25EB%25A6%25AC%25EB%2588%2585%25EC%258A%25A4&amp;sa=U&amp;ved=0ahUKEwjKxo-11fDgAhUB57wKHcWYBrgQ0gIILCgCMAI&amp;usg=AOvVaw0EnP7pBetOOpR9erOYQdVS\">리눅스</a> - \\u200e<a href=\"/url?q=https://namu.wiki/w/%25EA%25B5%25AD%25EB%25B6%2580%25EB%25A1%25A0&amp;sa=U&amp;ved=0ahUKEwjKxo-11fDgAhUB57wKHcWYBrgQ0gIILSgDMAI&amp;usg=AOvVaw24UzD_QKnNmb5GeIpdhzsh\">국부론</a></div></div></div><div class=\"g\"><h3 class=\"r\"><a href=\"/url?q=https://ko.wikipedia.org/wiki/%25ED%258C%258C%25EC%259D%25B4%25EC%258D%25AC&amp;sa=U&amp;ved=0ahUKEwjKxo-11fDgAhUB57wKHcWYBrgQFggvMAM&amp;usg=AOvVaw2f0kRT9g3ISARcac0MXOVR\"><b>파이썬</b> - 위키백과, 우리 모두의 백과사전</a></h3><div class=\"s\"><div class=\"hJND5c\" style=\"margin-bottom:2px\"><cite>https://ko.wikipedia.org/wiki/<b>파이썬</b></cite><div class=\"Pj9hGd\">\\u200e<div style=\"display:inline\" onclick=\"google.sham(this);\" aria-expanded=\"false\" aria-haspopup=\"true\" tabindex=\"0\" data-ved=\"0ahUKEwjKxo-11fDgAhUB57wKHcWYBrgQ7B0IMDAD\"><span class=\"CiacGf\"></span></div><div style=\"display:none\" class=\"am-dropdown-menu\" role=\"menu\" tabindex=\"-1\"><ul><li class=\"mUpfKd\"><a class=\"imx0m\" href=\"/url?q=http://webcache.googleusercontent.com/search%3Fq%3Dcache:OL25IRr7kSMJ:https://ko.wikipedia.org/wiki/%2525ED%25258C%25258C%2525EC%25259D%2525B4%2525EC%25258D%2525AC%252B%25ED%258C%258C%25EC%259D%25B4%25EC%258D%25AC%26hl%3Dko%26ct%3Dclnk&amp;sa=U&amp;ved=0ahUKEwjKxo-11fDgAhUB57wKHcWYBrgQIAgyMAM&amp;usg=AOvVaw2NSSzDJGmO3q5MH1HVUh2a\">저장된 페이지</a></li><li class=\"mUpfKd\"><a class=\"imx0m\" href=\"/search?q=related:https://ko.wikipedia.org/wiki/%25ED%258C%258C%25EC%259D%25B4%25EC%258D%25AC+%ED%8C%8C%EC%9D%B4%EC%8D%AC&amp;tbo=1&amp;sa=X&amp;ved=0ahUKEwjKxo-11fDgAhUB57wKHcWYBrgQHwgzMAM\">유사한 페이지</a></li></ul></div></div></div><span class=\"st\"><b>파이썬</b>(영어: <b>Python</b>)은 1991년 프로그래머인 귀도 반 로섬(Guido van Rossum)이 <br>\\n발표한 고급 프로그래밍 언어로, 플랫폼 독립적이며 인터프리터식, 객체지향적,&nbsp;...</span><br><div class=\"osl\">\\u200e<a href=\"/url?q=https://ko.wikipedia.org/wiki/%25ED%258C%258C%25EC%259D%25B4%25EC%258D%25AC%23%25EA%25B0%259C%25EC%259A%2594&amp;sa=U&amp;ved=0ahUKEwjKxo-11fDgAhUB57wKHcWYBrgQ0gIINSgAMAM&amp;usg=AOvVaw0FFHkTv7yo6bKmZjF7Rtjz\">개요</a> - \\u200e<a href=\"/url?q=https://ko.wikipedia.org/wiki/%25ED%258C%258C%25EC%259D%25B4%25EC%258D%25AC%23%25EA%25B8%25B0%25EB%258A%25A5%25EA%25B3%25BC_%25EC%25B2%25A0%25ED%2595%2599&amp;sa=U&amp;ved=0ahUKEwjKxo-11fDgAhUB57wKHcWYBrgQ0gIINigBMAM&amp;usg=AOvVaw1I_oIVq6BemdbH4_I-P7y-\">기능과 철학</a> - \\u200e<a href=\"/url?q=https://ko.wikipedia.org/wiki/%25ED%258C%258C%25EC%259D%25B4%25EC%258D%25AC%23%25EB%25AC%25B8%25EB%25B2%2595&amp;sa=U&amp;ved=0ahUKEwjKxo-11fDgAhUB57wKHcWYBrgQ0gIINygCMAM&amp;usg=AOvVaw0GdSenxeN3M2FPHC1UaG-_\">문법</a> - \\u200e<a href=\"/url?q=https://ko.wikipedia.org/wiki/%25ED%258C%258C%25EC%259D%25B4%25EC%258D%25AC%23%25EC%259E%2590%25EB%25A3%258C%25ED%2598%2595&amp;sa=U&amp;ved=0ahUKEwjKxo-11fDgAhUB57wKHcWYBrgQ0gIIOCgDMAM&amp;usg=AOvVaw2WbWuMW8_i9Uu4Cd0yiL1R\">자료형</a></div></div></div><div class=\"g\"><h3 class=\"r\"><a href=\"/url?q=https://programmers.co.kr/learn/courses/2&amp;sa=U&amp;ved=0ahUKEwjKxo-11fDgAhUB57wKHcWYBrgQFgg6MAQ&amp;usg=AOvVaw3CUEK29hvhOfs97OS_qX4J\"><b>파이썬</b> 입문 | 프로그래머스</a></h3><div class=\"s\"><div class=\"hJND5c\" style=\"margin-bottom:2px\"><cite>https://programmers.co.kr/learn/courses/2</cite><div class=\"Pj9hGd\">\\u200e<div style=\"display:inline\" onclick=\"google.sham(this);\" aria-expanded=\"false\" aria-haspopup=\"true\" tabindex=\"0\" data-ved=\"0ahUKEwjKxo-11fDgAhUB57wKHcWYBrgQ7B0IOzAE\"><span class=\"CiacGf\"></span></div><div style=\"display:none\" class=\"am-dropdown-menu\" role=\"menu\" tabindex=\"-1\"><ul><li class=\"mUpfKd\"><a class=\"imx0m\" href=\"/url?q=http://webcache.googleusercontent.com/search%3Fq%3Dcache:aio5TDg8-NcJ:https://programmers.co.kr/learn/courses/2%252B%25ED%258C%258C%25EC%259D%25B4%25EC%258D%25AC%26hl%3Dko%26ct%3Dclnk&amp;sa=U&amp;ved=0ahUKEwjKxo-11fDgAhUB57wKHcWYBrgQIAg9MAQ&amp;usg=AOvVaw1txmEAQVFaza6OuAUuzwgS\">저장된 페이지</a></li></ul></div></div></div><span class=\"st\">하루 15분, 누구나 프로그래밍을 할 수 있다! 쉽지만 강력한 능력을 가진 <b>파이썬</b>으로 <br>\\n프로그래밍을 시작하세요.<b>Python</b> 교재 출시: https://goo.gl/tFTFY6&nbsp;...</span><br></div></div><div class=\"g\"><h3 class=\"r\"><a href=\"/url?q=https://wikidocs.net/43&amp;sa=U&amp;ved=0ahUKEwjKxo-11fDgAhUB57wKHcWYBrgQFgg_MAU&amp;usg=AOvVaw31NKcTqg3yKbcHu-ubDGTW\">1. <b>파이썬</b> 시작하기 - 왕초보를 위한 <b>Python</b> 2.7 - WikiDocs</a></h3><div class=\"s\"><div class=\"hJND5c\" style=\"margin-bottom:2px\"><cite>https://wikidocs.net/43</cite><div class=\"Pj9hGd\">\\u200e<div style=\"display:inline\" onclick=\"google.sham(this);\" aria-expanded=\"false\" aria-haspopup=\"true\" tabindex=\"0\" data-ved=\"0ahUKEwjKxo-11fDgAhUB57wKHcWYBrgQ7B0IQDAF\"><span class=\"CiacGf\"></span></div><div style=\"display:none\" class=\"am-dropdown-menu\" role=\"menu\" tabindex=\"-1\"><ul><li class=\"mUpfKd\"><a class=\"imx0m\" href=\"/url?q=http://webcache.googleusercontent.com/search%3Fq%3Dcache:iAvUjph6SDAJ:https://wikidocs.net/43%252B%25ED%258C%258C%25EC%259D%25B4%25EC%258D%25AC%26hl%3Dko%26ct%3Dclnk&amp;sa=U&amp;ved=0ahUKEwjKxo-11fDgAhUB57wKHcWYBrgQIAhCMAU&amp;usg=AOvVaw2y9fzHwUh6XkuDcjoq5PAX\">저장된 페이지</a></li><li class=\"mUpfKd\"><a class=\"imx0m\" href=\"/search?q=related:https://wikidocs.net/43+%ED%8C%8C%EC%9D%B4%EC%8D%AC&amp;tbo=1&amp;sa=X&amp;ved=0ahUKEwjKxo-11fDgAhUB57wKHcWYBrgQHwhDMAU\">유사한 페이지</a></li></ul></div></div></div><span class=\"st\">그래서 여러분과 함께 배우기 쉬운 <b>파이썬</b>이라는 언어를 함께 공부해보려고 합니다. <br>\\n... 이 강좌는 프로그래밍을 처음 하는 분들을 위해서 <b>파이썬</b>을 통해 프로그래밍의&nbsp;...</span><br></div></div><div class=\"g\"><h3 class=\"r\"><a href=\"/url?q=https://wikidocs.net/9&amp;sa=U&amp;ved=0ahUKEwjKxo-11fDgAhUB57wKHcWYBrgQFghFMAY&amp;usg=AOvVaw12CZCHKd4jD0BHoNCn_GHL\">01-5 <b>파이썬</b> 둘러보기 - 점프 투 <b>파이썬</b> - WikiDocs</a></h3><div class=\"s\"><div class=\"hJND5c\" style=\"margin-bottom:2px\"><cite>https://wikidocs.net/9</cite><div class=\"Pj9hGd\">\\u200e<div style=\"display:inline\" onclick=\"google.sham(this);\" aria-expanded=\"false\" aria-haspopup=\"true\" tabindex=\"0\" data-ved=\"0ahUKEwjKxo-11fDgAhUB57wKHcWYBrgQ7B0IRjAG\"><span class=\"CiacGf\"></span></div><div style=\"display:none\" class=\"am-dropdown-menu\" role=\"menu\" tabindex=\"-1\"><ul><li class=\"mUpfKd\"><a class=\"imx0m\" href=\"/url?q=http://webcache.googleusercontent.com/search%3Fq%3Dcache:zi4nkdgJ1wwJ:https://wikidocs.net/9%252B%25ED%258C%258C%25EC%259D%25B4%25EC%258D%25AC%26hl%3Dko%26ct%3Dclnk&amp;sa=U&amp;ved=0ahUKEwjKxo-11fDgAhUB57wKHcWYBrgQIAhIMAY&amp;usg=AOvVaw2wPBrKc_cflxxGcexJUn8d\">저장된 페이지</a></li><li class=\"mUpfKd\"><a class=\"imx0m\" href=\"/search?q=related:https://wikidocs.net/9+%ED%8C%8C%EC%9D%B4%EC%8D%AC&amp;tbo=1&amp;sa=X&amp;ved=0ahUKEwjKxo-11fDgAhUB57wKHcWYBrgQHwhJMAY\">유사한 페이지</a></li></ul></div></div></div><span class=\"st\">도대체 <b>파이썬</b>이라는 언어는 어떻게 생겼는지, 간단한 코드를 작성하며 알아보자. <br>\\n<b>파이썬</b>을 자세히 탐구하기 전에 전체적인 모습을 죽 훑어보는 것은 매우 유익한 일&nbsp;...</span><br></div></div><div class=\"g\"><h3 class=\"r\"><a href=\"/url?q=https://wikidocs.net/6&amp;sa=U&amp;ved=0ahUKEwjKxo-11fDgAhUB57wKHcWYBrgQFghLMAc&amp;usg=AOvVaw0WVAo5enjXE7707qDab_hk\">01-2 <b>파이썬</b>의 특징 - 점프 투 <b>파이썬</b> - WikiDocs</a></h3><div class=\"s\"><div class=\"hJND5c\" style=\"margin-bottom:2px\"><cite>https://wikidocs.net/6</cite><div class=\"Pj9hGd\">\\u200e<div style=\"display:inline\" onclick=\"google.sham(this);\" aria-expanded=\"false\" aria-haspopup=\"true\" tabindex=\"0\" data-ved=\"0ahUKEwjKxo-11fDgAhUB57wKHcWYBrgQ7B0ITDAH\"><span class=\"CiacGf\"></span></div><div style=\"display:none\" class=\"am-dropdown-menu\" role=\"menu\" tabindex=\"-1\"><ul><li class=\"mUpfKd\"><a class=\"imx0m\" href=\"/url?q=http://webcache.googleusercontent.com/search%3Fq%3Dcache:LmCkGjF_ShkJ:https://wikidocs.net/6%252B%25ED%258C%258C%25EC%259D%25B4%25EC%258D%25AC%26hl%3Dko%26ct%3Dclnk&amp;sa=U&amp;ved=0ahUKEwjKxo-11fDgAhUB57wKHcWYBrgQIAhOMAc&amp;usg=AOvVaw1PNe0EBtI_Bhkskh7vLv-3\">저장된 페이지</a></li><li class=\"mUpfKd\"><a class=\"imx0m\" href=\"/search?q=related:https://wikidocs.net/6+%ED%8C%8C%EC%9D%B4%EC%8D%AC&amp;tbo=1&amp;sa=X&amp;ved=0ahUKEwjKxo-11fDgAhUB57wKHcWYBrgQHwhPMAc\">유사한 페이지</a></li></ul></div></div></div><span class=\"st\">필자는 <b>파이썬</b>을 무척 좋아한다. 모든 프로그래밍 언어에는 각기 장점이 있지만 <br>\\n<b>파이썬</b>에는 다른 언어들에서는 쉽게 찾아볼 수 없는 <b>파이썬</b>만의 독특한 매력이 있다<br>\\n.</span><br></div></div><div class=\"g\"><h3 class=\"r\"><a href=\"/url?q=https://wikidocs.net/book/1&amp;sa=U&amp;ved=0ahUKEwjKxo-11fDgAhUB57wKHcWYBrgQFghRMAg&amp;usg=AOvVaw1nmlpqk-g9hEmNhzX6OBB2\">점프 투 <b>파이썬</b> - WikiDocs</a></h3><div class=\"s\"><div class=\"hJND5c\" style=\"margin-bottom:2px\"><cite>https://wikidocs.net/book/1</cite><div class=\"Pj9hGd\">\\u200e<div style=\"display:inline\" onclick=\"google.sham(this);\" aria-expanded=\"false\" aria-haspopup=\"true\" tabindex=\"0\" data-ved=\"0ahUKEwjKxo-11fDgAhUB57wKHcWYBrgQ7B0IUjAI\"><span class=\"CiacGf\"></span></div><div style=\"display:none\" class=\"am-dropdown-menu\" role=\"menu\" tabindex=\"-1\"><ul><li class=\"mUpfKd\"><a class=\"imx0m\" href=\"/url?q=http://webcache.googleusercontent.com/search%3Fq%3Dcache:5Oj4haYqNfMJ:https://wikidocs.net/book/1%252B%25ED%258C%258C%25EC%259D%25B4%25EC%258D%25AC%26hl%3Dko%26ct%3Dclnk&amp;sa=U&amp;ved=0ahUKEwjKxo-11fDgAhUB57wKHcWYBrgQIAhUMAg&amp;usg=AOvVaw2rQelaX0Un2uZCRFGsayyx\">저장된 페이지</a></li><li class=\"mUpfKd\"><a class=\"imx0m\" href=\"/search?q=related:https://wikidocs.net/book/1+%ED%8C%8C%EC%9D%B4%EC%8D%AC&amp;tbo=1&amp;sa=X&amp;ved=0ahUKEwjKxo-11fDgAhUB57wKHcWYBrgQHwhVMAg\">유사한 페이지</a></li></ul></div></div></div><span class=\"st\">2019년 2월 23일 <b>...</b> 이 책은 <b>파이썬</b>이란 언어를 처음 접해보는 독자들과 프로그래밍을 한 번도 해 본적<br>\\n이 없는 사람들을 대상으로 한다. 프로그래밍을 할 때 사용되는&nbsp;...</span><br></div></div><div class=\"g\"><h3 class=\"r\"><a href=\"/url?q=https://opentutorials.org/course/1750&amp;sa=U&amp;ved=0ahUKEwjKxo-11fDgAhUB57wKHcWYBrgQFghYMAk&amp;usg=AOvVaw2EVaAENslh2ygC5uZAKN51\"><b>Python</b> &amp; Ruby - 생활코딩</a></h3><div class=\"s\"><div class=\"hJND5c\" style=\"margin-bottom:2px\"><cite>https://opentutorials.org/course/1750</cite><div class=\"Pj9hGd\">\\u200e<div style=\"display:inline\" onclick=\"google.sham(this);\" aria-expanded=\"false\" aria-haspopup=\"true\" tabindex=\"0\" data-ved=\"0ahUKEwjKxo-11fDgAhUB57wKHcWYBrgQ7B0IWTAJ\"><span class=\"CiacGf\"></span></div><div style=\"display:none\" class=\"am-dropdown-menu\" role=\"menu\" tabindex=\"-1\"><ul><li class=\"mUpfKd\"><a class=\"imx0m\" href=\"/url?q=http://webcache.googleusercontent.com/search%3Fq%3Dcache:5f3BzH_j2qwJ:https://opentutorials.org/course/1750%252B%25ED%258C%258C%25EC%259D%25B4%25EC%258D%25AC%26hl%3Dko%26ct%3Dclnk&amp;sa=U&amp;ved=0ahUKEwjKxo-11fDgAhUB57wKHcWYBrgQIAhbMAk&amp;usg=AOvVaw0x99EG6kZ2yesISoCZ9BgK\">저장된 페이지</a></li><li class=\"mUpfKd\"><a class=\"imx0m\" href=\"/search?q=related:https://opentutorials.org/course/1750+%ED%8C%8C%EC%9D%B4%EC%8D%AC&amp;tbo=1&amp;sa=X&amp;ved=0ahUKEwjKxo-11fDgAhUB57wKHcWYBrgQHwhcMAk\">유사한 페이지</a></li></ul></div></div></div><span class=\"st\">2017년 8월 21일 <b>...</b> 본 수업은 <b>Python</b>(<b>파이썬</b>)과 Ruby(루비), Ruby와 <b>Python</b>을 동시에 배우는 수업<br>\\n입니다. 저는 이것을 병렬학습이라고 부릅니다. 이를 통해서&nbsp;...</span><br></div></div></ol></div></div></div><div style=\"clear:both;margin-bottom:17px;overflow:hidden\"><div style=\"font-size:16px;padding:0 8px 1px\"><b>파이썬</b> 관련 검색어</div><table border=\"0\" cellpadding=\"0\" cellspacing=\"0\"><tr><td valign=\"top\"><p class=\"aw5cc\" style=\"margin:3px 8px\"><a href=\"/search?q=%ED%8C%8C%EC%9D%B4%EC%8D%AC+%EC%9E%A5%EC%A0%90&amp;sa=X&amp;ved=0ahUKEwjKxo-11fDgAhUB57wKHcWYBrgQ1QIIYCgA\">파이썬 장점</a></p></td><td valign=\"top\" style=\"padding-left:10px\"><p class=\"aw5cc\" style=\"margin:3px 8px\"><a href=\"/search?q=%ED%8C%8C%EC%9D%B4%EC%8D%AC+%EC%97%90%EB%94%94%ED%84%B0&amp;sa=X&amp;ved=0ahUKEwjKxo-11fDgAhUB57wKHcWYBrgQ1QIIYSgB\">파이썬 에디터</a></p></td></tr><tr><td valign=\"top\"><p class=\"aw5cc\" style=\"margin:3px 8px\"><a href=\"/search?q=%ED%8C%8C%EC%9D%B4%EC%8D%AC+%EB%8B%A4%EC%9A%B4%EB%A1%9C%EB%93%9C&amp;sa=X&amp;ved=0ahUKEwjKxo-11fDgAhUB57wKHcWYBrgQ1QIIYigC\">파이썬 다운로드</a></p></td><td valign=\"top\" style=\"padding-left:10px\"><p class=\"aw5cc\" style=\"margin:3px 8px\"><a href=\"/search?q=%ED%8C%8C%EC%9D%B4%EC%8D%AC3&amp;sa=X&amp;ved=0ahUKEwjKxo-11fDgAhUB57wKHcWYBrgQ1QIIYygD\">파이썬3</a></p></td></tr><tr><td valign=\"top\"><p class=\"aw5cc\" style=\"margin:3px 8px\"><a href=\"/search?q=%ED%8C%8C%EC%9D%B4%EC%8D%AC%EC%9D%B4%EB%9E%80&amp;sa=X&amp;ved=0ahUKEwjKxo-11fDgAhUB57wKHcWYBrgQ1QIIZCgE\">파이썬이란</a></p></td><td valign=\"top\" style=\"padding-left:10px\"><p class=\"aw5cc\" style=\"margin:3px 8px\"><a href=\"/search?q=%ED%8C%8C%EC%9D%B4%EC%8D%AC+%EC%97%B0%EC%82%B0%EC%9E%90&amp;sa=X&amp;ved=0ahUKEwjKxo-11fDgAhUB57wKHcWYBrgQ1QIIZSgF\">파이썬 연산자</a></p></td></tr><tr><td valign=\"top\"><p class=\"aw5cc\" style=\"margin:3px 8px\"><a href=\"/search?q=%ED%8C%8C%EC%9D%B4%EC%8D%AC+%EC%98%88%EC%A0%9C&amp;sa=X&amp;ved=0ahUKEwjKxo-11fDgAhUB57wKHcWYBrgQ1QIIZigG\">파이썬 예제</a></p></td><td valign=\"top\" style=\"padding-left:10px\"><p class=\"aw5cc\" style=\"margin:3px 8px\"><a href=\"/search?q=%ED%8C%8C%EC%9D%B4%EC%8D%AC+%EA%B2%8C%EC%9E%84&amp;sa=X&amp;ved=0ahUKEwjKxo-11fDgAhUB57wKHcWYBrgQ1QIIZygH\">파이썬 게임</a></p></td></tr><tr><td valign=\"top\"><p class=\"aw5cc\" style=\"margin:3px 8px\"><a href=\"/search?q=%ED%8C%8C%EC%9D%B4%EC%8D%AC+%EB%82%98%EB%AC%B4%EC%9C%84%ED%82%A4&amp;sa=X&amp;ved=0ahUKEwjKxo-11fDgAhUB57wKHcWYBrgQ1QIIaCgI\">파이썬 나무위키</a></p></td><td valign=\"top\" style=\"padding-left:10px\"><p class=\"aw5cc\" style=\"margin:3px 8px\"><a href=\"/search?q=%ED%8C%8C%EC%9D%B4%EC%8D%AC+%EB%A7%B5&amp;sa=X&amp;ved=0ahUKEwjKxo-11fDgAhUB57wKHcWYBrgQ1QIIaSgJ\">파이썬 맵</a></p></td></tr></table></div></div><div id=\"foot\"><table align=\"center\" border=\"0\" cellpadding=\"0\" cellspacing=\"0\" id=\"nav\"><tr valign=\"top\"><td align=\"left\" class=\"b\"><span class=\"csb\" style=\"background-position:-24px 0;width:28px\"></span><b></b></td><td><span class=\"csb\" style=\"background-position:-53px 0;width:20px\"></span><b>1</b></td><td><a class=\"fl\" href=\"/search?q=%ED%8C%8C%EC%9D%B4%EC%8D%AC&amp;prmd=ivnsb&amp;ei=52OBXIq3AYHO8wXFsZrACw&amp;start=10&amp;sa=N\"><span class=\"csb\" style=\"background-position:-74px 0;width:20px\"></span>2</a></td><td><a class=\"fl\" href=\"/search?q=%ED%8C%8C%EC%9D%B4%EC%8D%AC&amp;prmd=ivnsb&amp;ei=52OBXIq3AYHO8wXFsZrACw&amp;start=20&amp;sa=N\"><span class=\"csb\" style=\"background-position:-74px 0;width:20px\"></span>3</a></td><td><a class=\"fl\" href=\"/search?q=%ED%8C%8C%EC%9D%B4%EC%8D%AC&amp;prmd=ivnsb&amp;ei=52OBXIq3AYHO8wXFsZrACw&amp;start=30&amp;sa=N\"><span class=\"csb\" style=\"background-position:-74px 0;width:20px\"></span>4</a></td><td><a class=\"fl\" href=\"/search?q=%ED%8C%8C%EC%9D%B4%EC%8D%AC&amp;prmd=ivnsb&amp;ei=52OBXIq3AYHO8wXFsZrACw&amp;start=40&amp;sa=N\"><span class=\"csb\" style=\"background-position:-74px 0;width:20px\"></span>5</a></td><td><a class=\"fl\" href=\"/search?q=%ED%8C%8C%EC%9D%B4%EC%8D%AC&amp;prmd=ivnsb&amp;ei=52OBXIq3AYHO8wXFsZrACw&amp;start=50&amp;sa=N\"><span class=\"csb\" style=\"background-position:-74px 0;width:20px\"></span>6</a></td><td><a class=\"fl\" href=\"/search?q=%ED%8C%8C%EC%9D%B4%EC%8D%AC&amp;prmd=ivnsb&amp;ei=52OBXIq3AYHO8wXFsZrACw&amp;start=60&amp;sa=N\"><span class=\"csb\" style=\"background-position:-74px 0;width:20px\"></span>7</a></td><td><a class=\"fl\" href=\"/search?q=%ED%8C%8C%EC%9D%B4%EC%8D%AC&amp;prmd=ivnsb&amp;ei=52OBXIq3AYHO8wXFsZrACw&amp;start=70&amp;sa=N\"><span class=\"csb\" style=\"background-position:-74px 0;width:20px\"></span>8</a></td><td><a class=\"fl\" href=\"/search?q=%ED%8C%8C%EC%9D%B4%EC%8D%AC&amp;prmd=ivnsb&amp;ei=52OBXIq3AYHO8wXFsZrACw&amp;start=80&amp;sa=N\"><span class=\"csb\" style=\"background-position:-74px 0;width:20px\"></span>9</a></td><td><a class=\"fl\" href=\"/search?q=%ED%8C%8C%EC%9D%B4%EC%8D%AC&amp;prmd=ivnsb&amp;ei=52OBXIq3AYHO8wXFsZrACw&amp;start=90&amp;sa=N\"><span class=\"csb\" style=\"background-position:-74px 0;width:20px\"></span>10</a></td><td class=\"b\" style=\"text-align:left\"><a class=\"fl\" href=\"/search?q=%ED%8C%8C%EC%9D%B4%EC%8D%AC&amp;prmd=ivnsb&amp;ei=52OBXIq3AYHO8wXFsZrACw&amp;start=10&amp;sa=N\" style=\"text-align:left\"><span class=\"csb\" style=\"background-position:-96px 0;width:71px\"></span><span style=\"display:block;margin-left:53px\">다음</span></a></td></tr></table><p class=\"A8ul6\" id=\"bfl\" style=\"margin:19px 0 0;text-align:center\"><a href=\"/advanced_search?q=%ED%8C%8C%EC%9D%B4%EC%8D%AC&amp;prmd=ivnsb\">고급검색</a><a href=\"/support/websearch/bin/answer.py?answer=134479&amp;hl=ko\">검색 도움말</a> <a href=\"/tools/feedback/survey/html?productId=196&amp;query=%ED%8C%8C%EC%9D%B4%EC%8D%AC&amp;hl=ko\">의견 보내기</a></p><div class=\"A8ul6\" id=\"fll\" style=\"margin:19px auto 19px auto;text-align:center\"><a href=\"/\">Google&nbsp;홈</a> <a href=\"/intl/ko/ads\">Google 광고 프로그램</a> <a href=\"/intl/ko/policies/privacy/\">개인정보처리방침</a> <a href=\"/intl/ko/policies/terms/\">약관</a> <a href=\"/intl/ko/about.html\">Google 정보</a></div></div></td><td id=\"rhs_block\" valign=\"top\"><ol><div class=\"g\"><div class=\"VBt9Dc hp-xpdbox\"><div class=\"R8KuR\" style=\"float:right\"><div class=\"OSMzvb\" style=\"height:57px;width:85px\"><a href=\"/url?q=http://creativeworks.tistory.com/entry/PYTHON-3-Tutorials-21-Download-images-from-the-web-%25EC%259D%25B4%25EB%25AF%25B8%25EC%25A7%2580%25EC%2582%25AC%25EC%25A7%2584-%25EB%258B%25A4%25EC%259A%25B4%25EB%25A1%259C%25EB%2593%259C-%25ED%2595%2598%25EA%25B8%25B0-with-python&amp;sa=U&amp;ved=0ahUKEwjKxo-11fDgAhUB57wKHcWYBrgQndQBCHMwCg&amp;usg=AOvVaw2Wi85f02l6_H42THMFlpxr\"><img src=\"https://encrypted-tbn0.gstatic.com/images?q=tbn:ANd9GcS4TGyv9xHSoBwLT7yNEMGHn9lKhTJtdNRRJg9Oy9ZqU7xYSrBj_lQX6T0\" style=\"margin-left:0px;margin-right:0px\" title=\"http://creativeworks.tistory.com/entry/PYTHON-3-Tutorials-21-Download-images-from-the-web-%EC%9D%B4%EB%AF%B8%EC%A7%80%EC%82%AC%EC%A7%84-%EB%8B%A4%EC%9A%B4%EB%A1%9C%EB%93%9C-%ED%95%98%EA%B8%B0-with-python\" alt=\"파이썬에 대한 이미지 검색결과\"></a></div></div><div class=\"V7Q8V\"><div><div class=\"FSP1Dd\">파이썬</div><div class=\"F7uZG Rlw09\">프로그램 언어</div></div></div><div class=\"V7Q8V\"><div class=\"mraOPb\"><span>파이썬은 1991년 프로그래머인 귀도 반 로섬이 발표한 고급 프로그래밍 언어로, 플랫폼 독립적이며 인터프리터식, 객체지향적, 동적 타이핑 대화형 언어이다. 파이썬이라는 이름은 귀도가 좋아하는 코미디 〈Monty Python\\'s Flying Circus〉에서 따온 것이다. <a class=\"fl\" href=\"/url?q=https://ko.wikipedia.org/wiki/%25ED%258C%258C%25EC%259D%25B4%25EC%258D%25AC&amp;sa=U&amp;ved=0ahUKEwjKxo-11fDgAhUB57wKHcWYBrgQmhMIeSgAMAw&amp;usg=AOvVaw0x6VpS4tI3lb8BahX4qOaL\">위키백과</a></span></div></div><div class=\"V7Q8V\" style=\"display:none\"></div><div class=\"V7Q8V\"><span class=\"cC4Myd\">설계자: </span><span class=\"A1t5ne\"><a class=\"A1t5ne fl\" href=\"/search?q=%EA%B7%80%EB%8F%84+%EB%B0%98+%EB%A1%9C%EC%84%AC&amp;stick=H4sIAAAAAAAAAOPgE-LQz9U3MK0yjFfiBLEMMwxMk7UMMsqt9JPzc3JSk0sy8_P0C4ry04sSc3Mz89LjcxLz0ksT01OLrVJSizPT81JTFJIqF7EKvtre8Lq_ReH1hhkKrxfOedOyBgBwkJkhXQAAAA&amp;sa=X&amp;ved=0ahUKEwjKxo-11fDgAhUB57wKHcWYBrgQmxMIfSgAMA4\">귀도 반 로섬</a></span></div><div class=\"V7Q8V\"><span class=\"cC4Myd\">영향을 받은 언어: </span><span class=\"A1t5ne\">ABC, 알콜 68, C, <a class=\"A1t5ne fl\" href=\"/search?q=C%2B%2B&amp;stick=H4sIAAAAAAAAAONgVuLQz9U3yEovTF_EyuysrQ0Ave2bGhIAAAA&amp;sa=X&amp;ved=0ahUKEwjKxo-11fDgAhUB57wKHcWYBrgQmxMIgAEoADAP\">C++</a>, <a class=\"A1t5ne fl\" href=\"/search?q=%EB%94%9C%EB%9E%80&amp;stick=H4sIAAAAAAAAAONgVuLQz9U3MEozN1jEyvZ6ypzX8xoA_9tbARUAAAA&amp;sa=X&amp;ved=0ahUKEwjKxo-11fDgAhUB57wKHcWYBrgQmxMIgQEoATAP\">딜란</a>, <a class=\"A1t5ne fl\" href=\"/search?q=%ED%95%98%EC%8A%A4%EC%BC%88&amp;stick=H4sIAAAAAAAAAONgVuLQz9U3MM6KL1zEyvl26ow3XUve7OkAAGlkhP0YAAAA&amp;sa=X&amp;ved=0ahUKEwjKxo-11fDgAhUB57wKHcWYBrgQmxMIggEoAjAP\">하스켈</a>, <a class=\"A1t5ne fl\" href=\"/search?q=%EC%95%84%EC%9D%B4%EC%BD%98&amp;stick=H4sIAAAAAAAAAONgVuLQz9U3MC4pMljEyvlmasubuVve7J0BAC98YH8YAAAA&amp;sa=X&amp;ved=0ahUKEwjKxo-11fDgAhUB57wKHcWYBrgQmxMIgwEoAzAP\">아이콘</a>, <a class=\"A1t5ne fl\" href=\"/search?q=%EC%9E%90%EB%B0%94&amp;stick=H4sIAAAAAAAAAONgVuLSz9U3MC9Oyk5LWsTK9mbehNcbpgAA2A4MeRcAAAA&amp;sa=X&amp;ved=0ahUKEwjKxo-11fDgAhUB57wKHcWYBrgQmxMIhAEoBDAP\">자바</a>, <a class=\"A1t5ne fl\" href=\"/search?q=%EB%A6%AC%EC%8A%A4%ED%94%84&amp;stick=H4sIAAAAAAAAAONgVuLQz9U3MMmuLF_Eyvl62Zo3XUveTmkBAKSPmF0YAAAA&amp;sa=X&amp;ved=0ahUKEwjKxo-11fDgAhUB57wKHcWYBrgQmxMIhQEoBTAP\">리스프</a>, 모듈-3, <a class=\"A1t5ne fl\" href=\"/search?q=%ED%8E%84&amp;stick=H4sIAAAAAAAAAONgVuLQz9U3MK0qylvEyvy2rwUA0VHjUhIAAAA&amp;sa=X&amp;ved=0ahUKEwjKxo-11fDgAhUB57wKHcWYBrgQmxMIhgEoBjAP\">펄</a></span></div><div class=\"V7Q8V\"><span class=\"cC4Myd\">사용 중인 파일 확장자: </span><span class=\"A1t5ne\">py,.pyc,.pyd,.pyo</span></div><div class=\"V7Q8V\"><span class=\"cC4Myd\">최근 버전 출시일: </span><span class=\"A1t5ne\"><a class=\"A1t5ne fl\" href=\"/search?q=2018%EB%85%84+10%EC%9B%94+20%EC%9D%BC&amp;stick=H4sIAAAAAAAAAONgVhLQL9E3Mi6vKCkviq8sNK0sWcQqbGRgaPG6tUXB0ODN7CkKRgZv5u4BALb0LRUqAAAA&amp;sa=X&amp;ved=0ahUKEwjKxo-11fDgAhUB57wKHcWYBrgQmxMIiwEoADAR\">2018년 10월 20일</a> (4달 전)</span></div><div class=\"V7Q8V\"><span class=\"cC4Myd\">모회사: </span><span class=\"A1t5ne\"><a class=\"A1t5ne fl\" href=\"/search?q=%ED%8C%8C%EC%9D%B4%EC%8D%AC%EC%86%8C%ED%94%84%ED%8A%B8%EC%9B%A8%EC%96%B4%EC%9E%AC%EB%8B%A8&amp;stick=H4sIAAAAAAAAAOPgE-LQz9U3MK0yjFfiBLGMjXMMC7RUMsqt9JPzc3JSk0sy8_P0k4oS81KKrQoSi1LzShSS83MLEvMqF7HKve3peTN3y5veNW_aet5OaXnbtePN7BVvpm15M2_N6-4VAFpB4h9eAAAA&amp;sa=X&amp;ved=0ahUKEwjKxo-11fDgAhUB57wKHcWYBrgQmxMIjgEoADAS\">파이썬소프트웨어재단</a></span></div><div class=\"V7Q8V\"><span class=\"cC4Myd\">영향을 준 언어: </span><span class=\"A1t5ne\"><a class=\"A1t5ne fl\" href=\"/search?q=boo+programming+language&amp;stick=H4sIAAAAAAAAAOPgE-LQz9U3MK0yjFfiBLFMklIMk7X0M8qt9JPzc3JSk0sy8_P0C4ry04sSc3Mz89LjcxLz0ksT01OLrTLz0nJKU_OSU1MWsUok5ecrIClTgCkDADH77bBjAAAA&amp;sa=X&amp;ved=0ahUKEwjKxo-11fDgAhUB57wKHcWYBrgQmxMIkQEoADAT\">Boo</a>, <a class=\"A1t5ne fl\" href=\"/search?q=cobra+programming+language&amp;stick=H4sIAAAAAAAAAOPgE-LQz9U3MK0yjFfiArGMk3OyLU209DPKrfST83NyUpNLMvPz9AuK8tOLEnNzM_PS43MS89JLE9NTi60y89JySlPzklNTFrFKJecnFSUqIClUgCkEAFE3jlNmAAAA&amp;sa=X&amp;ved=0ahUKEwjKxo-11fDgAhUB57wKHcWYBrgQmxMIkgEoATAT\">Cobra</a>, <a class=\"A1t5ne fl\" href=\"/search?q=%EC%BB%A4%ED%94%BC%EC%8A%A4%ED%81%AC%EB%A6%BD%ED%8A%B8&amp;stick=H4sIAAAAAAAAAOPgE-LQz9U3MK0yjFfiArEyspJNcw209DPKrfST83NyUpNLMvPz9AuK8tOLEnNzM_PS43MS89JLE9NTi60y89JySlPzklNTFrEKvdm95O2UPW-6lrxtXPN62d63XTsAQAdEml4AAAA&amp;sa=X&amp;ved=0ahUKEwjKxo-11fDgAhUB57wKHcWYBrgQmxMIkwEoAjAT\">커피스크립트</a>, <a class=\"A1t5ne fl\" href=\"/search?q=D+(%ED%94%84%EB%A1%9C%EA%B7%B8%EB%9E%98%EB%B0%8D+%EC%96%B8%EC%96%B4)&amp;stick=H4sIAAAAAAAAAOPgE-LQz9U3MK0yjFfiBLEMs5NKzLX0M8qt9JPzc3JSk0sy8_P0C4ry04sSc3Mz89LjcxLz0ksT01OLrTLz0nJKU_OSU1MWsUq5KGi8ndLyeuGcV9t3vJ434_WGXoU303a8mbZFEwANievwZQAAAA&amp;sa=X&amp;ved=0ahUKEwjKxo-11fDgAhUB57wKHcWYBrgQmxMIlAEoAzAT\">D</a>, <a class=\"A1t5ne fl\" href=\"/search?q=F+%EC%83%A4%ED%94%84&amp;stick=H4sIAAAAAAAAAOPgE-LQz9U3MK0yjFfiBLEMs0osjLT0M8qt9JPzc3JSk0sy8_P0C4ry04sSc3Mz89LjcxLz0ksT01OLrTLz0nJKU_OSU1MWsXK4KbxpXvJ2SgsAyTGtUlMAAAA&amp;sa=X&amp;ved=0ahUKEwjKxo-11fDgAhUB57wKHcWYBrgQmxMIlQEoBDAT\">F 샤프</a>, <a class=\"A1t5ne fl\" href=\"/search?q=%EC%A7%80+%EB%8B%88&amp;stick=H4sIAAAAAAAAAOPgE-LQz9U3MK0yjFfiArEss81Ns4q19DPKrfST83NyUpNLMvPz9AuK8tOLEnNzM_PS43MS89JLE9NTi60y89JySlPzklNTFrGyv1neoPC6uwMAO4lP6lMAAAA&amp;sa=X&amp;ved=0ahUKEwjKxo-11fDgAhUB57wKHcWYBrgQmxMIlgEoBTAT\">Genie</a>, <a class=\"A1t5ne fl\" href=\"/search?q=Go+(%ED%94%84%EB%A1%9C%EA%B7%B8%EB%9E%98%EB%B0%8D+%EC%96%B8%EC%96%B4)&amp;stick=H4sIAAAAAAAAAOPgE-LQz9U3MK0yjFfiArEs05Mqsoq09DPKrfST83NyUpNLMvPz9AuK8tOLEnNzM_PS43MS89JLE9NTi60y89JySlPzklNTFrFKu-craLyd0vJ64ZxX23e8njfj9YZehTfTdryZtkUTAN0rVRJnAAAA&amp;sa=X&amp;ved=0ahUKEwjKxo-11fDgAhUB57wKHcWYBrgQmxMIlwEoBjAT\">Go</a>, <a class=\"A1t5ne fl\" href=\"/search?q=%EA%B7%B8%EB%A3%A8%EB%B9%84+(%ED%94%84%EB%A1%9C%EA%B7%B8%EB%9E%98%EB%B0%8D+%EC%96%B8%EC%96%B4)&amp;stick=H4sIAAAAAAAAAOPgE-LQz9U3MK0yjFfiBLGMsootzLT0M8qt9JPzc3JSk0sy8_P0C4ry04sSc3Mz89LjcxLz0ksT01OLrTLz0nJKU_OSU1MWsSq92r7j9eIVr3e2KGi8ndLyeuEckMC8Ga839Cq8mbbjzbQtmgB-nUIxbQAAAA&amp;sa=X&amp;ved=0ahUKEwjKxo-11fDgAhUB57wKHcWYBrgQmxMImAEoBzAT\">그루비</a>, <a class=\"A1t5ne fl\" href=\"/search?q=%EC%9E%90%EB%B0%94%EC%8A%A4%ED%81%AC%EB%A6%BD%ED%8A%B8&amp;stick=H4sIAAAAAAAAAOPgE-LQz9U3MK0yjFcCs4wKLM219DPKrfST83NyUpNLMvPz9AuK8tOLEnNzM_PS43MS89JLE9NTi60y89JySlPzklNTFrEKvZk34fWGKW-6lrxtXPN62d63XTsAK1aS-FwAAAA&amp;sa=X&amp;ved=0ahUKEwjKxo-11fDgAhUB57wKHcWYBrgQmxMImQEoCDAT\">자바스크립트</a>, <a class=\"A1t5ne fl\" href=\"/search?q=%EC%A4%84%EB%A6%AC%EC%95%84+(%ED%94%84%EB%A1%9C%EA%B7%B8%EB%9E%98%EB%B0%8D+%EC%96%B8%EC%96%B4)&amp;stick=H4sIAAAAAAAAAOPgE-LQz9U3MK0yjFfiArGyjFOycsy19DPKrfST83NyUpNLMvPz9AuK8tOLEnNzM_PS43MS89JLE9NTi60y89JySlPzklNTFrEqvVnS8nrZmjdTWxQ03k5peb1wzqvtO17Pm_F6Q6_Cm2k73kzbogkAm4LIF24AAAA&amp;sa=X&amp;ved=0ahUKEwjKxo-11fDgAhUB57wKHcWYBrgQmxMImgEoCTAT\">줄리아</a>, <a class=\"A1t5ne fl\" href=\"/search?q=nim+programming+language&amp;stick=H4sIAAAAAAAAAOPgE-LQz9U3MK0yjFfiArEs0wtMTDK09DPKrfST83NyUpNLMvPz9AuK8tOLEnNzM_PS43MS89JLE9NTi60y89JySlPzklNTFrFK5GXmKiApU4ApAwDXSQcNZAAAAA&amp;sa=X&amp;ved=0ahUKEwjKxo-11fDgAhUB57wKHcWYBrgQmxMImwEoCjAT\">Nim</a>, <a class=\"A1t5ne fl\" href=\"/search?q=ring+programming+language&amp;stick=H4sIAAAAAAAAAOPgE-LQz9U3MK0yjFfi1U_XNzRMNkvOKC8wr9LSzyi30k_Oz8lJTS7JzM_TLyjKTy9KzM3NzEuPz0nMSy9NTE8ttsrMS8spTc1LTk1ZxCpZBJRTQFKnAFMHACg1vKpoAAAA&amp;sa=X&amp;ved=0ahUKEwjKxo-11fDgAhUB57wKHcWYBrgQmxMInAEoCzAT\">Ring</a>, <a class=\"A1t5ne fl\" href=\"/search?q=%EB%A3%A8%EB%B9%84+(%ED%94%84%EB%A1%9C%EA%B7%B8%EB%9E%98%EB%B0%8D+%EC%96%B8%EC%96%B4)&amp;stick=H4sIAAAAAAAAAOPgE-LQz9U3MK0yjFcCs8zS0ky19DPKrfST83NyUpNLMvPz9AuK8tOLEnNzM_PS43MS89JLE9NTi60y89JySlPzklNTFrHKv1684vXOFgWNt1NaXi-c82r7jtfzZrze0KvwZtqON9O2aAIA6IzE5WkAAAA&amp;sa=X&amp;ved=0ahUKEwjKxo-11fDgAhUB57wKHcWYBrgQmxMInQEoDDAT\">루비</a>, <a class=\"A1t5ne fl\" href=\"/search?q=%EC%8A%A4%EC%9C%84%ED%94%84%ED%8A%B8+(%ED%94%84%EB%A1%9C%EA%B7%B8%EB%9E%98%EB%B0%8D+%EC%96%B8%EC%96%B4)&amp;stick=H4sIAAAAAAAAAOPgE-LQz9U3MK0yjFfiBrEMDYpTTCqNtfQzyq30k_NzclKTSzLz8_QLivLTixJzczPz0uNzEvPSSxPTU4utMvPSckpT85JTUxaxqr7pWvJmTsvbKS1vu3YoaADp1wvnvNq-4_W8Ga839Cq8mbbjzbQtmgDoc2ANcgAAAA&amp;sa=X&amp;ved=0ahUKEwjKxo-11fDgAhUB57wKHcWYBrgQmxMIngEoDTAT\">스위프트</a></span></div><div class=\"dXAUyb\"><div class=\"lHETUb\">관련 검색어</div><div class=\"xKoZHf B27ELd\" style=\"width:72px\"><div class=\"tQOFN\" style=\"height:72px\"><a class=\"FEM55\" href=\"/search?q=%EC%9E%90%EB%B0%94+(%ED%94%84%EB%A1%9C%EA%B7%B8%EB%9E%98%EB%B0%8D+%EC%96%B8%EC%96%B4)&amp;stick=H4sIAAAAAAAAAONgFuLQz9U3MK0yjFfiArHMi5Oy05K0-Jzzc3Pz84IzU1LLEyuLF7HKv5k34fWGKQoab6e0vF4459X2Ha_nzXi9oVfhzbQdb6Zt0QQAmMHfqEoAAAA&amp;sa=X&amp;ved=0ahUKEwjKxo-11fDgAhUB57wKHcWYBrgQsQ4IogEwFA\"><img alt=\"자바\" height=\"72px\" src=\"https://encrypted-tbn0.gstatic.com/images?q=tbn:ANd9GcQ16ri54q7_20MSQwz1jCCUAiLU1pJWgmUIV6hlZa0sdyQmzPCYZ8XEqR9a_hXYT2F5L1Y\" title=\"자바\" width=\"72px\"></a></div><div class=\"brYqc\"><a class=\"fl\" href=\"/search?q=%EC%9E%90%EB%B0%94+(%ED%94%84%EB%A1%9C%EA%B7%B8%EB%9E%98%EB%B0%8D+%EC%96%B8%EC%96%B4)&amp;stick=H4sIAAAAAAAAAONgFuLQz9U3MK0yjFfiArHMi5Oy05K0-Jzzc3Pz84IzU1LLEyuLF7HKv5k34fWGKQoab6e0vF4459X2Ha_nzXi9oVfhzbQdb6Zt0QQAmMHfqEoAAAA&amp;sa=X&amp;ved=0ahUKEwjKxo-11fDgAhUB57wKHcWYBrgQxA0IowEwFA\" title=\"자바\">자바</a><div class=\"czonVc\" title=\"자바\"></div></div></div><div class=\"B27ELd\" style=\"width:72px\"><div class=\"tQOFN\" style=\"height:72px\"><a class=\"FEM55\" href=\"/search?q=C%2B%2B&amp;stick=H4sIAAAAAAAAAONgFuLQz9U3MK0yjFcCs7LSC9O1-Jzzc3Pz84IzU1LLEyuLF7EyO2trAwA58-CHLAAAAA&amp;sa=X&amp;ved=0ahUKEwjKxo-11fDgAhUB57wKHcWYBrgQsQ4IpQEwFA\"><img alt=\"C++\" height=\"72px\" src=\"https://encrypted-tbn1.gstatic.com/images?q=tbn:ANd9GcSE8zPFZD2-IrUUs_BTQCkFj_huTiC32kz29RIysdAsma6d02MkfHNLTWbFZrDAj1jdWPM\" title=\"C++\" width=\"72px\"></a></div><div class=\"brYqc\"><a class=\"fl\" href=\"/search?q=C%2B%2B&amp;stick=H4sIAAAAAAAAAONgFuLQz9U3MK0yjFcCs7LSC9O1-Jzzc3Pz84IzU1LLEyuLF7EyO2trAwA58-CHLAAAAA&amp;sa=X&amp;ved=0ahUKEwjKxo-11fDgAhUB57wKHcWYBrgQxA0IpgEwFA\" title=\"C++\">C++</a><div class=\"czonVc\" title=\"C++\"></div></div></div><div class=\"ty7XEe B27ELd\" style=\"width:72px\"><div class=\"tQOFN\" style=\"height:72px\"><a class=\"FEM55\" href=\"/search?q=%EC%9E%90%EB%B0%94%EC%8A%A4%ED%81%AC%EB%A6%BD%ED%8A%B8&amp;stick=H4sIAAAAAAAAAONgFuLQz9U3MK0yjFcCs4wKLM21-Jzzc3Pz84IzU1LLEyuLF7EKvZk34fWGKW-6lrxtXPN62d63XTsAuAsB2DsAAAA&amp;sa=X&amp;ved=0ahUKEwjKxo-11fDgAhUB57wKHcWYBrgQsQ4IqAEwFA\"><img alt=\"자바스크립트\" height=\"72px\" src=\"https://encrypted-tbn0.gstatic.com/images?q=tbn:ANd9GcQO-fQw_pL04McXDrzTCohk00MUzJdi0DNOjvRfaxHw_BWSzzJYUeU\" title=\"자바스크립트\" width=\"72px\"></a></div><div class=\"brYqc\"><a class=\"fl\" href=\"/search?q=%EC%9E%90%EB%B0%94%EC%8A%A4%ED%81%AC%EB%A6%BD%ED%8A%B8&amp;stick=H4sIAAAAAAAAAONgFuLQz9U3MK0yjFcCs4wKLM21-Jzzc3Pz84IzU1LLEyuLF7EKvZk34fWGKW-6lrxtXPN62d63XTsAuAsB2DsAAAA&amp;sa=X&amp;ved=0ahUKEwjKxo-11fDgAhUB57wKHcWYBrgQxA0IqQEwFA\" title=\"자바스크립트\">자바스크립트</a><div class=\"czonVc\" title=\"자바스크립트\"></div></div></div><br><div class=\"xKoZHf B27ELd\" style=\"width:72px\"><div class=\"tQOFN\" style=\"height:72px\"><a class=\"FEM55\" href=\"/search?q=PHP&amp;stick=H4sIAAAAAAAAAONgFuLQz9U3MK0yjFcCs8wMssu0-Jzzc3Pz84IzU1LLEyuLF7EyB3gEAADSWoTCLAAAAA&amp;sa=X&amp;ved=0ahUKEwjKxo-11fDgAhUB57wKHcWYBrgQsQ4IqwEwFA\"><img alt=\"PHP\" height=\"72px\" src=\"https://encrypted-tbn1.gstatic.com/images?q=tbn:ANd9GcTGE47w6wFGKF66-YMuCY1eW_dktCbPZIdGXI7tHu95YX-kVydbgmAAcEQorqZbQL4Zs0s\" title=\"PHP\" width=\"72px\"></a></div><div class=\"brYqc\"><a class=\"fl\" href=\"/search?q=PHP&amp;stick=H4sIAAAAAAAAAONgFuLQz9U3MK0yjFcCs8wMssu0-Jzzc3Pz84IzU1LLEyuLF7EyB3gEAADSWoTCLAAAAA&amp;sa=X&amp;ved=0ahUKEwjKxo-11fDgAhUB57wKHcWYBrgQxA0IrAEwFA\" title=\"PHP\">PHP</a><div class=\"czonVc\" title=\"PHP\"></div></div></div><div class=\"B27ELd\" style=\"width:72px\"><div class=\"tQOFN\" style=\"height:72px\"><a class=\"FEM55\" href=\"/search?q=NumPy&amp;stick=H4sIAAAAAAAAAONgFuLQz9U3MK0yjFfiBLGMDAtykrT4nPNzc_PzgjNTUssTK4sXsbL6leYGVAIA2H0bzC8AAAA&amp;sa=X&amp;ved=0ahUKEwjKxo-11fDgAhUB57wKHcWYBrgQsQ4IrgEwFA\"><img alt=\"넘파이\" height=\"72px\" src=\"https://encrypted-tbn3.gstatic.com/images?q=tbn:ANd9GcRINq5rFZR1YhbiTnbrLlnnaJ64YwscSyamRxNZEH-7gkqtymBP44M9pNNO6sZFeb4GKKs\" title=\"넘파이\" width=\"72px\"></a></div><div class=\"brYqc\"><a class=\"fl\" href=\"/search?q=NumPy&amp;stick=H4sIAAAAAAAAAONgFuLQz9U3MK0yjFfiBLGMDAtykrT4nPNzc_PzgjNTUssTK4sXsbL6leYGVAIA2H0bzC8AAAA&amp;sa=X&amp;ved=0ahUKEwjKxo-11fDgAhUB57wKHcWYBrgQxA0IrwEwFA\" title=\"넘파이\">넘파이</a><div class=\"czonVc\" title=\"넘파이\"></div></div></div><div class=\"ty7XEe B27ELd\" style=\"width:72px\"><div class=\"tQOFN\" style=\"height:72px\"><a class=\"FEM55\" href=\"/search?q=R+(%ED%94%84%EB%A1%9C%EA%B7%B8%EB%9E%98%EB%B0%8D+%EC%96%B8%EC%96%B4)&amp;stick=H4sIAAAAAAAAAONgFuLQz9U3MK0yjFfiBLGMDI2ycrX4nPNzc_PzgjNTUssTK4sXsUoFKWi8ndLyeuGcV9t3vJ434_WGXoU303a8mbZFEwBcqp8dRAAAAA&amp;sa=X&amp;ved=0ahUKEwjKxo-11fDgAhUB57wKHcWYBrgQsQ4IsQEwFA\"><img alt=\"R\" height=\"72px\" src=\"https://encrypted-tbn2.gstatic.com/images?q=tbn:ANd9GcTQHm53UZ9eLYfQ-TXSmOcp4A4cYcFk984sdGJiaRh2mk9sy2oNBNAZPO7h-anCdhuBx-A\" title=\"R\" width=\"72px\"></a></div><div class=\"brYqc\"><a class=\"fl\" href=\"/search?q=R+(%ED%94%84%EB%A1%9C%EA%B7%B8%EB%9E%98%EB%B0%8D+%EC%96%B8%EC%96%B4)&amp;stick=H4sIAAAAAAAAAONgFuLQz9U3MK0yjFfiBLGMDI2ycrX4nPNzc_PzgjNTUssTK4sXsUoFKWi8ndLyeuGcV9t3vJ434_WGXoU303a8mbZFEwBcqp8dRAAAAA&amp;sa=X&amp;ved=0ahUKEwjKxo-11fDgAhUB57wKHcWYBrgQxA0IsgEwFA\" title=\"R\">R</a><div class=\"czonVc\" title=\"R\"></div></div></div><br></div></div></div></ol></td></tr></tbody></table><script type=\"text/javascript\" nonce=\"MqU1ulHIyMmifkRbMHSUMA==\">(function(){var eventid=\\'52OBXIq3AYHO8wXFsZrACw\\';google.kEI = eventid;})();</script><script src=\"/xjs/_/js/k=xjs.hp.en.o5aGEW9mC8k.O/m=sb_he,d/rt=j/d=1/rs=ACT90oHZEpRKYChDi4vGOTSDvBdAJU_-Cw\" nonce=\"MqU1ulHIyMmifkRbMHSUMA==\"></script><script type=\"text/javascript\" nonce=\"MqU1ulHIyMmifkRbMHSUMA==\">google.ac&&google.ac.c({\"agen\":true,\"cgen\":true,\"client\":\"heirloom-serp\",\"dh\":true,\"dhqt\":true,\"ds\":\"\",\"ffql\":\"ko\",\"fl\":true,\"host\":\"google.com\",\"isbh\":28,\"jsonp\":true,\"msgs\":{\"cibl\":\"검색어 지우기\",\"dym\":\"이것을 찾으셨나요?\",\"lcky\":\"I’m Feeling Lucky\",\"lml\":\"자세히 알아보기\",\"oskt\":\"입력 도구\",\"psrc\":\"검색어가 \\\\u003Ca href=\\\\\"/history\\\\\"\\\\u003E웹 기록\\\\u003C/a\\\\u003E에서 삭제되었습니다.\",\"psrl\":\"삭제\",\"sbit\":\"이미지로 검색\",\"srch\":\"Google 검색\"},\"ovr\":{},\"pq\":\"파이썬\",\"refpd\":true,\"refspre\":true,\"rfs\":[\"파이썬 장점\",\"파이썬 다운로드\",\"파이썬이란\",\"파이썬 예제\",\"파이썬 나무위키\",\"파이썬 에디터\",\"파이썬3\",\"파이썬 연산자\",\"파이썬 게임\",\"파이썬 맵\"],\"sbpl\":24,\"sbpr\":24,\"scd\":10,\"sce\":5,\"stok\":\"u7RPy-TRMkhxZdQHZAZwoYDreew\",\"uhde\":false})</script><script nonce=\"MqU1ulHIyMmifkRbMHSUMA==\">(function(){window.google.cdo={height:0,width:0};(function(){var a=window.innerWidth,b=window.innerHeight;if(!a||!b){var c=window.document,d=\"CSS1Compat\"==c.compatMode?c.documentElement:c.body;a=d.clientWidth;b=d.clientHeight}a&&b&&(a!=google.cdo.width||b!=google.cdo.height)&&google.log(\"\",\"\",\"/client_204?&atyp=i&biw=\"+a+\"&bih=\"+b+\"&ei=\"+google.kEI);}).call(this);})();</script></body></html>'"
      ]
     },
     "execution_count": 39,
     "metadata": {},
     "output_type": "execute_result"
    }
   ],
   "source": [
    "resp.text"
   ]
  },
  {
   "cell_type": "markdown",
   "metadata": {},
   "source": [
    "### requests 패키지 get/post/put 매서드 파라미터"
   ]
  },
  {
   "cell_type": "markdown",
   "metadata": {},
   "source": [
    "http://httpbin.org/ 에서 제공하는 서비스로 requests 패키지의 get, post, put 메서드의 기능을 이용해 본다."
   ]
  },
  {
   "cell_type": "code",
   "execution_count": 40,
   "metadata": {},
   "outputs": [],
   "source": [
    "import requests"
   ]
  },
  {
   "cell_type": "code",
   "execution_count": 41,
   "metadata": {},
   "outputs": [
    {
     "data": {
      "text/plain": [
       "<Response [200]>"
      ]
     },
     "execution_count": 41,
     "metadata": {},
     "output_type": "execute_result"
    }
   ],
   "source": [
    "# get\n",
    "url = \"http://httpbin.org/\"\n",
    "requests.get(url+\"get\")"
   ]
  },
  {
   "cell_type": "code",
   "execution_count": 42,
   "metadata": {},
   "outputs": [],
   "source": [
    "resp = requests.get(url+\"get\")"
   ]
  },
  {
   "cell_type": "code",
   "execution_count": 43,
   "metadata": {},
   "outputs": [
    {
     "name": "stdout",
     "output_type": "stream",
     "text": [
      "{'Access-Control-Allow-Credentials': 'true', 'Access-Control-Allow-Origin': '*', 'Content-Encoding': 'gzip', 'Content-Type': 'application/json', 'Date': 'Thu, 07 Mar 2019 18:34:14 GMT', 'Server': 'nginx', 'Content-Length': '184', 'Connection': 'keep-alive'}\n",
      "{\n",
      "  \"args\": {}, \n",
      "  \"headers\": {\n",
      "    \"Accept\": \"*/*\", \n",
      "    \"Accept-Encoding\": \"gzip, deflate\", \n",
      "    \"Host\": \"httpbin.org\", \n",
      "    \"User-Agent\": \"python-requests/2.21.0\"\n",
      "  }, \n",
      "  \"origin\": \"121.130.89.150, 121.130.89.150\", \n",
      "  \"url\": \"https://httpbin.org/get\"\n",
      "}\n",
      "\n"
     ]
    }
   ],
   "source": [
    "print(resp.headers)\n",
    "print(resp.text)"
   ]
  },
  {
   "cell_type": "code",
   "execution_count": 44,
   "metadata": {},
   "outputs": [],
   "source": [
    "resp = requests.get(url+\"get\", params={\"key\":\"value\", \"key1\":\"value1\"})"
   ]
  },
  {
   "cell_type": "code",
   "execution_count": 45,
   "metadata": {},
   "outputs": [
    {
     "name": "stdout",
     "output_type": "stream",
     "text": [
      "{'Access-Control-Allow-Credentials': 'true', 'Access-Control-Allow-Origin': '*', 'Content-Encoding': 'gzip', 'Content-Type': 'application/json', 'Date': 'Thu, 07 Mar 2019 18:34:38 GMT', 'Server': 'nginx', 'Content-Length': '210', 'Connection': 'keep-alive'}\n",
      "{\n",
      "  \"args\": {\n",
      "    \"key\": \"value\", \n",
      "    \"key1\": \"value1\"\n",
      "  }, \n",
      "  \"headers\": {\n",
      "    \"Accept\": \"*/*\", \n",
      "    \"Accept-Encoding\": \"gzip, deflate\", \n",
      "    \"Host\": \"httpbin.org\", \n",
      "    \"User-Agent\": \"python-requests/2.21.0\"\n",
      "  }, \n",
      "  \"origin\": \"121.130.89.150, 121.130.89.150\", \n",
      "  \"url\": \"https://httpbin.org/get?key=value&key1=value1\"\n",
      "}\n",
      "\n"
     ]
    }
   ],
   "source": [
    "print(resp.headers)\n",
    "print(resp.text)"
   ]
  },
  {
   "cell_type": "code",
   "execution_count": 46,
   "metadata": {},
   "outputs": [],
   "source": [
    "# post\n",
    "resp = requests.post(url+\"post\", data={\"key\":\"value\", \"key1\":\"value1\"})"
   ]
  },
  {
   "cell_type": "code",
   "execution_count": 47,
   "metadata": {
    "scrolled": true
   },
   "outputs": [
    {
     "name": "stdout",
     "output_type": "stream",
     "text": [
      "{'User-Agent': 'python-requests/2.21.0', 'Accept-Encoding': 'gzip, deflate', 'Accept': '*/*', 'Connection': 'keep-alive', 'Content-Length': '21', 'Content-Type': 'application/x-www-form-urlencoded'}\n",
      "{\n",
      "  \"args\": {}, \n",
      "  \"data\": \"\", \n",
      "  \"files\": {}, \n",
      "  \"form\": {\n",
      "    \"key\": \"value\", \n",
      "    \"key1\": \"value1\"\n",
      "  }, \n",
      "  \"headers\": {\n",
      "    \"Accept\": \"*/*\", \n",
      "    \"Accept-Encoding\": \"gzip, deflate\", \n",
      "    \"Content-Length\": \"21\", \n",
      "    \"Content-Type\": \"application/x-www-form-urlencoded\", \n",
      "    \"Host\": \"httpbin.org\", \n",
      "    \"User-Agent\": \"python-requests/2.21.0\"\n",
      "  }, \n",
      "  \"json\": null, \n",
      "  \"origin\": \"121.130.89.150, 121.130.89.150\", \n",
      "  \"url\": \"https://httpbin.org/post\"\n",
      "}\n",
      "\n"
     ]
    }
   ],
   "source": [
    "print(resp.request.headers)\n",
    "print(resp.text)"
   ]
  },
  {
   "cell_type": "code",
   "execution_count": 48,
   "metadata": {},
   "outputs": [],
   "source": [
    "# put\n",
    "resp = requests.put(url+\"put\", data={\"key\":\"value\", \"key1\":\"value1\"})"
   ]
  },
  {
   "cell_type": "code",
   "execution_count": 49,
   "metadata": {},
   "outputs": [
    {
     "name": "stdout",
     "output_type": "stream",
     "text": [
      "{'User-Agent': 'python-requests/2.21.0', 'Accept-Encoding': 'gzip, deflate', 'Accept': '*/*', 'Connection': 'keep-alive', 'Content-Length': '21', 'Content-Type': 'application/x-www-form-urlencoded'}\n",
      "{\n",
      "  \"args\": {}, \n",
      "  \"data\": \"\", \n",
      "  \"files\": {}, \n",
      "  \"form\": {\n",
      "    \"key\": \"value\", \n",
      "    \"key1\": \"value1\"\n",
      "  }, \n",
      "  \"headers\": {\n",
      "    \"Accept\": \"*/*\", \n",
      "    \"Accept-Encoding\": \"gzip, deflate\", \n",
      "    \"Content-Length\": \"21\", \n",
      "    \"Content-Type\": \"application/x-www-form-urlencoded\", \n",
      "    \"Host\": \"httpbin.org\", \n",
      "    \"User-Agent\": \"python-requests/2.21.0\"\n",
      "  }, \n",
      "  \"json\": null, \n",
      "  \"origin\": \"121.130.89.150, 121.130.89.150\", \n",
      "  \"url\": \"https://httpbin.org/put\"\n",
      "}\n",
      "\n"
     ]
    }
   ],
   "source": [
    "print(resp.request.headers)\n",
    "print(resp.text)"
   ]
  },
  {
   "cell_type": "code",
   "execution_count": 50,
   "metadata": {},
   "outputs": [
    {
     "data": {
      "text/plain": [
       "requests.models.Response"
      ]
     },
     "execution_count": 50,
     "metadata": {},
     "output_type": "execute_result"
    }
   ],
   "source": [
    "type(resp)"
   ]
  },
  {
   "cell_type": "code",
   "execution_count": 51,
   "metadata": {},
   "outputs": [
    {
     "name": "stdout",
     "output_type": "stream",
     "text": [
      "200\n",
      "{'Access-Control-Allow-Credentials': 'true', 'Access-Control-Allow-Origin': '*', 'Content-Encoding': 'gzip', 'Content-Type': 'application/json', 'Date': 'Thu, 07 Mar 2019 18:36:01 GMT', 'Server': 'nginx', 'Content-Length': '270', 'Connection': 'keep-alive'}\n",
      "{'User-Agent': 'python-requests/2.21.0', 'Accept-Encoding': 'gzip, deflate', 'Accept': '*/*', 'Connection': 'keep-alive', 'Content-Length': '21', 'Content-Type': 'application/x-www-form-urlencoded'}\n",
      "key=value&key1=value1\n"
     ]
    }
   ],
   "source": [
    "print(resp.status_code)\n",
    "print(resp.headers)\n",
    "print(resp.request.headers)\n",
    "print(resp.request.body)\n",
    "resp.encoding=\"utf-8\""
   ]
  },
  {
   "cell_type": "markdown",
   "metadata": {},
   "source": [
    "### crawler-test.com 사이트에서 status_code 확인"
   ]
  },
  {
   "cell_type": "markdown",
   "metadata": {},
   "source": [
    "https://www.crawler-test.com/ 사이트를 활용하여 status_code를 확인해 본다."
   ]
  },
  {
   "cell_type": "code",
   "execution_count": 52,
   "metadata": {},
   "outputs": [],
   "source": [
    "base_url = \"https://www.crawler-test.com/status_codes/status_\"   # base_url 뒤에 status_code를 추가하면 해당 상태를 리턴함"
   ]
  },
  {
   "cell_type": "markdown",
   "metadata": {},
   "source": [
    "get 방식 download 함수를 재정의 한다."
   ]
  },
  {
   "cell_type": "code",
   "execution_count": 53,
   "metadata": {},
   "outputs": [],
   "source": [
    "headers = {\"user-agent\": \"Mozilla/5.0\"}\n",
    "base_retries = 3\n",
    "\n",
    "def getDownload(url, param=None, retries=base_retries):\n",
    "    resp = None\n",
    "\n",
    "    try:\n",
    "        resp = requests.get(url, params=param, headers=headers)\n",
    "        resp.raise_for_status()\n",
    "    except requests.exceptions.HTTPError as e:\n",
    "        if 500 <= resp.status_code < 600 and retries > 0:\n",
    "            print(\"Retries: {0}\".format(base_retries - retries + 1))    # retry 값 출력 부분은 강의 내용과 약간 다르게 수정함\n",
    "            return getDownload(url, param, retries - 1)\n",
    "        else:\n",
    "            print(resp.status_code)\n",
    "            print(resp.reason)\n",
    "            print(resp.headers)\n",
    "    \n",
    "    return resp"
   ]
  },
  {
   "cell_type": "code",
   "execution_count": 55,
   "metadata": {},
   "outputs": [
    {
     "data": {
      "text/plain": [
       "<Response [200]>"
      ]
     },
     "execution_count": 55,
     "metadata": {},
     "output_type": "execute_result"
    }
   ],
   "source": [
    "resp = getDownload(base_url+\"200\")\n",
    "resp"
   ]
  },
  {
   "cell_type": "code",
   "execution_count": 56,
   "metadata": {},
   "outputs": [
    {
     "name": "stdout",
     "output_type": "stream",
     "text": [
      "403\n",
      "Forbidden\n",
      "{'Content-Encoding': 'gzip', 'Content-Type': 'text/html', 'Date': 'Thu, 07 Mar 2019 18:39:45 GMT', 'Server': 'nginx/1.10.3', 'Vary': 'Accept-Encoding', 'X-Content-Type-Options': 'nosniff', 'X-Frame-Options': 'SAMEORIGIN', 'X-XSS-Protection': '1; mode=block', 'Content-Length': '46', 'Connection': 'keep-alive'}\n"
     ]
    }
   ],
   "source": [
    "resp = getDownload(base_url+\"403\")"
   ]
  },
  {
   "cell_type": "code",
   "execution_count": 57,
   "metadata": {
    "scrolled": true
   },
   "outputs": [
    {
     "name": "stdout",
     "output_type": "stream",
     "text": [
      "Retries: 1\n",
      "Retries: 2\n",
      "Retries: 3\n",
      "500\n",
      "Internal Server Error\n",
      "{'Content-Encoding': 'gzip', 'Content-Type': 'text/html', 'Date': 'Thu, 07 Mar 2019 18:39:56 GMT', 'Server': 'nginx/1.10.3', 'Vary': 'Accept-Encoding', 'X-Content-Type-Options': 'nosniff', 'X-Frame-Options': 'SAMEORIGIN', 'X-XSS-Protection': '1; mode=block', 'Content-Length': '46', 'Connection': 'keep-alive'}\n"
     ]
    }
   ],
   "source": [
    "resp = getDownload(base_url+\"500\")"
   ]
  },
  {
   "cell_type": "markdown",
   "metadata": {},
   "source": [
    "## cookie/session 이용하기"
   ]
  },
  {
   "cell_type": "markdown",
   "metadata": {},
   "source": [
    "### postDownload 함수 만들기"
   ]
  },
  {
   "cell_type": "code",
   "execution_count": 58,
   "metadata": {},
   "outputs": [],
   "source": [
    "# postDownload 함수 정의\n",
    "headers = {\"user-agent\": \"Mozilla/5.0\"}  # 상세한 정보는 생략해도 됨\n",
    "base_retries = 3\n",
    "\n",
    "def postDownload(url, data=None, cookie=None, retries=base_retries):\n",
    "    resp = None\n",
    "\n",
    "    try:\n",
    "        resp = requests.post(url, data=data, cookies=cookie, headers=headers)\n",
    "        resp.raise_for_status()\n",
    "    except requests.exceptions.HTTPError as e:\n",
    "        if 500 <= resp.status_code < 600 and retries > 0:\n",
    "            print(\"Retries: {0}\".format(base_retries - retries + 1))\n",
    "            return postDownload(url, data, cookie, retries - 1)\n",
    "        else:\n",
    "            print(resp.status_code)\n",
    "            print(resp.reason)\n",
    "            print(resp.headers)\n",
    "    \n",
    "    return resp"
   ]
  },
  {
   "cell_type": "markdown",
   "metadata": {},
   "source": [
    "### pythonscraping.com 사이트에서 post 메서드 동작 확인 해보기"
   ]
  },
  {
   "cell_type": "markdown",
   "metadata": {},
   "source": [
    "- [pythonscraping.com](http://pythonscraping.com/)"
   ]
  },
  {
   "cell_type": "code",
   "execution_count": 59,
   "metadata": {},
   "outputs": [],
   "source": [
    "url = \"http://pythonscraping.com/pages/files/processing.php\""
   ]
  },
  {
   "cell_type": "markdown",
   "metadata": {},
   "source": [
    "- http://pythonscraping.com/pages/files/form.html 사이트에서 submit 하면, <br>\n",
    "   http://pythonscraping.com/pages/files/processing.php 로 redirect 되기 때문에 프로그램에서 호출할 때는<br>\n",
    "   redirect 된 페이지 url을 호출해야 동작함"
   ]
  },
  {
   "cell_type": "code",
   "execution_count": 60,
   "metadata": {},
   "outputs": [],
   "source": [
    "# 파라미터 없이 post 메서드 호출\n",
    "html = postDownload(url)"
   ]
  },
  {
   "cell_type": "code",
   "execution_count": 61,
   "metadata": {},
   "outputs": [
    {
     "name": "stdout",
     "output_type": "stream",
     "text": [
      "200\n",
      "None\n",
      "{'user-agent': 'Mozilla/5.0', 'Accept-Encoding': 'gzip, deflate', 'Accept': '*/*', 'Connection': 'keep-alive', 'Content-Length': '0'}\n",
      "{'Date': 'Thu, 07 Mar 2019 18:41:45 GMT', 'Server': 'Apache', 'Keep-Alive': 'timeout=5, max=100', 'Connection': 'Keep-Alive', 'Transfer-Encoding': 'chunked', 'Content-Type': 'text/html; charset=UTF-8'}\n",
      "Hello there,  !\n"
     ]
    }
   ],
   "source": [
    "print(html.status_code)\n",
    "print(html.request.body)    # data 파라미터에 값이 전달되지 않았음 (None)\n",
    "print(html.request.headers)\n",
    "\n",
    "print(html.headers)\n",
    "print(html.text)"
   ]
  },
  {
   "cell_type": "code",
   "execution_count": 62,
   "metadata": {},
   "outputs": [],
   "source": [
    "# data 파라미터에 요청값 포함하여 post 메서드 호출\n",
    "html = postDownload(url, {\"firstname\":\"alex\", \"lastname\":\"이\"})    # data={\"firstname\":\"alex\", \"lastname\":\"이\"}"
   ]
  },
  {
   "cell_type": "code",
   "execution_count": 63,
   "metadata": {
    "scrolled": true
   },
   "outputs": [
    {
     "name": "stdout",
     "output_type": "stream",
     "text": [
      "200\n",
      "firstname=alex&lastname=%EC%9D%B4\n",
      "{'user-agent': 'Mozilla/5.0', 'Accept-Encoding': 'gzip, deflate', 'Accept': '*/*', 'Connection': 'keep-alive', 'Content-Length': '33', 'Content-Type': 'application/x-www-form-urlencoded'}\n",
      "{'Date': 'Thu, 07 Mar 2019 18:42:07 GMT', 'Server': 'Apache', 'Keep-Alive': 'timeout=5, max=100', 'Connection': 'Keep-Alive', 'Transfer-Encoding': 'chunked', 'Content-Type': 'text/html; charset=UTF-8'}\n",
      "Hello there, alex 이!\n"
     ]
    }
   ],
   "source": [
    "print(html.status_code)\n",
    "print(html.request.body)\n",
    "print(html.request.headers)\n",
    "\n",
    "print(html.headers)\n",
    "print(html.text)"
   ]
  },
  {
   "cell_type": "code",
   "execution_count": 65,
   "metadata": {},
   "outputs": [
    {
     "name": "stdout",
     "output_type": "stream",
     "text": [
      "200\n",
      "None\n",
      "{'user-agent': 'Mozilla/5.0', 'Accept-Encoding': 'gzip, deflate', 'Accept': '*/*', 'Connection': 'keep-alive'}\n",
      "{'Date': 'Thu, 07 Mar 2019 18:42:37 GMT', 'Server': 'Apache', 'Keep-Alive': 'timeout=5, max=100', 'Connection': 'Keep-Alive', 'Transfer-Encoding': 'chunked', 'Content-Type': 'text/html; charset=UTF-8'}\n",
      "Hello there,  !\n"
     ]
    }
   ],
   "source": [
    "# get 메서드로 호출해보기\n",
    "html = getDownload(url, {\"firstname\":\"alex\", \"lastname\":\"이\"})     # 해당 url은 get 메서드는 지원하지 않음\n",
    "print(html.status_code)\n",
    "print(html.request.body)\n",
    "print(html.request.headers)\n",
    "print(html.headers)\n",
    "print(html.text)"
   ]
  },
  {
   "cell_type": "markdown",
   "metadata": {},
   "source": [
    "### pythonscraping.com 사이트에서 cookie 동작 확인 해보기"
   ]
  },
  {
   "cell_type": "code",
   "execution_count": 66,
   "metadata": {},
   "outputs": [],
   "source": [
    "# login 사이트(http://pythonscraping.com/pages/cookies/login.html)는 cookie를 요구함. login 사이트에 접속해서 form에서 전달하는 key명칭을 확인한다.\n",
    "url = \"http://pythonscraping.com/pages/cookies/welcome.php\"    # redirect 되는 페이지"
   ]
  },
  {
   "cell_type": "code",
   "execution_count": 67,
   "metadata": {},
   "outputs": [],
   "source": [
    "html = postDownload(url, {\"username\":\"test\", \"password\":\"password\"})    # login 사이트에서 확인한 key명칭을 사용하여 value 전달"
   ]
  },
  {
   "cell_type": "code",
   "execution_count": 68,
   "metadata": {},
   "outputs": [
    {
     "name": "stdout",
     "output_type": "stream",
     "text": [
      "200\n",
      "username=test&password=password\n",
      "{'user-agent': 'Mozilla/5.0', 'Accept-Encoding': 'gzip, deflate', 'Accept': '*/*', 'Connection': 'keep-alive', 'Content-Length': '31', 'Content-Type': 'application/x-www-form-urlencoded'}\n",
      "{'Date': 'Thu, 07 Mar 2019 18:44:13 GMT', 'Server': 'Apache', 'Set-Cookie': 'loggedin=1, username=test', 'Keep-Alive': 'timeout=5, max=100', 'Connection': 'Keep-Alive', 'Transfer-Encoding': 'chunked', 'Content-Type': 'text/html; charset=UTF-8'}\n",
      "\n",
      "<h2>Welcome to the Website!</h2>\n",
      "Whoops! You logged in wrong. Try again with any username, and the password \"password\"<br><a href=\"login.html\">Log in here</a>\n"
     ]
    }
   ],
   "source": [
    "print(html.status_code)\n",
    "print(html.request.body)\n",
    "print(html.request.headers)\n",
    "print(html.headers)\n",
    "print(html.text)"
   ]
  },
  {
   "cell_type": "markdown",
   "metadata": {},
   "source": [
    "- cookie를 전달하지 않아서 login 되지 않았음"
   ]
  },
  {
   "cell_type": "code",
   "execution_count": 69,
   "metadata": {},
   "outputs": [],
   "source": [
    "cookie = html.cookies.get_dict()    # response 된 객체로부터 cookie 값을 얻음"
   ]
  },
  {
   "cell_type": "code",
   "execution_count": 70,
   "metadata": {},
   "outputs": [],
   "source": [
    "html = postDownload(url, {\"username\":\"test\", \"password\":\"password\"}, cookie)    # cookie 값을 포함하여 login 시도"
   ]
  },
  {
   "cell_type": "code",
   "execution_count": 71,
   "metadata": {},
   "outputs": [
    {
     "name": "stdout",
     "output_type": "stream",
     "text": [
      "200\n",
      "username=test&password=password\n",
      "{'user-agent': 'Mozilla/5.0', 'Accept-Encoding': 'gzip, deflate', 'Accept': '*/*', 'Connection': 'keep-alive', 'Cookie': 'loggedin=1; username=test', 'Content-Length': '31', 'Content-Type': 'application/x-www-form-urlencoded'}\n",
      "{'Date': 'Thu, 07 Mar 2019 18:44:42 GMT', 'Server': 'Apache', 'Set-Cookie': 'loggedin=1, username=test', 'Keep-Alive': 'timeout=5, max=100', 'Connection': 'Keep-Alive', 'Transfer-Encoding': 'chunked', 'Content-Type': 'text/html; charset=UTF-8'}\n",
      "\n",
      "<h2>Welcome to the Website!</h2>\n",
      "You have logged in successfully! <br><a href=\"profile.php\">Check out your profile!</a>\n"
     ]
    }
   ],
   "source": [
    "print(html.status_code)\n",
    "print(html.request.body)\n",
    "print(html.request.headers)\n",
    "print(html.headers)\n",
    "print(html.text)"
   ]
  },
  {
   "cell_type": "markdown",
   "metadata": {},
   "source": [
    "### pythonscraping.com 사이트에서 session 이용해보기"
   ]
  },
  {
   "cell_type": "code",
   "execution_count": 72,
   "metadata": {},
   "outputs": [],
   "source": [
    "url = \"http://pythonscraping.com/pages/cookies/welcome.php\""
   ]
  },
  {
   "cell_type": "code",
   "execution_count": 73,
   "metadata": {},
   "outputs": [],
   "source": [
    "# session 객체 내에 있는 get/post 메서드를 사용하면 session 정보를 자동으로 관리해줌\n",
    "session = requests.Session()\n",
    "# session.get(url)"
   ]
  },
  {
   "cell_type": "code",
   "execution_count": 76,
   "metadata": {},
   "outputs": [],
   "source": [
    "html = session.post(url, data={\"username\":\"test\", \"password\":\"password\"})    # 처음 호출 했을 때 로그인은 실패하지만, session 객체가 cookie 값을 받음\n",
    "\n",
    "html = session.post(url, data={\"username\":\"test\", \"password\":\"password\"})    # 재호출 하면 정상 로그인됨"
   ]
  },
  {
   "cell_type": "code",
   "execution_count": 77,
   "metadata": {},
   "outputs": [
    {
     "name": "stdout",
     "output_type": "stream",
     "text": [
      "200\n",
      "username=test&password=password\n",
      "{'User-Agent': 'python-requests/2.21.0', 'Accept-Encoding': 'gzip, deflate', 'Accept': '*/*', 'Connection': 'keep-alive', 'Cookie': 'loggedin=1; username=test', 'Content-Length': '31', 'Content-Type': 'application/x-www-form-urlencoded'}\n",
      "{'Date': 'Thu, 07 Mar 2019 18:52:16 GMT', 'Server': 'Apache', 'Set-Cookie': 'loggedin=1, username=test', 'Keep-Alive': 'timeout=5, max=99', 'Connection': 'Keep-Alive', 'Transfer-Encoding': 'chunked', 'Content-Type': 'text/html; charset=UTF-8'}\n",
      "\n",
      "<h2>Welcome to the Website!</h2>\n",
      "You have logged in successfully! <br><a href=\"profile.php\">Check out your profile!</a>\n"
     ]
    }
   ],
   "source": [
    "print(html.status_code)\n",
    "print(html.request.body)\n",
    "print(html.request.headers)\n",
    "print(html.headers)\n",
    "print(html.text)"
   ]
  },
  {
   "cell_type": "markdown",
   "metadata": {},
   "source": [
    "## 공공데이터포털 데이터 활용하기"
   ]
  },
  {
   "cell_type": "markdown",
   "metadata": {},
   "source": [
    "[공공데이터포털](https://www.data.go.kr/) 회원가입, 데이터 활용 신청, 키 발급 후 1시간 경과하면 이용 가능하다.(상세기능정보의 미리보기 기능으로 확인 가능)\n",
    "\n",
    "해당 사이트에 첨부된 문서를 참고해도 되지만,<br>\n",
    "상세기능정보 미리보기에서 생성된 URL과 파라미터를 아래와 같이 편집하여 사용한다.\n",
    "\n",
    "- 아래 예는 \"시도별 실시간 측정정보 조회\" 미리보기를 했을 때 보여주는 화면의 URL 이다. \n",
    "- 파라미터에는 _returnType을 추가해준다.\n",
    "- serviceKey 는 각자 상이합니다."
   ]
  },
  {
   "cell_type": "code",
   "execution_count": 103,
   "metadata": {},
   "outputs": [],
   "source": [
    "url = \"http://openapi.airkorea.or.kr/openapi/services/rest/ArpltnInforInqireSvc/getCtprvnRltmMesureDnsty\"\n",
    "\n",
    "param = {    \n",
    "    \"serviceKey\":\"g%2FYLqRzCjV7pKTz%2BC9G5ntbXmJrCXuB2BDiV9crEksH5lKVqt6tLWJRHIKckE0avIPYeBiqVman%2FqgPr1xILdg%3D%3D\",\n",
    "    \"numOfRows\":\"20\",\n",
    "    \"pageNo\":\"1\",\n",
    "    \"sidoName\":\"서울\",\n",
    "    \"ver\":\"1.3\",\n",
    "    \"_returnType\":\"json\"\n",
    "}"
   ]
  },
  {
   "cell_type": "markdown",
   "metadata": {},
   "source": [
    "serviceKey는 utf-8로 제공되지만, 해당 사이트는 binary를 요구하기 때문에 변환 해준다."
   ]
  },
  {
   "cell_type": "code",
   "execution_count": 104,
   "metadata": {},
   "outputs": [],
   "source": [
    "param['serviceKey'] = requests.utils.unquote(param['serviceKey'])    # string to binary"
   ]
  },
  {
   "cell_type": "code",
   "execution_count": 105,
   "metadata": {},
   "outputs": [],
   "source": [
    "html = getDownload(url, param=param)"
   ]
  },
  {
   "cell_type": "code",
   "execution_count": 106,
   "metadata": {
    "scrolled": true
   },
   "outputs": [
    {
     "data": {
      "text/plain": [
       "'{\"list\":[{\"_returnType\":\"json\",\"coGrade\":\"1\",\"coValue\":\"0.5\",\"dataTerm\":\"\",\"dataTime\":\"2019-03-08 03:00\",\"khaiGrade\":\"2\",\"khaiValue\":\"74\",\"mangName\":\"도시대기\",\"no2Grade\":\"1\",\"no2Value\":\"0.030\",\"numOfRows\":\"10\",\"o3Grade\":\"1\",\"o3Value\":\"0.028\",\"pageNo\":\"1\",\"pm10Grade\":\"2\",\"pm10Grade1h\":\"2\",\"pm10Value\":\"46\",\"pm10Value24\":\"50\",\"pm25Grade\":\"2\",\"pm25Grade1h\":\"2\",\"pm25Value\":\"23\",\"pm25Value24\":\"25\",\"resultCode\":\"\",\"resultMsg\":\"\",\"rnum\":0,\"serviceKey\":\"\",\"sidoName\":\"\",\"so2Grade\":\"1\",\"so2Value\":\"0.004\",\"stationCode\":\"\",\"stationName\":\"중구\",\"totalCount\":\"\",\"ver\":\"\"},{\"_returnType\":\"json\",\"coGrade\":\"1\",\"coValue\":\"0.4\",\"dataTerm\":\"\",\"dataTime\":\"2019-03-08 03:00\",\"khaiGrade\":\"2\",\"khaiValue\":\"80\",\"mangName\":\"도로변대기\",\"no2Grade\":\"1\",\"no2Value\":\"0.027\",\"numOfRows\":\"10\",\"o3Grade\":\"1\",\"o3Value\":\"0.023\",\"pageNo\":\"1\",\"pm10Grade\":\"2\",\"pm10Grade1h\":\"2\",\"pm10Value\":\"46\",\"pm10Value24\":\"60\",\"pm25Grade\":\"2\",\"pm25Grade1h\":\"2\",\"pm25Value\":\"21\",\"pm25Value24\":\"27\",\"resultCode\":\"\",\"resultMsg\":\"\",\"rnum\":0,\"serviceKey\":\"\",\"sidoName\":\"\",\"so2Grade\":\"1\",\"so2Value\":\"0.003\",\"stationCode\":\"\",\"stationName\":\"한강대로\",\"totalCount\":\"\",\"ver\":\"\"},{\"_returnType\":\"json\",\"coGrade\":\"1\",\"coValue\":\"0.5\",\"dataTerm\":\"\",\"dataTime\":\"2019-03-08 03:00\",\"khaiGrade\":\"2\",\"khaiValue\":\"79\",\"mangName\":\"도시대기\",\"no2Grade\":\"1\",\"no2Value\":\"0.021\",\"numOfRows\":\"10\",\"o3Grade\":\"2\",\"o3Value\":\"0.031\",\"pageNo\":\"1\",\"pm10Grade\":\"2\",\"pm10Grade1h\":\"2\",\"pm10Value\":\"41\",\"pm10Value24\":\"49\",\"pm25Grade\":\"2\",\"pm25Grade1h\":\"2\",\"pm25Value\":\"22\",\"pm25Value24\":\"27\",\"resultCode\":\"\",\"resultMsg\":\"\",\"rnum\":0,\"serviceKey\":\"\",\"sidoName\":\"\",\"so2Grade\":\"1\",\"so2Value\":\"0.004\",\"stationCode\":\"\",\"stationName\":\"종로구\",\"totalCount\":\"\",\"ver\":\"\"},{\"_returnType\":\"json\",\"coGrade\":\"1\",\"coValue\":\"0.5\",\"dataTerm\":\"\",\"dataTime\":\"2019-03-08 03:00\",\"khaiGrade\":\"2\",\"khaiValue\":\"85\",\"mangName\":\"도로변대기\",\"no2Grade\":\"1\",\"no2Value\":\"0.028\",\"numOfRows\":\"10\",\"o3Grade\":\"1\",\"o3Value\":\"0.026\",\"pageNo\":\"1\",\"pm10Grade\":\"2\",\"pm10Grade1h\":\"2\",\"pm10Value\":\"45\",\"pm10Value24\":\"50\",\"pm25Grade\":\"2\",\"pm25Grade1h\":\"2\",\"pm25Value\":\"24\",\"pm25Value24\":\"29\",\"resultCode\":\"\",\"resultMsg\":\"\",\"rnum\":0,\"serviceKey\":\"\",\"sidoName\":\"\",\"so2Grade\":\"1\",\"so2Value\":\"0.004\",\"stationCode\":\"\",\"stationName\":\"청계천로\",\"totalCount\":\"\",\"ver\":\"\"},{\"_returnType\":\"json\",\"coGrade\":\"1\",\"coValue\":\"0.5\",\"dataTerm\":\"\",\"dataTime\":\"2019-03-08 03:00\",\"khaiGrade\":\"2\",\"khaiValue\":\"79\",\"mangName\":\"도로변대기\",\"no2Grade\":\"1\",\"no2Value\":\"0.020\",\"numOfRows\":\"10\",\"o3Grade\":\"2\",\"o3Value\":\"0.032\",\"pageNo\":\"1\",\"pm10Grade\":\"2\",\"pm10Grade1h\":\"2\",\"pm10Value\":\"48\",\"pm10Value24\":\"54\",\"pm25Grade\":\"2\",\"pm25Grade1h\":\"2\",\"pm25Value\":\"22\",\"pm25Value24\":\"27\",\"resultCode\":\"\",\"resultMsg\":\"\",\"rnum\":0,\"serviceKey\":\"\",\"sidoName\":\"\",\"so2Grade\":\"1\",\"so2Value\":\"0.004\",\"stationCode\":\"\",\"stationName\":\"종로\",\"totalCount\":\"\",\"ver\":\"\"},{\"_returnType\":\"json\",\"coGrade\":\"1\",\"coValue\":\"0.5\",\"dataTerm\":\"\",\"dataTime\":\"2019-03-08 03:00\",\"khaiGrade\":\"2\",\"khaiValue\":\"85\",\"mangName\":\"도시대기\",\"no2Grade\":\"2\",\"no2Value\":\"0.040\",\"numOfRows\":\"10\",\"o3Grade\":\"1\",\"o3Value\":\"0.011\",\"pageNo\":\"1\",\"pm10Grade\":\"2\",\"pm10Grade1h\":\"2\",\"pm10Value\":\"42\",\"pm10Value24\":\"47\",\"pm25Grade\":\"2\",\"pm25Grade1h\":\"2\",\"pm25Value\":\"23\",\"pm25Value24\":\"29\",\"resultCode\":\"\",\"resultMsg\":\"\",\"rnum\":0,\"serviceKey\":\"\",\"sidoName\":\"\",\"so2Grade\":\"1\",\"so2Value\":\"0.003\",\"stationCode\":\"\",\"stationName\":\"용산구\",\"totalCount\":\"\",\"ver\":\"\"},{\"_returnType\":\"json\",\"coGrade\":\"1\",\"coValue\":\"1.0\",\"dataTerm\":\"\",\"dataTime\":\"2019-03-08 03:00\",\"khaiGrade\":\"2\",\"khaiValue\":\"85\",\"mangName\":\"도시대기\",\"no2Grade\":\"2\",\"no2Value\":\"0.043\",\"numOfRows\":\"10\",\"o3Grade\":\"1\",\"o3Value\":\"0.009\",\"pageNo\":\"1\",\"pm10Grade\":\"2\",\"pm10Grade1h\":\"2\",\"pm10Value\":\"50\",\"pm10Value24\":\"57\",\"pm25Grade\":\"2\",\"pm25Grade1h\":\"2\",\"pm25Value\":\"24\",\"pm25Value24\":\"29\",\"resultCode\":\"\",\"resultMsg\":\"\",\"rnum\":0,\"serviceKey\":\"\",\"sidoName\":\"\",\"so2Grade\":\"1\",\"so2Value\":\"0.005\",\"stationCode\":\"\",\"stationName\":\"광진구\",\"totalCount\":\"\",\"ver\":\"\"},{\"_returnType\":\"json\",\"coGrade\":\"1\",\"coValue\":\"0.5\",\"dataTerm\":\"\",\"dataTime\":\"2019-03-08 03:00\",\"khaiGrade\":\"2\",\"khaiValue\":\"85\",\"mangName\":\"도시대기\",\"no2Grade\":\"2\",\"no2Value\":\"0.036\",\"numOfRows\":\"10\",\"o3Grade\":\"1\",\"o3Value\":\"0.017\",\"pageNo\":\"1\",\"pm10Grade\":\"2\",\"pm10Grade1h\":\"2\",\"pm10Value\":\"56\",\"pm10Value24\":\"65\",\"pm25Grade\":\"2\",\"pm25Grade1h\":\"2\",\"pm25Value\":\"29\",\"pm25Value24\":\"29\",\"resultCode\":\"\",\"resultMsg\":\"\",\"rnum\":0,\"serviceKey\":\"\",\"sidoName\":\"\",\"so2Grade\":\"1\",\"so2Value\":\"0.003\",\"stationCode\":\"\",\"stationName\":\"성동구\",\"totalCount\":\"\",\"ver\":\"\"},{\"_returnType\":\"json\",\"coGrade\":\"1\",\"coValue\":\"0.4\",\"dataTerm\":\"\",\"dataTime\":\"2019-03-08 03:00\",\"khaiGrade\":\"2\",\"khaiValue\":\"83\",\"mangName\":\"도로변대기\",\"no2Grade\":\"2\",\"no2Value\":\"0.047\",\"numOfRows\":\"10\",\"o3Grade\":\"1\",\"o3Value\":\"0.011\",\"pageNo\":\"1\",\"pm10Grade\":\"2\",\"pm10Grade1h\":\"2\",\"pm10Value\":\"55\",\"pm10Value24\":\"63\",\"pm25Grade\":\"2\",\"pm25Grade1h\":\"2\",\"pm25Value\":\"23\",\"pm25Value24\":\"28\",\"resultCode\":\"\",\"resultMsg\":\"\",\"rnum\":0,\"serviceKey\":\"\",\"sidoName\":\"\",\"so2Grade\":\"1\",\"so2Value\":\"0.004\",\"stationCode\":\"\",\"stationName\":\"강변북로\",\"totalCount\":\"\",\"ver\":\"\"},{\"_returnType\":\"json\",\"coGrade\":\"1\",\"coValue\":\"0.6\",\"dataTerm\":\"\",\"dataTime\":\"2019-03-08 03:00\",\"khaiGrade\":\"2\",\"khaiValue\":\"87\",\"mangName\":\"도시대기\",\"no2Grade\":\"2\",\"no2Value\":\"0.032\",\"numOfRows\":\"10\",\"o3Grade\":\"1\",\"o3Value\":\"0.015\",\"pageNo\":\"1\",\"pm10Grade\":\"2\",\"pm10Grade1h\":\"2\",\"pm10Value\":\"44\",\"pm10Value24\":\"48\",\"pm25Grade\":\"2\",\"pm25Grade1h\":\"2\",\"pm25Value\":\"24\",\"pm25Value24\":\"30\",\"resultCode\":\"\",\"resultMsg\":\"\",\"rnum\":0,\"serviceKey\":\"\",\"sidoName\":\"\",\"so2Grade\":\"1\",\"so2Value\":\"0.007\",\"stationCode\":\"\",\"stationName\":\"중랑구\",\"totalCount\":\"\",\"ver\":\"\"},{\"_returnType\":\"json\",\"coGrade\":\"1\",\"coValue\":\"0.5\",\"dataTerm\":\"\",\"dataTime\":\"2019-03-08 03:00\",\"khaiGrade\":\"2\",\"khaiValue\":\"77\",\"mangName\":\"도시대기\",\"no2Grade\":\"1\",\"no2Value\":\"0.019\",\"numOfRows\":\"10\",\"o3Grade\":\"2\",\"o3Value\":\"0.032\",\"pageNo\":\"1\",\"pm10Grade\":\"2\",\"pm10Grade1h\":\"2\",\"pm10Value\":\"41\",\"pm10Value24\":\"47\",\"pm25Grade\":\"2\",\"pm25Grade1h\":\"2\",\"pm25Value\":\"21\",\"pm25Value24\":\"26\",\"resultCode\":\"\",\"resultMsg\":\"\",\"rnum\":0,\"serviceKey\":\"\",\"sidoName\":\"\",\"so2Grade\":\"1\",\"so2Value\":\"0.005\",\"stationCode\":\"\",\"stationName\":\"동대문구\",\"totalCount\":\"\",\"ver\":\"\"},{\"_returnType\":\"json\",\"coGrade\":\"1\",\"coValue\":\"0.4\",\"dataTerm\":\"\",\"dataTime\":\"2019-03-08 03:00\",\"khaiGrade\":\"2\",\"khaiValue\":\"92\",\"mangName\":\"도로변대기\",\"no2Grade\":\"1\",\"no2Value\":\"0.027\",\"numOfRows\":\"10\",\"o3Grade\":\"1\",\"o3Value\":\"0.027\",\"pageNo\":\"1\",\"pm10Grade\":\"2\",\"pm10Grade1h\":\"2\",\"pm10Value\":\"45\",\"pm10Value24\":\"53\",\"pm25Grade\":\"2\",\"pm25Grade1h\":\"2\",\"pm25Value\":\"24\",\"pm25Value24\":\"32\",\"resultCode\":\"\",\"resultMsg\":\"\",\"rnum\":0,\"serviceKey\":\"\",\"sidoName\":\"\",\"so2Grade\":\"1\",\"so2Value\":\"0.004\",\"stationCode\":\"\",\"stationName\":\"홍릉로\",\"totalCount\":\"\",\"ver\":\"\"},{\"_returnType\":\"json\",\"coGrade\":\"1\",\"coValue\":\"1.0\",\"dataTerm\":\"\",\"dataTime\":\"2019-03-08 03:00\",\"khaiGrade\":\"2\",\"khaiValue\":\"79\",\"mangName\":\"도시대기\",\"no2Grade\":\"2\",\"no2Value\":\"0.039\",\"numOfRows\":\"10\",\"o3Grade\":\"1\",\"o3Value\":\"0.016\",\"pageNo\":\"1\",\"pm10Grade\":\"2\",\"pm10Grade1h\":\"2\",\"pm10Value\":\"52\",\"pm10Value24\":\"59\",\"pm25Grade\":\"2\",\"pm25Grade1h\":\"2\",\"pm25Value\":\"19\",\"pm25Value24\":\"27\",\"resultCode\":\"\",\"resultMsg\":\"\",\"rnum\":0,\"serviceKey\":\"\",\"sidoName\":\"\",\"so2Grade\":\"1\",\"so2Value\":\"0.004\",\"stationCode\":\"\",\"stationName\":\"성북구\",\"totalCount\":\"\",\"ver\":\"\"},{\"_returnType\":\"json\",\"coGrade\":\"1\",\"coValue\":\"0.6\",\"dataTerm\":\"\",\"dataTime\":\"2019-03-08 03:00\",\"khaiGrade\":\"2\",\"khaiValue\":\"82\",\"mangName\":\"도로변대기\",\"no2Grade\":\"2\",\"no2Value\":\"0.032\",\"numOfRows\":\"10\",\"o3Grade\":\"1\",\"o3Value\":\"0.010\",\"pageNo\":\"1\",\"pm10Grade\":\"2\",\"pm10Grade1h\":\"2\",\"pm10Value\":\"43\",\"pm10Value24\":\"56\",\"pm25Grade\":\"2\",\"pm25Grade1h\":\"2\",\"pm25Value\":\"20\",\"pm25Value24\":\"28\",\"resultCode\":\"\",\"resultMsg\":\"\",\"rnum\":0,\"serviceKey\":\"\",\"sidoName\":\"\",\"so2Grade\":\"1\",\"so2Value\":\"0.003\",\"stationCode\":\"\",\"stationName\":\"정릉로\",\"totalCount\":\"\",\"ver\":\"\"},{\"_returnType\":\"json\",\"coGrade\":\"1\",\"coValue\":\"0.5\",\"dataTerm\":\"\",\"dataTime\":\"2019-03-08 03:00\",\"khaiGrade\":\"2\",\"khaiValue\":\"77\",\"mangName\":\"도시대기\",\"no2Grade\":\"1\",\"no2Value\":\"0.023\",\"numOfRows\":\"10\",\"o3Grade\":\"1\",\"o3Value\":\"0.023\",\"pageNo\":\"1\",\"pm10Grade\":\"2\",\"pm10Grade1h\":\"2\",\"pm10Value\":\"45\",\"pm10Value24\":\"52\",\"pm25Grade\":\"2\",\"pm25Grade1h\":\"2\",\"pm25Value\":\"23\",\"pm25Value24\":\"26\",\"resultCode\":\"\",\"resultMsg\":\"\",\"rnum\":0,\"serviceKey\":\"\",\"sidoName\":\"\",\"so2Grade\":\"1\",\"so2Value\":\"0.005\",\"stationCode\":\"\",\"stationName\":\"도봉구\",\"totalCount\":\"\",\"ver\":\"\"},{\"_returnType\":\"json\",\"coGrade\":\"1\",\"coValue\":\"0.6\",\"dataTerm\":\"\",\"dataTime\":\"2019-03-08 03:00\",\"khaiGrade\":\"2\",\"khaiValue\":\"70\",\"mangName\":\"도시대기\",\"no2Grade\":\"1\",\"no2Value\":\"0.018\",\"numOfRows\":\"10\",\"o3Grade\":\"1\",\"o3Value\":\"0.028\",\"pageNo\":\"1\",\"pm10Grade\":\"2\",\"pm10Grade1h\":\"2\",\"pm10Value\":\"33\",\"pm10Value24\":\"50\",\"pm25Grade\":\"2\",\"pm25Grade1h\":\"2\",\"pm25Value\":\"17\",\"pm25Value24\":\"23\",\"resultCode\":\"\",\"resultMsg\":\"\",\"rnum\":0,\"serviceKey\":\"\",\"sidoName\":\"\",\"so2Grade\":\"1\",\"so2Value\":\"0.005\",\"stationCode\":\"\",\"stationName\":\"은평구\",\"totalCount\":\"\",\"ver\":\"\"},{\"_returnType\":\"json\",\"coGrade\":\"1\",\"coValue\":\"1.2\",\"dataTerm\":\"\",\"dataTime\":\"2019-03-08 03:00\",\"khaiGrade\":\"2\",\"khaiValue\":\"77\",\"mangName\":\"도시대기\",\"no2Grade\":\"1\",\"no2Value\":\"0.015\",\"numOfRows\":\"10\",\"o3Grade\":\"1\",\"o3Value\":\"0.027\",\"pageNo\":\"1\",\"pm10Grade\":\"2\",\"pm10Grade1h\":\"2\",\"pm10Value\":\"41\",\"pm10Value24\":\"52\",\"pm25Grade\":\"2\",\"pm25Grade1h\":\"2\",\"pm25Value\":\"17\",\"pm25Value24\":\"26\",\"resultCode\":\"\",\"resultMsg\":\"\",\"rnum\":0,\"serviceKey\":\"\",\"sidoName\":\"\",\"so2Grade\":\"1\",\"so2Value\":\"0.005\",\"stationCode\":\"\",\"stationName\":\"서대문구\",\"totalCount\":\"\",\"ver\":\"\"},{\"_returnType\":\"json\",\"coGrade\":\"\",\"coValue\":\"-\",\"dataTerm\":\"\",\"dataTime\":\"2019-03-08 03:00\",\"khaiGrade\":\"\",\"khaiValue\":\"-\",\"mangName\":\"도시대기\",\"no2Grade\":\"\",\"no2Value\":\"-\",\"numOfRows\":\"10\",\"o3Grade\":\"\",\"o3Value\":\"-\",\"pageNo\":\"1\",\"pm10Grade\":\"2\",\"pm10Grade1h\":\"2\",\"pm10Value\":\"50\",\"pm10Value24\":\"56\",\"pm25Grade\":\"2\",\"pm25Grade1h\":\"2\",\"pm25Value\":\"21\",\"pm25Value24\":\"27\",\"resultCode\":\"\",\"resultMsg\":\"\",\"rnum\":0,\"serviceKey\":\"\",\"sidoName\":\"\",\"so2Grade\":\"\",\"so2Value\":\"-\",\"stationCode\":\"\",\"stationName\":\"마포구\",\"totalCount\":\"\",\"ver\":\"\"},{\"_returnType\":\"json\",\"coGrade\":\"1\",\"coValue\":\"0.7\",\"dataTerm\":\"\",\"dataTime\":\"2019-03-08 03:00\",\"khaiGrade\":\"2\",\"khaiValue\":\"87\",\"mangName\":\"도로변대기\",\"no2Grade\":\"2\",\"no2Value\":\"0.036\",\"numOfRows\":\"10\",\"o3Grade\":\"1\",\"o3Value\":\"0.018\",\"pageNo\":\"1\",\"pm10Grade\":\"2\",\"pm10Grade1h\":\"2\",\"pm10Value\":\"49\",\"pm10Value24\":\"56\",\"pm25Grade\":\"2\",\"pm25Grade1h\":\"2\",\"pm25Value\":\"25\",\"pm25Value24\":\"30\",\"resultCode\":\"\",\"resultMsg\":\"\",\"rnum\":0,\"serviceKey\":\"\",\"sidoName\":\"\",\"so2Grade\":\"1\",\"so2Value\":\"0.004\",\"stationCode\":\"\",\"stationName\":\"신촌로\",\"totalCount\":\"\",\"ver\":\"\"},{\"_returnType\":\"json\",\"coGrade\":\"1\",\"coValue\":\"0.4\",\"dataTerm\":\"\",\"dataTime\":\"2019-03-08 03:00\",\"khaiGrade\":\"2\",\"khaiValue\":\"79\",\"mangName\":\"도시대기\",\"no2Grade\":\"2\",\"no2Value\":\"0.031\",\"numOfRows\":\"10\",\"o3Grade\":\"1\",\"o3Value\":\"0.026\",\"pageNo\":\"1\",\"pm10Grade\":\"2\",\"pm10Grade1h\":\"2\",\"pm10Value\":\"53\",\"pm10Value24\":\"59\",\"pm25Grade\":\"2\",\"pm25Grade1h\":\"2\",\"pm25Value\":\"22\",\"pm25Value24\":\"25\",\"resultCode\":\"\",\"resultMsg\":\"\",\"rnum\":0,\"serviceKey\":\"\",\"sidoName\":\"\",\"so2Grade\":\"1\",\"so2Value\":\"0.005\",\"stationCode\":\"\",\"stationName\":\"강서구\",\"totalCount\":\"\",\"ver\":\"\"}],\"parm\":{\"_returnType\":\"json\",\"coGrade\":\"\",\"coValue\":\"\",\"dataTerm\":\"\",\"dataTime\":\"\",\"khaiGrade\":\"\",\"khaiValue\":\"\",\"mangName\":\"\",\"no2Grade\":\"\",\"no2Value\":\"\",\"numOfRows\":\"20\",\"o3Grade\":\"\",\"o3Value\":\"\",\"pageNo\":\"1\",\"pm10Grade\":\"\",\"pm10Grade1h\":\"\",\"pm10Value\":\"\",\"pm10Value24\":\"\",\"pm25Grade\":\"\",\"pm25Grade1h\":\"\",\"pm25Value\":\"\",\"pm25Value24\":\"\",\"resultCode\":\"\",\"resultMsg\":\"\",\"rnum\":0,\"serviceKey\":\"g/YLqRzCjV7pKTz+C9G5ntbXmJrCXuB2BDiV9crEksH5lKVqt6tLWJRHIKckE0avIPYeBiqVman/qgPr1xILdg==\",\"sidoName\":\"서울\",\"so2Grade\":\"\",\"so2Value\":\"\",\"stationCode\":\"\",\"stationName\":\"\",\"totalCount\":\"\",\"ver\":\"1.3\"},\"ArpltnInforInqireSvcVo\":{\"_returnType\":\"json\",\"coGrade\":\"\",\"coValue\":\"\",\"dataTerm\":\"\",\"dataTime\":\"\",\"khaiGrade\":\"\",\"khaiValue\":\"\",\"mangName\":\"\",\"no2Grade\":\"\",\"no2Value\":\"\",\"numOfRows\":\"20\",\"o3Grade\":\"\",\"o3Value\":\"\",\"pageNo\":\"1\",\"pm10Grade\":\"\",\"pm10Grade1h\":\"\",\"pm10Value\":\"\",\"pm10Value24\":\"\",\"pm25Grade\":\"\",\"pm25Grade1h\":\"\",\"pm25Value\":\"\",\"pm25Value24\":\"\",\"resultCode\":\"\",\"resultMsg\":\"\",\"rnum\":0,\"serviceKey\":\"g/YLqRzCjV7pKTz+C9G5ntbXmJrCXuB2BDiV9crEksH5lKVqt6tLWJRHIKckE0avIPYeBiqVman/qgPr1xILdg==\",\"sidoName\":\"서울\",\"so2Grade\":\"\",\"so2Value\":\"\",\"stationCode\":\"\",\"stationName\":\"\",\"totalCount\":\"\",\"ver\":\"1.3\"},\"totalCount\":40}'"
      ]
     },
     "execution_count": 106,
     "metadata": {},
     "output_type": "execute_result"
    }
   ],
   "source": [
    "html.text"
   ]
  },
  {
   "cell_type": "markdown",
   "metadata": {},
   "source": [
    "### json 패키지 사용하기"
   ]
  },
  {
   "cell_type": "code",
   "execution_count": 107,
   "metadata": {},
   "outputs": [],
   "source": [
    "import json"
   ]
  },
  {
   "cell_type": "code",
   "execution_count": 108,
   "metadata": {},
   "outputs": [],
   "source": [
    "result = json.loads(html.text)"
   ]
  },
  {
   "cell_type": "code",
   "execution_count": 109,
   "metadata": {},
   "outputs": [
    {
     "data": {
      "text/plain": [
       "dict_keys(['list', 'parm', 'ArpltnInforInqireSvcVo', 'totalCount'])"
      ]
     },
     "execution_count": 109,
     "metadata": {},
     "output_type": "execute_result"
    }
   ],
   "source": [
    "result.keys()"
   ]
  },
  {
   "cell_type": "code",
   "execution_count": 110,
   "metadata": {},
   "outputs": [
    {
     "data": {
      "text/plain": [
       "[{'_returnType': 'json',\n",
       "  'coGrade': '1',\n",
       "  'coValue': '0.5',\n",
       "  'dataTerm': '',\n",
       "  'dataTime': '2019-03-08 03:00',\n",
       "  'khaiGrade': '2',\n",
       "  'khaiValue': '74',\n",
       "  'mangName': '도시대기',\n",
       "  'no2Grade': '1',\n",
       "  'no2Value': '0.030',\n",
       "  'numOfRows': '10',\n",
       "  'o3Grade': '1',\n",
       "  'o3Value': '0.028',\n",
       "  'pageNo': '1',\n",
       "  'pm10Grade': '2',\n",
       "  'pm10Grade1h': '2',\n",
       "  'pm10Value': '46',\n",
       "  'pm10Value24': '50',\n",
       "  'pm25Grade': '2',\n",
       "  'pm25Grade1h': '2',\n",
       "  'pm25Value': '23',\n",
       "  'pm25Value24': '25',\n",
       "  'resultCode': '',\n",
       "  'resultMsg': '',\n",
       "  'rnum': 0,\n",
       "  'serviceKey': '',\n",
       "  'sidoName': '',\n",
       "  'so2Grade': '1',\n",
       "  'so2Value': '0.004',\n",
       "  'stationCode': '',\n",
       "  'stationName': '중구',\n",
       "  'totalCount': '',\n",
       "  'ver': ''},\n",
       " {'_returnType': 'json',\n",
       "  'coGrade': '1',\n",
       "  'coValue': '0.4',\n",
       "  'dataTerm': '',\n",
       "  'dataTime': '2019-03-08 03:00',\n",
       "  'khaiGrade': '2',\n",
       "  'khaiValue': '80',\n",
       "  'mangName': '도로변대기',\n",
       "  'no2Grade': '1',\n",
       "  'no2Value': '0.027',\n",
       "  'numOfRows': '10',\n",
       "  'o3Grade': '1',\n",
       "  'o3Value': '0.023',\n",
       "  'pageNo': '1',\n",
       "  'pm10Grade': '2',\n",
       "  'pm10Grade1h': '2',\n",
       "  'pm10Value': '46',\n",
       "  'pm10Value24': '60',\n",
       "  'pm25Grade': '2',\n",
       "  'pm25Grade1h': '2',\n",
       "  'pm25Value': '21',\n",
       "  'pm25Value24': '27',\n",
       "  'resultCode': '',\n",
       "  'resultMsg': '',\n",
       "  'rnum': 0,\n",
       "  'serviceKey': '',\n",
       "  'sidoName': '',\n",
       "  'so2Grade': '1',\n",
       "  'so2Value': '0.003',\n",
       "  'stationCode': '',\n",
       "  'stationName': '한강대로',\n",
       "  'totalCount': '',\n",
       "  'ver': ''},\n",
       " {'_returnType': 'json',\n",
       "  'coGrade': '1',\n",
       "  'coValue': '0.5',\n",
       "  'dataTerm': '',\n",
       "  'dataTime': '2019-03-08 03:00',\n",
       "  'khaiGrade': '2',\n",
       "  'khaiValue': '79',\n",
       "  'mangName': '도시대기',\n",
       "  'no2Grade': '1',\n",
       "  'no2Value': '0.021',\n",
       "  'numOfRows': '10',\n",
       "  'o3Grade': '2',\n",
       "  'o3Value': '0.031',\n",
       "  'pageNo': '1',\n",
       "  'pm10Grade': '2',\n",
       "  'pm10Grade1h': '2',\n",
       "  'pm10Value': '41',\n",
       "  'pm10Value24': '49',\n",
       "  'pm25Grade': '2',\n",
       "  'pm25Grade1h': '2',\n",
       "  'pm25Value': '22',\n",
       "  'pm25Value24': '27',\n",
       "  'resultCode': '',\n",
       "  'resultMsg': '',\n",
       "  'rnum': 0,\n",
       "  'serviceKey': '',\n",
       "  'sidoName': '',\n",
       "  'so2Grade': '1',\n",
       "  'so2Value': '0.004',\n",
       "  'stationCode': '',\n",
       "  'stationName': '종로구',\n",
       "  'totalCount': '',\n",
       "  'ver': ''},\n",
       " {'_returnType': 'json',\n",
       "  'coGrade': '1',\n",
       "  'coValue': '0.5',\n",
       "  'dataTerm': '',\n",
       "  'dataTime': '2019-03-08 03:00',\n",
       "  'khaiGrade': '2',\n",
       "  'khaiValue': '85',\n",
       "  'mangName': '도로변대기',\n",
       "  'no2Grade': '1',\n",
       "  'no2Value': '0.028',\n",
       "  'numOfRows': '10',\n",
       "  'o3Grade': '1',\n",
       "  'o3Value': '0.026',\n",
       "  'pageNo': '1',\n",
       "  'pm10Grade': '2',\n",
       "  'pm10Grade1h': '2',\n",
       "  'pm10Value': '45',\n",
       "  'pm10Value24': '50',\n",
       "  'pm25Grade': '2',\n",
       "  'pm25Grade1h': '2',\n",
       "  'pm25Value': '24',\n",
       "  'pm25Value24': '29',\n",
       "  'resultCode': '',\n",
       "  'resultMsg': '',\n",
       "  'rnum': 0,\n",
       "  'serviceKey': '',\n",
       "  'sidoName': '',\n",
       "  'so2Grade': '1',\n",
       "  'so2Value': '0.004',\n",
       "  'stationCode': '',\n",
       "  'stationName': '청계천로',\n",
       "  'totalCount': '',\n",
       "  'ver': ''},\n",
       " {'_returnType': 'json',\n",
       "  'coGrade': '1',\n",
       "  'coValue': '0.5',\n",
       "  'dataTerm': '',\n",
       "  'dataTime': '2019-03-08 03:00',\n",
       "  'khaiGrade': '2',\n",
       "  'khaiValue': '79',\n",
       "  'mangName': '도로변대기',\n",
       "  'no2Grade': '1',\n",
       "  'no2Value': '0.020',\n",
       "  'numOfRows': '10',\n",
       "  'o3Grade': '2',\n",
       "  'o3Value': '0.032',\n",
       "  'pageNo': '1',\n",
       "  'pm10Grade': '2',\n",
       "  'pm10Grade1h': '2',\n",
       "  'pm10Value': '48',\n",
       "  'pm10Value24': '54',\n",
       "  'pm25Grade': '2',\n",
       "  'pm25Grade1h': '2',\n",
       "  'pm25Value': '22',\n",
       "  'pm25Value24': '27',\n",
       "  'resultCode': '',\n",
       "  'resultMsg': '',\n",
       "  'rnum': 0,\n",
       "  'serviceKey': '',\n",
       "  'sidoName': '',\n",
       "  'so2Grade': '1',\n",
       "  'so2Value': '0.004',\n",
       "  'stationCode': '',\n",
       "  'stationName': '종로',\n",
       "  'totalCount': '',\n",
       "  'ver': ''},\n",
       " {'_returnType': 'json',\n",
       "  'coGrade': '1',\n",
       "  'coValue': '0.5',\n",
       "  'dataTerm': '',\n",
       "  'dataTime': '2019-03-08 03:00',\n",
       "  'khaiGrade': '2',\n",
       "  'khaiValue': '85',\n",
       "  'mangName': '도시대기',\n",
       "  'no2Grade': '2',\n",
       "  'no2Value': '0.040',\n",
       "  'numOfRows': '10',\n",
       "  'o3Grade': '1',\n",
       "  'o3Value': '0.011',\n",
       "  'pageNo': '1',\n",
       "  'pm10Grade': '2',\n",
       "  'pm10Grade1h': '2',\n",
       "  'pm10Value': '42',\n",
       "  'pm10Value24': '47',\n",
       "  'pm25Grade': '2',\n",
       "  'pm25Grade1h': '2',\n",
       "  'pm25Value': '23',\n",
       "  'pm25Value24': '29',\n",
       "  'resultCode': '',\n",
       "  'resultMsg': '',\n",
       "  'rnum': 0,\n",
       "  'serviceKey': '',\n",
       "  'sidoName': '',\n",
       "  'so2Grade': '1',\n",
       "  'so2Value': '0.003',\n",
       "  'stationCode': '',\n",
       "  'stationName': '용산구',\n",
       "  'totalCount': '',\n",
       "  'ver': ''},\n",
       " {'_returnType': 'json',\n",
       "  'coGrade': '1',\n",
       "  'coValue': '1.0',\n",
       "  'dataTerm': '',\n",
       "  'dataTime': '2019-03-08 03:00',\n",
       "  'khaiGrade': '2',\n",
       "  'khaiValue': '85',\n",
       "  'mangName': '도시대기',\n",
       "  'no2Grade': '2',\n",
       "  'no2Value': '0.043',\n",
       "  'numOfRows': '10',\n",
       "  'o3Grade': '1',\n",
       "  'o3Value': '0.009',\n",
       "  'pageNo': '1',\n",
       "  'pm10Grade': '2',\n",
       "  'pm10Grade1h': '2',\n",
       "  'pm10Value': '50',\n",
       "  'pm10Value24': '57',\n",
       "  'pm25Grade': '2',\n",
       "  'pm25Grade1h': '2',\n",
       "  'pm25Value': '24',\n",
       "  'pm25Value24': '29',\n",
       "  'resultCode': '',\n",
       "  'resultMsg': '',\n",
       "  'rnum': 0,\n",
       "  'serviceKey': '',\n",
       "  'sidoName': '',\n",
       "  'so2Grade': '1',\n",
       "  'so2Value': '0.005',\n",
       "  'stationCode': '',\n",
       "  'stationName': '광진구',\n",
       "  'totalCount': '',\n",
       "  'ver': ''},\n",
       " {'_returnType': 'json',\n",
       "  'coGrade': '1',\n",
       "  'coValue': '0.5',\n",
       "  'dataTerm': '',\n",
       "  'dataTime': '2019-03-08 03:00',\n",
       "  'khaiGrade': '2',\n",
       "  'khaiValue': '85',\n",
       "  'mangName': '도시대기',\n",
       "  'no2Grade': '2',\n",
       "  'no2Value': '0.036',\n",
       "  'numOfRows': '10',\n",
       "  'o3Grade': '1',\n",
       "  'o3Value': '0.017',\n",
       "  'pageNo': '1',\n",
       "  'pm10Grade': '2',\n",
       "  'pm10Grade1h': '2',\n",
       "  'pm10Value': '56',\n",
       "  'pm10Value24': '65',\n",
       "  'pm25Grade': '2',\n",
       "  'pm25Grade1h': '2',\n",
       "  'pm25Value': '29',\n",
       "  'pm25Value24': '29',\n",
       "  'resultCode': '',\n",
       "  'resultMsg': '',\n",
       "  'rnum': 0,\n",
       "  'serviceKey': '',\n",
       "  'sidoName': '',\n",
       "  'so2Grade': '1',\n",
       "  'so2Value': '0.003',\n",
       "  'stationCode': '',\n",
       "  'stationName': '성동구',\n",
       "  'totalCount': '',\n",
       "  'ver': ''},\n",
       " {'_returnType': 'json',\n",
       "  'coGrade': '1',\n",
       "  'coValue': '0.4',\n",
       "  'dataTerm': '',\n",
       "  'dataTime': '2019-03-08 03:00',\n",
       "  'khaiGrade': '2',\n",
       "  'khaiValue': '83',\n",
       "  'mangName': '도로변대기',\n",
       "  'no2Grade': '2',\n",
       "  'no2Value': '0.047',\n",
       "  'numOfRows': '10',\n",
       "  'o3Grade': '1',\n",
       "  'o3Value': '0.011',\n",
       "  'pageNo': '1',\n",
       "  'pm10Grade': '2',\n",
       "  'pm10Grade1h': '2',\n",
       "  'pm10Value': '55',\n",
       "  'pm10Value24': '63',\n",
       "  'pm25Grade': '2',\n",
       "  'pm25Grade1h': '2',\n",
       "  'pm25Value': '23',\n",
       "  'pm25Value24': '28',\n",
       "  'resultCode': '',\n",
       "  'resultMsg': '',\n",
       "  'rnum': 0,\n",
       "  'serviceKey': '',\n",
       "  'sidoName': '',\n",
       "  'so2Grade': '1',\n",
       "  'so2Value': '0.004',\n",
       "  'stationCode': '',\n",
       "  'stationName': '강변북로',\n",
       "  'totalCount': '',\n",
       "  'ver': ''},\n",
       " {'_returnType': 'json',\n",
       "  'coGrade': '1',\n",
       "  'coValue': '0.6',\n",
       "  'dataTerm': '',\n",
       "  'dataTime': '2019-03-08 03:00',\n",
       "  'khaiGrade': '2',\n",
       "  'khaiValue': '87',\n",
       "  'mangName': '도시대기',\n",
       "  'no2Grade': '2',\n",
       "  'no2Value': '0.032',\n",
       "  'numOfRows': '10',\n",
       "  'o3Grade': '1',\n",
       "  'o3Value': '0.015',\n",
       "  'pageNo': '1',\n",
       "  'pm10Grade': '2',\n",
       "  'pm10Grade1h': '2',\n",
       "  'pm10Value': '44',\n",
       "  'pm10Value24': '48',\n",
       "  'pm25Grade': '2',\n",
       "  'pm25Grade1h': '2',\n",
       "  'pm25Value': '24',\n",
       "  'pm25Value24': '30',\n",
       "  'resultCode': '',\n",
       "  'resultMsg': '',\n",
       "  'rnum': 0,\n",
       "  'serviceKey': '',\n",
       "  'sidoName': '',\n",
       "  'so2Grade': '1',\n",
       "  'so2Value': '0.007',\n",
       "  'stationCode': '',\n",
       "  'stationName': '중랑구',\n",
       "  'totalCount': '',\n",
       "  'ver': ''},\n",
       " {'_returnType': 'json',\n",
       "  'coGrade': '1',\n",
       "  'coValue': '0.5',\n",
       "  'dataTerm': '',\n",
       "  'dataTime': '2019-03-08 03:00',\n",
       "  'khaiGrade': '2',\n",
       "  'khaiValue': '77',\n",
       "  'mangName': '도시대기',\n",
       "  'no2Grade': '1',\n",
       "  'no2Value': '0.019',\n",
       "  'numOfRows': '10',\n",
       "  'o3Grade': '2',\n",
       "  'o3Value': '0.032',\n",
       "  'pageNo': '1',\n",
       "  'pm10Grade': '2',\n",
       "  'pm10Grade1h': '2',\n",
       "  'pm10Value': '41',\n",
       "  'pm10Value24': '47',\n",
       "  'pm25Grade': '2',\n",
       "  'pm25Grade1h': '2',\n",
       "  'pm25Value': '21',\n",
       "  'pm25Value24': '26',\n",
       "  'resultCode': '',\n",
       "  'resultMsg': '',\n",
       "  'rnum': 0,\n",
       "  'serviceKey': '',\n",
       "  'sidoName': '',\n",
       "  'so2Grade': '1',\n",
       "  'so2Value': '0.005',\n",
       "  'stationCode': '',\n",
       "  'stationName': '동대문구',\n",
       "  'totalCount': '',\n",
       "  'ver': ''},\n",
       " {'_returnType': 'json',\n",
       "  'coGrade': '1',\n",
       "  'coValue': '0.4',\n",
       "  'dataTerm': '',\n",
       "  'dataTime': '2019-03-08 03:00',\n",
       "  'khaiGrade': '2',\n",
       "  'khaiValue': '92',\n",
       "  'mangName': '도로변대기',\n",
       "  'no2Grade': '1',\n",
       "  'no2Value': '0.027',\n",
       "  'numOfRows': '10',\n",
       "  'o3Grade': '1',\n",
       "  'o3Value': '0.027',\n",
       "  'pageNo': '1',\n",
       "  'pm10Grade': '2',\n",
       "  'pm10Grade1h': '2',\n",
       "  'pm10Value': '45',\n",
       "  'pm10Value24': '53',\n",
       "  'pm25Grade': '2',\n",
       "  'pm25Grade1h': '2',\n",
       "  'pm25Value': '24',\n",
       "  'pm25Value24': '32',\n",
       "  'resultCode': '',\n",
       "  'resultMsg': '',\n",
       "  'rnum': 0,\n",
       "  'serviceKey': '',\n",
       "  'sidoName': '',\n",
       "  'so2Grade': '1',\n",
       "  'so2Value': '0.004',\n",
       "  'stationCode': '',\n",
       "  'stationName': '홍릉로',\n",
       "  'totalCount': '',\n",
       "  'ver': ''},\n",
       " {'_returnType': 'json',\n",
       "  'coGrade': '1',\n",
       "  'coValue': '1.0',\n",
       "  'dataTerm': '',\n",
       "  'dataTime': '2019-03-08 03:00',\n",
       "  'khaiGrade': '2',\n",
       "  'khaiValue': '79',\n",
       "  'mangName': '도시대기',\n",
       "  'no2Grade': '2',\n",
       "  'no2Value': '0.039',\n",
       "  'numOfRows': '10',\n",
       "  'o3Grade': '1',\n",
       "  'o3Value': '0.016',\n",
       "  'pageNo': '1',\n",
       "  'pm10Grade': '2',\n",
       "  'pm10Grade1h': '2',\n",
       "  'pm10Value': '52',\n",
       "  'pm10Value24': '59',\n",
       "  'pm25Grade': '2',\n",
       "  'pm25Grade1h': '2',\n",
       "  'pm25Value': '19',\n",
       "  'pm25Value24': '27',\n",
       "  'resultCode': '',\n",
       "  'resultMsg': '',\n",
       "  'rnum': 0,\n",
       "  'serviceKey': '',\n",
       "  'sidoName': '',\n",
       "  'so2Grade': '1',\n",
       "  'so2Value': '0.004',\n",
       "  'stationCode': '',\n",
       "  'stationName': '성북구',\n",
       "  'totalCount': '',\n",
       "  'ver': ''},\n",
       " {'_returnType': 'json',\n",
       "  'coGrade': '1',\n",
       "  'coValue': '0.6',\n",
       "  'dataTerm': '',\n",
       "  'dataTime': '2019-03-08 03:00',\n",
       "  'khaiGrade': '2',\n",
       "  'khaiValue': '82',\n",
       "  'mangName': '도로변대기',\n",
       "  'no2Grade': '2',\n",
       "  'no2Value': '0.032',\n",
       "  'numOfRows': '10',\n",
       "  'o3Grade': '1',\n",
       "  'o3Value': '0.010',\n",
       "  'pageNo': '1',\n",
       "  'pm10Grade': '2',\n",
       "  'pm10Grade1h': '2',\n",
       "  'pm10Value': '43',\n",
       "  'pm10Value24': '56',\n",
       "  'pm25Grade': '2',\n",
       "  'pm25Grade1h': '2',\n",
       "  'pm25Value': '20',\n",
       "  'pm25Value24': '28',\n",
       "  'resultCode': '',\n",
       "  'resultMsg': '',\n",
       "  'rnum': 0,\n",
       "  'serviceKey': '',\n",
       "  'sidoName': '',\n",
       "  'so2Grade': '1',\n",
       "  'so2Value': '0.003',\n",
       "  'stationCode': '',\n",
       "  'stationName': '정릉로',\n",
       "  'totalCount': '',\n",
       "  'ver': ''},\n",
       " {'_returnType': 'json',\n",
       "  'coGrade': '1',\n",
       "  'coValue': '0.5',\n",
       "  'dataTerm': '',\n",
       "  'dataTime': '2019-03-08 03:00',\n",
       "  'khaiGrade': '2',\n",
       "  'khaiValue': '77',\n",
       "  'mangName': '도시대기',\n",
       "  'no2Grade': '1',\n",
       "  'no2Value': '0.023',\n",
       "  'numOfRows': '10',\n",
       "  'o3Grade': '1',\n",
       "  'o3Value': '0.023',\n",
       "  'pageNo': '1',\n",
       "  'pm10Grade': '2',\n",
       "  'pm10Grade1h': '2',\n",
       "  'pm10Value': '45',\n",
       "  'pm10Value24': '52',\n",
       "  'pm25Grade': '2',\n",
       "  'pm25Grade1h': '2',\n",
       "  'pm25Value': '23',\n",
       "  'pm25Value24': '26',\n",
       "  'resultCode': '',\n",
       "  'resultMsg': '',\n",
       "  'rnum': 0,\n",
       "  'serviceKey': '',\n",
       "  'sidoName': '',\n",
       "  'so2Grade': '1',\n",
       "  'so2Value': '0.005',\n",
       "  'stationCode': '',\n",
       "  'stationName': '도봉구',\n",
       "  'totalCount': '',\n",
       "  'ver': ''},\n",
       " {'_returnType': 'json',\n",
       "  'coGrade': '1',\n",
       "  'coValue': '0.6',\n",
       "  'dataTerm': '',\n",
       "  'dataTime': '2019-03-08 03:00',\n",
       "  'khaiGrade': '2',\n",
       "  'khaiValue': '70',\n",
       "  'mangName': '도시대기',\n",
       "  'no2Grade': '1',\n",
       "  'no2Value': '0.018',\n",
       "  'numOfRows': '10',\n",
       "  'o3Grade': '1',\n",
       "  'o3Value': '0.028',\n",
       "  'pageNo': '1',\n",
       "  'pm10Grade': '2',\n",
       "  'pm10Grade1h': '2',\n",
       "  'pm10Value': '33',\n",
       "  'pm10Value24': '50',\n",
       "  'pm25Grade': '2',\n",
       "  'pm25Grade1h': '2',\n",
       "  'pm25Value': '17',\n",
       "  'pm25Value24': '23',\n",
       "  'resultCode': '',\n",
       "  'resultMsg': '',\n",
       "  'rnum': 0,\n",
       "  'serviceKey': '',\n",
       "  'sidoName': '',\n",
       "  'so2Grade': '1',\n",
       "  'so2Value': '0.005',\n",
       "  'stationCode': '',\n",
       "  'stationName': '은평구',\n",
       "  'totalCount': '',\n",
       "  'ver': ''},\n",
       " {'_returnType': 'json',\n",
       "  'coGrade': '1',\n",
       "  'coValue': '1.2',\n",
       "  'dataTerm': '',\n",
       "  'dataTime': '2019-03-08 03:00',\n",
       "  'khaiGrade': '2',\n",
       "  'khaiValue': '77',\n",
       "  'mangName': '도시대기',\n",
       "  'no2Grade': '1',\n",
       "  'no2Value': '0.015',\n",
       "  'numOfRows': '10',\n",
       "  'o3Grade': '1',\n",
       "  'o3Value': '0.027',\n",
       "  'pageNo': '1',\n",
       "  'pm10Grade': '2',\n",
       "  'pm10Grade1h': '2',\n",
       "  'pm10Value': '41',\n",
       "  'pm10Value24': '52',\n",
       "  'pm25Grade': '2',\n",
       "  'pm25Grade1h': '2',\n",
       "  'pm25Value': '17',\n",
       "  'pm25Value24': '26',\n",
       "  'resultCode': '',\n",
       "  'resultMsg': '',\n",
       "  'rnum': 0,\n",
       "  'serviceKey': '',\n",
       "  'sidoName': '',\n",
       "  'so2Grade': '1',\n",
       "  'so2Value': '0.005',\n",
       "  'stationCode': '',\n",
       "  'stationName': '서대문구',\n",
       "  'totalCount': '',\n",
       "  'ver': ''},\n",
       " {'_returnType': 'json',\n",
       "  'coGrade': '',\n",
       "  'coValue': '-',\n",
       "  'dataTerm': '',\n",
       "  'dataTime': '2019-03-08 03:00',\n",
       "  'khaiGrade': '',\n",
       "  'khaiValue': '-',\n",
       "  'mangName': '도시대기',\n",
       "  'no2Grade': '',\n",
       "  'no2Value': '-',\n",
       "  'numOfRows': '10',\n",
       "  'o3Grade': '',\n",
       "  'o3Value': '-',\n",
       "  'pageNo': '1',\n",
       "  'pm10Grade': '2',\n",
       "  'pm10Grade1h': '2',\n",
       "  'pm10Value': '50',\n",
       "  'pm10Value24': '56',\n",
       "  'pm25Grade': '2',\n",
       "  'pm25Grade1h': '2',\n",
       "  'pm25Value': '21',\n",
       "  'pm25Value24': '27',\n",
       "  'resultCode': '',\n",
       "  'resultMsg': '',\n",
       "  'rnum': 0,\n",
       "  'serviceKey': '',\n",
       "  'sidoName': '',\n",
       "  'so2Grade': '',\n",
       "  'so2Value': '-',\n",
       "  'stationCode': '',\n",
       "  'stationName': '마포구',\n",
       "  'totalCount': '',\n",
       "  'ver': ''},\n",
       " {'_returnType': 'json',\n",
       "  'coGrade': '1',\n",
       "  'coValue': '0.7',\n",
       "  'dataTerm': '',\n",
       "  'dataTime': '2019-03-08 03:00',\n",
       "  'khaiGrade': '2',\n",
       "  'khaiValue': '87',\n",
       "  'mangName': '도로변대기',\n",
       "  'no2Grade': '2',\n",
       "  'no2Value': '0.036',\n",
       "  'numOfRows': '10',\n",
       "  'o3Grade': '1',\n",
       "  'o3Value': '0.018',\n",
       "  'pageNo': '1',\n",
       "  'pm10Grade': '2',\n",
       "  'pm10Grade1h': '2',\n",
       "  'pm10Value': '49',\n",
       "  'pm10Value24': '56',\n",
       "  'pm25Grade': '2',\n",
       "  'pm25Grade1h': '2',\n",
       "  'pm25Value': '25',\n",
       "  'pm25Value24': '30',\n",
       "  'resultCode': '',\n",
       "  'resultMsg': '',\n",
       "  'rnum': 0,\n",
       "  'serviceKey': '',\n",
       "  'sidoName': '',\n",
       "  'so2Grade': '1',\n",
       "  'so2Value': '0.004',\n",
       "  'stationCode': '',\n",
       "  'stationName': '신촌로',\n",
       "  'totalCount': '',\n",
       "  'ver': ''},\n",
       " {'_returnType': 'json',\n",
       "  'coGrade': '1',\n",
       "  'coValue': '0.4',\n",
       "  'dataTerm': '',\n",
       "  'dataTime': '2019-03-08 03:00',\n",
       "  'khaiGrade': '2',\n",
       "  'khaiValue': '79',\n",
       "  'mangName': '도시대기',\n",
       "  'no2Grade': '2',\n",
       "  'no2Value': '0.031',\n",
       "  'numOfRows': '10',\n",
       "  'o3Grade': '1',\n",
       "  'o3Value': '0.026',\n",
       "  'pageNo': '1',\n",
       "  'pm10Grade': '2',\n",
       "  'pm10Grade1h': '2',\n",
       "  'pm10Value': '53',\n",
       "  'pm10Value24': '59',\n",
       "  'pm25Grade': '2',\n",
       "  'pm25Grade1h': '2',\n",
       "  'pm25Value': '22',\n",
       "  'pm25Value24': '25',\n",
       "  'resultCode': '',\n",
       "  'resultMsg': '',\n",
       "  'rnum': 0,\n",
       "  'serviceKey': '',\n",
       "  'sidoName': '',\n",
       "  'so2Grade': '1',\n",
       "  'so2Value': '0.005',\n",
       "  'stationCode': '',\n",
       "  'stationName': '강서구',\n",
       "  'totalCount': '',\n",
       "  'ver': ''}]"
      ]
     },
     "execution_count": 110,
     "metadata": {},
     "output_type": "execute_result"
    }
   ],
   "source": [
    "result[\"list\"]    # dictionary를 원소로 하는 list (지역별로 하나의 dictionary)"
   ]
  },
  {
   "cell_type": "code",
   "execution_count": 111,
   "metadata": {},
   "outputs": [
    {
     "data": {
      "text/plain": [
       "20"
      ]
     },
     "execution_count": 111,
     "metadata": {},
     "output_type": "execute_result"
    }
   ],
   "source": [
    "len(result[\"list\"])   # 파라미터에 20개를 요청 했음"
   ]
  },
  {
   "cell_type": "code",
   "execution_count": 112,
   "metadata": {},
   "outputs": [
    {
     "data": {
      "text/plain": [
       "dict_keys(['_returnType', 'coGrade', 'coValue', 'dataTerm', 'dataTime', 'khaiGrade', 'khaiValue', 'mangName', 'no2Grade', 'no2Value', 'numOfRows', 'o3Grade', 'o3Value', 'pageNo', 'pm10Grade', 'pm10Grade1h', 'pm10Value', 'pm10Value24', 'pm25Grade', 'pm25Grade1h', 'pm25Value', 'pm25Value24', 'resultCode', 'resultMsg', 'rnum', 'serviceKey', 'sidoName', 'so2Grade', 'so2Value', 'stationCode', 'stationName', 'totalCount', 'ver'])"
      ]
     },
     "execution_count": 112,
     "metadata": {},
     "output_type": "execute_result"
    }
   ],
   "source": [
    "result[\"list\"][0].keys()   # dictionary에 포함된 키 값을 확인해본다."
   ]
  },
  {
   "cell_type": "code",
   "execution_count": 113,
   "metadata": {
    "scrolled": true
   },
   "outputs": [
    {
     "name": "stdout",
     "output_type": "stream",
     "text": [
      "중구\n",
      "한강대로\n",
      "종로구\n",
      "청계천로\n",
      "종로\n",
      "용산구\n",
      "광진구\n",
      "성동구\n",
      "강변북로\n",
      "중랑구\n",
      "동대문구\n",
      "홍릉로\n",
      "성북구\n",
      "정릉로\n",
      "도봉구\n",
      "은평구\n",
      "서대문구\n",
      "마포구\n",
      "신촌로\n",
      "강서구\n"
     ]
    }
   ],
   "source": [
    "for row in result[\"list\"]:\n",
    "    print(row[\"stationName\"])"
   ]
  },
  {
   "cell_type": "code",
   "execution_count": 117,
   "metadata": {
    "scrolled": true
   },
   "outputs": [],
   "source": [
    "# 통합대기환경지수 나쁜 지역만 출력(1 좋음, 2 보통, 3 나쁨, 4 매우나쁨) : 오늘은 서울에 나쁜 지역 없음\n",
    "for row in result[\"list\"]:\n",
    "    try:\n",
    "        khaiGrade = int(row[\"khaiGrade\"])\n",
    "        if(khaiGrade >= 3):\n",
    "            print(row[\"stationName\"], row[\"khaiGrade\"])\n",
    "    except ValueError:\n",
    "        continue"
   ]
  },
  {
   "cell_type": "code",
   "execution_count": null,
   "metadata": {},
   "outputs": [],
   "source": []
  }
 ],
 "metadata": {
  "kernelspec": {
   "display_name": "Python 3",
   "language": "python",
   "name": "python3"
  },
  "language_info": {
   "codemirror_mode": {
    "name": "ipython",
    "version": 3
   },
   "file_extension": ".py",
   "mimetype": "text/x-python",
   "name": "python",
   "nbconvert_exporter": "python",
   "pygments_lexer": "ipython3",
   "version": "3.6.7"
  },
  "toc": {
   "base_numbering": 1,
   "nav_menu": {},
   "number_sections": false,
   "sideBar": true,
   "skip_h1_title": false,
   "title_cell": "Table of Contents",
   "title_sidebar": "Contents",
   "toc_cell": true,
   "toc_position": {},
   "toc_section_display": true,
   "toc_window_display": false
  }
 },
 "nbformat": 4,
 "nbformat_minor": 2
}
