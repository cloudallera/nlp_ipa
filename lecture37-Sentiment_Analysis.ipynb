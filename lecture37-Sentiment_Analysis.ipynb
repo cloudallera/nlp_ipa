{
 "cells": [
  {
   "cell_type": "markdown",
   "metadata": {
    "toc": true
   },
   "source": [
    "<h1>Table of Contents<span class=\"tocSkip\"></span></h1>\n",
    "<div class=\"toc\"><ul class=\"toc-item\"><li><span><a href=\"#Sentiment-Analysis\" data-toc-modified-id=\"Sentiment-Analysis-1\">Sentiment Analysis</a></span><ul class=\"toc-item\"><li><span><a href=\"#감성분석,-감성사전-참고-사이트\" data-toc-modified-id=\"감성분석,-감성사전-참고-사이트-1.1\">감성분석, 감성사전 참고 사이트</a></span></li><li><span><a href=\"#PMI(Pointwise-Mutual-Information)\" data-toc-modified-id=\"PMI(Pointwise-Mutual-Information)-1.2\">PMI(Pointwise Mutual Information)</a></span></li><li><span><a href=\"#영화-리뷰-데이터-수집\" data-toc-modified-id=\"영화-리뷰-데이터-수집-1.3\">영화 리뷰 데이터 수집</a></span></li></ul></li></ul></div>"
   ]
  },
  {
   "cell_type": "markdown",
   "metadata": {},
   "source": [
    "## Sentiment Analysis"
   ]
  },
  {
   "cell_type": "markdown",
   "metadata": {},
   "source": [
    "- Opinion Extraction\n",
    "- Opinion Mining\n",
    "- Sentiment Mining\n",
    "- Subjectivity Analysis"
   ]
  },
  {
   "cell_type": "markdown",
   "metadata": {},
   "source": [
    "- **Sentiment** (의견, 의향, 생각, 감상, 소감, 감정, 심정) : 진정한 감정 => emotion, feeling, ... 등과는 다름\n",
    "    - basic emotion(Ekman, 1975) : happiness, sadness, fear, anger, surprise, disgust\n",
    "    - 심리학적으로 감수성. 우리의 5관(五官)이 외계로부터 자극을 받고 그에 반응하는 정도나 강도(強度)\n",
    "    - 칸트의 지식론(인식론)에서는 외부로부터의 모든 감각적 자극을 받아들여, 지금 여기서라든가 아까 거기서라는 식으로 시간적·공간적으로 정리하는 능력. <br>\n",
    "       감성은 이렇게 정리한 것을 생각하는 힘인 '지성(知性)'에 소재로서 제공된다.\n",
    "    - 칸트의 도덕론에서의 감성은 욕구 또는 본능을 가리키며, 그것은 이성에 의해 억제될 수 있다고 한다."
   ]
  },
  {
   "cell_type": "markdown",
   "metadata": {},
   "source": [
    "- **Sentiment Analysis** : 텍스트에 나타난 사람들의 태도, 의견, 성향과 같은 주관적 인 데이터를 분석하는 자연어 처리 기술이다\n",
    "    - Machine Learning vs. Lexicon based Approach\n",
    "    - Machine Learning : SVM, Neural Network, Naive Bayes, Bayesian Network, Maximum Entropy, ...\n",
    "    - Lexicon based Approach : Manual/Dictionary Based(집단지성) vs. Corpus Based(Statistical vs. Sentimentic) Approach <br>\n",
    "       => 예제에서는 Seed Word를 이용해서 corpus based로 생성된 dictionary를 manual하게 보정하는 방식 사용 예정"
   ]
  },
  {
   "cell_type": "markdown",
   "metadata": {},
   "source": [
    "- 주관적인 감성과 객관적인 감성(subjectivity + objectivity)을 동시에 고려 필요 => 일반적으로, subjectivity 만 고려\n",
    "- 단어의 의미나 감성은 지속적으로 변할 수 있음 : 지속적인 업데이트 필요"
   ]
  },
  {
   "cell_type": "markdown",
   "metadata": {},
   "source": [
    "### 감성분석, 감성사전 참고 사이트"
   ]
  },
  {
   "cell_type": "markdown",
   "metadata": {},
   "source": [
    "- 한국어 감성사전\n",
    "    - http://dilab.kunsan.ac.kr/knusl.html\n",
    "    - http://word.snu.ac.kr/kosac/\n",
    "    - http://api.openhangul.com/dic (http://api.openhangul.com/overview?m=sentiment)\n",
    "    \n",
    "- 한국어 감성분석기 샘플\n",
    "    - https://github.com/mrlee23/KoreanSentimentAnalyzer\n",
    "    - https://github.com/drexly/openhgsenti\n",
    "    \n",
    "- 영어 감성사전 : http://sentiwordnet.isti.cnr.it"
   ]
  },
  {
   "cell_type": "markdown",
   "metadata": {},
   "source": [
    "### PMI(Pointwise Mutual Information)"
   ]
  },
  {
   "cell_type": "markdown",
   "metadata": {},
   "source": [
    "$\\large \\operatorname {PMI} (x;y)\\equiv \\log {\\Large \\frac {P(x,y)}{P(x)P(y)}}=\\log {\\Large \\frac {p(x|y)}{p(x)}}=\\log {\\Large \\frac {p(y|x)}{p(y)}}$\n",
    "\n",
    "\n",
    "- PMI 측정값은 대칭 입니다 : $\\operatorname {pmi} (x;y)=\\operatorname {pmi} (y;x)$ \n",
    "- 양수 또는 음수 값을 가질 수 있지만 X와 Y가 독립적 인 경우에는 0입니다. \n",
    "- PMI는 X와 Y가 완벽하게 연관 될 때 최대화되며, 다음의 범위 값을 가집니다.\n",
    "    \n",
    "    $-\\infty \\, \\leq \\, \\operatorname {pmi} (x;y) \\, \\leq \\, \\min \\left(-\\log p(x),-\\log p(y)\\right)$\n",
    "\n",
    "\n",
    "- https://en.wikipedia.org/wiki/Pointwise_mutual_information"
   ]
  },
  {
   "cell_type": "markdown",
   "metadata": {},
   "source": [
    "### 영화 리뷰 데이터 수집"
   ]
  },
  {
   "cell_type": "markdown",
   "metadata": {},
   "source": [
    "- naver 영화 리뷰 데이터 수집(개봉후 평점) : https://movie.naver.com/movie/point/af/list.nhn?&page=1 (1000페이지까지 수집) <br>\n",
    "   => 영화제목, 평점, 리뷰, 날자 <br>\n",
    "   => csv로 저장 시 \",\"를 \" \"로 대체 후 저장\n",
    "- 영화 리뷰 정보는 왓챠 정보가 더 좋음(가입 필요)"
   ]
  },
  {
   "cell_type": "code",
   "execution_count": null,
   "metadata": {},
   "outputs": [],
   "source": []
  }
 ],
 "metadata": {
  "kernelspec": {
   "display_name": "Python 3",
   "language": "python",
   "name": "python3"
  },
  "language_info": {
   "codemirror_mode": {
    "name": "ipython",
    "version": 3
   },
   "file_extension": ".py",
   "mimetype": "text/x-python",
   "name": "python",
   "nbconvert_exporter": "python",
   "pygments_lexer": "ipython3",
   "version": "3.7.1"
  },
  "latex_envs": {
   "LaTeX_envs_menu_present": true,
   "autoclose": false,
   "autocomplete": true,
   "bibliofile": "biblio.bib",
   "cite_by": "apalike",
   "current_citInitial": 1,
   "eqLabelWithNumbers": true,
   "eqNumInitial": 1,
   "hotkeys": {
    "equation": "Ctrl-E",
    "itemize": "Ctrl-I"
   },
   "labels_anchors": false,
   "latex_user_defs": false,
   "report_style_numbering": false,
   "user_envs_cfg": false
  },
  "toc": {
   "base_numbering": 1,
   "nav_menu": {},
   "number_sections": false,
   "sideBar": true,
   "skip_h1_title": false,
   "title_cell": "Table of Contents",
   "title_sidebar": "Contents",
   "toc_cell": true,
   "toc_position": {},
   "toc_section_display": true,
   "toc_window_display": false
  }
 },
 "nbformat": 4,
 "nbformat_minor": 2
}
