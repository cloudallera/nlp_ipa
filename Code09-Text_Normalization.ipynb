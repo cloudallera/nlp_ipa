{
 "cells": [
  {
   "cell_type": "markdown",
   "metadata": {
    "toc": true
   },
   "source": [
    "<h1>Table of Contents<span class=\"tocSkip\"></span></h1>\n",
    "<div class=\"toc\"><ul class=\"toc-item\"><li><span><a href=\"#Text-Normalization\" data-toc-modified-id=\"Text-Normalization-1\">Text Normalization</a></span><ul class=\"toc-item\"><li><span><a href=\"#불필요한-구두점-지우기\" data-toc-modified-id=\"불필요한-구두점-지우기-1.1\">불필요한 구두점 지우기</a></span></li></ul></li></ul></div>"
   ]
  },
  {
   "cell_type": "markdown",
   "metadata": {},
   "source": [
    "## Text Normalization"
   ]
  },
  {
   "cell_type": "markdown",
   "metadata": {},
   "source": [
    "- Segmenting/tokenizing words\n",
    "- Normalizing word formats\n",
    "- Segmenting sentences\n",
    "\n",
    "Normalization Issue(영어)\n",
    "\n",
    "![normalizationissue](./images/normalization_issue.png)"
   ]
  },
  {
   "cell_type": "markdown",
   "metadata": {},
   "source": [
    "### 불필요한 구두점 지우기"
   ]
  },
  {
   "cell_type": "code",
   "execution_count": 1,
   "metadata": {},
   "outputs": [],
   "source": [
    "import re\n",
    "from string import punctuation"
   ]
  },
  {
   "cell_type": "code",
   "execution_count": 2,
   "metadata": {},
   "outputs": [
    {
     "data": {
      "text/plain": [
       "re.compile(r'[!\"\\#\\$%\\&\\'\\(\\)\\*\\+,\\-\\./:;<=>\\?@\\[\\\\\\]\\^_`\\{\\|\\}\\~]',\n",
       "re.UNICODE)"
      ]
     },
     "execution_count": 2,
     "metadata": {},
     "output_type": "execute_result"
    }
   ],
   "source": [
    "sentence = \"I'd like to learn more somthing.\"\n",
    "pattern = re.compile(r\"[{0}]\".format(re.escape(punctuation)))\n",
    "pattern"
   ]
  },
  {
   "cell_type": "code",
   "execution_count": 3,
   "metadata": {},
   "outputs": [
    {
     "data": {
      "text/plain": [
       "'!\"#$%&\\'()*+,-./:;<=>?@[\\\\]^_`{|}~'"
      ]
     },
     "execution_count": 3,
     "metadata": {},
     "output_type": "execute_result"
    }
   ],
   "source": [
    "punctuation"
   ]
  },
  {
   "cell_type": "code",
   "execution_count": 4,
   "metadata": {},
   "outputs": [],
   "source": [
    "from nltk.tokenize import word_tokenize"
   ]
  },
  {
   "cell_type": "code",
   "execution_count": 5,
   "metadata": {},
   "outputs": [
    {
     "data": {
      "text/plain": [
       "['I', \"'d\", 'like', 'to', 'learn', 'more', 'somthing', '.']"
      ]
     },
     "execution_count": 5,
     "metadata": {},
     "output_type": "execute_result"
    }
   ],
   "source": [
    "word_tokenize(sentence)"
   ]
  },
  {
   "cell_type": "code",
   "execution_count": 8,
   "metadata": {},
   "outputs": [
    {
     "name": "stdout",
     "output_type": "stream",
     "text": [
      "word_tokenize:  ['I', \"'d\", 'like', 'to', 'learn', 'more', 'somthing', '.']\n",
      "normalization:  ['I', 'd', 'like', 'to', 'learn', 'more', 'somthing']\n"
     ]
    }
   ],
   "source": [
    "tokens = []\n",
    "\n",
    "print(\"word_tokenize: \", word_tokenize(sentence))\n",
    "\n",
    "for term in word_tokenize(sentence):\n",
    "    # re.sub(pattern, \"\", term)\n",
    "    new = pattern.sub(\"\", term)\n",
    "    if new:\n",
    "        tokens.append(new)\n",
    "\n",
    "print(\"normalization: \", tokens)"
   ]
  },
  {
   "cell_type": "code",
   "execution_count": 9,
   "metadata": {},
   "outputs": [
    {
     "name": "stdout",
     "output_type": "stream",
     "text": [
      "word_tokenize:  ['파이썬', ',', '자연어처리', ',', '그리고', '어쩌고']\n",
      "normalization:  ['파이썬', '자연어처리', '그리고', '어쩌고']\n"
     ]
    }
   ],
   "source": [
    "sentence = \"파이썬, 자연어처리, 그리고 어쩌고\"\n",
    "pattern = re.compile(r\"[{0}]\".format(re.escape(punctuation)))\n",
    "\n",
    "tokens = []\n",
    "\n",
    "print(\"word_tokenize: \", word_tokenize(sentence))\n",
    "\n",
    "for term in word_tokenize(sentence):\n",
    "    # re.sub(pattern, \"\", term)\n",
    "    new = pattern.sub(\"\", term)\n",
    "    if new:\n",
    "        tokens.append(new)\n",
    "\n",
    "print(\"normalization: \", tokens)"
   ]
  },
  {
   "cell_type": "code",
   "execution_count": null,
   "metadata": {},
   "outputs": [],
   "source": []
  }
 ],
 "metadata": {
  "kernelspec": {
   "display_name": "Python 3",
   "language": "python",
   "name": "python3"
  },
  "language_info": {
   "codemirror_mode": {
    "name": "ipython",
    "version": 3
   },
   "file_extension": ".py",
   "mimetype": "text/x-python",
   "name": "python",
   "nbconvert_exporter": "python",
   "pygments_lexer": "ipython3",
   "version": "3.7.1"
  },
  "toc": {
   "base_numbering": 1,
   "nav_menu": {},
   "number_sections": false,
   "sideBar": true,
   "skip_h1_title": false,
   "title_cell": "Table of Contents",
   "title_sidebar": "Contents",
   "toc_cell": true,
   "toc_position": {},
   "toc_section_display": true,
   "toc_window_display": false
  }
 },
 "nbformat": 4,
 "nbformat_minor": 2
}
