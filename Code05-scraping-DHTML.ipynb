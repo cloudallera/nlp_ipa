{
 "cells": [
  {
   "cell_type": "markdown",
   "metadata": {
    "toc": true
   },
   "source": [
    "<h1>Table of Contents<span class=\"tocSkip\"></span></h1>\n",
    "<div class=\"toc\"><ul class=\"toc-item\"><li><span><a href=\"#DHTML\" data-toc-modified-id=\"DHTML-1\">DHTML</a></span></li><li><span><a href=\"#Selenium-이용하기\" data-toc-modified-id=\"Selenium-이용하기-2\">Selenium 이용하기</a></span><ul class=\"toc-item\"><li><span><a href=\"#Selenium-설치하고-import-하기\" data-toc-modified-id=\"Selenium-설치하고-import-하기-2.1\">Selenium 설치하고 import 하기</a></span></li><li><span><a href=\"#webdriver-설치하고-객체-생성하기\" data-toc-modified-id=\"webdriver-설치하고-객체-생성하기-2.2\">webdriver 설치하고 객체 생성하기</a></span></li></ul></li></ul></div>"
   ]
  },
  {
   "cell_type": "markdown",
   "metadata": {},
   "source": [
    "## DHTML"
   ]
  },
  {
   "cell_type": "markdown",
   "metadata": {},
   "source": [
    "- http://example.webscraping.com/places/default/search\n",
    "- 국가명을 검색하면, URL은 전혀 바뀌지 않고, 화면의 내용도 위쪽은 변하지 않는 상태에서 검색된 결과만 아래쪽에 추가됨\n",
    "- form 태그에 action command 정보가 없음"
   ]
  },
  {
   "cell_type": "code",
   "execution_count": 1,
   "metadata": {},
   "outputs": [],
   "source": [
    "from functions.download import getDownload"
   ]
  },
  {
   "cell_type": "code",
   "execution_count": 2,
   "metadata": {},
   "outputs": [],
   "source": [
    "url = \"http://example.webscraping.com/places/default/search\""
   ]
  },
  {
   "cell_type": "code",
   "execution_count": 3,
   "metadata": {},
   "outputs": [],
   "source": [
    "param = {\"search_term\":\"korea\", \"page_size\": \"10\"}"
   ]
  },
  {
   "cell_type": "code",
   "execution_count": 4,
   "metadata": {},
   "outputs": [],
   "source": [
    "html = getDownload(url, param)"
   ]
  },
  {
   "cell_type": "code",
   "execution_count": 5,
   "metadata": {},
   "outputs": [],
   "source": [
    "# html.text"
   ]
  },
  {
   "cell_type": "markdown",
   "metadata": {},
   "source": [
    "- html text를 찾아보아도 해석하기 어려움\n",
    "- 검사 - network 탭에서 보면, request url이 아래와 같이 변경되는 것을 알 수 있음\n",
    "- http://example.webscraping.com/places/ajax/search.json?&search_term=korea&page_size=10&page=0\n",
    "- 일반적으로 DHTML 페이지는 사용자 브라우저에 보여지는 소스는 javascript 코드이기 때문에 <br>\n",
    "   태그 정보 등이 나타나지 않음(scripts 부분과 비교하면서 코드를 해석해야 함)"
   ]
  },
  {
   "cell_type": "code",
   "execution_count": 6,
   "metadata": {},
   "outputs": [],
   "source": [
    "# url, param 재지정\n",
    "url = \"http://example.webscraping.com/places/ajax/search.json\"\n",
    "param = {\n",
    "    \"search_term\": \"korea\",\n",
    "    \"page_size\": \"10\",\n",
    "    \"page\": \"0\"}"
   ]
  },
  {
   "cell_type": "code",
   "execution_count": 7,
   "metadata": {},
   "outputs": [],
   "source": [
    "html = getDownload(url, param)"
   ]
  },
  {
   "cell_type": "code",
   "execution_count": 8,
   "metadata": {},
   "outputs": [
    {
     "data": {
      "text/plain": [
       "{'Server': 'nginx', 'Date': 'Wed, 13 Mar 2019 05:41:34 GMT', 'Content-Type': 'application/json', 'Transfer-Encoding': 'chunked', 'Connection': 'keep-alive', 'Vary': 'Accept-Encoding', 'X-Powered-By': 'web2py', 'Set-Cookie': 'session_id_places=True; httponly; Path=/', 'Expires': 'Wed, 13 Mar 2019 05:41:34 GMT', 'Pragma': 'no-cache', 'Cache-Control': 'no-store, no-cache, must-revalidate, post-check=0, pre-check=0', 'Content-Encoding': 'gzip'}"
      ]
     },
     "execution_count": 8,
     "metadata": {},
     "output_type": "execute_result"
    }
   ],
   "source": [
    "html.headers"
   ]
  },
  {
   "cell_type": "code",
   "execution_count": 9,
   "metadata": {},
   "outputs": [],
   "source": [
    "import json"
   ]
  },
  {
   "cell_type": "code",
   "execution_count": 10,
   "metadata": {},
   "outputs": [],
   "source": [
    "result = json.loads(html.text)"
   ]
  },
  {
   "cell_type": "code",
   "execution_count": 18,
   "metadata": {},
   "outputs": [
    {
     "data": {
      "text/plain": [
       "{'pretty_link': '<div><a href=\"/places/default/view/North-Korea-165\"><img src=\"/places/static/images/flags/kp.png\" /> North Korea</a></div>',\n",
       " 'country': 'North Korea',\n",
       " 'id': 3817713}"
      ]
     },
     "execution_count": 18,
     "metadata": {},
     "output_type": "execute_result"
    }
   ],
   "source": [
    "result[\"records\"][0]    # 정상적으로 가져왔음"
   ]
  },
  {
   "cell_type": "markdown",
   "metadata": {},
   "source": [
    "## Selenium 이용하기"
   ]
  },
  {
   "cell_type": "markdown",
   "metadata": {},
   "source": [
    "- 웹 브라우저에서의 Action을 자동화 하기 위한 목적으로 만들어졌음\n",
    "- scraping 도구중에 가장 강력한 도구임"
   ]
  },
  {
   "cell_type": "markdown",
   "metadata": {},
   "source": [
    "### Selenium 설치하고 import 하기"
   ]
  },
  {
   "cell_type": "code",
   "execution_count": 12,
   "metadata": {},
   "outputs": [],
   "source": [
    "# !pip install selenium"
   ]
  },
  {
   "cell_type": "code",
   "execution_count": 13,
   "metadata": {},
   "outputs": [],
   "source": [
    "from selenium import webdriver"
   ]
  },
  {
   "cell_type": "markdown",
   "metadata": {},
   "source": [
    "### webdriver 설치하고 객체 생성하기"
   ]
  },
  {
   "cell_type": "markdown",
   "metadata": {},
   "source": [
    "- 브라우저 webdriver 설치하기 : 브라우저 버전별 드라이버를 찾아서 다운로드 하고, webdriver 위치를 Path에 추가(또는 webdriver 호출 시 path 지정) <br>\n",
    "   --> 여기서는 Chrome webdriver를 다운로드 했음\n",
    "- 여기서 설치하는 webdriver는 현재 실행중인 브라우저와는 관계가 없고, webdriver를 생성할 때 사용할 브라우저 라이브러리임"
   ]
  },
  {
   "cell_type": "code",
   "execution_count": 17,
   "metadata": {},
   "outputs": [
    {
     "name": "stdout",
     "output_type": "stream",
     "text": [
      "/Users/alex/anaconda3/envs/nlp/bin:/Users/alex/anaconda3/envs/nlp/bin:/Users/alex/anaconda3/condabin:/Library/Frameworks/Python.framework/Versions/3.6/bin:/usr/local/opt/opencv/bin:/usr/local/opt/sqlite/bin:/Users/alex/perl5/bin:/usr/local/opt/ruby/bin:/usr/local/bin:/usr/bin:/bin:/usr/sbin:/sbin:/usr/local/sbin:/Applications/MacVim.app/Contents/bin\r\n"
     ]
    }
   ],
   "source": [
    "!echo $PATH   # Path에 "
   ]
  },
  {
   "cell_type": "code",
   "execution_count": 16,
   "metadata": {},
   "outputs": [],
   "source": [
    "# 현재 브라우저는 safari 12.0.1 임\n",
    "# driver = webdriver.Firefox(\"/Users/alex/Documents/ai/NLP/nlp_ipa/chromedriver\")   # firefox 용 webdriver를 설치하지 않았기 때문에 오류가 남\n",
    "\n",
    "driver = webdriver.Chrome(\"/Users/alex/Documents/ai/NLP/nlp_ipa/chromedriver\")    # Chrome webdriver 생성 (Chrome 브라우저가 뜸)"
   ]
  },
  {
   "cell_type": "code",
   "execution_count": null,
   "metadata": {},
   "outputs": [],
   "source": []
  }
 ],
 "metadata": {
  "kernelspec": {
   "display_name": "Python 3",
   "language": "python",
   "name": "python3"
  },
  "language_info": {
   "codemirror_mode": {
    "name": "ipython",
    "version": 3
   },
   "file_extension": ".py",
   "mimetype": "text/x-python",
   "name": "python",
   "nbconvert_exporter": "python",
   "pygments_lexer": "ipython3",
   "version": "3.6.7"
  },
  "toc": {
   "base_numbering": 1,
   "nav_menu": {},
   "number_sections": false,
   "sideBar": true,
   "skip_h1_title": false,
   "title_cell": "Table of Contents",
   "title_sidebar": "Contents",
   "toc_cell": true,
   "toc_position": {},
   "toc_section_display": true,
   "toc_window_display": false
  }
 },
 "nbformat": 4,
 "nbformat_minor": 2
}
