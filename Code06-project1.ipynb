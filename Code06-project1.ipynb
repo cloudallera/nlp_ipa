{
 "cells": [
  {
   "cell_type": "markdown",
   "metadata": {
    "toc": true
   },
   "source": [
    "<h1>Table of Contents<span class=\"tocSkip\"></span></h1>\n",
    "<div class=\"toc\"><ul class=\"toc-item\"><li><span><a href=\"#selenium-import-&amp;-driver-load\" data-toc-modified-id=\"selenium-import-&amp;-driver-load-1\">selenium import &amp; driver load</a></span></li><li><span><a href=\"#다음-로그인-하기-(iframe-사용하는-사이트)\" data-toc-modified-id=\"다음-로그인-하기-(iframe-사용하는-사이트)-2\">다음 로그인 하기 (iframe 사용하는 사이트)</a></span></li><li><span><a href=\"#kt.com-로그인-하기-(별도-윈도우를-사용하는-사이트)\" data-toc-modified-id=\"kt.com-로그인-하기-(별도-윈도우를-사용하는-사이트)-3\">kt.com 로그인 하기 (별도 윈도우를 사용하는 사이트)</a></span></li><li><span><a href=\"#프로젝트\" data-toc-modified-id=\"프로젝트-4\">프로젝트</a></span><ul class=\"toc-item\"><li><span><a href=\"#문제\" data-toc-modified-id=\"문제-4.1\">문제</a></span></li><li><span><a href=\"#문제-풀이-접근-방법\" data-toc-modified-id=\"문제-풀이-접근-방법-4.2\">문제 풀이 접근 방법</a></span></li><li><span><a href=\"#문제-풀이\" data-toc-modified-id=\"문제-풀이-4.3\">문제 풀이</a></span><ul class=\"toc-item\"><li><span><a href=\"#1.-requests를-이용해-뉴스-사이트-가져오기\" data-toc-modified-id=\"1.-requests를-이용해-뉴스-사이트-가져오기-4.3.1\">1. requests를 이용해 뉴스 사이트 가져오기</a></span></li><li><span><a href=\"#2.-뉴스-사이트에서-&quot;사장-많이-본-뉴스&quot;-영역-찾기\" data-toc-modified-id=\"2.-뉴스-사이트에서-&quot;사장-많이-본-뉴스&quot;-영역-찾기-4.3.2\">2. 뉴스 사이트에서 \"사장 많이 본 뉴스\" 영역 찾기</a></span></li><li><span><a href=\"#3.-영역별-뉴스-링크-위치-확인-및-영역-이름-찾기\" data-toc-modified-id=\"3.-영역별-뉴스-링크-위치-확인-및-영역-이름-찾기-4.3.3\">3. 영역별 뉴스 링크 위치 확인 및 영역 이름 찾기</a></span></li><li><span><a href=\"#4.-영역별-뉴스-리스트-찾기\" data-toc-modified-id=\"4.-영역별-뉴스-리스트-찾기-4.3.4\">4. 영역별 뉴스 리스트 찾기</a></span></li><li><span><a href=\"#5.-뉴스로-이동하여-다운로드-하고,-본문-텍스트-저장\" data-toc-modified-id=\"5.-뉴스로-이동하여-다운로드-하고,-본문-텍스트-저장-4.3.5\">5. 뉴스로 이동하여 다운로드 하고, 본문 텍스트 저장</a></span></li><li><span><a href=\"#저장된-뉴스-기사-확인\" data-toc-modified-id=\"저장된-뉴스-기사-확인-4.3.6\">저장된 뉴스 기사 확인</a></span></li></ul></li></ul></li></ul></div>"
   ]
  },
  {
   "cell_type": "markdown",
   "metadata": {},
   "source": [
    "- MAC에서 Chrome \"검사\" 단축키 : command + alt + i  (오른쪽 마우스 비활성화 된 사이트에서 사용하면 편리함)"
   ]
  },
  {
   "cell_type": "markdown",
   "metadata": {},
   "source": [
    "## selenium import & driver load"
   ]
  },
  {
   "cell_type": "code",
   "execution_count": 1,
   "metadata": {},
   "outputs": [],
   "source": [
    "from selenium import webdriver"
   ]
  },
  {
   "cell_type": "code",
   "execution_count": 2,
   "metadata": {},
   "outputs": [],
   "source": [
    "driver = webdriver.Chrome(\"/Users/alex/Documents/ai/NLP/nlp_ipa/chromedriver\")"
   ]
  },
  {
   "cell_type": "code",
   "execution_count": 3,
   "metadata": {},
   "outputs": [],
   "source": [
    "# driver.get(\"http://example.webscraping.com/places/default/search\")"
   ]
  },
  {
   "cell_type": "markdown",
   "metadata": {},
   "source": [
    "## 다음 로그인 하기 (iframe 사용하는 사이트)"
   ]
  },
  {
   "cell_type": "markdown",
   "metadata": {},
   "source": [
    "- 로그인 관련 컨텐츠가 iframe 내에 있음"
   ]
  },
  {
   "cell_type": "code",
   "execution_count": 4,
   "metadata": {},
   "outputs": [],
   "source": [
    "driver.get(\"http://www.daum.net\")"
   ]
  },
  {
   "cell_type": "code",
   "execution_count": 5,
   "metadata": {},
   "outputs": [],
   "source": [
    "# %%writefile daum_account.json\n",
    "# {\n",
    "#     \"id\": \"아이디\",\n",
    "#     \"pw\":\"패스워드\"\n",
    "# }"
   ]
  },
  {
   "cell_type": "code",
   "execution_count": 6,
   "metadata": {},
   "outputs": [],
   "source": [
    "# with open(\"daum_account.json\") as f:\n",
    "#     account = json.load(f)"
   ]
  },
  {
   "cell_type": "code",
   "execution_count": 7,
   "metadata": {},
   "outputs": [],
   "source": [
    "# driver.find_element_by_id(\"id\")   # 에러가 발생함"
   ]
  },
  {
   "cell_type": "markdown",
   "metadata": {},
   "source": [
    "- iframe 태그를 가지고 있고, iframe 내에 또다른 HTML 페이지를 포함하고 있음"
   ]
  },
  {
   "cell_type": "code",
   "execution_count": 8,
   "metadata": {},
   "outputs": [
    {
     "data": {
      "text/plain": [
       "'<iframe id=\"loginForm\" src=\"https://logins.daum.net/accounts/toploginform.do\" width=\"300\" height=\"120\" title=\"로그인\" marginheight=\"0\" marginwidth=\"0\" frameborder=\"0\" scrolling=\"no\" tabindex=\"2\"></iframe>'"
      ]
     },
     "execution_count": 8,
     "metadata": {},
     "output_type": "execute_result"
    }
   ],
   "source": [
    "driver.find_element_by_id(\"loginForm\").get_attribute(\"outerHTML\")    # iframe의 class명이 loginForm"
   ]
  },
  {
   "cell_type": "markdown",
   "metadata": {},
   "source": [
    "- 주소가 https://logins.daum.net/accounts/toploginform.do 인 것을 알 수 있음"
   ]
  },
  {
   "cell_type": "code",
   "execution_count": 9,
   "metadata": {},
   "outputs": [],
   "source": [
    "login = driver.find_element_by_id(\"loginForm\")\n",
    "driver.switch_to.frame(login)    # iframe 내에 있는 DOM으로 switch 함"
   ]
  },
  {
   "cell_type": "code",
   "execution_count": 10,
   "metadata": {},
   "outputs": [
    {
     "data": {
      "text/plain": [
       "'<input type=\"text\" id=\"id\" name=\"id\" class=\"tf_login\" maxlength=\"50\" tabindex=\"1\">'"
      ]
     },
     "execution_count": 10,
     "metadata": {},
     "output_type": "execute_result"
    }
   ],
   "source": [
    "driver.find_element_by_id(\"id\").get_attribute(\"outerHTML\")"
   ]
  },
  {
   "cell_type": "code",
   "execution_count": 11,
   "metadata": {},
   "outputs": [],
   "source": [
    "driver.find_element_by_id(\"id\").send_keys(\"ididid\")\n",
    "driver.find_element_by_id(\"inputPwd\").send_keys(\"password\")"
   ]
  },
  {
   "cell_type": "code",
   "execution_count": 12,
   "metadata": {
    "scrolled": true
   },
   "outputs": [],
   "source": [
    "driver.switch_to.default_content()    # 기본 DOM으로 switch 함"
   ]
  },
  {
   "cell_type": "markdown",
   "metadata": {},
   "source": [
    "## kt.com 로그인 하기 (별도 윈도우를 사용하는 사이트)"
   ]
  },
  {
   "cell_type": "markdown",
   "metadata": {},
   "source": []
  },
  {
   "cell_type": "code",
   "execution_count": 13,
   "metadata": {},
   "outputs": [],
   "source": [
    "driver.get(\"https://www.kt.com/\")"
   ]
  },
  {
   "cell_type": "code",
   "execution_count": 14,
   "metadata": {},
   "outputs": [],
   "source": [
    "driver.find_element_by_css_selector(\".quick > a:first-child\").get_attribute(\"outerHTML\")\n",
    "driver.find_element_by_css_selector(\".quick > a:first-child\").click()"
   ]
  },
  {
   "cell_type": "code",
   "execution_count": 15,
   "metadata": {},
   "outputs": [
    {
     "data": {
      "text/plain": [
       "['CDwindow-CF109D8F86C47DC5FF45542DE3D10E54',\n",
       " 'CDwindow-F258A27BF693CA6E8D0679D533749C7B']"
      ]
     },
     "execution_count": 15,
     "metadata": {},
     "output_type": "execute_result"
    }
   ],
   "source": [
    "driver.window_handles  # window를 관리하는 handler (떠있는 윈도우를 가리키는 고유값을 가지고 있음)"
   ]
  },
  {
   "cell_type": "code",
   "execution_count": 16,
   "metadata": {},
   "outputs": [],
   "source": [
    "driver.switch_to.window(driver.window_handles[-1])   # 로그인 윈도우 창으로 switch"
   ]
  },
  {
   "cell_type": "code",
   "execution_count": 17,
   "metadata": {},
   "outputs": [],
   "source": [
    "driver.find_element_by_id(\"userId\").send_keys(\"test\")"
   ]
  },
  {
   "cell_type": "markdown",
   "metadata": {},
   "source": [
    "## 프로젝트"
   ]
  },
  {
   "cell_type": "markdown",
   "metadata": {},
   "source": [
    "### 문제"
   ]
  },
  {
   "cell_type": "markdown",
   "metadata": {},
   "source": [
    "- 네이버 주요 뉴스(https://news.naver.com/ 오른쪽 상단의 \"가장 많이 본 뉴스\") 6개 카테고리의 뉴스 리스트 10개씩 가져오기\n",
    "- 주요 뉴스 링크의 본문 텍스트 저장하기(정치-aid.txt)"
   ]
  },
  {
   "cell_type": "markdown",
   "metadata": {},
   "source": [
    "### 문제 풀이 접근 방법"
   ]
  },
  {
   "cell_type": "markdown",
   "metadata": {},
   "source": [
    "1. requests를 이용해 뉴스 사이트 가져오기 (https://news.naver.com/)\n",
    "    - 참고로, 세션, 쿠키 사용안함(로그인 필요 없음). selenium 사용할 필요 없음\n",
    "2. 뉴스 사이트에서 \"가장 많이 본 뉴스\" 영역 찾기\n",
    "3. 각 영역별(정치/경제/사회/생활문화/세계/IT과학) 10개의 뉴스 링크 위치 확인하고, 영역 이름 찾기(예: 정치)\n",
    "4. 영역별 뉴스 리스트 찾기\n",
    "5. 각 뉴스로 이동(다운로드) 하여 각 뉴스의 본문 영역 찾고, 본문의 텍스트만 추출하여 저장\n",
    "    - 저장규칙 : 영역-aid.txt (예, 정치-009112494.txt)\n",
    "    - aid는 article로 이동 했을 때 url에 포함되어 있는 \"aid\"(article id) 값\n",
    "8. 총 60개 뉴스가 저장되었는지 확인"
   ]
  },
  {
   "cell_type": "markdown",
   "metadata": {},
   "source": [
    "### 문제 풀이"
   ]
  },
  {
   "cell_type": "markdown",
   "metadata": {},
   "source": [
    "#### 1. requests를 이용해 뉴스 사이트 가져오기"
   ]
  },
  {
   "cell_type": "code",
   "execution_count": 50,
   "metadata": {},
   "outputs": [],
   "source": [
    "from functions.download import getDownload"
   ]
  },
  {
   "cell_type": "code",
   "execution_count": 51,
   "metadata": {},
   "outputs": [],
   "source": [
    "from bs4 import BeautifulSoup\n",
    "from urllib.parse import urljoin\n",
    "import re\n",
    "import os, sys\n",
    "from datetime import datetime\n",
    "import numpy as np"
   ]
  },
  {
   "cell_type": "code",
   "execution_count": 52,
   "metadata": {},
   "outputs": [],
   "source": [
    "url = \"https://news.naver.com/\"\n",
    "param = {}"
   ]
  },
  {
   "cell_type": "code",
   "execution_count": 53,
   "metadata": {},
   "outputs": [],
   "source": [
    "html = getDownload(url)"
   ]
  },
  {
   "cell_type": "code",
   "execution_count": 54,
   "metadata": {},
   "outputs": [],
   "source": [
    "dom = BeautifulSoup(html.text, \"html.parser\")"
   ]
  },
  {
   "cell_type": "markdown",
   "metadata": {},
   "source": [
    "#### 2. 뉴스 사이트에서 \"사장 많이 본 뉴스\" 영역 찾기"
   ]
  },
  {
   "cell_type": "code",
   "execution_count": 55,
   "metadata": {
    "scrolled": false
   },
   "outputs": [
    {
     "data": {
      "text/plain": [
       "'가장 많이 본 뉴스'"
      ]
     },
     "execution_count": 55,
     "metadata": {},
     "output_type": "execute_result"
    }
   ],
   "source": [
    "dom.select(\"div.section.section_wide h4\")[0].text    # \"가장 많이 본 뉴스\"의 class명이 \"section section_wide\""
   ]
  },
  {
   "cell_type": "markdown",
   "metadata": {},
   "source": [
    "#### 3. 영역별 뉴스 링크 위치 확인 및 영역 이름 찾기"
   ]
  },
  {
   "cell_type": "code",
   "execution_count": 56,
   "metadata": {},
   "outputs": [
    {
     "data": {
      "text/plain": [
       "[<div class=\"category\">\n",
       " <span class=\"category_ranking\" id=\"category_ranking\"> <a aria-selected=\"false\" class=\"nclicks(rig.ranking)\" href=\"#\" id=\"right.ranking_tab_100\" onclick=\"return false;\">정치</a> <a aria-selected=\"false\" class=\"nclicks(rig.ranking)\" href=\"#\" id=\"right.ranking_tab_101\" onclick=\"return false;\">경제</a> <a aria-selected=\"false\" class=\"nclicks(rig.ranking)\" href=\"#\" id=\"right.ranking_tab_102\" onclick=\"return false;\">사회</a> <a aria-selected=\"false\" class=\"nclicks(rig.ranking)\" href=\"#\" id=\"right.ranking_tab_103\" onclick=\"return false;\">생활/문화</a> <a aria-selected=\"false\" class=\"nclicks(rig.ranking)\" href=\"#\" id=\"right.ranking_tab_104\" onclick=\"return false;\">세계</a> <a aria-selected=\"false\" class=\"nclicks(rig.ranking)\" href=\"#\" id=\"right.ranking_tab_105\" onclick=\"return false;\">IT/과학</a> </span>\n",
       " </div>]"
      ]
     },
     "execution_count": 56,
     "metadata": {},
     "output_type": "execute_result"
    }
   ],
   "source": [
    "dom.select(\".category\")"
   ]
  },
  {
   "cell_type": "code",
   "execution_count": 57,
   "metadata": {},
   "outputs": [
    {
     "data": {
      "text/plain": [
       "['정치', '경제', '사회', '생활문화', '세계', 'IT과학']"
      ]
     },
     "execution_count": 57,
     "metadata": {},
     "output_type": "execute_result"
    }
   ],
   "source": [
    "# 카테고리 이름\n",
    "categoryName = []\n",
    "\n",
    "for cat in dom.select(\".category\"):\n",
    "    for a in cat.find_all(\"a\"):\n",
    "        #print(a.text.strip())\n",
    "        categoryName.append(a.text.strip())\n",
    "\n",
    "categoryName = [name.replace('/', '') for name in categoryName]\n",
    "categoryName"
   ]
  },
  {
   "cell_type": "markdown",
   "metadata": {},
   "source": [
    "#### 4. 영역별 뉴스 리스트 찾기"
   ]
  },
  {
   "cell_type": "code",
   "execution_count": 58,
   "metadata": {},
   "outputs": [
    {
     "data": {
      "text/plain": [
       "(6, 10, 2)"
      ]
     },
     "execution_count": 58,
     "metadata": {},
     "output_type": "execute_result"
    }
   ],
   "source": [
    "news = []\n",
    "\n",
    "for cat in dom.select(\"[id^='ranking_10']\"):\n",
    "    newsSection = []\n",
    "    for li in cat.find_all(\"li\"):\n",
    "        # print(li.text)\n",
    "        # print(urljoin(url, li.find(\"a\")[\"href\"]))\n",
    "        \n",
    "        # li 태그 아래 em 태그에 순번이 저장되어 있음(순번 제외하고 저장하기 위해, li.find(\"a\").text 사용. 순번까지 저장하려면, li.text 사용)\n",
    "        newsSection.append([li.find(\"a\").text.strip(), urljoin(url, li.find(\"a\")[\"href\"])])\n",
    "    \n",
    "    news.append(newsSection)   # 섹션별로 구분해서 제목과 링크를 저장함(3차원 배열 : 섹션, 기사, 제목/링크)\n",
    "\n",
    "# news\n",
    "np.shape(news)  # 6개 카테고리, 10개 기사, 제목과 링크"
   ]
  },
  {
   "cell_type": "markdown",
   "metadata": {},
   "source": [
    "#### 5. 뉴스로 이동하여 다운로드 하고, 본문 텍스트 저장"
   ]
  },
  {
   "cell_type": "code",
   "execution_count": 59,
   "metadata": {
    "scrolled": true
   },
   "outputs": [
    {
     "name": "stdout",
     "output_type": "stream",
     "text": [
      "정치 기사 다운로드 완료\n",
      "경제 기사 다운로드 완료\n",
      "사회 기사 다운로드 완료\n",
      "생활문화 기사 다운로드 완료\n",
      "세계 기사 다운로드 완료\n",
      "IT과학 기사 다운로드 완료\n"
     ]
    }
   ],
   "source": [
    "# 코드를 이해하기 쉽도록 하기 위해, 참고로 print()를 중간에 추가함\n",
    "\n",
    "# naver_news 아래에 현재 시간(\"년-월-일_시간_분\")으로 폴더 만들기\n",
    "now = datetime.now().isoformat()\n",
    "day_hour_minute = now[:10] + \"_\" + now[11:13] + \"-\" + now[14:16]\n",
    "path = \"naver_news/\" + day_hour_minute\n",
    "\n",
    "try:\n",
    "    if not os.path.exists(path):\n",
    "        os.makedirs(path)\n",
    "except:\n",
    "    raise os.OSError(\"(%s) 디렉토리를 만들 수 없습니다!\" % (path))\n",
    "\n",
    "# 기사 다운로드 후 본문 저장하기\n",
    "for section in news:\n",
    "    category = categoryName[news.index(section)]\n",
    "\n",
    "    for n in section:\n",
    "        # print(n[1])   # 0번째에 기사 제목, 1번째에 기사 링크가 있음\n",
    "        # print(news[0][0][0], news[0][0][1])\n",
    "        aid = re.findall(r\"aid=\\d+\", n[1])[0].split(\"=\")[1]\n",
    "        fileName = category + \"-\" + aid + \".txt\"        \n",
    "            \n",
    "        html = getDownload(n[1])\n",
    "        dom = BeautifulSoup(html.text, \"html.parser\")\n",
    "        \n",
    "        content = dom.select(\"#articleBodyContents\")[0]\n",
    "        # print(dom.select(\"#articleBodyContents\"))\n",
    "        # print(content.text)\n",
    "        # print(\"-\" * 50)\n",
    "        \n",
    "        fullName = os.path.join(path, fileName)\n",
    "\n",
    "#         with open(fullName, \"w\") as f:    # <script> 태그 내에 있는 문자열이 포함되어 있음\n",
    "#             f.write(content.text)\n",
    "\n",
    "        # content에 <script> 태그 내의 내용이 포함되어 있음 (삭제할 필요는 없음. 삭제하지 않으려면 위에 코멘트 처리된 부분을 사용)\n",
    "        content_ = content.text.replace(\"// flash 오류를 우회하기 위한 함수 추가\\nfunction _flash_removeCallback() {}\", \"\")\n",
    " \n",
    "        with open(fullName, \"w\") as f:\n",
    "            f.write(content_)\n",
    "    \n",
    "    print(category, \"기사 다운로드 완료\")"
   ]
  },
  {
   "cell_type": "markdown",
   "metadata": {},
   "source": [
    "#### 저장된 뉴스 기사 확인"
   ]
  },
  {
   "cell_type": "code",
   "execution_count": 60,
   "metadata": {
    "scrolled": true
   },
   "outputs": [],
   "source": [
    "# 폴더 이름을 포함한 파일명 찾기\n",
    "full_filenames = []\n",
    "\n",
    "def search(dirname):\n",
    "    filenames = os.listdir(dirname)\n",
    "    \n",
    "    for filename in filenames:\n",
    "        full_filename = os.path.join(dirname, filename)\n",
    "        full_filenames.append(full_filename)\n",
    "        \n",
    "    return full_filenames\n",
    "    \n",
    "full_filenames = search(path)"
   ]
  },
  {
   "cell_type": "code",
   "execution_count": 61,
   "metadata": {},
   "outputs": [
    {
     "name": "stdout",
     "output_type": "stream",
     "text": [
      "naver_news/2019-03-14_18-47/정치-0002220478.txt\n",
      "--------------------------------------------------\n",
      "\n",
      "\n",
      "\n",
      "\n",
      "\n",
      "\n",
      "\n",
      "삼성전자 디스플레이 관련 간담회…낮은 지문인식률 \"사람 따라 다를 수 있다\"[아이뉴스24 윤선훈 기자] 삼성전자가 최종적으로는 디스플레이에서 홀을 완전히 사라지도록 하는 것이 궁극적 개발 목표라고 밝혔다.양병덕 삼성전자 무선사업부 상무는 14일 서울 중구 태평로에서 진행된 기자간담회에서 \"휴대폰 디스플레이를 개발할 때, 디스플레이 안으로 지문센서, 조도 센서 등을 삽입하는 것이 개발 방향이었다\"며 \"이를 통해 최대한 화면을 크게 하고자 했다\"고 말했다.양 상무는 그러면서 \"갤럭시S10에는 우측 상단에 구멍이 뚫려 있는 '인피니티 O-디스플레이\"가 적용됐다\"며 \"사용자들이 느끼지 못할 정도로 구멍이 점점 작아지면서 디스플레이에서 사라지도록 하는 것이 지향점\"이라고 덧붙였다.홀 디스플레이가 적용된 갤럭시S10. [출처=삼성전자]'갤럭시S10' 시리즈에 적용된 '인피니티-O 디스플레이'는 카메라 렌즈가 들어간 구멍 부분을 제외하면 스마트폰 전면이 디스플레이로 꽉 채워진 것이 특징이다. 삼성전자는 해당 기술에 대해 \"정교한 레이저 커팅 기술로 디스플레이에 작고 섬세한 구멍을 만들어 디스플레이 안에 카메라를 위치시켰다\"고 설명했다.삼성전자는 해당 디스플레이를 지난해 12월 중국에서 공개한 '갤럭시A8s'에 처음 적용한 뒤, 갤럭시S10  전 모델에 탑재했다. 아이폰X 등에 적용된 '노치' 모델보다 전면 디스플레이 비율이 더 높다는 점에서 주목받았다. 양 상무는 \"기술 진화적 관점에서 보면 인피니티-O 디스플레이는 디자인적 선택이 아니라 기술 진화 방향의 상징이 되는 중요한 기술\"이라고 말했다.인피니티-O 디스플레이를 구현하는 과정은 쉽지 않았다. LCD(액정표시장치) 디스플레이와는 달리 OLED는 유기물이라 매우 작은 양의 습기 등에도 픽셀이 손상될 수 있기 때문이다. 특히 구멍 사이로 투입되는 습기를 어떻게 막느냐를 놓고 고심을 거듭했다. 내부적으로 당장 갤럭시S10에 적용할 수 있느냐를 두고 의견이 갈리기도 했지만, 최종적으로 적용을 결정했고 제품 공개 이후 주목받는 기술 중 하나로 자리매김했다. 양 상무는 \"OLED 디스플레이에 인피니티-O 디스플레이를 적용한 것은 갤럭시S10이 유일하다\"고 강조했다.갤럭시S10에는 '다이내믹 아몰레드 디스플레이'도 적용됐다. 인간의 눈으로 보이는 것을 디스플레이를 통해 최대한 비슷하게 재현하고자 했다. 장면별로 가장 최적화된 색상을 적용하고, 눈에 해로운 블루라이트 등을 최소화하면서 눈의 피로도를 최대한 줄이고자 했다. 휴대폰 디스플레이 최초로 HDR10+ 규격 인증을 받은 점도 특징이다.다만 이날 삼성전자는 최근 문제가 되고 있는 낮은 지문인식률에 대해서는 말을 아꼈다. 갤럭시S10에는 초음파 방식의 지문인식이 적용됐는데 일부 사용자들을 대상으로 지문인식이 제대로 되지 않는다는 불만이 잇따라 제기되고 있다.이에 대해 양 상무는 \"출시 전 자체 실험에서 마련한 표본 대상으로는 문제가 없다는 결과가 나왔지만 간혹 사람에 따라 지문이 더욱 건조하다거나 하는 경우가 있을 수 있다\"며 \"완성도를 높이기 위해 많은 노력을 했다\"고 말했다. 삼성전자 관계자는 \"사용자 환경에 따라 지문인식 결과가 달라질 수 있다\"며 \"현재 소프트웨어 업데이트가 진행 중\"이라고 언급했다.윤선훈기자 krel@inews24.com▶네이버 채널에서 '아이뉴스24'를 구독해주세요.▶디지털 마케팅의 미래 - 아이포럼 2019[ⓒ 아이뉴스24 무단전재 및 재배포 금지]\n",
      "\n",
      "\n",
      ">>>>>>>>>>>>>>>>>>>>>>>>>>>>>>>>>>>>>>>>>>>>>>>>>>\n",
      "\n",
      "\n"
     ]
    }
   ],
   "source": [
    "# 저장된 내용 출력\n",
    "for full_filename in full_filenames:\n",
    "    print(full_filename)\n",
    "    print(\"-\" * 50)\n",
    "    \n",
    "    with open(fullName, \"r\") as f:\n",
    "        print(f.read())\n",
    "        \n",
    "    print(\">\" * 50, end=\"\\n\\n\\n\")\n",
    "    \n",
    "    break    # 전체 내용을 보려면, 코멘트 처리하거나 삭제"
   ]
  },
  {
   "cell_type": "code",
   "execution_count": 64,
   "metadata": {},
   "outputs": [],
   "source": [
    "# 뉴스 기사 리스트 저장\n",
    "import pandas as pd\n",
    "\n",
    "news_list = np.array(news).reshape(-1, 2)\n",
    "\n",
    "df = pd.DataFrame(news_list)\n",
    "df.to_csv(path + \"/news_list.csv\", header=False, index=False)\n",
    "\n",
    "# df"
   ]
  },
  {
   "cell_type": "code",
   "execution_count": null,
   "metadata": {},
   "outputs": [],
   "source": []
  }
 ],
 "metadata": {
  "kernelspec": {
   "display_name": "Python 3",
   "language": "python",
   "name": "python3"
  },
  "language_info": {
   "codemirror_mode": {
    "name": "ipython",
    "version": 3
   },
   "file_extension": ".py",
   "mimetype": "text/x-python",
   "name": "python",
   "nbconvert_exporter": "python",
   "pygments_lexer": "ipython3",
   "version": "3.6.7"
  },
  "toc": {
   "base_numbering": 1,
   "nav_menu": {},
   "number_sections": false,
   "sideBar": true,
   "skip_h1_title": false,
   "title_cell": "Table of Contents",
   "title_sidebar": "Contents",
   "toc_cell": true,
   "toc_position": {},
   "toc_section_display": true,
   "toc_window_display": false
  }
 },
 "nbformat": 4,
 "nbformat_minor": 2
}
