{
 "cells": [
  {
   "cell_type": "markdown",
   "metadata": {
    "toc": true
   },
   "source": [
    "<h1>Table of Contents<span class=\"tocSkip\"></span></h1>\n",
    "<div class=\"toc\"><ul class=\"toc-item\"><li><span><a href=\"#selenium-import-&amp;-driver-load\" data-toc-modified-id=\"selenium-import-&amp;-driver-load-1\">selenium import &amp; driver load</a></span></li><li><span><a href=\"#다음-로그인-하기-(iframe-사용하는-사이트)\" data-toc-modified-id=\"다음-로그인-하기-(iframe-사용하는-사이트)-2\">다음 로그인 하기 (iframe 사용하는 사이트)</a></span></li><li><span><a href=\"#kt.com-로그인-하기-(별도-윈도우를-사용하는-사이트)\" data-toc-modified-id=\"kt.com-로그인-하기-(별도-윈도우를-사용하는-사이트)-3\">kt.com 로그인 하기 (별도 윈도우를 사용하는 사이트)</a></span></li><li><span><a href=\"#프로젝트-:-네이버-뉴스-기사-scraping\" data-toc-modified-id=\"프로젝트-:-네이버-뉴스-기사-scraping-4\">프로젝트 : 네이버 뉴스 기사 scraping</a></span><ul class=\"toc-item\"><li><span><a href=\"#문제\" data-toc-modified-id=\"문제-4.1\">문제</a></span></li><li><span><a href=\"#문제-풀이-접근-방법\" data-toc-modified-id=\"문제-풀이-접근-방법-4.2\">문제 풀이 접근 방법</a></span></li><li><span><a href=\"#문제-풀이\" data-toc-modified-id=\"문제-풀이-4.3\">문제 풀이</a></span><ul class=\"toc-item\"><li><span><a href=\"#1.-requests를-이용해-뉴스-사이트-가져오기\" data-toc-modified-id=\"1.-requests를-이용해-뉴스-사이트-가져오기-4.3.1\">1. requests를 이용해 뉴스 사이트 가져오기</a></span></li><li><span><a href=\"#2.-뉴스-사이트에서-&quot;가장-많이-본-뉴스&quot;-영역-찾기\" data-toc-modified-id=\"2.-뉴스-사이트에서-&quot;가장-많이-본-뉴스&quot;-영역-찾기-4.3.2\">2. 뉴스 사이트에서 \"가장 많이 본 뉴스\" 영역 찾기</a></span></li><li><span><a href=\"#3.-영역별-뉴스-링크-위치-확인-및-영역-이름-찾기\" data-toc-modified-id=\"3.-영역별-뉴스-링크-위치-확인-및-영역-이름-찾기-4.3.3\">3. 영역별 뉴스 링크 위치 확인 및 영역 이름 찾기</a></span></li><li><span><a href=\"#4.-영역별-뉴스-리스트-찾기\" data-toc-modified-id=\"4.-영역별-뉴스-리스트-찾기-4.3.4\">4. 영역별 뉴스 리스트 찾기</a></span></li><li><span><a href=\"#5.-뉴스로-이동하여-다운로드-하고,-본문-텍스트-저장\" data-toc-modified-id=\"5.-뉴스로-이동하여-다운로드-하고,-본문-텍스트-저장-4.3.5\">5. 뉴스로 이동하여 다운로드 하고, 본문 텍스트 저장</a></span></li><li><span><a href=\"#6.-저장된-뉴스-기사-확인\" data-toc-modified-id=\"6.-저장된-뉴스-기사-확인-4.3.6\">6. 저장된 뉴스 기사 확인</a></span></li></ul></li></ul></li></ul></div>"
   ]
  },
  {
   "cell_type": "markdown",
   "metadata": {},
   "source": [
    "- MAC에서 Chrome \"검사\" 단축키 : command + alt + i  (오른쪽 마우스 비활성화 된 사이트에서 사용하면 편리함)"
   ]
  },
  {
   "cell_type": "markdown",
   "metadata": {},
   "source": [
    "## selenium import & driver load"
   ]
  },
  {
   "cell_type": "code",
   "execution_count": 1,
   "metadata": {},
   "outputs": [],
   "source": [
    "from selenium import webdriver"
   ]
  },
  {
   "cell_type": "code",
   "execution_count": 2,
   "metadata": {},
   "outputs": [],
   "source": [
    "driver = webdriver.Chrome(\"/Users/alex/Documents/ai/NLP/nlp_ipa/chromedriver\")"
   ]
  },
  {
   "cell_type": "code",
   "execution_count": 3,
   "metadata": {},
   "outputs": [],
   "source": [
    "# driver.get(\"http://example.webscraping.com/places/default/search\")"
   ]
  },
  {
   "cell_type": "markdown",
   "metadata": {},
   "source": [
    "## 다음 로그인 하기 (iframe 사용하는 사이트)"
   ]
  },
  {
   "cell_type": "markdown",
   "metadata": {},
   "source": [
    "- 로그인 관련 컨텐츠가 iframe 내에 있음"
   ]
  },
  {
   "cell_type": "code",
   "execution_count": 4,
   "metadata": {},
   "outputs": [],
   "source": [
    "driver.get(\"http://www.daum.net\")"
   ]
  },
  {
   "cell_type": "code",
   "execution_count": 5,
   "metadata": {},
   "outputs": [],
   "source": [
    "# %%writefile daum_account.json\n",
    "# {\n",
    "#     \"id\": \"아이디\",\n",
    "#     \"pw\":\"패스워드\"\n",
    "# }"
   ]
  },
  {
   "cell_type": "code",
   "execution_count": 6,
   "metadata": {},
   "outputs": [],
   "source": [
    "# with open(\"daum_account.json\") as f:\n",
    "#     account = json.load(f)"
   ]
  },
  {
   "cell_type": "code",
   "execution_count": 7,
   "metadata": {},
   "outputs": [],
   "source": [
    "# driver.find_element_by_id(\"id\")   # 에러가 발생함"
   ]
  },
  {
   "cell_type": "markdown",
   "metadata": {},
   "source": [
    "- iframe 태그를 가지고 있고, iframe 내에 또다른 HTML 페이지를 포함하고 있음"
   ]
  },
  {
   "cell_type": "code",
   "execution_count": 8,
   "metadata": {},
   "outputs": [
    {
     "data": {
      "text/plain": [
       "'<iframe id=\"loginForm\" src=\"https://logins.daum.net/accounts/toploginform.do\" width=\"300\" height=\"120\" title=\"로그인\" marginheight=\"0\" marginwidth=\"0\" frameborder=\"0\" scrolling=\"no\" tabindex=\"2\"></iframe>'"
      ]
     },
     "execution_count": 8,
     "metadata": {},
     "output_type": "execute_result"
    }
   ],
   "source": [
    "driver.find_element_by_id(\"loginForm\").get_attribute(\"outerHTML\")    # iframe의 class명이 loginForm"
   ]
  },
  {
   "cell_type": "markdown",
   "metadata": {},
   "source": [
    "- 주소가 https://logins.daum.net/accounts/toploginform.do 인 것을 알 수 있음"
   ]
  },
  {
   "cell_type": "code",
   "execution_count": 9,
   "metadata": {},
   "outputs": [],
   "source": [
    "login = driver.find_element_by_id(\"loginForm\")\n",
    "driver.switch_to.frame(login)    # iframe 내에 있는 DOM으로 switch 함"
   ]
  },
  {
   "cell_type": "code",
   "execution_count": 10,
   "metadata": {},
   "outputs": [
    {
     "data": {
      "text/plain": [
       "'<input type=\"text\" id=\"id\" name=\"id\" class=\"tf_login\" maxlength=\"50\" tabindex=\"1\">'"
      ]
     },
     "execution_count": 10,
     "metadata": {},
     "output_type": "execute_result"
    }
   ],
   "source": [
    "driver.find_element_by_id(\"id\").get_attribute(\"outerHTML\")"
   ]
  },
  {
   "cell_type": "code",
   "execution_count": 11,
   "metadata": {},
   "outputs": [],
   "source": [
    "driver.find_element_by_id(\"id\").send_keys(\"ididid\")\n",
    "driver.find_element_by_id(\"inputPwd\").send_keys(\"password\")"
   ]
  },
  {
   "cell_type": "code",
   "execution_count": 12,
   "metadata": {
    "scrolled": true
   },
   "outputs": [],
   "source": [
    "driver.switch_to.default_content()    # 기본 DOM으로 switch 함"
   ]
  },
  {
   "cell_type": "markdown",
   "metadata": {},
   "source": [
    "## kt.com 로그인 하기 (별도 윈도우를 사용하는 사이트)"
   ]
  },
  {
   "cell_type": "markdown",
   "metadata": {},
   "source": [
    "- kt.com은 별도 window로 login 창이 뜨는 사례"
   ]
  },
  {
   "cell_type": "code",
   "execution_count": 13,
   "metadata": {},
   "outputs": [],
   "source": [
    "driver.get(\"https://www.kt.com/\")"
   ]
  },
  {
   "cell_type": "code",
   "execution_count": 14,
   "metadata": {},
   "outputs": [],
   "source": [
    "driver.find_element_by_css_selector(\".quick > a:first-child\").get_attribute(\"outerHTML\")\n",
    "driver.find_element_by_css_selector(\".quick > a:first-child\").click()"
   ]
  },
  {
   "cell_type": "code",
   "execution_count": 15,
   "metadata": {},
   "outputs": [
    {
     "data": {
      "text/plain": [
       "['CDwindow-28CAA3B9A374F1F5563B7B75331F0CFD',\n",
       " 'CDwindow-5DEEFBAE0225D3442826960775B03419']"
      ]
     },
     "execution_count": 15,
     "metadata": {},
     "output_type": "execute_result"
    }
   ],
   "source": [
    "driver.window_handles  # window를 관리하는 handler (떠있는 윈도우를 가리키는 고유값을 가지고 있음)"
   ]
  },
  {
   "cell_type": "code",
   "execution_count": 16,
   "metadata": {},
   "outputs": [],
   "source": [
    "driver.switch_to.window(driver.window_handles[-1])   # 로그인 윈도우 창으로 switch"
   ]
  },
  {
   "cell_type": "code",
   "execution_count": 17,
   "metadata": {},
   "outputs": [],
   "source": [
    "driver.find_element_by_id(\"userId\").send_keys(\"test\")"
   ]
  },
  {
   "cell_type": "markdown",
   "metadata": {},
   "source": [
    "## 프로젝트 : 네이버 뉴스 기사 scraping"
   ]
  },
  {
   "cell_type": "markdown",
   "metadata": {},
   "source": [
    "### 문제"
   ]
  },
  {
   "cell_type": "markdown",
   "metadata": {},
   "source": [
    "- 네이버 주요 뉴스(https://news.naver.com/ 오른쪽 상단의 \"가장 많이 본 뉴스\") 6개 카테고리의 뉴스 리스트 10개씩 가져오기\n",
    "- 주요 뉴스 링크의 본문 텍스트 저장하기(정치-aid.txt)"
   ]
  },
  {
   "cell_type": "markdown",
   "metadata": {},
   "source": [
    "### 문제 풀이 접근 방법"
   ]
  },
  {
   "cell_type": "markdown",
   "metadata": {},
   "source": [
    "1. requests를 이용해 뉴스 사이트 가져오기\n",
    "    - https://news.naver.com/\n",
    "    - 참고로, 세션, 쿠키 사용안함(로그인 필요 없음). selenium 사용할 필요 없음\n",
    "1. 뉴스 사이트에서 \"가장 많이 본 뉴스\" 영역 찾기\n",
    "1. 각 영역별(정치/경제/사회/생활문화/세계/IT과학) 10개의 뉴스 링크 위치 확인하고, 영역 이름 찾기(예: 정치)\n",
    "1. 영역별 뉴스 리스트 찾기\n",
    "1. 각 뉴스로 이동(다운로드) 하여 각 뉴스의 본문 영역 찾고, 본문의 텍스트만 추출하여 저장\n",
    "    - 저장규칙 : 영역-aid.txt (예, 정치-009112494.txt)\n",
    "    - aid는 article로 이동 했을 때 url에 포함되어 있는 \"aid\"(article id) 값\n",
    "1. 총 60개 뉴스가 저장되었는지 확인"
   ]
  },
  {
   "cell_type": "markdown",
   "metadata": {},
   "source": [
    "### 문제 풀이"
   ]
  },
  {
   "cell_type": "markdown",
   "metadata": {},
   "source": [
    "#### 1. requests를 이용해 뉴스 사이트 가져오기"
   ]
  },
  {
   "cell_type": "code",
   "execution_count": 18,
   "metadata": {},
   "outputs": [],
   "source": [
    "from functions.download import getDownload"
   ]
  },
  {
   "cell_type": "code",
   "execution_count": 19,
   "metadata": {},
   "outputs": [],
   "source": [
    "from bs4 import BeautifulSoup\n",
    "from urllib.parse import urljoin\n",
    "import re\n",
    "import os, sys\n",
    "from datetime import datetime\n",
    "import numpy as np"
   ]
  },
  {
   "cell_type": "code",
   "execution_count": 20,
   "metadata": {},
   "outputs": [],
   "source": [
    "url = \"https://news.naver.com/\"\n",
    "param = {}"
   ]
  },
  {
   "cell_type": "code",
   "execution_count": 21,
   "metadata": {},
   "outputs": [],
   "source": [
    "html = getDownload(url)"
   ]
  },
  {
   "cell_type": "code",
   "execution_count": 22,
   "metadata": {},
   "outputs": [],
   "source": [
    "dom = BeautifulSoup(html.text, \"html.parser\")"
   ]
  },
  {
   "cell_type": "markdown",
   "metadata": {},
   "source": [
    "#### 2. 뉴스 사이트에서 \"가장 많이 본 뉴스\" 영역 찾기"
   ]
  },
  {
   "cell_type": "code",
   "execution_count": 23,
   "metadata": {
    "scrolled": false
   },
   "outputs": [
    {
     "data": {
      "text/plain": [
       "'가장 많이 본 뉴스'"
      ]
     },
     "execution_count": 23,
     "metadata": {},
     "output_type": "execute_result"
    }
   ],
   "source": [
    "dom.select(\"div.section.section_wide h4\")[0].text    # \"가장 많이 본 뉴스\"의 class명이 \"section section_wide\""
   ]
  },
  {
   "cell_type": "markdown",
   "metadata": {},
   "source": [
    "#### 3. 영역별 뉴스 링크 위치 확인 및 영역 이름 찾기"
   ]
  },
  {
   "cell_type": "code",
   "execution_count": 24,
   "metadata": {},
   "outputs": [
    {
     "data": {
      "text/plain": [
       "[<div class=\"category\">\n",
       " <span class=\"category_ranking\" id=\"category_ranking\"> <a aria-selected=\"false\" class=\"nclicks(rig.ranking)\" href=\"#\" id=\"right.ranking_tab_100\" onclick=\"return false;\">정치</a> <a aria-selected=\"false\" class=\"nclicks(rig.ranking)\" href=\"#\" id=\"right.ranking_tab_101\" onclick=\"return false;\">경제</a> <a aria-selected=\"false\" class=\"nclicks(rig.ranking)\" href=\"#\" id=\"right.ranking_tab_102\" onclick=\"return false;\">사회</a> <a aria-selected=\"false\" class=\"nclicks(rig.ranking)\" href=\"#\" id=\"right.ranking_tab_103\" onclick=\"return false;\">생활/문화</a> <a aria-selected=\"false\" class=\"nclicks(rig.ranking)\" href=\"#\" id=\"right.ranking_tab_104\" onclick=\"return false;\">세계</a> <a aria-selected=\"false\" class=\"nclicks(rig.ranking)\" href=\"#\" id=\"right.ranking_tab_105\" onclick=\"return false;\">IT/과학</a> </span>\n",
       " </div>]"
      ]
     },
     "execution_count": 24,
     "metadata": {},
     "output_type": "execute_result"
    }
   ],
   "source": [
    "dom.select(\".category\")"
   ]
  },
  {
   "cell_type": "code",
   "execution_count": 25,
   "metadata": {},
   "outputs": [
    {
     "data": {
      "text/plain": [
       "['정치', '경제', '사회', '생활문화', '세계', 'IT과학']"
      ]
     },
     "execution_count": 25,
     "metadata": {},
     "output_type": "execute_result"
    }
   ],
   "source": [
    "# 카테고리 이름\n",
    "categoryName = []\n",
    "\n",
    "for cat in dom.select(\".category\"):\n",
    "    for a in cat.find_all(\"a\"):\n",
    "        #print(a.text.strip())\n",
    "        categoryName.append(a.text.strip())\n",
    "\n",
    "categoryName = [name.replace('/', '') for name in categoryName]\n",
    "categoryName"
   ]
  },
  {
   "cell_type": "markdown",
   "metadata": {},
   "source": [
    "#### 4. 영역별 뉴스 리스트 찾기"
   ]
  },
  {
   "cell_type": "code",
   "execution_count": 26,
   "metadata": {},
   "outputs": [
    {
     "data": {
      "text/plain": [
       "(6, 10, 2)"
      ]
     },
     "execution_count": 26,
     "metadata": {},
     "output_type": "execute_result"
    }
   ],
   "source": [
    "news_list = []\n",
    "\n",
    "for sec in dom.select(\"[id^='ranking_10']\"):    # id가 ranking_100 ~ ranking_105인 태그 아래에 섹션별로 내용이 있음\n",
    "    sec_news = []\n",
    "    for li in sec.find_all(\"li\"):\n",
    "        # print(li.text)\n",
    "        # print(urljoin(url, li.find(\"a\")[\"href\"]))\n",
    "        \n",
    "        # li 태그 아래 em 태그에 순번이 저장되어 있음(순번 제외하고 저장하기 위해, li.find(\"a\").text 사용. 순번까지 저장하려면, li.text 사용)\n",
    "        sec_news.append([li.find(\"a\").text.strip(), urljoin(url, li.find(\"a\")[\"href\"])])\n",
    "    \n",
    "    news_list.append(sec_news)   # 섹션별로 구분해서 제목과 링크를 저장함(3차원 배열 : 섹션, 기사, 제목/링크)\n",
    "\n",
    "# news\n",
    "np.shape(news_list)  # 6개 카테고리, 10개 기사, 제목과 링크"
   ]
  },
  {
   "cell_type": "markdown",
   "metadata": {},
   "source": [
    "#### 5. 뉴스로 이동하여 다운로드 하고, 본문 텍스트 저장"
   ]
  },
  {
   "cell_type": "code",
   "execution_count": 27,
   "metadata": {
    "scrolled": true
   },
   "outputs": [
    {
     "name": "stdout",
     "output_type": "stream",
     "text": [
      "정치 기사 다운로드 완료\n",
      "경제 기사 다운로드 완료\n",
      "사회 기사 다운로드 완료\n",
      "생활문화 기사 다운로드 완료\n",
      "세계 기사 다운로드 완료\n",
      "IT과학 기사 다운로드 완료\n"
     ]
    }
   ],
   "source": [
    "# naver_news 아래에 현재 시간(\"년-월-일_시간_분\")으로 폴더 만들기\n",
    "now = datetime.now().isoformat()\n",
    "day_hour_minute = now[:10] + \"_\" + now[11:13] + \"-\" + now[14:16]\n",
    "path = \"naver_news/\" + day_hour_minute\n",
    "\n",
    "try:\n",
    "    if not os.path.exists(path):\n",
    "        os.makedirs(path)\n",
    "except:\n",
    "    raise os.OSError(\"(%s) 디렉토리를 만들 수 없습니다!\" % (path))\n",
    "\n",
    "# 기사 다운로드 후 본문 저장하기\n",
    "for section in news_list:\n",
    "    sectionName = categoryName[news_list.index(section)]\n",
    "\n",
    "    for sec in section:\n",
    "        # print(sec[1])   # 0번째에 기사 제목, 1번째에 기사 링크가 있음\n",
    "        # print(news_list[0][0][0], news_list[0][0][1])\n",
    "        aid = re.findall(r\"aid=\\d+\", sec[1])[0].split(\"=\")[1]\n",
    "        fileName = sectionName + \"-\" + aid + \".txt\"        \n",
    "        \n",
    "        html = getDownload(sec[1])\n",
    "        dom = BeautifulSoup(html.text, \"html.parser\")\n",
    "        \n",
    "        content = dom.select(\"#articleBodyContents\")[0]\n",
    "        # print(dom.select(\"#articleBodyContents\"))\n",
    "        # print(content.text)\n",
    "        # print(\"-\" * 50)\n",
    "        \n",
    "        fullName = os.path.join(path, fileName)\n",
    "\n",
    "#         with open(fullName, \"w\") as f:    # <script> 태그 내에 있는 문자열이 포함되어 있음\n",
    "#             f.write(content.text)\n",
    "\n",
    "        # content에 <script> 태그 내의 내용이 포함되어 있음 (삭제할 필요는 없음. 삭제하지 않으려면 위에 코멘트 처리된 부분을 사용)\n",
    "        content_ = content.text.replace(\"// flash 오류를 우회하기 위한 함수 추가\\nfunction _flash_removeCallback() {}\", \"\")\n",
    " \n",
    "        with open(fullName, \"w\") as f:\n",
    "            f.write(content_)\n",
    "    \n",
    "    print(sectionName, \"기사 다운로드 완료\")"
   ]
  },
  {
   "cell_type": "markdown",
   "metadata": {},
   "source": [
    "#### 6. 저장된 뉴스 기사 확인"
   ]
  },
  {
   "cell_type": "code",
   "execution_count": 31,
   "metadata": {
    "scrolled": true
   },
   "outputs": [],
   "source": [
    "# 폴더 이름을 포함한 파일명 찾기\n",
    "full_filenames = []\n",
    "\n",
    "def search(dirname):\n",
    "    filenames = os.listdir(dirname)\n",
    "    \n",
    "    for filename in filenames:\n",
    "        full_filename = os.path.join(dirname, filename)\n",
    "        full_filenames.append(full_filename)\n",
    "        \n",
    "    return full_filenames\n",
    "    \n",
    "full_filenames = search(path)\n",
    "#full_filenames"
   ]
  },
  {
   "cell_type": "code",
   "execution_count": 32,
   "metadata": {},
   "outputs": [
    {
     "name": "stdout",
     "output_type": "stream",
     "text": [
      "naver_news/2019-03-14_21-10/생활문화-0002928539.txt\n",
      "--------------------------------------------------\n",
      "\n",
      "\n",
      "\n",
      "\n",
      "\n",
      "\n",
      "\n",
      "‘뇌 속 노폐물’, 뇌 손상시켜 알츠하이머 유발수면다원검사, 수면패턴 분석해 깊은 잠자도록 치료현재 우리나라의 치매인구는 75만여명으로 노인인구가 점차 늘면서 2030년이 되면 약 136만 명이 치매 환자가 될 것으로 예상된다. 치매의 원인 중 하나인 알츠하이머병은 전체 치매의 50~60%를 차지한다고. 알츠하이머병은 뇌 속의 베타 아밀로이드라는 작은 단백질이 지나치게 생산돼 뇌에 침착되면서 뇌세포손상을 야기한다. 이로 인해 뇌세포의 골격이 파괴되면서 치매로 이어지는 것이다. 최근 연구에 따르면 깊은 수면이 치매단백질인 베타 아밀로이드의 농도에 영향을 미치는 것으로 나타났다. 신원철 교수는 “깊은 잠에 들지 못하는 날이 많아지면 뇌 속 노폐물이 축적되면서 치매를 야기할 수 있다”고 말했다.■깊은 수면, 베타 아밀로이드 배출해 치매 예방에 효과알츠하이머병은 베타 아밀로이드(beta-amyloid)에 의해 발생하기 때문에 베타 아밀로이드를 몸속에서 배출시키는 것이 중요하다. 강동경희대병원 수면센터 신경과 신원철 교수는 “깊은 잠을 잘 때 뇌의 글림파틱(Glymphatic) 시스템이 뇌 동맥의 박동과 혈류의 힘으로 뇌 속에 축적된 노폐물을 정맥으로 밀어 뇌 밖으로 배출한다”며 “깊은 잠을 자는 것이 치매 예방에 도움이 될 수 있다”고 말했다. 실제로 미국 휘튼(Wheaten)대학 연구팀의 2017년 연구결과 발표에 따르면 516명을 대상으로 3년간 추적 관찰한 결과, 수면호흡장애가 있는 그룹이 수면호흡장애가 없는 그룹보다 베타아밀로이드 수치가 더 많고 증가 속도도 빠르게 나타났다.■수면무호흡증·불면증 등으로 깊은 잠들지 못하면 뇌 속 노폐물 청소 못해치매 단백질’은 증상이 시작되기 5-7년 전부터 응집 덩어리가 뇌에 축적된다. 그렇기 때문에 당장 증상이 없어도 수면장애로 인해 깊은 잠에 들지 못하는 사람은 치매 단백질이 축적될 수 있다. 신원철 교수는 “코골이가 심한 사람은 하루 100회 이상 수면호흡장애가 발생할 수 있다.”면서 “수면호흡장애는 인지기능 저하를 유발할 수 있고 최근에는 수면호흡장애가 알츠하이머병의 사전 증상으로 볼 수 있다는 가설도 제기되고 있다”며 수면장애가 있는 사람은 진료를 받아볼 것을 당부했다. ■수면다원검사 통해 수면 상태 체크해야▲밤에 잠을 자도 피곤하거나 ▲자고 일어나서 뒷골이 당기고 ▲기억력·판단력·집중력이 저하되는 증상이 있으면 장애가 있는 것으로 의심해볼 수 있다. 수면장애는 질환에 대해 스스로 파악하기 어려워 수면다원검사를 통해 정확하게 수면 패턴과 상태를 검사해보는 것이 좋다. 수면다원검사는 수면무호흡증·불면증·코골이·하지불안증후군 등 수면장애를 진단하는 데 가장 효과적인 검사다. 저녁 시간 병원에 내원해 검사 장비를 착용하고 실제로 잠을 자면서 수면 중 동반되는 문제점을 정밀하게 분석할 수 있다.신원철 교수는 “수면다원검사를 통해 왜 깊은 잠에 들지 못하는지 정확한 파악이 가능하다.”며 “수면 질환으로 진단되면 신경과, 내과 등 여러 진료과와의 협진을 통해 양압기 처방, 구강 내 장치, 체중 감량 등 환자맞춤형 치료를 통해 수면의 질을 향상할 수 있다”고 말했다. 기존에는 수면다원검사가 보험적용이 되지 않아 진료비가 부담되었지만, 2018년 7월부터 코골이, 수면무호흡증 등 수면질환과 연관되어 검사를 받는 경우 보험적용이 되어 환자의 부담이 줄었다.■수면장애 치료 통한 숙면과 함께 생활습관 개선하면 치매 예방에 도움치매 단백질로 손상된 뇌세포는 다시 되돌리기 어렵기 때문에 치매는 숙면과 생활습관 개선을 통해 몸을 건강하게 만들어 예방하는 것이 최선이다. 이를 위해 수면장애 치료와 함께 생활습관도 개선하면 치매를 예방하는데 도움 된다. 비만한 사람은 수면무호흡증의 가능성이 높기 때문에 꾸준한 운동을 통해 체중감량을 하면 수면무호흡이 감소할 수 있다. Tip. 치매 예방하는 생활습관1. 뇌를 훈련시켜라 - 바둑, 장기, 외국어공부, 낯선 전화번호 듣고 10초 후 기억해내기, 퍼즐 맞추기 등을 통해 뇌를 훈련시키는 것이 치매 예방에 도움 된다.2. 사회활동을 많이 하라 - 종교 모임, 사교모임, 동창회 등 사람이 모여 활동하는 곳에서 활동하면 자연스레 활동량과 대화가 많아지면서 뇌 활성화에 효과가 있다.3. 스트레스와 불안을 줄여라 - 만성스트레스는 치매의 위험을 2배 증가시키기 때문에 스트레스 조절이 필요하다.4. 운동을 하라 - 중년에 신체와 뇌를 활발히 움직이지 않으면 치매에 걸릴 위험이 3배 증가하고, 비만인 경우에는 2배 증가한다.5. 건강에 도움이 되는 식사를 하라 - 심장건강에 좋은 식품과 비타민(C,E) 섭취(검붉은 색 과일, 채소), 엽산(곡물)을 섭취해 혈류가 온 몸에 잘 통하도록 하는 것이 좋다.- 과일, 채소주스를 일주일에 3번 이상 섭취하면 미섭취자에 비해 치매위험이 4배 감소한다.헬스경향 양미정 기자 certain0314@k-health.com▶ 네이버 메인에서 경향신문 받아보기 ▶ 두고 두고 읽는 뉴스 ▶ 인기 무료만화©경향신문(www.khan.co.kr), 무단전재 및 재배포 금지\n",
      "\n",
      "\n",
      ">>>>>>>>>>>>>>>>>>>>>>>>>>>>>>>>>>>>>>>>>>>>>>>>>>\n",
      "\n",
      "\n"
     ]
    }
   ],
   "source": [
    "# 저장된 내용 출력\n",
    "for full_filename in full_filenames:\n",
    "    print(full_filename)\n",
    "    print(\"-\" * 50)\n",
    "    \n",
    "    with open(full_filename, \"r\") as f:\n",
    "        print(f.read())\n",
    "        \n",
    "    print(\">\" * 50, end=\"\\n\\n\\n\")\n",
    "    \n",
    "    break    # 전체 내용을 보려면, 코멘트 처리하거나 삭제"
   ]
  },
  {
   "cell_type": "code",
   "execution_count": 44,
   "metadata": {
    "scrolled": true
   },
   "outputs": [],
   "source": [
    "# 뉴스 기사 리스트 파일로 저장\n",
    "import pandas as pd\n",
    "\n",
    "csvFileName = os.path.join(path, \"news_list.csv\")\n",
    "\n",
    "news_list_2d = np.array(news_list).reshape(-1, 2)\n",
    "\n",
    "df = pd.DataFrame(news_list_2d)\n",
    "df.to_csv(csvFileName, header=False, index=False)\n",
    "# df"
   ]
  }
 ],
 "metadata": {
  "kernelspec": {
   "display_name": "Python 3",
   "language": "python",
   "name": "python3"
  },
  "language_info": {
   "codemirror_mode": {
    "name": "ipython",
    "version": 3
   },
   "file_extension": ".py",
   "mimetype": "text/x-python",
   "name": "python",
   "nbconvert_exporter": "python",
   "pygments_lexer": "ipython3",
   "version": "3.6.7"
  },
  "toc": {
   "base_numbering": 1,
   "nav_menu": {},
   "number_sections": false,
   "sideBar": true,
   "skip_h1_title": false,
   "title_cell": "Table of Contents",
   "title_sidebar": "Contents",
   "toc_cell": true,
   "toc_position": {},
   "toc_section_display": true,
   "toc_window_display": false
  }
 },
 "nbformat": 4,
 "nbformat_minor": 2
}
