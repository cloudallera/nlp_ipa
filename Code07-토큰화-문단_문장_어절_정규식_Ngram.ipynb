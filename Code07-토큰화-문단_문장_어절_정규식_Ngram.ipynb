{
 "cells": [
  {
   "cell_type": "markdown",
   "metadata": {
    "toc": true
   },
   "source": [
    "<h1>Table of Contents<span class=\"tocSkip\"></span></h1>\n",
    "<div class=\"toc\"><ul class=\"toc-item\"><li><span><a href=\"#네이버-뉴스-기사-Scraping-(3.14일-9강-강의-내용)\" data-toc-modified-id=\"네이버-뉴스-기사-Scraping-(3.14일-9강-강의-내용)-1\">네이버 뉴스 기사 Scraping (3.14일 9강 강의 내용)</a></span></li><li><span><a href=\"#NLP-개요\" data-toc-modified-id=\"NLP-개요-2\">NLP 개요</a></span><ul class=\"toc-item\"><li><span><a href=\"#자연어-분석-:-기반-기술\" data-toc-modified-id=\"자연어-분석-:-기반-기술-2.1\">자연어 분석 : 기반 기술</a></span></li><li><span><a href=\"#응용-기술-:-모델을-접목한-도메인-Specific-기술\" data-toc-modified-id=\"응용-기술-:-모델을-접목한-도메인-Specific-기술-2.2\">응용 기술 : 모델을 접목한 도메인 Specific 기술</a></span></li></ul></li><li><span><a href=\"#KoNLPy,-NLTK\" data-toc-modified-id=\"KoNLPy,-NLTK-3\">KoNLPy, NLTK</a></span><ul class=\"toc-item\"><li><span><a href=\"#KoNLPy-패키지-설치\" data-toc-modified-id=\"KoNLPy-패키지-설치-3.1\">KoNLPy 패키지 설치</a></span></li><li><span><a href=\"#KoNLPy-import,-POS-tagging\" data-toc-modified-id=\"KoNLPy-import,-POS-tagging-3.2\">KoNLPy import, POS tagging</a></span></li></ul></li></ul></div>"
   ]
  },
  {
   "cell_type": "markdown",
   "metadata": {
    "heading_collapsed": true
   },
   "source": [
    "## 네이버 뉴스 기사 Scraping (3.14일 9강 강의 내용)"
   ]
  },
  {
   "cell_type": "code",
   "execution_count": 1,
   "metadata": {
    "hidden": true
   },
   "outputs": [],
   "source": [
    "from functions.download import getDownload    # requests.get() 메서드 구현"
   ]
  },
  {
   "cell_type": "code",
   "execution_count": 2,
   "metadata": {
    "hidden": true
   },
   "outputs": [],
   "source": [
    "from bs4 import BeautifulSoup\n",
    "from urllib.parse import urljoin\n",
    "import re\n",
    "import os, sys\n",
    "from datetime import datetime\n",
    "import numpy as np"
   ]
  },
  {
   "cell_type": "code",
   "execution_count": 3,
   "metadata": {
    "hidden": true
   },
   "outputs": [],
   "source": [
    "url = \"https://news.naver.com/\""
   ]
  },
  {
   "cell_type": "code",
   "execution_count": 4,
   "metadata": {
    "hidden": true
   },
   "outputs": [],
   "source": [
    "html = getDownload(url)"
   ]
  },
  {
   "cell_type": "code",
   "execution_count": 5,
   "metadata": {
    "hidden": true
   },
   "outputs": [],
   "source": [
    "dom = BeautifulSoup(html.text, \"html.parser\")"
   ]
  },
  {
   "cell_type": "code",
   "execution_count": 6,
   "metadata": {
    "hidden": true
   },
   "outputs": [
    {
     "data": {
      "text/plain": [
       "['정치', '경제', '사회', '생활문화', '세계', 'IT과학']"
      ]
     },
     "execution_count": 6,
     "metadata": {},
     "output_type": "execute_result"
    }
   ],
   "source": [
    "# 카테고리 이름\n",
    "categoryName = []\n",
    "\n",
    "for cat in dom.select(\".category\"):\n",
    "    for a in cat.find_all(\"a\"):\n",
    "        #print(a.text.strip())\n",
    "        categoryName.append(a.text.strip())\n",
    "\n",
    "categoryName = [name.replace('/', '') for name in categoryName]\n",
    "categoryName"
   ]
  },
  {
   "cell_type": "code",
   "execution_count": 7,
   "metadata": {
    "hidden": true
   },
   "outputs": [
    {
     "data": {
      "text/plain": [
       "(6, 10, 2)"
      ]
     },
     "execution_count": 7,
     "metadata": {},
     "output_type": "execute_result"
    }
   ],
   "source": [
    "# 영역별 뉴스 리스트 찾기\n",
    "news_list = []\n",
    "\n",
    "for sec in dom.select(\"[id^='ranking_10']\"):    # id가 ranking_100 ~ ranking_105인 태그 아래에 섹션별로 내용이 있음\n",
    "    sec_news = []\n",
    "    for li in sec.find_all(\"li\"):\n",
    "        # print(li.text)\n",
    "        # print(urljoin(url, li.find(\"a\")[\"href\"]))\n",
    "        \n",
    "        # li 태그 아래 em 태그에 순번이 저장되어 있음(순번 제외하고 저장하기 위해, li.find(\"a\").text 사용. 순번까지 저장하려면, li.text 사용)\n",
    "        sec_news.append([li.find(\"a\").text.strip(), urljoin(url, li.find(\"a\")[\"href\"])])\n",
    "    \n",
    "    news_list.append(sec_news)   # 섹션별로 구분해서 제목과 링크를 저장함(3차원 배열 : 섹션, 기사, 제목/링크)\n",
    "\n",
    "# news\n",
    "np.shape(news_list)  # 6개 카테고리, 10개 기사, 제목과 링크"
   ]
  },
  {
   "cell_type": "code",
   "execution_count": 8,
   "metadata": {
    "hidden": true
   },
   "outputs": [
    {
     "name": "stdout",
     "output_type": "stream",
     "text": [
      "정치 기사 다운로드 완료\n",
      "경제 기사 다운로드 완료\n",
      "사회 기사 다운로드 완료\n",
      "생활문화 기사 다운로드 완료\n",
      "세계 기사 다운로드 완료\n",
      "IT과학 기사 다운로드 완료\n"
     ]
    }
   ],
   "source": [
    "# naver_news 아래에 현재 시간(\"년-월-일_시간_분\")으로 폴더 만들기\n",
    "now = datetime.now().isoformat()\n",
    "day_hour_minute = now[:10] + \"_\" + now[11:13] + \"-\" + now[14:16]\n",
    "path = \"naver_news/\" + day_hour_minute\n",
    "\n",
    "try:\n",
    "    if not os.path.exists(path):\n",
    "        os.makedirs(path)\n",
    "except:\n",
    "    raise os.OSError(\"(%s) 디렉토리를 만들 수 없습니다!\" % (path))\n",
    "\n",
    "# 기사 다운로드 후 본문 저장하기\n",
    "for section in news_list:\n",
    "    sectionName = categoryName[news_list.index(section)]\n",
    "\n",
    "    for sec in section:\n",
    "        # print(sec[1])   # 0번째에 기사 제목, 1번째에 기사 링크가 있음\n",
    "        # print(news_list[0][0][0], news_list[0][0][1])\n",
    "        aid = re.findall(r\"aid=\\d+\", sec[1])[0].split(\"=\")[1]\n",
    "        fileName = sectionName + \"-\" + aid + \".txt\"        \n",
    "        \n",
    "        html = getDownload(sec[1])\n",
    "        dom = BeautifulSoup(html.text, \"html.parser\")\n",
    "        \n",
    "        content = dom.select(\"#articleBodyContents\")[0]\n",
    "        # print(dom.select(\"#articleBodyContents\"))\n",
    "        # print(content.text)\n",
    "        # print(\"-\" * 50)\n",
    "        \n",
    "        fullName = os.path.join(path, fileName)\n",
    "\n",
    "        # content에 <script> 태그 내의 내용이 포함되어 있음 (삭제)\n",
    "        content_ = content.text.replace(\"// flash 오류를 우회하기 위한 함수 추가\\nfunction _flash_removeCallback() {}\", \"\")\n",
    " \n",
    "        with open(fullName, \"w\") as f:\n",
    "            f.write(content_)\n",
    "    \n",
    "    print(sectionName, \"기사 다운로드 완료\")"
   ]
  },
  {
   "cell_type": "code",
   "execution_count": 9,
   "metadata": {
    "hidden": true
   },
   "outputs": [],
   "source": [
    "# 폴더 이름을 포함한 파일명 찾기\n",
    "full_filenames = []\n",
    "\n",
    "def search(dirname):\n",
    "    filenames = os.listdir(dirname)\n",
    "    \n",
    "    for filename in filenames:\n",
    "        full_filename = os.path.join(dirname, filename)\n",
    "        full_filenames.append(full_filename)\n",
    "        \n",
    "    return full_filenames\n",
    "    \n",
    "full_filenames = search(path)\n",
    "#full_filenames"
   ]
  },
  {
   "cell_type": "code",
   "execution_count": 10,
   "metadata": {
    "hidden": true,
    "scrolled": true
   },
   "outputs": [],
   "source": [
    "# 저장된 내용 출력\n",
    "# for full_filename in full_filenames:\n",
    "#     print(full_filename)\n",
    "#     print(\"-\" * 50)\n",
    "    \n",
    "#     with open(full_filename, \"r\") as f:\n",
    "#         print(f.read())\n",
    "        \n",
    "#     print(\">\" * 50, end=\"\\n\\n\\n\")"
   ]
  },
  {
   "cell_type": "code",
   "execution_count": 11,
   "metadata": {
    "hidden": true
   },
   "outputs": [],
   "source": [
    "# 뉴스 기사 리스트 파일로 저장\n",
    "import pandas as pd\n",
    "\n",
    "csvFileName = os.path.join(path, \"news_list.csv\")\n",
    "\n",
    "news_list_2d = np.array(news_list).reshape(-1, 2)\n",
    "\n",
    "df = pd.DataFrame(news_list_2d)\n",
    "df.to_csv(csvFileName, header=False, index=False)"
   ]
  },
  {
   "cell_type": "code",
   "execution_count": 13,
   "metadata": {
    "hidden": true
   },
   "outputs": [
    {
     "data": {
      "text/html": [
       "<div>\n",
       "<style scoped>\n",
       "    .dataframe tbody tr th:only-of-type {\n",
       "        vertical-align: middle;\n",
       "    }\n",
       "\n",
       "    .dataframe tbody tr th {\n",
       "        vertical-align: top;\n",
       "    }\n",
       "\n",
       "    .dataframe thead th {\n",
       "        text-align: right;\n",
       "    }\n",
       "</style>\n",
       "<table border=\"1\" class=\"dataframe\">\n",
       "  <thead>\n",
       "    <tr style=\"text-align: right;\">\n",
       "      <th></th>\n",
       "      <th>0</th>\n",
       "      <th>1</th>\n",
       "    </tr>\n",
       "  </thead>\n",
       "  <tbody>\n",
       "    <tr>\n",
       "      <th>0</th>\n",
       "      <td>최선희 北외무성 부상 \"미국과 비핵화 협상 중단 고려\"(종합)</td>\n",
       "      <td>https://news.naver.com/main/ranking/read.nhn?m...</td>\n",
       "    </tr>\n",
       "    <tr>\n",
       "      <th>1</th>\n",
       "      <td>'딸 KT 특혜채용' 김성태 \"정치공작\", 여야 \"사실이면 사퇴\"(상보)</td>\n",
       "      <td>https://news.naver.com/main/ranking/read.nhn?m...</td>\n",
       "    </tr>\n",
       "    <tr>\n",
       "      <th>2</th>\n",
       "      <td>文대통령, 캄보디아 국왕 환담…한반도 평화 지지 당부도(종합)</td>\n",
       "      <td>https://news.naver.com/main/ranking/read.nhn?m...</td>\n",
       "    </tr>\n",
       "    <tr>\n",
       "      <th>3</th>\n",
       "      <td>'선거제 개편' 험로…패스트트랙 마지노선 내 처리는 '불발'</td>\n",
       "      <td>https://news.naver.com/main/ranking/read.nhn?m...</td>\n",
       "    </tr>\n",
       "    <tr>\n",
       "      <th>4</th>\n",
       "      <td>'김경수 판사 사퇴' 청원에 靑 \"관여할 수 없고, 해서도 안돼\"</td>\n",
       "      <td>https://news.naver.com/main/ranking/read.nhn?m...</td>\n",
       "    </tr>\n",
       "  </tbody>\n",
       "</table>\n",
       "</div>"
      ],
      "text/plain": [
       "                                          0  \\\n",
       "0        최선희 北외무성 부상 \"미국과 비핵화 협상 중단 고려\"(종합)   \n",
       "1  '딸 KT 특혜채용' 김성태 \"정치공작\", 여야 \"사실이면 사퇴\"(상보)   \n",
       "2        文대통령, 캄보디아 국왕 환담…한반도 평화 지지 당부도(종합)   \n",
       "3         '선거제 개편' 험로…패스트트랙 마지노선 내 처리는 '불발'   \n",
       "4      '김경수 판사 사퇴' 청원에 靑 \"관여할 수 없고, 해서도 안돼\"   \n",
       "\n",
       "                                                   1  \n",
       "0  https://news.naver.com/main/ranking/read.nhn?m...  \n",
       "1  https://news.naver.com/main/ranking/read.nhn?m...  \n",
       "2  https://news.naver.com/main/ranking/read.nhn?m...  \n",
       "3  https://news.naver.com/main/ranking/read.nhn?m...  \n",
       "4  https://news.naver.com/main/ranking/read.nhn?m...  "
      ]
     },
     "execution_count": 13,
     "metadata": {},
     "output_type": "execute_result"
    }
   ],
   "source": [
    "df.head()"
   ]
  },
  {
   "cell_type": "markdown",
   "metadata": {},
   "source": [
    "## NLP 개요"
   ]
  },
  {
   "cell_type": "markdown",
   "metadata": {},
   "source": [
    "### 자연어 분석 : 기반 기술"
   ]
  },
  {
   "cell_type": "markdown",
   "metadata": {},
   "source": [
    "- **형태소 분석** : 토큰 분리, 어간 추출, 품사 부착, 색인, 벡터화\n",
    "    - 입력된 문장을 형태소 단위로 분류하고 품사를 부착\n",
    "- **구문 분석** : 문장 경계 인식, 구문분석, 공기어, 개체명 사전 구축(PLOT, 수치, 외국어 한글 표기), 개체명 인식\n",
    "    - 주어, 목적어, 서술어와 같은 구문단위를 찾음\n",
    "- **의미 분석** : 대용어 해소(대명사, 두문자어, 약어, 수치), 의미 중의성 해결(동명이인 ,이명이인)\n",
    "    - 문장이 의미적으로 올바른 문장인지를 판단\n",
    "- **담화 분석**(담론 분석) : 분류, 군집, 중복, 요약, 가중치, 순위화, 토픽 모델링, 이슈 트래킹, 평판분석, 감성분석, 복합논증분석\n",
    "    - 대화 흐름상 어떤 의미를 가지는지를 찾음: 문맥 구조 분석(문장들의 연관관계), 의도분석( )\n",
    "- 중의성 해소\n",
    "\n",
    "형태소 분석, 구문 분석 분야는 어느 정도 기술이 성숙되어 있으나, 의미 분석, 담화 분석 등은 아직도 연구가 진행중인 분야임\n",
    "\n",
    "- 담화 : 문장이 연속되어 이루어지는 말의 단위, 문단\n",
    "- 문장 : 완결된 내용을 나타내는 최소 단위\n",
    "- 어절 : 문장을 구성하는 단위 (주어, 서술어, 관형어, ...) --> 띄어쓰기 단위\n",
    "- 단어 : 어절을 구성하는 요소 --> 형태소의 조합으로 구성되어 있음 (관형사, 명사, 조사, 동사) --> 품사를 붙일 수 있는 단위\n",
    "- 형태소 : (형태론적으로, 문법적으로) 의미를 가진 문법의 최소 단위(어근 분리) --> 형식 형태소(분석에 불필요)와 의존 형태소(분석에 사용)로 구분\n",
    "\n",
    "**형태소와 단어** : 단어는 뜻을 지니고 홀로 쓰일 수 있는 말, 형태소는 문법상 뜻을 가진 가장 작은 말\n",
    "    - 자립성에 따라 : 자립 형태소, 의존 형태소\n",
    "    - 의미에 따라 : 실질 형태소, 형식 형태소\n",
    "    - 단어 형성 방법에 따른 분류\n",
    "        - 단일어 : 어근\n",
    "        - 복합어 : 합성어(어근 + 어근), 파생어( 접두사 + 어근, 어근 + 접미사)"
   ]
  },
  {
   "cell_type": "markdown",
   "metadata": {},
   "source": [
    "### 응용 기술 : 모델을 접목한 도메인 Specific 기술"
   ]
  },
  {
   "cell_type": "markdown",
   "metadata": {},
   "source": [
    "- 검색\n",
    "- 온라인 광고\n",
    "- 자동번역\n",
    "- 감정분석\n",
    "- 음성인식\n",
    "- 맞춤법검사"
   ]
  },
  {
   "cell_type": "markdown",
   "metadata": {},
   "source": [
    "## KoNLPy, NLTK"
   ]
  },
  {
   "cell_type": "markdown",
   "metadata": {},
   "source": [
    "- NLTK는 한국어를 지원하지 않음"
   ]
  },
  {
   "cell_type": "markdown",
   "metadata": {},
   "source": [
    "### KoNLPy 패키지 설치"
   ]
  },
  {
   "cell_type": "markdown",
   "metadata": {},
   "source": [
    "- KoNLPy : 한국어 정보처리를 위한 파이썬 패키지 --> Corpus, Morpheme Alalyzer, POS Tagging, ... \n",
    "    - https://konlpy-ko.readthedocs.io/ko/v0.4.3/\n",
    "    - JDK 1.8 이상, JPype1 0.5.7 이상"
   ]
  },
  {
   "cell_type": "markdown",
   "metadata": {},
   "source": [
    "- konlpy 설치\n",
    "\n",
    "~~~\n",
    "$ pip install konlpy     # Python 2.x\n",
    "$ pip3 install konlpy    # Python 3.x\n",
    "~~~\n",
    "    \n",
    "- MAC에 conda 환경에서 설치 시, 아래와 같은 conda  환경에서는 install 에러가 났으나,\n",
    "\n",
    "```\n",
    "$ conda activate nlp      # python3.6.1\n",
    "$ pip install konlpy\n",
    "```\n",
    "\n",
    "- 아래의 conda 환경에서는 정상적으로 install 되었음\n",
    "\n",
    "```\n",
    "$ conda activate base    # python3.7.1\n",
    "$ pip install konlpy\n",
    "```\n",
    "\n",
    "- python 3.6.7에서 install error 메시지\n",
    "\n",
    "```  \n",
    "Failed building wheel for JPype1\n",
    "Running setup.py clean for JPype1\n",
    "Failed to build JPype1\n",
    "Installing collected packages: JPype1\n",
    "...\n",
    "...\n",
    "Command \"/Users/alex/anaconda3/envs/nlp/bin/python -u -c \"import setuptools, tokenize;__file__='/private/var/folders/k4/8cb3q8ws6mb4d1tjs8y85tj80000gn/T/pip-install-m1n7e9_x/JPype1/setup.py';f=getattr(tokenize, 'open', open)(__file__);code=f.read().replace('\\r\\n', '\\n');f.close();exec(compile(code, __file__, 'exec'))\" install --record /private/var/folders/k4/8cb3q8ws6mb4d1tjs8y85tj80000gn/T/pip-record-thqtqp1b/install-record.txt --single-version-externally-managed --compile\" failed with error code 1 in /private/var/folders/k4/8cb3q8ws6mb4d1tjs8y85tj80000gn/T/pip-install-m1n7e9_x/JPype1/\n",
    "```"
   ]
  },
  {
   "cell_type": "markdown",
   "metadata": {},
   "source": [
    "### KoNLPy import, POS tagging"
   ]
  },
  {
   "cell_type": "code",
   "execution_count": 1,
   "metadata": {},
   "outputs": [],
   "source": [
    "from konlpy.tag import Kkma"
   ]
  },
  {
   "cell_type": "code",
   "execution_count": 2,
   "metadata": {},
   "outputs": [
    {
     "data": {
      "text/plain": [
       "[('학교', 'NNG'),\n",
       " ('종', 'NNG'),\n",
       " ('이', 'JKS'),\n",
       " ('땡땡', 'MAG'),\n",
       " ('ㅌ', 'UN'),\n",
       " ('땡', 'MAG')]"
      ]
     },
     "execution_count": 2,
     "metadata": {},
     "output_type": "execute_result"
    }
   ],
   "source": [
    "ma = Kkma()\n",
    "ma.pos(\"학교종이 땡땡ㅌ땡\")"
   ]
  },
  {
   "cell_type": "code",
   "execution_count": null,
   "metadata": {},
   "outputs": [],
   "source": []
  }
 ],
 "metadata": {
  "kernelspec": {
   "display_name": "Python 3",
   "language": "python",
   "name": "python3"
  },
  "language_info": {
   "codemirror_mode": {
    "name": "ipython",
    "version": 3
   },
   "file_extension": ".py",
   "mimetype": "text/x-python",
   "name": "python",
   "nbconvert_exporter": "python",
   "pygments_lexer": "ipython3",
   "version": "3.7.1"
  },
  "toc": {
   "base_numbering": 1,
   "nav_menu": {},
   "number_sections": false,
   "sideBar": true,
   "skip_h1_title": false,
   "title_cell": "Table of Contents",
   "title_sidebar": "Contents",
   "toc_cell": true,
   "toc_position": {},
   "toc_section_display": true,
   "toc_window_display": false
  }
 },
 "nbformat": 4,
 "nbformat_minor": 2
}
