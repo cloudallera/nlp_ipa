{
 "cells": [
  {
   "cell_type": "markdown",
   "metadata": {
    "toc": true
   },
   "source": [
    "<h1>Table of Contents<span class=\"tocSkip\"></span></h1>\n",
    "<div class=\"toc\"><ul class=\"toc-item\"><li><span><a href=\"#What-you-should-know\" data-toc-modified-id=\"What-you-should-know-1\">What you should know</a></span><ul class=\"toc-item\"><li><span><a href=\"#How-to-collect-a-large-amount-of-dataset(corpus)\" data-toc-modified-id=\"How-to-collect-a-large-amount-of-dataset(corpus)-1.1\">How to collect a large amount of dataset(corpus)</a></span></li><li><span><a href=\"#How-to-extract-features-from-crawled-dataset\" data-toc-modified-id=\"How-to-extract-features-from-crawled-dataset-1.2\">How to extract features from crawled dataset</a></span></li><li><span><a href=\"#How-to-represent-document(training)-and-query(testing)\" data-toc-modified-id=\"How-to-represent-document(training)-and-query(testing)-1.3\">How to represent document(training) and query(testing)</a></span></li><li><span><a href=\"#How-to-measure-importance-of-words\" data-toc-modified-id=\"How-to-measure-importance-of-words-1.4\">How to measure importance of words</a></span></li><li><span><a href=\"#How-to-estimate-class-probabilities-(Supervised-Learning)\" data-toc-modified-id=\"How-to-estimate-class-probabilities-(Supervised-Learning)-1.5\">How to estimate class probabilities (Supervised Learning)</a></span></li><li><span><a href=\"#How-to-know-the-performance-of-the-models\" data-toc-modified-id=\"How-to-know-the-performance-of-the-models-1.6\">How to know the performance of the models</a></span><ul class=\"toc-item\"><li><span><a href=\"#Efficiency-and-accuracy-now-becomes-a-problem\" data-toc-modified-id=\"Efficiency-and-accuracy-now-becomes-a-problem-1.6.1\">Efficiency and accuracy now becomes a problem</a></span></li></ul></li></ul></li><li><span><a href=\"#Evaluation\" data-toc-modified-id=\"Evaluation-2\">Evaluation</a></span><ul class=\"toc-item\"><li><span><a href=\"#Accuracy\" data-toc-modified-id=\"Accuracy-2.1\">Accuracy</a></span></li><li><span><a href=\"#Training\" data-toc-modified-id=\"Training-2.2\">Training</a></span></li><li><span><a href=\"#Testing\" data-toc-modified-id=\"Testing-2.3\">Testing</a></span></li><li><span><a href=\"#Under-fitting-vs.-Over-fitting\" data-toc-modified-id=\"Under-fitting-vs.-Over-fitting-2.4\">Under-fitting vs. Over-fitting</a></span></li><li><span><a href=\"#Source-of-error-:-Approximation-and-generalization\" data-toc-modified-id=\"Source-of-error-:-Approximation-and-generalization-2.5\">Source of error : Approximation and generalization</a></span></li><li><span><a href=\"#Define-a-few-more-symbols\" data-toc-modified-id=\"Define-a-few-more-symbols-2.6\">Define a few more symbols</a></span></li><li><span><a href=\"#Bias-and-Variance-trade-off\" data-toc-modified-id=\"Bias-and-Variance-trade-off-2.7\">Bias and Variance trade-off</a></span></li><li><span><a href=\"#Occam's-Razor-(오컴의-면도날)-:-가능한-단순한-모델이-좋다\" data-toc-modified-id=\"Occam's-Razor-(오컴의-면도날)-:-가능한-단순한-모델이-좋다-2.8\">Occam's Razor (오컴의 면도날) : 가능한 단순한 모델이 좋다</a></span></li><li><span><a href=\"#N-folds-cross-Validation\" data-toc-modified-id=\"N-folds-cross-Validation-2.9\">N-folds cross Validation</a></span></li><li><span><a href=\"#Performance-Measure\" data-toc-modified-id=\"Performance-Measure-2.10\">Performance Measure</a></span></li><li><span><a href=\"#Confusion-Matrix\" data-toc-modified-id=\"Confusion-Matrix-2.11\">Confusion Matrix</a></span></li><li><span><a href=\"#F-Measure\" data-toc-modified-id=\"F-Measure-2.12\">F-Measure</a></span></li></ul></li></ul></div>"
   ]
  },
  {
   "cell_type": "markdown",
   "metadata": {},
   "source": [
    "## What you should know"
   ]
  },
  {
   "cell_type": "markdown",
   "metadata": {},
   "source": [
    "### How to collect a large amount of dataset(corpus)"
   ]
  },
  {
   "cell_type": "markdown",
   "metadata": {},
   "source": [
    "- Focused crawling (Structed / Unstructured / Semi-structured)"
   ]
  },
  {
   "cell_type": "markdown",
   "metadata": {},
   "source": [
    "### How to extract features from crawled dataset"
   ]
  },
  {
   "cell_type": "markdown",
   "metadata": {},
   "source": [
    "- NLP Techniques (Tokenizing, Stemming, POS)\n",
    "- Tokenizing (Sentence / Word / Emotion / n-gram of tokens)\n",
    "- Stemming (Porter, BPE, n-gram of syllables)\n",
    "- Morpheme analyzing, POS Tagging, n-gram"
   ]
  },
  {
   "cell_type": "markdown",
   "metadata": {},
   "source": [
    "### How to represent document(training) and query(testing)"
   ]
  },
  {
   "cell_type": "markdown",
   "metadata": {},
   "source": [
    "- Bag of Words (All terms are independent)\n",
    "- Vector Space Model (High dimension, the number of distinct terms)"
   ]
  },
  {
   "cell_type": "markdown",
   "metadata": {},
   "source": [
    "### How to measure importance of words"
   ]
  },
  {
   "cell_type": "markdown",
   "metadata": {},
   "source": [
    "- Statistical(Heuristic) approach (TF, DF, IDF)\n",
    "- Probabilistic approach (Conditional independence)"
   ]
  },
  {
   "cell_type": "markdown",
   "metadata": {},
   "source": [
    "### How to estimate class probabilities (Supervised Learning)"
   ]
  },
  {
   "cell_type": "markdown",
   "metadata": {},
   "source": [
    "- Statistical approach (k-Nearest Neighbor)\n",
    "- Probabilistic approach (Naive Bayes)\n",
    "\n",
    "**Still a commonly used machine learning for classifications**"
   ]
  },
  {
   "cell_type": "markdown",
   "metadata": {},
   "source": [
    "### How to know the performance of the models"
   ]
  },
  {
   "cell_type": "markdown",
   "metadata": {},
   "source": [
    "- Accuracy / Precision / Recall / F-measure"
   ]
  },
  {
   "cell_type": "markdown",
   "metadata": {},
   "source": [
    "#### Efficiency and accuracy now becomes a problem"
   ]
  },
  {
   "cell_type": "markdown",
   "metadata": {},
   "source": [
    "## Evaluation"
   ]
  },
  {
   "cell_type": "markdown",
   "metadata": {},
   "source": [
    "### Accuracy"
   ]
  },
  {
   "cell_type": "markdown",
   "metadata": {},
   "source": [
    "- 불균형한 데이터셋(현실 세계의 데이터는 불균형함) : Accuracy 만으로는 정확한 Evaluation에 한계가 있음"
   ]
  },
  {
   "cell_type": "markdown",
   "metadata": {},
   "source": [
    "### Training"
   ]
  },
  {
   "cell_type": "markdown",
   "metadata": {},
   "source": [
    "- 지정한 모델로 부터 데이터에 적합한 파라미터($\\theta$, 가중치)를 찾는 과정\n",
    "- ML 모델은 static/stable distribution of dataset으로 부터 학습했지만, <br>\n",
    "   도메인이나 dataset의 변경에 대해 충분한 variance를 가지고 있지 않음"
   ]
  },
  {
   "cell_type": "markdown",
   "metadata": {},
   "source": [
    "### Testing"
   ]
  },
  {
   "cell_type": "markdown",
   "metadata": {},
   "source": [
    "- 학습된 머신러닝 모델을 평가, inferred 파라미터들을 평가\n",
    "- testing dataset : training에 사용되지 않은 dataset을 사용 (알려지지 않은 데이터에 대한 성능을 평가)"
   ]
  },
  {
   "cell_type": "markdown",
   "metadata": {},
   "source": [
    "### Under-fitting vs. Over-fitting"
   ]
  },
  {
   "cell_type": "markdown",
   "metadata": {},
   "source": [
    "### Source of error : Approximation and generalization"
   ]
  },
  {
   "cell_type": "markdown",
   "metadata": {},
   "source": [
    "- https://en.wikipedia.org/wiki/Approximation_error\n",
    "\n",
    "- https://en.wikipedia.org/wiki/Generalization_error"
   ]
  },
  {
   "cell_type": "markdown",
   "metadata": {},
   "source": [
    "### Define a few more symbols"
   ]
  },
  {
   "cell_type": "markdown",
   "metadata": {},
   "source": [
    "$\\Large f = g(x)$\n",
    "\n",
    "Formally, $\\Large \\bar{g}(x) = E_D[g^{(D)}(x)]$\n",
    "\n",
    "\n",
    "- $\\large f$ : the target function to learn\n",
    "\n",
    "\n",
    "- $\\large g$ : the learning function of machine learning\n",
    "\n",
    "\n",
    "- $\\large D$ : an available dataset drawn from the real world\n",
    "\n",
    "\n",
    "- $\\large g^{(D)}$ : the learned function by using a dataset($D$)\n",
    "\n",
    "\n",
    "- $\\large \\bar{g}$ : the average hypothesis of a given infinite number of $D$s\n",
    "\n",
    "\n",
    "- $\\large E_D$ : the average of $g^{(D)}$s"
   ]
  },
  {
   "cell_type": "markdown",
   "metadata": {},
   "source": [
    "### Bias and Variance trade-off"
   ]
  },
  {
   "cell_type": "markdown",
   "metadata": {},
   "source": [
    "- https://ko.wikipedia.org/wiki/편향-분산_트레이드오프\n",
    "\n",
    "\n",
    "- $\\Large E_D \\left[\\left( g^{(D)}(x) - f(x) \\right)^2 \\right]$\n",
    "\n",
    "\n",
    "- $\\Large E_D \\left[E_{out} \\left(g^{(D)}(x) \\right) \\right] = E_x \\left[E_D \\left[ \\left(g^{(D)}(x) - \\bar{g}(x) \\right)^2 \\right] + \\left(\\bar {g}(x) - f(x) \\right)^2 \\right]$\n",
    "\n",
    "\n",
    "- $\\Large Variance : E_x \\left[E_D \\left[ \\left(g^{(D)}(x) - \\bar{g}(x) \\right)^2 \\right] \\right] = E_x \\left[ \\left(E_D\\left[ g^{(D)}(x) \\right] - \\bar{g}(x) \\right)^2 \\right]$\n",
    "\n",
    "\n",
    "- $\\Large Bias : E_x \\left[ \\left(\\bar {g}(x) - f(x) \\right)^2 \\right]$"
   ]
  },
  {
   "cell_type": "markdown",
   "metadata": {},
   "source": [
    "### Occam's Razor (오컴의 면도날) : 가능한 단순한 모델이 좋다"
   ]
  },
  {
   "cell_type": "markdown",
   "metadata": {},
   "source": [
    "- https://ko.wikipedia.org/wiki/오컴의_면도날\n",
    "- '경제성의 원리' (Principle of economy) 라고도 한다. <br>\n",
    "   14세기 영국의 논리학자이며 프란체스코회 수사였던 오컴의 윌리엄 (William of Ockham)의 이름에서 따왔다.\n",
    "- \"많은 것들을 필요없이 가정해서는 안된다\" (Pluralitas non est ponenda sine neccesitate.)\n",
    "- \"더 적은 수의 논리로 설명이 가능한 경우, 많은 수의 논리를 세우지 말라.\"(Frustra fit per plura quod potest fieri per pauciora.)"
   ]
  },
  {
   "cell_type": "markdown",
   "metadata": {},
   "source": [
    "### N-folds cross Validation"
   ]
  },
  {
   "cell_type": "markdown",
   "metadata": {},
   "source": [
    "- divide a given set of instances into N exclusive subsets\n",
    "- Tringing : use N-1 subsets\n",
    "- Testing : use 1 subset\n",
    "\n",
    "\n",
    "- LOOCV : Leave One Out Cross Validation (하나의 fold에 하나의 데이터 만 포함 하도록 극단적으로 많은 folds를 만드는 방법)"
   ]
  },
  {
   "cell_type": "markdown",
   "metadata": {},
   "source": [
    "### Performance Measure"
   ]
  },
  {
   "cell_type": "markdown",
   "metadata": {},
   "source": [
    "- 실제로는 $\\normalsize f(x)$를 알지 못하고, $\\normalsize \\bar{g}(x)$를 계산할 수 없음"
   ]
  },
  {
   "cell_type": "markdown",
   "metadata": {},
   "source": [
    "### Confusion Matrix"
   ]
  },
  {
   "cell_type": "markdown",
   "metadata": {},
   "source": [
    "- Accuracy(정확도) : 전체 경우의 수 중 (양성을 양성으로, 음성을 음성으로) 적중한 비율\n",
    "- Precision(정밀도) : 양성으로 예측한 것 중 진짜 양성의 비율 => (사용 예) Spam 메일 필터\n",
    "- Recall(재현율, 적중률) : 진짜 양성 중 양성으로 예측한 비율  => (사용 예) VIP 고객 선정\n",
    "\n",
    "\n",
    "- Precision과 Recall 산출에는 True Negative 값은 무시함\n",
    "\n",
    "![accuracy_precision_recall](./images/accuracy_precision_recall.jpg)\n",
    "\n",
    "- TP : True Positive => 양성 class를 양성으로 예측\n",
    "- TN : True Negative => 음성 class를 음성으로 예측\n",
    "- FP : False Positive => 양성 class를 음성으로 잘 못 예측\n",
    "- FN : False Negative => 음성 class를 양성으로 잘 못 예측"
   ]
  },
  {
   "cell_type": "markdown",
   "metadata": {},
   "source": [
    "### F-Measure"
   ]
  },
  {
   "cell_type": "markdown",
   "metadata": {},
   "source": [
    "- F-Measure : precision과 recall을 함께 적용 => (사용 예) 검색엔진\n",
    "- Precision과 Recall은 Trade-off 관계가 있음\n",
    "- https://en.wikipedia.org/wiki/F1_score\n",
    "\n",
    "- $\\large F_{1} = \\Large \\left({\\frac {\\mathrm {recall} ^{-1} \\, + \\, \\mathrm {precision} ^{-1}}{2}}\\right)^{-1} \\large = 2 \\cdot \\Large {\\frac {\\mathrm {precision} \\,  \\cdot \\, \\mathrm {recall} }{\\mathrm {precision} \\, + \\, \\mathrm {recall} }}$\n",
    "\n",
    "\n",
    "- $\\large F_\\beta = (1 + \\beta^2) \\cdot \\LARGE \\frac{\\mathrm{precision} \\, \\cdot \\, \\mathrm{recall}}{(\\beta^2 \\, \\cdot \\, \\mathrm{precision}) \\, + \\, \\mathrm{recall}}$\n",
    "\n",
    "\n",
    "- $\\large F_\\beta = \\LARGE \\frac {(1 + \\beta^2) \\, \\cdot \\, \\mathrm{true\\ positive} }{(1 + \\beta^2) \\, \\cdot \\, \\mathrm{true\\ positive} \\, + \\, \\beta^2 \\cdot \\mathrm{false\\ negative} \\, + \\, \\mathrm{false\\ positive}}\\,$\n",
    "\n",
    "\n",
    "- $F_1$는 $\\beta$에 1을 적용하여, Recall과 Precision을 균등하게 적용한 모델\n",
    "- $F_2$는 Precision 보다 Recall에 무게를 두는 모델 (by placing more emphasis on false negatives)\n",
    "- $F_{0.5}$는 Recall 보다 Precision에 무게를 두는 모델"
   ]
  },
  {
   "cell_type": "code",
   "execution_count": 2,
   "metadata": {},
   "outputs": [],
   "source": [
    "from sklearn.metrics import confusion_matrix"
   ]
  },
  {
   "cell_type": "code",
   "execution_count": 11,
   "metadata": {},
   "outputs": [
    {
     "data": {
      "text/plain": [
       "array([[2, 0],\n",
       "       [1, 3]])"
      ]
     },
     "execution_count": 11,
     "metadata": {},
     "output_type": "execute_result"
    }
   ],
   "source": [
    "# 1: spam, 0:정상메일\n",
    "trueY = [1, 0, 1, 1, 0, 1]\n",
    "predY = [0, 0, 1, 1, 0, 1]\n",
    "\n",
    "#                  Prediction\n",
    "#                     0     1\n",
    "# Actual   0     2     0\n",
    "#               1     1     3\n",
    "\n",
    "result = confusion_matrix(trueY, predY)\n",
    "result"
   ]
  },
  {
   "cell_type": "code",
   "execution_count": 12,
   "metadata": {},
   "outputs": [
    {
     "data": {
      "text/plain": [
       "array([[2, 1],\n",
       "       [0, 3]])"
      ]
     },
     "execution_count": 12,
     "metadata": {},
     "output_type": "execute_result"
    }
   ],
   "source": [
    "result = result.transpose()\n",
    "result"
   ]
  },
  {
   "cell_type": "code",
   "execution_count": 14,
   "metadata": {},
   "outputs": [
    {
     "name": "stdout",
     "output_type": "stream",
     "text": [
      "Precision: 0.6666666666666666\n",
      "Recall: 1.0\n",
      "Precision: 1.0\n",
      "Recall: 0.75\n"
     ]
    }
   ],
   "source": [
    "for i in range(result.shape[0]):\n",
    "    print(\"Precision: {0}\".format(result[i, i] / result[i].sum()))\n",
    "    print(\"Recall: {0}\".format(result[i, i] / result[:, i].sum()))"
   ]
  },
  {
   "cell_type": "code",
   "execution_count": 22,
   "metadata": {},
   "outputs": [
    {
     "data": {
      "text/plain": [
       "array([[2, 0, 0],\n",
       "       [0, 0, 1],\n",
       "       [1, 0, 2]])"
      ]
     },
     "execution_count": 22,
     "metadata": {},
     "output_type": "execute_result"
    }
   ],
   "source": [
    "# class : 3\n",
    "trueY = [2, 0, 2, 2, 0, 1]\n",
    "predY = [0, 0, 2, 2, 0, 2]\n",
    "\n",
    "#                  Prediction\n",
    "#                     0     1     2\n",
    "# Actual   0     2     0     0\n",
    "#               1     0     0     1\n",
    "#               2     1     0     2\n",
    "\n",
    "# class0:  P=2/3, R=2/2\n",
    "# class1:   P=0/0, R=0/1\n",
    "# class2:  P=2/3, R=2/3\n",
    "\n",
    "result = confusion_matrix(trueY, predY)\n",
    "result"
   ]
  },
  {
   "cell_type": "code",
   "execution_count": 23,
   "metadata": {},
   "outputs": [
    {
     "name": "stdout",
     "output_type": "stream",
     "text": [
      "Precision: 0.6666666666666666 Recall: 1.0\n",
      "Precision: nan Recall: 0.0\n",
      "Precision: 0.6666666666666666 Recall: 0.6666666666666666\n"
     ]
    },
    {
     "name": "stderr",
     "output_type": "stream",
     "text": [
      "/Users/alex/anaconda3/lib/python3.7/site-packages/ipykernel_launcher.py:4: RuntimeWarning: invalid value encountered in long_scalars\n",
      "  after removing the cwd from sys.path.\n"
     ]
    }
   ],
   "source": [
    "result = result.transpose()\n",
    "\n",
    "for i in range(result.shape[0]):\n",
    "    print(\"Precision: {0}\".format(result[i, i] / result[i].sum()), \"Recall: {0}\".format(result[i, i] / result[:, i].sum()))"
   ]
  },
  {
   "cell_type": "code",
   "execution_count": 24,
   "metadata": {},
   "outputs": [],
   "source": [
    "from sklearn.metrics import classification_report"
   ]
  },
  {
   "cell_type": "code",
   "execution_count": 25,
   "metadata": {},
   "outputs": [
    {
     "name": "stdout",
     "output_type": "stream",
     "text": [
      "              precision    recall  f1-score   support\n",
      "\n",
      "           0       0.67      1.00      0.80         2\n",
      "           1       0.00      0.00      0.00         1\n",
      "           2       0.67      0.67      0.67         3\n",
      "\n",
      "   micro avg       0.67      0.67      0.67         6\n",
      "   macro avg       0.44      0.56      0.49         6\n",
      "weighted avg       0.56      0.67      0.60         6\n",
      "\n"
     ]
    },
    {
     "name": "stderr",
     "output_type": "stream",
     "text": [
      "/Users/alex/anaconda3/lib/python3.7/site-packages/sklearn/metrics/classification.py:1143: UndefinedMetricWarning: Precision and F-score are ill-defined and being set to 0.0 in labels with no predicted samples.\n",
      "  'precision', 'predicted', average, warn_for)\n"
     ]
    }
   ],
   "source": [
    "print(classification_report(trueY, predY))"
   ]
  },
  {
   "cell_type": "code",
   "execution_count": null,
   "metadata": {},
   "outputs": [],
   "source": []
  }
 ],
 "metadata": {
  "kernelspec": {
   "display_name": "Python 3",
   "language": "python",
   "name": "python3"
  },
  "language_info": {
   "codemirror_mode": {
    "name": "ipython",
    "version": 3
   },
   "file_extension": ".py",
   "mimetype": "text/x-python",
   "name": "python",
   "nbconvert_exporter": "python",
   "pygments_lexer": "ipython3",
   "version": "3.7.1"
  },
  "latex_envs": {
   "LaTeX_envs_menu_present": true,
   "autoclose": false,
   "autocomplete": true,
   "bibliofile": "biblio.bib",
   "cite_by": "apalike",
   "current_citInitial": 1,
   "eqLabelWithNumbers": true,
   "eqNumInitial": 1,
   "hotkeys": {
    "equation": "Ctrl-E",
    "itemize": "Ctrl-I"
   },
   "labels_anchors": false,
   "latex_user_defs": false,
   "report_style_numbering": false,
   "user_envs_cfg": false
  },
  "toc": {
   "base_numbering": 1,
   "nav_menu": {},
   "number_sections": false,
   "sideBar": true,
   "skip_h1_title": false,
   "title_cell": "Table of Contents",
   "title_sidebar": "Contents",
   "toc_cell": true,
   "toc_position": {},
   "toc_section_display": true,
   "toc_window_display": false
  }
 },
 "nbformat": 4,
 "nbformat_minor": 2
}
