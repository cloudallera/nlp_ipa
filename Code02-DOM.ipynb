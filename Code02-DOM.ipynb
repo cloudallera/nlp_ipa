{
 "cells": [
  {
   "cell_type": "markdown",
   "metadata": {
    "toc": true
   },
   "source": [
    "<h1>Table of Contents<span class=\"tocSkip\"></span></h1>\n",
    "<div class=\"toc\"><ul class=\"toc-item\"><li><span><a href=\"#BeautifulSoup\" data-toc-modified-id=\"BeautifulSoup-1\">BeautifulSoup</a></span><ul class=\"toc-item\"><li><span><a href=\"#BeautifulSoup-설치\" data-toc-modified-id=\"BeautifulSoup-설치-1.1\">BeautifulSoup 설치</a></span></li><li><span><a href=\"#BeautifulSoup-import-하기\" data-toc-modified-id=\"BeautifulSoup-import-하기-1.2\">BeautifulSoup import 하기</a></span></li><li><span><a href=\"#BeautifulSoup-객체-생성-및-parser-사용\" data-toc-modified-id=\"BeautifulSoup-객체-생성-및-parser-사용-1.3\">BeautifulSoup 객체 생성 및 parser 사용</a></span></li><li><span><a href=\"#jupyter-notebook-Magic-Command-:-whos\" data-toc-modified-id=\"jupyter-notebook-Magic-Command-:-whos-1.4\">jupyter notebook Magic Command : whos</a></span></li><li><span><a href=\"#Selector-기본\" data-toc-modified-id=\"Selector-기본-1.5\">Selector 기본</a></span></li><li><span><a href=\"#Selector-실습\" data-toc-modified-id=\"Selector-실습-1.6\">Selector 실습</a></span><ul class=\"toc-item\"><li><span><a href=\"#html.parser\" data-toc-modified-id=\"html.parser-1.6.1\">html.parser</a></span></li><li><span><a href=\"#lxml-parser\" data-toc-modified-id=\"lxml-parser-1.6.2\">lxml parser</a></span></li><li><span><a href=\"#부모자식-tag-선택하기(find_parent,-find_all),-recursive-동작-비교\" data-toc-modified-id=\"부모자식-tag-선택하기(find_parent,-find_all),-recursive-동작-비교-1.6.3\">부모자식 tag 선택하기(find_parent, find_all), recursive 동작 비교</a></span></li><li><span><a href=\"#좌우-tag-선택하기-(find_next_sibling,-find_previous_-sibling)\" data-toc-modified-id=\"좌우-tag-선택하기-(find_next_sibling,-find_previous_-sibling)-1.6.4\">좌우 tag 선택하기 (find_next_sibling, find_previous_ sibling)</a></span></li><li><span><a href=\"#선물-가격정보-추출하기\" data-toc-modified-id=\"선물-가격정보-추출하기-1.6.5\">선물 가격정보 추출하기</a></span></li></ul></li><li><span><a href=\"#구글-검색결과-추출하기\" data-toc-modified-id=\"구글-검색결과-추출하기-1.7\">구글 검색결과 추출하기</a></span></li><li><span><a href=\"#학습-차원에서-DOM-Tree를-위에서-부터-차례로-탐색해봅니다.-(숙제)\" data-toc-modified-id=\"학습-차원에서-DOM-Tree를-위에서-부터-차례로-탐색해봅니다.-(숙제)-1.8\">학습 차원에서 DOM Tree를 위에서 부터 차례로 탐색해봅니다. (숙제)</a></span></li><li><span><a href=\"#네이버,-다음-검색결과-추출하기-(숙제)\" data-toc-modified-id=\"네이버,-다음-검색결과-추출하기-(숙제)-1.9\">네이버, 다음 검색결과 추출하기 (숙제)</a></span></li></ul></li></ul></div>"
   ]
  },
  {
   "cell_type": "markdown",
   "metadata": {},
   "source": [
    "\"05.웹 크롤링 - DOM.pdf\"(day5) 강의 내용에 대한 실습 코드 입니다."
   ]
  },
  {
   "cell_type": "markdown",
   "metadata": {},
   "source": [
    "## BeautifulSoup"
   ]
  },
  {
   "cell_type": "markdown",
   "metadata": {},
   "source": [
    "이전 강의에서 정의한 getDownload 함수를 사용해서 웹페이지를 다운로드 해봅니다."
   ]
  },
  {
   "cell_type": "code",
   "execution_count": 2,
   "metadata": {},
   "outputs": [],
   "source": [
    "import requests\n",
    "\n",
    "headers = {\"user-agent\": \"Mozilla/5.0\"}\n",
    "base_retries = 3\n",
    "\n",
    "def getDownload(url, param=None, retries=base_retries):\n",
    "    resp = None\n",
    "\n",
    "    try:\n",
    "        resp = requests.get(url, params=param, headers=headers)\n",
    "        resp.raise_for_status()\n",
    "    except requests.exceptions.HTTPError as e:\n",
    "        if 500 <= resp.status_code < 600 and retries > 0:\n",
    "            print(\"Retries: {0}\".format(base_retries - retries + 1))\n",
    "            return getDownload(url, param, retries - 1)\n",
    "        else:\n",
    "            print(resp.status_code)\n",
    "            print(resp.reason)\n",
    "            print(resp.headers)\n",
    "    \n",
    "    return resp"
   ]
  },
  {
   "cell_type": "code",
   "execution_count": 3,
   "metadata": {},
   "outputs": [
    {
     "data": {
      "text/plain": [
       "'<!doctype html><html itemscope=\"\" itemtype=\"http://schema.org/SearchResultsPage\" lang=\"ko\"><head><meta content=\"text/html; charset=UTF-8\" http-equiv=\"Content-Type\"><meta content=\"/images/branding/googleg/1x/googleg_standard_color_128dp.png\" itemprop=\"image\"><noscript><meta content=\"0;url=/search?q=%ED%8C%8C%EC%9D%B4%EC%8D%AC&amp;gbv=1&amp;sei=OiqCXLbAMpXXhwO1sLnQDA\" http-equiv=\"refresh\"><style>table,div,span,p{display:none}</style><div style=\"display:block\">몇 초 안에 이동하지 않는 경우 <a href=\"/search?q=%ED%8C%8C%EC%9D%B4%EC%8D%AC&amp;gbv=1&amp;sei=OiqCXLbAMpXXhwO1sLnQDA\">여기</a>를 클릭하세요.</div></noscript><title>파이썬 - Google 검색</title><style>#gb{font:13px/27px Arial,sans-serif;height:30px}#gbz,#gbg{position:absolute;white-space:nowrap;top:0;height:30px;z-index:1000}#gbz{left:0;padding-left:4px}#gbg{right:0;padding-right:5px}#gbs{background:transparent;position:absolute;top:-999px;visibility:hidden;z-index:998;right:0}.gbto #gbs{background:#fff}#gbx3,#gbx4{background-color:#2d2d2d;background-image:none;_background-image:none;background-position:0 -138px;background-repeat:repeat-x;border-bottom:1px solid #000;font-size:24px;height:29px;_height:30px;opacity:1;filter:alpha(opacity=100);position:absolute;top:0;width:100%;z-index:990}#gbx3{left:0}#gbx4{right:0}#gbb{position:relative}#gbbw{left:0;position:absolute;top:30px;width:100%}.gbtcb{position:absolute;visibility:hidden}#gbz .gbtcb{right:0}#gbg .gbtcb{left:0}.gbxx{display:none !important}.gbxo{opacity:0 !important;filter:alpha(opacity=0) !important}.gbm{position:absolute;z-index:999;top:-999px;visibility:hidden;text-align:left;border:1px solid #bebebe;background:#fff;-moz-box-shadow:-1px 1px 1px rgba(0,0,0,.2);-webkit-box-shadow:0 2px 4px rgba(0,0,0,.2);box-shadow:0 2px 4px rgba(0,0,0,.2)}.gbrtl .gbm{-moz-box-shadow:1px 1px 1px rgba(0,0,0,.2)}.gbto .gbm,.gbto #gbs{top:29px;visibility:visible}#gbz .gbm{left:0}#gbg .gbm{right:0}.gbxms{background-color:#ccc;display:block;position:absolute;z-index:1;top:-1px;left:-2px;right:-2px;bottom:-2px;opacity:.4;-moz-border-radius:3px;filter:progid:DXImageTransform.Microsoft.Blur(pixelradius=5);*opacity:1;*top:-2px;*left:-5px;*right:5px;*bottom:4px;-ms-filter:\"progid:DXImageTransform.Microsoft.Blur(pixelradius=5)\";opacity:1\\\\0/;top:-4px\\\\0/;left:-6px\\\\0/;right:5px\\\\0/;bottom:4px\\\\0/}.gbma{position:relative;top:-1px;border-style:solid dashed dashed;border-color:transparent;border-top-color:#c0c0c0;display:-moz-inline-box;display:inline-block;font-size:0;height:0;line-height:0;width:0;border-width:3px 3px 0;padding-top:1px;left:4px}#gbztms1,#gbi4m1,#gbi4s,#gbi4t{zoom:1}.gbtc,.gbmc,.gbmcc{display:block;list-style:none;margin:0;padding:0}.gbmc{background:#fff;padding:10px 0;position:relative;z-index:2;zoom:1}.gbt{position:relative;display:-moz-inline-box;display:inline-block;line-height:27px;padding:0;vertical-align:top}.gbt{*display:inline}.gbto{box-shadow:0 2px 4px rgba(0,0,0,.2);-moz-box-shadow:0 2px 4px rgba(0,0,0,.2);-webkit-box-shadow:0 2px 4px rgba(0,0,0,.2)}.gbzt,.gbgt{cursor:pointer;display:block;text-decoration:none !important}span#gbg6,span#gbg4{cursor:default}.gbts{border-left:1px solid transparent;border-right:1px solid transparent;display:block;*display:inline-block;padding:0 5px;position:relative;z-index:1000}.gbts{*display:inline}.gbzt .gbts{display:inline;zoom:1}.gbto .gbts{background:#fff;border-color:#bebebe;color:#36c;padding-bottom:1px;padding-top:2px}.gbz0l .gbts{color:#fff;font-weight:bold}.gbtsa{padding-right:9px}#gbz .gbzt,#gbz .gbgt,#gbg .gbgt{color:#ccc!important}.gbtb2{display:block;border-top:2px solid transparent}.gbto .gbzt .gbtb2,.gbto .gbgt .gbtb2{border-top-width:0}.gbtb .gbts{background:url(https://ssl.gstatic.com/gb/images/b_8d5afc09.png);_background:url(https://ssl.gstatic.com/gb/images/b8_3615d64d.png);background-position:-27px -22px;border:0;font-size:0;padding:29px 0 0;*padding:27px 0 0;width:1px}.gbzt:hover,.gbzt:focus,.gbgt-hvr,.gbgt:focus{background-color:#4c4c4c;background-image:none;_background-image:none;background-position:0 -102px;background-repeat:repeat-x;outline:none;text-decoration:none !important}.gbpdjs .gbto .gbm{min-width:99%}.gbz0l .gbtb2{border-top-color:#dd4b39!important}#gbi4s,#gbi4s1{font-weight:bold}#gbg6.gbgt-hvr,#gbg6.gbgt:focus{background-color:transparent;background-image:none}.gbg4a{font-size:0;line-height:0}.gbg4a .gbts{padding:27px 5px 0;*padding:25px 5px 0}.gbto .gbg4a .gbts{padding:29px 5px 1px;*padding:27px 5px 1px}#gbi4i,#gbi4id{left:5px;border:0;height:24px;position:absolute;top:1px;width:24px}.gbto #gbi4i,.gbto #gbi4id{top:3px}.gbi4p{display:block;width:24px}#gbi4id{background-position:-44px -101px}#gbmpid{background-position:0 0}#gbmpi,#gbmpid{border:none;display:inline-block;height:48px;width:48px}#gbmpiw{display:inline-block;line-height:9px;padding-left:20px;margin-top:10px;position:relative}#gbmpi,#gbmpid,#gbmpiw{*display:inline}#gbg5{font-size:0}#gbgs5{padding:5px !important}.gbto #gbgs5{padding:7px 5px 6px !important}#gbi5{background:url(https://ssl.gstatic.com/gb/images/b_8d5afc09.png);_background:url(https://ssl.gstatic.com/gb/images/b8_3615d64d.png);background-position:0 0;display:block;font-size:0;height:17px;width:16px}.gbto #gbi5{background-position:-6px -22px}.gbn .gbmt,.gbn .gbmt:visited,.gbnd .gbmt,.gbnd .gbmt:visited{color:#dd8e27 !important}.gbf .gbmt,.gbf .gbmt:visited{color:#900 !important}.gbmt,.gbml1,.gbmlb,.gbmt:visited,.gbml1:visited,.gbmlb:visited{color:#36c !important;text-decoration:none !important}.gbmt,.gbmt:visited{display:block}.gbml1,.gbmlb,.gbml1:visited,.gbmlb:visited{display:inline-block;margin:0 10px}.gbml1,.gbmlb,.gbml1:visited,.gbmlb:visited{*display:inline}.gbml1,.gbml1:visited{padding:0 10px}.gbml1-hvr,.gbml1:focus{outline:none;text-decoration:underline !important}#gbpm .gbml1{display:inline;margin:0;padding:0;white-space:nowrap}.gbmlb,.gbmlb:visited{line-height:27px}.gbmlb-hvr,.gbmlb:focus{outline:none;text-decoration:underline !important}.gbmlbw{color:#ccc;margin:0 10px}.gbmt{padding:0 20px}.gbmt:hover,.gbmt:focus{background:#eee;cursor:pointer;outline:0 solid black;text-decoration:none !important}.gbm0l,.gbm0l:visited{color:#000 !important;font-weight:bold}.gbmh{border-top:1px solid #bebebe;font-size:0;margin:10px 0}#gbd4 .gbmc{background:#f5f5f5;padding-top:0}#gbd4 .gbsbic::-webkit-scrollbar-track:vertical{background-color:#f5f5f5;margin-top:2px}#gbmpdv{background:#fff;border-bottom:1px solid #bebebe;-moz-box-shadow:0 2px 4px rgba(0,0,0,.12);-o-box-shadow:0 2px 4px rgba(0,0,0,.12);-webkit-box-shadow:0 2px 4px rgba(0,0,0,.12);box-shadow:0 2px 4px rgba(0,0,0,.12);position:relative;z-index:1}#gbd4 .gbmh{margin:0}.gbmtc{padding:0;margin:0;line-height:27px}.GBMCC:last-child:after,#GBMPAL:last-child:after{content:\\'\\\\0A\\\\0A\\';white-space:pre;position:absolute}#gbmps{*zoom:1}#gbd4 .gbpc,#gbmpas .gbmt{line-height:17px}#gbd4 .gbpgs .gbmtc{line-height:27px}#gbd4 .gbmtc{border-bottom:1px solid #bebebe}#gbd4 .gbpc{display:inline-block;margin:16px 0 10px;padding-right:50px;vertical-align:top}#gbd4 .gbpc{*display:inline}.gbpc .gbps,.gbpc .gbps2{display:block;margin:0 20px}#gbmplp.gbps{margin:0 10px}.gbpc .gbps{color:#000;font-weight:bold}.gbpc .gbpd{margin-bottom:5px}.gbpd .gbmt,.gbpd .gbps{color:#666 !important}.gbpd .gbmt{opacity:.4;filter:alpha(opacity=40)}.gbps2{color:#666;display:block}.gbp0{display:none}.gbp0 .gbps2{font-weight:bold}#gbd4 .gbmcc{margin-top:5px}.gbpmc{background:#fef9db}.gbpmc .gbpmtc{padding:10px 20px}#gbpm{border:0;*border-collapse:collapse;border-spacing:0;margin:0;white-space:normal}#gbpm .gbpmtc{border-top:none;color:#000 !important;font:11px Arial,sans-serif}#gbpms{*white-space:nowrap}.gbpms2{font-weight:bold;white-space:nowrap}#gbmpal{*border-collapse:collapse;border-spacing:0;border:0;margin:0;white-space:nowrap;width:100%}.gbmpala,.gbmpalb{font:13px Arial,sans-serif;line-height:27px;padding:10px 20px 0;white-space:nowrap}.gbmpala{padding-left:0;text-align:left}.gbmpalb{padding-right:0;text-align:right}#gbmpasb .gbps{color:#000}#gbmpal .gbqfbb{margin:0 20px}.gbp0 .gbps{*display:inline}a.gbiba{margin:8px 20px 10px}.gbmpiaw{display:inline-block;padding-right:10px;margin-bottom:6px;margin-top:10px}.gbxv{visibility:hidden}.gbmpiaa{display:block;margin-top:10px}.gbmpia{border:none;display:block;height:48px;width:48px}.gbmpnw{display:inline-block;height:auto;margin:10px 0;vertical-align:top}\\n.gbqfb,.gbqfba,.gbqfbb{-moz-border-radius:2px;-webkit-border-radius:2px;border-radius:2px;cursor:default !important;display:inline-block;font-weight:bold;height:29px;line-height:29px;min-width:54px;*min-width:70px;padding:0 8px;text-align:center;text-decoration:none !important;-moz-user-select:none;-webkit-user-select:none}.gbqfb:focus,.gbqfba:focus,.gbqfbb:focus{border:1px solid #4d90fe;-moz-box-shadow:inset 0 0 0 1px rgba(255, 255, 255, 0.5);-webkit-box-shadow:inset 0 0 0 1px rgba(255, 255, 255, 0.5);box-shadow:inset 0 0 0 1px rgba(255, 255, 255, 0.5);outline:none}.gbqfb-hvr:focus,.gbqfba-hvr:focus,.gbqfbb-hvr:focus{-webkit-box-shadow:inset 0 0 0 1px #fff,0 1px 1px rgba(0,0,0,.1);-moz-box-shadow:inset 0 0 0 1px #fff,0 1px 1px rgba(0,0,0,.1);box-shadow:inset 0 0 0 1px #fff,0 1px 1px rgba(0,0,0,.1)}.gbqfb-no-focus:focus{border:1px solid #3079ed;-moz-box-shadow:none;-webkit-box-shadow:none;box-shadow:none}.gbqfb-hvr,.gbqfba-hvr,.gbqfbb-hvr{-webkit-box-shadow:0 1px 1px rgba(0,0,0,.1);-moz-box-shadow:0 1px 1px rgba(0,0,0,.1);box-shadow:0 1px 1px rgba(0,0,0,.1)}.gbqfb::-moz-focus-inner,.gbqfba::-moz-focus-inner,.gbqfbb::-moz-focus-inner{border:0}.gbqfba,.gbqfbb{border:1px solid #dcdcdc;border-color:rgba(0,0,0,.1);color:#444 !important;font-size:11px}.gbqfb{background-color:#4d90fe;background-image:-webkit-gradient(linear,left top,left bottom,from(#4d90fe),to(#4787ed));background-image:-webkit-linear-gradient(top,#4d90fe,#4787ed);background-image:-moz-linear-gradient(top,#4d90fe,#4787ed);background-image:-ms-linear-gradient(top,#4d90fe,#4787ed);background-image:-o-linear-gradient(top,#4d90fe,#4787ed);background-image:linear-gradient(top,#4d90fe,#4787ed);filter:progid:DXImageTransform.Microsoft.gradient(startColorStr=\\'#4d90fe\\',EndColorStr=\\'#4787ed\\');border:1px solid #3079ed;color:#fff!important;margin:0 0}.gbqfb-hvr{border-color:#2f5bb7}.gbqfb-hvr:focus{border-color:#2f5bb7}.gbqfb-hvr,.gbqfb-hvr:focus{background-color:#357ae8;background-image:-webkit-gradient(linear,left top,left bottom,from(#4d90fe),to(#357ae8));background-image:-webkit-linear-gradient(top,#4d90fe,#357ae8);background-image:-moz-linear-gradient(top,#4d90fe,#357ae8);background-image:-ms-linear-gradient(top,#4d90fe,#357ae8);background-image:-o-linear-gradient(top,#4d90fe,#357ae8);background-image:linear-gradient(top,#4d90fe,#357ae8)}.gbqfb:active{background-color:inherit;-webkit-box-shadow:inset 0 1px 2px rgba(0, 0, 0, 0.3);-moz-box-shadow:inset 0 1px 2px rgba(0, 0, 0, 0.3);box-shadow:inset 0 1px 2px rgba(0, 0, 0, 0.3)}.gbqfba{background-color:#f5f5f5;background-image:-webkit-gradient(linear,left top,left bottom,from(#f5f5f5),to(#f1f1f1));background-image:-webkit-linear-gradient(top,#f5f5f5,#f1f1f1);background-image:-moz-linear-gradient(top,#f5f5f5,#f1f1f1);background-image:-ms-linear-gradient(top,#f5f5f5,#f1f1f1);background-image:-o-linear-gradient(top,#f5f5f5,#f1f1f1);background-image:linear-gradient(top,#f5f5f5,#f1f1f1);filter:progid:DXImageTransform.Microsoft.gradient(startColorStr=\\'#f5f5f5\\',EndColorStr=\\'#f1f1f1\\')}.gbqfba-hvr,.gbqfba-hvr:active{background-color:#f8f8f8;background-image:-webkit-gradient(linear,left top,left bottom,from(#f8f8f8),to(#f1f1f1));background-image:-webkit-linear-gradient(top,#f8f8f8,#f1f1f1);background-image:-moz-linear-gradient(top,#f8f8f8,#f1f1f1);background-image:-ms-linear-gradient(top,#f8f8f8,#f1f1f1);background-image:-o-linear-gradient(top,#f8f8f8,#f1f1f1);background-image:linear-gradient(top,#f8f8f8,#f1f1f1);filter:progid:DXImageTransform.Microsoft.gradient(startColorStr=\\'#f8f8f8\\',EndColorStr=\\'#f1f1f1\\')}.gbqfbb{background-color:#fff;background-image:-webkit-gradient(linear,left top,left bottom,from(#fff),to(#fbfbfb));background-image:-webkit-linear-gradient(top,#fff,#fbfbfb);background-image:-moz-linear-gradient(top,#fff,#fbfbfb);background-image:-ms-linear-gradient(top,#fff,#fbfbfb);background-image:-o-linear-gradient(top,#fff,#fbfbfb);background-image:linear-gradient(top,#fff,#fbfbfb);filter:progid:DXImageTransform.Microsoft.gradient(startColorStr=\\'#ffffff\\',EndColorStr=\\'#fbfbfb\\')}.gbqfbb-hvr,.gbqfbb-hvr:active{background-color:#fff;background-image:-webkit-gradient(linear,left top,left bottom,from(#fff),to(#f8f8f8));background-image:-webkit-linear-gradient(top,#fff,#f8f8f8);background-image:-moz-linear-gradient(top,#fff,#f8f8f8);background-image:-ms-linear-gradient(top,#fff,#f8f8f8);background-image:-o-linear-gradient(top,#fff,#f8f8f8);background-image:linear-gradient(top,#fff,#f8f8f8);filter:progid:DXImageTransform.Microsoft.gradient(startColorStr=\\'#ffffff\\',EndColorStr=\\'#f8f8f8\\')}.gbqfba-hvr,.gbqfba-hvr:active,.gbqfbb-hvr,.gbqfbb-hvr:active{border-color:#c6c6c6;-webkit-box-shadow:0 1px 1px rgba(0,0,0,.1);-moz-box-shadow:0 1px 1px rgba(0,0,0,.1);box-shadow:0 1px 1px rgba(0,0,0,.1);color:#222 !important}.gbqfba:active,.gbqfbb:active{-webkit-box-shadow:inset 0 1px 2px rgba(0,0,0,.1);-moz-box-shadow:inset 0 1px 2px rgba(0,0,0,.1);box-shadow:inset 0 1px 2px rgba(0,0,0,.1)}\\n#gbmpas{max-height:220px}#gbmm{max-height:530px}.gbsb{-webkit-box-sizing:border-box;display:block;position:relative;*zoom:1}.gbsbic{overflow:auto}.gbsbis .gbsbt,.gbsbis .gbsbb{-webkit-mask-box-image:-webkit-gradient(linear,left top,right top,color-stop(0,rgba(0,0,0,.1)),color-stop(.5,rgba(0,0,0,.8)),color-stop(1,rgba(0,0,0,.1)));left:0;margin-right:0;opacity:0;position:absolute;width:100%}.gbsb .gbsbt:after,.gbsb .gbsbb:after{content:\"\";display:block;height:0;left:0;position:absolute;width:100%}.gbsbis .gbsbt{background:-webkit-gradient(linear,left top,left bottom,from(rgba(0,0,0,.2)),to(rgba(0,0,0,0)));background-image:-webkit-linear-gradient(top,rgba(0,0,0,.2),rgba(0,0,0,0));background-image:-moz-linear-gradient(top,rgba(0,0,0,.2),rgba(0,0,0,0));background-image:-ms-linear-gradient(top,rgba(0,0,0,.2),rgba(0,0,0,0));background-image:-o-linear-gradient(top,rgba(0,0,0,.2),rgba(0,0,0,0));background-image:linear-gradient(top,rgba(0,0,0,.2),rgba(0,0,0,0));height:6px;top:0}.gbsb .gbsbt:after{border-top:1px solid #ebebeb;border-color:rgba(0,0,0,.3);top:0}.gbsb .gbsbb{-webkit-mask-box-image:-webkit-gradient(linear,left top,right top,color-stop(0,rgba(0,0,0,.1)),color-stop(.5,rgba(0,0,0,.8)),color-stop(1,rgba(0,0,0,.1)));background:-webkit-gradient(linear,left bottom,left top,from(rgba(0,0,0,.2)),to(rgba(0,0,0,0)));background-image:-webkit-linear-gradient(bottom,rgba(0,0,0,.2),rgba(0,0,0,0));background-image:-moz-linear-gradient(bottom,rgba(0,0,0,.2),rgba(0,0,0,0));background-image:-ms-linear-gradient(bottom,rgba(0,0,0,.2),rgba(0,0,0,0));background-image:-o-linear-gradient(bottom,rgba(0,0,0,.2),rgba(0,0,0,0));background-image:linear-gradient(bottom,rgba(0,0,0,.2),rgba(0,0,0,0));bottom:0;height:4px}.gbsb .gbsbb:after{border-bottom:1px solid #ebebeb;border-color:rgba(0,0,0,.3);bottom:0}\\n</style><style>.star{float:left;margin-top:1px;overflow:hidden}.ybhkme{font-size:11px}.j{width:34em}body,td,div,a{font-family:arial,sans-serif;tap-highlight-color:rgba(255,255,255,0)}body{margin:0}a img{border:0}#gbar{float:left;height:22px;padding-left:2px;font-size:13px}.gsfi,.gsfs{font-size:17px}.w,.q:active,.q:visited,.tbotu{color:#11c}a.gl{text-decoration:none}#foot{padding:0 8px}#foot a{white-space:nowrap}h3{font-size:16px;font-weight:normal;margin:0;padding:0}#res h3{display:inline}.hd{height:1px;position:absolute;top:-1000em}.g,body,html,table,.std{font-size:13px}.g{margin-bottom:23px;margin-top:0;zoom:1}ol li,ul li{list-style:none}h1,ol,ul,li{margin:0;padding:0}.e{margin:2px 0 0.75em}#leftnav a{text-decoration:none}#leftnav h2{color:#767676;font-weight:normal;margin:0}#nav{border-collapse:collapse;margin-top:17px;text-align:left}#nav td{text-align:center}.nobr{white-space:nowrap}.ts{border-collapse:collapse}.s br{display:none}.csb{display:block;height:40px}.images_table td{line-height:17px;padding-bottom:16px}.images_table img{border:1px solid #ccc;padding:1px}#tbd,#abd{display:block;min-height:1px}#abd{padding-top:3px}#tbd li{display:inline}.TIrJXe,.UU5df{margin-bottom:8px}#tbd .tbt li{display:block;font-size:13px;line-height:1.2;padding-bottom:3px;padding-left:8px;text-indent:-8px}.tbos,.b{font-weight:bold}em{font-weight:bold;font-style:normal}.mime{color:#1a0dab;font-weight:bold;font-size:x-small}.soc a{text-decoration:none}.soc{color:#808080}.ul7Gbc{color:#e7711b}#Db7kif{border:1px solid #e0e0e0;margin-left:-8px;margin-right:-8px;padding:15px 20px 5px}.mrH1y{font-size:32px}.PZ6wOb{color:#777;font-size:16px;margin-top:5px}.gwrItc{color:#777;font-size:14px;margin-top:5px}.SVob4e{border:1px solid #e0e0e0;padding-left:20px}.mYu5Hb{border:1px solid #e0e0e0;padding:5px 20px}#vob{border:1px solid #e0e0e0;padding:15px 15px}#ZjIC2e{font-size:22px;line-height:22px;padding-bottom:5px}#vob_st{line-height:1.24}.DfLGHd{border-width:1px;border-style:solid;border-color:#eee;background-color:#fff;position:relative;margin-bottom:26px}.uRIxYb,.NjTIc,.PftIHd,.DXoZmb{font-family:Arial;font-weight:lighter}.uRIxYb{margin-bottom:5px}.uRIxYb{font-size:xx-large}.NjTIc{font-size:medium}.PftIHd{font-size:large}.DXoZmb{font-size:small}.DfLGHd{margin-left:-8px;margin-right:-15px;padding:20px 20px 24px}.ernfsc{border-spacing:0px 2px}.D3VFNd{max-width:380px;text-overflow:ellipsis;white-space:nowrap;overflow:hidden;padding-left:0px}.c1Ujmc{padding-left:15px;white-space:nowrap;color:#666}.EjZtie{padding-left:0px}.SFt5jb{color:#212121}.Pt7r9e{color:#878787}.bkcGhd{color:#093}.fIP9ce{color:#c00}.LDBB9d{padding:1px}.gssb_a{padding:0 10px !important}.gssb_c{left:132px !important;right:295px !important;top:78px !important;width:572px !important}.gssb_c table{font-size:16px !important}.gssb_e{border:1px solid #ccc !important;border-top-color:#d9d9d9 !important}.gssb_i{background:#eee !important}#res{padding:0 8px}#rhs_block{padding-top:43px}#MCN7mf{padding:0 8px}#subform_ctrl{font-size:11px;height:17px;margin:5px 3px 0 17px}.taf{padding-bottom:3px}.WIkLp{padding:20px 0 3px}.FuZzl{padding:20px 0 3px}#topstuff .e{padding-bottom:6px}.slk .sld{width:250px}.slk{margin-bottom:-3px}.slk .zaHRAf{padding-bottom:5px;width:250px}.ac,.st{line-height:1.24}.a1DBFd,#ofr{font-size:16px;margin:1em 0;padding:0 8px}.tZz6cc{padding-bottom:25px}.s{color:#545454}.ac{color:#545454}a.fl,.A8ul6 a,.osl a{color:#1a0dab;text-decoration:none}a:link{color:#1a0dab;cursor:pointer}#tads a:link{color:#1a0dab}#tads .soc a:link{color:#808080}a:visited{color:#61C}.blg a{text-decoration:none}cite,cite a:link{color:#006621;font-style:normal}#tads cite{color:#006621}.hJND5c{font-size:15px}.kvs{margin-top:1px}.hJND5c,.kvs,.slp{display:block;margin-bottom:1px}.kt{border-spacing:2px 0;margin-top:1px}.f{color:#808080}.L4Zeue{color:#093}h4.r{display:inline;font-size:small;font-weight:normal}.g{line-height:1.2}.NpC9Hd{display:inline-block;vertical-align:top;overflow:hidden;position:relative}.COi8F{margin:0 0 2em 1.3em}.COi8F li{list-style-type:disc}.osl{color:#777;margin-top:4px}.r{font-size:16px;margin:0}.gL9Hy{font-size:16px}.spell_orig{font-size:13px}.spell_orig a{text-decoration:none}.spell_orig b i{font-style:normal;font-weight:normal}.th{border:1px solid #ebebeb}.ts td{padding:0}.videobox{padding-bottom:3px}.slk a{text-decoration:none}#leftnav a:hover,#leftnav .tbou a:hover,.slk h3 a,a:hover{text-decoration:underline}#mn{table-layout:fixed;width:100%}#leftnav a{color:#222;font-size:13px}#leftnav{padding:43px 4px 4px 0}.tbos{color:#dd4b39}.tbt{margin-bottom:28px}#tbd{padding:0 0 0 16px}.tbou a{color:#222}#center_col{border:0;padding:0 8px 0 0}#topstuff .e{padding-top:3px}#topstuff .p64x9c{padding-top:6px}#ab_name{color:#dd4b39;font:20px \"Arial\";margin-left:15px}#resultStats{color:#999;font-size:13px;overflow:hidden;white-space:nowrap}.mslg>td{padding-right:1px;padding-top:2px}.slk .sld{margin-top:2px;padding:5px 0 5px 5px}.fmp{padding-top:3px}.close_btn{overflow:hidden}#fll a,#bfl a{color:#1a0dab !important;margin:0 12px;text-decoration:none !important}.ng{color:#dd4b39}#mss{margin:.33em 0 0;padding:0;display:table}.NYKCib{display:inline-block;float:left;white-space:nowrap;padding-right:16px}#mss p{margin:0;padding-top:5px}.tn{border-bottom:1px solid #ebebeb;display:block;float:left;height:59px;line-height:54px;min-width:980px;padding:0;position:relative;white-space:nowrap}.qrSWbe,a.qrSWbe{color:#777;cursor:pointer;display:inline-block;font-family:arial,sans-serif;font-size:small;height:54px;line-height:54px;margin:0 8px;padding:0 8px;text-decoration:none;white-space:nowrap}.tnuiC{border-bottom:3px solid #dd4b39;color:#dd4b39;font-weight:bold;margin:2px 8px 0}a.KDZjCd:hover{color:black;text-decoration:none;white-space:nowrap}body{margin:0;padding:0}.sFTC8c{display:inline-block;float:left;margin-top:2px}.pqkqJe,a.pqkqJe{margin-left:1px}.sd{line-height:43px;padding:0 8px 0 9px}a:active,.osl a:active,.tbou a:active,#leftnav a:active{color:#dd4b39}#bfl a:active{color:#dd4b39 !important}.csb{background:url(/images/nav_logo229.png) no-repeat;overflow:hidden}.close_btn{background:url(/images/nav_logo229.png) no-repeat -138px -84px;height:14px;width:14px;display:block}.star{background:url(/images/nav_logo229.png) no-repeat -94px -245px;height:13px;width:65px;display:block}.star div,.star span{background:url(/images/nav_logo229.png) no-repeat 0 -245px;height:13px;width:65px;display:block}.Pj9hGd{display:inline;margin:0 3px;outline-color:transparent;overflow:hidden;position:relative}.Pj9hGd>div{outline-color:transparent}.CiacGf{border-color:transparent;border-style:solid dashed dashed;border-top-color:green;border-width:4px 4px 0 4px;cursor:pointer;display:inline-block;font-size:0;height:0;left:4px;line-height:0;outline-color:transparent;position:relative;top:-3px;width:0}.CiacGf{margin-top:-4px}.am-dropdown-menu{display:block;background:#fff;border:1px solid #dcdcdc;font-size:13px;left:0;padding:0;position:absolute;right:auto;white-space:nowrap;z-index:3}.mUpfKd{list-style:none;white-space:nowrap}.mUpfKd:hover{background-color:#eee}a.imx0m{color:#333;cursor:pointer;display:block;padding:7px 18px;text-decoration:none}#tads a.imx0m{color:#333}.sfbgg{background:#f1f1f1;border-bottom:1px solid #e5e5e5;height:71px}#logocont{z-index:1;padding-left:4px;padding-top:4px}#logo{display:block;height:49px;margin-top:12px;margin-left:12px;overflow:hidden;position:relative;width:137px}#logo img{left:0;position:absolute;top:-41px}.lst-a{background:white;border:1px solid #d9d9d9;border-top-color:silver;width:570px}.lst-a:hover{border:1px solid #b9b9b9;border-top:1px solid #a0a0a0;box-shadow:inset 0 1px 2px rgba(0,0,0,0.1);-webkit-box-shadow:inset 0 1px 2px rgba(0,0,0,0.1);-moz-box-shadow:inset 0 1px 2px rgba(0,0,0,0.1)}.lst-td{border:none;padding:0}.tia input{border-right:none;padding-right:0}.tia{padding-right:0}.lst{background:none;border:none;color:#000;font:16px arial,sans-serif;float:left;height:22px;margin:0;padding:3px 6px 2px 9px;vertical-align:top;width:100%;word-break:break-all}.lst:focus{outline:none}.lst-b{background:none;border:none;height:26px;padding:0 6px 0 12px}.ds{border-right:1px solid #e7e7e7;position:relative;height:29px;margin-left:17px;z-index:100}.lsbb{background-image:-moz-linear-gradient(top,#4d90fe,#4787ed);background-image:-ms-linear-gradient(top,#4d90fe,#4787ed);background-image:-o-linear-gradient(top,#4d90fe,#4787ed);background-image:-webkit-gradient(linear,left top,left bottom,from(#4d90fe),to(#4787ed));background-image:-webkit-linear-gradient(top,#4d90fe,#4787ed);background-image:linear-gradient(top,#4d90fe,#4787ed);border:1px solid #3079ed;border-radius:2px;background-color:#4d90fe;height:27px;width:68px}.lsbb:hover{background-image:-moz-linear-gradient(top,#4d90fe,#357ae8);background-image:-ms-linear-gradient(top,#4d90fe,#357ae8);background-image:-o-linear-gradient(top,#4d90fe,#357ae8);background-image:-webkit-gradient(linear,left top,left bottom,from(#4d90fe),to(#357ae8));background-image:-webkit-linear-gradient(top,#4d90fe,#357ae8);background-color:#357ae8;background-image:linear-gradient(top,#4d90fe,#357ae8);border:1px solid #2f5bb7}.lsb{background:transparent;background-position:0 -343px;background-repeat:repeat-x;border:none;color:#000;cursor:default;font:15px arial,sans-serif;height:29px;margin:0;vertical-align:top;width:100%}.lsb:active{-moz-box-shadow:inset 0 1px 2px rgba(0,0,0,0.3);-webkit-box-shadow:inset 0 1px 2px rgba(0,0,0,0.3);box-shadow:inset 0 1px 2px rgba(0,0,0,0.3);background:transparent;color:transparent;overflow:hidden;position:relative;width:100%}.sbico{color:transparent;display:inline-block;height:15px;margin:0 auto;margin-top:2px;width:15px;overflow:hidden}</style><script nonce=\"2LUenyCk8Yb3462c25lyyg==\">(function(){window.google={kEI:\\'OiqCXLbAMpXXhwO1sLnQDA\\',kEXPI:\\'0,1353747,57,1957,2423,697,528,731,223,756,819,30,927,300,806,18,1070,70,336,179,160,191,78,56,147,2334022,329487,1294,12383,4855,32691,15248,861,6062,6107,16521,364,3319,1262,4243,2442,260,5107,575,835,284,2,297,282,727,2431,1362,283,4040,4922,11,34,774,2251,4743,6,1145,2,4560,1021,1266,1314,669,535,515,1808,1129,268,81,7,491,620,29,1395,978,3328,3394,1209,876,412,2,554,2552,901,796,101,1119,38,363,557,718,28,7,120,1217,93,1271,346,1,137,47,1080,2736,1558,1097,148,167,97,2,625,217,918,1427,2,4,2,463,110,97,44,334,601,1850,1367,152,354,124,124,305,1073,1106,632,464,675,275,350,25,744,350,21,317,56,199,2,526,810,7,989,644,138,404,135,307,9,292,1316,327,354,2,22,208,548,85,1,12,392,29,79,360,337,2,202,308,104,454,2,829,8,85,211,20,724,76,11,83,152,78,365,33,784,189,9,217,315,8,145,3,255,553,59,14,14,185,170,74,302,175,85,254,422,43,230,2,12,358,115,1,1,135,20,182,44,135,234,2,296,298,10,5954646,2554,254,5997633\\',authuser:0,kscs:\\'c9c918f0_OiqCXLbAMpXXhwO1sLnQDA\\',kGL:\\'KR\\'};google.sn=\\'web\\';google.kHL=\\'ko\\';})();(function(){google.lc=[];google.li=0;google.getEI=function(a){for(var b;a&&(!a.getAttribute||!(b=a.getAttribute(\"eid\")));)a=a.parentNode;return b||google.kEI};google.getLEI=function(a){for(var b=null;a&&(!a.getAttribute||!(b=a.getAttribute(\"leid\")));)a=a.parentNode;return b};google.https=function(){return\"https:\"==window.location.protocol};google.ml=function(){return null};google.time=function(){return(new Date).getTime()};google.log=function(a,b,e,c,g){if(a=google.logUrl(a,b,e,c,g)){b=new Image;var d=google.lc,f=google.li;d[f]=b;b.onerror=b.onload=b.onabort=function(){delete d[f]};google.vel&&google.vel.lu&&google.vel.lu(a);b.src=a;google.li=f+1}};google.logUrl=function(a,b,e,c,g){var d=\"\",f=google.ls||\"\";e||-1!=b.search(\"&ei=\")||(d=\"&ei=\"+google.getEI(c),-1==b.search(\"&lei=\")&&(c=google.getLEI(c))&&(d+=\"&lei=\"+c));c=\"\";!e&&google.cshid&&-1==b.search(\"&cshid=\")&&\"slh\"!=a&&(c=\"&cshid=\"+google.cshid);a=e||\"/\"+(g||\"gen_204\")+\"?atyp=i&ct=\"+a+\"&cad=\"+b+d+f+\"&zx=\"+google.time()+c;/^http:/i.test(a)&&google.https()&&(google.ml(Error(\"a\"),!1,{src:a,glmm:1}),a=\"\");return a};}).call(this);(function(){google.y={};google.x=function(a,b){if(a)var c=a.id;else{do c=Math.random();while(google.y[c])}google.y[c]=[a,b];return!1};google.lm=[];google.plm=function(a){google.lm.push.apply(google.lm,a)};google.lq=[];google.load=function(a,b,c){google.lq.push([[a],b,c])};google.loadAll=function(a,b){google.lq.push([a,b])};}).call(this);google.f={};(function(){var b=[function(){google.c&&google.tick(\"load\",\"dcl\")}];google.dclc=function(a){b.length?b.push(a):a()};function c(){for(var a;a=b.shift();)a()}window.addEventListener?(document.addEventListener(\"DOMContentLoaded\",c,!1),window.addEventListener(\"load\",c,!1)):window.attachEvent&&window.attachEvent(\"onload\",c);}).call(this);</script><script type=\"text/javascript\" nonce=\"2LUenyCk8Yb3462c25lyyg==\">(function(){try{var e=this;var aa=function(a,b,c,d){d=d||{};d._sn=[\"cfg\",b,c].join(\".\");window.gbar.logger.ml(a,d)};var g=window.gbar=window.gbar||{},h=window.gbar.i=window.gbar.i||{},ba;function _tvn(a,b){a=parseInt(a,10);return isNaN(a)?b:a}function _tvf(a,b){a=parseFloat(a);return isNaN(a)?b:a}function _tvv(a){return!!a}function p(a,b,c){(c||g)[a]=b}g.bv={n:_tvn(\"2\",0),r:\"\",f:\".66.41.\",e:\"1300102,3700328\",m:_tvn(\"1\",1)};\\nfunction ca(a,b,c){var d=\"on\"+b;if(a.addEventListener)a.addEventListener(b,c,!1);else if(a.attachEvent)a.attachEvent(d,c);else{var f=a[d];a[d]=function(){var a=f.apply(this,arguments),b=c.apply(this,arguments);return void 0==a?b:void 0==b?a:b&&a}}}var da=function(a){return function(){return g.bv.m==a}},ea=da(1),fa=da(2);p(\"sb\",ea);p(\"kn\",fa);h.a=_tvv;h.b=_tvf;h.c=_tvn;h.i=aa;var q=window.gbar.i.i;var r=function(){},ha=function(){},ka=function(a){var b=new Image,c=ia;b.onerror=b.onload=b.onabort=function(){try{delete ja[c]}catch(d){}};ja[c]=b;b.src=a;ia=c+1},ja=[],ia=0;p(\"logger\",{il:ha,ml:r,log:ka});var u=window.gbar.logger;var v={},la={},w=[],ma=h.b(\"0.1\",.1),na=h.a(\"1\",!0),oa=function(a,b){w.push([a,b])},pa=function(a,b){v[a]=b},qa=function(a){return a in v},x={},A=function(a,b){x[a]||(x[a]=[]);x[a].push(b)},B=function(a){A(\"m\",a)},ra=function(a,b){var c=document.createElement(\"script\");c.src=a;c.async=na;Math.random()<ma&&(c.onerror=function(){c.onerror=null;r(Error(\"Bundle load failed: name=\"+(b||\"UNK\")+\" url=\"+a))});(document.getElementById(\"xjsc\")||document.getElementsByTagName(\"body\")[0]||\\ndocument.getElementsByTagName(\"head\")[0]).appendChild(c)},D=function(a){for(var b=0,c;(c=w[b])&&c[0]!=a;++b);!c||c[1].l||c[1].s||(c[1].s=!0,sa(2,a),c[1].url&&ra(c[1].url,a),c[1].libs&&C&&C(c[1].libs))},ta=function(a){A(\"gc\",a)},ua=null,va=function(a){ua=a},sa=function(a,b,c){if(ua){a={t:a,b:b};if(c)for(var d in c)a[d]=c[d];try{ua(a)}catch(f){}}};p(\"mdc\",v);p(\"mdi\",la);p(\"bnc\",w);p(\"qGC\",ta);p(\"qm\",B);p(\"qd\",x);p(\"lb\",D);p(\"mcf\",pa);p(\"bcf\",oa);p(\"aq\",A);p(\"mdd\",\"\");\\np(\"has\",qa);p(\"trh\",va);p(\"tev\",sa);if(h.a(\"m;/_/scs/abc-static/_/js/k=gapi.gapi.en.1YQiBIu1zGM.O/rt=j/d=1/rs=AHpOoo8jmooDqnwUNQ5CPVlex635ObQRZg/m=__features__\")){var F=function(a,b){return wa?a||b:b},xa=h.a(\"1\"),ya=h.a(\"\"),za=h.a(\"\"),wa=h.a(\"\"),Aa=window.gapi=F(window.gapi,{}),Ba=function(a,b){var c=function(){g.dgl(a,b)};xa?B(c):(A(\"gl\",c),D(\"gl\"))},Ca={},Da=function(a){a=a.split(\":\");for(var b;(b=a.pop())&&Ca[b];);return!b},C=function(a){function b(){for(var b=a.split(\":\"),d=0,f;f=b[d];++d)Ca[f]=1;for(b=0;d=w[b];++b)d=d[1],(f=d.libs)&&!d.l&&d.i&&\\nDa(f)&&d.i()}g.dgl(a,b)},G=window.___jsl=F(window.___jsl,{});G.h=F(G.h,\"m;/_/scs/abc-static/_/js/k=gapi.gapi.en.1YQiBIu1zGM.O/rt=j/d=1/rs=AHpOoo8jmooDqnwUNQ5CPVlex635ObQRZg/m=__features__\");G.ms=F(G.ms,\"https://apis.google.com\");G.m=F(G.m,\"\");G.l=F(G.l,[]);G.dpo=F(G.dpo,\"\");xa||w.push([\"gl\",{url:\"//ssl.gstatic.com/gb/js/abc/glm_e7bb39a7e1a24581ff4f8d199678b1b9.js\"}]);var Ea={pu:ya,sh:\"\",si:za,hl:\"ko\"};v.gl=Ea;wa?Aa.load||p(\"load\",Ba,Aa):p(\"load\",Ba,Aa);p(\"dgl\",Ba);p(\"agl\",Da);h.o=xa};var Fa=h.b(\"0.1\",.001),Ga=0;\\nfunction _mlToken(a,b){try{if(1>Ga){Ga++;var c=a;b=b||{};var d=encodeURIComponent,f=[\"//www.google.com/gen_204?atyp=i&zx=\",(new Date).getTime(),\"&jexpid=\",d(\"28834\"),\"&srcpg=\",d(\"prop=1\"),\"&jsr=\",Math.round(1/Fa),\"&ogev=\",d(\"OiqCXIK6M82qoATv0ayYAg\"),\"&ogf=\",g.bv.f,\"&ogrp=\",d(\"1\"),\"&ogv=\",d(\"236550449.0\"),\"&oggv=\"+d(\"es_plusone_gc_20190224.0_p0\"),\"&ogd=\",d(\"com\"),\"&ogc=\",d(\"KOR\"),\"&ogl=\",d(\"ko\")];b._sn&&(b._sn=\\n\"og.\"+b._sn);for(var k in b)f.push(\"&\"),f.push(d(k)),f.push(\"=\"),f.push(d(b[k]));f.push(\"&emsg=\");f.push(d(c.name+\":\"+c.message));var l=f.join(\"\");Ha(l)&&(l=l.substr(0,2E3));var m=l;var n=window.gbar.logger._aem(a,m);ka(n)}}catch(t){}}var Ha=function(a){return 2E3<=a.length},Ia=function(a,b){return b};function Ja(a){r=a;p(\"_itl\",Ha,u);p(\"_aem\",Ia,u);p(\"ml\",r,u);a={};v.er=a}h.a(\"\")?Ja(function(a){throw a;}):h.a(\"1\")&&Math.random()<Fa&&Ja(_mlToken);var _E=\"left\",Ka=h.a(\"\"),J=function(a,b){var c=a.className;H(a,b)||(a.className+=(\"\"!=c?\" \":\"\")+b)},K=function(a,b){var c=a.className;b=new RegExp(\"\\\\\\\\s?\\\\\\\\b\"+b+\"\\\\\\\\b\");c&&c.match(b)&&(a.className=c.replace(b,\"\"))},H=function(a,b){b=new RegExp(\"\\\\\\\\b\"+b+\"\\\\\\\\b\");a=a.className;return!(!a||!a.match(b))},La=function(a,b){H(a,b)?K(a,b):J(a,b)},Ma=function(a,b){a[b]=function(c){var d=arguments;g.qm(function(){a[b].apply(this,d)})}},Na=function(){return\"1\"},\\nOa=function(a){a=[\"//www.gstatic.com\",\"/og/_/js/d=1/k=\",\"og.og2.en_US.rOesplkdJp4.O\",\"/rt=j/m=\",a,\"/rs=\",\"AA2YrTulKqO8q2qbivhzcFLJGtKOzFANTA\"];Ka&&a.push(\"?host=www.gstatic.com&bust=og.og2.en_US.1Yzws0RU2MA.DU\");a=a.join(\"\");ra(a)};p(\"ca\",J);p(\"cr\",K);p(\"cc\",H);h.k=J;h.l=K;h.m=H;h.n=La;h.p=Oa;h.q=Ma;h.r=Na;var Pa=[\"gb_71\",\"gb_155\"],Qa;function Ra(a){Qa=a}function Sa(a){var b=Qa&&!a.href.match(/.*\\\\/accounts\\\\/ClearSID[?]/)&&encodeURIComponent(Qa());b&&(a.href=a.href.replace(/([?&]continue=)[^&]*/,\"$1\"+b))}function Ta(a){window.gApplication&&(a.href=window.gApplication.getTabUrl(a.href))}function Ua(a){try{var b=(document.forms[0].q||\"\").value;b&&(a.href=a.href.replace(/([?&])q=[^&]*|$/,function(a,d){return(d||\"&\")+\"q=\"+encodeURIComponent(b)}))}catch(c){q(c,\"sb\",\"pq\")}}\\nvar Va=function(){for(var a=[],b=0,c;c=Pa[b];++b)(c=document.getElementById(c))&&a.push(c);return a},Wa=function(){var a=Va();return 0<a.length?a[0]:null},Xa=function(){return document.getElementById(\"gb_70\")},L={},M={},Ya={},N={},O=void 0,cb=function(a,b){try{var c=document.getElementById(\"gb\");J(c,\"gbpdjs\");P();Za(document.getElementById(\"gb\"))&&J(c,\"gbrtl\");if(b&&b.getAttribute){var d=b.getAttribute(\"aria-owns\");if(d.length){var f=document.getElementById(d);if(f){var k=b.parentNode;if(O==d)O=void 0,\\nK(k,\"gbto\");else{if(O){var l=document.getElementById(O);if(l&&l.getAttribute){var m=l.getAttribute(\"aria-owner\");if(m.length){var n=document.getElementById(m);n&&n.parentNode&&K(n.parentNode,\"gbto\")}}}$a(f)&&ab(f);O=d;J(k,\"gbto\")}}}}B(function(){g.tg(a,b,!0)});bb(a)}catch(t){q(t,\"sb\",\"tg\")}},db=function(a){B(function(){g.close(a)})},eb=function(a){B(function(){g.rdd(a)})},Za=function(a){var b,c=document.defaultView;c&&c.getComputedStyle?(a=c.getComputedStyle(a,\"\"))&&(b=a.direction):b=a.currentStyle?\\na.currentStyle.direction:a.style.direction;return\"rtl\"==b},gb=function(a,b,c){if(a)try{var d=document.getElementById(\"gbd5\");if(d){var f=d.firstChild,k=f.firstChild,l=document.createElement(\"li\");l.className=b+\" gbmtc\";l.id=c;a.className=\"gbmt\";l.appendChild(a);if(k.hasChildNodes()){c=[[\"gbkc\"],[\"gbf\",\"gbe\",\"gbn\"],[\"gbkp\"],[\"gbnd\"]];d=0;var m=k.childNodes.length;f=!1;for(var n=-1,t=0,E;E=c[t];t++){for(var U=0,I;I=E[U];U++){for(;d<m&&H(k.childNodes[d],I);)d++;if(I==b){k.insertBefore(l,k.childNodes[d]||\\nnull);f=!0;break}}if(f){if(d+1<k.childNodes.length){var V=k.childNodes[d+1];H(V.firstChild,\"gbmh\")||fb(V,E)||(n=d+1)}else if(0<=d-1){var W=k.childNodes[d-1];H(W.firstChild,\"gbmh\")||fb(W,E)||(n=d)}break}0<d&&d+1<m&&d++}if(0<=n){var y=document.createElement(\"li\"),z=document.createElement(\"div\");y.className=\"gbmtc\";z.className=\"gbmt gbmh\";y.appendChild(z);k.insertBefore(y,k.childNodes[n])}g.addHover&&g.addHover(a)}else k.appendChild(l)}}catch(Eb){q(Eb,\"sb\",\"al\")}},fb=function(a,b){for(var c=b.length,\\nd=0;d<c;d++)if(H(a,b[d]))return!0;return!1},hb=function(a,b,c){gb(a,b,c)},ib=function(a,b){gb(a,\"gbe\",b)},jb=function(){B(function(){g.pcm&&g.pcm()})},kb=function(){B(function(){g.pca&&g.pca()})},lb=function(a,b,c,d,f,k,l,m,n,t){B(function(){g.paa&&g.paa(a,b,c,d,f,k,l,m,n,t)})},mb=function(a,b){L[a]||(L[a]=[]);L[a].push(b)},nb=function(a,b){M[a]||(M[a]=[]);M[a].push(b)},ob=function(a,b){Ya[a]=b},pb=function(a,b){N[a]||(N[a]=[]);N[a].push(b)},bb=function(a){a.preventDefault&&a.preventDefault();a.returnValue=\\n!1;a.cancelBubble=!0},qb=null,ab=function(a,b){P();if(a){rb(a,\"여는 중&hellip;\");Q(a,!0);b=\"undefined\"!=typeof b?b:1E4;var c=function(){sb(a)};qb=window.setTimeout(c,b)}},tb=function(a){P();a&&(Q(a,!1),rb(a,\"\"))},sb=function(a){try{P();var b=a||document.getElementById(O);b&&(rb(b,\"이 서비스는 현재 사용할 수 없습니다.%1$s나중에 다시 시도해 주세요.\",\"%1$s\"),Q(b,!0))}catch(c){q(c,\"sb\",\"sdhe\")}},rb=function(a,b,c){if(a&&b){var d=$a(a);if(d){if(c){d.innerHTML=\"\";b=b.split(c);c=0;for(var f;f=b[c];c++){var k=document.createElement(\"div\");\\nk.innerHTML=f;d.appendChild(k)}}else d.innerHTML=b;Q(a,!0)}}},Q=function(a,b){(b=void 0!==b?b:!0)?J(a,\"gbmsgo\"):K(a,\"gbmsgo\")},$a=function(a){for(var b=0,c;c=a.childNodes[b];b++)if(H(c,\"gbmsg\"))return c},P=function(){qb&&window.clearTimeout(qb)},ub=function(a){var b=\"inner\"+a;a=\"offset\"+a;return window[b]?window[b]:document.documentElement&&document.documentElement[a]?document.documentElement[a]:0},vb=function(){return!1},wb=function(){return!!O};p(\"so\",Wa);p(\"sos\",Va);p(\"si\",Xa);p(\"tg\",cb);\\np(\"close\",db);p(\"rdd\",eb);p(\"addLink\",hb);p(\"addExtraLink\",ib);p(\"pcm\",jb);p(\"pca\",kb);p(\"paa\",lb);p(\"ddld\",ab);p(\"ddrd\",tb);p(\"dderr\",sb);p(\"rtl\",Za);p(\"op\",wb);p(\"bh\",L);p(\"abh\",mb);p(\"dh\",M);p(\"adh\",nb);p(\"ch\",N);p(\"ach\",pb);p(\"eh\",Ya);p(\"aeh\",ob);ba=h.a(\"\")?Ta:Ua;p(\"qs\",ba);p(\"setContinueCb\",Ra);p(\"pc\",Sa);p(\"bsy\",vb);h.d=bb;h.j=ub;var xb={};v.base=xb;w.push([\"m\",{url:\"//ssl.gstatic.com/gb/js/sem_b00339d608e5cb80403d28cbd740e048.js\"}]);g.sg={c:\"1\"};p(\"wg\",{rg:{}});var yb={tiw:h.c(\"15000\",0),tie:h.c(\"30000\",0)};v.wg=yb;var zb={thi:h.c(\"10000\",0),thp:h.c(\"180000\",0),tho:h.c(\"5000\",0),tet:h.b(\"0.5\",0)};v.wm=zb;if(h.a(\"1\")){var Ab=h.a(\"\");w.push([\"gc\",{auto:Ab,url:\"//ssl.gstatic.com/gb/js/abc/gci_91f30755d6a6b787dcc2a4062e6e9824.js\",libs:\"googleapis.client:plusone:gapi.iframes\"}]);var Bb={version:\"gci_91f30755d6a6b787dcc2a4062e6e9824.js\",index:\"\",lang:\"ko\"};v.gc=Bb;var Cb=function(a){window.googleapis&&window.iframes?a&&a():(a&&ta(a),D(\"gc\"))};p(\"lGC\",Cb);h.a(\"1\")&&p(\"lPWF\",Cb)};window.__PVT=\"\";if(h.a(\"1\")&&h.a(\"1\")){var Db=function(a){Cb(function(){A(\"pw\",a);D(\"pw\")})};p(\"lPW\",Db);w.push([\"pw\",{url:\"//ssl.gstatic.com/gb/js/abc/pwm_45f73e4df07a0e388b0fa1f3d30e7280.js\"}]);var Fb=[],Gb=function(a){Fb[0]=a},Hb=function(a,b){b=b||{};b._sn=\"pw\";r(a,b)},Ib={signed:Fb,elog:Hb,base:\"https://plusone.google.com/u/0\",loadTime:(new Date).getTime()};v.pw=Ib;var Jb=function(a,b){var c=b.split(\".\");b=function(){var b=arguments;a(function(){for(var a=g,d=0,f=c.length-1;d<f;++d)a=a[c[d]];a[c[d]].apply(a,b)})};for(var d=g,f=0,k=c.length-1;f<\\nk;++f)d=d[c[f]]=d[c[f]]||{};return d[c[f]]=b};Jb(Db,\"pw.clk\");Jb(Db,\"pw.hvr\");p(\"su\",Gb,g.pw)};var Kb=[1,2,3,4,5,6,9,10,11,13,14,28,29,30,34,35,37,38,39,40,41,42,43,48,49,500];var Lb=h.b(\"0.001\",1E-4),Mb=h.b(\"1\",1),Nb=!1,Ob=!1;if(h.a(\"1\")){var Pb=Math.random();Pb<Lb&&(Nb=!0);Pb<Mb&&(Ob=!0)}var R=null;\\nfunction Qb(a,b){var c=Lb,d=Nb;var f=a;if(!R){R={};for(var k=0;k<Kb.length;k++){var l=Kb[k];R[l]=!0}}if(f=!!R[f])c=Mb,d=Ob;if(d){d=encodeURIComponent;if(g.rp){var m=g.rp();m=\"-1\"!=m?m:\"1\"}else m=\"1\";f=(new Date).getTime();k=d(\"28834\");l=d(\"OiqCXIK6M82qoATv0ayYAg\");var n=g.bv.f,t=d(\"1\");m=d(m);c=Math.round(1/c);var E=d(\"236550449.0\"),U=\"&oggv=\"+d(\"es_plusone_gc_20190224.0_p0\"),I=d(\"com\"),V=d(\"ko\"),W=\\nd(\"KOR\");var y=0;h.a(\"\")&&(y|=1);h.a(\"\")&&(y|=2);h.a(\"\")&&(y|=4);a=[\"//www.google.com/gen_204?atyp=i&zx=\",f,\"&oge=\",a,\"&ogex=\",k,\"&ogev=\",l,\"&ogf=\",n,\"&ogp=\",t,\"&ogrp=\",m,\"&ogsr=\",c,\"&ogv=\",E,U,\"&ogd=\",I,\"&ogl=\",V,\"&ogc=\",W,\"&ogus=\",y];if(b){\"ogw\"in b&&(a.push(\"&ogw=\"+b.ogw),delete b.ogw);f=[];for(z in b)0!=f.length&&f.push(\",\"),f.push(Rb(z)),f.push(\".\"),f.push(Rb(b[z]));var z=f.join(\"\");\"\"!=z&&(a.push(\"&ogad=\"),a.push(d(z)))}ka(a.join(\"\"))}}\\nfunction Rb(a){\"number\"==typeof a&&(a+=\"\");return\"string\"==typeof a?a.replace(\".\",\"%2E\").replace(\",\",\"%2C\"):a}ha=Qb;p(\"il\",ha,u);var Sb={};v.il=Sb;var Tb=function(a,b,c,d,f,k,l,m,n,t){B(function(){g.paa(a,b,c,d,f,k,l,m,n,t)})},Ub=function(){B(function(){g.prm()})},Vb=function(a){B(function(){g.spn(a)})},Wb=function(a){B(function(){g.sps(a)})},Xb=function(a){B(function(){g.spp(a)})},Yb={\"27\":\"https://ssl.gstatic.com/gb/images/silhouette_24.png\",\"27\":\"https://ssl.gstatic.com/gb/images/silhouette_24.png\",\"27\":\"https://ssl.gstatic.com/gb/images/silhouette_24.png\"},Zb=function(a){return(a=Yb[a])||\"https://ssl.gstatic.com/gb/images/silhouette_24.png\"},\\n$b=function(){B(function(){g.spd()})};p(\"spn\",Vb);p(\"spp\",Xb);p(\"sps\",Wb);p(\"spd\",$b);p(\"paa\",Tb);p(\"prm\",Ub);mb(\"gbd4\",Ub);\\nif(h.a(\"\")){var ac={d:h.a(\"\"),e:\"\",sanw:h.a(\"\"),p:\"https://ssl.gstatic.com/gb/images/silhouette_96.png\",cp:\"1\",xp:h.a(\"1\"),mg:\"%1$s(위임)\",md:\"%1$s(기본값)\",mh:\"220\",s:\"1\",pp:Zb,ppl:h.a(\"\"),ppa:h.a(\"\"),\\nppm:\"Google+ 페이지\"};v.prf=ac};var S,bc,T,cc,X=0,dc=function(a,b,c){if(a.indexOf)return a.indexOf(b,c);if(Array.indexOf)return Array.indexOf(a,b,c);for(c=null==c?0:0>c?Math.max(0,a.length+c):c;c<a.length;c++)if(c in a&&a[c]===b)return c;return-1},Y=function(a,b){return-1==dc(a,X)?(q(Error(X+\"_\"+b),\"up\",\"caa\"),!1):!0},fc=function(a,b){Y([1,2],\"r\")&&(S[a]=S[a]||[],S[a].push(b),2==X&&window.setTimeout(function(){b(ec(a))},0))},gc=function(a,b,c){if(Y([1],\"nap\")&&c){for(var d=0;d<c.length;d++)bc[c[d]]=!0;g.up.spl(a,b,\"nap\",c)}},hc=\\nfunction(a,b,c){if(Y([1],\"aop\")&&c){if(T)for(var d in T)T[d]=T[d]&&-1!=dc(c,d);else for(T={},d=0;d<c.length;d++)T[c[d]]=!0;g.up.spl(a,b,\"aop\",c)}},ic=function(){try{if(X=2,!cc){cc=!0;for(var a in S)for(var b=S[a],c=0;c<b.length;c++)try{b[c](ec(a))}catch(d){q(d,\"up\",\"tp\")}}}catch(d){q(d,\"up\",\"mtp\")}},ec=function(a){if(Y([2],\"ssp\")){var b=!bc[a];T&&(b=b&&!!T[a]);return b}};cc=!1;S={};bc={};T=null;X=1;\\nvar jc=function(a){var b=!1;try{b=a.cookie&&a.cookie.match(\"PREF\")}catch(c){}return!b},kc=function(){try{return!!e.localStorage&&\"object\"==typeof e.localStorage}catch(a){return!1}},lc=function(a){return a&&a.style&&a.style.behavior&&\"undefined\"!=typeof a.load},mc=function(a,b,c,d){try{jc(document)||(d||(b=\"og-up-\"+b),kc()?e.localStorage.setItem(b,c):lc(a)&&(a.setAttribute(b,c),a.save(a.id)))}catch(f){f.code!=DOMException.QUOTA_EXCEEDED_ERR&&q(f,\"up\",\"spd\")}},nc=function(a,b,c){try{if(jc(document))return\"\";\\nc||(b=\"og-up-\"+b);if(kc())return e.localStorage.getItem(b);if(lc(a))return a.load(a.id),a.getAttribute(b)}catch(d){d.code!=DOMException.QUOTA_EXCEEDED_ERR&&q(d,\"up\",\"gpd\")}return\"\"},oc=function(a,b,c){a.addEventListener?a.addEventListener(b,c,!1):a.attachEvent&&a.attachEvent(\"on\"+b,c)},pc=function(a){for(var b=0,c;c=a[b];b++){var d=g.up;c=c in d&&d[c];if(!c)return!1}return!0},qc=function(a,b){try{if(jc(a))return-1;var c=a.cookie.match(/OGPC=([^;]*)/);if(c&&c[1]){var d=c[1].match(new RegExp(\"\\\\\\\\b\"+\\nb+\"-([0-9]+):\"));if(d&&d[1])return parseInt(d[1],10)}}catch(f){f.code!=DOMException.QUOTA_EXCEEDED_ERR&&q(f,\"up\",\"gcc\")}return-1};p(\"up\",{r:fc,nap:gc,aop:hc,tp:ic,ssp:ec,spd:mc,gpd:nc,aeh:oc,aal:pc,gcc:qc});var Z=function(a,b){a[b]=function(c){var d=arguments;g.qm(function(){a[b].apply(this,d)})}};Z(g.up,\"sl\");Z(g.up,\"si\");Z(g.up,\"spl\");Z(g.up,\"dpc\");Z(g.up,\"iic\");g.mcf(\"up\",{sp:h.b(\"0.01\",1),tld:\"co.kr\",prid:\"1\"});function rc(){function a(){for(var b;(b=k[l++])&&\"m\"!=b[0]&&!b[1].auto;);b&&(sa(2,b[0]),b[1].url&&ra(b[1].url,b[0]),b[1].libs&&C&&C(b[1].libs));l<k.length&&setTimeout(a,0)}function b(){0<f--?setTimeout(b,0):a()}var c=h.a(\"1\"),d=h.a(\"\"),f=3,k=w,l=0,m=window.gbarOnReady;if(m)try{m()}catch(n){q(n,\"ml\",\"or\")}d?p(\"ldb\",a):c?ca(window,\"load\",b):b()}p(\"rdl\",rc);}catch(e){window.gbar&&gbar.logger&&gbar.logger.ml(e,{\"_sn\":\"cfg.init\"});}})();\\n(function(){try{var a=window.gbar;a.mcf(\"pm\",{p:\"\"});}catch(e){window.gbar&&gbar.logger&&gbar.logger.ml(e,{\"_sn\":\"cfg.init\"});}})();\\n(function(){try{var a=window.gbar;a.mcf(\"mm\",{s:\"1\"});}catch(e){window.gbar&&gbar.logger&&gbar.logger.ml(e,{\"_sn\":\"cfg.init\"});}})();\\n(function(){try{var d=window.gbar.i.i;var e=window.gbar;var f=e.i;var g=f.c(\"1\",0),h=/\\\\bgbmt\\\\b/,k=function(a){try{var b=document.getElementById(\"gb_\"+g),c=document.getElementById(\"gb_\"+a);b&&f.l(b,h.test(b.className)?\"gbm0l\":\"gbz0l\");c&&f.k(c,h.test(c.className)?\"gbm0l\":\"gbz0l\")}catch(l){d(l,\"sj\",\"ssp\")}g=a},m=e.qs,n=function(a){var b=a.href;var c=window.location.href.match(/.*?:\\\\/\\\\/[^\\\\/]*/)[0];c=new RegExp(\"^\"+c+\"/search\\\\\\\\?\");(b=c.test(b))&&!/(^|\\\\\\\\?|&)ei=/.test(a.href)&&(b=window.google)&&b.kEXPI&&(a.href+=\"&ei=\"+b.kEI)},p=function(a){m(a);\\nn(a)},q=function(){if(window.google&&window.google.sn){var a=/.*hp$/;return a.test(window.google.sn)?\"\":\"1\"}return\"-1\"};e.rp=q;e.slp=k;e.qs=p;e.qsi=n;}catch(e){window.gbar&&gbar.logger&&gbar.logger.ml(e,{\"_sn\":\"cfg.init\"});}})();\\n(function(){try{var a=this;var b=window.gbar;var c=b.i;var d=c.a,e=c.c,f={cty:\"KOR\",cv:\"236550449\",dbg:d(\"\"),ecv:\"0\",ei:e(\"OiqCXIK6M82qoATv0ayYAg\"),ele:d(\"1\"),esr:e(\"0.1\"),evts:[\"mousedown\",\"touchstart\",\"touchmove\",\"wheel\",\"keydown\"],gbl:\"es_plusone_gc_20190224.0_p0\",hd:\"com\",hl:\"ko\",irp:d(\"1\"),pid:e(\"1\"),\\nsnid:e(\"28834\"),to:e(\"300000\"),u:e(\"\"),vf:\".66.41.\"},g=f,h=[\"bndcfg\"],k=a;h[0]in k||\"undefined\"==typeof k.execScript||k.execScript(\"var \"+h[0]);for(var l;h.length&&(l=h.shift());)h.length||void 0===g?k=k[l]&&k[l]!==Object.prototype[l]?k[l]:k[l]={}:k[l]=g;}catch(e){window.gbar&&gbar.logger&&gbar.logger.ml(e,{\"_sn\":\"cfg.init\"});}})();\\n(function(){try{window.gbar.rdl();}catch(e){window.gbar&&gbar.logger&&gbar.logger.ml(e,{\"_sn\":\"cfg.init\"});}})();\\n</script><script nonce=\"2LUenyCk8Yb3462c25lyyg==\">(function(){google.sham=function(c){for(var d=c.parentElement,a=null,b=0;b<d.childNodes.length;b++){var e=d.childNodes[b];-1<(\" \"+e.className+\" \").indexOf(\" am-dropdown-menu \")&&(a=e)}\"none\"==a.style.display?(a.style.display=\"\",google.log(\"hpam\",\"&ved=\"+c.getAttribute(\"data-ved\"))):a.style.display=\"none\"};}).call(this);(function(){var b=[];google.jsc={xx:b,x:function(a){b.push(a)},mm:[],m:function(a){google.jsc.mm.length||(google.jsc.mm=a)}};}).call(this);</script></head><body class=\"hsrp\" bgcolor=\"#ffffff\" marginheight=\"0\" marginwidth=\"0\" topmargin=\"0\"><div id=gb><script>window.gbar&&gbar.eli&&gbar.eli()</script><div id=gbw><div id=gbz><span class=gbtcb></span><ol id=gbzc class=gbtc><li class=gbt><a onclick=gbar.logger.il(1,{t:1}); class=\"gbzt gbz0l gbp1\" id=gb_1 href=\"https://www.google.co.kr/webhp?tab=ww\"><span class=gbtb2></span><span class=gbts>검색</span></a></li><li class=gbt><a onclick=gbar.logger.il(1,{t:2}); class=gbzt id=gb_2 href=\"https://www.google.co.kr/search?hl=ko&tbm=isch&source=og&tab=wi\"><span class=gbtb2></span><span class=gbts>이미지</span></a></li><li class=gbt><a onclick=gbar.logger.il(1,{t:8}); class=gbzt id=gb_8 href=\"https://maps.google.co.kr/maps?hl=ko&tab=wl\"><span class=gbtb2></span><span class=gbts>지도</span></a></li><li class=gbt><a onclick=gbar.logger.il(1,{t:78}); class=gbzt id=gb_78 href=\"https://play.google.com/?hl=ko&tab=w8\"><span class=gbtb2></span><span class=gbts>Play</span></a></li><li class=gbt><a onclick=gbar.logger.il(1,{t:36}); class=gbzt id=gb_36 href=\"https://www.youtube.com/results?gl=KR&tab=w1\"><span class=gbtb2></span><span class=gbts>YouTube</span></a></li><li class=gbt><a onclick=gbar.logger.il(1,{t:5}); class=gbzt id=gb_5 href=\"https://news.google.co.kr/nwshp?hl=ko&tab=wn\"><span class=gbtb2></span><span class=gbts>뉴스</span></a></li><li class=gbt><a onclick=gbar.logger.il(1,{t:23}); class=gbzt id=gb_23 href=\"https://mail.google.com/mail/?tab=wm\"><span class=gbtb2></span><span class=gbts>Gmail</span></a></li><li class=gbt><a onclick=gbar.logger.il(1,{t:49}); class=gbzt id=gb_49 href=\"https://drive.google.com/?tab=wo\"><span class=gbtb2></span><span class=gbts>드라이브</span></a></li><li class=gbt><a class=gbgt id=gbztm href=\"https://www.google.co.kr/intl/ko/about/products?tab=wh\" onclick=\"gbar.tg(event,this)\" aria-haspopup=true aria-owns=gbd><span class=gbtb2></span><span id=gbztms class=\"gbts gbtsa\"><span id=gbztms1>더보기</span><span class=gbma></span></span></a><div class=gbm id=gbd aria-owner=gbztm><div id=gbmmb class=\"gbmc gbsb gbsbis\"><ol id=gbmm class=\"gbmcc gbsbic\"><li class=gbmtc><a onclick=gbar.logger.il(1,{t:24}); class=gbmt id=gb_24 href=\"https://www.google.com/calendar?tab=wc\">캘린더</a></li><li class=gbmtc><a onclick=gbar.logger.il(1,{t:51}); class=gbmt id=gb_51 href=\"https://translate.google.co.kr/?hl=ko&tab=wT\">번역</a></li><li class=gbmtc><a onclick=gbar.logger.il(1,{t:10}); class=gbmt id=gb_10 href=\"https://www.google.co.kr/search?hl=ko&tbo=u&tbm=bks&source=og&tab=wp\">도서</a></li><li class=gbmtc><a onclick=gbar.logger.il(1,{t:6}); class=gbmt id=gb_6 href=\"https://www.google.co.kr/shopping?hl=ko&source=og&tab=wf\">쇼핑</a></li><li class=gbmtc><a onclick=gbar.logger.il(1,{t:30}); class=gbmt id=gb_30 href=\"https://www.blogger.com/?tab=wj\">Blogger</a></li><li class=gbmtc><a onclick=gbar.logger.il(1,{t:31}); class=gbmt id=gb_31 href=\"https://photos.google.com/?tab=wq&pageId=none\">사진</a></li><li class=gbmtc><a onclick=gbar.logger.il(1,{t:12}); class=gbmt id=gb_12 href=\"https://www.google.co.kr/search?hl=ko&tbo=u&tbm=vid&source=og&tab=wv\">동영상</a></li><li class=gbmtc><a onclick=gbar.logger.il(1,{t:25}); class=gbmt id=gb_25 href=\"https://docs.google.com/document/?usp=docs_alc\">문서</a></li><li class=gbmtc><div class=\"gbmt gbmh\"></div></li><li class=gbmtc><a onclick=gbar.logger.il(1,{t:66}); href=\"https://www.google.co.kr/intl/ko/about/products?tab=wh\" class=gbmt>모두 보기</a></li></ol><div class=gbsbt></div><div class=gbsbb></div></div></div></li></ol></div><div id=gbg><h2 class=gbxx>Account Options</h2><span class=gbtcb></span><ol class=gbtc><li class=gbt><a target=_top href=\"https://accounts.google.com/ServiceLogin?hl=ko&passive=true&continue=https://www.google.com/search%3Fq%3D%25ED%258C%258C%25EC%259D%25B4%25EC%258D%25AC\" onclick=\"gbar.logger.il(9,{l:\\'i\\'})\" id=gb_70 class=gbgt><span class=gbtb2></span><span id=gbgs4 class=gbts><span id=gbi4s1>로그인</span></span></a></li><li class=\"gbt gbtb\"><span class=gbts></span></li><li class=gbt><a class=gbgt id=gbg5 href=\"http://www.google.co.kr/preferences?hl=ko\" title=\"옵션\" onclick=\"gbar.tg(event,this)\" aria-haspopup=true aria-owns=gbd5><span class=gbtb2></span><span id=gbgs5 class=gbts><span id=gbi5></span></span></a><div class=gbm id=gbd5 aria-owner=gbg5><div class=gbmc><ol id=gbom class=gbmcc><li class=\"gbkc gbmtc\"><a  class=gbmt href=\"/preferences?hl=ko\">검색 환경설정</a></li><li class=gbmtc><div class=\"gbmt gbmh\"></div></li><li class=\"gbkp gbmtc\"><a class=gbmt href=\"http://www.google.co.kr/history/optout?hl=ko\">웹 기록</a></li></ol></div></div></li></ol></div></div><div id=gbx3></div><div id=gbx4></div><script>window.gbar&&gbar.elp&&gbar.elp()</script></div><table id=\"mn\" border=\"0\" cellpadding=\"0\" cellspacing=\"0\" style=\"position:relative\"><tr><th width=\"132\"></th><th width=\"573\"></th><th width=\"278\"></th><th></th></tr><tr><td class=\"sfbgg\" valign=\"top\"><div id=\"logocont\"><h1><a href=\"/webhp?hl=ko\" style=\"background-image:url(/images/nav_logo229.png);background-repeat:no-repeat;height:37px;width:95px;display:block;background-position:0 -41px\" id=\"logo\" title=\"Go to Google Home\"></a></h1></div></td><td class=\"sfbgg\" colspan=\"2\" valign=\"top\" style=\"padding-left:0px\"><form style=\"display:block;margin:0;background:none\" action=\"/search\" id=\"tsf\" method=\"GET\" name=\"gs\"><table border=\"0\" cellpadding=\"0\" cellspacing=\"0\" style=\"margin-top:20px;position:relative\"><tr><td><div class=\"lst-a\"><table cellpadding=\"0\" cellspacing=\"0\"><tr><td class=\"lst-td tia\" width=\"526\" valign=\"bottom\"><div style=\"position:relative;zoom:1\"><input class=\"lst\" value=\"파이썬\" title=\"검색\" autocomplete=\"off\" id=\"sbhost\" maxlength=\"2048\" name=\"q\" type=\"text\"></div></td><td class=\"lst-td\"><div class=\"lst-b\"><img style=\"padding-top:2px\" data-script-url=\"/textinputassistant/11/ko_tia.js\" src=\"/textinputassistant/tia.png\" alt=\"\" height=\"23\" onclick=\"var s=document.createElement(\\'script\\');s.src=this.getAttribute(\\'data-script-url\\');(document.getElementById(\\'xjsc\\')||document.body).appendChild(s);\" width=\"27\"></div></td></tr></table></div></td><td><div class=\"ds\" style=\"margin-left:16px\"><div class=\"lsbb\"><button class=\"lsb\" value=\"검색\" name=\"btnG\" type=\"submit\"><span class=\"sbico\" style=\"background-image:url(/images/nav_logo229.png);background-repeat:no-repeat;height:14px;width:13px;display:block;background-position:-36px -111px\"></span></button></div></div></td></tr></table></form></td><td class=\"sfbgg\">&nbsp;</td></tr><tr style=\"position:relative\"><td><div style=\"border-bottom:1px solid #ebebeb;height:59px\"></div></td><td colspan=\"2\"><div class=\"tn\"><div class=\"qrSWbe tnuiC sFTC8c pqkqJe\">전체</div><div class=\"sFTC8c\"><a class=\"qrSWbe KDZjCd\" href=\"/search?q=%ED%8C%8C%EC%9D%B4%EC%8D%AC&amp;prmd=ivnsb&amp;source=lnms&amp;tbm=isch&amp;sa=X&amp;ved=0ahUKEwi2xYDHkvLgAhWV62EKHTVYDsoQ_AUIBQ\">이미지</a></div><div class=\"sFTC8c\"><a class=\"qrSWbe KDZjCd\" href=\"/search?q=%ED%8C%8C%EC%9D%B4%EC%8D%AC&amp;prmd=ivnsb&amp;source=lnms&amp;tbm=vid&amp;sa=X&amp;ved=0ahUKEwi2xYDHkvLgAhWV62EKHTVYDsoQ_AUIBg\">동영상</a></div><div class=\"sFTC8c\"><a class=\"qrSWbe KDZjCd\" href=\"/search?q=%ED%8C%8C%EC%9D%B4%EC%8D%AC&amp;prmd=ivnsb&amp;source=lnms&amp;tbm=nws&amp;sa=X&amp;ved=0ahUKEwi2xYDHkvLgAhWV62EKHTVYDsoQ_AUIBw\">뉴스</a></div><div class=\"sFTC8c\"><a class=\"qrSWbe KDZjCd\" href=\"/search?q=%ED%8C%8C%EC%9D%B4%EC%8D%AC&amp;prmd=ivnsb&amp;source=lnms&amp;tbm=shop&amp;sa=X&amp;ved=0ahUKEwi2xYDHkvLgAhWV62EKHTVYDsoQ_AUICA\">쇼핑</a></div><div class=\"sFTC8c\"><a class=\"qrSWbe KDZjCd\" href=\"/search?q=%ED%8C%8C%EC%9D%B4%EC%8D%AC&amp;prmd=ivnsb&amp;source=lnms&amp;tbm=bks&amp;sa=X&amp;ved=0ahUKEwi2xYDHkvLgAhWV62EKHTVYDsoQ_AUICQ\">도서</a></div><div class=\"sFTC8c\"><a class=\"qrSWbe KDZjCd\" href=\"https://maps.google.com/maps?q=%ED%8C%8C%EC%9D%B4%EC%8D%AC&amp;um=1&amp;ie=UTF-8&amp;sa=X&amp;ved=0ahUKEwi2xYDHkvLgAhWV62EKHTVYDsoQ_AUICg\">지도</a></div></div><div style=\"border-bottom:1px solid #ebebeb;height:59px\"></div></td><td><div style=\"border-bottom:1px solid #ebebeb;height:59px\"></div></td></tr><tbody id=\"desktop-search\"><style>.pCA4Bd,.pCA4Bd a:link,.pCA4Bd a:visited,a.pCA4Bd:link,a.pCA4Bd:visited{color:#808080}.AzrInc{color:#61C}.ellip{overflow:hidden;text-overflow:ellipsis;white-space:nowrap}.VBt9Dc{border:1px solid #e0e0e0;font-size:13px;margin-right:-2px;}.V7Q8V{margin:4px 10px}.AwJT2c{background:white;border-bottom:0;border-left:0;border-right:0;border-top:1px solid #e0e0e0;cursor:pointer;height:40px;outline:0;width:100%}.dxrUgb{color:#777;font-size:11px}.dxrUgb a{color:#777;text-decoration:none}.xpdclpsbtn{}.xpdxpndbtn{}.xpdclpsbtn .KMK5T{background:url(/images/nav_logo229.png) no-repeat -50px -79px;height:22px;width:64px}.xpdxpndbtn .KMK5T{background:url(/images/nav_logo229.png) no-repeat -50px -102px;height:22px;width:64px}.mraOPb{color:#222;font-size:15px;line-height:normal;margin:12px 0}.dXAUyb{margin:4px 0}.R8KuR{margin:10px;overflow:hidden;position:relative;white-space:nowrap;}.M1e9Oe{display:-moz-inline-stack;display:inline-block;position:relative;width:100%;z-index:0;}.OSMzvb{display:-moz-inline-stack;display:inline-block;max-width:100%;overflow:hidden;}.JKXCdf{position:absolute;right:0;z-index:1;}.FSP1Dd{border-top:1px solid #e0e0e0;color:#000;font-size:22px;margin-top:-5px;padding-top:10px}.CB9G1b{color:#000;font-size:14px}.F7uZG{color:#777;margin:4px 0;overflow:hidden}.Rlw09{margin-bottom:20px}.cC4Myd{color:#212121}.A1t5ne{color:#777}.cC4Myd{font-weight:bold}.xKoZHf{margin-left:10px}.B27ELd.ty7XEe{margin-right:10px}.x32fhf{color:#222;font-size:18px;margin:20px 0 8px 0}.lHETUb{color:#222;font-size:18px;margin:20px 10px 8px 10px}.B27ELd{display:-moz-inline-stack;display:inline-block;margin-bottom:10px;margin-right:21px;text-align:left;vertical-align:top;}.tQOFN{overflow:hidden}.czonVc{color:#777;overflow:hidden;text-overflow:ellipsis;white-space:normal;word-wrap:break-word}.brYqc{margin:6px 0 0 8px;overflow:hidden;text-overflow:ellipsis;white-space:normal;word-wrap:break-word}</style><tr><td id=\"leftnav\" valign=\"top\"><div><h2 class=\"hd\">Search Options</h2><ul class=\"med\" id=\"tbd\"><li><ul class=\"tbt\"><li class=\"tbos\" id=\"lr_\">모든 언어</li><li class=\"tbou\" id=\"lr_lang_1ko\"><a class=\"q\" href=\"/search?q=%ED%8C%8C%EC%9D%B4%EC%8D%AC&amp;prmd=ivnsb&amp;source=lnt&amp;tbs=lr:lang_1ko&amp;lr=lang_ko&amp;sa=X&amp;ved=0ahUKEwi2xYDHkvLgAhWV62EKHTVYDsoQpwUIDw\">한국어 웹</a></li></ul></li><li><ul class=\"tbt\"><li class=\"tbos\" id=\"qdr_\">모든 날짜</li><li class=\"tbou\" id=\"qdr_h\"><a class=\"q\" href=\"/search?q=%ED%8C%8C%EC%9D%B4%EC%8D%AC&amp;prmd=ivnsb&amp;source=lnt&amp;tbs=qdr:h&amp;sa=X&amp;ved=0ahUKEwi2xYDHkvLgAhWV62EKHTVYDsoQpwUIDw\"> 지난 1시간</a></li><li class=\"tbou\" id=\"qdr_d\"><a class=\"q\" href=\"/search?q=%ED%8C%8C%EC%9D%B4%EC%8D%AC&amp;prmd=ivnsb&amp;source=lnt&amp;tbs=qdr:d&amp;sa=X&amp;ved=0ahUKEwi2xYDHkvLgAhWV62EKHTVYDsoQpwUIDw\"> 지난 1일</a></li><li class=\"tbou\" id=\"qdr_w\"><a class=\"q\" href=\"/search?q=%ED%8C%8C%EC%9D%B4%EC%8D%AC&amp;prmd=ivnsb&amp;source=lnt&amp;tbs=qdr:w&amp;sa=X&amp;ved=0ahUKEwi2xYDHkvLgAhWV62EKHTVYDsoQpwUIDw\"> 지난 1주</a></li><li class=\"tbou\" id=\"qdr_m\"><a class=\"q\" href=\"/search?q=%ED%8C%8C%EC%9D%B4%EC%8D%AC&amp;prmd=ivnsb&amp;source=lnt&amp;tbs=qdr:m&amp;sa=X&amp;ved=0ahUKEwi2xYDHkvLgAhWV62EKHTVYDsoQpwUIDw\"> 지난 1개월</a></li><li class=\"tbou\" id=\"qdr_y\"><a class=\"q\" href=\"/search?q=%ED%8C%8C%EC%9D%B4%EC%8D%AC&amp;prmd=ivnsb&amp;source=lnt&amp;tbs=qdr:y&amp;sa=X&amp;ved=0ahUKEwi2xYDHkvLgAhWV62EKHTVYDsoQpwUIDw\"> 지난 1년</a></li></ul></li><li><ul class=\"tbt\"><li class=\"tbos\" id=\"li_\">모든 결과</li><li class=\"tbou\" id=\"li_1\"><a class=\"q\" href=\"/search?q=%ED%8C%8C%EC%9D%B4%EC%8D%AC&amp;prmd=ivnsb&amp;source=lnt&amp;tbs=li:1&amp;sa=X&amp;ved=0ahUKEwi2xYDHkvLgAhWV62EKHTVYDsoQpwUIDw\">완전일치</a></li></ul></li></ul></div></td><td valign=\"top\"><div id=\"center_col\"><div class=\"sd\" id=\"resultStats\">검색결과 약 1,530,000개</div><div id=\"res\"><div id=\"topstuff\"></div><div id=\"search\"><div id=\"ires\"><ol><div class=\"g\"><h3 class=\"r\"><a href=\"/url?q=https://www.python.org/&amp;sa=U&amp;ved=0ahUKEwi2xYDHkvLgAhWV62EKHTVYDsoQFggUMAA&amp;usg=AOvVaw1_b5jEY5Eizwrruu1Y_tLI\">Welcome to <b>Python</b>.org</a></h3><div class=\"s\"><div class=\"hJND5c\" style=\"margin-bottom:2px\"><cite>https://www.<b>python</b>.org/</cite><div class=\"Pj9hGd\">\\u200e<div style=\"display:inline\" onclick=\"google.sham(this);\" aria-expanded=\"false\" aria-haspopup=\"true\" tabindex=\"0\" data-ved=\"0ahUKEwi2xYDHkvLgAhWV62EKHTVYDsoQ7B0IFTAA\"><span class=\"CiacGf\"></span></div><div style=\"display:none\" class=\"am-dropdown-menu\" role=\"menu\" tabindex=\"-1\"><ul><li class=\"mUpfKd\"><a class=\"imx0m\" href=\"/url?q=http://webcache.googleusercontent.com/search%3Fq%3Dcache:Fvb7Gz_c4rwJ:https://www.python.org/%252B%25ED%258C%258C%25EC%259D%25B4%25EC%258D%25AC%26hl%3Dko%26ct%3Dclnk&amp;sa=U&amp;ved=0ahUKEwi2xYDHkvLgAhWV62EKHTVYDsoQIAgXMAA&amp;usg=AOvVaw21bDaTnbdGaJAYV2oXp1-H\">저장된 페이지</a></li><li class=\"mUpfKd\"><a class=\"imx0m\" href=\"/search?q=related:https://www.python.org/+%ED%8C%8C%EC%9D%B4%EC%8D%AC&amp;tbo=1&amp;sa=X&amp;ved=0ahUKEwi2xYDHkvLgAhWV62EKHTVYDsoQHwgYMAA\">유사한 페이지</a></li></ul></div></div></div><span class=\"st\">The official home of the <b>Python</b> Programming Language.</span><br><div class=\"osl\">\\u200e<a href=\"/url?q=https://www.python.org/downloads/release/python-372/&amp;sa=U&amp;ved=0ahUKEwi2xYDHkvLgAhWV62EKHTVYDsoQ0gIIGigAMAA&amp;usg=AOvVaw3jFKi2lGpjXPbwZe8PDZCz\">Download Python 3.7.2</a> - \\u200e<a href=\"/url?q=https://www.python.org/downloads/&amp;sa=U&amp;ved=0ahUKEwi2xYDHkvLgAhWV62EKHTVYDsoQ0gIIGygBMAA&amp;usg=AOvVaw3XTyCf7u1aOMp43r39y78a\">Download Python</a> - \\u200e<a href=\"/url?q=https://www.python.org/about/gettingstarted/&amp;sa=U&amp;ved=0ahUKEwi2xYDHkvLgAhWV62EKHTVYDsoQ0gIIHCgCMAA&amp;usg=AOvVaw0-LAFEhs0o-oxlHQ4C0xeL\">Python For Beginners</a> - \\u200e<a href=\"/url?q=https://www.python.org/doc/&amp;sa=U&amp;ved=0ahUKEwi2xYDHkvLgAhWV62EKHTVYDsoQ0gIIHSgDMAA&amp;usg=AOvVaw3Dcj8KD3ZSMPccn-5g5mCY\">Documentation</a></div></div></div><div class=\"g\"><h3 class=\"r\"><a href=\"/url?q=https://docs.python.org/ko/3/tutorial/index.html&amp;sa=U&amp;ved=0ahUKEwi2xYDHkvLgAhWV62EKHTVYDsoQFggfMAE&amp;usg=AOvVaw27JxYy98CyjGXBKmJFR-ou\"><b>파이썬</b> 자습서 — <b>Python</b> 3.7.2 documentation</a></h3><div class=\"s\"><div class=\"hJND5c\" style=\"margin-bottom:2px\"><cite>https://docs.<b>python</b>.org/ko/3/tutorial/index.html</cite><div class=\"Pj9hGd\">\\u200e<div style=\"display:inline\" onclick=\"google.sham(this);\" aria-expanded=\"false\" aria-haspopup=\"true\" tabindex=\"0\" data-ved=\"0ahUKEwi2xYDHkvLgAhWV62EKHTVYDsoQ7B0IIDAB\"><span class=\"CiacGf\"></span></div><div style=\"display:none\" class=\"am-dropdown-menu\" role=\"menu\" tabindex=\"-1\"><ul><li class=\"mUpfKd\"><a class=\"imx0m\" href=\"/url?q=http://webcache.googleusercontent.com/search%3Fq%3Dcache:Rib_O5KvImcJ:https://docs.python.org/ko/3/tutorial/index.html%252B%25ED%258C%258C%25EC%259D%25B4%25EC%258D%25AC%26hl%3Dko%26ct%3Dclnk&amp;sa=U&amp;ved=0ahUKEwi2xYDHkvLgAhWV62EKHTVYDsoQIAgiMAE&amp;usg=AOvVaw2uQxj96NnXi5HioNc5AxPb\">저장된 페이지</a></li></ul></div></div></div><span class=\"st\"><b>파이썬</b>은 배우기 쉽고, 강력한 프로그래밍 언어입니다. 효율적인 자료 구조들과 <br>\\n객체 지향 프로그래밍에 대해 간단하고도 효과적인 접근법을 제공합니다. 우아한 <br>\\n문법&nbsp;...</span><br></div></div><div class=\"g\"><h3 class=\"r\"><a href=\"/url?q=https://namu.wiki/w/Python&amp;sa=U&amp;ved=0ahUKEwi2xYDHkvLgAhWV62EKHTVYDsoQFggkMAI&amp;usg=AOvVaw3wWlCiPA2-eUjGkeitm-ED\"><b>Python</b> - 나무위키</a></h3><div class=\"s\"><div class=\"hJND5c\" style=\"margin-bottom:2px\"><cite>https://namu.wiki/w/<b>Python</b></cite><div class=\"Pj9hGd\">\\u200e<div style=\"display:inline\" onclick=\"google.sham(this);\" aria-expanded=\"false\" aria-haspopup=\"true\" tabindex=\"0\" data-ved=\"0ahUKEwi2xYDHkvLgAhWV62EKHTVYDsoQ7B0IJTAC\"><span class=\"CiacGf\"></span></div><div style=\"display:none\" class=\"am-dropdown-menu\" role=\"menu\" tabindex=\"-1\"><ul><li class=\"mUpfKd\"><a class=\"imx0m\" href=\"/search?q=related:https://namu.wiki/w/Python+%ED%8C%8C%EC%9D%B4%EC%8D%AC&amp;tbo=1&amp;sa=X&amp;ved=0ahUKEwi2xYDHkvLgAhWV62EKHTVYDsoQHwgnMAI\">유사한 페이지</a></li></ul></div></div></div><span class=\"st\">2019년 3월 1일 <b>...</b> Stackless <b>Python</b>4.2. C 언어 확장, Cython4.3. C++ 구현, Pyston (프로젝트 중단)<br>\\n4.4. <b>Python</b> 구현, PyPy4.5. Java 확장, Pyjnius4.6. Java 구현&nbsp;...</span><br><div class=\"osl\">\\u200e<a href=\"/url?q=https://namu.wiki/w/PyPy&amp;sa=U&amp;ved=0ahUKEwi2xYDHkvLgAhWV62EKHTVYDsoQ0gIIKigAMAI&amp;usg=AOvVaw3aqVwgNjuwFi8KvaaX3b8K\">PyPy</a> - \\u200e<a href=\"/url?q=https://namu.wiki/w/%25EB%25A6%25AC%25EB%2588%2585%25EC%258A%25A4&amp;sa=U&amp;ved=0ahUKEwi2xYDHkvLgAhWV62EKHTVYDsoQ0gIIKygBMAI&amp;usg=AOvVaw3JTX0MAymdOTUzjzHJzzJe\">리눅스</a> - \\u200e<a href=\"/url?q=https://namu.wiki/w/%25EA%25B5%25AD%25EB%25B6%2580%25EB%25A1%25A0&amp;sa=U&amp;ved=0ahUKEwi2xYDHkvLgAhWV62EKHTVYDsoQ0gIILCgCMAI&amp;usg=AOvVaw1lsItFukKzMVGTc5nwpJbn\">국부론</a> - \\u200e<a href=\"/url?q=https://namu.wiki/w/%25ED%2585%2590%25EC%2584%259C%25ED%2594%258C%25EB%25A1%259C%25EC%259A%25B0&amp;sa=U&amp;ved=0ahUKEwi2xYDHkvLgAhWV62EKHTVYDsoQ0gIILSgDMAI&amp;usg=AOvVaw2IbfP8wCG0DsDFdhQBhVkr\">텐서플로우</a></div></div></div><div class=\"g\"><h3 class=\"r\"><a href=\"/url?q=https://ko.wikipedia.org/wiki/%25ED%258C%258C%25EC%259D%25B4%25EC%258D%25AC&amp;sa=U&amp;ved=0ahUKEwi2xYDHkvLgAhWV62EKHTVYDsoQFggvMAM&amp;usg=AOvVaw1xbOUJt_acgJ0HLqmnxBSB\"><b>파이썬</b> - 위키백과, 우리 모두의 백과사전</a></h3><div class=\"s\"><div class=\"hJND5c\" style=\"margin-bottom:2px\"><cite>https://ko.wikipedia.org/wiki/<b>파이썬</b></cite><div class=\"Pj9hGd\">\\u200e<div style=\"display:inline\" onclick=\"google.sham(this);\" aria-expanded=\"false\" aria-haspopup=\"true\" tabindex=\"0\" data-ved=\"0ahUKEwi2xYDHkvLgAhWV62EKHTVYDsoQ7B0IMDAD\"><span class=\"CiacGf\"></span></div><div style=\"display:none\" class=\"am-dropdown-menu\" role=\"menu\" tabindex=\"-1\"><ul><li class=\"mUpfKd\"><a class=\"imx0m\" href=\"/url?q=http://webcache.googleusercontent.com/search%3Fq%3Dcache:OL25IRr7kSMJ:https://ko.wikipedia.org/wiki/%2525ED%25258C%25258C%2525EC%25259D%2525B4%2525EC%25258D%2525AC%252B%25ED%258C%258C%25EC%259D%25B4%25EC%258D%25AC%26hl%3Dko%26ct%3Dclnk&amp;sa=U&amp;ved=0ahUKEwi2xYDHkvLgAhWV62EKHTVYDsoQIAgyMAM&amp;usg=AOvVaw2Kk4MMENfv8I3NgvLxGgH0\">저장된 페이지</a></li><li class=\"mUpfKd\"><a class=\"imx0m\" href=\"/search?q=related:https://ko.wikipedia.org/wiki/%25ED%258C%258C%25EC%259D%25B4%25EC%258D%25AC+%ED%8C%8C%EC%9D%B4%EC%8D%AC&amp;tbo=1&amp;sa=X&amp;ved=0ahUKEwi2xYDHkvLgAhWV62EKHTVYDsoQHwgzMAM\">유사한 페이지</a></li></ul></div></div></div><span class=\"st\"><b>파이썬</b>(영어: <b>Python</b>)은 1991년 프로그래머인 귀도 반 로섬(Guido van Rossum)이 <br>\\n발표한 고급 프로그래밍 언어로, 플랫폼 독립적이며 인터프리터식, 객체지향적,&nbsp;...</span><br><div class=\"osl\">\\u200e<a href=\"/url?q=https://ko.wikipedia.org/wiki/%25ED%258C%258C%25EC%259D%25B4%25EC%258D%25AC%23%25EA%25B0%259C%25EC%259A%2594&amp;sa=U&amp;ved=0ahUKEwi2xYDHkvLgAhWV62EKHTVYDsoQ0gIINSgAMAM&amp;usg=AOvVaw3CYNCO1FVgML0tsMruPbgq\">개요</a> - \\u200e<a href=\"/url?q=https://ko.wikipedia.org/wiki/%25ED%258C%258C%25EC%259D%25B4%25EC%258D%25AC%23%25EA%25B8%25B0%25EB%258A%25A5%25EA%25B3%25BC_%25EC%25B2%25A0%25ED%2595%2599&amp;sa=U&amp;ved=0ahUKEwi2xYDHkvLgAhWV62EKHTVYDsoQ0gIINigBMAM&amp;usg=AOvVaw1K2MiZCC2MruBvEF4tFH6J\">기능과 철학</a> - \\u200e<a href=\"/url?q=https://ko.wikipedia.org/wiki/%25ED%258C%258C%25EC%259D%25B4%25EC%258D%25AC%23%25EB%25AC%25B8%25EB%25B2%2595&amp;sa=U&amp;ved=0ahUKEwi2xYDHkvLgAhWV62EKHTVYDsoQ0gIINygCMAM&amp;usg=AOvVaw0joC5yiYh0opZEetDY9QsE\">문법</a> - \\u200e<a href=\"/url?q=https://ko.wikipedia.org/wiki/%25ED%258C%258C%25EC%259D%25B4%25EC%258D%25AC%23%25EC%259E%2590%25EB%25A3%258C%25ED%2598%2595&amp;sa=U&amp;ved=0ahUKEwi2xYDHkvLgAhWV62EKHTVYDsoQ0gIIOCgDMAM&amp;usg=AOvVaw2ZAMOJXSugiH6Th11RJLvE\">자료형</a></div></div></div><div class=\"g\"><h3 class=\"r\"><a href=\"/url?q=https://programmers.co.kr/learn/courses/2&amp;sa=U&amp;ved=0ahUKEwi2xYDHkvLgAhWV62EKHTVYDsoQFgg6MAQ&amp;usg=AOvVaw3og90oP_sGB63TeuL5Qlkm\"><b>파이썬</b> 입문 | 프로그래머스</a></h3><div class=\"s\"><div class=\"hJND5c\" style=\"margin-bottom:2px\"><cite>https://programmers.co.kr/learn/courses/2</cite><div class=\"Pj9hGd\">\\u200e<div style=\"display:inline\" onclick=\"google.sham(this);\" aria-expanded=\"false\" aria-haspopup=\"true\" tabindex=\"0\" data-ved=\"0ahUKEwi2xYDHkvLgAhWV62EKHTVYDsoQ7B0IOzAE\"><span class=\"CiacGf\"></span></div><div style=\"display:none\" class=\"am-dropdown-menu\" role=\"menu\" tabindex=\"-1\"><ul><li class=\"mUpfKd\"><a class=\"imx0m\" href=\"/url?q=http://webcache.googleusercontent.com/search%3Fq%3Dcache:aio5TDg8-NcJ:https://programmers.co.kr/learn/courses/2%252B%25ED%258C%258C%25EC%259D%25B4%25EC%258D%25AC%26hl%3Dko%26ct%3Dclnk&amp;sa=U&amp;ved=0ahUKEwi2xYDHkvLgAhWV62EKHTVYDsoQIAg9MAQ&amp;usg=AOvVaw3DDm5tdZ8vX4iZ4hc8NkZO\">저장된 페이지</a></li></ul></div></div></div><span class=\"st\">하루 15분, 누구나 프로그래밍을 할 수 있다! 쉽지만 강력한 능력을 가진 <b>파이썬</b>으로 <br>\\n프로그래밍을 시작하세요.<b>Python</b> 교재 출시: https://goo.gl/tFTFY6&nbsp;...</span><br></div></div><div class=\"g\"><h3 class=\"r\"><a href=\"/url?q=https://wikidocs.net/43&amp;sa=U&amp;ved=0ahUKEwi2xYDHkvLgAhWV62EKHTVYDsoQFgg_MAU&amp;usg=AOvVaw0HJRr8mejk_XXukjjqQGha\">1. <b>파이썬</b> 시작하기 - 왕초보를 위한 <b>Python</b> 2.7 - WikiDocs</a></h3><div class=\"s\"><div class=\"hJND5c\" style=\"margin-bottom:2px\"><cite>https://wikidocs.net/43</cite><div class=\"Pj9hGd\">\\u200e<div style=\"display:inline\" onclick=\"google.sham(this);\" aria-expanded=\"false\" aria-haspopup=\"true\" tabindex=\"0\" data-ved=\"0ahUKEwi2xYDHkvLgAhWV62EKHTVYDsoQ7B0IQDAF\"><span class=\"CiacGf\"></span></div><div style=\"display:none\" class=\"am-dropdown-menu\" role=\"menu\" tabindex=\"-1\"><ul><li class=\"mUpfKd\"><a class=\"imx0m\" href=\"/url?q=http://webcache.googleusercontent.com/search%3Fq%3Dcache:iAvUjph6SDAJ:https://wikidocs.net/43%252B%25ED%258C%258C%25EC%259D%25B4%25EC%258D%25AC%26hl%3Dko%26ct%3Dclnk&amp;sa=U&amp;ved=0ahUKEwi2xYDHkvLgAhWV62EKHTVYDsoQIAhCMAU&amp;usg=AOvVaw3gRLYKngiURzUMW-vE2CGK\">저장된 페이지</a></li><li class=\"mUpfKd\"><a class=\"imx0m\" href=\"/search?q=related:https://wikidocs.net/43+%ED%8C%8C%EC%9D%B4%EC%8D%AC&amp;tbo=1&amp;sa=X&amp;ved=0ahUKEwi2xYDHkvLgAhWV62EKHTVYDsoQHwhDMAU\">유사한 페이지</a></li></ul></div></div></div><span class=\"st\">그래서 여러분과 함께 배우기 쉬운 <b>파이썬</b>이라는 언어를 함께 공부해보려고 합니다. <br>\\n... 이 강좌는 프로그래밍을 처음 하는 분들을 위해서 <b>파이썬</b>을 통해 프로그래밍의&nbsp;...</span><br></div></div><div class=\"g\"><h3 class=\"r\"><a href=\"/url?q=https://wikidocs.net/9&amp;sa=U&amp;ved=0ahUKEwi2xYDHkvLgAhWV62EKHTVYDsoQFghFMAY&amp;usg=AOvVaw2jWKjaHRyVwKLbW4wuQkN5\">01-5 <b>파이썬</b> 둘러보기 - 점프 투 <b>파이썬</b> - WikiDocs</a></h3><div class=\"s\"><div class=\"hJND5c\" style=\"margin-bottom:2px\"><cite>https://wikidocs.net/9</cite><div class=\"Pj9hGd\">\\u200e<div style=\"display:inline\" onclick=\"google.sham(this);\" aria-expanded=\"false\" aria-haspopup=\"true\" tabindex=\"0\" data-ved=\"0ahUKEwi2xYDHkvLgAhWV62EKHTVYDsoQ7B0IRjAG\"><span class=\"CiacGf\"></span></div><div style=\"display:none\" class=\"am-dropdown-menu\" role=\"menu\" tabindex=\"-1\"><ul><li class=\"mUpfKd\"><a class=\"imx0m\" href=\"/url?q=http://webcache.googleusercontent.com/search%3Fq%3Dcache:zi4nkdgJ1wwJ:https://wikidocs.net/9%252B%25ED%258C%258C%25EC%259D%25B4%25EC%258D%25AC%26hl%3Dko%26ct%3Dclnk&amp;sa=U&amp;ved=0ahUKEwi2xYDHkvLgAhWV62EKHTVYDsoQIAhIMAY&amp;usg=AOvVaw26DQxbZ6ZQJ3ImGoZOjIvV\">저장된 페이지</a></li><li class=\"mUpfKd\"><a class=\"imx0m\" href=\"/search?q=related:https://wikidocs.net/9+%ED%8C%8C%EC%9D%B4%EC%8D%AC&amp;tbo=1&amp;sa=X&amp;ved=0ahUKEwi2xYDHkvLgAhWV62EKHTVYDsoQHwhJMAY\">유사한 페이지</a></li></ul></div></div></div><span class=\"st\">도대체 <b>파이썬</b>이라는 언어는 어떻게 생겼는지, 간단한 코드를 작성하며 알아보자. <br>\\n<b>파이썬</b>을 자세히 탐구하기 전에 전체적인 모습을 죽 훑어보는 것은 매우 유익한 일&nbsp;...</span><br></div></div><div class=\"g\"><h3 class=\"r\"><a href=\"/url?q=https://wikidocs.net/6&amp;sa=U&amp;ved=0ahUKEwi2xYDHkvLgAhWV62EKHTVYDsoQFghLMAc&amp;usg=AOvVaw1K4FCkajpUS0Itivv0NvnM\">01-2 <b>파이썬</b>의 특징 - 점프 투 <b>파이썬</b> - WikiDocs</a></h3><div class=\"s\"><div class=\"hJND5c\" style=\"margin-bottom:2px\"><cite>https://wikidocs.net/6</cite><div class=\"Pj9hGd\">\\u200e<div style=\"display:inline\" onclick=\"google.sham(this);\" aria-expanded=\"false\" aria-haspopup=\"true\" tabindex=\"0\" data-ved=\"0ahUKEwi2xYDHkvLgAhWV62EKHTVYDsoQ7B0ITDAH\"><span class=\"CiacGf\"></span></div><div style=\"display:none\" class=\"am-dropdown-menu\" role=\"menu\" tabindex=\"-1\"><ul><li class=\"mUpfKd\"><a class=\"imx0m\" href=\"/url?q=http://webcache.googleusercontent.com/search%3Fq%3Dcache:LmCkGjF_ShkJ:https://wikidocs.net/6%252B%25ED%258C%258C%25EC%259D%25B4%25EC%258D%25AC%26hl%3Dko%26ct%3Dclnk&amp;sa=U&amp;ved=0ahUKEwi2xYDHkvLgAhWV62EKHTVYDsoQIAhOMAc&amp;usg=AOvVaw1VH-RnK-6ZPEVkouJRWnAh\">저장된 페이지</a></li><li class=\"mUpfKd\"><a class=\"imx0m\" href=\"/search?q=related:https://wikidocs.net/6+%ED%8C%8C%EC%9D%B4%EC%8D%AC&amp;tbo=1&amp;sa=X&amp;ved=0ahUKEwi2xYDHkvLgAhWV62EKHTVYDsoQHwhPMAc\">유사한 페이지</a></li></ul></div></div></div><span class=\"st\">필자는 <b>파이썬</b>을 무척 좋아한다. 모든 프로그래밍 언어에는 각기 장점이 있지만 <br>\\n<b>파이썬</b>에는 다른 언어들에서는 쉽게 찾아볼 수 없는 <b>파이썬</b>만의 독특한 매력이 있다<br>\\n.</span><br></div></div><div class=\"g\"><h3 class=\"r\"><a href=\"/url?q=https://wikidocs.net/13&amp;sa=U&amp;ved=0ahUKEwi2xYDHkvLgAhWV62EKHTVYDsoQFghRMAg&amp;usg=AOvVaw0pqHIQyhvFPznJbWA8Qcvc\">02-2 문자열 자료형 - 점프 투 <b>파이썬</b> - WikiDocs</a></h3><div class=\"s\"><div class=\"hJND5c\" style=\"margin-bottom:2px\"><cite>https://wikidocs.net/13</cite><div class=\"Pj9hGd\">\\u200e<div style=\"display:inline\" onclick=\"google.sham(this);\" aria-expanded=\"false\" aria-haspopup=\"true\" tabindex=\"0\" data-ved=\"0ahUKEwi2xYDHkvLgAhWV62EKHTVYDsoQ7B0IUjAI\"><span class=\"CiacGf\"></span></div><div style=\"display:none\" class=\"am-dropdown-menu\" role=\"menu\" tabindex=\"-1\"><ul><li class=\"mUpfKd\"><a class=\"imx0m\" href=\"/url?q=http://webcache.googleusercontent.com/search%3Fq%3Dcache:PvNhTcSRlEMJ:https://wikidocs.net/13%252B%25ED%258C%258C%25EC%259D%25B4%25EC%258D%25AC%26hl%3Dko%26ct%3Dclnk&amp;sa=U&amp;ved=0ahUKEwi2xYDHkvLgAhWV62EKHTVYDsoQIAhUMAg&amp;usg=AOvVaw25NtqT9NkLaMfnuJxVZQwi\">저장된 페이지</a></li><li class=\"mUpfKd\"><a class=\"imx0m\" href=\"/search?q=related:https://wikidocs.net/13+%ED%8C%8C%EC%9D%B4%EC%8D%AC&amp;tbo=1&amp;sa=X&amp;ved=0ahUKEwi2xYDHkvLgAhWV62EKHTVYDsoQHwhVMAg\">유사한 페이지</a></li></ul></div></div></div><span class=\"st\">문자열이란? 문자열(String)이란 문자, 단어 등으로 구성된 문자들의 집합을 의미<br>\\n한다. 예를 들어 다음과 같은 것들이 문자열이다. &quot;Life is too short, You need <br>\\n<b>Python</b>&quot;&nbsp;...</span><br></div></div><div class=\"g\"><h3 class=\"r\"><a href=\"/url?q=https://opentutorials.org/course/1750&amp;sa=U&amp;ved=0ahUKEwi2xYDHkvLgAhWV62EKHTVYDsoQFghXMAk&amp;usg=AOvVaw3TnNHvAT0gHJHgxbPeuFvn\"><b>Python</b> &amp; Ruby - 생활코딩</a></h3><div class=\"s\"><div class=\"hJND5c\" style=\"margin-bottom:2px\"><cite>https://opentutorials.org/course/1750</cite><div class=\"Pj9hGd\">\\u200e<div style=\"display:inline\" onclick=\"google.sham(this);\" aria-expanded=\"false\" aria-haspopup=\"true\" tabindex=\"0\" data-ved=\"0ahUKEwi2xYDHkvLgAhWV62EKHTVYDsoQ7B0IWDAJ\"><span class=\"CiacGf\"></span></div><div style=\"display:none\" class=\"am-dropdown-menu\" role=\"menu\" tabindex=\"-1\"><ul><li class=\"mUpfKd\"><a class=\"imx0m\" href=\"/url?q=http://webcache.googleusercontent.com/search%3Fq%3Dcache:5f3BzH_j2qwJ:https://opentutorials.org/course/1750%252B%25ED%258C%258C%25EC%259D%25B4%25EC%258D%25AC%26hl%3Dko%26ct%3Dclnk&amp;sa=U&amp;ved=0ahUKEwi2xYDHkvLgAhWV62EKHTVYDsoQIAhaMAk&amp;usg=AOvVaw3CddClFsFFmRgQcmH3cLeg\">저장된 페이지</a></li><li class=\"mUpfKd\"><a class=\"imx0m\" href=\"/search?q=related:https://opentutorials.org/course/1750+%ED%8C%8C%EC%9D%B4%EC%8D%AC&amp;tbo=1&amp;sa=X&amp;ved=0ahUKEwi2xYDHkvLgAhWV62EKHTVYDsoQHwhbMAk\">유사한 페이지</a></li></ul></div></div></div><span class=\"st\">2017년 8월 21일 <b>...</b> 본 수업은 <b>Python</b>(<b>파이썬</b>)과 Ruby(루비), Ruby와 <b>Python</b>을 동시에 배우는 수업<br>\\n입니다. 저는 이것을 병렬학습이라고 부릅니다. 이를 통해서&nbsp;...</span><br></div></div></ol></div></div></div><div style=\"clear:both;margin-bottom:17px;overflow:hidden\"><div style=\"font-size:16px;padding:0 8px 1px\"><b>파이썬</b> 관련 검색어</div><table border=\"0\" cellpadding=\"0\" cellspacing=\"0\"><tr><td valign=\"top\"><p class=\"aw5cc\" style=\"margin:3px 8px\"><a href=\"/search?q=%ED%8C%8C%EC%9D%B4%EC%8D%AC+%EC%9E%A5%EC%A0%90&amp;sa=X&amp;ved=0ahUKEwi2xYDHkvLgAhWV62EKHTVYDsoQ1QIIXygA\">파이썬 장점</a></p></td><td valign=\"top\" style=\"padding-left:10px\"><p class=\"aw5cc\" style=\"margin:3px 8px\"><a href=\"/search?q=%ED%8C%8C%EC%9D%B4%EC%8D%AC+%EC%97%90%EB%94%94%ED%84%B0&amp;sa=X&amp;ved=0ahUKEwi2xYDHkvLgAhWV62EKHTVYDsoQ1QIIYCgB\">파이썬 에디터</a></p></td></tr><tr><td valign=\"top\"><p class=\"aw5cc\" style=\"margin:3px 8px\"><a href=\"/search?q=%ED%8C%8C%EC%9D%B4%EC%8D%AC+%EB%8B%A4%EC%9A%B4%EB%A1%9C%EB%93%9C&amp;sa=X&amp;ved=0ahUKEwi2xYDHkvLgAhWV62EKHTVYDsoQ1QIIYSgC\">파이썬 다운로드</a></p></td><td valign=\"top\" style=\"padding-left:10px\"><p class=\"aw5cc\" style=\"margin:3px 8px\"><a href=\"/search?q=%ED%8C%8C%EC%9D%B4%EC%8D%AC3&amp;sa=X&amp;ved=0ahUKEwi2xYDHkvLgAhWV62EKHTVYDsoQ1QIIYigD\">파이썬3</a></p></td></tr><tr><td valign=\"top\"><p class=\"aw5cc\" style=\"margin:3px 8px\"><a href=\"/search?q=%ED%8C%8C%EC%9D%B4%EC%8D%AC%EC%9D%B4%EB%9E%80&amp;sa=X&amp;ved=0ahUKEwi2xYDHkvLgAhWV62EKHTVYDsoQ1QIIYygE\">파이썬이란</a></p></td><td valign=\"top\" style=\"padding-left:10px\"><p class=\"aw5cc\" style=\"margin:3px 8px\"><a href=\"/search?q=%ED%8C%8C%EC%9D%B4%EC%8D%AC+%EC%97%B0%EC%82%B0%EC%9E%90&amp;sa=X&amp;ved=0ahUKEwi2xYDHkvLgAhWV62EKHTVYDsoQ1QIIZCgF\">파이썬 연산자</a></p></td></tr><tr><td valign=\"top\"><p class=\"aw5cc\" style=\"margin:3px 8px\"><a href=\"/search?q=%ED%8C%8C%EC%9D%B4%EC%8D%AC+%EC%98%88%EC%A0%9C&amp;sa=X&amp;ved=0ahUKEwi2xYDHkvLgAhWV62EKHTVYDsoQ1QIIZSgG\">파이썬 예제</a></p></td><td valign=\"top\" style=\"padding-left:10px\"><p class=\"aw5cc\" style=\"margin:3px 8px\"><a href=\"/search?q=%ED%8C%8C%EC%9D%B4%EC%8D%AC+%EA%B2%8C%EC%9E%84&amp;sa=X&amp;ved=0ahUKEwi2xYDHkvLgAhWV62EKHTVYDsoQ1QIIZigH\">파이썬 게임</a></p></td></tr><tr><td valign=\"top\"><p class=\"aw5cc\" style=\"margin:3px 8px\"><a href=\"/search?q=%ED%8C%8C%EC%9D%B4%EC%8D%AC+%EB%82%98%EB%AC%B4%EC%9C%84%ED%82%A4&amp;sa=X&amp;ved=0ahUKEwi2xYDHkvLgAhWV62EKHTVYDsoQ1QIIZygI\">파이썬 나무위키</a></p></td><td valign=\"top\" style=\"padding-left:10px\"><p class=\"aw5cc\" style=\"margin:3px 8px\"><a href=\"/search?q=%ED%8C%8C%EC%9D%B4%EC%8D%AC+%EB%A7%B5&amp;sa=X&amp;ved=0ahUKEwi2xYDHkvLgAhWV62EKHTVYDsoQ1QIIaCgJ\">파이썬 맵</a></p></td></tr></table></div></div><div id=\"foot\"><table align=\"center\" border=\"0\" cellpadding=\"0\" cellspacing=\"0\" id=\"nav\"><tr valign=\"top\"><td align=\"left\" class=\"b\"><span class=\"csb\" style=\"background-position:-24px 0;width:28px\"></span><b></b></td><td><span class=\"csb\" style=\"background-position:-53px 0;width:20px\"></span><b>1</b></td><td><a class=\"fl\" href=\"/search?q=%ED%8C%8C%EC%9D%B4%EC%8D%AC&amp;prmd=ivnsb&amp;ei=OiqCXLbAMpXXhwO1sLnQDA&amp;start=10&amp;sa=N\"><span class=\"csb\" style=\"background-position:-74px 0;width:20px\"></span>2</a></td><td><a class=\"fl\" href=\"/search?q=%ED%8C%8C%EC%9D%B4%EC%8D%AC&amp;prmd=ivnsb&amp;ei=OiqCXLbAMpXXhwO1sLnQDA&amp;start=20&amp;sa=N\"><span class=\"csb\" style=\"background-position:-74px 0;width:20px\"></span>3</a></td><td><a class=\"fl\" href=\"/search?q=%ED%8C%8C%EC%9D%B4%EC%8D%AC&amp;prmd=ivnsb&amp;ei=OiqCXLbAMpXXhwO1sLnQDA&amp;start=30&amp;sa=N\"><span class=\"csb\" style=\"background-position:-74px 0;width:20px\"></span>4</a></td><td><a class=\"fl\" href=\"/search?q=%ED%8C%8C%EC%9D%B4%EC%8D%AC&amp;prmd=ivnsb&amp;ei=OiqCXLbAMpXXhwO1sLnQDA&amp;start=40&amp;sa=N\"><span class=\"csb\" style=\"background-position:-74px 0;width:20px\"></span>5</a></td><td><a class=\"fl\" href=\"/search?q=%ED%8C%8C%EC%9D%B4%EC%8D%AC&amp;prmd=ivnsb&amp;ei=OiqCXLbAMpXXhwO1sLnQDA&amp;start=50&amp;sa=N\"><span class=\"csb\" style=\"background-position:-74px 0;width:20px\"></span>6</a></td><td><a class=\"fl\" href=\"/search?q=%ED%8C%8C%EC%9D%B4%EC%8D%AC&amp;prmd=ivnsb&amp;ei=OiqCXLbAMpXXhwO1sLnQDA&amp;start=60&amp;sa=N\"><span class=\"csb\" style=\"background-position:-74px 0;width:20px\"></span>7</a></td><td><a class=\"fl\" href=\"/search?q=%ED%8C%8C%EC%9D%B4%EC%8D%AC&amp;prmd=ivnsb&amp;ei=OiqCXLbAMpXXhwO1sLnQDA&amp;start=70&amp;sa=N\"><span class=\"csb\" style=\"background-position:-74px 0;width:20px\"></span>8</a></td><td><a class=\"fl\" href=\"/search?q=%ED%8C%8C%EC%9D%B4%EC%8D%AC&amp;prmd=ivnsb&amp;ei=OiqCXLbAMpXXhwO1sLnQDA&amp;start=80&amp;sa=N\"><span class=\"csb\" style=\"background-position:-74px 0;width:20px\"></span>9</a></td><td><a class=\"fl\" href=\"/search?q=%ED%8C%8C%EC%9D%B4%EC%8D%AC&amp;prmd=ivnsb&amp;ei=OiqCXLbAMpXXhwO1sLnQDA&amp;start=90&amp;sa=N\"><span class=\"csb\" style=\"background-position:-74px 0;width:20px\"></span>10</a></td><td class=\"b\" style=\"text-align:left\"><a class=\"fl\" href=\"/search?q=%ED%8C%8C%EC%9D%B4%EC%8D%AC&amp;prmd=ivnsb&amp;ei=OiqCXLbAMpXXhwO1sLnQDA&amp;start=10&amp;sa=N\" style=\"text-align:left\"><span class=\"csb\" style=\"background-position:-96px 0;width:71px\"></span><span style=\"display:block;margin-left:53px\">다음</span></a></td></tr></table><p class=\"A8ul6\" id=\"bfl\" style=\"margin:19px 0 0;text-align:center\"><a href=\"/advanced_search?q=%ED%8C%8C%EC%9D%B4%EC%8D%AC&amp;prmd=ivnsb\">고급검색</a><a href=\"/support/websearch/bin/answer.py?answer=134479&amp;hl=ko\">검색 도움말</a> <a href=\"/tools/feedback/survey/html?productId=196&amp;query=%ED%8C%8C%EC%9D%B4%EC%8D%AC&amp;hl=ko\">의견 보내기</a></p><div class=\"A8ul6\" id=\"fll\" style=\"margin:19px auto 19px auto;text-align:center\"><a href=\"/\">Google&nbsp;홈</a> <a href=\"/intl/ko/ads\">Google 광고 프로그램</a> <a href=\"/intl/ko/policies/privacy/\">개인정보처리방침</a> <a href=\"/intl/ko/policies/terms/\">약관</a> <a href=\"/intl/ko/about.html\">Google 정보</a></div></div></td><td id=\"rhs_block\" valign=\"top\"><ol><div class=\"g\"><div class=\"VBt9Dc hp-xpdbox\"><div class=\"R8KuR\" style=\"float:right\"><div class=\"OSMzvb\" style=\"height:57px;width:85px\"><a href=\"/url?q=http://creativeworks.tistory.com/entry/PYTHON-3-Tutorials-21-Download-images-from-the-web-%25EC%259D%25B4%25EB%25AF%25B8%25EC%25A7%2580%25EC%2582%25AC%25EC%25A7%2584-%25EB%258B%25A4%25EC%259A%25B4%25EB%25A1%259C%25EB%2593%259C-%25ED%2595%2598%25EA%25B8%25B0-with-python&amp;sa=U&amp;ved=0ahUKEwi2xYDHkvLgAhWV62EKHTVYDsoQndQBCHIwCg&amp;usg=AOvVaw1pjvqulljkZy9AduBfFMMW\"><img src=\"https://encrypted-tbn0.gstatic.com/images?q=tbn:ANd9GcS4TGyv9xHSoBwLT7yNEMGHn9lKhTJtdNRRJg9Oy9ZqU7xYSrBj_lQX6T0\" style=\"margin-left:0px;margin-right:0px\" title=\"http://creativeworks.tistory.com/entry/PYTHON-3-Tutorials-21-Download-images-from-the-web-%EC%9D%B4%EB%AF%B8%EC%A7%80%EC%82%AC%EC%A7%84-%EB%8B%A4%EC%9A%B4%EB%A1%9C%EB%93%9C-%ED%95%98%EA%B8%B0-with-python\" alt=\"파이썬에 대한 이미지 검색결과\"></a></div></div><div class=\"V7Q8V\"><div><div class=\"FSP1Dd\">파이썬</div><div class=\"F7uZG Rlw09\">프로그램 언어</div></div></div><div class=\"V7Q8V\"><div class=\"mraOPb\"><span>파이썬은 1991년 프로그래머인 귀도 반 로섬이 발표한 고급 프로그래밍 언어로, 플랫폼 독립적이며 인터프리터식, 객체지향적, 동적 타이핑 대화형 언어이다. 파이썬이라는 이름은 귀도가 좋아하는 코미디 〈Monty Python\\'s Flying Circus〉에서 따온 것이다. <a class=\"fl\" href=\"/url?q=https://ko.wikipedia.org/wiki/%25ED%258C%258C%25EC%259D%25B4%25EC%258D%25AC&amp;sa=U&amp;ved=0ahUKEwi2xYDHkvLgAhWV62EKHTVYDsoQmhMIeCgAMAw&amp;usg=AOvVaw0dYwBptTnM9wOBfW5IsJV3\">위키백과</a></span></div></div><div class=\"V7Q8V\" style=\"display:none\"></div><div class=\"V7Q8V\"><span class=\"cC4Myd\">설계자: </span><span class=\"A1t5ne\"><a class=\"A1t5ne fl\" href=\"/search?q=%EA%B7%80%EB%8F%84+%EB%B0%98+%EB%A1%9C%EC%84%AC&amp;stick=H4sIAAAAAAAAAOPgE-LQz9U3MK0yjFfiBLEMMwxMk7UMMsqt9JPzc3JSk0sy8_P0C4ry04sSc3Mz89LjcxLz0ksT01OLrVJSizPT81JTFJIqF7EKvtre8Lq_ReH1hhkKrxfOedOyBgBwkJkhXQAAAA&amp;sa=X&amp;ved=0ahUKEwi2xYDHkvLgAhWV62EKHTVYDsoQmxMIfCgAMA4\">귀도 반 로섬</a></span></div><div class=\"V7Q8V\"><span class=\"cC4Myd\">영향을 받은 언어: </span><span class=\"A1t5ne\">ABC, 알콜 68, C, <a class=\"A1t5ne fl\" href=\"/search?q=C%2B%2B&amp;stick=H4sIAAAAAAAAAONgVuLQz9U3yEovTF_EyuysrQ0Ave2bGhIAAAA&amp;sa=X&amp;ved=0ahUKEwi2xYDHkvLgAhWV62EKHTVYDsoQmxMIfygAMA8\">C++</a>, <a class=\"A1t5ne fl\" href=\"/search?q=%EB%94%9C%EB%9E%80&amp;stick=H4sIAAAAAAAAAONgVuLQz9U3MEozN1jEyvZ6ypzX8xoA_9tbARUAAAA&amp;sa=X&amp;ved=0ahUKEwi2xYDHkvLgAhWV62EKHTVYDsoQmxMIgAEoATAP\">딜란</a>, <a class=\"A1t5ne fl\" href=\"/search?q=%ED%95%98%EC%8A%A4%EC%BC%88&amp;stick=H4sIAAAAAAAAAONgVuLQz9U3MM6KL1zEyvl26ow3XUve7OkAAGlkhP0YAAAA&amp;sa=X&amp;ved=0ahUKEwi2xYDHkvLgAhWV62EKHTVYDsoQmxMIgQEoAjAP\">하스켈</a>, <a class=\"A1t5ne fl\" href=\"/search?q=%EC%95%84%EC%9D%B4%EC%BD%98&amp;stick=H4sIAAAAAAAAAONgVuLQz9U3MC4pMljEyvlmasubuVve7J0BAC98YH8YAAAA&amp;sa=X&amp;ved=0ahUKEwi2xYDHkvLgAhWV62EKHTVYDsoQmxMIggEoAzAP\">아이콘</a>, <a class=\"A1t5ne fl\" href=\"/search?q=%EC%9E%90%EB%B0%94&amp;stick=H4sIAAAAAAAAAONgVuLSz9U3MC9Oyk5LWsTK9mbehNcbpgAA2A4MeRcAAAA&amp;sa=X&amp;ved=0ahUKEwi2xYDHkvLgAhWV62EKHTVYDsoQmxMIgwEoBDAP\">자바</a>, <a class=\"A1t5ne fl\" href=\"/search?q=%EB%A6%AC%EC%8A%A4%ED%94%84&amp;stick=H4sIAAAAAAAAAONgVuLQz9U3MMmuLF_Eyvl62Zo3XUveTmkBAKSPmF0YAAAA&amp;sa=X&amp;ved=0ahUKEwi2xYDHkvLgAhWV62EKHTVYDsoQmxMIhAEoBTAP\">리스프</a>, 모듈-3, <a class=\"A1t5ne fl\" href=\"/search?q=%ED%8E%84&amp;stick=H4sIAAAAAAAAAONgVuLQz9U3MK0qylvEyvy2rwUA0VHjUhIAAAA&amp;sa=X&amp;ved=0ahUKEwi2xYDHkvLgAhWV62EKHTVYDsoQmxMIhQEoBjAP\">펄</a></span></div><div class=\"V7Q8V\"><span class=\"cC4Myd\">사용 중인 파일 확장자: </span><span class=\"A1t5ne\">py,.pyc,.pyd,.pyo</span></div><div class=\"V7Q8V\"><span class=\"cC4Myd\">최근 버전 출시일: </span><span class=\"A1t5ne\"><a class=\"A1t5ne fl\" href=\"/search?q=2018%EB%85%84+10%EC%9B%94+20%EC%9D%BC&amp;stick=H4sIAAAAAAAAAONgVhLQL9E3Mi6vKCkviq8sNK0sWcQqbGRgaPG6tUXB0ODN7CkKRgZv5u4BALb0LRUqAAAA&amp;sa=X&amp;ved=0ahUKEwi2xYDHkvLgAhWV62EKHTVYDsoQmxMIigEoADAR\">2018년 10월 20일</a> (4달 전)</span></div><div class=\"V7Q8V\"><span class=\"cC4Myd\">모회사: </span><span class=\"A1t5ne\"><a class=\"A1t5ne fl\" href=\"/search?q=%ED%8C%8C%EC%9D%B4%EC%8D%AC%EC%86%8C%ED%94%84%ED%8A%B8%EC%9B%A8%EC%96%B4%EC%9E%AC%EB%8B%A8&amp;stick=H4sIAAAAAAAAAOPgE-LQz9U3MK0yjFfiBLGMjXMMC7RUMsqt9JPzc3JSk0sy8_P0k4oS81KKrQoSi1LzShSS83MLEvMqF7HKve3peTN3y5veNW_aet5OaXnbtePN7BVvpm15M2_N6-4VAFpB4h9eAAAA&amp;sa=X&amp;ved=0ahUKEwi2xYDHkvLgAhWV62EKHTVYDsoQmxMIjQEoADAS\">파이썬소프트웨어재단</a></span></div><div class=\"V7Q8V\"><span class=\"cC4Myd\">영향을 준 언어: </span><span class=\"A1t5ne\"><a class=\"A1t5ne fl\" href=\"/search?q=boo+programming+language&amp;stick=H4sIAAAAAAAAAOPgE-LQz9U3MK0yjFfiBLFMklIMk7X0M8qt9JPzc3JSk0sy8_P0C4ry04sSc3Mz89LjcxLz0ksT01OLrTLz0nJKU_OSU1MWsUok5ecrIClTgCkDADH77bBjAAAA&amp;sa=X&amp;ved=0ahUKEwi2xYDHkvLgAhWV62EKHTVYDsoQmxMIkAEoADAT\">Boo</a>, <a class=\"A1t5ne fl\" href=\"/search?q=cobra+programming+language&amp;stick=H4sIAAAAAAAAAOPgE-LQz9U3MK0yjFfiArGMk3OyLU209DPKrfST83NyUpNLMvPz9AuK8tOLEnNzM_PS43MS89JLE9NTi60y89JySlPzklNTFrFKJecnFSUqIClUgCkEAFE3jlNmAAAA&amp;sa=X&amp;ved=0ahUKEwi2xYDHkvLgAhWV62EKHTVYDsoQmxMIkQEoATAT\">Cobra</a>, <a class=\"A1t5ne fl\" href=\"/search?q=%EC%BB%A4%ED%94%BC%EC%8A%A4%ED%81%AC%EB%A6%BD%ED%8A%B8&amp;stick=H4sIAAAAAAAAAOPgE-LQz9U3MK0yjFfiArEyspJNcw209DPKrfST83NyUpNLMvPz9AuK8tOLEnNzM_PS43MS89JLE9NTi60y89JySlPzklNTFrEKvdm95O2UPW-6lrxtXPN62d63XTsAQAdEml4AAAA&amp;sa=X&amp;ved=0ahUKEwi2xYDHkvLgAhWV62EKHTVYDsoQmxMIkgEoAjAT\">커피스크립트</a>, <a class=\"A1t5ne fl\" href=\"/search?q=D+(%ED%94%84%EB%A1%9C%EA%B7%B8%EB%9E%98%EB%B0%8D+%EC%96%B8%EC%96%B4)&amp;stick=H4sIAAAAAAAAAOPgE-LQz9U3MK0yjFfiBLEMs5NKzLX0M8qt9JPzc3JSk0sy8_P0C4ry04sSc3Mz89LjcxLz0ksT01OLrTLz0nJKU_OSU1MWsUq5KGi8ndLyeuGcV9t3vJ434_WGXoU303a8mbZFEwANievwZQAAAA&amp;sa=X&amp;ved=0ahUKEwi2xYDHkvLgAhWV62EKHTVYDsoQmxMIkwEoAzAT\">D</a>, <a class=\"A1t5ne fl\" href=\"/search?q=F+%EC%83%A4%ED%94%84&amp;stick=H4sIAAAAAAAAAOPgE-LQz9U3MK0yjFfiBLEMs0osjLT0M8qt9JPzc3JSk0sy8_P0C4ry04sSc3Mz89LjcxLz0ksT01OLrTLz0nJKU_OSU1MWsXK4KbxpXvJ2SgsAyTGtUlMAAAA&amp;sa=X&amp;ved=0ahUKEwi2xYDHkvLgAhWV62EKHTVYDsoQmxMIlAEoBDAT\">F 샤프</a>, <a class=\"A1t5ne fl\" href=\"/search?q=%EC%A7%80+%EB%8B%88&amp;stick=H4sIAAAAAAAAAOPgE-LQz9U3MK0yjFfiArEss81Ns4q19DPKrfST83NyUpNLMvPz9AuK8tOLEnNzM_PS43MS89JLE9NTi60y89JySlPzklNTFrGyv1neoPC6uwMAO4lP6lMAAAA&amp;sa=X&amp;ved=0ahUKEwi2xYDHkvLgAhWV62EKHTVYDsoQmxMIlQEoBTAT\">Genie</a>, <a class=\"A1t5ne fl\" href=\"/search?q=Go+(%ED%94%84%EB%A1%9C%EA%B7%B8%EB%9E%98%EB%B0%8D+%EC%96%B8%EC%96%B4)&amp;stick=H4sIAAAAAAAAAOPgE-LQz9U3MK0yjFfiArEs05Mqsoq09DPKrfST83NyUpNLMvPz9AuK8tOLEnNzM_PS43MS89JLE9NTi60y89JySlPzklNTFrFKu-craLyd0vJ64ZxX23e8njfj9YZehTfTdryZtkUTAN0rVRJnAAAA&amp;sa=X&amp;ved=0ahUKEwi2xYDHkvLgAhWV62EKHTVYDsoQmxMIlgEoBjAT\">Go</a>, <a class=\"A1t5ne fl\" href=\"/search?q=%EA%B7%B8%EB%A3%A8%EB%B9%84+(%ED%94%84%EB%A1%9C%EA%B7%B8%EB%9E%98%EB%B0%8D+%EC%96%B8%EC%96%B4)&amp;stick=H4sIAAAAAAAAAOPgE-LQz9U3MK0yjFfiBLGMsootzLT0M8qt9JPzc3JSk0sy8_P0C4ry04sSc3Mz89LjcxLz0ksT01OLrTLz0nJKU_OSU1MWsSq92r7j9eIVr3e2KGi8ndLyeuEckMC8Ga839Cq8mbbjzbQtmgB-nUIxbQAAAA&amp;sa=X&amp;ved=0ahUKEwi2xYDHkvLgAhWV62EKHTVYDsoQmxMIlwEoBzAT\">그루비</a>, <a class=\"A1t5ne fl\" href=\"/search?q=%EC%9E%90%EB%B0%94%EC%8A%A4%ED%81%AC%EB%A6%BD%ED%8A%B8&amp;stick=H4sIAAAAAAAAAOPgE-LQz9U3MK0yjFcCs4wKLM219DPKrfST83NyUpNLMvPz9AuK8tOLEnNzM_PS43MS89JLE9NTi60y89JySlPzklNTFrEKvZk34fWGKW-6lrxtXPN62d63XTsAK1aS-FwAAAA&amp;sa=X&amp;ved=0ahUKEwi2xYDHkvLgAhWV62EKHTVYDsoQmxMImAEoCDAT\">자바스크립트</a>, <a class=\"A1t5ne fl\" href=\"/search?q=%EC%A4%84%EB%A6%AC%EC%95%84+(%ED%94%84%EB%A1%9C%EA%B7%B8%EB%9E%98%EB%B0%8D+%EC%96%B8%EC%96%B4)&amp;stick=H4sIAAAAAAAAAOPgE-LQz9U3MK0yjFfiArGyjFOycsy19DPKrfST83NyUpNLMvPz9AuK8tOLEnNzM_PS43MS89JLE9NTi60y89JySlPzklNTFrEqvVnS8nrZmjdTWxQ03k5peb1wzqvtO17Pm_F6Q6_Cm2k73kzbogkAm4LIF24AAAA&amp;sa=X&amp;ved=0ahUKEwi2xYDHkvLgAhWV62EKHTVYDsoQmxMImQEoCTAT\">줄리아</a>, <a class=\"A1t5ne fl\" href=\"/search?q=nim+programming+language&amp;stick=H4sIAAAAAAAAAOPgE-LQz9U3MK0yjFfiArEs0wtMTDK09DPKrfST83NyUpNLMvPz9AuK8tOLEnNzM_PS43MS89JLE9NTi60y89JySlPzklNTFrFK5GXmKiApU4ApAwDXSQcNZAAAAA&amp;sa=X&amp;ved=0ahUKEwi2xYDHkvLgAhWV62EKHTVYDsoQmxMImgEoCjAT\">Nim</a>, <a class=\"A1t5ne fl\" href=\"/search?q=ring+programming+language&amp;stick=H4sIAAAAAAAAAOPgE-LQz9U3MK0yjFfi1U_XNzRMNkvOKC8wr9LSzyi30k_Oz8lJTS7JzM_TLyjKTy9KzM3NzEuPz0nMSy9NTE8ttsrMS8spTc1LTk1ZxCpZBJRTQFKnAFMHACg1vKpoAAAA&amp;sa=X&amp;ved=0ahUKEwi2xYDHkvLgAhWV62EKHTVYDsoQmxMImwEoCzAT\">Ring</a>, <a class=\"A1t5ne fl\" href=\"/search?q=%EB%A3%A8%EB%B9%84+(%ED%94%84%EB%A1%9C%EA%B7%B8%EB%9E%98%EB%B0%8D+%EC%96%B8%EC%96%B4)&amp;stick=H4sIAAAAAAAAAOPgE-LQz9U3MK0yjFcCs8zS0ky19DPKrfST83NyUpNLMvPz9AuK8tOLEnNzM_PS43MS89JLE9NTi60y89JySlPzklNTFrHKv1684vXOFgWNt1NaXi-c82r7jtfzZrze0KvwZtqON9O2aAIA6IzE5WkAAAA&amp;sa=X&amp;ved=0ahUKEwi2xYDHkvLgAhWV62EKHTVYDsoQmxMInAEoDDAT\">루비</a>, <a class=\"A1t5ne fl\" href=\"/search?q=%EC%8A%A4%EC%9C%84%ED%94%84%ED%8A%B8+(%ED%94%84%EB%A1%9C%EA%B7%B8%EB%9E%98%EB%B0%8D+%EC%96%B8%EC%96%B4)&amp;stick=H4sIAAAAAAAAAOPgE-LQz9U3MK0yjFfiBrEMDYpTTCqNtfQzyq30k_NzclKTSzLz8_QLivLTixJzczPz0uNzEvPSSxPTU4utMvPSckpT85JTUxaxqr7pWvJmTsvbKS1vu3YoaADp1wvnvNq-4_W8Ga839Cq8mbbjzbQtmgDoc2ANcgAAAA&amp;sa=X&amp;ved=0ahUKEwi2xYDHkvLgAhWV62EKHTVYDsoQmxMInQEoDTAT\">스위프트</a></span></div><div class=\"dXAUyb\"><div class=\"lHETUb\">관련 검색어</div><div class=\"xKoZHf B27ELd\" style=\"width:72px\"><div class=\"tQOFN\" style=\"height:72px\"><a class=\"FEM55\" href=\"/search?q=%EC%9E%90%EB%B0%94+(%ED%94%84%EB%A1%9C%EA%B7%B8%EB%9E%98%EB%B0%8D+%EC%96%B8%EC%96%B4)&amp;stick=H4sIAAAAAAAAAONgFuLQz9U3MK0yjFfiArHMi5Oy05K0-Jzzc3Pz84IzU1LLEyuLF7HKv5k34fWGKQoab6e0vF4459X2Ha_nzXi9oVfhzbQdb6Zt0QQAmMHfqEoAAAA&amp;sa=X&amp;ved=0ahUKEwi2xYDHkvLgAhWV62EKHTVYDsoQsQ4IoQEwFA\"><img alt=\"자바\" height=\"72px\" src=\"https://encrypted-tbn0.gstatic.com/images?q=tbn:ANd9GcQ16ri54q7_20MSQwz1jCCUAiLU1pJWgmUIV6hlZa0sdyQmzPCYZ8XEqR9a_hXYT2F5L1Y\" title=\"자바\" width=\"72px\"></a></div><div class=\"brYqc\"><a class=\"fl\" href=\"/search?q=%EC%9E%90%EB%B0%94+(%ED%94%84%EB%A1%9C%EA%B7%B8%EB%9E%98%EB%B0%8D+%EC%96%B8%EC%96%B4)&amp;stick=H4sIAAAAAAAAAONgFuLQz9U3MK0yjFfiArHMi5Oy05K0-Jzzc3Pz84IzU1LLEyuLF7HKv5k34fWGKQoab6e0vF4459X2Ha_nzXi9oVfhzbQdb6Zt0QQAmMHfqEoAAAA&amp;sa=X&amp;ved=0ahUKEwi2xYDHkvLgAhWV62EKHTVYDsoQxA0IogEwFA\" title=\"자바\">자바</a><div class=\"czonVc\" title=\"자바\"></div></div></div><div class=\"B27ELd\" style=\"width:72px\"><div class=\"tQOFN\" style=\"height:72px\"><a class=\"FEM55\" href=\"/search?q=C%2B%2B&amp;stick=H4sIAAAAAAAAAONgFuLQz9U3MK0yjFcCs7LSC9O1-Jzzc3Pz84IzU1LLEyuLF7EyO2trAwA58-CHLAAAAA&amp;sa=X&amp;ved=0ahUKEwi2xYDHkvLgAhWV62EKHTVYDsoQsQ4IpAEwFA\"><img alt=\"C++\" height=\"72px\" src=\"https://encrypted-tbn1.gstatic.com/images?q=tbn:ANd9GcSE8zPFZD2-IrUUs_BTQCkFj_huTiC32kz29RIysdAsma6d02MkfHNLTWbFZrDAj1jdWPM\" title=\"C++\" width=\"72px\"></a></div><div class=\"brYqc\"><a class=\"fl\" href=\"/search?q=C%2B%2B&amp;stick=H4sIAAAAAAAAAONgFuLQz9U3MK0yjFcCs7LSC9O1-Jzzc3Pz84IzU1LLEyuLF7EyO2trAwA58-CHLAAAAA&amp;sa=X&amp;ved=0ahUKEwi2xYDHkvLgAhWV62EKHTVYDsoQxA0IpQEwFA\" title=\"C++\">C++</a><div class=\"czonVc\" title=\"C++\"></div></div></div><div class=\"ty7XEe B27ELd\" style=\"width:72px\"><div class=\"tQOFN\" style=\"height:72px\"><a class=\"FEM55\" href=\"/search?q=%EC%9E%90%EB%B0%94%EC%8A%A4%ED%81%AC%EB%A6%BD%ED%8A%B8&amp;stick=H4sIAAAAAAAAAONgFuLQz9U3MK0yjFcCs4wKLM21-Jzzc3Pz84IzU1LLEyuLF7EKvZk34fWGKW-6lrxtXPN62d63XTsAuAsB2DsAAAA&amp;sa=X&amp;ved=0ahUKEwi2xYDHkvLgAhWV62EKHTVYDsoQsQ4IpwEwFA\"><img alt=\"자바스크립트\" height=\"72px\" src=\"https://encrypted-tbn0.gstatic.com/images?q=tbn:ANd9GcQO-fQw_pL04McXDrzTCohk00MUzJdi0DNOjvRfaxHw_BWSzzJYUeU\" title=\"자바스크립트\" width=\"72px\"></a></div><div class=\"brYqc\"><a class=\"fl\" href=\"/search?q=%EC%9E%90%EB%B0%94%EC%8A%A4%ED%81%AC%EB%A6%BD%ED%8A%B8&amp;stick=H4sIAAAAAAAAAONgFuLQz9U3MK0yjFcCs4wKLM21-Jzzc3Pz84IzU1LLEyuLF7EKvZk34fWGKW-6lrxtXPN62d63XTsAuAsB2DsAAAA&amp;sa=X&amp;ved=0ahUKEwi2xYDHkvLgAhWV62EKHTVYDsoQxA0IqAEwFA\" title=\"자바스크립트\">자바스크립트</a><div class=\"czonVc\" title=\"자바스크립트\"></div></div></div><br><div class=\"xKoZHf B27ELd\" style=\"width:72px\"><div class=\"tQOFN\" style=\"height:72px\"><a class=\"FEM55\" href=\"/search?q=PHP&amp;stick=H4sIAAAAAAAAAONgFuLQz9U3MK0yjFcCs8wMssu0-Jzzc3Pz84IzU1LLEyuLF7EyB3gEAADSWoTCLAAAAA&amp;sa=X&amp;ved=0ahUKEwi2xYDHkvLgAhWV62EKHTVYDsoQsQ4IqgEwFA\"><img alt=\"PHP\" height=\"72px\" src=\"https://encrypted-tbn1.gstatic.com/images?q=tbn:ANd9GcTGE47w6wFGKF66-YMuCY1eW_dktCbPZIdGXI7tHu95YX-kVydbgmAAcEQorqZbQL4Zs0s\" title=\"PHP\" width=\"72px\"></a></div><div class=\"brYqc\"><a class=\"fl\" href=\"/search?q=PHP&amp;stick=H4sIAAAAAAAAAONgFuLQz9U3MK0yjFcCs8wMssu0-Jzzc3Pz84IzU1LLEyuLF7EyB3gEAADSWoTCLAAAAA&amp;sa=X&amp;ved=0ahUKEwi2xYDHkvLgAhWV62EKHTVYDsoQxA0IqwEwFA\" title=\"PHP\">PHP</a><div class=\"czonVc\" title=\"PHP\"></div></div></div><div class=\"B27ELd\" style=\"width:72px\"><div class=\"tQOFN\" style=\"height:72px\"><a class=\"FEM55\" href=\"/search?q=NumPy&amp;stick=H4sIAAAAAAAAAONgFuLQz9U3MK0yjFfiBLGMDAtykrT4nPNzc_PzgjNTUssTK4sXsbL6leYGVAIA2H0bzC8AAAA&amp;sa=X&amp;ved=0ahUKEwi2xYDHkvLgAhWV62EKHTVYDsoQsQ4IrQEwFA\"><img alt=\"넘파이\" height=\"72px\" src=\"https://encrypted-tbn3.gstatic.com/images?q=tbn:ANd9GcRINq5rFZR1YhbiTnbrLlnnaJ64YwscSyamRxNZEH-7gkqtymBP44M9pNNO6sZFeb4GKKs\" title=\"넘파이\" width=\"72px\"></a></div><div class=\"brYqc\"><a class=\"fl\" href=\"/search?q=NumPy&amp;stick=H4sIAAAAAAAAAONgFuLQz9U3MK0yjFfiBLGMDAtykrT4nPNzc_PzgjNTUssTK4sXsbL6leYGVAIA2H0bzC8AAAA&amp;sa=X&amp;ved=0ahUKEwi2xYDHkvLgAhWV62EKHTVYDsoQxA0IrgEwFA\" title=\"넘파이\">넘파이</a><div class=\"czonVc\" title=\"넘파이\"></div></div></div><div class=\"ty7XEe B27ELd\" style=\"width:72px\"><div class=\"tQOFN\" style=\"height:72px\"><a class=\"FEM55\" href=\"/search?q=R+(%ED%94%84%EB%A1%9C%EA%B7%B8%EB%9E%98%EB%B0%8D+%EC%96%B8%EC%96%B4)&amp;stick=H4sIAAAAAAAAAONgFuLQz9U3MK0yjFfiBLGMDI2ycrX4nPNzc_PzgjNTUssTK4sXsUoFKWi8ndLyeuGcV9t3vJ434_WGXoU303a8mbZFEwBcqp8dRAAAAA&amp;sa=X&amp;ved=0ahUKEwi2xYDHkvLgAhWV62EKHTVYDsoQsQ4IsAEwFA\"><img alt=\"R\" height=\"72px\" src=\"https://encrypted-tbn2.gstatic.com/images?q=tbn:ANd9GcTQHm53UZ9eLYfQ-TXSmOcp4A4cYcFk984sdGJiaRh2mk9sy2oNBNAZPO7h-anCdhuBx-A\" title=\"R\" width=\"72px\"></a></div><div class=\"brYqc\"><a class=\"fl\" href=\"/search?q=R+(%ED%94%84%EB%A1%9C%EA%B7%B8%EB%9E%98%EB%B0%8D+%EC%96%B8%EC%96%B4)&amp;stick=H4sIAAAAAAAAAONgFuLQz9U3MK0yjFfiBLGMDI2ycrX4nPNzc_PzgjNTUssTK4sXsUoFKWi8ndLyeuGcV9t3vJ434_WGXoU303a8mbZFEwBcqp8dRAAAAA&amp;sa=X&amp;ved=0ahUKEwi2xYDHkvLgAhWV62EKHTVYDsoQxA0IsQEwFA\" title=\"R\">R</a><div class=\"czonVc\" title=\"R\"></div></div></div><br></div></div></div></ol></td></tr></tbody></table><script type=\"text/javascript\" nonce=\"2LUenyCk8Yb3462c25lyyg==\">(function(){var eventid=\\'OiqCXLbAMpXXhwO1sLnQDA\\';google.kEI = eventid;})();</script><script src=\"/xjs/_/js/k=xjs.hp.en.o5aGEW9mC8k.O/m=sb_he,d/rt=j/d=1/rs=ACT90oHZEpRKYChDi4vGOTSDvBdAJU_-Cw\" nonce=\"2LUenyCk8Yb3462c25lyyg==\"></script><script type=\"text/javascript\" nonce=\"2LUenyCk8Yb3462c25lyyg==\">google.ac&&google.ac.c({\"agen\":true,\"cgen\":true,\"client\":\"heirloom-serp\",\"dh\":true,\"dhqt\":true,\"ds\":\"\",\"ffql\":\"ko\",\"fl\":true,\"host\":\"google.com\",\"isbh\":28,\"jsonp\":true,\"msgs\":{\"cibl\":\"검색어 지우기\",\"dym\":\"이것을 찾으셨나요?\",\"lcky\":\"I’m Feeling Lucky\",\"lml\":\"자세히 알아보기\",\"oskt\":\"입력 도구\",\"psrc\":\"검색어가 \\\\u003Ca href=\\\\\"/history\\\\\"\\\\u003E웹 기록\\\\u003C/a\\\\u003E에서 삭제되었습니다.\",\"psrl\":\"삭제\",\"sbit\":\"이미지로 검색\",\"srch\":\"Google 검색\"},\"ovr\":{},\"pq\":\"파이썬\",\"refpd\":true,\"refspre\":true,\"rfs\":[\"파이썬 장점\",\"파이썬 다운로드\",\"파이썬이란\",\"파이썬 예제\",\"파이썬 나무위키\",\"파이썬 에디터\",\"파이썬3\",\"파이썬 연산자\",\"파이썬 게임\",\"파이썬 맵\"],\"sbpl\":24,\"sbpr\":24,\"scd\":10,\"sce\":5,\"stok\":\"ce3Ukd1qklhspje2wiqluhBMTKE\",\"uhde\":false})</script><script nonce=\"2LUenyCk8Yb3462c25lyyg==\">(function(){window.google.cdo={height:0,width:0};(function(){var a=window.innerWidth,b=window.innerHeight;if(!a||!b){var c=window.document,d=\"CSS1Compat\"==c.compatMode?c.documentElement:c.body;a=d.clientWidth;b=d.clientHeight}a&&b&&(a!=google.cdo.width||b!=google.cdo.height)&&google.log(\"\",\"\",\"/client_204?&atyp=i&biw=\"+a+\"&bih=\"+b+\"&ei=\"+google.kEI);}).call(this);})();</script></body></html>'"
      ]
     },
     "execution_count": 3,
     "metadata": {},
     "output_type": "execute_result"
    }
   ],
   "source": [
    "url = \"https://www.google.com/search\"\n",
    "param = {\"q\":\"파이썬\"}\n",
    "\n",
    "html = getDownload(url, param=param)\n",
    "html.text"
   ]
  },
  {
   "cell_type": "code",
   "execution_count": 4,
   "metadata": {},
   "outputs": [
    {
     "data": {
      "text/plain": [
       "requests.models.Response"
      ]
     },
     "execution_count": 4,
     "metadata": {},
     "output_type": "execute_result"
    }
   ],
   "source": [
    "type(html)    # Response 객체"
   ]
  },
  {
   "cell_type": "code",
   "execution_count": 5,
   "metadata": {},
   "outputs": [
    {
     "data": {
      "text/plain": [
       "str"
      ]
     },
     "execution_count": 5,
     "metadata": {},
     "output_type": "execute_result"
    }
   ],
   "source": [
    "type(html.text)  # string"
   ]
  },
  {
   "cell_type": "markdown",
   "metadata": {},
   "source": [
    "다운로드 한 html.text가 위에서 보는 것처럼 string이기 때문에 직접 조작하기 어렵습니다."
   ]
  },
  {
   "cell_type": "markdown",
   "metadata": {},
   "source": [
    "DOM tree를 구성해서 조작하기 쉽도록 해주는 **`BeautifulSoup`** 패키지를 사용 합니다."
   ]
  },
  {
   "cell_type": "markdown",
   "metadata": {},
   "source": [
    "### BeautifulSoup 설치"
   ]
  },
  {
   "cell_type": "code",
   "execution_count": 6,
   "metadata": {},
   "outputs": [],
   "source": [
    "# !conda install beautifulsoup4\n",
    "# !pip install beautifulsoup4"
   ]
  },
  {
   "cell_type": "markdown",
   "metadata": {},
   "source": [
    "### BeautifulSoup import 하기"
   ]
  },
  {
   "cell_type": "markdown",
   "metadata": {},
   "source": [
    "설치한 패키지명은 `beautifulsoup4` 이지만 import 할 패키지명은 `bs4` 입니다."
   ]
  },
  {
   "cell_type": "code",
   "execution_count": 7,
   "metadata": {},
   "outputs": [],
   "source": [
    "from bs4 import BeautifulSoup"
   ]
  },
  {
   "cell_type": "markdown",
   "metadata": {},
   "source": [
    "### BeautifulSoup 객체 생성 및 parser 사용"
   ]
  },
  {
   "cell_type": "markdown",
   "metadata": {},
   "source": [
    "HTML은 XML과 달리 **`Not Well-formed`** 이기 때문에 자동으로 분석하기 어렵다.\n",
    "\n",
    "HTML 웹 페이지의 흔한 오류들...\n",
    "- 닫는 태그가 없는 경우가 있다.\n",
    "- elements가 overlap 된 경우가 있다.\n",
    "- 여는 태그와 닫는 태그의 case(대소문자)가 일치하지 않는 경우가 있다.\n",
    "\n",
    "속도와 오류처리 성능 등을 고려한 `parser` 선택이 중요하다. ( **`lxml parser`** 를 추천함 )\n",
    "- python의 html.parser\n",
    "- lxml의 html.parser\n",
    "- lxml의 xml.parser\n",
    "- html5lib\n",
    "\n",
    "parser 들을 사용 해보자."
   ]
  },
  {
   "cell_type": "code",
   "execution_count": 8,
   "metadata": {},
   "outputs": [],
   "source": [
    "# 테스트를 위한 간단한 html 페이지를 만든다. (Well-formed)\n",
    "html = \"\"\"\n",
    "<document>\n",
    "<html>\n",
    "    <head></head>\n",
    "    <body>\n",
    "        <div>\n",
    "            <p>\n",
    "                <a>Go to page</a>\n",
    "            </p>\n",
    "        </div>\n",
    "    </body>\n",
    "</document>\n",
    "\"\"\""
   ]
  },
  {
   "cell_type": "code",
   "execution_count": 9,
   "metadata": {},
   "outputs": [],
   "source": [
    "dom = BeautifulSoup(html, \"lxml\")    # features 파라미터에 parser를 지정 (lxml parser 사용)"
   ]
  },
  {
   "cell_type": "code",
   "execution_count": 10,
   "metadata": {},
   "outputs": [
    {
     "data": {
      "text/plain": [
       "bs4.BeautifulSoup"
      ]
     },
     "execution_count": 10,
     "metadata": {},
     "output_type": "execute_result"
    }
   ],
   "source": [
    "type(dom)"
   ]
  },
  {
   "cell_type": "code",
   "execution_count": 11,
   "metadata": {},
   "outputs": [],
   "source": [
    "dom.html.head   # 태그로 접근 가능함"
   ]
  },
  {
   "cell_type": "code",
   "execution_count": 12,
   "metadata": {},
   "outputs": [
    {
     "data": {
      "text/plain": [
       "bs4.element.Tag"
      ]
     },
     "execution_count": 12,
     "metadata": {},
     "output_type": "execute_result"
    }
   ],
   "source": [
    "type(dom.html)"
   ]
  },
  {
   "cell_type": "code",
   "execution_count": 13,
   "metadata": {},
   "outputs": [
    {
     "data": {
      "text/plain": [
       "bs4.element.Tag"
      ]
     },
     "execution_count": 13,
     "metadata": {},
     "output_type": "execute_result"
    }
   ],
   "source": [
    "type(dom.html.body)"
   ]
  },
  {
   "cell_type": "markdown",
   "metadata": {},
   "source": [
    "BeautifulSoup은 DOM Tree를 반환하며, 이 객체는 tag 명칭과 값의 쌍으로 이루어진 **`Tag 객체`** 들로 이루어져 있다."
   ]
  },
  {
   "cell_type": "code",
   "execution_count": 14,
   "metadata": {},
   "outputs": [
    {
     "data": {
      "text/plain": [
       "<html><body><document>\n",
       "<div>\n",
       "<p>\n",
       "<a>Go to page</a>\n",
       "</p>\n",
       "</div>\n",
       "</document>\n",
       "</body></html>"
      ]
     },
     "execution_count": 14,
     "metadata": {},
     "output_type": "execute_result"
    }
   ],
   "source": [
    "dom.html"
   ]
  },
  {
   "cell_type": "code",
   "execution_count": 15,
   "metadata": {},
   "outputs": [
    {
     "data": {
      "text/plain": [
       "'<html>\\n <body>\\n  <document>\\n   <div>\\n    <p>\\n     <a>\\n      Go to page\\n     </a>\\n    </p>\\n   </div>\\n  </document>\\n </body>\\n</html>'"
      ]
     },
     "execution_count": 15,
     "metadata": {},
     "output_type": "execute_result"
    }
   ],
   "source": [
    "dom.prettify()   # 들여쓰기를 해서 보기좋게 출력함"
   ]
  },
  {
   "cell_type": "code",
   "execution_count": 16,
   "metadata": {},
   "outputs": [
    {
     "data": {
      "text/plain": [
       "<a>Go to page</a>"
      ]
     },
     "execution_count": 16,
     "metadata": {},
     "output_type": "execute_result"
    }
   ],
   "source": [
    "dom.html.body.div.p.a"
   ]
  },
  {
   "cell_type": "code",
   "execution_count": 17,
   "metadata": {},
   "outputs": [
    {
     "data": {
      "text/plain": [
       "'Go to page'"
      ]
     },
     "execution_count": 17,
     "metadata": {},
     "output_type": "execute_result"
    }
   ],
   "source": [
    "dom.html.body.div.p.a.text"
   ]
  },
  {
   "cell_type": "code",
   "execution_count": 18,
   "metadata": {},
   "outputs": [
    {
     "data": {
      "text/plain": [
       "'Go to page'"
      ]
     },
     "execution_count": 18,
     "metadata": {},
     "output_type": "execute_result"
    }
   ],
   "source": [
    "dom.a.text"
   ]
  },
  {
   "cell_type": "markdown",
   "metadata": {},
   "source": [
    "추가적으로 `name`, `attr`, `text` 등 속성도 사용해볼것 (dom.a.attr, ...)"
   ]
  },
  {
   "cell_type": "markdown",
   "metadata": {},
   "source": [
    "BeautifulSoup의 DOM Tree는 위에서 처럼, <br>\n",
    "Tag를 chain 형태로 연결해서 단계적으로 접근하거나, 특정 Tag를 바로 접근도 가능하다."
   ]
  },
  {
   "cell_type": "markdown",
   "metadata": {},
   "source": [
    "### jupyter notebook Magic Command : whos"
   ]
  },
  {
   "cell_type": "code",
   "execution_count": 19,
   "metadata": {},
   "outputs": [
    {
     "name": "stdout",
     "output_type": "stream",
     "text": [
      "Variable        Type             Data/Info\n",
      "------------------------------------------\n",
      "BeautifulSoup   type             <class 'bs4.BeautifulSoup'>\n",
      "autopep8        module           <module 'autopep8' from '<...>te-packages/autopep8.py'>\n",
      "base_retries    int              3\n",
      "dom             BeautifulSoup    <html><body><document>\\n<<...>document>\\n</body></html>\n",
      "getDownload     function         <function getDownload at 0x10395cb70>\n",
      "headers         dict             n=1\n",
      "html            str              \\n<document>\\n<html>\\n   <...>   </body>\\n</document>\\n\n",
      "json            module           <module 'json' from '/Use<...>hon3.6/json/__init__.py'>\n",
      "param           dict             n=1\n",
      "requests        module           <module 'requests' from '<...>es/requests/__init__.py'>\n",
      "url             str              https://www.google.com/search\n"
     ]
    }
   ],
   "source": [
    "%whos"
   ]
  },
  {
   "cell_type": "markdown",
   "metadata": {},
   "source": [
    "### Selector 기본"
   ]
  },
  {
   "cell_type": "code",
   "execution_count": 20,
   "metadata": {},
   "outputs": [],
   "source": [
    "# <a> 태그를 하나 더 추가해본다.\n",
    "html = \"\"\"\n",
    "<document>\n",
    "<html>\n",
    "    <head></head>\n",
    "    <body>\n",
    "        <div>\n",
    "            <p>\n",
    "                <a>Go to page1</a>\n",
    "                <a>Go to page2</a>\n",
    "            </p>\n",
    "        </div>\n",
    "    </body>\n",
    "</document>\n",
    "\"\"\""
   ]
  },
  {
   "cell_type": "code",
   "execution_count": 21,
   "metadata": {
    "scrolled": true
   },
   "outputs": [],
   "source": [
    "dom = BeautifulSoup(html, \"lxml\")"
   ]
  },
  {
   "cell_type": "code",
   "execution_count": 22,
   "metadata": {},
   "outputs": [
    {
     "data": {
      "text/plain": [
       "<a>Go to page1</a>"
      ]
     },
     "execution_count": 22,
     "metadata": {},
     "output_type": "execute_result"
    }
   ],
   "source": [
    "dom.a"
   ]
  },
  {
   "cell_type": "code",
   "execution_count": 23,
   "metadata": {},
   "outputs": [
    {
     "data": {
      "text/plain": [
       "<a>Go to page1</a>"
      ]
     },
     "execution_count": 23,
     "metadata": {},
     "output_type": "execute_result"
    }
   ],
   "source": [
    "dom.find('a')"
   ]
  },
  {
   "cell_type": "code",
   "execution_count": 24,
   "metadata": {},
   "outputs": [
    {
     "data": {
      "text/plain": [
       "[<a>Go to page1</a>, <a>Go to page2</a>]"
      ]
     },
     "execution_count": 24,
     "metadata": {},
     "output_type": "execute_result"
    }
   ],
   "source": [
    "dom.find_all('a')   # BeautifulSoup이 버전업 되면서, findAll() 형태의 메서드는 없어지고, find_all() 형태의 메서드로 대체되었음"
   ]
  },
  {
   "cell_type": "markdown",
   "metadata": {},
   "source": [
    "위의 방법으로는 두번째 `<a>` 태그 만 가져오지는 못한다. \n",
    "\n",
    "태그에 `id`와 `class`를 추가해본다."
   ]
  },
  {
   "cell_type": "code",
   "execution_count": 25,
   "metadata": {},
   "outputs": [],
   "source": [
    "html = \"\"\"\n",
    "<document>\n",
    "<html>\n",
    "    <head></head>\n",
    "    <body>\n",
    "        <div id=\"result\">\n",
    "            <p class=\"row\">\n",
    "                <a class=\"red\">Go to page1</a>\n",
    "                <a class=\"blue\">Go to page2</a>\n",
    "            </p>\n",
    "        </div>\n",
    "    </body>\n",
    "</document>\n",
    "\"\"\""
   ]
  },
  {
   "cell_type": "code",
   "execution_count": 26,
   "metadata": {},
   "outputs": [],
   "source": [
    "dom = BeautifulSoup(html, \"lxml\")"
   ]
  },
  {
   "cell_type": "code",
   "execution_count": 27,
   "metadata": {},
   "outputs": [],
   "source": [
    "import bs4   # bs4에서는 기본적으로 Tag의 속성들을 제어할 수 있는 다양한 메서드를 제공함\n",
    "\n",
    "# bs4.element.Tag.get()\n",
    "# bs4.element.Tag == DOM.Elements"
   ]
  },
  {
   "cell_type": "code",
   "execution_count": 28,
   "metadata": {},
   "outputs": [
    {
     "data": {
      "text/plain": [
       "(<a class=\"red\">Go to page1</a>, <a class=\"red\">Go to page1</a>)"
      ]
     },
     "execution_count": 28,
     "metadata": {},
     "output_type": "execute_result"
    }
   ],
   "source": [
    "dom.a, dom.find('a')"
   ]
  },
  {
   "cell_type": "code",
   "execution_count": 29,
   "metadata": {},
   "outputs": [
    {
     "name": "stdout",
     "output_type": "stream",
     "text": [
      "a ['red'] Go to page1\n",
      "a ['blue'] Go to page2\n"
     ]
    }
   ],
   "source": [
    "for tag in dom.find_all('a'):\n",
    "    print(tag.name, tag[\"class\"], tag.text)"
   ]
  },
  {
   "cell_type": "markdown",
   "metadata": {},
   "source": [
    "태그에 ID와 Class를 지정해줬기 때문에 아래처럼 특정 element에 직접 접근이 가능하다."
   ]
  },
  {
   "cell_type": "code",
   "execution_count": 30,
   "metadata": {},
   "outputs": [
    {
     "data": {
      "text/plain": [
       "[<a class=\"blue\">Go to page2</a>]"
      ]
     },
     "execution_count": 30,
     "metadata": {},
     "output_type": "execute_result"
    }
   ],
   "source": [
    "dom.find_all('a', {\"class\":\"blue\"})"
   ]
  },
  {
   "cell_type": "code",
   "execution_count": 31,
   "metadata": {},
   "outputs": [
    {
     "data": {
      "text/plain": [
       "[<div id=\"result\">\n",
       " <p class=\"row\">\n",
       " <a class=\"red\">Go to page1</a>\n",
       " <a class=\"blue\">Go to page2</a>\n",
       " </p>\n",
       " </div>, <a class=\"red\">Go to page1</a>, <a class=\"blue\">Go to page2</a>]"
      ]
     },
     "execution_count": 31,
     "metadata": {},
     "output_type": "execute_result"
    }
   ],
   "source": [
    "dom.find_all([\"div\", \"a\"])   # tag는 여러개를 한꺼번에 지정할 수 있다.(튜플, 리스트, Set 등)"
   ]
  },
  {
   "cell_type": "code",
   "execution_count": 32,
   "metadata": {},
   "outputs": [
    {
     "data": {
      "text/plain": [
       "[<div id=\"result\">\n",
       " <p class=\"row\">\n",
       " <a class=\"red\">Go to page1</a>\n",
       " <a class=\"blue\">Go to page2</a>\n",
       " </p>\n",
       " </div>]"
      ]
     },
     "execution_count": 32,
     "metadata": {},
     "output_type": "execute_result"
    }
   ],
   "source": [
    "dom.find_all(\"\", {\"id\":\"result\"})     # tag를 지정하지 않고, 속성만으로 찾을 수도 있다."
   ]
  },
  {
   "cell_type": "code",
   "execution_count": 33,
   "metadata": {},
   "outputs": [
    {
     "data": {
      "text/plain": [
       "[]"
      ]
     },
     "execution_count": 33,
     "metadata": {},
     "output_type": "execute_result"
    }
   ],
   "source": [
    "dom.find_all(\"a\", recursive=False)\n",
    "# dom.find_all(\"a\", recursive=True)    # default는 True"
   ]
  },
  {
   "cell_type": "markdown",
   "metadata": {},
   "source": [
    "find_all() 함수에 recursive=False로 지정하면 특정 태그를 direct로 찾지 못한다. direct children 만 찾을 수 있다."
   ]
  },
  {
   "cell_type": "code",
   "execution_count": 34,
   "metadata": {},
   "outputs": [
    {
     "data": {
      "text/plain": [
       "[<html><body><document>\n",
       " <div id=\"result\">\n",
       " <p class=\"row\">\n",
       " <a class=\"red\">Go to page1</a>\n",
       " <a class=\"blue\">Go to page2</a>\n",
       " </p>\n",
       " </div>\n",
       " </document>\n",
       " </body></html>]"
      ]
     },
     "execution_count": 34,
     "metadata": {},
     "output_type": "execute_result"
    }
   ],
   "source": [
    "dom.find_all(\"html\", recursive=False)"
   ]
  },
  {
   "cell_type": "markdown",
   "metadata": {},
   "source": [
    "### Selector 실습"
   ]
  },
  {
   "cell_type": "markdown",
   "metadata": {},
   "source": [
    "http://pythonscraping.com/pages/page3.html 사이트에서 Selector 실습하기\n",
    "\n",
    "![DOM Exercises](./images/selector_exercises.png)"
   ]
  },
  {
   "cell_type": "code",
   "execution_count": 35,
   "metadata": {},
   "outputs": [],
   "source": [
    "url = \"http://pythonscraping.com/pages/page3.html\"\n",
    "html = getDownload(url, param=param)"
   ]
  },
  {
   "cell_type": "markdown",
   "metadata": {},
   "source": [
    "#### html.parser"
   ]
  },
  {
   "cell_type": "code",
   "execution_count": 36,
   "metadata": {},
   "outputs": [],
   "source": [
    "dom = BeautifulSoup(html.content, \"html.parser\")"
   ]
  },
  {
   "cell_type": "code",
   "execution_count": 37,
   "metadata": {},
   "outputs": [
    {
     "data": {
      "text/plain": [
       "<div id=\"footer\">\n",
       "© Totally Normal Gifts, Inc. <br/>\n",
       "+234 (617) 863-0736\n",
       "</div>"
      ]
     },
     "execution_count": 37,
     "metadata": {},
     "output_type": "execute_result"
    }
   ],
   "source": [
    "footer = dom.find(\"div\", {\"id\":\"footer\"})\n",
    "footer"
   ]
  },
  {
   "cell_type": "code",
   "execution_count": 38,
   "metadata": {},
   "outputs": [
    {
     "data": {
      "text/plain": [
       "('[document]', {})"
      ]
     },
     "execution_count": 38,
     "metadata": {},
     "output_type": "execute_result"
    }
   ],
   "source": [
    "parent = footer.find_parent()\n",
    "parent.name, parent.attrs"
   ]
  },
  {
   "cell_type": "markdown",
   "metadata": {},
   "source": [
    "#### lxml parser"
   ]
  },
  {
   "cell_type": "code",
   "execution_count": 39,
   "metadata": {},
   "outputs": [],
   "source": [
    "dom = BeautifulSoup(html.content, \"lxml\")"
   ]
  },
  {
   "cell_type": "code",
   "execution_count": 40,
   "metadata": {},
   "outputs": [
    {
     "data": {
      "text/plain": [
       "<div id=\"footer\">\n",
       "© Totally Normal Gifts, Inc. <br/>\n",
       "+234 (617) 863-0736\n",
       "</div>"
      ]
     },
     "execution_count": 40,
     "metadata": {},
     "output_type": "execute_result"
    }
   ],
   "source": [
    "footer = dom.find(\"div\", {\"id\":\"footer\"})\n",
    "footer"
   ]
  },
  {
   "cell_type": "code",
   "execution_count": 41,
   "metadata": {},
   "outputs": [
    {
     "data": {
      "text/plain": [
       "('div', {'id': 'wrapper'})"
      ]
     },
     "execution_count": 41,
     "metadata": {},
     "output_type": "execute_result"
    }
   ],
   "source": [
    "parent = footer.find_parent()\n",
    "parent.name, parent.attrs"
   ]
  },
  {
   "cell_type": "code",
   "execution_count": 42,
   "metadata": {},
   "outputs": [
    {
     "name": "stdout",
     "output_type": "stream",
     "text": [
      "div {'id': 'wrapper'}\n",
      "body {}\n",
      "html {}\n",
      "[document] {}\n"
     ]
    }
   ],
   "source": [
    "parents = footer.find_parents()\n",
    "for row in parents:\n",
    "    print(row.name, row.attrs)"
   ]
  },
  {
   "cell_type": "markdown",
   "metadata": {},
   "source": [
    "lxml parser는 find_parent() 결과가 정상적이지만, html.parser는 tag를 찾지 못했습니다.<br>\n",
    "parser 마다 특성이 있습니다. 여기서는 lxml parser를 사용합니다."
   ]
  },
  {
   "cell_type": "markdown",
   "metadata": {},
   "source": [
    "#### 부모자식 tag 선택하기(find_parent, find_all), recursive 동작 비교"
   ]
  },
  {
   "cell_type": "code",
   "execution_count": 43,
   "metadata": {
    "scrolled": true
   },
   "outputs": [
    {
     "name": "stdout",
     "output_type": "stream",
     "text": [
      "img {'src': '../img/gifts/logo.jpg', 'style': 'float:left;'}\n",
      "h1 {}\n",
      "div {'id': 'content'}\n",
      "p {}\n",
      "br {}\n",
      "br {}\n",
      "table {'id': 'giftList'}\n",
      "tr {}\n",
      "th {}\n",
      "th {}\n",
      "th {}\n",
      "th {}\n",
      "tr {'id': 'gift1', 'class': ['gift']}\n",
      "td {}\n",
      "td {}\n",
      "span {'class': ['excitingNote']}\n",
      "td {}\n",
      "td {}\n",
      "img {'src': '../img/gifts/img1.jpg'}\n",
      "tr {'id': 'gift2', 'class': ['gift']}\n",
      "td {}\n",
      "td {}\n",
      "span {'class': ['excitingNote']}\n",
      "td {}\n",
      "td {}\n",
      "img {'src': '../img/gifts/img2.jpg'}\n",
      "tr {'id': 'gift3', 'class': ['gift']}\n",
      "td {}\n",
      "td {}\n",
      "span {'class': ['excitingNote']}\n",
      "td {}\n",
      "td {}\n",
      "img {'src': '../img/gifts/img3.jpg'}\n",
      "tr {'id': 'gift4', 'class': ['gift']}\n",
      "td {}\n",
      "td {}\n",
      "span {'class': ['excitingNote']}\n",
      "td {}\n",
      "td {}\n",
      "img {'src': '../img/gifts/img4.jpg'}\n",
      "tr {'id': 'gift5', 'class': ['gift']}\n",
      "td {}\n",
      "td {}\n",
      "span {'class': ['excitingNote']}\n",
      "td {}\n",
      "td {}\n",
      "img {'src': '../img/gifts/img6.jpg'}\n",
      "div {'id': 'footer'}\n",
      "br {}\n"
     ]
    }
   ],
   "source": [
    "children = parent.find_all()    # default는 recursive=False\n",
    "for row in children:\n",
    "    print(row.name, row.attrs)"
   ]
  },
  {
   "cell_type": "markdown",
   "metadata": {},
   "source": [
    "위에서 처럼  자식 노드에서 부모 노드로 이동 후 전체 태그를 찾는 `find_all()` 메서드 결과를 보면, <br>\n",
    "원래의 children tag의 하부 tree 뿐 아니라 형제 Tree의 하부 까지 모두 찾는다.\n",
    "\n",
    "`recursive=False`로 지정하면, 원래의 children tag의 하부 Tree 만 찾는다."
   ]
  },
  {
   "cell_type": "code",
   "execution_count": 44,
   "metadata": {},
   "outputs": [
    {
     "name": "stdout",
     "output_type": "stream",
     "text": [
      "img {'src': '../img/gifts/logo.jpg', 'style': 'float:left;'}\n",
      "h1 {}\n",
      "div {'id': 'content'}\n",
      "table {'id': 'giftList'}\n",
      "div {'id': 'footer'}\n"
     ]
    }
   ],
   "source": [
    "children = parent.find_all(recursive=False)\n",
    "for row in children:\n",
    "    print(row.name, row.attrs)"
   ]
  },
  {
   "cell_type": "markdown",
   "metadata": {},
   "source": [
    "#### 좌우 tag 선택하기 (find_next_sibling, find_previous_ sibling)"
   ]
  },
  {
   "cell_type": "code",
   "execution_count": 45,
   "metadata": {
    "scrolled": true
   },
   "outputs": [
    {
     "name": "stdout",
     "output_type": "stream",
     "text": [
      "img {'src': '../img/gifts/logo.jpg', 'style': 'float:left;'}\n",
      "h1 {}\n",
      "div {'id': 'content'}\n",
      "p {}\n",
      "br {}\n",
      "br {}\n",
      "table {'id': 'giftList'}\n",
      "tr {}\n",
      "th {}\n",
      "th {}\n",
      "th {}\n",
      "th {}\n",
      "tr {'id': 'gift1', 'class': ['gift']}\n",
      "td {}\n",
      "td {}\n",
      "span {'class': ['excitingNote']}\n",
      "td {}\n",
      "td {}\n",
      "img {'src': '../img/gifts/img1.jpg'}\n",
      "tr {'id': 'gift2', 'class': ['gift']}\n",
      "td {}\n",
      "td {}\n",
      "span {'class': ['excitingNote']}\n",
      "td {}\n",
      "td {}\n",
      "img {'src': '../img/gifts/img2.jpg'}\n",
      "tr {'id': 'gift3', 'class': ['gift']}\n",
      "td {}\n",
      "td {}\n",
      "span {'class': ['excitingNote']}\n",
      "td {}\n",
      "td {}\n",
      "img {'src': '../img/gifts/img3.jpg'}\n",
      "tr {'id': 'gift4', 'class': ['gift']}\n",
      "td {}\n",
      "td {}\n",
      "span {'class': ['excitingNote']}\n",
      "td {}\n",
      "td {}\n",
      "img {'src': '../img/gifts/img4.jpg'}\n",
      "tr {'id': 'gift5', 'class': ['gift']}\n",
      "td {}\n",
      "td {}\n",
      "span {'class': ['excitingNote']}\n",
      "td {}\n",
      "td {}\n",
      "img {'src': '../img/gifts/img6.jpg'}\n",
      "div {'id': 'footer'}\n",
      "br {}\n"
     ]
    }
   ],
   "source": [
    "descendants = parent.find_all()\n",
    "\n",
    "for row in descendants:\n",
    "    print(row.name, row.attrs)"
   ]
  },
  {
   "cell_type": "code",
   "execution_count": 46,
   "metadata": {},
   "outputs": [
    {
     "name": "stdout",
     "output_type": "stream",
     "text": [
      "p {} \n",
      "We haven't figured out how to make online shopping carts yet, but you can send us a check to:\n",
      "123 Main St.\n",
      "Abuja, Nigeria\n",
      "We will then send your totally amazing gift, pronto! Please include an extra $5.00 for gift wrapping.\n"
     ]
    }
   ],
   "source": [
    "divChildren = children[2].find_all(recursive=False)\n",
    "\n",
    "for row in divChildren:\n",
    "    print(row.name, row.attrs, row.text)"
   ]
  },
  {
   "cell_type": "code",
   "execution_count": 47,
   "metadata": {},
   "outputs": [
    {
     "data": {
      "text/plain": [
       "('h1', 'h1')"
      ]
     },
     "execution_count": 47,
     "metadata": {},
     "output_type": "execute_result"
    }
   ],
   "source": [
    "divTag = children[2]\n",
    "\n",
    "# children[1] == divTag.find_previous_sibling()\n",
    "children[1].name, divTag.find_previous_sibling().name"
   ]
  },
  {
   "cell_type": "code",
   "execution_count": 48,
   "metadata": {},
   "outputs": [
    {
     "data": {
      "text/plain": [
       "True"
      ]
     },
     "execution_count": 48,
     "metadata": {},
     "output_type": "execute_result"
    }
   ],
   "source": [
    "children[3] == divTag.find_next_sibling()"
   ]
  },
  {
   "cell_type": "markdown",
   "metadata": {},
   "source": [
    "#### 선물 가격정보 추출하기"
   ]
  },
  {
   "cell_type": "markdown",
   "metadata": {},
   "source": [
    "찾고자 하는 정보를 바로 찾을 수 있으면 좋지만, <br>\n",
    "그렇지 않으면 상위의 태그 중에 id나 class가 명확히 구분되는 태그를 찾아서 tree를 탐색한다.\n",
    "\n",
    "선물 리스트가 테이블에 담겨있고, 각각의 선물 리스트는 \"gift\"라는 class명을 가지고 있다.<br>\n",
    "각각의 선물 리스트는 4개의 td 태그로 되어 있고, 3번째에 cost 정보가 포함되어 있다."
   ]
  },
  {
   "cell_type": "code",
   "execution_count": 49,
   "metadata": {},
   "outputs": [
    {
     "name": "stdout",
     "output_type": "stream",
     "text": [
      "['$15.00', '$10,000.52', '$10,005.00', '$0.50', '$1.50']\n"
     ]
    }
   ],
   "source": [
    "gifts = dom.find_all(\"\", {\"class\":\"gift\"})\n",
    "\n",
    "costs = []\n",
    "\n",
    "for gift in gifts:\n",
    "    tds = gift.find_all(recursive=False)    # 각각의 gift별 td 태그 리스트\n",
    "    costs.append(tds[2].text.strip())\n",
    "\n",
    "print(costs)"
   ]
  },
  {
   "cell_type": "markdown",
   "metadata": {},
   "source": [
    "### 구글 검색결과 추출하기"
   ]
  },
  {
   "cell_type": "markdown",
   "metadata": {},
   "source": [
    "구글 검색을 통해 \"파이썬 자습서\" 라는 문자열의 검색결과 중 제목 부분을 추출해봅니다."
   ]
  },
  {
   "cell_type": "markdown",
   "metadata": {},
   "source": [
    "`우선 브라우저의 \"페이지 소스 보기\" 또는 \"검사\" 기능을 이용해서, 검색결과에서 찾고자 하는 문자열을 탐색 해봅니다.`\n",
    "\n",
    "제목 자체의 class명은 검색 리스트 마다 다르지만,<br>\n",
    "`제목 위쪽에 있는 div 태그의 class명이 \"r\"로 일정한 것을 발견할 수 있습니다.`  (찾기가 쉽지는 않습니다.)"
   ]
  },
  {
   "cell_type": "code",
   "execution_count": 50,
   "metadata": {},
   "outputs": [
    {
     "name": "stdout",
     "output_type": "stream",
     "text": [
      "<h3 class=\"r\">\n",
      " <a href=\"/url?q=https://docs.python.org/ko/3/tutorial/index.html&amp;sa=U&amp;ved=0ahUKEwjT3O_HkvLgAhXRfXAKHUxqBywQFggVMAA&amp;usg=AOvVaw28_54tQuRtBWrxC_Lf-sFt\">\n",
      "  <b>\n",
      "   파이썬 자습서\n",
      "  </b>\n",
      "  —\n",
      "  <b>\n",
      "   Python\n",
      "  </b>\n",
      "  3.7.2 documentation\n",
      " </a>\n",
      "</h3>\n",
      "\n",
      "<h3 class=\"r\">\n",
      " <a class=\"sla\" href=\"/url?q=https://docs.python.org/ko/3/tutorial/appetite.html&amp;sa=U&amp;ved=0ahUKEwjT3O_HkvLgAhXRfXAKHUxqBywQjBAIGzAB&amp;usg=AOvVaw3lzzfjxeQHZp3YAo6i-T0t\">\n",
      "  1. 입맛 돋우기\n",
      " </a>\n",
      "</h3>\n",
      "\n",
      "<h3 class=\"r\">\n",
      " <a class=\"sla\" href=\"/url?q=https://docs.python.org/ko/3/tutorial/interpreter.html&amp;sa=U&amp;ved=0ahUKEwjT3O_HkvLgAhXRfXAKHUxqBywQjBAIHTAC&amp;usg=AOvVaw1-Mb0eHpDnxUTxwyDEF3bn\">\n",
      "  2. 파이썬 인터프리터 사용하기\n",
      " </a>\n",
      "</h3>\n",
      "\n"
     ]
    }
   ],
   "source": [
    "url = \"http://www.google.com/search\"\n",
    "param = {\"q\":\"파이썬 자습서\"}\n",
    "\n",
    "html = getDownload(url, param)\n",
    "dom = BeautifulSoup(html.text, \"lxml\")\n",
    "\n",
    "for tag in dom.find_all(\"\", {\"class\":\"r\"})[:3]:\n",
    "    print(tag.prettify())"
   ]
  },
  {
   "cell_type": "markdown",
   "metadata": {},
   "source": [
    "`<h3 class=\"r\"> 태그 하부에 <a> 태그의 text 부분에 제목이 보입니다.`"
   ]
  },
  {
   "cell_type": "code",
   "execution_count": 51,
   "metadata": {},
   "outputs": [
    {
     "name": "stdout",
     "output_type": "stream",
     "text": [
      "파이썬 자습서 — Python 3.7.2 documentation\n",
      "1. 입맛 돋우기\n",
      "2. 파이썬 인터프리터 사용하기\n",
      "프로그래머가 아닌 이들을 위한 파이썬 3 자습서 - 위키책\n",
      "byte of python(한국어판 PDF) - SourceForge\n",
      "파이썬 강좌 및 유용한 사이트 모음 : 네이버 블로그\n",
      "Visual Studio 자습서 1단계의 Python 프로젝트 만들기 | Microsoft Docs\n",
      "Python | 자습서, API, SDK, 설명서 | AWS 개발자 센터 - Amazon.com\n",
      "무료 파이썬 자습서, eBook 및 전자책 - Blue Breeze\n",
      "[리뷰] 파이썬 코딩 도장 - 브런치\n",
      "파이썬 정복: 파이썬 개발에 필요한 기본 지식을 모두 담은 파이썬 입문서 - Google 도서 검색결과\n"
     ]
    }
   ],
   "source": [
    "for tag in dom.find_all(\"\", {\"class\":\"r\"}):\n",
    "    print(tag.find().text)"
   ]
  },
  {
   "cell_type": "markdown",
   "metadata": {},
   "source": [
    "브라우저의 검색된 결과와 비교해보면, 검색 링크가 있는 모든 제목이 출력되었습니다."
   ]
  },
  {
   "cell_type": "markdown",
   "metadata": {},
   "source": [
    "### 학습 차원에서 DOM Tree를 위에서 부터 차례로 탐색해봅니다. (숙제)"
   ]
  },
  {
   "cell_type": "markdown",
   "metadata": {},
   "source": [
    "이번에는 브라우저 검색결과에 의존하지 않고, DOM Tree를 탐색하는 방법을 고민해보겠습니다.\n",
    "\n",
    "tag 명칭과 클래스/ID를 추출해서 dom tree를 출력해주는 함수를 만들어 사용하면 좋을 듯 합니다.\n",
    "\n",
    "전체 tree를 그려보고, 특정 문자열이 포함된 tag를 찾은 후 부모 tree를 재구성 해서 비교하면 ... 탐색을 자동화 하는 것도 가능하지 않은지???"
   ]
  },
  {
   "cell_type": "code",
   "execution_count": 55,
   "metadata": {},
   "outputs": [],
   "source": [
    "# html의 전체 tag를 recursive 하게 돌면서, 전체 tree를 그려주는 함수 만들기\n"
   ]
  },
  {
   "cell_type": "markdown",
   "metadata": {},
   "source": [
    "### 네이버, 다음 검색결과 추출하기 (숙제)"
   ]
  },
  {
   "cell_type": "code",
   "execution_count": null,
   "metadata": {},
   "outputs": [],
   "source": []
  }
 ],
 "metadata": {
  "kernelspec": {
   "display_name": "Python 3",
   "language": "python",
   "name": "python3"
  },
  "language_info": {
   "codemirror_mode": {
    "name": "ipython",
    "version": 3
   },
   "file_extension": ".py",
   "mimetype": "text/x-python",
   "name": "python",
   "nbconvert_exporter": "python",
   "pygments_lexer": "ipython3",
   "version": "3.6.7"
  },
  "toc": {
   "base_numbering": 1,
   "nav_menu": {},
   "number_sections": false,
   "sideBar": true,
   "skip_h1_title": false,
   "title_cell": "Table of Contents",
   "title_sidebar": "Contents",
   "toc_cell": true,
   "toc_position": {},
   "toc_section_display": true,
   "toc_window_display": false
  }
 },
 "nbformat": 4,
 "nbformat_minor": 2
}
