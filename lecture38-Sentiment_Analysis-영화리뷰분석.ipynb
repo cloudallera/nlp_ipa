{
 "cells": [
  {
   "cell_type": "markdown",
   "metadata": {
    "toc": true
   },
   "source": [
    "<h1>Table of Contents<span class=\"tocSkip\"></span></h1>\n",
    "<div class=\"toc\"><ul class=\"toc-item\"><li><span><a href=\"#Sentiment-Analysis\" data-toc-modified-id=\"Sentiment-Analysis-1\">Sentiment Analysis</a></span><ul class=\"toc-item\"><li><span><a href=\"#감성분석,-감성사전-참고-사이트\" data-toc-modified-id=\"감성분석,-감성사전-참고-사이트-1.1\">감성분석, 감성사전 참고 사이트</a></span></li><li><span><a href=\"#PMI(Pointwise-Mutual-Information)\" data-toc-modified-id=\"PMI(Pointwise-Mutual-Information)-1.2\">PMI(Pointwise Mutual Information)</a></span></li><li><span><a href=\"#영화-리뷰-데이터-수집\" data-toc-modified-id=\"영화-리뷰-데이터-수집-1.3\">영화 리뷰 데이터 수집</a></span><ul class=\"toc-item\"><li><span><a href=\"#영화-리뷰-Scraping-하기(1페이지-스크래핑-하기)\" data-toc-modified-id=\"영화-리뷰-Scraping-하기(1페이지-스크래핑-하기)-1.3.1\">영화 리뷰 Scraping 하기(1페이지 스크래핑 하기)</a></span></li><li><span><a href=\"#영화-리뷰-Scraping-하기-(함수-이용)\" data-toc-modified-id=\"영화-리뷰-Scraping-하기-(함수-이용)-1.3.2\">영화 리뷰 Scraping 하기 (함수 이용)</a></span></li><li><span><a href=\"#CSV로-저장하기(pandas-이용-=&gt;-특수-문자-처리를-고민하지-않아도-됨)\" data-toc-modified-id=\"CSV로-저장하기(pandas-이용-=>-특수-문자-처리를-고민하지-않아도-됨)-1.3.3\">CSV로 저장하기(pandas 이용 =&gt; 특수 문자 처리를 고민하지 않아도 됨)</a></span></li><li><span><a href=\"#CSV-파일-읽어오기(pandas-이용)\" data-toc-modified-id=\"CSV-파일-읽어오기(pandas-이용)-1.3.4\">CSV 파일 읽어오기(pandas 이용)</a></span></li><li><span><a href=\"#CSV-파일-읽어오기(csv.reader-이용)\" data-toc-modified-id=\"CSV-파일-읽어오기(csv.reader-이용)-1.3.5\">CSV 파일 읽어오기(csv.reader 이용)</a></span></li></ul></li><li><span><a href=\"#주관성/객관성-탐지(Subjectivity/Objectivity-Detection)\" data-toc-modified-id=\"주관성/객관성-탐지(Subjectivity/Objectivity-Detection)-1.4\">주관성/객관성 탐지(Subjectivity/Objectivity Detection)</a></span></li><li><span><a href=\"#극성-탐지(Polarity-Detection)\" data-toc-modified-id=\"극성-탐지(Polarity-Detection)-1.5\">극성 탐지(Polarity Detection)</a></span><ul class=\"toc-item\"><li><span><a href=\"#Baseline-Algorithm\" data-toc-modified-id=\"Baseline-Algorithm-1.5.1\">Baseline Algorithm</a></span></li></ul></li></ul></li></ul></div>"
   ]
  },
  {
   "cell_type": "markdown",
   "metadata": {},
   "source": [
    "## Sentiment Analysis"
   ]
  },
  {
   "cell_type": "markdown",
   "metadata": {},
   "source": [
    "- Opinion Extraction\n",
    "- Opinion Mining\n",
    "- Sentiment Mining\n",
    "- Subjectivity Analysis"
   ]
  },
  {
   "cell_type": "markdown",
   "metadata": {},
   "source": [
    "- **Sentiment** (의견, 의향, 생각, 감상, 소감, 감정, 심정) : 진정한 감정 => emotion, feeling, ... 등과는 다름\n",
    "    - basic emotion(Ekman, 1975) : happiness, sadness, fear, anger, surprise, disgust\n",
    "    - 심리학적으로 감수성. 우리의 5관(五官)이 외계로부터 자극을 받고 그에 반응하는 정도나 강도(強度)\n",
    "    - 칸트의 지식론(인식론)에서는 외부로부터의 모든 감각적 자극을 받아들여, 지금 여기서라든가 아까 거기서라는 식으로 시간적·공간적으로 정리하는 능력. <br>\n",
    "       감성은 이렇게 정리한 것을 생각하는 힘인 '지성(知性)'에 소재로서 제공된다.\n",
    "    - 칸트의 도덕론에서의 감성은 욕구 또는 본능을 가리키며, 그것은 이성에 의해 억제될 수 있다고 한다."
   ]
  },
  {
   "cell_type": "markdown",
   "metadata": {},
   "source": [
    "- **Sentiment Analysis** : 텍스트에 나타난 사람들의 태도, 의견, 성향과 같은 주관적 인 데이터를 분석하는 자연어 처리 기술이다\n",
    "    - Machine Learning vs. Lexicon based Approach\n",
    "    - Machine Learning : SVM, Neural Network, Naive Bayes, Bayesian Network, Maximum Entropy, ...\n",
    "    - Lexicon based Approach : Manual/Dictionary Based(집단지성) vs. Corpus Based(Statistical vs. Sentimentic) Approach <br>\n",
    "       => 예제에서는 Seed Word를 이용해서 corpus based로 생성된 dictionary를 manual하게 보정하는 방식 사용 예정"
   ]
  },
  {
   "cell_type": "markdown",
   "metadata": {},
   "source": [
    "- 주관적인 감성과 객관적인 감성(subjectivity + objectivity)을 동시에 고려 필요 => 일반적으로, subjectivity 만 고려\n",
    "- 단어의 의미나 감성은 지속적으로 변할 수 있음 : 지속적인 업데이트 필요"
   ]
  },
  {
   "cell_type": "markdown",
   "metadata": {},
   "source": [
    "### 감성분석, 감성사전 참고 사이트"
   ]
  },
  {
   "cell_type": "markdown",
   "metadata": {},
   "source": [
    "- 한국어 감성사전\n",
    "    - http://dilab.kunsan.ac.kr/knusl.html\n",
    "    - http://word.snu.ac.kr/kosac/\n",
    "    - http://api.openhangul.com/dic (http://api.openhangul.com/overview?m=sentiment)\n",
    "    \n",
    "- 한국어 감성분석기 샘플\n",
    "    - https://github.com/mrlee23/KoreanSentimentAnalyzer\n",
    "    - https://github.com/drexly/openhgsenti\n",
    "    \n",
    "- 영어 감성사전 : http://sentiwordnet.isti.cnr.it"
   ]
  },
  {
   "cell_type": "markdown",
   "metadata": {},
   "source": [
    "### PMI(Pointwise Mutual Information)"
   ]
  },
  {
   "cell_type": "markdown",
   "metadata": {},
   "source": [
    "$\\large \\operatorname {PMI} (x;y)\\equiv \\log {\\Large \\frac {P(x,y)}{P(x)P(y)}}=\\log {\\Large \\frac {p(x|y)}{p(x)}}=\\log {\\Large \\frac {p(y|x)}{p(y)}}$\n",
    "\n",
    "\n",
    "- PMI 측정값은 대칭 입니다 : $\\operatorname {pmi} (x;y)=\\operatorname {pmi} (y;x)$ \n",
    "- 양수 또는 음수 값을 가질 수 있지만 X와 Y가 독립적 인 경우에는 0입니다. \n",
    "- PMI는 X와 Y가 완벽하게 연관 될 때 최대화되며, 다음의 범위 값을 가집니다.\n",
    "    \n",
    "    $-\\infty \\, \\leq \\, \\operatorname {pmi} (x;y) \\, \\leq \\, \\min \\left(-\\log p(x),-\\log p(y)\\right)$\n",
    "\n",
    "\n",
    "- https://en.wikipedia.org/wiki/Pointwise_mutual_information"
   ]
  },
  {
   "cell_type": "markdown",
   "metadata": {},
   "source": [
    "### 영화 리뷰 데이터 수집"
   ]
  },
  {
   "cell_type": "markdown",
   "metadata": {},
   "source": [
    "- naver 영화 리뷰 데이터 수집(개봉후 평점) : https://movie.naver.com/movie/point/af/list.nhn?&page=1 (1000페이지까지 수집) <br>\n",
    "   => 영화제목, 평점, 리뷰, 날자 <br>\n",
    "   => csv로 저장 시 \",\"를 \" \"로 대체 후 저장"
   ]
  },
  {
   "cell_type": "markdown",
   "metadata": {},
   "source": [
    "- 수집된 데이터는 ‘감정’과는 관련이 없는 자료도 있기 때문에 필요한 자료만을 추출하는 주관성 탐지 작업이 필요\n",
    "- 대개 인터넷 자료는 비형식적, 비문법적 자료가 많기 때 문에 이를 처리할수 있는 전처리 작업이 필요"
   ]
  },
  {
   "cell_type": "markdown",
   "metadata": {
    "heading_collapsed": true
   },
   "source": [
    "#### 영화 리뷰 Scraping 하기(1페이지 스크래핑 하기)"
   ]
  },
  {
   "cell_type": "code",
   "execution_count": 1,
   "metadata": {
    "hidden": true
   },
   "outputs": [],
   "source": [
    "url = \"https://movie.naver.com/movie/point/af/list.nhn?\"\n",
    "param = {\n",
    "    \"page\":1\n",
    "}"
   ]
  },
  {
   "cell_type": "code",
   "execution_count": 4,
   "metadata": {
    "hidden": true
   },
   "outputs": [],
   "source": [
    "from functions.download import get_download\n",
    "from bs4 import BeautifulSoup"
   ]
  },
  {
   "cell_type": "code",
   "execution_count": 18,
   "metadata": {
    "hidden": true
   },
   "outputs": [],
   "source": [
    "html = get_download(url, params=param)"
   ]
  },
  {
   "cell_type": "code",
   "execution_count": 19,
   "metadata": {
    "hidden": true
   },
   "outputs": [],
   "source": [
    "dom = BeautifulSoup(html.text, \"html.parser\")"
   ]
  },
  {
   "cell_type": "code",
   "execution_count": 20,
   "metadata": {
    "hidden": true
   },
   "outputs": [],
   "source": [
    "tags = dom.select(\".list_netizen tbody tr\")"
   ]
  },
  {
   "cell_type": "code",
   "execution_count": 101,
   "metadata": {
    "hidden": true
   },
   "outputs": [
    {
     "name": "stdout",
     "output_type": "stream",
     "text": [
      "노무현과 바보들\n",
      "나는 내일, 어제의 너와 만난다\n",
      "유랑지구\n",
      "클래식\n",
      "샤잠!\n",
      "미성년\n",
      "돈\n",
      "아쿠아맨\n",
      "내 이야기!!\n",
      "캡틴 마블\n"
     ]
    }
   ],
   "source": [
    "# title\n",
    "for tag in tags:\n",
    "    print(tag.select_one(\".title a\").text.strip())"
   ]
  },
  {
   "cell_type": "code",
   "execution_count": 102,
   "metadata": {
    "hidden": true
   },
   "outputs": [
    {
     "name": "stdout",
     "output_type": "stream",
     "text": [
      "10\n",
      "10\n",
      "10\n",
      "10\n",
      "8\n",
      "10\n",
      "7\n",
      "9\n",
      "10\n",
      "10\n"
     ]
    }
   ],
   "source": [
    "# point\n",
    "for tag in tags:\n",
    "    print(tag.select_one(\".point\").text.strip())"
   ]
  },
  {
   "cell_type": "code",
   "execution_count": 69,
   "metadata": {
    "hidden": true
   },
   "outputs": [
    {
     "name": "stdout",
     "output_type": "stream",
     "text": [
      "존경하는 대통령을 갖게 해 주신 분!!! 감사합니다~~~\n",
      "최고 그 이상의 영화로 평가된다\n",
      "말이 필요 없습니다 우주 영화 좋아하면 꼭 봐야 될 영화\n",
      "장현의 미련이 적절히 조명된 가슴아프게한 영화.\n",
      "오락 영화로는 좋았지만 엔딩 싸움씬이 너무 유치함\n",
      "감정선이 대박이고.. 염정아분 울 때 같이 울었네요..ㅠㅠ넘 재밌었어요\n",
      "그냥저냥 볼만합니다....\n",
      "바다를 상징하는 히어로물은 아쿠아맨이 처음인거같은데 그거에 비해서 퀄리티나 스케일이나 넘 눈호강이였음 다만 후반에 유치함이 조금 들어나는듯\n",
      "고구마100개 그리고 나가노 메이(사이다) 또 고구마 100개 그리고 또 나가노 메이(1.5리토 사이다) 결론 나가노 메이는 정답이다\n",
      "빨리 어벤져스 앤드게임을 보고싶다\n"
     ]
    }
   ],
   "source": [
    "# review data\n",
    "for tag in tags:\n",
    "    print(tag.select_one(\".title\").contents[4].strip())"
   ]
  },
  {
   "cell_type": "code",
   "execution_count": 70,
   "metadata": {
    "hidden": true
   },
   "outputs": [
    {
     "name": "stdout",
     "output_type": "stream",
     "text": [
      "19.04.23\n",
      "19.04.23\n",
      "19.04.23\n",
      "19.04.23\n",
      "19.04.23\n",
      "19.04.23\n",
      "19.04.23\n",
      "19.04.23\n",
      "19.04.23\n",
      "19.04.23\n"
     ]
    }
   ],
   "source": [
    "# 날자\n",
    "for tag in tags:\n",
    "    print(tag.select_one(\".author\").next_sibling.next_sibling.strip())"
   ]
  },
  {
   "cell_type": "markdown",
   "metadata": {
    "heading_collapsed": true
   },
   "source": [
    "#### 영화 리뷰 Scraping 하기 (함수 이용)"
   ]
  },
  {
   "cell_type": "code",
   "execution_count": 1,
   "metadata": {
    "hidden": true
   },
   "outputs": [],
   "source": [
    "from functions.naver import MovieReview"
   ]
  },
  {
   "cell_type": "code",
   "execution_count": 2,
   "metadata": {
    "hidden": true
   },
   "outputs": [],
   "source": [
    "import pandas as pd"
   ]
  },
  {
   "cell_type": "code",
   "execution_count": 3,
   "metadata": {
    "hidden": true
   },
   "outputs": [],
   "source": [
    "movie = MovieReview()"
   ]
  },
  {
   "cell_type": "code",
   "execution_count": 4,
   "metadata": {
    "hidden": true
   },
   "outputs": [
    {
     "name": "stdout",
     "output_type": "stream",
     "text": [
      "100 pages scrapped\n",
      "200 pages scrapped\n",
      "300 pages scrapped\n",
      "400 pages scrapped\n",
      "500 pages scrapped\n",
      "600 pages scrapped\n",
      "700 pages scrapped\n",
      "800 pages scrapped\n",
      "900 pages scrapped\n",
      "1000 pages scrapped\n"
     ]
    }
   ],
   "source": [
    "movie_review = movie.scraping(max_page=1000)      # max_page는 최대 1000 (페이지당 10개 리뷰)"
   ]
  },
  {
   "cell_type": "code",
   "execution_count": 5,
   "metadata": {
    "hidden": true
   },
   "outputs": [
    {
     "data": {
      "text/plain": [
       "10000"
      ]
     },
     "execution_count": 5,
     "metadata": {},
     "output_type": "execute_result"
    }
   ],
   "source": [
    "len(movie_review)"
   ]
  },
  {
   "cell_type": "code",
   "execution_count": 7,
   "metadata": {
    "hidden": true,
    "scrolled": false
   },
   "outputs": [
    {
     "data": {
      "text/plain": [
       "[['어벤져스: 엔드게임', '10', '19.04.24', '3000만큼,재밌었다'],\n",
       " ['어벤져스: 엔드게임',\n",
       "  '10',\n",
       "  '19.04.24',\n",
       "  '이런 영화를 볼 수 있게 해주셔서 감사합니다...마지막에 가서는 계속 눈물이 나게 만드네요 역시 마블 이제 못보는 영웅들이 많네요...엔딩크레딧을 보며 먹먹했습니다 두세번 더 보고싶네요'],\n",
       " ['어벤져스: 엔드게임', '10', '19.04.24', '가장 완벽한 결말이엇다.'],\n",
       " ['어벤져스: 엔드게임',\n",
       "  '10',\n",
       "  '19.04.24',\n",
       "  '10년 넘은 마블영화의 완전판!! 장대한 끝은 뒤로하고 새로운 시작을 알린다'],\n",
       " ['어벤져스: 엔드게임',\n",
       "  '10',\n",
       "  '19.04.24',\n",
       "  '양자영역을 이용하여 어벤져스 맴버들이스톤을 모으는 내용입니다.블랙위도우 사망 소중한걸 희생해야얻을수있는 스톤 호크아이가 죽으려했지만 블랙위도우가 대신 죽습니다.']]"
      ]
     },
     "execution_count": 7,
     "metadata": {},
     "output_type": "execute_result"
    }
   ],
   "source": [
    "movie_review[:5]"
   ]
  },
  {
   "cell_type": "markdown",
   "metadata": {
    "heading_collapsed": true
   },
   "source": [
    "#### CSV로 저장하기(pandas 이용 => 특수 문자 처리를 고민하지 않아도 됨)"
   ]
  },
  {
   "cell_type": "code",
   "execution_count": 8,
   "metadata": {
    "hidden": true
   },
   "outputs": [],
   "source": [
    "df = pd.DataFrame(movie_review, columns=[\"title\", \"point\", \"date\", \"review\"])"
   ]
  },
  {
   "cell_type": "code",
   "execution_count": 9,
   "metadata": {
    "hidden": true
   },
   "outputs": [],
   "source": [
    "df.to_csv(\"movie_reviewe.csv\", header=True, index=False)    # 첫번째 행에 제목 추가"
   ]
  },
  {
   "cell_type": "markdown",
   "metadata": {},
   "source": [
    "#### CSV 파일 읽어오기(pandas 이용)"
   ]
  },
  {
   "cell_type": "code",
   "execution_count": 4,
   "metadata": {},
   "outputs": [],
   "source": [
    "movie_df = pd.read_csv(\"movie_reviewe.csv\")"
   ]
  },
  {
   "cell_type": "code",
   "execution_count": 5,
   "metadata": {
    "scrolled": true
   },
   "outputs": [
    {
     "data": {
      "text/html": [
       "<div>\n",
       "<style scoped>\n",
       "    .dataframe tbody tr th:only-of-type {\n",
       "        vertical-align: middle;\n",
       "    }\n",
       "\n",
       "    .dataframe tbody tr th {\n",
       "        vertical-align: top;\n",
       "    }\n",
       "\n",
       "    .dataframe thead th {\n",
       "        text-align: right;\n",
       "    }\n",
       "</style>\n",
       "<table border=\"1\" class=\"dataframe\">\n",
       "  <thead>\n",
       "    <tr style=\"text-align: right;\">\n",
       "      <th></th>\n",
       "      <th>title</th>\n",
       "      <th>point</th>\n",
       "      <th>date</th>\n",
       "      <th>review</th>\n",
       "    </tr>\n",
       "  </thead>\n",
       "  <tbody>\n",
       "    <tr>\n",
       "      <th>0</th>\n",
       "      <td>어벤져스: 엔드게임</td>\n",
       "      <td>10</td>\n",
       "      <td>19.04.24</td>\n",
       "      <td>3000만큼,재밌었다</td>\n",
       "    </tr>\n",
       "    <tr>\n",
       "      <th>1</th>\n",
       "      <td>어벤져스: 엔드게임</td>\n",
       "      <td>10</td>\n",
       "      <td>19.04.24</td>\n",
       "      <td>이런 영화를 볼 수 있게 해주셔서 감사합니다...마지막에 가서는 계속 눈물이 나게 ...</td>\n",
       "    </tr>\n",
       "    <tr>\n",
       "      <th>2</th>\n",
       "      <td>어벤져스: 엔드게임</td>\n",
       "      <td>10</td>\n",
       "      <td>19.04.24</td>\n",
       "      <td>가장 완벽한 결말이엇다.</td>\n",
       "    </tr>\n",
       "    <tr>\n",
       "      <th>3</th>\n",
       "      <td>어벤져스: 엔드게임</td>\n",
       "      <td>10</td>\n",
       "      <td>19.04.24</td>\n",
       "      <td>10년 넘은 마블영화의 완전판!! 장대한 끝은 뒤로하고 새로운 시작을 알린다</td>\n",
       "    </tr>\n",
       "    <tr>\n",
       "      <th>4</th>\n",
       "      <td>어벤져스: 엔드게임</td>\n",
       "      <td>10</td>\n",
       "      <td>19.04.24</td>\n",
       "      <td>양자영역을 이용하여 어벤져스 맴버들이스톤을 모으는 내용입니다.블랙위도우 사망 소중한...</td>\n",
       "    </tr>\n",
       "  </tbody>\n",
       "</table>\n",
       "</div>"
      ],
      "text/plain": [
       "        title  point      date  \\\n",
       "0  어벤져스: 엔드게임     10  19.04.24   \n",
       "1  어벤져스: 엔드게임     10  19.04.24   \n",
       "2  어벤져스: 엔드게임     10  19.04.24   \n",
       "3  어벤져스: 엔드게임     10  19.04.24   \n",
       "4  어벤져스: 엔드게임     10  19.04.24   \n",
       "\n",
       "                                              review  \n",
       "0                                        3000만큼,재밌었다  \n",
       "1  이런 영화를 볼 수 있게 해주셔서 감사합니다...마지막에 가서는 계속 눈물이 나게 ...  \n",
       "2                                      가장 완벽한 결말이엇다.  \n",
       "3         10년 넘은 마블영화의 완전판!! 장대한 끝은 뒤로하고 새로운 시작을 알린다  \n",
       "4  양자영역을 이용하여 어벤져스 맴버들이스톤을 모으는 내용입니다.블랙위도우 사망 소중한...  "
      ]
     },
     "execution_count": 5,
     "metadata": {},
     "output_type": "execute_result"
    }
   ],
   "source": [
    "movie_df.head()"
   ]
  },
  {
   "cell_type": "markdown",
   "metadata": {},
   "source": [
    "#### CSV 파일 읽어오기(csv.reader 이용)"
   ]
  },
  {
   "cell_type": "code",
   "execution_count": 6,
   "metadata": {},
   "outputs": [],
   "source": [
    "import csv\n",
    "movie_csv = list()\n",
    " \n",
    "with open('movie_reviewe.csv', 'r', encoding='utf-8') as f:\n",
    "    rdr = csv.reader(f)\n",
    "    for line in rdr:\n",
    "        movie_csv.append(line)\n",
    "\n",
    "movie_csv = movie_csv[1:]    # 첫번째 행에 있는 제목 제외"
   ]
  },
  {
   "cell_type": "code",
   "execution_count": 7,
   "metadata": {
    "scrolled": true
   },
   "outputs": [
    {
     "data": {
      "text/plain": [
       "[['어벤져스: 엔드게임', '10', '19.04.24', '3000만큼,재밌었다'],\n",
       " ['어벤져스: 엔드게임',\n",
       "  '10',\n",
       "  '19.04.24',\n",
       "  '이런 영화를 볼 수 있게 해주셔서 감사합니다...마지막에 가서는 계속 눈물이 나게 만드네요 역시 마블 이제 못보는 영웅들이 많네요...엔딩크레딧을 보며 먹먹했습니다 두세번 더 보고싶네요'],\n",
       " ['어벤져스: 엔드게임', '10', '19.04.24', '가장 완벽한 결말이엇다.'],\n",
       " ['어벤져스: 엔드게임',\n",
       "  '10',\n",
       "  '19.04.24',\n",
       "  '10년 넘은 마블영화의 완전판!! 장대한 끝은 뒤로하고 새로운 시작을 알린다'],\n",
       " ['어벤져스: 엔드게임',\n",
       "  '10',\n",
       "  '19.04.24',\n",
       "  '양자영역을 이용하여 어벤져스 맴버들이스톤을 모으는 내용입니다.블랙위도우 사망 소중한걸 희생해야얻을수있는 스톤 호크아이가 죽으려했지만 블랙위도우가 대신 죽습니다.']]"
      ]
     },
     "execution_count": 7,
     "metadata": {},
     "output_type": "execute_result"
    }
   ],
   "source": [
    "movie_csv[:5]"
   ]
  },
  {
   "cell_type": "markdown",
   "metadata": {},
   "source": [
    "### 주관성/객관성 탐지(Subjectivity/Objectivity Detection)"
   ]
  },
  {
   "cell_type": "markdown",
   "metadata": {},
   "source": [
    "- 감정, 의견이 드러나 있는 주관적/객관적 자료 정제\n",
    "- 긍정, 부정, 중립, 객관 등의 지표 사용"
   ]
  },
  {
   "cell_type": "code",
   "execution_count": null,
   "metadata": {},
   "outputs": [],
   "source": []
  },
  {
   "cell_type": "code",
   "execution_count": null,
   "metadata": {},
   "outputs": [],
   "source": []
  },
  {
   "cell_type": "code",
   "execution_count": null,
   "metadata": {},
   "outputs": [],
   "source": []
  },
  {
   "cell_type": "markdown",
   "metadata": {},
   "source": [
    "### 극성 탐지(Polarity Detection)"
   ]
  },
  {
   "cell_type": "markdown",
   "metadata": {},
   "source": [
    "- 자료가 긍정인지 부정인지 파악\n",
    "- 보통은 극성어휘에 바탕을 둔 단순한 연산 작업\n",
    "- 문서단위, 문장단위, 속성 단위의 극성분석\n",
    "- 기계학습(Machine Learning)을 이용한 학습"
   ]
  },
  {
   "cell_type": "code",
   "execution_count": null,
   "metadata": {},
   "outputs": [],
   "source": []
  },
  {
   "cell_type": "code",
   "execution_count": null,
   "metadata": {},
   "outputs": [],
   "source": []
  },
  {
   "cell_type": "code",
   "execution_count": null,
   "metadata": {},
   "outputs": [],
   "source": []
  },
  {
   "cell_type": "markdown",
   "metadata": {},
   "source": [
    "#### Baseline Algorithm"
   ]
  },
  {
   "cell_type": "markdown",
   "metadata": {},
   "source": [
    "- Tokenization\n",
    "- Feature Extraction\n",
    "- Classification using different classifiers : Naïve Bayes, Maximum Entropy, SVM\n",
    "- Deep Learning : Word2Vec, ..."
   ]
  },
  {
   "cell_type": "code",
   "execution_count": null,
   "metadata": {},
   "outputs": [],
   "source": []
  },
  {
   "cell_type": "code",
   "execution_count": null,
   "metadata": {},
   "outputs": [],
   "source": []
  },
  {
   "cell_type": "code",
   "execution_count": null,
   "metadata": {},
   "outputs": [],
   "source": []
  }
 ],
 "metadata": {
  "kernelspec": {
   "display_name": "Python 3",
   "language": "python",
   "name": "python3"
  },
  "language_info": {
   "codemirror_mode": {
    "name": "ipython",
    "version": 3
   },
   "file_extension": ".py",
   "mimetype": "text/x-python",
   "name": "python",
   "nbconvert_exporter": "python",
   "pygments_lexer": "ipython3",
   "version": "3.7.1"
  },
  "latex_envs": {
   "LaTeX_envs_menu_present": true,
   "autoclose": false,
   "autocomplete": true,
   "bibliofile": "biblio.bib",
   "cite_by": "apalike",
   "current_citInitial": 1,
   "eqLabelWithNumbers": true,
   "eqNumInitial": 1,
   "hotkeys": {
    "equation": "Ctrl-E",
    "itemize": "Ctrl-I"
   },
   "labels_anchors": false,
   "latex_user_defs": false,
   "report_style_numbering": false,
   "user_envs_cfg": false
  },
  "toc": {
   "base_numbering": 1,
   "nav_menu": {},
   "number_sections": false,
   "sideBar": true,
   "skip_h1_title": false,
   "title_cell": "Table of Contents",
   "title_sidebar": "Contents",
   "toc_cell": true,
   "toc_position": {},
   "toc_section_display": true,
   "toc_window_display": false
  }
 },
 "nbformat": 4,
 "nbformat_minor": 2
}
