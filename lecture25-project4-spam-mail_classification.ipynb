{
 "cells": [
  {
   "cell_type": "markdown",
   "metadata": {
    "toc": true
   },
   "source": [
    "<h1>Table of Contents<span class=\"tocSkip\"></span></h1>\n",
    "<div class=\"toc\"><ul class=\"toc-item\"><li><span><a href=\"#프로젝트4-:-스팸-메일-분류\" data-toc-modified-id=\"프로젝트4-:-스팸-메일-분류-1\">프로젝트4 : 스팸 메일 분류</a></span><ul class=\"toc-item\"><li><span><a href=\"#과제-정의\" data-toc-modified-id=\"과제-정의-1.1\">과제 정의</a></span><ul class=\"toc-item\"><li><span><a href=\"#[스팸-수집]\" data-toc-modified-id=\"[스팸-수집]-1.1.1\">[스팸 수집]</a></span></li><li><span><a href=\"#[학습]\" data-toc-modified-id=\"[학습]-1.1.2\">[학습]</a></span></li><li><span><a href=\"#[분류]-=&gt;-kNN\" data-toc-modified-id=\"[분류]-=>-kNN-1.1.3\">[분류] =&gt; kNN</a></span></li><li><span><a href=\"#[kNN-문서분류를-Naive-Bayes로-변경하여-분류기-만들기]\" data-toc-modified-id=\"[kNN-문서분류를-Naive-Bayes로-변경하여-분류기-만들기]-1.1.4\">[kNN 문서분류를 Naive Bayes로 변경하여 분류기 만들기]</a></span></li></ul></li><li><span><a href=\"#문제-풀이\" data-toc-modified-id=\"문제-풀이-1.2\">문제 풀이</a></span><ul class=\"toc-item\"><li><span><a href=\"#사후-확률-공식\" data-toc-modified-id=\"사후-확률-공식-1.2.1\">사후 확률 공식</a></span></li><li><span><a href=\"#패키지-import\" data-toc-modified-id=\"패키지-import-1.2.2\">패키지 import</a></span></li><li><span><a href=\"#스팸/정상-메일-수집\" data-toc-modified-id=\"스팸/정상-메일-수집-1.2.3\">스팸/정상 메일 수집</a></span><ul class=\"toc-item\"><li><span><a href=\"#gmail-로그인,-세션-저장하기\" data-toc-modified-id=\"gmail-로그인,-세션-저장하기-1.2.3.1\">gmail 로그인, 세션 저장하기</a></span></li><li><span><a href=\"#gmail-정상-메일-리스트-가져오기\" data-toc-modified-id=\"gmail-정상-메일-리스트-가져오기-1.2.3.2\">gmail 정상 메일 리스트 가져오기</a></span></li><li><span><a href=\"#gamil-spam-리스트-가져오기\" data-toc-modified-id=\"gamil-spam-리스트-가져오기-1.2.3.3\">gamil spam 리스트 가져오기</a></span></li><li><span><a href=\"#naver-로그인,-세션(쿠기)-정보-가져오기\" data-toc-modified-id=\"naver-로그인,-세션(쿠기)-정보-가져오기-1.2.3.4\">naver 로그인, 세션(쿠기) 정보 가져오기</a></span></li><li><span><a href=\"#naver-정상-mail-리스트-가져오기\" data-toc-modified-id=\"naver-정상-mail-리스트-가져오기-1.2.3.5\">naver 정상 mail 리스트 가져오기</a></span></li><li><span><a href=\"#naver-스팸-메일-리스트-가져오기\" data-toc-modified-id=\"naver-스팸-메일-리스트-가져오기-1.2.3.6\">naver 스팸 메일 리스트 가져오기</a></span></li><li><span><a href=\"#naver,-google-메일-리스트-통합-=&gt;-csv-파일로-저장\" data-toc-modified-id=\"naver,-google-메일-리스트-통합-=>-csv-파일로-저장-1.2.3.7\">naver, google 메일 리스트 통합 =&gt; csv 파일로 저장</a></span></li></ul></li><li><span><a href=\"#학습\" data-toc-modified-id=\"학습-1.2.4\">학습</a></span><ul class=\"toc-item\"><li><span><a href=\"#학습-데이터-읽어오기\" data-toc-modified-id=\"학습-데이터-읽어오기-1.2.4.1\">학습 데이터 읽어오기</a></span></li><li><span><a href=\"#prior(사전-확률)-계산\" data-toc-modified-id=\"prior(사전-확률)-계산-1.2.4.2\">prior(사전 확률) 계산</a></span></li><li><span><a href=\"#전처리,-단어-빈도-계산\" data-toc-modified-id=\"전처리,-단어-빈도-계산-1.2.4.3\">전처리, 단어 빈도 계산</a></span></li><li><span><a href=\"#조건부확률-계산\" data-toc-modified-id=\"조건부확률-계산-1.2.4.4\">조건부확률 계산</a></span></li></ul></li><li><span><a href=\"#분류\" data-toc-modified-id=\"분류-1.2.5\">분류</a></span><ul class=\"toc-item\"><li><span><a href=\"#Naive-Bayes\" data-toc-modified-id=\"Naive-Bayes-1.2.5.1\">Naive Bayes</a></span></li><li><span><a href=\"#kNN\" data-toc-modified-id=\"kNN-1.2.5.2\">kNN</a></span></li></ul></li><li><span><a href=\"#성능-평가\" data-toc-modified-id=\"성능-평가-1.2.6\">성능 평가</a></span></li></ul></li></ul></li></ul></div>"
   ]
  },
  {
   "cell_type": "markdown",
   "metadata": {},
   "source": [
    "# 프로젝트4 : 스팸 메일 분류"
   ]
  },
  {
   "cell_type": "markdown",
   "metadata": {},
   "source": [
    "## 과제 정의"
   ]
  },
  {
   "cell_type": "markdown",
   "metadata": {},
   "source": [
    "### [스팸 수집]"
   ]
  },
  {
   "cell_type": "markdown",
   "metadata": {},
   "source": [
    "- selenium 이용 로그린 - 쿠키 생성\n",
    "- requests.Session 객체에 쿠키 전달\n",
    "- 쿠키 이용하여 메일(제목) 스크래핑"
   ]
  },
  {
   "cell_type": "markdown",
   "metadata": {},
   "source": [
    "### [학습]"
   ]
  },
  {
   "cell_type": "markdown",
   "metadata": {},
   "source": [
    "- 클래스 별(스팸, 정상) 문서 구분\n",
    "- 각 문서 내 단어(전처리-색인어 추출) 빈도 계산\n",
    "- N(문서갯수), Nc(클래스 별 문서 갯수)를 이용한 클래스의 사전 확률 계산\n",
    "- 문서 단어(V)에 대한 각 Nc 내 단어(Tc)의 조건부확률 계산"
   ]
  },
  {
   "cell_type": "markdown",
   "metadata": {},
   "source": [
    "### [분류] => kNN"
   ]
  },
  {
   "cell_type": "markdown",
   "metadata": {},
   "source": [
    "- 스팸 : \"(광고) 신용걱정 끝! 최저금리와 높은승인률로 '최대8천만원'까지 믿음직한 서민신용대출!!\"\n",
    "- 스팸 : \"200% 정품 비아그라 시알리스 / 온라인 최저가 판매 / 정품아닐시 200% 보상\"\n",
    "- 정상 : \"고객님, 주문이 접수되었습니다.\"\n",
    "- 정상 : \"예비군 훈련 안내문\"\n",
    "- 위의 예시 처럼, 스팸과 정상 메일에 대한 분류 성능 테스트\n",
    "- 대상 메일 내 단어 추출\n",
    "- 단어 별 학습된 조건부확률과 클래스별 사전 확률의 log 합을 구해 판단"
   ]
  },
  {
   "cell_type": "markdown",
   "metadata": {},
   "source": [
    "### [kNN 문서분류를 Naive Bayes로 변경하여 분류기 만들기]"
   ]
  },
  {
   "cell_type": "markdown",
   "metadata": {},
   "source": [
    "- 위의 kNN 분류 과정을 Naive Bayes로 구현"
   ]
  },
  {
   "cell_type": "markdown",
   "metadata": {},
   "source": [
    "## 문제 풀이"
   ]
  },
  {
   "cell_type": "markdown",
   "metadata": {},
   "source": [
    "### 사후 확률 공식"
   ]
  },
  {
   "cell_type": "markdown",
   "metadata": {},
   "source": [
    "나이브 베이즈 분류에서는 클래스 k, 즉 $C_{k}$에 대해서 다음 식을 통해 **최대 확률을 갖는 클래스 k**를 찾아낸다.\n",
    "\n",
    "$\\large {\\hat {y}}={\\underset {k\\in \\{1,\\dots ,K\\}}{\\operatorname {argmax} }}\\ p(C_{k})\\displaystyle \\prod _{i=1}^{n}p(x_{i}\\vert C_{k})$\n",
    "\n",
    "\n",
    "$\\begin{aligned}\n",
    "p(C_{k}\\vert x_{1},\\dots ,x_{n})&\\varpropto p(C_{k},x_{1},\\dots ,x_{n})\\\\&\\varpropto p(C_{k})\\ p(x_{1}\\vert C_{k})\\ p(x_{2}\\vert C_{k})\\ p(x_{3}\\vert C_{k})\\ \\cdots\n",
    "\\end{aligned}$\n",
    "\n",
    "$\\begin{aligned}\n",
    "\\log (p(C_{k}) \\prod _{i=1}^{n}p(x_{i}\\vert C_{k}))& \\varpropto \\log (p(C_{k})\\ p(x_{1}\\vert C_{k})\\ p(x_{2}\\vert C_{k})\\ p(x_{3}\\vert C_{k}))\\ \\cdots \\\\& \\varpropto \\log (p(C_{k})) + \\log (p(x_{1}\\vert C_{k})) + \\log (p(x_{2}\\vert C_{k})) + \\log (p(x_{3}\\vert C_{k}))\\ \\cdots \n",
    "\\end{aligned}$"
   ]
  },
  {
   "cell_type": "markdown",
   "metadata": {},
   "source": [
    "**다항 나이브 베이즈 분류는 로그 공간에서 표현될 때는 다음과 같은 선형 분류기가 된다:**\n",
    "\n",
    "${\\begin{aligned}\\log p(C_{k}|\\mathbf {x} )&\\varpropto \\log \\left(p(C_{k})\\prod _{i=1}^{n}{p_{ki}}^{x_{i}}\\right)\\\\&=\\log p(C_{k})+\\sum _{i=1}^{n}x_{i}\\cdot \\log p_{ki}\\\\&=b+\\mathbf {w} _{k}^{\\top }\\mathbf {x} \\end{aligned}}$\n",
    "\n",
    "(여기서 $b=\\log p(C_{k})$ 그리고 $w_{ki}=\\log p_{ki}$ 이다.)"
   ]
  },
  {
   "cell_type": "markdown",
   "metadata": {},
   "source": [
    "**posterior : 사후 확률, prior : 사전확률, likelihood : 가능도, evidence : 관찰값**,\n",
    "\n",
    "\n",
    "- ${\\mbox{posterior}}={\\frac {{\\mbox{prior}} \\, \\times \\, {\\mbox{likelihood}}}{\\mbox{evidence}}} \\, \\propto \\, {\\mbox{prior}} \\, \\times \\, {\\mbox{likelihood}}$\n",
    "\n",
    "\n",
    "- $\\log({\\mbox{posterior}}) \\, \\propto \\, \\log({\\mbox{prior}}) + \\log({\\mbox{likelihood}})$\n",
    "\n",
    "\n",
    "- **Prior** : $\\LARGE \\frac{N_c}{N}$ <br>\n",
    "    - $N_c$ : number of docs in class c\n",
    "    - $N$: total number of docs \n",
    "\n",
    "\n",
    "- **Conditional probabilities** : $\\LARGE\\frac{T_{ct}+1}{\\Sigma_{t^\\prime} (T_{ct^\\prime}+1)} \\large = \\LARGE \\frac{T_{ct}+1}{(\\Sigma_{t^\\prime} T_{ct^\\prime})+B}$ <br>\n",
    "    - ${T_{ct}}$ is the number of tokens of t in training documents from class c  (includes multiple occurrences) <br>\n",
    "    - $B$ is the number of different words (in this case **the size of the vocabulary**)\n",
    "\n",
    "\n",
    "- $\\large log$**(Posterior)** : $\\large log \\LARGE (\\frac{N_c}{N}) \\large \\, + \\, log \\LARGE (\\frac{T_{ct}+1}{(\\Sigma_{t^\\prime} T_{ct^\\prime})+B})$"
   ]
  },
  {
   "cell_type": "markdown",
   "metadata": {},
   "source": [
    "### 패키지 import"
   ]
  },
  {
   "cell_type": "code",
   "execution_count": 3,
   "metadata": {},
   "outputs": [],
   "source": [
    "import numpy as np\n",
    "import pandas as pd"
   ]
  },
  {
   "cell_type": "code",
   "execution_count": 4,
   "metadata": {},
   "outputs": [],
   "source": [
    "import requests\n",
    "from selenium import webdriver\n",
    "from bs4 import BeautifulSoup\n",
    "from urllib.parse import urljoin"
   ]
  },
  {
   "cell_type": "markdown",
   "metadata": {
    "heading_collapsed": true
   },
   "source": [
    "### 스팸/정상 메일 수집"
   ]
  },
  {
   "cell_type": "code",
   "execution_count": 3,
   "metadata": {
    "hidden": true
   },
   "outputs": [],
   "source": [
    "# 문자열이 깨지는 경우(url encoding 등으로 인해 &#39;tj&#39 처럼 보이는 문자의 경우) 아래의 방법으로 처리 가능\n",
    "\n",
    "# import html\n",
    "# html.parser.unescape(문자열)"
   ]
  },
  {
   "cell_type": "markdown",
   "metadata": {
    "hidden": true
   },
   "source": [
    "#### gmail 로그인, 세션 저장하기"
   ]
  },
  {
   "cell_type": "code",
   "execution_count": 6,
   "metadata": {
    "hidden": true
   },
   "outputs": [],
   "source": [
    "driver = webdriver.Chrome(\"/Users/alex/Documents/ai/NLP/nlp_ipa/chromedriver\")"
   ]
  },
  {
   "cell_type": "code",
   "execution_count": 7,
   "metadata": {
    "hidden": true
   },
   "outputs": [],
   "source": [
    "# google mail 접속\n",
    "url = \"https://gmail.google.com\"\n",
    "driver.get(url)"
   ]
  },
  {
   "cell_type": "code",
   "execution_count": 8,
   "metadata": {
    "hidden": true
   },
   "outputs": [],
   "source": [
    "# 로그인 (ID)\n",
    "driver.find_element_by_id(\"identifierId\").clear()\n",
    "driver.find_element_by_id(\"identifierId\").send_keys(\"id\")    # id는 실제 메일 id로 대체\n",
    "driver.find_element_by_id(\"identifierNext\").click()"
   ]
  },
  {
   "cell_type": "code",
   "execution_count": 9,
   "metadata": {
    "hidden": true
   },
   "outputs": [],
   "source": [
    "# 패스워드 (selenium의 각 진행 단계는 화면이 display 완료 되지 않으면 에레 발생함. chrome 브라우저 화면 확인 후 실행)\n",
    "driver.find_element_by_name(\"password\").clear()\n",
    "driver.find_element_by_name(\"password\").send_keys(\"password\")    # password는 실제 패스워드로 대체\n",
    "driver.find_element_by_id(\"passwordNext\").click()"
   ]
  },
  {
   "cell_type": "code",
   "execution_count": 10,
   "metadata": {
    "hidden": true
   },
   "outputs": [],
   "source": [
    "# 2단계 인증\n",
    "driver.find_element_by_name(\"idvPin\").clear()\n",
    "driver.find_element_by_name(\"idvPin\").send_keys(\"287540\")      # 인증 코드는 핸드폰으로 전송된 번호로 대체\n",
    "driver.find_element_by_id(\"idvPreregisteredPhoneNext\").click()"
   ]
  },
  {
   "cell_type": "code",
   "execution_count": 11,
   "metadata": {
    "hidden": true
   },
   "outputs": [],
   "source": [
    "cookies = driver.get_cookies()"
   ]
  },
  {
   "cell_type": "code",
   "execution_count": 12,
   "metadata": {
    "hidden": true
   },
   "outputs": [],
   "source": [
    "session = requests.Session()\n",
    "\n",
    "for cookie in cookies:\n",
    "    session.cookies.set(cookie[\"name\"], cookie[\"value\"])"
   ]
  },
  {
   "cell_type": "code",
   "execution_count": 13,
   "metadata": {
    "hidden": true
   },
   "outputs": [
    {
     "data": {
      "text/plain": [
       "<RequestsCookieJar[Cookie(version=0, name='1P_JAR', value='2019-4-5-6', port=None, port_specified=False, domain='', domain_specified=False, domain_initial_dot=False, path='/', path_specified=True, secure=False, expires=None, discard=True, comment=None, comment_url=None, rest={'HttpOnly': None}, rfc2109=False), Cookie(version=0, name='APISID', value='NkDi4AeOA-nbuj_Z/AI_k4nD0lGZg6NyG3', port=None, port_specified=False, domain='', domain_specified=False, domain_initial_dot=False, path='/', path_specified=True, secure=False, expires=None, discard=True, comment=None, comment_url=None, rest={'HttpOnly': None}, rfc2109=False), Cookie(version=0, name='COMPASS', value='gmail=CowBAAlriVc3oWDumHt7aUN5LyLhdsdQtXglXXbsoT2bQ89E_9xYUae80vtLe5UcJ6pZzBiqQVjMFWR5Q3oVBPFEJmRD_Oh9H_IWfDoBXmHGdsWMq0oz3YcI3n9sN-CoArOrbt_igqyofBCIG7x8y3oifBBMcb0vpDo6gIRnUiFAyRUPQy7tEVELytDOGjYQuIec5QUangEACWuJV8mJHM9pMoRD_LxX6UZ8LBqFw3UwLCXZH7n3auUbChw45vRHOL9N47HmNesQyU-frk3eB-DV3WBfxGm63s5lkZBCh6Zk636_MpWSVcVCRj1nloYiTZmHnLWpJz8QR0hhx6HCAiddmIX_xYkvo-8d3tMkwuCsX-pLX_UenfTPwAoRczTT9xDKiLkHQvID90DjZ3GLAvW7hDLUUA', port=None, port_specified=False, domain='', domain_specified=False, domain_initial_dot=False, path='/', path_specified=True, secure=False, expires=None, discard=True, comment=None, comment_url=None, rest={'HttpOnly': None}, rfc2109=False), Cookie(version=0, name='GMAIL_AT', value='AF6bupNJ_c3Ly_3LreNh3iRHd5S2n9gyAg', port=None, port_specified=False, domain='', domain_specified=False, domain_initial_dot=False, path='/', path_specified=True, secure=False, expires=None, discard=True, comment=None, comment_url=None, rest={'HttpOnly': None}, rfc2109=False), Cookie(version=0, name='GMAIL_IMP', value='v*2%2Fgapi-cs-l*75%2Fcor-rs*676%2Fcor-rss*676%2Fcor-res*676%2Fcor-c*678%2Fmh-ogb-rac*1', port=None, port_specified=False, domain='', domain_specified=False, domain_initial_dot=False, path='/', path_specified=True, secure=False, expires=None, discard=True, comment=None, comment_url=None, rest={'HttpOnly': None}, rfc2109=False), Cookie(version=0, name='HSID', value='AhYUMJpTVvDr5Po2F', port=None, port_specified=False, domain='', domain_specified=False, domain_initial_dot=False, path='/', path_specified=True, secure=False, expires=None, discard=True, comment=None, comment_url=None, rest={'HttpOnly': None}, rfc2109=False), Cookie(version=0, name='NID', value='180=RbQJUc_-jzin-OCkJ-64OxxnKzE90Mdc11XvyjbJNctaBxPoj9uBzaHB4RUUOQ-K2FaCjz2Ihk_gMMPMiKVWu2T-9ASmOvy0jgj8FXrZukCs3uwzZhXxEvw6x5n4WucNScczHA4ZDMOWA3kZOdMb-queWrs5n4QqPPBUA9JXXr9VmdIBmbecRLe34Xj40g', port=None, port_specified=False, domain='', domain_specified=False, domain_initial_dot=False, path='/', path_specified=True, secure=False, expires=None, discard=True, comment=None, comment_url=None, rest={'HttpOnly': None}, rfc2109=False), Cookie(version=0, name='OSID', value='RAfE7UGTNK036bJthqBwY6YWpQG5ePldxfmBbxmmij4fpV8r3nh0WFFS8-Book82ainBow.', port=None, port_specified=False, domain='', domain_specified=False, domain_initial_dot=False, path='/', path_specified=True, secure=False, expires=None, discard=True, comment=None, comment_url=None, rest={'HttpOnly': None}, rfc2109=False), Cookie(version=0, name='SAPISID', value='F1_DtJ194Hkgjcz1/AdhqG1HmENtKecQmE', port=None, port_specified=False, domain='', domain_specified=False, domain_initial_dot=False, path='/', path_specified=True, secure=False, expires=None, discard=True, comment=None, comment_url=None, rest={'HttpOnly': None}, rfc2109=False), Cookie(version=0, name='SID', value='RAfE7RB0tWT71Fs_jS9hXYneRMf3fk5LNcXBNi1eT7dlPGjti-0K7CeMP2f2Es2vunktnQ.', port=None, port_specified=False, domain='', domain_specified=False, domain_initial_dot=False, path='/', path_specified=True, secure=False, expires=None, discard=True, comment=None, comment_url=None, rest={'HttpOnly': None}, rfc2109=False), Cookie(version=0, name='SIDCC', value='AN0-TYthU8CPDdcRtC3UQY8lZcuju2juh7nogwbg1gQsCfMPjsVy0TvnJvCqT8YKKUPDXlAPCg', port=None, port_specified=False, domain='', domain_specified=False, domain_initial_dot=False, path='/', path_specified=True, secure=False, expires=None, discard=True, comment=None, comment_url=None, rest={'HttpOnly': None}, rfc2109=False), Cookie(version=0, name='SSID', value='ANBC2j6Oy6nbTqEnx', port=None, port_specified=False, domain='', domain_specified=False, domain_initial_dot=False, path='/', path_specified=True, secure=False, expires=None, discard=True, comment=None, comment_url=None, rest={'HttpOnly': None}, rfc2109=False)]>"
      ]
     },
     "execution_count": 13,
     "metadata": {},
     "output_type": "execute_result"
    }
   ],
   "source": [
    "session.cookies"
   ]
  },
  {
   "cell_type": "markdown",
   "metadata": {
    "hidden": true
   },
   "source": [
    "#### gmail 정상 메일 리스트 가져오기"
   ]
  },
  {
   "cell_type": "markdown",
   "metadata": {
    "hidden": true
   },
   "source": [
    "- **받은편지함, 스팸 메일 가져오기 URL** (자바스크립트 없이 사용 가능한 URL)\n",
    "\n",
    "    - 받은편지함 : inbox_url = \"https://mail.google.com/mail/u/0/h/?&\"\n",
    "                                             \"https://mail.google.com/mail/u/0/h/?&st=50\"\n",
    "                                             => \"st=50\" : 두번째 페이지(페이지 당 50개씩, 세번째 페이지는 100, ...)\n",
    "    - 스팸 메일 : spam_url = \"https://mail.google.com/mail/u/0/h/?&s=m\"\n",
    "\n",
    "    브라우저에서는 받은편지함 URL이 \"https://mail.google.com/mail/u/0/h/1bxsvqw0gigg8/?&\" 처럼<br>\n",
    "    중간에 \"1bxsvqw0gigg8\"와 같은 무작위 숫자(매번 바뀌는 숫자)가 보이지만, \"1bxsvqw0gigg8\" 부분을 삭제하고 접근하면 됩니다.\n",
    "\n",
    "    스팸메일 URL도 \"https://mail.google.com/mail/u/0/h/1ah8y24vi8gd3/?&s=m\" <br>\n",
    "    중간에 \"1ah8y24vi8gd3\"와 같은 무작위 숫자(매번 바뀌는 숫자)가 보이지만, \"1ah8y24vi8gd3\" 부분을 삭제하고 접근하면 됩니다."
   ]
  },
  {
   "cell_type": "code",
   "execution_count": 14,
   "metadata": {
    "hidden": true
   },
   "outputs": [],
   "source": [
    "inbox_url = \"https://mail.google.com/mail/u/0/h/\"\n",
    "param = \"?&st=\"    # 2페이지 : ?&st=50,   # 1페이지 : \"?&st=\""
   ]
  },
  {
   "cell_type": "code",
   "execution_count": 15,
   "metadata": {
    "hidden": true,
    "scrolled": true
   },
   "outputs": [
    {
     "data": {
      "text/plain": [
       "[['169ebad92829028c',\n",
       "  '[파리바게트 케익 이벤트] 스토리지 관리를 근본적으로 변화할 수 있는 기술 : HPE Infosight',\n",
       "  1],\n",
       " ['169eb72c79c71a04', '성식님, Google 포토에서 만든 항목을 확인해 보세요', 1],\n",
       " ['169eb64e4da5cb92',\n",
       "  '(광고) [AI 컨퍼런스] 성공적인 AI 비즈니스를 위한 실전가이드! NAVER, 그랩, 월마트랩스, Pfizer(화이자), CJ대한통운, 신한은행, 한국씨...',\n",
       "  1],\n",
       " ['169eb5ae0a2e6c0a', '(광고)[하나카드, 기타안내]베트남 인기 복합 쇼핑센터 베트남 롯데마트 제휴 기념', 1],\n",
       " ['169eb1e67c347736', 'AWS Builders | AWS 4월 기초교육 온라인 세미나에 초대합니다!', 1],\n",
       " ['169eb07ffdcd2ff4', '[지니] 사용중인 이용권이 3일 후 연장결제 됩니다.', 1],\n",
       " ['169eadc443bf53ba',\n",
       "  'New! Degrees & MasterTrack Certificates in Data Science, Computer Science, and more',\n",
       "  1],\n",
       " ['169ea2b7b2747b9f', \"힐링콘텐츠 창작캠프 'HEAL더WORLD' 영상 2편을 소개합니다\", 1],\n",
       " ['169e941c9e46a448', 'Training and workshops are selling out!', 1],\n",
       " ['169e93653523dec8',\n",
       "  'Ethical Hacking Career Program starts TOMORROW - 40% OFF code HACKER40',\n",
       "  1],\n",
       " ['169e91b290d1467d', 'Competition Launch: Freesound Audio Tagging 2019', 1],\n",
       " ['169e8e5a314dd55c', '건망증', 1],\n",
       " ['169e8be43ad7167b', 'You’re on your own', 1],\n",
       " ['169e83f0492bcaf1', '[CIO 뉴스레터] ‘웨자일 피하려면…’ 성공적 애자일 팀의 조건', 1],\n",
       " ['169e7eb52c2c2f63', '5 Easy Ways to Measure Project Success', 1],\n",
       " ['169e7d1ca54b2fa6',\n",
       "  '[ITWorld 뉴스레터] 삼성 갤럭시 S10·노트 9을 즉각 ‘더 편하게’ 만드는 15가지 방법',\n",
       "  1],\n",
       " ['169e776dc15d3ba2',\n",
       "  '[4월월간세미나] Fast Follower(빠른 추적자)와 First Mover(선도자)의 프로젝트관리 방법론 (2PDU)',\n",
       "  1],\n",
       " ['169e74adb9ea46b0', '[온오프믹스] 광고성 정보 수신동의 여부 확인 안내', 1],\n",
       " ['169e6f4fef5f08c0', \"'IBM 하이퍼컨버지드 시스템', 고성능 엔터프라이즈 인프라 및 프라이빗 클라우드 플랫폼\", 1],\n",
       " ['169e6b94c3ec399e',\n",
       "  'An Education for a High-Growth Computer Science Career',\n",
       "  1],\n",
       " ['169e38526237b869', '새로운 환경에서 로그인 되었습니다.', 1],\n",
       " ['169e05aa5f321782', '이성식 님에게 도착한 새 업데이트 3, 이직/승진 소식 1', 1],\n",
       " ['169deb05c2416999', '이성식 님과 LinkedIn 1촌을 맺고 싶습니다.', 1],\n",
       " ['169db86e0cfeceef',\n",
       "  '[KAIST-AI대학원] 2019학년도 가을학기 KAIST AI 대학원 입시설명회 (4/02, 화) 공지 재안내',\n",
       "  1],\n",
       " ['169d89e7c0cc0971', '[교보문고] 이성식님, 주문하신 상품은 모두 잘 받으셨나요?', 1],\n",
       " ['169d84155323ce54', '🎤인터뷰 #05, 인프런 최연소 지식공유자, 서울대컴공 19학번 되다 - 두들낙서 편', 1],\n",
       " ['169c8fddb139ad63', 'insig.woo님 외 3명이 회원님을 팔로우합니다', 1],\n",
       " ['169c7d29cf288764', '성식님, Google 포토에서 만든 항목을 확인해 보세요', 1],\n",
       " ['169c7c74d0b9eeee', '[한국IT비즈니스진흥협회]AI이노베이션스퀘어 2차 교육생 모집[5월-6월]', 1],\n",
       " ['169c391964691473', '[KAIST-AI 대학원] 2019학년도 가을학기 KAIST AI 대학원 입시설명회 공지', 1],\n",
       " ['169bcb4ccc78a2d1', '김용필 님의 이직/승진(KT 미디어서비스1팀 팀장(부장))을 축하해 주세요.', 1],\n",
       " ['169bc534911249b0', '[Top 5] 딥러닝 / 머신러닝 ♫ 가장 많이 판매된 책 5종을 소개합니다.', 1],\n",
       " ['169b59e2c6c28e66', '[교보문고] 이성식님, 주문하신 상품의 배송상태를 알려드립니다.', 1],\n",
       " ['169b4dfd9230d268', '[SW기술협\"NoSQL프로그래밍\"<재직자 유료/무료교육>\"와\"Java 디자인 패턴\"\\'외', 1],\n",
       " ['169b414fe0d54d0a', '[교보문고] 이성식님의 주문이 접수되었습니다.', 1],\n",
       " ['169b412edb370554', '이성식님, (주)교보문고에서 [신용카드]결제하신 내역입니다.', 1],\n",
       " ['169b3ab23ada0c54', '[교보문고] 새로워진 교보북클럽 멤버십을 확인하세요!', 1],\n",
       " ['169a456a5a3e584a', '비씨카드 휴대폰메시지 표준약관 제정 안내', 1],\n",
       " ['169a35ab5cf1a9c8',\n",
       "  '[텐서 ≈ 블로그 메일링 리스트] <핸즈온 머신러닝>, <케라스 창시자에게 배우는 딥러닝> 에러타를 안내해 드립니다.',\n",
       "  1],\n",
       " ['16998da349b8fb2f', '[새 글] “[개정판] 파이썬 라이브러리를 활용한 머신러닝”이 출간되었습니다!', 1],\n",
       " ['169983107ef8d801', '이성식 님에게 도착한 메일 1, 새 업데이트 3', 1],\n",
       " ['16995fc6ffd330af',\n",
       "  'TensorFlow Dev Summit 2019 Extended Pangyo 참가자 티셔츠 사이즈 조사',\n",
       "  1],\n",
       " ['16991f897459f83f', '이성식 님에게 추천해 드리는 1촌', 1],\n",
       " ['169902d3e1163e21', '성식님, 새 Apple iPhone에 최신 Google 앱이 설치되어 있지 않습니다.', 1],\n",
       " ['169902c5034a679f', '보안 알림', 1],\n",
       " ['1698e004e655fd11',\n",
       "  '(광고) 2019 컴퓨터비전 기반의 AI 얼굴인식,영상인식 및 처리와 구현기술 세미나 [3,26(화)~27(수)/전경련회관]',\n",
       "  1],\n",
       " ['16980c53137fe547',\n",
       "  \"[SW기술협]<재직자 유료/무료교육>'JavaScript 실무'와 'Linux Kernel 이해와 응용'외\",\n",
       "  1],\n",
       " ['1698003bebd27e32', '이성식님, 페스타(Festa)에서 결제하신 내역입니다.', 1],\n",
       " ['1697fe52c847b1dd', '(KB국민카드) 이성식님 2019년03월 명세서', 1],\n",
       " ['1697f856a276b802', '[FESTA] 결제하신 티켓 내역을 안내해드립니다.', 1],\n",
       " ['16975f09a6f56350', '새로운 환경에서 로그인 되었습니다.', 1],\n",
       " ['16975a9623801029', 'AI 여정을 가속화하는 핵심 로드맵 - IDG Summary', 1],\n",
       " ['169751a099628d3e', '극세사 인터넷에 초대합니다', 1],\n",
       " ['1697458b85739284',\n",
       "  '(광고) 이성식님 딥러닝 이론 공부에 지치셨다면, Pytorch로 차근차근 시작해보는 건 어떨까요 😊?',\n",
       "  1],\n",
       " ['1696f22fc2eb8b88',\n",
       "  '[AI EXPO KOREA 2019] 국제인공지능대전 개최 안내! (조기신청 할인 ~3/29까지)',\n",
       "  1],\n",
       " ['1696c776b09564ea', 'Apple에서 발행한 영수증입니다.', 1],\n",
       " ['169669b664c58d9e', '[하나금융투자] 이*식 고객님의 2019년 02월말 집합투자증권 잔고 입니다.', 1],\n",
       " ['1696579ead50c283', '이성식 님! 새로운 1촌 선영김 님과 대화해 보세요.', 1],\n",
       " ['1695a9fd87cbf463', '인공지능의 세대 교체 “설명가능한 AI” - IDG Tech Report', 1],\n",
       " ['16956a2ddd87a739', '[새 글] “머신 러닝 교과서” 베타 테스터 모집합니다!', 1],\n",
       " ['16955461b89f1ed6', '(광고) 마지막 찬스. 특별 행사는 3/15까지.', 1],\n",
       " ['16950ad6fe62cd1a', '이성식 님과 LinkedIn 1촌을 맺고 싶습니다.', 1],\n",
       " ['1695088f96227672', '[지니] 사용중인 이용권이 3일 후 연장결제 됩니다.', 1],\n",
       " ['1694f32e8fe2b843', '[가비아] 도메인 부가서비스 신청서가 접수되었습니다', 1],\n",
       " ['1694f20cf0cbc720', 'NHN KCP - 가비아(Gabia)의 결제 내역입니다.', 1],\n",
       " ['1694f20c758d934a', '[가비아] 서비스 결제 내역을 안내해 드립니다', 1],\n",
       " ['1694f116542009d9', '회원 정보가 변경되었습니다', 1],\n",
       " ['1694f10d79b92d07', '비밀번호가 변경되었습니다', 1],\n",
       " ['1694f0eb847f7d79', '[가비아] 임시 비밀번호를 알려드립니다', 1],\n",
       " ['1694f05f1680d4de', '[가비아] 회원 가입이 완료되었습니다', 1],\n",
       " ['1694e9019125e1df', '[ 공공데이터포털 ] 회원가입을 위한 이메일 인증번호', 1],\n",
       " ['169579cd10179b53',\n",
       "  '같이 제안서 쓰던 워드맨 강병익 입니다. 혹시 예전 KT에서 근무하셨던 이성식 과장님 맞으신가요',\n",
       "  1],\n",
       " ['16949dd157e29a80', '이성식 님에게 추천해 드리는 1촌', 1],\n",
       " ['169489a666f76791', '[CIO 뉴스레터] SD-WAN, NFV, IBN 도입 시 혼란을 최소화하는 방법', 1],\n",
       " ['169485bbabf8865b',\n",
       "  \"[SW기술협]<재직자 유료/무료교육>'이더리움 기반 스마트 컨트랙트 개발하기'와 'SW 프로젝트관리 - PMBOK 6.0과 프로젝트 사례'외\",\n",
       "  1],\n",
       " ['169482cc9d9d28ce',\n",
       "  '[ITWorld 뉴스레터] 리뷰 | ‘4G 막차’ 삼성 갤럭시 S10+, 시대를 잘못 만난 수작',\n",
       "  1],\n",
       " ['16947fe737213ac4', 'Fwd: AWS re:Inforce | Registration Opens March 12', 1],\n",
       " ['16947b095f3a402f', '[3월PM교육] PDU를 취득할수 있는 프로젝트관리 교육 및 세미나 안내', 1],\n",
       " ['169479ae2545720b', 'TOP point - 이성식님의 소멸 예정 포인트를 알려드립니다 (13310760)', 1],\n",
       " ['169465560daa1a89',\n",
       "  '[Atlas Labs] <AI, 음성인식의 비즈니스 적용을 위한 기술 세미나> 에 초대합니다.',\n",
       "  1],\n",
       " ['16945fd235caa43d', '[필독사항] 여러분, 쿠폰을 쓰셔야 합니다. 😂😂', 1],\n",
       " ['1694598c36621937', '자동화를 너머 로봇과 협업한다 ‘RPA의 현재와 미래’ - IDG Tech Focus', 1],\n",
       " ['16934086b77357eb', 'CJ ONE 포인트 적립 기준 변경 안내', 1],\n",
       " ['1693400c60ae73b3', \"[CIO 뉴스레터] 완성도 높아진 MS 홀로렌즈 2, 기업 시장 모멘텀 기대 '모락모락'\", 1],\n",
       " ['16933326c0fd1f22',\n",
       "  \"[SW기술협]<재직자 유료/무료교육>'이더리움 기반 스마트 컨트랙트 개발하기'와 'SW 프로젝트관리 - PMBOK 6.0과 프로젝트 사례' 외\",\n",
       "  1],\n",
       " ['1693159d26a93cad',\n",
       "  '[AI EXPO KOREA 2019] 국제인공지능대전 개최 안내! (조기신청 할인 ~3/29까지)',\n",
       "  1],\n",
       " ['1692c8c6683bf321', '[새 글] TensorFlow 1.13.1 Release', 1],\n",
       " ['1692342a670376cb',\n",
       "  '[발표자료] KEB하나은행과 한빛미디어가 함께하는 <블록체인 기술 세미나>에 참여해 주셔서 감사합니다.',\n",
       "  1],\n",
       " ['16914b6e71394439',\n",
       "  \"[SW기술협]<재직자 유료/무료교육>'IoT 네트워크 프로그래밍'과 'Linux Kernel 이해와 응용' 외\",\n",
       "  1],\n",
       " ['169136f1401ee923', '[새 글] Fast Gradient Boosting Tree', 1],\n",
       " ['16915804764f3c23', '[한국IT비즈니스진흥협회]인공지능센터 고급 과정(오후) 교육생 선정안내', 1],\n",
       " ['1690dd8e4d96c54d', '[새 글] 이펙티브 텐서플로 2.0', 1],\n",
       " ['1690a2333cfdc7e8', '[KISA 핀테크 아카데미] 핀테크 서비스 개발 실습 중급과정 교육생 모집(~3/10)', 1],\n",
       " ['1690673f9a5ba256',\n",
       "  '[PM교육] 프로젝트 1 Page 보고서 작성 전문가과정 (8PDU : Strategic )',\n",
       "  1],\n",
       " ['16903fe4b0cbf98e', '[하나금융투자]펀드수시공시 안내', 1],\n",
       " ['169033b163b96cac', '(광고) 이성식님, 요즘 논문 쓰고 계시나요?', 1],\n",
       " ['168ef9e2bc76514f', '수강신청 완료후 대기상태', 1],\n",
       " ['168eb41291ccc637',\n",
       "  \"[SW기술협]<재직자 무료교육>'Python 데이터 수집과 분석'와 '이더리움 기반 스마트 컨트랙트 개발하기' 외\",\n",
       "  1]]"
      ]
     },
     "execution_count": 15,
     "metadata": {},
     "output_type": "execute_result"
    }
   ],
   "source": [
    "pages = {\n",
    "    1:\"\",\n",
    "    2:\"50\",\n",
    "    3:\"100\"\n",
    "}\n",
    "\n",
    "g_mail_list = list()\n",
    "target = 1\n",
    "\n",
    "for page in range(1, 3):\n",
    "    inbox_html = session.get(inbox_url + param + pages[page])\n",
    "    inbox_bs = BeautifulSoup(inbox_html.text, \"html.parser\")\n",
    "    for anchor in inbox_bs.select(\"table .th tr a\"):\n",
    "        mail_id = anchor[\"href\"].split(\"&\")[1].split(\"=\")[1]\n",
    "        if anchor.find(\"b\") is not None:   # 읽지 않은 메일\n",
    "            title = anchor.find(\"b\").text\n",
    "        else:             # 읽은 메일\n",
    "            title = anchor.find(\"font\").next_sibling.strip()\n",
    "            g_mail_list.append([mail_id, title, target])\n",
    "\n",
    "g_mail_list"
   ]
  },
  {
   "cell_type": "markdown",
   "metadata": {
    "hidden": true
   },
   "source": [
    "#### gamil spam 리스트 가져오기"
   ]
  },
  {
   "cell_type": "code",
   "execution_count": 16,
   "metadata": {
    "hidden": true
   },
   "outputs": [],
   "source": [
    "spam_url = \"https://mail.google.com/mail/u/0/h/\"\n",
    "param = \"?&s=m\"            # 스팸 메일이 1페이지 밖에 없어서, 페이지 정보는 제외함 (&st=)\n",
    "html = session.get(spam_url + param)"
   ]
  },
  {
   "cell_type": "code",
   "execution_count": 17,
   "metadata": {
    "hidden": true,
    "scrolled": true
   },
   "outputs": [],
   "source": [
    "spam_bs = BeautifulSoup(html.text, \"html.parser\")"
   ]
  },
  {
   "cell_type": "code",
   "execution_count": 18,
   "metadata": {
    "hidden": true,
    "scrolled": true
   },
   "outputs": [
    {
     "data": {
      "text/plain": [
       "[['169ead21beb8a1ed', '(광고) 금융, 의료산업에 과감하게 제안하는, ‘하이브리드 클라우드’ 그 모든 것!', 0],\n",
       " ['169ea6402fcff576', '[도미노피자 이벤트] 2019 AI를 위한 클라우드 도입 및 확장 현황 조사', 0],\n",
       " ['169e5ab7ad116555', '(광고) 의료용 IoT 기기를 위한 솔루션 확인하면 추첨해 선물 증정!', 0],\n",
       " ['169e53db9b75bc3e', '(광고) 지금까지 이런 ERP는 없었다! 이것은 꿀인가 ERP인가', 0],\n",
       " ['169daf0e7d3fbf9c',\n",
       "  \"[파리바게트 케익 이벤트] '앱 데이터 간극'을 줄이는 참신한 접근법, Nimble Storage의 비밀 - IDG Summary\",\n",
       "  0],\n",
       " ['169c6c4e48a184ba', '[나무기술] Newsletter Vol. 19-3 (2019년 3월 29일)', 0],\n",
       " ['169c08009e60b1d2', 'Basic SAP FICO integration topics', 0],\n",
       " ['169bd4e167e3357a',\n",
       "  '(광고) 베스핀 교육세미나 3탄, 빅데이터 구축 전략! 아직도 등록을 안하셨다면, 지금입니다.',\n",
       "  0],\n",
       " ['169bce6c215e48fb',\n",
       "  '(광고) [AI World 2019] 인공지능, 선택 아닌 필수! 국내외 AI 활용 사례_Grab, Walmart Labs, Pfizer, CJ대한통운, 신...',\n",
       "  0],\n",
       " ['169babdd2e6d1ab1', 'SAP S/4HANA Resources and Free Download', 0],\n",
       " ['169b8dec76741a7b', '(광고) LeeAlex님, 탈잉 50%모음 🎁곧 마감됩니다. 놓치지 마세요!', 0],\n",
       " ['169b193d558c0328',\n",
       "  '(광고)이성식님 설레는 봄, 화사한 플라워박스와 함께 향긋한 하루를 시작하세요! ▶전국당일배송 꽃바구니/꽃다발/꽃상자◀',\n",
       "  0],\n",
       " ['169ad3900a9c6987', '대지의 70%는 정원, 여유 있는 전원의 삶을 담은 2층 단독주택', 0],\n",
       " ['169a81ca5747f249', '이 성식 님, 반품 배송비를 환불해드립니다.*', 0],\n",
       " ['169a815dec9996d8',\n",
       "  '(광고)[GS&POINT] 회원님을 위해 준비한 3월의 풍성한 이벤트와 다양한 혜택을 지금 확인해 보세요!',\n",
       "  0],\n",
       " ['169a4134fee569ff', '(광고) 2019 월드IT쇼 뉴스레터 VOL.3', 0],\n",
       " ['169a220d18b98181',\n",
       "  '(광고)이성식님 선물하기 좋은 인테리어 화분 추천! 분위기 전환과 공기 정화까지★ | 전국당일배송 결혼식 축하화환/근조화환',\n",
       "  0],\n",
       " ['1699ec5a5f626c6b', '[사단법인피엠전문가협회] 다섯 개 프로세스 그룹으로 확인하는 PMP 요약', 0],\n",
       " ['16999f1d68e802f0', '이 성식님, Gearbest 5주년 세일 소식을 알려드립니다.', 0],\n",
       " ['16999b60d4b68268', '하이브리드 / 멀티클라우드 환경에서 애플리케이션 딜리버리에 필요한 여섯 가지 외', 0],\n",
       " ['16999481b376c3ce',\n",
       "  \"(광고) [전체 리포트 제공] 베스핀글로벌, 가트너 매직 쿼드런트 퍼블릭 클라우드 MSP에 3년 연속 등재, '챌린저' 선정\",\n",
       "  0],\n",
       " ['1699910a9e5ad5b3', '(광고)[하나카드, 기타안내] 지금까지 이런 할인은 없었다. 돈키호테 트리플 할인 혜택', 0],\n",
       " ['169986e6b679d57b', '(광고) [마감임박] 개발자를 위한 Microsoft 최대 기술 컨퍼런스', 0],\n",
       " ['1699759ca8ab06f0', 'Learn S/4 HANA FICO', 0],\n",
       " ['169952470e9fecbe', '[사단법인피엠전문가협회] 애자일 프로젝트관리의 실무 적용 과정 [4/4~4/5]', 0],\n",
       " ['1698ef3a45b033da',\n",
       "  '(광고) \"컨테이너 오케스트레이션의 미학 - 쿠버네티스 데이 코리아 2019\" 개최안내 [3월 29일 / 잠실역',\n",
       "  0],\n",
       " ['1698d873821365b5',\n",
       "  '(광고)이성식님 마음을 전하는 꽃 선물 추천>> 화사한 봄 꽃다발/꽃상자/꽃바구니 전국당일배송★',\n",
       "  0],\n",
       " ['16980ef801875ee5', '(광고) 대박, 30년만에…?', 0],\n",
       " ['16979001ba5899a0',\n",
       "  '(광고)이성식님 ★3/14 화이트데이 내사탕을 받아줘~ ♥ 전국당일꽃배달 [사탕꽃바구니/꽃다발]',\n",
       "  0],\n",
       " ['169778450929f9c8', 'Every little thing she designs is magic', 0],\n",
       " ['1697540ff0e3c0e4', '(광고) 아이나비 국내 최초, 4채널 All Full HD 커넥티드 블랙박스 출시!', 0],\n",
       " ['16973c7685c4e5c8', '(광고)이성식님 화이트데이 D-1 내연인을 위한 로맨틱이벤트 ♣전국당일꽃배달♣', 0],\n",
       " ['169697aadb633c31', '(광고)이성식님 ♥전국당일배송 화이트데이 미리준비하세요! 꽃+캔디 예약 >>', 0],\n",
       " ['1695a6bd746c47a6', \"See Who's Coming to GTC 2019\", 0],\n",
       " ['1695a07926a6607e',\n",
       "  '(광고)이성식님 미세먼지 완벽퇴치 하세요! #스투키 #공기정화식물 #전국당일배송 | 화이트데이 달달한 꽃상품 미리보기♥',\n",
       "  0],\n",
       " ['1695907c7be9d1e3', 'New SAP Books and Video Tutorials', 0],\n",
       " ['1695446a60b18761', 'RE: do companies actually pay people to do this?', 0],\n",
       " ['1695217189eaa582', 'USPS ticket #61747', 0],\n",
       " ['1691d0793b537d75', '전원적인 동시에 현대적인 교외 단독주택', 0],\n",
       " ['168dee912fa62f33',\n",
       "  '(광고) [서울대 공과대학]미래융합기술최고위과정(FIP) 모집안내(블록체인·인공지능·사물인터넷IoT·스마트 머신·스마트 제조)',\n",
       "  0]]"
      ]
     },
     "execution_count": 18,
     "metadata": {},
     "output_type": "execute_result"
    }
   ],
   "source": [
    "# 메일 내용은 class명이 \"th\"인 \"table\" 태그 아래에 \"tr\"에 각각의 메일이 있습니다.\n",
    "# table .th > tr > td > a  (페이지 내에 table이 10개가 있으며, 본문이 포함된 table의 class명은 th임)\n",
    "# 메일 제목은 a 태크 아래 첫번째 font 태크 다음에 아무런 태그 없이 문자열 형태로 있음 (두번째 font 태그에는 메일 본문 미리보기가 있음)\n",
    "g_spam_list = list()\n",
    "target = 0\n",
    "\n",
    "for anchor in spam_bs.select(\"table .th tr a\"):\n",
    "    mail_id = anchor[\"href\"].split(\"&\")[1].split(\"=\")[1] \n",
    "    if anchor.find(\"b\") is not None:   # 읽지 않은 메일\n",
    "        title = anchor.find(\"b\").text\n",
    "    else:             # 읽은 메일\n",
    "        title = anchor.find(\"font\").next_sibling.strip()\n",
    "\n",
    "    g_spam_list.append([mail_id, title, target])\n",
    "\n",
    "g_spam_list"
   ]
  },
  {
   "cell_type": "markdown",
   "metadata": {
    "hidden": true
   },
   "source": [
    "#### naver 로그인, 세션(쿠기) 정보 가져오기"
   ]
  },
  {
   "cell_type": "code",
   "execution_count": 19,
   "metadata": {
    "hidden": true
   },
   "outputs": [],
   "source": [
    "import json\n",
    "import requests\n",
    "from selenium import webdriver\n",
    "\n",
    "driver = webdriver.Chrome(\"/Users/alex/Documents/ai/NLP/nlp_ipa/chromedriver\")"
   ]
  },
  {
   "cell_type": "code",
   "execution_count": 20,
   "metadata": {
    "hidden": true
   },
   "outputs": [],
   "source": [
    "# naver mail URL\n",
    "# 메일 접속 시도 시 나타나는 실제 로그인 URL\n",
    "# url = \"https://nid.naver.com/nidlogin.login?url=http%3A%2F%2Fmail.naver.com%2F\"\n",
    "naver_mail = \"https://mail.naver.com\""
   ]
  },
  {
   "cell_type": "code",
   "execution_count": 21,
   "metadata": {
    "hidden": true
   },
   "outputs": [],
   "source": [
    "# driver에서 오픈 한 창에서 로그린 해야 쿠키 정보를 사용할 수 있음\n",
    "# 쿠키 정보를 획득한 이후에는 selenium을 사용하지 않고 직접 접근할 수 있음\n",
    "driver.get(naver_mail)"
   ]
  },
  {
   "cell_type": "code",
   "execution_count": 22,
   "metadata": {
    "hidden": true
   },
   "outputs": [],
   "source": [
    "# driver에서 오픈 한 창에서 수동으로 로그인 (캡챠 입력 요구함)\n",
    "# driver.find_element_by_id(\"id\").clear()\n",
    "# driver.find_element_by_id(\"id\").send_keys(\"id)\n",
    "# driver.find_element_by_id(\"pw\").clear()\n",
    "# driver.find_element_by_id(\"pw\").send_keys(\"password\")    # password는 실제 패스워드로 대체\n",
    "# driver.find_element_by_class_name(\"btn_global\").click()"
   ]
  },
  {
   "cell_type": "code",
   "execution_count": 23,
   "metadata": {
    "hidden": true
   },
   "outputs": [],
   "source": [
    "session = requests.Session()\n",
    "cookies = driver.get_cookies()\n",
    "\n",
    "for cookie in cookies:\n",
    "    session.cookies.set(cookie[\"name\"], cookie[\"value\"])"
   ]
  },
  {
   "cell_type": "code",
   "execution_count": 24,
   "metadata": {
    "hidden": true,
    "scrolled": false
   },
   "outputs": [
    {
     "data": {
      "text/plain": [
       "<RequestsCookieJar[Cookie(version=0, name='NID_AUT', value='KspThaVd8O1X/La2hZpZJxMbtWD+9bYizxswZ+dUiFs1cRNKY1dmcsDRrbpkryhs', port=None, port_specified=False, domain='', domain_specified=False, domain_initial_dot=False, path='/', path_specified=True, secure=False, expires=None, discard=True, comment=None, comment_url=None, rest={'HttpOnly': None}, rfc2109=False), Cookie(version=0, name='NID_JKL', value='JG6/GhIyvyJbnsHH1M2A0ZI3MUTrowW1uqrdKtUzdwE=', port=None, port_specified=False, domain='', domain_specified=False, domain_initial_dot=False, path='/', path_specified=True, secure=False, expires=None, discard=True, comment=None, comment_url=None, rest={'HttpOnly': None}, rfc2109=False), Cookie(version=0, name='NID_SES', value='AAABlVZSSVcnVonqF/rQSzb+MkjzRdT3iCFK1yGm95H1FbIqpjJxhdpP+bs0riX0V43ksojTDEKnxGZ8QtTsn+JDFKpalgPD61qUECqJh/SLvz4pDTa2Qp5QiFkL+QvptQk2OwU8IoLq1EotNopGxudIDNcIROoFQma2TGibnf5LicbNUvra9EnlETMxvVBAPbttlzALYPts0LK16N/ErBpvrshUb7QV2j9h4jlAXHSiuPpr80GyDv3LhUvX94abmZg6NOWDP5JPRBq3/eqyonzryd6DE2hNyZgGgYYOiNFHXg2GdAdf7NKlDBYxa6+oYNzYjyqiOtJ//dM91/6Ck4rLCCTsyGd/PLmtIakhTGGqhJoVeSoG/5wY5Rqauo4VhS78hFueG5zzsnunk/BJBbAtFbfapPf8zypc/n1hAkxTduUzjDxIja13M2py1DTPmrEUgQKMIweKHTzFd4T+YrRU8UuBO9Tf94ZasKXgBfKMktdr5T5lG7YxsnCrLjALvb5iGfs6gHagbgYQEniFtfxLQDKRU+rgTQAolIcfC0J3Ua2c', port=None, port_specified=False, domain='', domain_specified=False, domain_initial_dot=False, path='/', path_specified=True, secure=False, expires=None, discard=True, comment=None, comment_url=None, rest={'HttpOnly': None}, rfc2109=False), Cookie(version=0, name='NMUSER', value='IZYdFxEwaqbsFouZKA2Z1B3np6JvpBUZaqu9FxtdFAEXFxbsFxuZKAnmaqns3xnDKxEs6xRaaZnladUstoRVadUsadUs3ons1rejL9Us6xRVaqnD16lvpB2RFVl5WLl5MBp0bSloWrdnaAvmKARGW430DVdd7BF0Mre5pzJZDLl5WLl5MBp0bSloWrdnaAvmKAn=', port=None, port_specified=False, domain='', domain_specified=False, domain_initial_dot=False, path='/', path_specified=True, secure=False, expires=None, discard=True, comment=None, comment_url=None, rest={'HttpOnly': None}, rfc2109=False), Cookie(version=0, name='NNB', value='UPUVCB5T6WTFY', port=None, port_specified=False, domain='', domain_specified=False, domain_initial_dot=False, path='/', path_specified=True, secure=False, expires=None, discard=True, comment=None, comment_url=None, rest={'HttpOnly': None}, rfc2109=False), Cookie(version=0, name='nid_inf', value='1702267841', port=None, port_specified=False, domain='', domain_specified=False, domain_initial_dot=False, path='/', path_specified=True, secure=False, expires=None, discard=True, comment=None, comment_url=None, rest={'HttpOnly': None}, rfc2109=False), Cookie(version=0, name='npic', value='pAyk4C4nMYTRu00A/H4vSQmqc+1S5F6B8XEBCIAC2kl3yS314RX7YRO1UMajPJIQCA==', port=None, port_specified=False, domain='', domain_specified=False, domain_initial_dot=False, path='/', path_specified=True, secure=False, expires=None, discard=True, comment=None, comment_url=None, rest={'HttpOnly': None}, rfc2109=False)]>"
      ]
     },
     "execution_count": 24,
     "metadata": {},
     "output_type": "execute_result"
    }
   ],
   "source": [
    "session.cookies"
   ]
  },
  {
   "cell_type": "markdown",
   "metadata": {
    "hidden": true
   },
   "source": [
    "#### naver 정상 mail 리스트 가져오기"
   ]
  },
  {
   "cell_type": "markdown",
   "metadata": {
    "hidden": true
   },
   "source": [
    "- naver mail은 쿠키 정보를 획득하기 위해 selenium이 필요하지만, <br>\n",
    "   실제 컨텐츠를 가져오는 과정은 selenium에서 획득한 쿠키 정보만 사용해서 직접 접근 가능함"
   ]
  },
  {
   "cell_type": "markdown",
   "metadata": {
    "hidden": true
   },
   "source": [
    "- 받은 편지함과 스팸 메일함 모두 동일한 URL로 접근할 수 있다.\n",
    "- 아래와 같이 POST 메서드로 가져올 수 있다. (JSON 형태의 데이터를 받아오게 됨)\n",
    "\n",
    "~~~\n",
    "url = \"https://mail.naver.com/json/list/\"\n",
    "\n",
    "data = {\n",
    "    \"page\":1,\n",
    "    \"sortField\":1,\n",
    "    \"sortType\":0,\n",
    "    \"folderSN\":0,\n",
    "    \"isUnread\":\"false\",\n",
    "    \"u\":\"itleader2\"\n",
    "}\n",
    "\n",
    "resp = session.post(content_url, content_data)    # resp는 JSON 형태\n",
    "~~~\n",
    "\n",
    "- folderSN은  메일함 번호 : 받은 메일함 0, 보낸 메일함 1, 임시 메일함 3, 휴지통 4, 스팸 메일함 5, 내게 쓴 메일함 6, 전체 메일함 -1, 수신 확인함 2(?)\n",
    "- 컨텐츠는 JSON 파일을 분석해서 원하는 태그를 사용"
   ]
  },
  {
   "cell_type": "code",
   "execution_count": 25,
   "metadata": {
    "hidden": true
   },
   "outputs": [],
   "source": [
    "# 위의 세션 정보만 있으면, selenium을 사용하지 않고 직접 접근이 가능함\n",
    "# 검사 - Newrok 탭에서,\"?page\"로 시작하는 컨텐츠의 request url을 찾는다.\n",
    "# \"https://mail.naver.com/json/list/?page=1&sortField=1&sortType=0&folderSN=0&type=&isUnread=false&u=itleader2\"\n",
    "\n",
    "url = \"https://mail.naver.com/json/list/\"\n",
    "\n",
    "# folderSN이  메일함 번호 : 받은 메일함 0, 보낸 메일함 1, 임시 메일함 3, 휴지통 4, 스팸 메일함 5, 내게 쓴 메일함 6, 전체 메일함 -1, 수신 확인함 2(?)\n",
    "data = {\n",
    "    \"page\":1,\n",
    "    \"sortField\":1,\n",
    "    \"sortType\":0,\n",
    "    \"folderSN\":0,\n",
    "    \"isUnread\":\"false\",\n",
    "    \"u\":\"itleader2\"\n",
    "}"
   ]
  },
  {
   "cell_type": "code",
   "execution_count": 26,
   "metadata": {
    "hidden": true,
    "scrolled": false
   },
   "outputs": [],
   "source": [
    "# resp = requests.post(url, data)   # requests로 직접 가져오기 시도하는 경우, session 정보가 없어서 접근 안됨\n",
    "# selenium으로 로그인 과정에 생성한 session 정보를 이용해 접근\n",
    "resp = session.post(url, data)\n",
    "# resp.text    # json 파일"
   ]
  },
  {
   "cell_type": "code",
   "execution_count": 27,
   "metadata": {
    "hidden": true
   },
   "outputs": [
    {
     "data": {
      "text/plain": [
       "{'mailSN': 445,\n",
       " 'folderSN': 0,\n",
       " 'folderName': None,\n",
       " 'iconType': 0,\n",
       " 'status': 2097157,\n",
       " 'from': {'name': '씨사이드힐캠핑장', 'email': 'navercafe@naver.com'},\n",
       " 'subject': '축하드려요 씨사이드힐캠핑장 카페에 가입 되셨습니다.',\n",
       " 'receivedTime': 1461775976,\n",
       " 'sentTime': 1461775975,\n",
       " 'size': 12923,\n",
       " 'attachCount': 0,\n",
       " 'iDomainEmail': 'itleader2@naver.com',\n",
       " 'priority': 3,\n",
       " 'securityLevel': None,\n",
       " 'reSend': False,\n",
       " 'color': '#ffffff',\n",
       " 'preview': '',\n",
       " 'mimeSN': '1461775975.970823.21999.992822',\n",
       " 'toList': [{'name': 'itleader2', 'email': 'itleader2@naver.com'}],\n",
       " 'spamType': None,\n",
       " 'attachInfo': [],\n",
       " 'threadId': '<1461775975848.27178.380213836@cvplowl31.nm>',\n",
       " 'bccList': [],\n",
       " 'receiveByBcc': False,\n",
       " 'threadCount': 0,\n",
       " 'unreadThreadCount': 0,\n",
       " 'firstLocatedTime': 1461775976,\n",
       " 'remindAt': 0,\n",
       " 'threadRemindAt': 0,\n",
       " 'threadRemindFlag': 0,\n",
       " 'category': 203,\n",
       " 'bigFile': False,\n",
       " 'toMe': True,\n",
       " 'statusHex': '200005',\n",
       " 'isDomainMail': False}"
      ]
     },
     "execution_count": 27,
     "metadata": {},
     "output_type": "execute_result"
    }
   ],
   "source": [
    "# resp.json()\n",
    "# mail list 1개 가져오기 (확인)\n",
    "resp.json().get(\"mailData\").pop()"
   ]
  },
  {
   "cell_type": "code",
   "execution_count": 28,
   "metadata": {
    "hidden": true
   },
   "outputs": [
    {
     "data": {
      "text/plain": [
       "[[477, '네이버 메일 1차 휴면이 해지되어 메일을 받을 수 있습니다.', 1],\n",
       " [476, '네이버 아이디의 휴면이 해제되었습니다.', 1],\n",
       " [475, '네이버 아이디가 휴면 상태로 전환됩니다.', 1],\n",
       " [473, '안녕하세요. 민스뮤직 출판 관리자 입니다..', 1],\n",
       " [472, '개인정보 이용내역을 안내 드립니다.', 1],\n",
       " [469, '축하드려요 맥 쓰는 사람들 [구 맥북을 쓰는 사람들, 맥쓰사] 카페에 가입 되셨습니다.', 1],\n",
       " [466, '네이버 메일 1차 휴면이 해지되어 메일을 수신받을 수 있습니다.', 1],\n",
       " [463, '축하드려요 통기타 배워보리 카페에 가입 되셨습니다.', 1],\n",
       " [462, '축하드려요 낭만의 통기타 카페에 가입 되셨습니다.', 1],\n",
       " [461, '축하드려요 이성식 기타교실 카페에 가입 되셨습니다.', 1],\n",
       " [460, '축하드려요 그랩더기타 [통기타/배우기/독학/동영상강좌/악보/동영상/강좌] 카페에 가입 되셨습니다.', 1],\n",
       " [451, '축하드려요 우드워커 - 취미 목공, DIY, 원목가구 카페에 가입 되셨습니다.', 1],\n",
       " [447, '축하드려요 영흥도 농어바위 캠핑장 카페에 가입 되셨습니다.', 1],\n",
       " [446, '축하드려요 뮤즈캠핑장 카페에 가입 되셨습니다.', 1],\n",
       " [445, '축하드려요 씨사이드힐캠핑장 카페에 가입 되셨습니다.', 1],\n",
       " [444, '[네이버] 개인정보 이용내역을 안내해드립니다. ', 1],\n",
       " [443, 'N드라이브 운영원칙 개정 사전 안내 ', 1],\n",
       " [435, '축하드려요 아이컨, 경영컨설턴트, 전문가, 대학생들의 만남 (구 씨모어) 카페에 가입 되셨습니다.', 1],\n",
       " [431, '네이버 카페 이용약관 변경 사전 안내 ', 1],\n",
       " [430, '[N드라이브] 당신의 2013년 어떤 일이 있었나요?', 1],\n",
       " [429,\n",
       "  '축하드려요 C(Communication).H(Human).U(Unification).N(Necessity) 카페에 가입 되셨습니다.',\n",
       "  1],\n",
       " [428, '[N드라이브] 보다 편리하고 강력해진 기능 4가지를 소개합니다. ', 1],\n",
       " [415, 'itleader2@naver.com', 1],\n",
       " [413, 'itleader2@naver.com', 1],\n",
       " [411, '네이버포토뷰어로 N드라이브 사진도 보고 문화상품권도 받으세요', 1],\n",
       " [376, '네이버 유료이용약관 변경 관련 재안내', 1],\n",
       " [375, '네이버 유료이용약관 변경에 따른 고객안내 공지', 1],\n",
       " [353, '위젯과 가로보기로 더욱 편리해진 네이버 메일앱을 지금 설치해보세요!', 1],\n",
       " [349, '축하드려요 도곡레고교육센터 카페에 가입 되셨습니다.', 1],\n",
       " [310,\n",
       "  '축하드려요 &quot;Finance Company&quot; - 금융업(금융쟁이) 관련 종사자들의 카페 카페에 가입 되셨습니다.',\n",
       "  1]]"
      ]
     },
     "execution_count": 28,
     "metadata": {},
     "output_type": "execute_result"
    }
   ],
   "source": [
    "n_mail_lists = list()\n",
    "target = 1      # 정상 메일은 1로 tag를 지정\n",
    "\n",
    "for page in range(1, 3):\n",
    "    data[\"page\"] = page\n",
    "    resp = session.post(url, data)\n",
    "\n",
    "    for mail_list in resp.json().get(\"mailData\"):\n",
    "        n_mail_lists.append([mail_list.get(\"mailSN\"), mail_list.get(\"subject\"), target])\n",
    "\n",
    "n_mail_lists"
   ]
  },
  {
   "cell_type": "markdown",
   "metadata": {
    "hidden": true
   },
   "source": [
    "#### naver 스팸 메일 리스트 가져오기"
   ]
  },
  {
   "cell_type": "code",
   "execution_count": 29,
   "metadata": {
    "hidden": true
   },
   "outputs": [],
   "source": [
    "spam_url = \"https://mail.naver.com/json/list/\"\n",
    "\n",
    "spam_data = {\n",
    "    \"page\":1,             # 페이지 번호 지정\n",
    "    \"sortField\":1,\n",
    "    \"sortType\":0,\n",
    "    \"folderSN\":5,      # 스팸 메일함은 5\n",
    "    \"isUnread\":\"false\",\n",
    "    \"u\":\"itleader2\"\n",
    "}\n",
    "\n",
    "resp = session.post(spam_url, spam_data)    # resp는 JSON 형태"
   ]
  },
  {
   "cell_type": "code",
   "execution_count": 30,
   "metadata": {
    "hidden": true
   },
   "outputs": [
    {
     "data": {
      "text/plain": [
       "[[468,\n",
       "  '(광고) [선착순노하우공유!] 영어왕초보도 월500버는 엄마표 과외교사 양성과정 &amp; 비법노하우 (+ 추후 공무방 무자본 창업)',\n",
       "  0],\n",
       " [465,\n",
       "  '(광고) [선착순노하우공유!] 영어왕초보도 월500버는 엄마표 과외교사 양성과정 &amp; 비법노하우 (+ 추후 공무방 무자본 창업)',\n",
       "  0],\n",
       " [464,\n",
       "  '(광고) [선착순노하우공유!] 영어왕초보도 월500버는 엄마표 과외교사 양성과정 &amp; 비법노하우 (+ 추후 공무방 무자본 창업)',\n",
       "  0],\n",
       " [457, '우드워커 공동구매합니다.', 0],\n",
       " [456, '배송비만 내면 자투리 목재가 내손에', 0],\n",
       " [455, '우드워커 공동구매합니다.', 0],\n",
       " [454, '우드워커 공동구매합니다.', 0],\n",
       " [453, '우드워커 공동구매합니다.', 0],\n",
       " [452, '우드워커 공동구매합니다.', 0],\n",
       " [449, '(광고)국내 최정상 히트메이커 이단옆차기의 작곡 노하우를 알고싶다면!', 0],\n",
       " [448, '(광고)꿀팁! 사랑하는 사람에게 마음을 전하고 영화도 볼수있는 1+1 행사 진행 중!!', 0]]"
      ]
     },
     "execution_count": 30,
     "metadata": {},
     "output_type": "execute_result"
    }
   ],
   "source": [
    "spam_resp = session.post(url, data)\n",
    "\n",
    "n_spam_lists = list()\n",
    "target = 0          # spam 메일은 tag를 0으로 지정\n",
    "\n",
    "for mail_list in resp.json().get(\"mailData\"):\n",
    "    n_spam_lists.append([mail_list.get(\"mailSN\"), mail_list.get(\"subject\"), 0])\n",
    "\n",
    "n_spam_lists"
   ]
  },
  {
   "cell_type": "markdown",
   "metadata": {
    "hidden": true
   },
   "source": [
    "#### naver, google 메일 리스트 통합 => csv 파일로 저장"
   ]
  },
  {
   "cell_type": "code",
   "execution_count": 31,
   "metadata": {
    "hidden": true
   },
   "outputs": [
    {
     "data": {
      "text/plain": [
       "(98, 30, 40, 11)"
      ]
     },
     "execution_count": 31,
     "metadata": {},
     "output_type": "execute_result"
    }
   ],
   "source": [
    "len(g_mail_list), len(n_mail_lists), len(g_spam_list), len(n_spam_lists)"
   ]
  },
  {
   "cell_type": "code",
   "execution_count": null,
   "metadata": {
    "hidden": true
   },
   "outputs": [],
   "source": [
    "# 정상 메일\n",
    "mail_list = list()\n",
    "mail_list = g_mail_list + n_mail_lists\n",
    "\n",
    "# 스팸 메일\n",
    "spam_list = list()\n",
    "spam_list = g_spam_list + n_spam_lists"
   ]
  },
  {
   "cell_type": "code",
   "execution_count": 33,
   "metadata": {
    "hidden": true
   },
   "outputs": [
    {
     "data": {
      "text/plain": [
       "(128, 51)"
      ]
     },
     "execution_count": 33,
     "metadata": {},
     "output_type": "execute_result"
    }
   ],
   "source": [
    "len(mail_list), len(spam_list)"
   ]
  },
  {
   "cell_type": "code",
   "execution_count": null,
   "metadata": {
    "hidden": true
   },
   "outputs": [],
   "source": [
    "# 전체\n",
    "training_mail = list()\n",
    "training_mail = mail_list + spam_list"
   ]
  },
  {
   "cell_type": "code",
   "execution_count": 37,
   "metadata": {
    "hidden": true
   },
   "outputs": [
    {
     "data": {
      "text/html": [
       "<div>\n",
       "<style scoped>\n",
       "    .dataframe tbody tr th:only-of-type {\n",
       "        vertical-align: middle;\n",
       "    }\n",
       "\n",
       "    .dataframe tbody tr th {\n",
       "        vertical-align: top;\n",
       "    }\n",
       "\n",
       "    .dataframe thead th {\n",
       "        text-align: right;\n",
       "    }\n",
       "</style>\n",
       "<table border=\"1\" class=\"dataframe\">\n",
       "  <thead>\n",
       "    <tr style=\"text-align: right;\">\n",
       "      <th></th>\n",
       "      <th>mail_id</th>\n",
       "      <th>title</th>\n",
       "      <th>target</th>\n",
       "    </tr>\n",
       "  </thead>\n",
       "  <tbody>\n",
       "    <tr>\n",
       "      <th>0</th>\n",
       "      <td>169ebad92829028c</td>\n",
       "      <td>[파리바게트 케익 이벤트] 스토리지 관리를 근본적으로 변화할 수 있는 기술 : HP...</td>\n",
       "      <td>1</td>\n",
       "    </tr>\n",
       "    <tr>\n",
       "      <th>1</th>\n",
       "      <td>169eb72c79c71a04</td>\n",
       "      <td>성식님, Google 포토에서 만든 항목을 확인해 보세요</td>\n",
       "      <td>1</td>\n",
       "    </tr>\n",
       "    <tr>\n",
       "      <th>2</th>\n",
       "      <td>169eb64e4da5cb92</td>\n",
       "      <td>(광고) [AI 컨퍼런스] 성공적인 AI 비즈니스를 위한 실전가이드! NAVER, ...</td>\n",
       "      <td>1</td>\n",
       "    </tr>\n",
       "    <tr>\n",
       "      <th>3</th>\n",
       "      <td>169eb5ae0a2e6c0a</td>\n",
       "      <td>(광고)[하나카드, 기타안내]베트남 인기 복합 쇼핑센터 베트남 롯데마트 제휴 기념</td>\n",
       "      <td>1</td>\n",
       "    </tr>\n",
       "    <tr>\n",
       "      <th>4</th>\n",
       "      <td>169eb1e67c347736</td>\n",
       "      <td>AWS Builders | AWS 4월 기초교육 온라인 세미나에 초대합니다!</td>\n",
       "      <td>1</td>\n",
       "    </tr>\n",
       "  </tbody>\n",
       "</table>\n",
       "</div>"
      ],
      "text/plain": [
       "            mail_id                                              title  target\n",
       "0  169ebad92829028c  [파리바게트 케익 이벤트] 스토리지 관리를 근본적으로 변화할 수 있는 기술 : HP...       1\n",
       "1  169eb72c79c71a04                    성식님, Google 포토에서 만든 항목을 확인해 보세요       1\n",
       "2  169eb64e4da5cb92  (광고) [AI 컨퍼런스] 성공적인 AI 비즈니스를 위한 실전가이드! NAVER, ...       1\n",
       "3  169eb5ae0a2e6c0a      (광고)[하나카드, 기타안내]베트남 인기 복합 쇼핑센터 베트남 롯데마트 제휴 기념       1\n",
       "4  169eb1e67c347736         AWS Builders | AWS 4월 기초교육 온라인 세미나에 초대합니다!       1"
      ]
     },
     "execution_count": 37,
     "metadata": {},
     "output_type": "execute_result"
    }
   ],
   "source": [
    "df = pd.DataFrame(training_mail, columns=[\"mail_id\", \"title\", \"target\"])\n",
    "df.head()"
   ]
  },
  {
   "cell_type": "code",
   "execution_count": 17,
   "metadata": {
    "hidden": true,
    "scrolled": false
   },
   "outputs": [],
   "source": [
    "df.to_csv(\"training_mail.csv\", header=False, index=False)"
   ]
  },
  {
   "cell_type": "markdown",
   "metadata": {},
   "source": [
    "### 학습"
   ]
  },
  {
   "cell_type": "markdown",
   "metadata": {},
   "source": [
    "#### 학습 데이터 읽어오기"
   ]
  },
  {
   "cell_type": "code",
   "execution_count": 5,
   "metadata": {},
   "outputs": [],
   "source": [
    "collection = pd.read_csv(\"training_mail.csv\", header=None)"
   ]
  },
  {
   "cell_type": "code",
   "execution_count": 6,
   "metadata": {},
   "outputs": [
    {
     "data": {
      "text/html": [
       "<div>\n",
       "<style scoped>\n",
       "    .dataframe tbody tr th:only-of-type {\n",
       "        vertical-align: middle;\n",
       "    }\n",
       "\n",
       "    .dataframe tbody tr th {\n",
       "        vertical-align: top;\n",
       "    }\n",
       "\n",
       "    .dataframe thead th {\n",
       "        text-align: right;\n",
       "    }\n",
       "</style>\n",
       "<table border=\"1\" class=\"dataframe\">\n",
       "  <thead>\n",
       "    <tr style=\"text-align: right;\">\n",
       "      <th></th>\n",
       "      <th>mail_id</th>\n",
       "      <th>title</th>\n",
       "      <th>target</th>\n",
       "    </tr>\n",
       "  </thead>\n",
       "  <tbody>\n",
       "    <tr>\n",
       "      <th>0</th>\n",
       "      <td>169ebad92829028c</td>\n",
       "      <td>[파리바게트 케익 이벤트] 스토리지 관리를 근본적으로 변화할 수 있는 기술 : HP...</td>\n",
       "      <td>1</td>\n",
       "    </tr>\n",
       "    <tr>\n",
       "      <th>1</th>\n",
       "      <td>169eb72c79c71a04</td>\n",
       "      <td>성식님, Google 포토에서 만든 항목을 확인해 보세요</td>\n",
       "      <td>1</td>\n",
       "    </tr>\n",
       "    <tr>\n",
       "      <th>2</th>\n",
       "      <td>169eb64e4da5cb92</td>\n",
       "      <td>(광고) [AI 컨퍼런스] 성공적인 AI 비즈니스를 위한 실전가이드! NAVER, ...</td>\n",
       "      <td>1</td>\n",
       "    </tr>\n",
       "    <tr>\n",
       "      <th>3</th>\n",
       "      <td>169eb5ae0a2e6c0a</td>\n",
       "      <td>(광고)[하나카드, 기타안내]베트남 인기 복합 쇼핑센터 베트남 롯데마트 제휴 기념</td>\n",
       "      <td>1</td>\n",
       "    </tr>\n",
       "    <tr>\n",
       "      <th>4</th>\n",
       "      <td>169eb1e67c347736</td>\n",
       "      <td>AWS Builders | AWS 4월 기초교육 온라인 세미나에 초대합니다!</td>\n",
       "      <td>1</td>\n",
       "    </tr>\n",
       "  </tbody>\n",
       "</table>\n",
       "</div>"
      ],
      "text/plain": [
       "            mail_id                                              title  target\n",
       "0  169ebad92829028c  [파리바게트 케익 이벤트] 스토리지 관리를 근본적으로 변화할 수 있는 기술 : HP...       1\n",
       "1  169eb72c79c71a04                    성식님, Google 포토에서 만든 항목을 확인해 보세요       1\n",
       "2  169eb64e4da5cb92  (광고) [AI 컨퍼런스] 성공적인 AI 비즈니스를 위한 실전가이드! NAVER, ...       1\n",
       "3  169eb5ae0a2e6c0a      (광고)[하나카드, 기타안내]베트남 인기 복합 쇼핑센터 베트남 롯데마트 제휴 기념       1\n",
       "4  169eb1e67c347736         AWS Builders | AWS 4월 기초교육 온라인 세미나에 초대합니다!       1"
      ]
     },
     "execution_count": 6,
     "metadata": {},
     "output_type": "execute_result"
    }
   ],
   "source": [
    "collection.columns = [\"mail_id\", \"title\", \"target\"]\n",
    "collection.head()"
   ]
  },
  {
   "cell_type": "code",
   "execution_count": 7,
   "metadata": {},
   "outputs": [
    {
     "data": {
      "text/plain": [
       "array([['169ebad92829028c',\n",
       "        '[파리바게트 케익 이벤트] 스토리지 관리를 근본적으로 변화할 수 있는 기술 : HPE Infosight', 1],\n",
       "       ['169eb72c79c71a04', '성식님, Google 포토에서 만든 항목을 확인해 보세요', 1],\n",
       "       ['169eb64e4da5cb92',\n",
       "        '(광고) [AI 컨퍼런스] 성공적인 AI 비즈니스를 위한 실전가이드! NAVER, 그랩, 월마트랩스, Pfizer(화이자), CJ대한통운, 신한은행, 한국씨...',\n",
       "        1],\n",
       "       ['169eb5ae0a2e6c0a',\n",
       "        '(광고)[하나카드, 기타안내]베트남 인기 복합 쇼핑센터 베트남 롯데마트 제휴 기념', 1],\n",
       "       ['169eb1e67c347736', 'AWS Builders | AWS 4월 기초교육 온라인 세미나에 초대합니다!',\n",
       "        1]], dtype=object)"
      ]
     },
     "execution_count": 7,
     "metadata": {},
     "output_type": "execute_result"
    }
   ],
   "source": [
    "train_data = collection.values    # [[file_id, title, target], ...]\n",
    "train_data[:5]"
   ]
  },
  {
   "cell_type": "markdown",
   "metadata": {},
   "source": [
    "#### prior(사전 확률) 계산"
   ]
  },
  {
   "cell_type": "code",
   "execution_count": 8,
   "metadata": {},
   "outputs": [
    {
     "data": {
      "text/plain": [
       "(128, 51)"
      ]
     },
     "execution_count": 8,
     "metadata": {},
     "output_type": "execute_result"
    }
   ],
   "source": [
    "ham = [d for d in train_data if d[2] == 1]\n",
    "spam = [d for d in train_data if d[2] == 0]\n",
    "len(ham), len(spam)"
   ]
  },
  {
   "cell_type": "code",
   "execution_count": 9,
   "metadata": {},
   "outputs": [
    {
     "data": {
      "text/plain": [
       "(0.7150837988826816, 0.2849162011173184)"
      ]
     },
     "execution_count": 9,
     "metadata": {},
     "output_type": "execute_result"
    }
   ],
   "source": [
    "prior_ham = len(ham) / len(train_data)\n",
    "prior_spam = 1 - prior_ham\n",
    "prior_ham, prior_spam"
   ]
  },
  {
   "cell_type": "markdown",
   "metadata": {},
   "source": [
    "#### 전처리, 단어 빈도 계산"
   ]
  },
  {
   "cell_type": "code",
   "execution_count": 10,
   "metadata": {},
   "outputs": [],
   "source": [
    "from functions.info_retrieval import get_remove_pattern as rp"
   ]
  },
  {
   "cell_type": "code",
   "execution_count": 11,
   "metadata": {},
   "outputs": [],
   "source": [
    "# train_data_clean = list()\n",
    "\n",
    "# for filename, content, target in train_data:\n",
    "#     cleaned_content = rp()[\"email\"].sub(\" \", content)\n",
    "#     cleaned_content = rp()[\"url\"].sub(\" \", cleaned_content)\n",
    "#     cleaned_content = rp()[\"max_length\"].sub(\" \", cleaned_content)\n",
    "#     cleaned_content = rp()[\"numeric_length\"].sub(\" \", cleaned_content)\n",
    "#     cleaned_content = rp()[\"punctuation\"].sub(\" \", cleaned_content)\n",
    "#     cleaned_content = rp()[\"invalid_korean\"].sub(\" \", cleaned_content)\n",
    "#     cleaned_content = rp()[\"whitespace\"].sub(\" \", cleaned_content)\n",
    "#     cleaned_content = rp()[\"non_word\"].sub(\" \", cleaned_content)\n",
    "#     train_data_clean.append([filename, cleaned_content, target])\n",
    "\n",
    "# train_data_clean"
   ]
  },
  {
   "cell_type": "code",
   "execution_count": 12,
   "metadata": {},
   "outputs": [
    {
     "data": {
      "text/plain": [
       "(656, 343)"
      ]
     },
     "execution_count": 12,
     "metadata": {},
     "output_type": "execute_result"
    }
   ],
   "source": [
    "from collections import defaultdict\n",
    "\n",
    "tokens_ham = defaultdict(int)\n",
    "tokens_spam = defaultdict(int)\n",
    "\n",
    "for mail_id, title, target in ham:\n",
    "    for token in title.split():\n",
    "        tokens_ham[token] += 1\n",
    "\n",
    "for mail_id, title, target in spam:\n",
    "    for token in title.split():\n",
    "        tokens_spam[token] += 1\n",
    "        \n",
    "len(tokens_ham), len(tokens_spam)"
   ]
  },
  {
   "cell_type": "markdown",
   "metadata": {},
   "source": [
    "#### 조건부확률 계산"
   ]
  },
  {
   "cell_type": "code",
   "execution_count": 13,
   "metadata": {},
   "outputs": [
    {
     "data": {
      "text/plain": [
       "964"
      ]
     },
     "execution_count": 13,
     "metadata": {},
     "output_type": "execute_result"
    }
   ],
   "source": [
    "vocabulary = list(set(list(tokens_ham.keys()) + list(tokens_spam.keys())))\n",
    "len(vocabulary)"
   ]
  },
  {
   "cell_type": "code",
   "execution_count": 14,
   "metadata": {},
   "outputs": [
    {
     "data": {
      "text/plain": [
       "(924, 425)"
      ]
     },
     "execution_count": 14,
     "metadata": {},
     "output_type": "execute_result"
    }
   ],
   "source": [
    "tokens_ham_counts = sum(tokens_ham.values())\n",
    "tokens_spam_counts = sum(tokens_spam.values())\n",
    "tokens_ham_counts, tokens_spam_counts"
   ]
  },
  {
   "cell_type": "code",
   "execution_count": 15,
   "metadata": {},
   "outputs": [],
   "source": [
    "from math import log"
   ]
  },
  {
   "cell_type": "code",
   "execution_count": 16,
   "metadata": {},
   "outputs": [],
   "source": [
    "condprob_ham = defaultdict(float)\n",
    "condprob_spam = defaultdict(float)\n",
    "\n",
    "B = len(vocabulary)\n",
    "\n",
    "for token in vocabulary:\n",
    "    condprob_ham[token] += log((tokens_ham[token] + 1) / (tokens_ham_counts + B))\n",
    "    condprob_spam[token] += log((tokens_spam[token] + 1) / (tokens_spam_counts + B))"
   ]
  },
  {
   "cell_type": "code",
   "execution_count": 17,
   "metadata": {
    "scrolled": true
   },
   "outputs": [],
   "source": [
    "# print([[key, value] for key, value in condprob_ham.items()])\n",
    "# print(\"\")\n",
    "# print([[key, value] for key, value in condprob_spam.items()])"
   ]
  },
  {
   "cell_type": "markdown",
   "metadata": {},
   "source": [
    "### 분류"
   ]
  },
  {
   "cell_type": "markdown",
   "metadata": {},
   "source": [
    "#### Naive Bayes"
   ]
  },
  {
   "cell_type": "code",
   "execution_count": 32,
   "metadata": {},
   "outputs": [],
   "source": [
    "test_data = [\n",
    "    [1, \"(광고) 신용걱정 끝! 최저금리와 높은승인률로 '최대8천만원'까지 믿음직한 서민신용대출!!\", 0],\n",
    "    [2, \"200% 정품 비아그라 시알리스 / 온라인 최저가 판매 / 정품아닐시 200% 보상\", 0],\n",
    "    [3, \"고객님, 주문이 접수되었습니다.\", 1],\n",
    "    [4, \"예비군 훈련 안내문\", 1]\n",
    "]"
   ]
  },
  {
   "cell_type": "code",
   "execution_count": 42,
   "metadata": {},
   "outputs": [
    {
     "name": "stdout",
     "output_type": "stream",
     "text": [
      "0.0022725120727203852 0.0034870953340492544: Spam\n",
      "8.500431182671652e-10 9.5686995295063e-10: Spam\n",
      "8.024407036442038e-07 1.4767692940538037e-07: Ham\n",
      "0.7150837988826816 0.28491620111731847: Ham\n"
     ]
    }
   ],
   "source": [
    "from math import exp\n",
    "\n",
    "test_pred = []\n",
    "\n",
    "for d in test_data:\n",
    "    score_ham = log(prior_ham)\n",
    "    score_spam = log(prior_spam)\n",
    "\n",
    "    for t in d[1].lower().split():\n",
    "        score_ham += condprob_ham[t]\n",
    "        score_spam += condprob_spam[t]\n",
    "        \n",
    "    print(exp(score_ham), exp(score_spam), end=\": \")\n",
    "    if score_ham > score_spam:\n",
    "        print(\"Ham\")\n",
    "        test_pred.append([1])\n",
    "    else:\n",
    "        print(\"Spam\")\n",
    "        test_pred.append([0])"
   ]
  },
  {
   "cell_type": "markdown",
   "metadata": {},
   "source": [
    "#### kNN"
   ]
  },
  {
   "cell_type": "code",
   "execution_count": null,
   "metadata": {},
   "outputs": [],
   "source": []
  },
  {
   "cell_type": "code",
   "execution_count": null,
   "metadata": {},
   "outputs": [],
   "source": []
  },
  {
   "cell_type": "markdown",
   "metadata": {},
   "source": [
    "### 성능 평가"
   ]
  },
  {
   "cell_type": "code",
   "execution_count": 43,
   "metadata": {},
   "outputs": [],
   "source": [
    "from sklearn.metrics import classification_report\n",
    "from sklearn.metrics import confusion_matrix"
   ]
  },
  {
   "cell_type": "code",
   "execution_count": 41,
   "metadata": {},
   "outputs": [],
   "source": [
    "test_lables = [d[2] for d in test_data]"
   ]
  },
  {
   "cell_type": "code",
   "execution_count": 44,
   "metadata": {},
   "outputs": [
    {
     "data": {
      "text/plain": [
       "array([[2, 0],\n",
       "       [0, 2]])"
      ]
     },
     "execution_count": 44,
     "metadata": {},
     "output_type": "execute_result"
    }
   ],
   "source": [
    "result = confusion_matrix(test_lables, test_pred)\n",
    "result"
   ]
  },
  {
   "cell_type": "code",
   "execution_count": 45,
   "metadata": {},
   "outputs": [
    {
     "name": "stdout",
     "output_type": "stream",
     "text": [
      "Precision: 1.0\n",
      "Recall: 1.0\n",
      "Precision: 1.0\n",
      "Recall: 1.0\n"
     ]
    }
   ],
   "source": [
    "for i in range(result.shape[0]):\n",
    "    print(\"Precision: {0}\".format(result[i, i] / result[i].sum()))\n",
    "    print(\"Recall: {0}\".format(result[i, i] / result[:, i].sum()))"
   ]
  },
  {
   "cell_type": "code",
   "execution_count": 46,
   "metadata": {},
   "outputs": [
    {
     "name": "stdout",
     "output_type": "stream",
     "text": [
      "              precision    recall  f1-score   support\n",
      "\n",
      "           0       1.00      1.00      1.00         2\n",
      "           1       1.00      1.00      1.00         2\n",
      "\n",
      "   micro avg       1.00      1.00      1.00         4\n",
      "   macro avg       1.00      1.00      1.00         4\n",
      "weighted avg       1.00      1.00      1.00         4\n",
      "\n"
     ]
    }
   ],
   "source": [
    "print(classification_report(test_lables, test_pred))"
   ]
  },
  {
   "cell_type": "code",
   "execution_count": null,
   "metadata": {},
   "outputs": [],
   "source": []
  }
 ],
 "metadata": {
  "kernelspec": {
   "display_name": "Python 3",
   "language": "python",
   "name": "python3"
  },
  "language_info": {
   "codemirror_mode": {
    "name": "ipython",
    "version": 3
   },
   "file_extension": ".py",
   "mimetype": "text/x-python",
   "name": "python",
   "nbconvert_exporter": "python",
   "pygments_lexer": "ipython3",
   "version": "3.7.1"
  },
  "latex_envs": {
   "LaTeX_envs_menu_present": true,
   "autoclose": false,
   "autocomplete": true,
   "bibliofile": "biblio.bib",
   "cite_by": "apalike",
   "current_citInitial": 1,
   "eqLabelWithNumbers": true,
   "eqNumInitial": 1,
   "hotkeys": {
    "equation": "Ctrl-E",
    "itemize": "Ctrl-I"
   },
   "labels_anchors": false,
   "latex_user_defs": false,
   "report_style_numbering": false,
   "user_envs_cfg": false
  },
  "toc": {
   "base_numbering": 1,
   "nav_menu": {},
   "number_sections": false,
   "sideBar": true,
   "skip_h1_title": false,
   "title_cell": "Table of Contents",
   "title_sidebar": "Contents",
   "toc_cell": true,
   "toc_position": {},
   "toc_section_display": true,
   "toc_window_display": false
  }
 },
 "nbformat": 4,
 "nbformat_minor": 2
}
