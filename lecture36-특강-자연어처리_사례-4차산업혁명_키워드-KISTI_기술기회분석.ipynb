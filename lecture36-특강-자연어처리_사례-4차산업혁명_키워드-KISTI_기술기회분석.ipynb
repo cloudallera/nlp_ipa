{
 "cells": [
  {
   "cell_type": "markdown",
   "metadata": {
    "toc": true
   },
   "source": [
    "<h1>Table of Contents<span class=\"tocSkip\"></span></h1>\n",
    "<div class=\"toc\"><ul class=\"toc-item\"><li><span><a href=\"#특강---자연어처리-프로젝트-사례\" data-toc-modified-id=\"특강---자연어처리-프로젝트-사례-1\">특강 - 자연어처리 프로젝트 사례</a></span><ul class=\"toc-item\"><li><span><a href=\"#4차-산업혁명-주요-키워드-도출을-위한-빅데이터-분석-용역\" data-toc-modified-id=\"4차-산업혁명-주요-키워드-도출을-위한-빅데이터-분석-용역-1.1\">4차 산업혁명 주요 키워드 도출을 위한 빅데이터 분석 용역</a></span></li><li><span><a href=\"#항공산업-미래기술-예측-및-동향분석을-위한-빅데이터-수집-용역\" data-toc-modified-id=\"항공산업-미래기술-예측-및-동향분석을-위한-빅데이터-수집-용역-1.2\">항공산업 미래기술 예측 및 동향분석을 위한 빅데이터 수집 용역</a></span></li><li><span><a href=\"#기술기회분석\" data-toc-modified-id=\"기술기회분석-1.3\">기술기회분석</a></span></li><li><span><a href=\"#바이오-IP-플랫폼\" data-toc-modified-id=\"바이오-IP-플랫폼-1.4\">바이오 IP 플랫폼</a></span></li><li><span><a href=\"#랜섬웨어\" data-toc-modified-id=\"랜섬웨어-1.5\">랜섬웨어</a></span></li></ul></li></ul></div>"
   ]
  },
  {
   "cell_type": "markdown",
   "metadata": {},
   "source": [
    "## 특강 - 자연어처리 프로젝트 사례"
   ]
  },
  {
   "cell_type": "markdown",
   "metadata": {},
   "source": [
    "- 항공등화시설 딥러닝 , 자연어처리 특허 가치 및 평가, 랜선웨어 탐지\n",
    "- 백성하, 심플한 CEO (http://www.ohcomon.com/simpleHAN/intro/ceo.do)"
   ]
  },
  {
   "cell_type": "markdown",
   "metadata": {},
   "source": [
    "### 4차 산업혁명 주요 키워드 도출을 위한 빅데이터 분석 용역"
   ]
  },
  {
   "cell_type": "markdown",
   "metadata": {},
   "source": [
    "- 데이터 마이닝의 주요 추세 변화 : 과거 알고리즘 잘 짜기 -> 데이터와 툴이 풍부해져서, **아이디어를 도출하는 것이 중요** 해짐"
   ]
  },
  {
   "cell_type": "markdown",
   "metadata": {},
   "source": [
    "- **고도화 된 사전정보를 구축하는 것이 품질을 좌우함** : 국어사전 DB, IT사전 DB, 4차산업 말뭉치 등 (DB 구매 비용이 없어서 공개된 자료로 구축)\n",
    "- 경기 지역신문의 사설, 논평, 칼럼, IT/과학 뉴스 1만건 확보\n",
    "- 국립국어원의 사전 데이터 활용(18만건) => 4차산업혁명 키워드를 찾기 위해 사전에 등록된 일반 명사를 제외한 데이터를 찾음\n",
    "- IT용어사전 : TTA 정보통신 용어 사전 (유로로 제공) -> 크롤링을 통해 무료로 다운로드 -> 무료로 용어를 제공하는 개인 사이트의 정보를 다운로드\n",
    "- 형용사, 명사, 고유명사 만 사용\n",
    "- 4차산업 혁명 관련 순도 높은 자료 확보(정보 발표자료, 연구자료 등) : 용역발주기관에 관련 문서 요청하여 4차산업혁명 자료 확보"
   ]
  },
  {
   "cell_type": "markdown",
   "metadata": {},
   "source": [
    "- TF-IDF를 적용하여 키워드 추출"
   ]
  },
  {
   "cell_type": "markdown",
   "metadata": {},
   "source": [
    "- 16개의 4차 산업 주제어와 관련된 단어를 구축(수작업) 하여 주제 분석에 활용"
   ]
  },
  {
   "cell_type": "markdown",
   "metadata": {},
   "source": [
    "- 불용어 사전 : 인물이름 DB 구축 => 위키피디아 인물 정보"
   ]
  },
  {
   "cell_type": "markdown",
   "metadata": {},
   "source": [
    "### 항공산업 미래기술 예측 및 동향분석을 위한 빅데이터 수집 용역"
   ]
  },
  {
   "cell_type": "markdown",
   "metadata": {},
   "source": [
    "- 실패 : 데이터 부적합"
   ]
  },
  {
   "cell_type": "markdown",
   "metadata": {},
   "source": [
    "- 미국 특허 사이트(USPTO) : 특허 원문 정보를 받을 수 있음 -> 이미 완성된 기술에 대한 정보만 포함하고 있음 => 미래기술을 예측하려면 논문 같은 최신 자료가 필요함\n",
    "- 영어 항공 사전 활용"
   ]
  },
  {
   "cell_type": "markdown",
   "metadata": {},
   "source": [
    "- 특허청 KSIC -> IPC 매핑 테이블 이용 : 항공 제조업, 컴퓨터 SW 관련 분류 찾기 <br>\n",
    "   => 항공분야 회사가 출원한 특허들을 찾으면 더 순노 높은 항공분야 특허를 찾을 수 있음"
   ]
  },
  {
   "cell_type": "markdown",
   "metadata": {},
   "source": [
    "- \"발명의 배경(description_Summary)\" 부분에 중요한 정보가 많이 포함되어 있음"
   ]
  },
  {
   "cell_type": "markdown",
   "metadata": {},
   "source": [
    "### 기술기회분석"
   ]
  },
  {
   "cell_type": "markdown",
   "metadata": {},
   "source": [
    "https://tod.kisti.re.kr/index.do\n",
    "\n",
    "특허 정보를 이용해서 제품, 특허, 기업 정보를 연계하여 특정 기업의 제품관 관련된 기술기회 검색 서비스를 제공"
   ]
  },
  {
   "cell_type": "markdown",
   "metadata": {},
   "source": [
    "- 제품 용어 사전 : 특허 상표 DB에서 추출 (제품 용어를 추출하는 것이 중요 => US Patents에서 제품명 수집)"
   ]
  },
  {
   "cell_type": "markdown",
   "metadata": {},
   "source": [
    "- 제품 vs. 제품 관계, 제품 vs. 특허 관계를 자동 추출\n",
    "- 전방 제품, 후방 제품 정보 추출\n",
    "- 제품 - 특허 - 기업 정보 연계"
   ]
  },
  {
   "cell_type": "markdown",
   "metadata": {},
   "source": [
    "- 개체 분석 및 개체 간 관계 추출(패턴생성) 프로세스 :<br>\n",
    "   => 문맥분석을 통한 제품 분류 <br>\n",
    "   => 개체 추출 -> 개체 주변 문맥 추출 -> 후보 패턴 제시 -> 패턴 검증"
   ]
  },
  {
   "cell_type": "markdown",
   "metadata": {},
   "source": [
    "- 분야별 전문가를 통해 데이터 정제(pre-processing) => 특허번호, 특허명, 제품명 등..."
   ]
  },
  {
   "cell_type": "markdown",
   "metadata": {},
   "source": [
    "- 제품-특허의 동시발생 정보를 활용 : 특정 제품을 포함하는 특허 리스트와 또 다른 제품을 포함하는 특허 리스트 간의 Cosine Similarity"
   ]
  },
  {
   "cell_type": "markdown",
   "metadata": {},
   "source": [
    "- 데이터 간의 링크 구조를 잘 다룰 수 있어야 분석이 가능함 : 효율적인 링크 구조 설계"
   ]
  },
  {
   "cell_type": "markdown",
   "metadata": {},
   "source": [
    "### 바이오 IP 플랫폼"
   ]
  },
  {
   "cell_type": "markdown",
   "metadata": {},
   "source": [
    "- (주)윕스 한국 특허정보와 식품의약품안전처, 질병관리본부 제품(의약품), 질병, 기업정보 75만 여건 확보 => 잘 정제된 데이터 활용\n",
    "- 정보검색(일반검색, 시멘틱/온톨로지 지능화검색), 특허평가(등급평가, 가치평가 => 스마트3.0 방법 적용) 서비스 제공\n",
    "- 항노화 산업 활성화 프로젝트의 일부\n",
    "- 바이오 의약품 데이터는 성분 정보가 중요함(성분의 함량 포함) => 성분 vs. 특성, 성분 vs. 제품 관계 추출 필요 (정제된 성분 사전 DB가 없음)\n",
    "- 전문분야 지식이 없이 도전하면 낭패를 볼 수 있음 => 해당분야 전문가 또는 기존 시스템에 대한 지식이 필요함\n",
    "- 특허정보 검색을 위한 검색식을 효율적으로 작성하는 것이 특허분야의 노하우임"
   ]
  },
  {
   "cell_type": "markdown",
   "metadata": {},
   "source": [
    "### 랜섬웨어"
   ]
  },
  {
   "cell_type": "markdown",
   "metadata": {},
   "source": [
    "- SSD에 랜섬웨어 탐지 코드를 추가하는 사업 : 파일 IO 정보만을 이용해서 패턴을 탐지해야 함"
   ]
  },
  {
   "cell_type": "code",
   "execution_count": null,
   "metadata": {},
   "outputs": [],
   "source": []
  }
 ],
 "metadata": {
  "kernelspec": {
   "display_name": "Python 3",
   "language": "python",
   "name": "python3"
  },
  "language_info": {
   "codemirror_mode": {
    "name": "ipython",
    "version": 3
   },
   "file_extension": ".py",
   "mimetype": "text/x-python",
   "name": "python",
   "nbconvert_exporter": "python",
   "pygments_lexer": "ipython3",
   "version": "3.7.1"
  },
  "latex_envs": {
   "LaTeX_envs_menu_present": true,
   "autoclose": false,
   "autocomplete": true,
   "bibliofile": "biblio.bib",
   "cite_by": "apalike",
   "current_citInitial": 1,
   "eqLabelWithNumbers": true,
   "eqNumInitial": 1,
   "hotkeys": {
    "equation": "Ctrl-E",
    "itemize": "Ctrl-I"
   },
   "labels_anchors": false,
   "latex_user_defs": false,
   "report_style_numbering": false,
   "user_envs_cfg": false
  },
  "toc": {
   "base_numbering": 1,
   "nav_menu": {},
   "number_sections": false,
   "sideBar": true,
   "skip_h1_title": false,
   "title_cell": "Table of Contents",
   "title_sidebar": "Contents",
   "toc_cell": true,
   "toc_position": {},
   "toc_section_display": true,
   "toc_window_display": false
  }
 },
 "nbformat": 4,
 "nbformat_minor": 2
}
