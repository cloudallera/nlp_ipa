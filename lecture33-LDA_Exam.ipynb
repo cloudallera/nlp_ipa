{
 "cells": [
  {
   "cell_type": "markdown",
   "metadata": {
    "toc": true
   },
   "source": [
    "<h1>Table of Contents<span class=\"tocSkip\"></span></h1>\n",
    "<div class=\"toc\"><ul class=\"toc-item\"><li><span><a href=\"#LDA-계산식\" data-toc-modified-id=\"LDA-계산식-1\">LDA 계산식</a></span></li><li><span><a href=\"#LDA-pseudo-code\" data-toc-modified-id=\"LDA-pseudo-code-2\">LDA pseudo code</a></span></li><li><span><a href=\"#LDA-Exam\" data-toc-modified-id=\"LDA-Exam-3\">LDA Exam</a></span></li></ul></div>"
   ]
  },
  {
   "cell_type": "markdown",
   "metadata": {},
   "source": [
    "### LDA 계산식"
   ]
  },
  {
   "cell_type": "markdown",
   "metadata": {},
   "source": [
    "![lda1](./images/LDA1.png)"
   ]
  },
  {
   "cell_type": "markdown",
   "metadata": {},
   "source": [
    "### LDA pseudo code"
   ]
  },
  {
   "attachments": {},
   "cell_type": "markdown",
   "metadata": {},
   "source": [
    "![lda2](./images/LDA2.png)"
   ]
  },
  {
   "cell_type": "markdown",
   "metadata": {},
   "source": [
    "### LDA Exam"
   ]
  },
  {
   "cell_type": "code",
   "execution_count": 16,
   "metadata": {},
   "outputs": [],
   "source": [
    "from collections import defaultdict"
   ]
  },
  {
   "cell_type": "code",
   "execution_count": 48,
   "metadata": {},
   "outputs": [],
   "source": [
    "from random import randrange, seed, random"
   ]
  },
  {
   "cell_type": "code",
   "execution_count": 66,
   "metadata": {},
   "outputs": [],
   "source": [
    "collection = [\n",
    "    [\"Hadoop\", \"Big Data\", \"HBase\", \"Java\", \"Spark\", \"Storm\", \"Cassandra\"],\n",
    "    [\"NoSQL\", \"MongoDB\", \"Cassandra\", \"HBase\", \"Postgres\"],\n",
    "    [\"Python\", \"scikit-learn\", \"scipy\", \"numpy\", \"statsmodels\", \"pandas\"],\n",
    "    [\"R\", \"Python\", \"statistics\", \"regression\", \"probability\"],\n",
    "    [\"machine learning\", \"regression\", \"decision trees\", \"libsvm\"],\n",
    "    [\"Python\", \"R\", \"Java\", \"C++\", \"Haskell\", \"programming languages\"],\n",
    "    [\"statistics\", \"probability\", \"mathematics\", \"theory\"],\n",
    "    [\"machine learning\", \"scikit-learn\", \"Mahout\", \"neural networks\"],\n",
    "    [\"neural networks\", \"deep learning\", \"Big Data\", \"artificial intelligence\"],\n",
    "    [\"Hadoop\", \"Java\", \"MapReduce\", \"Big Data\"],\n",
    "    [\"statistics\", \"R\", \"statsmodels\"],\n",
    "    [\"C++\", \"deep learning\", \"artificial intelligence\", \"probability\"],\n",
    "    [\"pandas\", \"R\", \"Python\"],\n",
    "    [\"databases\", \"HBase\", \"Postgres\", \"MySQL\", \"MongoDB\"],\n",
    "    [\"libsvm\", \"regression\", \"support vector machines\"]\n",
    "]"
   ]
  },
  {
   "cell_type": "code",
   "execution_count": 67,
   "metadata": {},
   "outputs": [],
   "source": [
    "documents = defaultdict(lambda: defaultdict(int))    # DTM  (collection을 DTM 형태의 dictionary로 변환한 것)\n",
    "vocabulary = list()\n",
    "\n",
    "for i, d in enumerate(collection):\n",
    "    # i : 문서제목,  d: i번째 문서 내 단어 목록\n",
    "    for term in d:\n",
    "        documents[i][term.lower()] += 1\n",
    "        vocabulary.append(term.lower())\n",
    "        \n",
    "vocabulary = list(set(vocabulary))"
   ]
  },
  {
   "cell_type": "code",
   "execution_count": 68,
   "metadata": {},
   "outputs": [],
   "source": [
    "a = 0.1\n",
    "b = 0.1\n",
    "\n",
    "K = 3   # 전체 토픽 수\n",
    "\n",
    "M = len(documents)\n",
    "V = len(vocabulary)    # l, v\n",
    "\n",
    "# 특정 Topic에 몇개의 단어가 있는지 => 분모 부분\n",
    "topicTermCount = defaultdict(int)\n",
    "\n",
    "# 문서에 상관없이 특정 단어의 토픽 할당 횟수 =>\n",
    "docTopicDistribution = defaultdict(lambda: defaultdict(int))\n",
    "# [document][0번째토픽:몇개의 단어, 1번째토픽: 몇개의 단어, ...]\n",
    "\n",
    "# 특정 문서의 단어에 상관 없이 토픽 할당 횟수 =>\n",
    "topicTermDistribution = defaultdict(lambda: defaultdict(int))\n",
    "# [topic][Vocaburaty0:몇번, ..., n:몇번 ]\n",
    "\n",
    "# Z_m1 = m번째 문서 1번째 단어의 Topic\n",
    "# M개의 문서만큼 => N개의 단어 => Topic\n",
    "termTopicAssignmentMatrix = defaultdict(lambda: defaultdict(int))\n",
    "# z[document][term] = Topic\n",
    "# n(i, (j, r)) = i번째 토픽의 횟수, j번째 문서의 r번째 단어"
   ]
  },
  {
   "cell_type": "code",
   "execution_count": 69,
   "metadata": {},
   "outputs": [],
   "source": [
    "seed(0)\n",
    "\n",
    "for i, termList in enumerate(collection):\n",
    "    for j, term in enumerate(termList):\n",
    "        token = term.lower()\n",
    "        topic = randrange(K)\n",
    "        \n",
    "        topicTermCount[topic] += 1\n",
    "        docTopicDistribution[i][topic] += 1\n",
    "        topicTermDistribution[topic][term] += 1\n",
    "        \n",
    "        termTopicAssignmentMatrix[i][j] = topic"
   ]
  },
  {
   "cell_type": "code",
   "execution_count": 25,
   "metadata": {},
   "outputs": [
    {
     "data": {
      "text/plain": [
       "defaultdict(int, {1: 23, 0: 20, 2: 24})"
      ]
     },
     "execution_count": 25,
     "metadata": {},
     "output_type": "execute_result"
    }
   ],
   "source": [
    "topicTermCount"
   ]
  },
  {
   "cell_type": "code",
   "execution_count": 15,
   "metadata": {
    "scrolled": true
   },
   "outputs": [
    {
     "data": {
      "text/plain": [
       "defaultdict(<function __main__.<lambda>()>,\n",
       "            {0: defaultdict(int, {0: 1, 1: 1, 2: 0, 3: 1, 4: 2, 5: 1, 6: 1}),\n",
       "             1: defaultdict(int, {0: 1, 1: 1, 2: 1, 3: 2, 4: 0}),\n",
       "             2: defaultdict(int, {0: 2, 1: 0, 2: 1, 3: 0, 4: 0, 5: 2}),\n",
       "             3: defaultdict(int, {0: 1, 1: 2, 2: 2, 3: 2, 4: 0}),\n",
       "             4: defaultdict(int, {0: 1, 1: 0, 2: 2, 3: 0}),\n",
       "             5: defaultdict(int, {0: 2, 1: 1, 2: 1, 3: 2, 4: 0, 5: 1}),\n",
       "             6: defaultdict(int, {0: 1, 1: 1, 2: 2, 3: 2}),\n",
       "             7: defaultdict(int, {0: 0, 1: 2, 2: 1, 3: 1}),\n",
       "             8: defaultdict(int, {0: 2, 1: 1, 2: 0, 3: 2}),\n",
       "             9: defaultdict(int, {0: 0, 1: 0, 2: 2, 3: 1}),\n",
       "             10: defaultdict(int, {0: 2, 1: 2, 2: 2}),\n",
       "             11: defaultdict(int, {0: 0, 1: 2, 2: 1, 3: 1}),\n",
       "             12: defaultdict(int, {0: 0, 1: 2, 2: 1}),\n",
       "             13: defaultdict(int, {0: 2, 1: 0, 2: 0, 3: 2, 4: 0}),\n",
       "             14: defaultdict(int, {0: 0, 1: 0, 2: 2})})"
      ]
     },
     "execution_count": 15,
     "metadata": {},
     "output_type": "execute_result"
    }
   ],
   "source": [
    "termTopicAssignmentMatrix"
   ]
  },
  {
   "cell_type": "code",
   "execution_count": 19,
   "metadata": {},
   "outputs": [
    {
     "data": {
      "text/plain": [
       "defaultdict(<function __main__.<lambda>()>,\n",
       "            {0: defaultdict(int, {1: 5, 0: 1, 2: 1}),\n",
       "             1: defaultdict(int, {1: 3, 2: 1, 0: 1}),\n",
       "             2: defaultdict(int, {2: 2, 0: 3, 1: 1}),\n",
       "             3: defaultdict(int, {1: 1, 2: 3, 0: 1}),\n",
       "             4: defaultdict(int, {1: 1, 0: 2, 2: 1}),\n",
       "             5: defaultdict(int, {2: 2, 1: 3, 0: 1}),\n",
       "             6: defaultdict(int, {1: 2, 2: 2}),\n",
       "             7: defaultdict(int, {0: 1, 2: 1, 1: 2}),\n",
       "             8: defaultdict(int, {2: 2, 1: 1, 0: 1}),\n",
       "             9: defaultdict(int, {0: 2, 2: 1, 1: 1}),\n",
       "             10: defaultdict(int, {2: 3}),\n",
       "             11: defaultdict(int, {0: 1, 2: 1, 1: 2}),\n",
       "             12: defaultdict(int, {0: 1, 2: 1, 1: 1}),\n",
       "             13: defaultdict(int, {2: 2, 0: 3}),\n",
       "             14: defaultdict(int, {0: 2, 2: 1})})"
      ]
     },
     "execution_count": 19,
     "metadata": {},
     "output_type": "execute_result"
    }
   ],
   "source": [
    "docTopicDistribution"
   ]
  },
  {
   "cell_type": "code",
   "execution_count": 20,
   "metadata": {
    "scrolled": true
   },
   "outputs": [
    {
     "data": {
      "text/plain": [
       "defaultdict(<function __main__.<lambda>()>,\n",
       "            {1: defaultdict(int,\n",
       "                         {'Hadoop': 1,\n",
       "                          'Big Data': 2,\n",
       "                          'Java': 2,\n",
       "                          'Storm': 1,\n",
       "                          'Cassandra': 2,\n",
       "                          'NoSQL': 1,\n",
       "                          'MongoDB': 1,\n",
       "                          'scipy': 1,\n",
       "                          'R': 2,\n",
       "                          'machine learning': 1,\n",
       "                          'programming languages': 1,\n",
       "                          'statistics': 1,\n",
       "                          'probability': 2,\n",
       "                          'Mahout': 1,\n",
       "                          'neural networks': 1,\n",
       "                          'deep learning': 1,\n",
       "                          'artificial intelligence': 1,\n",
       "                          'Python': 1}),\n",
       "             0: defaultdict(int,\n",
       "                         {'HBase': 2,\n",
       "                          'Postgres': 2,\n",
       "                          'scikit-learn': 1,\n",
       "                          'numpy': 1,\n",
       "                          'statsmodels': 1,\n",
       "                          'probability': 1,\n",
       "                          'regression': 2,\n",
       "                          'libsvm': 2,\n",
       "                          'Haskell': 1,\n",
       "                          'machine learning': 1,\n",
       "                          'Big Data': 1,\n",
       "                          'Hadoop': 1,\n",
       "                          'Java': 1,\n",
       "                          'C++': 1,\n",
       "                          'pandas': 1,\n",
       "                          'MongoDB': 1}),\n",
       "             2: defaultdict(int,\n",
       "                         {'Spark': 1,\n",
       "                          'HBase': 1,\n",
       "                          'Python': 3,\n",
       "                          'pandas': 1,\n",
       "                          'statistics': 2,\n",
       "                          'regression': 1,\n",
       "                          'decision trees': 1,\n",
       "                          'C++': 1,\n",
       "                          'mathematics': 1,\n",
       "                          'theory': 1,\n",
       "                          'scikit-learn': 1,\n",
       "                          'neural networks': 1,\n",
       "                          'artificial intelligence': 1,\n",
       "                          'MapReduce': 1,\n",
       "                          'R': 2,\n",
       "                          'statsmodels': 1,\n",
       "                          'deep learning': 1,\n",
       "                          'databases': 1,\n",
       "                          'MySQL': 1,\n",
       "                          'support vector machines': 1})})"
      ]
     },
     "execution_count": 20,
     "metadata": {},
     "output_type": "execute_result"
    }
   ],
   "source": [
    "topicTermDistribution"
   ]
  },
  {
   "cell_type": "code",
   "execution_count": 70,
   "metadata": {},
   "outputs": [],
   "source": [
    "iterationNumber = 1000\n",
    "\n",
    "for _ in range(iterationNumber):\n",
    "    for i, termList in enumerate(collection):\n",
    "        for j, term in enumerate(termList):\n",
    "            # m, l => i, j\n",
    "            # m을 고정해댜 되고, l을 고정해야 함 => topicTermAssignment\n",
    "            topic = termTopicAssignmentMatrix[i][j]\n",
    "\n",
    "            topicTermCount[topic] -= 1\n",
    "            docTopicDistribution[i][topic] -= 1\n",
    "            topicTermDistribution[topic][term] -= 1\n",
    "            \n",
    "            topic = collepsedGibbsSampling(i, term)\n",
    "            \n",
    "            topicTermCount[topic] += 1\n",
    "            docTopicDistribution[i][topic] += 1\n",
    "            topicTermDistribution[topic][term] += 1\n",
    "            \n",
    "            termTopicAssignmentMatrix[i][j] = topic\n",
    "#             break\n",
    "#         break\n",
    "#     break"
   ]
  },
  {
   "cell_type": "code",
   "execution_count": 55,
   "metadata": {},
   "outputs": [],
   "source": [
    "def collepsedGibbsSampling(i, term):\n",
    "    sampling = list()\n",
    "    for k in range(K):\n",
    "        # k번째 토픽에 대한 확률\n",
    "        sampling.append(likelihoodAlpha(i, k) * likelihoodBeta(k, term))\n",
    "        \n",
    "    threshold = sum(sampling) * random()    # 0~1 사이의 값 (sample 들 중에서 위치 선택) => 적당한 k번째를 고르기 위한 샘플링\n",
    "    \n",
    "    for topicNo, topicProbability in enumerate(sampling):\n",
    "        threshold -= topicProbability\n",
    "        \n",
    "        if threshold <= 0.0:\n",
    "            return topicNo\n",
    "        \n",
    "#     # print(sampling)\n",
    "#     return termTopicAssignmentMatrix[i][term]"
   ]
  },
  {
   "cell_type": "code",
   "execution_count": 56,
   "metadata": {
    "scrolled": true
   },
   "outputs": [],
   "source": [
    "def likelihoodAlpha(i, k):    # 문서, 토픽\n",
    "    return docTopicDistribution[i][k] + a"
   ]
  },
  {
   "cell_type": "code",
   "execution_count": 57,
   "metadata": {},
   "outputs": [],
   "source": [
    "def likelihoodBeta(k, term):    # 토픽, term\n",
    "    return (topicTermDistribution[k][term] + b) / (topicTermCount[k] + (b * V))"
   ]
  },
  {
   "cell_type": "code",
   "execution_count": 71,
   "metadata": {},
   "outputs": [
    {
     "data": {
      "text/plain": [
       "defaultdict(<function __main__.<lambda>()>,\n",
       "            {0: defaultdict(int, {1: 7, 0: 0, 2: 0}),\n",
       "             1: defaultdict(int, {1: 5, 2: 0, 0: 0}),\n",
       "             2: defaultdict(int, {2: 3, 0: 3, 1: 0}),\n",
       "             3: defaultdict(int, {1: 0, 2: 3, 0: 2}),\n",
       "             4: defaultdict(int, {1: 0, 0: 4, 2: 0}),\n",
       "             5: defaultdict(int, {2: 3, 1: 1, 0: 2}),\n",
       "             6: defaultdict(int, {1: 0, 2: 4, 0: 0}),\n",
       "             7: defaultdict(int, {0: 4, 2: 0, 1: 0}),\n",
       "             8: defaultdict(int, {2: 0, 1: 1, 0: 3}),\n",
       "             9: defaultdict(int, {0: 0, 2: 0, 1: 4}),\n",
       "             10: defaultdict(int, {2: 3, 0: 0, 1: 0}),\n",
       "             11: defaultdict(int, {0: 3, 2: 1, 1: 0}),\n",
       "             12: defaultdict(int, {0: 0, 2: 3, 1: 0}),\n",
       "             13: defaultdict(int, {2: 0, 0: 0, 1: 5}),\n",
       "             14: defaultdict(int, {0: 3, 2: 0, 1: 0})})"
      ]
     },
     "execution_count": 71,
     "metadata": {},
     "output_type": "execute_result"
    }
   ],
   "source": [
    "docTopicDistribution"
   ]
  },
  {
   "cell_type": "code",
   "execution_count": 72,
   "metadata": {},
   "outputs": [
    {
     "data": {
      "text/plain": [
       "defaultdict(<function __main__.<lambda>()>,\n",
       "            {1: defaultdict(int,\n",
       "                         {'Hadoop': 2,\n",
       "                          'Big Data': 3,\n",
       "                          'Java': 3,\n",
       "                          'Storm': 1,\n",
       "                          'Cassandra': 2,\n",
       "                          'NoSQL': 1,\n",
       "                          'MongoDB': 2,\n",
       "                          'scipy': 0,\n",
       "                          'R': 0,\n",
       "                          'machine learning': 0,\n",
       "                          'programming languages': 0,\n",
       "                          'statistics': 0,\n",
       "                          'probability': 0,\n",
       "                          'Mahout': 0,\n",
       "                          'neural networks': 0,\n",
       "                          'deep learning': 0,\n",
       "                          'artificial intelligence': 0,\n",
       "                          'Python': 0,\n",
       "                          'HBase': 3,\n",
       "                          'Spark': 1,\n",
       "                          'Postgres': 2,\n",
       "                          'scikit-learn': 0,\n",
       "                          'numpy': 0,\n",
       "                          'statsmodels': 0,\n",
       "                          'pandas': 0,\n",
       "                          'regression': 0,\n",
       "                          'decision trees': 0,\n",
       "                          'libsvm': 0,\n",
       "                          'C++': 0,\n",
       "                          'Haskell': 0,\n",
       "                          'mathematics': 0,\n",
       "                          'theory': 0,\n",
       "                          'MapReduce': 1,\n",
       "                          'databases': 1,\n",
       "                          'MySQL': 1,\n",
       "                          'support vector machines': 0}),\n",
       "             0: defaultdict(int,\n",
       "                         {'HBase': 0,\n",
       "                          'Postgres': 0,\n",
       "                          'scikit-learn': 2,\n",
       "                          'numpy': 1,\n",
       "                          'statsmodels': 0,\n",
       "                          'probability': 0,\n",
       "                          'regression': 3,\n",
       "                          'libsvm': 2,\n",
       "                          'Haskell': 1,\n",
       "                          'machine learning': 2,\n",
       "                          'Big Data': 0,\n",
       "                          'Hadoop': 0,\n",
       "                          'Java': 0,\n",
       "                          'C++': 2,\n",
       "                          'pandas': 0,\n",
       "                          'MongoDB': 0,\n",
       "                          'Spark': 0,\n",
       "                          'Storm': 0,\n",
       "                          'Cassandra': 0,\n",
       "                          'NoSQL': 0,\n",
       "                          'Python': 2,\n",
       "                          'scipy': 0,\n",
       "                          'R': 0,\n",
       "                          'statistics': 0,\n",
       "                          'decision trees': 1,\n",
       "                          'programming languages': 0,\n",
       "                          'mathematics': 0,\n",
       "                          'theory': 0,\n",
       "                          'Mahout': 1,\n",
       "                          'neural networks': 2,\n",
       "                          'deep learning': 2,\n",
       "                          'artificial intelligence': 2,\n",
       "                          'MapReduce': 0,\n",
       "                          'databases': 0,\n",
       "                          'MySQL': 0,\n",
       "                          'support vector machines': 1}),\n",
       "             2: defaultdict(int,\n",
       "                         {'Spark': 0,\n",
       "                          'HBase': 0,\n",
       "                          'Python': 2,\n",
       "                          'pandas': 2,\n",
       "                          'statistics': 3,\n",
       "                          'regression': 0,\n",
       "                          'decision trees': 0,\n",
       "                          'C++': 0,\n",
       "                          'mathematics': 1,\n",
       "                          'theory': 1,\n",
       "                          'scikit-learn': 0,\n",
       "                          'neural networks': 0,\n",
       "                          'artificial intelligence': 0,\n",
       "                          'MapReduce': 0,\n",
       "                          'R': 4,\n",
       "                          'statsmodels': 2,\n",
       "                          'deep learning': 0,\n",
       "                          'databases': 0,\n",
       "                          'MySQL': 0,\n",
       "                          'support vector machines': 0,\n",
       "                          'Hadoop': 0,\n",
       "                          'Big Data': 0,\n",
       "                          'Java': 0,\n",
       "                          'Storm': 0,\n",
       "                          'Cassandra': 0,\n",
       "                          'NoSQL': 0,\n",
       "                          'MongoDB': 0,\n",
       "                          'Postgres': 0,\n",
       "                          'scipy': 1,\n",
       "                          'numpy': 0,\n",
       "                          'probability': 3,\n",
       "                          'machine learning': 0,\n",
       "                          'libsvm': 0,\n",
       "                          'Haskell': 0,\n",
       "                          'programming languages': 1,\n",
       "                          'Mahout': 0})})"
      ]
     },
     "execution_count": 72,
     "metadata": {},
     "output_type": "execute_result"
    }
   ],
   "source": [
    "topicTermDistribution"
   ]
  },
  {
   "cell_type": "code",
   "execution_count": null,
   "metadata": {},
   "outputs": [],
   "source": []
  }
 ],
 "metadata": {
  "kernelspec": {
   "display_name": "Python 3",
   "language": "python",
   "name": "python3"
  },
  "language_info": {
   "codemirror_mode": {
    "name": "ipython",
    "version": 3
   },
   "file_extension": ".py",
   "mimetype": "text/x-python",
   "name": "python",
   "nbconvert_exporter": "python",
   "pygments_lexer": "ipython3",
   "version": "3.7.1"
  },
  "latex_envs": {
   "LaTeX_envs_menu_present": true,
   "autoclose": false,
   "autocomplete": true,
   "bibliofile": "biblio.bib",
   "cite_by": "apalike",
   "current_citInitial": 1,
   "eqLabelWithNumbers": true,
   "eqNumInitial": 1,
   "hotkeys": {
    "equation": "Ctrl-E",
    "itemize": "Ctrl-I"
   },
   "labels_anchors": false,
   "latex_user_defs": false,
   "report_style_numbering": false,
   "user_envs_cfg": false
  },
  "toc": {
   "base_numbering": 1,
   "nav_menu": {},
   "number_sections": false,
   "sideBar": true,
   "skip_h1_title": false,
   "title_cell": "Table of Contents",
   "title_sidebar": "Contents",
   "toc_cell": true,
   "toc_position": {},
   "toc_section_display": true,
   "toc_window_display": false
  }
 },
 "nbformat": 4,
 "nbformat_minor": 2
}
