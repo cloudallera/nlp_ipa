{
 "cells": [
  {
   "cell_type": "markdown",
   "metadata": {
    "toc": true
   },
   "source": [
    "<h1>Table of Contents<span class=\"tocSkip\"></span></h1>\n",
    "<div class=\"toc\"><ul class=\"toc-item\"><li><span><a href=\"#특강-:-머신러닝/딥러닝-알고리즘-개요-&amp;-금융-모델링-Use-Case\" data-toc-modified-id=\"특강-:-머신러닝/딥러닝-알고리즘-개요-&amp;-금융-모델링-Use-Case-1\">특강 : 머신러닝/딥러닝 알고리즘 개요 &amp; 금융 모델링 Use Case</a></span><ul class=\"toc-item\"><li><span><a href=\"#FDS(Fraud-Detection-System)-주요-이슈\" data-toc-modified-id=\"FDS(Fraud-Detection-System)-주요-이슈-1.1\">FDS(Fraud Detection System) 주요 이슈</a></span></li><li><span><a href=\"#Score-모형-개발\" data-toc-modified-id=\"Score-모형-개발-1.2\">Score 모형 개발</a></span><ul class=\"toc-item\"><li><span><a href=\"#데이터-준비-:-데이터-샘플링\" data-toc-modified-id=\"데이터-준비-:-데이터-샘플링-1.2.1\">데이터 준비 : 데이터 샘플링</a></span></li><li><span><a href=\"#변수-선별-:-Feature-Selection\" data-toc-modified-id=\"변수-선별-:-Feature-Selection-1.2.2\">변수 선별 : Feature Selection</a></span></li><li><span><a href=\"#프로토타입-모형-개발-:-학습방법(알고리즘)-최적화\" data-toc-modified-id=\"프로토타입-모형-개발-:-학습방법(알고리즘)-최적화-1.2.3\">프로토타입 모형 개발 : 학습방법(알고리즘) 최적화</a></span></li><li><span><a href=\"#최종-모형-개발-:-최실비용-최소화-전략(모형-운영-방안-:-Cut-off-방안)\" data-toc-modified-id=\"최종-모형-개발-:-최실비용-최소화-전략(모형-운영-방안-:-Cut-off-방안)-1.2.4\">최종 모형 개발 : 최실비용 최소화 전략(모형 운영 방안 : Cut-off 방안)</a></span></li><li><span><a href=\"#전산-적용-:-C코드-변환-모듈-개발\" data-toc-modified-id=\"전산-적용-:-C코드-변환-모듈-개발-1.2.5\">전산 적용 : C코드 변환 모듈 개발</a></span></li></ul></li><li><span><a href=\"#Use-Case\" data-toc-modified-id=\"Use-Case-1.3\">Use Case</a></span></li><li><span><a href=\"#머신러닝-알고리즘(Ensemble-&amp;-LSTM)\" data-toc-modified-id=\"머신러닝-알고리즘(Ensemble-&amp;-LSTM)-1.4\">머신러닝 알고리즘(Ensemble &amp; LSTM)</a></span><ul class=\"toc-item\"><li><span><a href=\"#Ensemble\" data-toc-modified-id=\"Ensemble-1.4.1\">Ensemble</a></span></li><li><span><a href=\"#LSTM\" data-toc-modified-id=\"LSTM-1.4.2\">LSTM</a></span></li></ul></li></ul></li></ul></div>"
   ]
  },
  {
   "cell_type": "markdown",
   "metadata": {},
   "source": [
    "## 특강 : 머신러닝/딥러닝 알고리즘 개요 & 금융 모델링 Use Case"
   ]
  },
  {
   "cell_type": "markdown",
   "metadata": {},
   "source": [
    "- **강사 : 김광호 (서강대 졸업, VoicePrint)** -> 음성인식 관련\n",
    "- **강의 주제 : 신용카드 사기(Fraud Detection) Use Case**"
   ]
  },
  {
   "cell_type": "markdown",
   "metadata": {},
   "source": [
    "- \\[참고] 신용 등급 평가 항목 : 나이, 우편번호(주소)/지역, 주택소유(부동산), 신용평가정보(KCB/나이스, 상환/부채/거래기간 등), 대출, ... 등"
   ]
  },
  {
   "cell_type": "markdown",
   "metadata": {},
   "source": [
    "### FDS(Fraud Detection System) 주요 이슈"
   ]
  },
  {
   "cell_type": "markdown",
   "metadata": {},
   "source": [
    "- Online Fraud 증가\n",
    "- Score 모형(기존 모델) 정확도 : Rule-based(통계적) 모형 기반 -> 모형 개발과 실제 운영 간의 차이에 대응하기 위한 모형 업데이트 필요\n",
    "- Cut-off 전략 : 높은 오탐지 비율\n",
    "- 기존에 Rule에 없던, 이상 패턴을 자동으로 찾아서, 운영 비용과 손실 비용 최소화 필요"
   ]
  },
  {
   "cell_type": "markdown",
   "metadata": {},
   "source": [
    "### Score 모형 개발"
   ]
  },
  {
   "cell_type": "markdown",
   "metadata": {},
   "source": [
    "#### 데이터 준비 : 데이터 샘플링"
   ]
  },
  {
   "cell_type": "markdown",
   "metadata": {},
   "source": [
    "- 대부부의 데이터가 정상 데이터 이므로, 불균형 데이터를 그대로 학습시, <br>\n",
    "   과적합화가 발생하여 사기를 제대로 검출해내지 못해 손실 비용이 큼\n",
    "- Major class(정상)을 잘못 예측하는 것보다, Minor class(비정상)을 잘못 예측하는 손실비용이 큼\n",
    "- Balanced Sampling 방안 : Over Sampling(Minor class) vs. Under Sampling(Major class)을 적절한 비율로 적용\n",
    "- Oversampling 기법 중 FDS 문제를 위해 **SMOTE**(Synthetic Minority Over-sampling Technique)를 이용하여 학습데이터를 추출 <br>\n",
    "   -> 두개의 Minor class의 중간 지점에 임의의 데이트를 생성 (kNN 알고리즘 활용)  <br>\n",
    "   -> 최근에는 DL 분야의 GNN 모델로 샘플링 하는 방법 사용"
   ]
  },
  {
   "cell_type": "markdown",
   "metadata": {},
   "source": [
    "#### 변수 선별 : Feature Selection"
   ]
  },
  {
   "cell_type": "markdown",
   "metadata": {},
   "source": [
    "- 과적합 방지, 정확도 개선, 학습효율화를 위해 변수 선별(Feature Selection) 작업 수행\n",
    "- Frandom Forests 알고리즘을 이용, 변수 중요도를 산출한 후 전문가 협의를 통해 최종 변수를 결정<br>\n",
    "   -> 알고리즘이 산출한 변수 중요도 순위 vs. 전문가가 검토한 중요도 순위 검토"
   ]
  },
  {
   "cell_type": "markdown",
   "metadata": {},
   "source": [
    "#### 프로토타입 모형 개발 : 학습방법(알고리즘) 최적화"
   ]
  },
  {
   "cell_type": "markdown",
   "metadata": {},
   "source": [
    "- Hyper prameter 최적화 : Input 수(feature selection 결과), Hidden Layer 및 Neuron 갯수, 활성화 함수, 안정성 기법(과적합 방지)\n",
    "- 과적합 방지 : L1/L2 Normalization, Early Stoping, Dropout(hyper parameter 변경으로, 유사한 input data를 더 만드는 효과)"
   ]
  },
  {
   "cell_type": "markdown",
   "metadata": {},
   "source": [
    "#### 최종 모형 개발 : 최실비용 최소화 전략(모형 운영 방안 : Cut-off 방안)"
   ]
  },
  {
   "cell_type": "markdown",
   "metadata": {},
   "source": [
    "- FDS 알고리즘의 성능지표는 예측정확도 보다는 적중률(Hit Rate, 재현율)로 산정하는 것이 적절함\n",
    "\n",
    "![accuracy_precision_recall](./images/accuracy_precision_recall.jpg)\n",
    "\n",
    "![confusion_matrix](./images/confusion_matrix.png)\n",
    "\n",
    "- FDS 비용을 고려한 학습 데이터 가중치 부여(예, 금액이 큰 데이터)\n",
    "- 모형 검증 : 예측 데이터로 Stratified Random Sampling 하여 최종 Score 모형의 성능 안정성을 테스트"
   ]
  },
  {
   "cell_type": "markdown",
   "metadata": {},
   "source": [
    "#### 전산 적용 : C코드 변환 모듈 개발"
   ]
  },
  {
   "cell_type": "markdown",
   "metadata": {},
   "source": [
    "### Use Case"
   ]
  },
  {
   "cell_type": "markdown",
   "metadata": {},
   "source": [
    "- 데이터 : Kaggle의 Credit Card Fraud Detection Competetion(https://www.kaggle.com/mlg-ulb/creditcardfraud)\n",
    "\n",
    "\n",
    "- https://www.datascience.com/blog/fraud-detection-with-tensorflow\n",
    "- https://medium.com/@curiousily/credit-card-fraud-detection-using-autoencoders-in-keras-tensorflow-for-hackers-part-vii-20e0c85301bd"
   ]
  },
  {
   "cell_type": "markdown",
   "metadata": {},
   "source": [
    "### 머신러닝 알고리즘(Ensemble & LSTM)"
   ]
  },
  {
   "cell_type": "markdown",
   "metadata": {},
   "source": [
    "#### Ensemble"
   ]
  },
  {
   "cell_type": "markdown",
   "metadata": {},
   "source": [
    "- 앙상블 학습법(ensemble learning method)은 학습 알고리즘(learning algorithm)들을 하나 만 따로 쓰는 경우에 비해<br>\n",
    "   더 좋은 예측 성능을 얻기위해 다수의 학습 알고리즘을 사용하는 방법이다\n",
    "- 앙상블이란 여러개의 weak learners를 이용해 최적의 답을 찾아내는 기법이다.\n",
    "    - Learner 란 특정한 데이터를 이용해 인스턴스화 한 모델을 말한다.\n",
    "    - Weak learner 는 최종적인 결과물보다 상대적으로 정확하지 않은 결과를 보이는 learner 이다. \n",
    "\n",
    "- 배깅(Bootstrap AGGregatING, Bagging) 이란 테스트 데이터 샘플링(Bootstrap) 통해 여러개의 테스트 데이터를 만들고, <br>\n",
    "   각 테스트 데이터를 이용해 여러개의 weak learner 를 만든다. 최종적으로 각 learner 의 예측결과를 평균내서 종합(aggregate)한다.\n",
    "\n",
    "- 부스팅이란(Boosting) 이란 부스트래핑된 테스트 데이터로 여러개의 weak learner 들을 순차적으로(iterative) 만드는데, <br>\n",
    "   i번째 learner 는 i-1 번째 learner 가 잘못 예측한 데이터에 가중치를 좀 더 주어서(boosting) 학습한다.<br>\n",
    "   최종적으로 마지막에 생성된 learner 를 이용하여 예측한다."
   ]
  },
  {
   "cell_type": "markdown",
   "metadata": {},
   "source": [
    "#### LSTM"
   ]
  },
  {
   "cell_type": "markdown",
   "metadata": {},
   "source": [
    "- LSTM(Long-Short Term Memory) 모델은 시간에 따른 변화정도를 유연하게 분석할 수 있으므로, <br>\n",
    "   소득/연체 정보가 변함에 따라 유동적으로 변화하는 \"시계열 데이터\"인 개인의 신용 상태의 패턴 변화 분석에 용이\n",
    "- 실제 적용을 위해서는, 산재한 데이터를 수집하여 cleansing 하는 과정에 많은 Resource가 소요됨"
   ]
  },
  {
   "cell_type": "markdown",
   "metadata": {},
   "source": []
  }
 ],
 "metadata": {
  "kernelspec": {
   "display_name": "Python 3",
   "language": "python",
   "name": "python3"
  },
  "language_info": {
   "codemirror_mode": {
    "name": "ipython",
    "version": 3
   },
   "file_extension": ".py",
   "mimetype": "text/x-python",
   "name": "python",
   "nbconvert_exporter": "python",
   "pygments_lexer": "ipython3",
   "version": "3.7.1"
  },
  "latex_envs": {
   "LaTeX_envs_menu_present": true,
   "autoclose": false,
   "autocomplete": true,
   "bibliofile": "biblio.bib",
   "cite_by": "apalike",
   "current_citInitial": 1,
   "eqLabelWithNumbers": true,
   "eqNumInitial": 1,
   "hotkeys": {
    "equation": "Ctrl-E",
    "itemize": "Ctrl-I"
   },
   "labels_anchors": false,
   "latex_user_defs": false,
   "report_style_numbering": false,
   "user_envs_cfg": false
  },
  "toc": {
   "base_numbering": 1,
   "nav_menu": {},
   "number_sections": false,
   "sideBar": true,
   "skip_h1_title": false,
   "title_cell": "Table of Contents",
   "title_sidebar": "Contents",
   "toc_cell": true,
   "toc_position": {},
   "toc_section_display": true,
   "toc_window_display": false
  }
 },
 "nbformat": 4,
 "nbformat_minor": 2
}
