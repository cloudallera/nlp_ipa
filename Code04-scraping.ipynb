{
 "cells": [
  {
   "cell_type": "markdown",
   "metadata": {
    "toc": true
   },
   "source": [
    "<h1>Table of Contents<span class=\"tocSkip\"></span></h1>\n",
    "<div class=\"toc\"><ul class=\"toc-item\"><li><span><a href=\"#패키지-import\" data-toc-modified-id=\"패키지-import-1\">패키지 import</a></span></li><li><span><a href=\"#webscraping.com-이미지-scraping\" data-toc-modified-id=\"webscraping.com-이미지-scraping-2\">webscraping.com 이미지 scraping</a></span></li><li><span><a href=\"#validator.w3.org-사이트에서-특정-사이트의-wellformed-여부-확인하기\" data-toc-modified-id=\"validator.w3.org-사이트에서-특정-사이트의-wellformed-여부-확인하기-3\">validator.w3.org 사이트에서 특정 사이트의 wellformed 여부 확인하기</a></span></li><li><span><a href=\"#ppomppu.co.kr-사이트-scraping\" data-toc-modified-id=\"ppomppu.co.kr-사이트-scraping-4\">ppomppu.co.kr 사이트 scraping</a></span><ul class=\"toc-item\"><li><span><a href=\"#&quot;뽐뿌/뽐뿌게시판&quot;-scraping\" data-toc-modified-id=\"&quot;뽐뿌/뽐뿌게시판&quot;-scraping-4.1\">\"뽐뿌/뽐뿌게시판\" scraping</a></span></li><li><span><a href=\"#&quot;커뮤니티/자유게시판&quot;-scraping\" data-toc-modified-id=\"&quot;커뮤니티/자유게시판&quot;-scraping-4.2\">\"커뮤니티/자유게시판\" scraping</a></span></li><li><span><a href=\"#자유게시판-댓글-추출하기\" data-toc-modified-id=\"자유게시판-댓글-추출하기-4.3\">자유게시판 댓글 추출하기</a></span></li><li><span><a href=\"#추가-개선사항(To-Do)\" data-toc-modified-id=\"추가-개선사항(To-Do)-4.4\">추가 개선사항(To-Do)</a></span></li></ul></li></ul></div>"
   ]
  },
  {
   "cell_type": "markdown",
   "metadata": {},
   "source": [
    "## 패키지 import"
   ]
  },
  {
   "cell_type": "code",
   "execution_count": 1,
   "metadata": {},
   "outputs": [],
   "source": [
    "import time\n",
    "import random\n",
    "from urllib.parse import urljoin\n",
    "from bs4 import BeautifulSoup"
   ]
  },
  {
   "cell_type": "code",
   "execution_count": 2,
   "metadata": {},
   "outputs": [],
   "source": [
    "from functions.download import getDownload\n",
    "from functions.search import getPortalSearchUrl\n",
    "from functions.crawling import getUrls"
   ]
  },
  {
   "cell_type": "code",
   "execution_count": 3,
   "metadata": {},
   "outputs": [],
   "source": [
    "# google, naver, daum, nate = getPortalSearchUrl()"
   ]
  },
  {
   "cell_type": "code",
   "execution_count": 4,
   "metadata": {},
   "outputs": [],
   "source": [
    "# html = getDownload(google, \"파이썬\")"
   ]
  },
  {
   "cell_type": "markdown",
   "metadata": {},
   "source": [
    "## webscraping.com 이미지 scraping"
   ]
  },
  {
   "cell_type": "code",
   "execution_count": 5,
   "metadata": {},
   "outputs": [],
   "source": [
    "url = \"http://example.webscraping.com/places/default/index\""
   ]
  },
  {
   "cell_type": "code",
   "execution_count": 6,
   "metadata": {},
   "outputs": [],
   "source": [
    "html = getDownload(url)"
   ]
  },
  {
   "cell_type": "code",
   "execution_count": 7,
   "metadata": {},
   "outputs": [],
   "source": [
    "dom = BeautifulSoup(html.text, \"lxml\")"
   ]
  },
  {
   "cell_type": "code",
   "execution_count": 8,
   "metadata": {},
   "outputs": [
    {
     "name": "stdout",
     "output_type": "stream",
     "text": [
      "http://example.webscraping.com/places/static/images/flags/af.png\n",
      "http://example.webscraping.com/places/static/images/flags/ax.png\n",
      "http://example.webscraping.com/places/static/images/flags/al.png\n",
      "http://example.webscraping.com/places/static/images/flags/dz.png\n",
      "http://example.webscraping.com/places/static/images/flags/as.png\n",
      "http://example.webscraping.com/places/static/images/flags/ad.png\n",
      "http://example.webscraping.com/places/static/images/flags/ao.png\n",
      "http://example.webscraping.com/places/static/images/flags/ai.png\n",
      "http://example.webscraping.com/places/static/images/flags/aq.png\n",
      "http://example.webscraping.com/places/static/images/flags/ag.png\n"
     ]
    }
   ],
   "source": [
    "for tag in dom.select(\"#results a > img\"):    # id 속성이 results인 <div> 아래에 <a>의 contents에 img source가 있음\n",
    "    if tag.has_attr(\"src\"):\n",
    "        print(urljoin(url, tag[\"src\"]))"
   ]
  },
  {
   "cell_type": "code",
   "execution_count": 9,
   "metadata": {},
   "outputs": [
    {
     "data": {
      "text/plain": [
       "'image/png'"
      ]
     },
     "execution_count": 9,
     "metadata": {},
     "output_type": "execute_result"
    }
   ],
   "source": [
    "imgSrc = \"http://example.webscraping.com/places/static/images/flags/af.png\"\n",
    "\n",
    "html = getDownload(imgSrc)\n",
    "html.headers[\"Content-Type\"]"
   ]
  },
  {
   "cell_type": "code",
   "execution_count": 10,
   "metadata": {},
   "outputs": [
    {
     "data": {
      "text/plain": [
       "'image/png'"
      ]
     },
     "execution_count": 10,
     "metadata": {},
     "output_type": "execute_result"
    }
   ],
   "source": [
    "html.headers[\"Content-Type\"]"
   ]
  },
  {
   "cell_type": "code",
   "execution_count": 11,
   "metadata": {},
   "outputs": [
    {
     "data": {
      "text/plain": [
       "'image'"
      ]
     },
     "execution_count": 11,
     "metadata": {},
     "output_type": "execute_result"
    }
   ],
   "source": [
    "html.headers[\"Content-Type\"].split(\"/\")[0]"
   ]
  },
  {
   "cell_type": "code",
   "execution_count": 12,
   "metadata": {},
   "outputs": [],
   "source": [
    "imgSrc = \"http://example.webscraping.com/places/static/images/flags/af.png\"\n",
    "\n",
    "html = getDownload(imgSrc)\n",
    "\n",
    "imgName = imgSrc.split(\"/\")[-1]    # af.png\n",
    "\n",
    "with open(\"images/webscraping_com/\" + imgName, \"wb\") as f:    # w(write), b(binary) 타입으로 file open\n",
    "    f.write(html.content)"
   ]
  },
  {
   "cell_type": "code",
   "execution_count": 13,
   "metadata": {},
   "outputs": [],
   "source": [
    "for tag in dom.select(\"#results a > img\"):\n",
    "    if tag.has_attr(\"src\"):\n",
    "        src = urljoin(url, tag[\"src\"])\n",
    "        imgName = src.split(\"/\")[-1]\n",
    "\n",
    "        html = getDownload(src)\n",
    "\n",
    "        if html.headers[\"Content-Type\"].split(\"/\")[0] == \"image\":\n",
    "                with open(\"images/webscraping_com/\" + imgName, \"wb\") as f:\n",
    "                    f.write(html.content)"
   ]
  },
  {
   "cell_type": "markdown",
   "metadata": {},
   "source": [
    "## validator.w3.org 사이트에서 특정 사이트의 wellformed 여부 확인하기"
   ]
  },
  {
   "cell_type": "markdown",
   "metadata": {},
   "source": [
    "- https://validator.w3.org/unicorn/?ucn_lang=ko\n",
    "- 검사할 URL을 입력사 \"검사\" 수행하면 validation 오류 항목을 list 해줌"
   ]
  },
  {
   "cell_type": "markdown",
   "metadata": {},
   "source": [
    "## ppomppu.co.kr 사이트 scraping"
   ]
  },
  {
   "cell_type": "markdown",
   "metadata": {},
   "source": [
    "- http://www.ppomppu.co.kr/ 사이트의 게시판을 scraping 하고자함\n",
    "- https://validator.w3.org/unicorn/?ucn_lang=ko 에서 확인해보면, 많은 오류를 포함하고 있음<br>\n",
    "  parser에 따라 해당 페이지를 해석하지 못할 수 있음\n",
    "- 뽐뿌 사이트의 주요 validation 오류\n",
    "  - encoding이 euc-kr로 되어 있음 (표준은 utf-8)\n",
    "  - 여는 태그와 닫는 태그가 맞지 않음"
   ]
  },
  {
   "cell_type": "markdown",
   "metadata": {},
   "source": [
    "### \"뽐뿌/뽐뿌게시판\" scraping"
   ]
  },
  {
   "cell_type": "code",
   "execution_count": 14,
   "metadata": {},
   "outputs": [],
   "source": [
    "url = \"http://www.ppomppu.co.kr/zboard/zboard.php\"    # 뽐뿌게시판\n",
    "\n",
    "param = {\"id\": \"ppomppu\"}"
   ]
  },
  {
   "cell_type": "code",
   "execution_count": 16,
   "metadata": {},
   "outputs": [],
   "source": [
    "html = getDownload(url, param)\n",
    "# html.text"
   ]
  },
  {
   "cell_type": "code",
   "execution_count": 17,
   "metadata": {},
   "outputs": [
    {
     "data": {
      "text/plain": [
       "'euc-kr'"
      ]
     },
     "execution_count": 17,
     "metadata": {},
     "output_type": "execute_result"
    }
   ],
   "source": [
    "html.encoding"
   ]
  },
  {
   "cell_type": "code",
   "execution_count": 18,
   "metadata": {},
   "outputs": [],
   "source": [
    "# html.encoding = \"utf-8\"\n",
    "# html.text   # utf-8로 되어 있지 않기 때문에 깨져보임"
   ]
  },
  {
   "cell_type": "code",
   "execution_count": 19,
   "metadata": {},
   "outputs": [
    {
     "data": {
      "text/plain": [
       "{'user-agent': 'Mozilla/5.0 (Macintosh; Intel Mac OS X 10_14_1)      AppleWebKit/537.36 (KHTML, like Gecko) Chrome/72.0.3626.109 Safari/537.36', 'Accept-Encoding': 'gzip, deflate', 'Accept': '*/*', 'Connection': 'keep-alive'}"
      ]
     },
     "execution_count": 19,
     "metadata": {},
     "output_type": "execute_result"
    }
   ],
   "source": [
    "html.request.headers"
   ]
  },
  {
   "cell_type": "code",
   "execution_count": 20,
   "metadata": {},
   "outputs": [
    {
     "data": {
      "text/plain": [
       "{'Server': 'ISayPPOM2', 'Date': 'Tue, 12 Mar 2019 09:04:43 GMT', 'Content-Type': 'text/html; charset=euc-kr', 'Content-Length': '18440', 'Connection': 'keep-alive', 'Set-Cookie': 'ts_bn=13; path=/, bl_bn=14; path=/, rrr_banner=4; path=/, rrr_bn_h=1; path=/, m_gad_pos_1=11; path=/, m_gad_pos_passback_1=1; path=/, m_gad_pos_4=14; path=/, m_gad_pos_passback_4=1; path=/, m_gad_pos_6=9; path=/, m_gad_pos_passback_6=1; path=/, m_gad_pos_8=11; path=/, m_gad_pos_passback_8=1; path=/, m_gad_pos_9=7; path=/, m_gad_pos_passback_9=1; path=/, m_gad_pos_10=6; path=/, m_gad_pos_passback_10=1; path=/, m_gad_pos_12=10; path=/, m_gad_pos_passback_12=1; path=/, m_gad_pos_15=20; path=/, m_gad_pos_passback_15=1; path=/, m_gad_pos_16=15; path=/, m_gad_pos_passback_16=1; path=/, m_gad_pos_17=6; path=/, m_gad_pos_passback_17=1; path=/, m_gad_pos_18=11; path=/, m_gad_pos_passback_18=1; path=/, m_gad_pos_50=14; path=/, m_gad_pos_passback_50=1; path=/, m_gad_pos_55=6; path=/, m_gad_pos_passback_55=1; path=/, m_gad_pos_58=15; path=/, m_gad_pos_passback_58=1; path=/, PHPSESSID=uh8i69hpo9v4lapih6mn029oj3; path=/; domain=.ppomppu.co.kr, nxc=nxc_1552381483; path=/; domain=.ppomppu.co.kr', 'P3P': 'CP=\"ALL CURa ADMa DEVa TAIa OUR BUS IND PHY ONL UNI PUR FIN COM NAV INT DEM CNT STA POL HEA PRE LOC OTC\"', 'Cache-Control': 'no-cache, no-store, must-revalidate, no-transform, max-age=1', 'Pragma': 'no-cache', 'Expires': 'Tue, 12 Mar 2019 09:04:44 GMT', 'Vary': 'Accept-Encoding', 'Content-Encoding': 'gzip'}"
      ]
     },
     "execution_count": 20,
     "metadata": {},
     "output_type": "execute_result"
    }
   ],
   "source": [
    "html.headers"
   ]
  },
  {
   "cell_type": "code",
   "execution_count": 21,
   "metadata": {},
   "outputs": [
    {
     "data": {
      "text/plain": [
       "'euc-kr'"
      ]
     },
     "execution_count": 21,
     "metadata": {},
     "output_type": "execute_result"
    }
   ],
   "source": [
    "encoding = html.headers[\"Content-Type\"].split(\"=\")[-1]\n",
    "encoding"
   ]
  },
  {
   "cell_type": "code",
   "execution_count": 22,
   "metadata": {},
   "outputs": [],
   "source": [
    "# urlopen 함수는 encoding 문제를 자동으로 처리해주지 않음(사용자가 별도로 처리해야 함)\n",
    "# from urllib.request import urlopen, Request\n",
    "\n",
    "# header = {'user-agent': 'Mozilla/5.0 (Macintosh; Intel Mac OS X 10_14_1)      AppleWebKit/537.36 (KHTML, like Gecko) Chrome/72.0.3626.109 Safari/537.36'}\n",
    "# req = Request(url, headers=header)\n",
    "# resp = urlopen(req)"
   ]
  },
  {
   "cell_type": "code",
   "execution_count": 23,
   "metadata": {},
   "outputs": [],
   "source": [
    "# html.content.decode(encoding, \"ignore\")"
   ]
  },
  {
   "cell_type": "code",
   "execution_count": 24,
   "metadata": {},
   "outputs": [
    {
     "data": {
      "text/plain": [
       "0"
      ]
     },
     "execution_count": 24,
     "metadata": {},
     "output_type": "execute_result"
    }
   ],
   "source": [
    "dom = BeautifulSoup(html.text, \"lxml\")    # 정상적으로 parsing 되지 않음(태그들이 비정상이기 때문에...)\n",
    "len(dom.find_all(\"\", {\"class\":\"list_title\"}))"
   ]
  },
  {
   "cell_type": "code",
   "execution_count": 25,
   "metadata": {},
   "outputs": [
    {
     "data": {
      "text/plain": [
       "18"
      ]
     },
     "execution_count": 25,
     "metadata": {},
     "output_type": "execute_result"
    }
   ],
   "source": [
    "dom = BeautifulSoup(html.text, \"html.parser\")    # 정상적으로 parsing이 됨\n",
    "len(dom.find_all(\"\", {\"class\":\"list_title\"}))"
   ]
  },
  {
   "cell_type": "code",
   "execution_count": 26,
   "metadata": {},
   "outputs": [
    {
     "data": {
      "text/plain": [
       "[<font class=\"list_title\">[옥션] 신세계/이마트 12개 브랜드 통합 상품권 10만원 4.5% (95,500원/무료)</font>,\n",
       " <font class=\"list_title\">[CJ온마트] 비비고 육개장 500gx20개 40,995원/무배</font>,\n",
       " <font class=\"list_title\">[티몬] 아이스 수박볼 1kg (5,430/무배)  유통기한 19년 4월 7일</font>,\n",
       " <font class=\"list_title\">[아트뮤] 고속 무선충전기 거치대형 wc510\n",
       " (기종확인필) (9,900/2,500)</font>,\n",
       " <font class=\"list_title\">[지마켓] 신세계,이마트 등 12개 브랜드 통합상품권 10만원권 (95,500 / 무료)</font>,\n",
       " <font class=\"list_title\">[11번가] [뉴발란스] 574 스니커즈 MS574KTC (67,080/무배)</font>,\n",
       " <font class=\"list_title\">[위메프] [원더쿠폰] 떡볶이4팩+특가+무배 매장에서 먹던맛 그대로! (11,900/무배)</font>,\n",
       " <font class=\"list_title\">[티몬] 펩시 콜라 500ml * 20개 업소용 (10,900원/무료)</font>,\n",
       " <font class=\"list_title\">[위메프] 현대상품권 모바일교환권 10만원권 (96,400원/무료)</font>,\n",
       " <font class=\"list_title\">[시소닉 공식몰] 시소닉 프라임 울트라 티타늄 1000W + 슬리빙 케이블 (386,000/2,500)</font>,\n",
       " <font class=\"list_title\">[위메프] [33데이] 닌텐도스위치 악세사리모음, 필름 커버 등등 (933원/무배)</font>,\n",
       " <font class=\"list_title\">[11번가] 마이크로소프트 마우스&amp;키보드 (45,000원 /무료) 각품목마다 최대 30%이상 할인.</font>,\n",
       " <font class=\"list_title\">[위메프]프랑프랑 토끼주걱1+1 (11,333/무료)</font>,\n",
       " <font class=\"list_title\">[G마켓] 호루스벤누 호루스벤누 LED 가방 미니스튜디오 라이트백50cm  (38,340/2500)</font>,\n",
       " <font class=\"list_title\">[알리익스프레스] 샤오미 로봇청소기2 (406,551/무료)</font>,\n",
       " <font class=\"list_title\">[티몬] 서울우유 멸균우유 1000ml 10개 (16,835/무료배송) 카드추가할인</font>,\n",
       " <font class=\"list_title\">[신한FAN] 페로로로쉐 3구 50%할인 (900 / mms)</font>,\n",
       " <font class=\"list_title\">[인터파크] 로지텍 g102 (21,900 / 무료)</font>]"
      ]
     },
     "execution_count": 26,
     "metadata": {},
     "output_type": "execute_result"
    }
   ],
   "source": [
    "dom.find_all(\"\", {\"class\":\"list_title\"})"
   ]
  },
  {
   "cell_type": "code",
   "execution_count": 27,
   "metadata": {},
   "outputs": [
    {
     "name": "stdout",
     "output_type": "stream",
     "text": [
      "[옥션] 신세계/이마트 12개 브랜드 통합 상품권 10만원 4.5% (95,500원/무료)\n",
      "[CJ온마트] 비비고 육개장 500gx20개 40,995원/무배\n",
      "[티몬] 아이스 수박볼 1kg (5,430/무배)  유통기한 19년 4월 7일\n",
      "[아트뮤] 고속 무선충전기 거치대형 wc510\r\n",
      "(기종확인필) (9,900/2,500)\n",
      "[지마켓] 신세계,이마트 등 12개 브랜드 통합상품권 10만원권 (95,500 / 무료)\n",
      "[11번가] [뉴발란스] 574 스니커즈 MS574KTC (67,080/무배)\n",
      "[위메프] [원더쿠폰] 떡볶이4팩+특가+무배 매장에서 먹던맛 그대로! (11,900/무배)\n",
      "[티몬] 펩시 콜라 500ml * 20개 업소용 (10,900원/무료)\n",
      "[위메프] 현대상품권 모바일교환권 10만원권 (96,400원/무료)\n",
      "[시소닉 공식몰] 시소닉 프라임 울트라 티타늄 1000W + 슬리빙 케이블 (386,000/2,500)\n",
      "[위메프] [33데이] 닌텐도스위치 악세사리모음, 필름 커버 등등 (933원/무배)\n",
      "[11번가] 마이크로소프트 마우스&키보드 (45,000원 /무료) 각품목마다 최대 30%이상 할인.\n",
      "[위메프]프랑프랑 토끼주걱1+1 (11,333/무료)\n",
      "[G마켓] 호루스벤누 호루스벤누 LED 가방 미니스튜디오 라이트백50cm  (38,340/2500)\n",
      "[알리익스프레스] 샤오미 로봇청소기2 (406,551/무료)\n",
      "[티몬] 서울우유 멸균우유 1000ml 10개 (16,835/무료배송) 카드추가할인\n",
      "[신한FAN] 페로로로쉐 3구 50%할인 (900 / mms)\n",
      "[인터파크] 로지텍 g102 (21,900 / 무료)\n"
     ]
    }
   ],
   "source": [
    "for tag in dom.select(\".list_title\"):\n",
    "    print(tag.text)"
   ]
  },
  {
   "cell_type": "code",
   "execution_count": 28,
   "metadata": {
    "scrolled": true
   },
   "outputs": [
    {
     "name": "stdout",
     "output_type": "stream",
     "text": [
      "//static.ppomppu.co.kr/www/img/noimage/noimage_60x50.jpg\n",
      "//cdn.ppomppu.co.kr/zboard/data/_thumb/ppomppu/3/small_311483.jpg?t=20190312172703\n",
      "//cdn.ppomppu.co.kr/zboard/data/_thumb/ppomppu/2/small_311482.jpg?t=20190312172622\n",
      "//cdn.ppomppu.co.kr/zboard/data/_thumb/ppomppu/1/small_311481.jpg?t=20190312170850\n",
      "//cdn.ppomppu.co.kr/zboard/data/_thumb/ppomppu/0/small_311480.jpg?t=20190312171711\n",
      "//static.ppomppu.co.kr/www/img/noimage/noimage_60x50.jpg\n",
      "//cdn.ppomppu.co.kr/zboard/data/_thumb/ppomppu/8/small_311478.jpg?t=20190312165443\n",
      "//cdn.ppomppu.co.kr/zboard/data/_thumb/ppomppu/7/small_311477.jpg?t=20190312163219\n",
      "//cdn.ppomppu.co.kr/zboard/data/_thumb/ppomppu/6/small_311476.jpg?t=20190312162449\n",
      "//cdn.ppomppu.co.kr/zboard/data/_thumb/ppomppu/5/small_311475.jpg?t=20190312161333\n",
      "//cdn.ppomppu.co.kr/zboard/data/_thumb/ppomppu/4/small_311474.jpg?t=20190312154413\n",
      "//cdn.ppomppu.co.kr/zboard/data/_thumb/ppomppu/2/small_311472.jpg?t=20190312152353\n",
      "//cdn.ppomppu.co.kr/zboard/data/_thumb/ppomppu/1/small_311471.jpg?t=20190312150600\n",
      "//cdn.ppomppu.co.kr/zboard/data/_thumb/ppomppu/0/small_311470.jpg?t=20190312145747\n",
      "//cdn.ppomppu.co.kr/zboard/data/_thumb/ppomppu/9/small_311469.jpg?t=20190312145739\n",
      "//static.ppomppu.co.kr/www/img/noimage/noimage_60x50.jpg\n",
      "//cdn.ppomppu.co.kr/zboard/data/_thumb/ppomppu/6/small_311466.jpg?t=20190312142525\n",
      "//cdn.ppomppu.co.kr/zboard/data/_thumb/ppomppu/4/small_311464.jpg?t=20190312140842\n",
      "//cdn.ppomppu.co.kr/zboard/data/_thumb/ppomppu/3/small_311463.jpg?t=20190312133001\n",
      "//cdn.ppomppu.co.kr/zboard/data/_thumb/ppomppu/2/small_311462.jpg?t=20190312125006\n",
      "//cdn.ppomppu.co.kr/zboard/data/_thumb/shopping/4/small_10664.jpg?t=\n",
      "//cdn.ppomppu.co.kr/zboard/data/_thumb/shopping/3/small_10663.jpg?t=\n",
      "//cdn.ppomppu.co.kr/zboard/data/_thumb/ppomppu3/8/small_8798.jpg?t=\n",
      "//cdn.ppomppu.co.kr/zboard/data/_thumb/ppomppu3/7/small_8797.jpg?t=\n"
     ]
    }
   ],
   "source": [
    "for tag in dom.select(\"img.thumb_border\"):\n",
    "    print(tag[\"src\"])"
   ]
  },
  {
   "cell_type": "code",
   "execution_count": 29,
   "metadata": {},
   "outputs": [
    {
     "name": "stdout",
     "output_type": "stream",
     "text": [
      "13.10.24 13:24:54\n",
      "19.03.12 17:44:57\n",
      "19.03.12 17:30:43\n",
      "19.03.12 17:28:59\n",
      "19.03.12 17:12:42\n",
      "19.03.12 17:04:28\n",
      "19.03.12 17:03:37\n",
      "19.03.12 16:58:35\n",
      "19.03.12 16:36:02\n",
      "19.03.12 16:25:05\n",
      "19.03.12 16:17:25\n",
      "19.03.12 15:47:19\n",
      "19.03.12 15:27:45\n",
      "19.03.12 15:09:53\n",
      "19.03.12 15:01:39\n",
      "19.03.12 15:01:31\n",
      "19.03.12 14:39:30\n",
      "19.03.12 14:29:17\n",
      "19.03.12 13:46:37\n",
      "19.03.12 13:31:20\n",
      "19.03.12 12:53:58\n"
     ]
    }
   ],
   "source": [
    "for tag in dom.select(\"td.eng.list_vspace\"):\n",
    "    if tag.has_attr(\"title\"):\n",
    "        print(tag[\"title\"])"
   ]
  },
  {
   "cell_type": "code",
   "execution_count": 30,
   "metadata": {},
   "outputs": [
    {
     "name": "stdout",
     "output_type": "stream",
     "text": [
      "[옥션] 신세계/이마트 12개 브랜드 통합 상품권 10만원 4.5% (95,500원/무료)  15\n",
      "[티몬] 아이스 수박볼 1kg (5,430/무배)  유통기한 19년 4월 7일  6\n",
      "[옥션] 쟌슨빌 쏘세지 1810g (22,400/무료) 쿠폰적용시 17,920원 어제 못사셧던분들 쟌슨빌 또 떳네요  54\n",
      "[11번가] [뉴발란스] 574 스니커즈 MS574KTC (67,080/무배)  9\n",
      "[티몬] 펩시 콜라 500ml * 20개 업소용 (10,900원/무료)  36\n",
      "[시소닉 공식몰] 시소닉 프라임 울트라 티타늄 1000W + 슬리빙 케이블 (386,000/2,500)  12\n",
      "[위메프] [33데이] 닌텐도스위치 악세사리모음, 필름 커버 등등 (933원/무배)  18\n",
      "[위메프]프랑프랑 토끼주걱1+1 (11,333/무료)  29\n",
      "[알리익스프레스] 샤오미 로봇청소기2 (406,551/무료)  21\n",
      "[신한FAN] 페로로로쉐 3구 50%할인 (900 / mms)  43\n"
     ]
    }
   ],
   "source": [
    "for tag in dom.select(\".list1\"):\n",
    "    tdList = tag.find_all(\"td\", recursive=False)\n",
    "    # print(len(tdList))   # 7개 열로 구성되어 있음\n",
    "    print(tdList[3].text.strip())"
   ]
  },
  {
   "cell_type": "code",
   "execution_count": 31,
   "metadata": {},
   "outputs": [
    {
     "name": "stdout",
     "output_type": "stream",
     "text": [
      "17:44:57\n",
      "17:28:59\n",
      "17:04:28\n",
      "16:58:35\n",
      "16:25:05\n",
      "15:47:19\n",
      "15:09:53\n",
      "15:01:31\n",
      "14:29:17\n",
      "13:31:20\n"
     ]
    }
   ],
   "source": [
    "for tag in dom.select(\".list1\"):\n",
    "    tdList = tag.find_all(\"td\", recursive=False)\n",
    "    # print(len(tdList))   # 7개 열로 구성되어 있음\n",
    "    print(tdList[4].text.strip())"
   ]
  },
  {
   "cell_type": "code",
   "execution_count": 37,
   "metadata": {},
   "outputs": [
    {
     "name": "stdout",
     "output_type": "stream",
     "text": [
      "//static.ppomppu.co.kr/www/img/noimage/noimage_60x50.jpg\n",
      "[옥션] 신세계/이마트 12개 브랜드 통합 상품권 10만원 4.5% (95,500원/무료)\n",
      "//cdn.ppomppu.co.kr/zboard/data/_thumb/ppomppu/2/small_311482.jpg?t=20190312172622\n",
      "[티몬] 아이스 수박볼 1kg (5,430/무배)  유통기한 19년 4월 7일\n",
      "//cdn.ppomppu.co.kr/zboard/data/_thumb/ppomppu/0/small_311480.jpg?t=20190312171711\n",
      "//cdn.ppomppu.co.kr/zboard/data/_thumb/ppomppu/8/small_311478.jpg?t=20190312165443\n",
      "[11번가] [뉴발란스] 574 스니커즈 MS574KTC (67,080/무배)\n",
      "//cdn.ppomppu.co.kr/zboard/data/_thumb/ppomppu/6/small_311476.jpg?t=20190312162449\n",
      "[티몬] 펩시 콜라 500ml * 20개 업소용 (10,900원/무료)\n",
      "//cdn.ppomppu.co.kr/zboard/data/_thumb/ppomppu/4/small_311474.jpg?t=20190312154413\n",
      "[시소닉 공식몰] 시소닉 프라임 울트라 티타늄 1000W + 슬리빙 케이블 (386,000/2,500)\n",
      "//cdn.ppomppu.co.kr/zboard/data/_thumb/ppomppu/1/small_311471.jpg?t=20190312150600\n",
      "[위메프] [33데이] 닌텐도스위치 악세사리모음, 필름 커버 등등 (933원/무배)\n",
      "//cdn.ppomppu.co.kr/zboard/data/_thumb/ppomppu/9/small_311469.jpg?t=20190312145739\n",
      "[위메프]프랑프랑 토끼주걱1+1 (11,333/무료)\n",
      "//cdn.ppomppu.co.kr/zboard/data/_thumb/ppomppu/6/small_311466.jpg?t=20190312142525\n",
      "[알리익스프레스] 샤오미 로봇청소기2 (406,551/무료)\n",
      "//cdn.ppomppu.co.kr/zboard/data/_thumb/ppomppu/3/small_311463.jpg?t=20190312133001\n",
      "[신한FAN] 페로로로쉐 3구 50%할인 (900 / mms)\n"
     ]
    }
   ],
   "source": [
    "for tag in dom.select(\".list1\"):\n",
    "    tdList = tag.find_all(\"td\", recursive=False)\n",
    "    if tdList[3].find(\"img\")[\"src\"] is not None:\n",
    "        print(tdList[3].find(\"img\")[\"src\"])    # 이미지 링크\n",
    "    if tdList[3].select_one(\".list_title\") is not None:\n",
    "        print(tdList[3].select_one(\".list_title\").text)    # 제목"
   ]
  },
  {
   "cell_type": "code",
   "execution_count": 38,
   "metadata": {
    "scrolled": true
   },
   "outputs": [
    {
     "name": "stdout",
     "output_type": "stream",
     "text": [
      "19.03.12 17:44:57\n",
      "19.03.12 17:28:59\n",
      "19.03.12 17:04:28\n",
      "19.03.12 16:58:35\n",
      "19.03.12 16:25:05\n",
      "19.03.12 15:47:19\n",
      "19.03.12 15:09:53\n",
      "19.03.12 15:01:31\n",
      "19.03.12 14:29:17\n",
      "19.03.12 13:31:20\n"
     ]
    }
   ],
   "source": [
    "for tag in dom.select(\".list1\"):\n",
    "    tdList = tag.find_all(\"td\", recursive=False)\n",
    "    print(tdList[4][\"title\"])     # 등록일"
   ]
  },
  {
   "cell_type": "code",
   "execution_count": 39,
   "metadata": {},
   "outputs": [
    {
     "name": "stdout",
     "output_type": "stream",
     "text": [
      "0\n",
      "\n",
      "13\n",
      "\n",
      "9\n",
      "\n",
      "4\n",
      "2\n",
      "\n",
      "36\n"
     ]
    }
   ],
   "source": [
    "for tag in dom.select(\".list1\"):\n",
    "    tdList = tag.find_all(\"td\", recursive=False)\n",
    "    print(tdList[5].text.split(\"-\")[0].strip())    # 추천수"
   ]
  },
  {
   "cell_type": "code",
   "execution_count": 40,
   "metadata": {},
   "outputs": [
    {
     "name": "stdout",
     "output_type": "stream",
     "text": [
      "1162\n",
      "\n",
      "2329\n",
      "\n",
      "4280\n",
      "\n",
      "3728\n",
      "\n",
      "4647\n",
      "\n",
      "6178\n",
      "\n",
      "5018\n",
      "\n",
      "5738\n",
      "\n",
      "4341\n",
      "\n",
      "7915\n",
      "\n"
     ]
    }
   ],
   "source": [
    "for tag in dom.select(\".list1\"):\n",
    "    tdList = tag.find_all(\"td\", recursive=False)\n",
    "    print(tdList[6].text.strip(), end=\"\\n\\n\")    # 조회수"
   ]
  },
  {
   "cell_type": "markdown",
   "metadata": {},
   "source": [
    "### \"커뮤니티/자유게시판\" scraping"
   ]
  },
  {
   "cell_type": "code",
   "execution_count": 53,
   "metadata": {},
   "outputs": [],
   "source": [
    "url = \"http://www.ppomppu.co.kr/zboard/zboard.php\"\n",
    "param = {\"id\": \"freeboard\"}    "
   ]
  },
  {
   "cell_type": "code",
   "execution_count": 54,
   "metadata": {},
   "outputs": [],
   "source": [
    "html = getDownload(url, param)"
   ]
  },
  {
   "cell_type": "code",
   "execution_count": 55,
   "metadata": {},
   "outputs": [],
   "source": [
    "# html.text"
   ]
  },
  {
   "cell_type": "code",
   "execution_count": 56,
   "metadata": {},
   "outputs": [],
   "source": [
    "dom = BeautifulSoup(html.text, \"html.parser\")"
   ]
  },
  {
   "cell_type": "code",
   "execution_count": 57,
   "metadata": {},
   "outputs": [
    {
     "data": {
      "text/plain": [
       "['http://www.ppomppu.co.kr/zboard/view.php?id=freeboard&page=1&divpage=1184&no=6340430',\n",
       " 'http://www.ppomppu.co.kr/zboard/view.php?id=freeboard&page=1&divpage=1184&no=6340429',\n",
       " 'http://www.ppomppu.co.kr/zboard/view.php?id=freeboard&page=1&divpage=1184&no=6340428',\n",
       " 'http://www.ppomppu.co.kr/zboard/view.php?id=freeboard&page=1&divpage=1184&no=6340427',\n",
       " 'http://www.ppomppu.co.kr/zboard/view.php?id=freeboard&page=1&divpage=1184&no=6340426',\n",
       " 'http://www.ppomppu.co.kr/zboard/view.php?id=freeboard&page=1&divpage=1184&no=6340425',\n",
       " 'http://www.ppomppu.co.kr/zboard/view.php?id=freeboard&page=1&divpage=1184&no=6340424',\n",
       " 'http://www.ppomppu.co.kr/zboard/view.php?id=freeboard&page=1&divpage=1184&no=6340423',\n",
       " 'http://www.ppomppu.co.kr/zboard/view.php?id=freeboard&page=1&divpage=1184&no=6340422',\n",
       " 'http://www.ppomppu.co.kr/zboard/view.php?id=freeboard&page=1&divpage=1184&no=6340421',\n",
       " 'http://www.ppomppu.co.kr/zboard/view.php?id=freeboard&page=1&divpage=1184&no=6340420',\n",
       " 'http://www.ppomppu.co.kr/zboard/view.php?id=freeboard&page=1&divpage=1184&no=6340419',\n",
       " 'http://www.ppomppu.co.kr/zboard/view.php?id=freeboard&page=1&divpage=1184&no=6340418',\n",
       " 'http://www.ppomppu.co.kr/zboard/view.php?id=freeboard&page=1&divpage=1184&no=6340417',\n",
       " 'http://www.ppomppu.co.kr/zboard/view.php?id=freeboard&page=1&divpage=1184&no=6340416',\n",
       " 'http://www.ppomppu.co.kr/zboard/view.php?id=freeboard&page=1&divpage=1184&no=6340415',\n",
       " 'http://www.ppomppu.co.kr/zboard/view.php?id=freeboard&page=1&divpage=1184&no=6340414',\n",
       " 'http://www.ppomppu.co.kr/zboard/view.php?id=freeboard&page=1&divpage=1184&no=6340413',\n",
       " 'http://www.ppomppu.co.kr/zboard/view.php?id=freeboard&page=1&divpage=1184&no=6340412',\n",
       " 'http://www.ppomppu.co.kr/zboard/view.php?id=freeboard&page=1&divpage=1184&no=6340411',\n",
       " 'http://www.ppomppu.co.kr/zboard/view.php?id=freeboard&page=1&divpage=1184&no=6340410',\n",
       " 'http://www.ppomppu.co.kr/zboard/view.php?id=freeboard&page=1&divpage=1184&no=6340409',\n",
       " 'http://www.ppomppu.co.kr/zboard/view.php?id=freeboard&page=1&divpage=1184&no=6340408',\n",
       " 'http://www.ppomppu.co.kr/zboard/view.php?id=freeboard&page=1&divpage=1184&no=6340407',\n",
       " 'http://www.ppomppu.co.kr/zboard/view.php?id=freeboard&page=1&divpage=1184&no=6340406',\n",
       " 'http://www.ppomppu.co.kr/zboard/view.php?id=freeboard&page=1&divpage=1184&no=6340405',\n",
       " 'http://www.ppomppu.co.kr/zboard/view.php?id=freeboard&page=1&divpage=1184&no=6340404',\n",
       " 'http://www.ppomppu.co.kr/zboard/view.php?id=freeboard&page=1&divpage=1184&no=6340403',\n",
       " 'http://www.ppomppu.co.kr/zboard/view.php?id=freeboard&page=1&divpage=1184&no=6340402',\n",
       " 'http://www.ppomppu.co.kr/zboard/view.php?id=freeboard&page=1&divpage=1184&no=6340401']"
      ]
     },
     "execution_count": 57,
     "metadata": {},
     "output_type": "execute_result"
    }
   ],
   "source": [
    "links = []\n",
    "\n",
    "for tag in dom.select(\"font.list_title\"):\n",
    "    # print(tag.text)\n",
    "    # print(tag.find_parent()[\"href\"])\n",
    "    # print(urljoin(url, tag.find_parent()[\"href\"]))\n",
    "    links.append(urljoin(url, tag.find_parent()[\"href\"]))\n",
    "\n",
    "links"
   ]
  },
  {
   "cell_type": "code",
   "execution_count": 58,
   "metadata": {},
   "outputs": [
    {
     "name": "stdout",
     "output_type": "stream",
     "text": [
      "[]\n"
     ]
    }
   ],
   "source": [
    "# 해당 게시판의 게시글 content 가져오기\n",
    "for link in links:\n",
    "    html = getDownload(link)\n",
    "    dom = BeautifulSoup(html.text, 'html.parser')\n",
    "    print(dom.select(\".board-contents\"))\n",
    "    break"
   ]
  },
  {
   "cell_type": "markdown",
   "metadata": {},
   "source": [
    "- `<td> 속성에 \"class\"라는 속성명이 2번 나오는 경우가 있음. (<td class='board-contents' align=\"left\" valign=top class=han>)`(정상적으로 찾지 못함)"
   ]
  },
  {
   "cell_type": "code",
   "execution_count": 59,
   "metadata": {},
   "outputs": [
    {
     "name": "stdout",
     "output_type": "stream",
     "text": [
      "\n",
      "기사올라왔네요 ㄷㄷㄷ\n",
      "\n",
      "\n",
      "https://m.entertain.naver.com/read?oid=144&aid=0000599712\n",
      "\n",
      " \n",
      "\n",
      "\n",
      "\n",
      "\n",
      " \n",
      "\n",
      "\n"
     ]
    }
   ],
   "source": [
    "for link in links:\n",
    "    html = getDownload(link)\n",
    "    dom = BeautifulSoup(html.text, 'html.parser')\n",
    "    print(dom.select_one(\"table.pic_bg td.han\").text)   # 중복되는 class명에 대비해서, 태그명과 클래스명을 동시에 명기해서 정확히 일치하는 tag만 찾음\n",
    "    \n",
    "    break   # 전체 내용을 보려면 여기를 코멘트 처리"
   ]
  },
  {
   "cell_type": "markdown",
   "metadata": {},
   "source": [
    "### 자유게시판 댓글 추출하기"
   ]
  },
  {
   "cell_type": "markdown",
   "metadata": {},
   "source": [
    "댓글의 (고유한) 위치를 찾고,\n",
    "\n",
    "내용이 있으면,\n",
    "\n",
    "각 댓글을 가리키는 고유한 값을 통해서 내용을 추출"
   ]
  },
  {
   "cell_type": "code",
   "execution_count": 62,
   "metadata": {},
   "outputs": [
    {
     "name": "stdout",
     "output_type": "stream",
     "text": [
      "자유게시판 링크:  http://www.ppomppu.co.kr/zboard/view.php?id=freeboard&page=1&divpage=1184&no=6340430\n",
      "\n",
      "자유게시판 본문:  \n",
      "기사올라왔네요 ㄷㄷㄷ\n",
      "\n",
      "\n",
      "https://m.entertain.naver.com/read?oid=144&aid=0000599712\n",
      "\n",
      " \n",
      "\n",
      "\n",
      "\n",
      "\n",
      " \n",
      "\n",
      "\n",
      "\n",
      "자유게시판 댓글: \n",
      "이건뭐 인스타구도네ㅋㅋㅋㅋㅋㅋㅋㅋ\n",
      "\n",
      "----------\n",
      "헤어스타일도 극혐\n",
      "\n",
      "----------\n",
      "머리가 ㄷㄷ\n",
      "\n",
      "----------\n",
      "셀카인가여???\n",
      "\n",
      "----------\n",
      "일부러 드라이 안했네요. 시끼\n",
      "\n",
      "----------\n",
      "이건 뭐 코앞 ㄷㄷㄷ\n",
      "\n",
      "----------\n",
      ">>>>>>>>>>>>>>>>>>>>>>>>>>>>>>>>>>>>>>>>>>>>>>>>>>\n",
      "\n"
     ]
    }
   ],
   "source": [
    "for link in links:\n",
    "    html = getDownload(link)\n",
    "    dom = BeautifulSoup(html.text, 'html.parser')\n",
    "    \n",
    "    bbs = dom.select_one(\"table.pic_bg td.han\")\n",
    "\n",
    "    if bbs is not None:\n",
    "        print(\"자유게시판 링크: \", link, end=\"\\n\\n\")\n",
    "        print(\"자유게시판 본문: \", bbs.text, end=\"\\n\\n\")\n",
    "\n",
    "        # replys = dom.select(\".comment_line table td .han\")\n",
    "        # replys = dom.select(\".comment_line td .han\")\n",
    "        replys = dom.select(\"table.info_bg div.han\")    # 태그명과 클래스명을 동시에 명기해서 정확히 일치하는 tag만 찾음\n",
    "\n",
    "        if replys is not None:\n",
    "            print(\"자유게시판 댓글: \")\n",
    "            for reply in replys:\n",
    "                print(reply.text.strip(), end=\"\\n\\n\")\n",
    "                print(\"-\" * 10)\n",
    "    \n",
    "        print(\">\" * 50, end=\"\\n\\n\")\n",
    "    \n",
    "    break   # 전체 내용을 출력해보려면 여기를 코멘트 처리"
   ]
  },
  {
   "cell_type": "markdown",
   "metadata": {},
   "source": [
    "### 추가 개선사항(To-Do)"
   ]
  },
  {
   "cell_type": "markdown",
   "metadata": {},
   "source": [
    "댓글의 서브 댓글까지 하나의 리스트로 출력이됨\n",
    "\n",
    "--> main 댓글만 찾도록 수정하고,\n",
    "\n",
    "--> main 댓글을 찾아서 출력하는 조건문 아래에 서브 댓글을 찾을수 있도록 추가 (함수로 만들어서 재귀적 호출하도록 수정)"
   ]
  },
  {
   "cell_type": "code",
   "execution_count": null,
   "metadata": {},
   "outputs": [],
   "source": []
  }
 ],
 "metadata": {
  "kernelspec": {
   "display_name": "Python 3",
   "language": "python",
   "name": "python3"
  },
  "language_info": {
   "codemirror_mode": {
    "name": "ipython",
    "version": 3
   },
   "file_extension": ".py",
   "mimetype": "text/x-python",
   "name": "python",
   "nbconvert_exporter": "python",
   "pygments_lexer": "ipython3",
   "version": "3.6.7"
  },
  "toc": {
   "base_numbering": 1,
   "nav_menu": {},
   "number_sections": false,
   "sideBar": true,
   "skip_h1_title": false,
   "title_cell": "Table of Contents",
   "title_sidebar": "Contents",
   "toc_cell": true,
   "toc_position": {},
   "toc_section_display": true,
   "toc_window_display": false
  }
 },
 "nbformat": 4,
 "nbformat_minor": 2
}
