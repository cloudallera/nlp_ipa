{
 "cells": [
  {
   "cell_type": "markdown",
   "metadata": {
    "toc": true
   },
   "source": [
    "<h1>Table of Contents<span class=\"tocSkip\"></span></h1>\n",
    "<div class=\"toc\"><ul class=\"toc-item\"><li><span><a href=\"#자연어-처리-및-의료인공지능-개발\" data-toc-modified-id=\"자연어-처리-및-의료인공지능-개발-1\">자연어 처리 및 의료인공지능 개발</a></span><ul class=\"toc-item\"><li><span><a href=\"#Overview\" data-toc-modified-id=\"Overview-1.1\">Overview</a></span><ul class=\"toc-item\"><li><span><a href=\"#자연어-처리\" data-toc-modified-id=\"자연어-처리-1.1.1\">자연어 처리</a></span></li><li><span><a href=\"#N-gram-언어-모델\" data-toc-modified-id=\"N-gram-언어-모델-1.1.2\">N-gram 언어 모델</a></span></li><li><span><a href=\"#임베드-행렬(embedding-matrix)\" data-toc-modified-id=\"임베드-행렬(embedding-matrix)-1.1.3\">임베드 행렬(embedding matrix)</a></span></li></ul></li><li><span><a href=\"#Pre-trained-Model\" data-toc-modified-id=\"Pre-trained-Model-1.2\">Pre-trained Model</a></span><ul class=\"toc-item\"><li><span><a href=\"#전이-학습(transfer-learning)\" data-toc-modified-id=\"전이-학습(transfer-learning)-1.2.1\">전이 학습(transfer learning)</a></span></li><li><span><a href=\"#UMLFiT\" data-toc-modified-id=\"UMLFiT-1.2.2\">UMLFiT</a></span></li><li><span><a href=\"#Transformer\" data-toc-modified-id=\"Transformer-1.2.3\">Transformer</a></span></li><li><span><a href=\"#BERT\" data-toc-modified-id=\"BERT-1.2.4\">BERT</a></span></li><li><span><a href=\"#OpenAI's-GPT-2\" data-toc-modified-id=\"OpenAI's-GPT-2-1.2.5\">OpenAI's GPT-2</a></span></li><li><span><a href=\"#Word-Embedding:-ELMo\" data-toc-modified-id=\"Word-Embedding:-ELMo-1.2.6\">Word Embedding: ELMo</a></span></li><li><span><a href=\"#Word-Embedding:-Flair\" data-toc-modified-id=\"Word-Embedding:-Flair-1.2.7\">Word Embedding: Flair</a></span></li></ul></li><li><span><a href=\"#의료인공지능-연구-소개(1)\" data-toc-modified-id=\"의료인공지능-연구-소개(1)-1.3\">의료인공지능 연구 소개(1)</a></span><ul class=\"toc-item\"><li><span><a href=\"#과제명:-진단명-자동-레이블링을-위한-딥러닝-기반-판독기록문으로부터-최종-진단명-추출\" data-toc-modified-id=\"과제명:-진단명-자동-레이블링을-위한-딥러닝-기반-판독기록문으로부터-최종-진단명-추출-1.3.1\">과제명: 진단명 자동 레이블링을 위한 딥러닝 기반 판독기록문으로부터 최종 진단명 추출</a></span></li><li><span><a href=\"#CNN-+-RNN을-적용하여-최종진단명-자동-추출\" data-toc-modified-id=\"CNN-+-RNN을-적용하여-최종진단명-자동-추출-1.3.2\">CNN + RNN을 적용하여 최종진단명 자동 추출</a></span></li><li><span><a href=\"#Word2vec-Skip-Gram-as-embedding-layer\" data-toc-modified-id=\"Word2vec-Skip-Gram-as-embedding-layer-1.3.3\">Word2vec Skip-Gram as embedding layer</a></span></li><li><span><a href=\"#결론\" data-toc-modified-id=\"결론-1.3.4\">결론</a></span></li></ul></li><li><span><a href=\"#의료인공지능-연구-소개(2)\" data-toc-modified-id=\"의료인공지능-연구-소개(2)-1.4\">의료인공지능 연구 소개(2)</a></span><ul class=\"toc-item\"><li><span><a href=\"#과제명\" data-toc-modified-id=\"과제명-1.4.1\">과제명</a></span></li><li><span><a href=\"#흉부X선-서브-진단-모듈-고도화\" data-toc-modified-id=\"흉부X선-서브-진단-모듈-고도화-1.4.2\">흉부X선 서브 진단 모듈 고도화</a></span></li></ul></li></ul></li></ul></div>"
   ]
  },
  {
   "cell_type": "markdown",
   "metadata": {},
   "source": [
    "# 자연어 처리 및 의료인공지능 개발"
   ]
  },
  {
   "cell_type": "markdown",
   "metadata": {},
   "source": [
    "- 홍영택 박사 : 연세대학교 의과대학 세브란스병원 연구부\n",
    "- 인공지능을 이용한 의료영상 처리 기술 연구 및 개발 : 한국형 왓슨 Dr.Answer 심장질환 실무책임자"
   ]
  },
  {
   "cell_type": "markdown",
   "metadata": {},
   "source": [
    "## Overview"
   ]
  },
  {
   "cell_type": "markdown",
   "metadata": {},
   "source": [
    "- Artificial neural network\n",
    "\n",
    "![뉴런](./images/Neuron.png)"
   ]
  },
  {
   "cell_type": "markdown",
   "metadata": {},
   "source": [
    "- Gradient Vanishing Ploblem\n",
    "\n",
    "![gradient_vanishing](./images/gradirnt_vanishing.png)"
   ]
  },
  {
   "cell_type": "markdown",
   "metadata": {},
   "source": [
    "- ReLU(Rectified Linear Unit)\n",
    "\n",
    "![ReLU](./images/ReLU.png)"
   ]
  },
  {
   "cell_type": "markdown",
   "metadata": {},
   "source": [
    "- CNN\n",
    "\n",
    "![cnn](./images/Typical_cnn.png)"
   ]
  },
  {
   "cell_type": "markdown",
   "metadata": {},
   "source": [
    "- U-Net\n",
    "\n",
    "![U-net](./images/U-net.png)"
   ]
  },
  {
   "cell_type": "markdown",
   "metadata": {},
   "source": [
    "### 자연어 처리"
   ]
  },
  {
   "cell_type": "markdown",
   "metadata": {},
   "source": [
    "- DNN(Deep Neural Network)은 분산표현의 장점으로 인해 모호하지만 풍부한 정보를 얻을 수 있다. <br>\n",
    "  => **단어의 벡터화로부터 시작**"
   ]
  },
  {
   "cell_type": "markdown",
   "metadata": {},
   "source": [
    "- \"**비슷한 문맥을 가진 단어는 비슷한 의미를 갖는다.**\"\n",
    "- 기준 단어 주변의 단어가 문맥\n",
    "\n",
    "\n",
    "- Count-based vs. Predictive Methods\n",
    "    - SVD(LSA)\n",
    "    - NPLM, word2vec\n",
    "        - NPLM의 임베드행렬 C의 각행을 단어벡터로서 사용. 그러나, NPLM의 첫번째 목적은 언어 모델 단어벡터는 부산물\n",
    "        - CBOW(연속 bag-of-words)모델 vs. skip-gram 모델"
   ]
  },
  {
   "cell_type": "markdown",
   "metadata": {},
   "source": [
    "- 단위 벡터의 계산량의 문제\n",
    "\n",
    "![단위벡터계산량](./images/단위벡터_계산량.png)"
   ]
  },
  {
   "cell_type": "markdown",
   "metadata": {},
   "source": [
    "### N-gram 언어 모델"
   ]
  },
  {
   "cell_type": "markdown",
   "metadata": {},
   "source": [
    "- 계산량의 한계를 극복하기 위해, 조건을 붙여 확률을 근사화<br>\n",
    "    -> 어떤 단어의 출현 확률은 이전 (n-1)개의 단어에 의존한다.\n",
    "\n",
    "![Ngram_model](./images/ngram_model.png)\n",
    "\n",
    "- n-gram의 n을 증가시켜도, 데이터가 충분하면 성능은 좋아진다. <br>\n",
    "   그러나 단어가 가질수 있는 조합이 $|V|^n$ 로 지수적으로 커진다.<br>\n",
    "   → 지수적으로 학습데이터가 필요해짐."
   ]
  },
  {
   "cell_type": "markdown",
   "metadata": {},
   "source": [
    "### 임베드 행렬(embedding matrix) "
   ]
  },
  {
   "cell_type": "markdown",
   "metadata": {},
   "source": [
    "- 임베드행렬 : 단어벡터(임베드 벡터)의 집합\n",
    "    - 단어 사이의 거리를 벡터화\n",
    "- Word2vec\n",
    "\n",
    "![word2vec](./images/Word2Vec.png)"
   ]
  },
  {
   "cell_type": "markdown",
   "metadata": {},
   "source": [
    "## Pre-trained Model"
   ]
  },
  {
   "cell_type": "markdown",
   "metadata": {},
   "source": [
    "### 전이 학습(transfer learning)"
   ]
  },
  {
   "cell_type": "markdown",
   "metadata": {},
   "source": [
    "- 전이 학습(transfer learning) : 사전 학습된 모델을 적용하여 다른 데이터 집합에서 다른 NLP 기능을 수행\n",
    "- 전이학습의 방법은 기존 학습된 모델에서 마지막 층을 제거한 후, 분류 하고자 하는 문제에 적합한 층을 연결시켜주고 학습하게 됩니다.\n",
    "- 풀고자 하는 문제의 데이터가 많을 경우, 모든 층을 재훈련합니다.\n",
    "- 풀고자 하는 문제의 데이터가 거의 없을 경우, 새로 추가한 마지막 층만 학습하게 합니다.\n",
    "- 전이학습의 장점은 기존에 학습된 지식을 데이터가 적은 문제에 적용시킬수 있다는 점입니다. <br>\n",
    "   이미지 같은 경우, 저레벨의 특성, 즉, 윤곽이나 물체의 일부분을 탐지하는 지식이 방사선의학에 적용할 수 있습니다.\n",
    "- 전이학습은 아래의 상황에서 많이 쓰입니다.\n",
    "    - 전이 가능한 문제의 데이터는 많은데 전이 하려고 하는 문제의 데이터가 정말 적을 때\n",
    "    - 입력 데이터가 같고, 저레벨 특성이 문제를 해결하는데 도움이 될 때"
   ]
  },
  {
   "cell_type": "markdown",
   "metadata": {},
   "source": [
    "### UMLFiT"
   ]
  },
  {
   "cell_type": "markdown",
   "metadata": {},
   "source": [
    "- Wikitext 103 dataset으로 학습 된 모델을 제공\n",
    "- 소규모의 데이터 셋으로 전이 학습을 해도 좋은 성능을 제공함"
   ]
  },
  {
   "cell_type": "markdown",
   "metadata": {},
   "source": [
    "### Transformer"
   ]
  },
  {
   "cell_type": "markdown",
   "metadata": {},
   "source": [
    "- google에서 2017년에 발표\n",
    "- RNN 사용\n",
    "- 향상된 버전이 Transformer XL 발표"
   ]
  },
  {
   "cell_type": "markdown",
   "metadata": {},
   "source": [
    "### BERT"
   ]
  },
  {
   "cell_type": "markdown",
   "metadata": {},
   "source": [
    "- google이 발표한 NLP 작업을 일반화 한 프레임워크\n",
    "- 양방향성 모델"
   ]
  },
  {
   "cell_type": "markdown",
   "metadata": {},
   "source": [
    "### OpenAI's GPT-2"
   ]
  },
  {
   "cell_type": "markdown",
   "metadata": {},
   "source": [
    "- 입력한 몇 문장으로 소설을 만들어 줌"
   ]
  },
  {
   "cell_type": "markdown",
   "metadata": {},
   "source": [
    "### Word Embedding: ELMo"
   ]
  },
  {
   "cell_type": "markdown",
   "metadata": {},
   "source": [
    "### Word Embedding: Flair"
   ]
  },
  {
   "cell_type": "markdown",
   "metadata": {},
   "source": [
    "## 의료인공지능 연구 소개(1)"
   ]
  },
  {
   "cell_type": "markdown",
   "metadata": {},
   "source": [
    "### 과제명: 진단명 자동 레이블링을 위한 딥러닝 기반 판독기록문으로부터 최종 진단명 추출"
   ]
  },
  {
   "cell_type": "markdown",
   "metadata": {},
   "source": [
    "- 특성 : 영상, 음성, 자연어 처리 등 복합적인 작업이 함께 이루어져야 함\n",
    "    - 자연어 처리 관련 부분만 소개"
   ]
  },
  {
   "cell_type": "markdown",
   "metadata": {},
   "source": [
    "- 개발 과정: 학습 및 검증 데이터 구축 -> AI 모델의 단계적 개발 -> 의료기기 인허가를 통한 시제품 출시\n",
    "- 문제점 : 많은 데이터 필요(의료 특성상 다 병원, 해당 국가별 데이터 필요), 판독기록문에 최종 진단명이 레이블링 되어 있지 않음\n",
    "- 보편적인 자연어 처리 접근 기술 : 정규 표현식 -> 여러 예외로 인해 일반화 어려움\n",
    "- 해결 문제 : 판독기록문으로부터 최종 진단명 자동 추출 모델 구현"
   ]
  },
  {
   "cell_type": "markdown",
   "metadata": {},
   "source": [
    "### CNN + RNN을 적용하여 최종진단명 자동 추출"
   ]
  },
  {
   "cell_type": "markdown",
   "metadata": {},
   "source": [
    "- CNN-based Text Classification Method가 일반적으로 사용됨"
   ]
  },
  {
   "cell_type": "markdown",
   "metadata": {},
   "source": [
    "### Word2vec Skip-Gram as embedding layer"
   ]
  },
  {
   "cell_type": "markdown",
   "metadata": {},
   "source": [
    "- 약 5천건의 단어를 128 차원으로 embedding(128개 단어로 축약)"
   ]
  },
  {
   "cell_type": "markdown",
   "metadata": {},
   "source": [
    "- 데이터 불균형 문제가 어려움 : 많이 진단된 병명은 자료가 많지만, 그렇지 않은 병명은 자료가 부족해서, <br>\n",
    "  사람이 실수할 수 있는 희귀한 병명에 대한 자동화 성능이 높지 않음(실제는 이부분을 더 잘 판단해줘야 함)"
   ]
  },
  {
   "cell_type": "markdown",
   "metadata": {},
   "source": [
    "### 결론"
   ]
  },
  {
   "cell_type": "markdown",
   "metadata": {},
   "source": [
    "- 진단명 자동 레이블링 표준 제시\n",
    "- 전체 작업 중 80%는 학습/검증 데이터 구축에 소요됨. 10%는 초기 모델 구축, 10%는 모델 고도화"
   ]
  },
  {
   "cell_type": "markdown",
   "metadata": {},
   "source": [
    "- 참고 : CS224n: Natural Language Processing with Deep Learning"
   ]
  },
  {
   "cell_type": "markdown",
   "metadata": {},
   "source": [
    "## 의료인공지능 연구 소개(2)"
   ]
  },
  {
   "cell_type": "markdown",
   "metadata": {},
   "source": [
    "### 과제명"
   ]
  },
  {
   "cell_type": "markdown",
   "metadata": {},
   "source": [
    "- 과제1: 심장질환(심부전, 부정맥) 발병 위험도 예측 솔루션\n",
    "- 과제2: 청진음-영상-생체신호 통합 데이터 활용 심장질환 진단 SW 개발\n",
    "\n",
    "![질환예측](./images/질환예측.png)"
   ]
  },
  {
   "cell_type": "markdown",
   "metadata": {},
   "source": [
    "### 흉부X선 서브 진단 모듈 고도화"
   ]
  },
  {
   "cell_type": "markdown",
   "metadata": {},
   "source": [
    "- GAN 기반 영상 샘플 생성으로 데이터 불균형 문제 해소"
   ]
  },
  {
   "cell_type": "code",
   "execution_count": null,
   "metadata": {},
   "outputs": [],
   "source": []
  }
 ],
 "metadata": {
  "kernelspec": {
   "display_name": "Python 3",
   "language": "python",
   "name": "python3"
  },
  "language_info": {
   "codemirror_mode": {
    "name": "ipython",
    "version": 3
   },
   "file_extension": ".py",
   "mimetype": "text/x-python",
   "name": "python",
   "nbconvert_exporter": "python",
   "pygments_lexer": "ipython3",
   "version": "3.7.1"
  },
  "toc": {
   "base_numbering": 1,
   "nav_menu": {},
   "number_sections": false,
   "sideBar": true,
   "skip_h1_title": false,
   "title_cell": "Table of Contents",
   "title_sidebar": "Contents",
   "toc_cell": true,
   "toc_position": {},
   "toc_section_display": true,
   "toc_window_display": false
  }
 },
 "nbformat": 4,
 "nbformat_minor": 2
}
