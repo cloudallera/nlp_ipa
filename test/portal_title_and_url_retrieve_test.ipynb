{
 "cells": [
  {
   "cell_type": "markdown",
   "metadata": {
    "toc": true
   },
   "source": [
    "<h1>Table of Contents<span class=\"tocSkip\"></span></h1>\n",
    "<div class=\"toc\"><ul class=\"toc-item\"></ul></div>"
   ]
  },
  {
   "cell_type": "code",
   "execution_count": 1,
   "metadata": {},
   "outputs": [],
   "source": [
    "# from functions.search import getGoogleTitle\n",
    "# from functions.search import getNaverTitle\n",
    "# from functions.search import getDaumTitle\n",
    "# from functions.search import getNateTitle\n",
    "# from functions.search import getPortalTitle\n",
    "\n",
    "# from functions.search import getGoogleTitleWithUrl\n",
    "# from functions.search import getNaverTitleWithUrl\n",
    "# from functions.search import getDaumTitleWithUrl\n",
    "# from functions.search import getNateTitleWithUrl\n",
    "# from functions.search import getPortalTitleWithUrl\n",
    "\n",
    "# from functions.search import getPortalToDOM\n",
    "\n",
    "# from functions.search import getPortalSearchUrl\n",
    "\n",
    "from functions.search import get_google_title\n",
    "from functions.search import get_naver_title\n",
    "from functions.search import get_daum_title\n",
    "from functions.search import get_nate_title\n",
    "from functions.search import get_portal_title\n",
    "\n",
    "from functions.search import get_google_title_with_url\n",
    "from functions.search import get_naver_title_with_url\n",
    "from functions.search import get_daum_title_with_url\n",
    "from functions.search import get_nate_title_with_url\n",
    "from functions.search import get_portal_title_with_url\n",
    "\n",
    "from functions.search import get_portal_to_dom\n",
    "\n",
    "from functions.search import get_portal_search_url"
   ]
  },
  {
   "cell_type": "code",
   "execution_count": 2,
   "metadata": {},
   "outputs": [],
   "source": [
    "from functions.download import get_download"
   ]
  },
  {
   "cell_type": "code",
   "execution_count": 3,
   "metadata": {},
   "outputs": [],
   "source": [
    "from bs4 import BeautifulSoup"
   ]
  },
  {
   "cell_type": "code",
   "execution_count": 4,
   "metadata": {},
   "outputs": [
    {
     "name": "stdout",
     "output_type": "stream",
     "text": [
      "파이썬으로 웹 스크래핑하는 방법 - Web scraping - advenoh - 티스토리\n",
      "1. 웹 크롤링(스크래핑)의개념과 Scrapy & Selenium\n",
      "04-1 웹 스크래핑 (1) - 누구나 할 수 있다. 비트코인 자동매매 - WikiDocs\n",
      "웹 스크래핑(Web Scraping)\n",
      "웹 스크래핑으로 웹 컨텐츠 입맛대로 꾸미기 - 한국 developerWorks ...\n",
      "웹 크롤링과 웹 스크래핑의 차이 (The Difference between Web ...\n",
      "크롤링, 스크래핑, 파싱 차이 (용어 정리) - 핳 - 티스토리\n",
      "웹 크롤링 (Web scraping) 의 이해 - SlideShare\n",
      "The beginner's guide to 웹 크롤링 (스크래핑) - SlideShare\n"
     ]
    }
   ],
   "source": [
    "# 구글 검색 하기\n",
    "url = \"http://www.google.com/search\"\n",
    "\n",
    "html = get_download(url, params={\"q\":\"웹 스크래핑\"})\n",
    "dom = BeautifulSoup(html.text, \"lxml\")\n",
    "\n",
    "for tag in dom.find_all(\"div\", {\"class\":\"r\"}):\n",
    "    print(tag.find(\"a\").h3.text)"
   ]
  },
  {
   "cell_type": "code",
   "execution_count": 5,
   "metadata": {},
   "outputs": [
    {
     "name": "stdout",
     "output_type": "stream",
     "text": [
      "https://advenoh.tistory.com/2\n",
      "https://nittaku.tistory.com/133\n",
      "https://wikidocs.net/21878\n",
      "https://statkclee.github.io/data-science/data-scraping.html\n",
      "https://www.ibm.com/developerworks/community/blogs/9e635b49-09e9-4c23-8999-a4d461aeace2/entry/194?lang=en\n",
      "http://junkyu.dev/37\n",
      "https://aftersiesta.tistory.com/8\n",
      "https://www.slideshare.net/2minchul/web-scraping-75314593\n",
      "https://www.slideshare.net/lucypark/the-beginners-guide-to-54279917\n"
     ]
    }
   ],
   "source": [
    "for tag in dom.find_all(\"div\", {\"class\":\"r\"}):\n",
    "    print(tag.find(\"a\").get(\"href\"))"
   ]
  },
  {
   "cell_type": "code",
   "execution_count": 7,
   "metadata": {},
   "outputs": [
    {
     "data": {
      "text/plain": [
       "[]"
      ]
     },
     "execution_count": 7,
     "metadata": {},
     "output_type": "execute_result"
    }
   ],
   "source": [
    "get_google_title()    # 검색 문자열이 없으면 결과는 None"
   ]
  },
  {
   "cell_type": "code",
   "execution_count": 8,
   "metadata": {},
   "outputs": [
    {
     "data": {
      "text/plain": [
       "['파이썬으로 웹 스크래핑하는 방법 - Web scraping - advenoh - 티스토리',\n",
       " '1. 웹 크롤링(스크래핑)의개념과 Scrapy & Selenium',\n",
       " '04-1 웹 스크래핑 (1) - 누구나 할 수 있다. 비트코인 자동매매 - WikiDocs',\n",
       " '웹 스크래핑(Web Scraping)',\n",
       " '웹 스크래핑으로 웹 컨텐츠 입맛대로 꾸미기 - 한국 developerWorks ...',\n",
       " '웹 크롤링과 웹 스크래핑의 차이 (The Difference between Web ...',\n",
       " '크롤링, 스크래핑, 파싱 차이 (용어 정리) - 핳 - 티스토리',\n",
       " '웹 크롤링 (Web scraping) 의 이해 - SlideShare',\n",
       " \"The beginner's guide to 웹 크롤링 (스크래핑) - SlideShare\"]"
      ]
     },
     "execution_count": 8,
     "metadata": {},
     "output_type": "execute_result"
    }
   ],
   "source": [
    "get_google_title(\"웹 스크래핑\")"
   ]
  },
  {
   "cell_type": "code",
   "execution_count": 9,
   "metadata": {},
   "outputs": [
    {
     "data": {
      "text/plain": [
       "[['파이썬으로 웹 스크래핑하는 방법 - Web scraping - advenoh - 티스토리',\n",
       "  'https://advenoh.tistory.com/2'],\n",
       " ['1. 웹 크롤링(스크래핑)의개념과 Scrapy & Selenium', 'https://nittaku.tistory.com/133'],\n",
       " ['04-1 웹 스크래핑 (1) - 누구나 할 수 있다. 비트코인 자동매매 - WikiDocs',\n",
       "  'https://wikidocs.net/21878'],\n",
       " ['웹 스크래핑(Web Scraping)',\n",
       "  'https://statkclee.github.io/data-science/data-scraping.html'],\n",
       " ['웹 스크래핑으로 웹 컨텐츠 입맛대로 꾸미기 - 한국 developerWorks ...',\n",
       "  'https://www.ibm.com/developerworks/community/blogs/9e635b49-09e9-4c23-8999-a4d461aeace2/entry/194?lang=en'],\n",
       " ['웹 크롤링과 웹 스크래핑의 차이 (The Difference between Web ...', 'http://junkyu.dev/37'],\n",
       " ['크롤링, 스크래핑, 파싱 차이 (용어 정리) - 핳 - 티스토리', 'https://aftersiesta.tistory.com/8'],\n",
       " ['웹 크롤링 (Web scraping) 의 이해 - SlideShare',\n",
       "  'https://www.slideshare.net/2minchul/web-scraping-75314593'],\n",
       " [\"The beginner's guide to 웹 크롤링 (스크래핑) - SlideShare\",\n",
       "  'https://www.slideshare.net/lucypark/the-beginners-guide-to-54279917']]"
      ]
     },
     "execution_count": 9,
     "metadata": {},
     "output_type": "execute_result"
    }
   ],
   "source": [
    "get_google_title_with_url(\"웹 스크래핑\")"
   ]
  },
  {
   "cell_type": "code",
   "execution_count": 10,
   "metadata": {},
   "outputs": [
    {
     "name": "stdout",
     "output_type": "stream",
     "text": [
      "[웹크롤링/웹스크래핑] 웹크롤링 데이터로 예측한 피트빗 분기...\n",
      "사이트 정보를 갖고 오는 웹 스크래핑 소개\n",
      "[Java] Jsoup를 이용한 간단 웹크롤링, 웹스크래핑\n",
      "Python을 이용하여 웹 스크래핑하기\n",
      "배당 정보 읽어들이는 방법 (BeautifulSoup 활용한 웹 스크래핑)\n",
      "--------------------------------------------------\n",
      "구글 스프레드시트에서 웹 크롤링하기 - importjson 활용법.\n",
      "06. 파이썬이란 무엇인가?\n",
      "#5 정말 멋있는 웹사이트를 만들어 볼까요?\n",
      "--------------------------------------------------\n",
      "CMD나 Powershell로 웹 스크래핑 가능한가요?\n",
      "자바 웹 스크래핑에 관하여 질문 드리겟습니다 도와주세요..\n",
      "IT 도서 일괄 판매합니다.(파이썬, 보안기사 등)\n",
      "안녕하세요 웹스크래핑JSOUP에 관하여 질문 드립니다\n",
      "여러분에 고민을 개발 해드립니다.\n",
      "--------------------------------------------------\n",
      "안드로이드, 파이썬, 웹스크래핑 입문책 추천\n",
      "스크래핑이 어떤건가요?\n",
      "웹 크롤링해서 돈 버는 방법은?\n",
      "--------------------------------------------------\n",
      "Data Delivery – 웹스크래핑 서비스\n",
      "파이썬 웹 스크래핑(acorn+PACKT 시리즈) - 인터넷교보문고\n",
      "R로 웹페이지 스크래핑을 해보자(rvest 패키지) - 글이 작품이 되는 공간, ....\n",
      "--------------------------------------------------\n"
     ]
    }
   ],
   "source": [
    "# 네이버 검색 하기\n",
    "url = \"https://search.naver.com/search.naver\"\n",
    "\n",
    "html = get_download(url, params={\"query\": \"웹 스크래핑\"})\n",
    "dom = BeautifulSoup(html.text, \"lxml\")\n",
    "ulTags = dom.find_all(\"\", {\"class\":\"type01\"})\n",
    "\n",
    "for ul in ulTags:\n",
    "    for dt in ul.find_all(\"dt\"):\n",
    "        print(dt.a.text)\n",
    "    print(\"-\" * 50)"
   ]
  },
  {
   "cell_type": "code",
   "execution_count": 11,
   "metadata": {
    "scrolled": true
   },
   "outputs": [
    {
     "data": {
      "text/plain": [
       "['웹 스크래핑하면서 차단 방지하는 방법',\n",
       " '파이썬으로 웹 스크래핑하는 방법 - Web scraping',\n",
       " '4. 정적 웹페이지 웹크롤링 -> 웹 스크래핑 하기(scrapy)',\n",
       " '3. Scrapy 기본구조와 간단한 웹 스크래핑']"
      ]
     },
     "execution_count": 11,
     "metadata": {},
     "output_type": "execute_result"
    }
   ],
   "source": [
    "get_nate_title(\"웹 스크래핑\")"
   ]
  },
  {
   "cell_type": "code",
   "execution_count": 12,
   "metadata": {},
   "outputs": [
    {
     "data": {
      "text/plain": [
       "[[['[웹크롤링/웹스크래핑] 웹크롤링 데이터로 예측한 피트빗 분기...',\n",
       "   'https://blog.naver.com/upennsolution?Redirect=Log&logNo=221361909434'],\n",
       "  ['사이트 정보를 갖고 오는 웹 스크래핑 소개', 'https://hangulok.blog.me/221457887312'],\n",
       "  ['[Java] Jsoup를 이용한 간단 웹크롤링, 웹스크래핑',\n",
       "   'https://blog.naver.com/hansamkang?Redirect=Log&logNo=221477473376'],\n",
       "  ['Python을 이용하여 웹 스크래핑하기',\n",
       "   'https://blog.naver.com/s202268?Redirect=Log&logNo=221352829429'],\n",
       "  ['배당 정보 읽어들이는 방법 (BeautifulSoup 활용한 웹 스크래핑)',\n",
       "   'http://rdison.com/221312883764']],\n",
       " [['구글 스프레드시트에서 웹 크롤링하기 - importjson 활용법.',\n",
       "   'http://m.post.naver.com/viewer/postView.nhn?volumeNo=11697606&memberNo=33264526&vType=VERTICAL'],\n",
       "  ['06. 파이썬이란 무엇인가?',\n",
       "   'http://m.post.naver.com/viewer/postView.nhn?volumeNo=16830204&memberNo=29566044&vType=VERTICAL'],\n",
       "  ['#5 정말 멋있는 웹사이트를 만들어 볼까요?',\n",
       "   'http://m.post.naver.com/viewer/postView.nhn?volumeNo=16408339&memberNo=41772639&vType=VERTICAL']],\n",
       " [['CMD나 Powershell로 웹 스크래핑 가능한가요?', 'http://cafe.naver.com/hacosa/245641'],\n",
       "  ['자바 웹 스크래핑에 관하여 질문 드리겟습니다 도와주세요..', 'http://cafe.naver.com/cafec/369885'],\n",
       "  ['IT 도서 일괄 판매합니다.(파이썬, 보안기사 등)',\n",
       "   'http://cafe.naver.com/joonggonara/546093866'],\n",
       "  ['안녕하세요 웹스크래핑JSOUP에 관하여 질문 드립니다',\n",
       "   'http://cafe.naver.com/javachobostudy/146777'],\n",
       "  ['여러분에 고민을 개발 해드립니다.', 'http://cafe.naver.com/javacircle/112061']],\n",
       " [['안드로이드, 파이썬, 웹스크래핑 입문책 추천',\n",
       "   'https://kin.naver.com/qna/detail.nhn?d1id=1&dirId=10405&docId=267586104&qb=7Ju5IOyKpO2BrOuemO2VkQ==&enc=utf8&section=kin&rank=1&search_sort=0&spq=0'],\n",
       "  ['스크래핑이 어떤건가요?',\n",
       "   'https://kin.naver.com/qna/detail.nhn?d1id=1&dirId=104&docId=65577540&qb=7Ju5IOyKpO2BrOuemO2VkQ==&enc=utf8&section=kin&rank=2&search_sort=0&spq=0'],\n",
       "  ['웹 크롤링해서 돈 버는 방법은?',\n",
       "   'https://kin.naver.com/qna/detail.nhn?d1id=1&dirId=10201&docId=323143602&qb=7Ju5IOyKpO2BrOuemO2VkQ==&enc=utf8&section=kin&rank=3&search_sort=0&spq=0']],\n",
       " [['Data Delivery – 웹스크래핑 서비스', 'http://datadelivery.co.kr/'],\n",
       "  ['파이썬 웹 스크래핑(acorn+PACKT 시리즈) - 인터넷교보문고',\n",
       "   'http://www.kyobobook.co.kr/product/detailViewKor.laf?barcode=9788960779594'],\n",
       "  ['R로 웹페이지 스크래핑을 해보자(rvest 패키지) - 글이 작품이 되는 공간, ....',\n",
       "   'https://brunch.co.kr/@dugi/12']]]"
      ]
     },
     "execution_count": 12,
     "metadata": {},
     "output_type": "execute_result"
    }
   ],
   "source": [
    "get_naver_title_with_url(\"웹 스크래핑\")"
   ]
  },
  {
   "cell_type": "code",
   "execution_count": 14,
   "metadata": {},
   "outputs": [
    {
     "name": "stdout",
     "output_type": "stream",
     "text": [
      "웹스크래핑 쿠팡\n",
      "감정변화 _워드클라우드 작성& 웹스크래핑 R 예제(0113)\n",
      "R 스터디 (웹스크래핑 및 빅데이터 분석 중심) 모집합니다.\n",
      "웹 스크래핑(screen scraping)이란?\n",
      "데이터시각화2(Matplotlib), 웹스크래핑1(BeautifulSoup)\n",
      "웹 스크래핑하면서 차단 방지하는 방법\n",
      "파이썬으로 웹 스크래핑하는 방법 - Web scraping\n",
      "4. 정적 웹페이지 웹크롤링 -> 웹 스크래핑 하기(scrapy)\n",
      "3. Scrapy 기본구조와 간단한 웹 스크래핑\n",
      "파이썬 웹 스크래핑 2/e\n",
      "[스타트링크] 파이썬으로 웹 스크래핑!\n",
      "파이썬 웹 스크래핑\n",
      "[대기업/KCB본사] 웹스크래핑 및 API개발 인재 채용\n",
      "쓰레기+네이버+하태경 젠더 갈등의 은밀한 카르텔?\n",
      "여전사 “대세는 디지털”…고객 맞춤 혁신 속도\n",
      "모니터랩, 시리아 최대 민영은행에 웹방화벽 수출..중동·북아프리...\n",
      "'차세대 인증 플랫폼이라더니' 뱅크사인, 핀테크사도 외면하는 이유는\n",
      "없는건가요? 구글이 크롤링? (웹 스크래핑)을 안해서 그런건가요...\n",
      "스크랩핑이 무슨뜻인가요?\n",
      "무료로 사용가능한 경리회계프로그램 구합니다 경리인데요. 무료회계...\n"
     ]
    }
   ],
   "source": [
    "# 다음 검색 하기 \n",
    "url = \"https://search.daum.net/search\"\n",
    "\n",
    "html = get_download(url, params={\"q\": \"웹 스크래핑\"})\n",
    "dom = BeautifulSoup(html.text, \"lxml\")\n",
    "divTags = dom.find_all(\"\", {\"class\": \"mg_tit\"})\n",
    "\n",
    "for tag in divTags:\n",
    "    a = tag.find(\"a\")\n",
    "    if a != None:\n",
    "        print(a.text.strip())"
   ]
  },
  {
   "cell_type": "code",
   "execution_count": 16,
   "metadata": {},
   "outputs": [
    {
     "data": {
      "text/plain": [
       "['웹스크래핑 쿠팡',\n",
       " '감정변화 _워드클라우드 작성& 웹스크래핑 R 예제(0113)',\n",
       " 'R 스터디 (웹스크래핑 및 빅데이터 분석 중심) 모집합니다.',\n",
       " '웹 스크래핑(screen scraping)이란?',\n",
       " '데이터시각화2(Matplotlib), 웹스크래핑1(BeautifulSoup)',\n",
       " '웹 스크래핑하면서 차단 방지하는 방법',\n",
       " '파이썬으로 웹 스크래핑하는 방법 - Web scraping',\n",
       " '4. 정적 웹페이지 웹크롤링 -> 웹 스크래핑 하기(scrapy)',\n",
       " '3. Scrapy 기본구조와 간단한 웹 스크래핑',\n",
       " '파이썬 웹 스크래핑 2/e',\n",
       " '[스타트링크] 파이썬으로 웹 스크래핑!',\n",
       " '파이썬 웹 스크래핑',\n",
       " '[대기업/KCB본사] 웹스크래핑 및 API개발 인재 채용',\n",
       " '쓰레기+네이버+하태경 젠더 갈등의 은밀한 카르텔?',\n",
       " '여전사 “대세는 디지털”…고객 맞춤 혁신 속도',\n",
       " '모니터랩, 시리아 최대 민영은행에 웹방화벽 수출..중동·북아프리...',\n",
       " \"'차세대 인증 플랫폼이라더니' 뱅크사인, 핀테크사도 외면하는 이유는\",\n",
       " '없는건가요? 구글이 크롤링? (웹 스크래핑)을 안해서 그런건가요...',\n",
       " '스크랩핑이 무슨뜻인가요?',\n",
       " '무료로 사용가능한 경리회계프로그램 구합니다 경리인데요. 무료회계...']"
      ]
     },
     "execution_count": 16,
     "metadata": {},
     "output_type": "execute_result"
    }
   ],
   "source": [
    "get_daum_title(\"웹 스크래핑\")"
   ]
  },
  {
   "cell_type": "code",
   "execution_count": 18,
   "metadata": {
    "scrolled": true
   },
   "outputs": [
    {
     "data": {
      "text/plain": [
       "[['웹스크래핑 쿠팡',\n",
       "  'http://keyword.ad.daum.net/short/clk?q=j-y5kq3EvNaEN25ygeSJHNbCss1bBrcRo_SQwg-N-8_3KKyMTbkZgM6RIJCYvuXan.E5Ysw1-nG8eDMMRbVoCmZwdhiGApyb9Pvc4jcmmy7uRk22xPM4SmICazomVe2YQz8ohzfXLIoJth622L4wL4JfoQjjymBpIUw2AR2dOzQnS.5Hc5ZoXNRGKtYtSmUBpM-uWhnjdRbG.XKpzrz3_6Sa1HIjlNTKmXu3XQr_dHxk6xIvpz.k5FErUzrWO-GrrWzaM2.67_cDDGsbvPTLSQyg&s=http%3A%2F%2Flanding.coupang.com%2Fmulti%3Fsid%3DRSA1%26src%3D1042002%26spec%3D10304941%26lptag%3D%25EC%259B%25B9%25EC%258A%25A4%25ED%2581%25AC%25EB%259E%2598%25ED%2595%2591%26addtag%3D400%26ctag%3D20487928%26product%3D20487928%26forceBypass%3DY'],\n",
       " ['감정변화 _워드클라우드 작성& 웹스크래핑 R 예제(0113)',\n",
       "  'http://cafe.daum.net/statstory/SXsW/57?q=%EC%9B%B9%20%EC%8A%A4%ED%81%AC%EB%9E%98%ED%95%91'],\n",
       " ['R 스터디 (웹스크래핑 및 빅데이터 분석 중심) 모집합니다.',\n",
       "  'http://cafe.daum.net/statsas/Lu0Q/316?q=%EC%9B%B9%20%EC%8A%A4%ED%81%AC%EB%9E%98%ED%95%91'],\n",
       " ['웹 스크래핑(screen scraping)이란?',\n",
       "  'http://cafe.daum.net/ahnsanghyuk/EPcZ/36?q=%EC%9B%B9%20%EC%8A%A4%ED%81%AC%EB%9E%98%ED%95%91'],\n",
       " ['데이터시각화2(Matplotlib), 웹스크래핑1(BeautifulSoup)',\n",
       "  'http://cafe.daum.net/newlifesoft/U6Qk/217?q=%EC%9B%B9%20%EC%8A%A4%ED%81%AC%EB%9E%98%ED%95%91'],\n",
       " ['웹 스크래핑하면서 차단 방지하는 방법', 'http://advenoh.tistory.com/3'],\n",
       " ['파이썬으로 웹 스크래핑하는 방법 - Web scraping', 'http://advenoh.tistory.com/2'],\n",
       " ['4. 정적 웹페이지 웹크롤링 -> 웹 스크래핑 하기(scrapy)', 'http://nittaku.tistory.com/136'],\n",
       " ['3. Scrapy 기본구조와 간단한 웹 스크래핑', 'http://nittaku.tistory.com/135'],\n",
       " ['파이썬 웹 스크래핑 2/e',\n",
       "  'http://www.kyobobook.co.kr/product/detailViewKor.laf?ejkGb=KOR&mallGb=KOR&barcode=9791161752525&orderClick=LAH&Kc=#N'],\n",
       " ['[스타트링크] 파이썬으로 웹 스크래핑!', 'https://m.onoffmix.com/event/64659'],\n",
       " ['파이썬 웹 스크래핑',\n",
       "  'http://clsmall.interpark.com/product/BookDisplay.do?_method=detail&sc.shopNo=0000400000&sc.prdNo=267158250&sc.saNo=007&bnid1=book_2015&bnid2=bottom&bnid3=series&bnid4=prd'],\n",
       " ['[대기업/KCB본사] 웹스크래핑 및 API개발 인재 채용',\n",
       "  'http://www.saramin.co.kr/zf_user/jobs/view?rec_idx=35724208'],\n",
       " ['쓰레기+네이버+하태경 젠더 갈등의 은밀한 카르텔?',\n",
       "  'http://v.media.daum.net/v/20190307125803917?f=o'],\n",
       " ['여전사 “대세는 디지털”…고객 맞춤 혁신 속도', 'https://cp.news.search.daum.net/p/76729792'],\n",
       " ['모니터랩, 시리아 최대 민영은행에 웹방화벽 수출..중동·북아프리...',\n",
       "  'http://v.media.daum.net/v/20190303120111474?f=o'],\n",
       " [\"'차세대 인증 플랫폼이라더니' 뱅크사인, 핀테크사도 외면하는 이유는\",\n",
       "  'http://v.media.daum.net/v/20190303193126333?f=o'],\n",
       " ['없는건가요? 구글이 크롤링? (웹 스크래핑)을 안해서 그런건가요...',\n",
       "  'http://tip.daum.net/answer/97576199?q=%EC%9B%B9%20%EC%8A%A4%ED%81%AC%EB%9E%98%ED%95%91'],\n",
       " ['스크랩핑이 무슨뜻인가요?',\n",
       "  'http://tip.daum.net/answer/93278615?q=%EC%9B%B9%20%EC%8A%A4%ED%81%AC%EB%9E%98%ED%95%91'],\n",
       " ['무료로 사용가능한 경리회계프로그램 구합니다 경리인데요. 무료회계...',\n",
       "  'http://tip.daum.net/answer/90888902?q=%EC%9B%B9%20%EC%8A%A4%ED%81%AC%EB%9E%98%ED%95%91']]"
      ]
     },
     "execution_count": 18,
     "metadata": {},
     "output_type": "execute_result"
    }
   ],
   "source": [
    "get_daum_title_with_url(\"웹 스크래핑\")"
   ]
  },
  {
   "cell_type": "code",
   "execution_count": 20,
   "metadata": {},
   "outputs": [
    {
     "data": {
      "text/plain": [
       "['웹 스크래핑하면서 차단 방지하는 방법',\n",
       " '파이썬으로 웹 스크래핑하는 방법 - Web scraping',\n",
       " '4. 정적 웹페이지 웹크롤링 -> 웹 스크래핑 하기(scrapy)',\n",
       " '3. Scrapy 기본구조와 간단한 웹 스크래핑']"
      ]
     },
     "execution_count": 20,
     "metadata": {},
     "output_type": "execute_result"
    }
   ],
   "source": [
    "get_nate_title(\"웹 스크래핑\")"
   ]
  },
  {
   "cell_type": "code",
   "execution_count": 22,
   "metadata": {},
   "outputs": [
    {
     "data": {
      "text/plain": [
       "[['웹 스크래핑하면서 차단 방지하는 방법', 'http://advenoh.tistory.com/3'],\n",
       " ['파이썬으로 웹 스크래핑하는 방법 - Web scraping', 'http://advenoh.tistory.com/2'],\n",
       " ['4. 정적 웹페이지 웹크롤링 -> 웹 스크래핑 하기(scrapy)', 'http://nittaku.tistory.com/136'],\n",
       " ['3. Scrapy 기본구조와 간단한 웹 스크래핑', 'http://nittaku.tistory.com/135']]"
      ]
     },
     "execution_count": 22,
     "metadata": {},
     "output_type": "execute_result"
    }
   ],
   "source": [
    "get_nate_title_with_url(\"웹 스크래핑\")"
   ]
  },
  {
   "cell_type": "code",
   "execution_count": 24,
   "metadata": {},
   "outputs": [
    {
     "data": {
      "text/plain": [
       "['파이썬으로 웹 스크래핑하는 방법 - Web scraping - advenoh - 티스토리',\n",
       " '1. 웹 크롤링(스크래핑)의개념과 Scrapy & Selenium',\n",
       " '04-1 웹 스크래핑 (1) - 누구나 할 수 있다. 비트코인 자동매매 - WikiDocs',\n",
       " '웹 스크래핑(Web Scraping)',\n",
       " '웹 스크래핑으로 웹 컨텐츠 입맛대로 꾸미기 - 한국 developerWorks ...',\n",
       " '웹 크롤링과 웹 스크래핑의 차이 (The Difference between Web ...',\n",
       " '크롤링, 스크래핑, 파싱 차이 (용어 정리) - 핳 - 티스토리',\n",
       " '웹 크롤링 (Web scraping) 의 이해 - SlideShare',\n",
       " \"The beginner's guide to 웹 크롤링 (스크래핑) - SlideShare\"]"
      ]
     },
     "execution_count": 24,
     "metadata": {},
     "output_type": "execute_result"
    }
   ],
   "source": [
    "get_portal_title(\"g\", \"웹 스크래핑\")"
   ]
  },
  {
   "cell_type": "code",
   "execution_count": 26,
   "metadata": {},
   "outputs": [
    {
     "data": {
      "text/plain": [
       "[['[웹크롤링/웹스크래핑] 웹크롤링 데이터로 예측한 피트빗 분기...',\n",
       "  '사이트 정보를 갖고 오는 웹 스크래핑 소개',\n",
       "  '[Java] Jsoup를 이용한 간단 웹크롤링, 웹스크래핑',\n",
       "  'Python을 이용하여 웹 스크래핑하기',\n",
       "  '배당 정보 읽어들이는 방법 (BeautifulSoup 활용한 웹 스크래핑)'],\n",
       " ['구글 스프레드시트에서 웹 크롤링하기 - importjson 활용법.',\n",
       "  '06. 파이썬이란 무엇인가?',\n",
       "  '#5 정말 멋있는 웹사이트를 만들어 볼까요?'],\n",
       " ['CMD나 Powershell로 웹 스크래핑 가능한가요?',\n",
       "  '자바 웹 스크래핑에 관하여 질문 드리겟습니다 도와주세요..',\n",
       "  'IT 도서 일괄 판매합니다.(파이썬, 보안기사 등)',\n",
       "  '안녕하세요 웹스크래핑JSOUP에 관하여 질문 드립니다',\n",
       "  '여러분에 고민을 개발 해드립니다.'],\n",
       " ['안드로이드, 파이썬, 웹스크래핑 입문책 추천', '스크래핑이 어떤건가요?', '웹 크롤링해서 돈 버는 방법은?'],\n",
       " ['Data Delivery – 웹스크래핑 서비스',\n",
       "  '파이썬 웹 스크래핑(acorn+PACKT 시리즈) - 인터넷교보문고',\n",
       "  'R로 웹페이지 스크래핑을 해보자(rvest 패키지) - 글이 작품이 되는 공간, ....']]"
      ]
     },
     "execution_count": 26,
     "metadata": {},
     "output_type": "execute_result"
    }
   ],
   "source": [
    "get_portal_title(\"n\", \"웹 스크래핑\")"
   ]
  },
  {
   "cell_type": "code",
   "execution_count": 27,
   "metadata": {},
   "outputs": [
    {
     "data": {
      "text/plain": [
       "['웹스크래핑 쿠팡',\n",
       " '감정변화 _워드클라우드 작성& 웹스크래핑 R 예제(0113)',\n",
       " 'R 스터디 (웹스크래핑 및 빅데이터 분석 중심) 모집합니다.',\n",
       " '웹 스크래핑(screen scraping)이란?',\n",
       " '데이터시각화2(Matplotlib), 웹스크래핑1(BeautifulSoup)',\n",
       " '웹 스크래핑하면서 차단 방지하는 방법',\n",
       " '파이썬으로 웹 스크래핑하는 방법 - Web scraping',\n",
       " '4. 정적 웹페이지 웹크롤링 -> 웹 스크래핑 하기(scrapy)',\n",
       " '3. Scrapy 기본구조와 간단한 웹 스크래핑',\n",
       " '파이썬 웹 스크래핑 2/e',\n",
       " '[스타트링크] 파이썬으로 웹 스크래핑!',\n",
       " '파이썬 웹 스크래핑',\n",
       " '[대기업/KCB본사] 웹스크래핑 및 API개발 인재 채용',\n",
       " '쓰레기+네이버+하태경 젠더 갈등의 은밀한 카르텔?',\n",
       " '여전사 “대세는 디지털”…고객 맞춤 혁신 속도',\n",
       " '모니터랩, 시리아 최대 민영은행에 웹방화벽 수출..중동·북아프리...',\n",
       " \"'차세대 인증 플랫폼이라더니' 뱅크사인, 핀테크사도 외면하는 이유는\",\n",
       " '없는건가요? 구글이 크롤링? (웹 스크래핑)을 안해서 그런건가요...',\n",
       " '스크랩핑이 무슨뜻인가요?',\n",
       " '무료로 사용가능한 경리회계프로그램 구합니다 경리인데요. 무료회계...']"
      ]
     },
     "execution_count": 27,
     "metadata": {},
     "output_type": "execute_result"
    }
   ],
   "source": [
    "get_portal_title(\"d\", \"웹 스크래핑\")"
   ]
  },
  {
   "cell_type": "code",
   "execution_count": 28,
   "metadata": {},
   "outputs": [
    {
     "data": {
      "text/plain": [
       "['웹 스크래핑하면서 차단 방지하는 방법',\n",
       " '파이썬으로 웹 스크래핑하는 방법 - Web scraping',\n",
       " '4. 정적 웹페이지 웹크롤링 -> 웹 스크래핑 하기(scrapy)',\n",
       " '3. Scrapy 기본구조와 간단한 웹 스크래핑']"
      ]
     },
     "execution_count": 28,
     "metadata": {},
     "output_type": "execute_result"
    }
   ],
   "source": [
    "get_portal_title(\"nate\", \"웹 스크래핑\")"
   ]
  },
  {
   "cell_type": "code",
   "execution_count": 30,
   "metadata": {},
   "outputs": [
    {
     "data": {
      "text/plain": [
       "[['파이썬으로 웹 스크래핑하는 방법 - Web scraping - advenoh - 티스토리',\n",
       "  'https://advenoh.tistory.com/2'],\n",
       " ['1. 웹 크롤링(스크래핑)의개념과 Scrapy & Selenium', 'https://nittaku.tistory.com/133'],\n",
       " ['04-1 웹 스크래핑 (1) - 누구나 할 수 있다. 비트코인 자동매매 - WikiDocs',\n",
       "  'https://wikidocs.net/21878'],\n",
       " ['웹 스크래핑(Web Scraping)',\n",
       "  'https://statkclee.github.io/data-science/data-scraping.html'],\n",
       " ['웹 스크래핑으로 웹 컨텐츠 입맛대로 꾸미기 - 한국 developerWorks ...',\n",
       "  'https://www.ibm.com/developerworks/community/blogs/9e635b49-09e9-4c23-8999-a4d461aeace2/entry/194?lang=en'],\n",
       " ['웹 크롤링과 웹 스크래핑의 차이 (The Difference between Web ...', 'http://junkyu.dev/37'],\n",
       " ['크롤링, 스크래핑, 파싱 차이 (용어 정리) - 핳 - 티스토리', 'https://aftersiesta.tistory.com/8'],\n",
       " ['웹 크롤링 (Web scraping) 의 이해 - SlideShare',\n",
       "  'https://www.slideshare.net/2minchul/web-scraping-75314593'],\n",
       " [\"The beginner's guide to 웹 크롤링 (스크래핑) - SlideShare\",\n",
       "  'https://www.slideshare.net/lucypark/the-beginners-guide-to-54279917']]"
      ]
     },
     "execution_count": 30,
     "metadata": {},
     "output_type": "execute_result"
    }
   ],
   "source": [
    "get_portal_title_with_url(\"g\", \"웹 스크래핑\")"
   ]
  },
  {
   "cell_type": "code",
   "execution_count": 31,
   "metadata": {
    "scrolled": true
   },
   "outputs": [
    {
     "data": {
      "text/plain": [
       "[[['[웹크롤링/웹스크래핑] 웹크롤링 데이터로 예측한 피트빗 분기...',\n",
       "   'https://blog.naver.com/upennsolution?Redirect=Log&logNo=221361909434'],\n",
       "  ['사이트 정보를 갖고 오는 웹 스크래핑 소개', 'https://hangulok.blog.me/221457887312'],\n",
       "  ['[Java] Jsoup를 이용한 간단 웹크롤링, 웹스크래핑',\n",
       "   'https://blog.naver.com/hansamkang?Redirect=Log&logNo=221477473376'],\n",
       "  ['Python을 이용하여 웹 스크래핑하기',\n",
       "   'https://blog.naver.com/s202268?Redirect=Log&logNo=221352829429'],\n",
       "  ['배당 정보 읽어들이는 방법 (BeautifulSoup 활용한 웹 스크래핑)',\n",
       "   'http://rdison.com/221312883764']],\n",
       " [['구글 스프레드시트에서 웹 크롤링하기 - importjson 활용법.',\n",
       "   'http://m.post.naver.com/viewer/postView.nhn?volumeNo=11697606&memberNo=33264526&vType=VERTICAL'],\n",
       "  ['06. 파이썬이란 무엇인가?',\n",
       "   'http://m.post.naver.com/viewer/postView.nhn?volumeNo=16830204&memberNo=29566044&vType=VERTICAL'],\n",
       "  ['#5 정말 멋있는 웹사이트를 만들어 볼까요?',\n",
       "   'http://m.post.naver.com/viewer/postView.nhn?volumeNo=16408339&memberNo=41772639&vType=VERTICAL']],\n",
       " [['CMD나 Powershell로 웹 스크래핑 가능한가요?', 'http://cafe.naver.com/hacosa/245641'],\n",
       "  ['자바 웹 스크래핑에 관하여 질문 드리겟습니다 도와주세요..', 'http://cafe.naver.com/cafec/369885'],\n",
       "  ['IT 도서 일괄 판매합니다.(파이썬, 보안기사 등)',\n",
       "   'http://cafe.naver.com/joonggonara/546093866'],\n",
       "  ['안녕하세요 웹스크래핑JSOUP에 관하여 질문 드립니다',\n",
       "   'http://cafe.naver.com/javachobostudy/146777'],\n",
       "  ['여러분에 고민을 개발 해드립니다.', 'http://cafe.naver.com/javacircle/112061']],\n",
       " [['안드로이드, 파이썬, 웹스크래핑 입문책 추천',\n",
       "   'https://kin.naver.com/qna/detail.nhn?d1id=1&dirId=10405&docId=267586104&qb=7Ju5IOyKpO2BrOuemO2VkQ==&enc=utf8&section=kin&rank=1&search_sort=0&spq=0'],\n",
       "  ['스크래핑이 어떤건가요?',\n",
       "   'https://kin.naver.com/qna/detail.nhn?d1id=1&dirId=104&docId=65577540&qb=7Ju5IOyKpO2BrOuemO2VkQ==&enc=utf8&section=kin&rank=2&search_sort=0&spq=0'],\n",
       "  ['웹 크롤링해서 돈 버는 방법은?',\n",
       "   'https://kin.naver.com/qna/detail.nhn?d1id=1&dirId=10201&docId=323143602&qb=7Ju5IOyKpO2BrOuemO2VkQ==&enc=utf8&section=kin&rank=3&search_sort=0&spq=0']],\n",
       " [['Data Delivery – 웹스크래핑 서비스', 'http://datadelivery.co.kr/'],\n",
       "  ['파이썬 웹 스크래핑(acorn+PACKT 시리즈) - 인터넷교보문고',\n",
       "   'http://www.kyobobook.co.kr/product/detailViewKor.laf?barcode=9788960779594'],\n",
       "  ['R로 웹페이지 스크래핑을 해보자(rvest 패키지) - 글이 작품이 되는 공간, ....',\n",
       "   'https://brunch.co.kr/@dugi/12']]]"
      ]
     },
     "execution_count": 31,
     "metadata": {},
     "output_type": "execute_result"
    }
   ],
   "source": [
    "get_portal_title_with_url(\"n\", \"웹 스크래핑\")"
   ]
  },
  {
   "cell_type": "code",
   "execution_count": 32,
   "metadata": {
    "scrolled": true
   },
   "outputs": [
    {
     "data": {
      "text/plain": [
       "[['웹스크래핑 쿠팡',\n",
       "  'http://keyword.ad.daum.net/short/clk?q=OsgEhEpJ8PwyROvlXyDhChkAmquoq7r5cMgbUO3trgdIre.I3jBQjd-thwVFPjIaMQS3jUfvCg4JzKKW57m232HG_phlf_ED5y__nP_hKOWIzlsEyiCxix36c3CUJ_4lrTf.nQ-HNErWvgPErxBwg5ZR.L_rf9j6OuKGOv4mTF_5h5uUY-8gw-CloIPxztvCiUKsatO4Jtep6RsN9lxg-kU9QKg5zdSxVB-6oETYIC.1WiWhenmMSTnLO9xWK82Pe4Gpxp2QHxtXdvjjQzMowRZC&s=http%3A%2F%2Flanding.coupang.com%2Fmulti%3Fsid%3DRSA1%26src%3D1042002%26spec%3D10304941%26lptag%3D%25EC%259B%25B9%25EC%258A%25A4%25ED%2581%25AC%25EB%259E%2598%25ED%2595%2591%26addtag%3D400%26ctag%3D20487928%26product%3D20487928%26forceBypass%3DY'],\n",
       " ['감정변화 _워드클라우드 작성& 웹스크래핑 R 예제(0113)',\n",
       "  'http://cafe.daum.net/statstory/SXsW/57?q=%EC%9B%B9%20%EC%8A%A4%ED%81%AC%EB%9E%98%ED%95%91'],\n",
       " ['R 스터디 (웹스크래핑 및 빅데이터 분석 중심) 모집합니다.',\n",
       "  'http://cafe.daum.net/statsas/Lu0Q/316?q=%EC%9B%B9%20%EC%8A%A4%ED%81%AC%EB%9E%98%ED%95%91'],\n",
       " ['웹 스크래핑(screen scraping)이란?',\n",
       "  'http://cafe.daum.net/ahnsanghyuk/EPcZ/36?q=%EC%9B%B9%20%EC%8A%A4%ED%81%AC%EB%9E%98%ED%95%91'],\n",
       " ['데이터시각화2(Matplotlib), 웹스크래핑1(BeautifulSoup)',\n",
       "  'http://cafe.daum.net/newlifesoft/U6Qk/217?q=%EC%9B%B9%20%EC%8A%A4%ED%81%AC%EB%9E%98%ED%95%91'],\n",
       " ['웹 스크래핑하면서 차단 방지하는 방법', 'http://advenoh.tistory.com/3'],\n",
       " ['파이썬으로 웹 스크래핑하는 방법 - Web scraping', 'http://advenoh.tistory.com/2'],\n",
       " ['4. 정적 웹페이지 웹크롤링 -> 웹 스크래핑 하기(scrapy)', 'http://nittaku.tistory.com/136'],\n",
       " ['3. Scrapy 기본구조와 간단한 웹 스크래핑', 'http://nittaku.tistory.com/135'],\n",
       " ['파이썬 웹 스크래핑 2/e',\n",
       "  'http://www.kyobobook.co.kr/product/detailViewKor.laf?ejkGb=KOR&mallGb=KOR&barcode=9791161752525&orderClick=LAH&Kc=#N'],\n",
       " ['[스타트링크] 파이썬으로 웹 스크래핑!', 'https://m.onoffmix.com/event/64659'],\n",
       " ['파이썬 웹 스크래핑',\n",
       "  'http://clsmall.interpark.com/product/BookDisplay.do?_method=detail&sc.shopNo=0000400000&sc.prdNo=267158250&sc.saNo=007&bnid1=book_2015&bnid2=bottom&bnid3=series&bnid4=prd'],\n",
       " ['[대기업/KCB본사] 웹스크래핑 및 API개발 인재 채용',\n",
       "  'http://www.saramin.co.kr/zf_user/jobs/view?rec_idx=35724208'],\n",
       " ['쓰레기+네이버+하태경 젠더 갈등의 은밀한 카르텔?',\n",
       "  'http://v.media.daum.net/v/20190307125803917?f=o'],\n",
       " ['여전사 “대세는 디지털”…고객 맞춤 혁신 속도', 'https://cp.news.search.daum.net/p/76729792'],\n",
       " ['모니터랩, 시리아 최대 민영은행에 웹방화벽 수출..중동·북아프리...',\n",
       "  'http://v.media.daum.net/v/20190303120111474?f=o'],\n",
       " [\"'차세대 인증 플랫폼이라더니' 뱅크사인, 핀테크사도 외면하는 이유는\",\n",
       "  'http://v.media.daum.net/v/20190303193126333?f=o'],\n",
       " ['없는건가요? 구글이 크롤링? (웹 스크래핑)을 안해서 그런건가요...',\n",
       "  'http://tip.daum.net/answer/97576199?q=%EC%9B%B9%20%EC%8A%A4%ED%81%AC%EB%9E%98%ED%95%91'],\n",
       " ['스크랩핑이 무슨뜻인가요?',\n",
       "  'http://tip.daum.net/answer/93278615?q=%EC%9B%B9%20%EC%8A%A4%ED%81%AC%EB%9E%98%ED%95%91'],\n",
       " ['무료로 사용가능한 경리회계프로그램 구합니다 경리인데요. 무료회계...',\n",
       "  'http://tip.daum.net/answer/90888902?q=%EC%9B%B9%20%EC%8A%A4%ED%81%AC%EB%9E%98%ED%95%91']]"
      ]
     },
     "execution_count": 32,
     "metadata": {},
     "output_type": "execute_result"
    }
   ],
   "source": [
    "get_portal_title_with_url(\"d\", \"웹 스크래핑\")"
   ]
  },
  {
   "cell_type": "code",
   "execution_count": 33,
   "metadata": {},
   "outputs": [
    {
     "data": {
      "text/plain": [
       "[['웹 스크래핑하면서 차단 방지하는 방법', 'http://advenoh.tistory.com/3'],\n",
       " ['파이썬으로 웹 스크래핑하는 방법 - Web scraping', 'http://advenoh.tistory.com/2'],\n",
       " ['4. 정적 웹페이지 웹크롤링 -> 웹 스크래핑 하기(scrapy)', 'http://nittaku.tistory.com/136'],\n",
       " ['3. Scrapy 기본구조와 간단한 웹 스크래핑', 'http://nittaku.tistory.com/135']]"
      ]
     },
     "execution_count": 33,
     "metadata": {},
     "output_type": "execute_result"
    }
   ],
   "source": [
    "get_portal_title_with_url(\"nate\", \"웹 스크래핑\")"
   ]
  },
  {
   "cell_type": "code",
   "execution_count": 35,
   "metadata": {},
   "outputs": [],
   "source": [
    "google, naver, daum, nate = get_portal_to_dom(\"웹 스크래핑\")"
   ]
  },
  {
   "cell_type": "code",
   "execution_count": 36,
   "metadata": {},
   "outputs": [
    {
     "name": "stdout",
     "output_type": "stream",
     "text": [
      "파이썬으로 웹 스크래핑하는 방법 - Web scraping - advenoh - 티스토리\n",
      "1. 웹 크롤링(스크래핑)의개념과 Scrapy & Selenium\n",
      "04-1 웹 스크래핑 (1) - 누구나 할 수 있다. 비트코인 자동매매 - WikiDocs\n",
      "웹 스크래핑(Web Scraping)\n",
      "웹 스크래핑으로 웹 컨텐츠 입맛대로 꾸미기 - 한국 developerWorks ...\n",
      "크롤링, 스크래핑, 파싱 차이 (용어 정리) - 핳 - 티스토리\n",
      "웹 크롤링 (Web scraping) 의 이해 - SlideShare\n",
      "The beginner's guide to 웹 크롤링 (스크래핑) - SlideShare\n",
      "Web Scraping(웹 크롤링) 이란? : 네이버 블로그\n"
     ]
    }
   ],
   "source": [
    "for tag in google.find_all(\"div\", {\"class\":\"r\"}):\n",
    "    print(tag.find(\"a\").h3.text)"
   ]
  },
  {
   "cell_type": "code",
   "execution_count": 37,
   "metadata": {},
   "outputs": [
    {
     "name": "stdout",
     "output_type": "stream",
     "text": [
      "[웹크롤링/웹스크래핑] 웹크롤링 데이터로 예측한 피트빗 분기...\n",
      "사이트 정보를 갖고 오는 웹 스크래핑 소개\n",
      "[Java] Jsoup를 이용한 간단 웹크롤링, 웹스크래핑\n",
      "Python을 이용하여 웹 스크래핑하기\n",
      "배당 정보 읽어들이는 방법 (BeautifulSoup 활용한 웹 스크래핑)\n",
      "--------------------------------------------------\n",
      "구글 스프레드시트에서 웹 크롤링하기 - importjson 활용법.\n",
      "06. 파이썬이란 무엇인가?\n",
      "#5 정말 멋있는 웹사이트를 만들어 볼까요?\n",
      "--------------------------------------------------\n",
      "CMD나 Powershell로 웹 스크래핑 가능한가요?\n",
      "자바 웹 스크래핑에 관하여 질문 드리겟습니다 도와주세요..\n",
      "IT 도서 일괄 판매합니다.(파이썬, 보안기사 등)\n",
      "안녕하세요 웹스크래핑JSOUP에 관하여 질문 드립니다\n",
      "여러분에 고민을 개발 해드립니다.\n",
      "--------------------------------------------------\n",
      "안드로이드, 파이썬, 웹스크래핑 입문책 추천\n",
      "스크래핑이 어떤건가요?\n",
      "웹 크롤링해서 돈 버는 방법은?\n",
      "--------------------------------------------------\n",
      "Data Delivery – 웹스크래핑 서비스\n",
      "파이썬 웹 스크래핑(acorn+PACKT 시리즈) - 인터넷교보문고\n",
      "R로 웹페이지 스크래핑을 해보자(rvest 패키지) - 글이 작품이 되는 공간, ....\n",
      "--------------------------------------------------\n"
     ]
    }
   ],
   "source": [
    "for ul in naver.find_all(\"\", {\"class\":\"type01\"}):\n",
    "    for dt in ul.find_all(\"dt\"):\n",
    "        print(dt.a.text)\n",
    "    print(\"-\" * 50)"
   ]
  },
  {
   "cell_type": "code",
   "execution_count": 38,
   "metadata": {
    "scrolled": true
   },
   "outputs": [
    {
     "name": "stdout",
     "output_type": "stream",
     "text": [
      "웹스크래핑 쿠팡\n",
      "감정변화 _워드클라우드 작성& 웹스크래핑 R 예제(0113)\n",
      "R 스터디 (웹스크래핑 및 빅데이터 분석 중심) 모집합니다.\n",
      "웹 스크래핑(screen scraping)이란?\n",
      "데이터시각화2(Matplotlib), 웹스크래핑1(BeautifulSoup)\n",
      "웹 스크래핑하면서 차단 방지하는 방법\n",
      "파이썬으로 웹 스크래핑하는 방법 - Web scraping\n",
      "4. 정적 웹페이지 웹크롤링 -> 웹 스크래핑 하기(scrapy)\n",
      "3. Scrapy 기본구조와 간단한 웹 스크래핑\n",
      "파이썬 웹 스크래핑 2/e\n",
      "[스타트링크] 파이썬으로 웹 스크래핑!\n",
      "파이썬 웹 스크래핑\n",
      "[대기업/KCB본사] 웹스크래핑 및 API개발 인재 채용\n",
      "쓰레기+네이버+하태경 젠더 갈등의 은밀한 카르텔?\n",
      "여전사 “대세는 디지털”…고객 맞춤 혁신 속도\n",
      "모니터랩, 시리아 최대 민영은행에 웹방화벽 수출..중동·북아프리...\n",
      "'차세대 인증 플랫폼이라더니' 뱅크사인, 핀테크사도 외면하는 이유는\n",
      "없는건가요? 구글이 크롤링? (웹 스크래핑)을 안해서 그런건가요...\n",
      "스크랩핑이 무슨뜻인가요?\n",
      "무료로 사용가능한 경리회계프로그램 구합니다 경리인데요. 무료회계...\n"
     ]
    }
   ],
   "source": [
    "for tag in daum.find_all(\"\", {\"class\": \"mg_tit\"}):\n",
    "    a = tag.find(\"a\")\n",
    "    if a != None:\n",
    "        print(a.text.strip())"
   ]
  },
  {
   "cell_type": "code",
   "execution_count": 39,
   "metadata": {},
   "outputs": [
    {
     "name": "stdout",
     "output_type": "stream",
     "text": [
      "웹 스크래핑하면서 차단 방지하는 방법 http://advenoh.tistory.com/3\n",
      "파이썬으로 웹 스크래핑하는 방법 - Web scraping http://advenoh.tistory.com/2\n",
      "4. 정적 웹페이지 웹크롤링 -> 웹 스크래핑 하기(scrapy) http://nittaku.tistory.com/136\n",
      "3. Scrapy 기본구조와 간단한 웹 스크래핑 http://nittaku.tistory.com/135\n"
     ]
    }
   ],
   "source": [
    "blog = nate.find(\"\", {\"id\":\"blogColl\"})    # 블로그 전체를 감싸고 있는 div 태그의 \"id\"가 \"blogColl\"\n",
    "for tag in blog.find_all(\"a\", {\"class\":\"f_link_b\"}):    # \"a\" 태그의 class명이 \"f_link_b\"\n",
    "    print(tag.text, tag[\"href\"])"
   ]
  },
  {
   "cell_type": "code",
   "execution_count": 42,
   "metadata": {},
   "outputs": [
    {
     "data": {
      "text/plain": [
       "'http://www.google.com/search'"
      ]
     },
     "execution_count": 42,
     "metadata": {},
     "output_type": "execute_result"
    }
   ],
   "source": [
    "portal_url = get_portal_search_url()\n",
    "google_url = portal_url[0]\n",
    "google_url"
   ]
  },
  {
   "cell_type": "code",
   "execution_count": null,
   "metadata": {},
   "outputs": [],
   "source": []
  }
 ],
 "metadata": {
  "kernelspec": {
   "display_name": "Python 3",
   "language": "python",
   "name": "python3"
  },
  "language_info": {
   "codemirror_mode": {
    "name": "ipython",
    "version": 3
   },
   "file_extension": ".py",
   "mimetype": "text/x-python",
   "name": "python",
   "nbconvert_exporter": "python",
   "pygments_lexer": "ipython3",
   "version": "3.7.1"
  },
  "toc": {
   "base_numbering": 1,
   "nav_menu": {},
   "number_sections": false,
   "sideBar": true,
   "skip_h1_title": false,
   "title_cell": "Table of Contents",
   "title_sidebar": "Contents",
   "toc_cell": true,
   "toc_position": {},
   "toc_section_display": true,
   "toc_window_display": false
  }
 },
 "nbformat": 4,
 "nbformat_minor": 2
}
