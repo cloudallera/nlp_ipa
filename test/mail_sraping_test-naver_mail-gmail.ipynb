{
 "cells": [
  {
   "cell_type": "markdown",
   "metadata": {
    "toc": true
   },
   "source": [
    "<h1>Table of Contents<span class=\"tocSkip\"></span></h1>\n",
    "<div class=\"toc\"><ul class=\"toc-item\"><li><span><a href=\"#gmail\" data-toc-modified-id=\"gmail-1\">gmail</a></span><ul class=\"toc-item\"><li><span><a href=\"#로그인,-세션(쿠키)-생성-하기\" data-toc-modified-id=\"로그인,-세션(쿠키)-생성-하기-1.1\">로그인, 세션(쿠키) 생성 하기</a></span></li><li><span><a href=\"#받은편지함,-스팸-메일-가져오기-URL\" data-toc-modified-id=\"받은편지함,-스팸-메일-가져오기-URL-1.2\">받은편지함, 스팸 메일 가져오기 URL</a></span></li><li><span><a href=\"#받은-편지함-리스트-가져오기\" data-toc-modified-id=\"받은-편지함-리스트-가져오기-1.3\">받은 편지함 리스트 가져오기</a></span></li><li><span><a href=\"#받은-편지함-본문-가져오기\" data-toc-modified-id=\"받은-편지함-본문-가져오기-1.4\">받은 편지함 본문 가져오기</a></span></li><li><span><a href=\"#받은-편지함-저장하기\" data-toc-modified-id=\"받은-편지함-저장하기-1.5\">받은 편지함 저장하기</a></span></li><li><span><a href=\"#spam-메일-리스트-가져오기\" data-toc-modified-id=\"spam-메일-리스트-가져오기-1.6\">spam 메일 리스트 가져오기</a></span></li><li><span><a href=\"#스팸-메일-본문-가져오기\" data-toc-modified-id=\"스팸-메일-본문-가져오기-1.7\">스팸 메일 본문 가져오기</a></span></li><li><span><a href=\"#스팸-메일-저장하기\" data-toc-modified-id=\"스팸-메일-저장하기-1.8\">스팸 메일 저장하기</a></span></li></ul></li><li><span><a href=\"#naver-mail\" data-toc-modified-id=\"naver-mail-2\">naver mail</a></span><ul class=\"toc-item\"><li><span><a href=\"#로그인-세션(쿠기)-정보-가져오기\" data-toc-modified-id=\"로그인-세션(쿠기)-정보-가져오기-2.1\">로그인 세션(쿠기) 정보 가져오기</a></span></li><li><span><a href=\"#메일함-리스트-가져오기\" data-toc-modified-id=\"메일함-리스트-가져오기-2.2\">메일함 리스트 가져오기</a></span></li><li><span><a href=\"#메일-본문-가져오기\" data-toc-modified-id=\"메일-본문-가져오기-2.3\">메일 본문 가져오기</a></span></li><li><span><a href=\"#받은-편지함-리스트와-본문-전체-가져오기\" data-toc-modified-id=\"받은-편지함-리스트와-본문-전체-가져오기-2.4\">받은 편지함 리스트와 본문 전체 가져오기</a></span></li><li><span><a href=\"#받은-편지함-2번째-페이지-가져오기\" data-toc-modified-id=\"받은-편지함-2번째-페이지-가져오기-2.5\">받은 편지함 2번째 페이지 가져오기</a></span></li><li><span><a href=\"#스팸-메일-가져오기\" data-toc-modified-id=\"스팸-메일-가져오기-2.6\">스팸 메일 가져오기</a></span></li><li><span><a href=\"#메일-본문을-HTML-형식으로-읽어오기\" data-toc-modified-id=\"메일-본문을-HTML-형식으로-읽어오기-2.7\">메일 본문을 HTML 형식으로 읽어오기</a></span></li></ul></li></ul></div>"
   ]
  },
  {
   "cell_type": "markdown",
   "metadata": {},
   "source": [
    "**CSS Selector**\n",
    "\n",
    "- Selector : Tag, ID(#아이디), Class(.class)   --> dom.select(\".class\")\n",
    "- name, name^, name$ 등 이름의 일부로 검색 가능  --> dom.select(\"[name^='이름']\")\n",
    "- div p => find_all(div 찾고, 자손 중에 p 찾기)\n",
    "- div > p => find_all(recursive=False), div 찾고, 바로 아래 자손 중에 p 찾기\n",
    "- div + p => find(div).find_next_sibling(p)"
   ]
  },
  {
   "cell_type": "markdown",
   "metadata": {},
   "source": [
    "## gmail"
   ]
  },
  {
   "cell_type": "markdown",
   "metadata": {},
   "source": [
    "### 로그인, 세션(쿠키) 생성 하기"
   ]
  },
  {
   "cell_type": "code",
   "execution_count": 1,
   "metadata": {},
   "outputs": [],
   "source": [
    "import requests\n",
    "from selenium import webdriver\n",
    "from bs4 import BeautifulSoup\n",
    "from urllib.parse import urljoin"
   ]
  },
  {
   "cell_type": "code",
   "execution_count": 2,
   "metadata": {},
   "outputs": [],
   "source": [
    "driver = webdriver.Chrome(\"/Users/alex/Documents/ai/NLP/nlp_ipa/chromedriver\")"
   ]
  },
  {
   "cell_type": "code",
   "execution_count": 3,
   "metadata": {},
   "outputs": [],
   "source": [
    "# google mail 접속\n",
    "url = \"https://gmail.google.com\"\n",
    "driver.get(url)"
   ]
  },
  {
   "cell_type": "code",
   "execution_count": 4,
   "metadata": {},
   "outputs": [],
   "source": [
    "# 로그인 (ID)\n",
    "driver.find_element_by_id(\"identifierId\").clear()\n",
    "driver.find_element_by_id(\"identifierId\").send_keys(\"id\")\n",
    "driver.find_element_by_id(\"identifierNext\").click()"
   ]
  },
  {
   "cell_type": "code",
   "execution_count": 6,
   "metadata": {},
   "outputs": [],
   "source": [
    "# 패스워드\n",
    "driver.find_element_by_name(\"password\").clear()\n",
    "driver.find_element_by_name(\"password\").send_keys(\"password\")    # password는 실제 패스워드로 대체\n",
    "driver.find_element_by_id(\"passwordNext\").click()"
   ]
  },
  {
   "cell_type": "code",
   "execution_count": 7,
   "metadata": {},
   "outputs": [],
   "source": [
    "# 2단계 인증\n",
    "driver.find_element_by_name(\"idvPin\").clear()\n",
    "driver.find_element_by_name(\"idvPin\").send_keys(\"863931\")      # 인증 코드는 핸드폰으로 전송된 번호로 대체\n",
    "driver.find_element_by_id(\"idvPreregisteredPhoneNext\").click()"
   ]
  },
  {
   "cell_type": "code",
   "execution_count": 8,
   "metadata": {},
   "outputs": [],
   "source": [
    "cookies = driver.get_cookies()"
   ]
  },
  {
   "cell_type": "code",
   "execution_count": 9,
   "metadata": {},
   "outputs": [],
   "source": [
    "session = requests.Session()\n",
    "\n",
    "for cookie in cookies:\n",
    "    session.cookies.set(cookie[\"name\"], cookie[\"value\"])"
   ]
  },
  {
   "cell_type": "code",
   "execution_count": 10,
   "metadata": {},
   "outputs": [
    {
     "data": {
      "text/plain": [
       "<RequestsCookieJar[Cookie(version=0, name='1P_JAR', value='2019-4-4-21', port=None, port_specified=False, domain='', domain_specified=False, domain_initial_dot=False, path='/', path_specified=True, secure=False, expires=None, discard=True, comment=None, comment_url=None, rest={'HttpOnly': None}, rfc2109=False), Cookie(version=0, name='APISID', value='4qRyTpvUjpnnHdbo/ANNQLHuopLMkXEomP', port=None, port_specified=False, domain='', domain_specified=False, domain_initial_dot=False, path='/', path_specified=True, secure=False, expires=None, discard=True, comment=None, comment_url=None, rest={'HttpOnly': None}, rfc2109=False), Cookie(version=0, name='COMPASS', value='gmail=CowBAAlriVc3oWDumHt7aUN5LyLhdsdQtXglXXbsoT2bQ89E_9xYUae80vtLe5UcJ6pZzBiqQVjMFWR5Q3oVBPFEJmRD_Oh9H_IWfDoBXmHGdsWMq0oz3YcI3n9sN-CoArOrbt_igqyofBCIG7x8y3oifBBMcb0vpDo6gIRnUiFAyRUPQy7tEVELytDOGjYQoYCa5QUangEACWuJV8mJHM9pMoRD_LxX6UZ8LBqFw3UwLCXZH7n3auUbChw45vRHOL9N47HmNesQyU-frk3eB-DV3WBfxGm63s5lkZBCh6Zk636_MpWSVcVCRj1nloYiTZmHnLWpJz8QR0hhx6HCAiddmIX_xYkvo-8d3tMkwuCsX-pLX_UenfTPwAoRczTT9xDKiLkHQvID90DjZ3GLAvW7hDLUUA', port=None, port_specified=False, domain='', domain_specified=False, domain_initial_dot=False, path='/', path_specified=True, secure=False, expires=None, discard=True, comment=None, comment_url=None, rest={'HttpOnly': None}, rfc2109=False), Cookie(version=0, name='GMAIL_AT', value='AF6bupNiwz387N6_IcnP-dFByY-OljYjrg', port=None, port_specified=False, domain='', domain_specified=False, domain_initial_dot=False, path='/', path_specified=True, secure=False, expires=None, discard=True, comment=None, comment_url=None, rest={'HttpOnly': None}, rfc2109=False), Cookie(version=0, name='HSID', value='A4Ac2Dr269_Yd8Ehg', port=None, port_specified=False, domain='', domain_specified=False, domain_initial_dot=False, path='/', path_specified=True, secure=False, expires=None, discard=True, comment=None, comment_url=None, rest={'HttpOnly': None}, rfc2109=False), Cookie(version=0, name='NID', value='180=pLnGm5SsYbR9e70cKLF3PRT8BvxNI1prKRyh62PyeLnguLokc4B883NNHB5B8BukN-ULQ_RSxAMwdSUz2SwRVVldoH90EY3vUSfwPEs9QlDXMnyMG6rYytBRqPYsc0pnoMRcWXtGgVPr8F3pT3_6HvZddQa2_kjicHZz9rC6vHmgaP235xdGwK6LcVN-', port=None, port_specified=False, domain='', domain_specified=False, domain_initial_dot=False, path='/', path_specified=True, secure=False, expires=None, discard=True, comment=None, comment_url=None, rest={'HttpOnly': None}, rfc2109=False), Cookie(version=0, name='OSID', value='QwfE7clb4K4EE2w42fRJ71ognZEJgPtQ0qNsetbvNhR8yFcowxWK1vpLvPUL2mKgN5moew.', port=None, port_specified=False, domain='', domain_specified=False, domain_initial_dot=False, path='/', path_specified=True, secure=False, expires=None, discard=True, comment=None, comment_url=None, rest={'HttpOnly': None}, rfc2109=False), Cookie(version=0, name='SAPISID', value='Wwqsq8S3uF8lG8OS/AuOinXckTNslQSzNS', port=None, port_specified=False, domain='', domain_specified=False, domain_initial_dot=False, path='/', path_specified=True, secure=False, expires=None, discard=True, comment=None, comment_url=None, rest={'HttpOnly': None}, rfc2109=False), Cookie(version=0, name='SID', value='QwfE7bY2NlSKsTnG9GNJo9-I-qrG67ctFFiGaOHqKKyEUz9ZYikOl2-vJ1RruogV7rtxHQ.', port=None, port_specified=False, domain='', domain_specified=False, domain_initial_dot=False, path='/', path_specified=True, secure=False, expires=None, discard=True, comment=None, comment_url=None, rest={'HttpOnly': None}, rfc2109=False), Cookie(version=0, name='SIDCC', value='AN0-TYvl2wXuyosjAhvRjML3f080h9vaAVXyOWZjMwXmVqtGHJze2l_YX8f88gf4upSWlgjG', port=None, port_specified=False, domain='', domain_specified=False, domain_initial_dot=False, path='/', path_specified=True, secure=False, expires=None, discard=True, comment=None, comment_url=None, rest={'HttpOnly': None}, rfc2109=False), Cookie(version=0, name='SSID', value='A0DUUu1Od48xxU4Sn', port=None, port_specified=False, domain='', domain_specified=False, domain_initial_dot=False, path='/', path_specified=True, secure=False, expires=None, discard=True, comment=None, comment_url=None, rest={'HttpOnly': None}, rfc2109=False)]>"
      ]
     },
     "execution_count": 10,
     "metadata": {},
     "output_type": "execute_result"
    }
   ],
   "source": [
    "session.cookies"
   ]
  },
  {
   "cell_type": "markdown",
   "metadata": {},
   "source": [
    "### 받은편지함, 스팸 메일 가져오기 URL"
   ]
  },
  {
   "cell_type": "markdown",
   "metadata": {
    "scrolled": false
   },
   "source": [
    "브라우저에서 확인할 수 있는 URL 정보는 아래와 같습니다.\n",
    "\n",
    "**받은편지함 가져오기**\n",
    "\n",
    "- inbox_url = \"https://mail.google.com/mail/u/0/#inbox\"\n",
    "- html = session.get(inbox_url)\n",
    "\n",
    "**스팸 메일 가져오기**\n",
    "\n",
    "- spam_url = \"https://mail.google.com/mail/u/0/#spam\"\n",
    "- html = session.get(spam_url)\n",
    "\n",
    "하지만, 위의 URL로 접근을 시도하면 아래와 같은 메시지 화면으로 이용합니다. \n",
    "\n",
    "~~~\n",
    "표준 보기에서 Gmail을 사용하려면 자바스크립트가 활성화되어 있어야 합니다. \n",
    "하지만 자바스크립트가 브라우저에서 지원되지 않거나 비활성화되어 있는 것 같습니다. \n",
    "표준 보기를 사용하려면 브라우저 옵션을 변경하여 자바스크립트를 활성화한 다음 다시 시도해 보세요.\n",
    "자바스크립트가 필요 없는 Gmail 기본 HTML 보기를 사용하려면 \"여기를 클릭하세요\".\n",
    "휴대전화 및 모바일 기기에 Gmail을 표시하려면 \"여기를 클릭하세요.\"\n",
    "~~~\n",
    "\n",
    "브라우저에서 사용되는 위의 URL은 코드에서 호출이 불가능 합니다."
   ]
  },
  {
   "cell_type": "markdown",
   "metadata": {},
   "source": [
    "**자바스크립트 없이 사용 가능한 URL**\n",
    "\n",
    "위의 자바스크립트가 필요 없는 Gmail 기본 HTML 보기를 사용하려면 \"여기를 클릭하세요\". 링크를 따라가면,<br>\n",
    "아래와 같은 URL로 접근이 되는 것을 확인 할 수 있습니다.\n",
    "\n",
    "- 받은편지함 : inbox_url = \"https://mail.google.com/mail/u/0/h/?&\"\n",
    "                                         \"https://mail.google.com/mail/u/0/h/?&st=50\"\n",
    "                                         => \"st=50\" : 두번째 페이지(페이지 당 50개씩, 세번째 페이지는 100, ...)\n",
    "- 스팸 메일 : spam_url = \"https://mail.google.com/mail/u/0/h/?&s=m\"\n",
    "\n",
    "브라우저에서는 받은편지함 URL이 \"https://mail.google.com/mail/u/0/h/1bxsvqw0gigg8/?&\" 처럼<br>\n",
    "중간에 \"1bxsvqw0gigg8\"와 같은 무작위 숫자(매번 바뀌는 숫자)가 보이지만, \"1bxsvqw0gigg8\" 부분을 삭제하고 접근하면 됩니다.\n",
    "\n",
    "스팸메일 URL도 \"https://mail.google.com/mail/u/0/h/1ah8y24vi8gd3/?&s=m\" <br>\n",
    "중간에 \"1ah8y24vi8gd3\"와 같은 무작위 숫자(매번 바뀌는 숫자)가 보이지만, \"1ah8y24vi8gd3\" 부분을 삭제하고 접근하면 됩니다."
   ]
  },
  {
   "cell_type": "markdown",
   "metadata": {},
   "source": [
    "### 받은 편지함 리스트 가져오기"
   ]
  },
  {
   "cell_type": "code",
   "execution_count": 29,
   "metadata": {},
   "outputs": [],
   "source": [
    "inbox_url = \"https://mail.google.com/mail/u/0/h/\"\n",
    "param = \"?&\"\n",
    "inbox_html = session.get(inbox_url + param)"
   ]
  },
  {
   "cell_type": "code",
   "execution_count": 30,
   "metadata": {},
   "outputs": [],
   "source": [
    "inbox_bs = BeautifulSoup(inbox_html.text, \"html.parser\")"
   ]
  },
  {
   "cell_type": "code",
   "execution_count": 39,
   "metadata": {
    "scrolled": true
   },
   "outputs": [
    {
     "data": {
      "text/plain": [
       "[['169ea2b7b2747b9f', \"힐링콘텐츠 창작캠프 'HEAL더WORLD' 영상 2편을 소개합니다\"],\n",
       " ['169e91b290d1467d', 'Competition Launch: Freesound Audio Tagging 2019'],\n",
       " ['169e38526237b869', '새로운 환경에서 로그인 되었습니다.'],\n",
       " ['169e05aa5f321782', '이성식 님에게 도착한 새 업데이트 3, 이직/승진 소식 1'],\n",
       " ['169deb05c2416999', '이성식 님과 LinkedIn 1촌을 맺고 싶습니다.'],\n",
       " ['169db86e0cfeceef',\n",
       "  '[KAIST-AI대학원] 2019학년도 가을학기 KAIST AI 대학원 입시설명회 (4/02, 화) 공지 재안내'],\n",
       " ['169d89e7c0cc0971', '[교보문고] 이성식님, 주문하신 상품은 모두 잘 받으셨나요?'],\n",
       " ['169d84155323ce54', '🎤인터뷰 #05, 인프런 최연소 지식공유자, 서울대컴공 19학번 되다 - 두들낙서 편'],\n",
       " ['169c8fddb139ad63', 'insig.woo님 외 3명이 회원님을 팔로우합니다'],\n",
       " ['169c7d29cf288764', '성식님, Google 포토에서 만든 항목을 확인해 보세요'],\n",
       " ['169c7c74d0b9eeee', '[한국IT비즈니스진흥협회]AI이노베이션스퀘어 2차 교육생 모집[5월-6월]'],\n",
       " ['169c391964691473', '[KAIST-AI 대학원] 2019학년도 가을학기 KAIST AI 대학원 입시설명회 공지'],\n",
       " ['169bcb4ccc78a2d1', '김용필 님의 이직/승진(KT 미디어서비스1팀 팀장(부장))을 축하해 주세요.'],\n",
       " ['169bc534911249b0', '[Top 5] 딥러닝 / 머신러닝 ♫ 가장 많이 판매된 책 5종을 소개합니다.'],\n",
       " ['169b59e2c6c28e66', '[교보문고] 이성식님, 주문하신 상품의 배송상태를 알려드립니다.'],\n",
       " ['169b4dfd9230d268', '[SW기술협\"NoSQL프로그래밍\"<재직자 유료/무료교육>\"와\"Java 디자인 패턴\"\\'외'],\n",
       " ['169b414fe0d54d0a', '[교보문고] 이성식님의 주문이 접수되었습니다.'],\n",
       " ['169b412edb370554', '이성식님, (주)교보문고에서 [신용카드]결제하신 내역입니다.'],\n",
       " ['169b3ab23ada0c54', '[교보문고] 새로워진 교보북클럽 멤버십을 확인하세요!'],\n",
       " ['169a456a5a3e584a', '비씨카드 휴대폰메시지 표준약관 제정 안내'],\n",
       " ['169a35ab5cf1a9c8',\n",
       "  '[텐서 ≈ 블로그 메일링 리스트] <핸즈온 머신러닝>, <케라스 창시자에게 배우는 딥러닝> 에러타를 안내해 드립니다.'],\n",
       " ['16998da349b8fb2f', '[새 글] “[개정판] 파이썬 라이브러리를 활용한 머신러닝”이 출간되었습니다!'],\n",
       " ['169983107ef8d801', '이성식 님에게 도착한 메일 1, 새 업데이트 3'],\n",
       " ['16995fc6ffd330af',\n",
       "  'TensorFlow Dev Summit 2019 Extended Pangyo 참가자 티셔츠 사이즈 조사'],\n",
       " ['16991f897459f83f', '이성식 님에게 추천해 드리는 1촌'],\n",
       " ['169902d3e1163e21', '성식님, 새 Apple iPhone에 최신 Google 앱이 설치되어 있지 않습니다.'],\n",
       " ['169902c5034a679f', '보안 알림'],\n",
       " ['1698e004e655fd11',\n",
       "  '(광고) 2019 컴퓨터비전 기반의 AI 얼굴인식,영상인식 및 처리와 구현기술 세미나 [3,26(화)~27(수)/전경련회관]'],\n",
       " ['16980c53137fe547',\n",
       "  \"[SW기술협]<재직자 유료/무료교육>'JavaScript 실무'와 'Linux Kernel 이해와 응용'외\"],\n",
       " ['1698003bebd27e32', '이성식님, 페스타(Festa)에서 결제하신 내역입니다.'],\n",
       " ['1697fe52c847b1dd', '(KB국민카드) 이성식님 2019년03월 명세서'],\n",
       " ['1697f856a276b802', '[FESTA] 결제하신 티켓 내역을 안내해드립니다.'],\n",
       " ['16975f09a6f56350', '새로운 환경에서 로그인 되었습니다.'],\n",
       " ['16975a9623801029', 'AI 여정을 가속화하는 핵심 로드맵 - IDG Summary'],\n",
       " ['169751a099628d3e', '극세사 인터넷에 초대합니다'],\n",
       " ['1697458b85739284',\n",
       "  '(광고) 이성식님 딥러닝 이론 공부에 지치셨다면, Pytorch로 차근차근 시작해보는 건 어떨까요 😊?'],\n",
       " ['1696f22fc2eb8b88',\n",
       "  '[AI EXPO KOREA 2019] 국제인공지능대전 개최 안내! (조기신청 할인 ~3/29까지)'],\n",
       " ['1696c776b09564ea', 'Apple에서 발행한 영수증입니다.'],\n",
       " ['169669b664c58d9e', '[하나금융투자] 이*식 고객님의 2019년 02월말 집합투자증권 잔고 입니다.']]"
      ]
     },
     "execution_count": 39,
     "metadata": {},
     "output_type": "execute_result"
    }
   ],
   "source": [
    "mail_list = list()\n",
    "for anchor in inbox_bs.select(\"table .th tr a\"):\n",
    "    if anchor.find(\"b\") is not None:   # 읽지 않은 메일\n",
    "        title = anchor.find(\"b\").text\n",
    "    else:             # 읽은 메일\n",
    "        title = anchor.find(\"font\").next_sibling.strip()\n",
    "        mail_list.append([anchor[\"href\"].split(\"&\")[1].split(\"=\")[1], anchor.find(\"font\").next_sibling.strip()])\n",
    "\n",
    "mail_list"
   ]
  },
  {
   "cell_type": "markdown",
   "metadata": {},
   "source": [
    "### 받은 편지함 본문 가져오기"
   ]
  },
  {
   "cell_type": "code",
   "execution_count": 40,
   "metadata": {
    "scrolled": true
   },
   "outputs": [
    {
     "name": "stdout",
     "output_type": "stream",
     "text": [
      "https://mail.google.com/mail/u/0/h/?&th=169ea2b7b2747b9f&v=c\n",
      "https://mail.google.com/mail/u/0/h/?&th=169e941c9e46a448&v=c\n",
      "https://mail.google.com/mail/u/0/h/?&th=169e93653523dec8&v=c\n",
      "https://mail.google.com/mail/u/0/h/?&th=169e91b290d1467d&v=c\n",
      "https://mail.google.com/mail/u/0/h/?&th=169e8e5a314dd55c&v=c\n",
      "https://mail.google.com/mail/u/0/h/?&th=169e8be43ad7167b&v=c\n",
      "https://mail.google.com/mail/u/0/h/?&th=169e83f0492bcaf1&v=c\n",
      "https://mail.google.com/mail/u/0/h/?&th=169e7eb52c2c2f63&v=c\n",
      "https://mail.google.com/mail/u/0/h/?&th=169e7d1ca54b2fa6&v=c\n",
      "https://mail.google.com/mail/u/0/h/?&th=169e776dc15d3ba2&v=c\n",
      "https://mail.google.com/mail/u/0/h/?&th=169e74adb9ea46b0&v=c\n",
      "https://mail.google.com/mail/u/0/h/?&th=169e6f4fef5f08c0&v=c\n",
      "https://mail.google.com/mail/u/0/h/?&th=169e6b94c3ec399e&v=c\n",
      "https://mail.google.com/mail/u/0/h/?&th=169e38526237b869&v=c\n",
      "https://mail.google.com/mail/u/0/h/?&th=169e05aa5f321782&v=c\n",
      "https://mail.google.com/mail/u/0/h/?&th=169deb05c2416999&v=c\n",
      "https://mail.google.com/mail/u/0/h/?&th=169db86e0cfeceef&v=c\n",
      "https://mail.google.com/mail/u/0/h/?&th=169d89e7c0cc0971&v=c\n",
      "https://mail.google.com/mail/u/0/h/?&th=169d84155323ce54&v=c\n",
      "https://mail.google.com/mail/u/0/h/?&th=169c8fddb139ad63&v=c\n",
      "https://mail.google.com/mail/u/0/h/?&th=169c7d29cf288764&v=c\n",
      "https://mail.google.com/mail/u/0/h/?&th=169c7c74d0b9eeee&v=c\n",
      "https://mail.google.com/mail/u/0/h/?&th=169c391964691473&v=c\n",
      "https://mail.google.com/mail/u/0/h/?&th=169bcb4ccc78a2d1&v=c\n",
      "https://mail.google.com/mail/u/0/h/?&th=169bc534911249b0&v=c\n",
      "https://mail.google.com/mail/u/0/h/?&th=169b59e2c6c28e66&v=c\n",
      "https://mail.google.com/mail/u/0/h/?&th=169b4dfd9230d268&v=c\n",
      "https://mail.google.com/mail/u/0/h/?&th=169b414fe0d54d0a&v=c\n",
      "https://mail.google.com/mail/u/0/h/?&th=169b412edb370554&v=c\n",
      "https://mail.google.com/mail/u/0/h/?&th=169b3ab23ada0c54&v=c\n",
      "https://mail.google.com/mail/u/0/h/?&th=169a456a5a3e584a&v=c\n",
      "https://mail.google.com/mail/u/0/h/?&th=169a35ab5cf1a9c8&v=c\n",
      "https://mail.google.com/mail/u/0/h/?&th=16998da349b8fb2f&v=c\n",
      "https://mail.google.com/mail/u/0/h/?&th=169983107ef8d801&v=c\n",
      "https://mail.google.com/mail/u/0/h/?&th=16995fc6ffd330af&v=c\n",
      "https://mail.google.com/mail/u/0/h/?&th=16991f897459f83f&v=c\n",
      "https://mail.google.com/mail/u/0/h/?&th=169902d3e1163e21&v=c\n",
      "https://mail.google.com/mail/u/0/h/?&th=169902c5034a679f&v=c\n",
      "https://mail.google.com/mail/u/0/h/?&th=1698e004e655fd11&v=c\n",
      "https://mail.google.com/mail/u/0/h/?&th=16980c53137fe547&v=c\n",
      "https://mail.google.com/mail/u/0/h/?&th=1698003bebd27e32&v=c\n",
      "https://mail.google.com/mail/u/0/h/?&th=1697fe52c847b1dd&v=c\n",
      "https://mail.google.com/mail/u/0/h/?&th=1697f856a276b802&v=c\n",
      "https://mail.google.com/mail/u/0/h/?&th=16975f09a6f56350&v=c\n",
      "https://mail.google.com/mail/u/0/h/?&th=16975a9623801029&v=c\n",
      "https://mail.google.com/mail/u/0/h/?&th=169751a099628d3e&v=c\n",
      "https://mail.google.com/mail/u/0/h/?&th=1697458b85739284&v=c\n",
      "https://mail.google.com/mail/u/0/h/?&th=1696f22fc2eb8b88&v=c\n",
      "https://mail.google.com/mail/u/0/h/?&th=1696c776b09564ea&v=c\n",
      "https://mail.google.com/mail/u/0/h/?&th=169669b664c58d9e&v=c\n"
     ]
    }
   ],
   "source": [
    "mail_content = list()\n",
    "\n",
    "for anchor in inbox_bs.select(\"table .th tr a\"):\n",
    "    content_url = inbox_url + anchor[\"href\"]\n",
    "    content_html = session.get(content_url)\n",
    "    content_bs = BeautifulSoup(content_html.text, \"html.parser\")\n",
    "\n",
    "    msg_id = anchor[\"href\"].split(\"&\")[1].split(\"=\")[1]\n",
    "    if anchor.find(\"b\") is not None:   # 읽지 않은 메일\n",
    "        msg_title = anchor.find(\"b\").text\n",
    "    else:             # 읽은 메일\n",
    "        msg_title = anchor.find(\"font\").next_sibling.strip()\n",
    "\n",
    "    mag_txt = \"\"\n",
    "    for msg in content_bs.select(\".msg\"):\n",
    "        if msg is not None:\n",
    "            mag_txt += msg.text       # 실제 메시지 내용은 이미지로 되어 있는 경우가 많음(정상적으로 처리하려면 이미지 OCR 기능 필요)\n",
    "\n",
    "    mail_content.append([msg_id, msg_title, mag_txt])\n",
    "    print(content_url)"
   ]
  },
  {
   "cell_type": "code",
   "execution_count": 46,
   "metadata": {},
   "outputs": [
    {
     "data": {
      "text/plain": [
       "'\\n\\n\\n\\n\\n\\n\\n\\n\\n\\n\\n\\n\\n\\n\\xa0\\n\\n\\n\\n\\n\\n\\n\\n\\xa0\\n\\n\\n건망증\\n\\n\\n\\n\\n문학평론가 김현의 유고집 \\n\\'행복한 책읽기\\'엔 이런 말이 나온다. \\n\"한창기 씨가 어느 날 갑자기 물었다. \\n\\'건망증이 심하다\\'를 옛날에는 어떻게 썼는지 \\n아십니까?\" 옛날이래 봤자 일제 강점기 얘기겠다. \\n\"모르겠는데요.\"\\n\"\\'잊음이 많다\\'예요.\" \\n\\n\\n- 강운구 외의《특집! 한창기》중에서 - \\n\\n\\n* 이제는 거의 잊혀져 가는\\n\\'뿌리깊은 나무\\'의 고 한창기 사장.\\n아마도 근래 우리말을 가장 사랑했던 사람, \\n잊혀진 옛말에서 본디 우리말을 애써 찾았고, \\n우리 말이 외래어에 오염되어가고 있는 것을 사무치게 \\n가슴 아파한 사람. 한창기! 뿌리깊은 나무!\\n잊혀져 가고 있는 것이 아쉽습니다. \\n잊음이 많습니다.\\n\\n오늘도 많이 웃으세요.\\n\\n\\n\\n\\xa0\\n\\n\\n\\n\\n\\n\\n\\n\\n\\n\\xa0\\n\\n\\n\\n- 힐링콘텐츠 창작캠프 \\'HEAL더WORLD\\' 영상 2편을 소개합니다 -\\n\\n\\n\\n나를 치유하고, 세상을 치유하자!\\n\\n충북도청 주최, 충북콘텐츠코리아랩 주관,\\n깊은산속 옹달샘의 기획 운영으로 진행되었던\\n2019 힐링콘텐츠 창작캠프 \\'HEAL더WORLD\\'!\\n\\n2박3일간 옹달샘 힐링콘텐츠 디자이너들과\\n예비 콘텐츠 창작자들의 만남을 통해 마음을 치유하는\\n힐링콘텐츠를 만들었던 몰입되고 뜨거웠던 순간들을\\n영상으로 담아 소개합니다.\\n\\n많은 분들이 극찬한 멋진 메인영상과\\n창작자분들의 인터뷰 영상입니다.\\n\\n\\n\\n위 화면들을 누르시거나\\n아래 버튼을 눌러 꼭 한 번씩 보시길 바랍니다.\\n짧은 순간 즐거워지실거라 확신하며, \\'힐링콘텐츠\\'를\\n만들어 올려주고 계시는 힐링디자이너들과 창작자분들께도\\n큰 응원과 격려의 느낌한마디 남겨주시기 바랍니다.\\n\\n힐더월드에 참여해주셨던 창작자님들께서는\\n1004개의 힐링콘텐츠를 만나자!라는 모토 아래 만들어진\\n힐링콘텐츠들을 힐더월드 공식 홈페이지 내 \\'창작게시판\\'에\\n꼭 올려주시고, 아래 공모전 내용을 참고하셔서\\n공모전에도 꼭 참여해주시길 바랍니다.\\n누구나 가능합니다.\\n도전해보세요!\\n\\n\\n\\n사랑합니다.\\n감사합니다.\\n\\n아침편지 명상치유센터\\n\\'깊은산속 옹달샘\\'에서...\\n\\n\\n힐링콘텐츠 창작캠프 \\'HEAL더WORLD\\' 메인 영상힐링콘텐츠 창작캠프 \\'HEAL더WORLD\\' 인터뷰 영상일민미술관 \\'불멸사랑\\'展 참여하기\\'녹색뇌 해독코드\\' 프로젝트 신청하기\\'이너뷰티 명상아카데미 워크숍\\' 신청하기\\'2019 북유럽&아이슬란드 명상여행\\' 신청하기\\n\\n\\n\\n\\n* 음성아침편지가 들리지 않으면 \\'여기\\'를 눌러주세요.\\n\\n\\n\\n\\n\\n\\n\\n\\n\\n\\n\\n\\n\\n\\n느낌한마디\\n좋아요\\n모으기\\n\\n\\n\\n\\n\\n\\n\\n\\n\\n\\n\\n\\n\\n\\n\\n\\n\\n\\n\\n\\n\\n\\n\\n\\n\\n\\n\\n\\n\\n\\n\\n\\n\\n\\n\\n\\n\\n\\n\\n\\n\\n\\xa0\\n\\n\\n\\n오늘 이 아침편지를 받으신 분은 모두 3,854,433명입니다.\\n\\n\\n\\n\\n\\n\\n\\n\\n\\n\\n\\n\\n\\n\\n\\n\\n\\n\\n\\n\\n\\n\\n\\n고도원의 아침편지는 여러분의 자발적인 후원으로 운영됩니다.\\n\\n\\n\\n\\n\\n\\n한울타리 소울패밀리\\n\\n\\n더 나은 세상을 위한 몸·마음·영혼의 힐링공동체!\\n나눔의 손길로 보이지 않는 세상까지 아름답게 변화시켜 갑니다.\\n\\n\\n\\n\\n\\xa0\\n\\n\\n\\n\\n\\n\\n\\n\\n\\n\\n\\n\\n\\n\\n\\n\\n\\n\\n\\n\\n아침편지는?\\n|\\n자주묻는질문\\n|\\n아침편지 새소식\\n|\\n프린트하기\\n|\\n찾아오시는 길\\n\\n\\n\\n\\n\\n\\n\\n\\n\\n(27452) 충청북도 충주시 노은면 우성1길 201-61\\nPhone 1644-8421\\xa0\\xa0\\xa0 eMail webmaster@godowon.com\\n\\n추후 \\'고도원의 아침편지\\'메일 수신을 원하지 않으시면 여기를 눌러주세요.\\nIf you don\\'t want to receive this e-mail anymore, [Click here]\\n\\n\\n\\n\\n\\n\\n\\n'"
      ]
     },
     "execution_count": 46,
     "metadata": {},
     "output_type": "execute_result"
    }
   ],
   "source": [
    "#[_[0:2] for _ in mail_content]    # 메일번호, 제목\n",
    "[_[2] for _ in mail_content][4]    # 메일 본문"
   ]
  },
  {
   "cell_type": "markdown",
   "metadata": {},
   "source": [
    "### 받은 편지함 저장하기"
   ]
  },
  {
   "cell_type": "code",
   "execution_count": 48,
   "metadata": {},
   "outputs": [],
   "source": [
    "import os\n",
    "\n",
    "path = \"../spam_mail\"\n",
    "if not os.path.exists(path):\n",
    "    os.makedirs(path)\n",
    "\n",
    "for _ in mail_content:\n",
    "    full_path = os.path.join(path, \"g-mail-\"+_[0]+\".txt\")\n",
    "    with open(full_path, \"w\") as f:\n",
    "        f.write(_[1])\n",
    "        f.write(_[2])"
   ]
  },
  {
   "cell_type": "markdown",
   "metadata": {},
   "source": [
    "### spam 메일 리스트 가져오기"
   ]
  },
  {
   "cell_type": "code",
   "execution_count": 49,
   "metadata": {},
   "outputs": [],
   "source": [
    "spam_url = \"https://mail.google.com/mail/u/0/h/\"\n",
    "param = \"?&s=m\"\n",
    "html = session.get(spam_url + param)"
   ]
  },
  {
   "cell_type": "code",
   "execution_count": 50,
   "metadata": {
    "scrolled": true
   },
   "outputs": [],
   "source": [
    "bs = BeautifulSoup(html.text, \"html.parser\")"
   ]
  },
  {
   "cell_type": "code",
   "execution_count": 51,
   "metadata": {
    "scrolled": false
   },
   "outputs": [
    {
     "data": {
      "text/plain": [
       "[['169c6c4e48a184ba', '[나무기술] Newsletter Vol. 19-3 (2019년 3월 29일)'],\n",
       " ['169c08009e60b1d2', 'Basic SAP FICO integration topics'],\n",
       " ['169b193d558c0328',\n",
       "  '(광고)이성식님 설레는 봄, 화사한 플라워박스와 함께 향긋한 하루를 시작하세요! ▶전국당일배송 꽃바구니/꽃다발/꽃상자◀'],\n",
       " ['169a815dec9996d8',\n",
       "  '(광고)[GS&POINT] 회원님을 위해 준비한 3월의 풍성한 이벤트와 다양한 혜택을 지금 확인해 보세요!'],\n",
       " ['169a4134fee569ff', '(광고) 2019 월드IT쇼 뉴스레터 VOL.3'],\n",
       " ['169a220d18b98181',\n",
       "  '(광고)이성식님 선물하기 좋은 인테리어 화분 추천! 분위기 전환과 공기 정화까지★ | 전국당일배송 결혼식 축하화환/근조화환'],\n",
       " ['1699ec5a5f626c6b', '[사단법인피엠전문가협회] 다섯 개 프로세스 그룹으로 확인하는 PMP 요약'],\n",
       " ['1699759ca8ab06f0', 'Learn S/4 HANA FICO'],\n",
       " ['169952470e9fecbe', '[사단법인피엠전문가협회] 애자일 프로젝트관리의 실무 적용 과정 [4/4~4/5]'],\n",
       " ['1698ef3a45b033da',\n",
       "  '(광고) \"컨테이너 오케스트레이션의 미학 - 쿠버네티스 데이 코리아 2019\" 개최안내 [3월 29일 / 잠실역'],\n",
       " ['1698d873821365b5', '(광고)이성식님 마음을 전하는 꽃 선물 추천>> 화사한 봄 꽃다발/꽃상자/꽃바구니 전국당일배송★'],\n",
       " ['16980ef801875ee5', '(광고) 대박, 30년만에…?'],\n",
       " ['16979001ba5899a0', '(광고)이성식님 ★3/14 화이트데이 내사탕을 받아줘~ ♥ 전국당일꽃배달 [사탕꽃바구니/꽃다발]'],\n",
       " ['1697540ff0e3c0e4', '(광고) 아이나비 국내 최초, 4채널 All Full HD 커넥티드 블랙박스 출시!'],\n",
       " ['16973c7685c4e5c8', '(광고)이성식님 화이트데이 D-1 내연인을 위한 로맨틱이벤트 ♣전국당일꽃배달♣'],\n",
       " ['169697aadb633c31', '(광고)이성식님 ♥전국당일배송 화이트데이 미리준비하세요! 꽃+캔디 예약 >>'],\n",
       " ['1695a6bd746c47a6', \"See Who's Coming to GTC 2019\"],\n",
       " ['1695a07926a6607e',\n",
       "  '(광고)이성식님 미세먼지 완벽퇴치 하세요! #스투키 #공기정화식물 #전국당일배송 | 화이트데이 달달한 꽃상품 미리보기♥'],\n",
       " ['1695907c7be9d1e3', 'New SAP Books and Video Tutorials'],\n",
       " ['1695446a60b18761', 'RE: do companies actually pay people to do this?'],\n",
       " ['1695217189eaa582', 'USPS ticket #61747']]"
      ]
     },
     "execution_count": 51,
     "metadata": {},
     "output_type": "execute_result"
    }
   ],
   "source": [
    "# 메일 내용은 class명이 \"th\"인 \"table\" 태그 아래에 \"tr\"에 각각의 메일이 있습니다.\n",
    "# table .th > tr > td > a  (페이지 내에 table이 10개가 있으며, 본문이 포함된 table의 class명은 th임)\n",
    "# 메일 제목은 a 태크 아래 첫번째 font 태크 다음에 아무런 태그 없이 문자열 형태로 있음 (두번째 font 태그에는 메일 본문 미리보기가 있음)\n",
    "spam_list = list()\n",
    "\n",
    "for anchor in bs.select(\"table .th tr a\"):\n",
    "    # print(anchor[\"href\"], anchor.find(\"font\").next_sibling.strip())\n",
    "    spam_list.append([anchor[\"href\"].split(\"&\")[1].split(\"=\")[1], anchor.find(\"font\").next_sibling.strip()])\n",
    "\n",
    "spam_list"
   ]
  },
  {
   "cell_type": "markdown",
   "metadata": {},
   "source": [
    "### 스팸 메일 본문 가져오기"
   ]
  },
  {
   "cell_type": "code",
   "execution_count": 52,
   "metadata": {
    "scrolled": false
   },
   "outputs": [
    {
     "name": "stdout",
     "output_type": "stream",
     "text": [
      "https://mail.google.com/mail/u/0/h/?&th=169c6c4e48a184ba&v=c&s=m\n",
      "https://mail.google.com/mail/u/0/h/?&th=169c08009e60b1d2&v=c&s=m\n",
      "https://mail.google.com/mail/u/0/h/?&th=169b193d558c0328&v=c&s=m\n",
      "https://mail.google.com/mail/u/0/h/?&th=169a815dec9996d8&v=c&s=m\n",
      "https://mail.google.com/mail/u/0/h/?&th=169a4134fee569ff&v=c&s=m\n",
      "https://mail.google.com/mail/u/0/h/?&th=169a220d18b98181&v=c&s=m\n",
      "https://mail.google.com/mail/u/0/h/?&th=1699ec5a5f626c6b&v=c&s=m\n",
      "https://mail.google.com/mail/u/0/h/?&th=1699759ca8ab06f0&v=c&s=m\n",
      "https://mail.google.com/mail/u/0/h/?&th=169952470e9fecbe&v=c&s=m\n",
      "https://mail.google.com/mail/u/0/h/?&th=1698ef3a45b033da&v=c&s=m\n",
      "https://mail.google.com/mail/u/0/h/?&th=1698d873821365b5&v=c&s=m\n",
      "https://mail.google.com/mail/u/0/h/?&th=16980ef801875ee5&v=c&s=m\n",
      "https://mail.google.com/mail/u/0/h/?&th=16979001ba5899a0&v=c&s=m\n",
      "https://mail.google.com/mail/u/0/h/?&th=1697540ff0e3c0e4&v=c&s=m\n",
      "https://mail.google.com/mail/u/0/h/?&th=16973c7685c4e5c8&v=c&s=m\n",
      "https://mail.google.com/mail/u/0/h/?&th=169697aadb633c31&v=c&s=m\n",
      "https://mail.google.com/mail/u/0/h/?&th=1695a6bd746c47a6&v=c&s=m\n",
      "https://mail.google.com/mail/u/0/h/?&th=1695a07926a6607e&v=c&s=m\n",
      "https://mail.google.com/mail/u/0/h/?&th=1695907c7be9d1e3&v=c&s=m\n",
      "https://mail.google.com/mail/u/0/h/?&th=1695446a60b18761&v=c&s=m\n",
      "https://mail.google.com/mail/u/0/h/?&th=1695217189eaa582&v=c&s=m\n"
     ]
    }
   ],
   "source": [
    "spam_mail = list()\n",
    "\n",
    "for anchor in bs.select(\"table .th tr a\"):\n",
    "    content_url = spam_url + anchor[\"href\"]\n",
    "    content_html = session.get(content_url)\n",
    "    content_bs = BeautifulSoup(content_html.text, \"html.parser\")\n",
    "\n",
    "    msg_id = anchor[\"href\"].split(\"&\")[1].split(\"=\")[1]\n",
    "    msg_title = anchor.find(\"font\").next_sibling.strip()\n",
    "    mag_txt = \"\"\n",
    "    for msg in content_bs.select(\".msg\"):\n",
    "        if msg is not None:\n",
    "            mag_txt += msg.text       # 실제 메시지 내용은 이미지로 되어 있는 경우가 많음(정상적으로 처리하려면 이미지 OCR 기능 필요)\n",
    "\n",
    "    spam_mail.append([msg_id, msg_title, mag_txt])\n",
    "    print(content_url)"
   ]
  },
  {
   "cell_type": "code",
   "execution_count": 53,
   "metadata": {},
   "outputs": [
    {
     "data": {
      "text/plain": [
       "[['169c6c4e48a184ba', '[나무기술] Newsletter Vol. 19-3 (2019년 3월 29일)'],\n",
       " ['169c08009e60b1d2', 'Basic SAP FICO integration topics'],\n",
       " ['169b193d558c0328',\n",
       "  '(광고)이성식님 설레는 봄, 화사한 플라워박스와 함께 향긋한 하루를 시작하세요! ▶전국당일배송 꽃바구니/꽃다발/꽃상자◀'],\n",
       " ['169a815dec9996d8',\n",
       "  '(광고)[GS&POINT] 회원님을 위해 준비한 3월의 풍성한 이벤트와 다양한 혜택을 지금 확인해 보세요!'],\n",
       " ['169a4134fee569ff', '(광고) 2019 월드IT쇼 뉴스레터 VOL.3'],\n",
       " ['169a220d18b98181',\n",
       "  '(광고)이성식님 선물하기 좋은 인테리어 화분 추천! 분위기 전환과 공기 정화까지★ | 전국당일배송 결혼식 축하화환/근조화환'],\n",
       " ['1699ec5a5f626c6b', '[사단법인피엠전문가협회] 다섯 개 프로세스 그룹으로 확인하는 PMP 요약'],\n",
       " ['1699759ca8ab06f0', 'Learn S/4 HANA FICO'],\n",
       " ['169952470e9fecbe', '[사단법인피엠전문가협회] 애자일 프로젝트관리의 실무 적용 과정 [4/4~4/5]'],\n",
       " ['1698ef3a45b033da',\n",
       "  '(광고) \"컨테이너 오케스트레이션의 미학 - 쿠버네티스 데이 코리아 2019\" 개최안내 [3월 29일 / 잠실역'],\n",
       " ['1698d873821365b5', '(광고)이성식님 마음을 전하는 꽃 선물 추천>> 화사한 봄 꽃다발/꽃상자/꽃바구니 전국당일배송★'],\n",
       " ['16980ef801875ee5', '(광고) 대박, 30년만에…?'],\n",
       " ['16979001ba5899a0', '(광고)이성식님 ★3/14 화이트데이 내사탕을 받아줘~ ♥ 전국당일꽃배달 [사탕꽃바구니/꽃다발]'],\n",
       " ['1697540ff0e3c0e4', '(광고) 아이나비 국내 최초, 4채널 All Full HD 커넥티드 블랙박스 출시!'],\n",
       " ['16973c7685c4e5c8', '(광고)이성식님 화이트데이 D-1 내연인을 위한 로맨틱이벤트 ♣전국당일꽃배달♣'],\n",
       " ['169697aadb633c31', '(광고)이성식님 ♥전국당일배송 화이트데이 미리준비하세요! 꽃+캔디 예약 >>'],\n",
       " ['1695a6bd746c47a6', \"See Who's Coming to GTC 2019\"],\n",
       " ['1695a07926a6607e',\n",
       "  '(광고)이성식님 미세먼지 완벽퇴치 하세요! #스투키 #공기정화식물 #전국당일배송 | 화이트데이 달달한 꽃상품 미리보기♥'],\n",
       " ['1695907c7be9d1e3', 'New SAP Books and Video Tutorials'],\n",
       " ['1695446a60b18761', 'RE: do companies actually pay people to do this?'],\n",
       " ['1695217189eaa582', 'USPS ticket #61747']]"
      ]
     },
     "execution_count": 53,
     "metadata": {},
     "output_type": "execute_result"
    }
   ],
   "source": [
    "[_[0:2] for _ in spam_mail]    # 메일번호, 제목\n",
    "# [_[2] for _ in spam_mail][0]    # 메일 본문"
   ]
  },
  {
   "cell_type": "markdown",
   "metadata": {},
   "source": [
    "### 스팸 메일 저장하기"
   ]
  },
  {
   "cell_type": "code",
   "execution_count": 54,
   "metadata": {},
   "outputs": [],
   "source": [
    "import os\n",
    "\n",
    "path = \"../spam_mail\"\n",
    "if not os.path.exists(path):\n",
    "    os.makedirs(path)\n",
    "\n",
    "for _ in spam_mail:\n",
    "    full_path = os.path.join(path, \"g-spam-\"+_[0]+\".txt\")\n",
    "    with open(full_path, \"w\") as f:\n",
    "        f.write(_[1])\n",
    "        f.write(_[2])"
   ]
  },
  {
   "cell_type": "markdown",
   "metadata": {},
   "source": [
    "## naver mail"
   ]
  },
  {
   "cell_type": "markdown",
   "metadata": {},
   "source": [
    "- 로그인 과정, 동적으로 변하는 컨텐츠 등을 받기 위해서는 selenium 같은 패키지 사용 필요\n",
    "- naver mail은 쿠키 정보를 획득하기 위해 selenium이 필요하지만, <br>\n",
    "   실제 컨텐츠를 가져오는 과정은 selenium에서 획득한 쿠키 정보만 사용해서 직접 접근 가능함"
   ]
  },
  {
   "cell_type": "markdown",
   "metadata": {},
   "source": [
    "- 받은 편지함과 스팸 메일함 모두 동일한 URL로 접근할 수 있다.\n",
    "- 아래와 같이 POST 메서드로 가져올 수 있다.\n",
    "\n",
    "~~~\n",
    "url = \"https://mail.naver.com/json/list/\"\n",
    "\n",
    "data = {\n",
    "    \"page\":1,\n",
    "    \"sortField\":1,\n",
    "    \"sortType\":0,\n",
    "    \"folderSN\":0,\n",
    "    \"isUnread\":\"false\",\n",
    "    \"u\":\"itleader2\"\n",
    "}\n",
    "\n",
    "resp = session.post(content_url, content_data)    # resp는 JSON 형태\n",
    "~~~\n",
    "\n",
    "- folderSN은  메일함 번호 : 받은 메일함 0, 보낸 메일함 1, 임시 메일함 3, 휴지통 4, 스팸 메일함 5, 내게 쓴 메일함 6, 전체 메일함 -1, 수신 확인함 2(?)\n",
    "- 컨텐츠는 JSON 파일을 분석해서 원하는 태그를 사용함"
   ]
  },
  {
   "cell_type": "markdown",
   "metadata": {},
   "source": [
    "### 로그인 세션(쿠기) 정보 가져오기"
   ]
  },
  {
   "cell_type": "code",
   "execution_count": 95,
   "metadata": {},
   "outputs": [],
   "source": [
    "import json\n",
    "import requests\n",
    "from selenium import webdriver\n",
    "\n",
    "driver = webdriver.Chrome(\"/Users/alex/Documents/ai/NLP/nlp_ipa/chromedriver\")"
   ]
  },
  {
   "cell_type": "code",
   "execution_count": 96,
   "metadata": {},
   "outputs": [],
   "source": [
    "# naver mail URL\n",
    "# 메일 접속 시도 시 나타나는 실제 로그인 URL\n",
    "# url = \"https://nid.naver.com/nidlogin.login?url=http%3A%2F%2Fmail.naver.com%2F\"\n",
    "naver_mail = \"https://mail.naver.com\""
   ]
  },
  {
   "cell_type": "code",
   "execution_count": 97,
   "metadata": {},
   "outputs": [],
   "source": [
    "# driver에서 오픈 한 창에서 로그린 해야 쿠키 정보를 사용할 수 있음\n",
    "# 쿠키 정보를 획득한 이후에는 selenium을 사용하지 않고 직접 접근할 수 있음\n",
    "driver.get(naver_mail)"
   ]
  },
  {
   "cell_type": "code",
   "execution_count": 58,
   "metadata": {},
   "outputs": [],
   "source": [
    "# driver에서 오픈 한 창에서 수동으로 로그인 (캡챠 입력 요구함)\n",
    "# driver.find_element_by_id(\"id\").clear()\n",
    "# driver.find_element_by_id(\"id\").send_keys(\"id)\n",
    "# driver.find_element_by_id(\"pw\").clear()\n",
    "# driver.find_element_by_id(\"pw\").send_keys(\"password\")    # password는 실제 패스워드로 대체\n",
    "# driver.find_element_by_class_name(\"btn_global\").click()"
   ]
  },
  {
   "cell_type": "code",
   "execution_count": 98,
   "metadata": {},
   "outputs": [],
   "source": [
    "session = requests.Session()\n",
    "cookies = driver.get_cookies()\n",
    "\n",
    "for cookie in cookies:\n",
    "    session.cookies.set(cookie[\"name\"], cookie[\"value\"])"
   ]
  },
  {
   "cell_type": "code",
   "execution_count": 99,
   "metadata": {
    "scrolled": false
   },
   "outputs": [
    {
     "data": {
      "text/plain": [
       "<RequestsCookieJar[Cookie(version=0, name='NID_AUT', value='kDrquMOuHGJKH47wTdwzXnOYjbwRTeSi7p7NHokKJfpn7XOD/MYHZ61v5/+lFyP6', port=None, port_specified=False, domain='', domain_specified=False, domain_initial_dot=False, path='/', path_specified=True, secure=False, expires=None, discard=True, comment=None, comment_url=None, rest={'HttpOnly': None}, rfc2109=False), Cookie(version=0, name='NID_JKL', value='LDsL5cUrOVrV0ZitHxJBlsurO348d9Qo88GBdkY2ADI=', port=None, port_specified=False, domain='', domain_specified=False, domain_initial_dot=False, path='/', path_specified=True, secure=False, expires=None, discard=True, comment=None, comment_url=None, rest={'HttpOnly': None}, rfc2109=False), Cookie(version=0, name='NID_SES', value='AAABlzqD/KKVjfrEPWaWYj4mhXvf8PBZhz08zUqRHUvTPqRM/MIMfQSf1KKTdNHJptuYF9hNA4VQDiNcXwZPjO4BcIV7Xu0Mok7A/e0WM5hJKPvShUYdteCoXHvrgDFNQEkNG2357oKzTK+4Ye9lhIrefEUhLl6q+2dV6rI/2a3LeoarKSsrwywnaLhFmhlHtGNp50sknh2J0vEiT/wcfsz+U6K6v3QYga5bXklDavoXQdF8ElTjB8tj/9YHPf+id6TUdrGTIxk7EuAqbM4TkGzBOXR0OpTHIRDOGSbAyqeWabvjGppzMzSLcJWPXQsj0bR8UwjG7Mh0/aoSxaaFGdxWEedxahmqud2eRTbxo2LvcT56PsjtlarpTizGgkGfZtPEr+5+gSNaOvANX2BxO2lrHV4nZR+OEgcP2grXLzsun1A2Z3anzdChq5FfzyJD2N/Pd/F4WFbqR8WYMqeceaBOaDgsOaFcrdNSHS7kIUcrt0w8SF8iIm2lfmYsvP1W60Ub8qyN1EF36zTESANx/uv/KvWC91B5C5XFCIPnl10EcMyE', port=None, port_specified=False, domain='', domain_specified=False, domain_initial_dot=False, path='/', path_specified=True, secure=False, expires=None, discard=True, comment=None, comment_url=None, rest={'HttpOnly': None}, rfc2109=False), Cookie(version=0, name='NMUSER', value='IZYdFxEwaqbsFouZKA2Z1B3np6JvpBUZaqu9FxtdKxbXFovsFxuZKAnmaqns3xnDKxEs6xRaaZnladUstoRVadUsadUs3ons1rejL9Us6xRVaqnD16lvpB2RFVl5WLl5MBp0bSloWrdnaAvmKARGW430DVdd7BF0Mre5pzJZDLl5WLl5MBp0bSloWrdnaAvmKAn=', port=None, port_specified=False, domain='', domain_specified=False, domain_initial_dot=False, path='/', path_specified=True, secure=False, expires=None, discard=True, comment=None, comment_url=None, rest={'HttpOnly': None}, rfc2109=False), Cookie(version=0, name='NNB', value='IV4TEOK6RCTFY', port=None, port_specified=False, domain='', domain_specified=False, domain_initial_dot=False, path='/', path_specified=True, secure=False, expires=None, discard=True, comment=None, comment_url=None, rest={'HttpOnly': None}, rfc2109=False), Cookie(version=0, name='nid_inf', value='1702079487', port=None, port_specified=False, domain='', domain_specified=False, domain_initial_dot=False, path='/', path_specified=True, secure=False, expires=None, discard=True, comment=None, comment_url=None, rest={'HttpOnly': None}, rfc2109=False), Cookie(version=0, name='npic', value='cus/7RCai2v/bfmx2p8NlSwqJPko/1uSCbWNkxZ2iQUOIegH85g2XGnXtJjggaIDCA==', port=None, port_specified=False, domain='', domain_specified=False, domain_initial_dot=False, path='/', path_specified=True, secure=False, expires=None, discard=True, comment=None, comment_url=None, rest={'HttpOnly': None}, rfc2109=False)]>"
      ]
     },
     "execution_count": 99,
     "metadata": {},
     "output_type": "execute_result"
    }
   ],
   "source": [
    "session.cookies"
   ]
  },
  {
   "cell_type": "markdown",
   "metadata": {},
   "source": [
    "### 메일함 리스트 가져오기"
   ]
  },
  {
   "cell_type": "code",
   "execution_count": 78,
   "metadata": {},
   "outputs": [],
   "source": [
    "# 위의 세션 정보만 있으면, selenium을 사용하지 않고 직접 접근이 가능함\n",
    "# 검사 - Newrok 탭에서,\"?page\"로 시작하는 컨텐츠의 request url을 찾는다.\n",
    "# \"https://mail.naver.com/json/list/?page=1&sortField=1&sortType=0&folderSN=0&type=&isUnread=false&u=itleader2\"\n",
    "\n",
    "url = \"https://mail.naver.com/json/list/\"\n",
    "\n",
    "data = {\n",
    "    \"page\":1,\n",
    "    \"sortField\":1,\n",
    "    \"sortType\":0,\n",
    "    \"folderSN\":0,\n",
    "    \"isUnread\":\"false\",\n",
    "    \"u\":\"itleader2\"\n",
    "}\n",
    "\n",
    "# folderSN이  메일함 번호 : 받은 메일함 0, 보낸 메일함 1, 임시 메일함 3, 휴지통 4, 스팸 메일함 5, 내게 쓴 메일함 6, 전체 메일함 -1, 수신 확인함 2(?)\n",
    "\n"
   ]
  },
  {
   "cell_type": "code",
   "execution_count": 62,
   "metadata": {
    "scrolled": false
   },
   "outputs": [],
   "source": [
    "# resp = requests.post(url, data)   # requests로 직접 가져오기 시도하는 경우, session 정보가 없어서 접근 안됨\n",
    "# selenium으로 로그인 과정에 생성한 session 정보를 이용해 접근\n",
    "resp = session.post(url, data)\n",
    "# resp.text    # json 파일"
   ]
  },
  {
   "cell_type": "code",
   "execution_count": 63,
   "metadata": {},
   "outputs": [
    {
     "data": {
      "text/plain": [
       "{'mailSN': 457,\n",
       " 'folderSN': 0,\n",
       " 'folderName': None,\n",
       " 'iconType': 0,\n",
       " 'status': 2097157,\n",
       " 'from': {'name': '우드워커 - 취미 목공, DIY, 원목가구', 'email': 'navercafe@naver.com'},\n",
       " 'subject': '우드워커 공동구매합니다.',\n",
       " 'receivedTime': 1473212300,\n",
       " 'sentTime': 1473212300,\n",
       " 'size': 13315,\n",
       " 'attachCount': 0,\n",
       " 'iDomainEmail': 'itleader2@naver.com',\n",
       " 'priority': 3,\n",
       " 'securityLevel': None,\n",
       " 'reSend': False,\n",
       " 'color': '#ffffff',\n",
       " 'preview': '',\n",
       " 'mimeSN': '1473212300.286568.32303.318871',\n",
       " 'toList': [{'name': 'itleader2', 'email': 'itleader2@naver.com'}],\n",
       " 'spamType': None,\n",
       " 'attachInfo': [],\n",
       " 'threadId': '<1473212299931.13243.93756599@cvplowl34.nm>',\n",
       " 'bccList': [],\n",
       " 'receiveByBcc': False,\n",
       " 'threadCount': 0,\n",
       " 'unreadThreadCount': 0,\n",
       " 'firstLocatedTime': 1473212300,\n",
       " 'remindAt': 0,\n",
       " 'threadRemindAt': 0,\n",
       " 'threadRemindFlag': 0,\n",
       " 'category': 203,\n",
       " 'bigFile': False,\n",
       " 'toMe': True,\n",
       " 'statusHex': '200005',\n",
       " 'isDomainMail': False}"
      ]
     },
     "execution_count": 63,
     "metadata": {},
     "output_type": "execute_result"
    }
   ],
   "source": [
    "# resp.json()\n",
    "# mail list 1개 가져오기\n",
    "resp.json().get(\"mailData\").pop()"
   ]
  },
  {
   "cell_type": "code",
   "execution_count": 64,
   "metadata": {
    "scrolled": true
   },
   "outputs": [
    {
     "name": "stdout",
     "output_type": "stream",
     "text": [
      "477 네이버 메일 1차 휴면이 해지되어 메일을 받을 수 있습니다.\n",
      "476 네이버 아이디의 휴면이 해제되었습니다.\n",
      "475 네이버 아이디가 휴면 상태로 전환됩니다.\n",
      "473 안녕하세요. 민스뮤직 출판 관리자 입니다..\n",
      "472 개인정보 이용내역을 안내 드립니다.\n",
      "469 축하드려요 맥 쓰는 사람들 [구 맥북을 쓰는 사람들, 맥쓰사] 카페에 가입 되셨습니다.\n",
      "468 (광고) [선착순노하우공유!] 영어왕초보도 월500버는 엄마표 과외교사 양성과정 &amp; 비법노하우 (+ 추후 공무방 무자본 창업)\n",
      "466 네이버 메일 1차 휴면이 해지되어 메일을 수신받을 수 있습니다.\n",
      "465 (광고) [선착순노하우공유!] 영어왕초보도 월500버는 엄마표 과외교사 양성과정 &amp; 비법노하우 (+ 추후 공무방 무자본 창업)\n",
      "464 (광고) [선착순노하우공유!] 영어왕초보도 월500버는 엄마표 과외교사 양성과정 &amp; 비법노하우 (+ 추후 공무방 무자본 창업)\n",
      "463 축하드려요 통기타 배워보리 카페에 가입 되셨습니다.\n",
      "462 축하드려요 낭만의 통기타 카페에 가입 되셨습니다.\n",
      "461 축하드려요 이성식 기타교실 카페에 가입 되셨습니다.\n",
      "460 축하드려요 그랩더기타 [통기타/배우기/독학/동영상강좌/악보/동영상/강좌] 카페에 가입 되셨습니다.\n",
      "457 우드워커 공동구매합니다.\n"
     ]
    }
   ],
   "source": [
    "# 메일 번호와 제목 가져오기\n",
    "for mail_data in resp.json().get(\"mailData\"):\n",
    "    print(mail_data.get(\"mailSN\"), mail_data.get(\"subject\"))"
   ]
  },
  {
   "cell_type": "markdown",
   "metadata": {},
   "source": [
    "### 메일 본문 가져오기"
   ]
  },
  {
   "cell_type": "code",
   "execution_count": 65,
   "metadata": {},
   "outputs": [],
   "source": [
    "# 메일 본문 가져오기\n",
    "# \"https://mail.naver.com/json/read/?charset=&prevNextMail=true&threadMail=true&listScrollPosition=0&mailSN=477&previewMode=2&u=itleader2\"\n",
    "\n",
    "content_url = \"https://mail.naver.com/json/read/\"\n",
    "content_data = {\n",
    "    \"prevNextMail\":\"true\",\n",
    "    \"threadMail\":\"true\",\n",
    "    \"listScrollPosition\":0,\n",
    "    \"mailSN\":477,\n",
    "    \"previewMode\":2,\n",
    "    \"u\":\"itleader2\"\n",
    "}"
   ]
  },
  {
   "cell_type": "code",
   "execution_count": 66,
   "metadata": {},
   "outputs": [],
   "source": [
    "resp = session.post(content_url, content_data)"
   ]
  },
  {
   "cell_type": "code",
   "execution_count": 67,
   "metadata": {
    "scrolled": false
   },
   "outputs": [
    {
     "name": "stdout",
     "output_type": "stream",
     "text": [
      "\n",
      "itleader2님의 메일이 휴면에서 메일 수신 가능 상태로 변경되었습니다.\n",
      "\n",
      "\n",
      "\t\t\t\t\t\t\t[2017.02.17] 부터 네이버 메일 1차 휴면 계정으로 전환되었다가\n",
      "\t\t\t\t\t\t\t네이버 로그인으로 인하여 휴면계정에서 일반계정으로 전환되었습니다.\n",
      "\t\t\t\t\t\t\t\n",
      "\t\t\t\t\t\t\n",
      "\n",
      "\t\t\t\t\t\t\t네이버 메일 휴면정책은 아래 내용을 참고해주세요.\n",
      "\t\t\t\t\t\t\n",
      "\n",
      "\t\t\t\t\t\t\t아이디만 등록하고 오랫동안 메일 서비스를 이용하지 않고, 메일함을 관리하지 않는 경우 해당 아이디로 많은 광고성 스팸메일이 수신되고, 저장됩니다. 이러한 대량의 광고성 스팸메일은 메일 서비스를 사용하는 유저들의 메일전송 시간이 느려지거나 이용 속도에 영향을 줄 수 있습니다. 이러한 이유로 네이버 메일 서비스는 좀 더 많은 사용자분들께 최적의 환경을 제공하기 위하여 휴면정책을 운영합니다.\n",
      "\t\t\t\t\t\t\n",
      "\n",
      "본 메일은 발신전용입니다. 궁금하신 점이나 불편한 사항은 고객센터에 문의해 주시기 바랍니다.\n",
      "\t\t\t\n",
      "\n",
      " copyright © NAVER corp. All Rights Reserved.\n",
      "\t\t\t\n"
     ]
    }
   ],
   "source": [
    "# resp.text\n",
    "# esp.json()\n",
    "# resp.json()[\"mailInfo\"][\"body\"]\n",
    "bs = BeautifulSoup(resp.json()[\"mailInfo\"][\"body\"], \"html.parser\")\n",
    "for p in bs.find_all(\"p\"):\n",
    "    print(p.text)"
   ]
  },
  {
   "cell_type": "markdown",
   "metadata": {},
   "source": [
    "### 받은 편지함 리스트와 본문 전체 가져오기"
   ]
  },
  {
   "cell_type": "code",
   "execution_count": 83,
   "metadata": {},
   "outputs": [],
   "source": [
    "url = \"https://mail.naver.com/json/list/\"\n",
    "\n",
    "# folderSN이  메일함 번호 : 받은 메일함 0, 보낸 메일함 1, 임시 메일함 3, 휴지통 4, 스팸 메일함 5, 내게 쓴 메일함 6, 전체 메일함 -1, 수신 확인함 2(?)\n",
    "data = {\n",
    "    \"page\":1,\n",
    "    \"sortField\":1,\n",
    "    \"sortType\":0,\n",
    "    \"folderSN\":0,           # 스팸 메일함은 5로 변경\n",
    "    \"isUnread\":\"false\",\n",
    "    \"u\":\"itleader2\"\n",
    "}"
   ]
  },
  {
   "cell_type": "code",
   "execution_count": 84,
   "metadata": {},
   "outputs": [
    {
     "data": {
      "text/plain": [
       "[[477, '네이버 메일 1차 휴면이 해지되어 메일을 받을 수 있습니다.'],\n",
       " [476, '네이버 아이디의 휴면이 해제되었습니다.'],\n",
       " [475, '네이버 아이디가 휴면 상태로 전환됩니다.'],\n",
       " [473, '안녕하세요. 민스뮤직 출판 관리자 입니다..'],\n",
       " [472, '개인정보 이용내역을 안내 드립니다.'],\n",
       " [469, '축하드려요 맥 쓰는 사람들 [구 맥북을 쓰는 사람들, 맥쓰사] 카페에 가입 되셨습니다.'],\n",
       " [466, '네이버 메일 1차 휴면이 해지되어 메일을 수신받을 수 있습니다.'],\n",
       " [463, '축하드려요 통기타 배워보리 카페에 가입 되셨습니다.'],\n",
       " [462, '축하드려요 낭만의 통기타 카페에 가입 되셨습니다.'],\n",
       " [461, '축하드려요 이성식 기타교실 카페에 가입 되셨습니다.'],\n",
       " [460, '축하드려요 그랩더기타 [통기타/배우기/독학/동영상강좌/악보/동영상/강좌] 카페에 가입 되셨습니다.'],\n",
       " [451, '축하드려요 우드워커 - 취미 목공, DIY, 원목가구 카페에 가입 되셨습니다.'],\n",
       " [447, '축하드려요 영흥도 농어바위 캠핑장 카페에 가입 되셨습니다.'],\n",
       " [446, '축하드려요 뮤즈캠핑장 카페에 가입 되셨습니다.'],\n",
       " [445, '축하드려요 씨사이드힐캠핑장 카페에 가입 되셨습니다.']]"
      ]
     },
     "execution_count": 84,
     "metadata": {},
     "output_type": "execute_result"
    }
   ],
   "source": [
    "resp = session.post(url, data)\n",
    "\n",
    "mail_lists = list()\n",
    "\n",
    "for mail_list in resp.json().get(\"mailData\"):\n",
    "    mail_lists.append([mail_list.get(\"mailSN\"), mail_list.get(\"subject\")])\n",
    "\n",
    "mail_lists"
   ]
  },
  {
   "cell_type": "code",
   "execution_count": 85,
   "metadata": {},
   "outputs": [],
   "source": [
    "content_url = \"https://mail.naver.com/json/read/\"\n",
    "content_data = {\n",
    "    \"prevNextMail\":\"true\",\n",
    "    \"threadMail\":\"true\",\n",
    "    \"listScrollPosition\":0,\n",
    "    \"mailSN\":477,\n",
    "    \"previewMode\":2,\n",
    "    \"u\":\"itleader2\"\n",
    "}"
   ]
  },
  {
   "cell_type": "code",
   "execution_count": 86,
   "metadata": {
    "scrolled": true
   },
   "outputs": [],
   "source": [
    "contents = list()\n",
    "\n",
    "for mail in mail_lists:\n",
    "    content_data[\"mailSN\"] = mail[0]\n",
    "    resp = session.post(content_url, content_data)\n",
    "    bs = BeautifulSoup(resp.json()[\"mailInfo\"][\"body\"], \"html.parser\")\n",
    "    \n",
    "    # content = \"\"\n",
    "    # for p in bs.find_all(\"p\"):    # 본문이 p 태그에 있지 않은 경우도 있는지 확인 필요\n",
    "    #    content += \"\\n\" + p.text\n",
    "    \n",
    "    content = bs.find(\"body\").text\n",
    "    contents.append([mail[0], mail[1], content])"
   ]
  },
  {
   "cell_type": "code",
   "execution_count": 87,
   "metadata": {},
   "outputs": [
    {
     "data": {
      "text/plain": [
       "[477,\n",
       " '네이버 메일 1차 휴면이 해지되어 메일을 받을 수 있습니다.',\n",
       " '\\n\\n\\n\\n\\n\\n\\n\\n\\n\\n\\n\\n\\xa0\\n\\n\\n\\n\\nitleader2님의 메일이 휴면에서 메일 수신 가능 상태로 변경되었습니다.\\n\\n\\n\\xa0\\n\\n\\n\\n\\xa0\\n\\n\\n\\t\\t\\t\\t\\t\\t\\t[2017.02.17] 부터 네이버 메일 1차 휴면 계정으로 전환되었다가\\n\\t\\t\\t\\t\\t\\t\\t네이버 로그인으로 인하여 휴면계정에서 일반계정으로 전환되었습니다.\\n\\t\\t\\t\\t\\t\\t\\t\\n\\t\\t\\t\\t\\t\\t\\n\\n\\t\\t\\t\\t\\t\\t\\t네이버 메일 휴면정책은 아래 내용을 참고해주세요.\\n\\t\\t\\t\\t\\t\\t\\n\\n\\xa0\\n\\n\\n\\n\\xa0\\n\\n\\n\\t\\t\\t\\t\\t\\t\\t네이버 메일 휴면 정책 안내\\n\\t\\t\\t\\t\\t\\t\\n\\n1차 휴면 계정\\n① 3개월(90일) 이상 네이버 로그인하지 않은 회원② 휴면 계정 처리 : 수신되는 메일 반송③ POP3/SMTP, IMAP/SMTP \"사용 안 함\" 설정\\n\\n\\n2차 휴면 계정\\n① 3년(1,095일)이상 네이버 로그인하지 않은 회원(1차 휴면 이후, 33개월)② 모든 메일함의 메일 삭제③ 메일 정보 모두 삭제 (주소록, 마일리지 포인트 등)④ 휴면 계정 처리 : 수신되는 메일 반송\\n\\n\\n\\xa0\\n\\n\\n\\n\\xa0\\n\\n\\n\\t\\t\\t\\t\\t\\t\\t※ 휴면정책 적용 배경 안내\\n\\t\\t\\t\\t\\t\\t\\n\\n\\t\\t\\t\\t\\t\\t\\t아이디만 등록하고 오랫동안 메일 서비스를 이용하지 않고, 메일함을 관리하지 않는 경우 해당 아이디로 많은 광고성 스팸메일이 수신되고, 저장됩니다. 이러한 대량의 광고성 스팸메일은 메일 서비스를 사용하는 유저들의 메일전송 시간이 느려지거나 이용 속도에 영향을 줄 수 있습니다. 이러한 이유로 네이버 메일 서비스는 좀 더 많은 사용자분들께 최적의 환경을 제공하기 위하여 휴면정책을 운영합니다.\\n\\t\\t\\t\\t\\t\\t\\n\\n\\n\\n\\n\\xa0\\n\\n\\n본 메일은 발신전용입니다. 궁금하신 점이나 불편한 사항은 고객센터에 문의해 주시기 바랍니다.\\n\\t\\t\\t\\n\\n copyright © NAVER corp. All Rights Reserved.\\n\\t\\t\\t\\n\\n\\n']"
      ]
     },
     "execution_count": 87,
     "metadata": {},
     "output_type": "execute_result"
    }
   ],
   "source": [
    "contents[0]"
   ]
  },
  {
   "cell_type": "code",
   "execution_count": 88,
   "metadata": {},
   "outputs": [],
   "source": [
    "# mail_lists와 contents를 파일로 저장\n",
    "import os\n",
    "\n",
    "path = \"../spam_mail\"\n",
    "if not os.path.exists(path):\n",
    "    os.makedirs(path)\n",
    "\n",
    "for _ in contents:\n",
    "    full_path = os.path.join(path, \"n-mail-\"+str(_[0])+\".txt\")    # 스팸메일은 \"n-spam-mail_id.txt\"\n",
    "    with open(full_path, \"w\") as f:\n",
    "        f.write(_[1])\n",
    "        f.write(_[2])"
   ]
  },
  {
   "cell_type": "markdown",
   "metadata": {},
   "source": [
    "### 받은 편지함 2번째 페이지 가져오기"
   ]
  },
  {
   "cell_type": "code",
   "execution_count": 102,
   "metadata": {},
   "outputs": [],
   "source": [
    "url = \"https://mail.naver.com/json/list/\"\n",
    "\n",
    "data = {\n",
    "    \"page\":2,             # 페이지 번호 지정\n",
    "    \"sortField\":1,\n",
    "    \"sortType\":0,\n",
    "    \"folderSN\":0,     # 스팸 메일함은 5로 변경\n",
    "    \"isUnread\":\"false\",\n",
    "    \"u\":\"itleader2\"\n",
    "}\n",
    "\n",
    "resp = session.post(content_url, content_data)    # resp는 JSON 형태"
   ]
  },
  {
   "cell_type": "code",
   "execution_count": 103,
   "metadata": {},
   "outputs": [
    {
     "data": {
      "text/plain": [
       "[[444, '[네이버] 개인정보 이용내역을 안내해드립니다. '],\n",
       " [443, 'N드라이브 운영원칙 개정 사전 안내 '],\n",
       " [435, '축하드려요 아이컨, 경영컨설턴트, 전문가, 대학생들의 만남 (구 씨모어) 카페에 가입 되셨습니다.'],\n",
       " [431, '네이버 카페 이용약관 변경 사전 안내 '],\n",
       " [430, '[N드라이브] 당신의 2013년 어떤 일이 있었나요?'],\n",
       " [429,\n",
       "  '축하드려요 C(Communication).H(Human).U(Unification).N(Necessity) 카페에 가입 되셨습니다.'],\n",
       " [428, '[N드라이브] 보다 편리하고 강력해진 기능 4가지를 소개합니다. '],\n",
       " [415, 'itleader2@naver.com'],\n",
       " [413, 'itleader2@naver.com'],\n",
       " [411, '네이버포토뷰어로 N드라이브 사진도 보고 문화상품권도 받으세요'],\n",
       " [376, '네이버 유료이용약관 변경 관련 재안내'],\n",
       " [375, '네이버 유료이용약관 변경에 따른 고객안내 공지'],\n",
       " [353, '위젯과 가로보기로 더욱 편리해진 네이버 메일앱을 지금 설치해보세요!'],\n",
       " [349, '축하드려요 도곡레고교육센터 카페에 가입 되셨습니다.'],\n",
       " [310,\n",
       "  '축하드려요 &quot;Finance Company&quot; - 금융업(금융쟁이) 관련 종사자들의 카페 카페에 가입 되셨습니다.']]"
      ]
     },
     "execution_count": 103,
     "metadata": {},
     "output_type": "execute_result"
    }
   ],
   "source": [
    "resp = session.post(url, data)\n",
    "\n",
    "mail_lists = list()\n",
    "\n",
    "for mail_list in resp.json().get(\"mailData\"):\n",
    "    mail_lists.append([mail_list.get(\"mailSN\"), mail_list.get(\"subject\")])\n",
    "\n",
    "mail_lists"
   ]
  },
  {
   "cell_type": "code",
   "execution_count": 91,
   "metadata": {},
   "outputs": [],
   "source": [
    "content_url = \"https://mail.naver.com/json/read/\"\n",
    "content_data = {\n",
    "    \"prevNextMail\":\"true\",\n",
    "    \"threadMail\":\"true\",\n",
    "    \"listScrollPosition\":0,\n",
    "    \"mailSN\":456,\n",
    "    \"previewMode\":2,\n",
    "    \"u\":\"itleader2\"\n",
    "}\n",
    "contents = list()\n",
    "\n",
    "for mail in mail_lists:\n",
    "    content_data[\"mailSN\"] = mail[0]\n",
    "    resp = session.post(content_url, content_data)\n",
    "    bs = BeautifulSoup(resp.json()[\"mailInfo\"][\"body\"], \"html.parser\")\n",
    "    \n",
    "    # content = \"\"\n",
    "    # for p in bs.find_all(\"p\"):    # 본문이 p 태그에 있지 않은 경우도 있는지 확인 필요\n",
    "    #    content += \"\\n\" + p.text\n",
    "    \n",
    "    content = bs.find(\"body\").text\n",
    "    contents.append([mail[0], mail[1], content])"
   ]
  },
  {
   "cell_type": "code",
   "execution_count": 92,
   "metadata": {},
   "outputs": [],
   "source": [
    "# mail_lists와 contents를 파일로 저장\n",
    "import os\n",
    "\n",
    "path = \"../spam_mail\"\n",
    "if not os.path.exists(path):\n",
    "    os.makedirs(path)\n",
    "\n",
    "for _ in contents:\n",
    "    full_path = os.path.join(path, \"n-mail-\"+str(_[0])+\".txt\")    # 스팸메일은 \"n-spam-mail_id.txt\"\n",
    "    with open(full_path, \"w\") as f:\n",
    "        f.write(_[1])\n",
    "        f.write(_[2])"
   ]
  },
  {
   "cell_type": "markdown",
   "metadata": {},
   "source": [
    "### 스팸 메일 가져오기"
   ]
  },
  {
   "cell_type": "code",
   "execution_count": 104,
   "metadata": {},
   "outputs": [],
   "source": [
    "url = \"https://mail.naver.com/json/list/\"\n",
    "\n",
    "data = {\n",
    "    \"page\":1,             # 페이지 번호 지정\n",
    "    \"sortField\":1,\n",
    "    \"sortType\":0,\n",
    "    \"folderSN\":5,      # 스팸 메일함은 5\n",
    "    \"isUnread\":\"false\",\n",
    "    \"u\":\"itleader2\"\n",
    "}\n",
    "\n",
    "resp = session.post(content_url, content_data)    # resp는 JSON 형태"
   ]
  },
  {
   "cell_type": "code",
   "execution_count": 105,
   "metadata": {},
   "outputs": [
    {
     "data": {
      "text/plain": [
       "[[468,\n",
       "  '(광고) [선착순노하우공유!] 영어왕초보도 월500버는 엄마표 과외교사 양성과정 &amp; 비법노하우 (+ 추후 공무방 무자본 창업)'],\n",
       " [465,\n",
       "  '(광고) [선착순노하우공유!] 영어왕초보도 월500버는 엄마표 과외교사 양성과정 &amp; 비법노하우 (+ 추후 공무방 무자본 창업)'],\n",
       " [464,\n",
       "  '(광고) [선착순노하우공유!] 영어왕초보도 월500버는 엄마표 과외교사 양성과정 &amp; 비법노하우 (+ 추후 공무방 무자본 창업)'],\n",
       " [457, '우드워커 공동구매합니다.'],\n",
       " [456, '배송비만 내면 자투리 목재가 내손에'],\n",
       " [455, '우드워커 공동구매합니다.'],\n",
       " [454, '우드워커 공동구매합니다.'],\n",
       " [453, '우드워커 공동구매합니다.'],\n",
       " [452, '우드워커 공동구매합니다.'],\n",
       " [449, '(광고)국내 최정상 히트메이커 이단옆차기의 작곡 노하우를 알고싶다면!'],\n",
       " [448, '(광고)꿀팁! 사랑하는 사람에게 마음을 전하고 영화도 볼수있는 1+1 행사 진행 중!!']]"
      ]
     },
     "execution_count": 105,
     "metadata": {},
     "output_type": "execute_result"
    }
   ],
   "source": [
    "resp = session.post(url, data)\n",
    "\n",
    "mail_lists = list()\n",
    "\n",
    "for mail_list in resp.json().get(\"mailData\"):\n",
    "    mail_lists.append([mail_list.get(\"mailSN\"), mail_list.get(\"subject\")])\n",
    "\n",
    "mail_lists"
   ]
  },
  {
   "cell_type": "code",
   "execution_count": 106,
   "metadata": {},
   "outputs": [],
   "source": [
    "content_url = \"https://mail.naver.com/json/read/\"\n",
    "content_data = {\n",
    "    \"prevNextMail\":\"true\",\n",
    "    \"threadMail\":\"true\",\n",
    "    \"listScrollPosition\":0,\n",
    "    \"mailSN\":456,\n",
    "    \"previewMode\":2,\n",
    "    \"u\":\"itleader2\"\n",
    "}\n",
    "contents = list()\n",
    "\n",
    "for mail in mail_lists:\n",
    "    content_data[\"mailSN\"] = mail[0]\n",
    "    resp = session.post(content_url, content_data)\n",
    "    bs = BeautifulSoup(resp.json()[\"mailInfo\"][\"body\"], \"html.parser\")\n",
    "    \n",
    "    # content = \"\"\n",
    "    # for p in bs.find_all(\"p\"):    # 본문이 p 태그에 있지 않은 경우도 있는지 확인 필요\n",
    "    #    content += \"\\n\" + p.text\n",
    "    \n",
    "    content = bs.find(\"body\").text\n",
    "    contents.append([mail[0], mail[1], content])"
   ]
  },
  {
   "cell_type": "code",
   "execution_count": 107,
   "metadata": {},
   "outputs": [],
   "source": [
    "# mail_lists와 contents를 파일로 저장\n",
    "import os\n",
    "\n",
    "path = \"../spam_mail\"\n",
    "if not os.path.exists(path):\n",
    "    os.makedirs(path)\n",
    "\n",
    "for _ in contents:\n",
    "    full_path = os.path.join(path, \"n-spam-\"+str(_[0])+\".txt\")\n",
    "    with open(full_path, \"w\") as f:\n",
    "        f.write(_[1])\n",
    "        f.write(_[2])"
   ]
  },
  {
   "cell_type": "markdown",
   "metadata": {},
   "source": [
    "### 메일 본문을 HTML 형식으로 읽어오기"
   ]
  },
  {
   "cell_type": "markdown",
   "metadata": {},
   "source": [
    "- naver 메일 list 화면의 소스를 분석해보면,<br>\n",
    "  \"div.subject -> a.attr(href) : /read/popup/?nMailId=477\"를 찾을 수 있음\n",
    "- 위의 정보를 토대로, https://mail.naver.com/read/popup/?nMailId=477 에서 본문을 HTML 형태로 받을 수 있음\n",
    "- nMailId는 JSON으로 받은 mailSN을 지정하면 됨\n",
    "- response 결과는 html 페이지임"
   ]
  },
  {
   "cell_type": "code",
   "execution_count": 75,
   "metadata": {
    "scrolled": true
   },
   "outputs": [
    {
     "name": "stdout",
     "output_type": "stream",
     "text": [
      "자동 분류 기능으로 손쉽고 편리하게 메일을 분류하고 관리해보세요. 설정변경\n",
      "\n",
      "\t\t\t\t\t\t\tIP가 자주 변경되는 네트워크 환경에서 로그인하는 경우IP보안을 해제 후 이용하시기 바랍니다.\n",
      "\t\t\t\t\t\t\n",
      "동일한 자동분류 항목이 있습니다.이전항목을 삭제하고 현재 설정을 등록하시겠습니까?\n",
      "이미 받은 메일도 같이 이동 \n",
      "자동분류 500건이 모두 등록되어 추가할 수 없습니다.기존에 등록된 항목들을 정리하고 다시 등록해 주세요.\n",
      "이미 000개의 분류항목이 등록되어 0개의 항목만 추가 가능합니다. 추가할 항목을 다시 선택해 주세요.\n",
      "주고받은 메일은 현재 보고 있는 메일에 답장이나 전달로연관된 메일을 말합니다. 관련메일의 종류는 아래와 같습니다.\n",
      "동일한 주소에서 메일이 올 경우 카드사(으)로 계속 이동하시겠습니까?\n",
      "이미 받은 메일도 같이 이동 \n",
      "\n",
      "메일 수신차단\n",
      "※ 스팸 신고된 메일은 스팸유형 분석에 활용됩니다.\n",
      "※ 영구 삭제한 메일은 복구할 수 없습니다.\n",
      "\n",
      "스팸메일로 의심되면 스팸메일함으로 자동 이동\n",
      "\n",
      "\n",
      " 다음부터 보지 않음\n",
      "\n",
      "\n",
      "관련 도움말 보기\n",
      "\n",
      "\n",
      "선택한 메일은 받은메일함으로 이동되었습니다.\n",
      "\t\t\t\t\t이후 수신되는 메일은 스마트메일함 분류 정보에 따라 자동청구서함, 쇼핑·뉴스메일함, SNS알림함, 카페메일함으로 자동 분류됩니다.\n",
      "\t\t\t\t\n",
      "\n",
      "\n",
      "\t\t\t\t\t\t스마트메일함 분류정보 자세히 보기\n",
      "\t\t\t\t\t\n",
      "\n",
      " testtest@naver.com 메일 주소를 수신차단 목록에 추가하시겠습니까?\n",
      "\n",
      "\n",
      "\t\t\t\t실패된 파일과 사유는 아래와 같습니다.\n",
      "\t\t\t\n",
      "\n",
      "\t\t\t\t\t[환경설정] > [쓰기 설정] > '답장받을 메일 주소'에 이메일주소가 아닌 값이 등록되어 있습니다. [확인]을 클릭하면 [쓰기 설정]으로 이동합니다.\n",
      "\n",
      "이 사람이 보낸 메일을 다음 메일함으로 이동\n",
      "\n",
      "기존 메일함으로 이동\n",
      "\n",
      "\n",
      "이동할 메일함\n",
      "\n",
      "\n",
      "\n",
      "\n",
      "\n",
      "새 메일함에 저장\n",
      "새 메일함의 이름 입력\n",
      "\n",
      "\n",
      "기존 메일도 이동하기\n",
      "\n",
      "\n",
      "\n",
      "분류 추가 설정저장\n",
      "\t\t\t\t\t\t\n",
      "\n",
      "\n",
      "\n",
      "분류 추가 설정취소\n",
      "\t\t\t\t\t\t\n",
      "\n",
      "\n",
      "[주의] 문구는 \"사칭 메일\"에 대해 메일 수신자를 보호하기 위함입니다. 발송자는 보이는 계정으로 메일을 보냈다고 하지만 실제로는 해당 발송서버를 통해 발송되지 않았습니다.\n",
      "프로그램을 이용한 자동 발송을 방지하기 위해서 보안절차를 거치고 있습니다.해당 메일은 임시보관함에 자동으로 보관됩니다.\n",
      "문자/숫자를 보이는 순서대로 모두 입력 후 보내기를 눌러주세요.\n",
      "\n"
     ]
    }
   ],
   "source": [
    "get_url = \"https://mail.naver.com/read/popup/?nMailId=\"\n",
    "nMailId = \"477\"\n",
    "\n",
    "html = session.get(get_url + nMailId)\n",
    "\n",
    "bs = BeautifulSoup(html.text, \"html.parser\")\n",
    "for p in bs.find_all(\"p\"):    # 본문이 p 태그에 있지 않은 경우도 있는지 확인 필요\n",
    "    print(p.text)"
   ]
  },
  {
   "cell_type": "code",
   "execution_count": null,
   "metadata": {},
   "outputs": [],
   "source": []
  },
  {
   "cell_type": "code",
   "execution_count": null,
   "metadata": {},
   "outputs": [],
   "source": []
  }
 ],
 "metadata": {
  "kernelspec": {
   "display_name": "Python 3",
   "language": "python",
   "name": "python3"
  },
  "language_info": {
   "codemirror_mode": {
    "name": "ipython",
    "version": 3
   },
   "file_extension": ".py",
   "mimetype": "text/x-python",
   "name": "python",
   "nbconvert_exporter": "python",
   "pygments_lexer": "ipython3",
   "version": "3.7.1"
  },
  "latex_envs": {
   "LaTeX_envs_menu_present": true,
   "autoclose": false,
   "autocomplete": true,
   "bibliofile": "biblio.bib",
   "cite_by": "apalike",
   "current_citInitial": 1,
   "eqLabelWithNumbers": true,
   "eqNumInitial": 1,
   "hotkeys": {
    "equation": "Ctrl-E",
    "itemize": "Ctrl-I"
   },
   "labels_anchors": false,
   "latex_user_defs": false,
   "report_style_numbering": false,
   "user_envs_cfg": false
  },
  "toc": {
   "base_numbering": 1,
   "nav_menu": {},
   "number_sections": false,
   "sideBar": true,
   "skip_h1_title": false,
   "title_cell": "Table of Contents",
   "title_sidebar": "Contents",
   "toc_cell": true,
   "toc_position": {},
   "toc_section_display": true,
   "toc_window_display": false
  }
 },
 "nbformat": 4,
 "nbformat_minor": 2
}
