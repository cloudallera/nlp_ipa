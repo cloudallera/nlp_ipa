{
 "cells": [
  {
   "cell_type": "markdown",
   "metadata": {
    "toc": true
   },
   "source": [
    "<h1>Table of Contents<span class=\"tocSkip\"></span></h1>\n",
    "<div class=\"toc\"><ul class=\"toc-item\"><li><span><a href=\"#gmail\" data-toc-modified-id=\"gmail-1\">gmail</a></span><ul class=\"toc-item\"><li><span><a href=\"#로그인,-세션(쿠키)-생성-하기\" data-toc-modified-id=\"로그인,-세션(쿠키)-생성-하기-1.1\">로그인, 세션(쿠키) 생성 하기</a></span></li><li><span><a href=\"#받은편지함,-스팸-메일-가져오기-URL\" data-toc-modified-id=\"받은편지함,-스팸-메일-가져오기-URL-1.2\">받은편지함, 스팸 메일 가져오기 URL</a></span></li><li><span><a href=\"#받은-편지함-리스트-가져오기\" data-toc-modified-id=\"받은-편지함-리스트-가져오기-1.3\">받은 편지함 리스트 가져오기</a></span></li><li><span><a href=\"#받은-편지함-본문-가져오기\" data-toc-modified-id=\"받은-편지함-본문-가져오기-1.4\">받은 편지함 본문 가져오기</a></span></li><li><span><a href=\"#받은-편지함-저장하기\" data-toc-modified-id=\"받은-편지함-저장하기-1.5\">받은 편지함 저장하기</a></span></li><li><span><a href=\"#spam-메일-리스트-가져오기\" data-toc-modified-id=\"spam-메일-리스트-가져오기-1.6\">spam 메일 리스트 가져오기</a></span></li><li><span><a href=\"#스팸-메일-본문-가져오기\" data-toc-modified-id=\"스팸-메일-본문-가져오기-1.7\">스팸 메일 본문 가져오기</a></span></li><li><span><a href=\"#스팸-메일-저장하기\" data-toc-modified-id=\"스팸-메일-저장하기-1.8\">스팸 메일 저장하기</a></span></li></ul></li><li><span><a href=\"#naver-mail\" data-toc-modified-id=\"naver-mail-2\">naver mail</a></span><ul class=\"toc-item\"><li><span><a href=\"#로그인-세션(쿠기)-정보-가져오기\" data-toc-modified-id=\"로그인-세션(쿠기)-정보-가져오기-2.1\">로그인 세션(쿠기) 정보 가져오기</a></span></li><li><span><a href=\"#메일함-리스트-가져오기\" data-toc-modified-id=\"메일함-리스트-가져오기-2.2\">메일함 리스트 가져오기</a></span></li><li><span><a href=\"#메일-본문-가져오기\" data-toc-modified-id=\"메일-본문-가져오기-2.3\">메일 본문 가져오기</a></span></li><li><span><a href=\"#받은-편지함-리스트와-본문-전체-가져오기\" data-toc-modified-id=\"받은-편지함-리스트와-본문-전체-가져오기-2.4\">받은 편지함 리스트와 본문 전체 가져오기</a></span></li><li><span><a href=\"#받은-편지함-2번째-페이지-가져오기\" data-toc-modified-id=\"받은-편지함-2번째-페이지-가져오기-2.5\">받은 편지함 2번째 페이지 가져오기</a></span></li><li><span><a href=\"#스팸-메일-가져오기\" data-toc-modified-id=\"스팸-메일-가져오기-2.6\">스팸 메일 가져오기</a></span></li><li><span><a href=\"#메일-본문을-HTML-형식으로-읽어오기\" data-toc-modified-id=\"메일-본문을-HTML-형식으로-읽어오기-2.7\">메일 본문을 HTML 형식으로 읽어오기</a></span></li></ul></li></ul></div>"
   ]
  },
  {
   "cell_type": "markdown",
   "metadata": {},
   "source": [
    "**CSS Selector**\n",
    "\n",
    "- Selector : Tag, ID(#아이디), Class(.class)   --> dom.select(\".class\")\n",
    "- name, name^, name$ 등 이름의 일부로 검색 가능  --> dom.select(\"[name^='이름']\")\n",
    "- div p => find_all(div 찾고, 자손 중에 p 찾기)\n",
    "- div > p => find_all(recursive=False), div 찾고, 바로 아래 자손 중에 p 찾기\n",
    "- div + p => find(div).find_next_sibling(p)"
   ]
  },
  {
   "cell_type": "markdown",
   "metadata": {},
   "source": [
    "## gmail"
   ]
  },
  {
   "cell_type": "markdown",
   "metadata": {},
   "source": [
    "### 로그인, 세션(쿠키) 생성 하기"
   ]
  },
  {
   "cell_type": "code",
   "execution_count": 1,
   "metadata": {},
   "outputs": [],
   "source": [
    "import requests\n",
    "from selenium import webdriver\n",
    "from bs4 import BeautifulSoup\n",
    "from urllib.parse import urljoin"
   ]
  },
  {
   "cell_type": "code",
   "execution_count": 2,
   "metadata": {},
   "outputs": [],
   "source": [
    "driver = webdriver.Chrome(\"/Users/alex/Documents/ai/NLP/nlp_ipa/chromedriver\")"
   ]
  },
  {
   "cell_type": "code",
   "execution_count": 3,
   "metadata": {},
   "outputs": [],
   "source": [
    "# google mail 접속\n",
    "url = \"https://gmail.google.com\"\n",
    "driver.get(url)"
   ]
  },
  {
   "cell_type": "code",
   "execution_count": 4,
   "metadata": {},
   "outputs": [],
   "source": [
    "# 로그인 (ID)\n",
    "driver.find_element_by_id(\"identifierId\").clear()\n",
    "driver.find_element_by_id(\"identifierId\").send_keys(\"id\")\n",
    "driver.find_element_by_id(\"identifierNext\").click()"
   ]
  },
  {
   "cell_type": "code",
   "execution_count": 5,
   "metadata": {},
   "outputs": [],
   "source": [
    "# 패스워드\n",
    "driver.find_element_by_name(\"password\").clear()\n",
    "driver.find_element_by_name(\"password\").send_keys(\"password\")    # password는 실제 패스워드로 대체\n",
    "driver.find_element_by_id(\"passwordNext\").click()"
   ]
  },
  {
   "cell_type": "code",
   "execution_count": 6,
   "metadata": {},
   "outputs": [],
   "source": [
    "# 2단계 인증\n",
    "driver.find_element_by_name(\"idvPin\").clear()\n",
    "driver.find_element_by_name(\"idvPin\").send_keys(\"705915\")      # 인증 코드는 핸드폰으로 전송된 번호로 대체\n",
    "driver.find_element_by_id(\"idvPreregisteredPhoneNext\").click()"
   ]
  },
  {
   "cell_type": "code",
   "execution_count": 7,
   "metadata": {},
   "outputs": [],
   "source": [
    "cookies = driver.get_cookies()"
   ]
  },
  {
   "cell_type": "code",
   "execution_count": 8,
   "metadata": {},
   "outputs": [],
   "source": [
    "session = requests.Session()\n",
    "\n",
    "for cookie in cookies:\n",
    "    session.cookies.set(cookie[\"name\"], cookie[\"value\"])"
   ]
  },
  {
   "cell_type": "code",
   "execution_count": 9,
   "metadata": {},
   "outputs": [
    {
     "data": {
      "text/plain": [
       "<RequestsCookieJar[Cookie(version=0, name='1P_JAR', value='2019-4-5-4', port=None, port_specified=False, domain='', domain_specified=False, domain_initial_dot=False, path='/', path_specified=True, secure=False, expires=None, discard=True, comment=None, comment_url=None, rest={'HttpOnly': None}, rfc2109=False), Cookie(version=0, name='APISID', value='-GoGoZKCFlkIrh6A/ATA_DyO5T9wgsx_zF', port=None, port_specified=False, domain='', domain_specified=False, domain_initial_dot=False, path='/', path_specified=True, secure=False, expires=None, discard=True, comment=None, comment_url=None, rest={'HttpOnly': None}, rfc2109=False), Cookie(version=0, name='COMPASS', value='gmail=CowBAAlriVc3oWDumHt7aUN5LyLhdsdQtXglXXbsoT2bQ89E_9xYUae80vtLe5UcJ6pZzBiqQVjMFWR5Q3oVBPFEJmRD_Oh9H_IWfDoBXmHGdsWMq0oz3YcI3n9sN-CoArOrbt_igqyofBCIG7x8y3oifBBMcb0vpDo6gIRnUiFAyRUPQy7tEVELytDOGjYQzNqb5QUangEACWuJV8mJHM9pMoRD_LxX6UZ8LBqFw3UwLCXZH7n3auUbChw45vRHOL9N47HmNesQyU-frk3eB-DV3WBfxGm63s5lkZBCh6Zk636_MpWSVcVCRj1nloYiTZmHnLWpJz8QR0hhx6HCAiddmIX_xYkvo-8d3tMkwuCsX-pLX_UenfTPwAoRczTT9xDKiLkHQvID90DjZ3GLAvW7hDLUUA', port=None, port_specified=False, domain='', domain_specified=False, domain_initial_dot=False, path='/', path_specified=True, secure=False, expires=None, discard=True, comment=None, comment_url=None, rest={'HttpOnly': None}, rfc2109=False), Cookie(version=0, name='GMAIL_AT', value='AF6bupMM63OGdAe6wBOGlgSmKd6ecYU1Yg', port=None, port_specified=False, domain='', domain_specified=False, domain_initial_dot=False, path='/', path_specified=True, secure=False, expires=None, discard=True, comment=None, comment_url=None, rest={'HttpOnly': None}, rfc2109=False), Cookie(version=0, name='GMAIL_IMP', value='v*2%2Fgapi-cs-l*81%2Ftadis*2%2Fcor-rs*654%2Fcor-rss*654%2Fcor-res*654%2Fcor-c*656%2Fmh-ogb-rac*1', port=None, port_specified=False, domain='', domain_specified=False, domain_initial_dot=False, path='/', path_specified=True, secure=False, expires=None, discard=True, comment=None, comment_url=None, rest={'HttpOnly': None}, rfc2109=False), Cookie(version=0, name='HSID', value='AW7HSR5M2HdwddbM4', port=None, port_specified=False, domain='', domain_specified=False, domain_initial_dot=False, path='/', path_specified=True, secure=False, expires=None, discard=True, comment=None, comment_url=None, rest={'HttpOnly': None}, rfc2109=False), Cookie(version=0, name='NID', value='180=Iy_hLnE-qHflDoLjQZELjaGvo8W4PTnHQB2nr46ZlZiED97DanudSWpDTddKpDpzhYi3A3z6_Q91SunkqTiDBMAKueDjYXQ8fXbXscHuy-PluckwPwo3m2tMiXexumxkHSwE7Z02__Nja3xqWNO_Nssh05c3MMEn-YVGn3-YVyl5A3J7RGq9veZpvicT', port=None, port_specified=False, domain='', domain_specified=False, domain_initial_dot=False, path='/', path_specified=True, secure=False, expires=None, discard=True, comment=None, comment_url=None, rest={'HttpOnly': None}, rfc2109=False), Cookie(version=0, name='OSID', value='RAfE7d6qnG_vf0MYXOdMDczCjwZl0f-xSVT-UhE94UsS8f3fhRBiB0HLsfvcwx1kjs_8fg.', port=None, port_specified=False, domain='', domain_specified=False, domain_initial_dot=False, path='/', path_specified=True, secure=False, expires=None, discard=True, comment=None, comment_url=None, rest={'HttpOnly': None}, rfc2109=False), Cookie(version=0, name='SAPISID', value='4WgDm11f3xoOtito/A_xPm9dQ3gZT9Bxoh', port=None, port_specified=False, domain='', domain_specified=False, domain_initial_dot=False, path='/', path_specified=True, secure=False, expires=None, discard=True, comment=None, comment_url=None, rest={'HttpOnly': None}, rfc2109=False), Cookie(version=0, name='SID', value='RAfE7aTbvLtAYMtLnF4YJ7zxduU5Pk3N2BeEuJt0dEQ8wXE5lhodXpqpnTSqgyDCFrNvwg.', port=None, port_specified=False, domain='', domain_specified=False, domain_initial_dot=False, path='/', path_specified=True, secure=False, expires=None, discard=True, comment=None, comment_url=None, rest={'HttpOnly': None}, rfc2109=False), Cookie(version=0, name='SIDCC', value='AN0-TYuEMu36Q3wqHChExkzeAg8qzTADbXd71I7F-dytkH_2v2bNSc3eRKi1_4dSEFihZQ_roQ', port=None, port_specified=False, domain='', domain_specified=False, domain_initial_dot=False, path='/', path_specified=True, secure=False, expires=None, discard=True, comment=None, comment_url=None, rest={'HttpOnly': None}, rfc2109=False), Cookie(version=0, name='SSID', value='AT5raxkRZWTnoPTce', port=None, port_specified=False, domain='', domain_specified=False, domain_initial_dot=False, path='/', path_specified=True, secure=False, expires=None, discard=True, comment=None, comment_url=None, rest={'HttpOnly': None}, rfc2109=False)]>"
      ]
     },
     "execution_count": 9,
     "metadata": {},
     "output_type": "execute_result"
    }
   ],
   "source": [
    "session.cookies"
   ]
  },
  {
   "cell_type": "markdown",
   "metadata": {},
   "source": [
    "### 받은편지함, 스팸 메일 가져오기 URL"
   ]
  },
  {
   "cell_type": "markdown",
   "metadata": {
    "scrolled": false
   },
   "source": [
    "브라우저에서 확인할 수 있는 URL 정보는 아래와 같습니다.\n",
    "\n",
    "**받은편지함 가져오기**\n",
    "\n",
    "- inbox_url = \"https://mail.google.com/mail/u/0/#inbox\"\n",
    "- html = session.get(inbox_url)\n",
    "\n",
    "**스팸 메일 가져오기**\n",
    "\n",
    "- spam_url = \"https://mail.google.com/mail/u/0/#spam\"\n",
    "- html = session.get(spam_url)\n",
    "\n",
    "하지만, 위의 URL로 접근을 시도하면 아래와 같은 메시지 화면으로 이용합니다. \n",
    "\n",
    "~~~\n",
    "표준 보기에서 Gmail을 사용하려면 자바스크립트가 활성화되어 있어야 합니다. \n",
    "하지만 자바스크립트가 브라우저에서 지원되지 않거나 비활성화되어 있는 것 같습니다. \n",
    "표준 보기를 사용하려면 브라우저 옵션을 변경하여 자바스크립트를 활성화한 다음 다시 시도해 보세요.\n",
    "자바스크립트가 필요 없는 Gmail 기본 HTML 보기를 사용하려면 \"여기를 클릭하세요\".\n",
    "휴대전화 및 모바일 기기에 Gmail을 표시하려면 \"여기를 클릭하세요.\"\n",
    "~~~\n",
    "\n",
    "브라우저에서 사용되는 위의 URL은 코드에서 호출이 불가능 합니다."
   ]
  },
  {
   "cell_type": "markdown",
   "metadata": {},
   "source": [
    "**자바스크립트 없이 사용 가능한 URL**\n",
    "\n",
    "위의 자바스크립트가 필요 없는 Gmail 기본 HTML 보기를 사용하려면 \"여기를 클릭하세요\". 링크를 따라가면,<br>\n",
    "아래와 같은 URL로 접근이 되는 것을 확인 할 수 있습니다.\n",
    "\n",
    "- 받은편지함 : inbox_url = \"https://mail.google.com/mail/u/0/h/?&\"\n",
    "                                         \"https://mail.google.com/mail/u/0/h/?&st=50\"\n",
    "                                         => \"st=50\" : 두번째 페이지(페이지 당 50개씩, 세번째 페이지는 100, ...)\n",
    "- 스팸 메일 : spam_url = \"https://mail.google.com/mail/u/0/h/?&s=m\"\n",
    "\n",
    "브라우저에서는 받은편지함 URL이 \"https://mail.google.com/mail/u/0/h/1bxsvqw0gigg8/?&\" 처럼<br>\n",
    "중간에 \"1bxsvqw0gigg8\"와 같은 무작위 숫자(매번 바뀌는 숫자)가 보이지만, \"1bxsvqw0gigg8\" 부분을 삭제하고 접근하면 됩니다.\n",
    "\n",
    "스팸메일 URL도 \"https://mail.google.com/mail/u/0/h/1ah8y24vi8gd3/?&s=m\" <br>\n",
    "중간에 \"1ah8y24vi8gd3\"와 같은 무작위 숫자(매번 바뀌는 숫자)가 보이지만, \"1ah8y24vi8gd3\" 부분을 삭제하고 접근하면 됩니다."
   ]
  },
  {
   "cell_type": "markdown",
   "metadata": {},
   "source": [
    "### 받은 편지함 리스트 가져오기"
   ]
  },
  {
   "cell_type": "code",
   "execution_count": 17,
   "metadata": {},
   "outputs": [],
   "source": [
    "inbox_url = \"https://mail.google.com/mail/u/0/h/\"\n",
    "param = \"?&st=50\"    # st=50 : 2페이지   # param = \"?&\"\n",
    "inbox_html = session.get(inbox_url + param)"
   ]
  },
  {
   "cell_type": "code",
   "execution_count": 18,
   "metadata": {},
   "outputs": [],
   "source": [
    "inbox_bs = BeautifulSoup(inbox_html.text, \"html.parser\")"
   ]
  },
  {
   "cell_type": "code",
   "execution_count": 19,
   "metadata": {
    "scrolled": true
   },
   "outputs": [
    {
     "data": {
      "text/plain": [
       "[['16975f09a6f56350', '새로운 환경에서 로그인 되었습니다.'],\n",
       " ['16975a9623801029', 'AI 여정을 가속화하는 핵심 로드맵 - IDG Summary'],\n",
       " ['169751a099628d3e', '극세사 인터넷에 초대합니다'],\n",
       " ['1697458b85739284',\n",
       "  '(광고) 이성식님 딥러닝 이론 공부에 지치셨다면, Pytorch로 차근차근 시작해보는 건 어떨까요 😊?'],\n",
       " ['1696f22fc2eb8b88',\n",
       "  '[AI EXPO KOREA 2019] 국제인공지능대전 개최 안내! (조기신청 할인 ~3/29까지)'],\n",
       " ['1696c776b09564ea', 'Apple에서 발행한 영수증입니다.'],\n",
       " ['169669b664c58d9e', '[하나금융투자] 이*식 고객님의 2019년 02월말 집합투자증권 잔고 입니다.'],\n",
       " ['1696579ead50c283', '이성식 님! 새로운 1촌 선영김 님과 대화해 보세요.'],\n",
       " ['1695a9fd87cbf463', '인공지능의 세대 교체 “설명가능한 AI” - IDG Tech Report'],\n",
       " ['16956a2ddd87a739', '[새 글] “머신 러닝 교과서” 베타 테스터 모집합니다!'],\n",
       " ['16955461b89f1ed6', '(광고) 마지막 찬스. 특별 행사는 3/15까지.'],\n",
       " ['16950ad6fe62cd1a', '이성식 님과 LinkedIn 1촌을 맺고 싶습니다.'],\n",
       " ['1695088f96227672', '[지니] 사용중인 이용권이 3일 후 연장결제 됩니다.'],\n",
       " ['1694f32e8fe2b843', '[가비아] 도메인 부가서비스 신청서가 접수되었습니다'],\n",
       " ['1694f20cf0cbc720', 'NHN KCP - 가비아(Gabia)의 결제 내역입니다.'],\n",
       " ['1694f20c758d934a', '[가비아] 서비스 결제 내역을 안내해 드립니다'],\n",
       " ['1694f116542009d9', '회원 정보가 변경되었습니다'],\n",
       " ['1694f10d79b92d07', '비밀번호가 변경되었습니다'],\n",
       " ['1694f0eb847f7d79', '[가비아] 임시 비밀번호를 알려드립니다'],\n",
       " ['1694f05f1680d4de', '[가비아] 회원 가입이 완료되었습니다'],\n",
       " ['1694e9019125e1df', '[ 공공데이터포털 ] 회원가입을 위한 이메일 인증번호'],\n",
       " ['169579cd10179b53', '같이 제안서 쓰던 워드맨 강병익 입니다. 혹시 예전 KT에서 근무하셨던 이성식 과장님 맞으신가요'],\n",
       " ['16949dd157e29a80', '이성식 님에게 추천해 드리는 1촌'],\n",
       " ['169489a666f76791', '[CIO 뉴스레터] SD-WAN, NFV, IBN 도입 시 혼란을 최소화하는 방법'],\n",
       " ['169485bbabf8865b',\n",
       "  \"[SW기술협]<재직자 유료/무료교육>'이더리움 기반 스마트 컨트랙트 개발하기'와 'SW 프로젝트관리 - PMBOK 6.0과 프로젝트 사례'외\"],\n",
       " ['169482cc9d9d28ce', '[ITWorld 뉴스레터] 리뷰 | ‘4G 막차’ 삼성 갤럭시 S10+, 시대를 잘못 만난 수작'],\n",
       " ['16947fe737213ac4', 'Fwd: AWS re:Inforce | Registration Opens March 12'],\n",
       " ['16947b095f3a402f', '[3월PM교육] PDU를 취득할수 있는 프로젝트관리 교육 및 세미나 안내'],\n",
       " ['169479ae2545720b', 'TOP point - 이성식님의 소멸 예정 포인트를 알려드립니다 (13310760)'],\n",
       " ['169465560daa1a89', '[Atlas Labs] <AI, 음성인식의 비즈니스 적용을 위한 기술 세미나> 에 초대합니다.'],\n",
       " ['16945fd235caa43d', '[필독사항] 여러분, 쿠폰을 쓰셔야 합니다. 😂😂'],\n",
       " ['1694598c36621937', '자동화를 너머 로봇과 협업한다 ‘RPA의 현재와 미래’ - IDG Tech Focus'],\n",
       " ['16934086b77357eb', 'CJ ONE 포인트 적립 기준 변경 안내'],\n",
       " ['1693400c60ae73b3', \"[CIO 뉴스레터] 완성도 높아진 MS 홀로렌즈 2, 기업 시장 모멘텀 기대 '모락모락'\"],\n",
       " ['16933326c0fd1f22',\n",
       "  \"[SW기술협]<재직자 유료/무료교육>'이더리움 기반 스마트 컨트랙트 개발하기'와 'SW 프로젝트관리 - PMBOK 6.0과 프로젝트 사례' 외\"],\n",
       " ['1693159d26a93cad',\n",
       "  '[AI EXPO KOREA 2019] 국제인공지능대전 개최 안내! (조기신청 할인 ~3/29까지)'],\n",
       " ['1692c8c6683bf321', '[새 글] TensorFlow 1.13.1 Release'],\n",
       " ['1692342a670376cb',\n",
       "  '[발표자료] KEB하나은행과 한빛미디어가 함께하는 <블록체인 기술 세미나>에 참여해 주셔서 감사합니다.'],\n",
       " ['16914b6e71394439',\n",
       "  \"[SW기술협]<재직자 유료/무료교육>'IoT 네트워크 프로그래밍'과 'Linux Kernel 이해와 응용' 외\"],\n",
       " ['169136f1401ee923', '[새 글] Fast Gradient Boosting Tree'],\n",
       " ['16915804764f3c23', '[한국IT비즈니스진흥협회]인공지능센터 고급 과정(오후) 교육생 선정안내'],\n",
       " ['1690dd8e4d96c54d', '[새 글] 이펙티브 텐서플로 2.0'],\n",
       " ['1690a2333cfdc7e8', '[KISA 핀테크 아카데미] 핀테크 서비스 개발 실습 중급과정 교육생 모집(~3/10)'],\n",
       " ['1690673f9a5ba256', '[PM교육] 프로젝트 1 Page 보고서 작성 전문가과정 (8PDU : Strategic )'],\n",
       " ['16903fe4b0cbf98e', '[하나금융투자]펀드수시공시 안내'],\n",
       " ['169033b163b96cac', '(광고) 이성식님, 요즘 논문 쓰고 계시나요?'],\n",
       " ['168ef9e2bc76514f', '수강신청 완료후 대기상태'],\n",
       " ['168eb41291ccc637',\n",
       "  \"[SW기술협]<재직자 무료교육>'Python 데이터 수집과 분석'와 '이더리움 기반 스마트 컨트랙트 개발하기' 외\"],\n",
       " ['168e4903a4195e4d', '[새 글] TensorFlow 공식 케라스 튜토리얼 한글화'],\n",
       " ['168e414650c9721a', '[쿠팡] 이*식님 주문하신 내역을 확인해주세요.']]"
      ]
     },
     "execution_count": 19,
     "metadata": {},
     "output_type": "execute_result"
    }
   ],
   "source": [
    "mail_list = list()\n",
    "for anchor in inbox_bs.select(\"table .th tr a\"):\n",
    "    if anchor.find(\"b\") is not None:   # 읽지 않은 메일\n",
    "        title = anchor.find(\"b\").text\n",
    "    else:             # 읽은 메일\n",
    "        title = anchor.find(\"font\").next_sibling.strip()\n",
    "        mail_list.append([anchor[\"href\"].split(\"&\")[1].split(\"=\")[1], anchor.find(\"font\").next_sibling.strip()])\n",
    "\n",
    "mail_list"
   ]
  },
  {
   "cell_type": "markdown",
   "metadata": {},
   "source": [
    "### 받은 편지함 본문 가져오기"
   ]
  },
  {
   "cell_type": "code",
   "execution_count": 20,
   "metadata": {
    "scrolled": true
   },
   "outputs": [
    {
     "name": "stdout",
     "output_type": "stream",
     "text": [
      "https://mail.google.com/mail/u/0/h/?&th=16975f09a6f56350&v=c&st=50\n",
      "https://mail.google.com/mail/u/0/h/?&th=16975a9623801029&v=c&st=50\n",
      "https://mail.google.com/mail/u/0/h/?&th=169751a099628d3e&v=c&st=50\n",
      "https://mail.google.com/mail/u/0/h/?&th=1697458b85739284&v=c&st=50\n",
      "https://mail.google.com/mail/u/0/h/?&th=1696f22fc2eb8b88&v=c&st=50\n",
      "https://mail.google.com/mail/u/0/h/?&th=1696c776b09564ea&v=c&st=50\n",
      "https://mail.google.com/mail/u/0/h/?&th=169669b664c58d9e&v=c&st=50\n",
      "https://mail.google.com/mail/u/0/h/?&th=1696579ead50c283&v=c&st=50\n",
      "https://mail.google.com/mail/u/0/h/?&th=1695a9fd87cbf463&v=c&st=50\n",
      "https://mail.google.com/mail/u/0/h/?&th=16956a2ddd87a739&v=c&st=50\n",
      "https://mail.google.com/mail/u/0/h/?&th=16955461b89f1ed6&v=c&st=50\n",
      "https://mail.google.com/mail/u/0/h/?&th=16950ad6fe62cd1a&v=c&st=50\n",
      "https://mail.google.com/mail/u/0/h/?&th=1695088f96227672&v=c&st=50\n",
      "https://mail.google.com/mail/u/0/h/?&th=1694f32e8fe2b843&v=c&st=50\n",
      "https://mail.google.com/mail/u/0/h/?&th=1694f20cf0cbc720&v=c&st=50\n",
      "https://mail.google.com/mail/u/0/h/?&th=1694f20c758d934a&v=c&st=50\n",
      "https://mail.google.com/mail/u/0/h/?&th=1694f116542009d9&v=c&st=50\n",
      "https://mail.google.com/mail/u/0/h/?&th=1694f10d79b92d07&v=c&st=50\n",
      "https://mail.google.com/mail/u/0/h/?&th=1694f0eb847f7d79&v=c&st=50\n",
      "https://mail.google.com/mail/u/0/h/?&th=1694f05f1680d4de&v=c&st=50\n",
      "https://mail.google.com/mail/u/0/h/?&th=1694e9019125e1df&v=c&st=50\n",
      "https://mail.google.com/mail/u/0/h/?&th=169579cd10179b53&v=c&st=50\n",
      "https://mail.google.com/mail/u/0/h/?&th=16949dd157e29a80&v=c&st=50\n",
      "https://mail.google.com/mail/u/0/h/?&th=169489a666f76791&v=c&st=50\n",
      "https://mail.google.com/mail/u/0/h/?&th=169485bbabf8865b&v=c&st=50\n",
      "https://mail.google.com/mail/u/0/h/?&th=169482cc9d9d28ce&v=c&st=50\n",
      "https://mail.google.com/mail/u/0/h/?&th=16947fe737213ac4&v=c&st=50\n",
      "https://mail.google.com/mail/u/0/h/?&th=16947b095f3a402f&v=c&st=50\n",
      "https://mail.google.com/mail/u/0/h/?&th=169479ae2545720b&v=c&st=50\n",
      "https://mail.google.com/mail/u/0/h/?&th=169465560daa1a89&v=c&st=50\n",
      "https://mail.google.com/mail/u/0/h/?&th=16945fd235caa43d&v=c&st=50\n",
      "https://mail.google.com/mail/u/0/h/?&th=1694598c36621937&v=c&st=50\n",
      "https://mail.google.com/mail/u/0/h/?&th=16934086b77357eb&v=c&st=50\n",
      "https://mail.google.com/mail/u/0/h/?&th=1693400c60ae73b3&v=c&st=50\n",
      "https://mail.google.com/mail/u/0/h/?&th=16933326c0fd1f22&v=c&st=50\n",
      "https://mail.google.com/mail/u/0/h/?&th=1693159d26a93cad&v=c&st=50\n",
      "https://mail.google.com/mail/u/0/h/?&th=1692c8c6683bf321&v=c&st=50\n",
      "https://mail.google.com/mail/u/0/h/?&th=1692342a670376cb&v=c&st=50\n",
      "https://mail.google.com/mail/u/0/h/?&th=16914b6e71394439&v=c&st=50\n",
      "https://mail.google.com/mail/u/0/h/?&th=169136f1401ee923&v=c&st=50\n",
      "https://mail.google.com/mail/u/0/h/?&th=16915804764f3c23&v=c&st=50\n",
      "https://mail.google.com/mail/u/0/h/?&th=1690dd8e4d96c54d&v=c&st=50\n",
      "https://mail.google.com/mail/u/0/h/?&th=1690a2333cfdc7e8&v=c&st=50\n",
      "https://mail.google.com/mail/u/0/h/?&th=1690673f9a5ba256&v=c&st=50\n",
      "https://mail.google.com/mail/u/0/h/?&th=16903fe4b0cbf98e&v=c&st=50\n",
      "https://mail.google.com/mail/u/0/h/?&th=169033b163b96cac&v=c&st=50\n",
      "https://mail.google.com/mail/u/0/h/?&th=168ef9e2bc76514f&v=c&st=50\n",
      "https://mail.google.com/mail/u/0/h/?&th=168eb41291ccc637&v=c&st=50\n",
      "https://mail.google.com/mail/u/0/h/?&th=168e4903a4195e4d&v=c&st=50\n",
      "https://mail.google.com/mail/u/0/h/?&th=168e414650c9721a&v=c&st=50\n"
     ]
    }
   ],
   "source": [
    "mail_content = list()\n",
    "\n",
    "for anchor in inbox_bs.select(\"table .th tr a\"):\n",
    "    content_url = inbox_url + anchor[\"href\"]\n",
    "    content_html = session.get(content_url)\n",
    "    content_bs = BeautifulSoup(content_html.text, \"html.parser\")\n",
    "\n",
    "    msg_id = anchor[\"href\"].split(\"&\")[1].split(\"=\")[1]\n",
    "    if anchor.find(\"b\") is not None:   # 읽지 않은 메일\n",
    "        msg_title = anchor.find(\"b\").text\n",
    "    else:             # 읽은 메일\n",
    "        msg_title = anchor.find(\"font\").next_sibling.strip()\n",
    "\n",
    "    mag_txt = \"\"\n",
    "    for msg in content_bs.select(\".msg\"):\n",
    "        if msg is not None:\n",
    "            mag_txt += msg.text       # 실제 메시지 내용은 이미지로 되어 있는 경우가 많음(정상적으로 처리하려면 이미지 OCR 기능 필요)\n",
    "\n",
    "    mail_content.append([msg_id, msg_title, mag_txt])\n",
    "    print(content_url)"
   ]
  },
  {
   "cell_type": "code",
   "execution_count": 21,
   "metadata": {
    "scrolled": false
   },
   "outputs": [
    {
     "data": {
      "text/plain": [
       "'                        새로운 환경에서로그인 되었습니다.           이 메일은 이성식(clou****)의 비상 연락처에 등록된 메일 주소로 발송되었습니다. 본인의 네이버 계정이 아니라면 여기에서 수정하세요. 해당 페이지는 별도의 로그인을 요구하지 않습니다. 또한 주소창에 [NAVER Corp.]와 자물쇠 마크가 있으니 꼭 확인하세요.      회원님의 아이디 clou****이(가) 새로운 환경에서 로그인 되었습니다. 아래의 로그인이 회원님의 활동이 맞는지 확인해주세요. 회원님의 활동이 아니라면, 다른 사람이 비밀번호를 알고 있는 것 입니다.         로그인 정보              시간   2019-03-13(수) 16:24     위치   대한민국 (115.91.55.67)     기기   Mac OS X Chrome                  회원님이 로그인 하셨나요? 로그인 하지 않았다면 지금 바로 “아니요”를 눌러주세요.     아니요 (내가 아닙니다.) 예      보다 자세한 내용은 아이디 도용에 대한 도움말을 확인 해주시기 바랍니다. 더욱 편리한 서비스를 제공하기 위해 항상 최선을 다하겠습니다.        본 메일은 발신전용 입니다. 네이버 서비스관련 궁금하신 사항은 네이버 고객센터에서 확인해주세요.     Copyright ⓒ NAVER Corp. All Rights Reserved.      '"
      ]
     },
     "execution_count": 21,
     "metadata": {},
     "output_type": "execute_result"
    }
   ],
   "source": [
    "#[_[0:2] for _ in mail_content]    # 메일번호, 제목\n",
    "[_[2] for _ in mail_content][0]    # 메일 본문"
   ]
  },
  {
   "cell_type": "markdown",
   "metadata": {},
   "source": [
    "### 받은 편지함 저장하기"
   ]
  },
  {
   "cell_type": "code",
   "execution_count": 22,
   "metadata": {},
   "outputs": [],
   "source": [
    "import os\n",
    "\n",
    "path = \"../spam_mail\"\n",
    "if not os.path.exists(path):\n",
    "    os.makedirs(path)\n",
    "\n",
    "for _ in mail_content:\n",
    "    full_path = os.path.join(path, \"mail-g-\"+_[0]+\".txt\")\n",
    "    with open(full_path, \"w\") as f:\n",
    "        f.write(_[1])\n",
    "        f.write(_[2])"
   ]
  },
  {
   "cell_type": "markdown",
   "metadata": {},
   "source": [
    "### spam 메일 리스트 가져오기"
   ]
  },
  {
   "cell_type": "code",
   "execution_count": 23,
   "metadata": {},
   "outputs": [],
   "source": [
    "spam_url = \"https://mail.google.com/mail/u/0/h/\"\n",
    "param = \"?&s=m\"\n",
    "html = session.get(spam_url + param)"
   ]
  },
  {
   "cell_type": "code",
   "execution_count": 24,
   "metadata": {
    "scrolled": true
   },
   "outputs": [],
   "source": [
    "bs = BeautifulSoup(html.text, \"html.parser\")"
   ]
  },
  {
   "cell_type": "code",
   "execution_count": 25,
   "metadata": {
    "scrolled": false
   },
   "outputs": [
    {
     "data": {
      "text/plain": [
       "[['169ead21beb8a1ed', '(광고) 금융, 의료산업에 과감하게 제안하는, ‘하이브리드 클라우드’ 그 모든 것!'],\n",
       " ['169ea6402fcff576', '[도미노피자 이벤트] 2019 AI를 위한 클라우드 도입 및 확장 현황 조사'],\n",
       " ['169e5ab7ad116555', '(광고) 의료용 IoT 기기를 위한 솔루션 확인하면 추첨해 선물 증정!'],\n",
       " ['169e53db9b75bc3e', '(광고) 지금까지 이런 ERP는 없었다! 이것은 꿀인가 ERP인가'],\n",
       " ['169daf0e7d3fbf9c',\n",
       "  \"[파리바게트 케익 이벤트] '앱 데이터 간극'을 줄이는 참신한 접근법, Nimble Storage의 비밀 - IDG Summary\"],\n",
       " ['169c6c4e48a184ba', '[나무기술] Newsletter Vol. 19-3 (2019년 3월 29일)'],\n",
       " ['169c08009e60b1d2', 'Basic SAP FICO integration topics'],\n",
       " ['169bd4e167e3357a', '(광고) 베스핀 교육세미나 3탄, 빅데이터 구축 전략! 아직도 등록을 안하셨다면, 지금입니다.'],\n",
       " ['169bce6c215e48fb',\n",
       "  '(광고) [AI World 2019] 인공지능, 선택 아닌 필수! 국내외 AI 활용 사례_Grab, Walmart Labs, Pfizer, CJ대한통운, 신...'],\n",
       " ['169babdd2e6d1ab1', 'SAP S/4HANA Resources and Free Download'],\n",
       " ['169b8dec76741a7b', '(광고) LeeAlex님, 탈잉 50%모음 🎁곧 마감됩니다. 놓치지 마세요!'],\n",
       " ['169b193d558c0328',\n",
       "  '(광고)이성식님 설레는 봄, 화사한 플라워박스와 함께 향긋한 하루를 시작하세요! ▶전국당일배송 꽃바구니/꽃다발/꽃상자◀'],\n",
       " ['169ad3900a9c6987', '대지의 70%는 정원, 여유 있는 전원의 삶을 담은 2층 단독주택'],\n",
       " ['169a81ca5747f249', '이 성식 님, 반품 배송비를 환불해드립니다.*'],\n",
       " ['169a815dec9996d8',\n",
       "  '(광고)[GS&POINT] 회원님을 위해 준비한 3월의 풍성한 이벤트와 다양한 혜택을 지금 확인해 보세요!'],\n",
       " ['169a4134fee569ff', '(광고) 2019 월드IT쇼 뉴스레터 VOL.3'],\n",
       " ['169a220d18b98181',\n",
       "  '(광고)이성식님 선물하기 좋은 인테리어 화분 추천! 분위기 전환과 공기 정화까지★ | 전국당일배송 결혼식 축하화환/근조화환'],\n",
       " ['1699ec5a5f626c6b', '[사단법인피엠전문가협회] 다섯 개 프로세스 그룹으로 확인하는 PMP 요약'],\n",
       " ['16999f1d68e802f0', '이 성식님, Gearbest 5주년 세일 소식을 알려드립니다.'],\n",
       " ['16999b60d4b68268', '하이브리드 / 멀티클라우드 환경에서 애플리케이션 딜리버리에 필요한 여섯 가지 외'],\n",
       " ['16999481b376c3ce',\n",
       "  \"(광고) [전체 리포트 제공] 베스핀글로벌, 가트너 매직 쿼드런트 퍼블릭 클라우드 MSP에 3년 연속 등재, '챌린저' 선정\"],\n",
       " ['1699910a9e5ad5b3', '(광고)[하나카드, 기타안내] 지금까지 이런 할인은 없었다. 돈키호테 트리플 할인 혜택'],\n",
       " ['169986e6b679d57b', '(광고) [마감임박] 개발자를 위한 Microsoft 최대 기술 컨퍼런스'],\n",
       " ['1699759ca8ab06f0', 'Learn S/4 HANA FICO'],\n",
       " ['169952470e9fecbe', '[사단법인피엠전문가협회] 애자일 프로젝트관리의 실무 적용 과정 [4/4~4/5]'],\n",
       " ['1698ef3a45b033da',\n",
       "  '(광고) \"컨테이너 오케스트레이션의 미학 - 쿠버네티스 데이 코리아 2019\" 개최안내 [3월 29일 / 잠실역'],\n",
       " ['1698d873821365b5', '(광고)이성식님 마음을 전하는 꽃 선물 추천>> 화사한 봄 꽃다발/꽃상자/꽃바구니 전국당일배송★'],\n",
       " ['16980ef801875ee5', '(광고) 대박, 30년만에…?'],\n",
       " ['16979001ba5899a0', '(광고)이성식님 ★3/14 화이트데이 내사탕을 받아줘~ ♥ 전국당일꽃배달 [사탕꽃바구니/꽃다발]'],\n",
       " ['169778450929f9c8', 'Every little thing she designs is magic'],\n",
       " ['1697540ff0e3c0e4', '(광고) 아이나비 국내 최초, 4채널 All Full HD 커넥티드 블랙박스 출시!'],\n",
       " ['16973c7685c4e5c8', '(광고)이성식님 화이트데이 D-1 내연인을 위한 로맨틱이벤트 ♣전국당일꽃배달♣'],\n",
       " ['169697aadb633c31', '(광고)이성식님 ♥전국당일배송 화이트데이 미리준비하세요! 꽃+캔디 예약 >>'],\n",
       " ['1695a6bd746c47a6', \"See Who's Coming to GTC 2019\"],\n",
       " ['1695a07926a6607e',\n",
       "  '(광고)이성식님 미세먼지 완벽퇴치 하세요! #스투키 #공기정화식물 #전국당일배송 | 화이트데이 달달한 꽃상품 미리보기♥'],\n",
       " ['1695907c7be9d1e3', 'New SAP Books and Video Tutorials'],\n",
       " ['1695446a60b18761', 'RE: do companies actually pay people to do this?'],\n",
       " ['1695217189eaa582', 'USPS ticket #61747'],\n",
       " ['1691d0793b537d75', '전원적인 동시에 현대적인 교외 단독주택'],\n",
       " ['168dee912fa62f33',\n",
       "  '(광고) [서울대 공과대학]미래융합기술최고위과정(FIP) 모집안내(블록체인·인공지능·사물인터넷IoT·스마트 머신·스마트 제조)']]"
      ]
     },
     "execution_count": 25,
     "metadata": {},
     "output_type": "execute_result"
    }
   ],
   "source": [
    "# 메일 내용은 class명이 \"th\"인 \"table\" 태그 아래에 \"tr\"에 각각의 메일이 있습니다.\n",
    "# table .th > tr > td > a  (페이지 내에 table이 10개가 있으며, 본문이 포함된 table의 class명은 th임)\n",
    "# 메일 제목은 a 태크 아래 첫번째 font 태크 다음에 아무런 태그 없이 문자열 형태로 있음 (두번째 font 태그에는 메일 본문 미리보기가 있음)\n",
    "spam_list = list()\n",
    "\n",
    "for anchor in bs.select(\"table .th tr a\"):\n",
    "    if anchor.find(\"b\") is not None:   # 읽지 않은 메일\n",
    "        msg_title = anchor.find(\"b\").text\n",
    "    else:             # 읽은 메일\n",
    "        msg_title = anchor.find(\"font\").next_sibling.strip()\n",
    "\n",
    "    spam_list.append([anchor[\"href\"].split(\"&\")[1].split(\"=\")[1], msg_title])\n",
    "\n",
    "spam_list"
   ]
  },
  {
   "cell_type": "markdown",
   "metadata": {},
   "source": [
    "### 스팸 메일 본문 가져오기"
   ]
  },
  {
   "cell_type": "code",
   "execution_count": 26,
   "metadata": {
    "scrolled": false
   },
   "outputs": [
    {
     "name": "stdout",
     "output_type": "stream",
     "text": [
      "https://mail.google.com/mail/u/0/h/?&th=169ead21beb8a1ed&v=c&s=m\n",
      "https://mail.google.com/mail/u/0/h/?&th=169ea6402fcff576&v=c&s=m\n",
      "https://mail.google.com/mail/u/0/h/?&th=169e5ab7ad116555&v=c&s=m\n",
      "https://mail.google.com/mail/u/0/h/?&th=169e53db9b75bc3e&v=c&s=m\n",
      "https://mail.google.com/mail/u/0/h/?&th=169daf0e7d3fbf9c&v=c&s=m\n",
      "https://mail.google.com/mail/u/0/h/?&th=169c6c4e48a184ba&v=c&s=m\n",
      "https://mail.google.com/mail/u/0/h/?&th=169c08009e60b1d2&v=c&s=m\n",
      "https://mail.google.com/mail/u/0/h/?&th=169bd4e167e3357a&v=c&s=m\n",
      "https://mail.google.com/mail/u/0/h/?&th=169bce6c215e48fb&v=c&s=m\n",
      "https://mail.google.com/mail/u/0/h/?&th=169babdd2e6d1ab1&v=c&s=m\n",
      "https://mail.google.com/mail/u/0/h/?&th=169b8dec76741a7b&v=c&s=m\n",
      "https://mail.google.com/mail/u/0/h/?&th=169b193d558c0328&v=c&s=m\n",
      "https://mail.google.com/mail/u/0/h/?&th=169ad3900a9c6987&v=c&s=m\n",
      "https://mail.google.com/mail/u/0/h/?&th=169a81ca5747f249&v=c&s=m\n",
      "https://mail.google.com/mail/u/0/h/?&th=169a815dec9996d8&v=c&s=m\n",
      "https://mail.google.com/mail/u/0/h/?&th=169a4134fee569ff&v=c&s=m\n",
      "https://mail.google.com/mail/u/0/h/?&th=169a220d18b98181&v=c&s=m\n",
      "https://mail.google.com/mail/u/0/h/?&th=1699ec5a5f626c6b&v=c&s=m\n",
      "https://mail.google.com/mail/u/0/h/?&th=16999f1d68e802f0&v=c&s=m\n",
      "https://mail.google.com/mail/u/0/h/?&th=16999b60d4b68268&v=c&s=m\n",
      "https://mail.google.com/mail/u/0/h/?&th=16999481b376c3ce&v=c&s=m\n",
      "https://mail.google.com/mail/u/0/h/?&th=1699910a9e5ad5b3&v=c&s=m\n",
      "https://mail.google.com/mail/u/0/h/?&th=169986e6b679d57b&v=c&s=m\n",
      "https://mail.google.com/mail/u/0/h/?&th=1699759ca8ab06f0&v=c&s=m\n",
      "https://mail.google.com/mail/u/0/h/?&th=169952470e9fecbe&v=c&s=m\n",
      "https://mail.google.com/mail/u/0/h/?&th=1698ef3a45b033da&v=c&s=m\n",
      "https://mail.google.com/mail/u/0/h/?&th=1698d873821365b5&v=c&s=m\n",
      "https://mail.google.com/mail/u/0/h/?&th=16980ef801875ee5&v=c&s=m\n",
      "https://mail.google.com/mail/u/0/h/?&th=16979001ba5899a0&v=c&s=m\n",
      "https://mail.google.com/mail/u/0/h/?&th=169778450929f9c8&v=c&s=m\n",
      "https://mail.google.com/mail/u/0/h/?&th=1697540ff0e3c0e4&v=c&s=m\n",
      "https://mail.google.com/mail/u/0/h/?&th=16973c7685c4e5c8&v=c&s=m\n",
      "https://mail.google.com/mail/u/0/h/?&th=169697aadb633c31&v=c&s=m\n",
      "https://mail.google.com/mail/u/0/h/?&th=1695a6bd746c47a6&v=c&s=m\n",
      "https://mail.google.com/mail/u/0/h/?&th=1695a07926a6607e&v=c&s=m\n",
      "https://mail.google.com/mail/u/0/h/?&th=1695907c7be9d1e3&v=c&s=m\n",
      "https://mail.google.com/mail/u/0/h/?&th=1695446a60b18761&v=c&s=m\n",
      "https://mail.google.com/mail/u/0/h/?&th=1695217189eaa582&v=c&s=m\n",
      "https://mail.google.com/mail/u/0/h/?&th=1691d0793b537d75&v=c&s=m\n",
      "https://mail.google.com/mail/u/0/h/?&th=168dee912fa62f33&v=c&s=m\n"
     ]
    }
   ],
   "source": [
    "spam_mail = list()\n",
    "\n",
    "for anchor in bs.select(\"table .th tr a\"):\n",
    "    content_url = spam_url + anchor[\"href\"]\n",
    "    content_html = session.get(content_url)\n",
    "    content_bs = BeautifulSoup(content_html.text, \"html.parser\")\n",
    "\n",
    "    msg_id = anchor[\"href\"].split(\"&\")[1].split(\"=\")[1]\n",
    "    if anchor.find(\"b\") is not None:   # 읽지 않은 메일\n",
    "        msg_title = anchor.find(\"b\").text\n",
    "    else:             # 읽은 메일\n",
    "        msg_title = anchor.find(\"font\").next_sibling.strip()\n",
    "\n",
    "    mag_txt = \"\"\n",
    "    for msg in content_bs.select(\".msg\"):\n",
    "        if msg is not None:\n",
    "            mag_txt += msg.text       # 실제 메시지 내용은 이미지로 되어 있는 경우가 많음(정상적으로 처리하려면 이미지 OCR 기능 필요)\n",
    "\n",
    "    spam_mail.append([msg_id, msg_title, mag_txt])\n",
    "    print(content_url)"
   ]
  },
  {
   "cell_type": "code",
   "execution_count": 27,
   "metadata": {},
   "outputs": [
    {
     "data": {
      "text/plain": [
       "'\\n\\n\\n\\n\\n\\n\\n\\n\\n\\n\\n\\n\\n\\n\\n\\n\\n\\n\\n\\n\\n\\xa0\\n\\n\\n2019 AI를 위한 클라우드 도입 및 확장 현황 조사 \\n\\n\\n\\n\\n\\n\\n \\n[본 설문에 참여하시는 분들 중 추첨을 통해\\n도미노피자 블랙타이거슈프림 M+콜라 1.25L을 드립니다. (30명)]\\n\\n바야흐로 클라우드 시대가 도래했다고 해도 과언이 아닐\\n정도로 이제 클라우드는 기업에서 ‘필수’가 되고 있습니다.\\n한국IDG는 지난 3년 동안 국내 클라우드 도입 현황\\n설문 조사를 하면서 클라우드에 대한 인식, 도입 계획, 활용 분야 등을 꾸준히 모니터링 해 왔습니다.\\n지난해 조사 결과 응답자의 약 절반(46%) 이 클라우드를 도입한 것으로 나타났습니다.이러한 추세에 따라 올해에는 클라우드 확장에 중점을 두고자 합니다.\\n\\n한국IDG는 국내 IT전문가를 대상으로 현재 기업이 클라우드를 얼마나 활용하고 있으며,\\n향후 어느 수준까지 확대할 계획이고,클라우드에 관한 기대는 무엇이며,AI를 위해 클라우드를 어느 정도 준비하고 있는지 등을 조사하고자 합니다.\\n\\n많은 참여 부탁 드립니다.\\n\\n[AI World 2019 컨퍼런스| 04/25(목) 엘타워]\\n-AI 비즈니스를 위한 프로세스 실전 노하우!\\n-동남아 스타트업에서 글로벌 시장으로! AI와 Data의 활용\\n-이커머스 AI&머신러닝 활용:월마트 고객맞춤형 상품추천\\n-CJ대한통운의 AI Journey\\n-주52시간 시대의 해법 RPA에 주목하라:신한은행 RPA 사례\\n▶Pfizer,Grab(그랩),Walmart Labs,CJ대한통운,신한은행 등!  \\n☞ 프로그램 자세히 보기(클릭)  \\n\\xa0\\n\\n\\n\\n\\n\\n\\n\\n\\n\\n\\n\\xa0\\n\\n\\n\\n\\n\\n\\n\\n\\n\\n\\n\\n\\n\\n\\n이 뉴스레터는 회원님이 수신동의 한 경우에만 발송됩니다.\\n수신을 원치 않으시면  [수신거부]  를 눌러주세요.\\n문의사항은 mkt@idg.co.kr로 이메일 혹은 전화(02-558-6076)주시기 바랍니다.\\n서울시 중구 세종대로 23. 4층 한국IDG(주) 우) 04512\\n사업자등록번호 : 214-87-22467 | COPYRIGHT 2016 한국IDG㈜\\nTel. 02-558-6950 | Fax. 02-558-6955 | twitter@itworldkr | Facebook/itworld.korea\\n\\n\\n\\n\\n\\n\\n\\n\\n\\n\\n'"
      ]
     },
     "execution_count": 27,
     "metadata": {},
     "output_type": "execute_result"
    }
   ],
   "source": [
    "# [_[0:2] for _ in spam_mail]    # 메일번호, 제목\n",
    "[_[2] for _ in spam_mail][1]    # 메일 본문"
   ]
  },
  {
   "cell_type": "markdown",
   "metadata": {},
   "source": [
    "### 스팸 메일 저장하기"
   ]
  },
  {
   "cell_type": "code",
   "execution_count": 28,
   "metadata": {},
   "outputs": [],
   "source": [
    "import os\n",
    "\n",
    "path = \"../spam_mail\"\n",
    "if not os.path.exists(path):\n",
    "    os.makedirs(path)\n",
    "\n",
    "for _ in spam_mail:\n",
    "    full_path = os.path.join(path, \"spam-g-\"+_[0]+\".txt\")\n",
    "    with open(full_path, \"w\") as f:\n",
    "        f.write(_[1])\n",
    "        f.write(_[2])"
   ]
  },
  {
   "cell_type": "markdown",
   "metadata": {},
   "source": [
    "## naver mail"
   ]
  },
  {
   "cell_type": "markdown",
   "metadata": {},
   "source": [
    "- 로그인 과정, 동적으로 변하는 컨텐츠 등을 받기 위해서는 selenium 같은 패키지 사용 필요\n",
    "- naver mail은 쿠키 정보를 획득하기 위해 selenium이 필요하지만, <br>\n",
    "   실제 컨텐츠를 가져오는 과정은 selenium에서 획득한 쿠키 정보만 사용해서 직접 접근 가능함"
   ]
  },
  {
   "cell_type": "markdown",
   "metadata": {},
   "source": [
    "- 받은 편지함과 스팸 메일함 모두 동일한 URL로 접근할 수 있다.\n",
    "- 아래와 같이 POST 메서드로 가져올 수 있다.\n",
    "\n",
    "~~~\n",
    "url = \"https://mail.naver.com/json/list/\"\n",
    "\n",
    "data = {\n",
    "    \"page\":1,\n",
    "    \"sortField\":1,\n",
    "    \"sortType\":0,\n",
    "    \"folderSN\":0,\n",
    "    \"isUnread\":\"false\",\n",
    "    \"u\":\"itleader2\"\n",
    "}\n",
    "\n",
    "resp = session.post(content_url, content_data)    # resp는 JSON 형태\n",
    "~~~\n",
    "\n",
    "- folderSN은  메일함 번호 : 받은 메일함 0, 보낸 메일함 1, 임시 메일함 3, 휴지통 4, 스팸 메일함 5, 내게 쓴 메일함 6, 전체 메일함 -1, 수신 확인함 2(?)\n",
    "- 컨텐츠는 JSON 파일을 분석해서 원하는 태그를 사용함"
   ]
  },
  {
   "cell_type": "markdown",
   "metadata": {},
   "source": [
    "### 로그인 세션(쿠기) 정보 가져오기"
   ]
  },
  {
   "cell_type": "code",
   "execution_count": 29,
   "metadata": {},
   "outputs": [],
   "source": [
    "import json\n",
    "import requests\n",
    "from selenium import webdriver\n",
    "\n",
    "driver = webdriver.Chrome(\"/Users/alex/Documents/ai/NLP/nlp_ipa/chromedriver\")"
   ]
  },
  {
   "cell_type": "code",
   "execution_count": 30,
   "metadata": {},
   "outputs": [],
   "source": [
    "# naver mail URL\n",
    "# 메일 접속 시도 시 나타나는 실제 로그인 URL\n",
    "# url = \"https://nid.naver.com/nidlogin.login?url=http%3A%2F%2Fmail.naver.com%2F\"\n",
    "naver_mail = \"https://mail.naver.com\""
   ]
  },
  {
   "cell_type": "code",
   "execution_count": 31,
   "metadata": {},
   "outputs": [],
   "source": [
    "# driver에서 오픈 한 창에서 로그린 해야 쿠키 정보를 사용할 수 있음\n",
    "# 쿠키 정보를 획득한 이후에는 selenium을 사용하지 않고 직접 접근할 수 있음\n",
    "driver.get(naver_mail)"
   ]
  },
  {
   "cell_type": "code",
   "execution_count": 32,
   "metadata": {},
   "outputs": [],
   "source": [
    "# driver에서 오픈 한 창에서 수동으로 로그인 (캡챠 입력 요구함)\n",
    "# driver.find_element_by_id(\"id\").clear()\n",
    "# driver.find_element_by_id(\"id\").send_keys(\"id)\n",
    "# driver.find_element_by_id(\"pw\").clear()\n",
    "# driver.find_element_by_id(\"pw\").send_keys(\"password\")    # password는 실제 패스워드로 대체\n",
    "# driver.find_element_by_class_name(\"btn_global\").click()"
   ]
  },
  {
   "cell_type": "code",
   "execution_count": 33,
   "metadata": {},
   "outputs": [],
   "source": [
    "session = requests.Session()\n",
    "cookies = driver.get_cookies()\n",
    "\n",
    "for cookie in cookies:\n",
    "    session.cookies.set(cookie[\"name\"], cookie[\"value\"])"
   ]
  },
  {
   "cell_type": "code",
   "execution_count": 34,
   "metadata": {
    "scrolled": false
   },
   "outputs": [
    {
     "data": {
      "text/plain": [
       "<RequestsCookieJar[Cookie(version=0, name='NID_AUT', value='TgMACnCCjhOARRXmmvU3f0bTYo2xy1FllZ128GJ7bM8VR13ic2C1S49FN7skAQXT', port=None, port_specified=False, domain='', domain_specified=False, domain_initial_dot=False, path='/', path_specified=True, secure=False, expires=None, discard=True, comment=None, comment_url=None, rest={'HttpOnly': None}, rfc2109=False), Cookie(version=0, name='NID_JKL', value='QyQhFN+YHSSDvN78mM1AIBjkW85hauUocOZG1i1SNbI=', port=None, port_specified=False, domain='', domain_specified=False, domain_initial_dot=False, path='/', path_specified=True, secure=False, expires=None, discard=True, comment=None, comment_url=None, rest={'HttpOnly': None}, rfc2109=False), Cookie(version=0, name='NID_SES', value='AAABmOErDiGAJCRHJ5P4WqabYjYJRxoEfilsaIH+6CFdxehYBYg1K1PzB83v69pD2YBZgrZ5OqruFvTAKv9lk3qP3VfZu8Zf7eqhpru+i3NXhUzg+0jYnPyDrszIJx0Nw8bbRbnq3OXohRgHWUEQC0UPCyc3KDzNNPZsx5zM2WYYSfTuH+weqxTuA1VfjX4QMVCXDMrvtm0BblIqzE17ehAlSpwBK8AgqjnIT/h5px8RwSRmS/JtTG/V6tI6zjA80UXPZ9IigUjBtltbS4RIeNmTLIPo/kqXpKwxMbDNJMuEoZ7DgiAg/BVNBfhrSmgx2WlMK/ZA8usCgPEyMa4sX5Qz1xk0ZB7O0reY3yRQyCIA4opXZUxyDB9ZR6ccx1N0RobMra00Uwh6PSQBzt5A2DukYjC+LHydGjN0/m+VvrV/Ayzhk6USdmrbHrwbHUE58QANl+sNvdjQjUWSuoQg0JnOFgNXMA8Nrbjj4hVHuucCHmZlJnRv+nx4uSk2CYCxBqYB6aYXIAuixwgUxG8N/McKiyKRE7Zbu0AUvkDFISjF/6Lx', port=None, port_specified=False, domain='', domain_specified=False, domain_initial_dot=False, path='/', path_specified=True, secure=False, expires=None, discard=True, comment=None, comment_url=None, rest={'HttpOnly': None}, rfc2109=False), Cookie(version=0, name='NMUSER', value='IZYdFxEwaqbsFouZKA2Z1B3np6JvpBUZaqu9FxtdFAgqaAtsFxuZKAnmaqns3xnDKxEs6xRaaZnladUstoRVadUsadUs3ons1rejL9Us6xRVaqnD16lvpB2RFVl5WLl5MBp0bSloWrdnaAvmKARGW430DVdd7BF0Mre5pzJZDLl5WLl5MBp0bSloWrdnaAvmKAn=', port=None, port_specified=False, domain='', domain_specified=False, domain_initial_dot=False, path='/', path_specified=True, secure=False, expires=None, discard=True, comment=None, comment_url=None, rest={'HttpOnly': None}, rfc2109=False), Cookie(version=0, name='NNB', value='XVY4AO5P4CTFY', port=None, port_specified=False, domain='', domain_specified=False, domain_initial_dot=False, path='/', path_specified=True, secure=False, expires=None, discard=True, comment=None, comment_url=None, rest={'HttpOnly': None}, rfc2109=False), Cookie(version=0, name='nid_inf', value='1702289170', port=None, port_specified=False, domain='', domain_specified=False, domain_initial_dot=False, path='/', path_specified=True, secure=False, expires=None, discard=True, comment=None, comment_url=None, rest={'HttpOnly': None}, rfc2109=False), Cookie(version=0, name='npic', value='j9PRWmXVHNbiV6umY2cirnjRW2gJzvZLn5iYa+p3kyeYjEabPx+U+ofv2zsZT1qZCA==', port=None, port_specified=False, domain='', domain_specified=False, domain_initial_dot=False, path='/', path_specified=True, secure=False, expires=None, discard=True, comment=None, comment_url=None, rest={'HttpOnly': None}, rfc2109=False)]>"
      ]
     },
     "execution_count": 34,
     "metadata": {},
     "output_type": "execute_result"
    }
   ],
   "source": [
    "session.cookies"
   ]
  },
  {
   "cell_type": "markdown",
   "metadata": {},
   "source": [
    "### 메일함 리스트 가져오기"
   ]
  },
  {
   "cell_type": "code",
   "execution_count": 37,
   "metadata": {},
   "outputs": [],
   "source": [
    "# 위의 세션 정보만 있으면, selenium을 사용하지 않고 직접 접근이 가능함\n",
    "# 검사 - Newrok 탭에서,\"?page\"로 시작하는 컨텐츠의 request url을 찾는다.\n",
    "# \"https://mail.naver.com/json/list/?page=1&sortField=1&sortType=0&folderSN=0&type=&isUnread=false&u=itleader2\"\n",
    "\n",
    "url = \"https://mail.naver.com/json/list/\"\n",
    "\n",
    "data = {\n",
    "    \"page\":1,\n",
    "    \"sortField\":1,\n",
    "    \"sortType\":0,\n",
    "    \"folderSN\":0,\n",
    "    \"isUnread\":\"false\",\n",
    "    \"u\":\"itleader2\"\n",
    "}"
   ]
  },
  {
   "cell_type": "code",
   "execution_count": 38,
   "metadata": {
    "scrolled": false
   },
   "outputs": [],
   "source": [
    "# resp = requests.post(url, data)   # requests로 직접 가져오기 시도하는 경우, session 정보가 없어서 접근 안됨\n",
    "# selenium으로 로그인 과정에 생성한 session 정보를 이용해 접근\n",
    "resp = session.post(url, data)\n",
    "# resp.text    # json 파일"
   ]
  },
  {
   "cell_type": "code",
   "execution_count": 39,
   "metadata": {},
   "outputs": [
    {
     "data": {
      "text/plain": [
       "{'mailSN': 445,\n",
       " 'folderSN': 0,\n",
       " 'folderName': None,\n",
       " 'iconType': 0,\n",
       " 'status': 2097157,\n",
       " 'from': {'name': '씨사이드힐캠핑장', 'email': 'navercafe@naver.com'},\n",
       " 'subject': '축하드려요 씨사이드힐캠핑장 카페에 가입 되셨습니다.',\n",
       " 'receivedTime': 1461775976,\n",
       " 'sentTime': 1461775975,\n",
       " 'size': 12923,\n",
       " 'attachCount': 0,\n",
       " 'iDomainEmail': 'itleader2@naver.com',\n",
       " 'priority': 3,\n",
       " 'securityLevel': None,\n",
       " 'reSend': False,\n",
       " 'color': '#ffffff',\n",
       " 'preview': '',\n",
       " 'mimeSN': '1461775975.970823.21999.992822',\n",
       " 'toList': [{'name': 'itleader2', 'email': 'itleader2@naver.com'}],\n",
       " 'spamType': None,\n",
       " 'attachInfo': [],\n",
       " 'threadId': '<1461775975848.27178.380213836@cvplowl31.nm>',\n",
       " 'bccList': [],\n",
       " 'receiveByBcc': False,\n",
       " 'threadCount': 0,\n",
       " 'unreadThreadCount': 0,\n",
       " 'firstLocatedTime': 1461775976,\n",
       " 'remindAt': 0,\n",
       " 'threadRemindAt': 0,\n",
       " 'threadRemindFlag': 0,\n",
       " 'category': 203,\n",
       " 'bigFile': False,\n",
       " 'toMe': True,\n",
       " 'statusHex': '200005',\n",
       " 'isDomainMail': False}"
      ]
     },
     "execution_count": 39,
     "metadata": {},
     "output_type": "execute_result"
    }
   ],
   "source": [
    "# resp.json()\n",
    "# mail list 1개 가져오기\n",
    "resp.json().get(\"mailData\").pop()"
   ]
  },
  {
   "cell_type": "code",
   "execution_count": 40,
   "metadata": {
    "scrolled": true
   },
   "outputs": [
    {
     "name": "stdout",
     "output_type": "stream",
     "text": [
      "477 네이버 메일 1차 휴면이 해지되어 메일을 받을 수 있습니다.\n",
      "476 네이버 아이디의 휴면이 해제되었습니다.\n",
      "475 네이버 아이디가 휴면 상태로 전환됩니다.\n",
      "473 안녕하세요. 민스뮤직 출판 관리자 입니다..\n",
      "472 개인정보 이용내역을 안내 드립니다.\n",
      "469 축하드려요 맥 쓰는 사람들 [구 맥북을 쓰는 사람들, 맥쓰사] 카페에 가입 되셨습니다.\n",
      "466 네이버 메일 1차 휴면이 해지되어 메일을 수신받을 수 있습니다.\n",
      "463 축하드려요 통기타 배워보리 카페에 가입 되셨습니다.\n",
      "462 축하드려요 낭만의 통기타 카페에 가입 되셨습니다.\n",
      "461 축하드려요 이성식 기타교실 카페에 가입 되셨습니다.\n",
      "460 축하드려요 그랩더기타 [통기타/배우기/독학/동영상강좌/악보/동영상/강좌] 카페에 가입 되셨습니다.\n",
      "451 축하드려요 우드워커 - 취미 목공, DIY, 원목가구 카페에 가입 되셨습니다.\n",
      "447 축하드려요 영흥도 농어바위 캠핑장 카페에 가입 되셨습니다.\n",
      "446 축하드려요 뮤즈캠핑장 카페에 가입 되셨습니다.\n",
      "445 축하드려요 씨사이드힐캠핑장 카페에 가입 되셨습니다.\n"
     ]
    }
   ],
   "source": [
    "# 메일 번호와 제목 가져오기\n",
    "for mail_data in resp.json().get(\"mailData\"):\n",
    "    print(mail_data.get(\"mailSN\"), mail_data.get(\"subject\"))"
   ]
  },
  {
   "cell_type": "markdown",
   "metadata": {},
   "source": [
    "### 메일 본문 가져오기"
   ]
  },
  {
   "cell_type": "code",
   "execution_count": 41,
   "metadata": {},
   "outputs": [],
   "source": [
    "# 메일 본문 가져오기\n",
    "# \"https://mail.naver.com/json/read/?charset=&prevNextMail=true&threadMail=true&listScrollPosition=0&mailSN=477&previewMode=2&u=itleader2\"\n",
    "\n",
    "content_url = \"https://mail.naver.com/json/read/\"\n",
    "content_data = {\n",
    "    \"prevNextMail\":\"true\",\n",
    "    \"threadMail\":\"true\",\n",
    "    \"listScrollPosition\":0,\n",
    "    \"mailSN\":477,\n",
    "    \"previewMode\":2,\n",
    "    \"u\":\"itleader2\"\n",
    "}"
   ]
  },
  {
   "cell_type": "code",
   "execution_count": 42,
   "metadata": {},
   "outputs": [],
   "source": [
    "resp = session.post(content_url, content_data)"
   ]
  },
  {
   "cell_type": "code",
   "execution_count": 43,
   "metadata": {
    "scrolled": false
   },
   "outputs": [
    {
     "name": "stdout",
     "output_type": "stream",
     "text": [
      "\n",
      "itleader2님의 메일이 휴면에서 메일 수신 가능 상태로 변경되었습니다.\n",
      "\n",
      "\n",
      "\t\t\t\t\t\t\t[2017.02.17] 부터 네이버 메일 1차 휴면 계정으로 전환되었다가\n",
      "\t\t\t\t\t\t\t네이버 로그인으로 인하여 휴면계정에서 일반계정으로 전환되었습니다.\n",
      "\t\t\t\t\t\t\t\n",
      "\t\t\t\t\t\t\n",
      "\n",
      "\t\t\t\t\t\t\t네이버 메일 휴면정책은 아래 내용을 참고해주세요.\n",
      "\t\t\t\t\t\t\n",
      "\n",
      "\t\t\t\t\t\t\t아이디만 등록하고 오랫동안 메일 서비스를 이용하지 않고, 메일함을 관리하지 않는 경우 해당 아이디로 많은 광고성 스팸메일이 수신되고, 저장됩니다. 이러한 대량의 광고성 스팸메일은 메일 서비스를 사용하는 유저들의 메일전송 시간이 느려지거나 이용 속도에 영향을 줄 수 있습니다. 이러한 이유로 네이버 메일 서비스는 좀 더 많은 사용자분들께 최적의 환경을 제공하기 위하여 휴면정책을 운영합니다.\n",
      "\t\t\t\t\t\t\n",
      "\n",
      "본 메일은 발신전용입니다. 궁금하신 점이나 불편한 사항은 고객센터에 문의해 주시기 바랍니다.\n",
      "\t\t\t\n",
      "\n",
      " copyright © NAVER corp. All Rights Reserved.\n",
      "\t\t\t\n"
     ]
    }
   ],
   "source": [
    "# resp.text\n",
    "# esp.json()\n",
    "# resp.json()[\"mailInfo\"][\"body\"]\n",
    "bs = BeautifulSoup(resp.json()[\"mailInfo\"][\"body\"], \"html.parser\")\n",
    "for p in bs.find_all(\"p\"):\n",
    "    print(p.text)"
   ]
  },
  {
   "cell_type": "markdown",
   "metadata": {},
   "source": [
    "### 받은 편지함 리스트와 본문 전체 가져오기"
   ]
  },
  {
   "cell_type": "code",
   "execution_count": 44,
   "metadata": {},
   "outputs": [],
   "source": [
    "url = \"https://mail.naver.com/json/list/\"\n",
    "\n",
    "# folderSN이  메일함 번호 : 받은 메일함 0, 보낸 메일함 1, 임시 메일함 3, 휴지통 4, 스팸 메일함 5, 내게 쓴 메일함 6, 전체 메일함 -1, 수신 확인함 2(?)\n",
    "data = {\n",
    "    \"page\":1,\n",
    "    \"sortField\":1,\n",
    "    \"sortType\":0,\n",
    "    \"folderSN\":0,           # 스팸 메일함은 5로 변경\n",
    "    \"isUnread\":\"false\",\n",
    "    \"u\":\"itleader2\"\n",
    "}"
   ]
  },
  {
   "cell_type": "code",
   "execution_count": 45,
   "metadata": {},
   "outputs": [
    {
     "data": {
      "text/plain": [
       "[[477, '네이버 메일 1차 휴면이 해지되어 메일을 받을 수 있습니다.'],\n",
       " [476, '네이버 아이디의 휴면이 해제되었습니다.'],\n",
       " [475, '네이버 아이디가 휴면 상태로 전환됩니다.'],\n",
       " [473, '안녕하세요. 민스뮤직 출판 관리자 입니다..'],\n",
       " [472, '개인정보 이용내역을 안내 드립니다.'],\n",
       " [469, '축하드려요 맥 쓰는 사람들 [구 맥북을 쓰는 사람들, 맥쓰사] 카페에 가입 되셨습니다.'],\n",
       " [466, '네이버 메일 1차 휴면이 해지되어 메일을 수신받을 수 있습니다.'],\n",
       " [463, '축하드려요 통기타 배워보리 카페에 가입 되셨습니다.'],\n",
       " [462, '축하드려요 낭만의 통기타 카페에 가입 되셨습니다.'],\n",
       " [461, '축하드려요 이성식 기타교실 카페에 가입 되셨습니다.'],\n",
       " [460, '축하드려요 그랩더기타 [통기타/배우기/독학/동영상강좌/악보/동영상/강좌] 카페에 가입 되셨습니다.'],\n",
       " [451, '축하드려요 우드워커 - 취미 목공, DIY, 원목가구 카페에 가입 되셨습니다.'],\n",
       " [447, '축하드려요 영흥도 농어바위 캠핑장 카페에 가입 되셨습니다.'],\n",
       " [446, '축하드려요 뮤즈캠핑장 카페에 가입 되셨습니다.'],\n",
       " [445, '축하드려요 씨사이드힐캠핑장 카페에 가입 되셨습니다.']]"
      ]
     },
     "execution_count": 45,
     "metadata": {},
     "output_type": "execute_result"
    }
   ],
   "source": [
    "resp = session.post(url, data)\n",
    "\n",
    "mail_lists = list()\n",
    "\n",
    "for mail_list in resp.json().get(\"mailData\"):\n",
    "    mail_lists.append([mail_list.get(\"mailSN\"), mail_list.get(\"subject\")])\n",
    "\n",
    "mail_lists"
   ]
  },
  {
   "cell_type": "code",
   "execution_count": 46,
   "metadata": {},
   "outputs": [],
   "source": [
    "content_url = \"https://mail.naver.com/json/read/\"\n",
    "content_data = {\n",
    "    \"prevNextMail\":\"true\",\n",
    "    \"threadMail\":\"true\",\n",
    "    \"listScrollPosition\":0,\n",
    "    \"mailSN\":477,\n",
    "    \"previewMode\":2,\n",
    "    \"u\":\"itleader2\"\n",
    "}"
   ]
  },
  {
   "cell_type": "code",
   "execution_count": 48,
   "metadata": {
    "scrolled": true
   },
   "outputs": [],
   "source": [
    "contents = list()\n",
    "\n",
    "for mail in mail_lists:\n",
    "    content_data[\"mailSN\"] = mail[0]\n",
    "    resp = session.post(content_url, content_data)\n",
    "    bs = BeautifulSoup(resp.json()[\"mailInfo\"][\"body\"], \"html.parser\")\n",
    "    \n",
    "    content = bs.find(\"body\").text\n",
    "    contents.append([mail[0], mail[1], content])"
   ]
  },
  {
   "cell_type": "code",
   "execution_count": 49,
   "metadata": {},
   "outputs": [
    {
     "data": {
      "text/plain": [
       "[477,\n",
       " '네이버 메일 1차 휴면이 해지되어 메일을 받을 수 있습니다.',\n",
       " '\\n\\n\\n\\n\\n\\n\\n\\n\\n\\n\\n\\n\\xa0\\n\\n\\n\\n\\nitleader2님의 메일이 휴면에서 메일 수신 가능 상태로 변경되었습니다.\\n\\n\\n\\xa0\\n\\n\\n\\n\\xa0\\n\\n\\n\\t\\t\\t\\t\\t\\t\\t[2017.02.17] 부터 네이버 메일 1차 휴면 계정으로 전환되었다가\\n\\t\\t\\t\\t\\t\\t\\t네이버 로그인으로 인하여 휴면계정에서 일반계정으로 전환되었습니다.\\n\\t\\t\\t\\t\\t\\t\\t\\n\\t\\t\\t\\t\\t\\t\\n\\n\\t\\t\\t\\t\\t\\t\\t네이버 메일 휴면정책은 아래 내용을 참고해주세요.\\n\\t\\t\\t\\t\\t\\t\\n\\n\\xa0\\n\\n\\n\\n\\xa0\\n\\n\\n\\t\\t\\t\\t\\t\\t\\t네이버 메일 휴면 정책 안내\\n\\t\\t\\t\\t\\t\\t\\n\\n1차 휴면 계정\\n① 3개월(90일) 이상 네이버 로그인하지 않은 회원② 휴면 계정 처리 : 수신되는 메일 반송③ POP3/SMTP, IMAP/SMTP \"사용 안 함\" 설정\\n\\n\\n2차 휴면 계정\\n① 3년(1,095일)이상 네이버 로그인하지 않은 회원(1차 휴면 이후, 33개월)② 모든 메일함의 메일 삭제③ 메일 정보 모두 삭제 (주소록, 마일리지 포인트 등)④ 휴면 계정 처리 : 수신되는 메일 반송\\n\\n\\n\\xa0\\n\\n\\n\\n\\xa0\\n\\n\\n\\t\\t\\t\\t\\t\\t\\t※ 휴면정책 적용 배경 안내\\n\\t\\t\\t\\t\\t\\t\\n\\n\\t\\t\\t\\t\\t\\t\\t아이디만 등록하고 오랫동안 메일 서비스를 이용하지 않고, 메일함을 관리하지 않는 경우 해당 아이디로 많은 광고성 스팸메일이 수신되고, 저장됩니다. 이러한 대량의 광고성 스팸메일은 메일 서비스를 사용하는 유저들의 메일전송 시간이 느려지거나 이용 속도에 영향을 줄 수 있습니다. 이러한 이유로 네이버 메일 서비스는 좀 더 많은 사용자분들께 최적의 환경을 제공하기 위하여 휴면정책을 운영합니다.\\n\\t\\t\\t\\t\\t\\t\\n\\n\\n\\n\\n\\xa0\\n\\n\\n본 메일은 발신전용입니다. 궁금하신 점이나 불편한 사항은 고객센터에 문의해 주시기 바랍니다.\\n\\t\\t\\t\\n\\n copyright © NAVER corp. All Rights Reserved.\\n\\t\\t\\t\\n\\n\\n']"
      ]
     },
     "execution_count": 49,
     "metadata": {},
     "output_type": "execute_result"
    }
   ],
   "source": [
    "contents[0]"
   ]
  },
  {
   "cell_type": "code",
   "execution_count": 50,
   "metadata": {},
   "outputs": [],
   "source": [
    "# mail_lists와 contents를 파일로 저장\n",
    "import os\n",
    "\n",
    "path = \"../spam_mail\"\n",
    "if not os.path.exists(path):\n",
    "    os.makedirs(path)\n",
    "\n",
    "for _ in contents:\n",
    "    full_path = os.path.join(path, \"n-mail-\"+str(_[0])+\".txt\")    # 스팸메일은 \"n-spam-mail_id.txt\"\n",
    "    with open(full_path, \"w\") as f:\n",
    "        f.write(_[1])\n",
    "        f.write(_[2])"
   ]
  },
  {
   "cell_type": "markdown",
   "metadata": {},
   "source": [
    "### 받은 편지함 2번째 페이지 가져오기"
   ]
  },
  {
   "cell_type": "code",
   "execution_count": 51,
   "metadata": {},
   "outputs": [],
   "source": [
    "url = \"https://mail.naver.com/json/list/\"\n",
    "\n",
    "data = {\n",
    "    \"page\":2,             # 페이지 번호 지정\n",
    "    \"sortField\":1,\n",
    "    \"sortType\":0,\n",
    "    \"folderSN\":0,     # 스팸 메일함은 5로 변경\n",
    "    \"isUnread\":\"false\",\n",
    "    \"u\":\"itleader2\"\n",
    "}\n",
    "\n",
    "resp = session.post(content_url, content_data)    # resp는 JSON 형태"
   ]
  },
  {
   "cell_type": "code",
   "execution_count": 52,
   "metadata": {},
   "outputs": [
    {
     "data": {
      "text/plain": [
       "[[444, '[네이버] 개인정보 이용내역을 안내해드립니다. '],\n",
       " [443, 'N드라이브 운영원칙 개정 사전 안내 '],\n",
       " [435, '축하드려요 아이컨, 경영컨설턴트, 전문가, 대학생들의 만남 (구 씨모어) 카페에 가입 되셨습니다.'],\n",
       " [431, '네이버 카페 이용약관 변경 사전 안내 '],\n",
       " [430, '[N드라이브] 당신의 2013년 어떤 일이 있었나요?'],\n",
       " [429,\n",
       "  '축하드려요 C(Communication).H(Human).U(Unification).N(Necessity) 카페에 가입 되셨습니다.'],\n",
       " [428, '[N드라이브] 보다 편리하고 강력해진 기능 4가지를 소개합니다. '],\n",
       " [415, 'itleader2@naver.com'],\n",
       " [413, 'itleader2@naver.com'],\n",
       " [411, '네이버포토뷰어로 N드라이브 사진도 보고 문화상품권도 받으세요'],\n",
       " [376, '네이버 유료이용약관 변경 관련 재안내'],\n",
       " [375, '네이버 유료이용약관 변경에 따른 고객안내 공지'],\n",
       " [353, '위젯과 가로보기로 더욱 편리해진 네이버 메일앱을 지금 설치해보세요!'],\n",
       " [349, '축하드려요 도곡레고교육센터 카페에 가입 되셨습니다.'],\n",
       " [310,\n",
       "  '축하드려요 &quot;Finance Company&quot; - 금융업(금융쟁이) 관련 종사자들의 카페 카페에 가입 되셨습니다.']]"
      ]
     },
     "execution_count": 52,
     "metadata": {},
     "output_type": "execute_result"
    }
   ],
   "source": [
    "resp = session.post(url, data)\n",
    "\n",
    "mail_lists = list()\n",
    "\n",
    "for mail_list in resp.json().get(\"mailData\"):\n",
    "    mail_lists.append([mail_list.get(\"mailSN\"), mail_list.get(\"subject\")])\n",
    "\n",
    "mail_lists"
   ]
  },
  {
   "cell_type": "code",
   "execution_count": 53,
   "metadata": {},
   "outputs": [],
   "source": [
    "content_url = \"https://mail.naver.com/json/read/\"\n",
    "content_data = {\n",
    "    \"prevNextMail\":\"true\",\n",
    "    \"threadMail\":\"true\",\n",
    "    \"listScrollPosition\":0,\n",
    "    \"mailSN\":456,\n",
    "    \"previewMode\":2,\n",
    "    \"u\":\"itleader2\"\n",
    "}\n",
    "contents = list()\n",
    "\n",
    "for mail in mail_lists:\n",
    "    content_data[\"mailSN\"] = mail[0]\n",
    "    resp = session.post(content_url, content_data)\n",
    "    bs = BeautifulSoup(resp.json()[\"mailInfo\"][\"body\"], \"html.parser\")\n",
    "    \n",
    "    # content = \"\"\n",
    "    # for p in bs.find_all(\"p\"):    # 본문이 p 태그에 있지 않은 경우도 있는지 확인 필요\n",
    "    #    content += \"\\n\" + p.text\n",
    "    \n",
    "    content = bs.find(\"body\").text\n",
    "    contents.append([mail[0], mail[1], content])"
   ]
  },
  {
   "cell_type": "code",
   "execution_count": 54,
   "metadata": {},
   "outputs": [],
   "source": [
    "# mail_lists와 contents를 파일로 저장\n",
    "import os\n",
    "\n",
    "path = \"../spam_mail\"\n",
    "if not os.path.exists(path):\n",
    "    os.makedirs(path)\n",
    "\n",
    "for _ in contents:\n",
    "    full_path = os.path.join(path, \"n-mail-\"+str(_[0])+\".txt\")    # 스팸메일은 \"n-spam-mail_id.txt\"\n",
    "    with open(full_path, \"w\") as f:\n",
    "        f.write(_[1])\n",
    "        f.write(_[2])"
   ]
  },
  {
   "cell_type": "markdown",
   "metadata": {},
   "source": [
    "### 스팸 메일 가져오기"
   ]
  },
  {
   "cell_type": "code",
   "execution_count": 55,
   "metadata": {},
   "outputs": [],
   "source": [
    "url = \"https://mail.naver.com/json/list/\"\n",
    "\n",
    "data = {\n",
    "    \"page\":1,             # 페이지 번호 지정\n",
    "    \"sortField\":1,\n",
    "    \"sortType\":0,\n",
    "    \"folderSN\":5,      # 스팸 메일함은 5\n",
    "    \"isUnread\":\"false\",\n",
    "    \"u\":\"itleader2\"\n",
    "}\n",
    "\n",
    "resp = session.post(content_url, content_data)    # resp는 JSON 형태"
   ]
  },
  {
   "cell_type": "code",
   "execution_count": 56,
   "metadata": {},
   "outputs": [
    {
     "data": {
      "text/plain": [
       "[[468,\n",
       "  '(광고) [선착순노하우공유!] 영어왕초보도 월500버는 엄마표 과외교사 양성과정 &amp; 비법노하우 (+ 추후 공무방 무자본 창업)'],\n",
       " [465,\n",
       "  '(광고) [선착순노하우공유!] 영어왕초보도 월500버는 엄마표 과외교사 양성과정 &amp; 비법노하우 (+ 추후 공무방 무자본 창업)'],\n",
       " [464,\n",
       "  '(광고) [선착순노하우공유!] 영어왕초보도 월500버는 엄마표 과외교사 양성과정 &amp; 비법노하우 (+ 추후 공무방 무자본 창업)'],\n",
       " [457, '우드워커 공동구매합니다.'],\n",
       " [456, '배송비만 내면 자투리 목재가 내손에'],\n",
       " [455, '우드워커 공동구매합니다.'],\n",
       " [454, '우드워커 공동구매합니다.'],\n",
       " [453, '우드워커 공동구매합니다.'],\n",
       " [452, '우드워커 공동구매합니다.'],\n",
       " [449, '(광고)국내 최정상 히트메이커 이단옆차기의 작곡 노하우를 알고싶다면!'],\n",
       " [448, '(광고)꿀팁! 사랑하는 사람에게 마음을 전하고 영화도 볼수있는 1+1 행사 진행 중!!']]"
      ]
     },
     "execution_count": 56,
     "metadata": {},
     "output_type": "execute_result"
    }
   ],
   "source": [
    "resp = session.post(url, data)\n",
    "\n",
    "mail_lists = list()\n",
    "\n",
    "for mail_list in resp.json().get(\"mailData\"):\n",
    "    mail_lists.append([mail_list.get(\"mailSN\"), mail_list.get(\"subject\")])\n",
    "\n",
    "mail_lists"
   ]
  },
  {
   "cell_type": "code",
   "execution_count": 57,
   "metadata": {},
   "outputs": [],
   "source": [
    "content_url = \"https://mail.naver.com/json/read/\"\n",
    "content_data = {\n",
    "    \"prevNextMail\":\"true\",\n",
    "    \"threadMail\":\"true\",\n",
    "    \"listScrollPosition\":0,\n",
    "    \"mailSN\":456,\n",
    "    \"previewMode\":2,\n",
    "    \"u\":\"itleader2\"\n",
    "}\n",
    "contents = list()\n",
    "\n",
    "for mail in mail_lists:\n",
    "    content_data[\"mailSN\"] = mail[0]\n",
    "    resp = session.post(content_url, content_data)\n",
    "    bs = BeautifulSoup(resp.json()[\"mailInfo\"][\"body\"], \"html.parser\")\n",
    "    \n",
    "    # content = \"\"\n",
    "    # for p in bs.find_all(\"p\"):    # 본문이 p 태그에 있지 않은 경우도 있는지 확인 필요\n",
    "    #    content += \"\\n\" + p.text\n",
    "    \n",
    "    content = bs.find(\"body\").text\n",
    "    contents.append([mail[0], mail[1], content])"
   ]
  },
  {
   "cell_type": "code",
   "execution_count": 58,
   "metadata": {},
   "outputs": [],
   "source": [
    "# mail_lists와 contents를 파일로 저장\n",
    "import os\n",
    "\n",
    "path = \"../spam_mail\"\n",
    "if not os.path.exists(path):\n",
    "    os.makedirs(path)\n",
    "\n",
    "for _ in contents:\n",
    "    full_path = os.path.join(path, \"n-spam-\"+str(_[0])+\".txt\")\n",
    "    with open(full_path, \"w\") as f:\n",
    "        f.write(_[1])\n",
    "        f.write(_[2])"
   ]
  },
  {
   "cell_type": "markdown",
   "metadata": {},
   "source": [
    "### 메일 본문을 HTML 형식으로 읽어오기"
   ]
  },
  {
   "cell_type": "markdown",
   "metadata": {},
   "source": [
    "- naver 메일 list 화면의 소스를 분석해보면,<br>\n",
    "  \"div.subject -> a.attr(href) : /read/popup/?nMailId=477\"를 찾을 수 있음\n",
    "- 위의 정보를 토대로, https://mail.naver.com/read/popup/?nMailId=477 에서 본문을 HTML 형태로 받을 수 있음\n",
    "- nMailId는 JSON으로 받은 mailSN을 지정하면 됨\n",
    "- response 결과는 html 페이지임"
   ]
  },
  {
   "cell_type": "code",
   "execution_count": 59,
   "metadata": {
    "scrolled": true
   },
   "outputs": [
    {
     "name": "stdout",
     "output_type": "stream",
     "text": [
      "자동 분류 기능으로 손쉽고 편리하게 메일을 분류하고 관리해보세요. 설정변경\n",
      "\n",
      "\t\t\t\t\t\t\tIP가 자주 변경되는 네트워크 환경에서 로그인하는 경우IP보안을 해제 후 이용하시기 바랍니다.\n",
      "\t\t\t\t\t\t\n",
      "동일한 자동분류 항목이 있습니다.이전항목을 삭제하고 현재 설정을 등록하시겠습니까?\n",
      "이미 받은 메일도 같이 이동 \n",
      "자동분류 500건이 모두 등록되어 추가할 수 없습니다.기존에 등록된 항목들을 정리하고 다시 등록해 주세요.\n",
      "이미 000개의 분류항목이 등록되어 0개의 항목만 추가 가능합니다. 추가할 항목을 다시 선택해 주세요.\n",
      "주고받은 메일은 현재 보고 있는 메일에 답장이나 전달로연관된 메일을 말합니다. 관련메일의 종류는 아래와 같습니다.\n",
      "동일한 주소에서 메일이 올 경우 카드사(으)로 계속 이동하시겠습니까?\n",
      "이미 받은 메일도 같이 이동 \n",
      "\n",
      "메일 수신차단\n",
      "※ 스팸 신고된 메일은 스팸유형 분석에 활용됩니다.\n",
      "※ 영구 삭제한 메일은 복구할 수 없습니다.\n",
      "\n",
      "스팸메일로 의심되면 스팸메일함으로 자동 이동\n",
      "\n",
      "\n",
      " 다음부터 보지 않음\n",
      "\n",
      "\n",
      "관련 도움말 보기\n",
      "\n",
      "\n",
      "선택한 메일은 받은메일함으로 이동되었습니다.\n",
      "\t\t\t\t\t이후 수신되는 메일은 스마트메일함 분류 정보에 따라 자동청구서함, 쇼핑·뉴스메일함, SNS알림함, 카페메일함으로 자동 분류됩니다.\n",
      "\t\t\t\t\n",
      "\n",
      "\n",
      "\t\t\t\t\t\t스마트메일함 분류정보 자세히 보기\n",
      "\t\t\t\t\t\n",
      "\n",
      " testtest@naver.com 메일 주소를 수신차단 목록에 추가하시겠습니까?\n",
      "\n",
      "\n",
      "\t\t\t\t실패된 파일과 사유는 아래와 같습니다.\n",
      "\t\t\t\n",
      "\n",
      "\t\t\t\t\t[환경설정] > [쓰기 설정] > '답장받을 메일 주소'에 이메일주소가 아닌 값이 등록되어 있습니다. [확인]을 클릭하면 [쓰기 설정]으로 이동합니다.\n",
      "\n",
      "이 사람이 보낸 메일을 다음 메일함으로 이동\n",
      "\n",
      "기존 메일함으로 이동\n",
      "\n",
      "\n",
      "이동할 메일함\n",
      "\n",
      "\n",
      "\n",
      "\n",
      "\n",
      "새 메일함에 저장\n",
      "새 메일함의 이름 입력\n",
      "\n",
      "\n",
      "기존 메일도 이동하기\n",
      "\n",
      "\n",
      "\n",
      "분류 추가 설정저장\n",
      "\t\t\t\t\t\t\n",
      "\n",
      "\n",
      "\n",
      "분류 추가 설정취소\n",
      "\t\t\t\t\t\t\n",
      "\n",
      "\n",
      "[주의] 문구는 \"사칭 메일\"에 대해 메일 수신자를 보호하기 위함입니다. 발송자는 보이는 계정으로 메일을 보냈다고 하지만 실제로는 해당 발송서버를 통해 발송되지 않았습니다.\n",
      "프로그램을 이용한 자동 발송을 방지하기 위해서 보안절차를 거치고 있습니다.해당 메일은 임시보관함에 자동으로 보관됩니다.\n",
      "문자/숫자를 보이는 순서대로 모두 입력 후 보내기를 눌러주세요.\n",
      "\n"
     ]
    }
   ],
   "source": [
    "get_url = \"https://mail.naver.com/read/popup/?nMailId=\"\n",
    "nMailId = \"477\"\n",
    "\n",
    "html = session.get(get_url + nMailId)\n",
    "\n",
    "bs = BeautifulSoup(html.text, \"html.parser\")\n",
    "for p in bs.find_all(\"p\"):    # 본문이 p 태그에 있지 않은 경우도 있는지 확인 필요\n",
    "    print(p.text)"
   ]
  },
  {
   "cell_type": "code",
   "execution_count": null,
   "metadata": {},
   "outputs": [],
   "source": []
  },
  {
   "cell_type": "code",
   "execution_count": null,
   "metadata": {},
   "outputs": [],
   "source": []
  }
 ],
 "metadata": {
  "kernelspec": {
   "display_name": "Python 3",
   "language": "python",
   "name": "python3"
  },
  "language_info": {
   "codemirror_mode": {
    "name": "ipython",
    "version": 3
   },
   "file_extension": ".py",
   "mimetype": "text/x-python",
   "name": "python",
   "nbconvert_exporter": "python",
   "pygments_lexer": "ipython3",
   "version": "3.7.1"
  },
  "latex_envs": {
   "LaTeX_envs_menu_present": true,
   "autoclose": false,
   "autocomplete": true,
   "bibliofile": "biblio.bib",
   "cite_by": "apalike",
   "current_citInitial": 1,
   "eqLabelWithNumbers": true,
   "eqNumInitial": 1,
   "hotkeys": {
    "equation": "Ctrl-E",
    "itemize": "Ctrl-I"
   },
   "labels_anchors": false,
   "latex_user_defs": false,
   "report_style_numbering": false,
   "user_envs_cfg": false
  },
  "toc": {
   "base_numbering": 1,
   "nav_menu": {},
   "number_sections": false,
   "sideBar": true,
   "skip_h1_title": false,
   "title_cell": "Table of Contents",
   "title_sidebar": "Contents",
   "toc_cell": true,
   "toc_position": {},
   "toc_section_display": true,
   "toc_window_display": false
  }
 },
 "nbformat": 4,
 "nbformat_minor": 2
}
