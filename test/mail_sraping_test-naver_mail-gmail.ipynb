{
 "cells": [
  {
   "cell_type": "markdown",
   "metadata": {
    "toc": true
   },
   "source": [
    "<h1>Table of Contents<span class=\"tocSkip\"></span></h1>\n",
    "<div class=\"toc\"><ul class=\"toc-item\"><li><span><a href=\"#gmail-...\" data-toc-modified-id=\"gmail-...-1\">gmail ...</a></span></li><li><span><a href=\"#naver-mail\" data-toc-modified-id=\"naver-mail-2\">naver mail</a></span><ul class=\"toc-item\"><li><span><a href=\"#로그인-세션(쿠기)-정보-가져오기\" data-toc-modified-id=\"로그인-세션(쿠기)-정보-가져오기-2.1\">로그인 세션(쿠기) 정보 가져오기</a></span></li><li><span><a href=\"#메일함-리스트-가져오기\" data-toc-modified-id=\"메일함-리스트-가져오기-2.2\">메일함 리스트 가져오기</a></span></li><li><span><a href=\"#메일-본문-가져오기\" data-toc-modified-id=\"메일-본문-가져오기-2.3\">메일 본문 가져오기</a></span></li><li><span><a href=\"#스팸메일-리스트와-본문-전체-가져오기\" data-toc-modified-id=\"스팸메일-리스트와-본문-전체-가져오기-2.4\">스팸메일 리스트와 본문 전체 가져오기</a></span></li><li><span><a href=\"#다른-방법으로-메일-본문-읽어오기\" data-toc-modified-id=\"다른-방법으로-메일-본문-읽어오기-2.5\">다른 방법으로 메일 본문 읽어오기</a></span></li></ul></li></ul></div>"
   ]
  },
  {
   "cell_type": "markdown",
   "metadata": {},
   "source": [
    "### gmail ..."
   ]
  },
  {
   "cell_type": "code",
   "execution_count": 1,
   "metadata": {},
   "outputs": [],
   "source": [
    "import os\n",
    "import sys\n",
    "sys.path.append(os.path.abspath(os.path.join('..')))"
   ]
  },
  {
   "cell_type": "code",
   "execution_count": 2,
   "metadata": {},
   "outputs": [],
   "source": [
    "from functions.download import get_download"
   ]
  },
  {
   "cell_type": "code",
   "execution_count": 3,
   "metadata": {},
   "outputs": [],
   "source": [
    "from selenium import webdriver"
   ]
  },
  {
   "cell_type": "code",
   "execution_count": 4,
   "metadata": {},
   "outputs": [],
   "source": [
    "from bs4 import BeautifulSoup"
   ]
  },
  {
   "cell_type": "code",
   "execution_count": 40,
   "metadata": {},
   "outputs": [],
   "source": [
    "driver = webdriver.Chrome(\"/Users/alex/Documents/ai/NLP/nlp_ipa/chromedriver\")"
   ]
  },
  {
   "cell_type": "code",
   "execution_count": 41,
   "metadata": {},
   "outputs": [],
   "source": [
    "# google mail 접속\n",
    "url = \"https://gmail.google.com\"\n",
    "driver.get(url)"
   ]
  },
  {
   "cell_type": "code",
   "execution_count": 42,
   "metadata": {},
   "outputs": [],
   "source": [
    "# 로그인 과정 생략\n",
    "driver.find_element_by_id(\"identifierId\").clear()\n",
    "driver.find_element_by_id(\"identifierId\").send_keys(\"cloudallera\")\n",
    "driver.find_element_by_id(\"identifierNext\").click()"
   ]
  },
  {
   "cell_type": "code",
   "execution_count": 52,
   "metadata": {},
   "outputs": [],
   "source": [
    "# elem = login_wait.until(EC.visibility_of_element_located((By.CLASS_NAME, 'input_password'))) \n",
    "# driver.find_element_by_id(\"password\").clear()\n",
    "# driver.find_element_by_id(\"password\").send_keys(\"password\")\n",
    "# driver.find_element_by_id(\"passwordNext\").click()"
   ]
  },
  {
   "cell_type": "code",
   "execution_count": 11,
   "metadata": {},
   "outputs": [],
   "source": [
    "# 받은메일함으로 이동\n",
    "inbox_url = \"https://mail.google.com/mail/u/0/#inbox\"\n",
    "driver.get(inbox_url)"
   ]
  },
  {
   "cell_type": "code",
   "execution_count": 13,
   "metadata": {},
   "outputs": [],
   "source": [
    "# 스펨메일함으로 이동\n",
    "spam_url = \"https://mail.google.com/mail/u/0/#spam\"\n",
    "driver.get(spam_url)"
   ]
  },
  {
   "cell_type": "code",
   "execution_count": 208,
   "metadata": {},
   "outputs": [],
   "source": [
    "# for tr in driver.find_elements_by_xpath(\"//table//tr\"):\n",
    "#     for title in tr.find_elements_by_xpath(\"//span[@class='zF']\"):\n",
    "#         print(title.text)\n",
    "        \n",
    "#     break\n",
    "    #print(tr.find_element_by_xpath(\"//div\").text)  # [@id='lj']\n"
   ]
  },
  {
   "cell_type": "code",
   "execution_count": 18,
   "metadata": {
    "scrolled": true
   },
   "outputs": [
    {
     "data": {
      "text/plain": [
       "<selenium.webdriver.remote.webelement.WebElement (session=\"c3dec778e38a90bbaddaed3087f69d75\", element=\"0.5847767451755448-1\")>"
      ]
     },
     "execution_count": 18,
     "metadata": {},
     "output_type": "execute_result"
    }
   ],
   "source": [
    "spam"
   ]
  },
  {
   "cell_type": "code",
   "execution_count": null,
   "metadata": {},
   "outputs": [],
   "source": []
  },
  {
   "cell_type": "code",
   "execution_count": null,
   "metadata": {},
   "outputs": [],
   "source": []
  },
  {
   "cell_type": "code",
   "execution_count": null,
   "metadata": {},
   "outputs": [],
   "source": []
  },
  {
   "cell_type": "code",
   "execution_count": null,
   "metadata": {},
   "outputs": [],
   "source": []
  },
  {
   "cell_type": "code",
   "execution_count": null,
   "metadata": {},
   "outputs": [],
   "source": []
  },
  {
   "cell_type": "markdown",
   "metadata": {},
   "source": [
    "### naver mail"
   ]
  },
  {
   "cell_type": "markdown",
   "metadata": {},
   "source": [
    "- 로그인 과정, 동적으로 변하는 컨텐츠 등을 받기 위해서는 selenium 같은 패키지 사용 필요\n",
    "- naver mail은 쿠키 정보를 획득하기 위해 selenium이 필요하지만, <br>\n",
    "   실제 컨텐츠를 가져오는 과정은 selenium에서 획득한 쿠키 정보만 사용해서 직접 접근 가능함"
   ]
  },
  {
   "cell_type": "markdown",
   "metadata": {},
   "source": [
    "#### 로그인 세션(쿠기) 정보 가져오기"
   ]
  },
  {
   "cell_type": "code",
   "execution_count": 54,
   "metadata": {},
   "outputs": [],
   "source": [
    "import json\n",
    "import requests\n",
    "from selenium import webdriver\n",
    "\n",
    "driver = webdriver.Chrome(\"/Users/alex/Documents/ai/NLP/nlp_ipa/chromedriver\")"
   ]
  },
  {
   "cell_type": "code",
   "execution_count": 76,
   "metadata": {},
   "outputs": [],
   "source": [
    "# naver mail URL\n",
    "# 메일 접속 시도 시 나타나는 실제 로그인 URL\n",
    "# url = \"https://nid.naver.com/nidlogin.login?url=http%3A%2F%2Fmail.naver.com%2F\"\n",
    "naver_mail = \"https://mail.naver.com\""
   ]
  },
  {
   "cell_type": "code",
   "execution_count": 59,
   "metadata": {},
   "outputs": [],
   "source": [
    "# driver에서 오픈 한 창에서 로그린 해야 쿠키 정보를 사용할 수 있음\n",
    "# 쿠키 정보를 획득한 이후에는 selenium을 사용하지 않고 직접 접근할 수 있음\n",
    "driver.get(naver_mail)"
   ]
  },
  {
   "cell_type": "code",
   "execution_count": 164,
   "metadata": {},
   "outputs": [],
   "source": [
    "# driver에서 오픈 한 창에서 수동으로 로그인\n",
    "\n"
   ]
  },
  {
   "cell_type": "code",
   "execution_count": 175,
   "metadata": {},
   "outputs": [],
   "source": [
    "session = requests.Session()\n",
    "cookies = driver.get_cookies()\n",
    "\n",
    "for cookie in cookies:\n",
    "    session.cookies.set(cookie[\"name\"], cookie[\"value\"])"
   ]
  },
  {
   "cell_type": "code",
   "execution_count": 176,
   "metadata": {
    "scrolled": true
   },
   "outputs": [
    {
     "data": {
      "text/plain": [
       "<RequestsCookieJar[Cookie(version=0, name='NID_AUT', value='lTYeioFDFbZmlUmF6DCDbWDUPV24y1fmMIT70GB91bMHzQ+hI0+3uq6H1eR1aEMv', port=None, port_specified=False, domain='', domain_specified=False, domain_initial_dot=False, path='/', path_specified=True, secure=False, expires=None, discard=True, comment=None, comment_url=None, rest={'HttpOnly': None}, rfc2109=False), Cookie(version=0, name='NID_JKL', value='FUZhNYYMdbc/LUhblJRRkwonKljjpzd3TrfS4aWIPPs=', port=None, port_specified=False, domain='', domain_specified=False, domain_initial_dot=False, path='/', path_specified=True, secure=False, expires=None, discard=True, comment=None, comment_url=None, rest={'HttpOnly': None}, rfc2109=False), Cookie(version=0, name='NID_SES', value='AAABmc37wIYZpU/H4DqgYXHeCbM8mFZBmm9H8ufosgUeH0pvy+AZyeunlC3y9SpYLUlmqaFkQ2GiONETh1E1/q+l758JhEEcp0u0hYw4HDguZ8yb0cXjlD+1WPXBse0/90BU300H9UX82/ETRqYn9Ii0Vvs70lzMMA+P8+Qx2K5XX0ltdx5q/A7Blomj6DmmtJz6zmr1FMxTG+rKgPgdRpEt2Olhfhz/DqIiqk4pLOcf3UYDrX4/J76NQ4pfzVUyMmd8+2lhSbDqJDVwhAxrhvV65x/C+UgAFQivB0iwtbPqROehHBHfPlumTOaGEoZpGH6aG6ineni6ITMUXdGLNe7kn0LyiwSOJ3KIwQkUpolxeEq3wGcWdl/xAELKJN/cmQIdY4zO8KwVmTxuI/rDvr9ZsX5L1u51Z9SL+WMR9brraPCT03H3VcZxxYaOnT9QQ9Ld9osBG7FaOksIz9jlagh5vttkNrhlRV9HBc8mtXJ+3X0zvyQOnxaCrV8WTckv13vrxorMC3ARdHYfJEmz6W4kPbi0QCf8vUyo7qjy8WyVBagq', port=None, port_specified=False, domain='', domain_specified=False, domain_initial_dot=False, path='/', path_specified=True, secure=False, expires=None, discard=True, comment=None, comment_url=None, rest={'HttpOnly': None}, rfc2109=False), Cookie(version=0, name='NMUSER', value='IZYdFxEwaqbsFouZKA2Z1B3np6JvpBUZaqu9FxtqFobwFq2sFxuZKAnmaqns3xnDKxEs6xRaaZnladUstoRVadUsadUs3ons1rejL9Us6xRVaqnD16lvpB2RFVl5WLl5MBp0bSloWrdnaAvmKARGW430DVdd7BF0Mre5pzJZDLl5WLl5MBp0bSloWrdnaAvmKAn=', port=None, port_specified=False, domain='', domain_specified=False, domain_initial_dot=False, path='/', path_specified=True, secure=False, expires=None, discard=True, comment=None, comment_url=None, rest={'HttpOnly': None}, rfc2109=False), Cookie(version=0, name='NNB', value='HUTQUMKYXGSVY', port=None, port_specified=False, domain='', domain_specified=False, domain_initial_dot=False, path='/', path_specified=True, secure=False, expires=None, discard=True, comment=None, comment_url=None, rest={'HttpOnly': None}, rfc2109=False), Cookie(version=0, name='nid_inf', value='1694805487', port=None, port_specified=False, domain='', domain_specified=False, domain_initial_dot=False, path='/', path_specified=True, secure=False, expires=None, discard=True, comment=None, comment_url=None, rest={'HttpOnly': None}, rfc2109=False), Cookie(version=0, name='npic', value='FHxZDugS0JPQc7ynpUByJlz1NeYlmiNGHGlBL32Z1XdFyzGBiGHFbctqr2zYUyXyCA==', port=None, port_specified=False, domain='', domain_specified=False, domain_initial_dot=False, path='/', path_specified=True, secure=False, expires=None, discard=True, comment=None, comment_url=None, rest={'HttpOnly': None}, rfc2109=False)]>"
      ]
     },
     "execution_count": 176,
     "metadata": {},
     "output_type": "execute_result"
    }
   ],
   "source": [
    "session.cookies"
   ]
  },
  {
   "cell_type": "markdown",
   "metadata": {},
   "source": [
    "#### 메일함 리스트 가져오기"
   ]
  },
  {
   "cell_type": "code",
   "execution_count": 177,
   "metadata": {},
   "outputs": [],
   "source": [
    "# 위의 세션 정보만 있으면, selenium을 사용하지 않고 직접 접근이 가능함\n",
    "# 검사 - Newrok 탭에서,\"?page\"로 시작하는 컨텐츠의 request url을 찾는다.\n",
    "# \"https://mail.naver.com/json/list/?page=1&sortField=1&sortType=0&folderSN=0&type=&isUnread=false&u=itleader2\"\n",
    "\n",
    "url = \"https://mail.naver.com/json/list/\"\n",
    "\n",
    "# folderSN이  메일함 번호 : 받은 메일함 0, 보낸 메일함 1, 임시 메일함 3, 휴지통 4, 스팸 메일함 5, 내게 쓴 메일함 6, 전체 메일함 -1, 수신 확인함 2(?)\n",
    "data = {\n",
    "    \"page\":1,\n",
    "    \"sortField\":1,\n",
    "    \"sortType\":0,\n",
    "    \"folderSN\":0,\n",
    "    \"isUnread\":\"false\",\n",
    "    \"u\":\"itleader2\"\n",
    "}"
   ]
  },
  {
   "cell_type": "code",
   "execution_count": 178,
   "metadata": {
    "scrolled": false
   },
   "outputs": [],
   "source": [
    "# resp = requests.post(url, data)   # session 정보가 없어서 접근 안됨\n",
    "# selenium으로 로그인 과정에 생성한 session 정보를 이용해 접근\n",
    "resp = session.post(url, data)\n",
    "# resp.text    # json 파일"
   ]
  },
  {
   "cell_type": "code",
   "execution_count": 179,
   "metadata": {},
   "outputs": [
    {
     "data": {
      "text/plain": [
       "{'mailSN': 457,\n",
       " 'folderSN': 0,\n",
       " 'folderName': None,\n",
       " 'iconType': 0,\n",
       " 'status': 2097152,\n",
       " 'from': {'name': '우드워커 - 취미 목공, DIY, 원목가구', 'email': 'navercafe@naver.com'},\n",
       " 'subject': '우드워커 공동구매합니다.',\n",
       " 'receivedTime': 1473212300,\n",
       " 'sentTime': 1473212300,\n",
       " 'size': 13315,\n",
       " 'attachCount': 0,\n",
       " 'iDomainEmail': 'itleader2@naver.com',\n",
       " 'priority': 3,\n",
       " 'securityLevel': None,\n",
       " 'reSend': False,\n",
       " 'color': '#ffffff',\n",
       " 'preview': '',\n",
       " 'mimeSN': '1473212300.286568.32303.318871',\n",
       " 'toList': [{'name': 'itleader2', 'email': 'itleader2@naver.com'}],\n",
       " 'spamType': None,\n",
       " 'attachInfo': [],\n",
       " 'threadId': '<1473212299931.13243.93756599@cvplowl34.nm>',\n",
       " 'bccList': [],\n",
       " 'receiveByBcc': False,\n",
       " 'threadCount': 0,\n",
       " 'unreadThreadCount': 0,\n",
       " 'firstLocatedTime': 1473212300,\n",
       " 'remindAt': 0,\n",
       " 'threadRemindAt': 0,\n",
       " 'threadRemindFlag': 0,\n",
       " 'category': 203,\n",
       " 'bigFile': False,\n",
       " 'toMe': True,\n",
       " 'statusHex': '200000',\n",
       " 'isDomainMail': False}"
      ]
     },
     "execution_count": 179,
     "metadata": {},
     "output_type": "execute_result"
    }
   ],
   "source": [
    "# resp.json()\n",
    "# mail list 1개 가져오기\n",
    "resp.json().get(\"mailData\").pop()"
   ]
  },
  {
   "cell_type": "code",
   "execution_count": 180,
   "metadata": {
    "scrolled": true
   },
   "outputs": [
    {
     "name": "stdout",
     "output_type": "stream",
     "text": [
      "477 네이버 메일 1차 휴면이 해지되어 메일을 받을 수 있습니다.\n",
      "476 네이버 아이디의 휴면이 해제되었습니다.\n",
      "475 네이버 아이디가 휴면 상태로 전환됩니다.\n",
      "473 안녕하세요. 민스뮤직 출판 관리자 입니다..\n",
      "472 개인정보 이용내역을 안내 드립니다.\n",
      "469 축하드려요 맥 쓰는 사람들 [구 맥북을 쓰는 사람들, 맥쓰사] 카페에 가입 되셨습니다.\n",
      "468 (광고) [선착순노하우공유!] 영어왕초보도 월500버는 엄마표 과외교사 양성과정 &amp; 비법노하우 (+ 추후 공무방 무자본 창업)\n",
      "466 네이버 메일 1차 휴면이 해지되어 메일을 수신받을 수 있습니다.\n",
      "465 (광고) [선착순노하우공유!] 영어왕초보도 월500버는 엄마표 과외교사 양성과정 &amp; 비법노하우 (+ 추후 공무방 무자본 창업)\n",
      "464 (광고) [선착순노하우공유!] 영어왕초보도 월500버는 엄마표 과외교사 양성과정 &amp; 비법노하우 (+ 추후 공무방 무자본 창업)\n",
      "463 축하드려요 통기타 배워보리 카페에 가입 되셨습니다.\n",
      "462 축하드려요 낭만의 통기타 카페에 가입 되셨습니다.\n",
      "461 축하드려요 이성식 기타교실 카페에 가입 되셨습니다.\n",
      "460 축하드려요 그랩더기타 [통기타/배우기/독학/동영상강좌/악보/동영상/강좌] 카페에 가입 되셨습니다.\n",
      "457 우드워커 공동구매합니다.\n"
     ]
    }
   ],
   "source": [
    "# 메일 번호와 제목 가져오기\n",
    "for mail_data in resp.json().get(\"mailData\"):\n",
    "    print(mail_data.get(\"mailSN\"), mail_data.get(\"subject\"))"
   ]
  },
  {
   "cell_type": "markdown",
   "metadata": {},
   "source": [
    "#### 메일 본문 가져오기"
   ]
  },
  {
   "cell_type": "code",
   "execution_count": 181,
   "metadata": {},
   "outputs": [],
   "source": [
    "# 메일 본문 가져오기\n",
    "# \"https://mail.naver.com/json/read/?charset=&prevNextMail=true&threadMail=true&listScrollPosition=0&mailSN=477&previewMode=2&u=itleader2\"\n",
    "\n",
    "content_url = \"https://mail.naver.com/json/read/\"\n",
    "content_data = {\n",
    "    \"prevNextMail\":\"true\",\n",
    "    \"threadMail\":\"true\",\n",
    "    \"listScrollPosition\":0,\n",
    "    \"mailSN\":477,\n",
    "    \"previewMode\":2,\n",
    "    \"u\":\"itleader2\"\n",
    "}"
   ]
  },
  {
   "cell_type": "code",
   "execution_count": 182,
   "metadata": {},
   "outputs": [],
   "source": [
    "resp = session.post(content_url, content_data)"
   ]
  },
  {
   "cell_type": "code",
   "execution_count": 183,
   "metadata": {
    "scrolled": false
   },
   "outputs": [
    {
     "name": "stdout",
     "output_type": "stream",
     "text": [
      "\n",
      "itleader2님의 메일이 휴면에서 메일 수신 가능 상태로 변경되었습니다.\n",
      "\n",
      "\n",
      "\t\t\t\t\t\t\t[2017.02.17] 부터 네이버 메일 1차 휴면 계정으로 전환되었다가\n",
      "\t\t\t\t\t\t\t네이버 로그인으로 인하여 휴면계정에서 일반계정으로 전환되었습니다.\n",
      "\t\t\t\t\t\t\t\n",
      "\t\t\t\t\t\t\n",
      "\n",
      "\t\t\t\t\t\t\t네이버 메일 휴면정책은 아래 내용을 참고해주세요.\n",
      "\t\t\t\t\t\t\n",
      "\n",
      "\t\t\t\t\t\t\t아이디만 등록하고 오랫동안 메일 서비스를 이용하지 않고, 메일함을 관리하지 않는 경우 해당 아이디로 많은 광고성 스팸메일이 수신되고, 저장됩니다. 이러한 대량의 광고성 스팸메일은 메일 서비스를 사용하는 유저들의 메일전송 시간이 느려지거나 이용 속도에 영향을 줄 수 있습니다. 이러한 이유로 네이버 메일 서비스는 좀 더 많은 사용자분들께 최적의 환경을 제공하기 위하여 휴면정책을 운영합니다.\n",
      "\t\t\t\t\t\t\n",
      "\n",
      "본 메일은 발신전용입니다. 궁금하신 점이나 불편한 사항은 고객센터에 문의해 주시기 바랍니다.\n",
      "\t\t\t\n",
      "\n",
      " copyright © NAVER corp. All Rights Reserved.\n",
      "\t\t\t\n"
     ]
    }
   ],
   "source": [
    "# resp.text\n",
    "# esp.json()\n",
    "# resp.json()[\"mailInfo\"][\"body\"]\n",
    "bs = BeautifulSoup(resp.json()[\"mailInfo\"][\"body\"], \"html.parser\")\n",
    "for p in bs.find_all(\"p\"):\n",
    "    print(p.text)"
   ]
  },
  {
   "cell_type": "markdown",
   "metadata": {},
   "source": [
    "#### 스팸메일 리스트와 본문 전체 가져오기"
   ]
  },
  {
   "cell_type": "code",
   "execution_count": 204,
   "metadata": {},
   "outputs": [],
   "source": [
    "url = \"https://mail.naver.com/json/list/\"\n",
    "\n",
    "# folderSN이  메일함 번호 : 받은 메일함 0, 보낸 메일함 1, 임시 메일함 3, 휴지통 4, 스팸 메일함 5, 내게 쓴 메일함 6, 전체 메일함 -1, 수신 확인함 2(?)\n",
    "data = {\n",
    "    \"page\":1,\n",
    "    \"sortField\":1,\n",
    "    \"sortType\":0,\n",
    "    \"folderSN\":0,           # 스팸 메일함은 5로 변경 => 현재 스팸 메일이 없어서, 받은 메일함 가져고기\n",
    "    \"isUnread\":\"false\",\n",
    "    \"u\":\"itleader2\"\n",
    "}"
   ]
  },
  {
   "cell_type": "code",
   "execution_count": 205,
   "metadata": {},
   "outputs": [
    {
     "data": {
      "text/plain": [
       "[[477, '네이버 메일 1차 휴면이 해지되어 메일을 받을 수 있습니다.'],\n",
       " [476, '네이버 아이디의 휴면이 해제되었습니다.'],\n",
       " [475, '네이버 아이디가 휴면 상태로 전환됩니다.'],\n",
       " [473, '안녕하세요. 민스뮤직 출판 관리자 입니다..'],\n",
       " [472, '개인정보 이용내역을 안내 드립니다.'],\n",
       " [469, '축하드려요 맥 쓰는 사람들 [구 맥북을 쓰는 사람들, 맥쓰사] 카페에 가입 되셨습니다.'],\n",
       " [468,\n",
       "  '(광고) [선착순노하우공유!] 영어왕초보도 월500버는 엄마표 과외교사 양성과정 &amp; 비법노하우 (+ 추후 공무방 무자본 창업)'],\n",
       " [466, '네이버 메일 1차 휴면이 해지되어 메일을 수신받을 수 있습니다.'],\n",
       " [465,\n",
       "  '(광고) [선착순노하우공유!] 영어왕초보도 월500버는 엄마표 과외교사 양성과정 &amp; 비법노하우 (+ 추후 공무방 무자본 창업)'],\n",
       " [464,\n",
       "  '(광고) [선착순노하우공유!] 영어왕초보도 월500버는 엄마표 과외교사 양성과정 &amp; 비법노하우 (+ 추후 공무방 무자본 창업)'],\n",
       " [463, '축하드려요 통기타 배워보리 카페에 가입 되셨습니다.'],\n",
       " [462, '축하드려요 낭만의 통기타 카페에 가입 되셨습니다.'],\n",
       " [461, '축하드려요 이성식 기타교실 카페에 가입 되셨습니다.'],\n",
       " [460, '축하드려요 그랩더기타 [통기타/배우기/독학/동영상강좌/악보/동영상/강좌] 카페에 가입 되셨습니다.'],\n",
       " [457, '우드워커 공동구매합니다.']]"
      ]
     },
     "execution_count": 205,
     "metadata": {},
     "output_type": "execute_result"
    }
   ],
   "source": [
    "resp = session.post(url, data)\n",
    "\n",
    "mail_lists = list()\n",
    "\n",
    "for mail_list in resp.json().get(\"mailData\"):\n",
    "    mail_lists.append([mail_list.get(\"mailSN\"), mail_list.get(\"subject\")])\n",
    "\n",
    "mail_lists"
   ]
  },
  {
   "cell_type": "code",
   "execution_count": 189,
   "metadata": {},
   "outputs": [],
   "source": [
    "content_url = \"https://mail.naver.com/json/read/\"\n",
    "content_data = {\n",
    "    \"prevNextMail\":\"true\",\n",
    "    \"threadMail\":\"true\",\n",
    "    \"listScrollPosition\":0,\n",
    "    \"mailSN\":477,\n",
    "    \"previewMode\":2,\n",
    "    \"u\":\"itleader2\"\n",
    "}"
   ]
  },
  {
   "cell_type": "code",
   "execution_count": 202,
   "metadata": {
    "scrolled": true
   },
   "outputs": [],
   "source": [
    "contents = list()\n",
    "\n",
    "for mail in mails:\n",
    "    content_data[\"mailSN\"] = mail[0]\n",
    "    resp = session.post(content_url, content_data)\n",
    "    bs = BeautifulSoup(resp.json()[\"mailInfo\"][\"body\"], \"html.parser\")\n",
    "    \n",
    "    # content = \"\"\n",
    "    # for p in bs.find_all(\"p\"):    # 본문이 p 태그에 있지 않은 경우도 있는지 확인 필요\n",
    "    #    content += \"\\n\" + p.text\n",
    "    \n",
    "    content = bs.find(\"body\").text\n",
    "    contents.append([mail[0], content])"
   ]
  },
  {
   "cell_type": "code",
   "execution_count": 203,
   "metadata": {},
   "outputs": [
    {
     "data": {
      "text/plain": [
       "[473,\n",
       " '\\n\\n\\n\\n\\n전체 멤버 메일\\n\\n\\n안녕하세요. 민스뮤직 출판 관리자 입니다..새해가 시작한지 3일이 되었네요... \\n\\n카페회원님들 모두 올 한해 하시는 일 모두 잘 되시고 즐거운 통기타 연주 하시길 바랍니다...\\n\\n이렇게 전체 메일을 보내는 이유는 \"낭만의 통기타/초급\"의 박해민 선생님께서 부득이 개인적인 \\n\\n사정으로 인해 낭만의 통기타에서 하차를 하셔야 하기에 이렇게 알려드립니다..\\n\\n정말 우리나라 최고의 통기타 레슨 선생님이신데 이렇게 낭만의 통기타를 떠나게 되어 많이 \\n\\n아쉽지만 또 다시 돌아오시거라 믿고 기다립니다. = \"통기타 연주세상\" 가시면 보실수 있습니다.\\n\\n단... 그곳에서 \"낭만의 통기타\"라는 말을 사용하시면 안됩니다... \\n\\n--------------------------------------------------\\n\\n일단 박해민 선생님을 대신하여 이병용 선생님 오셔서 새로 진행합니다.  이분 역시 박해민 선생님과는\\n\\n오래전부터 문화센타,주민센터에서 단체 레슨을 같이 하셨던 분으로 소개 받았습니다.\\n\\n이번에 책이 개정판으로 바뀌면서 조금의 수정이 있었는데 차분히 책 수정과 레슨 영상 작업을 하여서 \\n\\n대단히 만족스러우며 실력 있으신 선생님이시네요.\\n\\n--------------------------------------------------\\n이번에 낭만의 통기타/초급 개정판은 기존의 책에서 몇가지 보완했습니다.\\n\\n1. 악보 오류를 수정하였습니다.\\n2. 내용 부분에서 오타 수정과 그림을 재배치와 크게 만들었습니다.\\n3. 표지 뒤에 코드를 구입하여 책이 펴지면 바로 왼쪽에 코드를 볼 수 있도록 인쇄하였습니다.\\n4. 통기타 초보가 가져야 할 연습의 포인트등을 새로 기입하여 집중 있게 연습하도록 만들었습니다.\\n5. 교본 내지의 종이를 기존에 비해 뚜꺼운것을 사용하여 뒷 비침이 없으며 보다 선명하게 글과 악보를 \\n   보실수 있습니다..\\n\\n감사합니다...  이제 바쁜 작업을 마쳤으니 보다 좋은 카페를 위해 자료를 계속 올리겠습니다.\\n\\n다시 한번...중급에 박해민 선생님이 오실걸 기대해 보며 이만 글을 마침니다.\\n\\n감기 조심하시고 항상 즐거운 음악하세요..\\n민스뮤직 관리자.... \\n\\n\\n낭만의 통기타 드림http://cafe.naver.com/guitarforromance\\n\\n\\n본 메일은 발신전용 입니다. 네이버 서비스관련 궁금하신 사항은 네이버 고객센터에서 확인해주세요.Copyright ⓒ NAVER Corp. All Rights Reserved.\\n\\n\\n\\n\\n\\nCafe: 낭만의 통기타\\nSubject: 안녕하세요. 민스뮤직 출판 관리자 입니다..\\nMessage: 새해가 시작한지 3일이 되었네요... \\n\\n카페회원님들 모두 올 한해 하시는 일 모두 잘 되시고 즐거운 통기타 연주 하시길 바랍니다...\\n\\n이렇게 전체 메일을 보내는 이유는 \"낭만의 통기타/초급\"의 박해민 선생님께서 부득이 개인적인 \\n\\n사정으로 인해 낭만의 통기타에서 하차를 하셔야 하기에 이렇게 알려드립니다..\\n\\n정말 우리나라 최고의 통기타 레슨 선생님이신데 이렇게 낭만의 통기타를 떠나게 되어 많이 \\n\\n아쉽지만 또 다시 돌아오시거라 믿고 기다립니다. = \"통기타 연주세상\" 가시면 보실수 있습니다.\\n\\n단... 그곳에서 \"낭만의 통기타\"라는 말을 사용하시면 안됩니다... \\n\\n--------------------------------------------------\\n\\n일단 박해민 선생님을 대신하여 이병용 선생님 오셔서 새로 진행합니다.  이분 역시 박해민 선생님과는\\n\\n오래전부터 문화센타,주민센터에서 단체 레슨을 같이 하셨던 분으로 소개 받았습니다.\\n\\n이번에 책이 개정판으로 바뀌면서 조금의 수정이 있었는데 차분히 책 수정과 레슨 영상 작업을 하여서 \\n\\n대단히 만족스러우며 실력 있으신 선생님이시네요.\\n\\n--------------------------------------------------\\n이번에 낭만의 통기타/초급 개정판은 기존의 책에서 몇가지 보완했습니다.\\n\\n1. 악보 오류를 수정하였습니다.\\n2. 내용 부분에서 오타 수정과 그림을 재배치와 크게 만들었습니다.\\n3. 표지 뒤에 코드를 구입하여 책이 펴지면 바로 왼쪽에 코드를 볼 수 있도록 인쇄하였습니다.\\n4. 통기타 초보가 가져야 할 연습의 포인트등을 새로 기입하여 집중 있게 연습하도록 만들었습니다.\\n5. 교본 내지의 종이를 기존에 비해 뚜꺼운것을 사용하여 뒷 비침이 없으며 보다 선명하게 글과 악보를 \\n   보실수 있습니다..\\n\\n감사합니다...  이제 바쁜 작업을 마쳤으니 보다 좋은 카페를 위해 자료를 계속 올리겠습니다.\\n\\n다시 한번...중급에 박해민 선생님이 오실걸 기대해 보며 이만 글을 마침니다.\\n\\n감기 조심하시고 항상 즐거운 음악하세요..\\n민스뮤직 관리자.... \\n\\n\\n\\n']"
      ]
     },
     "execution_count": 203,
     "metadata": {},
     "output_type": "execute_result"
    }
   ],
   "source": [
    "contents[3]"
   ]
  },
  {
   "cell_type": "code",
   "execution_count": 207,
   "metadata": {},
   "outputs": [],
   "source": [
    "# mail_lists와 contents를 파일로 저장\n"
   ]
  },
  {
   "cell_type": "markdown",
   "metadata": {},
   "source": [
    "#### 다른 방법으로 메일 본문 읽어오기"
   ]
  },
  {
   "cell_type": "markdown",
   "metadata": {},
   "source": [
    "- naver 메일 list 화면의 소스를 분석해보면,<br>\n",
    "  \"div.subject -> a.attr(href) : /read/popup/?nMailId=477\"를 찾을 수 있음\n",
    "- 위의 정보를 토대로, https://mail.naver.com/read/popup/?nMailId=477 에서 본문을 직접 접근 가능함\n",
    "- nMailId는 JSON으로 받은 mailSN을 지정하면 됨\n",
    "- response 결과는 html 페이지임"
   ]
  },
  {
   "cell_type": "code",
   "execution_count": 222,
   "metadata": {
    "scrolled": true
   },
   "outputs": [
    {
     "name": "stdout",
     "output_type": "stream",
     "text": [
      "자동 분류 기능으로 손쉽고 편리하게 메일을 분류하고 관리해보세요. 설정변경\n",
      "\n",
      "\t\t\t\t\t\t\tIP가 자주 변경되는 네트워크 환경에서 로그인하는 경우IP보안을 해제 후 이용하시기 바랍니다.\n",
      "\t\t\t\t\t\t\n",
      "동일한 자동분류 항목이 있습니다.이전항목을 삭제하고 현재 설정을 등록하시겠습니까?\n",
      "이미 받은 메일도 같이 이동 \n",
      "자동분류 500건이 모두 등록되어 추가할 수 없습니다.기존에 등록된 항목들을 정리하고 다시 등록해 주세요.\n",
      "이미 000개의 분류항목이 등록되어 0개의 항목만 추가 가능합니다. 추가할 항목을 다시 선택해 주세요.\n",
      "주고받은 메일은 현재 보고 있는 메일에 답장이나 전달로연관된 메일을 말합니다. 관련메일의 종류는 아래와 같습니다.\n",
      "동일한 주소에서 메일이 올 경우 카드사(으)로 계속 이동하시겠습니까?\n",
      "이미 받은 메일도 같이 이동 \n",
      "\n",
      "메일 수신차단\n",
      "※ 스팸 신고된 메일은 스팸유형 분석에 활용됩니다.\n",
      "※ 영구 삭제한 메일은 복구할 수 없습니다.\n",
      "\n",
      "스팸메일로 의심되면 스팸메일함으로 자동 이동\n",
      "\n",
      "\n",
      " 다음부터 보지 않음\n",
      "\n",
      "\n",
      "관련 도움말 보기\n",
      "\n",
      "\n",
      "선택한 메일은 받은메일함으로 이동되었습니다.\n",
      "\t\t\t\t\t이후 수신되는 메일은 스마트메일함 분류 정보에 따라 자동청구서함, 쇼핑·뉴스메일함, SNS알림함, 카페메일함으로 자동 분류됩니다.\n",
      "\t\t\t\t\n",
      "\n",
      "\n",
      "\t\t\t\t\t\t스마트메일함 분류정보 자세히 보기\n",
      "\t\t\t\t\t\n",
      "\n",
      " testtest@naver.com 메일 주소를 수신차단 목록에 추가하시겠습니까?\n",
      "\n",
      "\n",
      "\t\t\t\t실패된 파일과 사유는 아래와 같습니다.\n",
      "\t\t\t\n",
      "\n",
      "\t\t\t\t\t[환경설정] > [쓰기 설정] > '답장받을 메일 주소'에 이메일주소가 아닌 값이 등록되어 있습니다. [확인]을 클릭하면 [쓰기 설정]으로 이동합니다.\n",
      "\n",
      "이 사람이 보낸 메일을 다음 메일함으로 이동\n",
      "\n",
      "기존 메일함으로 이동\n",
      "\n",
      "\n",
      "이동할 메일함\n",
      "\n",
      "\n",
      "\n",
      "\n",
      "\n",
      "새 메일함에 저장\n",
      "새 메일함의 이름 입력\n",
      "\n",
      "\n",
      "기존 메일도 이동하기\n",
      "\n",
      "\n",
      "\n",
      "분류 추가 설정저장\n",
      "\t\t\t\t\t\t\n",
      "\n",
      "\n",
      "\n",
      "분류 추가 설정취소\n",
      "\t\t\t\t\t\t\n",
      "\n",
      "\n",
      "[주의] 문구는 \"사칭 메일\"에 대해 메일 수신자를 보호하기 위함입니다. 발송자는 보이는 계정으로 메일을 보냈다고 하지만 실제로는 해당 발송서버를 통해 발송되지 않았습니다.\n",
      "프로그램을 이용한 자동 발송을 방지하기 위해서 보안절차를 거치고 있습니다.해당 메일은 임시보관함에 자동으로 보관됩니다.\n",
      "문자/숫자를 보이는 순서대로 모두 입력 후 보내기를 눌러주세요.\n",
      "\n"
     ]
    }
   ],
   "source": [
    "get_url = \"https://mail.naver.com/read/popup/?nMailId=\"\n",
    "nMailId = \"477\"\n",
    "\n",
    "html = session.get(get_url + nMailId)\n",
    "\n",
    "bs = BeautifulSoup(html.text, \"html.parser\")\n",
    "for p in bs.find_all(\"p\"):    # 본문이 p 태그에 있지 않은 경우도 있는지 확인 필요\n",
    "    print(p.text)"
   ]
  },
  {
   "cell_type": "code",
   "execution_count": null,
   "metadata": {},
   "outputs": [],
   "source": []
  },
  {
   "cell_type": "code",
   "execution_count": null,
   "metadata": {},
   "outputs": [],
   "source": []
  }
 ],
 "metadata": {
  "kernelspec": {
   "display_name": "Python 3",
   "language": "python",
   "name": "python3"
  },
  "language_info": {
   "codemirror_mode": {
    "name": "ipython",
    "version": 3
   },
   "file_extension": ".py",
   "mimetype": "text/x-python",
   "name": "python",
   "nbconvert_exporter": "python",
   "pygments_lexer": "ipython3",
   "version": "3.7.1"
  },
  "toc": {
   "base_numbering": 1,
   "nav_menu": {},
   "number_sections": false,
   "sideBar": true,
   "skip_h1_title": false,
   "title_cell": "Table of Contents",
   "title_sidebar": "Contents",
   "toc_cell": true,
   "toc_position": {},
   "toc_section_display": true,
   "toc_window_display": false
  }
 },
 "nbformat": 4,
 "nbformat_minor": 2
}
