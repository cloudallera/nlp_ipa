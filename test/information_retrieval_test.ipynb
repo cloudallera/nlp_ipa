{
 "cells": [
  {
   "cell_type": "markdown",
   "metadata": {
    "toc": true
   },
   "source": [
    "<h1>Table of Contents<span class=\"tocSkip\"></span></h1>\n",
    "<div class=\"toc\"><ul class=\"toc-item\"><li><span><a href=\"#import\" data-toc-modified-id=\"import-1\">import</a></span></li><li><span><a href=\"#함수-체크\" data-toc-modified-id=\"함수-체크-2\">함수 체크</a></span><ul class=\"toc-item\"><li><span><a href=\"#get_lexicon()\" data-toc-modified-id=\"get_lexicon()-2.1\">get_lexicon()</a></span></li><li><span><a href=\"#get_tfidf_from_konlpy()\" data-toc-modified-id=\"get_tfidf_from_konlpy()-2.2\">get_tfidf_from_konlpy()</a></span></li><li><span><a href=\"#get_tfidf_from_nltk()\" data-toc-modified-id=\"get_tfidf_from_nltk()-2.3\">get_tfidf_from_nltk()</a></span></li><li><span><a href=\"#collection,-clean_collection\" data-toc-modified-id=\"collection,-clean_collection-2.4\">collection, clean_collection</a></span></li><li><span><a href=\"#Extend-Lexicon\" data-toc-modified-id=\"Extend-Lexicon-2.5\">Extend Lexicon</a></span></li></ul></li><li><span><a href=\"#inverted-index-with-tf\" data-toc-modified-id=\"inverted-index-with-tf-3\">inverted index with tf</a></span></li><li><span><a href=\"#dtm-tdm-twm\" data-toc-modified-id=\"dtm-tdm-twm-4\">dtm-tdm-twm</a></span></li><li><span><a href=\"#evaluate-idf\" data-toc-modified-id=\"evaluate-idf-5\">evaluate idf</a></span></li><li><span><a href=\"#numpy를-활용한-info_retrieval.py-성능-개선\" data-toc-modified-id=\"numpy를-활용한-info_retrieval.py-성능-개선-6\">numpy를 활용한 info_retrieval.py 성능 개선</a></span><ul class=\"toc-item\"><li><span><a href=\"#tf,-idf\" data-toc-modified-id=\"tf,-idf-6.1\">tf, idf</a></span></li><li><span><a href=\"#Query-...\" data-toc-modified-id=\"Query-...-6.2\">Query ...</a></span></li></ul></li></ul></div>"
   ]
  },
  {
   "cell_type": "markdown",
   "metadata": {},
   "source": [
    "## import"
   ]
  },
  {
   "cell_type": "code",
   "execution_count": 1,
   "metadata": {},
   "outputs": [],
   "source": [
    "import os\n",
    "import sys\n",
    "sys.path.append(os.path.abspath(os.path.join('..')))"
   ]
  },
  {
   "cell_type": "code",
   "execution_count": 2,
   "metadata": {},
   "outputs": [],
   "source": [
    "from functions import info_retrieval as ir\n",
    "from functions.info_retrieval import get_lexicon\n",
    "from functions.info_retrieval import get_tfidf_from_konlpy\n",
    "from functions.info_retrieval import get_tfidf_from_nltk\n",
    "from functions.info_retrieval import clean_collection\n",
    "from functions.info_retrieval import extend_lexicon\n",
    "from functions.info_retrieval import inverted_index_with_tf\n",
    "from functions.info_retrieval import get_tdm_from_dtm\n",
    "from functions.info_retrieval import tdm2twm\n",
    "from functions.info_retrieval import evaluate_idf"
   ]
  },
  {
   "cell_type": "code",
   "execution_count": 3,
   "metadata": {},
   "outputs": [],
   "source": [
    "from konlpy.corpus import kolaw\n",
    "from konlpy.tag import Okt\n",
    "from nltk.corpus import brown\n",
    "from nltk.tokenize import word_tokenize"
   ]
  },
  {
   "cell_type": "code",
   "execution_count": 4,
   "metadata": {},
   "outputs": [],
   "source": [
    "import numpy as np\n",
    "import pandas as pd"
   ]
  },
  {
   "cell_type": "markdown",
   "metadata": {},
   "source": [
    "## 함수 체크"
   ]
  },
  {
   "cell_type": "markdown",
   "metadata": {
    "heading_collapsed": true
   },
   "source": [
    "### get_lexicon()"
   ]
  },
  {
   "cell_type": "code",
   "execution_count": 5,
   "metadata": {
    "hidden": true
   },
   "outputs": [],
   "source": [
    "kobill_lexicon = get_lexicon()"
   ]
  },
  {
   "cell_type": "code",
   "execution_count": 6,
   "metadata": {
    "hidden": true,
    "scrolled": true
   },
   "outputs": [
    {
     "data": {
      "text/plain": [
       "array(['행정절차법', '일부개정법률안', '(유선호의원', '대표발의', ')', '의', '안', '번', '호',\n",
       "       '9896', '발의연월일', ':', '2010.', '11.', '15.', '발', '의', '자', ':',\n",
       "       '유선호․강기갑․김효석', '최문순ㆍ최재성ㆍ조영택', '김성곤ㆍ문학진ㆍ백재현', '송민순ㆍ양승조ㆍ신낙균',\n",
       "       '조배숙ㆍ박은수ㆍ정동영', '김춘진ㆍ김재윤ㆍ우윤근', '이성남ㆍ박영선', '의원', '(20인)', '제안이유',\n",
       "       '현행법은', '입법예고와', '행정예고를', '통하여', '정책', '결정', '과정에', '국민', '참',\n",
       "       '여의', '절차를', '규정하고', '있기는', '하나', '실제', '정책', '결정·집행·평가의', '단계',\n",
       "       '에서', '근본적인', '국민', '참여', '규정은', '거의', '없어', '위임입법에', '의하여', '정책',\n",
       "       '결정', '및', '집행', '권한이', '부여되는', '문제점이', '있음.', '따라서', '입법예고',\n",
       "       '이전의', '국민적', '협의절차와', '재입법예고', '규정', '등을', '신설하고,', '당사자', '등의',\n",
       "       '개념을', '명확히', '하여', '당사자의', '신청에', '의한', '청', '문의', '기회를', '보장하는',\n",
       "       '한편,', '법령상의', '일부', '미비점을', '개선․보완함으', '-', '1', '-', '-', '2',\n",
       "       '-', '로써', '실질적인', '국민', '참여의'], dtype='<U32')"
      ]
     },
     "execution_count": 6,
     "metadata": {},
     "output_type": "execute_result"
    }
   ],
   "source": [
    "kobill_lexicon[:100]"
   ]
  },
  {
   "cell_type": "code",
   "execution_count": 7,
   "metadata": {
    "hidden": true
   },
   "outputs": [],
   "source": [
    "kolaw_lexicon = get_lexicon(corpus=kolaw)"
   ]
  },
  {
   "cell_type": "code",
   "execution_count": 8,
   "metadata": {
    "hidden": true,
    "scrolled": true
   },
   "outputs": [
    {
     "data": {
      "text/plain": [
       "array(['대한민국헌법', '유구한', '역사와', '전통에', '빛나는', '우리', '대한국민은', '3·1운동으로',\n",
       "       '건립된', '대한민국임시정부의', '법통과', '불의에', '항거한', '4·19민주이념을', '계승하고,',\n",
       "       '조국의', '민주개혁과', '평화적', '통일의', '사명에', '입각하여', '정의·인도와', '동포애로써',\n",
       "       '민족의', '단결을', '공고히', '하고,', '모든', '사회적', '폐습과', '불의를', '타파하며,',\n",
       "       '자율과', '조화를', '바탕으로', '자유민주적', '기본질서를', '더욱', '확고히', '하여',\n",
       "       '정치·경제·사회·문화의', '모든', '영역에', '있어서', '각인의', '기회를', '균등히', '하고,',\n",
       "       '능력을', '최고도로', '발휘하게', '하며,', '자유와', '권리에', '따르는', '책임과', '의무를',\n",
       "       '완수하게', '하여,', '안으로는', '국민생활의', '균등한', '향상을', '기하고', '밖으로는',\n",
       "       '항구적인', '세계평화와', '인류공영에', '이바지함으로써', '우리들과', '우리들의', '자손의', '안전과',\n",
       "       '자유와', '행복을', '영원히', '확보할', '것을', '다짐하면서', '1948년', '7월', '12일에',\n",
       "       '제정되고', '8차에', '걸쳐', '개정된', '헌법을', '이제', '국회의', '의결을', '거쳐',\n",
       "       '국민투표에', '의하여', '개정한다.', '제1장', '총강', '제1조', '①', '대한민국은',\n",
       "       '민주공화국이다.'], dtype='<U32')"
      ]
     },
     "execution_count": 8,
     "metadata": {},
     "output_type": "execute_result"
    }
   ],
   "source": [
    "kolaw_lexicon[:100]"
   ]
  },
  {
   "cell_type": "markdown",
   "metadata": {
    "heading_collapsed": true
   },
   "source": [
    "### get_tfidf_from_konlpy()"
   ]
  },
  {
   "cell_type": "code",
   "execution_count": 9,
   "metadata": {
    "hidden": true,
    "scrolled": true
   },
   "outputs": [],
   "source": [
    "documents, vectorizer, tfidf = get_tfidf_from_konlpy()"
   ]
  },
  {
   "cell_type": "code",
   "execution_count": 10,
   "metadata": {
    "hidden": true
   },
   "outputs": [
    {
     "data": {
      "text/plain": [
       "array(['1809896.txt', '1809897.txt', '1809895.txt', '1809894.txt',\n",
       "       '1809890.txt', '1809891.txt', '1809893.txt', '1809892.txt',\n",
       "       '1809899.txt', '1809898.txt'], dtype='<U11')"
      ]
     },
     "execution_count": 10,
     "metadata": {},
     "output_type": "execute_result"
    }
   ],
   "source": [
    "documents"
   ]
  },
  {
   "cell_type": "code",
   "execution_count": 11,
   "metadata": {
    "hidden": true,
    "scrolled": true
   },
   "outputs": [
    {
     "data": {
      "text/plain": [
       "TfidfVectorizer(analyzer='word', binary=False, decode_error='strict',\n",
       "        dtype=<class 'numpy.float64'>, encoding='utf-8', input='content',\n",
       "        lowercase=True, max_df=1.0, max_features=None, min_df=1,\n",
       "        ngram_range=(1, 1), norm='l2', preprocessor=None, smooth_idf=True,\n",
       "        stop_words=None, strip_accents=None, sublinear_tf=False,\n",
       "        token_pattern='(?u)\\\\b\\\\w\\\\w+\\\\b',\n",
       "        tokenizer=<bound method Kkma.morphs of <konlpy.tag._kkma.Kkma object at 0x1a1ab83fd0>>,\n",
       "        use_idf=True, vocabulary=None)"
      ]
     },
     "execution_count": 11,
     "metadata": {},
     "output_type": "execute_result"
    }
   ],
   "source": [
    "vectorizer"
   ]
  },
  {
   "cell_type": "code",
   "execution_count": 12,
   "metadata": {
    "hidden": true
   },
   "outputs": [
    {
     "data": {
      "text/plain": [
       "array(['대하', '대학', '더', '더라', '더라도', '데', '델', '도', '도록', '도모', '독점',\n",
       "       '돌보', '동', '동반자', '동안', '동원', '동의', '동참', '되', '두', '둘째', '듣', '들',\n",
       "       '등', '등록', '등하교', '디자인', '따', '따뜻', '따라', '따르', '때', '때문', '또',\n",
       "       '또는', '또한', '라', '라고', '락', '란하', '람ㆍ', '략', '러하', '려', '려는', '력',\n",
       "       '련이', '령', '로', '로서', '로써', '록', '롭', '류', '른', '를', '리', '리트',\n",
       "       '린', '립하', '마', '마련', '마찰', '만', '만들', '많', '말하', '매년', '매매', '매우',\n",
       "       '며', '면', '면서', '면역', '명', '명백', '명시', '명이', '명하', '명확히', '모',\n",
       "       '모델', '모든', '목', '목적', '못', '무', '무부', '무원', '무정부', '무회', '문',\n",
       "       '문의', '문제', '문제점', '문학', '문화', '물론', '물자', '므로', '미', '미만', '미비점',\n",
       "       '미치', '민', '민간', '민사', '및', '바', '바레인', '바탕', '박', '박은수', '밖', '반',\n",
       "       '반려', '반영', '받', '발', '발생', '발의', '발전', '방과', '방문', '방법', '방산',\n",
       "       '방안', '방위', '방지', '방한', '배', '배경', '배상', '배상법', '배숙', '배타적', '백',\n",
       "       '백만', '백성', '백재', '번역본', '번호', '벌', '벌금', '벌칙', '범', '범위', '범죄',\n",
       "       '법', '법령', '법률', '법률안', '법리', '법무부', '법안', '법원', '법의', '법인', '법제',\n",
       "       '법제처', '변', '변경', '변론', '변수', '별', '별도', '병력', '병역법', '보', '보다',\n",
       "       '보살핌', '보상', '보여주', '보완', '보유', '보이', '보장', '보존', '보증', '보하', '보험',\n",
       "       '보험금', '보호', '보호법', '복', '복리', '본금', '본문', '본인', '부', '부과', '부담',\n",
       "       '부당', '부대', '부령', '부모', '부모님', '부문별', '부분', '부여', '부의', '부장', '부족',\n",
       "       '부터', '분', '분담', '분석', '분할', '불', '불공정', '불구', '불구하', '불량', '불법적',\n",
       "       '불편', '불필요', '비', '비대칭', '비례', '비상', '비용', '빈번', '사', '사단', '사람',\n",
       "       '사랑과', '사령관', '사례', '사무', '사무소', '사본', '사실', '사실상', '사업', '사업자',\n",
       "       '사업주', '사용', '사유', '사유서', '사이', '사전', '사정', '사항', '사회', '삭', '삭제',\n",
       "       '산정', '상', '상관없이', '상규', '상당', '상당수', '상대', '상대국', '상대방', '상부',\n",
       "       '상세', '상수', '상위', '상존', '상태', '상표법', '상향', '생', '생략', '생명', '생활',\n",
       "       '서', '서류', '서면', '서명', '서비스', '서상기', '석', '석호', '선', '선교', '선박',\n",
       "       '선발대', '선양', '선진', '선호', '설', '설치법', '성', '성가족', '성격', '성공적', '성남',\n",
       "       '성병', '성사', '성질', '성폭력', '성하', '세', '세로', '세부', '세심', '세의', '셋째',\n",
       "       '소', '소관', '소극적', '소말리', '소송', '소요', '소장', '소재', '소지', '소집', '속성',\n",
       "       '손', '손해', '손해액', '송', '수', '수ㆍ구청장', '수가', '수급', '수급자', '수당', '수렴',\n",
       "       '수리', '수립', '수반', '수식', '수업', '수여', '수역', '수출', '수행', '순', '순조',\n",
       "       '쉽', '승', '승수', '승인', '시', '시ㆍ도지사', '시기', '시설', '시장', '시장ㆍ군수ㆍ구청장',\n",
       "       '시정', '시키', '시행', '시험', '식', '신', '신고', '신상', '신설', '신청', '신청자',\n",
       "       '실', '실시', '실용신안', '실정', '실제', '실질적', '실태', '심', '심결', '심사', '심의',\n",
       "       '심화', '아', '아가', '아니', '아니하', '아동', '아랍', '아부', '아서', '아이', '안',\n",
       "       '안보', '안보리', '안이', '안전', '안전과', '안정적', '않', '알', '알선', '알아보', '애주',\n",
       "       '액', '야', '야기', '약', '양', '양국', '양립', '양육', '어', '어느', '어려움', '어른',\n",
       "       '어서', '어야', '어업', '억', '언어', '업', '업자', '업체', '없', '없애', '었', '에',\n",
       "       '에게', '에서', '여', '여가', '여건', '여기', '여부', '여서', '여성', '여액', '여야',\n",
       "       '여의', '여자', '여전히', '역', '연', '연감', '연락처', '연령', '연수생', '연수원', '연습',\n",
       "       '연월일', '연장', '연평균', '연한', '연합', '열', '열람', '엽', '영', '영선', '영아',\n",
       "       '영업', '영진', '영철', '영해', '영향', '영희', '예', '예고', '예고기', '예규', '예비군',\n",
       "       '예비역', '예산', '예산안', '예상', '예정', '오', '와', '완료', '외', '외교적', '외교통',\n",
       "       '외국', '외국인', '외의', '외형', '요건', '요구', '요약', '요인', '요청', '요하', '욕',\n",
       "       '용', '용례', '용어', '용을', '용의', '우', '우려', '우리', '우수성', '우위', '우윤',\n",
       "       '운', '운영', '운영비', '운용', '울', '원', '원법', '원사', '원하', '원희', '월',\n",
       "       '월급'], dtype='<U10')"
      ]
     },
     "execution_count": 12,
     "metadata": {},
     "output_type": "execute_result"
    }
   ],
   "source": [
    "lexicon_list = np.array(vectorizer.get_feature_names())\n",
    "lexicon_list[500:1000]"
   ]
  },
  {
   "cell_type": "code",
   "execution_count": 13,
   "metadata": {
    "hidden": true
   },
   "outputs": [],
   "source": [
    "# lexicon dictionary\n",
    "lexicon_dict = vectorizer.vocabulary_"
   ]
  },
  {
   "cell_type": "code",
   "execution_count": 14,
   "metadata": {
    "hidden": true
   },
   "outputs": [
    {
     "data": {
      "text/plain": [
       "(1486, 2)"
      ]
     },
     "execution_count": 14,
     "metadata": {},
     "output_type": "execute_result"
    }
   ],
   "source": [
    "# lexicon list에서 dictionary 만들기 (ndarray)\n",
    "lexicon_dict = np.array([[token, idx] for (idx, token) in enumerate(lexicon_list)])\n",
    "lexicon_dict.shape"
   ]
  },
  {
   "cell_type": "code",
   "execution_count": 15,
   "metadata": {
    "hidden": true
   },
   "outputs": [
    {
     "data": {
      "text/plain": [
       "(10, 1486)"
      ]
     },
     "execution_count": 15,
     "metadata": {},
     "output_type": "execute_result"
    }
   ],
   "source": [
    "df = pd.DataFrame(tfidf.toarray(), columns=lexicon_list, index=documents)\n",
    "df.shape"
   ]
  },
  {
   "cell_type": "code",
   "execution_count": 16,
   "metadata": {
    "hidden": true
   },
   "outputs": [
    {
     "data": {
      "text/html": [
       "<div>\n",
       "<style scoped>\n",
       "    .dataframe tbody tr th:only-of-type {\n",
       "        vertical-align: middle;\n",
       "    }\n",
       "\n",
       "    .dataframe tbody tr th {\n",
       "        vertical-align: top;\n",
       "    }\n",
       "\n",
       "    .dataframe thead th {\n",
       "        text-align: right;\n",
       "    }\n",
       "</style>\n",
       "<table border=\"1\" class=\"dataframe\">\n",
       "  <thead>\n",
       "    <tr style=\"text-align: right;\">\n",
       "      <th></th>\n",
       "      <th>1809896.txt</th>\n",
       "      <th>1809897.txt</th>\n",
       "      <th>1809895.txt</th>\n",
       "      <th>1809894.txt</th>\n",
       "      <th>1809890.txt</th>\n",
       "      <th>1809891.txt</th>\n",
       "      <th>1809893.txt</th>\n",
       "      <th>1809892.txt</th>\n",
       "      <th>1809899.txt</th>\n",
       "      <th>1809898.txt</th>\n",
       "    </tr>\n",
       "  </thead>\n",
       "  <tbody>\n",
       "    <tr>\n",
       "      <th>대하</th>\n",
       "      <td>0.020685</td>\n",
       "      <td>0.023462</td>\n",
       "      <td>0.015092</td>\n",
       "      <td>0.046666</td>\n",
       "      <td>0.003677</td>\n",
       "      <td>0.003714</td>\n",
       "      <td>0.003972</td>\n",
       "      <td>0.002777</td>\n",
       "      <td>0.001291</td>\n",
       "      <td>0.009378</td>\n",
       "    </tr>\n",
       "    <tr>\n",
       "      <th>대학</th>\n",
       "      <td>0.000000</td>\n",
       "      <td>0.000000</td>\n",
       "      <td>0.000000</td>\n",
       "      <td>0.063109</td>\n",
       "      <td>0.000000</td>\n",
       "      <td>0.000000</td>\n",
       "      <td>0.000000</td>\n",
       "      <td>0.000000</td>\n",
       "      <td>0.000000</td>\n",
       "      <td>0.000000</td>\n",
       "    </tr>\n",
       "    <tr>\n",
       "      <th>더</th>\n",
       "      <td>0.000000</td>\n",
       "      <td>0.000000</td>\n",
       "      <td>0.000000</td>\n",
       "      <td>0.000000</td>\n",
       "      <td>0.032877</td>\n",
       "      <td>0.033208</td>\n",
       "      <td>0.035516</td>\n",
       "      <td>0.024835</td>\n",
       "      <td>0.000000</td>\n",
       "      <td>0.000000</td>\n",
       "    </tr>\n",
       "    <tr>\n",
       "      <th>더라</th>\n",
       "      <td>0.000000</td>\n",
       "      <td>0.000000</td>\n",
       "      <td>0.000000</td>\n",
       "      <td>0.000000</td>\n",
       "      <td>0.006575</td>\n",
       "      <td>0.006642</td>\n",
       "      <td>0.007103</td>\n",
       "      <td>0.004967</td>\n",
       "      <td>0.000000</td>\n",
       "      <td>0.000000</td>\n",
       "    </tr>\n",
       "    <tr>\n",
       "      <th>더라도</th>\n",
       "      <td>0.000000</td>\n",
       "      <td>0.000000</td>\n",
       "      <td>0.000000</td>\n",
       "      <td>0.000000</td>\n",
       "      <td>0.006575</td>\n",
       "      <td>0.006642</td>\n",
       "      <td>0.007103</td>\n",
       "      <td>0.004967</td>\n",
       "      <td>0.000000</td>\n",
       "      <td>0.000000</td>\n",
       "    </tr>\n",
       "    <tr>\n",
       "      <th>데</th>\n",
       "      <td>0.000000</td>\n",
       "      <td>0.000000</td>\n",
       "      <td>0.000000</td>\n",
       "      <td>0.000000</td>\n",
       "      <td>0.000000</td>\n",
       "      <td>0.000000</td>\n",
       "      <td>0.010742</td>\n",
       "      <td>0.000000</td>\n",
       "      <td>0.000000</td>\n",
       "      <td>0.000000</td>\n",
       "    </tr>\n",
       "    <tr>\n",
       "      <th>델</th>\n",
       "      <td>0.000000</td>\n",
       "      <td>0.000000</td>\n",
       "      <td>0.000000</td>\n",
       "      <td>0.000000</td>\n",
       "      <td>0.005905</td>\n",
       "      <td>0.005965</td>\n",
       "      <td>0.006379</td>\n",
       "      <td>0.004461</td>\n",
       "      <td>0.000000</td>\n",
       "      <td>0.030123</td>\n",
       "    </tr>\n",
       "    <tr>\n",
       "      <th>도</th>\n",
       "      <td>0.003776</td>\n",
       "      <td>0.015419</td>\n",
       "      <td>0.016530</td>\n",
       "      <td>0.000000</td>\n",
       "      <td>0.016108</td>\n",
       "      <td>0.016270</td>\n",
       "      <td>0.017401</td>\n",
       "      <td>0.009126</td>\n",
       "      <td>0.004243</td>\n",
       "      <td>0.010271</td>\n",
       "    </tr>\n",
       "    <tr>\n",
       "      <th>도록</th>\n",
       "      <td>0.012514</td>\n",
       "      <td>0.000000</td>\n",
       "      <td>0.032869</td>\n",
       "      <td>0.016939</td>\n",
       "      <td>0.000000</td>\n",
       "      <td>0.000000</td>\n",
       "      <td>0.000000</td>\n",
       "      <td>0.004033</td>\n",
       "      <td>0.005625</td>\n",
       "      <td>0.006808</td>\n",
       "    </tr>\n",
       "    <tr>\n",
       "      <th>도모</th>\n",
       "      <td>0.007927</td>\n",
       "      <td>0.000000</td>\n",
       "      <td>0.000000</td>\n",
       "      <td>0.000000</td>\n",
       "      <td>0.000000</td>\n",
       "      <td>0.000000</td>\n",
       "      <td>0.009132</td>\n",
       "      <td>0.000000</td>\n",
       "      <td>0.000000</td>\n",
       "      <td>0.000000</td>\n",
       "    </tr>\n",
       "    <tr>\n",
       "      <th>독점</th>\n",
       "      <td>0.009325</td>\n",
       "      <td>0.000000</td>\n",
       "      <td>0.000000</td>\n",
       "      <td>0.000000</td>\n",
       "      <td>0.000000</td>\n",
       "      <td>0.000000</td>\n",
       "      <td>0.000000</td>\n",
       "      <td>0.000000</td>\n",
       "      <td>0.000000</td>\n",
       "      <td>0.000000</td>\n",
       "    </tr>\n",
       "    <tr>\n",
       "      <th>돌보</th>\n",
       "      <td>0.000000</td>\n",
       "      <td>0.000000</td>\n",
       "      <td>0.000000</td>\n",
       "      <td>0.000000</td>\n",
       "      <td>0.007396</td>\n",
       "      <td>0.007470</td>\n",
       "      <td>0.015979</td>\n",
       "      <td>0.000000</td>\n",
       "      <td>0.000000</td>\n",
       "      <td>0.000000</td>\n",
       "    </tr>\n",
       "    <tr>\n",
       "      <th>동</th>\n",
       "      <td>0.000000</td>\n",
       "      <td>0.000000</td>\n",
       "      <td>0.000000</td>\n",
       "      <td>0.000000</td>\n",
       "      <td>0.013151</td>\n",
       "      <td>0.013283</td>\n",
       "      <td>0.014206</td>\n",
       "      <td>0.009934</td>\n",
       "      <td>0.000000</td>\n",
       "      <td>0.000000</td>\n",
       "    </tr>\n",
       "    <tr>\n",
       "      <th>동반자</th>\n",
       "      <td>0.000000</td>\n",
       "      <td>0.012692</td>\n",
       "      <td>0.000000</td>\n",
       "      <td>0.000000</td>\n",
       "      <td>0.000000</td>\n",
       "      <td>0.000000</td>\n",
       "      <td>0.000000</td>\n",
       "      <td>0.000000</td>\n",
       "      <td>0.000000</td>\n",
       "      <td>0.000000</td>\n",
       "    </tr>\n",
       "    <tr>\n",
       "      <th>동안</th>\n",
       "      <td>0.000000</td>\n",
       "      <td>0.000000</td>\n",
       "      <td>0.000000</td>\n",
       "      <td>0.000000</td>\n",
       "      <td>0.000000</td>\n",
       "      <td>0.000000</td>\n",
       "      <td>0.000000</td>\n",
       "      <td>0.000000</td>\n",
       "      <td>0.003493</td>\n",
       "      <td>0.000000</td>\n",
       "    </tr>\n",
       "    <tr>\n",
       "      <th>동원</th>\n",
       "      <td>0.009325</td>\n",
       "      <td>0.000000</td>\n",
       "      <td>0.000000</td>\n",
       "      <td>0.000000</td>\n",
       "      <td>0.000000</td>\n",
       "      <td>0.000000</td>\n",
       "      <td>0.000000</td>\n",
       "      <td>0.000000</td>\n",
       "      <td>0.000000</td>\n",
       "      <td>0.000000</td>\n",
       "    </tr>\n",
       "    <tr>\n",
       "      <th>동의</th>\n",
       "      <td>0.000000</td>\n",
       "      <td>0.118682</td>\n",
       "      <td>0.000000</td>\n",
       "      <td>0.000000</td>\n",
       "      <td>0.000000</td>\n",
       "      <td>0.000000</td>\n",
       "      <td>0.000000</td>\n",
       "      <td>0.000000</td>\n",
       "      <td>0.000000</td>\n",
       "      <td>0.140150</td>\n",
       "    </tr>\n",
       "    <tr>\n",
       "      <th>동참</th>\n",
       "      <td>0.000000</td>\n",
       "      <td>0.000000</td>\n",
       "      <td>0.000000</td>\n",
       "      <td>0.000000</td>\n",
       "      <td>0.000000</td>\n",
       "      <td>0.000000</td>\n",
       "      <td>0.000000</td>\n",
       "      <td>0.000000</td>\n",
       "      <td>0.000000</td>\n",
       "      <td>0.025364</td>\n",
       "    </tr>\n",
       "    <tr>\n",
       "      <th>되</th>\n",
       "      <td>0.056884</td>\n",
       "      <td>0.014077</td>\n",
       "      <td>0.030183</td>\n",
       "      <td>0.011666</td>\n",
       "      <td>0.047795</td>\n",
       "      <td>0.048277</td>\n",
       "      <td>0.051631</td>\n",
       "      <td>0.044436</td>\n",
       "      <td>0.029701</td>\n",
       "      <td>0.023444</td>\n",
       "    </tr>\n",
       "    <tr>\n",
       "      <th>두</th>\n",
       "      <td>0.000000</td>\n",
       "      <td>0.000000</td>\n",
       "      <td>0.000000</td>\n",
       "      <td>0.000000</td>\n",
       "      <td>0.007396</td>\n",
       "      <td>0.007470</td>\n",
       "      <td>0.000000</td>\n",
       "      <td>0.000000</td>\n",
       "      <td>0.002598</td>\n",
       "      <td>0.000000</td>\n",
       "    </tr>\n",
       "  </tbody>\n",
       "</table>\n",
       "</div>"
      ],
      "text/plain": [
       "     1809896.txt  1809897.txt  1809895.txt  1809894.txt  1809890.txt  \\\n",
       "대하      0.020685     0.023462     0.015092     0.046666     0.003677   \n",
       "대학      0.000000     0.000000     0.000000     0.063109     0.000000   \n",
       "더       0.000000     0.000000     0.000000     0.000000     0.032877   \n",
       "더라      0.000000     0.000000     0.000000     0.000000     0.006575   \n",
       "더라도     0.000000     0.000000     0.000000     0.000000     0.006575   \n",
       "데       0.000000     0.000000     0.000000     0.000000     0.000000   \n",
       "델       0.000000     0.000000     0.000000     0.000000     0.005905   \n",
       "도       0.003776     0.015419     0.016530     0.000000     0.016108   \n",
       "도록      0.012514     0.000000     0.032869     0.016939     0.000000   \n",
       "도모      0.007927     0.000000     0.000000     0.000000     0.000000   \n",
       "독점      0.009325     0.000000     0.000000     0.000000     0.000000   \n",
       "돌보      0.000000     0.000000     0.000000     0.000000     0.007396   \n",
       "동       0.000000     0.000000     0.000000     0.000000     0.013151   \n",
       "동반자     0.000000     0.012692     0.000000     0.000000     0.000000   \n",
       "동안      0.000000     0.000000     0.000000     0.000000     0.000000   \n",
       "동원      0.009325     0.000000     0.000000     0.000000     0.000000   \n",
       "동의      0.000000     0.118682     0.000000     0.000000     0.000000   \n",
       "동참      0.000000     0.000000     0.000000     0.000000     0.000000   \n",
       "되       0.056884     0.014077     0.030183     0.011666     0.047795   \n",
       "두       0.000000     0.000000     0.000000     0.000000     0.007396   \n",
       "\n",
       "     1809891.txt  1809893.txt  1809892.txt  1809899.txt  1809898.txt  \n",
       "대하      0.003714     0.003972     0.002777     0.001291     0.009378  \n",
       "대학      0.000000     0.000000     0.000000     0.000000     0.000000  \n",
       "더       0.033208     0.035516     0.024835     0.000000     0.000000  \n",
       "더라      0.006642     0.007103     0.004967     0.000000     0.000000  \n",
       "더라도     0.006642     0.007103     0.004967     0.000000     0.000000  \n",
       "데       0.000000     0.010742     0.000000     0.000000     0.000000  \n",
       "델       0.005965     0.006379     0.004461     0.000000     0.030123  \n",
       "도       0.016270     0.017401     0.009126     0.004243     0.010271  \n",
       "도록      0.000000     0.000000     0.004033     0.005625     0.006808  \n",
       "도모      0.000000     0.009132     0.000000     0.000000     0.000000  \n",
       "독점      0.000000     0.000000     0.000000     0.000000     0.000000  \n",
       "돌보      0.007470     0.015979     0.000000     0.000000     0.000000  \n",
       "동       0.013283     0.014206     0.009934     0.000000     0.000000  \n",
       "동반자     0.000000     0.000000     0.000000     0.000000     0.000000  \n",
       "동안      0.000000     0.000000     0.000000     0.003493     0.000000  \n",
       "동원      0.000000     0.000000     0.000000     0.000000     0.000000  \n",
       "동의      0.000000     0.000000     0.000000     0.000000     0.140150  \n",
       "동참      0.000000     0.000000     0.000000     0.000000     0.025364  \n",
       "되       0.048277     0.051631     0.044436     0.029701     0.023444  \n",
       "두       0.007470     0.000000     0.000000     0.002598     0.000000  "
      ]
     },
     "execution_count": 16,
     "metadata": {},
     "output_type": "execute_result"
    }
   ],
   "source": [
    "df.T[500:520]"
   ]
  },
  {
   "cell_type": "code",
   "execution_count": 17,
   "metadata": {
    "hidden": true
   },
   "outputs": [],
   "source": [
    "okt_doc, okt_vec, okt_tfidf = get_tfidf_from_konlpy(k_morpheme=Okt)"
   ]
  },
  {
   "cell_type": "code",
   "execution_count": 18,
   "metadata": {
    "hidden": true
   },
   "outputs": [
    {
     "data": {
      "text/plain": [
       "array(['1809896.txt', '1809897.txt', '1809895.txt', '1809894.txt',\n",
       "       '1809890.txt', '1809891.txt', '1809893.txt', '1809892.txt',\n",
       "       '1809899.txt', '1809898.txt'], dtype='<U11')"
      ]
     },
     "execution_count": 18,
     "metadata": {},
     "output_type": "execute_result"
    }
   ],
   "source": [
    "okt_doc"
   ]
  },
  {
   "cell_type": "code",
   "execution_count": 19,
   "metadata": {
    "hidden": true
   },
   "outputs": [
    {
     "data": {
      "text/plain": [
       "TfidfVectorizer(analyzer='word', binary=False, decode_error='strict',\n",
       "        dtype=<class 'numpy.float64'>, encoding='utf-8', input='content',\n",
       "        lowercase=True, max_df=1.0, max_features=None, min_df=1,\n",
       "        ngram_range=(1, 1), norm='l2', preprocessor=None, smooth_idf=True,\n",
       "        stop_words=None, strip_accents=None, sublinear_tf=False,\n",
       "        token_pattern='(?u)\\\\b\\\\w\\\\w+\\\\b',\n",
       "        tokenizer=<bound method Okt.morphs of <konlpy.tag._okt.Okt object at 0x1ab0aa4b00>>,\n",
       "        use_idf=True, vocabulary=None)"
      ]
     },
     "execution_count": 19,
     "metadata": {},
     "output_type": "execute_result"
    }
   ],
   "source": [
    "okt_vec"
   ]
  },
  {
   "cell_type": "code",
   "execution_count": 20,
   "metadata": {
    "hidden": true
   },
   "outputs": [
    {
     "data": {
      "text/plain": [
       "array(['근본', '금', '금고', '금액', '금지', '급', '급속히', '급여', '급증', '급할', '기',\n",
       "       '기간', '기관', '기구', '기능', '기대', '기록', '기본', '기업체', '기여', '기자', '기준',\n",
       "       '기타', '기회', '기획', '기획재정부', '긴급', '긴급히', '긴밀한', '김', '김금래', '김성곤',\n",
       "       '김을동', '김재윤', '김정훈', '김춘진', '김태원', '김학송', '김효석', '까', '까지', '까지로',\n",
       "       '까지를', '까지에', '까지와', '까지의', '까지임', '나', '나성린', '나아가', '나은', '나이',\n",
       "       '나타나는', '난민', '날', '남녀', '내', '내용', '내지', '널리', '녀', '노', '노력',\n",
       "       '노출', '논의', '높이', '누락', '느', '는', '늘어날', '능력', '니', '다', '다고',\n",
       "       '다만', '다시', '다양한', '다음', '단계', '단서', '단순한', '단위', '단정', '단체', '단축',\n",
       "       '달', '달성', '담', '당사자', '당시', '당하는', '당해', '대', '대가', '대령', '대방',\n",
       "       '대비', '대상', '대상자', '대신', '대응', '대입', '대책', '대체', '대칭', '대통령',\n",
       "       '대통령령', '대표', '대하', '대학', '대한', '대해', '더', '델', '도', '도모', '도지사',\n",
       "       '독점', '돌보기', '돌보는', '돌보는데', '동', '동반', '동안', '동원', '동의', '동참', '되',\n",
       "       '되고', '되나', '되는', '되도록', '되어', '되어야', '되어있고', '되었을', '되었음', '되지',\n",
       "       '된', '된다', '될', '됨', '됨에', '두', '두어야', '둘째', '듣도록', '들', '들어야',\n",
       "       '등', '등록', '등하교', '디자인', '따', '따뜻한', '따라', '따라서', '따르면', '따르지',\n",
       "       '따른', '따른다', '때', '때문', '또', '또는', '또한', '라', '라고', '락', '람', '래',\n",
       "       '략', '려', '려는', '력', '련', '령', '령등', '령안', '로', '로서', '로써', '로자',\n",
       "       '록', '롭', '류', '른', '를', '리', '리모', '마', '마련', '마찰', '만', '만들고',\n",
       "       '만원', '만을', '많고', '많은', '말', '매년', '매우', '면', '명', '명백한', '명시',\n",
       "       '명확히', '모델', '모든', '목적', '못', '무', '무부', '문', '문대비', '문의', '문제',\n",
       "       '문제점', '문학사', '문학진', '문화', '물론', '물자', '므', '미', '미만', '미비', '미치게',\n",
       "       '민', '민간', '민방위', '민사소송', '및', '바', '바레인', '바탕', '박영선', '박영아',\n",
       "       '박은수', '밖', '밖에', '반', '반려', '반영', '반하는', '받', '받고', '받는', '받는다고',\n",
       "       '받던', '받아', '받은', '발', '발생', '발의', '발전', '방공', '방과', '방문', '방법',\n",
       "       '방산수', '방안', '방지', '방한', '배', '배경', '배상', '배타', '백만원', '백성운',\n",
       "       '백재현', '번', '번역본', '번호', '벌금', '벌칙', '범위', '범죄', '법', '법령', '법률',\n",
       "       '법률상', '법리', '법무부', '법안', '법원', '법인', '법제처장', '변경', '변론', '변수',\n",
       "       '별', '별도', '병력', '병역법', '보', '보기', '보다', '보살핌이', '보상', '보여주고',\n",
       "       '보여주는', '보완', '보유', '보인다', '보자', '보장', '보존', '보증', '보험', '보험금',\n",
       "       '보호', '복', '복리', '본', '본다', '본문', '본인', '볼', '부', '부과', '부담',\n",
       "       '부당행위', '부대', '부령', '부모', '부모님', '부문', '부분', '부서', '부여', '부족하여',\n",
       "       '부터', '분', '분담', '분석관', '분할', '불', '불공정', '불구', '불량하다고', '불법',\n",
       "       '불편', '불필요하다고', '비', '비례', '비상', '비용', '비자', '빈번', '사', '사단', '사람',\n",
       "       '사랑', '사령관', '사례', '사무소', '사실', '사업', '사업자', '사용', '사유', '사의',\n",
       "       '사이', '사전', '사정', '사정변경', '사학', '사항', '사회', '삭', '삭제', '산', '산정',\n",
       "       '상', '상관없이', '상당', '상당수', '상당한', '상대', '상대방', '상세', '상위', '상의',\n",
       "       '상인', '상존', '상충', '상태', '상표', '상향', '생', '생략', '생명', '생활', '서',\n",
       "       '서는', '서류', '서면', '서비스', '서상기', '선박', '선발', '선양', '선진', '설', '설치',\n",
       "       '성', '성격', '성공', '성매매', '성병', '성사', '성질', '성폭력', '세', '세로', '세부',\n",
       "       '세심', '세이', '셋째', '소', '소관', '소말리아', '소송', '소요', '소재', '소지', '소집',\n",
       "       '속성', '손', '손범규', '손해', '손해배상', '송', '송민순', '수', '수가', '수급', '수당',\n",
       "       '수렴', '수립', '수반', '수생', '수식', '수업', '수여', '수역', '수원', '수출', '수행',\n",
       "       '순', '쉽지', '승인', '시', '시기', '시설', '시장', '시정', '시키는', '시키며', '시행',\n",
       "       '시행일', '시험', '식', '신', '신고', '신낙균', '신상', '신설', '신청', '실', '실시',\n",
       "       '실용신안', '실정', '실제', '실질', '실태', '심', '심결', '심사', '심의', '심화', '아',\n",
       "       '아니', '아니면', '아니하거나', '아니하고', '아니하다', '아니한', '아닌', '아덴만', '아동',\n",
       "       '아동학대', '아랍에미리트', '아부다비', '아인', '안', '안규백', '안기', '안보'],\n",
       "      dtype='<U115')"
      ]
     },
     "execution_count": 20,
     "metadata": {},
     "output_type": "execute_result"
    }
   ],
   "source": [
    "okt_lexicon_list = np.array(okt_vec.get_feature_names())\n",
    "okt_lexicon_list[500:1000]"
   ]
  },
  {
   "cell_type": "code",
   "execution_count": 21,
   "metadata": {
    "hidden": true
   },
   "outputs": [
    {
     "data": {
      "text/plain": [
       "(10, 1669)"
      ]
     },
     "execution_count": 21,
     "metadata": {},
     "output_type": "execute_result"
    }
   ],
   "source": [
    "okt_df = pd.DataFrame(okt_tfidf.toarray(), columns=okt_lexicon_list, index=okt_doc)\n",
    "okt_df.shape"
   ]
  },
  {
   "cell_type": "code",
   "execution_count": 22,
   "metadata": {
    "hidden": true,
    "scrolled": false
   },
   "outputs": [
    {
     "data": {
      "text/html": [
       "<div>\n",
       "<style scoped>\n",
       "    .dataframe tbody tr th:only-of-type {\n",
       "        vertical-align: middle;\n",
       "    }\n",
       "\n",
       "    .dataframe tbody tr th {\n",
       "        vertical-align: top;\n",
       "    }\n",
       "\n",
       "    .dataframe thead th {\n",
       "        text-align: right;\n",
       "    }\n",
       "</style>\n",
       "<table border=\"1\" class=\"dataframe\">\n",
       "  <thead>\n",
       "    <tr style=\"text-align: right;\">\n",
       "      <th></th>\n",
       "      <th>1809896.txt</th>\n",
       "      <th>1809897.txt</th>\n",
       "      <th>1809895.txt</th>\n",
       "      <th>1809894.txt</th>\n",
       "      <th>1809890.txt</th>\n",
       "      <th>1809891.txt</th>\n",
       "      <th>1809893.txt</th>\n",
       "      <th>1809892.txt</th>\n",
       "      <th>1809899.txt</th>\n",
       "      <th>1809898.txt</th>\n",
       "    </tr>\n",
       "  </thead>\n",
       "  <tbody>\n",
       "    <tr>\n",
       "      <th>근본</th>\n",
       "      <td>0.005375</td>\n",
       "      <td>0.000000</td>\n",
       "      <td>0.000000</td>\n",
       "      <td>0.0</td>\n",
       "      <td>0.000000</td>\n",
       "      <td>0.000000</td>\n",
       "      <td>0.000000</td>\n",
       "      <td>0.000000</td>\n",
       "      <td>0.000000</td>\n",
       "      <td>0.000000</td>\n",
       "    </tr>\n",
       "    <tr>\n",
       "      <th>금</th>\n",
       "      <td>0.000000</td>\n",
       "      <td>0.000000</td>\n",
       "      <td>0.000000</td>\n",
       "      <td>0.0</td>\n",
       "      <td>0.000000</td>\n",
       "      <td>0.000000</td>\n",
       "      <td>0.000000</td>\n",
       "      <td>0.000000</td>\n",
       "      <td>0.005434</td>\n",
       "      <td>0.000000</td>\n",
       "    </tr>\n",
       "    <tr>\n",
       "      <th>금고</th>\n",
       "      <td>0.000000</td>\n",
       "      <td>0.000000</td>\n",
       "      <td>0.000000</td>\n",
       "      <td>0.0</td>\n",
       "      <td>0.000000</td>\n",
       "      <td>0.000000</td>\n",
       "      <td>0.000000</td>\n",
       "      <td>0.000000</td>\n",
       "      <td>0.021736</td>\n",
       "      <td>0.000000</td>\n",
       "    </tr>\n",
       "    <tr>\n",
       "      <th>금액</th>\n",
       "      <td>0.000000</td>\n",
       "      <td>0.000000</td>\n",
       "      <td>0.047136</td>\n",
       "      <td>0.0</td>\n",
       "      <td>0.000000</td>\n",
       "      <td>0.000000</td>\n",
       "      <td>0.000000</td>\n",
       "      <td>0.000000</td>\n",
       "      <td>0.000000</td>\n",
       "      <td>0.000000</td>\n",
       "    </tr>\n",
       "    <tr>\n",
       "      <th>금지</th>\n",
       "      <td>0.000000</td>\n",
       "      <td>0.000000</td>\n",
       "      <td>0.000000</td>\n",
       "      <td>0.0</td>\n",
       "      <td>0.000000</td>\n",
       "      <td>0.000000</td>\n",
       "      <td>0.000000</td>\n",
       "      <td>0.000000</td>\n",
       "      <td>0.010868</td>\n",
       "      <td>0.000000</td>\n",
       "    </tr>\n",
       "    <tr>\n",
       "      <th>급</th>\n",
       "      <td>0.000000</td>\n",
       "      <td>0.000000</td>\n",
       "      <td>0.000000</td>\n",
       "      <td>0.0</td>\n",
       "      <td>0.036483</td>\n",
       "      <td>0.036988</td>\n",
       "      <td>0.036181</td>\n",
       "      <td>0.031883</td>\n",
       "      <td>0.000000</td>\n",
       "      <td>0.014334</td>\n",
       "    </tr>\n",
       "    <tr>\n",
       "      <th>급속히</th>\n",
       "      <td>0.000000</td>\n",
       "      <td>0.011276</td>\n",
       "      <td>0.000000</td>\n",
       "      <td>0.0</td>\n",
       "      <td>0.000000</td>\n",
       "      <td>0.000000</td>\n",
       "      <td>0.000000</td>\n",
       "      <td>0.000000</td>\n",
       "      <td>0.000000</td>\n",
       "      <td>0.000000</td>\n",
       "    </tr>\n",
       "    <tr>\n",
       "      <th>급여</th>\n",
       "      <td>0.000000</td>\n",
       "      <td>0.000000</td>\n",
       "      <td>0.000000</td>\n",
       "      <td>0.0</td>\n",
       "      <td>0.065000</td>\n",
       "      <td>0.065899</td>\n",
       "      <td>0.064461</td>\n",
       "      <td>0.056804</td>\n",
       "      <td>0.000000</td>\n",
       "      <td>0.000000</td>\n",
       "    </tr>\n",
       "    <tr>\n",
       "      <th>급증</th>\n",
       "      <td>0.000000</td>\n",
       "      <td>0.000000</td>\n",
       "      <td>0.000000</td>\n",
       "      <td>0.0</td>\n",
       "      <td>0.000000</td>\n",
       "      <td>0.000000</td>\n",
       "      <td>0.000000</td>\n",
       "      <td>0.000000</td>\n",
       "      <td>0.000000</td>\n",
       "      <td>0.012069</td>\n",
       "    </tr>\n",
       "    <tr>\n",
       "      <th>급할</th>\n",
       "      <td>0.000000</td>\n",
       "      <td>0.000000</td>\n",
       "      <td>0.000000</td>\n",
       "      <td>0.0</td>\n",
       "      <td>0.008125</td>\n",
       "      <td>0.008237</td>\n",
       "      <td>0.008058</td>\n",
       "      <td>0.007100</td>\n",
       "      <td>0.000000</td>\n",
       "      <td>0.000000</td>\n",
       "    </tr>\n",
       "    <tr>\n",
       "      <th>기</th>\n",
       "      <td>0.000000</td>\n",
       "      <td>0.000000</td>\n",
       "      <td>0.000000</td>\n",
       "      <td>0.0</td>\n",
       "      <td>0.007297</td>\n",
       "      <td>0.007398</td>\n",
       "      <td>0.007236</td>\n",
       "      <td>0.006377</td>\n",
       "      <td>0.003227</td>\n",
       "      <td>0.000000</td>\n",
       "    </tr>\n",
       "    <tr>\n",
       "      <th>기간</th>\n",
       "      <td>0.026248</td>\n",
       "      <td>0.015016</td>\n",
       "      <td>0.000000</td>\n",
       "      <td>0.0</td>\n",
       "      <td>0.005455</td>\n",
       "      <td>0.005530</td>\n",
       "      <td>0.005409</td>\n",
       "      <td>0.009534</td>\n",
       "      <td>0.004824</td>\n",
       "      <td>0.032146</td>\n",
       "    </tr>\n",
       "    <tr>\n",
       "      <th>기관</th>\n",
       "      <td>0.045696</td>\n",
       "      <td>0.000000</td>\n",
       "      <td>0.000000</td>\n",
       "      <td>0.0</td>\n",
       "      <td>0.000000</td>\n",
       "      <td>0.000000</td>\n",
       "      <td>0.000000</td>\n",
       "      <td>0.000000</td>\n",
       "      <td>0.000000</td>\n",
       "      <td>0.010260</td>\n",
       "    </tr>\n",
       "    <tr>\n",
       "      <th>기구</th>\n",
       "      <td>0.000000</td>\n",
       "      <td>0.000000</td>\n",
       "      <td>0.000000</td>\n",
       "      <td>0.0</td>\n",
       "      <td>0.000000</td>\n",
       "      <td>0.000000</td>\n",
       "      <td>0.000000</td>\n",
       "      <td>0.000000</td>\n",
       "      <td>0.000000</td>\n",
       "      <td>0.012069</td>\n",
       "    </tr>\n",
       "    <tr>\n",
       "      <th>기능</th>\n",
       "      <td>0.010751</td>\n",
       "      <td>0.000000</td>\n",
       "      <td>0.000000</td>\n",
       "      <td>0.0</td>\n",
       "      <td>0.000000</td>\n",
       "      <td>0.000000</td>\n",
       "      <td>0.000000</td>\n",
       "      <td>0.000000</td>\n",
       "      <td>0.000000</td>\n",
       "      <td>0.000000</td>\n",
       "    </tr>\n",
       "    <tr>\n",
       "      <th>기대</th>\n",
       "      <td>0.000000</td>\n",
       "      <td>0.011276</td>\n",
       "      <td>0.000000</td>\n",
       "      <td>0.0</td>\n",
       "      <td>0.000000</td>\n",
       "      <td>0.000000</td>\n",
       "      <td>0.000000</td>\n",
       "      <td>0.000000</td>\n",
       "      <td>0.000000</td>\n",
       "      <td>0.000000</td>\n",
       "    </tr>\n",
       "    <tr>\n",
       "      <th>기록</th>\n",
       "      <td>0.000000</td>\n",
       "      <td>0.000000</td>\n",
       "      <td>0.000000</td>\n",
       "      <td>0.0</td>\n",
       "      <td>0.000000</td>\n",
       "      <td>0.000000</td>\n",
       "      <td>0.000000</td>\n",
       "      <td>0.000000</td>\n",
       "      <td>0.027170</td>\n",
       "      <td>0.000000</td>\n",
       "    </tr>\n",
       "    <tr>\n",
       "      <th>기본</th>\n",
       "      <td>0.007996</td>\n",
       "      <td>0.008386</td>\n",
       "      <td>0.000000</td>\n",
       "      <td>0.0</td>\n",
       "      <td>0.000000</td>\n",
       "      <td>0.000000</td>\n",
       "      <td>0.000000</td>\n",
       "      <td>0.000000</td>\n",
       "      <td>0.000000</td>\n",
       "      <td>0.008976</td>\n",
       "    </tr>\n",
       "    <tr>\n",
       "      <th>기업체</th>\n",
       "      <td>0.000000</td>\n",
       "      <td>0.000000</td>\n",
       "      <td>0.000000</td>\n",
       "      <td>0.0</td>\n",
       "      <td>0.008125</td>\n",
       "      <td>0.008237</td>\n",
       "      <td>0.008058</td>\n",
       "      <td>0.007100</td>\n",
       "      <td>0.000000</td>\n",
       "      <td>0.000000</td>\n",
       "    </tr>\n",
       "    <tr>\n",
       "      <th>기여</th>\n",
       "      <td>0.000000</td>\n",
       "      <td>0.000000</td>\n",
       "      <td>0.000000</td>\n",
       "      <td>0.0</td>\n",
       "      <td>0.000000</td>\n",
       "      <td>0.000000</td>\n",
       "      <td>0.010359</td>\n",
       "      <td>0.000000</td>\n",
       "      <td>0.000000</td>\n",
       "      <td>0.010260</td>\n",
       "    </tr>\n",
       "  </tbody>\n",
       "</table>\n",
       "</div>"
      ],
      "text/plain": [
       "     1809896.txt  1809897.txt  1809895.txt  1809894.txt  1809890.txt  \\\n",
       "근본      0.005375     0.000000     0.000000          0.0     0.000000   \n",
       "금       0.000000     0.000000     0.000000          0.0     0.000000   \n",
       "금고      0.000000     0.000000     0.000000          0.0     0.000000   \n",
       "금액      0.000000     0.000000     0.047136          0.0     0.000000   \n",
       "금지      0.000000     0.000000     0.000000          0.0     0.000000   \n",
       "급       0.000000     0.000000     0.000000          0.0     0.036483   \n",
       "급속히     0.000000     0.011276     0.000000          0.0     0.000000   \n",
       "급여      0.000000     0.000000     0.000000          0.0     0.065000   \n",
       "급증      0.000000     0.000000     0.000000          0.0     0.000000   \n",
       "급할      0.000000     0.000000     0.000000          0.0     0.008125   \n",
       "기       0.000000     0.000000     0.000000          0.0     0.007297   \n",
       "기간      0.026248     0.015016     0.000000          0.0     0.005455   \n",
       "기관      0.045696     0.000000     0.000000          0.0     0.000000   \n",
       "기구      0.000000     0.000000     0.000000          0.0     0.000000   \n",
       "기능      0.010751     0.000000     0.000000          0.0     0.000000   \n",
       "기대      0.000000     0.011276     0.000000          0.0     0.000000   \n",
       "기록      0.000000     0.000000     0.000000          0.0     0.000000   \n",
       "기본      0.007996     0.008386     0.000000          0.0     0.000000   \n",
       "기업체     0.000000     0.000000     0.000000          0.0     0.008125   \n",
       "기여      0.000000     0.000000     0.000000          0.0     0.000000   \n",
       "\n",
       "     1809891.txt  1809893.txt  1809892.txt  1809899.txt  1809898.txt  \n",
       "근본      0.000000     0.000000     0.000000     0.000000     0.000000  \n",
       "금       0.000000     0.000000     0.000000     0.005434     0.000000  \n",
       "금고      0.000000     0.000000     0.000000     0.021736     0.000000  \n",
       "금액      0.000000     0.000000     0.000000     0.000000     0.000000  \n",
       "금지      0.000000     0.000000     0.000000     0.010868     0.000000  \n",
       "급       0.036988     0.036181     0.031883     0.000000     0.014334  \n",
       "급속히     0.000000     0.000000     0.000000     0.000000     0.000000  \n",
       "급여      0.065899     0.064461     0.056804     0.000000     0.000000  \n",
       "급증      0.000000     0.000000     0.000000     0.000000     0.012069  \n",
       "급할      0.008237     0.008058     0.007100     0.000000     0.000000  \n",
       "기       0.007398     0.007236     0.006377     0.003227     0.000000  \n",
       "기간      0.005530     0.005409     0.009534     0.004824     0.032146  \n",
       "기관      0.000000     0.000000     0.000000     0.000000     0.010260  \n",
       "기구      0.000000     0.000000     0.000000     0.000000     0.012069  \n",
       "기능      0.000000     0.000000     0.000000     0.000000     0.000000  \n",
       "기대      0.000000     0.000000     0.000000     0.000000     0.000000  \n",
       "기록      0.000000     0.000000     0.000000     0.027170     0.000000  \n",
       "기본      0.000000     0.000000     0.000000     0.000000     0.008976  \n",
       "기업체     0.008237     0.008058     0.007100     0.000000     0.000000  \n",
       "기여      0.000000     0.010359     0.000000     0.000000     0.010260  "
      ]
     },
     "execution_count": 22,
     "metadata": {},
     "output_type": "execute_result"
    }
   ],
   "source": [
    "okt_df.T[500:520]"
   ]
  },
  {
   "cell_type": "markdown",
   "metadata": {
    "heading_collapsed": true
   },
   "source": [
    "### get_tfidf_from_nltk()"
   ]
  },
  {
   "cell_type": "code",
   "execution_count": 23,
   "metadata": {
    "hidden": true
   },
   "outputs": [],
   "source": [
    "nltk_doc, nltk_vec, nltk_tfidf = get_tfidf_from_nltk(corpus=brown, e_tokenize=word_tokenize)\n",
    "#nltk_doc, nltk_vec, nltk_tfidf = get_tfidf_from_nltk()"
   ]
  },
  {
   "cell_type": "code",
   "execution_count": 24,
   "metadata": {
    "hidden": true,
    "scrolled": true
   },
   "outputs": [
    {
     "data": {
      "text/plain": [
       "500"
      ]
     },
     "execution_count": 24,
     "metadata": {},
     "output_type": "execute_result"
    }
   ],
   "source": [
    "len(nltk_doc)"
   ]
  },
  {
   "cell_type": "code",
   "execution_count": 25,
   "metadata": {
    "hidden": true
   },
   "outputs": [
    {
     "data": {
      "text/plain": [
       "TfidfVectorizer(analyzer='word', binary=False, decode_error='strict',\n",
       "        dtype=<class 'numpy.float64'>, encoding='utf-8', input='content',\n",
       "        lowercase=True, max_df=1.0, max_features=None, min_df=1,\n",
       "        ngram_range=(1, 1), norm='l2', preprocessor=None, smooth_idf=True,\n",
       "        stop_words='english', strip_accents=None, sublinear_tf=False,\n",
       "        token_pattern='(?u)\\\\b\\\\w\\\\w+\\\\b',\n",
       "        tokenizer=<function word_tokenize at 0x1a18d869d8>, use_idf=True,\n",
       "        vocabulary=None)"
      ]
     },
     "execution_count": 25,
     "metadata": {},
     "output_type": "execute_result"
    }
   ],
   "source": [
    "nltk_vec"
   ]
  },
  {
   "cell_type": "code",
   "execution_count": 26,
   "metadata": {
    "hidden": true
   },
   "outputs": [
    {
     "data": {
      "text/plain": [
       "(500, 62877)"
      ]
     },
     "execution_count": 26,
     "metadata": {},
     "output_type": "execute_result"
    }
   ],
   "source": [
    "nltk_tfidf.toarray().shape"
   ]
  },
  {
   "cell_type": "code",
   "execution_count": 27,
   "metadata": {
    "hidden": true
   },
   "outputs": [
    {
     "data": {
      "text/plain": [
       "(62877,)"
      ]
     },
     "execution_count": 27,
     "metadata": {},
     "output_type": "execute_result"
    }
   ],
   "source": [
    "nltk_pos_tag = np.array(nltk_vec.get_feature_names())\n",
    "nltk_pos_tag.shape"
   ]
  },
  {
   "cell_type": "code",
   "execution_count": 28,
   "metadata": {
    "hidden": true
   },
   "outputs": [
    {
     "data": {
      "text/plain": [
       "array(['caleb/np', 'calenda/np', 'calendar/nn', 'calendars/nns',\n",
       "       'calendars/nns-hl', \"calf's-foot/nn\", 'calf/nn', 'calf/nn-tl',\n",
       "       'calfskin/nn', \"calhoun's/np\", 'calhoun/np', 'caliber/nn',\n",
       "       'calibers/nns', 'calibrated/vbn', 'calibrating/vbg',\n",
       "       'calibration/nn', 'calibrations/nns', 'calibre/nn',\n",
       "       'caliche-topped/jj', 'calico/nn', 'calif./np', 'calif./np-hl',\n",
       "       \"california's/np\", 'california/np', 'california/np-tl',\n",
       "       'californians/nps', 'caligula/np', 'calimala/fw-nn-tl',\n",
       "       'calinda/nn', 'caliper/nn', 'calipers/nns', 'caliphs/nns',\n",
       "       'calisthenics/nns', 'call-backs/nns', 'call/nn', 'call/nn-hl',\n",
       "       'call/nn-tl', 'call/vb', 'callable/jj', 'callan/np', 'callas/np',\n",
       "       'called/vbd', 'called/vbn', 'caller/nn', 'callers/nns',\n",
       "       'calligraphers/nns', 'calligraphy/nn', \"callin'/vbg\", 'calling/nn',\n",
       "       'calling/vbg', 'callous/jj', 'calloused/vbn', 'callously/rb',\n",
       "       'callousness/nn', 'calls/nil', 'calls/nns', 'calls/vbz',\n",
       "       'calls/vbz-hl', 'calluses/nns', 'calm/jj', 'calm/nn', 'calm/vb',\n",
       "       'calmed/vbd', 'calmed/vbn', 'calmer/jjr', 'calmer/jjr-nc',\n",
       "       'calmest/jjt', 'calming/vbg', 'calmly/rb', 'calmness/nn',\n",
       "       'caloric/jj', 'calorie-heavy/jj', 'calorie/nn', 'calories/nns',\n",
       "       'calorimeter/nn', 'calorimetric/jj', \"caltech's/np\", 'caltech/np',\n",
       "       'calude/np', 'calumniated/vbn', 'calumny/nn', 'calvary/np',\n",
       "       'calves/nns', 'calves/nns-hl', 'calvin/np', 'calving/vbg',\n",
       "       'calvinist/jj-tl', 'calypso/nn', 'cam/np', 'camaraderie/nn',\n",
       "       'camaret/np', \"cambodia's/np\", 'cambodia/np', 'cambridge/np',\n",
       "       'cambridge/np-tl', 'cambridgeport/np', 'camden/np', 'camden/np-tl',\n",
       "       'came/vbd', 'came/vbd-nc'], dtype='<U36')"
      ]
     },
     "execution_count": 28,
     "metadata": {},
     "output_type": "execute_result"
    }
   ],
   "source": [
    "nltk_pos_tag[10000:10100]"
   ]
  },
  {
   "cell_type": "code",
   "execution_count": 29,
   "metadata": {
    "hidden": true
   },
   "outputs": [
    {
     "data": {
      "text/plain": [
       "array(['caleb', 'calenda', 'calendar', 'calendars', 'calendars',\n",
       "       \"calf's-foot\", 'calf', 'calf', 'calfskin', \"calhoun's\", 'calhoun',\n",
       "       'caliber', 'calibers', 'calibrated', 'calibrating', 'calibration',\n",
       "       'calibrations', 'calibre', 'caliche-topped', 'calico', 'calif.',\n",
       "       'calif.', \"california's\", 'california', 'california',\n",
       "       'californians', 'caligula', 'calimala', 'calinda', 'caliper',\n",
       "       'calipers', 'caliphs', 'calisthenics', 'call-backs', 'call',\n",
       "       'call', 'call', 'call', 'callable', 'callan', 'callas', 'called',\n",
       "       'called', 'caller', 'callers', 'calligraphers', 'calligraphy',\n",
       "       \"callin'\", 'calling', 'calling', 'callous', 'calloused',\n",
       "       'callously', 'callousness', 'calls', 'calls', 'calls', 'calls',\n",
       "       'calluses', 'calm', 'calm', 'calm', 'calmed', 'calmed', 'calmer',\n",
       "       'calmer', 'calmest', 'calming', 'calmly', 'calmness', 'caloric',\n",
       "       'calorie-heavy', 'calorie', 'calories', 'calorimeter',\n",
       "       'calorimetric', \"caltech's\", 'caltech', 'calude', 'calumniated',\n",
       "       'calumny', 'calvary', 'calves', 'calves', 'calvin', 'calving',\n",
       "       'calvinist', 'calypso', 'cam', 'camaraderie', 'camaret',\n",
       "       \"cambodia's\", 'cambodia', 'cambridge', 'cambridge',\n",
       "       'cambridgeport', 'camden', 'camden', 'came', 'came'], dtype='<U33')"
      ]
     },
     "execution_count": 29,
     "metadata": {},
     "output_type": "execute_result"
    }
   ],
   "source": [
    "nltk_lexicon_list = np.array([tag.split(\"/\")[0] for tag in nltk_pos_tag])\n",
    "nltk_lexicon_list[10000:10100]"
   ]
  },
  {
   "cell_type": "code",
   "execution_count": 30,
   "metadata": {
    "hidden": true
   },
   "outputs": [
    {
     "data": {
      "text/plain": [
       "(500, 62877)"
      ]
     },
     "execution_count": 30,
     "metadata": {},
     "output_type": "execute_result"
    }
   ],
   "source": [
    "nltk_df = pd.DataFrame(nltk_tfidf.toarray(), columns=nltk_lexicon_list, index=nltk_doc)\n",
    "nltk_df.shape"
   ]
  },
  {
   "cell_type": "code",
   "execution_count": 31,
   "metadata": {
    "hidden": true,
    "scrolled": false
   },
   "outputs": [
    {
     "data": {
      "text/html": [
       "<div>\n",
       "<style scoped>\n",
       "    .dataframe tbody tr th:only-of-type {\n",
       "        vertical-align: middle;\n",
       "    }\n",
       "\n",
       "    .dataframe tbody tr th {\n",
       "        vertical-align: top;\n",
       "    }\n",
       "\n",
       "    .dataframe thead th {\n",
       "        text-align: right;\n",
       "    }\n",
       "</style>\n",
       "<table border=\"1\" class=\"dataframe\">\n",
       "  <thead>\n",
       "    <tr style=\"text-align: right;\">\n",
       "      <th></th>\n",
       "      <th>ca01</th>\n",
       "      <th>ca02</th>\n",
       "      <th>ca03</th>\n",
       "      <th>ca04</th>\n",
       "      <th>ca05</th>\n",
       "      <th>ca06</th>\n",
       "      <th>ca07</th>\n",
       "      <th>ca08</th>\n",
       "      <th>ca09</th>\n",
       "      <th>ca10</th>\n",
       "    </tr>\n",
       "  </thead>\n",
       "  <tbody>\n",
       "    <tr>\n",
       "      <th>miller</th>\n",
       "      <td>0.030602</td>\n",
       "      <td>0.000000</td>\n",
       "      <td>0.000000</td>\n",
       "      <td>0.000000</td>\n",
       "      <td>0.000000</td>\n",
       "      <td>0.000000</td>\n",
       "      <td>0.000000</td>\n",
       "      <td>0.000000</td>\n",
       "      <td>0.000000</td>\n",
       "      <td>0.000000</td>\n",
       "    </tr>\n",
       "    <tr>\n",
       "      <th>million</th>\n",
       "      <td>0.034157</td>\n",
       "      <td>0.019440</td>\n",
       "      <td>0.062336</td>\n",
       "      <td>0.000000</td>\n",
       "      <td>0.000000</td>\n",
       "      <td>0.020443</td>\n",
       "      <td>0.000000</td>\n",
       "      <td>0.037836</td>\n",
       "      <td>0.000000</td>\n",
       "      <td>0.013771</td>\n",
       "    </tr>\n",
       "    <tr>\n",
       "      <th>modernizing</th>\n",
       "      <td>0.014350</td>\n",
       "      <td>0.000000</td>\n",
       "      <td>0.000000</td>\n",
       "      <td>0.000000</td>\n",
       "      <td>0.000000</td>\n",
       "      <td>0.000000</td>\n",
       "      <td>0.000000</td>\n",
       "      <td>0.000000</td>\n",
       "      <td>0.000000</td>\n",
       "      <td>0.000000</td>\n",
       "    </tr>\n",
       "    <tr>\n",
       "      <th>monday</th>\n",
       "      <td>0.044361</td>\n",
       "      <td>0.008416</td>\n",
       "      <td>0.000000</td>\n",
       "      <td>0.000000</td>\n",
       "      <td>0.000000</td>\n",
       "      <td>0.026549</td>\n",
       "      <td>0.009197</td>\n",
       "      <td>0.000000</td>\n",
       "      <td>0.009264</td>\n",
       "      <td>0.062596</td>\n",
       "    </tr>\n",
       "    <tr>\n",
       "      <th>money</th>\n",
       "      <td>0.010540</td>\n",
       "      <td>0.009998</td>\n",
       "      <td>0.005343</td>\n",
       "      <td>0.000000</td>\n",
       "      <td>0.000000</td>\n",
       "      <td>0.000000</td>\n",
       "      <td>0.000000</td>\n",
       "      <td>0.005837</td>\n",
       "      <td>0.000000</td>\n",
       "      <td>0.000000</td>\n",
       "    </tr>\n",
       "    <tr>\n",
       "      <th>more</th>\n",
       "      <td>0.008817</td>\n",
       "      <td>0.016727</td>\n",
       "      <td>0.008939</td>\n",
       "      <td>0.013339</td>\n",
       "      <td>0.022085</td>\n",
       "      <td>0.002932</td>\n",
       "      <td>0.015234</td>\n",
       "      <td>0.006511</td>\n",
       "      <td>0.012275</td>\n",
       "      <td>0.008887</td>\n",
       "    </tr>\n",
       "    <tr>\n",
       "      <th>most</th>\n",
       "      <td>0.003494</td>\n",
       "      <td>0.003315</td>\n",
       "      <td>0.003543</td>\n",
       "      <td>0.007930</td>\n",
       "      <td>0.003751</td>\n",
       "      <td>0.000000</td>\n",
       "      <td>0.003622</td>\n",
       "      <td>0.019353</td>\n",
       "      <td>0.000000</td>\n",
       "      <td>0.000000</td>\n",
       "    </tr>\n",
       "    <tr>\n",
       "      <th>mrs.</th>\n",
       "      <td>0.006079</td>\n",
       "      <td>0.000000</td>\n",
       "      <td>0.000000</td>\n",
       "      <td>0.000000</td>\n",
       "      <td>0.000000</td>\n",
       "      <td>0.018190</td>\n",
       "      <td>0.000000</td>\n",
       "      <td>0.000000</td>\n",
       "      <td>0.006347</td>\n",
       "      <td>0.018380</td>\n",
       "    </tr>\n",
       "    <tr>\n",
       "      <th>multi-million-dollar</th>\n",
       "      <td>0.014350</td>\n",
       "      <td>0.000000</td>\n",
       "      <td>0.000000</td>\n",
       "      <td>0.000000</td>\n",
       "      <td>0.000000</td>\n",
       "      <td>0.000000</td>\n",
       "      <td>0.000000</td>\n",
       "      <td>0.000000</td>\n",
       "      <td>0.000000</td>\n",
       "      <td>0.000000</td>\n",
       "    </tr>\n",
       "    <tr>\n",
       "      <th>must</th>\n",
       "      <td>0.009641</td>\n",
       "      <td>0.003048</td>\n",
       "      <td>0.000000</td>\n",
       "      <td>0.007293</td>\n",
       "      <td>0.013800</td>\n",
       "      <td>0.009617</td>\n",
       "      <td>0.000000</td>\n",
       "      <td>0.003560</td>\n",
       "      <td>0.003356</td>\n",
       "      <td>0.016196</td>\n",
       "    </tr>\n",
       "    <tr>\n",
       "      <th>names</th>\n",
       "      <td>0.007527</td>\n",
       "      <td>0.000000</td>\n",
       "      <td>0.000000</td>\n",
       "      <td>0.000000</td>\n",
       "      <td>0.008081</td>\n",
       "      <td>0.000000</td>\n",
       "      <td>0.000000</td>\n",
       "      <td>0.000000</td>\n",
       "      <td>0.000000</td>\n",
       "      <td>0.000000</td>\n",
       "    </tr>\n",
       "    <tr>\n",
       "      <th>near</th>\n",
       "      <td>0.010147</td>\n",
       "      <td>0.000000</td>\n",
       "      <td>0.000000</td>\n",
       "      <td>0.000000</td>\n",
       "      <td>0.000000</td>\n",
       "      <td>0.000000</td>\n",
       "      <td>0.000000</td>\n",
       "      <td>0.000000</td>\n",
       "      <td>0.000000</td>\n",
       "      <td>0.000000</td>\n",
       "    </tr>\n",
       "    <tr>\n",
       "      <th>nevertheless</th>\n",
       "      <td>0.007172</td>\n",
       "      <td>0.000000</td>\n",
       "      <td>0.007271</td>\n",
       "      <td>0.008138</td>\n",
       "      <td>0.000000</td>\n",
       "      <td>0.000000</td>\n",
       "      <td>0.000000</td>\n",
       "      <td>0.000000</td>\n",
       "      <td>0.000000</td>\n",
       "      <td>0.000000</td>\n",
       "    </tr>\n",
       "    <tr>\n",
       "      <th>new</th>\n",
       "      <td>0.019282</td>\n",
       "      <td>0.003048</td>\n",
       "      <td>0.013033</td>\n",
       "      <td>0.018233</td>\n",
       "      <td>0.003450</td>\n",
       "      <td>0.009617</td>\n",
       "      <td>0.009995</td>\n",
       "      <td>0.010680</td>\n",
       "      <td>0.010067</td>\n",
       "      <td>0.022674</td>\n",
       "    </tr>\n",
       "    <tr>\n",
       "      <th>newly</th>\n",
       "      <td>0.009677</td>\n",
       "      <td>0.000000</td>\n",
       "      <td>0.000000</td>\n",
       "      <td>0.000000</td>\n",
       "      <td>0.000000</td>\n",
       "      <td>0.000000</td>\n",
       "      <td>0.000000</td>\n",
       "      <td>0.000000</td>\n",
       "      <td>0.000000</td>\n",
       "      <td>0.000000</td>\n",
       "    </tr>\n",
       "    <tr>\n",
       "      <th>next</th>\n",
       "      <td>0.004535</td>\n",
       "      <td>0.004302</td>\n",
       "      <td>0.004598</td>\n",
       "      <td>0.000000</td>\n",
       "      <td>0.009736</td>\n",
       "      <td>0.000000</td>\n",
       "      <td>0.000000</td>\n",
       "      <td>0.005023</td>\n",
       "      <td>0.000000</td>\n",
       "      <td>0.013712</td>\n",
       "    </tr>\n",
       "    <tr>\n",
       "      <th>night</th>\n",
       "      <td>0.018934</td>\n",
       "      <td>0.000000</td>\n",
       "      <td>0.004799</td>\n",
       "      <td>0.000000</td>\n",
       "      <td>0.010163</td>\n",
       "      <td>0.014165</td>\n",
       "      <td>0.004907</td>\n",
       "      <td>0.000000</td>\n",
       "      <td>0.004942</td>\n",
       "      <td>0.028625</td>\n",
       "    </tr>\n",
       "    <tr>\n",
       "      <th>no</th>\n",
       "      <td>0.007683</td>\n",
       "      <td>0.002429</td>\n",
       "      <td>0.007790</td>\n",
       "      <td>0.020342</td>\n",
       "      <td>0.005499</td>\n",
       "      <td>0.007664</td>\n",
       "      <td>0.010620</td>\n",
       "      <td>0.005674</td>\n",
       "      <td>0.013371</td>\n",
       "      <td>0.010325</td>\n",
       "    </tr>\n",
       "    <tr>\n",
       "      <th>no</th>\n",
       "      <td>0.005902</td>\n",
       "      <td>0.000000</td>\n",
       "      <td>0.000000</td>\n",
       "      <td>0.000000</td>\n",
       "      <td>0.006335</td>\n",
       "      <td>0.000000</td>\n",
       "      <td>0.000000</td>\n",
       "      <td>0.006537</td>\n",
       "      <td>0.000000</td>\n",
       "      <td>0.000000</td>\n",
       "    </tr>\n",
       "    <tr>\n",
       "      <th>none</th>\n",
       "      <td>0.012442</td>\n",
       "      <td>0.000000</td>\n",
       "      <td>0.006307</td>\n",
       "      <td>0.000000</td>\n",
       "      <td>0.000000</td>\n",
       "      <td>0.000000</td>\n",
       "      <td>0.000000</td>\n",
       "      <td>0.006891</td>\n",
       "      <td>0.000000</td>\n",
       "      <td>0.006270</td>\n",
       "    </tr>\n",
       "  </tbody>\n",
       "</table>\n",
       "</div>"
      ],
      "text/plain": [
       "                          ca01      ca02      ca03      ca04      ca05  \\\n",
       "miller                0.030602  0.000000  0.000000  0.000000  0.000000   \n",
       "million               0.034157  0.019440  0.062336  0.000000  0.000000   \n",
       "modernizing           0.014350  0.000000  0.000000  0.000000  0.000000   \n",
       "monday                0.044361  0.008416  0.000000  0.000000  0.000000   \n",
       "money                 0.010540  0.009998  0.005343  0.000000  0.000000   \n",
       "more                  0.008817  0.016727  0.008939  0.013339  0.022085   \n",
       "most                  0.003494  0.003315  0.003543  0.007930  0.003751   \n",
       "mrs.                  0.006079  0.000000  0.000000  0.000000  0.000000   \n",
       "multi-million-dollar  0.014350  0.000000  0.000000  0.000000  0.000000   \n",
       "must                  0.009641  0.003048  0.000000  0.007293  0.013800   \n",
       "names                 0.007527  0.000000  0.000000  0.000000  0.008081   \n",
       "near                  0.010147  0.000000  0.000000  0.000000  0.000000   \n",
       "nevertheless          0.007172  0.000000  0.007271  0.008138  0.000000   \n",
       "new                   0.019282  0.003048  0.013033  0.018233  0.003450   \n",
       "newly                 0.009677  0.000000  0.000000  0.000000  0.000000   \n",
       "next                  0.004535  0.004302  0.004598  0.000000  0.009736   \n",
       "night                 0.018934  0.000000  0.004799  0.000000  0.010163   \n",
       "no                    0.007683  0.002429  0.007790  0.020342  0.005499   \n",
       "no                    0.005902  0.000000  0.000000  0.000000  0.006335   \n",
       "none                  0.012442  0.000000  0.006307  0.000000  0.000000   \n",
       "\n",
       "                          ca06      ca07      ca08      ca09      ca10  \n",
       "miller                0.000000  0.000000  0.000000  0.000000  0.000000  \n",
       "million               0.020443  0.000000  0.037836  0.000000  0.013771  \n",
       "modernizing           0.000000  0.000000  0.000000  0.000000  0.000000  \n",
       "monday                0.026549  0.009197  0.000000  0.009264  0.062596  \n",
       "money                 0.000000  0.000000  0.005837  0.000000  0.000000  \n",
       "more                  0.002932  0.015234  0.006511  0.012275  0.008887  \n",
       "most                  0.000000  0.003622  0.019353  0.000000  0.000000  \n",
       "mrs.                  0.018190  0.000000  0.000000  0.006347  0.018380  \n",
       "multi-million-dollar  0.000000  0.000000  0.000000  0.000000  0.000000  \n",
       "must                  0.009617  0.000000  0.003560  0.003356  0.016196  \n",
       "names                 0.000000  0.000000  0.000000  0.000000  0.000000  \n",
       "near                  0.000000  0.000000  0.000000  0.000000  0.000000  \n",
       "nevertheless          0.000000  0.000000  0.000000  0.000000  0.000000  \n",
       "new                   0.009617  0.009995  0.010680  0.010067  0.022674  \n",
       "newly                 0.000000  0.000000  0.000000  0.000000  0.000000  \n",
       "next                  0.000000  0.000000  0.005023  0.000000  0.013712  \n",
       "night                 0.014165  0.004907  0.000000  0.004942  0.028625  \n",
       "no                    0.007664  0.010620  0.005674  0.013371  0.010325  \n",
       "no                    0.000000  0.000000  0.006537  0.000000  0.000000  \n",
       "none                  0.000000  0.000000  0.006891  0.000000  0.006270  "
      ]
     },
     "execution_count": 31,
     "metadata": {},
     "output_type": "execute_result"
    }
   ],
   "source": [
    "df_new = nltk_df[\"ca01\":\"ca10\"].T\n",
    "df_new[df_new[\"ca01\"] >0][500:520]"
   ]
  },
  {
   "cell_type": "markdown",
   "metadata": {
    "heading_collapsed": true
   },
   "source": [
    "### collection, clean_collection"
   ]
  },
  {
   "cell_type": "code",
   "execution_count": 5,
   "metadata": {
    "hidden": true
   },
   "outputs": [],
   "source": [
    "collection = [\n",
    "    (\"Document1\", \"This is a sample!!!\"),\n",
    "    (\"Document2\", \"This is another sample???\"),\n",
    "    (\"Document3\", \"This is not sample>>>\"),\n",
    "    (\"Document4\", \"is a not...\"),\n",
    "    (\"Document5\", \"a not\"),\n",
    "]"
   ]
  },
  {
   "cell_type": "code",
   "execution_count": 6,
   "metadata": {
    "hidden": true
   },
   "outputs": [],
   "source": [
    "cleaned_collection = clean_collection(collection)"
   ]
  },
  {
   "cell_type": "code",
   "execution_count": 7,
   "metadata": {
    "hidden": true
   },
   "outputs": [
    {
     "data": {
      "text/plain": [
       "[['Document1', 'This is a sample '],\n",
       " ['Document2', 'This is another sample '],\n",
       " ['Document3', 'This is not sample '],\n",
       " ['Document4', 'is a not '],\n",
       " ['Document5', 'a not']]"
      ]
     },
     "execution_count": 7,
     "metadata": {},
     "output_type": "execute_result"
    }
   ],
   "source": [
    "cleaned_collection"
   ]
  },
  {
   "cell_type": "code",
   "execution_count": 8,
   "metadata": {
    "hidden": true
   },
   "outputs": [],
   "source": [
    "from functions.naver import NewsScraping"
   ]
  },
  {
   "cell_type": "code",
   "execution_count": 9,
   "metadata": {
    "hidden": true
   },
   "outputs": [],
   "source": [
    "news = NewsScraping()"
   ]
  },
  {
   "cell_type": "code",
   "execution_count": 10,
   "metadata": {
    "hidden": true
   },
   "outputs": [
    {
     "data": {
      "text/plain": [
       "480"
      ]
     },
     "execution_count": 10,
     "metadata": {},
     "output_type": "execute_result"
    }
   ],
   "source": [
    "filenames = news.get_filenames(default_path=\"../naver_news\", all_folder=True)\n",
    "len(filenames)"
   ]
  },
  {
   "cell_type": "code",
   "execution_count": 14,
   "metadata": {
    "hidden": true
   },
   "outputs": [],
   "source": [
    "def get_content(file):\n",
    "    content = \"\"\n",
    "    \n",
    "    with open(file, encoding=\"utf-8\") as f:\n",
    "        content = f.read()\n",
    "    \n",
    "    return content"
   ]
  },
  {
   "cell_type": "code",
   "execution_count": 15,
   "metadata": {
    "hidden": true
   },
   "outputs": [],
   "source": [
    "collection = []\n",
    "\n",
    "for filename in filenames:\n",
    "    collection.append([filename.split(\"/\")[-1], get_content(filename)])"
   ]
  },
  {
   "cell_type": "code",
   "execution_count": 16,
   "metadata": {
    "hidden": true
   },
   "outputs": [
    {
     "data": {
      "text/plain": [
       "480"
      ]
     },
     "execution_count": 16,
     "metadata": {},
     "output_type": "execute_result"
    }
   ],
   "source": [
    "len(collection)"
   ]
  },
  {
   "cell_type": "code",
   "execution_count": 17,
   "metadata": {
    "hidden": true
   },
   "outputs": [
    {
     "data": {
      "text/plain": [
       "[['00-01-0010682284.txt',\n",
       "  '\\n\\n\\n\\n\\n\\n\\n [앵커]불법 병역 면제, 한국 사회의 고질적인 문제 중 하나가  아닐까 싶습니다. 이번엔, 고의로 청각을  일시 마비시켜 병역을  면제받은 전직 국가대표  사이클 선수와  브로커 등이 적발됐습니다.박민철 기자의 보도입니다. [리포트] 4년 전 국가대표 사이클 선수 A씨는 병역 면제 판정을 받았습니다. 청력에 심각한 문제가 있다는 진단 때문이었지만 가짜였습니다. 밀폐된 차 안에서 2시간 가량 응원용 나팔과 자전거 경적을 사용해 일시적으로 청각을 마비시켜 장애 진단서를 발급 받은 겁니다. 같은 수법으로 병역 면제를 받았던 브로커 32살 이 모 씨가 천5백만 원을 받고 이런 수법을 알려줬습니다.이들은 병역을 면제받기 위해 이런 도구를 이용해 소음을 유발시켜 고의로 청력을 떨어뜨렸습니다. 구독자 100만 명을 넘긴 인터넷 게임방송 BJ도 5천만 원을 주고 수법을 배워 범행을 시도했습니다. 병무청은 2011년부터 7년동안 이런 수법으로 병역을 기피한 혐의 등으로 브로커 이 씨를 구속하고 7명을 불구속 입건했습니다. 최근 7년간 청각장애로 군 면제를 받은 천5백 명에 대한 자료도 들여다볼 예정입니다. [김태화/병무청 차장 : \"중앙 신체검사소의 정밀 검사를 강화해 일시적으로 청력을 마비시켰는지 여부를 확인하는 등 검사 시스템을 개선하기로 했습니다.\"] 지난 2012년부터 2018년까지 신검을 통해 병역 면제를 받은 사람은 6천9백58명. 같은 기간 병역법 위반 혐의로 적발된 피의자는 326명입니다. 체중을 속이는 경우가 97건으로 가장 많았고, 정신질환 위장과 고의 문신, 안과질환 위장 등이 뒤를 이었습니다. 여기에 청각 장애 위장이라는 신종 수법까지 발견된만큼, 병무청은 신체검사 전반을 재점검할 계획입니다. KBS 뉴스 박민철입니다.  박민철 기자 (mcpark@kbs.co.kr)▶ [만세 지도] 우리 동네 3.1운동 현장은?▶ 네이버 채널 KBS뉴스 구독! 시원하게 털어드립니다▶ ‘TV보다 ㄹㅇ’ 당신의 진짜 뉴스 ‘케이야’\\n\\n'],\n",
       " ['00-02-0000205407.txt',\n",
       "  '\\n\\n\\n\\n동영상 뉴스\\n\\n\\n\\n\\n\\n\\n[앵커]지난달 북·미 정상회담이 결렬된 것은 강경파인 볼턴 때문이라는 것이 그동안의 정설이었습니다. 그런데 오늘 의외의 취재결과가 나왔습니다. 저희 JTBC 취재결과, 회담 직전 폼페이오 미 국무장관이 \\'결렬 카드\\'를 트럼프 대통령에게 적극적으로 내밀었던 것으로 파악됐습니다.박현주 기자입니다.[기자]북·미 정상회담 결렬 직후 열렸던 트럼프 대통령의 기자회견.1년 전 싱가포르 회담과는 달리 폼페이오 장관이 함께 단상에 올랐습니다.[도널드 트럼프/미국 대통령 (지난달 28일 기자회견) : 저뿐 아니라 폼페이오 장관도 합의문에 서명하지 않는 게 좋다고 생각했습니다.]최근 미국 행정부 관계자들을 만나고 온 외교 소식통은 \"회담 결렬은 폼페이오 장관이 트럼프 대통령에게 제안한 것으로 들었다\"고 말했습니다.그는 \"폼페이오 장관이 존 볼턴 국가안보보좌관보다 더 적극적인 역할을 했다\"고도 했습니다.[도널드 트럼프/미국 대통령 (지난달 28일 기자회견) : 합의문이 준비돼 있었지만 서명하기 적절하지 않다고 생각했습니다.]북·미 협상팀은 합의문을 작성해놓았지만 미국측은 회담장에 원샷 해결법, 단계적 해법, 노딜 카드를 모두 들고 들어간 것으로도 확인됐습니다.하노이 회담 직전 워싱턴에서 열린 관료 회의에서는 \\'결렬\\' 옵션도 실제 논의된 것으로 전해졌습니다.북한도 회담 이후 이런 정황을 파악하고 폼페이오 장관에 대한 책임론을 들고나왔습니다.최선희 부상은 지난 15일 기자회견에서 \"폼페이오 장관과 볼턴 보좌관이 적대감과 불신의 분위기를 만들었다\"고 말했습니다.폼페이오 장관이 결렬 카드를 내민 배경에는 미국 국내 정치적 상황이 작용했다는 분석이 나옵니다.[신범철/아산정책연구원 안보통일센터장 : 트럼프 대통령이 코언 청문회로 인해서 정치적 어려움을 겪는 가운데 북한 문제 관련해서도 잘못된 거래를 했을 경우 정치적 타격이 예상되는 거죠.]상원의원 출마를 준비중인 폼페이오 장관과 트럼프 대통령 모두 단계적 해법은 정치적으로 도움이 되지 않는다는데 뜻을 같이했을 가능성이 나옵니다.(영상디자인 : 정수임)박현주(park.hyunju@jtbc.co.kr) [영상편집: 이지혜]▶ JTBC 기자들의 시청자 미션 수행? [뉴스 미션] / [뉴스룸 다시보기]▶ 확 달라진 \\'뉴스APP\\' 이슈부터 라이브까지 한눈에!Copyright by JTBC(http://jtbc.joins.com) and JTBC Content Hub Co., Ltd. All Rights Reserved. 무단 전재 및 재배포 금지\\n\\t\\n'],\n",
       " ['00-03-0010704904.txt',\n",
       "  '\\n\\n\\n\\n\\n\\n\\n\\t\\n\\t대부분 휴일과 붙여 사용…용산구 \"특혜 아냐\"(서울=연합뉴스) 고현실 기자 = 용산구청에서 사회복무요원으로 근무 중인 그룹 빅뱅의 멤버 탑(본명 최승현)이 다른 복무요원보다 병가를 평균 3배 더 쓴 것으로 파악됐다.    19일 용산구가 김병기 더불어민주당 의원실에 제출한 자료에 따르면 탑은 작년 1월 26일 용산구청 용산공예관에서 복무를 시작한 이래 최근까지 19일의 병가를 냈다. 용산구청에 근무하는 다른 사회복무요원보다 평균 3배 많은 수치다.    병가 일수 중 15일은 추석과 현충일 등 휴일과 붙여 사용했다.     MBC TV \\'뉴스데스크\\'는 이날 리포트에서 \"탑이 추석, 현충일과 붙여서 병가를 쓸 때 진단서를 따로 제출하지 않았다\"며 특혜 의혹을 제기했다.    탑은 MBC에 \"공황장애가 있었다\"고 해명했다.    용산구는 \"필요한 서류를 다 제출받았다\"며 특혜 의혹을 부인했다.    용산구 관계자는 \"하루 병가는 진단서 제출이 의무가 아니다\"라며 \"탑이 병가를 이틀 이상 쓸 경우 진단서를 제출했고, 사유서는 하루 치 병가에도 모두 제출했다\"고 해명했다.    한편 빅뱅의 또 다른 멤버 지드래곤 역시 군 복무 중 과도한 병가 사용으로 논란이 된 바 있다.그룹 빅뱅의 멤버 탑[연합뉴스 자료 사진]    okko@yna.co.kr▶네이버 홈에서 [연합뉴스] 채널 구독하기▶뭐 하고 놀까? #흥  ▶쇼미더뉴스! 오늘 많이 본 뉴스영상\\n\\n']]"
      ]
     },
     "execution_count": 17,
     "metadata": {},
     "output_type": "execute_result"
    }
   ],
   "source": [
    "collection[:3]"
   ]
  },
  {
   "cell_type": "code",
   "execution_count": 15,
   "metadata": {
    "hidden": true
   },
   "outputs": [],
   "source": [
    "cleaned_collection = clean_collection(collection)"
   ]
  },
  {
   "cell_type": "code",
   "execution_count": 16,
   "metadata": {
    "hidden": true
   },
   "outputs": [
    {
     "data": {
      "text/plain": [
       "[['00-01-0010682284.txt',\n",
       "  '  앵커 불법 병역 면제  한국 사회의 고질적인 문제 중 하나가 아닐까 싶습니다  이번엔  고의로 청각을 일시 마비시켜 병역을 면제받은 전직 국가대표 사이클 선수와 브로커 등이 적발됐습니다 박민철 기자의 보도입니다   리포트  4년 전 국가대표 사이클 선수 A씨는 병역 면제 판정을 받았습니다  청력에 심각한 문제가 있다는 진단 때문이었지만 가짜였습니다  밀폐된 차 안에서 2시간 가량 응원용 나팔과 자전거 경적을 사용해 일시적으로 청각을 마비시켜 장애 진단서를 발급 받은 겁니다  같은 수법으로 병역 면제를 받았던 브로커 32살 이 모 씨가 천5백만 원을 받고 이런 수법을 알려줬습니다 이들은 병역을 면제받기 위해 이런 도구를 이용해 소음을 유발시켜 고의로 청력을 떨어뜨렸습니다  구독자 100만 명을 넘긴 인터넷 게임방송 BJ도 5천만 원을 주고 수법을 배워 범행을 시도했습니다  병무청은 2011년부터 7년동안 이런 수법으로 병역을 기피한 혐의 등으로 브로커 이 씨를 구속하고 7명을 불구속 입건했습니다  최근 7년간 청각장애로 군 면제를 받은 천5백 명에 대한 자료도 들여다볼 예정입니다   김태화 병무청 차장    중앙 신체검사소의 정밀 검사를 강화해 일시적으로 청력을 마비시켰는지 여부를 확인하는 등 검사 시스템을 개선하기로 했습니다 지난 2012년부터 2018년까지 신검을 통해 병역 면제를 받은 사람은 6천9백58명  같은 기간 병역법 위반 혐의로 적발된 피의자는 326명입니다  체중을 속이는 경우가 97건으로 가장 많았고  정신질환 위장과 고의 문신  안과질환 위장 등이 뒤를 이었습니다  여기에 청각 장애 위장이라는 신종 수법까지 발견된만큼  병무청은 신체검사 전반을 재점검할 계획입니다  KBS 뉴스 박민철입니다  박민철 기자       만세 지도  우리 동네  1운동 현장은   네이버 채널 KBS뉴스 구독  시원하게 털어드립니다   TV보다   당신의 진짜 뉴스  케이야  '],\n",
       " ['00-02-0000205407.txt',\n",
       "  ' 동영상 뉴스  앵커 지난달 북 미 정상회담이 결렬된 것은 강경파인 볼턴 때문이라는 것이 그동안의 정설이었습니다  그런데 오늘 의외의 취재결과가 나왔습니다  저희 JTBC 취재결과  회담 직전 폼페이오 미 국무장관이  결렬 카드 를 트럼프 대통령에게 적극적으로 내밀었던 것으로 파악됐습니다 박현주 기자입니다 기자 북 미 정상회담 결렬 직후 열렸던 트럼프 대통령의 기자회견 1년 전 싱가포르 회담과는 달리 폼페이오 장관이 함께 단상에 올랐습니다 도널드 트럼프 미국 대통령  지난달 28일 기자회견    저뿐 아니라 폼페이오 장관도 합의문에 서명하지 않는 게 좋다고 생각했습니다 최근 미국 행정부 관계자들을 만나고 온 외교 소식통은  회담 결렬은 폼페이오 장관이 트럼프 대통령에게 제안한 것으로 들었다 고 말했습니다 그는  폼페이오 장관이 존 볼턴 더 적극적인 역할을 했다 고도 했습니다 도널드 트럼프 미국 대통령  지난달 28일 기자회견    합의문이 준비돼 있었지만 서명하기 적절하지 않다고 생각했습니다 북 미 협상팀은 합의문을 작성해놓았지만 미국측은 회담장에 원샷 해결법  단계적 해법  노딜 카드를 모두 들고 들어간 것으로도 확인됐습니다 하노이 회담 직전 워싱턴에서 열린 관료 회의에서는  결렬  옵션도 실제 논의된 것으로 전해졌습니다 북한도 회담 이후 이런 정황을 파악하고 폼페이오 장관에 대한 책임론을 들고나왔습니다 최선희 부상은 지난 15일 기자회견에서  폼페이오 장관과 볼턴 보좌관이 적대감과 불신의 분위기를 만들었다 고 말했습니다 폼페이오 장관이 결렬 카드를 내민 배경에는 미국 국내 정치적 상황이 작용했다는 분석이 나옵니다 신범철 아산정책연구원 안보통일센터장   트럼프 대통령이 코언 청문회로 인해서 정치적 어려움을 겪는 가운데 북한 문제 관련해서도 잘못된 거래를 했을 경우 정치적 타격이 예상되는 거죠 상원의원 출마를 준비중인 폼페이오 장관과 트럼프 대통령 모두 단계적 해법은 정치적으로 도움이 되지 않는다는데 뜻을 같이했을 가능성이 나옵니다 영상디자인   정수임 박현주 park     영상편집  이지혜   JTBC 기자들의 시청자 미션 수행   뉴스 미션     뉴스룸 다시보기   확 달라진  뉴스APP  이슈부터 라이브까지 한눈에  by JTBC    and JTBC Content Hub Co Ltd  All Rights   무단 전재 및 재배포 금지 '],\n",
       " ['00-03-0010704904.txt',\n",
       "  ' 대부분 휴일과 붙여 사용 용산구  특혜 아냐 서울 연합뉴스  고현실 기자   용산구청에서 근무 중인 그룹 빅뱅의 멤버 탑 본명 최승현 이 다른 복무요원보다 병가를 평균 3배 더 쓴 것으로 파악됐다  19일 용산구가 김병기 더불어민주당 의원실에 제출한 자료에 따르면 탑은 작년 1월 26일 용산구청 용산공예관에서 복무를 시작한 이래 최근까지 19일의 병가를 냈다  용산구청에 근무하는 다른 평균 3배 많은 수치다  병가 일수 중 15일은 추석과 현충일 등 휴일과 붙여 사용했다  MBC TV  뉴스데스크 는 이날 리포트에서  탑이 추석  현충일과 붙여서 병가를 쓸 때 진단서를 따로 제출하지 않았다 며 특혜 의혹을 제기했다  탑은 MBC에  공황장애가 있었다 고 해명했다  용산구는  필요한 서류를 다 제출받았다 며 특혜 의혹을 부인했다  용산구 관계자는  하루 병가는 진단서 제출이 의무가 아니다 라며  탑이 병가를 이틀 이상 쓸 경우 진단서를 제출했고  사유서는 하루 치 병가에도 모두 제출했다 고 해명했다  한편 빅뱅의 또 다른 멤버 지드래곤 역시 군 복무 중 과도한 병가 사용으로 논란이 된 바 있다 그룹 빅뱅의 멤버 탑 연합뉴스 자료 사진   네이버 홈에서  연합뉴스  채널 구독하기 뭐 하고 놀까   흥  쇼미더뉴스  오늘 많이 본 뉴스영상 ']]"
      ]
     },
     "execution_count": 16,
     "metadata": {},
     "output_type": "execute_result"
    }
   ],
   "source": [
    "cleaned_collection[:3]"
   ]
  },
  {
   "cell_type": "markdown",
   "metadata": {
    "heading_collapsed": true
   },
   "source": [
    "### Extend Lexicon"
   ]
  },
  {
   "cell_type": "code",
   "execution_count": 47,
   "metadata": {
    "hidden": true,
    "scrolled": true
   },
   "outputs": [],
   "source": [
    "extended_collection = []\n",
    "\n",
    "for idx, (filename, corpus) in enumerate(cleaned_collection):\n",
    "    if idx > 20:    # 테스트를 위해 자료를 10개만 읽어들임\n",
    "        break\n",
    "    extended_lexicon = extend_lexicon(corpus)\n",
    "    extended_collection.append([np.array([filename]), extended_lexicon])\n",
    "#     if (idx + 1) % 10 == 0:\n",
    "#         print(corpus_count, \"개 documents 중\", idx + 1, \"개 documents의 lexicon 추출 완료\")\n",
    "\n",
    "# print(idx + 1, \"개 documents의 lexicon 추출 완료\")"
   ]
  },
  {
   "cell_type": "code",
   "execution_count": 55,
   "metadata": {
    "hidden": true
   },
   "outputs": [],
   "source": [
    "extended_collection = np.array(extended_collection)"
   ]
  },
  {
   "cell_type": "code",
   "execution_count": 57,
   "metadata": {
    "hidden": true
   },
   "outputs": [
    {
     "data": {
      "text/plain": [
       "array([[array(['00-01-0010682284.txt'], dtype='<U20'),\n",
       "        array(['앵커', '불법', '병역', ..., '뉴스', '케이', '이야'], dtype='<U32')],\n",
       "       [array(['00-02-0000205407.txt'], dtype='<U20'),\n",
       "        array(['동영상', '뉴스', '앵커', ..., '재배', '배포', '금지'], dtype='<U32')],\n",
       "       [array(['00-03-0010704904.txt'], dtype='<U20'),\n",
       "        array(['대부분', '휴일과', '붙여', '사용', '용산구', '특혜', '아냐', '서울', '연합뉴스', '고현실',\n",
       "       '기자', '용산구청에서', '근무', '중인', '그룹', '빅뱅의', '멤버', '본명', '최승현', '다른',\n",
       "       '복무요원보다', '병가를', '평균', '3배', '것으로', '파악됐다', '19일', '용산구가', '김병기',\n",
       "       '더불어민주당', '의원실에', '제출한', '자료에', '따르면', '탑은', '작년', '1월', '26일',\n",
       "       '용산구청', '용산공예관에서', '복무를', '시작한', '이래', '최근까지', '19일의', '병가를', '냈다',\n",
       "       '용산구청에', '근무하는', '다른', '평균', '3배', '많은', '수치다', '병가', '일수', '15일은',\n",
       "       '추석과', '현충일', '휴일과', '붙여', '사용했다', 'MBC', 'TV', '뉴스데스크', '이날',\n",
       "       '리포트에서', '탑이', '추석', '현충일과', '붙여서', '병가를', '진단서를', '따로', '제출하지',\n",
       "       '않았다', '특혜', '의혹을', '제기했다', '탑은', 'MBC에', '공황장애가', '있었다', '해명했다',\n",
       "       '용산구는', '필요한', '서류를', '제출받았다', '특혜', '의혹을', '부인했다', '용산구', '관계자는',\n",
       "       '하루', '병가는', '진단서', '제출이', '의무가', '아니다', '라며', '탑이', '병가를', '이틀',\n",
       "       '이상', '경우', '진단서를', '제출했고', '사유서는', '하루', '병가에도', '모두', '제출했다',\n",
       "       '해명했다', '한편', '빅뱅의', '다른', '멤버', '지드래곤', '역시', '복무', '과도한', '병가',\n",
       "       '사용으로', '논란이', '있다', '그룹', '빅뱅의', '멤버', '연합뉴스', '자료', '사진', '네이버',\n",
       "       '홈에서', '연합뉴스', '채널', '구독하기', '하고', '놀까', '쇼미더뉴스', '오늘', '많이',\n",
       "       '뉴스영상', '대부분', '휴일', '붙이', '사용', '용산구', '특혜', '아냐', '서울', '연합',\n",
       "       '뉴스', '현실', '기자', '용산구', '에서', '근무', '중인', '그룹', '빅뱅', '멤버', '본명',\n",
       "       '최승', '다르', '복무', '요원', '보다', '병가', '평균', '으로', '파악', '19', '용산구',\n",
       "       '김병기', '더불', '민주당', '의원', '제출', '자료', '따르', '작년', '26', '용산구',\n",
       "       '공예', '에서', '복무', '시작', '이래', '최근', '까지', '19', '병가', '용산구', '근무',\n",
       "       '다른', '평균', '수치', '병가', '일수', '15', '추석', '현충일', '휴일', '붙이', '사용하',\n",
       "       'MBC', 'TV', '뉴스', '데스크', '이날', '리포트', '에서', '추석', '현충일', '붙이',\n",
       "       '어서', '병가', '진단서', '따로', '제출', '특혜', '의혹', '제기', 'MBC', '공황', '장애',\n",
       "       '해명', '용산구', '필요', '서류', '제출', '특혜', '의혹', '부인', '용산구', '관계자',\n",
       "       '하루', '병가', '진단서', '제출', '의무', '아니', '병가', '이틀', '이상', '경우', '진단서',\n",
       "       '제출', '사유서', '하루', '병가', '모두', '제출', '해명', '한편', '빅뱅', '다른', '멤버',\n",
       "       '드래곤', '역시', '복무', '과도', '병가', '사용', '으로', '논란', '그룹', '빅뱅', '멤버',\n",
       "       '연합', '뉴스', '자료', '사진', '네이버', '에서', '연합', '뉴스', '채널', '구독', 'ㄹ까',\n",
       "       '뉴스', '오늘', '많이', '뉴스', '영상', '대부분', '휴일', '사용', '용산', '용산구', '특혜',\n",
       "       '서울', '연합', '연합뉴스', '뉴스', '현실', '기자', '용산구청', '근무', '중인', '그룹',\n",
       "       '빅뱅', '멤버', '본명', '최승', '복무', '복무요원', '요원', '병가', '평균', '3배', '파악',\n",
       "       '19', '19일', '김병기', '민주당', '의원', '의원실', '제출', '자료', '작년', '1월',\n",
       "       '26', '26일', '용산공예관', '공예', '시작', '이래', '최근', '수치', '일수', '15',\n",
       "       '15일', '추석', '현충일', '뉴스데스크', '데스크', '이날', '리포트', '진단서', '의혹', '제기',\n",
       "       '공황', '공황장애', '장애', '해명', '필요', '서류', '부인', '관계자', '하루', '의무',\n",
       "       '이틀', '이상', '경우', '사유서', '한편', '지드래곤', '드래곤', '과도', '논란', '사진',\n",
       "       '네이버', '채널', '구독', '쇼미', '오늘', '뉴스영상', '영상', '대부', '부분', '휴일',\n",
       "       '일과', '붙여', '사용', '용산', '산구', '특혜', '아냐', '서울', '연합', '합뉴', '뉴스',\n",
       "       '고현', '현실', '기자', '용산', '산구', '구청', '청에', '에서', '근무', '중인', '그룹',\n",
       "       '빅뱅', '뱅의', '멤버', '본명', '최승', '승현', '다른', '복무', '무요', '요원', '원보',\n",
       "       '보다', '병가', '가를', '평균', '3배', '것으', '으로', '파악', '악됐', '됐다', '19',\n",
       "       '9일', '용산', '산구', '구가', '김병', '병기', '더불', '불어', '어민', '민주', '주당',\n",
       "       '의원', '원실', '실에', '제출', '출한', '자료', '료에', '따르', '르면', '탑은', '작년',\n",
       "       '1월', '26', '6일', '용산', '산구', '구청', '용산', '산공', '공예', '예관', '관에',\n",
       "       '에서', '복무', '무를', '시작', '작한', '이래', '최근', '근까', '까지', '19', '9일',\n",
       "       '일의', '병가', '가를', '냈다', '용산', '산구', '구청', '청에', '근무', '무하', '하는',\n",
       "       '다른', '평균', '3배', '많은', '수치', '치다', '병가', '일수', '15', '5일', '일은',\n",
       "       '추석', '석과', '현충', '충일', '휴일', '일과', '붙여', '사용', '용했', '했다', 'MB',\n",
       "       'BC', 'TV', '뉴스', '스데', '데스', '스크', '이날', '리포', '포트', '트에', '에서',\n",
       "       '탑이', '추석', '현충', '충일', '일과', '붙여', '여서', '병가', '가를', '진단', '단서',\n",
       "       '서를', '따로', '제출', '출하', '하지', '않았', '았다', '특혜', '의혹', '혹을', '제기',\n",
       "       '기했', '했다', '탑은', 'MB', 'BC', 'C에', '공황', '황장', '장애', '애가', '있었',\n",
       "       '었다', '해명', '명했', '했다', '용산', '산구', '구는', '필요', '요한', '서류', '류를',\n",
       "       '제출', '출받', '받았', '았다', '특혜', '의혹', '혹을', '부인', '인했', '했다', '용산',\n",
       "       '산구', '관계', '계자', '자는', '하루', '병가', '가는', '진단', '단서', '제출', '출이',\n",
       "       '의무', '무가', '아니', '니다', '라며', '탑이', '병가', '가를', '이틀', '이상', '경우',\n",
       "       '진단', '단서', '서를', '제출', '출했', '했고', '사유', '유서', '서는', '하루', '병가',\n",
       "       '가에', '에도', '모두', '제출', '출했', '했다', '해명', '명했', '했다', '한편', '빅뱅',\n",
       "       '뱅의', '다른', '멤버', '지드', '드래', '래곤', '역시', '복무', '과도', '도한', '병가',\n",
       "       '사용', '용으', '으로', '논란', '란이', '있다', '그룹', '빅뱅', '뱅의', '멤버', '연합',\n",
       "       '합뉴', '뉴스', '자료', '사진', '네이', '이버', '홈에', '에서', '연합', '합뉴', '뉴스',\n",
       "       '채널', '구독', '독하', '하기', '하고', '놀까', '쇼미', '미더', '더뉴', '뉴스', '오늘',\n",
       "       '많이', '뉴스', '스영', '영상'], dtype='<U32')],\n",
       "       [array(['00-04-0010682275.txt'], dtype='<U20'),\n",
       "        array(['자유한국당', '나경원', '원내대표와', ..., '뉴스', '케이', '이야'], dtype='<U32')],\n",
       "       [array(['00-05-0003433864.txt'], dtype='<U20'),\n",
       "        array(['문재인', '대통령과', '마하티르', '모하맛', '말레이시아', '총리가', '13일', '오후', '푸트라자야',\n",
       "       '총리', '궁에서', '공동언론발표를', '하고', '있다', '청와대', '제공문재인', '대통령이', '최근',\n",
       "       '아세안', '3개국', '순방', '마하티르', '모하맛', '말레이사아', '총리와', '정상회담', '공동',\n",
       "       '기자회견에서', '말레이시아', '말이', '아닌', '인도네시아', '말로', '인사말을', '건넨', '것으로',\n",
       "       '19일', '확인됐다', '대통령은', '지난', '13일', '말레이시아', '행정수도', '트라자야의',\n",
       "       '총리실에서', '마하티르', '총리와', '회담을', '마친', '공동', '기자회견을', '했다', '자리에서',\n",
       "       '대통령은', '슬라맛', '소르', '라는', '인사를', '건넸고', '청와대는', '표현이', '말레이시아의',\n",
       "       '오후', '인사', '라고', '설명했다', '하지만', '말은', '말레이시아어가', '아닌', '말레이시아',\n",
       "       '인사말은', '슬라맛', '쁘탕', 'Selamat', 'petang', '이다', '이런', '사실이',\n",
       "       '소셜미디어를', '통해', '알려지면서', '정부의', '외교', '실수란', '지적이', '나왔다', '더구나',\n",
       "       '신남방정책', '주요', '외교', '정책', '하나로', '추진', '중인', '정부로선', '단순', '실수를',\n",
       "       '넘어', '대통령을', '보좌하는', '의전', '외교', '라인의', '기강', '해이란', '지적도', '나온다',\n",
       "       '청와대는', '지난', '15일에도', '대통령이', '방문한', '캄보디아를', '소개하는', '공식',\n",
       "       '페이스북', '글에', '캄보디아가', '아닌', '대만의', '국가양청원', '사진을', '올리기도', '했다',\n",
       "       '당시', '청와대는', '이미지', '사이트', '오류', '때문', '이라며', '해당', '게시물을',\n",
       "       '삭제했지만', '이해하기', '어려운', '실수란', '지적이', '나왔다', '이슬기', '기자', '조선일보',\n",
       "       '무단', '전재', '재배포', '금지', '네이버', '메인에서', '조선일보', '받아보기', '조선닷컴',\n",
       "       '바로가기', '조선일보', '구독신청하기', '재인', '대통령', '마하', '모하', '말레이시아', '총리',\n",
       "       '13', '오후', '푸트라자', '총리', '에서', '공동', '언론', '발표', '청와대', '제공',\n",
       "       '재인', '대통령', '최근', '아세안', '개국', '순방', '마하', '모하', '말레이', '사아',\n",
       "       '총리', '정상', '회담', '공동', '기자', '회견', '에서', '말레이시아', '아니', '인도네시아',\n",
       "       '말로', '인사말', '건네', '으로', '19', '확인', '대통령', '지나', '13', '말레이시아',\n",
       "       '행정', '수도', '트라', '자야', '총리', '에서', '마하', '총리', '회담', '마치', '공동',\n",
       "       '기자', '회견', '자리', '에서', '대통령', 'ㄹ라', '라는', '인사', '건네', '청와대', '표현',\n",
       "       '말레이시아', '오후', '인사', '라고', '설명', '하지만', '말레이시아', '어가', '아니',\n",
       "       '말레이시아', '인사말', 'ㄹ라', 'Selamat', 'petang', '이러', '사실', '미디어', '통하',\n",
       "       '면서', '정부', '외교', '실수', '지적', '나오', '더구나', '남방', '정책', '주요', '외교',\n",
       "       '정책', '하나', '추진', '중인', '정부', '로서', '단순', '실수', '대통령', '보좌', '의전',\n",
       "       '외교', '라인', '기강', '해이', '지적도', '나오', 'ㄴ다', '청와대', '지나', '15',\n",
       "       '대통령', '방문', '보디', '소개', '공식', '페이스', '보디', '아가', '아니', '국가', '청원',\n",
       "       '사진', '올리', '당시', '청와대', '이미지', '사이트', '오류', '때문', '라며', '해당',\n",
       "       '게시물', '삭제', '지만', '이해', '어렵', '실수', '지적', '나오', '이슬기', '기자', '조선',\n",
       "       '일보', '무단', '전재', '배포', '금지', '네이버', '메인', '에서', '조선', '일보', '보기',\n",
       "       '조선', '닷컴', '바로', '가기', '조선', '일보', '구독', '신청', '문재인', '재인', '대통령',\n",
       "       '마하', '마하티르', '모하', '모하맛', '말레이시아', '총리', '13', '13일', '오후',\n",
       "       '푸트라자', '공동', '공동언론발표', '언론', '발표', '청와대', '제공', '제공문재인', '최근',\n",
       "       '아세안', '3개국', '개국', '순방', '말레이', '말레이사아', '사아', '정상', '정상회담', '회담',\n",
       "       '기자', '기자회견', '회견', '인도네시아', '말로', '인사말', '19', '19일', '확인', '행정',\n",
       "       '행정수도', '수도', '트라', '트라자야', '자야', '총리실', '자리', '소르', '인사', '표현',\n",
       "       '설명', '말레이시아어가', '어가', '쁘탕', '사실', '소셜미디어', '미디어', '정부', '외교',\n",
       "       '실수', '지적', '신남방정책', '남방', '정책', '주요', '하나', '추진', '중인', '단순',\n",
       "       '보좌', '의전', '라인', '기강', '해이', '지적도', '15', '15일', '방문', '보디', '소개',\n",
       "       '공식', '페이스', '페이스북', '보디아가', '아가', '국가', '국가양청원', '청원', '사진', '당시',\n",
       "       '이미지', '사이트', '오류', '때문', '해당', '게시물', '삭제', '이해', '이슬기', '조선',\n",
       "       '조선일보', '일보', '무단', '전재', '배포', '금지', '네이버', '메인', '보기', '조선닷컴',\n",
       "       '닷컴', '가기', '구독', '구독신청', '신청', '문재', '재인', '대통', '통령', '령과', '마하',\n",
       "       '하티', '티르', '모하', '하맛', '말레', '레이', '이시', '시아', '총리', '리가', '13',\n",
       "       '3일', '오후', '푸트', '트라', '라자', '자야', '총리', '궁에', '에서', '공동', '동언',\n",
       "       '언론', '론발', '발표', '표를', '하고', '있다', '청와', '와대', '제공', '공문', '문재',\n",
       "       '재인', '대통', '통령', '령이', '최근', '아세', '세안', '3개', '개국', '순방', '마하',\n",
       "       '하티', '티르', '모하', '하맛', '말레', '레이', '이사', '사아', '총리', '리와', '정상',\n",
       "       '상회', '회담', '공동', '기자', '자회', '회견', '견에', '에서', '말레', '레이', '이시',\n",
       "       '시아', '말이', '아닌', '인도', '도네', '네시', '시아', '말로', '인사', '사말', '말을',\n",
       "       '건넨', '것으', '으로', '19', '9일', '확인', '인됐', '됐다', '대통', '통령', '령은',\n",
       "       '지난', '13', '3일', '말레', '레이', '이시', '시아', '행정', '정수', '수도', '트라',\n",
       "       '라자', '자야', '야의', '총리', '리실', '실에', '에서', '마하', '하티', '티르', '총리',\n",
       "       '리와', '회담', '담을', '마친', '공동', '기자', '자회', '회견', '견을', '했다', '자리',\n",
       "       '리에', '에서', '대통', '통령', '령은', '슬라', '라맛', '소르', '라는', '인사', '사를',\n",
       "       '건넸', '넸고', '청와', '와대', '대는', '표현', '현이', '말레', '레이', '이시', '시아',\n",
       "       '아의', '오후', '인사', '라고', '설명', '명했', '했다', '하지', '지만', '말은', '말레',\n",
       "       '레이', '이시', '시아', '아어', '어가', '아닌', '말레', '레이', '이시', '시아', '인사',\n",
       "       '사말', '말은', '슬라', '라맛', '쁘탕', 'Se', 'el', 'la', 'am', 'ma', 'at',\n",
       "       'pe', 'et', 'ta', 'an', 'ng', '이다', '이런', '사실', '실이', '소셜', '셜미',\n",
       "       '미디', '디어', '어를', '통해', '알려', '려지', '지면', '면서', '정부', '부의', '외교',\n",
       "       '실수', '수란', '지적', '적이', '나왔', '왔다', '더구', '구나', '신남', '남방', '방정',\n",
       "       '정책', '주요', '외교', '정책', '하나', '나로', '추진', '중인', '정부', '부로', '로선',\n",
       "       '단순', '실수', '수를', '넘어', '대통', '통령', '령을', '보좌', '좌하', '하는', '의전',\n",
       "       '외교', '라인', '인의', '기강', '해이', '이란', '지적', '적도', '나온', '온다', '청와',\n",
       "       '와대', '대는', '지난', '15', '5일', '일에', '에도', '대통', '통령', '령이', '방문',\n",
       "       '문한', '캄보', '보디', '디아', '아를', '소개', '개하', '하는', '공식', '페이', '이스',\n",
       "       '스북', '글에', '캄보', '보디', '디아', '아가', '아닌', '대만', '만의', '국가', '가양',\n",
       "       '양청', '청원', '사진', '진을', '올리', '리기', '기도', '했다', '당시', '청와', '와대',\n",
       "       '대는', '이미', '미지', '사이', '이트', '오류', '때문', '이라', '라며', '해당', '게시',\n",
       "       '시물', '물을', '삭제', '제했', '했지', '지만', '이해', '해하', '하기', '어려', '려운',\n",
       "       '실수', '수란', '지적', '적이', '나왔', '왔다', '이슬', '슬기', '기자', '조선', '선일',\n",
       "       '일보', '무단', '전재', '재배', '배포', '금지', '네이', '이버', '메인', '인에', '에서',\n",
       "       '조선', '선일', '일보', '받아', '아보', '보기', '조선', '선닷', '닷컴', '바로', '로가',\n",
       "       '가기', '조선', '선일', '일보', '구독', '독신', '신청', '청하', '하기'], dtype='<U32')],\n",
       "       [array(['00-06-0000933443.txt'], dtype='<U20'),\n",
       "        array(['동영상', '뉴스', '뉴스데스크', ..., 'gh', 'ht', 'ts'], dtype='<U32')],\n",
       "       [array(['00-07-0002892667.txt'], dtype='<U20'),\n",
       "        array(['청와대가', '버닝썬', '사건에', ..., '재배', '배포', '금지'], dtype='<U32')],\n",
       "       [array(['00-08-0000269602.txt'], dtype='<U20'),\n",
       "        array(['동영상', '뉴스', '앵커', ..., '재배', '배포', '금지'], dtype='<U32')],\n",
       "       [array(['00-09-0000718244.txt'], dtype='<U20'),\n",
       "        array(['동영상', '뉴스', '앵커', ..., '재배', '배포', '금지'], dtype='<U32')],\n",
       "       [array(['00-10-0002892709.txt'], dtype='<U20'),\n",
       "        array(['2차', '정상회담이', '결렬된', ..., '재배', '배포', '금지'], dtype='<U32')],\n",
       "       [array(['01-01-0000933452.txt'], dtype='<U20'),\n",
       "        array(['동영상', '뉴스', '뉴스데스크', ..., 'gh', 'ht', 'ts'], dtype='<U32')],\n",
       "       [array(['01-02-0010682283.txt'], dtype='<U20'),\n",
       "        array(['앵커', '수백', '억원', ..., '뉴스', '케이', '이야'], dtype='<U32')],\n",
       "       [array(['01-03-0001335011.txt'], dtype='<U20'),\n",
       "        array(['동영상', '뉴스', '앵커멘트', '매매가', '이렇게', '얼어붙으면서', '전월세', '비중은', '역대',\n",
       "       '최대치로', '높아졌지만', '다행히', '전셋값은', '떨어지는', '추세입니다', '하지만', '마냥',\n",
       "       '반가운', '일이', '아닌', '역전세', '현상이', '심각해지면서', '세입자가', '돈을', '떼일',\n",
       "       '위험도', '커지고', '있습니다', '이기종', '기자입니다', '기자', '서울', '잠실의', '아파트',\n",
       "       '2년', '5억', '원에', '육박했던', '전셋값이', '지난달', '4억', '초반으로', '주저앉았고',\n",
       "       '급전세는', '3억', '원에도', '거래됐습니다', '집주인이', '당장', '2억', '원을', '내놔야',\n",
       "       '한다는', '얘기입니다', '인터뷰', '인근', '부동산', '헬리오시티', '영향', '들어가니까', '입주자가',\n",
       "       '살던', '집들이', '전세로', '나오는', '거죠', '4억', '정도', '5억', '하다가', '들어',\n",
       "       '거래된', '아파트', '절반은', '2년', '전보다', '전셋값이', '내린', '것으로', '나타났습니다',\n",
       "       '지방은', '심각해', '10채', '6채는', '역전세', '현상이', '빚어졌습니다', '스탠딩', '이기종',\n",
       "       '기자', '서울도', '예외는', '아닙니다', '지난', '2016년', '불과했던', '역전세', '비중은',\n",
       "       '들어', '28', '급증했습니다', '한국은행이', '역전세난을', '경고하고', '나설', '정도', '특히',\n",
       "       '전셋값이', '10', '떨어져도', '3만여', '가구', '세입자가', '보증금을', '떼일', '있다고',\n",
       "       '우려했습니다', '집주인이', '빚을', '내도', '돈을', '돌려주기', '어렵다는', '겁니다', '한국은행은',\n",
       "       '당장', '금융안정을', '위협할', '수준은', '아니라고', '진단했지만', '문제는', '속도입니다', '들어',\n",
       "       '전세', '4채', '1채는', '10', '넘게', '값이', '내려갔고', '30', '이상', '빠진',\n",
       "       '가구도', '있습니다', '특히', '역전세난이', '750조에', '달하는', '전세대출', '부실로',\n",
       "       '이어지면', '금융기관의', '건전성이', '흔들리면서', '부동산발', '금융위기', '가능성도', '배제할',\n",
       "       '없다는', '지적입니다', 'MBN뉴스', '이기종입니다', '영상취재', '임채웅', '기자', '영상편집',\n",
       "       '한주희', 'MBN의', '실시간', '방송을', '고화질로', '즐겨보세요', 'MBN의', '밀착취재',\n",
       "       'ON마이크', 'MBN', '무단전재', '재배포', '금지', '동영상', '뉴스', '앵커', '멘트', '매매',\n",
       "       '이렇', '얼어붙', '으면서', '전월', '비중', '역대', '최대치', '지만', '다행히', '떨어지',\n",
       "       '추세', 'ㅂ니다', '하지만', '마냥', '반갑', '아니', '역전', '현상', '심각', '해지', '면서',\n",
       "       '세입자', '떼이', '위험', '커지', '습니다', '기종', '기자', 'ㅂ니다', '기자', '서울',\n",
       "       '잠실', '아파트', '육박', '지난달', '초반', '으로', '주저앉', '전세', '거래', '습니다',\n",
       "       '주인', '당장', '내노', '아야', 'ㄴ다는', '얘기', 'ㅂ니다', '인터뷰', '인근', '부동산',\n",
       "       '헬리오', '시티', '영향', '들어가', '니까', '입주자', '집들이', '전세', '나오', '정도',\n",
       "       '하다', '거래', '아파트', '절반', '보다', '내리', '으로', '나타나', '습니다', '지방',\n",
       "       '심각', '10', '전세', '현상', '빚어지', '습니다', '스탠딩', '기종', '기자', '서울',\n",
       "       '예외', '아니', 'ㅂ니다', '지나', '2016', '불과', '전세', '비중', '28', '급증',\n",
       "       '습니다', '한국', '은행', '역전', '경고', '나서', '정도', '특히', '10', '떨어지', '어도',\n",
       "       '가구', '세입자', '보증금', '떼이', '다고', '우려', '습니다', '주인', '내도', '돌려주',\n",
       "       '어렵', '다는', 'ㅂ니다', '한국', '은행', '당장', '금융', '안정', '위협', '수준', '아니',\n",
       "       '라고', '진단', '지만', '문제', '속도', 'ㅂ니다', '전세', '10', '내려가', '30', '이상',\n",
       "       '빠지', '가구', '습니다', '특히', '전세', '난이', '750', '달하', '전세', '대출', '부실',\n",
       "       '이어지', '금융', '기관', '건전', '흔들리', '면서', '부동산', '금융', '위기', '가능성',\n",
       "       '배제', '다는', '지적', 'ㅂ니다', 'MBN', '뉴스', '기종', 'ㅂ니다', '영상', '취재',\n",
       "       '기자', '영상', '편집', '주희', 'MBN', '실시간', '방송', '고화질', '즐기', '세요',\n",
       "       'MBN', '밀착', '취재', 'ON', '마이크', 'MBN', '무단', '전재', '배포', '금지',\n",
       "       '동영상', '뉴스', '앵커', '앵커멘트', '멘트', '매매', '전월', '비중', '역대', '최대치',\n",
       "       '전셋값', '추세', '역전', '현상', '세입자', '위험', '기종', '기자', '서울', '잠실',\n",
       "       '아파트', '2년', '5억', '육박', '지난달', '4억', '초반', '급전세', '전세', '3억',\n",
       "       '거래', '집주인', '주인', '당장', '2억', '얘기', '인터뷰', '인근', '부동산', '헬리오',\n",
       "       '헬리오시티', '시티', '영향', '입주자', '집들이', '정도', '하다', '절반', '지방', '심각',\n",
       "       '10', '10채', '6채', '역전세', '스탠딩', '예외', '2016', '2016년', '불과', '28',\n",
       "       '급증', '한국', '한국은행', '은행', '경고', '3만여', '가구', '보증금', '우려', '내도',\n",
       "       '금융', '금융안정', '안정', '위협', '수준', '진단', '문제', '속도', '4채', '1채', '30',\n",
       "       '이상', '역전세난이', '난이', '750', '750조', '전세대출', '대출', '부실', '금융기관',\n",
       "       '기관', '건전', '부동산발', '금융위기', '위기', '가능성', '배제', '지적', '영상', '영상취재',\n",
       "       '취재', '영상편집', '편집', '주희', '실시간', '방송', '고화질', '밀착', '밀착취재', '마이크',\n",
       "       '무단', '무단전재', '전재', '배포', '금지', '동영', '영상', '뉴스', '앵커', '커멘', '멘트',\n",
       "       '매매', '매가', '이렇', '렇게', '얼어', '어붙', '붙으', '으면', '면서', '전월', '월세',\n",
       "       '비중', '중은', '역대', '최대', '대치', '치로', '높아', '아졌', '졌지', '지만', '다행',\n",
       "       '행히', '전셋', '셋값', '값은', '떨어', '어지', '지는', '추세', '세입', '입니', '니다',\n",
       "       '하지', '지만', '마냥', '반가', '가운', '일이', '아닌', '역전', '전세', '현상', '상이',\n",
       "       '심각', '각해', '해지', '지면', '면서', '세입', '입자', '자가', '돈을', '떼일', '위험',\n",
       "       '험도', '커지', '지고', '있습', '습니', '니다', '이기', '기종', '기자', '자입', '입니',\n",
       "       '니다', '기자', '서울', '잠실', '실의', '아파', '파트', '2년', '5억', '원에', '육박',\n",
       "       '박했', '했던', '전셋', '셋값', '값이', '지난', '난달', '4억', '초반', '반으', '으로',\n",
       "       '주저', '저앉', '앉았', '았고', '급전', '전세', '세는', '3억', '원에', '에도', '거래',\n",
       "       '래됐', '됐습', '습니', '니다', '집주', '주인', '인이', '당장', '2억', '원을', '내놔',\n",
       "       '놔야', '한다', '다는', '얘기', '기입', '입니', '니다', '인터', '터뷰', '인근', '부동',\n",
       "       '동산', '헬리', '리오', '오시', '시티', '영향', '들어', '어가', '가니', '니까', '입주',\n",
       "       '주자', '자가', '살던', '집들', '들이', '전세', '세로', '나오', '오는', '거죠', '4억',\n",
       "       '정도', '5억', '하다', '다가', '들어', '거래', '래된', '아파', '파트', '절반', '반은',\n",
       "       '2년', '전보', '보다', '전셋', '셋값', '값이', '내린', '것으', '으로', '나타', '타났',\n",
       "       '났습', '습니', '니다', '지방', '방은', '심각', '각해', '10', '0채', '6채', '채는',\n",
       "       '역전', '전세', '현상', '상이', '빚어', '어졌', '졌습', '습니', '니다', '스탠', '탠딩',\n",
       "       '이기', '기종', '기자', '서울', '울도', '예외', '외는', '아닙', '닙니', '니다', '지난',\n",
       "       '20', '01', '16', '6년', '불과', '과했', '했던', '역전', '전세', '비중', '중은',\n",
       "       '들어', '28', '급증', '증했', '했습', '습니', '니다', '한국', '국은', '은행', '행이',\n",
       "       '역전', '전세', '세난', '난을', '경고', '고하', '하고', '나설', '정도', '특히', '전셋',\n",
       "       '셋값', '값이', '10', '떨어', '어져', '져도', '3만', '만여', '가구', '세입', '입자',\n",
       "       '자가', '보증', '증금', '금을', '떼일', '있다', '다고', '우려', '려했', '했습', '습니',\n",
       "       '니다', '집주', '주인', '인이', '빚을', '내도', '돈을', '돌려', '려주', '주기', '어렵',\n",
       "       '렵다', '다는', '겁니', '니다', '한국', '국은', '은행', '행은', '당장', '금융', '융안',\n",
       "       '안정', '정을', '위협', '협할', '수준', '준은', '아니', '니라', '라고', '진단', '단했',\n",
       "       '했지', '지만', '문제', '제는', '속도', '도입', '입니', '니다', '들어', '전세', '4채',\n",
       "       '1채', '채는', '10', '넘게', '값이', '내려', '려갔', '갔고', '30', '이상', '빠진',\n",
       "       '가구', '구도', '있습', '습니', '니다', '특히', '역전', '전세', '세난', '난이', '75',\n",
       "       '50', '0조', '조에', '달하', '하는', '전세', '세대', '대출', '부실', '실로', '이어',\n",
       "       '어지', '지면', '금융', '융기', '기관', '관의', '건전', '전성', '성이', '흔들', '들리',\n",
       "       '리면', '면서', '부동', '동산', '산발', '금융', '융위', '위기', '가능', '능성', '성도',\n",
       "       '배제', '제할', '없다', '다는', '지적', '적입', '입니', '니다', 'MB', 'BN', 'N뉴',\n",
       "       '뉴스', '이기', '기종', '종입', '입니', '니다', '영상', '상취', '취재', '임채', '채웅',\n",
       "       '기자', '영상', '상편', '편집', '한주', '주희', 'MB', 'BN', 'N의', '실시', '시간',\n",
       "       '방송', '송을', '고화', '화질', '질로', '즐겨', '겨보', '보세', '세요', 'MB', 'BN',\n",
       "       'N의', '밀착', '착취', '취재', 'ON', 'N마', '마이', '이크', 'MB', 'BN', '무단',\n",
       "       '단전', '전재', '재배', '배포', '금지'], dtype='<U32')],\n",
       "       [array(['01-04-0000179506.txt'], dtype='<U20'),\n",
       "        array(['동영상', '뉴스', '성동구', ..., '재배', '배포', '금지'], dtype='<U32')],\n",
       "       [array(['01-05-0000205430.txt'], dtype='<U20'),\n",
       "        array(['동영상', '뉴스', '앵커', '2년마다', '돌아오는', '전세', '재계약', '때마다', '전세금',\n",
       "       '올려줄', '걱정에', '이룬', '세입자들이', '많았죠', '올해는', '사정이', '전혀', '딴판입니다',\n",
       "       '전셋값이', '떨어지면서', '오히려', '돈을', '돌려', '받아야', '하는', '경우가', '절반이',\n",
       "       '넘습니다', '전다빈', '기자입니다', '기자', '서울', '용산구', '이촌동에서', '아파트', '전세',\n",
       "       '계약을', '연장한', 'A씨는', '집주인으로부터', '2000만', '원을', '돌려받았습니다', '2년',\n",
       "       '들어올', '때보다', '전셋값이', '내렸기', '때문입니다', '김경희', '서울', '이촌동', '동네는',\n",
       "       '5천은', '내렸지', '싶은데요', '5천', '정도', '좋죠', '젊은', '사람들이', '그래야',\n",
       "       '결혼하죠', '전셋값이', '내려야', '한국은행에', '따르면', '올들어', '거래된', '전세', '아파트',\n",
       "       '2채', '1채는', '이처럼', '전세금이', '2년', '전보다', '떨어졌습니다', '전세금', '올려줄',\n",
       "       '걱정을', '세입자들이', '그만큼', '많아진', '것입니다', '하지만', '한편에서는', '세입자가',\n",
       "       '보증금을', '돌려받지', '못하는', '경우가', '잦아질', '있다는', '우려도', '나옵니다', '이른바',\n",
       "       '역전세난', '입니다', '한은은', '아직', '걱정할', '상황은', '아니라고', '분석했습니다', '전셋값이',\n",
       "       '떨어진', '집의', '절반은', '하락률이', '10', '에도', '미쳐', '집주인들이', '감당할',\n",
       "       '있다는', '것입니다', '여기서', '10', '내려도', '보증금을', '돌려받기', '어려운', '경우는',\n",
       "       '전체의', '3만', '2000가구에', '그칠', '것이라는', '추산입니다', '다만', '전셋값이', '크게',\n",
       "       '떨어진', '지방에', '충격이', '집중될', '있어', '주의가', '필요하다는', '지적입니다', '영상디자인',\n",
       "       '이지원', '전다빈', 'chun', '영상취재', '전건구', '영상편집', '강한승', 'JTBC', '기자들의',\n",
       "       '시청자', '미션', '수행', '뉴스', '미션', '뉴스룸', '다시보기', '달라진', '뉴스APP',\n",
       "       '이슈부터', '라이브까지', '한눈에', 'by', 'JTBC', 'and', 'JTBC', 'Content',\n",
       "       'Hub', 'Co', 'Ltd', 'All', 'Rights', '무단', '전재', '재배포', '금지',\n",
       "       '동영상', '뉴스', '앵커', '마다', '돌아오', '전세', '계약', '마다', '전세금', '올리',\n",
       "       '걱정', '이루', '세입자', '올해', '사정', '전혀', '딴판', 'ㅂ니다', '떨어지', '면서',\n",
       "       '오히려', '돌리', '아야', '경우', '절반', '습니다', '전다', '기자', 'ㅂ니다', '기자',\n",
       "       '서울', '용산구', '이촌동', '에서', '아파트', '전세', '계약', '연장', '집주인', '으로',\n",
       "       '부터', '2000', '돌려받', '습니다', '들어오', '보다', '내리', '때문', 'ㅂ니다', '경희',\n",
       "       '서울', '이촌동', '동네', '내리', '은데요', '정도', '사람', '그리하', '여야', '결혼',\n",
       "       '내리', '어야', '한국은행', '따르', '거래', '전세', '아파트', '이처럼', '전세금', '보다',\n",
       "       '떨어지', '습니다', '세금', '올리', '걱정', '세입자', '그만큼', 'ㅂ니다', '하지만', '한편',\n",
       "       '에서', '세입자', '보증금', '돌려받', '못하', '경우', '잦아지', '다는', '우려', '나오',\n",
       "       'ㅂ니다', '이른바', '역전', 'ㅂ니다', '아직', '걱정', '상황', '아니', '라고', '분석',\n",
       "       '습니다', '떨어지', '절반', '하락률', '10', '미치', '집주인', '감당', '다는', 'ㅂ니다',\n",
       "       '여기', '10', '내리', '어도', '보증금', '돌려받', '어렵', '경우', '전체', '2000',\n",
       "       '가구', '그치', '라는', '추산', 'ㅂ니다', '떨어지', '지방', '충격', '집중', '주의', '필요',\n",
       "       '하다', '지적', 'ㅂ니다', '영상', '디자인', '지원', '전다', 'chun', '영상', '취재',\n",
       "       '건구', '영상', '편집', '강한', 'JTBC', '기자', '시청자', '미션', '수행', '뉴스',\n",
       "       '미션', '뉴스', '다시', '보기', '달라지', '뉴스', 'APP', '이슈', '부터', '라이브',\n",
       "       '까지', '한눈', 'by', 'JTBC', 'and', 'JTBC', 'Content', 'Hub', 'Co',\n",
       "       'Ltd', 'All', 'Rights', '무단', '전재', '배포', '금지', '동영상', '뉴스', '앵커',\n",
       "       '2년', '전세', '계약', '전세금', '걱정', '세입자', '올해', '사정', '딴판', '전셋값',\n",
       "       '경우', '절반', '전다', '기자', '서울', '용산', '용산구', '이촌', '이촌동', '아파트',\n",
       "       '연장', '집주인', '2000', '2000만', '때문', '김경희', '경희', '동네', '5천', '정도',\n",
       "       '사람', '결혼', '한국', '한국은행', '은행', '거래', '2채', '1채', '세금', '한편',\n",
       "       '보증금', '우려', '역전', '상황', '분석', '하락률', '10', '감당', '여기', '전체', '3만',\n",
       "       '2000가구', '가구', '추산', '지방', '충격', '집중', '주의', '필요', '필요하다', '하다',\n",
       "       '지적', '영상', '영상디자인', '디자인', '이지원', '지원', '영상취재', '취재', '전건구', '건구',\n",
       "       '영상편집', '편집', '강한', '강한승', '시청자', '미션', '수행', '뉴스룸', '보기', '이슈',\n",
       "       '라이브', '한눈', '무단', '전재', '배포', '금지', '동영', '영상', '뉴스', '앵커', '2년',\n",
       "       '년마', '마다', '돌아', '아오', '오는', '전세', '재계', '계약', '때마', '마다', '전세',\n",
       "       '세금', '올려', '려줄', '걱정', '정에', '이룬', '세입', '입자', '자들', '들이', '많았',\n",
       "       '았죠', '올해', '해는', '사정', '정이', '전혀', '딴판', '판입', '입니', '니다', '전셋',\n",
       "       '셋값', '값이', '떨어', '어지', '지면', '면서', '오히', '히려', '돈을', '돌려', '받아',\n",
       "       '아야', '하는', '경우', '우가', '절반', '반이', '넘습', '습니', '니다', '전다', '다빈',\n",
       "       '기자', '자입', '입니', '니다', '기자', '서울', '용산', '산구', '이촌', '촌동', '동에',\n",
       "       '에서', '아파', '파트', '전세', '계약', '약을', '연장', '장한', 'A씨', '씨는', '집주',\n",
       "       '주인', '인으', '으로', '로부', '부터', '20', '00', '00', '0만', '원을', '돌려',\n",
       "       '려받', '받았', '았습', '습니', '니다', '2년', '들어', '어올', '때보', '보다', '전셋',\n",
       "       '셋값', '값이', '내렸', '렸기', '때문', '문입', '입니', '니다', '김경', '경희', '서울',\n",
       "       '이촌', '촌동', '동네', '네는', '5천', '천은', '내렸', '렸지', '싶은', '은데', '데요',\n",
       "       '5천', '정도', '좋죠', '젊은', '사람', '람들', '들이', '그래', '래야', '결혼', '혼하',\n",
       "       '하죠', '전셋', '셋값', '값이', '내려', '려야', '한국', '국은', '은행', '행에', '따르',\n",
       "       '르면', '올들', '들어', '거래', '래된', '전세', '아파', '파트', '2채', '1채', '채는',\n",
       "       '이처', '처럼', '전세', '세금', '금이', '2년', '전보', '보다', '떨어', '어졌', '졌습',\n",
       "       '습니', '니다', '전세', '세금', '올려', '려줄', '걱정', '정을', '세입', '입자', '자들',\n",
       "       '들이', '그만', '만큼', '많아', '아진', '것입', '입니', '니다', '하지', '지만', '한편',\n",
       "       '편에', '에서', '서는', '세입', '입자', '자가', '보증', '증금', '금을', '돌려', '려받',\n",
       "       '받지', '못하', '하는', '경우', '우가', '잦아', '아질', '있다', '다는', '우려', '려도',\n",
       "       '나옵', '옵니', '니다', '이른', '른바', '역전', '전세', '세난', '입니', '니다', '한은',\n",
       "       '은은', '아직', '걱정', '정할', '상황', '황은', '아니', '니라', '라고', '분석', '석했',\n",
       "       '했습', '습니', '니다', '전셋', '셋값', '값이', '떨어', '어진', '집의', '절반', '반은',\n",
       "       '하락', '락률', '률이', '10', '에도', '미쳐', '집주', '주인', '인들', '들이', '감당',\n",
       "       '당할', '있다', '다는', '것입', '입니', '니다', '여기', '기서', '10', '내려', '려도',\n",
       "       '보증', '증금', '금을', '돌려', '려받', '받기', '어려', '려운', '경우', '우는', '전체',\n",
       "       '체의', '3만', '20', '00', '00', '0가', '가구', '구에', '그칠', '것이', '이라',\n",
       "       '라는', '추산', '산입', '입니', '니다', '다만', '전셋', '셋값', '값이', '크게', '떨어',\n",
       "       '어진', '지방', '방에', '충격', '격이', '집중', '중될', '있어', '주의', '의가', '필요',\n",
       "       '요하', '하다', '다는', '지적', '적입', '입니', '니다', '영상', '상디', '디자', '자인',\n",
       "       '이지', '지원', '전다', '다빈', 'ch', 'hu', 'un', '영상', '상취', '취재', '전건',\n",
       "       '건구', '영상', '상편', '편집', '강한', '한승', 'JT', 'TB', 'BC', '기자', '자들',\n",
       "       '들의', '시청', '청자', '미션', '수행', '뉴스', '미션', '뉴스', '스룸', '다시', '시보',\n",
       "       '보기', '달라', '라진', '뉴스', '스A', 'AP', 'PP', '이슈', '슈부', '부터', '라이',\n",
       "       '이브', '브까', '까지', '한눈', '눈에', 'by', 'JT', 'TB', 'BC', 'an', 'nd',\n",
       "       'JT', 'TB', 'BC', 'Co', 'on', 'nt', 'te', 'en', 'nt', 'Hu', 'ub',\n",
       "       'Co', 'Lt', 'td', 'Al', 'll', 'Ri', 'ig', 'gh', 'ht', 'ts', '무단',\n",
       "       '전재', '재배', '배포', '금지'], dtype='<U32')],\n",
       "       [array(['01-06-0003523418.txt'], dtype='<U20'),\n",
       "        array(['일부', '소폭', '상승', ..., '재배', '배포', '금지'], dtype='<U32')],\n",
       "       [array(['01-07-0010682281.txt'], dtype='<U20'),\n",
       "        array(['앵커', '대기업이', '회사에', ..., '뉴스', '케이', '이야'], dtype='<U32')],\n",
       "       [array(['01-08-0004110149.txt'], dtype='<U20'),\n",
       "        array(['삼성전자', 'SK하이닉스', 'LGD', ..., '재배', '배포', '금지'], dtype='<U32')],\n",
       "       [array(['01-09-0002447056.txt'], dtype='<U20'),\n",
       "        array(['올해', '47조', '깎아줘', ..., '재배', '배포', '금지'], dtype='<U32')],\n",
       "       [array(['01-10-0010700264.txt'], dtype='<U20'),\n",
       "        array(['서울', '연합뉴스', '박성진', '기자', '최근', '편의점', '업체가', '외국', '생산자로부터',\n",
       "       '직접', '구매해', '들여온', '상품이', '인기를', '끌고', '있다', '편의점', 'CU는', '자사의',\n",
       "       '50번째', '해외', '소싱', '상품', '대만', '대왕젤리', '매진됐다고', '18일', '밝혔다',\n",
       "       'CU가', '지난', '8일', '소개한', '대만', '대왕젤리', '애플', '망고', '리치', '가지',\n",
       "       '맛으로', '출시됐다', '각각', '애플', '망고', '리치', '주스를', '넣어', '진한', '과일',\n",
       "       '맛을', '냈으며', '씹는', '주기', '위해', '쫄깃한', '식감의', '코코넛을', '첨가했다', 'CU를',\n",
       "       '운영하는', 'BGF리테일의', '해외소싱팀이', '확보한', '1차', '물량', '18t이', '10일',\n",
       "       '만에', '모두', '팔려나가', '현재', '다시', '수입하고', '있다', '상품은', '국내', '젤리보다',\n",
       "       '2배', '크기', '덕분에', '대왕젤리', '라는', '애칭이', '붙었으며', '대만', '여행', '반드시',\n",
       "       '사야', '하는', '쇼핑', '아이템으로', '꼽힌다', 'CU는', '세계', '10여', '국가에서',\n",
       "       '다양한', '카테고리의', '50개', '상품을', '직접', '구매해', '들여오고', '있다', '작년',\n",
       "       '4월', '선보인', '모찌롤은', '누적', '판매량', '700만', '개를', '돌파했다', 'BGF리테일',\n",
       "       '이태훈', '해외소싱팀장은', '상품의', '맛과', '품질에', '대한', '고객들의', '눈높이가',\n",
       "       '높아지면서', '세계', '각국의', '오리지널', '상품을', '직접', '맛보고', '싶어하는', '고객',\n",
       "       '수요가', '점점', '커지고', '있다', '해외', '소싱', '상품', 'CU', '제공', '연합뉴스',\n",
       "       '네이버', '홈에서', '연합뉴스', '채널', '구독하기', '하고', '놀까', '쇼미더뉴스', '오늘',\n",
       "       '많이', '뉴스영상', '서울', '연합', '뉴스', '성진', '기자', '최근', '편의점', '업체',\n",
       "       '외국', '생산', '자로', '부터', '직접', '구매', '들여오', '상품', '인기', '편의점', 'CU',\n",
       "       '자사', '50', '번째', '해외', '상품', '대왕', '젤리', '매진', '다고', '18', '밝히',\n",
       "       'CU', '지나', '소개', '대왕', '젤리', '애플', '망고', '리치', '가지', '으로', '출시',\n",
       "       '각각', '애플', '망고', '리치', '주스', '진하', '과일', '으며', '위하', '쫄깃', '코코넛',\n",
       "       '첨가', 'CU', '운영', 'BGF', '테일', '해외소싱팀', '확보', '물량', '18', '10',\n",
       "       '모두', '팔리', '현재', '다시', '수입', '있다', '상품', '국내', '젤리', '보다', '크기',\n",
       "       '덕분', '대왕', '젤리', '라는', '애칭', '으며', '여행', '반드시', '아야', '쇼핑', '아이템',\n",
       "       '으로', '꼽히', 'ㄴ다', 'CU', '세계', '10', '국가', '에서', '다양', '카테고리', '50',\n",
       "       '상품', '직접', '구매', '들여오', '작년', '선보이', '누적', '판매량', '700', '돌파',\n",
       "       'BGF', '테일', '이태', '해외소싱팀장', '상품', '품질', '대하', '고객', '눈높이', '면서',\n",
       "       '세계', '각국', '오리지널', '상품', '직접', '맛보', '고객', '수요', '점점', '커지', '해외',\n",
       "       '상품', 'CU', '제공', '연합', '뉴스', '네이버', '에서', '연합', '뉴스', '채널', '구독',\n",
       "       'ㄹ까', '뉴스', '오늘', '많이', '뉴스', '영상', '서울', '연합', '연합뉴스', '뉴스',\n",
       "       '박성진', '성진', '기자', '최근', '편의점', '업체', '외국', '생산', '생산자로', '자로',\n",
       "       '직접', '구매', '상품', '인기', '자사', '50', '50번째', '번째', '해외', '소싱', '대왕',\n",
       "       '대왕젤리', '젤리', '매진', '18', '18일', '8일', '소개', '애플', '망고', '리치',\n",
       "       '가지', '출시', '각각', '주스', '과일', '식감', '코코넛', '첨가', '운영', '리테일', '테일',\n",
       "       '해외소싱팀', '확보', '1차', '물량', '10', '10일', '수입', '국내', '2배', '크기',\n",
       "       '덕분', '애칭', '여행', '쇼핑', '아이템', '세계', '10여', '국가', '다양', '카테고리',\n",
       "       '50개', '작년', '4월', '모찌롤', '누적', '판매량', '700', '700만', '돌파', '이태',\n",
       "       '이태훈', '해외소싱팀장', '품질', '고객', '눈높이', '각국', '오리지널', '수요', '제공',\n",
       "       '네이버', '채널', '구독', '쇼미', '오늘', '뉴스영상', '영상', '서울', '연합', '합뉴',\n",
       "       '뉴스', '박성', '성진', '기자', '최근', '편의', '의점', '업체', '체가', '외국', '생산',\n",
       "       '산자', '자로', '로부', '부터', '직접', '구매', '매해', '들여', '여온', '상품', '품이',\n",
       "       '인기', '기를', '끌고', '있다', '편의', '의점', 'CU', 'U는', '자사', '사의', '50',\n",
       "       '0번', '번째', '해외', '소싱', '상품', '대만', '대왕', '왕젤', '젤리', '매진', '진됐',\n",
       "       '됐다', '다고', '18', '8일', '밝혔', '혔다', 'CU', 'U가', '지난', '8일', '소개',\n",
       "       '개한', '대만', '대왕', '왕젤', '젤리', '애플', '망고', '리치', '가지', '맛으', '으로',\n",
       "       '출시', '시됐', '됐다', '각각', '애플', '망고', '리치', '주스', '스를', '넣어', '진한',\n",
       "       '과일', '맛을', '냈으', '으며', '씹는', '주기', '위해', '쫄깃', '깃한', '식감', '감의',\n",
       "       '코코', '코넛', '넛을', '첨가', '가했', '했다', 'CU', 'U를', '운영', '영하', '하는',\n",
       "       'BG', 'GF', 'F리', '리테', '테일', '일의', '해외', '외소', '소싱', '싱팀', '팀이',\n",
       "       '확보', '보한', '1차', '물량', '18', '8t', 't이', '10', '0일', '만에', '모두',\n",
       "       '팔려', '려나', '나가', '현재', '다시', '수입', '입하', '하고', '있다', '상품', '품은',\n",
       "       '국내', '젤리', '리보', '보다', '2배', '크기', '덕분', '분에', '대왕', '왕젤', '젤리',\n",
       "       '라는', '애칭', '칭이', '붙었', '었으', '으며', '대만', '여행', '반드', '드시', '사야',\n",
       "       '하는', '쇼핑', '아이', '이템', '템으', '으로', '꼽힌', '힌다', 'CU', 'U는', '세계',\n",
       "       '10', '0여', '국가', '가에', '에서', '다양', '양한', '카테', '테고', '고리', '리의',\n",
       "       '50', '0개', '상품', '품을', '직접', '구매', '매해', '들여', '여오', '오고', '있다',\n",
       "       '작년', '4월', '선보', '보인', '모찌', '찌롤', '롤은', '누적', '판매', '매량', '70',\n",
       "       '00', '0만', '개를', '돌파', '파했', '했다', 'BG', 'GF', 'F리', '리테', '테일',\n",
       "       '이태', '태훈', '해외', '외소', '소싱', '싱팀', '팀장', '장은', '상품', '품의', '맛과',\n",
       "       '품질', '질에', '대한', '고객', '객들', '들의', '눈높', '높이', '이가', '높아', '아지',\n",
       "       '지면', '면서', '세계', '각국', '국의', '오리', '리지', '지널', '상품', '품을', '직접',\n",
       "       '맛보', '보고', '싶어', '어하', '하는', '고객', '수요', '요가', '점점', '커지', '지고',\n",
       "       '있다', '해외', '소싱', '상품', 'CU', '제공', '연합', '합뉴', '뉴스', '네이', '이버',\n",
       "       '홈에', '에서', '연합', '합뉴', '뉴스', '채널', '구독', '독하', '하기', '하고', '놀까',\n",
       "       '쇼미', '미더', '더뉴', '뉴스', '오늘', '많이', '뉴스', '스영', '영상'], dtype='<U32')],\n",
       "       [array(['02-01-0000205405.txt'], dtype='<U20'),\n",
       "        array(['동영상', '뉴스', '앵커', ..., '재배', '배포', '금지'], dtype='<U32')]],\n",
       "      dtype=object)"
      ]
     },
     "execution_count": 57,
     "metadata": {},
     "output_type": "execute_result"
    }
   ],
   "source": [
    "extended_collection"
   ]
  },
  {
   "cell_type": "markdown",
   "metadata": {
    "heading_collapsed": true
   },
   "source": [
    "## inverted index with tf"
   ]
  },
  {
   "cell_type": "code",
   "execution_count": 24,
   "metadata": {
    "hidden": true
   },
   "outputs": [],
   "source": [
    "collection = [\n",
    "    (\"Document1\", \"This is a sample\"),\n",
    "    (\"Document2\", \"This is another sample\"),\n",
    "    (\"Document3\", \"This is not sample\"),\n",
    "    (\"Document4\", \"a not\"),\n",
    "    (\"Document5\", \"not\"),\n",
    "]"
   ]
  },
  {
   "cell_type": "code",
   "execution_count": 41,
   "metadata": {
    "hidden": true
   },
   "outputs": [
    {
     "data": {
      "text/plain": [
       "[('Document1', ['This', 'is', 'a', 'sample']),\n",
       " ('Document2', ['This', 'is', 'another', 'sample']),\n",
       " ('Document3', ['This', 'is', 'not', 'sample']),\n",
       " ('Document4', ['a', 'not']),\n",
       " ('Document5', ['not'])]"
      ]
     },
     "execution_count": 41,
     "metadata": {},
     "output_type": "execute_result"
    }
   ],
   "source": [
    "extended_collection = []\n",
    "for filename, content in collection:\n",
    "    splited_content = []\n",
    "    for token in content.split():\n",
    "        splited_content.append(token)\n",
    "    extended_collection.append((filename, splited_content))\n",
    "extended_collection"
   ]
  },
  {
   "cell_type": "code",
   "execution_count": 42,
   "metadata": {
    "hidden": true
   },
   "outputs": [
    {
     "name": "stdout",
     "output_type": "stream",
     "text": [
      "{'This': 8, 'is': 9, 'a': 12, 'sample': 11, 'another': 6, 'not': 14}\n",
      "['Document1', 'Document2', 'Document3', 'Document4', 'Document5']\n",
      "[[0, 0, 1.0, -1], [1, 0, 1.0, -1], [2, 0, 1.0, -1], [3, 0, 1.0, -1], [0, 1, 1.0, 0], [1, 1, 1.0, 1], [4, 1, 1.0, -1], [3, 1, 1.0, 3], [0, 2, 1.0, 4], [1, 2, 1.0, 5], [5, 2, 1.0, -1], [3, 2, 1.0, 7], [2, 3, 1.0, 2], [5, 3, 1.0, 10], [5, 4, 1.0, 13]]\n"
     ]
    }
   ],
   "source": [
    "global_lexicon, global_posting, global_document, dtm = inverted_index_with_tf(extended_collection)\n",
    "print(global_lexicon)\n",
    "print(global_document)\n",
    "print(global_posting)"
   ]
  },
  {
   "cell_type": "code",
   "execution_count": 43,
   "metadata": {
    "hidden": true,
    "scrolled": true
   },
   "outputs": [
    {
     "name": "stdout",
     "output_type": "stream",
     "text": [
      "This\n",
      "    Document3    /    TF:1.0    /    Next:4\n",
      "    Document2    /    TF:1.0    /    Next:0\n",
      "    Document1    /    TF:1.0    /    Next:-1\n",
      "is\n",
      "    Document3    /    TF:1.0    /    Next:5\n",
      "    Document2    /    TF:1.0    /    Next:1\n",
      "    Document1    /    TF:1.0    /    Next:-1\n",
      "a\n",
      "    Document4    /    TF:1.0    /    Next:2\n",
      "    Document1    /    TF:1.0    /    Next:-1\n",
      "sample\n",
      "    Document3    /    TF:1.0    /    Next:7\n",
      "    Document2    /    TF:1.0    /    Next:3\n",
      "    Document1    /    TF:1.0    /    Next:-1\n",
      "another\n",
      "    Document2    /    TF:1.0    /    Next:-1\n",
      "not\n",
      "    Document5    /    TF:1.0    /    Next:13\n",
      "    Document4    /    TF:1.0    /    Next:10\n",
      "    Document3    /    TF:1.0    /    Next:-1\n"
     ]
    }
   ],
   "source": [
    "for index_term, posting_idx in global_lexicon.items():\n",
    "    # index_term:단어, posting_idx:위치\n",
    "    print(index_term)\n",
    "    \n",
    "    while True:    # Posting Nexting: -1\n",
    "        if posting_idx == -1:\n",
    "            break\n",
    "            \n",
    "        posting_data = global_posting[posting_idx]\n",
    "        print(\"    {0}    /    TF:{1}    /    Next:{2}\".format(global_document[posting_data[1]], posting_data[2], posting_data[3]))\n",
    "        posting_idx = posting_data[3]"
   ]
  },
  {
   "cell_type": "markdown",
   "metadata": {
    "heading_collapsed": true
   },
   "source": [
    "## dtm-tdm-twm"
   ]
  },
  {
   "cell_type": "code",
   "execution_count": 44,
   "metadata": {
    "hidden": true,
    "scrolled": true
   },
   "outputs": [
    {
     "data": {
      "text/plain": [
       "defaultdict(<function functions.info_retrieval.inverted_index_with_tf.<locals>.<lambda>()>,\n",
       "            {'Document1': defaultdict(int,\n",
       "                         {'This': 1, 'is': 1, 'a': 1, 'sample': 1}),\n",
       "             'Document2': defaultdict(int,\n",
       "                         {'This': 1, 'is': 1, 'another': 1, 'sample': 1}),\n",
       "             'Document3': defaultdict(int,\n",
       "                         {'This': 1, 'is': 1, 'not': 1, 'sample': 1}),\n",
       "             'Document4': defaultdict(int, {'a': 1, 'not': 1}),\n",
       "             'Document5': defaultdict(int, {'not': 1})})"
      ]
     },
     "execution_count": 44,
     "metadata": {},
     "output_type": "execute_result"
    }
   ],
   "source": [
    "dtm"
   ]
  },
  {
   "cell_type": "code",
   "execution_count": 45,
   "metadata": {
    "hidden": true
   },
   "outputs": [],
   "source": [
    "tdm = get_tdm_from_dtm(dtm)"
   ]
  },
  {
   "cell_type": "code",
   "execution_count": 46,
   "metadata": {
    "hidden": true,
    "scrolled": true
   },
   "outputs": [
    {
     "data": {
      "text/plain": [
       "defaultdict(<function functions.info_retrieval.get_tdm_from_dtm.<locals>.<lambda>()>,\n",
       "            {'This': defaultdict(int,\n",
       "                         {'Document1': 1, 'Document2': 1, 'Document3': 1}),\n",
       "             'is': defaultdict(int,\n",
       "                         {'Document1': 1, 'Document2': 1, 'Document3': 1}),\n",
       "             'a': defaultdict(int, {'Document1': 1, 'Document4': 1}),\n",
       "             'sample': defaultdict(int,\n",
       "                         {'Document1': 1, 'Document2': 1, 'Document3': 1}),\n",
       "             'another': defaultdict(int, {'Document2': 1}),\n",
       "             'not': defaultdict(int,\n",
       "                         {'Document3': 1, 'Document4': 1, 'Document5': 1})})"
      ]
     },
     "execution_count": 46,
     "metadata": {},
     "output_type": "execute_result"
    }
   ],
   "source": [
    "tdm"
   ]
  },
  {
   "cell_type": "code",
   "execution_count": 47,
   "metadata": {
    "hidden": true,
    "scrolled": true
   },
   "outputs": [
    {
     "data": {
      "text/plain": [
       "defaultdict(<function functions.info_retrieval.tdm2twm.<locals>.<lambda>()>,\n",
       "            {'This': defaultdict(float,\n",
       "                         {'Document1': 0.3010299956639812,\n",
       "                          'Document2': 0.3010299956639812,\n",
       "                          'Document3': 0.3010299956639812}),\n",
       "             'is': defaultdict(float,\n",
       "                         {'Document1': 0.3010299956639812,\n",
       "                          'Document2': 0.3010299956639812,\n",
       "                          'Document3': 0.3010299956639812}),\n",
       "             'a': defaultdict(float,\n",
       "                         {'Document1': 0.47712125471966244,\n",
       "                          'Document4': 0.47712125471966244}),\n",
       "             'sample': defaultdict(float,\n",
       "                         {'Document1': 0.3010299956639812,\n",
       "                          'Document2': 0.3010299956639812,\n",
       "                          'Document3': 0.3010299956639812}),\n",
       "             'another': defaultdict(float, {'Document2': 0.7781512503836436}),\n",
       "             'not': defaultdict(float,\n",
       "                         {'Document3': 0.3010299956639812,\n",
       "                          'Document4': 0.3010299956639812,\n",
       "                          'Document5': 0.3010299956639812})})"
      ]
     },
     "execution_count": 47,
     "metadata": {},
     "output_type": "execute_result"
    }
   ],
   "source": [
    "twm, dvw = tdm2twm(tdm, global_document)\n",
    "twm"
   ]
  },
  {
   "cell_type": "code",
   "execution_count": 48,
   "metadata": {
    "hidden": true,
    "scrolled": true
   },
   "outputs": [
    {
     "data": {
      "text/plain": [
       "defaultdict(<function functions.info_retrieval.tdm2twm.<locals>.<lambda>()>,\n",
       "            {'Document1': defaultdict(float,\n",
       "                         {'This': 0.09061905828945654,\n",
       "                          'is': 0.09061905828945654,\n",
       "                          'a': 0.227644691705265,\n",
       "                          'sample': 0.09061905828945654}),\n",
       "             'Document2': defaultdict(float,\n",
       "                         {'This': 0.09061905828945654,\n",
       "                          'is': 0.09061905828945654,\n",
       "                          'sample': 0.09061905828945654,\n",
       "                          'another': 0.6055193684736281}),\n",
       "             'Document3': defaultdict(float,\n",
       "                         {'This': 0.09061905828945654,\n",
       "                          'is': 0.09061905828945654,\n",
       "                          'sample': 0.09061905828945654,\n",
       "                          'not': 0.09061905828945654}),\n",
       "             'Document4': defaultdict(float,\n",
       "                         {'a': 0.227644691705265, 'not': 0.09061905828945654}),\n",
       "             'Document5': defaultdict(float, {'not': 0.09061905828945654})})"
      ]
     },
     "execution_count": 48,
     "metadata": {},
     "output_type": "execute_result"
    }
   ],
   "source": [
    "dvw"
   ]
  },
  {
   "cell_type": "markdown",
   "metadata": {
    "heading_collapsed": true
   },
   "source": [
    "## evaluate idf"
   ]
  },
  {
   "cell_type": "code",
   "execution_count": 49,
   "metadata": {
    "hidden": true,
    "scrolled": false
   },
   "outputs": [],
   "source": [
    "global_lexicon_idf, global_document_weight = evaluate_idf(global_lexicon, global_posting, global_document)"
   ]
  },
  {
   "cell_type": "code",
   "execution_count": 50,
   "metadata": {
    "hidden": true,
    "scrolled": true
   },
   "outputs": [
    {
     "data": {
      "text/plain": [
       "{'This': 0.3010299956639812,\n",
       " 'is': 0.3010299956639812,\n",
       " 'a': 0.47712125471966244,\n",
       " 'sample': 0.3010299956639812,\n",
       " 'another': 0.7781512503836436,\n",
       " 'not': 0.3010299956639812}"
      ]
     },
     "execution_count": 50,
     "metadata": {},
     "output_type": "execute_result"
    }
   ],
   "source": [
    "global_lexicon_idf"
   ]
  },
  {
   "cell_type": "code",
   "execution_count": 51,
   "metadata": {
    "hidden": true
   },
   "outputs": [
    {
     "data": {
      "text/plain": [
       "{'Document3': 0.3624762331578262,\n",
       " 'Document2': 0.8773765433419978,\n",
       " 'Document1': 0.49950186657363466,\n",
       " 'Document4': 0.3182637499947215,\n",
       " 'Document5': 0.09061905828945654}"
      ]
     },
     "execution_count": 51,
     "metadata": {},
     "output_type": "execute_result"
    }
   ],
   "source": [
    "global_document_weight"
   ]
  },
  {
   "cell_type": "code",
   "execution_count": null,
   "metadata": {
    "hidden": true
   },
   "outputs": [],
   "source": []
  },
  {
   "cell_type": "markdown",
   "metadata": {},
   "source": [
    "## numpy를 활용한 info_retrieval.py 성능 개선"
   ]
  },
  {
   "cell_type": "code",
   "execution_count": 4,
   "metadata": {
    "scrolled": true
   },
   "outputs": [],
   "source": [
    "import numpy as np\n",
    "from functions import info_retrieval as ir"
   ]
  },
  {
   "cell_type": "markdown",
   "metadata": {
    "heading_collapsed": true
   },
   "source": [
    "### tf, idf"
   ]
  },
  {
   "cell_type": "code",
   "execution_count": 5,
   "metadata": {
    "hidden": true
   },
   "outputs": [
    {
     "data": {
      "text/plain": [
       "[1, 2, 3, 4, 5, -1]"
      ]
     },
     "execution_count": 5,
     "metadata": {},
     "output_type": "execute_result"
    }
   ],
   "source": [
    "a = [1, 2, 3, 4, 5, -1]\n",
    "a"
   ]
  },
  {
   "cell_type": "code",
   "execution_count": 6,
   "metadata": {
    "hidden": true
   },
   "outputs": [
    {
     "data": {
      "text/plain": [
       "array([ 1,  2,  3,  4,  5, -1])"
      ]
     },
     "execution_count": 6,
     "metadata": {},
     "output_type": "execute_result"
    }
   ],
   "source": [
    "arr = np.array(a)\n",
    "arr"
   ]
  },
  {
   "cell_type": "code",
   "execution_count": 7,
   "metadata": {
    "hidden": true
   },
   "outputs": [
    {
     "data": {
      "text/plain": [
       "array([1, 2, 3, 4, 5, 0])"
      ]
     },
     "execution_count": 7,
     "metadata": {},
     "output_type": "execute_result"
    }
   ],
   "source": [
    "ir.raw_tf(arr)"
   ]
  },
  {
   "cell_type": "code",
   "execution_count": 8,
   "metadata": {
    "hidden": true,
    "scrolled": true
   },
   "outputs": [
    {
     "data": {
      "text/plain": [
       "array([0.16666667, 0.33333333, 0.5       , 0.66666667, 0.83333333,\n",
       "       0.        ])"
      ]
     },
     "execution_count": 8,
     "metadata": {},
     "output_type": "execute_result"
    }
   ],
   "source": [
    "ir.norm_tf(arr, len(arr))"
   ]
  },
  {
   "cell_type": "code",
   "execution_count": 9,
   "metadata": {
    "hidden": true,
    "scrolled": true
   },
   "outputs": [],
   "source": [
    "n = 10"
   ]
  },
  {
   "cell_type": "code",
   "execution_count": 10,
   "metadata": {
    "hidden": true,
    "scrolled": true
   },
   "outputs": [
    {
     "data": {
      "text/plain": [
       "array([0.        , 0.30103   , 0.47712125, 0.60205999, 0.69897   ,\n",
       "       0.        ])"
      ]
     },
     "execution_count": 10,
     "metadata": {},
     "output_type": "execute_result"
    }
   ],
   "source": [
    "ir.log_tf(arr)"
   ]
  },
  {
   "cell_type": "code",
   "execution_count": 11,
   "metadata": {
    "hidden": true,
    "scrolled": true
   },
   "outputs": [
    {
     "data": {
      "text/plain": [
       "1.0"
      ]
     },
     "execution_count": 11,
     "metadata": {},
     "output_type": "execute_result"
    }
   ],
   "source": [
    "ir.log_tf(n)"
   ]
  },
  {
   "cell_type": "code",
   "execution_count": 12,
   "metadata": {
    "hidden": true
   },
   "outputs": [
    {
     "data": {
      "text/plain": [
       "array([0.6, 0.7, 0.8, 0.9, 1. , 0.5])"
      ]
     },
     "execution_count": 12,
     "metadata": {},
     "output_type": "execute_result"
    }
   ],
   "source": [
    "ir.max_tf(arr, max(arr))"
   ]
  },
  {
   "cell_type": "code",
   "execution_count": 13,
   "metadata": {
    "hidden": true
   },
   "outputs": [],
   "source": [
    "df = np.array([1, 2, 10, 9, 6, 5, 0, -1])"
   ]
  },
  {
   "cell_type": "code",
   "execution_count": 14,
   "metadata": {
    "hidden": true,
    "scrolled": true
   },
   "outputs": [
    {
     "data": {
      "text/plain": [
       "array([1.        , 0.69897   , 0.        , 0.04575749, 0.22184875,\n",
       "       0.30103   , 0.        , 0.        ])"
      ]
     },
     "execution_count": 14,
     "metadata": {},
     "output_type": "execute_result"
    }
   ],
   "source": [
    "ir.raw_idf(df, n)"
   ]
  },
  {
   "cell_type": "code",
   "execution_count": 15,
   "metadata": {
    "hidden": true
   },
   "outputs": [
    {
     "data": {
      "text/plain": [
       "array([1.04139269, 0.74036269, 0.04139269, 0.08715018, 0.26324143,\n",
       "       0.34242268, 0.        , 0.        ])"
      ]
     },
     "execution_count": 15,
     "metadata": {},
     "output_type": "execute_result"
    }
   ],
   "source": [
    "ir.smoothig_idf(df, n)"
   ]
  },
  {
   "cell_type": "code",
   "execution_count": 16,
   "metadata": {
    "hidden": true
   },
   "outputs": [
    {
     "data": {
      "text/plain": [
       "array([ 0.95424251,  0.60205999,  0.        , -0.95424251, -0.17609126,\n",
       "        0.        ,  0.        ,  0.        ])"
      ]
     },
     "execution_count": 16,
     "metadata": {},
     "output_type": "execute_result"
    }
   ],
   "source": [
    "ir.probability_idf(df, n)"
   ]
  },
  {
   "cell_type": "markdown",
   "metadata": {
    "hidden": true
   },
   "source": [
    "https://en.wikipedia.org/wiki/Tf–idf\n",
    "\n",
    "- query_weight 재구현 (아래 document weight와 query weight 관계 참조)\n",
    "\n",
    "![TF_IDF_weight](../images/TF_IDF_weight.png)"
   ]
  },
  {
   "cell_type": "markdown",
   "metadata": {},
   "source": [
    "### Query ..."
   ]
  },
  {
   "cell_type": "code",
   "execution_count": 6,
   "metadata": {},
   "outputs": [],
   "source": [
    "import re\n",
    "from string import punctuation\n",
    "from functions.nlp import ngram"
   ]
  },
  {
   "cell_type": "code",
   "execution_count": 9,
   "metadata": {
    "scrolled": true
   },
   "outputs": [
    {
     "data": {
      "text/plain": [
       "['안녕', '녕하', '하세', '세요', '만났', '났네', '네요']"
      ]
     },
     "execution_count": 9,
     "metadata": {},
     "output_type": "execute_result"
    }
   ],
   "source": [
    "[__ for _ in \"안녕하세요 또 만났네요\".split() for __ in ngram.ngramUmjeol(_)]"
   ]
  },
  {
   "cell_type": "code",
   "execution_count": 10,
   "metadata": {},
   "outputs": [
    {
     "data": {
      "text/plain": [
       "array([1, 2, 3, 4, 5, 6])"
      ]
     },
     "execution_count": 10,
     "metadata": {},
     "output_type": "execute_result"
    }
   ],
   "source": [
    "np.append([1, 2, 3], [4, 5, 6], axis=0)"
   ]
  },
  {
   "cell_type": "code",
   "execution_count": null,
   "metadata": {},
   "outputs": [],
   "source": []
  }
 ],
 "metadata": {
  "kernelspec": {
   "display_name": "Python 3",
   "language": "python",
   "name": "python3"
  },
  "language_info": {
   "codemirror_mode": {
    "name": "ipython",
    "version": 3
   },
   "file_extension": ".py",
   "mimetype": "text/x-python",
   "name": "python",
   "nbconvert_exporter": "python",
   "pygments_lexer": "ipython3",
   "version": "3.7.1"
  },
  "toc": {
   "base_numbering": 1,
   "nav_menu": {},
   "number_sections": false,
   "sideBar": true,
   "skip_h1_title": false,
   "title_cell": "Table of Contents",
   "title_sidebar": "Contents",
   "toc_cell": true,
   "toc_position": {},
   "toc_section_display": true,
   "toc_window_display": false
  }
 },
 "nbformat": 4,
 "nbformat_minor": 2
}
