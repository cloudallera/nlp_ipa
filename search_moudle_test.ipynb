{
 "cells": [
  {
   "cell_type": "markdown",
   "metadata": {
    "toc": true
   },
   "source": [
    "<h1>Table of Contents<span class=\"tocSkip\"></span></h1>\n",
    "<div class=\"toc\"><ul class=\"toc-item\"></ul></div>"
   ]
  },
  {
   "cell_type": "code",
   "execution_count": 1,
   "metadata": {},
   "outputs": [],
   "source": [
    "from functions.search import googleSearchSubject\n",
    "from functions.search import naverSearchSubject\n",
    "from functions.search import daumSearchSubject"
   ]
  },
  {
   "cell_type": "code",
   "execution_count": 2,
   "metadata": {},
   "outputs": [
    {
     "data": {
      "text/plain": [
       "['파이썬 자습서 — Python 3.7.2 documentation',\n",
       " '프로그래머가 아닌 이들을 위한 파이썬 3 자습서 - 위키책',\n",
       " 'byte of python(한국어판 PDF) - SourceForge',\n",
       " '파이썬 강좌 및 유용한 사이트 모음 : 네이버 블로그',\n",
       " 'Visual Studio 자습서 1단계의 Python 프로젝트 만들기 | Microsoft Docs',\n",
       " 'Python | 자습서, API, SDK, 설명서 | AWS 개발자 센터 - Amazon.com',\n",
       " '5.2 파이썬(Python) 시작하기 – Computational Thinking',\n",
       " '무료 파이썬 자습서, eBook 및 전자책 - Blue Breeze']"
      ]
     },
     "execution_count": 2,
     "metadata": {},
     "output_type": "execute_result"
    }
   ],
   "source": [
    "googleSearchSubject(\"파이썬 자습서\")"
   ]
  },
  {
   "cell_type": "code",
   "execution_count": null,
   "metadata": {},
   "outputs": [],
   "source": []
  }
 ],
 "metadata": {
  "kernelspec": {
   "display_name": "Python 3",
   "language": "python",
   "name": "python3"
  },
  "language_info": {
   "codemirror_mode": {
    "name": "ipython",
    "version": 3
   },
   "file_extension": ".py",
   "mimetype": "text/x-python",
   "name": "python",
   "nbconvert_exporter": "python",
   "pygments_lexer": "ipython3",
   "version": "3.6.7"
  },
  "toc": {
   "base_numbering": 1,
   "nav_menu": {},
   "number_sections": false,
   "sideBar": true,
   "skip_h1_title": false,
   "title_cell": "Table of Contents",
   "title_sidebar": "Contents",
   "toc_cell": true,
   "toc_position": {},
   "toc_section_display": true,
   "toc_window_display": false
  }
 },
 "nbformat": 4,
 "nbformat_minor": 2
}
