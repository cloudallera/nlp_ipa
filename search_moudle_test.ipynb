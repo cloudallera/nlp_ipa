{
 "cells": [
  {
   "cell_type": "markdown",
   "metadata": {
    "toc": true
   },
   "source": [
    "<h1>Table of Contents<span class=\"tocSkip\"></span></h1>\n",
    "<div class=\"toc\"><ul class=\"toc-item\"></ul></div>"
   ]
  },
  {
   "cell_type": "code",
   "execution_count": 1,
   "metadata": {},
   "outputs": [],
   "source": [
    "from functions.search import googleSearchTitleList\n",
    "from functions.search import naverSearchTitleList\n",
    "from functions.search import daumSearchTitleList\n",
    "from functions.search import getSearchTitleList\n",
    "from functions.search import getSearchDOM"
   ]
  },
  {
   "cell_type": "code",
   "execution_count": 2,
   "metadata": {},
   "outputs": [
    {
     "data": {
      "text/plain": [
       "['파이썬 자습서 — Python 3.7.2 documentation',\n",
       " '프로그래머가 아닌 이들을 위한 파이썬 3 자습서 - 위키책',\n",
       " 'byte of python(한국어판 PDF) - SourceForge',\n",
       " '파이썬 강좌 및 유용한 사이트 모음 : 네이버 블로그',\n",
       " 'Visual Studio 자습서 1단계의 Python 프로젝트 만들기 | Microsoft Docs',\n",
       " 'Python | 자습서, API, SDK, 설명서 | AWS 개발자 센터 - Amazon.com',\n",
       " '무료 파이썬 자습서, eBook 및 전자책 - Blue Breeze',\n",
       " '[리뷰] 파이썬 코딩 도장 - 브런치']"
      ]
     },
     "execution_count": 2,
     "metadata": {},
     "output_type": "execute_result"
    }
   ],
   "source": [
    "googleSearchTitleList(\"파이썬 자습서\")"
   ]
  },
  {
   "cell_type": "code",
   "execution_count": 3,
   "metadata": {},
   "outputs": [
    {
     "data": {
      "text/plain": [
       "['파이썬 자습서 — Python 3.7.2 documentation',\n",
       " '프로그래머가 아닌 이들을 위한 파이썬 3 자습서 - 위키책',\n",
       " 'byte of python(한국어판 PDF) - SourceForge',\n",
       " '파이썬 강좌 및 유용한 사이트 모음 : 네이버 블로그',\n",
       " 'Visual Studio 자습서 1단계의 Python 프로젝트 만들기 | Microsoft Docs',\n",
       " 'Python | 자습서, API, SDK, 설명서 | AWS 개발자 센터 - Amazon.com',\n",
       " '무료 파이썬 자습서, eBook 및 전자책 - Blue Breeze',\n",
       " '[리뷰] 파이썬 코딩 도장 - 브런치']"
      ]
     },
     "execution_count": 3,
     "metadata": {},
     "output_type": "execute_result"
    }
   ],
   "source": [
    "getSearchTitleList(\"google\", \"파이썬 자습서\")"
   ]
  },
  {
   "cell_type": "code",
   "execution_count": 4,
   "metadata": {},
   "outputs": [
    {
     "data": {
      "text/plain": [
       "['파이썬 자습서 — Python 3.7.2 documentation',\n",
       " '프로그래머가 아닌 이들을 위한 파이썬 3 자습서 - 위키책',\n",
       " 'byte of python(한국어판 PDF) - SourceForge',\n",
       " '파이썬 강좌 및 유용한 사이트 모음 : 네이버 블로그',\n",
       " 'Visual Studio 자습서 1단계의 Python 프로젝트 만들기 | Microsoft Docs',\n",
       " 'Python | 자습서, API, SDK, 설명서 | AWS 개발자 센터 - Amazon.com',\n",
       " '무료 파이썬 자습서, eBook 및 전자책 - Blue Breeze',\n",
       " '[리뷰] 파이썬 코딩 도장 - 브런치']"
      ]
     },
     "execution_count": 4,
     "metadata": {},
     "output_type": "execute_result"
    }
   ],
   "source": [
    "getSearchTitleList(\"g\", \"파이썬 자습서\")"
   ]
  },
  {
   "cell_type": "code",
   "execution_count": 5,
   "metadata": {},
   "outputs": [
    {
     "data": {
      "text/plain": [
       "[['파이썬 자습서', '[python][ebook] 귀도의 파이썬 자습서(2.5) (한글 EBook)', '자료 - 파이썬 자습서'],\n",
       " ['[파이선] 파이썬 자습서 (한글화가 잘 되어 있네요)',\n",
       "  '파이썬 ve C언어',\n",
       "  '과학 전공도서/자습서/교양서적 등 팝니다~',\n",
       "  '[nRF Mesh] Sending mesh packets [2-serial examples]',\n",
       "  'C언어를 배우기 전에 파이썬공부를 왜 하는가'],\n",
       " ['파이썬, 주류 언어로 부상··· 티오베와 PyPL 지표에서 상위권',\n",
       "  '떠오르는 심층 신경망 API, \"케라스\" 알아보기',\n",
       "  'IT전문가를 위한 라즈베리 파이 프로젝트 13선',\n",
       "  \"개발자 출신 빅토리아시크릿 모델 ... '뇌섹녀' 인증\",\n",
       "  '기술력 향상을 도울 온라인 무료 교육 사이트 8선'],\n",
       " ['올해 대학 합격하고 컴퓨터 공학과에', '경북대학교 소프트웨어학과 진학에 관해서', '고1 공부법 및 진로'],\n",
       " ['The Python Tutorial — Python 3.7.2 documentation',\n",
       "  '프로그래머가 아닌 이들을 위한 파이썬 3 자습서',\n",
       "  '프로그래머가 아닌 이들을 위한 파이썬 3 자습서/재귀']]"
      ]
     },
     "execution_count": 5,
     "metadata": {},
     "output_type": "execute_result"
    }
   ],
   "source": [
    "naverSearchTitleList(\"파이썬 자습서\")"
   ]
  },
  {
   "cell_type": "code",
   "execution_count": 6,
   "metadata": {},
   "outputs": [
    {
     "data": {
      "text/plain": [
       "[['파이썬 자습서', '[python][ebook] 귀도의 파이썬 자습서(2.5) (한글 EBook)', '자료 - 파이썬 자습서'],\n",
       " ['[파이선] 파이썬 자습서 (한글화가 잘 되어 있네요)',\n",
       "  '파이썬 ve C언어',\n",
       "  '과학 전공도서/자습서/교양서적 등 팝니다~',\n",
       "  '[nRF Mesh] Sending mesh packets [2-serial examples]',\n",
       "  'C언어를 배우기 전에 파이썬공부를 왜 하는가'],\n",
       " ['파이썬, 주류 언어로 부상··· 티오베와 PyPL 지표에서 상위권',\n",
       "  '떠오르는 심층 신경망 API, \"케라스\" 알아보기',\n",
       "  'IT전문가를 위한 라즈베리 파이 프로젝트 13선',\n",
       "  \"개발자 출신 빅토리아시크릿 모델 ... '뇌섹녀' 인증\",\n",
       "  '기술력 향상을 도울 온라인 무료 교육 사이트 8선'],\n",
       " ['올해 대학 합격하고 컴퓨터 공학과에', '경북대학교 소프트웨어학과 진학에 관해서', '고1 공부법 및 진로'],\n",
       " ['The Python Tutorial — Python 3.7.2 documentation',\n",
       "  '프로그래머가 아닌 이들을 위한 파이썬 3 자습서',\n",
       "  '프로그래머가 아닌 이들을 위한 파이썬 3 자습서/재귀']]"
      ]
     },
     "execution_count": 6,
     "metadata": {},
     "output_type": "execute_result"
    }
   ],
   "source": [
    "getSearchTitleList(\"Naver\", \"파이썬 자습서\")"
   ]
  },
  {
   "cell_type": "code",
   "execution_count": 7,
   "metadata": {},
   "outputs": [
    {
     "data": {
      "text/plain": [
       "[['파이썬 자습서', '[python][ebook] 귀도의 파이썬 자습서(2.5) (한글 EBook)', '자료 - 파이썬 자습서'],\n",
       " ['[파이선] 파이썬 자습서 (한글화가 잘 되어 있네요)',\n",
       "  '파이썬 ve C언어',\n",
       "  '과학 전공도서/자습서/교양서적 등 팝니다~',\n",
       "  '[nRF Mesh] Sending mesh packets [2-serial examples]',\n",
       "  'C언어를 배우기 전에 파이썬공부를 왜 하는가'],\n",
       " ['파이썬, 주류 언어로 부상··· 티오베와 PyPL 지표에서 상위권',\n",
       "  '떠오르는 심층 신경망 API, \"케라스\" 알아보기',\n",
       "  'IT전문가를 위한 라즈베리 파이 프로젝트 13선',\n",
       "  \"개발자 출신 빅토리아시크릿 모델 ... '뇌섹녀' 인증\",\n",
       "  '기술력 향상을 도울 온라인 무료 교육 사이트 8선'],\n",
       " ['올해 대학 합격하고 컴퓨터 공학과에', '경북대학교 소프트웨어학과 진학에 관해서', '고1 공부법 및 진로'],\n",
       " ['The Python Tutorial — Python 3.7.2 documentation',\n",
       "  '프로그래머가 아닌 이들을 위한 파이썬 3 자습서',\n",
       "  '프로그래머가 아닌 이들을 위한 파이썬 3 자습서/재귀']]"
      ]
     },
     "execution_count": 7,
     "metadata": {},
     "output_type": "execute_result"
    }
   ],
   "source": [
    "getSearchTitleList(\"N\", \"파이썬 자습서\")"
   ]
  },
  {
   "cell_type": "code",
   "execution_count": 8,
   "metadata": {
    "scrolled": false
   },
   "outputs": [
    {
     "data": {
      "text/plain": [
       "['[파이썬기초] 자습서',\n",
       " '무료 파이썬 자습서, eBook 및 전자책',\n",
       " '[python][ebook] 귀도의 파이썬 자습서(2.5) (한글 EBook)',\n",
       " 'python자습서_ 숫자, 문자열',\n",
       " '파이썬 자습서 ¶',\n",
       " '【免費教育APP】파이썬 자습서|線上玩APP不花錢',\n",
       " '프로그래머가 아닌 이들을 위한 파이썬 3 자습서/서문',\n",
       " '프로그래머가 아닌 이들을 위한 파이썬 3 자습서/FAQ',\n",
       " '떠오르는 심층 신경망 API, \"케라스\" 알아보기',\n",
       " '파이썬, 주류 언어로 부상··· 티오베와 PyPL 지표에서 상위권',\n",
       " 'IT전문가를 위한 라즈베리 파이 프로젝트 13선',\n",
       " \"개발자 출신 빅토리아시크릿 모델 .. '뇌섹녀' 인증\",\n",
       " '파이썬 정리 5일차',\n",
       " '어떻게 무료로 데이터 과학자가 될 수 있는지((주...',\n",
       " '떠오르는 심층 신경망 API, \"케라스\" 알아보기',\n",
       " 'Genymtn']"
      ]
     },
     "execution_count": 8,
     "metadata": {},
     "output_type": "execute_result"
    }
   ],
   "source": [
    "daumSearchTitleList(\"파이썬 자습서\")"
   ]
  },
  {
   "cell_type": "code",
   "execution_count": 9,
   "metadata": {},
   "outputs": [
    {
     "data": {
      "text/plain": [
       "['[파이썬기초] 자습서',\n",
       " '무료 파이썬 자습서, eBook 및 전자책',\n",
       " '[python][ebook] 귀도의 파이썬 자습서(2.5) (한글 EBook)',\n",
       " 'python자습서_ 숫자, 문자열',\n",
       " '파이썬 자습서 ¶',\n",
       " '【免費教育APP】파이썬 자습서|線上玩APP不花錢',\n",
       " '프로그래머가 아닌 이들을 위한 파이썬 3 자습서/서문',\n",
       " '프로그래머가 아닌 이들을 위한 파이썬 3 자습서/FAQ',\n",
       " '떠오르는 심층 신경망 API, \"케라스\" 알아보기',\n",
       " '파이썬, 주류 언어로 부상··· 티오베와 PyPL 지표에서 상위권',\n",
       " 'IT전문가를 위한 라즈베리 파이 프로젝트 13선',\n",
       " \"개발자 출신 빅토리아시크릿 모델 .. '뇌섹녀' 인증\",\n",
       " '파이썬 정리 5일차',\n",
       " '어떻게 무료로 데이터 과학자가 될 수 있는지((주...',\n",
       " '떠오르는 심층 신경망 API, \"케라스\" 알아보기',\n",
       " 'Genymtn']"
      ]
     },
     "execution_count": 9,
     "metadata": {},
     "output_type": "execute_result"
    }
   ],
   "source": [
    "getSearchTitleList(\"daum\", \"파이썬 자습서\")"
   ]
  },
  {
   "cell_type": "code",
   "execution_count": 10,
   "metadata": {},
   "outputs": [
    {
     "data": {
      "text/plain": [
       "['[파이썬기초] 자습서',\n",
       " '무료 파이썬 자습서, eBook 및 전자책',\n",
       " '[python][ebook] 귀도의 파이썬 자습서(2.5) (한글 EBook)',\n",
       " 'python자습서_ 숫자, 문자열',\n",
       " '파이썬 자습서 ¶',\n",
       " '【免費教育APP】파이썬 자습서|線上玩APP不花錢',\n",
       " '프로그래머가 아닌 이들을 위한 파이썬 3 자습서/서문',\n",
       " '프로그래머가 아닌 이들을 위한 파이썬 3 자습서/FAQ',\n",
       " '떠오르는 심층 신경망 API, \"케라스\" 알아보기',\n",
       " '파이썬, 주류 언어로 부상··· 티오베와 PyPL 지표에서 상위권',\n",
       " 'IT전문가를 위한 라즈베리 파이 프로젝트 13선',\n",
       " \"개발자 출신 빅토리아시크릿 모델 .. '뇌섹녀' 인증\",\n",
       " '파이썬 정리 5일차',\n",
       " '어떻게 무료로 데이터 과학자가 될 수 있는지((주...',\n",
       " '떠오르는 심층 신경망 API, \"케라스\" 알아보기',\n",
       " 'Genymtn']"
      ]
     },
     "execution_count": 10,
     "metadata": {},
     "output_type": "execute_result"
    }
   ],
   "source": [
    "getSearchTitleList(\"d\", \"파이썬 자습서\")"
   ]
  },
  {
   "cell_type": "code",
   "execution_count": 11,
   "metadata": {},
   "outputs": [
    {
     "name": "stdout",
     "output_type": "stream",
     "text": [
      "portal은 \"google\", \"g\", \"naver\", \"n\", \"daum\", \"d\" 중 하나를 지정하세요.\n"
     ]
    },
    {
     "data": {
      "text/plain": [
       "[]"
      ]
     },
     "execution_count": 11,
     "metadata": {},
     "output_type": "execute_result"
    }
   ],
   "source": [
    "getSearchTitleList(\"paran\", \"파이썬 자습서\")"
   ]
  },
  {
   "cell_type": "code",
   "execution_count": 12,
   "metadata": {},
   "outputs": [],
   "source": [
    "dom = getSearchDOM(\"google\", \"웹 스크래핑\")"
   ]
  },
  {
   "cell_type": "code",
   "execution_count": 13,
   "metadata": {},
   "outputs": [],
   "source": [
    "dom = getSearchDOM(\"naver\", \"웹 스크래핑\")"
   ]
  },
  {
   "cell_type": "code",
   "execution_count": 14,
   "metadata": {},
   "outputs": [],
   "source": [
    "dom = getSearchDOM(\"daum\", \"웹 스크래핑\")"
   ]
  },
  {
   "cell_type": "code",
   "execution_count": null,
   "metadata": {},
   "outputs": [],
   "source": []
  }
 ],
 "metadata": {
  "kernelspec": {
   "display_name": "Python 3",
   "language": "python",
   "name": "python3"
  },
  "language_info": {
   "codemirror_mode": {
    "name": "ipython",
    "version": 3
   },
   "file_extension": ".py",
   "mimetype": "text/x-python",
   "name": "python",
   "nbconvert_exporter": "python",
   "pygments_lexer": "ipython3",
   "version": "3.6.7"
  },
  "toc": {
   "base_numbering": 1,
   "nav_menu": {},
   "number_sections": false,
   "sideBar": true,
   "skip_h1_title": false,
   "title_cell": "Table of Contents",
   "title_sidebar": "Contents",
   "toc_cell": true,
   "toc_position": {},
   "toc_section_display": true,
   "toc_window_display": false
  }
 },
 "nbformat": 4,
 "nbformat_minor": 2
}
