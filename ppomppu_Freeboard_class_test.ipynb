{
 "cells": [
  {
   "cell_type": "markdown",
   "metadata": {
    "toc": true
   },
   "source": [
    "<h1>Table of Contents<span class=\"tocSkip\"></span></h1>\n",
    "<div class=\"toc\"><ul class=\"toc-item\"></ul></div>"
   ]
  },
  {
   "cell_type": "code",
   "execution_count": 1,
   "metadata": {},
   "outputs": [],
   "source": [
    "from functions.ppomppu import PpomppuFreeboard"
   ]
  },
  {
   "cell_type": "code",
   "execution_count": 20,
   "metadata": {},
   "outputs": [],
   "source": [
    "bbs = PpomppuFreeboard()"
   ]
  },
  {
   "cell_type": "code",
   "execution_count": 21,
   "metadata": {},
   "outputs": [],
   "source": [
    "intStrings = []\n",
    "writeDates = []\n",
    "\n",
    "for list_vspace in bbs.bs.select(\"td.eng.list_vspace\"):\n",
    "    #print(list_vspace)\n",
    "    if list_vspace.has_attr(\"title\"):\n",
    "        writeDates.append(list_vspace[\"title\"])\n",
    "    else:\n",
    "        if len(list_vspace.text.split(\"-\")[0].strip()) != 0:\n",
    "            intStrings.append(int(list_vspace.text.split(\"-\")[0].strip()))\n",
    "        else:\n",
    "            intStrings.append(0)"
   ]
  },
  {
   "cell_type": "code",
   "execution_count": 22,
   "metadata": {
    "scrolled": true
   },
   "outputs": [
    {
     "data": {
      "text/plain": [
       "['19.03.15 07:36:52',\n",
       " '19.03.15 07:32:00',\n",
       " '19.03.15 07:26:34',\n",
       " '19.03.15 07:22:23',\n",
       " '19.03.15 07:21:51',\n",
       " '19.03.15 07:21:48',\n",
       " '19.03.15 07:17:37',\n",
       " '19.03.15 07:17:19',\n",
       " '19.03.15 07:15:47',\n",
       " '19.03.15 07:15:46',\n",
       " '19.03.15 07:15:33',\n",
       " '19.03.15 07:13:52',\n",
       " '19.03.15 07:13:28',\n",
       " '19.03.15 07:12:26',\n",
       " '19.03.15 07:09:02',\n",
       " '19.03.15 07:05:39',\n",
       " '19.03.15 07:03:56',\n",
       " '19.03.15 06:57:30',\n",
       " '19.03.15 06:56:40',\n",
       " '19.03.15 06:46:30',\n",
       " '19.03.15 06:45:38',\n",
       " '19.03.15 06:43:40',\n",
       " '19.03.15 06:35:21',\n",
       " '19.03.15 06:27:25',\n",
       " '19.03.15 06:22:21',\n",
       " '19.03.15 06:18:04',\n",
       " '19.03.15 06:17:43',\n",
       " '19.03.15 06:16:15',\n",
       " '19.03.15 06:06:03',\n",
       " '19.03.15 05:58:02']"
      ]
     },
     "execution_count": 22,
     "metadata": {},
     "output_type": "execute_result"
    }
   ],
   "source": [
    "del writeDates[0]    # 공지글 작성일 삭제\n",
    "writeDates"
   ]
  },
  {
   "cell_type": "code",
   "execution_count": 24,
   "metadata": {
    "scrolled": true
   },
   "outputs": [
    {
     "data": {
      "text/plain": [
       "[6345237,\n",
       " 0,\n",
       " 69,\n",
       " 6345236,\n",
       " 0,\n",
       " 697,\n",
       " 6345235,\n",
       " 0,\n",
       " 140,\n",
       " 6345234,\n",
       " 1,\n",
       " 313,\n",
       " 6345233,\n",
       " 12,\n",
       " 1576,\n",
       " 6345232,\n",
       " 0,\n",
       " 513,\n",
       " 6345231,\n",
       " 3,\n",
       " 584,\n",
       " 6345230,\n",
       " 0,\n",
       " 721,\n",
       " 6345229,\n",
       " 0,\n",
       " 1158,\n",
       " 6345228,\n",
       " 0,\n",
       " 267,\n",
       " 6345227,\n",
       " 0,\n",
       " 66,\n",
       " 6345226,\n",
       " 5,\n",
       " 1041,\n",
       " 6345225,\n",
       " 3,\n",
       " 195,\n",
       " 6345224,\n",
       " 1,\n",
       " 666,\n",
       " 6345223,\n",
       " 0,\n",
       " 578,\n",
       " 6345222,\n",
       " 1,\n",
       " 734,\n",
       " 6345221,\n",
       " 5,\n",
       " 423,\n",
       " 6345220,\n",
       " 3,\n",
       " 137,\n",
       " 6345219,\n",
       " 0,\n",
       " 171,\n",
       " 6345218,\n",
       " 1,\n",
       " 2076,\n",
       " 6345217,\n",
       " 5,\n",
       " 328,\n",
       " 6345216,\n",
       " 1,\n",
       " 1155,\n",
       " 6345215,\n",
       " 0,\n",
       " 564,\n",
       " 6345214,\n",
       " 7,\n",
       " 880,\n",
       " 6345213,\n",
       " 0,\n",
       " 678,\n",
       " 6345212,\n",
       " 0,\n",
       " 666,\n",
       " 6345211,\n",
       " 0,\n",
       " 864,\n",
       " 6345210,\n",
       " 0,\n",
       " 515,\n",
       " 6345209,\n",
       " 30,\n",
       " 4538,\n",
       " 6345208,\n",
       " 0,\n",
       " 2594]"
      ]
     },
     "execution_count": 24,
     "metadata": {},
     "output_type": "execute_result"
    }
   ],
   "source": [
    "del intStrings[0:2]    # 공지글 추천 수, 조회 수 삭제 (공지글 번호는 없음)\n",
    "intStrings"
   ]
  },
  {
   "cell_type": "code",
   "execution_count": null,
   "metadata": {},
   "outputs": [],
   "source": []
  }
 ],
 "metadata": {
  "kernelspec": {
   "display_name": "Python 3",
   "language": "python",
   "name": "python3"
  },
  "language_info": {
   "codemirror_mode": {
    "name": "ipython",
    "version": 3
   },
   "file_extension": ".py",
   "mimetype": "text/x-python",
   "name": "python",
   "nbconvert_exporter": "python",
   "pygments_lexer": "ipython3",
   "version": "3.6.7"
  },
  "toc": {
   "base_numbering": 1,
   "nav_menu": {},
   "number_sections": false,
   "sideBar": true,
   "skip_h1_title": false,
   "title_cell": "Table of Contents",
   "title_sidebar": "Contents",
   "toc_cell": true,
   "toc_position": {},
   "toc_section_display": true,
   "toc_window_display": false
  }
 },
 "nbformat": 4,
 "nbformat_minor": 2
}
