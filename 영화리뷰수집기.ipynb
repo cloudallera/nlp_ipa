{
 "cells": [
  {
   "cell_type": "code",
   "execution_count": null,
   "metadata": {},
   "outputs": [],
   "source": [
    "import requests\n",
    "\n",
    "userAgent = {\"user-agent\":\"Mozilla/5.0 (Macintosh; Intel Mac OS X 10_13_6) AppleWebKit/537.36 (KHTML, like Gecko) Chrome/69.0.3497.100 Safari/537.36\"}\n",
    "getDownload = lambda url: requests.get(url, headers=userAgent)"
   ]
  },
  {
   "cell_type": "code",
   "execution_count": null,
   "metadata": {},
   "outputs": [],
   "source": [
    "import re\n",
    "\n",
    "getCleanText = lambda item: re.sub(r\"[\\s]{2,}\", \" \", item.strip().replace(\",\", \" \"))"
   ]
  },
  {
   "cell_type": "code",
   "execution_count": null,
   "metadata": {},
   "outputs": [],
   "source": [
    "from bs4 import BeautifulSoup\n",
    "\n",
    "url = \"https://movie.naver.com/movie/point/af/list.nhn?st=mcode&sword=136900&target=after&page=\"\n",
    "\n",
    "pageNo = 1\n",
    "maxPageNo = 1001\n",
    "maxPageNo = 2\n",
    "lastReviewNo = 0\n",
    "\n",
    "saveFilePath = \"./어벤져스.txt\"\n",
    "\n",
    "fp = open(saveFilePath, \"w\", encoding=\"utf-8\")\n",
    "fp.close()\n",
    "\n",
    "html = getDownload(url+str(pageNo))\n",
    "\n",
    "while html.status_code == 200 and pageNo < maxPageNo:\n",
    "    dom = BeautifulSoup(html.text, \"html.parser\")\n",
    "    pointList = dom.select(\".list_netizen tbody > tr\")\n",
    "    \n",
    "    fp = open(saveFilePath, \"a\", encoding=\"utf-8\")\n",
    "    \n",
    "    for pointInfo in pointList:\n",
    "        pointItem = [point for point in pointInfo.select(\"td\")]\n",
    "        pointID = getCleanText(pointItem[0].text)\n",
    "        pointScore = getCleanText(pointItem[2].text)\n",
    "        pointMovie = getCleanText(pointItem[3].select_one(\"a\").text)\n",
    "        pointComment = getCleanText(pointItem[3].contents[4])\n",
    "        pointRegData = getCleanText(pointItem[4].contents[-1])\n",
    "        \n",
    "        if lastReviewNo == pointID:\n",
    "            continue\n",
    "        else:\n",
    "            fp.write(\"{0},{1},{2},{3},{4}\\n\".format(pointID, pointScore, pointMovie, pointComment, pointRegData))\n",
    "        \n",
    "    fp.close()\n",
    "    \n",
    "    lastReviewNo = pointID\n",
    "        \n",
    "    pageNo += 1\n",
    "    html = getDownload(url+str(pageNo))\n",
    "    \n",
    "    if pageNo % 100 == 0:\n",
    "        print(\"{0} pages are crawled.\".format(pageNo))"
   ]
  },
  {
   "cell_type": "code",
   "execution_count": null,
   "metadata": {},
   "outputs": [],
   "source": [
    "html"
   ]
  },
  {
   "cell_type": "code",
   "execution_count": null,
   "metadata": {},
   "outputs": [],
   "source": []
  }
 ],
 "metadata": {
  "kernelspec": {
   "display_name": "Python 3",
   "language": "python",
   "name": "python3"
  },
  "language_info": {
   "codemirror_mode": {
    "name": "ipython",
    "version": 3
   },
   "file_extension": ".py",
   "mimetype": "text/x-python",
   "name": "python",
   "nbconvert_exporter": "python",
   "pygments_lexer": "ipython3",
   "version": "3.7.1"
  }
 },
 "nbformat": 4,
 "nbformat_minor": 2
}
