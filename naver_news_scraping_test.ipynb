{
 "cells": [
  {
   "cell_type": "markdown",
   "metadata": {
    "toc": true
   },
   "source": [
    "<h1>Table of Contents<span class=\"tocSkip\"></span></h1>\n",
    "<div class=\"toc\"><ul class=\"toc-item\"></ul></div>"
   ]
  },
  {
   "cell_type": "code",
   "execution_count": 1,
   "metadata": {
    "scrolled": true
   },
   "outputs": [],
   "source": [
    "from functions.naver import NewsScraping"
   ]
  },
  {
   "cell_type": "code",
   "execution_count": 2,
   "metadata": {},
   "outputs": [],
   "source": [
    "news = NewsScraping()"
   ]
  },
  {
   "cell_type": "code",
   "execution_count": 3,
   "metadata": {},
   "outputs": [],
   "source": [
    "newslist = news.download()"
   ]
  },
  {
   "cell_type": "code",
   "execution_count": 5,
   "metadata": {},
   "outputs": [
    {
     "data": {
      "text/plain": [
       "[[['1',\n",
       "   '‘군면제 받으려고…’ 고의로 청력 마비시킨 전 국가대표 등 적발',\n",
       "   'https://news.naver.com/main/ranking/read.nhn?mid=etc&sid1=111&rankingType=popular_day&oid=056&aid=0010682284&date=20190319&type=2&rankingSeq=1&rankingSectionId=100'],\n",
       "  ['2',\n",
       "   '\"회담 결렬 카드 꺼낸 건 폼페이오…트럼프에 적극 제안\"',\n",
       "   'https://news.naver.com/main/ranking/read.nhn?mid=etc&sid1=111&rankingType=popular_day&oid=437&aid=0000205407&date=20190319&type=2&rankingSeq=2&rankingSectionId=100'],\n",
       "  ['3',\n",
       "   \"빅뱅 탑, 사회복무 중 '병가 특혜' 논란…'남들의 3배'\",\n",
       "   'https://news.naver.com/main/ranking/read.nhn?mid=etc&sid1=111&rankingType=popular_day&oid=001&aid=0010704904&date=20190319&type=1&rankingSeq=3&rankingSectionId=100'],\n",
       "  ['4',\n",
       "   '[팩트체크K] 나경원 공격 맞받아친 심상정 주장 따져보니',\n",
       "   'https://news.naver.com/main/ranking/read.nhn?mid=etc&sid1=111&rankingType=popular_day&oid=056&aid=0010682275&date=20190319&type=2&rankingSeq=4&rankingSectionId=100'],\n",
       "  ['5',\n",
       "   '文대통령, 말레이 정상회담서 인니어로 인사...외교 결례 논란',\n",
       "   'https://news.naver.com/main/ranking/read.nhn?mid=etc&sid1=111&rankingType=popular_day&oid=023&aid=0003433864&date=20190319&type=1&rankingSeq=5&rankingSectionId=100'],\n",
       "  ['6',\n",
       "   \"[단독] 유독 '징검다리 휴일'만…빅뱅 탑의 수상한 '병가'\",\n",
       "   'https://news.naver.com/main/ranking/read.nhn?mid=etc&sid1=111&rankingType=popular_day&oid=214&aid=0000933443&date=20190319&type=2&rankingSeq=6&rankingSectionId=100'],\n",
       "  ['7',\n",
       "   '文 \"과거정부 문제\"라더니···조국 책임론 불거진 버닝썬',\n",
       "   'https://news.naver.com/main/ranking/read.nhn?mid=etc&sid1=111&rankingType=popular_day&oid=025&aid=0002892667&date=20190319&type=1&rankingSeq=7&rankingSectionId=100'],\n",
       "  ['8',\n",
       "   '외신기자들, \\'검은 머리·매국노\\' 비판에 반발…靑 \"대책 마련\"',\n",
       "   'https://news.naver.com/main/ranking/read.nhn?mid=etc&sid1=111&rankingType=popular_day&oid=448&aid=0000269602&date=20190319&type=2&rankingSeq=8&rankingSectionId=100'],\n",
       "  ['9',\n",
       "   '선거제 개편 막판 진통…열쇠 쥔 바른미래당',\n",
       "   'https://news.naver.com/main/ranking/read.nhn?mid=etc&sid1=111&rankingType=popular_day&oid=055&aid=0000718244&date=20190319&type=2&rankingSeq=9&rankingSectionId=100'],\n",
       "  ['10',\n",
       "   '중국, 러시아, UN 주재 북한 대사들 급거 귀국, 왜?',\n",
       "   'https://news.naver.com/main/ranking/read.nhn?mid=etc&sid1=111&rankingType=popular_day&oid=025&aid=0002892709&date=20190319&type=1&rankingSeq=10&rankingSectionId=100']],\n",
       " [['1',\n",
       "   '전기차의 \\'역습\\'…\"공장에 사람 많을 필요 없다\"',\n",
       "   'https://news.naver.com/main/ranking/read.nhn?mid=etc&sid1=111&rankingType=popular_day&oid=214&aid=0000933452&date=20190319&type=2&rankingSeq=1&rankingSectionId=101'],\n",
       "  ['2',\n",
       "   '대한항공 ‘조양호 지키기’ 점입가경…직원 반대표 막기 총력',\n",
       "   'https://news.naver.com/main/ranking/read.nhn?mid=etc&sid1=111&rankingType=popular_day&oid=056&aid=0010682283&date=20190319&type=2&rankingSeq=2&rankingSectionId=101'],\n",
       "  ['3',\n",
       "   \"한국은행 '역전세난' 경고…아파트 절반은 보증금 비상\",\n",
       "   'https://news.naver.com/main/ranking/read.nhn?mid=etc&sid1=111&rankingType=popular_day&oid=057&aid=0001335011&date=20190319&type=2&rankingSeq=3&rankingSectionId=101'],\n",
       "  ['4',\n",
       "   '“깡통전세, 갭투자자인 집주인이 책임져야”…‘사면초가’ 몰리나?',\n",
       "   'https://news.naver.com/main/ranking/read.nhn?mid=etc&sid1=111&rankingType=popular_day&oid=374&aid=0000179506&date=20190319&type=2&rankingSeq=4&rankingSectionId=101'],\n",
       "  ['5',\n",
       "   '아파트 절반 전셋값 \\'뚝\\'…\"역전세난 우려 크지 않아\"',\n",
       "   'https://news.naver.com/main/ranking/read.nhn?mid=etc&sid1=111&rankingType=popular_day&oid=437&aid=0000205430&date=20190319&type=2&rankingSeq=5&rankingSectionId=101'],\n",
       "  ['6',\n",
       "   '[강남 집값 바닥 다지나] 잠실 ‘엘스·리센츠·트리지움’ 84㎡ 한달새 최고 1.7억 올랐지만···거래절벽은 여전',\n",
       "   'https://news.naver.com/main/ranking/read.nhn?mid=etc&sid1=111&rankingType=popular_day&oid=011&aid=0003523418&date=20190319&type=1&rankingSeq=6&rankingSectionId=101'],\n",
       "  ['7',\n",
       "   '삼성화재 임직원의 ‘갑질’…비리 제보했더니 일감 보복?',\n",
       "   'https://news.naver.com/main/ranking/read.nhn?mid=etc&sid1=111&rankingType=popular_day&oid=056&aid=0010682281&date=20190319&type=2&rankingSeq=7&rankingSectionId=101'],\n",
       "  ['8',\n",
       "   \"'화관법 폭탄'에 1년 통째로 공장 세울 판\",\n",
       "   'https://news.naver.com/main/ranking/read.nhn?mid=etc&sid1=111&rankingType=popular_day&oid=015&aid=0004110149&date=20190319&type=1&rankingSeq=8&rankingSectionId=101'],\n",
       "  ['9',\n",
       "   '문재인 정부 들어 세금감면 확 늘었다',\n",
       "   'https://news.naver.com/main/ranking/read.nhn?mid=etc&sid1=111&rankingType=popular_day&oid=028&aid=0002447056&date=20190319&type=1&rankingSeq=9&rankingSectionId=101'],\n",
       "  ['10',\n",
       "   \"CU 대만서 수입 '대왕젤리' 매진…편의점 외국 상품 인기\",\n",
       "   'https://news.naver.com/main/ranking/read.nhn?mid=etc&sid1=111&rankingType=popular_day&oid=001&aid=0010700264&date=20190318&type=1&rankingSeq=10&rankingSectionId=101']],\n",
       " [['1',\n",
       "   \"'버닝썬' 이문호 대표 구속영장 기각…향후 수사 어떻게?\",\n",
       "   'https://news.naver.com/main/ranking/read.nhn?mid=etc&sid1=111&rankingType=popular_day&oid=437&aid=0000205405&date=20190319&type=2&rankingSeq=1&rankingSectionId=102'],\n",
       "  ['2',\n",
       "   '김학의 ‘특수강간’ 무혐의 이유 보니…피해자답지 않아서?',\n",
       "   'https://news.naver.com/main/ranking/read.nhn?mid=etc&sid1=111&rankingType=popular_day&oid=056&aid=0010682272&date=20190319&type=2&rankingSeq=2&rankingSectionId=102'],\n",
       "  ['3',\n",
       "   '포항 지진, 지열발전소가 원인이라면 피해 보상 어떻게?',\n",
       "   'https://news.naver.com/main/ranking/read.nhn?mid=etc&sid1=111&rankingType=popular_day&oid=055&aid=0000718222&date=20190319&type=2&rankingSeq=3&rankingSectionId=102'],\n",
       "  ['4',\n",
       "   \"[단독] 아니나 다를까 애나 '양성'…서울 속 중국인 '마약타운'?\",\n",
       "   'https://news.naver.com/main/ranking/read.nhn?mid=etc&sid1=111&rankingType=popular_day&oid=214&aid=0000933437&date=20190319&type=2&rankingSeq=4&rankingSectionId=102'],\n",
       "  ['5',\n",
       "   \"'버닝썬·김학의·장자연 사건' 특권층 민낯…유착 규명이 초점\",\n",
       "   'https://news.naver.com/main/ranking/read.nhn?mid=etc&sid1=111&rankingType=popular_day&oid=001&aid=0010704752&date=20190319&type=1&rankingSeq=5&rankingSectionId=102'],\n",
       "  ['6',\n",
       "   '[단독] 아무 데서나 뚝딱뚝딱…주먹구구 제조 미세먼지 마스크',\n",
       "   'https://news.naver.com/main/ranking/read.nhn?mid=etc&sid1=111&rankingType=popular_day&oid=057&aid=0001335002&date=20190319&type=2&rankingSeq=6&rankingSectionId=102'],\n",
       "  ['7',\n",
       "   \"아이 엉덩이 '붉은 줄'…심증 있어도 '물증'이 없다\",\n",
       "   'https://news.naver.com/main/ranking/read.nhn?mid=etc&sid1=111&rankingType=popular_day&oid=214&aid=0000933455&date=20190319&type=2&rankingSeq=7&rankingSectionId=102'],\n",
       "  ['8',\n",
       "   '승리 \"바보들끼리 허풍 떨고 허세 부렸다\" 혐의 전부 부인',\n",
       "   'https://news.naver.com/main/ranking/read.nhn?mid=etc&sid1=111&rankingType=popular_day&oid=023&aid=0003433858&date=20190319&type=1&rankingSeq=8&rankingSectionId=102'],\n",
       "  ['9',\n",
       "   '[단독] 승리 \\'마약 투약\\' 정황 포착…경찰 \"관계자 진술 확보\"',\n",
       "   'https://news.naver.com/main/ranking/read.nhn?mid=etc&sid1=111&rankingType=popular_day&oid=448&aid=0000269592&date=20190319&type=2&rankingSeq=9&rankingSectionId=102'],\n",
       "  ['10',\n",
       "   '이희진 부모살해 더딘 경찰 수사…풀리지 않는 의문',\n",
       "   'https://news.naver.com/main/ranking/read.nhn?mid=etc&sid1=111&rankingType=popular_day&oid=003&aid=0009122687&date=20190319&type=1&rankingSeq=10&rankingSectionId=102']],\n",
       " [['1',\n",
       "   '[날씨] 안개 심해지고 미세먼지↑…충청 이남부터 비 소식',\n",
       "   'https://news.naver.com/main/ranking/read.nhn?mid=etc&sid1=111&rankingType=popular_day&oid=055&aid=0000718251&date=20190319&type=2&rankingSeq=1&rankingSectionId=103'],\n",
       "  ['2',\n",
       "   '퇴사한 남편, 육아 때문에 이럴 줄 몰랐다',\n",
       "   'https://news.naver.com/main/ranking/read.nhn?mid=etc&sid1=111&rankingType=popular_day&oid=047&aid=0002220995&date=20190319&type=1&rankingSeq=2&rankingSectionId=103'],\n",
       "  ['3',\n",
       "   \"[날씨] 내일 전국에 '10~50㎜' 비…많은 곳 150㎜ 이상\",\n",
       "   'https://news.naver.com/main/ranking/read.nhn?mid=etc&sid1=111&rankingType=popular_day&oid=001&aid=0010704757&date=20190319&type=1&rankingSeq=3&rankingSectionId=103'],\n",
       "  ['4',\n",
       "   '[똑! 기자 꿀! 정보] 한국 사람만 모르는 ‘한국 특산품’의 정체?',\n",
       "   'https://news.naver.com/main/ranking/read.nhn?mid=etc&sid1=111&rankingType=popular_day&oid=056&aid=0010681530&date=20190318&type=2&rankingSeq=4&rankingSectionId=103'],\n",
       "  ['5',\n",
       "   'SUV LPG차 흥행 시동… 현대차 싼타페·쏘렌토 카드 나온다',\n",
       "   'https://news.naver.com/main/ranking/read.nhn?mid=etc&sid1=111&rankingType=popular_day&oid=029&aid=0002515235&date=20190319&type=1&rankingSeq=5&rankingSectionId=103'],\n",
       "  ['6',\n",
       "   \"'실명 공개 요구 논란' MBC, 윤지오에 사과\",\n",
       "   'https://news.naver.com/main/ranking/read.nhn?mid=etc&sid1=111&rankingType=popular_day&oid=052&aid=0001267794&date=20190319&type=2&rankingSeq=6&rankingSectionId=103'],\n",
       "  ['7',\n",
       "   '[원추 오늘의운세]용띠 음력 3·8·12월생, 금전으로 고통당할 수 있어요',\n",
       "   'https://news.naver.com/main/ranking/read.nhn?mid=etc&sid1=111&rankingType=popular_day&oid=003&aid=0009122726&date=20190320&type=1&rankingSeq=7&rankingSectionId=103'],\n",
       "  ['8',\n",
       "   '\\'여행객 버린 하나투어\\'에 네티즌 \"조폭 수준이네요\"',\n",
       "   'https://news.naver.com/main/ranking/read.nhn?mid=etc&sid1=111&rankingType=popular_day&oid=018&aid=0004332895&date=20190318&type=1&rankingSeq=8&rankingSectionId=103'],\n",
       "  ['9',\n",
       "   '전국 밤부터 봄비 내린 뒤 찬바람 불며 반짝 꽃샘추위',\n",
       "   'https://news.naver.com/main/ranking/read.nhn?mid=etc&sid1=111&rankingType=popular_day&oid=005&aid=0001182714&date=20190319&type=1&rankingSeq=9&rankingSectionId=103'],\n",
       "  ['10',\n",
       "   '[날씨] 내일 흐리고 전국 비...기온 오르며 봄 날씨',\n",
       "   'https://news.naver.com/main/ranking/read.nhn?mid=etc&sid1=111&rankingType=popular_day&oid=052&aid=0001267846&date=20190319&type=2&rankingSeq=10&rankingSectionId=103']],\n",
       " [['1',\n",
       "   '“미 항공청·보잉, 결함 알고도 무시”…보잉 게이트로 번지나?',\n",
       "   'https://news.naver.com/main/ranking/read.nhn?mid=etc&sid1=111&rankingType=popular_day&oid=056&aid=0010682290&date=20190319&type=2&rankingSeq=1&rankingSectionId=104'],\n",
       "  ['2',\n",
       "   '30년 장기집권 나자르바예프 카자흐스탄 대통령 전격 사임(종합)',\n",
       "   'https://news.naver.com/main/ranking/read.nhn?mid=etc&sid1=111&rankingType=popular_day&oid=001&aid=0010704923&date=20190319&type=1&rankingSeq=2&rankingSectionId=104'],\n",
       "  ['3',\n",
       "   '“트럼프 정신장애” 남편 독설에 진땀 뺀 백악관 고문',\n",
       "   'https://news.naver.com/main/ranking/read.nhn?mid=etc&sid1=111&rankingType=popular_day&oid=020&aid=0003205268&date=20190319&type=1&rankingSeq=3&rankingSectionId=104'],\n",
       "  ['4',\n",
       "   '‘성접대 조선, 기생관광에 윤창중까지’ 일 매체 조롱',\n",
       "   'https://news.naver.com/main/ranking/read.nhn?mid=etc&sid1=111&rankingType=popular_day&oid=005&aid=0001182756&date=20190320&type=1&rankingSeq=4&rankingSectionId=104'],\n",
       "  ['5',\n",
       "   \"삼성도 속았다…'짝퉁 슈프림' 어떻게 합법이 됐나\",\n",
       "   'https://news.naver.com/main/ranking/read.nhn?mid=etc&sid1=111&rankingType=popular_day&oid=008&aid=0004190943&date=20190319&type=1&rankingSeq=5&rankingSectionId=104'],\n",
       "  ['6',\n",
       "   '\"핵무장\" 주장하던 김재경, 이낙연 한마디에 \\'침묵\\'',\n",
       "   'https://news.naver.com/main/ranking/read.nhn?mid=etc&sid1=111&rankingType=popular_day&oid=047&aid=0002220980&date=20190319&type=1&rankingSeq=6&rankingSectionId=104'],\n",
       "  ['7',\n",
       "   '\"中 지방도시 1000곳 사라지고 있다\"…인구 감소·불황에 신음',\n",
       "   'https://news.naver.com/main/ranking/read.nhn?mid=etc&sid1=111&rankingType=popular_day&oid=015&aid=0004110094&date=20190319&type=1&rankingSeq=7&rankingSectionId=104'],\n",
       "  ['8',\n",
       "   '히잡 쓰고 아랍어 인사…테러에 맞선 아던 뉴질랜드 총리 지도력',\n",
       "   'https://news.naver.com/main/ranking/read.nhn?mid=etc&sid1=111&rankingType=popular_day&oid=028&aid=0002447049&date=20190319&type=1&rankingSeq=8&rankingSectionId=104'],\n",
       "  ['9',\n",
       "   '北 \"핵·미사일실험 15개월간 안했는데 모든 제재 유지 불합리\"',\n",
       "   'https://news.naver.com/main/ranking/read.nhn?mid=etc&sid1=111&rankingType=popular_day&oid=421&aid=0003890469&date=20190319&type=1&rankingSeq=9&rankingSectionId=104'],\n",
       "  ['10',\n",
       "   \"한반도 전시 CP '탱고' 예산…美, 장벽 비용 부족하면 쓴다\",\n",
       "   'https://news.naver.com/main/ranking/read.nhn?mid=etc&sid1=111&rankingType=popular_day&oid=025&aid=0002892697&date=20190319&type=1&rankingSeq=10&rankingSectionId=104']],\n",
       " [['1',\n",
       "   '[팩트체크] 무선이어폰 전자파 우려?…\"휴대전화보다 낮아\"',\n",
       "   'https://news.naver.com/main/ranking/read.nhn?mid=etc&sid1=111&rankingType=popular_day&oid=001&aid=0010704461&date=20190319&type=1&rankingSeq=1&rankingSectionId=105'],\n",
       "  ['2',\n",
       "   '\"혁신 없어 창피했나\"…애플, 아이패드 에어·미니 조용히 공개',\n",
       "   'https://news.naver.com/main/ranking/read.nhn?mid=etc&sid1=111&rankingType=popular_day&oid=015&aid=0004109674&date=20190319&type=1&rankingSeq=2&rankingSectionId=105'],\n",
       "  ['3',\n",
       "   '“폴더블폰 얼마나 통할까”…통신사도 궁금해서 시장조사',\n",
       "   'https://news.naver.com/main/ranking/read.nhn?mid=etc&sid1=111&rankingType=popular_day&oid=032&aid=0002929498&date=20190319&type=1&rankingSeq=3&rankingSectionId=105'],\n",
       "  ['4',\n",
       "   \"세계 최초 중국 폴더블폰 향한 혹평..'전시용 논란'\",\n",
       "   'https://news.naver.com/main/ranking/read.nhn?mid=etc&sid1=111&rankingType=popular_day&oid=018&aid=0004334032&date=20190319&type=1&rankingSeq=4&rankingSectionId=105'],\n",
       "  ['5',\n",
       "   '[이진욱의 전자수첩] 폴더블폰 완성도 강조한 삼성에…반값 들이민 샤오미',\n",
       "   'https://news.naver.com/main/ranking/read.nhn?mid=etc&sid1=111&rankingType=popular_day&oid=015&aid=0004109752&date=20190319&type=1&rankingSeq=5&rankingSectionId=105'],\n",
       "  ['6',\n",
       "   '애플, 새 아이패드 에어·미니 깜짝 발표 이유는?',\n",
       "   'https://news.naver.com/main/ranking/read.nhn?mid=etc&sid1=111&rankingType=popular_day&oid=293&aid=0000023772&date=20190319&type=1&rankingSeq=6&rankingSectionId=105'],\n",
       "  ['7',\n",
       "   '5G 요금제 4~5개 예상…현실적으로 5만원대 요금제 추가될듯',\n",
       "   'https://news.naver.com/main/ranking/read.nhn?mid=etc&sid1=111&rankingType=popular_day&oid=138&aid=0002071195&date=20190319&type=1&rankingSeq=7&rankingSectionId=105'],\n",
       "  ['8',\n",
       "   \"코노, 뽑기, 격투, 리듬... '오락실' 무너진다\",\n",
       "   'https://news.naver.com/main/ranking/read.nhn?mid=etc&sid1=111&rankingType=popular_day&oid=030&aid=0002793886&date=20190319&type=1&rankingSeq=8&rankingSectionId=105'],\n",
       "  ['9',\n",
       "   '폴더블 아이폰 콘셉트 영상 공개',\n",
       "   'https://news.naver.com/main/ranking/read.nhn?mid=etc&sid1=111&rankingType=popular_day&oid=092&aid=0002158328&date=20190319&type=1&rankingSeq=9&rankingSectionId=105'],\n",
       "  ['10',\n",
       "   '[단독]韓 세계 최초 5G 상용화 4월 5일 쏜다...5G폰 적합성평가 통과',\n",
       "   'https://news.naver.com/main/ranking/read.nhn?mid=etc&sid1=111&rankingType=popular_day&oid=014&aid=0004195386&date=20190318&type=1&rankingSeq=10&rankingSectionId=105']]]"
      ]
     },
     "execution_count": 5,
     "metadata": {},
     "output_type": "execute_result"
    }
   ],
   "source": [
    "newslist   # 다운로드 한 뉴스 리스트: 3차원 배열(섹션, 기사, 랭크/제목/링크)"
   ]
  },
  {
   "cell_type": "code",
   "execution_count": 6,
   "metadata": {
    "scrolled": true
   },
   "outputs": [
    {
     "data": {
      "text/plain": [
       "['naver_news/2019-03-20_01-50/00-01-0010682284.txt',\n",
       " 'naver_news/2019-03-20_01-50/00-02-0000205407.txt',\n",
       " 'naver_news/2019-03-20_01-50/00-03-0010704904.txt',\n",
       " 'naver_news/2019-03-20_01-50/00-04-0010682275.txt',\n",
       " 'naver_news/2019-03-20_01-50/00-05-0003433864.txt',\n",
       " 'naver_news/2019-03-20_01-50/00-06-0000933443.txt',\n",
       " 'naver_news/2019-03-20_01-50/00-07-0002892667.txt',\n",
       " 'naver_news/2019-03-20_01-50/00-08-0000269602.txt',\n",
       " 'naver_news/2019-03-20_01-50/00-09-0000718244.txt',\n",
       " 'naver_news/2019-03-20_01-50/00-10-0002892709.txt',\n",
       " 'naver_news/2019-03-20_01-50/01-01-0000933452.txt',\n",
       " 'naver_news/2019-03-20_01-50/01-02-0010682283.txt',\n",
       " 'naver_news/2019-03-20_01-50/01-03-0001335011.txt',\n",
       " 'naver_news/2019-03-20_01-50/01-04-0000179506.txt',\n",
       " 'naver_news/2019-03-20_01-50/01-05-0000205430.txt',\n",
       " 'naver_news/2019-03-20_01-50/01-06-0003523418.txt',\n",
       " 'naver_news/2019-03-20_01-50/01-07-0010682281.txt',\n",
       " 'naver_news/2019-03-20_01-50/01-08-0004110149.txt',\n",
       " 'naver_news/2019-03-20_01-50/01-09-0002447056.txt',\n",
       " 'naver_news/2019-03-20_01-50/01-10-0010700264.txt',\n",
       " 'naver_news/2019-03-20_01-50/02-01-0000205405.txt',\n",
       " 'naver_news/2019-03-20_01-50/02-02-0010682272.txt',\n",
       " 'naver_news/2019-03-20_01-50/02-03-0000718222.txt',\n",
       " 'naver_news/2019-03-20_01-50/02-04-0000933437.txt',\n",
       " 'naver_news/2019-03-20_01-50/02-05-0010704752.txt',\n",
       " 'naver_news/2019-03-20_01-50/02-06-0001335002.txt',\n",
       " 'naver_news/2019-03-20_01-50/02-07-0000933455.txt',\n",
       " 'naver_news/2019-03-20_01-50/02-08-0003433858.txt',\n",
       " 'naver_news/2019-03-20_01-50/02-09-0000269592.txt',\n",
       " 'naver_news/2019-03-20_01-50/02-10-0009122687.txt',\n",
       " 'naver_news/2019-03-20_01-50/03-01-0000718251.txt',\n",
       " 'naver_news/2019-03-20_01-50/03-02-0002220995.txt',\n",
       " 'naver_news/2019-03-20_01-50/03-03-0010704757.txt',\n",
       " 'naver_news/2019-03-20_01-50/03-04-0010681530.txt',\n",
       " 'naver_news/2019-03-20_01-50/03-05-0002515235.txt',\n",
       " 'naver_news/2019-03-20_01-50/03-06-0001267794.txt',\n",
       " 'naver_news/2019-03-20_01-50/03-07-0009122726.txt',\n",
       " 'naver_news/2019-03-20_01-50/03-08-0004332895.txt',\n",
       " 'naver_news/2019-03-20_01-50/03-09-0001182714.txt',\n",
       " 'naver_news/2019-03-20_01-50/03-10-0001267846.txt',\n",
       " 'naver_news/2019-03-20_01-50/04-01-0010682290.txt',\n",
       " 'naver_news/2019-03-20_01-50/04-02-0010704923.txt',\n",
       " 'naver_news/2019-03-20_01-50/04-03-0003205268.txt',\n",
       " 'naver_news/2019-03-20_01-50/04-04-0001182756.txt',\n",
       " 'naver_news/2019-03-20_01-50/04-05-0004190943.txt',\n",
       " 'naver_news/2019-03-20_01-50/04-06-0002220980.txt',\n",
       " 'naver_news/2019-03-20_01-50/04-07-0004110094.txt',\n",
       " 'naver_news/2019-03-20_01-50/04-08-0002447049.txt',\n",
       " 'naver_news/2019-03-20_01-50/04-09-0003890469.txt',\n",
       " 'naver_news/2019-03-20_01-50/04-10-0002892697.txt',\n",
       " 'naver_news/2019-03-20_01-50/05-01-0010704461.txt',\n",
       " 'naver_news/2019-03-20_01-50/05-02-0004109674.txt',\n",
       " 'naver_news/2019-03-20_01-50/05-03-0002929498.txt',\n",
       " 'naver_news/2019-03-20_01-50/05-04-0004334032.txt',\n",
       " 'naver_news/2019-03-20_01-50/05-05-0004109752.txt',\n",
       " 'naver_news/2019-03-20_01-50/05-06-0000023772.txt',\n",
       " 'naver_news/2019-03-20_01-50/05-07-0002071195.txt',\n",
       " 'naver_news/2019-03-20_01-50/05-08-0002793886.txt',\n",
       " 'naver_news/2019-03-20_01-50/05-09-0002158328.txt',\n",
       " 'naver_news/2019-03-20_01-50/05-10-0004195386.txt']"
      ]
     },
     "execution_count": 6,
     "metadata": {},
     "output_type": "execute_result"
    }
   ],
   "source": [
    "news.get_filenames()   # 저장한 파일명 리스트 : 섹션/랭크 순으로 정렬"
   ]
  },
  {
   "cell_type": "code",
   "execution_count": 8,
   "metadata": {
    "scrolled": true
   },
   "outputs": [
    {
     "data": {
      "text/plain": [
       "94830"
      ]
     },
     "execution_count": 8,
     "metadata": {},
     "output_type": "execute_result"
    }
   ],
   "source": [
    "articles = news.get_articles()\n",
    "len(articles)\n",
    "#articles"
   ]
  },
  {
   "cell_type": "code",
   "execution_count": 10,
   "metadata": {},
   "outputs": [
    {
     "data": {
      "text/plain": [
       "15792"
      ]
     },
     "execution_count": 10,
     "metadata": {},
     "output_type": "execute_result"
    }
   ],
   "source": [
    "articles = news.get_articles(\"경제\")\n",
    "len(articles)\n",
    "#articles"
   ]
  },
  {
   "cell_type": "code",
   "execution_count": 22,
   "metadata": {
    "scrolled": true
   },
   "outputs": [
    {
     "name": "stdout",
     "output_type": "stream",
     "text": [
      "\n",
      "\n",
      "\n",
      "\n",
      "동영상 뉴스\n",
      "\n",
      "\n",
      "\n",
      "\n",
      "\n",
      "\n",
      "\t\n",
      "\t[뉴스데스크]◀ 앵커 ▶베이징 공장의 가동을 중단하면서 시작된 현대차의 인력감축 움직임이, 이제 국내로까지 옮겨 붙고 있습니다. 앞으로 정년퇴직 인원만큼 충원하던 관행을 중단해서 인력을 줄이겠다는 방침을 노조에 전달했는데요.노조는 매년 수천 명이 퇴직하는 상황에서 사실상 대규모 구조조정이라면서 최소한 만 명은 충원해야 한다고 맞서고 있는 상황입니다. 이게 사실 미래차인 수소, 전기차와 관련된 문제인데요. 이준희 기자가 취재했습니다.◀ 리포트 ▶3만 5천 명이 일하는 현대자동차 생산라인.1960년을 전후해 태어난 베이비붐 세대가 정년을 맞으면서 올해만 1천4백 명이 작업복을 벗습니다.그동안은 '직원 정년퇴직 시 대체 인원을 정규직으로 뽑는다'는 노사 협약에 따라 퇴직한 숫자만큼 채용이 이뤄졌습니다.그러나 현대차 사측은 이달 초 노사위원회에서 '퇴직자 대체 채용'을 중단한다는 방침을 내놨습니다.2025년까지 국내 공장 조립차량의 4분의 1인 45만대를 친환경차로 만든다는 계획인데, 친환경차는 부품이 기존 내연기관차보다 단순해 필요한 인력도 적다는 겁니다.현대차 관계자는 \"2025년까지 현재 생산직 일자리 중 7천 개는 필요 없어진다\"며 \"이대로 가다간 유휴인력 문제가 심각해진다\"고 말했습니다.해고는 하지 않되 퇴직자의 빈자리를 채우지 않는 방식으로 인력을 줄이는, 폭스바겐의 노사 협약을 모델로 삼았다는 설명입니다. 노조 측은 회사의 방침이 사실상 대규모 구조조정이라고 반발하고 있습니다. 2025년까지 정년 퇴직하는 인원이 1만 7천 명인데 신규인력을 아예 뽑지 않으면 회사가 불필요하다고 밝힌 7천 명보다 훨씬 많이 감원하는 셈이라며, 최소한 1만 명은 충원해야 공장이 정상적으로 가동될 수 있다는 겁니다. 회사가 자연감소분 모두를 줄일지, 일부 신규채용을 할지 입장을 내놓지 않은 상황이어서 앞으로 노사간 갈등이 예상됩니다.MBC뉴스 이준희입니다.이준희 기자 (letswin@mbc.co.kr )[저작권자(c) MBC (http://imnews.imbc.com) 무단복제-재배포 금지]▶ 네이버 홈에서 [MBC뉴스] 채널 구독하기▶ [엠빅뉴스] '청담동 주식부자' 이희진 부모 살해 사건, 풀리지 않는 미스터리▶ [14F] 서비스 이용약관, 이래도 안 읽을 거야?Copyright(c) Since 1996, MBC&iMBC All rights reserved.\n",
      "\t\n",
      "\n",
      "\n"
     ]
    }
   ],
   "source": [
    "article = news.get_article()\n",
    "print(article)"
   ]
  },
  {
   "cell_type": "code",
   "execution_count": 23,
   "metadata": {},
   "outputs": [
    {
     "name": "stdout",
     "output_type": "stream",
     "text": [
      "\n",
      "\n",
      "\n",
      "\n",
      "\n",
      "\n",
      "\n",
      " [앵커]불법 병역 면제, 한국 사회의 고질적인 문제 중 하나가  아닐까 싶습니다. 이번엔, 고의로 청각을  일시 마비시켜 병역을  면제받은 전직 국가대표  사이클 선수와  브로커 등이 적발됐습니다.박민철 기자의 보도입니다. [리포트] 4년 전 국가대표 사이클 선수 A씨는 병역 면제 판정을 받았습니다. 청력에 심각한 문제가 있다는 진단 때문이었지만 가짜였습니다. 밀폐된 차 안에서 2시간 가량 응원용 나팔과 자전거 경적을 사용해 일시적으로 청각을 마비시켜 장애 진단서를 발급 받은 겁니다. 같은 수법으로 병역 면제를 받았던 브로커 32살 이 모 씨가 천5백만 원을 받고 이런 수법을 알려줬습니다.이들은 병역을 면제받기 위해 이런 도구를 이용해 소음을 유발시켜 고의로 청력을 떨어뜨렸습니다. 구독자 100만 명을 넘긴 인터넷 게임방송 BJ도 5천만 원을 주고 수법을 배워 범행을 시도했습니다. 병무청은 2011년부터 7년동안 이런 수법으로 병역을 기피한 혐의 등으로 브로커 이 씨를 구속하고 7명을 불구속 입건했습니다. 최근 7년간 청각장애로 군 면제를 받은 천5백 명에 대한 자료도 들여다볼 예정입니다. [김태화/병무청 차장 : \"중앙 신체검사소의 정밀 검사를 강화해 일시적으로 청력을 마비시켰는지 여부를 확인하는 등 검사 시스템을 개선하기로 했습니다.\"] 지난 2012년부터 2018년까지 신검을 통해 병역 면제를 받은 사람은 6천9백58명. 같은 기간 병역법 위반 혐의로 적발된 피의자는 326명입니다. 체중을 속이는 경우가 97건으로 가장 많았고, 정신질환 위장과 고의 문신, 안과질환 위장 등이 뒤를 이었습니다. 여기에 청각 장애 위장이라는 신종 수법까지 발견된만큼, 병무청은 신체검사 전반을 재점검할 계획입니다. KBS 뉴스 박민철입니다.  박민철 기자 (mcpark@kbs.co.kr)▶ [만세 지도] 우리 동네 3.1운동 현장은?▶ 네이버 채널 KBS뉴스 구독! 시원하게 털어드립니다▶ ‘TV보다 ㄹㅇ’ 당신의 진짜 뉴스 ‘케이야’\n",
      "\n",
      "\n",
      "\n"
     ]
    }
   ],
   "source": [
    "article = news.get_article(\"정치\")\n",
    "print(article)"
   ]
  },
  {
   "cell_type": "code",
   "execution_count": 24,
   "metadata": {
    "scrolled": true
   },
   "outputs": [
    {
     "name": "stdout",
     "output_type": "stream",
     "text": [
      "\n",
      "\n",
      "\n",
      "\n",
      "동영상 뉴스\n",
      "\n",
      "\n",
      "\n",
      "\n",
      "\n",
      "\n",
      "\t\n",
      "\t[뉴스데스크]◀ 앵커 ▶베이징 공장의 가동을 중단하면서 시작된 현대차의 인력감축 움직임이, 이제 국내로까지 옮겨 붙고 있습니다. 앞으로 정년퇴직 인원만큼 충원하던 관행을 중단해서 인력을 줄이겠다는 방침을 노조에 전달했는데요.노조는 매년 수천 명이 퇴직하는 상황에서 사실상 대규모 구조조정이라면서 최소한 만 명은 충원해야 한다고 맞서고 있는 상황입니다. 이게 사실 미래차인 수소, 전기차와 관련된 문제인데요. 이준희 기자가 취재했습니다.◀ 리포트 ▶3만 5천 명이 일하는 현대자동차 생산라인.1960년을 전후해 태어난 베이비붐 세대가 정년을 맞으면서 올해만 1천4백 명이 작업복을 벗습니다.그동안은 '직원 정년퇴직 시 대체 인원을 정규직으로 뽑는다'는 노사 협약에 따라 퇴직한 숫자만큼 채용이 이뤄졌습니다.그러나 현대차 사측은 이달 초 노사위원회에서 '퇴직자 대체 채용'을 중단한다는 방침을 내놨습니다.2025년까지 국내 공장 조립차량의 4분의 1인 45만대를 친환경차로 만든다는 계획인데, 친환경차는 부품이 기존 내연기관차보다 단순해 필요한 인력도 적다는 겁니다.현대차 관계자는 \"2025년까지 현재 생산직 일자리 중 7천 개는 필요 없어진다\"며 \"이대로 가다간 유휴인력 문제가 심각해진다\"고 말했습니다.해고는 하지 않되 퇴직자의 빈자리를 채우지 않는 방식으로 인력을 줄이는, 폭스바겐의 노사 협약을 모델로 삼았다는 설명입니다. 노조 측은 회사의 방침이 사실상 대규모 구조조정이라고 반발하고 있습니다. 2025년까지 정년 퇴직하는 인원이 1만 7천 명인데 신규인력을 아예 뽑지 않으면 회사가 불필요하다고 밝힌 7천 명보다 훨씬 많이 감원하는 셈이라며, 최소한 1만 명은 충원해야 공장이 정상적으로 가동될 수 있다는 겁니다. 회사가 자연감소분 모두를 줄일지, 일부 신규채용을 할지 입장을 내놓지 않은 상황이어서 앞으로 노사간 갈등이 예상됩니다.MBC뉴스 이준희입니다.이준희 기자 (letswin@mbc.co.kr )[저작권자(c) MBC (http://imnews.imbc.com) 무단복제-재배포 금지]▶ 네이버 홈에서 [MBC뉴스] 채널 구독하기▶ [엠빅뉴스] '청담동 주식부자' 이희진 부모 살해 사건, 풀리지 않는 미스터리▶ [14F] 서비스 이용약관, 이래도 안 읽을 거야?Copyright(c) Since 1996, MBC&iMBC All rights reserved.\n",
      "\t\n",
      "\n",
      "\n",
      "\n",
      "\n",
      "\n",
      "\n",
      "\n",
      "\n",
      " [앵커]수백 억원 대 횡령과 배임 등 온갖 혐의로  재판을 받고 있는  조양호 회장. 다음주 대한항공 주주총회에서는  조 회장이 연임을 할 것인가가  최대 관심사죠. 치열한 표대결이 예상되는 가운데, 대한항공 사측의 조 회장 지키기가   아주 점입가경입니다.  서재희 기자가 취재했습니다.  [리포트] 대한항공의 사내 전산망입니다. 우리사주조합원들은  여기에서 조 회장 연임에  찬반 의견을 표할 수 있었습니다. 그런데 그것도 7일 뿐. 어제(18일) 메뉴가 아예 사라졌습니다. 반대하려면  주식을 직접 인출해  의결권을 행사해야 하는데  인출신청을 해도  소용없을 가능성이 큽니다. 통상적으론 지금 신청해도  인출이 28일에나 되는데, 주총날짜는 27일이기 때문입니다. 의사표시가 없는 의결권은 우리사주조합장이 행사합니다. [대한항공 직원/음성변조 : \"우리사주조합은 회사에서 운영하는 것이고, (조합장이) 조양호 회장의 이사 선임을 찬성하는 쪽으로 투표할 거라고 확신하고 있고요.\"] 이뿐만이 아닙니다. 대한항공 팀장들은 회사에 우호적 의결권을 행사한다며 직원들에게 가족들 의결권까지  위임해 달라는 메일을 보냈습니다. 위임장 접수 장소까지 안내했습니다. 직원연대 측은 이런 메일을 7천여 명이 받았다고 주장합니다. 직원 대화방에선  임원들이 직접 위임장을 돌린다는  증언도 나왔습니다. [박창진/대한항공 직원연대지부장 : \"한 주의 주식까지 다 어떤 사람이 가지고 있는지 파악을 해서 각 관리자들이 개별 접촉을 하거나 전화를 해서 위임을 할 것을 강요하고...\"] 이렇게 직원들 주식에 목매는 이유는 뭘까? 조 회장이 연임하려면,  출석주주의 67%가 찬성해야 하는데, 조 회장의 확실한 우호지분은 33% 정도입니다. 시민단체는  조 회장 연임을 막겠다며 56% 지분의 소액주주 표를 모으는 상황. 우리사주 2.14%가 더 중요해진 겁니다. 대한항공은 직원들에게  의결권 위임을 권유했을 뿐,  강요하지는 않았다고 밝혔습니다. 하지만 직원연대와 시민단체는  근무를 감독하고 평가하는 임원들의  위임장 요구는 명백한 강요행위라며  검찰에 고발했습니다. KBS 뉴스 서재희입니다.서재희 기자 (seojh@kbs.co.kr)▶ [만세 지도] 우리 동네 3.1운동 현장은?▶ 네이버 채널 KBS뉴스 구독! 시원하게 털어드립니다▶ ‘TV보다 ㄹㅇ’ 당신의 진짜 뉴스 ‘케이야’\n",
      "\n",
      "\n",
      "\n"
     ]
    }
   ],
   "source": [
    "article = news.get_article(section=\"경제\", n_articles=2)\n",
    "print(article)"
   ]
  },
  {
   "cell_type": "code",
   "execution_count": null,
   "metadata": {},
   "outputs": [],
   "source": [
    "enumerate"
   ]
  }
 ],
 "metadata": {
  "kernelspec": {
   "display_name": "Python 3",
   "language": "python",
   "name": "python3"
  },
  "language_info": {
   "codemirror_mode": {
    "name": "ipython",
    "version": 3
   },
   "file_extension": ".py",
   "mimetype": "text/x-python",
   "name": "python",
   "nbconvert_exporter": "python",
   "pygments_lexer": "ipython3",
   "version": "3.7.1"
  },
  "toc": {
   "base_numbering": 1,
   "nav_menu": {},
   "number_sections": false,
   "sideBar": true,
   "skip_h1_title": false,
   "title_cell": "Table of Contents",
   "title_sidebar": "Contents",
   "toc_cell": true,
   "toc_position": {},
   "toc_section_display": true,
   "toc_window_display": false
  }
 },
 "nbformat": 4,
 "nbformat_minor": 2
}
