{
 "cells": [
  {
   "cell_type": "markdown",
   "metadata": {
    "toc": true
   },
   "source": [
    "<h1>Table of Contents<span class=\"tocSkip\"></span></h1>\n",
    "<div class=\"toc\"><ul class=\"toc-item\"><li><span><a href=\"#Parser\" data-toc-modified-id=\"Parser-1\">Parser</a></span><ul class=\"toc-item\"><li><span><a href=\"#Exercises1\" data-toc-modified-id=\"Exercises1-1.1\">Exercises1</a></span></li><li><span><a href=\"#Exercises2\" data-toc-modified-id=\"Exercises2-1.2\">Exercises2</a></span></li><li><span><a href=\"#Exercises3\" data-toc-modified-id=\"Exercises3-1.3\">Exercises3</a></span></li><li><span><a href=\"#Exercises4\" data-toc-modified-id=\"Exercises4-1.4\">Exercises4</a></span></li></ul></li><li><span><a href=\"#Wordcloud\" data-toc-modified-id=\"Wordcloud-2\">Wordcloud</a></span></li></ul></div>"
   ]
  },
  {
   "cell_type": "markdown",
   "metadata": {},
   "source": [
    "## Parser"
   ]
  },
  {
   "cell_type": "markdown",
   "metadata": {},
   "source": [
    "- prase(구)가 구문적으로 더 의미 있는 정보를 담고 있다."
   ]
  },
  {
   "cell_type": "code",
   "execution_count": 1,
   "metadata": {},
   "outputs": [],
   "source": [
    "sentence = \"The little bear saw the fine fat trout in the book\""
   ]
  },
  {
   "cell_type": "code",
   "execution_count": 1,
   "metadata": {},
   "outputs": [],
   "source": [
    "from nltk import pos_tag\n",
    "from nltk.tokenize import word_tokenize"
   ]
  },
  {
   "cell_type": "code",
   "execution_count": 3,
   "metadata": {},
   "outputs": [],
   "source": [
    "tagged = pos_tag(word_tokenize(sentence))"
   ]
  },
  {
   "cell_type": "code",
   "execution_count": 4,
   "metadata": {},
   "outputs": [
    {
     "data": {
      "text/plain": [
       "[('The', 'DT'),\n",
       " ('little', 'JJ'),\n",
       " ('bear', 'NN'),\n",
       " ('saw', 'VBD'),\n",
       " ('the', 'DT'),\n",
       " ('fine', 'JJ'),\n",
       " ('fat', 'NN'),\n",
       " ('trout', 'NN'),\n",
       " ('in', 'IN'),\n",
       " ('the', 'DT'),\n",
       " ('book', 'NN')]"
      ]
     },
     "execution_count": 4,
     "metadata": {},
     "output_type": "execute_result"
    }
   ],
   "source": [
    "tagged"
   ]
  },
  {
   "cell_type": "code",
   "execution_count": 5,
   "metadata": {},
   "outputs": [
    {
     "name": "stdout",
     "output_type": "stream",
     "text": [
      "NN: noun, common, singular or mass\n",
      "    common-carrier cabbage knuckle-duster Casino afghan shed thermostat\n",
      "    investment slide humour falloff slick wind hyena override subhumanity\n",
      "    machinist ...\n",
      "NNP: noun, proper, singular\n",
      "    Motown Venneboerger Czestochwa Ranzer Conchita Trumplane Christos\n",
      "    Oceanside Escobar Kreisler Sawyer Cougar Yvette Ervin ODI Darryl CTCA\n",
      "    Shannon A.K.C. Meltex Liverpool ...\n",
      "NNPS: noun, proper, plural\n",
      "    Americans Americas Amharas Amityvilles Amusements Anarcho-Syndicalists\n",
      "    Andalusians Andes Andruses Angels Animals Anthony Antilles Antiques\n",
      "    Apache Apaches Apocrypha ...\n",
      "NNS: noun, common, plural\n",
      "    undergraduates scotches bric-a-brac products bodyguards facets coasts\n",
      "    divestitures storehouses designs clubs fragrances averages\n",
      "    subjectivists apprehensions muses factory-jobs ...\n"
     ]
    }
   ],
   "source": [
    "from nltk.help import upenn_tagset\n",
    "upenn_tagset(\"N.*\")"
   ]
  },
  {
   "cell_type": "code",
   "execution_count": 2,
   "metadata": {},
   "outputs": [],
   "source": [
    "from nltk.chunk.regexp import RegexpParser"
   ]
  },
  {
   "cell_type": "code",
   "execution_count": 7,
   "metadata": {},
   "outputs": [
    {
     "name": "stdout",
     "output_type": "stream",
     "text": [
      "(S\n",
      "  The/DT\n",
      "  little/JJ\n",
      "  (NP bear/NN)\n",
      "  saw/VBD\n",
      "  the/DT\n",
      "  fine/JJ\n",
      "  (NP fat/NN)\n",
      "  (NP trout/NN)\n",
      "  in/IN\n",
      "  (NP the/DT book/NN))\n"
     ]
    }
   ],
   "source": [
    "grammar = RegexpParser(\"NP: {<DT>?<NN.*>}\")    # NP : 명사구\n",
    "parseTree = grammar.parse(tagged)\n",
    "parseTree.pprint()"
   ]
  },
  {
   "cell_type": "code",
   "execution_count": 8,
   "metadata": {},
   "outputs": [],
   "source": [
    "parseTree.draw()"
   ]
  },
  {
   "cell_type": "markdown",
   "metadata": {},
   "source": [
    "![parseTree](./images/parseTree1.png)"
   ]
  },
  {
   "cell_type": "code",
   "execution_count": 9,
   "metadata": {},
   "outputs": [],
   "source": [
    "sentence = \"The little yellow dog barked at the cat\""
   ]
  },
  {
   "cell_type": "code",
   "execution_count": 10,
   "metadata": {},
   "outputs": [
    {
     "data": {
      "text/plain": [
       "[('The', 'DT'),\n",
       " ('little', 'JJ'),\n",
       " ('yellow', 'JJ'),\n",
       " ('dog', 'NN'),\n",
       " ('barked', 'VBD'),\n",
       " ('at', 'IN'),\n",
       " ('the', 'DT'),\n",
       " ('cat', 'NN')]"
      ]
     },
     "execution_count": 10,
     "metadata": {},
     "output_type": "execute_result"
    }
   ],
   "source": [
    "pos_tag(word_tokenize(sentence))"
   ]
  },
  {
   "cell_type": "code",
   "execution_count": 11,
   "metadata": {},
   "outputs": [],
   "source": [
    "parseTree = grammar.parse(pos_tag(word_tokenize(sentence)))\n",
    "parseTree.draw()"
   ]
  },
  {
   "cell_type": "markdown",
   "metadata": {},
   "source": [
    "![parseTree](./images/parseTree2.png)"
   ]
  },
  {
   "cell_type": "code",
   "execution_count": 12,
   "metadata": {},
   "outputs": [
    {
     "name": "stdout",
     "output_type": "stream",
     "text": [
      "(S\n",
      "  (NP The/DT little/JJ yellow/JJ dog/NN)\n",
      "  barked/VBD\n",
      "  at/IN\n",
      "  (NP the/DT cat/NN))\n"
     ]
    }
   ],
   "source": [
    "tagged = pos_tag(word_tokenize(sentence))\n",
    "rules = RegexpParser(\"\"\"\n",
    "            NP: {<DT>?<JJ.*>*<NN.*>}\n",
    "\"\"\")\n",
    "\n",
    "rules.parse(tagged).pprint()"
   ]
  },
  {
   "cell_type": "code",
   "execution_count": 13,
   "metadata": {},
   "outputs": [],
   "source": [
    "from konlpy.tag import Kkma"
   ]
  },
  {
   "cell_type": "code",
   "execution_count": 14,
   "metadata": {},
   "outputs": [
    {
     "data": {
      "text/plain": [
       "[('내', 'NP'),\n",
       " ('친구', 'NNG'),\n",
       " ('가', 'JKS'),\n",
       " ('잠', 'NNG'),\n",
       " ('을', 'JKO'),\n",
       " ('많이', 'MAG'),\n",
       " ('자', 'VV'),\n",
       " ('ㄴ다', 'EFN'),\n",
       " ('.', 'SF')]"
      ]
     },
     "execution_count": 14,
     "metadata": {},
     "output_type": "execute_result"
    }
   ],
   "source": [
    "sentence = \"내 친구가 잠을 많이 잔다.\"\n",
    "tagged = Kkma().pos(sentence)\n",
    "tagged"
   ]
  },
  {
   "cell_type": "code",
   "execution_count": 15,
   "metadata": {},
   "outputs": [],
   "source": [
    "rules = RegexpParser(\"\"\"\n",
    "        NP: {<N.*>+<J.*>}\n",
    "        VP: {<M.*>?<VV.*><E.*>}\n",
    "\"\"\")"
   ]
  },
  {
   "cell_type": "code",
   "execution_count": 16,
   "metadata": {},
   "outputs": [
    {
     "name": "stdout",
     "output_type": "stream",
     "text": [
      "(S\n",
      "  (NP 내/NP 친구/NNG 가/JKS)\n",
      "  (NP 잠/NNG 을/JKO)\n",
      "  (VP 많이/MAG 자/VV ㄴ다/EFN)\n",
      "  ./SF)\n"
     ]
    }
   ],
   "source": [
    "rules.parse(tagged).pprint()"
   ]
  },
  {
   "cell_type": "code",
   "execution_count": 17,
   "metadata": {},
   "outputs": [],
   "source": [
    "rules.parse(tagged).draw()"
   ]
  },
  {
   "cell_type": "markdown",
   "metadata": {},
   "source": [
    "![parseTree](./images/parseTree3.png)"
   ]
  },
  {
   "cell_type": "code",
   "execution_count": 18,
   "metadata": {},
   "outputs": [
    {
     "data": {
      "text/plain": [
       "nltk.tree.Tree"
      ]
     },
     "execution_count": 18,
     "metadata": {},
     "output_type": "execute_result"
    }
   ],
   "source": [
    "parseTree = rules.parse(tagged)\n",
    "type(parseTree)"
   ]
  },
  {
   "cell_type": "code",
   "execution_count": 19,
   "metadata": {},
   "outputs": [
    {
     "name": "stdout",
     "output_type": "stream",
     "text": [
      "(S\n",
      "  (NP 내/NP 친구/NNG 가/JKS)\n",
      "  (NP 잠/NNG 을/JKO)\n",
      "  (VP 많이/MAG 자/VV ㄴ다/EFN)\n",
      "  ./SF)\n",
      "(NP 내/NP 친구/NNG 가/JKS)\n",
      "(NP 잠/NNG 을/JKO)\n",
      "(VP 많이/MAG 자/VV ㄴ다/EFN)\n"
     ]
    }
   ],
   "source": [
    "for subTree in parseTree.subtrees():\n",
    "    print(subTree)"
   ]
  },
  {
   "cell_type": "code",
   "execution_count": 20,
   "metadata": {},
   "outputs": [
    {
     "name": "stdout",
     "output_type": "stream",
     "text": [
      "(NP 내/NP 친구/NNG 가/JKS)\n",
      "(NP 잠/NNG 을/JKO)\n"
     ]
    }
   ],
   "source": [
    "for subTree in parseTree.subtrees():\n",
    "    if subTree.label() == \"NP\":\n",
    "        print(subTree)"
   ]
  },
  {
   "cell_type": "markdown",
   "metadata": {},
   "source": [
    "### Exercises1"
   ]
  },
  {
   "cell_type": "markdown",
   "metadata": {},
   "source": [
    "![exercises](./images/parse_exercises1.png)"
   ]
  },
  {
   "cell_type": "code",
   "execution_count": 21,
   "metadata": {},
   "outputs": [
    {
     "name": "stdout",
     "output_type": "stream",
     "text": [
      "(S\n",
      "  (NP I/PRP)\n",
      "  (VP\n",
      "    (VP (V shot/VBP) (NP (Det an/DT) (N elephant/NN)))\n",
      "    (PP (P in/IN) (NP (Det my/PRP$) (N pajamas/NN)))))\n"
     ]
    }
   ],
   "source": [
    "sentence = \"I shot an elephant in my pajamas\"\n",
    "\n",
    "tagged = pos_tag(word_tokenize(sentence))\n",
    "rules = RegexpParser(\"\"\"\n",
    "        N: {<NN>}\n",
    "        Det: {<PRP\\$>|<D.*>}\n",
    "        V: {<V.*>}\n",
    "        P: {<IN>}\n",
    "        NP: {<D.*><N.*>|<PRP>}\n",
    "        PP: {<P><NP>}\n",
    "        VP: {<V.*><.*P>}\n",
    "        VP: {<VP><.*P>}\n",
    "\"\"\")\n",
    "\n",
    "rules.parse(tagged).pprint()"
   ]
  },
  {
   "cell_type": "code",
   "execution_count": 22,
   "metadata": {},
   "outputs": [],
   "source": [
    "rules.parse(tagged).draw()"
   ]
  },
  {
   "cell_type": "markdown",
   "metadata": {},
   "source": [
    "### Exercises2"
   ]
  },
  {
   "cell_type": "markdown",
   "metadata": {},
   "source": [
    "![exercises](./images/parse_exercises2.png)"
   ]
  },
  {
   "cell_type": "code",
   "execution_count": 34,
   "metadata": {},
   "outputs": [
    {
     "name": "stdout",
     "output_type": "stream",
     "text": [
      "(S\n",
      "  (NP (Det The/DT) (N dog/NN))\n",
      "  (VP\n",
      "    (V saw/VBD)\n",
      "    (NP\n",
      "      (Det a/DT)\n",
      "      (N man/NN)\n",
      "      (PP (P in/IN) (NP (Det the/DT) (N park/NN))))))\n"
     ]
    }
   ],
   "source": [
    "sentence = \"The dog saw a man in the park\"\n",
    "\n",
    "tagged = pos_tag(word_tokenize(sentence))\n",
    "rules = RegexpParser(\"\"\"\n",
    "        N: {<NN>}\n",
    "        Det: {<D.*>}\n",
    "        V: {<V.*>}\n",
    "        P: {<IN>}\n",
    "        NP: {<D.*><N>$}\n",
    "        PP: {<P><NP>}\n",
    "        NP: {<D.*><N><PP>}\n",
    "        NP: {<D.*><N>}\n",
    "        VP: {<V><NP>}\n",
    "\"\"\")\n",
    "\n",
    "rules.parse(tagged).pprint()"
   ]
  },
  {
   "cell_type": "code",
   "execution_count": 35,
   "metadata": {},
   "outputs": [],
   "source": [
    "rules.parse(tagged).draw()"
   ]
  },
  {
   "cell_type": "markdown",
   "metadata": {},
   "source": [
    "### Exercises3"
   ]
  },
  {
   "cell_type": "markdown",
   "metadata": {},
   "source": [
    "![exercises](./images/parse_exercises3.png)"
   ]
  },
  {
   "cell_type": "code",
   "execution_count": 48,
   "metadata": {},
   "outputs": [
    {
     "name": "stdout",
     "output_type": "stream",
     "text": [
      "(S\n",
      "  (NP (Det The/DT) (Nom (Adj angry/JJ) (Nom (N bear/NN))))\n",
      "  (VP\n",
      "    (V chased/VBD)\n",
      "    (NP\n",
      "      (Det the/DT)\n",
      "      (Nom (Adj frightened/JJ) (Nom (Adj little/JJ) (N squirrel/NN))))))\n"
     ]
    }
   ],
   "source": [
    "sentence = \"The angry bear chased the frightened little squirrel\"\n",
    "\n",
    "tagged = pos_tag(word_tokenize(sentence))\n",
    "rules = RegexpParser(\"\"\"\n",
    "        N: {<NN>$}\n",
    "        Det: {<PRP\\$>|<D.*>}\n",
    "        V: {<V.*>}\n",
    "        P: {<IN>}\n",
    "        Adj: {<JJ>}\n",
    "        Nom: {<Adj><N>}\n",
    "        N: {<NN>}\n",
    "        Nom: {<N>}\n",
    "        Nom: {<Adj><Nom>}\n",
    "        NP: {<D.*><N.*>}\n",
    "        PP: {<P><NP>}\n",
    "        VP: {<V.*><.*P>}\n",
    "\"\"\")\n",
    "\n",
    "rules.parse(tagged).pprint()"
   ]
  },
  {
   "cell_type": "code",
   "execution_count": 49,
   "metadata": {},
   "outputs": [],
   "source": [
    "rules.parse(tagged).draw()"
   ]
  },
  {
   "cell_type": "markdown",
   "metadata": {},
   "source": [
    "### Exercises4"
   ]
  },
  {
   "cell_type": "markdown",
   "metadata": {},
   "source": [
    "![exercises](./images/parse_exercises4.png)"
   ]
  },
  {
   "cell_type": "code",
   "execution_count": 17,
   "metadata": {},
   "outputs": [
    {
     "name": "stdout",
     "output_type": "stream",
     "text": [
      "(S\n",
      "  (NP (Det The/DT) (Nom (Adj little/JJ) (N bear/NN)))\n",
      "  (VP\n",
      "    (VP\n",
      "      (V saw/VBD)\n",
      "      (NP (Det the/DT) (Nom (Adj fine/JJ) (Adj fat/NN) (N trout/NN))))\n",
      "    (PP (P in/IN) (NP (Det the/DT) (Nom (N brook/NN))))))\n"
     ]
    }
   ],
   "source": [
    "sentence = \"The little bear saw the fine fat trout in the brook\"\n",
    "\n",
    "tagged = pos_tag(word_tokenize(sentence))\n",
    "rules = RegexpParser(\"\"\"\n",
    "        Adj: <JJ>{<NN>}<NN>\n",
    "        Adj: {<JJ>}\n",
    "        N: {<NN>}\n",
    "        Det: {<PRP\\$>|<D.*>}\n",
    "        V: {<V.*>}\n",
    "        P: {<IN>}\n",
    "        Nom: {<Adj>*<N>*}\n",
    "        NP: {<D.*><N.*>}\n",
    "        PP: {<P><NP>}\n",
    "        VP: {<V.*><.*P>}\n",
    "        VP: {<VP><.*P>}\n",
    "\"\"\")\n",
    "\n",
    "rules.parse(tagged).pprint()"
   ]
  },
  {
   "cell_type": "code",
   "execution_count": 18,
   "metadata": {},
   "outputs": [],
   "source": [
    "rules.parse(tagged).draw()"
   ]
  },
  {
   "cell_type": "markdown",
   "metadata": {},
   "source": [
    "## Wordcloud"
   ]
  },
  {
   "cell_type": "code",
   "execution_count": 207,
   "metadata": {},
   "outputs": [],
   "source": [
    "#!pip install wordcloud"
   ]
  },
  {
   "cell_type": "code",
   "execution_count": 209,
   "metadata": {},
   "outputs": [],
   "source": [
    "from konlpy.corpus import kolaw\n",
    "from konlpy.tag import Kkma"
   ]
  },
  {
   "cell_type": "code",
   "execution_count": 210,
   "metadata": {},
   "outputs": [],
   "source": [
    "corpus = kolaw.open(kolaw.fileids()[0]).read()\n",
    "tagged = Kkma().pos(corpus)"
   ]
  },
  {
   "cell_type": "code",
   "execution_count": 211,
   "metadata": {},
   "outputs": [
    {
     "data": {
      "text/plain": [
       "[('대한민국', 'NNG'),\n",
       " ('헌법', 'NNG'),\n",
       " ('유구', 'NNG'),\n",
       " ('하', 'XSV'),\n",
       " ('ㄴ', 'ETD'),\n",
       " ('역사', 'NNG'),\n",
       " ('와', 'JC'),\n",
       " ('전통', 'NNG'),\n",
       " ('에', 'JKM'),\n",
       " ('빛나', 'VV'),\n",
       " ('는', 'ETD'),\n",
       " ('우리', 'NNM'),\n",
       " ('대하', 'VV'),\n",
       " ('ㄴ', 'ETD'),\n",
       " ('국민', 'NNG'),\n",
       " ('은', 'JX'),\n",
       " ('3', 'NR'),\n",
       " ('·', 'SP'),\n",
       " ('1', 'NR'),\n",
       " ('운동', 'NNG'),\n",
       " ('으로', 'JKM'),\n",
       " ('건립', 'NNG'),\n",
       " ('되', 'XSV'),\n",
       " ('ㄴ', 'ETD'),\n",
       " ('대한민국', 'NNG'),\n",
       " ('임시', 'NNG'),\n",
       " ('정부', 'NNG'),\n",
       " ('의', 'JKG'),\n",
       " ('법통', 'NNG'),\n",
       " ('과', 'JC'),\n",
       " ('불의', 'NNG'),\n",
       " ('에', 'JKM'),\n",
       " ('항거', 'NNG'),\n",
       " ('하', 'XSV'),\n",
       " ('ㄴ', 'ETD'),\n",
       " ('4', 'NR'),\n",
       " ('·', 'SP'),\n",
       " ('19', 'NR'),\n",
       " ('민주', 'NNG'),\n",
       " ('이념', 'NNG'),\n",
       " ('을', 'JKO'),\n",
       " ('계승', 'NNG'),\n",
       " ('하', 'XSV'),\n",
       " ('고', 'ECE'),\n",
       " (',', 'SP'),\n",
       " ('조국', 'NNG'),\n",
       " ('의', 'JKG'),\n",
       " ('민주', 'NNG'),\n",
       " ('개혁', 'NNG'),\n",
       " ('과', 'JKM'),\n",
       " ('평화적', 'NNG'),\n",
       " ('통일', 'NNG'),\n",
       " ('의', 'JKG'),\n",
       " ('사명', 'NNG'),\n",
       " ('에', 'JKM'),\n",
       " ('입각', 'NNG'),\n",
       " ('하', 'XSV'),\n",
       " ('여', 'ECS'),\n",
       " ('정의', 'NNG'),\n",
       " ('·', 'SP'),\n",
       " ('인도', 'NNG'),\n",
       " ('와', 'JC'),\n",
       " ('동포애', 'NNG'),\n",
       " ('로써', 'JKM'),\n",
       " ('민족', 'NNG'),\n",
       " ('의', 'JKG'),\n",
       " ('단결', 'NNG'),\n",
       " ('을', 'JKO'),\n",
       " ('공고히', 'MAG'),\n",
       " ('하', 'VV'),\n",
       " ('고', 'ECE'),\n",
       " (',', 'SP'),\n",
       " ('모든', 'MDT'),\n",
       " ('사회적', 'NNG'),\n",
       " ('폐습', 'NNG'),\n",
       " ('과', 'JC'),\n",
       " ('불의', 'NNG'),\n",
       " ('를', 'JKO'),\n",
       " ('타파', 'NNG'),\n",
       " ('하', 'XSV'),\n",
       " ('며', 'ECE'),\n",
       " (',', 'SP'),\n",
       " ('자율', 'NNG'),\n",
       " ('과', 'JC'),\n",
       " ('조화', 'NNG'),\n",
       " ('를', 'JKO'),\n",
       " ('바탕', 'NNG'),\n",
       " ('으로', 'JKM'),\n",
       " ('자유', 'NNG'),\n",
       " ('민주적', 'NNG'),\n",
       " ('기본', 'NNG'),\n",
       " ('질서', 'NNG'),\n",
       " ('를', 'JKO'),\n",
       " ('더욱', 'MAG'),\n",
       " ('확고히', 'MAG'),\n",
       " ('하여', 'MAG'),\n",
       " ('정치', 'NNG'),\n",
       " ('·', 'SP'),\n",
       " ('경제', 'NNG'),\n",
       " ('·', 'SP'),\n",
       " ('사회', 'NNG'),\n",
       " ('·', 'SP'),\n",
       " ('문화', 'NNG'),\n",
       " ('의', 'JKG'),\n",
       " ('모든', 'MDT'),\n",
       " ('영역', 'NNG'),\n",
       " ('에', 'JKM'),\n",
       " ('있', 'VV'),\n",
       " ('어서', 'ECD'),\n",
       " ('각인', 'NNG'),\n",
       " ('의', 'JKG'),\n",
       " ('기회', 'NNG'),\n",
       " ('를', 'JKO'),\n",
       " ('균등', 'NNG'),\n",
       " ('히', 'NNG'),\n",
       " ('하', 'VV'),\n",
       " ('고', 'ECE'),\n",
       " (',', 'SP'),\n",
       " ('능력', 'NNG'),\n",
       " ('을', 'JKO'),\n",
       " ('최고', 'NNG'),\n",
       " ('도로', 'NNG'),\n",
       " ('발휘', 'NNG'),\n",
       " ('하', 'XSV'),\n",
       " ('게', 'ECD'),\n",
       " ('하', 'VV'),\n",
       " ('며', 'ECE'),\n",
       " (',', 'SP'),\n",
       " ('자유', 'NNG'),\n",
       " ('와', 'JC'),\n",
       " ('권리', 'NNG'),\n",
       " ('에', 'JKM'),\n",
       " ('따르', 'VV'),\n",
       " ('는', 'ETD'),\n",
       " ('책임', 'NNG'),\n",
       " ('과', 'JC'),\n",
       " ('의무', 'NNG'),\n",
       " ('를', 'JKO'),\n",
       " ('완수', 'NNG'),\n",
       " ('하', 'XSV'),\n",
       " ('게', 'ECD'),\n",
       " ('하여', 'MAG'),\n",
       " (',', 'SP'),\n",
       " ('안', 'NNG'),\n",
       " ('으로', 'JKM'),\n",
       " ('는', 'JX'),\n",
       " ('국민', 'NNG'),\n",
       " ('생활', 'NNG'),\n",
       " ('의', 'JKG'),\n",
       " ('균등', 'NNG'),\n",
       " ('하', 'XSV'),\n",
       " ('ㄴ', 'ETD'),\n",
       " ('향상', 'NNG'),\n",
       " ('을', 'JKO'),\n",
       " ('기하', 'VV'),\n",
       " ('고', 'ECE'),\n",
       " ('밖', 'NNG'),\n",
       " ('으로', 'JKM'),\n",
       " ('는', 'JX'),\n",
       " ('항구적', 'NNG'),\n",
       " ('이', 'VCP'),\n",
       " ('ㄴ', 'ETD'),\n",
       " ('세계', 'NNG'),\n",
       " ('평화', 'NNG'),\n",
       " ('와', 'JC'),\n",
       " ('인류', 'NNG'),\n",
       " ('공영', 'NNG'),\n",
       " ('에', 'JKM'),\n",
       " ('이바지', 'NNG'),\n",
       " ('하', 'XSV'),\n",
       " ('ㅁ', 'ETN'),\n",
       " ('으로써', 'JKM'),\n",
       " ('우리', 'NP'),\n",
       " ('들', 'XSN'),\n",
       " ('과', 'JKO'),\n",
       " ('우리', 'NP'),\n",
       " ('들', 'XSN'),\n",
       " ('의', 'JKG'),\n",
       " ('자손', 'NNG'),\n",
       " ('의', 'JKG'),\n",
       " ('안전', 'NNG'),\n",
       " ('과', 'JC'),\n",
       " ('자유', 'NNG'),\n",
       " ('와', 'JC'),\n",
       " ('행복', 'NNG'),\n",
       " ('을', 'JKO'),\n",
       " ('영원히', 'MAG'),\n",
       " ('확보', 'NNG'),\n",
       " ('하', 'XSV'),\n",
       " ('ㄹ', 'ETD'),\n",
       " ('것', 'NNB'),\n",
       " ('을', 'JKO'),\n",
       " ('다짐', 'NNG'),\n",
       " ('하', 'XSV'),\n",
       " ('면서', 'ECE'),\n",
       " ('1948', 'NR'),\n",
       " ('년', 'NNM'),\n",
       " ('7', 'NR'),\n",
       " ('월', 'NNM'),\n",
       " ('12', 'NR'),\n",
       " ('일', 'NNM'),\n",
       " ('에', 'JKM'),\n",
       " ('제정', 'NNG'),\n",
       " ('되', 'XSV'),\n",
       " ('고', 'ECE'),\n",
       " ('8', 'NR'),\n",
       " ('차', 'NNM'),\n",
       " ('에', 'JKM'),\n",
       " ('걸치', 'VV'),\n",
       " ('어', 'ECS'),\n",
       " ('개정', 'NNG'),\n",
       " ('되', 'XSV'),\n",
       " ('ㄴ', 'ETD'),\n",
       " ('헌법', 'NNG'),\n",
       " ('을', 'JKO'),\n",
       " ('이제', 'NNG'),\n",
       " ('국회', 'NNG'),\n",
       " ('의', 'JKG'),\n",
       " ('의결', 'NNG'),\n",
       " ('을', 'JKO'),\n",
       " ('거치', 'VV'),\n",
       " ('어', 'ECS'),\n",
       " ('국민', 'NNG'),\n",
       " ('투표', 'NNG'),\n",
       " ('에', 'JKM'),\n",
       " ('의하', 'VV'),\n",
       " ('여', 'ECS'),\n",
       " ('개정', 'NNG'),\n",
       " ('하', 'XSV'),\n",
       " ('ㄴ다', 'EFN'),\n",
       " ('.', 'SF'),\n",
       " ('저', 'NP'),\n",
       " ('의', 'JKG'),\n",
       " ('1', 'NR'),\n",
       " ('장', 'NNM'),\n",
       " ('총', 'MDT'),\n",
       " ('강', 'NNG'),\n",
       " ('제', 'NNG'),\n",
       " ('1', 'NR'),\n",
       " ('조', 'NR'),\n",
       " ('①', 'SW'),\n",
       " ('대한민국', 'NNG'),\n",
       " ('은', 'JX'),\n",
       " ('민주', 'NNG'),\n",
       " ('공화국', 'NNG'),\n",
       " ('이', 'VCP'),\n",
       " ('다', 'EFN'),\n",
       " ('.', 'SF'),\n",
       " ('②', 'SW'),\n",
       " ('대한민국', 'NNG'),\n",
       " ('의', 'JKG'),\n",
       " ('주권', 'NNG'),\n",
       " ('은', 'JX'),\n",
       " ('국민', 'NNG'),\n",
       " ('에게', 'JKM'),\n",
       " ('있', 'VV'),\n",
       " ('고', 'ECE'),\n",
       " (',', 'SP'),\n",
       " ('모든', 'MDT'),\n",
       " ('권력', 'NNG'),\n",
       " ('은', 'JX'),\n",
       " ('국민', 'NNG'),\n",
       " ('으로', 'JKM'),\n",
       " ('부터', 'JX'),\n",
       " ('나오', 'VV'),\n",
       " ('ㄴ다', 'EFN'),\n",
       " ('.', 'SF'),\n",
       " ('저', 'NP'),\n",
       " ('의', 'JKG'),\n",
       " ('2', 'NR'),\n",
       " ('조', 'NR'),\n",
       " ('①', 'SW'),\n",
       " ('대한민국', 'NNG'),\n",
       " ('의', 'JKG'),\n",
       " ('국민', 'NNG'),\n",
       " ('이', 'JKC'),\n",
       " ('되', 'VV'),\n",
       " ('는', 'ETD'),\n",
       " ('요건', 'NNG'),\n",
       " ('은', 'JX'),\n",
       " ('법률', 'NNG'),\n",
       " ('로', 'JKM'),\n",
       " ('정하', 'VV'),\n",
       " ('ㄴ다', 'EFN'),\n",
       " ('.', 'SF'),\n",
       " ('②', 'SW'),\n",
       " ('국가', 'NNG'),\n",
       " ('는', 'JX'),\n",
       " ('법률', 'NNG'),\n",
       " ('이', 'JKS'),\n",
       " ('정하', 'VV'),\n",
       " ('는', 'ETD'),\n",
       " ('바', 'NNB'),\n",
       " ('에', 'JKM'),\n",
       " ('의하', 'VV'),\n",
       " ('여', 'ECS'),\n",
       " ('재외', 'NNG'),\n",
       " ('국민', 'NNG'),\n",
       " ('을', 'JKO'),\n",
       " ('보호', 'NNG'),\n",
       " ('하', 'XSV'),\n",
       " ('ㄹ', 'ETD'),\n",
       " ('의무', 'NNG'),\n",
       " ('를', 'JKO'),\n",
       " ('질', 'VV'),\n",
       " ('ㄴ다', 'EFN'),\n",
       " ('.', 'SF'),\n",
       " ('저', 'NP'),\n",
       " ('의', 'JKG'),\n",
       " ('3', 'NR'),\n",
       " ('조', 'NNM'),\n",
       " ('대한민국', 'NNG'),\n",
       " ('의', 'JKG'),\n",
       " ('영토', 'NNG'),\n",
       " ('는', 'JX'),\n",
       " ('한반도', 'NNG'),\n",
       " ('와', 'JC'),\n",
       " ('그', 'MDT'),\n",
       " ('부속', 'NNG'),\n",
       " ('도', 'JX'),\n",
       " ('서로', 'MAG'),\n",
       " ('하', 'VV'),\n",
       " ('ㄴ다', 'EFN'),\n",
       " ('.', 'SF'),\n",
       " ('저', 'NP'),\n",
       " ('의', 'JKG'),\n",
       " ('4', 'NR'),\n",
       " ('조', 'NNM'),\n",
       " ('대한민국', 'NNG'),\n",
       " ('은', 'JX'),\n",
       " ('통일', 'NNG'),\n",
       " ('을', 'JKO'),\n",
       " ('지향', 'NNG'),\n",
       " ('하', 'XSV'),\n",
       " ('며', 'ECE'),\n",
       " (',', 'SP'),\n",
       " ('자유', 'NNG'),\n",
       " ('민주적', 'NNG'),\n",
       " ('기본', 'NNG'),\n",
       " ('질서', 'NNG'),\n",
       " ('에', 'JKM'),\n",
       " ('입각', 'NNG'),\n",
       " ('하', 'XSV'),\n",
       " ('ㄴ', 'ETD'),\n",
       " ('평화적', 'NNG'),\n",
       " ('통일', 'NNG'),\n",
       " ('정책', 'NNG'),\n",
       " ('을', 'JKO'),\n",
       " ('수립', 'NNG'),\n",
       " ('하', 'XSV'),\n",
       " ('고', 'ECE'),\n",
       " ('이르', 'VV'),\n",
       " ('ㄹ', 'ETD'),\n",
       " ('추진', 'NNG'),\n",
       " ('하', 'XSV'),\n",
       " ('ㄴ다', 'EFN'),\n",
       " ('.', 'SF'),\n",
       " ('저', 'NP'),\n",
       " ('의', 'JKG'),\n",
       " ('5', 'NR'),\n",
       " ('조', 'NR'),\n",
       " ('①', 'SW'),\n",
       " ('대한민국', 'NNG'),\n",
       " ('은', 'JX'),\n",
       " ('국제', 'NNG'),\n",
       " ('평화', 'NNG'),\n",
       " ('의', 'JKG'),\n",
       " ('유지', 'NNG'),\n",
       " ('에', 'JKM'),\n",
       " ('노력', 'NNG'),\n",
       " ('하', 'XSV'),\n",
       " ('고', 'ECE'),\n",
       " ('침략', 'NNG'),\n",
       " ('적', 'XSN'),\n",
       " ('전쟁', 'NNG'),\n",
       " ('을', 'JKO'),\n",
       " ('부인', 'NNG'),\n",
       " ('하', 'XSV'),\n",
       " ('ㄴ다', 'EFN'),\n",
       " ('.', 'SF'),\n",
       " ('②', 'SW'),\n",
       " ('국', 'NNG'),\n",
       " ('군은', 'NNG'),\n",
       " ('국가', 'NNG'),\n",
       " ('의', 'JKG'),\n",
       " ('안전', 'NNG'),\n",
       " ('보장', 'NNG'),\n",
       " ('과', 'JC'),\n",
       " ('국토', 'NNG'),\n",
       " ('방위', 'NNG'),\n",
       " ('의', 'JKG'),\n",
       " ('신성', 'NNG'),\n",
       " ('하', 'XSV'),\n",
       " ('ㄴ', 'ETD'),\n",
       " ('의무', 'NNG'),\n",
       " ('를', 'JKO'),\n",
       " ('수행', 'NNG'),\n",
       " ('하', 'XSV'),\n",
       " ('ㅁ', 'ETN'),\n",
       " ('을', 'JKO'),\n",
       " ('사명', 'NNG'),\n",
       " ('으로', 'JKM'),\n",
       " ('하', 'VV'),\n",
       " ('며', 'ECE'),\n",
       " (',', 'SP'),\n",
       " ('그', 'MDT'),\n",
       " ('정치적', 'NNG'),\n",
       " ('중립성', 'NNG'),\n",
       " ('은', 'JX'),\n",
       " ('준수', 'NNG'),\n",
       " ('되', 'XSV'),\n",
       " ('ㄴ다', 'EFN'),\n",
       " ('.', 'SF'),\n",
       " ('저', 'NP'),\n",
       " ('의', 'JKG'),\n",
       " ('6', 'NR'),\n",
       " ('조', 'NR'),\n",
       " ('①', 'SW'),\n",
       " ('헌법', 'NNG'),\n",
       " ('에', 'JKM'),\n",
       " ('의하', 'VV'),\n",
       " ('여', 'ECS'),\n",
       " ('체결', 'NNG'),\n",
       " ('·', 'SP'),\n",
       " ('공포', 'NNG'),\n",
       " ('되', 'XSV'),\n",
       " ('ㄴ', 'ETD'),\n",
       " ('조약', 'NNG'),\n",
       " ('과', 'JKM'),\n",
       " ('일반적', 'NNG'),\n",
       " ('으로', 'JKM'),\n",
       " ('승인', 'NNG'),\n",
       " ('되', 'XSV'),\n",
       " ('ㄴ', 'ETD'),\n",
       " ('국제', 'NNG'),\n",
       " ('법규', 'NNG'),\n",
       " ('는', 'JX'),\n",
       " ('국내', 'NNG'),\n",
       " ('법과', 'NNG'),\n",
       " ('같', 'VA'),\n",
       " ('은', 'ETD'),\n",
       " ('효력', 'NNG'),\n",
       " ('을', 'JKO'),\n",
       " ('가지', 'VV'),\n",
       " ('ㄴ다', 'EFN'),\n",
       " ('.', 'SF'),\n",
       " ('②', 'SW'),\n",
       " ('외국인', 'NNG'),\n",
       " ('은', 'JX'),\n",
       " ('국제법', 'NNG'),\n",
       " ('과', 'JC'),\n",
       " ('조약', 'NNG'),\n",
       " ('이', 'JKS'),\n",
       " ('정하', 'VV'),\n",
       " ('는', 'ETD'),\n",
       " ('바', 'NNB'),\n",
       " ('에', 'JKM'),\n",
       " ('의하', 'VV'),\n",
       " ('여', 'ECS'),\n",
       " ('그', 'MDT'),\n",
       " ('지위', 'NNG'),\n",
       " ('가', 'JKS'),\n",
       " ('보장', 'NNG'),\n",
       " ('되', 'XSV'),\n",
       " ('ㄴ다', 'EFN'),\n",
       " ('.', 'SF'),\n",
       " ('저', 'NP'),\n",
       " ('의', 'JKG'),\n",
       " ('7', 'NR'),\n",
       " ('조', 'NR'),\n",
       " ('①', 'SW'),\n",
       " ('공무원', 'NNG'),\n",
       " ('은', 'JX'),\n",
       " ('국민', 'NNG'),\n",
       " ('전체', 'NNG'),\n",
       " ('에', 'JKM'),\n",
       " ('대하', 'VV'),\n",
       " ('ㄴ', 'ETD'),\n",
       " ('봉사자', 'NNG'),\n",
       " ('이', 'VCP'),\n",
       " ('며', 'ECE'),\n",
       " (',', 'SP'),\n",
       " ('국민', 'NNG'),\n",
       " ('에', 'JKM'),\n",
       " ('대하', 'VV'),\n",
       " ('여', 'ECS'),\n",
       " ('책임', 'NNG'),\n",
       " ('을', 'JKO'),\n",
       " ('질', 'VV'),\n",
       " ('ㄴ다', 'EFN'),\n",
       " ('.', 'SF'),\n",
       " ('②', 'SW'),\n",
       " ('공무원', 'NNG'),\n",
       " ('의', 'JKG'),\n",
       " ('신분', 'NNG'),\n",
       " ('과', 'JKM'),\n",
       " ('정치적', 'NNG'),\n",
       " ('중립성', 'NNG'),\n",
       " ('은', 'JX'),\n",
       " ('법률', 'NNG'),\n",
       " ('이', 'JKS'),\n",
       " ('정하', 'VV'),\n",
       " ('는', 'ETD'),\n",
       " ('바', 'NNB'),\n",
       " ('에', 'JKM'),\n",
       " ('의하', 'VV'),\n",
       " ('여', 'ECS'),\n",
       " ('보장', 'NNG'),\n",
       " ('되', 'XSV'),\n",
       " ('ㄴ다', 'EFN'),\n",
       " ('.', 'SF'),\n",
       " ('저', 'NP'),\n",
       " ('의', 'JKG'),\n",
       " ('8', 'NR'),\n",
       " ('조', 'NR'),\n",
       " ('①', 'SW'),\n",
       " ('정당', 'NNG'),\n",
       " ('의', 'JKG'),\n",
       " ('설립', 'NNG'),\n",
       " ('은', 'JX'),\n",
       " ('자유', 'NNG'),\n",
       " ('이', 'VCP'),\n",
       " ('며', 'ECE'),\n",
       " (',', 'SP'),\n",
       " ('복수', 'NNG'),\n",
       " ('정당제', 'NNG'),\n",
       " ('는', 'JX'),\n",
       " ('보장', 'NNG'),\n",
       " ('되', 'XSV'),\n",
       " ('ㄴ다', 'EFN'),\n",
       " ('.', 'SF'),\n",
       " ('②', 'SW'),\n",
       " ('정당', 'NNG'),\n",
       " ('은', 'JX'),\n",
       " ('그', 'MDT'),\n",
       " ('목적', 'NNG'),\n",
       " ('·', 'SP'),\n",
       " ('조직', 'NNG'),\n",
       " ('과', 'JKM'),\n",
       " ('활동', 'NNG'),\n",
       " ('이', 'JKS'),\n",
       " ('민주적', 'NNG'),\n",
       " ('이', 'VCP'),\n",
       " ('어야', 'ECD'),\n",
       " ('하', 'VV'),\n",
       " ('며', 'ECE'),\n",
       " (',', 'SP'),\n",
       " ('국민', 'NNG'),\n",
       " ('의', 'JKG'),\n",
       " ('정치적', 'NNG'),\n",
       " ('의사', 'NNG'),\n",
       " ('형성', 'NNG'),\n",
       " ('에', 'JKM'),\n",
       " ('참여', 'NNG'),\n",
       " ('하', 'XSV'),\n",
       " ('는데', 'ECD'),\n",
       " ('필요', 'NNG'),\n",
       " ('하', 'XSV'),\n",
       " ('ㄴ', 'ETD'),\n",
       " ('조직', 'NNG'),\n",
       " ('을', 'JKO'),\n",
       " ('가지', 'VV'),\n",
       " ('어야', 'ECD'),\n",
       " ('하', 'VV'),\n",
       " ('ㄴ다', 'EFN'),\n",
       " ('.', 'SF'),\n",
       " ('③', 'SW'),\n",
       " ('정당', 'NNG'),\n",
       " ('은', 'JX'),\n",
       " ('법률', 'NNG'),\n",
       " ('이', 'JKS'),\n",
       " ('정하', 'VV'),\n",
       " ('는', 'ETD'),\n",
       " ('바', 'NNB'),\n",
       " ('에', 'JKM'),\n",
       " ('의하', 'VV'),\n",
       " ('여', 'ECS'),\n",
       " ('국가', 'NNG'),\n",
       " ('의', 'JKG'),\n",
       " ('보호', 'NNG'),\n",
       " ('를', 'JKO'),\n",
       " ('받', 'VV'),\n",
       " ('으며', 'ECE'),\n",
       " (',', 'SP'),\n",
       " ('국가', 'NNG'),\n",
       " ('는', 'JX'),\n",
       " ('법률', 'NNG'),\n",
       " ('이', 'JKS'),\n",
       " ('정하', 'VV'),\n",
       " ('는', 'ETD'),\n",
       " ('바', 'NNB'),\n",
       " ('에', 'JKM'),\n",
       " ('의하', 'VV'),\n",
       " ('여', 'ECS'),\n",
       " ('정당', 'NNG'),\n",
       " ('운영', 'NNG'),\n",
       " ('에', 'JKM'),\n",
       " ('필요', 'NNG'),\n",
       " ('하', 'XSV'),\n",
       " ('ㄴ', 'ETD'),\n",
       " ('자금', 'NNG'),\n",
       " ('을', 'JKO'),\n",
       " ('보조', 'NNG'),\n",
       " ('하', 'XSV'),\n",
       " ('ㄹ', 'ETD'),\n",
       " ('수', 'NNB'),\n",
       " ('있', 'VV'),\n",
       " ('다', 'EFN'),\n",
       " ('.', 'SF'),\n",
       " ('④', 'SW'),\n",
       " ('정당', 'NNG'),\n",
       " ('의', 'JKG'),\n",
       " ('목적', 'NNG'),\n",
       " ('이나', 'JC'),\n",
       " ('활동', 'NNG'),\n",
       " ('이', 'JKS'),\n",
       " ('민주적', 'NNG'),\n",
       " ('기본', 'NNG'),\n",
       " ('질서', 'NNG'),\n",
       " ('에', 'JKM'),\n",
       " ('위배', 'NNG'),\n",
       " ('되', 'XSV'),\n",
       " ('ㄹ', 'ETD'),\n",
       " ('때', 'NNG'),\n",
       " ('에', 'JKM'),\n",
       " ('는', 'JX'),\n",
       " ('정부', 'NNG'),\n",
       " ('는', 'JX'),\n",
       " ('헌법', 'NNG'),\n",
       " ('재판소', 'NNG'),\n",
       " ('에', 'JKM'),\n",
       " ('그', 'MDT'),\n",
       " ('해산', 'NNG'),\n",
       " ('을', 'JKO'),\n",
       " ('제소', 'NNG'),\n",
       " ('하', 'XSV'),\n",
       " ('ㄹ', 'ETD'),\n",
       " ('수', 'NNB'),\n",
       " ('있', 'VV'),\n",
       " ('고', 'ECE'),\n",
       " (',', 'SP'),\n",
       " ('정당', 'NNG'),\n",
       " ('은', 'JX'),\n",
       " ('헌법', 'NNG'),\n",
       " ('재판소', 'NNG'),\n",
       " ('의', 'JKG'),\n",
       " ('심판', 'NNG'),\n",
       " ('에', 'JKM'),\n",
       " ('의하', 'VV'),\n",
       " ('여', 'ECS'),\n",
       " ('해산', 'NNG'),\n",
       " ('되', 'XSV'),\n",
       " ('ㄴ다', 'EFN'),\n",
       " ('.', 'SF'),\n",
       " ('저', 'NP'),\n",
       " ('의', 'JKG'),\n",
       " ('9', 'NR'),\n",
       " ('조', 'NNM'),\n",
       " ('국가', 'NNG'),\n",
       " ('는', 'JX'),\n",
       " ('전통문화', 'NNG'),\n",
       " ('의', 'JKG'),\n",
       " ('계승', 'NNG'),\n",
       " ('·', 'SP'),\n",
       " ('발전', 'NNG'),\n",
       " ('과', 'JC'),\n",
       " ('민족', 'NNG'),\n",
       " ('문화', 'NNG'),\n",
       " ('의', 'JKG'),\n",
       " ('창달', 'NNG'),\n",
       " ('에', 'JKM'),\n",
       " ('노력', 'NNG'),\n",
       " ('하', 'XSV'),\n",
       " ('여야', 'ECD'),\n",
       " ('하', 'VV'),\n",
       " ('ㄴ다', 'EFN'),\n",
       " ('.', 'SF'),\n",
       " ('저', 'NP'),\n",
       " ('의', 'JKG'),\n",
       " ('2', 'NR'),\n",
       " ('장', 'NNG'),\n",
       " ('국민', 'NNG'),\n",
       " ('의', 'JKG'),\n",
       " ('권리', 'NNG'),\n",
       " ('와', 'JC'),\n",
       " ('의무', 'NNG'),\n",
       " ('제', 'NNG'),\n",
       " ('10', 'NR'),\n",
       " ('조', 'NNM'),\n",
       " ('모든', 'MDT'),\n",
       " ('국민', 'NNG'),\n",
       " ('은', 'JX'),\n",
       " ('인간', 'NNG'),\n",
       " ('으로서', 'JKM'),\n",
       " ('의', 'JKG'),\n",
       " ('존엄', 'NNG'),\n",
       " ('과', 'JC'),\n",
       " ('가치', 'NNG'),\n",
       " ('를', 'JKO'),\n",
       " ('가지', 'VV'),\n",
       " ('며', 'ECE'),\n",
       " (',', 'SP'),\n",
       " ('행복', 'NNG'),\n",
       " ('을', 'JKO'),\n",
       " ('추구', 'NNG'),\n",
       " ('하', 'XSV'),\n",
       " ('ㄹ', 'ETD'),\n",
       " ('권리', 'NNG'),\n",
       " ('를', 'JKO'),\n",
       " ('가지', 'VV'),\n",
       " ('ㄴ다', 'EFN'),\n",
       " ('.', 'SF'),\n",
       " ('국가', 'NNG'),\n",
       " ('는', 'JX'),\n",
       " ('개인', 'NNG'),\n",
       " ('이', 'JKS'),\n",
       " ('가지', 'VV'),\n",
       " ('는', 'ETD'),\n",
       " ('불가침', 'NNG'),\n",
       " ('의', 'JKG'),\n",
       " ('기본적', 'NNG'),\n",
       " ('인권', 'NNG'),\n",
       " ('을', 'JKO'),\n",
       " ('확인', 'NNG'),\n",
       " ('하', 'XSV'),\n",
       " ('고', 'ECE'),\n",
       " ('이르', 'VV'),\n",
       " ('ㄹ', 'ETD'),\n",
       " ('보장', 'NNG'),\n",
       " ('하', 'XSV'),\n",
       " ('ㄹ', 'ETD'),\n",
       " ('의무', 'NNG'),\n",
       " ('를', 'JKO'),\n",
       " ('질', 'VV'),\n",
       " ('ㄴ다', 'EFN'),\n",
       " ('.', 'SF'),\n",
       " ('저', 'NP'),\n",
       " ('의', 'JKG'),\n",
       " ('11', 'NR'),\n",
       " ('조', 'NR'),\n",
       " ('①', 'SW'),\n",
       " ('모든', 'NNP'),\n",
       " ('국민', 'NNG'),\n",
       " ('은', 'JX'),\n",
       " ('법', 'NNG'),\n",
       " ('앞', 'NNG'),\n",
       " ('에', 'JKM'),\n",
       " ('평등', 'NNG'),\n",
       " ('하', 'XSA'),\n",
       " ('다', 'EFN'),\n",
       " ('.', 'SF'),\n",
       " ('누구', 'NP'),\n",
       " ('든지', 'JX'),\n",
       " ('성별', 'NNG'),\n",
       " ('·', 'SP'),\n",
       " ('종교', 'NNG'),\n",
       " ('또는', 'MAG'),\n",
       " ('사회적', 'NNG'),\n",
       " ('신분', 'NNG'),\n",
       " ('에', 'JKM'),\n",
       " ('의하', 'VV'),\n",
       " ('여', 'ECS'),\n",
       " ('정치적', 'NNG'),\n",
       " ('·', 'SP'),\n",
       " ('경제적', 'NNG'),\n",
       " ('·', 'SP'),\n",
       " ('사회적', 'NNG'),\n",
       " ('·', 'SP'),\n",
       " ('문화적', 'NNG'),\n",
       " ('생활', 'NNG'),\n",
       " ('의', 'JKG'),\n",
       " ('모든', 'MDT'),\n",
       " ('영역', 'NNG'),\n",
       " ('에', 'JKM'),\n",
       " ('있', 'VV'),\n",
       " ('어서', 'ECD'),\n",
       " ('차별', 'NNG'),\n",
       " ('을', 'JKO'),\n",
       " ('받', 'VV'),\n",
       " ('지', 'ECD'),\n",
       " ('아니하', 'VXV'),\n",
       " ('ㄴ다', 'EFN'),\n",
       " ('.', 'SF'),\n",
       " ('②', 'SW'),\n",
       " ('사회적', 'NNG'),\n",
       " ('특수', 'NNG'),\n",
       " ('계급', 'NNG'),\n",
       " ('의', 'JKG'),\n",
       " ('제도', 'NNG'),\n",
       " ('는', 'JX'),\n",
       " ('인정', 'NNG'),\n",
       " ('되', 'XSV'),\n",
       " ('지', 'ECD'),\n",
       " ('아니하', 'VXV'),\n",
       " ('며', 'ECE'),\n",
       " (',', 'SP'),\n",
       " ('어떠하', 'VA'),\n",
       " ('ㄴ', 'ETD'),\n",
       " ('형태', 'NNG'),\n",
       " ('로', 'JKM'),\n",
       " ('도', 'JX'),\n",
       " ('이', 'NP'),\n",
       " ('를', 'JKO'),\n",
       " ('창설', 'NNG'),\n",
       " ('하', 'XSV'),\n",
       " ('ㄹ', 'ETD'),\n",
       " ('수', 'NNB'),\n",
       " ('없', 'VA'),\n",
       " ('다', 'EFN'),\n",
       " ('.', 'SF'),\n",
       " ('③', 'SW'),\n",
       " ('훈장', 'NNG'),\n",
       " ('등', 'NNB'),\n",
       " ('의', 'JKG'),\n",
       " ('영전', 'NNG'),\n",
       " ('은', 'JX'),\n",
       " ('이르', 'VV'),\n",
       " ('ㄹ', 'ETD'),\n",
       " ('받', 'VA'),\n",
       " ('은', 'ETD'),\n",
       " ('자', 'NNG'),\n",
       " ('에게', 'JKM'),\n",
       " ('만', 'JX'),\n",
       " ('효력', 'NNG'),\n",
       " ('이', 'JKS'),\n",
       " ('있', 'VV'),\n",
       " ('고', 'ECE'),\n",
       " (',', 'SP'),\n",
       " ('어떠하', 'VA'),\n",
       " ('ㄴ', 'ETD'),\n",
       " ('특권', 'NNG'),\n",
       " ('도', 'JX'),\n",
       " ('이에', 'MAG'),\n",
       " ('따르', 'VV'),\n",
       " ('지', 'ECD'),\n",
       " ('아니하', 'VXV'),\n",
       " ('ㄴ다', 'EFN'),\n",
       " ('.', 'SF'),\n",
       " ('저', 'NP'),\n",
       " ('의', 'JKG'),\n",
       " ('12', 'NR'),\n",
       " ('조', 'NR'),\n",
       " ('①', 'SW'),\n",
       " ('모든', 'NNP'),\n",
       " ('국민', 'NNG'),\n",
       " ('은', 'JX'),\n",
       " ('신체', 'NNG'),\n",
       " ('의', 'JKG'),\n",
       " ('자유', 'NNG'),\n",
       " ('를', 'JKO'),\n",
       " ('가지', 'VV'),\n",
       " ('ㄴ다', 'EFN'),\n",
       " ('.', 'SF'),\n",
       " ('누구', 'NP'),\n",
       " ('든지', 'JX'),\n",
       " ('법률', 'NNG'),\n",
       " ('에', 'JKM'),\n",
       " ('의하', 'VV'),\n",
       " ('지', 'ECD'),\n",
       " ('아니하', 'VXV'),\n",
       " ('고는', 'ECE'),\n",
       " ('체포', 'NNG'),\n",
       " ('·', 'SP'),\n",
       " ('구속', 'NNG'),\n",
       " ('·', 'SP'),\n",
       " ('압수', 'NNG'),\n",
       " ('·', 'SP'),\n",
       " ('수색', 'NNG'),\n",
       " ('또는', 'MAG'),\n",
       " ('심문', 'NNG'),\n",
       " ('을', 'JKO'),\n",
       " ('받', 'VV'),\n",
       " ('지', 'ECD'),\n",
       " ('아니하', 'VXV'),\n",
       " ('며', 'ECE'),\n",
       " (',', 'SP'),\n",
       " ('법률', 'NNG'),\n",
       " ('과', 'JKM'),\n",
       " ('적법', 'NNG'),\n",
       " ('하', 'XSV'),\n",
       " ('ㄴ', 'ETD'),\n",
       " ('절차', 'NNG'),\n",
       " ('에', 'JKM'),\n",
       " ('의하', 'VV'),\n",
       " ('지', 'ECD'),\n",
       " ('아니하', 'VXV'),\n",
       " ('고는', 'ECE'),\n",
       " ('처벌', 'NNG'),\n",
       " ('·', 'SP'),\n",
       " ('보안', 'NNG'),\n",
       " ('처분', 'NNG'),\n",
       " ('또는', 'MAG'),\n",
       " ('강제', 'NNG'),\n",
       " ('노역', 'NNG'),\n",
       " ('을', 'JKO'),\n",
       " ('받', 'VV'),\n",
       " ('지', 'ECD'),\n",
       " ('아니하', 'VXV'),\n",
       " ('ㄴ다', 'EFN'),\n",
       " ('.', 'SF'),\n",
       " ('②', 'SW'),\n",
       " ('모든', 'NNP'),\n",
       " ('국민', 'NNG'),\n",
       " ('은', 'JX'),\n",
       " ('고문', 'NNG'),\n",
       " ('을', 'JKO'),\n",
       " ('받', 'VV'),\n",
       " ('지', 'ECD'),\n",
       " ('아니하', 'VXV'),\n",
       " ('며', 'ECE'),\n",
       " (',', 'SP'),\n",
       " ('형', 'NNG'),\n",
       " ('사상', 'NNG'),\n",
       " ('자기', 'NP'),\n",
       " ('에게', 'JKM'),\n",
       " ('불리', 'NNG'),\n",
       " ('하', 'XSV'),\n",
       " ('ㄴ', 'ETD'),\n",
       " ('진술', 'NNG'),\n",
       " ('을', 'JKO'),\n",
       " ('강요', 'NNG'),\n",
       " ('당하', 'XSV'),\n",
       " ('지', 'ECD'),\n",
       " ('아니하', 'VXV'),\n",
       " ('ㄴ다', 'EFN'),\n",
       " ('.', 'SF'),\n",
       " ('③', 'SW'),\n",
       " ('체포', 'NNG'),\n",
       " ('·', 'SP'),\n",
       " ('구속', 'NNG'),\n",
       " ('·', 'SP'),\n",
       " ('압수', 'NNG'),\n",
       " ('또는', 'MAG'),\n",
       " ('수색', 'NNG'),\n",
       " ('을', 'JKO'),\n",
       " ('하', 'VV'),\n",
       " ('ㄹ', 'ETD'),\n",
       " ('때', 'NNG'),\n",
       " ('에', 'JKM'),\n",
       " ('는', 'JX'),\n",
       " ('적법', 'NNG'),\n",
       " ('하', 'XSV'),\n",
       " ('ㄴ', 'ETD'),\n",
       " ('절차', 'NNG'),\n",
       " ('에', 'JKM'),\n",
       " ('따르', 'VV'),\n",
       " ('아', 'ECS'),\n",
       " ('검사', 'NNG'),\n",
       " ('의', 'JKG'),\n",
       " ('신청', 'NNG'),\n",
       " ('에', 'JKM'),\n",
       " ('의하', 'VV'),\n",
       " ('여', 'ECS'),\n",
       " ('법관', 'NNG'),\n",
       " ('이', 'JKS'),\n",
       " ('발부', 'NNG'),\n",
       " ('하', 'XSV'),\n",
       " ('ㄴ', 'ETD'),\n",
       " ('영장', 'NNG'),\n",
       " ('을', 'JKO'),\n",
       " ('제시', 'NNG'),\n",
       " ('하', 'XSV'),\n",
       " ('여야', 'ECD'),\n",
       " ('하', 'VV'),\n",
       " ('ㄴ다', 'EFN'),\n",
       " ('.', 'SF'),\n",
       " ('다만', 'MAG'),\n",
       " (',', 'SP'),\n",
       " ('현행', 'NNG'),\n",
       " ('범인', 'NNG'),\n",
       " ('이', 'VCP'),\n",
       " ('ㄴ', 'ETD'),\n",
       " ('경우', 'NNG'),\n",
       " ('와', 'JC'),\n",
       " ('장기', 'NNG'),\n",
       " ('3', 'NR'),\n",
       " ('년', 'NNM'),\n",
       " ('이상', 'NNG'),\n",
       " ('의', 'JKG'),\n",
       " ('형', 'NNG'),\n",
       " ('에', 'JKM'),\n",
       " ('해당', 'NNG'),\n",
       " ('하', 'XSV'),\n",
       " ('는', 'ETD'),\n",
       " ('죄', 'NNG'),\n",
       " ('를', 'JKO'),\n",
       " ('범하', 'VV'),\n",
       " ('고', 'ECE'),\n",
       " ('도피', 'NNG'),\n",
       " ('또는', 'MAG'),\n",
       " ('증거', 'NNG'),\n",
       " ('인멸', 'NNG'),\n",
       " ('의', 'JKG'),\n",
       " ('염려', 'NNG'),\n",
       " ('가', 'JKS'),\n",
       " ('있', 'VV'),\n",
       " ('을', 'ETD'),\n",
       " ('때', 'NNG'),\n",
       " ('에', 'JKM'),\n",
       " ('는', 'JX'),\n",
       " ...]"
      ]
     },
     "execution_count": 211,
     "metadata": {},
     "output_type": "execute_result"
    }
   ],
   "source": [
    "tagged"
   ]
  },
  {
   "cell_type": "code",
   "execution_count": 227,
   "metadata": {},
   "outputs": [],
   "source": [
    "result = [_[0] for _ in tagged if len(_[0]) > 1 and not (_[1].startswith(\"J\") or _[0].startswith(\"ㄴ\"))]    # J* : 조사,  \"L\"으로 시작하는 종결어미 제외"
   ]
  },
  {
   "cell_type": "code",
   "execution_count": 228,
   "metadata": {},
   "outputs": [
    {
     "data": {
      "text/plain": [
       "1086"
      ]
     },
     "execution_count": 228,
     "metadata": {},
     "output_type": "execute_result"
    }
   ],
   "source": [
    "len(set(result))"
   ]
  },
  {
   "cell_type": "code",
   "execution_count": 229,
   "metadata": {},
   "outputs": [],
   "source": [
    "from nltk import Text"
   ]
  },
  {
   "cell_type": "code",
   "execution_count": 230,
   "metadata": {},
   "outputs": [],
   "source": [
    "textObj = Text(result)"
   ]
  },
  {
   "cell_type": "code",
   "execution_count": 231,
   "metadata": {},
   "outputs": [
    {
     "data": {
      "text/plain": [
       "[('법률', 121),\n",
       " ('정하', 88),\n",
       " ('대통령', 84),\n",
       " ('의하', 83),\n",
       " ('국가', 73),\n",
       " ('헌법', 69),\n",
       " ('국민', 69),\n",
       " ('또는', 69),\n",
       " ('국회', 55),\n",
       " ('아니하', 53),\n",
       " ('관하', 53),\n",
       " ('회의', 42),\n",
       " ('모든', 37),\n",
       " ('위하', 33),\n",
       " ('가지', 32),\n",
       " ('필요', 31),\n",
       " ('여야', 31),\n",
       " ('위원', 31),\n",
       " ('국무', 30),\n",
       " ('기타', 26)]"
      ]
     },
     "execution_count": 231,
     "metadata": {},
     "output_type": "execute_result"
    }
   ],
   "source": [
    "textObj.vocab().most_common(20)"
   ]
  },
  {
   "cell_type": "code",
   "execution_count": 232,
   "metadata": {},
   "outputs": [],
   "source": [
    "from wordcloud import WordCloud"
   ]
  },
  {
   "cell_type": "code",
   "execution_count": 234,
   "metadata": {},
   "outputs": [],
   "source": [
    "termList = textObj.vocab()"
   ]
  },
  {
   "cell_type": "code",
   "execution_count": 237,
   "metadata": {},
   "outputs": [
    {
     "data": {
      "image/png": "[encoded data removed]",
      "text/plain": [
       "<PIL.Image.Image image mode=RGB size=400x200 at 0x1A195FD860>"
      ]
     },
     "execution_count": 237,
     "metadata": {},
     "output_type": "execute_result"
    }
   ],
   "source": [
    "path = \"/Libaray/Fonts/AppleGothic.ttf\"\n",
    "wc = WordCloud(font_path=path, max_words=50, background_color=\"white\")\n",
    "wc.generate_from_frequencies(termList)\n",
    "wc.to_image()"
   ]
  },
  {
   "cell_type": "code",
   "execution_count": 238,
   "metadata": {},
   "outputs": [
    {
     "data": {
      "text/plain": [
       "numpy.ndarray"
      ]
     },
     "execution_count": 238,
     "metadata": {},
     "output_type": "execute_result"
    }
   ],
   "source": [
    "wc_array = wc.to_array()\n",
    "type(wc_array)"
   ]
  },
  {
   "cell_type": "code",
   "execution_count": 256,
   "metadata": {},
   "outputs": [],
   "source": [
    "import os\n",
    "\n",
    "corpus = \"\"\n",
    "\n",
    "for _ in os.listdir(\"./naver_news/2019-03-19_13-08\"):\n",
    "    if _.endswith(\".txt\") and _.startswith(\"경제\"):\n",
    "        with open(\"./naver_news/2019-03-19_13-08/\"+_) as f:\n",
    "            corpus += f.read()"
   ]
  },
  {
   "cell_type": "code",
   "execution_count": 257,
   "metadata": {},
   "outputs": [
    {
     "data": {
      "text/plain": [
       "20242"
      ]
     },
     "execution_count": 257,
     "metadata": {},
     "output_type": "execute_result"
    }
   ],
   "source": [
    "len(corpus)"
   ]
  },
  {
   "cell_type": "code",
   "execution_count": 258,
   "metadata": {},
   "outputs": [],
   "source": [
    "tagged = Kkma().nouns(corpus)"
   ]
  },
  {
   "cell_type": "code",
   "execution_count": 259,
   "metadata": {},
   "outputs": [],
   "source": [
    "from collections import defaultdict\n",
    "nounList = defaultdict(int)"
   ]
  },
  {
   "cell_type": "code",
   "execution_count": 260,
   "metadata": {},
   "outputs": [],
   "source": [
    "for _ in tagged:\n",
    "    nounList[_] += 1"
   ]
  },
  {
   "cell_type": "code",
   "execution_count": 265,
   "metadata": {},
   "outputs": [
    {
     "data": {
      "image/png": "[encoded data removed]",
      "text/plain": [
       "<PIL.Image.Image image mode=RGB size=400x200 at 0x1AB232C2B0>"
      ]
     },
     "execution_count": 265,
     "metadata": {},
     "output_type": "execute_result"
    }
   ],
   "source": [
    "wc.generate_from_frequencies(nounList)\n",
    "wc.to_image()"
   ]
  },
  {
   "cell_type": "code",
   "execution_count": null,
   "metadata": {},
   "outputs": [],
   "source": []
  }
 ],
 "metadata": {
  "kernelspec": {
   "display_name": "Python 3",
   "language": "python",
   "name": "python3"
  },
  "language_info": {
   "codemirror_mode": {
    "name": "ipython",
    "version": 3
   },
   "file_extension": ".py",
   "mimetype": "text/x-python",
   "name": "python",
   "nbconvert_exporter": "python",
   "pygments_lexer": "ipython3",
   "version": "3.7.1"
  },
  "toc": {
   "base_numbering": 1,
   "nav_menu": {},
   "number_sections": false,
   "sideBar": true,
   "skip_h1_title": false,
   "title_cell": "Table of Contents",
   "title_sidebar": "Contents",
   "toc_cell": true,
   "toc_position": {},
   "toc_section_display": true,
   "toc_window_display": false
  }
 },
 "nbformat": 4,
 "nbformat_minor": 2
}
