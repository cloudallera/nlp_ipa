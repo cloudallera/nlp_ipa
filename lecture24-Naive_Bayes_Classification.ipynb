{
 "cells": [
  {
   "cell_type": "markdown",
   "metadata": {
    "toc": true
   },
   "source": [
    "<h1>Table of Contents<span class=\"tocSkip\"></span></h1>\n",
    "<div class=\"toc\"><ul class=\"toc-item\"><li><span><a href=\"#Naïve-Bayes-Classification\" data-toc-modified-id=\"Naïve-Bayes-Classification-1\">Naïve Bayes Classification</a></span><ul class=\"toc-item\"><li><span><a href=\"#베이즈-정리\" data-toc-modified-id=\"베이즈-정리-1.1\">베이즈 정리</a></span></li><li><span><a href=\"#나이브-베이즈-확률-모델\" data-toc-modified-id=\"나이브-베이즈-확률-모델-1.2\">나이브 베이즈 확률 모델</a></span></li><li><span><a href=\"#확률-모델로부터의-분류기-생성\" data-toc-modified-id=\"확률-모델로부터의-분류기-생성-1.3\">확률 모델로부터의 분류기 생성</a></span></li><li><span><a href=\"#모수추정과-이벤트-모델\" data-toc-modified-id=\"모수추정과-이벤트-모델-1.4\">모수추정과 이벤트 모델</a></span><ul class=\"toc-item\"><li><span><a href=\"#가우시안-나이브-베이즈\" data-toc-modified-id=\"가우시안-나이브-베이즈-1.4.1\">가우시안 나이브 베이즈</a></span></li><li><span><a href=\"#다항분포-나이브-베이즈\" data-toc-modified-id=\"다항분포-나이브-베이즈-1.4.2\">다항분포 나이브 베이즈</a></span></li><li><span><a href=\"#베르누이-나이브-베이즈\" data-toc-modified-id=\"베르누이-나이브-베이즈-1.4.3\">베르누이 나이브 베이즈</a></span></li></ul></li><li><span><a href=\"#예시:-문서-분류(스팸-메일-분류)\" data-toc-modified-id=\"예시:-문서-분류(스팸-메일-분류)-1.5\">예시: 문서 분류(스팸 메일 분류)</a></span><ul class=\"toc-item\"><li><span><a href=\"#Training\" data-toc-modified-id=\"Training-1.5.1\">Training</a></span></li><li><span><a href=\"#Testing\" data-toc-modified-id=\"Testing-1.5.2\">Testing</a></span></li><li><span><a href=\"#Example\" data-toc-modified-id=\"Example-1.5.3\">Example</a></span></li></ul></li></ul></li></ul></div>"
   ]
  },
  {
   "cell_type": "markdown",
   "metadata": {},
   "source": [
    "## Naïve Bayes Classification"
   ]
  },
  {
   "cell_type": "markdown",
   "metadata": {},
   "source": [
    "https://ko.wikipedia.org/wiki/베이즈_정리\n",
    "\n",
    "https://ko.wikipedia.org/wiki/나이브_베이즈_분류"
   ]
  },
  {
   "cell_type": "markdown",
   "metadata": {},
   "source": [
    "### 베이즈 정리"
   ]
  },
  {
   "cell_type": "markdown",
   "metadata": {},
   "source": [
    "확률공간 $(P,\\Pr )$ 속에서 $A,B\\subset P$가 가측 집합이라고 하고, $\\Pr(B)>0$이라고 하자. <br>\n",
    "그렇다면, 베이즈 정리에 따라 다음이 성립한다.\n",
    "\n",
    "$\\Pr(A|B)=\\large {\\frac  {\\Pr(B|A)\\Pr(A)}{\\Pr(B)}} \\small \\propto {\\mathcal  L}(A|B)\\Pr(A)$\n",
    "\n",
    "각각의 항은 다음과 같은 의미를 갖는다.\n",
    "\n",
    "- $\\Pr(A)$는 $A$의 사전 확률로, 아직 사건 $B$에 관한 어떠한 정보도 알지 못하는 것을 의미한다.\n",
    "- $\\Pr(A|B)$는 $B$의 값이 주어진 경우에 대한 $A$의 사후 확률이다.\n",
    "- $\\Pr(B|A)$는 $A$가 주어졌을 때 $B$의 조건부 확률이다.\n",
    "- ${\\mathcal  L}(A|B)=\\Pr(B|A)$는 $B$가 주어졌을 때 $A$의 가능도이다.\n",
    "- $\\Pr(B)$는 $B$의 사전 확률이며, 정규화 상수의 역할을 한다. 이 값은 $\\Pr(B)=\\int _{A}\\Pr(B|A)$를 이용하여 구할 수 있다.\n",
    "\n",
    "이때 $A$는 불확실성을 계산해야 하는 대상이며, <br>\n",
    "$B$는 관측하여 값을 알아낼 수 있는 대상으로 생각한다면, <br>\n",
    "$A$의 확률은 $B$가 관측된 후 $P(A)$에서 $P(A|B)$로 변화하며,<br>\n",
    "베이즈 정리는 이 때의 변화를 계산하는 방법을 제공한다."
   ]
  },
  {
   "cell_type": "markdown",
   "metadata": {},
   "source": [
    "### 나이브 베이즈 확률 모델"
   ]
  },
  {
   "cell_type": "markdown",
   "metadata": {},
   "source": [
    "나이브 베이즈는 조건부 확률 모델이다. <br>\n",
    "분류될 인스턴스들은 N 개의 특성 (독립변수)을 나타내는 벡터 $\\mathbf {x} =(x_{1},\\dots ,x_{n})$로 표현되며, <br>\n",
    "나이브 베이즈 분류기는 이 벡터를 이용하여 k개의 가능한 확률적 결과들 (클래스)을 다음과 같이 할당한다.\n",
    "\n",
    "$p(C_{k}\\vert x_{1},\\dots ,x_{n})$\n",
    "\n",
    "위의 공식은 특성 N의 수가 많은 경우나 하나의 특성이 많은 수의 값을 가질 수 있는 경우<br>\n",
    "확률 테이블에 베이지안 모델을 바로 적용하기 어려움이 있다. <br>\n",
    "그러므로, 위의 식은 베이즈 정리와 조건부 확률을 이용하여 다음과 같이 정리 가능하다.\n",
    "\n",
    "$p(C_{k}\\vert \\mathbf {x} )= \\large {\\frac {p(C_{k})\\ p(\\mathbf {x} \\vert C_{k})}{p(\\mathbf {x} )}}$\n",
    "\n",
    "베이지안 확률 용어를 사용하여 위의 식은 다음과 같은 식으로도 표현 가능하다.<br>\n",
    "(posterior : 사후 확률, prior : 사전확률, likelihood : 가능도, evidence : 관찰값)\n",
    "\n",
    "${\\mbox{posterior}}={\\frac {{\\mbox{prior}} \\, \\times \\, {\\mbox{likelihood}}}{\\mbox{evidence}}}$\n",
    "\n",
    "실제로, 위 식에서 분자 부분만이 의미가 있다. 분모 부분의 경우에는 주어진 C 값에 의존하지 않고, <br>\n",
    "특성들의 값 $F_{i}$의 경우 분모의 값이 상수가 되도록 주어지기 때문이다. <br>\n",
    "분자 부분은 다음과 같은 결합확률 모델이다.\n",
    "\n",
    "$p(C_{k},x_{1},\\dots ,x_{n})$\n",
    "\n",
    "위의 식은 조건부 확률을 반복적으로 적용한 연쇄 법칙을 사용하여 다음 과 같이 다시 쓸 수 있다.\n",
    "\n",
    "$\\begin{aligned}p(C_{k},x_{1},\\dots ,x_{n})&=p(C_{k})\\ p(x_{1},\\dots ,x_{n}\\vert C_{k})\\\\&=p(C_{k})\\ p(x_{1}\\vert C_{k})\\ p(x_{2},\\dots ,x_{n}\\vert C_{k},x_{1})\\\\&=p(C_{k})\\ p(x_{1}\\vert C_{k})\\ p(x_{2}\\vert C_{k},x_{1})\\ p(x_{3},\\dots ,x_{n}\\vert C_{k},x_{1},x_{2})\\\\&=p(C_{k})\\ p(x_{1}\\vert C_{k})\\ p(x_{2}\\vert C_{k},x_{1})\\ \\dots p(x_{n}\\vert C_{k},x_{1},x_{2},x_{3},\\dots ,x_{n-1})\\end{aligned}$\n",
    "\n",
    "\n",
    "나이브 베이즈에서 조건부 독립성은 다음과 같이 표현될 수 있다 : <br>\n",
    "카테고리 종류 C 가 주어질 경우, 어떤 특성 $F_{i}$의 경우 모든 $F_{j} (j\\neq i)$에 대해서 조건부 독립이다. 즉,\n",
    "\n",
    "$p(x_{i}\\vert C_{k},x_{j})=p(x_{i}\\vert C_{k})\\,$,\n",
    "\n",
    "$p(x_{i}\\vert C_{k},x_{j},x_{k})=p(x_{i}\\vert C_{k})\\,$,\n",
    "\n",
    "$p(x_{i}\\vert C_{k},x_{j},x_{k},x_{l})=p(x_{i}\\vert C_{k})\\,$,\n",
    "\n",
    "$i\\neq j,k,l$에 대해 위식이 성립하게 된다. 결국, 이를 바탕으로 결합 모델은 다음과 같이 표현될 수 있다.\n",
    "\n",
    "$\\begin{aligned}\n",
    "p(C_{k}\\vert x_{1},\\dots ,x_{n})&\\varpropto p(C_{k},x_{1},\\dots ,x_{n})\\\\&\\varpropto p(C_{k})\\ p(x_{1}\\vert C_{k})\\ p(x_{2}\\vert C_{k})\\ p(x_{3}\\vert C_{k})\\ \\cdots \\\\&\\varpropto p(C_{k})\\prod _{i=1}^{n}p(x_{i}\\vert C_{k})\\,.\n",
    "\\end{aligned}$\n",
    "\n",
    "위 식은 독립성 가정 하에서 클래스 변수 C의 조건부 분포는 :\n",
    "\n",
    "$p(C_{k}\\vert x_{1},\\dots ,x_{n})={\\frac {1}{Z}}p(C_{k})\\prod _{i=1}^{n}p(x_{i}\\vert C_{k})$\n",
    "\n",
    "여기서 $Z=p(\\mathbf {x})$는 특성값들이 주어진 경우 상수가 되는, 즉 $x_{1},\\dots ,x_{n}$ 에만 의존하는 스케일링 팩터이다."
   ]
  },
  {
   "cell_type": "markdown",
   "metadata": {},
   "source": [
    "### 확률 모델로부터의 분류기 생성"
   ]
  },
  {
   "cell_type": "markdown",
   "metadata": {},
   "source": [
    "지금까지의 논의는 독립 특성 모델, 즉 나이브 베이즈 확률 모델을 유도한다. <br>\n",
    "나이브 베이즈 분류는 이 확률 모델과 결정 규칙을 조합 한 것이다. \n",
    "\n",
    "하나의 공통적인 규칙은 가장 가능성 높은 가설을 선택 하는 것이다. <br>\n",
    "이것은 사후 또는 MAP 결정 규칙의 최대치를 선택하는 것이다. <br>\n",
    "즉 나이브 베이즈 분류에서는 클래스 k, 즉 $C_{k}$에 대해서 다음 식을 통해 최대 확률을 갖는 클래스 k를 찾아낸다.\n",
    "\n",
    "${\\hat {y}}={\\underset {k\\in \\{1,\\dots ,K\\}}{\\operatorname {argmax} }}\\ p(C_{k})\\displaystyle \\prod _{i=1}^{n}p(x_{i}\\vert C_{k})$"
   ]
  },
  {
   "cell_type": "markdown",
   "metadata": {},
   "source": [
    "### 모수추정과 이벤트 모델"
   ]
  },
  {
   "cell_type": "markdown",
   "metadata": {},
   "source": [
    "#### 가우시안 나이브 베이즈"
   ]
  },
  {
   "cell_type": "markdown",
   "metadata": {},
   "source": [
    "연속적인 값을 지닌 데이터를 처리 할때, 전형적으로 각 클래스의 연속적인 값들이 가우스 분포를 따른다고 가정한다. \n",
    "\n",
    "예를 들어, 트레이닝 데이터가 연속적인 속성 $x$를 포함하는 것으로 가정하면, <br>\n",
    "먼저 클래스에 따라 데이터를 나눈 뒤에, 각 클래스에서 $x$의 평균과 분산을 계산한다. \n",
    "\n",
    "클래스 c와 연관된 $x$ 값의 평균을 $\\mu _{c}$이라고 하고, 분산을 $\\sigma _{c}^{2}$라고 하면, <br>\n",
    "주어진 클래스의 값들의 확률 분포가 M과 S로 매개변수화되어 정규분포식을 통해 계산 될 수 있다. 즉,\n",
    "\n",
    "$p(x=v|c)=\\large {\\frac {1}{\\sqrt {2\\pi \\sigma _{c}^{2}}}}\\,e^{- \\Large {\\frac {(v-\\mu _{c})^{2}}{2\\sigma _{c}^{2}}}}$"
   ]
  },
  {
   "cell_type": "markdown",
   "metadata": {},
   "source": [
    "#### 다항분포 나이브 베이즈"
   ]
  },
  {
   "cell_type": "markdown",
   "metadata": {},
   "source": [
    "$p(\\mathbf {x} \\vert C_{k})={\\frac {(\\sum _{i}x_{i})!}{\\prod _{i}x_{i}!}}\\prod _{i}{p_{ki}}^{x_{i}}$\n",
    "\n",
    "다항 나이브 베이즈 분류는 로그 공간에서 표현될 때는 다음과 같은 선형 분류기가 된다: \n",
    "\n",
    "${\\begin{aligned}\\log p(C_{k}|\\mathbf {x} )&\\varpropto \\log \\left(p(C_{k})\\prod _{i=1}^{n}{p_{ki}}^{x_{i}}\\right)\\\\&=\\log p(C_{k})+\\sum _{i=1}^{n}x_{i}\\cdot \\log p_{ki}\\\\&=b+\\mathbf {w} _{k}^{\\top }\\mathbf {x} \\end{aligned}}$\n",
    "\n",
    "(여기서 $b=\\log p(C_{k})$ 그리고 $w_{ki}=\\log p_{ki}$ 이다.)"
   ]
  },
  {
   "cell_type": "markdown",
   "metadata": {},
   "source": [
    "#### 베르누이 나이브 베이즈"
   ]
  },
  {
   "cell_type": "markdown",
   "metadata": {},
   "source": [
    "$p(\\mathbf {x} \\vert C_{k})=\\prod _{i=1}^{n}p_{ki}^{x_{i}}(1-p_{ki})^{(1-x_{i})}$\n",
    "\n",
    "위 식에서 $p_{ki}$는 용어 $w_{i}$를 발생시키는 클래스 $C_{k}$의 확률이다."
   ]
  },
  {
   "cell_type": "markdown",
   "metadata": {},
   "source": [
    "### 예시: 문서 분류(스팸 메일 분류)"
   ]
  },
  {
   "cell_type": "markdown",
   "metadata": {},
   "source": [
    "#### Training"
   ]
  },
  {
   "attachments": {},
   "cell_type": "markdown",
   "metadata": {},
   "source": [
    "![spam_training](./images/spam_training.png)"
   ]
  },
  {
   "cell_type": "markdown",
   "metadata": {},
   "source": [
    "#### Testing"
   ]
  },
  {
   "cell_type": "markdown",
   "metadata": {},
   "source": [
    "![spam_testing](./images/spam_testing.png)"
   ]
  },
  {
   "cell_type": "markdown",
   "metadata": {},
   "source": [
    "#### Example"
   ]
  },
  {
   "attachments": {},
   "cell_type": "markdown",
   "metadata": {},
   "source": [
    "![spam_example](./images/spam_example.png)"
   ]
  },
  {
   "cell_type": "code",
   "execution_count": 51,
   "metadata": {},
   "outputs": [],
   "source": [
    "trainingSet = [\n",
    "    (1, \"Chinese Bejing Chinese\", \"yes\"),\n",
    "    (2, \"Chinese Chinese Shanghai\", \"yes\"),\n",
    "    (3, \"Chinese Macao\", \"yes\"),\n",
    "    (4, \"Tokyo Japan Chinese\", \"no\"),\n",
    "]\n",
    "testSet = [\n",
    "    (5, \"Chinese Chinese Chinese Tokyo Japan\")\n",
    "]"
   ]
  },
  {
   "cell_type": "code",
   "execution_count": 52,
   "metadata": {},
   "outputs": [],
   "source": [
    "trainingSetYes = [d for d in trainingSet if d[2] == \"yes\"]\n",
    "trainingSetNo = [d for d in trainingSet if d[2] == \"no\"]"
   ]
  },
  {
   "cell_type": "code",
   "execution_count": 53,
   "metadata": {},
   "outputs": [],
   "source": [
    "# MLE (주어진 데이터로 확률값 추정)\n",
    "N = len(trainingSet)\n",
    "priorYes = len(trainingSetYes) / N\n",
    "priorNo = 1 - priorYes"
   ]
  },
  {
   "cell_type": "code",
   "execution_count": 54,
   "metadata": {},
   "outputs": [
    {
     "data": {
      "text/plain": [
       "(0.75, 0.25)"
      ]
     },
     "execution_count": 54,
     "metadata": {},
     "output_type": "execute_result"
    }
   ],
   "source": [
    "priorYes, priorNo"
   ]
  },
  {
   "cell_type": "code",
   "execution_count": 55,
   "metadata": {},
   "outputs": [],
   "source": [
    "from collections import defaultdict"
   ]
  },
  {
   "cell_type": "code",
   "execution_count": 56,
   "metadata": {},
   "outputs": [],
   "source": [
    "tokensYes = defaultdict(int)\n",
    "tokensNo = defaultdict(int)\n",
    "\n",
    "for d in trainingSetYes:\n",
    "    for t in d[1].lower().split():\n",
    "        tokensYes[t] += 1\n",
    "    \n",
    "for d in trainingSetNo:\n",
    "    for t in d[1].lower().split():\n",
    "        tokensNo[t] += 1"
   ]
  },
  {
   "cell_type": "code",
   "execution_count": 57,
   "metadata": {},
   "outputs": [
    {
     "data": {
      "text/plain": [
       "(defaultdict(int, {'chinese': 5, 'bejing': 1, 'shanghai': 1, 'macao': 1}),\n",
       " defaultdict(int, {'tokyo': 1, 'japan': 1, 'chinese': 1}))"
      ]
     },
     "execution_count": 57,
     "metadata": {},
     "output_type": "execute_result"
    }
   ],
   "source": [
    "tokensYes, tokensNo"
   ]
  },
  {
   "cell_type": "code",
   "execution_count": 58,
   "metadata": {},
   "outputs": [
    {
     "data": {
      "text/plain": [
       "['macao', 'chinese', 'japan', 'bejing', 'tokyo', 'shanghai']"
      ]
     },
     "execution_count": 58,
     "metadata": {},
     "output_type": "execute_result"
    }
   ],
   "source": [
    "vocaburary = list(set(list(tokensYes.keys()) + list(tokensNo.keys())))\n",
    "vocaburary"
   ]
  },
  {
   "cell_type": "code",
   "execution_count": 59,
   "metadata": {},
   "outputs": [
    {
     "data": {
      "text/plain": [
       "(8, 3)"
      ]
     },
     "execution_count": 59,
     "metadata": {},
     "output_type": "execute_result"
    }
   ],
   "source": [
    "sumYes = sum(tokensYes.values())    # count_tokens_Yes\n",
    "sumNo = sum(tokensNo.values())    # count_tokens_No\n",
    "sumYes, sumNo"
   ]
  },
  {
   "cell_type": "code",
   "execution_count": 62,
   "metadata": {},
   "outputs": [
    {
     "name": "stdout",
     "output_type": "stream",
     "text": [
      "macao\n",
      "Yes, -1.9459101490553135 = 1 + 1  / 8 + 6\n",
      "No, -2.1972245773362196 = 0 + 1  / 3 + 6\n",
      "chinese\n",
      "Yes, -0.8472978603872037 = 5 + 1  / 8 + 6\n",
      "No, -1.5040773967762742 = 1 + 1  / 3 + 6\n",
      "japan\n",
      "Yes, -2.639057329615259 = 0 + 1  / 8 + 6\n",
      "No, -1.5040773967762742 = 1 + 1  / 3 + 6\n",
      "bejing\n",
      "Yes, -1.9459101490553135 = 1 + 1  / 8 + 6\n",
      "No, -2.1972245773362196 = 0 + 1  / 3 + 6\n",
      "tokyo\n",
      "Yes, -2.639057329615259 = 0 + 1  / 8 + 6\n",
      "No, -1.5040773967762742 = 1 + 1  / 3 + 6\n",
      "shanghai\n",
      "Yes, -1.9459101490553135 = 1 + 1  / 8 + 6\n",
      "No, -2.1972245773362196 = 0 + 1  / 3 + 6\n"
     ]
    }
   ],
   "source": [
    "from math import log\n",
    "\n",
    "cpYes = defaultdict(float)\n",
    "cpNo = defaultdict(float)\n",
    "\n",
    "B = len(vocaburary)\n",
    "K = 0.5\n",
    "\n",
    "for t in vocaburary:\n",
    "    cpYes[t] = log((tokensYes[t] + 1) / (sumYes + B))\n",
    "    cpNo[t] = log((tokensNo[t] + 1) / (sumNo + B))\n",
    "#     cpYes[t] = log((tokensYes[t] + K) / (sumYes + K*2))    # 라플라스 스무딩\n",
    "#     cpNo[t] = log((tokensNo[t] + K) / (sumNo + K*2))\n",
    "    print(t)\n",
    "    print(\"Yes, {0} = {1} + 1  / {2} + {3}\".format(cpYes[t], tokensYes[t], sumYes, B))\n",
    "    print(\"No, {0} = {1} + 1  / {2} + {3}\".format(cpNo[t], tokensNo[t], sumNo, B))"
   ]
  },
  {
   "cell_type": "code",
   "execution_count": 64,
   "metadata": {},
   "outputs": [
    {
     "name": "stdout",
     "output_type": "stream",
     "text": [
      "0.00030121377997263 0.00013548070246744215\n",
      "Yes\n"
     ]
    }
   ],
   "source": [
    "from math import exp\n",
    "\n",
    "for d in testSet:\n",
    "    scoreYes = log(priorYes)\n",
    "    scoreNo = log(priorNo)\n",
    "\n",
    "    for t in d[1].lower().split():\n",
    "        scoreYes += cpYes[t]\n",
    "        scoreNo += cpNo[t]\n",
    "        \n",
    "    print(exp(scoreYes), exp(scoreNo))\n",
    "    if scoreYes > scoreNo:\n",
    "        print(\"Yes\")\n",
    "    else:\n",
    "        print(\"No\")"
   ]
  },
  {
   "cell_type": "code",
   "execution_count": null,
   "metadata": {},
   "outputs": [],
   "source": []
  }
 ],
 "metadata": {
  "kernelspec": {
   "display_name": "Python 3",
   "language": "python",
   "name": "python3"
  },
  "language_info": {
   "codemirror_mode": {
    "name": "ipython",
    "version": 3
   },
   "file_extension": ".py",
   "mimetype": "text/x-python",
   "name": "python",
   "nbconvert_exporter": "python",
   "pygments_lexer": "ipython3",
   "version": "3.7.1"
  },
  "toc": {
   "base_numbering": 1,
   "nav_menu": {},
   "number_sections": false,
   "sideBar": true,
   "skip_h1_title": false,
   "title_cell": "Table of Contents",
   "title_sidebar": "Contents",
   "toc_cell": true,
   "toc_position": {},
   "toc_section_display": true,
   "toc_window_display": false
  }
 },
 "nbformat": 4,
 "nbformat_minor": 2
}
