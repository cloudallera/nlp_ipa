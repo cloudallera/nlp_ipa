{
 "cells": [
  {
   "cell_type": "markdown",
   "metadata": {
    "toc": true
   },
   "source": [
    "<h1>Table of Contents<span class=\"tocSkip\"></span></h1>\n",
    "<div class=\"toc\"><ul class=\"toc-item\"></ul></div>"
   ]
  },
  {
   "cell_type": "code",
   "execution_count": 1,
   "metadata": {},
   "outputs": [],
   "source": [
    "from functions.ppomppu import Ppomppu"
   ]
  },
  {
   "cell_type": "code",
   "execution_count": 2,
   "metadata": {},
   "outputs": [],
   "source": [
    "ppomppu = Ppomppu()"
   ]
  },
  {
   "cell_type": "code",
   "execution_count": 3,
   "metadata": {},
   "outputs": [
    {
     "data": {
      "text/plain": [
       "['[G마켓] 크록스 크록밴드3 슬라이드(19,900/무료)',\n",
       " '[위메프] 비비고 사골곰탕 500g X 16개 (13,333원/무료)',\n",
       " '[옥션] 휴안청 KF94 황사마스크 화이트/블랙 45개 (17,800원/무료) 스마일클럽 최대 11,670원',\n",
       " '[옥션] 아디다스 알파바운스 슬리퍼 쿠폰가 30,690 (36,230/무료)',\n",
       " '[옥션] 서울 멸균우유 1000ml X 10팩  (17,900원/무료) 쿠폰적용시 16,110원',\n",
       " '[하이마트몰] 더함 49형 C492UHD UHD TV ISP HDR (124cm) (360,000/무료) 혜택가 324,800원',\n",
       " '[G마켓] 만세보령 삼광미 GOLD 10kg*2포 (총20kg)  (51,900원/무료) NH/BC/현대/KB/신한 카드 48,270원',\n",
       " '[G마켓] 신세계푸드 올반 찰핫도그 80g*20봉(15,640원/무료) 매일 상하목장 유기농 우유 200ml*24팩(16,920원/무료)',\n",
       " '(지마켓) 샤프 공기청정기 / KC-J60K(359,000)',\n",
       " '[옥션] 목우촌 국내산 돼지고기 목살 500g(5,600/무료)',\n",
       " '[옥션] 아디다스 울트라부스트 ltd BB4077/BY1795 (76,240/무료)',\n",
       " '[티몬] 1212타임 애경 리큐/스파크/울샴푸/트리오/순샘/홈즈 44종 (모든 옵션 7,900원 / 무료배송)',\n",
       " '[11번가] 도브/클리어/트레제메 대용량 X 3 + 여행용세트+ CGV예매권(11,930/무료)',\n",
       " '[G마켓] 아몬드브리즈 190ml x 48 팩 (24,900/무료배송)',\n",
       " '[옥션] Cozzine FC159 휴대용 구강세정기 (29,900/무료) -> 스마일클럽 쿠폰시(26,900)',\n",
       " '[VIBE앱] 뮤직앱 VIBE 3개월무료 (0/네이버뮤직앱과 연동가능)',\n",
       " '[G마켓] 아디다스 키즈 스위치2 (19,500 / 2500)']"
      ]
     },
     "execution_count": 3,
     "metadata": {},
     "output_type": "execute_result"
    }
   ],
   "source": [
    "ppomppu.getTitle()"
   ]
  },
  {
   "cell_type": "code",
   "execution_count": 4,
   "metadata": {},
   "outputs": [
    {
     "data": {
      "text/plain": [
       "['http://www.ppomppu.co.kr/zboard/view.php?id=ppomppu&page=1&divpage=54&no=311518',\n",
       " 'http://www.ppomppu.co.kr/zboard/view.php?id=ppomppu&page=1&divpage=54&no=311517',\n",
       " 'http://www.ppomppu.co.kr/zboard/view.php?id=ppomppu&page=1&divpage=54&no=311516',\n",
       " 'http://www.ppomppu.co.kr/zboard/view.php?id=ppomppu&page=1&divpage=54&no=311515',\n",
       " 'http://www.ppomppu.co.kr/zboard/view.php?id=ppomppu&page=1&divpage=54&no=311514',\n",
       " 'http://www.ppomppu.co.kr/zboard/view.php?id=ppomppu&page=1&divpage=54&no=311513',\n",
       " 'http://www.ppomppu.co.kr/zboard/view.php?id=ppomppu&page=1&divpage=54&no=311512',\n",
       " 'http://www.ppomppu.co.kr/zboard/view.php?id=ppomppu&page=1&divpage=54&no=311511',\n",
       " 'http://www.ppomppu.co.kr/zboard/view.php?id=ppomppu&page=1&divpage=54&no=311509',\n",
       " 'http://www.ppomppu.co.kr/zboard/view.php?id=ppomppu&page=1&divpage=54&no=311507',\n",
       " 'http://www.ppomppu.co.kr/zboard/view.php?id=ppomppu&page=1&divpage=54&no=311506',\n",
       " 'http://www.ppomppu.co.kr/zboard/view.php?id=ppomppu&page=1&divpage=54&no=311505',\n",
       " 'http://www.ppomppu.co.kr/zboard/view.php?id=ppomppu&page=1&divpage=54&no=311503',\n",
       " 'http://www.ppomppu.co.kr/zboard/view.php?id=ppomppu&page=1&divpage=54&no=311501',\n",
       " 'http://www.ppomppu.co.kr/zboard/view.php?id=ppomppu&page=1&divpage=54&no=311500',\n",
       " 'http://www.ppomppu.co.kr/zboard/view.php?id=ppomppu&page=1&divpage=54&no=311499',\n",
       " 'http://www.ppomppu.co.kr/zboard/view.php?id=ppomppu&page=1&divpage=54&no=311497']"
      ]
     },
     "execution_count": 4,
     "metadata": {},
     "output_type": "execute_result"
    }
   ],
   "source": [
    "ppomppu.getLink()"
   ]
  },
  {
   "cell_type": "code",
   "execution_count": 5,
   "metadata": {
    "scrolled": true
   },
   "outputs": [
    {
     "data": {
      "text/plain": [
       "['http://cdn.ppomppu.co.kr/zboard/data/_thumb/ppomppu/8/small_311518.jpg?t=20190313031403',\n",
       " 'http://cdn.ppomppu.co.kr/zboard/data/_thumb/ppomppu/7/small_311517.jpg?t=20190313023959',\n",
       " 'http://cdn.ppomppu.co.kr/zboard/data/_thumb/ppomppu/6/small_311516.jpg?t=20190313025257',\n",
       " 'http://static.ppomppu.co.kr/www/img/noimage/noimage_60x50.jpg',\n",
       " 'http://cdn.ppomppu.co.kr/zboard/data/_thumb/ppomppu/4/small_311514.jpg?t=20190313012805',\n",
       " 'http://cdn.ppomppu.co.kr/zboard/data/_thumb/ppomppu/3/small_311513.jpg?t=20190313021146',\n",
       " 'http://cdn.ppomppu.co.kr/zboard/data/_thumb/ppomppu/2/small_311512.jpg?t=20190313010708',\n",
       " 'http://cdn.ppomppu.co.kr/zboard/data/_thumb/ppomppu/1/small_311511.jpg?t=20190313005514',\n",
       " 'http://cdn.ppomppu.co.kr/zboard/data/_thumb/ppomppu/9/small_311509.jpg?t=20190313004310',\n",
       " 'http://cdn.ppomppu.co.kr/zboard/data/_thumb/ppomppu/8/small_311508.jpg?t=20190313022329',\n",
       " 'http://cdn.ppomppu.co.kr/zboard/data/_thumb/ppomppu/7/small_311507.jpg?t=20190313003325',\n",
       " 'http://cdn.ppomppu.co.kr/zboard/data/_thumb/ppomppu/6/small_311506.jpg?t=20190313004016',\n",
       " 'http://cdn.ppomppu.co.kr/zboard/data/_thumb/ppomppu/5/small_311505.jpg?t=20190313001417',\n",
       " 'http://cdn.ppomppu.co.kr/zboard/data/_thumb/ppomppu/3/small_311503.jpg?t=20190313003022',\n",
       " 'http://cdn.ppomppu.co.kr/zboard/data/_thumb/ppomppu/2/small_311502.jpg?t=20190312233855',\n",
       " 'http://cdn.ppomppu.co.kr/zboard/data/_thumb/ppomppu/1/small_311501.jpg?t=20190312232649',\n",
       " 'http://cdn.ppomppu.co.kr/zboard/data/_thumb/ppomppu/0/small_311500.jpg?t=20190312232803',\n",
       " 'http://cdn.ppomppu.co.kr/zboard/data/_thumb/ppomppu/9/small_311499.jpg?t=20190312232257',\n",
       " 'http://cdn.ppomppu.co.kr/zboard/data/_thumb/ppomppu/8/small_311498.jpg?t=20190313022105',\n",
       " 'http://cdn.ppomppu.co.kr/zboard/data/_thumb/ppomppu/7/small_311497.jpg?t=20190313005255']"
      ]
     },
     "execution_count": 5,
     "metadata": {},
     "output_type": "execute_result"
    }
   ],
   "source": [
    "ppomppu.getImageSource()"
   ]
  },
  {
   "cell_type": "code",
   "execution_count": 6,
   "metadata": {},
   "outputs": [],
   "source": [
    "file = ppomppu.downloadImage()"
   ]
  },
  {
   "cell_type": "code",
   "execution_count": 7,
   "metadata": {},
   "outputs": [
    {
     "data": {
      "text/plain": [
       "['images/ppompu/2019-03-13_03-33/small_311518.jpg',\n",
       " 'images/ppompu/2019-03-13_03-33/small_311517.jpg',\n",
       " 'images/ppompu/2019-03-13_03-33/small_311516.jpg',\n",
       " 'images/ppompu/2019-03-13_03-33/noimage_60x50.jpg',\n",
       " 'images/ppompu/2019-03-13_03-33/small_311514.jpg',\n",
       " 'images/ppompu/2019-03-13_03-33/small_311513.jpg',\n",
       " 'images/ppompu/2019-03-13_03-33/small_311512.jpg',\n",
       " 'images/ppompu/2019-03-13_03-33/small_311511.jpg',\n",
       " 'images/ppompu/2019-03-13_03-33/small_311509.jpg',\n",
       " 'images/ppompu/2019-03-13_03-33/small_311508.jpg',\n",
       " 'images/ppompu/2019-03-13_03-33/small_311507.jpg',\n",
       " 'images/ppompu/2019-03-13_03-33/small_311506.jpg',\n",
       " 'images/ppompu/2019-03-13_03-33/small_311505.jpg',\n",
       " 'images/ppompu/2019-03-13_03-33/small_311503.jpg',\n",
       " 'images/ppompu/2019-03-13_03-33/small_311502.jpg',\n",
       " 'images/ppompu/2019-03-13_03-33/small_311501.jpg',\n",
       " 'images/ppompu/2019-03-13_03-33/small_311500.jpg',\n",
       " 'images/ppompu/2019-03-13_03-33/small_311499.jpg',\n",
       " 'images/ppompu/2019-03-13_03-33/small_311498.jpg',\n",
       " 'images/ppompu/2019-03-13_03-33/small_311497.jpg']"
      ]
     },
     "execution_count": 7,
     "metadata": {},
     "output_type": "execute_result"
    }
   ],
   "source": [
    "file"
   ]
  },
  {
   "cell_type": "code",
   "execution_count": null,
   "metadata": {},
   "outputs": [],
   "source": []
  }
 ],
 "metadata": {
  "kernelspec": {
   "display_name": "Python 3",
   "language": "python",
   "name": "python3"
  },
  "language_info": {
   "codemirror_mode": {
    "name": "ipython",
    "version": 3
   },
   "file_extension": ".py",
   "mimetype": "text/x-python",
   "name": "python",
   "nbconvert_exporter": "python",
   "pygments_lexer": "ipython3",
   "version": "3.6.7"
  },
  "toc": {
   "base_numbering": 1,
   "nav_menu": {},
   "number_sections": false,
   "sideBar": true,
   "skip_h1_title": false,
   "title_cell": "Table of Contents",
   "title_sidebar": "Contents",
   "toc_cell": true,
   "toc_position": {},
   "toc_section_display": true,
   "toc_window_display": false
  }
 },
 "nbformat": 4,
 "nbformat_minor": 2
}
