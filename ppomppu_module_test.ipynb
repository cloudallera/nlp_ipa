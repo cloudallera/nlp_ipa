{
 "cells": [
  {
   "cell_type": "markdown",
   "metadata": {
    "toc": true
   },
   "source": [
    "<h1>Table of Contents<span class=\"tocSkip\"></span></h1>\n",
    "<div class=\"toc\"><ul class=\"toc-item\"><li><span><a href=\"#뽐뿌게시판-scraping\" data-toc-modified-id=\"뽐뿌게시판-scraping-1\">뽐뿌게시판 scraping</a></span></li></ul></div>"
   ]
  },
  {
   "cell_type": "markdown",
   "metadata": {},
   "source": [
    "## 뽐뿌게시판 scraping"
   ]
  },
  {
   "cell_type": "markdown",
   "metadata": {},
   "source": [
    "- http://www.ppomppu.co.kr/zboard/zboard.php?id=ppomppu\n",
    "- functions.ppomppu.py 모듈의 뽐뿌게시판 scraping 관련 함수를 테스트 합니다."
   ]
  },
  {
   "cell_type": "code",
   "execution_count": 1,
   "metadata": {},
   "outputs": [],
   "source": [
    "from functions.ppomppu import Ppomppu"
   ]
  },
  {
   "cell_type": "code",
   "execution_count": 2,
   "metadata": {},
   "outputs": [],
   "source": [
    "# Ppomppu 객체\n",
    "# 숫자로 카테고리를 지정 가능(지정하지 않으면 전체 검색)\n",
    "# 1:기타, 4~6:컴퓨터/디니털/먹거리, 8~13:서적/가전가구/육아/카메라/의류잡화/화장품, 15:등산캠핑\n",
    "ppomppu = Ppomppu()\n",
    "# ppomppu.Ppomppu(4)"
   ]
  },
  {
   "cell_type": "code",
   "execution_count": 3,
   "metadata": {},
   "outputs": [],
   "source": [
    "bs = ppomppu.bs   # BeautifulSoup 객체"
   ]
  },
  {
   "cell_type": "code",
   "execution_count": 4,
   "metadata": {
    "scrolled": true
   },
   "outputs": [
    {
     "data": {
      "text/plain": [
       "['311539',\n",
       " '311538',\n",
       " '311537',\n",
       " '311536',\n",
       " '311535',\n",
       " '311534',\n",
       " '311533',\n",
       " '311532',\n",
       " '311530',\n",
       " '311529',\n",
       " '311527',\n",
       " '311526',\n",
       " '311525',\n",
       " '311524',\n",
       " '311522',\n",
       " '311521',\n",
       " '311520',\n",
       " '311519',\n",
       " '311518',\n",
       " '311517']"
      ]
     },
     "execution_count": 4,
     "metadata": {},
     "output_type": "execute_result"
    }
   ],
   "source": [
    "# 번호\n",
    "ppomppu.getNumbers()"
   ]
  },
  {
   "cell_type": "code",
   "execution_count": 5,
   "metadata": {},
   "outputs": [
    {
     "data": {
      "text/plain": [
       "['먹을거리',\n",
       " '기타',\n",
       " '디지털',\n",
       " '컴퓨터',\n",
       " '디지털',\n",
       " '먹을거리',\n",
       " '먹을거리',\n",
       " '디지털',\n",
       " '의류/잡화',\n",
       " '가전/가구',\n",
       " '등산/캠핑',\n",
       " '먹을거리',\n",
       " '먹을거리',\n",
       " '디지털',\n",
       " '기타',\n",
       " '먹을거리',\n",
       " '육아',\n",
       " '의류/잡화',\n",
       " '의류/잡화',\n",
       " '먹을거리']"
      ]
     },
     "execution_count": 5,
     "metadata": {},
     "output_type": "execute_result"
    }
   ],
   "source": [
    "# 분류\n",
    "ppomppu.getCategorys()"
   ]
  },
  {
   "cell_type": "code",
   "execution_count": 6,
   "metadata": {},
   "outputs": [
    {
     "data": {
      "text/plain": [
       "['MINHOMINO',\n",
       " '웃쟈',\n",
       " '올돌골',\n",
       " 'eden1055',\n",
       " '감나라잠나라',\n",
       " '환경살쩌',\n",
       " '루어루어',\n",
       " '맛있으면0칼로리',\n",
       " '종로스타일',\n",
       " '고택골쾌남',\n",
       " 'Mrbears',\n",
       " '아여니93',\n",
       " '사신이다',\n",
       " '일데',\n",
       " '비타민원츄',\n",
       " '떡과2엿',\n",
       " '2011화려한인생',\n",
       " '그린티라미수',\n",
       " 'Arthur랭보',\n",
       " '고기고기가먹고싶다']"
      ]
     },
     "execution_count": 6,
     "metadata": {},
     "output_type": "execute_result"
    }
   ],
   "source": [
    "# 글쓴이\n",
    "ppomppu.getWriters()"
   ]
  },
  {
   "cell_type": "code",
   "execution_count": 7,
   "metadata": {
    "scrolled": true
   },
   "outputs": [
    {
     "data": {
      "text/plain": [
       "['[기프티쇼앱] 이디야 커피+치즈스틱 kt멤버십 20% 차감할인 (4,000 / 무료)',\n",
       " '끌올 [지마켓,옥션] 신세계,이마트 등 12개 브랜드 통합상품권 10만원권 (-4.5%) 이체딜 (95,500 / 무료)',\n",
       " '[위메프] 테란드론(TR-mini1) 입문용 (27,333/무료배송)',\n",
       " '[SSG몰] 커세어 h100i platinum se (180,057/2500)',\n",
       " '[람쏘] 핸드폰 고속무선충전기 (5900/2500) 파우치 증정',\n",
       " '[옥션] 머거본 쇠고기육포 25g*8봉 (7,900원/3,000원) 스마일클럽 무료배송',\n",
       " '[옥션] 머거본 허니버터 아몬드 200g*3개  (6,500원/3,000원)  스마일클럽 무료배송 외 머거본 제품 다양',\n",
       " '[유플레이]유비소프트 봄할인 (다양/무료)',\n",
       " '[공영쇼핑] 라이크라모달 드로즈 18종 세트 (15,000/무료)  빤스 18종 쌉니다.',\n",
       " '[G마켓]아이룸 무선청소기 D10 BLDC디지털모터 진공청소기 (159,000/무배)',\n",
       " '[옥션]레드페이스 콘트라 카이 PFS 워킹화 RESGLCX16100 (47,730원/무배)',\n",
       " '[티몬] [1212타임] 동원샘물 2L x 18입 (7900/무배)',\n",
       " '[티몬] 오레오 화이트크림/초코 600g x 2 (9,900 / 0)',\n",
       " '[Qubee] Qcy-t1c (21600 / 무료)',\n",
       " '[티몬] 코코도르 NEW 디퓨저 200ml+리드스틱+프리미엄캔들+쇼핑백 (6,900원/무료)',\n",
       " '[티몬] 카카오랏200ml *24개 (6,280/무배)',\n",
       " '[옥션] 팸퍼스 팬티/밴드 기저귀 4팩(41,900원/ 무료)',\n",
       " '[G마켓] 크록스 크록밴드3 슬라이드(19,900/무료)',\n",
       " '[위메프] 비비고 사골곰탕 500g X 16개 (13,333원/무료)']"
      ]
     },
     "execution_count": 7,
     "metadata": {},
     "output_type": "execute_result"
    }
   ],
   "source": [
    "# 게시글 제목\n",
    "ppomppu.getTitles()"
   ]
  },
  {
   "cell_type": "code",
   "execution_count": 8,
   "metadata": {},
   "outputs": [
    {
     "data": {
      "text/plain": [
       "['http://www.ppomppu.co.kr/zboard/view.php?id=ppomppu&page=1&divpage=54&no=311539',\n",
       " 'http://www.ppomppu.co.kr/zboard/view.php?id=ppomppu&page=1&divpage=54&no=311538',\n",
       " 'http://www.ppomppu.co.kr/zboard/view.php?id=ppomppu&page=1&divpage=54&no=311537',\n",
       " 'http://www.ppomppu.co.kr/zboard/view.php?id=ppomppu&page=1&divpage=54&no=311536',\n",
       " 'http://www.ppomppu.co.kr/zboard/view.php?id=ppomppu&page=1&divpage=54&no=311535',\n",
       " 'http://www.ppomppu.co.kr/zboard/view.php?id=ppomppu&page=1&divpage=54&no=311534',\n",
       " 'http://www.ppomppu.co.kr/zboard/view.php?id=ppomppu&page=1&divpage=54&no=311533',\n",
       " 'http://www.ppomppu.co.kr/zboard/view.php?id=ppomppu&page=1&divpage=54&no=311532',\n",
       " 'http://www.ppomppu.co.kr/zboard/view.php?id=ppomppu&page=1&divpage=54&no=311530',\n",
       " 'http://www.ppomppu.co.kr/zboard/view.php?id=ppomppu&page=1&divpage=54&no=311529',\n",
       " 'http://www.ppomppu.co.kr/zboard/view.php?id=ppomppu&page=1&divpage=54&no=311527',\n",
       " 'http://www.ppomppu.co.kr/zboard/view.php?id=ppomppu&page=1&divpage=54&no=311526',\n",
       " 'http://www.ppomppu.co.kr/zboard/view.php?id=ppomppu&page=1&divpage=54&no=311525',\n",
       " 'http://www.ppomppu.co.kr/zboard/view.php?id=ppomppu&page=1&divpage=54&no=311524',\n",
       " 'http://www.ppomppu.co.kr/zboard/view.php?id=ppomppu&page=1&divpage=54&no=311522',\n",
       " 'http://www.ppomppu.co.kr/zboard/view.php?id=ppomppu&page=1&divpage=54&no=311521',\n",
       " 'http://www.ppomppu.co.kr/zboard/view.php?id=ppomppu&page=1&divpage=54&no=311520',\n",
       " 'http://www.ppomppu.co.kr/zboard/view.php?id=ppomppu&page=1&divpage=54&no=311518',\n",
       " 'http://www.ppomppu.co.kr/zboard/view.php?id=ppomppu&page=1&divpage=54&no=311517']"
      ]
     },
     "execution_count": 8,
     "metadata": {},
     "output_type": "execute_result"
    }
   ],
   "source": [
    "# 게시글 본문 링크\n",
    "ppomppu.getLinks()"
   ]
  },
  {
   "cell_type": "code",
   "execution_count": 9,
   "metadata": {
    "scrolled": true
   },
   "outputs": [
    {
     "data": {
      "text/plain": [
       "['http://cdn.ppomppu.co.kr/zboard/data/_thumb/ppomppu/9/small_311539.jpg?t=20190313104714',\n",
       " 'http://cdn.ppomppu.co.kr/zboard/data/_thumb/ppomppu/8/small_311538.jpg?t=20190313104326',\n",
       " 'http://cdn.ppomppu.co.kr/zboard/data/_thumb/ppomppu/7/small_311537.jpg?t=20190313103308',\n",
       " 'http://cdn.ppomppu.co.kr/zboard/data/_thumb/ppomppu/6/small_311536.jpg?t=20190313103459',\n",
       " 'http://cdn.ppomppu.co.kr/zboard/data/_thumb/ppomppu/5/small_311535.jpg?t=20190313102705',\n",
       " 'http://cdn.ppomppu.co.kr/zboard/data/_thumb/ppomppu/4/small_311534.jpg?t=20190313100915',\n",
       " 'http://cdn.ppomppu.co.kr/zboard/data/_thumb/ppomppu/3/small_311533.jpg?t=20190313102135',\n",
       " 'http://cdn.ppomppu.co.kr/zboard/data/_thumb/ppomppu/2/small_311532.jpg?t=20190313100153',\n",
       " 'http://cdn.ppomppu.co.kr/zboard/data/_thumb/ppomppu/0/small_311530.jpg?t=20190313095253',\n",
       " 'http://cdn.ppomppu.co.kr/zboard/data/_thumb/ppomppu/9/small_311529.jpg?t=20190313093926',\n",
       " 'http://cdn.ppomppu.co.kr/zboard/data/_thumb/ppomppu/7/small_311527.jpg?t=20190313092257',\n",
       " 'http://cdn.ppomppu.co.kr/zboard/data/_thumb/ppomppu/6/small_311526.jpg?t=20190313090654',\n",
       " 'http://cdn.ppomppu.co.kr/zboard/data/_thumb/ppomppu/5/small_311525.jpg?t=20190313084353',\n",
       " 'http://cdn.ppomppu.co.kr/zboard/data/_thumb/ppomppu/4/small_311524.jpg?t=20190313075200',\n",
       " 'http://cdn.ppomppu.co.kr/zboard/data/_thumb/ppomppu/2/small_311522.jpg?t=20190313072438',\n",
       " 'http://cdn.ppomppu.co.kr/zboard/data/_thumb/ppomppu/1/small_311521.jpg?t=20190313072208',\n",
       " 'http://cdn.ppomppu.co.kr/zboard/data/_thumb/ppomppu/0/small_311520.jpg?t=20190313065011',\n",
       " 'http://cdn.ppomppu.co.kr/zboard/data/_thumb/ppomppu/9/small_311519.jpg?t=20190313035703',\n",
       " 'http://cdn.ppomppu.co.kr/zboard/data/_thumb/ppomppu/8/small_311518.jpg?t=20190313031403',\n",
       " 'http://cdn.ppomppu.co.kr/zboard/data/_thumb/ppomppu/7/small_311517.jpg?t=20190313023959']"
      ]
     },
     "execution_count": 9,
     "metadata": {},
     "output_type": "execute_result"
    }
   ],
   "source": [
    "# 게시글 이미지(섬네일) 링크\n",
    "ppomppu.getImageLinks()"
   ]
  },
  {
   "cell_type": "code",
   "execution_count": 10,
   "metadata": {},
   "outputs": [
    {
     "data": {
      "text/plain": [
       "['images/ppompu/2019-03-13_10-51/small_311539.jpg',\n",
       " 'images/ppompu/2019-03-13_10-51/small_311538.jpg',\n",
       " 'images/ppompu/2019-03-13_10-51/small_311537.jpg',\n",
       " 'images/ppompu/2019-03-13_10-51/small_311536.jpg',\n",
       " 'images/ppompu/2019-03-13_10-51/small_311535.jpg',\n",
       " 'images/ppompu/2019-03-13_10-51/small_311534.jpg',\n",
       " 'images/ppompu/2019-03-13_10-51/small_311533.jpg',\n",
       " 'images/ppompu/2019-03-13_10-51/small_311532.jpg',\n",
       " 'images/ppompu/2019-03-13_10-51/small_311530.jpg',\n",
       " 'images/ppompu/2019-03-13_10-51/small_311529.jpg',\n",
       " 'images/ppompu/2019-03-13_10-51/small_311527.jpg',\n",
       " 'images/ppompu/2019-03-13_10-51/small_311526.jpg',\n",
       " 'images/ppompu/2019-03-13_10-51/small_311525.jpg',\n",
       " 'images/ppompu/2019-03-13_10-51/small_311524.jpg',\n",
       " 'images/ppompu/2019-03-13_10-51/small_311522.jpg',\n",
       " 'images/ppompu/2019-03-13_10-51/small_311521.jpg',\n",
       " 'images/ppompu/2019-03-13_10-51/small_311520.jpg',\n",
       " 'images/ppompu/2019-03-13_10-51/small_311519.jpg',\n",
       " 'images/ppompu/2019-03-13_10-51/small_311518.jpg',\n",
       " 'images/ppompu/2019-03-13_10-51/small_311517.jpg']"
      ]
     },
     "execution_count": 10,
     "metadata": {},
     "output_type": "execute_result"
    }
   ],
   "source": [
    "# 게시글 이미지(섬네일) 파일 다운로드 후 저장된 파일 리스트 반환\n",
    "ppomppu.getImages()"
   ]
  },
  {
   "cell_type": "code",
   "execution_count": 11,
   "metadata": {},
   "outputs": [
    {
     "data": {
      "text/plain": [
       "[0, 8, 4, 5, 5, 23, 38, 7, 9, 12, 22, 6, 35, 55, 28, 22, 19, 84, 8]"
      ]
     },
     "execution_count": 11,
     "metadata": {},
     "output_type": "execute_result"
    }
   ],
   "source": [
    "# 댓글 수\n",
    "ppomppu.getReplyCounts()"
   ]
  },
  {
   "cell_type": "code",
   "execution_count": 12,
   "metadata": {},
   "outputs": [
    {
     "data": {
      "text/plain": [
       "['13.10.24 13:24:54',\n",
       " '19.03.13 10:51:07',\n",
       " '19.03.13 10:39:42',\n",
       " '19.03.13 10:37:01',\n",
       " '19.03.13 10:35:30',\n",
       " '19.03.13 10:30:00',\n",
       " '19.03.13 10:10:40',\n",
       " '19.03.13 10:09:14',\n",
       " '19.03.13 10:05:45',\n",
       " '19.03.13 09:56:45',\n",
       " '19.03.13 09:43:18',\n",
       " '19.03.13 09:25:23',\n",
       " '19.03.13 09:10:46',\n",
       " '19.03.13 08:47:46',\n",
       " '19.03.13 07:55:52',\n",
       " '19.03.13 07:28:31',\n",
       " '19.03.13 07:20:55',\n",
       " '19.03.13 06:54:04',\n",
       " '19.03.13 03:56:31',\n",
       " '19.03.13 02:58:08',\n",
       " '19.03.13 02:31:25']"
      ]
     },
     "execution_count": 12,
     "metadata": {},
     "output_type": "execute_result"
    }
   ],
   "source": [
    "# 게시글 등록일\n",
    "ppomppu.getWriteDates()"
   ]
  },
  {
   "cell_type": "code",
   "execution_count": 13,
   "metadata": {},
   "outputs": [
    {
     "data": {
      "text/plain": [
       "[0, 0, 0, 0, 0, 10, 31, 0, 4, 0, 2, 5, 17, 5, 4, 5, 22, 3, 32, 1]"
      ]
     },
     "execution_count": 13,
     "metadata": {},
     "output_type": "execute_result"
    }
   ],
   "source": [
    "# 게시글 추천수\n",
    "ppomppu.getLikeCounts()"
   ]
  },
  {
   "cell_type": "code",
   "execution_count": 14,
   "metadata": {},
   "outputs": [
    {
     "data": {
      "text/plain": [
       "[3,\n",
       " 747,\n",
       " 951,\n",
       " 928,\n",
       " 1457,\n",
       " 1540,\n",
       " 2660,\n",
       " 2582,\n",
       " 2156,\n",
       " 1410,\n",
       " 3357,\n",
       " 1343,\n",
       " 4331,\n",
       " 15533,\n",
       " 4167,\n",
       " 5063,\n",
       " 2553,\n",
       " 12197,\n",
       " 23270,\n",
       " 2658]"
      ]
     },
     "execution_count": 14,
     "metadata": {},
     "output_type": "execute_result"
    }
   ],
   "source": [
    "# 게시글 조회수\n",
    "ppomppu.getQueryCounts()"
   ]
  },
  {
   "cell_type": "code",
   "execution_count": 15,
   "metadata": {},
   "outputs": [],
   "source": [
    "# 게시글 본문\n",
    "ppomppu.getContentBodys()"
   ]
  },
  {
   "cell_type": "code",
   "execution_count": 16,
   "metadata": {},
   "outputs": [],
   "source": [
    "# 게시글 코멘트\n",
    "ppomppu.getComments()"
   ]
  },
  {
   "cell_type": "code",
   "execution_count": 31,
   "metadata": {},
   "outputs": [
    {
     "data": {
      "text/plain": [
       "[['311539',\n",
       "  '311538',\n",
       "  '311537',\n",
       "  '311536',\n",
       "  '311535',\n",
       "  '311534',\n",
       "  '311533',\n",
       "  '311532',\n",
       "  '311530',\n",
       "  '311529',\n",
       "  '311527',\n",
       "  '311526',\n",
       "  '311525',\n",
       "  '311524',\n",
       "  '311522',\n",
       "  '311521',\n",
       "  '311520',\n",
       "  '311519',\n",
       "  '311518',\n",
       "  '311517'],\n",
       " ['먹을거리',\n",
       "  '기타',\n",
       "  '디지털',\n",
       "  '컴퓨터',\n",
       "  '디지털',\n",
       "  '먹을거리',\n",
       "  '먹을거리',\n",
       "  '디지털',\n",
       "  '의류/잡화',\n",
       "  '가전/가구',\n",
       "  '등산/캠핑',\n",
       "  '먹을거리',\n",
       "  '먹을거리',\n",
       "  '디지털',\n",
       "  '기타',\n",
       "  '먹을거리',\n",
       "  '육아',\n",
       "  '의류/잡화',\n",
       "  '의류/잡화',\n",
       "  '먹을거리'],\n",
       " ['MINHOMINO',\n",
       "  '웃쟈',\n",
       "  '올돌골',\n",
       "  'eden1055',\n",
       "  '감나라잠나라',\n",
       "  '환경살쩌',\n",
       "  '루어루어',\n",
       "  '맛있으면0칼로리',\n",
       "  '종로스타일',\n",
       "  '고택골쾌남',\n",
       "  'Mrbears',\n",
       "  '아여니93',\n",
       "  '사신이다',\n",
       "  '일데',\n",
       "  '비타민원츄',\n",
       "  '떡과2엿',\n",
       "  '2011화려한인생',\n",
       "  '그린티라미수',\n",
       "  'Arthur랭보',\n",
       "  '고기고기가먹고싶다'],\n",
       " ['[기프티쇼앱] 이디야 커피+치즈스틱 kt멤버십 20% 차감할인 (4,000 / 무료)',\n",
       "  '끌올 [지마켓,옥션] 신세계,이마트 등 12개 브랜드 통합상품권 10만원권 (-4.5%) 이체딜 (95,500 / 무료)',\n",
       "  '[위메프] 테란드론(TR-mini1) 입문용 (27,333/무료배송)',\n",
       "  '[SSG몰] 커세어 h100i platinum se (180,057/2500)',\n",
       "  '[람쏘] 핸드폰 고속무선충전기 (5900/2500) 파우치 증정',\n",
       "  '[옥션] 머거본 쇠고기육포 25g*8봉 (7,900원/3,000원) 스마일클럽 무료배송',\n",
       "  '[옥션] 머거본 허니버터 아몬드 200g*3개  (6,500원/3,000원)  스마일클럽 무료배송 외 머거본 제품 다양',\n",
       "  '[유플레이]유비소프트 봄할인 (다양/무료)',\n",
       "  '[공영쇼핑] 라이크라모달 드로즈 18종 세트 (15,000/무료)  빤스 18종 쌉니다.',\n",
       "  '[G마켓]아이룸 무선청소기 D10 BLDC디지털모터 진공청소기 (159,000/무배)',\n",
       "  '[옥션]레드페이스 콘트라 카이 PFS 워킹화 RESGLCX16100 (47,730원/무배)',\n",
       "  '[티몬] [1212타임] 동원샘물 2L x 18입 (7900/무배)',\n",
       "  '[티몬] 오레오 화이트크림/초코 600g x 2 (9,900 / 0)',\n",
       "  '[Qubee] Qcy-t1c (21600 / 무료)',\n",
       "  '[티몬] 코코도르 NEW 디퓨저 200ml+리드스틱+프리미엄캔들+쇼핑백 (6,900원/무료)',\n",
       "  '[티몬] 카카오랏200ml *24개 (6,280/무배)',\n",
       "  '[옥션] 팸퍼스 팬티/밴드 기저귀 4팩(41,900원/ 무료)',\n",
       "  '[G마켓] 크록스 크록밴드3 슬라이드(19,900/무료)',\n",
       "  '[위메프] 비비고 사골곰탕 500g X 16개 (13,333원/무료)'],\n",
       " ['http://www.ppomppu.co.kr/zboard/view.php?id=ppomppu&page=1&divpage=54&no=311539',\n",
       "  'http://www.ppomppu.co.kr/zboard/view.php?id=ppomppu&page=1&divpage=54&no=311538',\n",
       "  'http://www.ppomppu.co.kr/zboard/view.php?id=ppomppu&page=1&divpage=54&no=311537',\n",
       "  'http://www.ppomppu.co.kr/zboard/view.php?id=ppomppu&page=1&divpage=54&no=311536',\n",
       "  'http://www.ppomppu.co.kr/zboard/view.php?id=ppomppu&page=1&divpage=54&no=311535',\n",
       "  'http://www.ppomppu.co.kr/zboard/view.php?id=ppomppu&page=1&divpage=54&no=311534',\n",
       "  'http://www.ppomppu.co.kr/zboard/view.php?id=ppomppu&page=1&divpage=54&no=311533',\n",
       "  'http://www.ppomppu.co.kr/zboard/view.php?id=ppomppu&page=1&divpage=54&no=311532',\n",
       "  'http://www.ppomppu.co.kr/zboard/view.php?id=ppomppu&page=1&divpage=54&no=311530',\n",
       "  'http://www.ppomppu.co.kr/zboard/view.php?id=ppomppu&page=1&divpage=54&no=311529',\n",
       "  'http://www.ppomppu.co.kr/zboard/view.php?id=ppomppu&page=1&divpage=54&no=311527',\n",
       "  'http://www.ppomppu.co.kr/zboard/view.php?id=ppomppu&page=1&divpage=54&no=311526',\n",
       "  'http://www.ppomppu.co.kr/zboard/view.php?id=ppomppu&page=1&divpage=54&no=311525',\n",
       "  'http://www.ppomppu.co.kr/zboard/view.php?id=ppomppu&page=1&divpage=54&no=311524',\n",
       "  'http://www.ppomppu.co.kr/zboard/view.php?id=ppomppu&page=1&divpage=54&no=311522',\n",
       "  'http://www.ppomppu.co.kr/zboard/view.php?id=ppomppu&page=1&divpage=54&no=311521',\n",
       "  'http://www.ppomppu.co.kr/zboard/view.php?id=ppomppu&page=1&divpage=54&no=311520',\n",
       "  'http://www.ppomppu.co.kr/zboard/view.php?id=ppomppu&page=1&divpage=54&no=311518',\n",
       "  'http://www.ppomppu.co.kr/zboard/view.php?id=ppomppu&page=1&divpage=54&no=311517'],\n",
       " ['http://cdn.ppomppu.co.kr/zboard/data/_thumb/ppomppu/9/small_311539.jpg?t=20190313104714',\n",
       "  'http://cdn.ppomppu.co.kr/zboard/data/_thumb/ppomppu/8/small_311538.jpg?t=20190313104326',\n",
       "  'http://cdn.ppomppu.co.kr/zboard/data/_thumb/ppomppu/7/small_311537.jpg?t=20190313103308',\n",
       "  'http://cdn.ppomppu.co.kr/zboard/data/_thumb/ppomppu/6/small_311536.jpg?t=20190313103459',\n",
       "  'http://cdn.ppomppu.co.kr/zboard/data/_thumb/ppomppu/5/small_311535.jpg?t=20190313102705',\n",
       "  'http://cdn.ppomppu.co.kr/zboard/data/_thumb/ppomppu/4/small_311534.jpg?t=20190313100915',\n",
       "  'http://cdn.ppomppu.co.kr/zboard/data/_thumb/ppomppu/3/small_311533.jpg?t=20190313102135',\n",
       "  'http://cdn.ppomppu.co.kr/zboard/data/_thumb/ppomppu/2/small_311532.jpg?t=20190313100153',\n",
       "  'http://cdn.ppomppu.co.kr/zboard/data/_thumb/ppomppu/0/small_311530.jpg?t=20190313095253',\n",
       "  'http://cdn.ppomppu.co.kr/zboard/data/_thumb/ppomppu/9/small_311529.jpg?t=20190313093926',\n",
       "  'http://cdn.ppomppu.co.kr/zboard/data/_thumb/ppomppu/7/small_311527.jpg?t=20190313092257',\n",
       "  'http://cdn.ppomppu.co.kr/zboard/data/_thumb/ppomppu/6/small_311526.jpg?t=20190313090654',\n",
       "  'http://cdn.ppomppu.co.kr/zboard/data/_thumb/ppomppu/5/small_311525.jpg?t=20190313084353',\n",
       "  'http://cdn.ppomppu.co.kr/zboard/data/_thumb/ppomppu/4/small_311524.jpg?t=20190313075200',\n",
       "  'http://cdn.ppomppu.co.kr/zboard/data/_thumb/ppomppu/2/small_311522.jpg?t=20190313072438',\n",
       "  'http://cdn.ppomppu.co.kr/zboard/data/_thumb/ppomppu/1/small_311521.jpg?t=20190313072208',\n",
       "  'http://cdn.ppomppu.co.kr/zboard/data/_thumb/ppomppu/0/small_311520.jpg?t=20190313065011',\n",
       "  'http://cdn.ppomppu.co.kr/zboard/data/_thumb/ppomppu/9/small_311519.jpg?t=20190313035703',\n",
       "  'http://cdn.ppomppu.co.kr/zboard/data/_thumb/ppomppu/8/small_311518.jpg?t=20190313031403',\n",
       "  'http://cdn.ppomppu.co.kr/zboard/data/_thumb/ppomppu/7/small_311517.jpg?t=20190313023959'],\n",
       " ['images/ppompu/2019-03-13_13-51/small_311539.jpg',\n",
       "  'images/ppompu/2019-03-13_13-51/small_311538.jpg',\n",
       "  'images/ppompu/2019-03-13_13-51/small_311537.jpg',\n",
       "  'images/ppompu/2019-03-13_13-51/small_311536.jpg',\n",
       "  'images/ppompu/2019-03-13_13-51/small_311535.jpg',\n",
       "  'images/ppompu/2019-03-13_13-51/small_311534.jpg',\n",
       "  'images/ppompu/2019-03-13_13-51/small_311533.jpg',\n",
       "  'images/ppompu/2019-03-13_13-51/small_311532.jpg',\n",
       "  'images/ppompu/2019-03-13_13-51/small_311530.jpg',\n",
       "  'images/ppompu/2019-03-13_13-51/small_311529.jpg',\n",
       "  'images/ppompu/2019-03-13_13-51/small_311527.jpg',\n",
       "  'images/ppompu/2019-03-13_13-51/small_311526.jpg',\n",
       "  'images/ppompu/2019-03-13_13-51/small_311525.jpg',\n",
       "  'images/ppompu/2019-03-13_13-51/small_311524.jpg',\n",
       "  'images/ppompu/2019-03-13_13-51/small_311522.jpg',\n",
       "  'images/ppompu/2019-03-13_13-51/small_311521.jpg',\n",
       "  'images/ppompu/2019-03-13_13-51/small_311520.jpg',\n",
       "  'images/ppompu/2019-03-13_13-51/small_311519.jpg',\n",
       "  'images/ppompu/2019-03-13_13-51/small_311518.jpg',\n",
       "  'images/ppompu/2019-03-13_13-51/small_311517.jpg'],\n",
       " [0, 8, 4, 5, 5, 23, 38, 7, 9, 12, 22, 6, 35, 55, 28, 22, 19, 84, 8],\n",
       " ['13.10.24 13:24:54',\n",
       "  '19.03.13 10:51:07',\n",
       "  '19.03.13 10:39:42',\n",
       "  '19.03.13 10:37:01',\n",
       "  '19.03.13 10:35:30',\n",
       "  '19.03.13 10:30:00',\n",
       "  '19.03.13 10:10:40',\n",
       "  '19.03.13 10:09:14',\n",
       "  '19.03.13 10:05:45',\n",
       "  '19.03.13 09:56:45',\n",
       "  '19.03.13 09:43:18',\n",
       "  '19.03.13 09:25:23',\n",
       "  '19.03.13 09:10:46',\n",
       "  '19.03.13 08:47:46',\n",
       "  '19.03.13 07:55:52',\n",
       "  '19.03.13 07:28:31',\n",
       "  '19.03.13 07:20:55',\n",
       "  '19.03.13 06:54:04',\n",
       "  '19.03.13 03:56:31',\n",
       "  '19.03.13 02:58:08',\n",
       "  '19.03.13 02:31:25'],\n",
       " [0, 0, 0, 0, 0, 10, 31, 0, 4, 0, 2, 5, 17, 5, 4, 5, 22, 3, 32, 1],\n",
       " [3,\n",
       "  747,\n",
       "  951,\n",
       "  928,\n",
       "  1457,\n",
       "  1540,\n",
       "  2660,\n",
       "  2582,\n",
       "  2156,\n",
       "  1410,\n",
       "  3357,\n",
       "  1343,\n",
       "  4331,\n",
       "  15533,\n",
       "  4167,\n",
       "  5063,\n",
       "  2553,\n",
       "  12197,\n",
       "  23270,\n",
       "  2658],\n",
       " None,\n",
       " None]"
      ]
     },
     "execution_count": 31,
     "metadata": {},
     "output_type": "execute_result"
    }
   ],
   "source": [
    "# 뽐뿌게시판 전체 리스트\n",
    "bbs = ppomppu.getPpomppuBbs()\n",
    "bbs"
   ]
  },
  {
   "cell_type": "code",
   "execution_count": null,
   "metadata": {},
   "outputs": [],
   "source": []
  }
 ],
 "metadata": {
  "kernelspec": {
   "display_name": "Python 3",
   "language": "python",
   "name": "python3"
  },
  "language_info": {
   "codemirror_mode": {
    "name": "ipython",
    "version": 3
   },
   "file_extension": ".py",
   "mimetype": "text/x-python",
   "name": "python",
   "nbconvert_exporter": "python",
   "pygments_lexer": "ipython3",
   "version": "3.6.7"
  },
  "toc": {
   "base_numbering": 1,
   "nav_menu": {},
   "number_sections": false,
   "sideBar": true,
   "skip_h1_title": false,
   "title_cell": "Table of Contents",
   "title_sidebar": "Contents",
   "toc_cell": true,
   "toc_position": {},
   "toc_section_display": true,
   "toc_window_display": false
  }
 },
 "nbformat": 4,
 "nbformat_minor": 2
}
