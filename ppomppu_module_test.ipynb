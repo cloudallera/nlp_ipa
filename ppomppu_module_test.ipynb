{
 "cells": [
  {
   "cell_type": "markdown",
   "metadata": {
    "toc": true
   },
   "source": [
    "<h1>Table of Contents<span class=\"tocSkip\"></span></h1>\n",
    "<div class=\"toc\"><ul class=\"toc-item\"><li><span><a href=\"#뽐뿌게시판-scraping\" data-toc-modified-id=\"뽐뿌게시판-scraping-1\">뽐뿌게시판 scraping</a></span></li></ul></div>"
   ]
  },
  {
   "cell_type": "markdown",
   "metadata": {},
   "source": [
    "## 뽐뿌게시판 scraping"
   ]
  },
  {
   "cell_type": "markdown",
   "metadata": {},
   "source": [
    "- http://www.ppomppu.co.kr/zboard/zboard.php?id=ppomppu\n",
    "- functions.ppomppu.py 모듈의 뽐뿌게시판 scraping 관련 함수를 테스트 합니다."
   ]
  },
  {
   "cell_type": "code",
   "execution_count": 1,
   "metadata": {},
   "outputs": [],
   "source": [
    "from functions.ppomppu import Ppomppu\n",
    "from functions.download import getDownload\n",
    "from bs4 import BeautifulSoup"
   ]
  },
  {
   "cell_type": "code",
   "execution_count": 2,
   "metadata": {},
   "outputs": [],
   "source": [
    "# Ppomppu 객체\n",
    "# 숫자로 카테고리를 지정 가능(지정하지 않으면 전체 검색)\n",
    "# 1:기타, 4~6:컴퓨터/디니털/먹거리, 8~13:서적/가전가구/육아/카메라/의류잡화/화장품, 15:등산캠핑\n",
    "ppomppu = Ppomppu()\n",
    "# ppomppu.Ppomppu(4)"
   ]
  },
  {
   "cell_type": "code",
   "execution_count": 3,
   "metadata": {},
   "outputs": [],
   "source": [
    "bs = ppomppu.bs   # BeautifulSoup 객체"
   ]
  },
  {
   "cell_type": "code",
   "execution_count": 4,
   "metadata": {
    "scrolled": true
   },
   "outputs": [
    {
     "data": {
      "text/plain": [
       "['311590',\n",
       " '311589',\n",
       " '311588',\n",
       " '311587',\n",
       " '311586',\n",
       " '311585',\n",
       " '311584',\n",
       " '311582',\n",
       " '311581',\n",
       " '311580',\n",
       " '311579',\n",
       " '311578',\n",
       " '311577',\n",
       " '311576',\n",
       " '311574',\n",
       " '311573',\n",
       " '311572',\n",
       " '311571',\n",
       " '311570',\n",
       " '311569']"
      ]
     },
     "execution_count": 4,
     "metadata": {},
     "output_type": "execute_result"
    }
   ],
   "source": [
    "# 번호\n",
    "ppomppu.getNumbers()"
   ]
  },
  {
   "cell_type": "code",
   "execution_count": 5,
   "metadata": {},
   "outputs": [
    {
     "data": {
      "text/plain": [
       "['기타',\n",
       " '컴퓨터',\n",
       " '컴퓨터',\n",
       " '화장품',\n",
       " '디지털',\n",
       " '먹을거리',\n",
       " '육아',\n",
       " '디지털',\n",
       " '디지털',\n",
       " '기타',\n",
       " '기타',\n",
       " '기타',\n",
       " '먹을거리',\n",
       " '먹을거리',\n",
       " '기타',\n",
       " '먹을거리',\n",
       " '디지털',\n",
       " '컴퓨터',\n",
       " '의류/잡화',\n",
       " '먹을거리']"
      ]
     },
     "execution_count": 5,
     "metadata": {},
     "output_type": "execute_result"
    }
   ],
   "source": [
    "# 분류\n",
    "ppomppu.getCategorys()"
   ]
  },
  {
   "cell_type": "code",
   "execution_count": 6,
   "metadata": {},
   "outputs": [
    {
     "data": {
      "text/plain": [
       "['음랴리',\n",
       " '아레니어',\n",
       " '흑곰하나',\n",
       " '수진ㅇㅣ',\n",
       " 'NeDaum',\n",
       " '아이엠로켓',\n",
       " '슬로우슬로우퀵',\n",
       " '젠틀콩',\n",
       " '그랑베르2',\n",
       " '수렉이',\n",
       " 'drasius',\n",
       " '푸른령혼',\n",
       " 'ws원이',\n",
       " '밍딱이',\n",
       " '으누으누으눋',\n",
       " '뿜뿜쿠쿠',\n",
       " '2017년12월5일',\n",
       " '킴엘',\n",
       " '박지연1210',\n",
       " '난알아다']"
      ]
     },
     "execution_count": 6,
     "metadata": {},
     "output_type": "execute_result"
    }
   ],
   "source": [
    "# 글쓴이\n",
    "ppomppu.getWriters()"
   ]
  },
  {
   "cell_type": "code",
   "execution_count": 7,
   "metadata": {
    "scrolled": true
   },
   "outputs": [
    {
     "data": {
      "text/plain": [
       "['[위메프] 신세계 상품권 10만원권',\n",
       " '펑(중복글이네요ㅠ)',\n",
       " '[티몬] LG 32UK550  ( 625,000원 / 무배 ) 국민카드 결제시 30,000원 중복할인',\n",
       " '[11번가]베리떼 틴디드 컬러 스틱 (900/2500)',\n",
       " '[티몬] [1212타임] 동원샘물 2L x 18입 (7,900/무배)',\n",
       " '[스토어팜] 유아동 파스텔 컬러 비니 20종 모음 (1900/2500)',\n",
       " '[G마켓] 도시바 칸비오 CANVIO 베이직3 외장하드 HDD 2TB + 파우치 증정 (80,410/무료)',\n",
       " '[티몬] 04_타이탄 고선명 강화 보호필름(벌크5매)|갤럭시온7 2016(G610) (2,900/무배)',\n",
       " '[GS샵] [엔비] 1+1 무배 방충망청소브러쉬   (4,900/무료)  적립금소진용',\n",
       " '[GS샵] 태블릿PC 스탠드형 거치대 (4430/무료) gs샵적립금소진용',\n",
       " '[위메프] 갤럭시온7 젤리케이스+필름5매 1,980원/2500원',\n",
       " '[푸드얍] 원할머니 육개장 7개 (18,900/무료배송)',\n",
       " '[위메프] KF94 황사마스크 60매 (무료/24,900원) ~6시까지 23,900원 개당 398원',\n",
       " '[동원몰] 빙그레 요플레 플레인 멀티 85g*4개 1+1 총 8개 (2,520원/3,500원)',\n",
       " '[11번가] 소니코리아 NW-A55 16GB/하이레졸루션오디오/MP3 (183,080원/무료배송)',\n",
       " '[컴퓨존] [HP] EliteDisplay E273Q QHD 모니터 (379,000/무료)',\n",
       " '[롯데홈쇼핑] 푸마 액시스 V4 AXIS V4 (36217402) (34,830/무배)']"
      ]
     },
     "execution_count": 7,
     "metadata": {},
     "output_type": "execute_result"
    }
   ],
   "source": [
    "# 게시글 제목\n",
    "ppomppu.getTitles()"
   ]
  },
  {
   "cell_type": "code",
   "execution_count": 8,
   "metadata": {},
   "outputs": [
    {
     "data": {
      "text/plain": [
       "['http://www.ppomppu.co.kr/zboard/view.php?id=ppomppu&page=1&divpage=54&no=311590',\n",
       " 'http://www.ppomppu.co.kr/zboard/view.php?id=ppomppu&page=1&divpage=54&no=311589',\n",
       " 'http://www.ppomppu.co.kr/zboard/view.php?id=ppomppu&page=1&divpage=54&no=311588',\n",
       " 'http://www.ppomppu.co.kr/zboard/view.php?id=ppomppu&page=1&divpage=54&no=311587',\n",
       " 'http://www.ppomppu.co.kr/zboard/view.php?id=ppomppu&page=1&divpage=54&no=311585',\n",
       " 'http://www.ppomppu.co.kr/zboard/view.php?id=ppomppu&page=1&divpage=54&no=311584',\n",
       " 'http://www.ppomppu.co.kr/zboard/view.php?id=ppomppu&page=1&divpage=54&no=311582',\n",
       " 'http://www.ppomppu.co.kr/zboard/view.php?id=ppomppu&page=1&divpage=54&no=311581',\n",
       " 'http://www.ppomppu.co.kr/zboard/view.php?id=ppomppu&page=1&divpage=54&no=311580',\n",
       " 'http://www.ppomppu.co.kr/zboard/view.php?id=ppomppu&page=1&divpage=54&no=311579',\n",
       " 'http://www.ppomppu.co.kr/zboard/view.php?id=ppomppu&page=1&divpage=54&no=311578',\n",
       " 'http://www.ppomppu.co.kr/zboard/view.php?id=ppomppu&page=1&divpage=54&no=311576',\n",
       " 'http://www.ppomppu.co.kr/zboard/view.php?id=ppomppu&page=1&divpage=54&no=311574',\n",
       " 'http://www.ppomppu.co.kr/zboard/view.php?id=ppomppu&page=1&divpage=54&no=311573',\n",
       " 'http://www.ppomppu.co.kr/zboard/view.php?id=ppomppu&page=1&divpage=54&no=311572',\n",
       " 'http://www.ppomppu.co.kr/zboard/view.php?id=ppomppu&page=1&divpage=54&no=311571',\n",
       " 'http://www.ppomppu.co.kr/zboard/view.php?id=ppomppu&page=1&divpage=54&no=311570']"
      ]
     },
     "execution_count": 8,
     "metadata": {},
     "output_type": "execute_result"
    }
   ],
   "source": [
    "# 게시글 본문 링크\n",
    "ppomppu.getLinks()"
   ]
  },
  {
   "cell_type": "code",
   "execution_count": 9,
   "metadata": {
    "scrolled": true
   },
   "outputs": [
    {
     "data": {
      "text/plain": [
       "['http://static.ppomppu.co.kr/www/img/noimage/noimage_60x50.jpg',\n",
       " 'http://cdn.ppomppu.co.kr/zboard/data/_thumb/ppomppu/9/small_311589.jpg?t=20190313182045',\n",
       " 'http://cdn.ppomppu.co.kr/zboard/data/_thumb/ppomppu/8/small_311588.jpg?t=20190313180859',\n",
       " 'http://cdn.ppomppu.co.kr/zboard/data/_thumb/ppomppu/7/small_311587.jpg?t=20190313181334',\n",
       " 'http://cdn.ppomppu.co.kr/zboard/data/_thumb/ppomppu/6/small_311586.jpg?t=20190313180411',\n",
       " 'http://cdn.ppomppu.co.kr/zboard/data/_thumb/ppomppu/5/small_311585.jpg?t=20190313174005',\n",
       " 'http://cdn.ppomppu.co.kr/zboard/data/_thumb/ppomppu/4/small_311584.jpg?t=20190313173301',\n",
       " 'http://cdn.ppomppu.co.kr/zboard/data/_thumb/ppomppu/2/small_311582.jpg?t=20190313174808',\n",
       " 'http://cdn.ppomppu.co.kr/zboard/data/_thumb/ppomppu/1/small_311581.jpg?t=20190313172743',\n",
       " 'http://cdn.ppomppu.co.kr/zboard/data/_thumb/ppomppu/0/small_311580.jpg?t=20190313171343',\n",
       " 'http://cdn.ppomppu.co.kr/zboard/data/_thumb/ppomppu/9/small_311579.jpg?t=20190313171230',\n",
       " 'http://cdn.ppomppu.co.kr/zboard/data/_thumb/ppomppu/8/small_311578.jpg?t=20190313170105',\n",
       " 'http://cdn.ppomppu.co.kr/zboard/data/_thumb/ppomppu/7/small_311577.jpg?t=20190313174009',\n",
       " 'http://cdn.ppomppu.co.kr/zboard/data/_thumb/ppomppu/6/small_311576.jpg?t=20190313165635',\n",
       " 'http://cdn.ppomppu.co.kr/zboard/data/_thumb/ppomppu/4/small_311574.jpg?t=20190313164623',\n",
       " 'http://cdn.ppomppu.co.kr/zboard/data/_thumb/ppomppu/3/small_311573.jpg?t=20190313170107',\n",
       " 'http://cdn.ppomppu.co.kr/zboard/data/_thumb/ppomppu/2/small_311572.jpg?t=20190313163936',\n",
       " 'http://cdn.ppomppu.co.kr/zboard/data/_thumb/ppomppu/1/small_311571.jpg?t=20190313155316',\n",
       " 'http://cdn.ppomppu.co.kr/zboard/data/_thumb/ppomppu/0/small_311570.jpg?t=20190313155239',\n",
       " 'http://cdn.ppomppu.co.kr/zboard/data/_thumb/ppomppu/9/small_311569.jpg?t=20190313151238']"
      ]
     },
     "execution_count": 9,
     "metadata": {},
     "output_type": "execute_result"
    }
   ],
   "source": [
    "# 게시글 이미지(섬네일) 링크\n",
    "ppomppu.getImageLinks()"
   ]
  },
  {
   "cell_type": "code",
   "execution_count": 10,
   "metadata": {},
   "outputs": [
    {
     "data": {
      "text/plain": [
       "['images/ppompu/2019-03-13_19-03/noimage_60x50.jpg',\n",
       " 'images/ppompu/2019-03-13_19-03/small_311589.jpg',\n",
       " 'images/ppompu/2019-03-13_19-03/small_311588.jpg',\n",
       " 'images/ppompu/2019-03-13_19-03/small_311587.jpg',\n",
       " 'images/ppompu/2019-03-13_19-03/small_311586.jpg',\n",
       " 'images/ppompu/2019-03-13_19-03/small_311585.jpg',\n",
       " 'images/ppompu/2019-03-13_19-03/small_311584.jpg',\n",
       " 'images/ppompu/2019-03-13_19-03/small_311582.jpg',\n",
       " 'images/ppompu/2019-03-13_19-03/small_311581.jpg',\n",
       " 'images/ppompu/2019-03-13_19-03/small_311580.jpg',\n",
       " 'images/ppompu/2019-03-13_19-03/small_311579.jpg',\n",
       " 'images/ppompu/2019-03-13_19-03/small_311578.jpg',\n",
       " 'images/ppompu/2019-03-13_19-03/small_311577.jpg',\n",
       " 'images/ppompu/2019-03-13_19-03/small_311576.jpg',\n",
       " 'images/ppompu/2019-03-13_19-03/small_311574.jpg',\n",
       " 'images/ppompu/2019-03-13_19-03/small_311573.jpg',\n",
       " 'images/ppompu/2019-03-13_19-03/small_311572.jpg',\n",
       " 'images/ppompu/2019-03-13_19-03/small_311571.jpg',\n",
       " 'images/ppompu/2019-03-13_19-03/small_311570.jpg',\n",
       " 'images/ppompu/2019-03-13_19-03/small_311569.jpg']"
      ]
     },
     "execution_count": 10,
     "metadata": {},
     "output_type": "execute_result"
    }
   ],
   "source": [
    "# 게시글 이미지(섬네일) 파일 다운로드 후 저장된 파일 리스트 반환\n",
    "ppomppu.getImages()"
   ]
  },
  {
   "cell_type": "code",
   "execution_count": 11,
   "metadata": {},
   "outputs": [
    {
     "data": {
      "text/plain": [
       "[24, 11, 14, 4, 6, 3, 17, 6, 15, 18, 2, 10, 5, 4, 20, 23, 8]"
      ]
     },
     "execution_count": 11,
     "metadata": {},
     "output_type": "execute_result"
    }
   ],
   "source": [
    "# 댓글 수\n",
    "ppomppu.getReplyCounts()"
   ]
  },
  {
   "cell_type": "code",
   "execution_count": 12,
   "metadata": {},
   "outputs": [
    {
     "data": {
      "text/plain": [
       "['13.10.24 13:24:54',\n",
       " '19.03.13 18:54:57',\n",
       " '19.03.13 18:18:06',\n",
       " '19.03.13 18:12:51',\n",
       " '19.03.13 18:10:10',\n",
       " '19.03.13 18:07:16',\n",
       " '19.03.13 17:43:57',\n",
       " '19.03.13 17:36:54',\n",
       " '19.03.13 17:31:46',\n",
       " '19.03.13 17:31:35',\n",
       " '19.03.13 17:17:35',\n",
       " '19.03.13 17:16:22',\n",
       " '19.03.13 17:04:58',\n",
       " '19.03.13 17:00:45',\n",
       " '19.03.13 17:00:27',\n",
       " '19.03.13 16:50:15',\n",
       " '19.03.13 16:43:39',\n",
       " '19.03.13 16:43:29',\n",
       " '19.03.13 15:57:08',\n",
       " '19.03.13 15:56:31',\n",
       " '19.03.13 15:13:01']"
      ]
     },
     "execution_count": 12,
     "metadata": {},
     "output_type": "execute_result"
    }
   ],
   "source": [
    "# 게시글 등록일\n",
    "ppomppu.getWriteDates()"
   ]
  },
  {
   "cell_type": "code",
   "execution_count": 13,
   "metadata": {},
   "outputs": [
    {
     "data": {
      "text/plain": [
       "[1, 0, 5, 0, 0, 0, 0, 2, 0, 0, 0, 0, 0, 1, 0, 1, 4, 0, 0, 0]"
      ]
     },
     "execution_count": 13,
     "metadata": {},
     "output_type": "execute_result"
    }
   ],
   "source": [
    "# 게시글 추천수\n",
    "ppomppu.getLikeCounts()"
   ]
  },
  {
   "cell_type": "code",
   "execution_count": 14,
   "metadata": {},
   "outputs": [
    {
     "data": {
      "text/plain": [
       "[1163,\n",
       " 2201,\n",
       " 2574,\n",
       " 911,\n",
       " 5323,\n",
       " 914,\n",
       " 896,\n",
       " 1754,\n",
       " 937,\n",
       " 3366,\n",
       " 4678,\n",
       " 1053,\n",
       " 2418,\n",
       " 1355,\n",
       " 1822,\n",
       " 1579,\n",
       " 4898,\n",
       " 3993,\n",
       " 4639,\n",
       " 5787]"
      ]
     },
     "execution_count": 14,
     "metadata": {},
     "output_type": "execute_result"
    }
   ],
   "source": [
    "# 게시글 조회수\n",
    "ppomppu.getQueryCounts()"
   ]
  },
  {
   "cell_type": "code",
   "execution_count": 15,
   "metadata": {},
   "outputs": [
    {
     "data": {
      "text/plain": [
       "[['위메프 신세계 상품권 10만원권 50만원권\\n쿠폰 떴습니다.\\n네이버 위메프 경유로 들어가신후.\\n2.5%쿠폰 받으심 됩니다.\\n그럼 수고!!'],\n",
       " None,\n",
       " ['LG 32인치 4K모니터입니다.\\n4K HDR 을 지원하는 모니터중에서는 가성비 최고의 모델입니다.\\n1위모델이 가격대와 모델명이 생각이 안나는데...(모바일이 이해를...)\\n1위모델이 IPS패널을 사용하지만 가격은 두배이상입니다.(이 모델은 VA패널입니다.)\\n얼추 두달전에 플스대란후 고민끝에 질렀는데,\\xa0 항상 가격대가 60초반에서 안 내려와서 포기하고 컬쳐질로 이가격대에 구입했습니다.\\n국민카드가 있는분에 한하여 50대 후반 턱걸이니, 추천합니다.'],\n",
       " ['배송비 2500원 있긴 하지만 틴트 하나에 900원이면 꿀인 것 같아서 공유해용 ㅎㅎ1.오렌지 블러썸2.고저스 플럼3.로즈홀릭이렇게 세가지 색상 있는데 저는 오렌지 블러썸이랑 고저스플럼 두개 해서 5천원에 구매 했어요 !!!!저처럼 5천원에 두가지 구매해서 잘 매치해서 바르시면 좋을 것 같아용'],\n",
       " ['http://www.ticketmonster.co.kr/deal/1884120210\\n\\xa0\\n이럴때 쟁여두기!'],\n",
       " ['가격이 저렵한데 네이버 모 카페에 추천이 있어서 6장 구매했는데\\n\\xa0\\n너무 좋아서 추천드려요\\n\\xa0\\n색깔도 이쁜데 중국산 품질이 아니고 국내생산 인증도 받았는데 1900원이네요\\n\\xa0\\n6장 구매했었는데 나머지도 추가 구매 했습니다.'],\n",
       " ['안녕하세요.\\n정말 오랜만에 두번째 글을 올리네요.\\n외장하드가 필요하여 성능, 내구성, 가격 다 고려해봤을 때 도시바 칸비오 시리즈가 제일 낫다고 판단하여 검색하여 구매하였습니다.\\n2TB라는 제 기준에서 제일 낫다고 판단한거라... 아마 1TB , 3TB도 저와 같은 쿠폰을 적용하여 사시면 조금 저렴하지 않을꺼 생각이 듭니다.\\xa0\\n우선 85,410에서 아래링크 쿠폰 적용 시\\nhttp://rpp.gmarket.co.kr/?exhib=26661\\n85,410 - 5,000(쿠폰) x 스마일캐쉬(0.91) + 스마일카드 적용시 체감가 73,000원정도 안으로 됩니다.\\n파우치까지 고려했을 시 괜찬은 가격이라 생각되어 올립니다.\\xa0\\n아! 전 참고로 그냥 카드로\\xa0 80,410으로 결재했어요.\\n실적 및 스마일캐쉬 전환할 포인트가 지금 없어서 ㅠㅠ\\n혹시 두번째 글이라 잘못된 점 알려주세요^^ 바로 수정하겠습니다.'],\n",
       " ['http://www.ticketmonster.co.kr/deal/393934914?opt_deal_srl=395269414&NaPm=ct%3Djt6wbcow%7Cci%3Dc3104a0095db6c484039b791434b3e3061853272%7Ctr%3Dslsl%7Csn%3D221844%7Chk%3D997a63b6797e5ccdfa11d495bdd0f4b\\n\\xa0\\n\\xa0\\n보호필름 필요하신 분 ㅎ'],\n",
       " ['적립금 소진용으로 찾아보았습니다. 방충망 청소 1+1입니다\\n\\xa0\\n\\nhttps://search.shopping.naver.com/search/all.nhn?query=gsshop+%EB%B0%A9%EC%B6%A9%EB%A7%9D+%EC%B2%AD%EC%86%8C&cat_id=&frm=NVSHATC\\n\\n\\xa0\\n네이버링크타고 들어가시면 2560원에 구입가능합니다.'],\n",
       " ['네이버경유해야 4430원이고 경유안하면 4660원입니다.'],\n",
       " ['유니크 지문방지필름 전기종 990원!\\xa0\\n\\n\\n\\n최저가 찾다가 찾아서 방금 구매하고 올립니다.\\n\\n\\n\\n갤럭시온7 2016 젤케+필름5매\\xa01,980원/2500원\\xa0\\n\\xa0\\n저는 여기에 아임백 필름 990원 추가해서 구매했습니다.\\n\\xa0\\n[위메프] 갤럭시온7 2016\\xa0젤리케이스+필름5매 1,980원/2500원 링크 :\\xa0\\nhttp://www.wemakeprice.com/deal/adeal/1620043\\n\\xa0\\n[ 티몬 ]더 싸게 갤럭시온7 2016 필름만 벌크 5매 사실분은 2900원에 가능하세요.\\n링크 :\\xa0http://www.ticketmonster.co.kr/deal/393934914?opt_deal_srl=395269414&NaPm=ct%3Djt6wbcow%7Cci%3Dc3104a0095db6c484039b791434b3e3061853272%7Ctr%3Dslsl%7Csn%3D221844%7Chk%3D997a63b6797e5ccdfa11d495bdd0f4bff7885b85&coupon_srl=2282070&utm_source=naver&utm_medium=affiliate&utm_term=&utm_content=&utm_campaign=META_%EB%84%A4%EC%9D%B4%EB%B2%84%EC%A7%80%EC%8B%9D%EC%87%BC%ED%95%91\\n\\xa0\\n네이버 경유링크 \"검색어 =\\xa0타이탄 갤럭시 ON7 벌크\"\\n:\\xa0https://search.shopping.naver.com/search/all.nhn?query=%ED%83%80%EC%9D%B4%ED%83%84+%EA%B0%A4%EB%9F%AD%EC%8B%9C+ON7+%EB%B2%8C%ED%81%AC&cat_id=&frm=NVSHATC\\n\\xa0\\n끝.'],\n",
       " ['여기에선 싸게 올라온건데 얼마전에 비비고 육개장보다 비싸서 괜찮을지 모르겠어요. 그래도 맛은 여기께 확실히 더 맛있어서 올려봐요. 건더기 양은 보통입니다 국물이 맛있어요 이렇게 파는 형태의 육개장중엔 아마 잴 나을거에요\\n육개장 말고 다른것도 같이 팔고있는데 다른건 별로였고 그냥 육개장만 맛있어요 냉동국이라서 언 상태로 오는데 가끔 모서리부분 찢어진게 있더라구요 그대로 냉장실에 넣었다가 녹아서 치우느라 고생한적있으니 사실분은 받자마자 상태확인 하고 넣으세요\\n\\xa0\\n다른분들처럼 멋있게 무슨할인 몇프로 이런거 넣고싶은데 여긴 그런게 없네요. 다른분들꺼 눈팅해서 더 좋은정보 가져오도록 노력하겠습니다'],\n",
       " ['황사마스크 추천드려요!뽐뿌에서 마스크 많이 올라오지만 다 지퍼팩? 으로 3매 5매 되어있어서 전 불편하더라구요\\n\\xa0\\n개별포장으로 된거 저렴하게 올라와서 공유 드립니다\\xa0\\n\\n\\n판매가 24,900원 (개당 415원)\\n~6시까지 쿠폰, 쿠폰가 23,900원 (개당 398원)'],\n",
       " ['동원몰에서 메가 관련 상품에 대해서 블랙데이 이벤트를 진행하네요.\\n배송비 고려 안했을 때는 총 8개에 2520원이라 하나에 315원 격이에요\\xa0\\n다만 유통기한 확인은 상품페이지로 불가해서 어떨지 모르겠네요\\n\\xa0\\n요 상품만 구매하기엔 배보다 배꼽이 큰 격이라 배송비 아깝긴 한데,\\n다른 냉장/냉동 상품 구매하실 일 있으시면 묶음배송으로 함께 이용하기 괜찮을 것 같네요!\\xa0\\n냉장, 냉동끼리는 3만원 이상 되어야 무배라고 합니다.\\n\\xa0\\n쿠팡에도 동일 조건으로 올라가있고 대신 거기선 동일 판매자 기준 29800원 이상시에만 무배라고 해요.\\n링크 중복 게시는 문제가 될까 하여 상품명 그대로 검색하시면 나옵니다!'],\n",
       " ['역시 감가상각의 소니,\\n출시한지 반년도 안된 가장 최근 라인업을 후려치고 있습니다.\\n\\xa0\\n\\n\\nhttp://www.11st.co.kr/browsing/MallPlanDetail.tmall?method=getMallPlanDetail&planDisplayNumber=2007535\\n\\n\\xa0\\n11%쿠폰 받으면 177,110원에 구매가능합니다.\\n\\n\\xa0\\n\\xa0\\n리뷰보면 블루투스리시버기능이 있다고 하는군요.\\n노이즈캔슬링 기능이 있지만, 노캔이어폰은 안들어 있는 버전입니다.'],\n",
       " ['회사에서 사용할 27인치 qhd모니터 찾아보다가\\xa0\\n컴퓨존에서 특가행사 하는게 있어서 공유합니다\\xa0\\n\\n\\n\\n개인적으로 노트북이나 모니터는 중소기업 제품보다는 인지도가\\xa0 있는 제품을 선호해서\\xa0\\xa0\\n델모니터를 사려고 했는데 ..같은 사양의 HP 모니터가 특가이벤트중 이네요\\xa0\\xa0\\n최저가 기준으로 21만원 저렴합니다\\n\\n\\xa0\\nUSB 3.1 GEN2도 지원하고 괜춘한듯'],\n",
       " ['http://www.lotteimall.com/goods/viewGoodsDetail.lotte?goods_no=1267726098&chl_dtl_no=&chl_no=20\\n\\xa0\\n\\xa0\\n운동화 세일하네요 4만원대랑 3만원대 갭 차이가 크게 느껴지는..']]"
      ]
     },
     "execution_count": 15,
     "metadata": {},
     "output_type": "execute_result"
    }
   ],
   "source": [
    "# 게시글 본문\n",
    "ppomppu.getContentBodys()"
   ]
  },
  {
   "cell_type": "code",
   "execution_count": 17,
   "metadata": {},
   "outputs": [],
   "source": [
    "# 게시글 코멘트 (//To-Do)\n",
    "ppomppu.getComments()"
   ]
  },
  {
   "cell_type": "code",
   "execution_count": 18,
   "metadata": {},
   "outputs": [],
   "source": [
    "# 뽐뿌게시판 전체 리스트  --> //To-Do : numpy 이용해서 행과 열을 Transpose 하고, 게시판 구조로 merger 하기\n",
    "bbs = ppomppu.getPpomppuBbs()\n",
    "# bbs"
   ]
  },
  {
   "cell_type": "code",
   "execution_count": null,
   "metadata": {},
   "outputs": [],
   "source": []
  }
 ],
 "metadata": {
  "kernelspec": {
   "display_name": "Python 3",
   "language": "python",
   "name": "python3"
  },
  "language_info": {
   "codemirror_mode": {
    "name": "ipython",
    "version": 3
   },
   "file_extension": ".py",
   "mimetype": "text/x-python",
   "name": "python",
   "nbconvert_exporter": "python",
   "pygments_lexer": "ipython3",
   "version": "3.6.7"
  },
  "toc": {
   "base_numbering": 1,
   "nav_menu": {},
   "number_sections": false,
   "sideBar": true,
   "skip_h1_title": false,
   "title_cell": "Table of Contents",
   "title_sidebar": "Contents",
   "toc_cell": true,
   "toc_position": {},
   "toc_section_display": true,
   "toc_window_display": false
  }
 },
 "nbformat": 4,
 "nbformat_minor": 2
}
