{
 "cells": [
  {
   "cell_type": "markdown",
   "metadata": {
    "toc": true
   },
   "source": [
    "<h1>Table of Contents<span class=\"tocSkip\"></span></h1>\n",
    "<div class=\"toc\"><ul class=\"toc-item\"><li><span><a href=\"#download.py-test\" data-toc-modified-id=\"download.py-test-1\">download.py test</a></span></li></ul></div>"
   ]
  },
  {
   "cell_type": "markdown",
   "metadata": {},
   "source": [
    "# download.py test"
   ]
  },
  {
   "cell_type": "code",
   "execution_count": 1,
   "metadata": {},
   "outputs": [],
   "source": [
    "from functions.download import getDownload\n",
    "from functions.download import postDownload\n",
    "from bs4 import BeautifulSoup"
   ]
  },
  {
   "cell_type": "code",
   "execution_count": 2,
   "metadata": {},
   "outputs": [
    {
     "name": "stdout",
     "output_type": "stream",
     "text": [
      "파이썬 자습서 — Python 3.7.2 documentation\n",
      "프로그래머가 아닌 이들을 위한 파이썬 3 자습서 - 위키책\n",
      "byte of python(한국어판 PDF) - SourceForge\n",
      "파이썬 강좌 및 유용한 사이트 모음 : 네이버 블로그\n",
      "Visual Studio 자습서 1단계의 Python 프로젝트 만들기 | Microsoft Docs\n",
      "Python | 자습서, API, SDK, 설명서 | AWS 개발자 센터 - Amazon.com\n",
      "5.2 파이썬(Python) 시작하기 – Computational Thinking\n",
      "무료 파이썬 자습서, eBook 및 전자책 - Blue Breeze\n"
     ]
    }
   ],
   "source": [
    "# 구글 검색 하기\n",
    "url = \"http://www.google.com/search\"\n",
    "\n",
    "html = getDownload(url, params={\"q\":\"파이썬 자습서\"})\n",
    "dom = BeautifulSoup(html.text, \"lxml\")\n",
    "\n",
    "for tag in dom.find_all(\"div\", {\"class\":\"r\"}):\n",
    "    print(tag.find(\"a\").h3.text)"
   ]
  },
  {
   "cell_type": "code",
   "execution_count": 3,
   "metadata": {},
   "outputs": [
    {
     "name": "stdout",
     "output_type": "stream",
     "text": [
      "ConnectionError:HTTPConnectionPool(host='asdf1234abcd.com', port=80): Max retries exceeded with url: /?q=%ED%8C%8C%EC%9D%B4%EC%8D%AC+%EC%9E%90%EC%8A%B5%EC%84%9C (Caused by NewConnectionError('<urllib3.connection.HTTPConnection object at 0x10c6cd6a0>: Failed to establish a new connection: [Errno 8] nodename nor servname provided, or not known',))\n"
     ]
    }
   ],
   "source": [
    "# 잘못된 url을 호출한 경우 에러 처리 결과 확인\n",
    "url = \"http://asdf1234abcd.com/\"\n",
    "\n",
    "html = getDownload(url, params={\"q\":\"파이썬 자습서\"})\n",
    "html"
   ]
  },
  {
   "cell_type": "code",
   "execution_count": 4,
   "metadata": {},
   "outputs": [
    {
     "name": "stdout",
     "output_type": "stream",
     "text": [
      "파이썬 자습서\n",
      "[python][ebook] 귀도의 파이썬 자습서(2.5) (한글 EBook)\n",
      "자료 - 파이썬 자습서\n",
      "--------------------------------------------------\n",
      "[파이선] 파이썬 자습서 (한글화가 잘 되어 있네요)\n",
      "파이썬 ve C언어\n",
      "과학 전공도서/자습서/교양서적 등 팝니다~\n",
      "[nRF Mesh] Sending mesh packets [2-serial examples]\n",
      "C언어를 배우기 전에 파이썬공부를 왜 하는가\n",
      "--------------------------------------------------\n",
      "파이썬, 주류 언어로 부상··· 티오베와 PyPL 지표에서 상위권\n",
      "떠오르는 심층 신경망 API, \"케라스\" 알아보기\n",
      "IT전문가를 위한 라즈베리 파이 프로젝트 13선\n",
      "개발자 출신 빅토리아시크릿 모델 ... '뇌섹녀' 인증\n",
      "기술력 향상을 도울 온라인 무료 교육 사이트 8선\n",
      "--------------------------------------------------\n",
      "올해 대학 합격하고 컴퓨터 공학과에\n",
      "경북대학교 소프트웨어학과 진학에 관해서\n",
      "고1 공부법 및 진로\n",
      "--------------------------------------------------\n",
      "The Python Tutorial — Python 3.7.2 documentation\n",
      "프로그래머가 아닌 이들을 위한 파이썬 3 자습서\n",
      "프로그래머가 아닌 이들을 위한 파이썬 3 자습서/재귀\n",
      "--------------------------------------------------\n"
     ]
    }
   ],
   "source": [
    "# 네이버 검색 하기\n",
    "url = \"https://search.naver.com/search.naver\"\n",
    "\n",
    "html = getDownload(url, params={\"query\": \"파이썬 자습서\"})\n",
    "dom = BeautifulSoup(html.text, \"lxml\")\n",
    "ulTags = dom.find_all(\"\", {\"class\":\"type01\"})\n",
    "\n",
    "for ul in ulTags:\n",
    "    for dt in ul.find_all(\"dt\"):\n",
    "        print(dt.a.text)\n",
    "    print(\"-\" * 50)"
   ]
  },
  {
   "cell_type": "code",
   "execution_count": 5,
   "metadata": {},
   "outputs": [
    {
     "name": "stdout",
     "output_type": "stream",
     "text": [
      "[파이썬기초] 자습서\n",
      "무료 파이썬 자습서, eBook 및 전자책\n",
      "[python][ebook] 귀도의 파이썬 자습서(2.5) (한글 EBook)\n",
      "python자습서_ 숫자, 문자열\n",
      "파이썬 자습서 ¶\n",
      "【免費教育APP】파이썬 자습서|線上玩APP不花錢\n",
      "프로그래머가 아닌 이들을 위한 파이썬 3 자습서/서문\n",
      "프로그래머가 아닌 이들을 위한 파이썬 3 자습서/FAQ\n",
      "떠오르는 심층 신경망 API, \"케라스\" 알아보기\n",
      "파이썬, 주류 언어로 부상··· 티오베와 PyPL 지표에서 상위권\n",
      "IT전문가를 위한 라즈베리 파이 프로젝트 13선\n",
      "개발자 출신 빅토리아시크릿 모델 .. '뇌섹녀' 인증\n",
      "파이썬 정리 5일차\n",
      "어떻게 무료로 데이터 과학자가 될 수 있는지((주...\n",
      "떠오르는 심층 신경망 API, \"케라스\" 알아보기\n",
      "Genymtn\n"
     ]
    }
   ],
   "source": [
    "# 다음 검색 하기\n",
    "url = \"https://search.daum.net/search\"\n",
    "\n",
    "html = getDownload(url, params={\"q\": \"파이썬 자습서\"})\n",
    "dom = BeautifulSoup(html.text, \"lxml\")\n",
    "divTags = dom.find_all(\"\", {\"class\": \"mg_tit\"})\n",
    "\n",
    "for tag in divTags:\n",
    "    print(tag.find(\"a\").text.strip())"
   ]
  },
  {
   "cell_type": "code",
   "execution_count": 6,
   "metadata": {},
   "outputs": [
    {
     "name": "stdout",
     "output_type": "stream",
     "text": [
      "[Status]: 200\n",
      "[Request Body]: username=test&password=password\n",
      "[Request Headers]:\n",
      " {'user-agent': 'Mozilla/5.0 (Macintosh; Intel Mac OS X 10_14_1)      AppleWebKit/537.36 (KHTML, like Gecko) Chrome/72.0.3626.109 Safari/537.36', 'Accept-Encoding': 'gzip, deflate', 'Accept': '*/*', 'Connection': 'keep-alive', 'Cookie': 'loggedin=1; username=test', 'Content-Length': '31', 'Content-Type': 'application/x-www-form-urlencoded'}\n",
      "[HTML]: \n",
      "<h2>Welcome to the Website!</h2>\n",
      "You have logged in successfully! <br><a href=\"profile.php\">Check out your profile!</a>\n"
     ]
    }
   ],
   "source": [
    "# pythonscraping.com 사이트에서 post 메서드 동작 확인 해보기 (cookie 포함)\n",
    "url = \"http://pythonscraping.com/pages/cookies/welcome.php\"\n",
    "\n",
    "# 로그인 성공 시 cookie를 받아옴\n",
    "html = postDownload(url, data={\"username\":\"test\", \"password\":\"password\"})\n",
    "cookie = html.cookies.get_dict()\n",
    "\n",
    "# cookie가 정상적으로 전달되어야 \"logged in success\" 메시지 수신됨\n",
    "html = postDownload(url, data={\"username\":\"test\", \"password\":\"password\"}, cookie=cookie)\n",
    "\n",
    "print(\"[Status]:\", html.status_code)\n",
    "print(\"[Request Body]:\", html.request.body)\n",
    "print(\"[Request Headers]:\\n\", html.request.headers)\n",
    "print(\"[HTML]:\", html.text)"
   ]
  },
  {
   "cell_type": "code",
   "execution_count": null,
   "metadata": {},
   "outputs": [],
   "source": []
  }
 ],
 "metadata": {
  "kernelspec": {
   "display_name": "Python 3",
   "language": "python",
   "name": "python3"
  },
  "language_info": {
   "codemirror_mode": {
    "name": "ipython",
    "version": 3
   },
   "file_extension": ".py",
   "mimetype": "text/x-python",
   "name": "python",
   "nbconvert_exporter": "python",
   "pygments_lexer": "ipython3",
   "version": "3.6.7"
  },
  "toc": {
   "base_numbering": 1,
   "nav_menu": {},
   "number_sections": false,
   "sideBar": true,
   "skip_h1_title": false,
   "title_cell": "Table of Contents",
   "title_sidebar": "Contents",
   "toc_cell": true,
   "toc_position": {},
   "toc_section_display": true,
   "toc_window_display": false
  }
 },
 "nbformat": 4,
 "nbformat_minor": 2
}
